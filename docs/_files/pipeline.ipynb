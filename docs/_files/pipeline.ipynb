{
 "cells": [
  {
   "cell_type": "markdown",
   "metadata": {},
   "source": [
    "# Pipeline\n",
    "\n",
    "Links to the ALMA and VLA pipeline Documentation Pages\n",
    "\n",
    "The ALMA and VLA CASA pipeliens are documented externally. Please see\n",
    "the follow the links below:&nbsp;\n",
    "\n",
    "&nbsp;\n",
    "\n",
    "[ALMA Science\n",
    "Pipeline&nbsp;](https://almascience.nrao.edu/processing/science-pipeline)\n",
    "\n",
    "[VLA CASA Calibration\n",
    "Pipeline&nbsp;](https://science.nrao.edu/facilities/vla/data-processing/pipeline)"
   ]
  }
 ],
 "metadata": {},
 "nbformat": 4,
 "nbformat_minor": 5
}
