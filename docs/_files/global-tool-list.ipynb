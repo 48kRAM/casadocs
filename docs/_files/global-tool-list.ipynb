{
 "cells": [
  {
   "cell_type": "markdown",
   "metadata": {},
   "source": [
    "# Global Tool List\n",
    "\n",
    "A preliminary list of tools in CASA\n",
    "\n",
    "WARNING: Most of the tool\n",
    "descriptions are not yet in place, because we are in the process of\n",
    "reviewing the way we test the functionality for all tools that we intend\n",
    "to officially endorse and advertise for public use. We expect that this\n",
    "will take several CASA cycles to complete, and apologize for the\n",
    "inconvenience. In the meanwhile, the inline help or the old [CASA\n",
    "Toolkit Manual](https://casa.nrao.edu/../../docs/CasaRef/CasaRef.html)\n",
    "may provide instructions on the use of existing tools within CASA -\n",
    "please use at your own discretion. Some examples, e.g. on the use of\n",
    "tools for [simulating\n",
    "data](https://casaguides.nrao.edu/index.php/Simulation_Guide_Component_Lists_(CASA_5.1))\n",
    "or [creating\n",
    "masks](https://casaguides.nrao.edu/index.php/Masking_images_for_analysis),\n",
    "can be found in the [CASA\n",
    "Guides](https://casaguides.nrao.edu/index.php/Main_Page)."
   ]
  },
  {
   "cell_type": "markdown",
   "metadata": {
    "nbsphinx-toctree": {
     "hidden": true
    }
   },
   "source": [
    "[ms](global-tool-list/tool_ms)\n",
    "[msmetadata](global-tool-list/tool_msmetadata)\n",
    "[sakura](global-tool-list/tool_sakura)\n",
    "[simulator](global-tool-list/tool_simulator)\n",
    "[singledishms](global-tool-list/tool_singledishms)\n",
    "[table](global-tool-list/tool_table)\n"
   ]
  }
 ],
 "metadata": {},
 "nbformat": 4,
 "nbformat_minor": 5
}
