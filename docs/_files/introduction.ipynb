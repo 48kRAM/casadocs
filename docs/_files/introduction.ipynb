{
 "cells": [
  {
   "cell_type": "markdown",
   "metadata": {},
   "source": [
    "# Release Information\n",
    "\n",
    "Information concerning this release of CASA"
   ]
  },
  {
   "cell_type": "markdown",
   "metadata": {
    "nbsphinx-toctree": {
     "hidden": true
    }
   },
   "source": [
    "[Release Notes CASA 5.7 / 6.1](introduction/release-notes-610)\n",
    "[Known Issues](introduction/known-issues)\n"
   ]
  }
 ],
 "metadata": {},
 "nbformat": 4,
 "nbformat_minor": 5
}
