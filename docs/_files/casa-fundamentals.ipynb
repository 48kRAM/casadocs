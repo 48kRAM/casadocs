{
 "cells": [
  {
   "cell_type": "markdown",
   "metadata": {},
   "source": [
    "# CASA Fundamentals\n",
    "\n",
    "Fundamentals of CASA: Measurement Equation, Science Data Model, and\n",
    "MeasurementSet"
   ]
  },
  {
   "cell_type": "markdown",
   "metadata": {
    "nbsphinx-toctree": {
     "hidden": true
    }
   },
   "source": [
    "[Measurement Equation](casa-fundamentals/the-measurement-equation-calibration)\n",
    "[Science Data Model](casa-fundamentals/the-science-data-model)\n",
    "[Basics MeasurementSet](casa-fundamentals/the-measurementset)\n",
    "[MeasurementSet v2](casa-fundamentals/measurement-set)\n",
    "[Definition Synthesized Beam](casa-fundamentals/definition_synthesized_beam)\n",
    "[Working with MS Data](casa-fundamentals/casa-data)\n",
    "[CASA Tasks & Tools](casa-fundamentals/tasks-and-tools)\n",
    "[Loading Data to Images](casa-fundamentals/from-loading-data-to-images)\n"
   ]
  }
 ],
 "metadata": {},
 "nbformat": 4,
 "nbformat_minor": 5
}
