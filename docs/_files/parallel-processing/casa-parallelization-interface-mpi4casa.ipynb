{
 "cells": [
  {
   "cell_type": "markdown",
   "metadata": {},
   "source": [
    "# Advanced: Interface Framework\n",
    "\n",
    "The mpi4casa parallelization framework and advanced CASA parallel\n",
    "processing\n",
    "\n",
    "The CASA parallelization framework, *mpi4casa*\n",
    "was developed as a layer on top of MPI using a client-server model. The\n",
    "Client is the master process, driving user interaction, and dispatching\n",
    "user commands to the servers. Servers are all the other processes,\n",
    "running in the background, waiting for commands sent from the client\n",
    "side.\n",
    "\n",
    "One use-case of *mpi4casa* is\n",
    "to run CASA in parallel on a Multi-MS, as explained in previous\n",
    "chapters. There are other ways to process the data in parallel using\n",
    "*mpi4casa*\n",
    "without the need to create a Multi-MS. For instance, advanced users can\n",
    "benefit from the *mpi4casa*\n",
    "implementation to run multiple task commands in different cores or\n",
    "nodes.\n",
    "\n",
    " \n",
    "\n"
   ]
  },
  {
   "cell_type": "markdown",
   "metadata": {},
   "source": [
    "#### **Initialization**\n",
    "\n",
    "Start CASA in parallel as explained in previous chapters, using *mpicasa*.\n",
    "\n",
    "Import MPICommandClient from *mpi4casa*\n",
    "*module*\n",
    "\n",
    "from mpi4casa.MPICommandClient import MPICommandClient\n",
    "\n",
    "Create an instance of MPICommandClient\n",
    "\n",
    "client = MPICommandClient()\n",
    "\n",
    "Set logging policy\n",
    "\n",
    "client.set_log_mode('redirect')\n",
    "\n",
    "Initialize command handling services\n",
    "\n",
    "client.start_services()\n",
    "\n"
   ]
  },
  {
   "cell_type": "markdown",
   "metadata": {},
   "source": [
    "####  \n",
    "\n"
   ]
  },
  {
   "cell_type": "markdown",
   "metadata": {},
   "source": [
    "#### Syntax to send a command request\n",
    "\n",
    "ret =\n",
    "client.push_command_request(command,block,target_server,parameters)\n",
    "\n",
    "*command:* String containing the Python/CASA command to be executed. The\n",
    "command parameters can be included within the command in itself also as\n",
    "strings.\n",
    "\n",
    "*block*: Boolean to control whether command request is executed in\n",
    "blocking mode (True) or in non-blocking mode (False). Default is False\n",
    "(non-blocking).\n",
    "\n",
    "*target_server*: List of integers corresponding to the server IDs to\n",
    "handle the command\n",
    "\n",
    "target_server=None: The command will be executed by the first available\n",
    "server\n",
    "\n",
    "target_server=2: The command will be executed by the server n \\#2 as\n",
    "soon as it is available\n",
    "\n",
    "target_server=\\[0,1\\]: The command will be executed by the servers n \\#2\n",
    "and \\#3\n",
    "\n",
    "*parameters (Optional):* Alternatively the command parameters can be\n",
    "specified in a separated dictionary using their native types instead of\n",
    "strings.\n",
    "\n",
    "ret (Return Variable):\n",
    "\n",
    "In non-blocking mode: It will not block and will return an Integer\n",
    "(command ID) to retrieve the command response at a later stage.\n",
    "\n",
    "In blocking mode: It will block until the list of dictionaries,\n",
    "containing the command response is received.\n",
    "\n",
    " \n",
    "\n"
   ]
  },
  {
   "cell_type": "markdown",
   "metadata": {},
   "source": [
    "#### Syntax to receive a command result\n",
    "\n",
    "ret = client.get_command_response(command_request_id_list,block)\n",
    "\n",
    "*command_request_id_list*: List of Ids (integers) corresponding to the\n",
    "commands whose result is to be retrieved.\n",
    "\n",
    "*block*: Boolean to control whether command request is executed in\n",
    "blocking mode (True) or in non-blocking mode (False).\n",
    "\n",
    "ret (Return Variable): List of dictionaries, containing the response\n",
    "parameters. The dictionary elements are as follows:\n",
    "\n",
    "‘successful’ (Boolean): indicates whether command execution was\n",
    "successful or failed\n",
    "\n",
    "‘traceback’ (String): In case of failure contains the traceback of the\n",
    "exception thrown\n",
    "\n",
    "‘ret’: Contains the result of the command in case of successful\n",
    "execution\n",
    "\n",
    "Example 1:\n",
    "\n",
    "Run **wvrgcal** in 2 different MeasurementSets (for instance each one\n",
    "corresponding to an Execution Block):\n",
    "\n",
    "\\"
   ]
  },
  {
   "cell_type": "markdown",
   "metadata": {},
   "source": [
    "## Example of full command including parameters  \n",
    "cmd1 = “wvrgcal(vis=‘X54.ms',caltable=‘cal-wvr_X54’,spw=\\[1,3,5,7\\])”  \n",
    "cmdId1 = client.push_command_request(cmd1,block=False)  \n",
    "  \n",
    "\\"
   ]
  },
  {
   "cell_type": "markdown",
   "metadata": {},
   "source": [
    "## Example of command with separated parameter list  \n",
    "cmd2 = “wvrgcal()”  \n",
    "params2={vis=‘X54.ms',caltable=‘cal-wvr_X54’,spw=\\[1,3,5,7\\]}  \n",
    "cmdId2 =\n",
    "client.push_command_request(cmd2,block=False,parameters=params2)  \n",
    "  \n",
    "\\"
   ]
  },
  {
   "cell_type": "markdown",
   "metadata": {},
   "source": [
    "## Retrieve results  \n",
    "resultList = client.get_command_response(\\[cmdId1, cmdId2\\],block=True)\n",
    "\n",
    "**Note:** *target_server* is not specified because these are monolithic\n",
    "state-less commands, therefore any server can process them.\n",
    "\n",
    "  \n",
    "Example 2:  \n",
    "  \n",
    "Use the CASA ms tool to get the data from 2 EBs and apply a custom\n",
    "median filter:\n",
    "\n",
    "\\"
   ]
  },
  {
   "cell_type": "markdown",
   "metadata": {},
   "source": [
    "## Open MSs  \n",
    "client.push_command_request(“tb.open(‘x54.ms’)”,target_server=1)  \n",
    "client.push_command_request(“tb.open(‘x220.ms’)”,target_server=2)  \n",
    "  \n",
    "\\"
   ]
  },
  {
   "cell_type": "markdown",
   "metadata": {},
   "source": [
    "## Apply median filter  \n",
    "client.push_command_request(“data=ms.getcell(‘DATA’,1)”,target_server=\\[1,2\\])  \n",
    "client.push_command_request(“from scipy import\n",
    "signal”,target_server=\\[1,2\\])  \n",
    "client.push_command_request(“filt_data=signal.medfilt(data)”,target_server=\\[1,2\\])  \n",
    "  \n",
    "\\"
   ]
  },
  {
   "cell_type": "markdown",
   "metadata": {},
   "source": [
    "## Put filter data back in the MSs  \n",
    "client.push_command_request(“tb.putcell(‘DATA’,1,filt_data)”,target_server=\\[1,2\\])  \n",
    "  \n",
    "\\"
   ]
  },
  {
   "cell_type": "markdown",
   "metadata": {},
   "source": [
    "## Close MSs  \n",
    "client.push_command_request(“tb.close(),target_server=\\[1,2\\],block=True)\n",
    "\n",
    "NOTE: *target_server* is specified as each command depends on the state\n",
    "generated by previous ones; *block* will block only on the last commands\n",
    "as all the others will be executed using a FIFO queue, meaning the\n",
    "commands will be received in the same order they were sent.\n",
    "\n",
    " \n",
    "\n",
    "Link to first version of the CASA framework development\n",
    "[document](https://svn.cv.nrao.edu/view/casa/trunk/gcwrap/python/scripts/mpi4casa/CASA-4.3-MPI-Parallel-Processing-Framework-Installation-and-advance-user-guide.pdf \"CASA Framework development\")"
   ]
  }
 ],
 "metadata": {},
 "nbformat": 4,
 "nbformat_minor": 5
}
