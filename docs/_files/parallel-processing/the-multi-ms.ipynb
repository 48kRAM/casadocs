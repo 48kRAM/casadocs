{
 "cells": [
  {
   "cell_type": "markdown",
   "metadata": {},
   "source": [
    "# The Multi-MS \n",
    "\n",
    "\n",
    "\n",
    "\n",
    "\n",
    "Describing a Multi-MS and how to create one\n",
    "\n",
    "\n",
    "\n",
    "\n",
    "\n",
    "\n",
    "\n",
    "\n"
   ]
  },
  {
   "cell_type": "markdown",
   "metadata": {},
   "source": [
    "## **Parallel processing using Multi-MS (MMS) in CASA is unverified. Please use at own discretion. **\n",
    "\n",
    "### [Please consider [parallel imaging](https://casa.nrao.edu/casadocs-devel/stable/parallel-processing/parallel-imaging) using normal MS as alternative.]\n",
    "\n"
   ]
  },
  {
   "cell_type": "markdown",
   "metadata": {},
   "source": [
    "##  \n",
    "\n"
   ]
  },
  {
   "cell_type": "markdown",
   "metadata": {},
   "source": [
    "## Multi-MS Structure\n",
    "\n",
    "A Multi-MS (MMS) is structured to have a reference MS on the top directory and a sub-directory called SUBMSS, which contains each partitioned Sub-MS. A Multi-MS can be handled like a normal \"monolithic\" MS. It can be moved and renamed like any other directory. CASA tasks that are not MMS-aware can process it like a monolithic MS.\n",
    "\n",
    "All sub-tables of Sub-MSs are identical, except for the SOURCE and HISTORY sub-tables. The reference MS contains links to the sub-tables of the first Sub-MS, which is identified by a \\\"0000\\\" index on its name. All subsequent Sub-MSs also contain links to the sub-tables of the first Sub-MS, except for the SOURCE and HISTORY sub-tables. The following is a typical view of the reference MS directory of a Multi-MS. Symbolic links have an **@** at the end.\n",
    "\n",
    "```\n",
    "> ls uid___A002_X30a93d_X43e.ms/\n",
    "ANTENNA@       CALDEVICE@         FIELD@     OBSERVATION@    PROCESSOR@         STATE@    SYSPOWER@  WEATHER@\n",
    "ASDM_ANTENNA@  DATA_DESCRIPTION@  FLAG_CMD@  POINTING@       SOURCE@            SUBMSS/   table.dat\n",
    "ASDM_CALWVR@   FEED@              HISTORY@   POLARIZATION@   SPECTRAL_WINDOW@   SYSCAL@   table.info\n",
    "```\n",
    "\n",
    " The following is a view of the Sub-MSs directory. The Sub-MS names have the MMS name followed by a 4-digit index.\n",
    "\n",
    "```\n",
    "> ls uid___A002_X30a93d_X43e.ms/SUBMSS/\n",
    "uid___A002_X30a93d_X43e.ms.0000.ms/ uid___A002_X30a93d_X43e.ms.0002.ms/\n",
    "uid___A002_X30a93d_X43e.ms.0001.ms/ uid___A002_X30a93d_X43e.ms.0003.ms/\n",
    "```\n",
    "\n",
    " Next example shows the second Sub-MS, which has symbolic links to all sub-tables except the SOURCE and HISTORY tables. These two tables need write-access in several cases when running in parallel.\n",
    "\n",
    "```\n",
    "> ls --l uid___A002_X30a93d_X43e.ms/SUBMSS/uid___A002_X30a93d_X43e.ms.0001.ms/\n",
    "ANTENNA -> ../uid___A002_X30a93d_X43e.ms.0000.ms/ANTENNA/\n",
    "ASDM_ANTENNA -> ../uid___A002_X30a93d_X43e.ms.0000.ms/ASDM_ANTENNA/\n",
    "ASDM_CALWVR -> ../uid___A002_X30a93d_X43e.ms.0000.ms/ASDM_CALWVR/\n",
    "CALDEVICE -> ../uid___A002_X30a93d_X43e.ms.0000.ms/CALDEVICE/\n",
    "DATA_DESCRIPTION -> ../uid___A002_X30a93d_X43e.ms.0000.ms/DATA_DESCRIPTION/\n",
    "FEED -> ../uid___A002_X30a93d_X43e.ms.0000.ms/FEED/\n",
    "FIELD -> ../uid___A002_X30a93d_X43e.ms.0000.ms/FIELD/\n",
    "FLAG_CMD -> ../uid___A002_X30a93d_X43e.ms.0000.ms/FLAG_CMD/\n",
    "HISTORY/\n",
    "OBSERVATION -> ../uid___A002_X30a93d_X43e.ms.0000.ms/OBSERVATION/\n",
    "POINTING -> ../uid___A002_X30a93d_X43e.ms.0000.ms/POINTING/\n",
    "POLARIZATION -> ../uid___A002_X30a93d_X43e.ms.0000.ms/POLARIZATION/\n",
    "PROCESSOR -> ../uid___A002_X30a93d_X43e.ms.0000.ms/PROCESSOR/\n",
    "SOURCE/\n",
    "SPECTRAL_WINDOW -> ../uid___A002_X30a93d_X43e.ms.0000.ms/SPECTRAL_WINDOW/\n",
    "STATE -> ../uid___A002_X30a93d_X43e.ms.0000.ms/STATE/\n",
    "SYSCAL -> ../uid___A002_X30a93d_X43e.ms.0000.ms/SYSCAL/\n",
    "SYSPOWER -> ../uid___A002_X30a93d_X43e.ms.0000.ms/SYSPOWER/\n",
    "table.dat\n",
    "table.f1\n",
    "table.f10\n",
    ".....\n",
    "WEATHER -> ../uid___A002_X30a93d_X43e.ms.0000.ms/WEATHER/\n",
    "```\n",
    "\n"
   ]
  },
  {
   "cell_type": "markdown",
   "metadata": {},
   "source": [
    "##   {#section-1 .section}\n",
    "\n"
   ]
  },
  {
   "cell_type": "markdown",
   "metadata": {},
   "source": [
    "## Multi-MS Creation {#sec511 .section}\n",
    "\n"
   ]
  },
  {
   "cell_type": "markdown",
   "metadata": {},
   "source": [
    "### **partition** {#sec512 .subsection}\n",
    "\n",
    "The **partition** task is the main task to create a \"Multi-MS\". It takes an input MeasurementSet and creates an output \"Multi-MS\" based on the data selection parameters.\n",
    "\n",
    "The inputs to **partition** are:\n",
    "\n",
    "```\n",
    "CASA <1>: inp partition\n",
    "--------> inp(partition)\n"
   ]
  },
  {
   "cell_type": "markdown",
   "metadata": {},
   "source": [
    "##  partition :: Task to produce Multi-MSs using parallelism\n",
    "vis                 =         ''        #  Name of input MeasurementSet\n",
    "outputvis           =         ''        #  Name of output MeasurementSet\n",
    "createmms           =       True        #  Should this create a multi-MS output\n",
    "     separationaxis =     'auto'        #  Axis to do parallelization across(scan, spw, baseline, auto)\n",
    "     numsubms       =     'auto'        #  The number of SubMSs to create (auto or any number)\n",
    "     flagbackup     =       True        #  Create a backup of the FLAG column in the MMS.\n",
    "\n",
    "datacolumn          =      'all'        #  Which data column(s) to process.\n",
    "field               =         ''        #  Select field using ID(s) or name(s).\n",
    "spw                 =         ''        #  Select spectral window/channels.\n",
    "scan                =         ''        #  Select data by scan numbers.\n",
    "antenna             =         ''        #  Select data based on antenna/baseline.\n",
    "correlation         =         ''        #  Correlation: '' ==> all, correlation='XX,YY'.\n",
    "timerange           =         ''        #  Select data by time range.\n",
    "intent              =         ''        #  Select data by scan intent.\n",
    "array               =         ''        #  Select (sub)array(s) by array ID number.\n",
    "uvrange             =         ''        #  Select data by baseline length.\n",
    "observation         =         ''        #  Select by observation ID(s).\n",
    "feed                =         ''        #  Multi-feed numbers: Not yet implemented.\n",
    "```\n",
    "\n"
   ]
  },
  {
   "cell_type": "markdown",
   "metadata": {},
   "source": [
    "### The *createmms* parameter {#sec513 .subsubsection}\n",
    "\n",
    " The keyword *createmms* is by default set to True to create an output MMS. It contains three sub-parameters, *separationaxis*, *numsubms* and *flagbackup*. Partition accepts four axes to do separation across: 'auto', 'scan' 'spw' or 'baseline'. The default *separationaxis=\\'auto\\'* will first separate the MS in spws, then in scans. It tries to balance the spw and scan content in each Sub-MS also taking into account the available fields.\n",
    "\n",
    "The baseline axis is mostly useful for Single-Dish data. This axis will partition the MS based on the available baselines. If the user wants only auto-correlations, she/he should use the antenna selection syntax such as *antenna=\\'\\*&&&\\'* together with the baseline separation axis. Note that if *numsubms=\\'auto\\'*, the task will try to create as many Sub-MSs as the number of available parallel cores used when starting CASA with *mpicasa*. If the user wants to have one Sub-MS for each baseline, he/she should set the *numsubms* parameter to a number higher than the number of baselines to achieve this.\n",
    "\n",
    "The user may force the number of \"Sub-MSs\" in the output MMS by setting the sub-parameter numsubms. The default *\\'auto\\'* is to create as many Sub-MSs as the number of engines used when starting CASA with *mpicasa*, in an optimized way. \n",
    "\n",
    "The *flagbackup* sub-parameter will create a backup of the FLAG column and save it to the .flagversions file.\n",
    "\n"
   ]
  },
  {
   "cell_type": "markdown",
   "metadata": {},
   "source": [
    "### **importasdm** {#sec514 .subsection}\n",
    "\n",
    "Task **partition** has been embedded in task **importasdm** so that at import time the user can already create a MMS. Set the parameter createmms to True and the output of **importasdm** will be a MMS created with default parameters. Sub-parameters separationaxis and numsubms are also available in **importasdm**. From this point on in the data reduction chain, tasks that have been parallelized will run automatically in parallel when they see an MMS and tasks that are not parallelized will work in the same way as they normally do on a MS."
   ]
  }
 ],
 "metadata": {},
 "nbformat": 4,
 "nbformat_minor": 4
}
