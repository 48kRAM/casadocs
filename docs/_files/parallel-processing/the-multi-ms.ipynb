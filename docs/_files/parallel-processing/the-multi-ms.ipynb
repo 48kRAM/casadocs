{
 "cells": [
  {
   "cell_type": "markdown",
   "metadata": {},
   "source": [
    "# The Multi-MS\n",
    "\n",
    "Describing a Multi-MS and how to create one\n",
    "\n"
   ]
  },
  {
   "cell_type": "markdown",
   "metadata": {},
   "source": [
    "## **Parallel processing using Multi-MS (MMS) in CASA is unverified. Please use at own discretion. **\n",
    "\n"
   ]
  },
  {
   "cell_type": "markdown",
   "metadata": {},
   "source": [
    "#### Please consider [parallel imaging](https://casa.nrao.edu/casadocs-devel/stable/parallel-processing/parallel-imaging) using normal MS as alternative.\n",
    "\n"
   ]
  },
  {
   "cell_type": "markdown",
   "metadata": {},
   "source": [
    "##  \n",
    "\n"
   ]
  },
  {
   "cell_type": "markdown",
   "metadata": {},
   "source": [
    "## Multi-MS Structure\n",
    "\n",
    "A Multi-MS (MMS) is structured to have a reference MS on the top\n",
    "directory and a sub-directory called SUBMSS, which contains each\n",
    "partitioned Sub-MS. A Multi-MS can be handled like a normal “monolithic”\n",
    "MS. It can be moved and renamed like any other directory. CASA tasks\n",
    "that are not MMS-aware can process it like a monolithic MS.\n",
    "\n",
    "All sub-tables of Sub-MSs are identical, except for the SOURCE and\n",
    "HISTORY sub-tables. The reference MS contains links to the sub-tables of\n",
    "the first Sub-MS, which is identified by a \"0000\" index on its name. All\n",
    "subsequent Sub-MSs also contain links to the sub-tables of the first\n",
    "Sub-MS, except for the SOURCE and HISTORY sub-tables. The following is a\n",
    "typical view of the reference MS directory of a Multi-MS. Symbolic links\n",
    "have an **@** at the end.\n",
    "\n",
    "\\> ls uid\\_\\_\\_A002_X30a93d_X43e.ms/  \n",
    "ANTENNA@       CALDEVICE@         FIELD@     OBSERVATION@   \n",
    "PROCESSOR@         STATE@    SYSPOWER@  WEATHER@  \n",
    "ASDM_ANTENNA@  DATA_DESCRIPTION@  FLAG_CMD@  POINTING@      \n",
    "SOURCE@            SUBMSS/   table.dat  \n",
    "ASDM_CALWVR@   FEED@              HISTORY@   POLARIZATION@  \n",
    "SPECTRAL_WINDOW@   SYSCAL@   table.info\n",
    "\n",
    " The following is a view of the Sub-MSs directory. The Sub-MS names have\n",
    "the MMS name followed by a 4-digit index.\n",
    "\n",
    "\\> ls uid\\_\\_\\_A002_X30a93d_X43e.ms/SUBMSS/  \n",
    "uid\\_\\_\\_A002_X30a93d_X43e.ms.0000.ms/\n",
    "uid\\_\\_\\_A002_X30a93d_X43e.ms.0002.ms/  \n",
    "uid\\_\\_\\_A002_X30a93d_X43e.ms.0001.ms/\n",
    "uid\\_\\_\\_A002_X30a93d_X43e.ms.0003.ms/\n",
    "\n",
    " Next example shows the second Sub-MS, which has symbolic links to all\n",
    "sub-tables except the SOURCE and HISTORY tables. These two tables need\n",
    "write-access in several cases when running in parallel.\n",
    "\n",
    "\\> ls –l\n",
    "uid\\_\\_\\_A002_X30a93d_X43e.ms/SUBMSS/uid\\_\\_\\_A002_X30a93d_X43e.ms.0001.ms/  \n",
    "ANTENNA -\\> ../uid\\_\\_\\_A002_X30a93d_X43e.ms.0000.ms/ANTENNA/  \n",
    "ASDM_ANTENNA -\\>\n",
    "../uid\\_\\_\\_A002_X30a93d_X43e.ms.0000.ms/ASDM_ANTENNA/  \n",
    "ASDM_CALWVR -\\> ../uid\\_\\_\\_A002_X30a93d_X43e.ms.0000.ms/ASDM_CALWVR/  \n",
    "CALDEVICE -\\> ../uid\\_\\_\\_A002_X30a93d_X43e.ms.0000.ms/CALDEVICE/  \n",
    "DATA_DESCRIPTION -\\>\n",
    "../uid\\_\\_\\_A002_X30a93d_X43e.ms.0000.ms/DATA_DESCRIPTION/  \n",
    "FEED -\\> ../uid\\_\\_\\_A002_X30a93d_X43e.ms.0000.ms/FEED/  \n",
    "FIELD -\\> ../uid\\_\\_\\_A002_X30a93d_X43e.ms.0000.ms/FIELD/  \n",
    "FLAG_CMD -\\> ../uid\\_\\_\\_A002_X30a93d_X43e.ms.0000.ms/FLAG_CMD/  \n",
    "HISTORY/  \n",
    "OBSERVATION -\\> ../uid\\_\\_\\_A002_X30a93d_X43e.ms.0000.ms/OBSERVATION/  \n",
    "POINTING -\\> ../uid\\_\\_\\_A002_X30a93d_X43e.ms.0000.ms/POINTING/  \n",
    "POLARIZATION -\\>\n",
    "../uid\\_\\_\\_A002_X30a93d_X43e.ms.0000.ms/POLARIZATION/  \n",
    "PROCESSOR -\\> ../uid\\_\\_\\_A002_X30a93d_X43e.ms.0000.ms/PROCESSOR/  \n",
    "SOURCE/  \n",
    "SPECTRAL_WINDOW -\\>\n",
    "../uid\\_\\_\\_A002_X30a93d_X43e.ms.0000.ms/SPECTRAL_WINDOW/  \n",
    "STATE -\\> ../uid\\_\\_\\_A002_X30a93d_X43e.ms.0000.ms/STATE/  \n",
    "SYSCAL -\\> ../uid\\_\\_\\_A002_X30a93d_X43e.ms.0000.ms/SYSCAL/  \n",
    "SYSPOWER -\\> ../uid\\_\\_\\_A002_X30a93d_X43e.ms.0000.ms/SYSPOWER/  \n",
    "table.dat  \n",
    "table.f1  \n",
    "table.f10  \n",
    ".....  \n",
    "WEATHER -\\> ../uid\\_\\_\\_A002_X30a93d_X43e.ms.0000.ms/WEATHER/\n",
    "\n"
   ]
  },
  {
   "cell_type": "markdown",
   "metadata": {},
   "source": [
    "##  \n",
    "\n"
   ]
  },
  {
   "cell_type": "markdown",
   "metadata": {},
   "source": [
    "## Multi-MS Creation\n",
    "\n"
   ]
  },
  {
   "cell_type": "markdown",
   "metadata": {},
   "source": [
    "### **partition**\n",
    "\n",
    "The **partition** task is the main task\n",
    "to create a “Multi-MS”. It takes an input MeasurementSet and creates an\n",
    "output “Multi-MS” based on the data selection parameters.\n",
    "\n",
    "The inputs to **partition** are:\n",
    "\n",
    "CASA \\<1\\>: inp partition  \n",
    "--------\\> inp(partition)  \n",
    "\\"
   ]
  },
  {
   "cell_type": "markdown",
   "metadata": {},
   "source": [
    "##  partition :: Task to produce Multi-MSs using parallelism  \n",
    "vis                 =         ''        \\"
   ]
  },
  {
   "cell_type": "markdown",
   "metadata": {},
   "source": [
    "##  Name of input\n",
    "MeasurementSet  \n",
    "outputvis           =         ''        \\"
   ]
  },
  {
   "cell_type": "markdown",
   "metadata": {},
   "source": [
    "##  Name of output\n",
    "MeasurementSet  \n",
    "createmms           =       True        \\"
   ]
  },
  {
   "cell_type": "markdown",
   "metadata": {},
   "source": [
    "##  Should this create a\n",
    "multi-MS output  \n",
    "     separationaxis =     'auto'        \\"
   ]
  },
  {
   "cell_type": "markdown",
   "metadata": {},
   "source": [
    "##  Axis to do parallelization\n",
    "across(scan, spw, baseline, auto)  \n",
    "     numsubms       =     'auto'        \\"
   ]
  },
  {
   "cell_type": "markdown",
   "metadata": {},
   "source": [
    "##  The number of SubMSs to\n",
    "create (auto or any number)  \n",
    "     flagbackup     =       True        \\"
   ]
  },
  {
   "cell_type": "markdown",
   "metadata": {},
   "source": [
    "##  Create a backup of the FLAG\n",
    "column in the MMS.  \n",
    "  \n",
    "datacolumn          =      'all'        \\"
   ]
  },
  {
   "cell_type": "markdown",
   "metadata": {},
   "source": [
    "##  Which data column(s) to\n",
    "process.  \n",
    "field               =         ''        \\"
   ]
  },
  {
   "cell_type": "markdown",
   "metadata": {},
   "source": [
    "##  Select field using ID(s) or\n",
    "name(s).  \n",
    "spw                 =         ''        \\"
   ]
  },
  {
   "cell_type": "markdown",
   "metadata": {},
   "source": [
    "##  Select spectral\n",
    "window/channels.  \n",
    "scan                =         ''        \\"
   ]
  },
  {
   "cell_type": "markdown",
   "metadata": {},
   "source": [
    "##  Select data by scan\n",
    "numbers.  \n",
    "antenna             =         ''        \\"
   ]
  },
  {
   "cell_type": "markdown",
   "metadata": {},
   "source": [
    "##  Select data based on\n",
    "antenna/baseline.  \n",
    "correlation         =         ''        \\"
   ]
  },
  {
   "cell_type": "markdown",
   "metadata": {},
   "source": [
    "##  Correlation: '' ==\\> all,\n",
    "correlation='XX,YY'.  \n",
    "timerange           =         ''        \\"
   ]
  },
  {
   "cell_type": "markdown",
   "metadata": {},
   "source": [
    "##  Select data by time range.  \n",
    "intent              =         ''        \\"
   ]
  },
  {
   "cell_type": "markdown",
   "metadata": {},
   "source": [
    "##  Select data by scan\n",
    "intent.  \n",
    "array               =         ''        \\"
   ]
  },
  {
   "cell_type": "markdown",
   "metadata": {},
   "source": [
    "##  Select (sub)array(s) by\n",
    "array ID number.  \n",
    "uvrange             =         ''        \\"
   ]
  },
  {
   "cell_type": "markdown",
   "metadata": {},
   "source": [
    "##  Select data by baseline\n",
    "length.  \n",
    "observation         =         ''        \\"
   ]
  },
  {
   "cell_type": "markdown",
   "metadata": {},
   "source": [
    "##  Select by observation\n",
    "ID(s).  \n",
    "feed                =         ''        \\"
   ]
  },
  {
   "cell_type": "markdown",
   "metadata": {},
   "source": [
    "##  Multi-feed numbers: Not yet\n",
    "implemented.\n",
    "\n"
   ]
  },
  {
   "cell_type": "markdown",
   "metadata": {},
   "source": [
    "### The *createmms* parameter\n",
    "\n",
    " The keyword *createmms* is by default set to True to create an\n",
    "output MMS. It contains three sub-parameters,\n",
    "*separationaxis*,\n",
    "*numsubms* and\n",
    "*flagbackup*. Partition accepts\n",
    "four axes to do separation across: ’auto’, ’scan’ ’spw’ or ’baseline’.\n",
    "The default *separationaxis='auto'* will first separate the MS in spws, then in\n",
    "scans. It tries to balance the spw and scan content in each Sub-MS also\n",
    "taking into account the available fields.\n",
    "\n",
    "The baseline axis is mostly useful for\n",
    "Single-Dish data. This axis will partition the MS based on the available\n",
    "baselines. If the user wants only auto-correlations, she/he should use\n",
    "the antenna selection syntax such as *antenna='\\*&&&'* together with the baseline separation axis.\n",
    "Note that if *numsubms='auto'*,\n",
    "the task will try to create as many Sub-MSs as the number of available\n",
    "parallel cores used when starting CASA with *mpicasa*. If\n",
    "the user wants to have one Sub-MS for each baseline, he/she should set\n",
    "the *numsubms* parameter to a\n",
    "number higher than the number of baselines to achieve this.\n",
    "\n",
    "The user may force the number of\n",
    "“Sub-MSs” in the output MMS by setting the sub-parameter numsubms. The default *'auto'* is to create as many Sub-MSs as the number\n",
    "of engines used when starting CASA with *mpicasa*, in\n",
    "an optimized way. \n",
    "\n",
    "The *flagbackup* sub-parameter will create a backup of the\n",
    "FLAG column and save it to the .flagversions file.\n",
    "\n"
   ]
  },
  {
   "cell_type": "markdown",
   "metadata": {},
   "source": [
    "### **importasdm**\n",
    "\n",
    "Task **partition** has been embedded in\n",
    "task **importasdm** so that at\n",
    "import time the user can already create a MMS. Set the parameter\n",
    "createmms to True and the output of\n",
    "**importasdm** will be a MMS\n",
    "created with default parameters. Sub-parameters separationaxis and numsubms are also available in\n",
    "**importasdm**. From this point\n",
    "on in the data reduction chain, tasks that have been parallelized will\n",
    "run automatically in parallel when they see an MMS and tasks that are\n",
    "not parallelized will work in the same way as they normally do on a\n",
    "MS."
   ]
  }
 ],
 "metadata": {},
 "nbformat": 4,
 "nbformat_minor": 5
}
