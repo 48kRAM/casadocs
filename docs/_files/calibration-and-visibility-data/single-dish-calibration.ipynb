{
 "cells": [
  {
   "cell_type": "markdown",
   "metadata": {},
   "source": [
    "# Single Dish Calibration\n",
    "\n",
    "Motivation, background, and process for calibrating single-dish\n",
    "observations"
   ]
  },
  {
   "cell_type": "markdown",
   "metadata": {
    "nbsphinx-toctree": {
     "hidden": true
    }
   },
   "source": [
    "[Overview](single-dish-calibration/overview)\n",
    "[Background SD Calibration](single-dish-calibration/single-dish-calibration-background)\n",
    "[Observing Modes](single-dish-calibration/single-dish-observing-modes)\n",
    "[Calibration & Reduction](single-dish-calibration/single-dish-data-calibration-and-reduction)\n",
    "[Future Development Goals](single-dish-calibration/future-development-goals-for-casa-single-dish)\n"
   ]
  }
 ],
 "metadata": {},
 "nbformat": 4,
 "nbformat_minor": 5
}
