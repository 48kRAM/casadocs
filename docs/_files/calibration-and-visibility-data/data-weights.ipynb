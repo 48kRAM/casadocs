{
 "cells": [
  {
   "cell_type": "markdown",
   "metadata": {},
   "source": [
    "# Data Weights\n",
    "\n",
    "A detailed description of visibility weighting\n",
    "\n",
    "Visibility weight initialization and calibration has undergone several\n",
    "improvements in CASA 4.2.2 and CASA 4.3. This appendix briefly describes\n",
    "the formal weight definitions, and the changes occurring in these CASA\n",
    "versions.&nbsp; If data sets shall be combined that were reduced with\n",
    "different CASA versions, the weights may need to be adjusted\n",
    "accordingly. This can be achieved, e.g. by running the same version of\n",
    "**statwt** on all datasets before combination. The best option, however,\n",
    "is to use a single CASA version for all reductions, preferrably 4.2.2 or\n",
    "later.\n",
    "\n",
    "**NOTE**: Post-calibration weights, e.g. imaging weights or tapers are\n",
    "not covered here.\n",
    "\n",
    "&nbsp;\n",
    "\n"
   ]
  },
  {
   "cell_type": "markdown",
   "metadata": {},
   "source": [
    "## The *SIGMA* and *WEIGHT* columns\n",
    "\n",
    "Formally, in CASA 4.2.2 and later, the *SIGMA* column in the measurement\n",
    "set will reflect the per-channel noise of the *DATA* column as it\n",
    "depends on the channel bandwidth $\\Delta \\nu$ and the length of an\n",
    "integration $\\Delta t$:\n",
    "\n",
    "$SIGMA = \\frac{1}{\\sqrt{2\\Delta \\nu \\Delta t}}$\n",
    "\n",
    "The factor of $\\sqrt{2}$ is for cross-correlations only\n",
    "and auto-correlation data follows:\n",
    "\n",
    "$SIGMA = 1/\\sqrt{\\Delta \\nu \\Delta t}$.\n",
    "\n",
    "*SIGMA* will only be updated if the time and channel widths are modified\n",
    "along with any *DATA* column manipulation, e.g. through averaging,\n",
    "binning, smoothing, etc. (tasks like **mstransform**, **cvel**,\n",
    "**split**, **exportuvfits**, etc).\n",
    "\n",
    "The *WEIGHT* column reflects how much weight each *CORRECTED_DATA*\n",
    "sample should receive when data are combined (e.g., in averaging). To\n",
    "start with, *WEIGHT* is initialized from the *SIGMA* column via:\n",
    "\n",
    "$WEIGHT = \\frac{1}{{SIGMA}^2} = 2 \\Delta \\nu \\Delta t$\n",
    "\n",
    "Data calibration by **applycal** with *calwt=True* will calculate and\n",
    "modify the *WEIGHT* values but not *SIGMA*. Calibration applies\n",
    "multiplicative factors and the *WEIGHT* of a visibility on a baseline\n",
    "between antennas $i$ and $j$ is calculated via:\n",
    "\n",
    "$WEIGHT_{ij}=\\frac{c_i c_j}{{SIGMA}_{ij}^2}$\n",
    "\n",
    "where $c_i$\n",
    "and $c_j$\n",
    "are the net antenna-based power calibration factors derived by\n",
    "**applycal** ($c_i=c_j$ for auto-correlation data). In\n",
    "the table below, we list the definitions of antenna-based $c$ for different\n",
    "calibration procedures and CASA versions. When more than one calibration\n",
    "is applied, the product of the relevant weight factors is used.\n",
    "\n",
    "| &nbsp;             |               $<=$CASA 4.2.1                |                                       CASA 4.2.2/4.3                                        | $>=$CASA 4.4 *(WEIGHT_SPECTRUM)* |\n",
    "|:-------------------|:--------------------------------------------------------------------------------------------------------:|:-------------------------------------------------------------------------------------------:|:---------------------------------------------------------------------------------------------:|\n",
    "| Initialization     |                    $1.0$                    |    $2 \\Delta \\nu \\Delta t$     |     $2 \\Delta \\nu \\Delta t$      |\n",
    "| System Temperature | $\\frac{1}{<\\sqrt{T_{\\rm sys, k}}>_{k}^{2}}$ | $\\frac{1}{<T_{\\rm sys, k}>_k}$ |    $\\frac{1}{T_{\\rm sys, k}}$    |\n",
    "| Gain               |                  $||G||^2$                  |           $||G||^2$            |            $||G||^2$             |\n",
    "| Bandpass           |      $\\frac{1}{<||B||^{-1}>_{k}^{2}}$       |       $<||B||^{2}>_{k}$        |        $<||B||^{2}>_{k}$         |\n",
    "\n"
   ]
  },
  {
   "cell_type": "markdown",
   "metadata": {},
   "source": [
    "## &nbsp;\n",
    "\n"
   ]
  },
  {
   "cell_type": "markdown",
   "metadata": {},
   "source": [
    "## Weights in CASA 4.2.1 and Earlier\n",
    "\n",
    "The *SIGMA* and *WEIGHT* columns are initialized with values of $1.0$.&nbsp;\n",
    "Traditionally, this convention was adequate for datasets with uniform\n",
    "sampling in time in frequency; a global weight scale factor would not\n",
    "affect calibration and imaging fidelity. In data manipulation operations\n",
    "(e.g., **split**, etc.), *SIGMA* was treated as a per-channel value and\n",
    "*WEIGHT* as a per-spw (all channels) weight. Combined with unit\n",
    "initialization, this difference in definition could lead to incongruent\n",
    "weight scales for different spectral windows, in particular if bandwidth\n",
    "and channel count varied. CASA 4.2.1 is therefore not recommended for datasets\n",
    "which have variety in spectral window bandwidth and channelization and\n",
    "for which spectral windows are to be combined in imaging.\n",
    "\n"
   ]
  },
  {
   "cell_type": "markdown",
   "metadata": {},
   "source": [
    "## Weights in CASA 4.2.2\n",
    "\n",
    "In CASA 4.2.2 the *SIGMA* and *WEIGHT* columns are properly initialized\n",
    "via the definition in the above equations. Both are defined as\n",
    "per-channel values. Also, the weight calibration factors have been\n",
    "subtly updated to improve robustness, as indicated in the Table.\n",
    "\n"
   ]
  },
  {
   "cell_type": "markdown",
   "metadata": {},
   "source": [
    "## Weights in CASA 4.3\n",
    "\n",
    "In CASA 4.3 frequency variations of the *WEIGHT* and *SIGMA* values are\n",
    "(optionally) captured in additional *WEIGHT_SPECTRUM* and\n",
    "*SIGMA_SPECTRUM* columns. This allows accommodation of variations of\n",
    "effective sensitivity on a channel by channel basis (e.g. band edges,\n",
    "atmospheric lines, spectral $T_{\\rm sys}$ variation etc.).\n",
    "*WEIGHT_SPECTRUM* will be recognized in the **applycal** task as well as\n",
    "in **mstransform** and **clean**. Calibration solvers, however, will not\n",
    "yet calculate and modify *WEIGHT_SPECTRUM*.\n",
    "\n"
   ]
  },
  {
   "cell_type": "markdown",
   "metadata": {},
   "source": [
    "## Weights in CASA 4.4 and later\n",
    "\n",
    "Full support of *WEIGHT_SPECTRUM*.&nbsp;&nbsp;"
   ]
  }
 ],
 "metadata": {},
 "nbformat": 4,
 "nbformat_minor": 5
}
