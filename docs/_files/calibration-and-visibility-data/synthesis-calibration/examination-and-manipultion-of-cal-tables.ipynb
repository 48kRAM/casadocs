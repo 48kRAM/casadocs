{
 "cells": [
  {
   "cell_type": "markdown",
   "metadata": {},
   "source": [
    "# Examine/Edit Cal Tables\n",
    "\n",
    "How to plot, list, and adjust calibration tables\n",
    "\n",
    "Information on examination and manipulation of calibration tables can be\n",
    "found in the task documentation for **plotcal**, **listcal**,\n",
    "**calstat**, **smoothcal**, and **browsetable**."
   ]
  }
 ],
 "metadata": {},
 "nbformat": 4,
 "nbformat_minor": 5
}
