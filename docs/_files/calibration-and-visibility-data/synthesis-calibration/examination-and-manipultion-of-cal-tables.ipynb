{
 "cells": [
  {
   "cell_type": "markdown",
   "metadata": {},
   "source": [
    "# Examine/Edit Cal Tables {#examineedit-cal-tables .documentFirstHeading}\n",
    "\n",
    "\n",
    "\n",
    "\n",
    "\n",
    "How to plot, list, and adjust calibration tables\n",
    "\n",
    "\n",
    "\n",
    "\n",
    "\n",
    "\n",
    "\n",
    "\n",
    "Information on examination and manipulation of calibration tables can be\n",
    "found in the task documentation for **plotcal**, **listcal**,\n",
    "**calstat**, **smoothcal**, and **browsetable**."
   ]
  }
 ],
 "metadata": {},
 "nbformat": 4,
 "nbformat_minor": 4
}
