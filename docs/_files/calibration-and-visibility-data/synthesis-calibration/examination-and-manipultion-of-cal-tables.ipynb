{
 "cells": [
  {
   "cell_type": "markdown",
   "metadata": {},
   "source": [
    "# Examine/Edit Cal Tables\n",
    "\n",
    "How to plot, list, and adjust calibration tables\n",
    "\n",
    "Information on examination and manipulation of calibration tables can be\n",
    "found in the task documentation for **plotcal**, **listcal**,\n",
    "**calstat**,&nbsp;**smoothcal**, and **browsetable**.\n",
    "\n",
    "&nbsp;"
   ]
  }
 ],
 "metadata": {},
 "nbformat": 4,
 "nbformat_minor": 5
}
