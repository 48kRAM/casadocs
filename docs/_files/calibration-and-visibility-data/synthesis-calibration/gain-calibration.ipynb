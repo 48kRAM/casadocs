{
 "cells": [
  {
   "cell_type": "markdown",
   "metadata": {},
   "source": [
    "# Gain Calibration\n",
    "\n",
    "General gain and bandpass calibration\n",
    "\n",
    "In general, gain calibration includes solving for time- and\n",
    "frequency-dependent multiplicative calibration factors, usually in an\n",
    "antenna-based manner.  CASA supports a range of options.\n",
    "\n",
    "Note that polarization calibration is described in detail in a\n",
    "[different\n",
    "section](https://casa.nrao.edu/casadocs-devel/stable/calibration-and-visibility-data/synthesis-calibration/instrumental-polarization-calibration).\n",
    "\n",
    " \n",
    "\n"
   ]
  },
  {
   "cell_type": "markdown",
   "metadata": {},
   "source": [
    "## Frequency-dependent calibration: **<a href=\"https://casa.nrao.edu/casadocs-devel/stable/calibration-and-visibility-data/global-task-list/task_bandpass\" class=\"task-name\">bandpass</a>**\n",
    "\n",
    "Frequency-dependent calibration is discussed in the general task\n",
    "documentaion for\n",
    "**<a href=\"https://casa.nrao.edu/casadocs-devel/stable/calibration-and-visibility-data/global-task-list/task_bandpass\" class=\"task-name\">bandpass</a>**.\n",
    "\n",
    " \n",
    "\n"
   ]
  },
  {
   "cell_type": "markdown",
   "metadata": {},
   "source": [
    "## Gain calibration: **<a href=\"https://casa.nrao.edu/casadocs-devel/stable/calibration-and-visibility-data/global-task-list/task_gaincal\" class=\"task-name\">gaincal</a>**\n",
    "\n",
    "Gain calibration is discussed in the general task documentation for\n",
    "**<a href=\"https://casa.nrao.edu/casadocs-devel/stable/calibration-and-visibility-data/global-task-list/task_gaincal\" class=\"task-name\">gaincal</a>**.\n",
    "\n",
    " \n",
    "\n"
   ]
  },
  {
   "cell_type": "markdown",
   "metadata": {},
   "source": [
    "## Flux density scale calibration: <a href=\"https://casa.nrao.edu/casadocs-devel/stable/calibration-and-visibility-data/global-task-list/task_fluxscale\" class=\"task-name\">fluxscale</a>\n",
    "\n",
    "Flux density scale calibration is discussed in the general task\n",
    "documentation for\n",
    "**<a href=\"https://casa.nrao.edu/casadocs-devel/stable/calibration-and-visibility-data/global-task-list/task_fluxscale\" class=\"task-name\">fluxscale</a>**.\n",
    "\n",
    " \n",
    "\n"
   ]
  },
  {
   "cell_type": "markdown",
   "metadata": {},
   "source": [
    "## Baseline-based (non-closing) calibration: <a href=\"https://casa.nrao.edu/casadocs-devel/stable/calibration-and-visibility-data/global-task-list/task_blcal\" class=\"task-name\">blcal</a>\n",
    "\n",
    "Non-closing baseline-based calibration is disussed in the general task\n",
    "documentation for\n",
    "**<a href=\"https://casa.nrao.edu/casadocs-devel/stable/calibration-and-visibility-data/global-task-list/task_blcal\" class=\"task-name\">blcal</a>**."
   ]
  }
 ],
 "metadata": {},
 "nbformat": 4,
 "nbformat_minor": 5
}
