{
 "cells": [
  {
   "cell_type": "markdown",
   "metadata": {},
   "source": [
    "# Gain Calibration {#gain-calibration .documentFirstHeading}\n",
    "\n",
    "\n",
    "\n",
    "\n",
    "\n",
    "General gain and bandpass calibration\n",
    "\n",
    "\n",
    "\n",
    "\n",
    "\n",
    "\n",
    "\n",
    "\n",
    "In general, gain calibration includes solving for time- and\n",
    "frequency-dependent multiplicative calibration factors, usually in an\n",
    "antenna-based manner.  CASA supports a range of options.\n",
    "\n",
    "Note that polarization calibration is described in detail in a\n",
    "[different\n",
    "section](https://casa.nrao.edu/casadocs-devel/stable/calibration-and-visibility-data/synthesis-calibration/instrumental-polarization-calibration).\n",
    "\n",
    " \n",
    "\n",
    "\n"
   ]
  },
  {
   "cell_type": "markdown",
   "metadata": {},
   "source": [
    "## Frequency-dependent calibration: **[bandpass](https://casa.nrao.edu/casadocs-devel/stable/calibration-and-visibility-data/global-task-list/task_bandpass){.task-name}** {#title1}\n",
    "\n",
    "Frequency-dependent calibration is discussed in the general task\n",
    "documentaion for\n",
    "**[bandpass](https://casa.nrao.edu/casadocs-devel/stable/calibration-and-visibility-data/global-task-list/task_bandpass){.task-name}**.\n",
    "\n",
    " \n",
    "\n",
    "\n",
    "\n"
   ]
  },
  {
   "cell_type": "markdown",
   "metadata": {},
   "source": [
    "## Gain calibration: **[gaincal](https://casa.nrao.edu/casadocs-devel/stable/calibration-and-visibility-data/global-task-list/task_gaincal){.task-name}** {#title2}\n",
    "\n",
    "Gain calibration is discussed in the general task documentation for\n",
    "**[gaincal](https://casa.nrao.edu/casadocs-devel/stable/calibration-and-visibility-data/global-task-list/task_gaincal){.task-name}**.\n",
    "\n",
    " \n",
    "\n",
    "\n",
    "\n"
   ]
  },
  {
   "cell_type": "markdown",
   "metadata": {},
   "source": [
    "## Flux density scale calibration: [fluxscale](https://casa.nrao.edu/casadocs-devel/stable/calibration-and-visibility-data/global-task-list/task_fluxscale){.task-name} {#title3}\n",
    "\n",
    "Flux density scale calibration is discussed in the general task\n",
    "documentation for\n",
    "**[fluxscale](https://casa.nrao.edu/casadocs-devel/stable/calibration-and-visibility-data/global-task-list/task_fluxscale){.task-name}**.\n",
    "\n",
    " \n",
    "\n",
    "\n",
    "\n"
   ]
  },
  {
   "cell_type": "markdown",
   "metadata": {},
   "source": [
    "## Baseline-based (non-closing) calibration: [blcal](https://casa.nrao.edu/casadocs-devel/stable/calibration-and-visibility-data/global-task-list/task_blcal){.task-name} {#title5}\n",
    "\n",
    "Non-closing baseline-based calibration is disussed in the general task\n",
    "documentation for\n",
    "**[blcal](https://casa.nrao.edu/casadocs-devel/stable/calibration-and-visibility-data/global-task-list/task_blcal){.task-name}**."
   ]
  }
 ],
 "metadata": {},
 "nbformat": 4,
 "nbformat_minor": 4
}
