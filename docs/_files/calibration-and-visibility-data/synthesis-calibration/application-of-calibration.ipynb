{
 "cells": [
  {
   "cell_type": "markdown",
   "metadata": {},
   "source": [
    "# Apply Calibration\n",
    "\n",
    "How to apply calibration to generate data for imaging\n",
    "\n",
    "Please see the task documentation for **applycal** for details on\n",
    "application of calibration.\n",
    "\n",
    "&nbsp;\n",
    "\n",
    "&nbsp;"
   ]
  }
 ],
 "metadata": {},
 "nbformat": 4,
 "nbformat_minor": 5
}
