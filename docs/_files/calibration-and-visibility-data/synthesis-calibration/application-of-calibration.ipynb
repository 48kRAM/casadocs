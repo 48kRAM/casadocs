{
 "cells": [
  {
   "cell_type": "markdown",
   "metadata": {},
   "source": [
    "# Apply Calibration \n",
    "\n",
    "\n",
    "\n",
    "\n",
    "\n",
    "How to apply calibration to generate data for imaging\n",
    "\n",
    "\n",
    "\n",
    "\n",
    "\n",
    "\n",
    "\n",
    "\n",
    "Please see the task documentation for **applycal** for details on application of calibration."
   ]
  }
 ],
 "metadata": {},
 "nbformat": 4,
 "nbformat_minor": 4
}
