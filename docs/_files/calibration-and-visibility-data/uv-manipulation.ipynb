{
 "cells": [
  {
   "cell_type": "markdown",
   "metadata": {},
   "source": [
    "# UV Manipulation\n",
    "\n",
    "How to modify visibility data in CASA"
   ]
  },
  {
   "cell_type": "markdown",
   "metadata": {
    "nbsphinx-toctree": {
     "hidden": true
    }
   },
   "source": [
    "[Modify UV-data: mstransform](uv-manipulation/manipulating-visibilities-with-mstransform)\n",
    "[Manipulate spectral windows](uv-manipulation/manipulation-of-spectral-windows)\n",
    "[Select/Reindex UV-data](uv-manipulation/data-selection-and-re-indexing)\n",
    "[On-the-fly calibration](uv-manipulation/on-the-fly-calibration)\n",
    "[Time average](uv-manipulation/time-average)\n",
    "[Channel average](uv-manipulation/channel-average)\n",
    "[Flags and data-averaging](uv-manipulation/flags-and-data-averaging)\n",
    "[Split UV-data](uv-manipulation/splitting-out-calibrated-uv-data-split)\n",
    "[Average in split](uv-manipulation/averaging-in-split)\n",
    "[Recalculate UVW Values](uv-manipulation/recalculation-of-uvw-values-fixvis)\n",
    "[Hanning Smooth UV-data](uv-manipulation/hanning-smoothing-of-uv-data-hanningsmooth)\n",
    "[Regrid Frequency/Velocity](uv-manipulation/regridding-visibility-frequencies-and-velocities)\n",
    "[Combine MeasurementSets](uv-manipulation/combining-measurement-sets)\n",
    "[UV Continuum Subraction](uv-manipulation/uv-plane-continuum-subraction)\n",
    "[Subtract/Add Model Visibilities](uv-manipulation/subtracting-or-adding-model-visibilities)\n",
    "[Fit Gaussians to Visibilities](uv-manipulation/fitting-gaussians-to-visibilities)\n"
   ]
  }
 ],
 "metadata": {},
 "nbformat": 4,
 "nbformat_minor": 5
}
