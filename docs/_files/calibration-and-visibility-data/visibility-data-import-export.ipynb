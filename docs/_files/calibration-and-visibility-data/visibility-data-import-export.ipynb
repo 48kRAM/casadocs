{
 "cells": [
  {
   "cell_type": "markdown",
   "metadata": {},
   "source": [
    "# Visibilities Import Export\n",
    "\n",
    "Description of how to import and export Visibility Data to CASA."
   ]
  },
  {
   "cell_type": "markdown",
   "metadata": {
    "nbsphinx-toctree": {
     "hidden": true
    }
   },
   "source": [
    "[Overview](visibility-data-import-export/overview)\n",
    "[UV Data Import](visibility-data-import-export/uv-data-import)\n",
    "[MeasurementSet Export](visibility-data-import-export/export-uv-data)\n"
   ]
  }
 ],
 "metadata": {},
 "nbformat": 4,
 "nbformat_minor": 5
}
