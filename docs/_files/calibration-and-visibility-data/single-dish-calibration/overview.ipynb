{
 "cells": [
  {
   "cell_type": "markdown",
   "metadata": {},
   "source": [
    "# Overview \n",
    "\n",
    "\n",
    "\n",
    "\n",
    "\n",
    "Chapter overview\n",
    "\n",
    "\n",
    "\n",
    "\n",
    "\n",
    "\n",
    "\n",
    "\n",
    "This section describes the motivation, background, and process for calibrating ALMA single-dish observations.\n",
    "\n",
    "Below are brief descriptions of the calibration process, followed by a description of the various observing modes, and then a step-by-step description of the calibration process in CASA.\n",
    "\n",
    "It is recommended that newcomers review the description of calibration in [Single-dish calibration: background](https://casa.nrao.edu/casadocs-devel/stable/calibration-and-visibility-data/single-dish-calibration/single-dish-calibration-background) and descriptions of various observing modes in [Single-dish observing modes](https://casa.nrao.edu/casadocs-devel/stable/calibration-and-visibility-data/single-dish-calibration/single-dish-observing-modes) before examining the reduction processes decribed in [Single-dish data calibration and reduction](https://casa.nrao.edu/casadocs-devel/stable/calibration-and-visibility-data/single-dish-calibration/single-dish-data-calibration-and-reduction). Future directions are broadly outlined in [Future development goals for CASA single-dish](https://casa.nrao.edu/casadocs-devel/stable/calibration-and-visibility-data/single-dish-calibration/future-development-goals-for-casa-single-dish)."
   ]
  }
 ],
 "metadata": {},
 "nbformat": 4,
 "nbformat_minor": 4
}
