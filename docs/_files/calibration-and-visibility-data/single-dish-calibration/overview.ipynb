{
 "cells": [
  {
   "cell_type": "markdown",
   "metadata": {},
   "source": [
    "# Overview {#overview .documentFirstHeading}\n",
    "\n",
    "\n",
    "\n",
    "\n",
    "\n",
    "Chapter overview\n",
    "\n",
    "\n",
    "\n",
    "\n",
    "\n",
    "\n",
    "\n",
    "\n",
    "This section describes the motivation, background, and process for\n",
    "calibrating ALMA single-dish observations.\n",
    "\n",
    "Below are brief descriptions of the calibration process, followed by a\n",
    "description of the various observing modes, and then a step-by-step\n",
    "description of the calibration process in CASA.\n",
    "\n",
    "It is recommended that newcomers review the description of calibration\n",
    "in [Single-dish calibration:\n",
    "background](https://casa.nrao.edu/casadocs-devel/stable/calibration-and-visibility-data/single-dish-calibration/single-dish-calibration-background) and\n",
    "descriptions of various observing modes in [Single-dish observing\n",
    "modes](https://casa.nrao.edu/casadocs-devel/stable/calibration-and-visibility-data/single-dish-calibration/single-dish-observing-modes) before\n",
    "examining the reduction processes decribed in [Single-dish data\n",
    "calibration and\n",
    "reduction](https://casa.nrao.edu/casadocs-devel/stable/calibration-and-visibility-data/single-dish-calibration/single-dish-data-calibration-and-reduction).\n",
    "Future directions are broadly outlined in [Future development goals for\n",
    "CASA\n",
    "single-dish](https://casa.nrao.edu/casadocs-devel/stable/calibration-and-visibility-data/single-dish-calibration/future-development-goals-for-casa-single-dish)."
   ]
  }
 ],
 "metadata": {},
 "nbformat": 4,
 "nbformat_minor": 4
}
