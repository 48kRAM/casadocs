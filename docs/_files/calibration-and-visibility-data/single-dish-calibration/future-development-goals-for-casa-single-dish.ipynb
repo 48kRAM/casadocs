{
 "cells": [
  {
   "cell_type": "markdown",
   "metadata": {},
   "source": [
    "# Future Development Goals\n",
    "\n",
    "Ongoing software development goals for CASA single-dish\n",
    "\n",
    "The top development priority for CASA single-dish data reduction is the\n",
    "conversion to the MeasurementSet format for the full reduction process.\n",
    "Dispensing with the ASAP (scan table) format will help unify data\n",
    "processing by providing a more homogenous basis for data processing,\n",
    "reduction, and analysis, as well as streamline and make more versatile\n",
    "the development aspects; current and future developers need only be\n",
    "familiar with one overall format of data. As such, ASAP will be gone in\n",
    "5.1. However, please note that the **importasap** task is the only\n",
    "exception and will not go away even after removing ASAP. This\n",
    "task supports importing existing scantables in CASA for backward\n",
    "compatibility.  \n",
    "  \n",
    "There is also significant active development to add header information\n",
    "to plots made by **plotms**. While preserving the multi-plot capability\n",
    "and building a layout that will not cramp or obfuscate the plot output,\n",
    "header information (i.e. target name, frequency, integration time, etc.)\n",
    "can be optionally added to the plots output by **plotms**.  \n",
    "  \n",
    "There are a number of additional improvements that we do not detail\n",
    "here. ALMA-related development requests and bug notices can be sent to\n",
    "the CASA Single Dish Team via the [ALMA\n",
    "Helpdesk](https://help.almascience.org/)."
   ]
  }
 ],
 "metadata": {},
 "nbformat": 4,
 "nbformat_minor": 5
}
