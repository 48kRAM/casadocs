{
 "cells": [
  {
   "cell_type": "markdown",
   "metadata": {},
   "source": [
    "# Regrid Frequency/Velocity\n",
    "\n",
    "Spectral regridding of the MS (cvel)\n",
    "\n",
    "Although not strictly a calibration operation, spectral regridding of a\n",
    "MS is available to aid in calibration operations (e.g. continuum\n",
    "subtraction) and preparation for imaging. For this purpose, the **cvel**\n",
    "task has been developed.\n",
    "\n",
    "The inputs are:\n",
    "\n",
    "\\"
   ]
  },
  {
   "cell_type": "markdown",
   "metadata": {},
   "source": [
    "##  cvel :: regrid an MS to a new\n",
    "spectral window / channel structure or frame  \n",
    "vis                 =         ''       \n",
    "\\"
   ]
  },
  {
   "cell_type": "markdown",
   "metadata": {},
   "source": [
    "##  Name of input MeasurementSet  \n",
    "outputvis           =         ''       \n",
    "\\"
   ]
  },
  {
   "cell_type": "markdown",
   "metadata": {},
   "source": [
    "##  Name of output MeasurementSet  \n",
    "passall             =      False       \n",
    "\\"
   ]
  },
  {
   "cell_type": "markdown",
   "metadata": {},
   "source": [
    "##  Pass through (write to output MS) non-selected data with  \n",
    "                                       \n",
    "\\"
   ]
  },
  {
   "cell_type": "markdown",
   "metadata": {},
   "source": [
    "##   no change  \n",
    "field               =         ''       \n",
    "\\"
   ]
  },
  {
   "cell_type": "markdown",
   "metadata": {},
   "source": [
    "##  Select field using field id(s) or field name(s)  \n",
    "spw                 =         ''       \n",
    "\\"
   ]
  },
  {
   "cell_type": "markdown",
   "metadata": {},
   "source": [
    "##  Select spectral window/channels  \n",
    "selectdata          =       True       \n",
    "\\"
   ]
  },
  {
   "cell_type": "markdown",
   "metadata": {},
   "source": [
    "##  Other data selection parameters  \n",
    "timerange           =         ''       \n",
    "\\"
   ]
  },
  {
   "cell_type": "markdown",
   "metadata": {},
   "source": [
    "##  Range of time to select from data  \n",
    "array               =         ''       \n",
    "\\"
   ]
  },
  {
   "cell_type": "markdown",
   "metadata": {},
   "source": [
    "##  (sub)array indices  \n",
    "antenna             =         ''       \n",
    "\\"
   ]
  },
  {
   "cell_type": "markdown",
   "metadata": {},
   "source": [
    "##  Select data based on antenna/baseline  \n",
    "scan                =         ''       \n",
    "\\"
   ]
  },
  {
   "cell_type": "markdown",
   "metadata": {},
   "source": [
    "##  scan number range  \n",
    "  \n",
    "mode                =  'channel'       \n",
    "\\"
   ]
  },
  {
   "cell_type": "markdown",
   "metadata": {},
   "source": [
    "##   Regridding mode  \n",
    "nchan               =         -1       \n",
    "\\"
   ]
  },
  {
   "cell_type": "markdown",
   "metadata": {},
   "source": [
    "##  Number of channels in output spw (-1=all)  \n",
    "start               =          0       \n",
    "\\"
   ]
  },
  {
   "cell_type": "markdown",
   "metadata": {},
   "source": [
    "##  first input channel to use  \n",
    "width               =          1       \n",
    "\\"
   ]
  },
  {
   "cell_type": "markdown",
   "metadata": {},
   "source": [
    "##  Number of input channels to average  \n",
    "interpolation       =   'linear'       \n",
    "\\"
   ]
  },
  {
   "cell_type": "markdown",
   "metadata": {},
   "source": [
    "##  Spectral interpolation method  \n",
    "  \n",
    "phasecenter         =         ''       \n",
    "\\"
   ]
  },
  {
   "cell_type": "markdown",
   "metadata": {},
   "source": [
    "##  Image phase center: position or field index  \n",
    "restfreq            =         ''       \n",
    "\\"
   ]
  },
  {
   "cell_type": "markdown",
   "metadata": {},
   "source": [
    "##  rest frequency (see help)  \n",
    "outframe            =         ''       \n",
    "\\"
   ]
  },
  {
   "cell_type": "markdown",
   "metadata": {},
   "source": [
    "##  Output frame (not case-sensitive, ''=keep input frame)  \n",
    "veltype             =    'radio'       \n",
    "\\"
   ]
  },
  {
   "cell_type": "markdown",
   "metadata": {},
   "source": [
    "##  velocity definition  \n",
    "hanning             =      False       \n",
    "\\"
   ]
  },
  {
   "cell_type": "markdown",
   "metadata": {},
   "source": [
    "##   If true, Hanning smooth data before regridding to remove  \n",
    "                                       \n",
    "\\"
   ]
  },
  {
   "cell_type": "markdown",
   "metadata": {},
   "source": [
    "##   Gibbs ringing.\n",
    "\n",
    "The key parameters for the operation of **cvel** are the regridding\n",
    "*mode*, the output reference *outframe*, *veltype*, *restfreq* and the\n",
    "standard selection parameters (in particular *spw* and *field*).\n",
    "\n",
    "The syntax for mode options\n",
    "(’*channel*’,’*velocity*’,’*frequency*’,’*channel_b*’) has been made\n",
    "compatible with the respective modes of **clean**. The combination of\n",
    "selected *spw* and *mode* will determine the output channels and spw(s):\n",
    "\n",
    "    spw = '0,1'; mode = 'channel'\n",
    "   \n",
    "       \\"
   ]
  },
  {
   "cell_type": "markdown",
   "metadata": {},
   "source": [
    "## will produce a single spw\n",
    "containing all channels in spw 0 and 1    \n",
    "    spw='0:5\\~28^2'; mode = 'channel'\n",
    "   \n",
    "       \\"
   ]
  },
  {
   "cell_type": "markdown",
   "metadata": {},
   "source": [
    "## will produce a single spw made\n",
    "with channels (5,7,9,...,25,27)    \n",
    "    spw = '0'; mode = 'channel': nchan=3;\n",
    "start=5; width=4    \n",
    "       \\"
   ]
  },
  {
   "cell_type": "markdown",
   "metadata": {},
   "source": [
    "## will produce an spw with 3\n",
    "output channels    \n",
    "       \\"
   ]
  },
  {
   "cell_type": "markdown",
   "metadata": {},
   "source": [
    "## new channel 1 contains data\n",
    "from channels (5+6+7+8)    \n",
    "       \\"
   ]
  },
  {
   "cell_type": "markdown",
   "metadata": {},
   "source": [
    "## new channel 2 contains data\n",
    "from channels (9+10+11+12)    \n",
    "       \\"
   ]
  },
  {
   "cell_type": "markdown",
   "metadata": {},
   "source": [
    "## new channel 3 contains data\n",
    "from channels (13+14+15+16)    \n",
    "    spw = '0:0\\~63^3'; mode='channel';\n",
    "nchan=21; start = 0; width = 1    \n",
    "       \\"
   ]
  },
  {
   "cell_type": "markdown",
   "metadata": {},
   "source": [
    "## will produce an spw with 21\n",
    "channels    \n",
    "       \\"
   ]
  },
  {
   "cell_type": "markdown",
   "metadata": {},
   "source": [
    "## new channel 1 contains data\n",
    "from channel 0    \n",
    "       \\"
   ]
  },
  {
   "cell_type": "markdown",
   "metadata": {},
   "source": [
    "## new channel 2 contains data\n",
    "from channel 2    \n",
    "       \\"
   ]
  },
  {
   "cell_type": "markdown",
   "metadata": {},
   "source": [
    "## new channel 21 contains data\n",
    "from channel 61    \n",
    "    spw = '0:0\\~40^2'; mode = 'channel';\n",
    "nchan = 3; start = 5; width = 4    \n",
    "       \\"
   ]
  },
  {
   "cell_type": "markdown",
   "metadata": {},
   "source": [
    "## will produce an spw with three\n",
    "output channels    \n",
    "       \\"
   ]
  },
  {
   "cell_type": "markdown",
   "metadata": {},
   "source": [
    "## new channel 1 contains channels\n",
    "(5,7)    \n",
    "       \\"
   ]
  },
  {
   "cell_type": "markdown",
   "metadata": {},
   "source": [
    "## new channel 2 contains channels\n",
    "(13,15)    \n",
    "       \\"
   ]
  },
  {
   "cell_type": "markdown",
   "metadata": {},
   "source": [
    "## new channel 3 contains channels\n",
    "(21,23)\n",
    "\n",
    "The simplest use of **cvel** is to shift a single spectral window into\n",
    "an output frame. This is done with *mode=’channel’*. For example:\n",
    "\n",
    "cvel(vis='test_w3oh_nohann.ms',  \n",
    "     outputvis\n",
    "='test_w3oh_nohann_chanbary.ms',  \n",
    "    \n",
    "mode='channel',nchan=-1,start=0,width=1,  \n",
    "     interpolation='linear',  \n",
    "     phasecenter='',  \n",
    "     spw='',  \n",
    "     outframe='BARY')\n",
    "\n",
    "will transform all SPWs into the BARY reference frame. This implies a\n",
    "\"software Doppler tracking\", i.e. the SPW definitions are transformed\n",
    "into the BARY frame and in the different integrations of the dataset,\n",
    "the visibilties are regridded into the transformed SPW accounting for\n",
    "the time-dependencies. E.g. if the original SPWs were in reference frame\n",
    "TOPO and thus the movent of the Earth w.r.t. the source will have\n",
    "smeared out line emission, the new SPWs will be in reference frame BARY\n",
    "and the effects of the movement of the Earth will have been removed but\n",
    "the number of channels will remain the same and the frequency resolution\n",
    "will be maximal. \n",
    "\n",
    "Mode *channel* is intended to not change the frequency resolution beyond\n",
    "the reference frame transformation or at least only change the\n",
    "resolution in units of whole channels. For most scientific applications\n",
    "we recommend using the *mode=’velocity’’* and *mode=’frequency’*\n",
    "options, as it is easiest to determine what the resulting channel width\n",
    "will be in terms of velocity or frequency bandwidth. For example:\n",
    "\n",
    "cvel(vis='test_w3oh_nohann.ms',  \n",
    "     outputvis\n",
    "='test_w3oh_nohann_cvellsrk.ms',  \n",
    "    \n",
    "mode='velocity',nchan=45,start='-35.0km/s',width='-0.55km/s',  \n",
    "     interpolation='linear',  \n",
    "     phasecenter='',  \n",
    "     spw='',  \n",
    "     restfreq='1665.4018MHz',  \n",
    "     outframe='LSRK')  \n",
    "  \n",
    "cvel(vis='test_w3oh_nohann.ms',  \n",
    "     outputvis\n",
    "='test_w3oh_nohann_cvelbary.ms',  \n",
    "    \n",
    "mode='velocity',nchan=45,start='-35.0km/s',width='-0.55km/s',  \n",
    "     interpolation='linear',  \n",
    "     phasecenter='',  \n",
    "     spw='',  \n",
    "     restfreq='1665.4018MHz',  \n",
    "     outframe='BARY')\n",
    "\n",
    "will transform a MS into the LSRK and BARYcenter frames respectively.\n",
    "\n",
    "The sign of the *width* parameter determines whether the channels run\n",
    "along increasing or decreasing values of frequency or velocity (i.e. if\n",
    "the cube is reversed or not).\n",
    "\n",
    "**Info:** in order to permit the calculation of velocities from the\n",
    "internally stored frequencies, you need to provide a rest frequency in\n",
    "parameter *restfreq* when you operate in mode 'velocity'. This rest\n",
    "frequency will not be stored with the MS (as opposed to the rest\n",
    "frequency which you provide to the *clean* task which is subsequently\n",
    "stored with the image).\n",
    "\n",
    "The intent of **cvel** regridding is to transform channel labels and the\n",
    "visibilities to a spectral reference frame which is appropriate for the\n",
    "science analysis, e.g. from *TOPO* to *LSRK*, e.g. to correct for\n",
    "Doppler shifts throughout the time of the observation. Naturally, this\n",
    "will change the shape of the spectral features to some extent. According\n",
    "to the Nyquist theorem you should oversample a spectrum with twice the\n",
    "numbers of channels to retain the shape. Based on some tests, however,\n",
    "we recommend to observe with at least 3-4 times the number of channels\n",
    "for each significant spectral feature (like 3-4 channels per linewidth).\n",
    "This will minimize regridding artifacts in **cvel**.\n",
    "\n",
    "If **cvel** has already established the grid that is desired for the\n",
    "imaging, clean should be run with the default *channel* mode\n",
    "(*width=1*). This will avoid additional regridding in **clean**. Hanning\n",
    "smoothing is optionally offered in **cvel**, but tests have shown that\n",
    "already the regridding process itself, if it involved a transformation\n",
    "from *TOPO* to a non-terrestrial reference frame, implies some smoothing\n",
    "(due to channel interpolation) such that Hanning smoothing may not be\n",
    "necessary.\n",
    "\n",
    "The interpolation method **fftshift** calculates the transformed\n",
    "visibilities by applying a FFT, then a phase ramp, and then an inverse\n",
    "FFT. Note that if you want to use this interpolation method, your\n",
    "frequency grid needs to be equidistant, i.e. it only works in mode\n",
    "velocity with *veltype=radio*, in mode frequency, and in mode channel\n",
    "(in the latter only if the input grid is itself equidistant in\n",
    "frequency). Note also that, as opposed to all other interpolation\n",
    "methods, this method will apply a constant (frequency-independent) shift\n",
    "in frequency which is not fully correct in the case of large fractional\n",
    "bandwidth of the given spectral window.\n",
    "\n",
    "The task **cvel** can also be used to transform spectral windows into\n",
    "the rest frame of the ephemeris object by setting the parameter\n",
    "*outframe* to “SOURCE” as in the following example:\n",
    "\n",
    "cvel(vis=’europa.ms’, outputvis=’cvel_europa.ms’, outframe=’SOURCE’)\n",
    "\n",
    "This will make **cvel** perform a transformation to the GEO reference\n",
    "frame followed by an additional Doppler correction for the radial\n",
    "velocity given by the ephemeris for the each field. (Typically, this\n",
    "should happen after calibration and after splitting out the spectral\n",
    "widows and the target of interest). The result is an MS with a single\n",
    "combined spectral window in reference frame REST. From this frame,\n",
    "further transformations to other reference frames are not possible."
   ]
  }
 ],
 "metadata": {},
 "nbformat": 4,
 "nbformat_minor": 5
}
