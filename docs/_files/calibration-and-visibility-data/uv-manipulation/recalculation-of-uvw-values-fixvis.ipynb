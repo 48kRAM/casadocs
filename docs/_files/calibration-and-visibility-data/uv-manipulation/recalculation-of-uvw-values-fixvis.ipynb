{
 "cells": [
  {
   "cell_type": "markdown",
   "metadata": {},
   "source": [
    "# Recalculate UVW Values\n",
    "\n",
    "How to recalculate uvw values using fixvis\n",
    "\n",
    "Sometimes the u,v,w coordinates of a MeasurementSet are not recorded\n",
    "correctly by the correlator.&nbsp;For instance, if the catalog position\n",
    "of a phase calibrator is in error, the control system will place the\n",
    "phase center on this erroneous position. Although the actual wavefront\n",
    "from the quasar will not be coming from the phase center, the normal\n",
    "calibration process will adjust all the phases to place the quasar there\n",
    "(because the default model is a point source at the phase center), which\n",
    "will yield science target images with wrong absolute positions.\n",
    "\n",
    "To fix this problem, you can use **fixvis** to shift the raw data on the\n",
    "phase calibrator to have the correct phase center so that your science\n",
    "target will then come out with the correct position. This technique was\n",
    "used&nbsp;in the [Band 9 ALMA SV data on\n",
    "IRAS16293](https://casaguides.nrao.edu/index.php/IRAS16293_Band9_-_Calibration_for_CASA_4.0).\n",
    "\n",
    "One useful feature&nbsp;of **fixvis** is that it can change the phase\n",
    "center of a MeasurementSet. This can be done with absolute coordinates\n",
    "or using offsets. An example is:\n",
    "\n",
    "fixvis(vis='ngc3256.ms',outpuvis='ngc3256-fixed.ms',field='NGC3256',\n",
    "phasecenter='J2000 10h27m51.6s&nbsp;-43d54m18s')\n",
    "\n",
    "which&nbsp;will recalculate the u,v,w coordinates relative to the new\n",
    "phase center for the field &rsquo;NGC3256&rsquo;.\n",
    "Invoking&nbsp;**fixvis** as follows will instead re-calculate the\n",
    "(u,v,w) values using the existing phase center in the FIELD table of the\n",
    "MS --&nbsp;\n",
    "\n",
    "fixvis(vis='ngc3256.ms',outpuvis='ngc3256-fixed.ms',field='NGC3256')\n",
    "\n",
    "Other&nbsp;parameters&nbsp;**fixvis** accepts are as follows --&nbsp;\n",
    "\n",
    "fixvis :: Recalculates (u, v, w) and/or changes Phase Center\n",
    "\n",
    "vis = '' \\"
   ]
  },
  {
   "cell_type": "markdown",
   "metadata": {},
   "source": [
    "## Name of the input visibility set.\n",
    "\n",
    "outputvis = '' \\"
   ]
  },
  {
   "cell_type": "markdown",
   "metadata": {},
   "source": [
    "## Name of the output visibility set. (Can be the same \\"
   ]
  },
  {
   "cell_type": "markdown",
   "metadata": {},
   "source": [
    "##\n",
    "as vis.)\n",
    "\n",
    "field = '' \\"
   ]
  },
  {
   "cell_type": "markdown",
   "metadata": {},
   "source": [
    "## Fields to operate on. = all.\n",
    "\n",
    "refcode = '' \\"
   ]
  },
  {
   "cell_type": "markdown",
   "metadata": {},
   "source": [
    "## reference frame to convert UVW coordinates to\n",
    "\n",
    "reuse = True \\"
   ]
  },
  {
   "cell_type": "markdown",
   "metadata": {},
   "source": [
    "## base UVW calculation on the old values?\n",
    "\n",
    "phasecenter = '' \\"
   ]
  },
  {
   "cell_type": "markdown",
   "metadata": {},
   "source": [
    "## use this direction as phase center\n",
    "\n",
    "&nbsp;"
   ]
  }
 ],
 "metadata": {},
 "nbformat": 4,
 "nbformat_minor": 5
}
