{
 "cells": [
  {
   "cell_type": "markdown",
   "metadata": {},
   "source": [
    "# Recalculate UVW Values\n",
    "\n",
    "How to recalculate uvw values using fixvis\n",
    "\n",
    "Sometimes the u,v,w coordinates of a MeasurementSet are not recorded\n",
    "correctly by the correlator. For instance, if the catalog position of a\n",
    "phase calibrator is in error, the control system will place the phase\n",
    "center on this erroneous position. Although the actual wavefront from\n",
    "the quasar will not be coming from the phase center, the normal\n",
    "calibration process will adjust all the phases to place the quasar there\n",
    "(because the default model is a point source at the phase center), which\n",
    "will yield science target images with wrong absolute positions.\n",
    "\n",
    "To fix this problem, you can use **fixvis** to shift the raw data on the\n",
    "phase calibrator to have the correct phase center so that your science\n",
    "target will then come out with the correct position. This technique was\n",
    "used in the [Band 9 ALMA SV data on\n",
    "IRAS16293](https://casaguides.nrao.edu/index.php/IRAS16293_Band9_-_Calibration_for_CASA_4.0).\n",
    "\n",
    "One useful feature of **fixvis** is that it can change the phase center\n",
    "of a MeasurementSet. This can be done with absolute coordinates or using\n",
    "offsets. An example is:\n",
    "\n",
    "fixvis(vis='ngc3256.ms',outpuvis='ngc3256-fixed.ms',field='NGC3256',\n",
    "phasecenter='J2000 10h27m51.6s -43d54m18s')\n",
    "\n",
    "which will recalculate the u,v,w coordinates relative to the new phase\n",
    "center for the field ’NGC3256’. Invoking **fixvis** as follows will\n",
    "instead re-calculate the (u,v,w) values using the existing phase center\n",
    "in the FIELD table of the MS -- \n",
    "\n",
    "fixvis(vis='ngc3256.ms',outpuvis='ngc3256-fixed.ms',field='NGC3256')\n",
    "\n",
    "Other parameters **fixvis** accepts are as follows -- \n",
    "\n",
    "fixvis :: Recalculates (u, v, w) and/or changes Phase Center\n",
    "\n",
    "vis = '' \\"
   ]
  },
  {
   "cell_type": "markdown",
   "metadata": {},
   "source": [
    "## Name of the input visibility set.\n",
    "\n",
    "outputvis = '' \\"
   ]
  },
  {
   "cell_type": "markdown",
   "metadata": {},
   "source": [
    "## Name of the output visibility set. (Can be the same \\"
   ]
  },
  {
   "cell_type": "markdown",
   "metadata": {},
   "source": [
    "##\n",
    "as vis.)\n",
    "\n",
    "field = '' \\"
   ]
  },
  {
   "cell_type": "markdown",
   "metadata": {},
   "source": [
    "## Fields to operate on. = all.\n",
    "\n",
    "refcode = '' \\"
   ]
  },
  {
   "cell_type": "markdown",
   "metadata": {},
   "source": [
    "## reference frame to convert UVW coordinates to\n",
    "\n",
    "reuse = True \\"
   ]
  },
  {
   "cell_type": "markdown",
   "metadata": {},
   "source": [
    "## base UVW calculation on the old values?\n",
    "\n",
    "phasecenter = '' \\"
   ]
  },
  {
   "cell_type": "markdown",
   "metadata": {},
   "source": [
    "## use this direction as phase center"
   ]
  }
 ],
 "metadata": {},
 "nbformat": 4,
 "nbformat_minor": 5
}
