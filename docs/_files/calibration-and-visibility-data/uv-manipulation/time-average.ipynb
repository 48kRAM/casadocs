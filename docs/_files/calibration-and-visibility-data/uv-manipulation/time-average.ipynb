{
 "cells": [
  {
   "cell_type": "markdown",
   "metadata": {},
   "source": [
    "# Time average\n",
    "\n",
    "Time averaging highlights using mstransform and split\n",
    "\n",
    "**mstransform** and **split** are both able to perform a weighted time\n",
    "average of data. &nbsp;In **mstransform** time averaging is accessed by\n",
    "setting *timeaverage = True* and controlled by the resulting\n",
    "sub-parameters of&nbsp;*timeaverage.*&nbsp;Additionally, **mstransform**\n",
    "is able to perform a baseline dependent time average as described in the\n",
    "paper Effects of Baseline Dependent Time Averaging of UV Data by W.D.\n",
    "Cotton <a href=\"#cit1\" id=\"ref-cit1\" class=\"ref-cit\">[1]</a> .\n",
    "\n",
    "\\"
   ]
  },
  {
   "cell_type": "markdown",
   "metadata": {},
   "source": [
    "## mstransform time average\n",
    "parameters\n",
    "\n",
    "  \n",
    "timeaverage&nbsp;&nbsp;&nbsp;&nbsp;&nbsp;&nbsp;&nbsp;&nbsp;\n",
    "= True \\"
   ]
  },
  {
   "cell_type": "markdown",
   "metadata": {},
   "source": [
    "## Average data in time.  \n",
    "&nbsp;&nbsp;&nbsp;&nbsp;\n",
    "timebin&nbsp;&nbsp;&nbsp;&nbsp;&nbsp;&nbsp;&nbsp; = '0s' \\"
   ]
  },
  {
   "cell_type": "markdown",
   "metadata": {},
   "source": [
    "## Bin width\n",
    "for time averaging.  \n",
    "&nbsp;&nbsp;&nbsp;&nbsp; timespan&nbsp;&nbsp;&nbsp;&nbsp;&nbsp;&nbsp; =\n",
    "''&nbsp;&nbsp; \\"
   ]
  },
  {
   "cell_type": "markdown",
   "metadata": {},
   "source": [
    "## Span the timebin across scan, state or both.  \n",
    "&nbsp;&nbsp;&nbsp;&nbsp; maxuvwdistance = 0.0&nbsp; \\"
   ]
  },
  {
   "cell_type": "markdown",
   "metadata": {},
   "source": [
    "## Maximum\n",
    "separation of start-to-end baselines that can be included in an\n",
    "average(meters)\n",
    "\n",
    "In&nbsp;**split** time averaging is available via top level parameters\n",
    "*timebin* and&nbsp;*combine*. &nbsp;The functionality is very similar to\n",
    "that in the old version of split. &nbsp;However, there are some\n",
    "differences as explained&nbsp;below.\n",
    "\n",
    " \\"
   ]
  },
  {
   "cell_type": "markdown",
   "metadata": {},
   "source": [
    "## split time average parameters\n",
    "\n",
    "  \n",
    "timebin &nbsp; = '0s' &nbsp; \\#&nbsp;Bin\n",
    "width for time averaging  \n",
    "combine &nbsp; = '' &nbsp; &nbsp; \\#&nbsp;Span the timebin across scan,\n",
    "state or both\n",
    "\n",
    "**Warning:** the timebin parameter works based on wall clock time, not\n",
    "integration time.&nbsp; For example, if each scan is 5 seconds long, and\n",
    "scans are separated by 15 seconds, then timebin='25s' is the minimum\n",
    "value needed to combine data from 2 consecutive scans. One might assume\n",
    "that timebin='10s' should work to combine two 5 second scans, but it\n",
    "does not. This is mostly relevant to single dish data, and when using\n",
    "the tasks like sdtimeaverage or mstransform.\n",
    "\n",
    "-   Whereas the old version of split used exclusively the *WEIGHT*\n",
    "    column to perform the weighted average, **mstransform** and\n",
    "    **split** use both *FLAG* and spectral weights (when present). To be\n",
    "    specific *WEIGHT_SPECTRUM* is used when averaring *CORRECTED_DATA*,\n",
    "    and *SIGMA_SPECTRUM* is used when averaging the *DATA* column.\n",
    "\n",
    "-   Also **mstransform** and **split** are able to transform the input\n",
    "    *WEIGHT/SIGMA_SPECTRUM* according to the rules of error propagation\n",
    "    that apply to a weighted average, which result in an output weight\n",
    "    equals to the sum of the input weights. For a detailed reference\n",
    "    see, Data Reduction and Error Analysis by Bevington & Robinson\n",
    "    <a href=\"#cit2\" id=\"ref-cit2\" class=\"ref-cit\">[2]</a>.\n",
    "\n",
    "-   When **mstransform** and **split** process an ALMA MS and *timebin*\n",
    "    is greater than 30s, timespan is automatically set to state, to\n",
    "    overcome a limitation of the ALMA ASDM binary dumps.\n",
    "\n",
    "-   As of version 4.5, **mstransform** and **split** both allow timespan\n",
    "    field in addition to scan and state.\n",
    "\n",
    "-   *maxuvdistance*: In the case of **mstransform**, when\n",
    "    *maxuvdistance* is greater than 0 this parameter controls the\n",
    "    maximum uv distance allowed when averaging data from the same\n",
    "    baseline. It works in conjunction with the *timebin* parameter in\n",
    "    the sense that the averaging process is finalized when either\n",
    "    *timebin* is completed or *maxuvdistance* is reached. The details of\n",
    "    the baseline dependent averaging algorithm are available here:\n",
    "\n",
    "    <ftp://ftp.cv.nrao.edu/NRAO-staff/bcotton/Obit/BLAverage.pdf>\n",
    "\n",
    "|                 |                                                                                                                                                                |\n",
    "|:----------------|----------------------------------------------------------------------------------------------------------------------------------------------------------------|\n",
    "| Citation Number | 1                                                                                                                                                              |\n",
    "| Citation Text   | Effects of Baseline Dependent Time Averaging of UV Data by W.D. Cotton (OBIT No. 13, 2008). [PDF](ftp://ftp.cv.nrao.edu/NRAO-staff/bcotton/Obit/BLAverage.pdf) |\n",
    "\n",
    "|                 |                                                                                        |\n",
    "|:----------------|----------------------------------------------------------------------------------------|\n",
    "| Citation Number | 2                                                                                      |\n",
    "| Citation Text   | Data Reduction and Error Analysis by Bevington & Robinson (3rd Ed., McGraw Hill, 2003) |\n",
    "\n",
    "Bibliography\n",
    "\n",
    "  \n",
    "<sup>1.\\ Effects\\ of\\ Baseline\\ Dependent\\ Time\\ Averaging\\ of\\ UV\\ Data\\ by\\ W.D.\\ Cotton\\ (OBIT\\ No.\\ 13,\\ 2008).\\ [PDF](ftp://ftp.cv.nrao.edu/NRAO-staff/bcotton/Obit/BLAverage.pdf)\\ [&larrhk;](#ref-cit1 \"Jump back to citation 1 in the text.\")</sup>\n",
    "\n",
    "  \n",
    "<sup>2.\\ Data\\ Reduction\\ and\\ Error\\ Analysis\\ by\\ Bevington\\ &\\ Robinson\\ (3rd\\ Ed.,\\ McGraw\\ Hill,\\ 2003)\\ [&larrhk;](#ref-cit2 \"Jump back to citation 2 in the text.\")</sup>"
   ]
  }
 ],
 "metadata": {},
 "nbformat": 4,
 "nbformat_minor": 5
}
