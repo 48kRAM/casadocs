{
 "cells": [
  {
   "cell_type": "markdown",
   "metadata": {},
   "source": [
    "# Subtract/Add Model Visibilities {#subtractadd-model-visibilities .documentFirstHeading}\n",
    "\n",
    "\n",
    "\n",
    "\n",
    "\n",
    "uvsub\n",
    "\n",
    "\n",
    "\n",
    "\n",
    "\n",
    "\n",
    "\n",
    "\n",
    "**uvsub** is a simple task that allows one to subtract or add the\n",
    "MODEL_DATA column to the CORRECTED_DATA column of a given\n",
    "MeasurementSet. It has only 2 parameters: *vis* and *reverse.*\n",
    "\n",
    "If the CORRECTED_DATA column does not exist then it will be created\n",
    "first and the DATA column will be copied into it before the\n",
    "addition/subtraction of the MODEL_DATA is performed.\n",
    "\n",
    "The MODEL_DATA column can either be the scratch column or a virtual one;\n",
    "either one will work with **uvsub**. The model visibilities are usually\n",
    "populated by the tasks **clean**/**tclean**, **ft**, and **setjy***.*\n",
    "\n",
    "Note that **uvsub** does the subtraction over the whole ms. If only a\n",
    "subsection (say *field* or *spw* selection was done whiile using\n",
    "**clean** or **ft**) of the MS was used in these tasks that populate the\n",
    "model visibilities, then the **uvsub** operation will give the expected\n",
    "results for only those parts. The remainder of the MS will get the\n",
    "CORRECTED_DATA added/subtracted with whatever existed originally in the\n",
    "MODEL_DATA. On initialization the model visbilities are 1 for parallel\n",
    "hand and 0 for cross hand."
   ]
  }
 ],
 "metadata": {},
 "nbformat": 4,
 "nbformat_minor": 4
}
