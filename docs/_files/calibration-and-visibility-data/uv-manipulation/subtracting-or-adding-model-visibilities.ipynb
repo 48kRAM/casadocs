{
 "cells": [
  {
   "cell_type": "markdown",
   "metadata": {},
   "source": [
    "# Subtract/Add Model Visibilities\n",
    "\n",
    "uvsub\n",
    "\n",
    "**uvsub** is a simple task that allows one to subtract or add the\n",
    "MODEL_DATA column to the CORRECTED_DATA column of a given\n",
    "MeasurementSet. It has only 2 parameters: *vis* and *reverse.*\n",
    "\n",
    "If the CORRECTED_DATA column does not exist then it will be created\n",
    "first and the DATA column will be copied into it before the\n",
    "addition/subtraction of the MODEL_DATA is performed.\n",
    "\n",
    "The MODEL_DATA column can either be the scratch column or a virtual one;\n",
    "either one will work with **uvsub**.&nbsp;The model visibilities are\n",
    "usually populated by the tasks **clean**/**tclean**, **ft**, and\n",
    "**setjy***.*\n",
    "\n",
    "Note that **uvsub** does the subtraction over the whole ms. If only a\n",
    "subsection (say *field* or *spw* selection was done whiile using\n",
    "**clean** or **ft**) of the&nbsp;MS was used in these tasks that\n",
    "populate the model visibilities, then the&nbsp;**uvsub** operation will\n",
    "give the expected results for only those parts. The remainder of the\n",
    "MS&nbsp;will get the CORRECTED_DATA added/subtracted with\n",
    "whatever&nbsp;existed originally in the MODEL_DATA. On initialization\n",
    "the model visbilities are 1 for parallel hand and 0 for cross\n",
    "hand.&nbsp;\n",
    "\n",
    "&nbsp;"
   ]
  }
 ],
 "metadata": {},
 "nbformat": 4,
 "nbformat_minor": 5
}
