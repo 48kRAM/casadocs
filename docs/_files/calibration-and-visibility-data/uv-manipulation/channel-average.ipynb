{
 "cells": [
  {
   "cell_type": "markdown",
   "metadata": {},
   "source": [
    "# Channel average \n",
    "\n",
    "\n",
    "\n",
    "\n",
    "\n",
    "Channel averaging highlights using mstransform and split\n",
    "\n",
    "\n",
    "\n",
    "\n",
    "\n",
    "\n",
    "\n",
    "\n",
    "Both **mstransform** & **split** support averaging data by frequency channel.  In **split** the amount of channel averaging (if any) is set by top-level parameter *width*.\n",
    "\n",
    "```\n",
    "width  = 1     # Number of channels to average to form one output channel\n",
    "```\n",
    "\n",
    "In **mstransform** this capability is accessed by specifying *chanaverage=True* and setting the resulting sub-parameter *chanbin*, as shown here:  \n",
    "\n",
    "```\n",
    "chanaverage = True      # Average data in channels.\n",
    "chanbin     = 1         # Width (bin) of input channels to average to form an output channel.\n",
    "```\n",
    "\n",
    "Some new features of split / mstransform relative to the old implementation of split are as follows\n",
    "\n",
    "-   Whereas the old version of split performed a flat average taking into account only the *FLAG* column, **mstransform** / **split** use both *FLAG* and spectral weights (when present), resulting in a weighted average. To be specific *WEIGHT_SPECTRUM* is used when averaging *CORRECTED_DATA*, and *SIGMA_SPECTRUM* is used when averaging the *DATA* column.\n",
    "-   Also **mstransform** / **split** are able to transform the input *WEIGHT/SIGMA_SPECTRUM* according to the rules of error propagation that apply to a weighted average, which result in an output weight equals to the sum of the input weights. For a detailed reference see, *Data Reduction and Error Analysis* [\\[1\\]](#Bibliography).\n",
    "-   Both **mstransform** / **split** drop the last output channel bin when there are not enough contributors to fully populate it. For instance, if the input SPW has 128 channels and *chanbin* is 10, the resulting averaged SPW would have 12 channels and not 13 channels.\n",
    "\n",
    "The chanbin parameter can be either a scalar or a vector. In the former case, the same chanbin is applied to all the spectral windows. In the second case, each element of the chanbin vector will apply to the selected spectral windows. Obviously the size of the chanbin vector and the number of selected spectral windows have to match.\n",
    "\n",
    "<div class=\"alert alert-warning\">\n",
    "If spw combination and channel average are used together (combinespws=True, chanaverage = True), the chanbin parameter can only be a scalar. This is due to the fact that channel average applies to the already spw combined MS, which contains one single spw.\n",
    "</div>\n",
    "\n",
    "\n",
    "\n",
    "\n",
    "\n",
    "\n"
   ]
  },
  {
   "cell_type": "markdown",
   "metadata": {},
   "source": [
    "## Bibliography\n",
    "\n",
    "1. Bevington\\ &\\ Robinson,\\ 3rd\\ Ed.,\\ McGraw\\ Hill,\\ 2003\\ \n",
    "^"
   ]
  }
 ],
 "metadata": {},
 "nbformat": 4,
 "nbformat_minor": 4
}
