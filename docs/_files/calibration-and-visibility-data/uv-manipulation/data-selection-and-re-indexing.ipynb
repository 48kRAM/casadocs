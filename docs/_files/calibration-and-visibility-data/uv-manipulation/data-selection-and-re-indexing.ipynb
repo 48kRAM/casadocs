{
 "cells": [
  {
   "cell_type": "markdown",
   "metadata": {},
   "source": [
    "# Select/Reindex UV-data\n",
    "\n",
    "Notes on visibility selection and reindexing\n",
    "\n",
    "**mstransform** / **split** are able to create a new MS with a specific\n",
    "data selection, for instance splitting a science target. The new MS\n",
    "contains only the selected data and also the subtables are re-generated\n",
    "to contain only the metadata matching the data selection. The details\n",
    "about pure split operation are described in the **split** task\n",
    "documentation.\n",
    "\n",
    "Keywords relevant to data selection are as follows:\n",
    "\n",
    "CASA \\<1\\>: inp mstransform  \n",
    "--------\\> inp(mstransform)\n",
    "\n",
    "vis                 =         ''        \\"
   ]
  },
  {
   "cell_type": "markdown",
   "metadata": {},
   "source": [
    "##  Name of input MeasurementSet\n",
    "or Multi-MS.  \n",
    "outputvis           =         ''        \\"
   ]
  },
  {
   "cell_type": "markdown",
   "metadata": {},
   "source": [
    "##  Name of output\n",
    "MeasurementSet or Multi-MS.  \n",
    "tileshape           =        \\[0\\]        \\"
   ]
  },
  {
   "cell_type": "markdown",
   "metadata": {},
   "source": [
    "##  List with 1 or 3 elements\n",
    "giving the  \n",
    "                                           tile shape of the disk data\n",
    "columns.  \n",
    "field               =         ''        \\"
   ]
  },
  {
   "cell_type": "markdown",
   "metadata": {},
   "source": [
    "##  Select field using ID(s) or\n",
    "name(s).  \n",
    "spw                 =         ''        \\"
   ]
  },
  {
   "cell_type": "markdown",
   "metadata": {},
   "source": [
    "##  Select spectral\n",
    "window/channels.  \n",
    "scan                =         ''        \\"
   ]
  },
  {
   "cell_type": "markdown",
   "metadata": {},
   "source": [
    "##  Select data by scan\n",
    "numbers.  \n",
    "antenna             =         ''        \\"
   ]
  },
  {
   "cell_type": "markdown",
   "metadata": {},
   "source": [
    "##  Select data based on\n",
    "antenna/baseline.  \n",
    "correlation         =         ''        \\"
   ]
  },
  {
   "cell_type": "markdown",
   "metadata": {},
   "source": [
    "##  Correlation: '' ==\\> all,\n",
    "correlation='XX,YY'.  \n",
    "timerange           =         ''        \\"
   ]
  },
  {
   "cell_type": "markdown",
   "metadata": {},
   "source": [
    "##  Select data by time range.  \n",
    "intent              =         ''        \\"
   ]
  },
  {
   "cell_type": "markdown",
   "metadata": {},
   "source": [
    "##  Select data by scan\n",
    "intent.  \n",
    "array               =         ''        \\"
   ]
  },
  {
   "cell_type": "markdown",
   "metadata": {},
   "source": [
    "##  Select (sub)array(s) by\n",
    "array ID number.  \n",
    "uvrange             =         ''        \\"
   ]
  },
  {
   "cell_type": "markdown",
   "metadata": {},
   "source": [
    "##  Select data by baseline\n",
    "length.  \n",
    "observation         =         ''        \\"
   ]
  },
  {
   "cell_type": "markdown",
   "metadata": {},
   "source": [
    "##  Select by observation\n",
    "ID(s).  \n",
    "feed                =         ''        \\"
   ]
  },
  {
   "cell_type": "markdown",
   "metadata": {},
   "source": [
    "##  Multi-feed numbers: Not yet\n",
    "implemented.  \n",
    "datacolumn          = 'corrected'       \\"
   ]
  },
  {
   "cell_type": "markdown",
   "metadata": {},
   "source": [
    "##  Which data column(s) to\n",
    "process.  \n",
    "keepflags           =       True        \\"
   ]
  },
  {
   "cell_type": "markdown",
   "metadata": {},
   "source": [
    "##  Keep \\*completely flagged\n",
    "rows\\* or  \n",
    "                                           drop them from the output.  \n",
    "usewtspectrum       =      False        \\"
   ]
  },
  {
   "cell_type": "markdown",
   "metadata": {},
   "source": [
    "##  Create a WEIGHT_SPECTRUM\n",
    "column in the output MS.\n",
    "\n",
    " \n",
    "\n",
    "New features related to data selection and re-indexing provided\n",
    "by **mstransform** / **split** (but not in **oldsplit**) are the\n",
    "following:\n",
    "\n",
    "-   Spectral weight initialization: **mstransform** can initialize the\n",
    "    output *WEIGHT* and *SIGMA_SPECTRUM* columns by specifying\n",
    "    *usewtspectrum = True*. The details about spectral weights\n",
    "    initialization are described in section\n",
    "-   Tile shape specification for the data columns: **mstransform** also\n",
    "    allows to specify a custom default tile shape for the output data\n",
    "    columns, namely a list of 3 elements specifying the number of\n",
    "    correlations, channels and rows to be contained in each tile, for\n",
    "    instance *tileshape = \\[4,128,351\\]* would specify a tile with shape\n",
    "    (4 correlations)x(128 channels)x(351 rows). This can be used to\n",
    "    optimize the access pattern of subsequent tasks, for instance\n",
    "    imaging tasks.\n",
    "-   Support for SPWs with different sets of correlation products:\n",
    "    **mstransform** / **split** are both able to work when a given SPW\n",
    "    is associated with several correlation products (like in some EVLA\n",
    "    correlation setups). This is transparent for the user and simply\n",
    "    works by using the spw data selection parameter normally. It also\n",
    "    works in conjunction with the polarization parameter, so for\n",
    "    instance if a given MS has separated RR and LL data associated with\n",
    "    spw 0 the following data selection would work flawlessly: *spw = ’0’\n",
    "    correlation = ’LL’*\n",
    "-   Support for multiple channel selection: Both **mstransform** /\n",
    "    **split** are also capable of working with multiple channel\n",
    "    selection. This support also goes transparently for the user, by\n",
    "    simply following the SPW syntax as described in the [Visibility Data\n",
    "    Selection](https://casa.nrao.edu/casadocs-devel/stable/calibration-and-visibility-data/data-selection-in-a-measurementset)\n",
    "    chapter. For example *spw = ’4,7:4\\~59,8:4\\~13;18\\~594’ * which\n",
    "    means \"select all channels in spectral window four, channels 4\n",
    "    through 59 inclusive in spectral window seven; also select spectral\n",
    "    window 8, channels 4 through 13 and 18 through 594, also\n",
    "    inclusive.\". See more examples of spectral window selections in the\n",
    "    split\n",
    "    [examples](https://casa.nrao.edu/casadocs-devel/stable/global-task-list/task_split/examples)\n",
    "    chapter."
   ]
  }
 ],
 "metadata": {},
 "nbformat": 4,
 "nbformat_minor": 5
}
