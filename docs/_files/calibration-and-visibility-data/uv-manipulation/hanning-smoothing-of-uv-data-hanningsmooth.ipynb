{
 "cells": [
  {
   "cell_type": "markdown",
   "metadata": {},
   "source": [
    "# Hanning Smooth UV-data\n",
    "\n",
    "Highlights on Hanning smoothing of data using task hanningsmooth\n",
    "\n",
    "For strong spectral line sources (like RFI sources), the Gibbs\n",
    "phenomenon may cause ringing across the frequency channels of an\n",
    "observation. This is called the Gibbs phenomenon and a proven remedy is\n",
    "the Hanning smoothing algorithm. Hanning smoothing is a running mean\n",
    "across the spectral axis with a triangle as a smoothing kernel. The\n",
    "central channel is weighted by 0.5 and the two adjacent channels by 0.25\n",
    "to preserve the flux; mathematically this is an N=5 sample Hann window\n",
    "kernel (including the outer-most zero-weight samples in the window).\n",
    "Hanning smoothing significantly reduces Gibbs ringing at the price of a\n",
    "factor of two in spectral resolution. Users should also be aware that it\n",
    "will introduce noise correlations between channels which can affect the\n",
    "interpretation of cross-channel chi-squared or uv-model fitting\n",
    "analyses.\n",
    "\n",
    "The new **hanningsmooth** task (based on **mstransform**) does not write\n",
    "to the input MS, but it always creates an output MS. It can also handle\n",
    "a Multi-MS and process it in parallel (see more information\n",
    "[here](https://casa.nrao.edu/casadocs-devel/stable/parallel-processing/testing-using-multi-ms)).\n",
    "\n",
    "In CASA, the **hanningsmooth** task will apply Hanning smoothing to a\n",
    "spectral line uv data MeasurementSet. The inputs are:\n",
    "\n",
    "\\"
   ]
  },
  {
   "cell_type": "markdown",
   "metadata": {},
   "source": [
    "##  hanningsmooth :: Hanning smooth frequency channel data to remove\n",
    "Gibbs ringing  \n",
    "vis                 =         ''        \\"
   ]
  },
  {
   "cell_type": "markdown",
   "metadata": {},
   "source": [
    "##  Name of input MeasurementSet\n",
    "or Multi-MS.  \n",
    "outputvis           =         ''        \\"
   ]
  },
  {
   "cell_type": "markdown",
   "metadata": {},
   "source": [
    "##  Name of output\n",
    "MeasurementSet or Multi-MS.  \n",
    "keepmms             =       True        \\"
   ]
  },
  {
   "cell_type": "markdown",
   "metadata": {},
   "source": [
    "##  If the input is a Multi-MS\n",
    "the output will also  \n",
    "                                           be a Multi-MS.  \n",
    "field               =         ''        \\"
   ]
  },
  {
   "cell_type": "markdown",
   "metadata": {},
   "source": [
    "##  Select field using ID(s) or\n",
    "name(s).  \n",
    "spw                 =         ''        \\"
   ]
  },
  {
   "cell_type": "markdown",
   "metadata": {},
   "source": [
    "##  Select spectral\n",
    "window/channels.  \n",
    "scan                =         ''        \\"
   ]
  },
  {
   "cell_type": "markdown",
   "metadata": {},
   "source": [
    "##  Select data by scan\n",
    "numbers.  \n",
    "antenna             =         ''        \\"
   ]
  },
  {
   "cell_type": "markdown",
   "metadata": {},
   "source": [
    "##  Select data based on\n",
    "antenna/baseline.  \n",
    "correlation         =         ''        \\"
   ]
  },
  {
   "cell_type": "markdown",
   "metadata": {},
   "source": [
    "##  Correlation: '' ==\\> all,\n",
    "correlation='XX,YY'.  \n",
    "timerange           =         ''        \\"
   ]
  },
  {
   "cell_type": "markdown",
   "metadata": {},
   "source": [
    "##  Select data by time range.  \n",
    "intent              =         ''        \\"
   ]
  },
  {
   "cell_type": "markdown",
   "metadata": {},
   "source": [
    "##  Select data by scan\n",
    "intent.  \n",
    "array               =         ''        \\"
   ]
  },
  {
   "cell_type": "markdown",
   "metadata": {},
   "source": [
    "##  Select (sub)array(s) by\n",
    "array ID number.  \n",
    "uvrange             =         ''        \\"
   ]
  },
  {
   "cell_type": "markdown",
   "metadata": {},
   "source": [
    "##  Select data by baseline\n",
    "length.  \n",
    "observation         =         ''        \\"
   ]
  },
  {
   "cell_type": "markdown",
   "metadata": {},
   "source": [
    "##  Select by observation\n",
    "ID(s).  \n",
    "feed                =         ''        \\"
   ]
  },
  {
   "cell_type": "markdown",
   "metadata": {},
   "source": [
    "##  Multi-feed numbers: Not yet\n",
    "implemented.  \n",
    "datacolumn          =      'all'        \\"
   ]
  },
  {
   "cell_type": "markdown",
   "metadata": {},
   "source": [
    "##  Input data column(s) to\n",
    "process.\n",
    "\n",
    "The *datacolumn* parameter determines which of the data columns is to be\n",
    "Hanning smoothed: ’all’, ’model’, ’corrected’, ’data’, ’float_data’ or\n",
    "’lag_data’. ’all’ will use whichever of the visibility data columns that\n",
    "are present in the input MS. If ’corrected’ is specified, the task will\n",
    "smooth the input *CORRECTED_DATA* column and save the smoothed data in\n",
    "*DATA* of the output MS.\n",
    "\n",
    "The Hanning smoothing transformation in **mstransform** is available via\n",
    "a single parameter, as shown below:\n",
    "\n",
    "\\"
   ]
  },
  {
   "cell_type": "markdown",
   "metadata": {},
   "source": [
    "##  Hanning smooth in mstransform  \n",
    "hanning   = True        \\"
   ]
  },
  {
   "cell_type": "markdown",
   "metadata": {},
   "source": [
    "## Hanning smooth data to remove Gibbs ringing"
   ]
  }
 ],
 "metadata": {},
 "nbformat": 4,
 "nbformat_minor": 5
}
