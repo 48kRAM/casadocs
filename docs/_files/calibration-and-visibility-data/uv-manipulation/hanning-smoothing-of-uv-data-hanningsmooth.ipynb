{
 "cells": [
  {
   "cell_type": "markdown",
   "metadata": {},
   "source": [
    "# Hanning Smooth UV-data \n",
    "\n",
    "\n",
    "\n",
    "\n",
    "\n",
    "Highlights on Hanning smoothing of data using task hanningsmooth\n",
    "\n",
    "\n",
    "\n",
    "\n",
    "\n",
    "\n",
    "\n",
    "\n",
    "For strong spectral line sources (like RFI sources), the Gibbs phenomenon may cause ringing across the frequency channels of an observation. This is called the Gibbs phenomenon and a proven remedy is the Hanning smoothing algorithm. Hanning smoothing is a running mean across the spectral axis with a triangle as a smoothing kernel. The central channel is weighted by 0.5 and the two adjacent channels by 0.25 to preserve the flux; mathematically this is an N=5 sample Hann window kernel (including the outer-most zero-weight samples in the window). Hanning smoothing significantly reduces Gibbs ringing at the price of a factor of two in spectral resolution. Users should also be aware that it will introduce noise correlations between channels which can affect the interpretation of cross-channel chi-squared or uv-model fitting analyses.\n",
    "\n",
    "The new **hanningsmooth** task (based on **mstransform**) does not write to the input MS, but it always creates an output MS. It can also handle a Multi-MS and process it in parallel (see more information [here](https://casa.nrao.edu/casadocs-devel/stable/parallel-processing/testing-using-multi-ms)).\n",
    "\n",
    "In CASA, the **hanningsmooth** task will apply Hanning smoothing to a spectral line uv data MeasurementSet. The inputs are:\n",
    "\n",
    "```\n"
   ]
  },
  {
   "cell_type": "markdown",
   "metadata": {},
   "source": [
    "##  hanningsmooth :: Hanning smooth frequency channel data to remove Gibbs ringing\n",
    "vis                 =         ''        #  Name of input MeasurementSet or Multi-MS.\n",
    "outputvis           =         ''        #  Name of output MeasurementSet or Multi-MS.\n",
    "keepmms             =       True        #  If the input is a Multi-MS the output will also\n",
    "                                           be a Multi-MS.\n",
    "field               =         ''        #  Select field using ID(s) or name(s).\n",
    "spw                 =         ''        #  Select spectral window/channels.\n",
    "scan                =         ''        #  Select data by scan numbers.\n",
    "antenna             =         ''        #  Select data based on antenna/baseline.\n",
    "correlation         =         ''        #  Correlation: '' ==> all, correlation='XX,YY'.\n",
    "timerange           =         ''        #  Select data by time range.\n",
    "intent              =         ''        #  Select data by scan intent.\n",
    "array               =         ''        #  Select (sub)array(s) by array ID number.\n",
    "uvrange             =         ''        #  Select data by baseline length.\n",
    "observation         =         ''        #  Select by observation ID(s).\n",
    "feed                =         ''        #  Multi-feed numbers: Not yet implemented.\n",
    "datacolumn          =      'all'        #  Input data column(s) to process.\n",
    "```\n",
    "\n",
    "The *datacolumn* parameter determines which of the data columns is to be Hanning smoothed: 'all', 'model', 'corrected', 'data', 'float_data' or 'lag_data'. 'all' will use whichever of the visibility data columns that are present in the input MS. If 'corrected' is specified, the task will smooth the input *CORRECTED_DATA* column and save the smoothed data in *DATA* of the output MS.\n",
    "\n",
    "The Hanning smoothing transformation in **mstransform** is available via a single parameter, as shown below:\n",
    "\n",
    "```\n"
   ]
  },
  {
   "cell_type": "markdown",
   "metadata": {},
   "source": [
    "##  Hanning smooth in mstransform\n",
    "hanning   = True        # Hanning smooth data to remove Gibbs ringing\n",
    "\n",
    "```"
   ]
  }
 ],
 "metadata": {},
 "nbformat": 4,
 "nbformat_minor": 4
}
