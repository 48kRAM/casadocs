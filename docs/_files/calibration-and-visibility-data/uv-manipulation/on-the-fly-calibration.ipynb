{
 "cells": [
  {
   "cell_type": "markdown",
   "metadata": {},
   "source": [
    "# On-the-fly calibration\n",
    "\n",
    "Performing on-the-fly calibration using mstransform\n",
    "\n",
    "As of CASA 4.5 **mstransform** incorporates the possibility of applying\n",
    "on the-the-fly (OTF) calibration by specifying *docallib* = True, which\n",
    "in turn allows to specify the &ldquo;Cal Library&rdquo; filename\n",
    "(*callib* parameter).&nbsp;This transformation is the first one applied\n",
    "to the data, producing effectively a corrected data column on-the-fly,\n",
    "which can be further transformed. *callib* is the filename pointing to\n",
    "the calibration specification file. Details on how to specify the Cal\n",
    "Library file can be found on [this CASA Docs\n",
    "page](https://casa.nrao.edu/casadocs-devel/stable/calibration-and-visibility-data/cal-library-syntax),\n",
    "where conventions and current limitations are also described. The\n",
    "combination of OTF calibration and cal libraries enable complex\n",
    "calibrations to be applied, and for the calculation to proceed more\n",
    "quickly than they otherwise might.\n",
    "\n",
    "docallib = True&nbsp;&nbsp; \\"
   ]
  },
  {
   "cell_type": "markdown",
   "metadata": {},
   "source": [
    "## Enable OTF calibration\n",
    "\n",
    "callib&nbsp;&nbsp; = ''&nbsp;&nbsp;&nbsp;&nbsp; \\"
   ]
  },
  {
   "cell_type": "markdown",
   "metadata": {},
   "source": [
    "## Cal Library filename\n",
    "\n",
    "An example of a Cal Library file is given below.\n",
    "\n",
    "    caltable='ngc5921_regression/ngc5921.bcal' calwt=True tinterp='nearest' \n",
    "    caltable='ngc5921_regression/ngc5921.fluxscale' calwt=True tinterp='nearest' fldmap='nearest' \n",
    "    caltable='ngc5921_regression/ngc5921.gcal' calwt=True field='0' tinterp='nearest' fldmap=[0] \n",
    "    caltable='ngc5921_regression/ngc5921.gcal' calwt=True field='1,2' tinterp='linear' fldmap='1' \n",
    "\n",
    "See the full description of a Cal Library\n",
    "[here](https://casa.nrao.edu/casadocs-devel/stable/calibration-and-visibility-data/cal-library-syntax)."
   ]
  }
 ],
 "metadata": {},
 "nbformat": 4,
 "nbformat_minor": 5
}
