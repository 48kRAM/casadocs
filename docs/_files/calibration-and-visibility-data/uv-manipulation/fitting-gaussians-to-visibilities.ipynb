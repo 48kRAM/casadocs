{
 "cells": [
  {
   "cell_type": "markdown",
   "metadata": {},
   "source": [
    "# Fit Gaussians to Visibilities \n",
    "\n",
    "\n",
    "\n",
    "\n",
    "\n",
    "Using uvmodelfit\n",
    "\n",
    "\n",
    "\n",
    "\n",
    "\n",
    "\n",
    "\n",
    "\n",
    "### UV-Plane Model Fitting (**uvmodelfit**) {#sec291}\n",
    "\n",
    "It is often desirable to fit simple analytic source component models directly to visibility data. Such fitting has its origins in early interferometry, especially VLBI, where arrays consisted of only a few antennas and the calibration and deconvolution problems were poorly constrained. These methods overcame the calibration uncertainties by fitting the models to calibration-independent closure quantities and the deconvolution problem by drastically limiting the number of free parameters required to describe the visibilities. Today, even with larger and better calibrated arrays, it is still desirable to use visibility model fitting in order to extract geometric properties such as the positions and sizes of discrete components in radio sources. Fits for physically meaningful component shapes such as disks, rings, and optically-thin spheres, though idealized, enable connecting source geometry directly to the physics of the emission regions.\n",
    "\n",
    "Visibility model fitting is carried out by the **uvmodelfit** task. The inputs are:\n",
    "\n",
    "```\n"
   ]
  },
  {
   "cell_type": "markdown",
   "metadata": {},
   "source": [
    "## uvmodelfit :: Fit a single component source model to the uv data:\n",
    "vis        =   ''       # Name of input visibility file\n",
    "field      =   ''       # field name or index\n",
    "spw        =   ''       # spectral window\n",
    "selectdata =  False     # Activate data selection details\n",
    "niter      =    5       # Number of fitting iterations to execute\n",
    "comptype   =   'P'      # Component type (P=pt source,G=ell. gauss,D=ell. disk)\n",
    "sourcepar  =  [1, 0, 0] # Starting guess (flux,xoff,yoff,bmajaxrat,bpa)\n",
    "varypar    =   []       # Which parameters can vary in fit\n",
    "outfile    =   ''       # Optional output component list table\n",
    "```\n",
    "\n",
    "<div class=\"alert alert-warning\">\n",
    "**ALERT**: This task currently only fits a single component.  For multiple, arbitrary shaped component fitting, we refer to the [uvmultifit](https://launchpad.net/uvmultifit) [\\[1\\]](#Bibliography) software that was developed by the Nordic [ALMA Regional Center Node](https://www.oso.nordic-alma.se/software-tools.php).  \n",
    "</div>\n",
    "\n",
    "The user specifies the number of non-linear solution iterations (*niter*), the component type (*comptype*), an initial guess for the component parameters (*sourcepar*), and optionally, a vector of Booleans selecting which component parameters should be allowed to vary (*varypar*), and a filename in which to store a CASA component list for use in other applications (*outfile*). Allowed comptypes are currently point 'P' or Gaussian 'G'.\n",
    "\n",
    "The function returns a vector containing the resulting parameter list. This vector can be edited at the command line, and specified as input (*sourcepar*) for another round of fitting.\n",
    "\n",
    "The *sourcepar* parameter is currently the only way to specify the starting inputs for the fit. For points, there are three inputs: I (total flux density), and relative direction (RA, Dec) offsets (in arcsec) from the observation's phase center. For Gaussians, there are three additional inputs: the Gaussian's semi-major axis width (arcsec), the aspect ratio, and position angle (degrees). It should be understood that the quality of the result is very sensitive to the starting inputs provided by the user. If this first guess is not sufficiently close to the global χ2 minimum, the algorithm will happily converge to an incorrect local minimum. In fact, the χ2 surface, as a function of the component's relative direction inputs, has a shape very much like the inverse of the absolute value of the dirty image of the field. Any peak in this image (positive or negative) corresponds to a local χ2 minimum that could conceivable capture the fit. It is the user's responsibility to ensure that the correct minimum does the capturing.\n",
    "\n",
    "Currently, **uvmodelfit** relies on the likelihood that the source is very near the phase center (within a beamwidth) and/or the user's savvy in specifying the starting parameters. This fairly serious constraint will soon be relieved somewhat by enabling a rudimentary form of uv-plane weighting to increase the likelihood that the starting guess is on a slope in the correct χ2 valley.\n",
    "\n",
    "Improvements in the works for visibility model fitting include:\n",
    "\n",
    "-   User-specifiable uv-plane weighting\n",
    "-   Additional component shapes, including elliptical disks, rings, and optically thin spheroids.\n",
    "-   Optional calibration pre-application\n",
    "-   Multiple components. The handling of more than one component depends mostly on efficient means of managing the list itself (not easy in command line options), which are currently under development.\n",
    "-   Combined component and calibration fitting.\n",
    "\n",
    "Example (see Figure 1):\n",
    "\n",
    "```\n"
   ]
  },
  {
   "cell_type": "markdown",
   "metadata": {},
   "source": [
    "## # Note: It's best to channel average the data if many channels # before running a modelfit #\n",
    "split('ngc5921.ms','1445+099_avg.ms', datacolumn='corrected',field='1445*',width='63')\n",
    " \n",
    "\n"
   ]
  },
  {
   "cell_type": "markdown",
   "metadata": {},
   "source": [
    "## Initial guess is that it's close to the phase center\n"
   ]
  },
  {
   "cell_type": "markdown",
   "metadata": {},
   "source": [
    "## and has a flux of 2.0 (a priori we know it's 2.47)\n",
    "uvmodelfit('1445+099_avg.ms', # use averaged data\n",
    "           niter=5, # Do 5 iterations\n",
    "           comptype='P', # P=Point source, G=Gaussian, D=Disk\n",
    "           sourcepar=[2.0,.1,.1], # Source parameters for a point source\n",
    "           spw='0',  \n",
    "           outfile='gcal.cl') # Output component list file\n",
    "```\n",
    "\n",
    "```python\n"
   ]
  },
  {
   "cell_type": "markdown",
   "metadata": {},
   "source": [
    "## Output looks like:\n",
    " There are 19656 - 3 = 19653 degrees of freedom.\n",
    "  iter=0: reduced chi2=0.0418509: I=2, dir=[0.1, 0.1] arcsec\n",
    "  iter=1: reduced chi2=0.003382: I=2.48562, dir=[-0.020069, -0.0268826] arcsec\n",
    "  iter=2: reduced chi2=0.00338012: I=2.48614, dir=[0.00323428, -0.00232235] arcsec\n",
    "  iter=3: reduced chi2=0.00338012: I=2.48614, dir=[0.00325324, -0.00228963] arcsec\n",
    "  iter=4: reduced chi2=0.00338012: I=2.48614, dir=[0.00325324, -0.00228963] arcsec\n",
    "  iter=5: reduced chi2=0.00338012: I=2.48614, dir=[0.00325324, -0.00228963] arcsec\n",
    " If data weights are arbitrarily scaled, the following formal errors\n",
    "  will be underestimated by at least a factor sqrt(reduced chi2). If\n",
    "  the fit is systematically poor, the errors are much worse.\n",
    " I = 2.48614 +/- 0.0176859\n",
    " x = 0.00325324 +/- 0.163019 arcsec\n",
    " y = -0.00228963 +/- 0.174458 arcsec\n",
    " Writing componentlist to file: /home/sandrock/smyers/Testing/Patch2/N5921/gcal.cl\n",
    "```\n",
    "\n",
    "```\n"
   ]
  },
  {
   "cell_type": "markdown",
   "metadata": {},
   "source": [
    "## Fourier transform the component list to a model of the MS\n",
    "ft('1445+099_avg.ms', complist='gcal.cl')\n",
    "\n"
   ]
  },
  {
   "cell_type": "markdown",
   "metadata": {},
   "source": [
    "## Plot data versus uv-distance\n",
    "plotms(vis='1445+099_avg.ms', xaxis='uvdist', datacolumn='corrected')\n",
    "\n"
   ]
  },
  {
   "cell_type": "markdown",
   "metadata": {},
   "source": [
    "## Plot model data versus uv-distance\n",
    "plotms(vis='1445+099_avg.ms', xaxis='uvdist', datacolumn='model')\n",
    "```\n",
    "\n",
    " \n",
    "\n",
    "<div class=\"alert alert-info\">\n",
    "The Nordic ALMA ARC node maintains the [UVMULTIFIT](http://www.oso.nordic-alma.se/software-tools.php) package that is based on CASA and which provides  addition, powerful tools for visibility modelling. See the [Nordic ARC software page](http://www.oso.nordic-alma.se/software-tools.php) and Marti-Vidal et al. (2014)  [\\[1\\]](#Bibliography) for details.\n",
    "\n",
    "\n",
    "</div>\n",
    "\n",
    " \n",
    "\n",
    "> <div>\n",
    ">\n",
    "> ------------------------------------------------------------------------\n",
    ">\n",
    "> </div>\n",
    ">\n",
    "> <div>\n",
    ">\n",
    "> ![](docs/_files/calibration-and-visibility-data/uv-manipulation/443dad9cdcbb6b7f6ba2b778b0137baca052e3a2.png)\n",
    ">\n",
    "> <div>\n",
    ">\n",
    ">  \n",
    ">\n",
    "> </div>\n",
    ">\n",
    "> <div>\n",
    ">\n",
    ">   ------------------------------------------------------------------------------------------------------------------------------------------------------------------------------------------------------------ --------\n",
    ">   Type                                                                                                                                                                                                         Figure\n",
    ">   ID                                                                                                                                                                                                           1\n",
    ">   Plot visualizing the corrected data (red and blue points) and the uv model fit (green circles). This particular plot was made using **plotxy**, which was deprecated in CASA 5.1 - use **plotms** instead.   \n",
    ">   ------------------------------------------------------------------------------------------------------------------------------------------------------------------------------------------------------------ --------\n",
    ">\n",
    ">  \n",
    ">\n",
    ">\n",
    ">\n",
    "> </div>\n",
    ">\n",
    "> </div>\n",
    "\n",
    "\n",
    "\n",
    "\n"
   ]
  },
  {
   "cell_type": "markdown",
   "metadata": {},
   "source": [
    "## Bibliography\n",
    "\n",
    "1. Marti-Vidal,\\ I.,\\ Vlemmings,\\ W.\\~H.\\~T.,\\ Muller,\\ S.,\\ &\\ Casey,\\ S.\\ 2014,\\ A&A,\\ 563,\\ A136\\ (\n",
    "1. Marti-Vidal\\ et\\ al.\\ 2014,\\ A&A\\ 563,\\ 136\\ (\n",
    "^"
   ]
  }
 ],
 "metadata": {},
 "nbformat": 4,
 "nbformat_minor": 4
}
