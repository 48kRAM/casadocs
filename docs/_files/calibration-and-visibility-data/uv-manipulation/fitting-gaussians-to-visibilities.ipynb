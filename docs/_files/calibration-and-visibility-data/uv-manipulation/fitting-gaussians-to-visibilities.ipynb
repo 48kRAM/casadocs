{
 "cells": [
  {
   "cell_type": "markdown",
   "metadata": {},
   "source": [
    "# Fit Gaussians to Visibilities\n",
    "\n",
    "Using uvmodelfit\n",
    "\n"
   ]
  },
  {
   "cell_type": "markdown",
   "metadata": {},
   "source": [
    "#### UV-Plane Model Fitting (**uvmodelfit**)\n",
    "\n",
    "It is often desirable to fit simple analytic source component models\n",
    "directly to visibility data. Such fitting has its origins in early\n",
    "interferometry, especially VLBI, where arrays consisted of only a few\n",
    "antennas and the calibration and deconvolution problems were poorly\n",
    "constrained. These methods overcame the calibration uncertainties by\n",
    "fitting the models to calibration-independent closure quantities and the\n",
    "deconvolution problem by drastically limiting the number of free\n",
    "parameters required to describe the visibilities. Today, even with\n",
    "larger and better calibrated arrays, it is still desirable to use\n",
    "visibility model fitting in order to extract geometric properties such\n",
    "as the positions and sizes of discrete components in radio sources. Fits\n",
    "for physically meaningful component shapes such as disks, rings, and\n",
    "optically-thin spheres, though idealized, enable connecting source\n",
    "geometry directly to the physics of the emission regions.\n",
    "\n",
    "Visibility model fitting is carried out by the **uvmodelfit** task. The\n",
    "inputs are:\n",
    "\n",
    "\\"
   ]
  },
  {
   "cell_type": "markdown",
   "metadata": {},
   "source": [
    "## uvmodelfit :: Fit a single component source model to the uv data:  \n",
    "vis&nbsp;&nbsp;&nbsp;&nbsp;&nbsp;&nbsp;&nbsp; =&nbsp;&nbsp;\n",
    "''&nbsp;&nbsp;&nbsp;&nbsp;&nbsp;&nbsp; \\"
   ]
  },
  {
   "cell_type": "markdown",
   "metadata": {},
   "source": [
    "## Name of input visibility\n",
    "file  \n",
    "field&nbsp;&nbsp;&nbsp;&nbsp;&nbsp; =&nbsp;&nbsp;\n",
    "''&nbsp;&nbsp;&nbsp;&nbsp;&nbsp;&nbsp; \\"
   ]
  },
  {
   "cell_type": "markdown",
   "metadata": {},
   "source": [
    "## field name or index  \n",
    "spw&nbsp;&nbsp;&nbsp;&nbsp;&nbsp;&nbsp;&nbsp; =&nbsp;&nbsp;\n",
    "''&nbsp;&nbsp;&nbsp;&nbsp;&nbsp;&nbsp; \\"
   ]
  },
  {
   "cell_type": "markdown",
   "metadata": {},
   "source": [
    "## spectral window  \n",
    "selectdata =&nbsp; False&nbsp;&nbsp;&nbsp;&nbsp; \\"
   ]
  },
  {
   "cell_type": "markdown",
   "metadata": {},
   "source": [
    "## Activate data\n",
    "selection details  \n",
    "niter&nbsp;&nbsp;&nbsp;&nbsp;&nbsp; =&nbsp;&nbsp;&nbsp;\n",
    "5&nbsp;&nbsp;&nbsp;&nbsp;&nbsp;&nbsp; \\"
   ]
  },
  {
   "cell_type": "markdown",
   "metadata": {},
   "source": [
    "## Number of fitting iterations to\n",
    "execute  \n",
    "comptype&nbsp;&nbsp; =&nbsp;&nbsp; 'P'&nbsp;&nbsp;&nbsp;&nbsp;&nbsp; \\"
   ]
  },
  {
   "cell_type": "markdown",
   "metadata": {},
   "source": [
    "##\n",
    "Component type (P=pt source,G=ell. gauss,D=ell. disk)  \n",
    "sourcepar&nbsp; =&nbsp; \\[1, 0, 0\\] \\"
   ]
  },
  {
   "cell_type": "markdown",
   "metadata": {},
   "source": [
    "## Starting guess\n",
    "(flux,xoff,yoff,bmajaxrat,bpa)  \n",
    "varypar&nbsp;&nbsp;&nbsp; =&nbsp;&nbsp;\n",
    "\\[\\]&nbsp;&nbsp;&nbsp;&nbsp;&nbsp;&nbsp; \\"
   ]
  },
  {
   "cell_type": "markdown",
   "metadata": {},
   "source": [
    "## Which parameters can vary in\n",
    "fit  \n",
    "outfile&nbsp;&nbsp;&nbsp; =&nbsp;&nbsp;\n",
    "''&nbsp;&nbsp;&nbsp;&nbsp;&nbsp;&nbsp; \\"
   ]
  },
  {
   "cell_type": "markdown",
   "metadata": {},
   "source": [
    "## Optional output component list\n",
    "table\n",
    "\n",
    "**ALERT**: This task currently only fits a single component.&nbsp; For\n",
    "multiple, arbitrary shaped component fitting, we refer to the\n",
    "[uvmultifit](https://launchpad.net/uvmultifit)\n",
    "<a href=\"#cit1\" id=\"ref-cit1\" class=\"ref-cit\">[1]</a> software that was\n",
    "developed by the Nordic [ALMA Regional Center\n",
    "Node](https://www.oso.nordic-alma.se/software-tools.php).&nbsp;&nbsp;\n",
    "\n",
    "The user specifies the number of non-linear solution iterations\n",
    "(*niter*), the component type (*comptype*), an initial guess for the\n",
    "component parameters (*sourcepar*), and optionally, a vector of Booleans\n",
    "selecting which component parameters should be allowed to vary\n",
    "(*varypar*), and a filename in which to store a CASA component list for\n",
    "use in other applications (*outfile*). Allowed comptypes are currently\n",
    "point &rsquo;P&rsquo; or Gaussian &rsquo;G&rsquo;.\n",
    "\n",
    "The function returns a vector containing the resulting parameter list.\n",
    "This vector can be edited at the command line, and specified as input\n",
    "(*sourcepar*) for another round of fitting.\n",
    "\n",
    "The *sourcepar* parameter is currently the only way to specify the\n",
    "starting inputs for the fit. For points, there are three inputs: I\n",
    "(total flux density), and relative direction (RA, Dec) offsets (in\n",
    "arcsec) from the observation&rsquo;s phase center. For Gaussians, there\n",
    "are three additional inputs: the Gaussian&rsquo;s semi-major axis width\n",
    "(arcsec), the aspect ratio, and position angle (degrees). It should be\n",
    "understood that the quality of the result is very sensitive to the\n",
    "starting inputs provided by the user. If this first guess is not\n",
    "sufficiently close to the global &chi;2 minimum, the algorithm will\n",
    "happily converge to an incorrect local minimum. In fact, the &chi;2\n",
    "surface, as a function of the component&rsquo;s relative direction\n",
    "inputs, has a shape very much like the inverse of the absolute value of\n",
    "the dirty image of the field. Any peak in this image (positive or\n",
    "negative) corresponds to a local &chi;2 minimum that could conceivable\n",
    "capture the fit. It is the user&rsquo;s responsibility to ensure that\n",
    "the correct minimum does the capturing.\n",
    "\n",
    "Currently, **uvmodelfit** relies on the likelihood that the source is\n",
    "very near the phase center (within a beamwidth) and/or the user&rsquo;s\n",
    "savvy in specifying the starting parameters. This fairly serious\n",
    "constraint will soon be relieved somewhat by enabling a rudimentary form\n",
    "of uv-plane weighting to increase the likelihood that the starting guess\n",
    "is on a slope in the correct &chi;2 valley.\n",
    "\n",
    "Improvements in the works for visibility model fitting include:\n",
    "\n",
    "-   User-specifiable uv-plane weighting\n",
    "-   Additional component shapes, including elliptical disks, rings, and\n",
    "    optically thin spheroids.\n",
    "-   Optional calibration pre-application\n",
    "-   Multiple components. The handling of more than one component depends\n",
    "    mostly on efficient means of managing the list itself (not easy in\n",
    "    command line options), which are currently under development.\n",
    "-   Combined component and calibration fitting.\n",
    "\n",
    "Example (see Figure 1):\n",
    "\n",
    "\\"
   ]
  },
  {
   "cell_type": "markdown",
   "metadata": {},
   "source": [
    "## \\"
   ]
  },
  {
   "cell_type": "markdown",
   "metadata": {},
   "source": [
    "## Note: It's best to channel average the data if many channels \\"
   ]
  },
  {
   "cell_type": "markdown",
   "metadata": {},
   "source": [
    "##\n",
    "before running a modelfit \\"
   ]
  },
  {
   "cell_type": "markdown",
   "metadata": {},
   "source": [
    "##  \n",
    "split('ngc5921.ms','1445+099_avg.ms',\n",
    "datacolumn='corrected',field='1445\\*',width='63')  \n",
    "&nbsp;\n",
    "\n",
    "\\"
   ]
  },
  {
   "cell_type": "markdown",
   "metadata": {},
   "source": [
    "## Initial guess is that it's close to the phase center  \n",
    "\\"
   ]
  },
  {
   "cell_type": "markdown",
   "metadata": {},
   "source": [
    "## and has a flux of 2.0 (a priori we know it's 2.47)  \n",
    "uvmodelfit('1445+099_avg.ms', \\"
   ]
  },
  {
   "cell_type": "markdown",
   "metadata": {},
   "source": [
    "## use averaged data  \n",
    "&nbsp;&nbsp;&nbsp;&nbsp;&nbsp;&nbsp;&nbsp;&nbsp;&nbsp;&nbsp; niter=5, \\"
   ]
  },
  {
   "cell_type": "markdown",
   "metadata": {},
   "source": [
    "##\n",
    "Do 5 iterations  \n",
    "&nbsp;&nbsp;&nbsp;&nbsp;&nbsp;&nbsp;&nbsp;&nbsp;&nbsp;&nbsp;\n",
    "comptype='P', \\"
   ]
  },
  {
   "cell_type": "markdown",
   "metadata": {},
   "source": [
    "## P=Point source, G=Gaussian, D=Disk  \n",
    "&nbsp;&nbsp;&nbsp;&nbsp;&nbsp;&nbsp;&nbsp;&nbsp;&nbsp;&nbsp;\n",
    "sourcepar=\\[2.0,.1,.1\\], \\"
   ]
  },
  {
   "cell_type": "markdown",
   "metadata": {},
   "source": [
    "## Source parameters for a point source  \n",
    "&nbsp;&nbsp;&nbsp;&nbsp;&nbsp;&nbsp;&nbsp;&nbsp;&nbsp;&nbsp; spw='0',\n",
    "&nbsp;  \n",
    "&nbsp;&nbsp;&nbsp;&nbsp;&nbsp;&nbsp;&nbsp;&nbsp;&nbsp;&nbsp;\n",
    "outfile='gcal.cl') \\"
   ]
  },
  {
   "cell_type": "markdown",
   "metadata": {},
   "source": [
    "## Output component list file\n",
    "\n",
    "\\"
   ]
  },
  {
   "cell_type": "markdown",
   "metadata": {},
   "source": [
    "## Output looks like:  \n",
    "&nbsp;There are 19656 - 3 = 19653 degrees of freedom.  \n",
    "&nbsp; iter=0: reduced chi2=0.0418509: I=2, dir=\\[0.1, 0.1\\] arcsec  \n",
    "&nbsp; iter=1: reduced chi2=0.003382: I=2.48562, dir=\\[-0.020069,\n",
    "-0.0268826\\] arcsec  \n",
    "&nbsp; iter=2: reduced chi2=0.00338012: I=2.48614, dir=\\[0.00323428,\n",
    "-0.00232235\\] arcsec  \n",
    "&nbsp; iter=3: reduced chi2=0.00338012: I=2.48614, dir=\\[0.00325324,\n",
    "-0.00228963\\] arcsec  \n",
    "&nbsp; iter=4: reduced chi2=0.00338012: I=2.48614, dir=\\[0.00325324,\n",
    "-0.00228963\\] arcsec  \n",
    "&nbsp; iter=5: reduced chi2=0.00338012: I=2.48614, dir=\\[0.00325324,\n",
    "-0.00228963\\] arcsec  \n",
    "&nbsp;If data weights are arbitrarily scaled, the following formal\n",
    "errors  \n",
    "&nbsp; will be underestimated by at least a factor sqrt(reduced chi2).\n",
    "If  \n",
    "&nbsp; the fit is systematically poor, the errors are much worse.  \n",
    "&nbsp;I = 2.48614 +/- 0.0176859  \n",
    "&nbsp;x = 0.00325324 +/- 0.163019 arcsec  \n",
    "&nbsp;y = -0.00228963 +/- 0.174458 arcsec  \n",
    "&nbsp;Writing componentlist to file:\n",
    "/home/sandrock/smyers/Testing/Patch2/N5921/gcal.cl\n",
    "\n",
    "\\"
   ]
  },
  {
   "cell_type": "markdown",
   "metadata": {},
   "source": [
    "## Fourier transform the component list to a model of the MS  \n",
    "ft('1445+099_avg.ms', complist='gcal.cl')  \n",
    "  \n",
    "\\"
   ]
  },
  {
   "cell_type": "markdown",
   "metadata": {},
   "source": [
    "## Plot data versus uv-distance  \n",
    "plotms(vis='1445+099_avg.ms', xaxis='uvdist', datacolumn='corrected')  \n",
    "  \n",
    "\\"
   ]
  },
  {
   "cell_type": "markdown",
   "metadata": {},
   "source": [
    "## Plot model data versus uv-distance  \n",
    "plotms(vis='1445+099_avg.ms', xaxis='uvdist', datacolumn='model')\n",
    "\n",
    "&nbsp;\n",
    "\n",
    "The Nordic ALMA ARC node maintains the\n",
    "[UVMULTIFIT](http://www.oso.nordic-alma.se/software-tools.php) package\n",
    "that is based on CASA and which provides&nbsp; addition, powerful tools\n",
    "for visibility modelling. See the [Nordic ARC software\n",
    "page](http://www.oso.nordic-alma.se/software-tools.php) and Marti-Vidal\n",
    "et al. (2014)&nbsp;\n",
    "<a href=\"#cit1\" id=\"ref-cit1\" class=\"ref-cit\">[1]</a> for details.\n",
    "\n",
    "|                 |                                                                                                                                                   |\n",
    "|:----------------|---------------------------------------------------------------------------------------------------------------------------------------------------|\n",
    "| Citation Number | 1                                                                                                                                                 |\n",
    "| Citation Text   | Marti-Vidal, I., Vlemmings, W.\\~H.\\~T., Muller, S., & Casey, S. 2014, A&A, 563, A136 ([ADS](http://adsabs.harvard.edu/abs/2014A%26A...563A.136M)) |\n",
    "\n",
    "&nbsp;\n",
    "\n",
    "> ------------------------------------------------------------------------\n",
    ">\n",
    "> ![](443dad9cdcbb6b7f6ba2b778b0137baca052e3a2.png)\n",
    ">\n",
    "> &nbsp;\n",
    ">\n",
    "> |                                                                                                                                                                                                            |        |\n",
    "> |:-----------------------------------------------------------------------------------------------------------------------------------------------------------------------------------------------------------|--------|\n",
    "> | Type                                                                                                                                                                                                       | Figure |\n",
    "> | ID                                                                                                                                                                                                         | 1      |\n",
    "> | Plot visualizing the corrected data (red and blue points) and the uv model fit (green circles). This particular plot was made using **plotxy**, which was deprecated in CASA 5.1 - use **plotms** instead. |        |\n",
    ">\n",
    "> &nbsp;\n",
    ">\n",
    "> |                 |                                                                                           |\n",
    "> |:----------------|-------------------------------------------------------------------------------------------|\n",
    "> | Citation Number | 1                                                                                         |\n",
    "> | Citation Text   | Marti-Vidal et al. 2014, A&A 563, 136 ([arXiv:1401.4984](http://arxiv.org/abs/1401.4984)) |\n",
    "\n",
    "Bibliography\n",
    "\n",
    "  \n",
    "<sup>1.\\ Marti-Vidal,\\ I.,\\ Vlemmings,\\ W.\\~H.\\~T.,\\ Muller,\\ S.,\\ &\\ Casey,\\ S.\\ 2014,\\ A&A,\\ 563,\\ A136\\ ([ADS](http://adsabs.harvard.edu/abs/2014A%26A...563A.136M))\\ [&larrhk;](#ref-cit1 \"Jump back to citation 1 in the text.\")</sup>\n",
    "\n",
    "  \n",
    "<sup>1.\\ Marti-Vidal\\ et\\ al.\\ 2014,\\ A&A\\ 563,\\ 136\\ ([arXiv:1401.4984](http://arxiv.org/abs/1401.4984))\\ [&larrhk;](#ref-cit1 \"Jump back to citation 1 in the text.\")</sup>"
   ]
  }
 ],
 "metadata": {},
 "nbformat": 4,
 "nbformat_minor": 5
}
