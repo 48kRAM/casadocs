{
 "cells": [
  {
   "cell_type": "markdown",
   "metadata": {},
   "source": [
    "# Split UV-data\n",
    "\n",
    "Breaking out a subset of visibility data using split and mstransform\n",
    "\n",
    "The **split** task selects a subset of data from a MeasurementSet and\n",
    "creates a new MS with only those selected data. &nbsp;All of the usual\n",
    "selection criteria can be applied (field, spectral window, antenna, time\n",
    "range, etc.). Additionally the user can choose to select only a single\n",
    "column of data (typically CORRECTED); the user may also elect to export\n",
    "all data columns (DATA, MODEL, CORRECTED, FLOAT_DATA). If only a single\n",
    "column is selected, it will&nbsp; appear as the DATA column in the\n",
    "output MS, unless the input *datacolumn* is set to FLOAT_DATA. In this\n",
    "case the output column will also be FLOAT_DATA. This suite of\n",
    "capabilities is of great utility for creating smaller MeasurementSets\n",
    "for imaging and further analysis. It is also helpful&nbsp;in many\n",
    "circumstances to facilitate self-calibration, since the&nbsp;**gaincal**\n",
    "task operates from the DATA column.&nbsp;\n",
    "\n",
    "&nbsp;The top-level inputs of **split**&nbsp;are:\n",
    "\n",
    "CASA \\<1\\>: inp split  \n",
    "split :: Create a visibility subset from an existing visibility set  \n",
    "  \n",
    "vis&nbsp;&nbsp;&nbsp;&nbsp;&nbsp;&nbsp;&nbsp;&nbsp;&nbsp;&nbsp;\n",
    "=&nbsp;&nbsp;&nbsp;&nbsp;\n",
    "''&nbsp;&nbsp;&nbsp;&nbsp;&nbsp;&nbsp;&nbsp;&nbsp;&nbsp;&nbsp;&nbsp; \\"
   ]
  },
  {
   "cell_type": "markdown",
   "metadata": {},
   "source": [
    "##\n",
    "Name of input MeasurementSet or Multi-MS  \n",
    "outputvis&nbsp;&nbsp;&nbsp;&nbsp; =&nbsp;&nbsp;&nbsp;&nbsp;\n",
    "''&nbsp;&nbsp;&nbsp;&nbsp;&nbsp;&nbsp;&nbsp;&nbsp;&nbsp;&nbsp;&nbsp; \\"
   ]
  },
  {
   "cell_type": "markdown",
   "metadata": {},
   "source": [
    "##\n",
    "Name of output MeasurementSet or Multi-MS  \n",
    "keepmms&nbsp;&nbsp;&nbsp;&nbsp;&nbsp;&nbsp; =&nbsp;&nbsp;&nbsp;&nbsp;\n",
    "True&nbsp;&nbsp;&nbsp;&nbsp;&nbsp;&nbsp;&nbsp;&nbsp;&nbsp; \\"
   ]
  },
  {
   "cell_type": "markdown",
   "metadata": {},
   "source": [
    "## If the\n",
    "input is a Multi-MS the output will also be a Multi-MS  \n",
    "field&nbsp;&nbsp;&nbsp;&nbsp;&nbsp;&nbsp;&nbsp;&nbsp;\n",
    "=&nbsp;&nbsp;&nbsp;&nbsp;\n",
    "''&nbsp;&nbsp;&nbsp;&nbsp;&nbsp;&nbsp;&nbsp;&nbsp;&nbsp;&nbsp;&nbsp; \\"
   ]
  },
  {
   "cell_type": "markdown",
   "metadata": {},
   "source": [
    "##\n",
    "Select field using ID(s) or name(s)  \n",
    "spw&nbsp;&nbsp;&nbsp;&nbsp;&nbsp;&nbsp;&nbsp;&nbsp;&nbsp;&nbsp;\n",
    "=&nbsp;&nbsp;&nbsp;&nbsp;\n",
    "''&nbsp;&nbsp;&nbsp;&nbsp;&nbsp;&nbsp;&nbsp;&nbsp;&nbsp;&nbsp;&nbsp; \\"
   ]
  },
  {
   "cell_type": "markdown",
   "metadata": {},
   "source": [
    "##\n",
    "Select spectral window/channels  \n",
    "scan&nbsp;&nbsp;&nbsp;&nbsp;&nbsp;&nbsp;&nbsp;&nbsp;&nbsp;\n",
    "=&nbsp;&nbsp;&nbsp;&nbsp;\n",
    "''&nbsp;&nbsp;&nbsp;&nbsp;&nbsp;&nbsp;&nbsp;&nbsp;&nbsp;&nbsp;&nbsp; \\"
   ]
  },
  {
   "cell_type": "markdown",
   "metadata": {},
   "source": [
    "##\n",
    "Select data by scan numbers  \n",
    "antenna&nbsp;&nbsp;&nbsp;&nbsp;&nbsp;&nbsp; =&nbsp;&nbsp;&nbsp;&nbsp;\n",
    "''&nbsp;&nbsp;&nbsp;&nbsp;&nbsp;&nbsp;&nbsp;&nbsp;&nbsp;&nbsp;&nbsp; \\"
   ]
  },
  {
   "cell_type": "markdown",
   "metadata": {},
   "source": [
    "##\n",
    "Select data based on antenna/baseline  \n",
    "correlation&nbsp;&nbsp; =&nbsp;&nbsp;&nbsp;&nbsp;\n",
    "''&nbsp;&nbsp;&nbsp;&nbsp;&nbsp;&nbsp;&nbsp;&nbsp;&nbsp;&nbsp;&nbsp; \\"
   ]
  },
  {
   "cell_type": "markdown",
   "metadata": {},
   "source": [
    "##\n",
    "Correlation: '' ==\\> all, correlation='XX,YY'  \n",
    "timerange&nbsp;&nbsp;&nbsp;&nbsp; =&nbsp;&nbsp;&nbsp;&nbsp;\n",
    "''&nbsp;&nbsp;&nbsp;&nbsp;&nbsp;&nbsp;&nbsp;&nbsp;&nbsp;&nbsp;&nbsp; \\"
   ]
  },
  {
   "cell_type": "markdown",
   "metadata": {},
   "source": [
    "##\n",
    "Select data by time range  \n",
    "intent&nbsp;&nbsp;&nbsp;&nbsp;&nbsp;&nbsp;&nbsp;\n",
    "=&nbsp;&nbsp;&nbsp;&nbsp;\n",
    "''&nbsp;&nbsp;&nbsp;&nbsp;&nbsp;&nbsp;&nbsp;&nbsp;&nbsp;&nbsp;&nbsp; \\"
   ]
  },
  {
   "cell_type": "markdown",
   "metadata": {},
   "source": [
    "##\n",
    "Select data by scan intent.  \n",
    "array&nbsp;&nbsp;&nbsp;&nbsp;&nbsp;&nbsp;&nbsp;&nbsp;\n",
    "=&nbsp;&nbsp;&nbsp;&nbsp;\n",
    "''&nbsp;&nbsp;&nbsp;&nbsp;&nbsp;&nbsp;&nbsp;&nbsp;&nbsp;&nbsp;&nbsp; \\"
   ]
  },
  {
   "cell_type": "markdown",
   "metadata": {},
   "source": [
    "##\n",
    "Select (sub)array by array ID number(s)  \n",
    "uvrange&nbsp;&nbsp;&nbsp;&nbsp;&nbsp;&nbsp; =&nbsp;&nbsp;&nbsp;&nbsp;\n",
    "''&nbsp;&nbsp;&nbsp;&nbsp;&nbsp;&nbsp;&nbsp;&nbsp;&nbsp;&nbsp;&nbsp; \\"
   ]
  },
  {
   "cell_type": "markdown",
   "metadata": {},
   "source": [
    "##\n",
    "Select data bt baseline length  \n",
    "observation&nbsp;&nbsp; =&nbsp;&nbsp;&nbsp;&nbsp;\n",
    "''&nbsp;&nbsp;&nbsp;&nbsp;&nbsp;&nbsp;&nbsp;&nbsp;&nbsp;&nbsp;&nbsp; \\"
   ]
  },
  {
   "cell_type": "markdown",
   "metadata": {},
   "source": [
    "##\n",
    "Select data by observation ID(s).  \n",
    "feed&nbsp;&nbsp;&nbsp;&nbsp;&nbsp;&nbsp;&nbsp;&nbsp;&nbsp;\n",
    "=&nbsp;&nbsp;&nbsp;&nbsp;\n",
    "''&nbsp;&nbsp;&nbsp;&nbsp;&nbsp;&nbsp;&nbsp;&nbsp;&nbsp;&nbsp;&nbsp; \\"
   ]
  },
  {
   "cell_type": "markdown",
   "metadata": {},
   "source": [
    "##\n",
    "Multi-feed numbers: Not yet implemented.  \n",
    "datacolumn&nbsp;&nbsp;&nbsp; =&nbsp;&nbsp;&nbsp;&nbsp;\n",
    "'corrected'&nbsp;&nbsp; \\"
   ]
  },
  {
   "cell_type": "markdown",
   "metadata": {},
   "source": [
    "## Which data column(s) to process  \n",
    "keepflags&nbsp;&nbsp;&nbsp;&nbsp; =&nbsp;&nbsp;&nbsp;&nbsp;\n",
    "True&nbsp;&nbsp;&nbsp;&nbsp;&nbsp;&nbsp;&nbsp;&nbsp;&nbsp; \\"
   ]
  },
  {
   "cell_type": "markdown",
   "metadata": {},
   "source": [
    "## Keep\n",
    "\\*completely flagged rows\\* instead of dropping them  \n",
    "width&nbsp;&nbsp;&nbsp;&nbsp;&nbsp;&nbsp;&nbsp;&nbsp;\n",
    "=&nbsp;&nbsp;&nbsp;&nbsp;\n",
    "1&nbsp;&nbsp;&nbsp;&nbsp;&nbsp;&nbsp;&nbsp;&nbsp;&nbsp;&nbsp;&nbsp;&nbsp;\n",
    "\\"
   ]
  },
  {
   "cell_type": "markdown",
   "metadata": {},
   "source": [
    "## Number of channels to average to form one output channel  \n",
    "timebin&nbsp;&nbsp;&nbsp;&nbsp;&nbsp;&nbsp; =&nbsp;&nbsp;&nbsp;&nbsp;\n",
    "'0s'&nbsp;&nbsp;&nbsp;&nbsp;&nbsp;&nbsp;&nbsp;&nbsp;&nbsp; \\"
   ]
  },
  {
   "cell_type": "markdown",
   "metadata": {},
   "source": [
    "## Bin width\n",
    "for time averaging\n",
    "\n",
    "Usually you will run **split** with *datacolumn=&rsquo;corrected&rsquo;*\n",
    "as previous operations (e.g. **applycal**) will have placed the\n",
    "calibrated data in the *CORRECTED_DATA* column of the MS. This will\n",
    "produce a new MS with this *CORRECTED_DATA* in its *DATA* column. The\n",
    "modes available in *datacolumn* are:\n",
    "\n",
    "corrected  \n",
    "data  \n",
    "model  \n",
    "data,model,corrected  \n",
    "float_data  \n",
    "lag_data  \n",
    "float_data,data  \n",
    "lag_data,data  \n",
    "all  \n",
    "\\#float_data is used for single dish processing\n",
    "\n",
    "For example, to split out 46 channels (5-50) from spw 1 of our NGC5921\n",
    "calibrated dataset:\n",
    "\n",
    "split(vis='ngc5921.usecase.ms',  \n",
    "outputvis='ngc5921.split.ms',  \n",
    "field='2', \\"
   ]
  },
  {
   "cell_type": "markdown",
   "metadata": {},
   "source": [
    "## Output NGC5921 data (field 2)  \n",
    "spw='0:5\\~50', \\"
   ]
  },
  {
   "cell_type": "markdown",
   "metadata": {},
   "source": [
    "## Select 46 chans from spw 0  \n",
    "datacolumn='corrected') \\"
   ]
  },
  {
   "cell_type": "markdown",
   "metadata": {},
   "source": [
    "## Take the calibrated data column\n",
    "\n",
    "Starting in CASA 4.6.0, **split2** has been renamed to **split** and\n",
    "became the default in CASA. The previous implementation of **split** is\n",
    "still available under the name **oldsplit**. The interface of both\n",
    "implementations is the same, but the new **split** uses the MSTransform\n",
    "framework underneath. See the \"[Manipulating Visibilities with\n",
    "MSTransform](https://casa.nrao.edu/casadocs-devel/stable/calibration-and-visibility-data/uv-manipulation/manipulating-visibilities-with-mstransform)\"\n",
    "chapter for detailed information on mstransform.\n",
    "\n",
    "&nbsp;\n",
    "\n",
    "  \n",
    "&nbsp;"
   ]
  }
 ],
 "metadata": {},
 "nbformat": 4,
 "nbformat_minor": 5
}
