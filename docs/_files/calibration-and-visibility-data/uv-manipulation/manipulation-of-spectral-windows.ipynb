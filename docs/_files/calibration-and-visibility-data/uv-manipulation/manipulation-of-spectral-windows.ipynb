{
 "cells": [
  {
   "cell_type": "markdown",
   "metadata": {},
   "source": [
    "# Manipulate spectral windows\n",
    "\n",
    "How to combine, separate, and Hanning smooth spectral windows in\n",
    "mstransform\n",
    "\n"
   ]
  },
  {
   "cell_type": "markdown",
   "metadata": {},
   "source": [
    "### Combination of spectral windows\n",
    "\n",
    "Both **mstransform** and **cvel2** are able to combine SPWs (in\n",
    "**mstransform** by specifying *combinespws = True* and in **cvel2** by\n",
    "default). The algorithm is in general the same as the old **cvel**,\n",
    "however, there are two significant differences in the new framework:\n",
    "\n",
    "-   **mstransform** is able to only combine SPWs, only regrid each SPW\n",
    "    separately or to combine all SPWs and **regrid** them together. The\n",
    "    details about independent regridding operations are explained in the\n",
    "    following sections. For instance, if you wish to do channel\n",
    "    averaging while regridding in **mstransform**, please see the\n",
    "    [section on channel\n",
    "    averaging](https://casa.nrao.edu/casadocs-devel/stable/calibration-and-visibility-data/uv-manipulation/channel-average). \n",
    "-   **mstransform** and **cvel2** automatically detect combination of\n",
    "    SPWs with different exposure, and use the *WEIGHT* column (or\n",
    "    *WEIGHT_SPECTRUM* if available) in addition to the geometrical\n",
    "    factors to calculate the combined visibility in the overlapping\n",
    "    regions.\n",
    "\n",
    "**Alert:** For the time being,\n",
    "**mstransform** is not able to combine SPWs with different numbers of\n",
    "channels. This is a limitation in the Visibility Iterator (VI/VB2) layer\n",
    "of CASA.\n",
    "\n",
    "The output MS created by **mstransform** and **cvel2** has a uniform\n",
    "binning in spectral axis. If the *width* parameter is not specified then\n",
    "the size of the input bin corresponding to the lowest absolute frequency\n",
    "will be used as the size of the output bin, where the lowest absolute\n",
    "frequency is retrieved from the full list of spectral bins for all the\n",
    "input SPWs (after selection). Remember that in some cases, especially\n",
    "after certain data selection, the lowest frequency might not be part of\n",
    "the first input SPW ID.\n",
    "\n",
    "Note that when combining SPWs which have different polarization settings\n",
    "only the common polarizations to all SPWs will be part of the output MS.\n",
    "\n"
   ]
  },
  {
   "cell_type": "markdown",
   "metadata": {},
   "source": [
    "### Separation of spectral windows\n",
    "\n",
    "A completely new feature in **mstransform** is the ability to separate\n",
    "an input SPW into several ones, or to combine various input SPWs into a\n",
    "single one with a uniform grid (resolving overlaps or gaps) to then\n",
    "separate it in several output SPWs. This option is activated under the\n",
    "regridding section (therefore by specifying *regridms = True*), together\n",
    "with the *nspw* parameter which when bigger than 1 implies that the\n",
    "input SPW or combination of input SPWs should be separated:\n",
    "\n",
    "\\#In CASA  \n",
    "regridms = True  \\"
   ]
  },
  {
   "cell_type": "markdown",
   "metadata": {},
   "source": [
    "## Regrid the MS to a\n",
    "new spw,  \n",
    "    nspw = 1     \\"
   ]
  },
  {
   "cell_type": "markdown",
   "metadata": {},
   "source": [
    "## Number of output spws\n",
    "to create in output MS.\n",
    "\n",
    "Internally, the framework will combine the selected spws before\n",
    "separating them so that channel gaps and overlaps are taken into\n",
    "account. This sub-parameter will create a regular grid of spws in the\n",
    "output MS. If nchan is set, it will refer to the number of output\n",
    "channels in each of the separated spws.\n",
    "\n"
   ]
  },
  {
   "cell_type": "markdown",
   "metadata": {},
   "source": [
    "### Hanning smoothing\n",
    "\n",
    "Both **mstransform** and **hanningsmooth** are able to perform hanning\n",
    "smoothing (in **mstransform** by specifying *hanning = True* and in\n",
    "**hanningsmooth** by default).  For details on hanning smoothing please\n",
    "refer to the [section on Hanning\n",
    "Smoothing](https://casa.nrao.edu/casadocs-devel/stable/calibration-and-visibility-data/uv-manipulation/hanning-smoothing-of-uv-data-hanningsmooth)\n",
    "and the **hanningsmooth **task documentation linked here. Please note\n",
    "that both **mstransform **and **hanningsmooth** will create a new MS\n",
    "(i.e. do not have an option to do in-place hanning smoothing). This is\n",
    "the only difference with respect to the old **hanningsmooth** task that\n",
    "existed in previous versions of CASA.  \n",
    "\n",
    "Note that straightforward channel averaging can be done as described in\n",
    "the [section on channel\n",
    "averaging](https://casa.nrao.edu/casadocs-devel/stable/calibration-and-visibility-data/uv-manipulation/channel-average)."
   ]
  }
 ],
 "metadata": {},
 "nbformat": 4,
 "nbformat_minor": 5
}
