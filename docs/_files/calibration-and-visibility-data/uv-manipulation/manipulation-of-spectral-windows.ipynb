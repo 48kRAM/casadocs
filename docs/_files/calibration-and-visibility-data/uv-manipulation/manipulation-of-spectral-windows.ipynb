{
 "cells": [
  {
   "cell_type": "markdown",
   "metadata": {},
   "source": [
    "# Manipulate spectral windows\n",
    "\n",
    "How to combine, separate, and Hanning smooth spectral windows in\n",
    "mstransform\n",
    "\n"
   ]
  },
  {
   "cell_type": "markdown",
   "metadata": {},
   "source": [
    "### Combination of spectral windows\n",
    "\n",
    "Both **mstransform** and **cvel2** are able to combine SPWs (in\n",
    "**mstransform** by specifying *combinespws = True* and in **cvel2** by\n",
    "default). The algorithm is in general the same as the old **cvel**,\n",
    "however, there are two significant differences in the new framework:\n",
    "\n",
    "-   **mstransform** is able to only combine SPWs, only regrid each SPW\n",
    "    separately or to combine all SPWs and **regrid** them together. The\n",
    "    details about independent regridding operations are explained in the\n",
    "    following sections. For instance, if&nbsp;you wish to do channel\n",
    "    averaging while regridding in **mstransform**, please see&nbsp;the\n",
    "    [section on&nbsp;channel\n",
    "    averaging](https://casa.nrao.edu/casadocs-devel/stable/calibration-and-visibility-data/uv-manipulation/channel-average).&nbsp;\n",
    "-   **mstransform** and **cvel2** automatically detect combination of\n",
    "    SPWs with different exposure, and use the *WEIGHT* column (or\n",
    "    *WEIGHT_SPECTRUM* if available) in addition to the geometrical\n",
    "    factors to calculate the combined visibility in the overlapping\n",
    "    regions.\n",
    "\n",
    "**Alert:** For the time being,\n",
    "**mstransform** is not able to combine SPWs with different numbers of\n",
    "channels. This is a limitation in the Visibility Iterator (VI/VB2) layer\n",
    "of CASA.\n",
    "\n",
    "The output MS created by **mstransform** and **cvel2** has a uniform\n",
    "binning in spectral axis. If the *width* parameter is not specified then\n",
    "the size of the input bin corresponding to&nbsp;the lowest&nbsp;absolute\n",
    "frequency will be used as the size of the output bin, where the\n",
    "lowest&nbsp;absolute frequency is retrieved from the full list of\n",
    "spectral bins for all the input SPWs (after selection).\n",
    "Remember&nbsp;that in&nbsp;some cases, especially after certain data\n",
    "selection, the lowest&nbsp;frequency might not be part of the first\n",
    "input SPW ID.\n",
    "\n",
    "Note that when combining SPWs which have different polarization settings\n",
    "only the common polarizations to all SPWs will be part of the output MS.\n",
    "\n"
   ]
  },
  {
   "cell_type": "markdown",
   "metadata": {},
   "source": [
    "### Separation of spectral windows\n",
    "\n",
    "A completely new feature in **mstransform** is the ability to separate\n",
    "an input SPW into several ones, or to combine various input SPWs into a\n",
    "single one with a uniform grid (resolving overlaps or gaps) to then\n",
    "separate it in several output SPWs. This option is activated under the\n",
    "regridding section (therefore by specifying *regridms = True*), together\n",
    "with the *nspw* parameter which when bigger than 1 implies that the\n",
    "input SPW or combination of input SPWs should be separated:\n",
    "\n",
    "\\#In CASA  \n",
    "regridms = True&nbsp; \\"
   ]
  },
  {
   "cell_type": "markdown",
   "metadata": {},
   "source": [
    "## Regrid the MS to\n",
    "a new spw,  \n",
    "&nbsp;&nbsp;&nbsp; nspw =\n",
    "1&nbsp;&nbsp;&nbsp;&nbsp; \\"
   ]
  },
  {
   "cell_type": "markdown",
   "metadata": {},
   "source": [
    "## Number of output spws to create in output\n",
    "MS.\n",
    "\n",
    "Internally, the framework&nbsp;will combine the selected spws before\n",
    "separating them so that&nbsp;channel gaps and overlaps are taken into\n",
    "account. This sub-parameter&nbsp;will create a regular grid of spws in\n",
    "the output MS. If nchan&nbsp;is set, it will refer to the number of\n",
    "output channels in each&nbsp;of the separated spws.\n",
    "\n"
   ]
  },
  {
   "cell_type": "markdown",
   "metadata": {},
   "source": [
    "### Hanning smoothing\n",
    "\n",
    "Both **mstransform** and **hanningsmooth** are able to perform hanning\n",
    "smoothing (in **mstransform** by specifying *hanning = True* and in\n",
    "**hanningsmooth** by default). &nbsp;For details on hanning smoothing\n",
    "please refer to the [section on Hanning\n",
    "Smoothing](https://casa.nrao.edu/casadocs-devel/stable/calibration-and-visibility-data/uv-manipulation/hanning-smoothing-of-uv-data-hanningsmooth)\n",
    "and the&nbsp;**hanningsmooth&nbsp;**task documentation linked here.\n",
    "Please note that\n",
    "both&nbsp;**mstransform&nbsp;**and&nbsp;**hanningsmooth** will create a\n",
    "new MS (i.e. do not have an option to do in-place hanning smoothing).\n",
    "This is the only difference with respect to the old\n",
    "**hanningsmooth**&nbsp;task that existed in previous versions of CASA.\n",
    "&nbsp;\n",
    "\n",
    "Note that straightforward channel averaging can be done as described in\n",
    "the [section on&nbsp;channel\n",
    "averaging](https://casa.nrao.edu/casadocs-devel/stable/calibration-and-visibility-data/uv-manipulation/channel-average)."
   ]
  }
 ],
 "metadata": {},
 "nbformat": 4,
 "nbformat_minor": 5
}
