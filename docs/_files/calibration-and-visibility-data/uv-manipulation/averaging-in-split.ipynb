{
 "cells": [
  {
   "cell_type": "markdown",
   "metadata": {},
   "source": [
    "# Average in split \n",
    "\n",
    "\n",
    "\n",
    "\n",
    "\n",
    "Highlights on averaging using split\n",
    "\n",
    "\n",
    "\n",
    "\n",
    "\n",
    "\n",
    "\n",
    "\n",
    "Time and channel averaging are available within **split** using the *timebin* and *width* parameters. The way that time averaging operates can be further controlled by *combine*, which is a sub-parameter of *timebin.*\n",
    "\n",
    "The *timebin* parameter gives the averaging interval. It takes a quantity, e.g. *timebin=\\'30s\\'* for 30-second time averaging.  By default the time-span of time averaging will be limited by scan boundaries, *i.e.* the time average will not be extended to average data from multiple scans together. Similarly, time averaging will by default not extend across state boundaries (states are telescope-specific entities; for ALMA a state corresponds to a sub-scan).  These default limits on time averaging can be modified by setting *combine* to \\'*scan\\'*, \\'*state\\'*, or \\'*state,scan\\'* to ignore one or both types of boundaries and average across them.  *combine* is a sub-parameter of *timebin* which is enabled by selecting a non-zero time averaging interval.\n",
    "\n",
    "The *width* parameter defines the number of channels to average to form a given output channel. This can be specified globally for all spw, e.g.\n",
    "\n",
    "```\n",
    "width = 5\n",
    "```\n",
    "\n",
    "or specified per spw, e.g.\n",
    "\n",
    "```\n",
    "width = [2,3]\n",
    "```\n",
    "\n",
    "to average 2 channels of 1st spectral window selected and 3 in the second one.\n",
    "\n",
    "<div class=\"alert alert-warning\">\n",
    "ALERT: When averaging channels **split** will produce negative channel widths (as reported by **listobs**) if frequency goes down with increasing channel number, whether or not the input channel widths are negative. The *band*widths and channel resolutions will still be positive.\\\"\n",
    "</div>"
   ]
  }
 ],
 "metadata": {},
 "nbformat": 4,
 "nbformat_minor": 4
}
