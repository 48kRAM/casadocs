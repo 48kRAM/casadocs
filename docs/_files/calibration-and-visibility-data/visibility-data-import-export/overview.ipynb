{
 "cells": [
  {
   "cell_type": "markdown",
   "metadata": {},
   "source": [
    "# Overview \n",
    "\n",
    "\n",
    "\n",
    "\n",
    "\n",
    "Overview of Visibility Data Import Export chapter\n",
    "\n",
    "\n",
    "\n",
    "\n",
    "\n",
    "\n",
    "\n",
    "\n",
    "[To use CASA to process your data, you first will need to get it into a form that is understood by the package. These are \"MeasurementSets\" for synthesis and single dish data, which is the purpose of this chapter. Importing images, or \"image tables\" as understood by CASA, is explained [here](https://casa.nrao.edu/casadocs-devel/stable/imaging/image-analysis/image-import-and-export).]\n",
    "\n",
    "There are a number of tasks used to fill telescope-specific data and to import/export standard formats. These are:\n",
    "\n",
    "-   **importasdm** --- import of ALMA data in ASDM format\n",
    "-   **importuvfits** --- import visibility data in UVFITS format\n",
    "-   **importfitsidi** --- import visibility data in the FITS-IDI format\n",
    "-   **importvla** --- import data from VLA that is in export format\n",
    "-   **importmiriad** --- import data from MIRIAD visibilities\n",
    "-   **importatca** --- import ATCA data that is in the RPFITS (archive) format\n",
    "-   **importgmrt** --- import GMRT data\n",
    "-   **importasap** --- convert ASAP (ATNF Spectral Analysis Package) into a CASA visibility data format\n",
    "-   **importnro** --- import NRO 45m data \n",
    "-   **exportasdm** --- convert a CASA MS into an ASDM\n",
    "-   **exportuvfits** --- export a CASA MS in UVFITS format"
   ]
  }
 ],
 "metadata": {},
 "nbformat": 4,
 "nbformat_minor": 4
}
