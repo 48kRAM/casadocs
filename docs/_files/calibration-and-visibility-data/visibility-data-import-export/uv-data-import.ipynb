{
 "cells": [
  {
   "cell_type": "markdown",
   "metadata": {},
   "source": [
    "# UV Data Import\n",
    "\n",
    "Converting Telescope UV Data to a MeasurementSet\n",
    "\n",
    "There are a number of tasks available to bring data in various forms\n",
    "into CASA as a MeasurementSet:\n",
    "\n",
    "-   ALMA and VLA Science Data Model format via **importasdm** and\n",
    "    **importevla**\n",
    "-   historic VLA Archive format data via **importvla**\n",
    "-   ATCA Data via **importatca**\n",
    "-   MIRIAD Data from various telescopes via **importmiriad**\n",
    "-   GMRT Data via **importgmrt**\n",
    "-   UVFITS format can be imported into and exported from CASA\n",
    "    (**importuvfits**, **importfitsidi**, and **exportuvfits**)\n",
    "\n"
   ]
  },
  {
   "cell_type": "markdown",
   "metadata": {},
   "source": [
    "####  \n",
    "\n"
   ]
  },
  {
   "cell_type": "markdown",
   "metadata": {},
   "source": [
    "### ALMA and VLA Filling of Science Data Model (ASDM) data\n",
    "\n",
    "The ALMA and JVLA projects have agreed upon a common archival science\n",
    "data model (ASDM; sometimes also called SDM) format, and have jointly\n",
    "developed the software to fill this data into CASA. In the ASDM format,\n",
    "the bulk of the data is contained in large binary data format (BDF)\n",
    "tables, with the meta-data and ancillary information in XML tables. This\n",
    "is structured as a directory, like the MS, and was designed to be\n",
    "similar to the MS to facilitate conversion.\n",
    "\n",
    "The content of an ASDM can be listed with the task **asdmsummary**:\n",
    "\n",
    "\\"
   ]
  },
  {
   "cell_type": "markdown",
   "metadata": {},
   "source": [
    "## asdmsummary :: Summarized description of an ASDM dataset.  \n",
    "asdm = '' \\"
   ]
  },
  {
   "cell_type": "markdown",
   "metadata": {},
   "source": [
    "## Name of input ASDM directory\n",
    "\n",
    "with an output that contains the list and positions of the antennas,\n",
    "followed by the metadata of each scan like observation time, source\n",
    "name, frequency and polarization setup:\n",
    "\n",
    "Input ASDM dataset : TDEM0008.sb3373760.eb3580330.55661.22790537037  \n",
    "========================================================================================  \n",
    "ASDM dataset :TDEM0008.sb3373760.eb3580330.55661.22790537037  \n",
    "========================================================================================  \n",
    "  \n",
    "Exec Block : ExecBlock_0  \n",
    "Telescope : JVLA  \n",
    "Configuration name : B  \n",
    "Observer name : Dr. Juergen Ott  \n",
    "The exec block started on 2011-04-10T05:28:13.200000000 and ended on\n",
    "2011-04-10T10:27:12.300000256  \n",
    "  \n",
    "27 antennas have been used in this exec block.  \n",
    "        Id     Name         Make Station    Diameter        \n",
    "X              Y             Z  \n",
    "     Antenna_0  ea01    UNDEFINED   W36        25    -1606841.96  \n",
    "-5042279.689    3551913.017  \n",
    "     Antenna_1  ea02    UNDEFINED   E20        25     -1599340.8  \n",
    "-5043150.965    3554065.219  \n",
    "     Antenna_2  ea03    UNDEFINED   E36        25   -1596127.728  \n",
    "-5045193.751    3552652.421  \n",
    "     Antenna_3  ea04    UNDEFINED   W28        25   -1604865.649   \n",
    "-5042190.04    3552962.365  \n",
    "     Antenna_4  ea05    UNDEFINED   W08        25   -1601614.091  \n",
    "-5042001.653    3554652.509  \n",
    "     Antenna_5  ea06    UNDEFINED   N24        25    -1600930.06  \n",
    "-5040316.397    3557330.397  \n",
    "     Antenna_6  ea07    UNDEFINED   E32        25   -1597053.116  \n",
    "-5044604.687    3553058.987  \n",
    "     Antenna_7  ea08    UNDEFINED   N28        25   -1600863.684  \n",
    "-5039885.318    3557965.319  \n",
    "     Antenna_8  ea09    UNDEFINED   E24        25    -1598663.09  \n",
    "-5043581.392    3553767.029  \n",
    "     Antenna_9  ea10    UNDEFINED   N32        25   -1600781.039  \n",
    "-5039347.456    3558761.542  \n",
    "     Antenna_10  ea11    UNDEFINED   E04        25    -1601068.79   \n",
    "-5042051.91    3554824.835  \n",
    "     Antenna_11  ea12    UNDEFINED   E08        25   -1600801.926  \n",
    "-5042219.366    3554706.448  \n",
    "     Antenna_12  ea14    UNDEFINED   W12        25   -1602044.903  \n",
    "-5042025.824    3554427.832  \n",
    "     Antenna_13  ea15    UNDEFINED   W24        25   -1604008.742  \n",
    "-5042135.828    3553403.707  \n",
    "     Antenna_14  ea16    UNDEFINED   N12        25   -1601110.052  \n",
    "-5041488.079    3555597.439  \n",
    "     Antenna_15  ea17    UNDEFINED   W32        25   -1605808.656  \n",
    "-5042230.082    3552459.202  \n",
    "     Antenna_16  ea18    UNDEFINED   N16        25   -1601061.961   \n",
    "-5041175.88    3556058.022  \n",
    "     Antenna_17  ea19    UNDEFINED   W04        25   -1601315.893   \n",
    "-5041985.32    3554808.305  \n",
    "     Antenna_18  ea20    UNDEFINED   N36        25   -1600690.606  \n",
    "-5038758.734    3559632.061  \n",
    "     Antenna_19  ea21    UNDEFINED   E12        25    -1600416.51   \n",
    "-5042462.45    3554536.041  \n",
    "     Antenna_20  ea22    UNDEFINED   N04        25   -1601173.979  \n",
    "-5041902.658    3554987.518  \n",
    "     Antenna_21  ea23    UNDEFINED   E16        25   -1599926.104  \n",
    "-5042772.967    3554319.789  \n",
    "     Antenna_22  ea24    UNDEFINED   W16        25   -1602592.854  \n",
    "-5042054.997      3554140.7  \n",
    "     Antenna_23  ea25    UNDEFINED   N20        25   -1601004.709  \n",
    "-5040802.809    3556610.133  \n",
    "     Antenna_24  ea26    UNDEFINED   W20        25   -1603249.685  \n",
    "-5042091.404    3553797.803  \n",
    "     Antenna_25  ea27    UNDEFINED   E28        25   -1597899.903  \n",
    "-5044068.676    3553432.445  \n",
    "     Antenna_26  ea28    UNDEFINED   N08        25    -1601147.94  \n",
    "-5041733.837    3555235.956  \n",
    "  \n",
    "Number of scans in this exec Block : 234  \n",
    "  \n",
    "scan \\#1 from 2011-04-10T05:28:13.200000000 to\n",
    "2011-04-10T05:33:35.500000256  \n",
    "        Intents : OBSERVE_TARGET  \n",
    "        Sources : 1331+305=3C286  \n",
    "        Subscan \\#1 from 2011-04-10T05:28:13.200000000 to\n",
    "2011-04-10T05:33:35.500000256  \n",
    "                Intent : UNSPECIFIED  \n",
    "                Number of integrations : 322  \n",
    "  \n",
    "                 Binary data in uid:///evla/bdf/1302413292901  \n",
    "                 Number of integrations : 322  \n",
    "                 Time sampling : INTEGRATION  \n",
    "                 Correlation Mode : CROSS_AND_AUTO  \n",
    "                 Spectral resolution type : FULL_RESOLUTION  \n",
    "                 Atmospheric phase correction : AP_UNCORRECTED  \n",
    "                 SpectralWindow_0 : numChan = 256, frame = TOPO,  \n",
    "                 firstChan = 8484000000, chandWidth = 125000 x\n",
    "Polarization_0 : corr = RR,LL  \n",
    "  \n",
    "scan \\#2 from 2011-04-10T05:33:35.500000256 to\n",
    "2011-04-10T05:35:35.200000000  \n",
    "        Intents : OBSERVE_TARGET  \n",
    "        Sources : 1331+305=3C286  \n",
    "        Subscan \\#1 from 2011-04-10T05:33:35.500000256 to\n",
    "2011-04-10T05:35:35.200000000  \n",
    "                Intent : UNSPECIFIED  \n",
    "                Number of integrations : 119  \n",
    "  \n",
    "                 Binary data in uid:///evla/bdf/1302413293280  \n",
    "                 Number of integrations : 119  \n",
    "                 Time sampling : INTEGRATION  \n",
    "                 Correlation Mode : CROSS_AND_AUTO  \n",
    "                 Spectral resolution type : FULL_RESOLUTION  \n",
    "                 Atmospheric phase correction : AP_UNCORRECTED  \n",
    "                 SpectralWindow_0 : numChan = 256, frame = TOPO,  \n",
    "                 firstChan = 8484000000, chandWidth = 125000 x\n",
    "Polarization_0 : corr = RR,LL  \n",
    "  \n",
    "scan \\#3 from 2011-04-10T05:35:35.200000000 to\n",
    "2011-04-10T05:36:34.999999488  \n",
    "        Intents : OBSERVE_TARGET  \n",
    "        Sources : 1331+305=3C286  \n",
    "        Subscan \\#1 from 2011-04-10T05:35:35.200000000 to\n",
    "2011-04-10T05:36:34.999999488  \n",
    "...\n",
    "\n",
    "The **importasdm** task will fill SDM1.2 and SDM1.3 format data into a\n",
    "CASA visibility data set (MS). ALMA data was recorded in SDM1.2 format\n",
    "from October 2009 until May 2011. Since May 2011, ALMA is using the SDM\n",
    "1.3 format. In particular all science data from cycle 0 onwards is in\n",
    "SDM1.3. The JVLA also started using SDM1.2 in October 2009 and continues\n",
    "to use this format. **importasdm** can read all of the above formats.\n",
    "The parameter *useversion* can be used to enable the options\n",
    "*process_syspower*, *process_caldevice*, and *process_pointing*.\n",
    "\n",
    "The default inputs of **importasdm** are:\n",
    "\n",
    "\\"
   ]
  },
  {
   "cell_type": "markdown",
   "metadata": {},
   "source": [
    "##  importasdm :: Convert an ALMA Science Data Model observation into\n",
    "a  \n",
    "CASA visibility file (MS) or single-dish data format (Scantable)  \n",
    "asdm                =         ''        \\"
   ]
  },
  {
   "cell_type": "markdown",
   "metadata": {},
   "source": [
    "##  Name of input asdm directory\n",
    "(on  \n",
    "                                        \\"
   ]
  },
  {
   "cell_type": "markdown",
   "metadata": {},
   "source": [
    "##   disk)  \n",
    "vis                 =         ''        \\"
   ]
  },
  {
   "cell_type": "markdown",
   "metadata": {},
   "source": [
    "##  Root name of the MS to be\n",
    "created.  \n",
    "                                        \\"
   ]
  },
  {
   "cell_type": "markdown",
   "metadata": {},
   "source": [
    "##   Note the .ms is NOT added  \n",
    "createmms           =      False        \\"
   ]
  },
  {
   "cell_type": "markdown",
   "metadata": {},
   "source": [
    "##  Create a multi-MS output  \n",
    "singledish          =      False        \\"
   ]
  },
  {
   "cell_type": "markdown",
   "metadata": {},
   "source": [
    "##  Set true to output\n",
    "single-dish data  \n",
    "                                        \\"
   ]
  },
  {
   "cell_type": "markdown",
   "metadata": {},
   "source": [
    "##   format  \n",
    "corr_mode           =      'all'        \\"
   ]
  },
  {
   "cell_type": "markdown",
   "metadata": {},
   "source": [
    "##  specifies the correlation\n",
    "mode to be  \n",
    "                                        \\"
   ]
  },
  {
   "cell_type": "markdown",
   "metadata": {},
   "source": [
    "##   considered on input. A\n",
    "quoted string  \n",
    "                                        \\"
   ]
  },
  {
   "cell_type": "markdown",
   "metadata": {},
   "source": [
    "##   containing a sequence of\n",
    "ao, co,  \n",
    "                                        \\"
   ]
  },
  {
   "cell_type": "markdown",
   "metadata": {},
   "source": [
    "##   ac,or all separated by\n",
    "whitespaces  \n",
    "                                        \\"
   ]
  },
  {
   "cell_type": "markdown",
   "metadata": {},
   "source": [
    "##   is expected  \n",
    "srt                 =      'all'        \\"
   ]
  },
  {
   "cell_type": "markdown",
   "metadata": {},
   "source": [
    "##  specifies the spectral\n",
    "resolution  \n",
    "                                        \\"
   ]
  },
  {
   "cell_type": "markdown",
   "metadata": {},
   "source": [
    "##   type to be considered on\n",
    "input. A  \n",
    "                                        \\"
   ]
  },
  {
   "cell_type": "markdown",
   "metadata": {},
   "source": [
    "##   quoted string containing a\n",
    "sequence  \n",
    "                                        \\"
   ]
  },
  {
   "cell_type": "markdown",
   "metadata": {},
   "source": [
    "##   of fr, ca, bw, or all\n",
    "separated by  \n",
    "                                        \\"
   ]
  },
  {
   "cell_type": "markdown",
   "metadata": {},
   "source": [
    "##   whitespaces is expected  \n",
    "time_sampling       =      'all'        \\"
   ]
  },
  {
   "cell_type": "markdown",
   "metadata": {},
   "source": [
    "##  specifies the time\n",
    "sampling  \n",
    "                                        \\"
   ]
  },
  {
   "cell_type": "markdown",
   "metadata": {},
   "source": [
    "##   (INTEGRATION and/or\n",
    "SUBINTEGRATION)  \n",
    "                                        \\"
   ]
  },
  {
   "cell_type": "markdown",
   "metadata": {},
   "source": [
    "##   to be considered on input.\n",
    "A quoted  \n",
    "                                        \\"
   ]
  },
  {
   "cell_type": "markdown",
   "metadata": {},
   "source": [
    "##   string containing a\n",
    "sequence of i,  \n",
    "                                        \\"
   ]
  },
  {
   "cell_type": "markdown",
   "metadata": {},
   "source": [
    "##   si, or all separated by\n",
    "whitespaces  \n",
    "                                        \\"
   ]
  },
  {
   "cell_type": "markdown",
   "metadata": {},
   "source": [
    "##   is expected  \n",
    "ocorr_mode          =       'ca'        \\"
   ]
  },
  {
   "cell_type": "markdown",
   "metadata": {},
   "source": [
    "##  output data for correlation\n",
    "mode  \n",
    "                                        \\"
   ]
  },
  {
   "cell_type": "markdown",
   "metadata": {},
   "source": [
    "##   AUTO_ONLY (ao) or\n",
    "CROSS_ONLY (co) or  \n",
    "                                        \\"
   ]
  },
  {
   "cell_type": "markdown",
   "metadata": {},
   "source": [
    "##   CROSS_AND_AUTO (ca)  \n",
    "compression         =      False        \\"
   ]
  },
  {
   "cell_type": "markdown",
   "metadata": {},
   "source": [
    "##  Flag for turning on data\n",
    "compression  \n",
    "lazy                =      False        \\"
   ]
  },
  {
   "cell_type": "markdown",
   "metadata": {},
   "source": [
    "##  Make the MS DATA column read\n",
    "the ASDM  \n",
    "                                        \\"
   ]
  },
  {
   "cell_type": "markdown",
   "metadata": {},
   "source": [
    "##   Binary data directly\n",
    "(faster import,  \n",
    "                                        \\"
   ]
  },
  {
   "cell_type": "markdown",
   "metadata": {},
   "source": [
    "##   smaller MS)  \n",
    "asis                =         ''        \\"
   ]
  },
  {
   "cell_type": "markdown",
   "metadata": {},
   "source": [
    "##  Creates verbatim copies of\n",
    "the  \n",
    "                                        \\"
   ]
  },
  {
   "cell_type": "markdown",
   "metadata": {},
   "source": [
    "##   ASDMtables in the ouput\n",
    "MeasurementSet.  \n",
    "                                        \\"
   ]
  },
  {
   "cell_type": "markdown",
   "metadata": {},
   "source": [
    "##   Value given must be a\n",
    "string  \n",
    "                                        \\"
   ]
  },
  {
   "cell_type": "markdown",
   "metadata": {},
   "source": [
    "##   of table names separated by\n",
    "spaces;  \n",
    "                                        \\"
   ]
  },
  {
   "cell_type": "markdown",
   "metadata": {},
   "source": [
    "##   A \\* wildcard is allowed.  \n",
    "wvr_corrected_data  =       'no'        \\"
   ]
  },
  {
   "cell_type": "markdown",
   "metadata": {},
   "source": [
    "##  Specifies which values are\n",
    "considerd  \n",
    "                                        \\"
   ]
  },
  {
   "cell_type": "markdown",
   "metadata": {},
   "source": [
    "##   in the SDM binary data to\n",
    "fill the  \n",
    "                                        \\"
   ]
  },
  {
   "cell_type": "markdown",
   "metadata": {},
   "source": [
    "##   DATA column in the MAIN\n",
    "table of the  \n",
    "                                        \\"
   ]
  },
  {
   "cell_type": "markdown",
   "metadata": {},
   "source": [
    "##   MS. Expected values for\n",
    "this option  \n",
    "                                        \\"
   ]
  },
  {
   "cell_type": "markdown",
   "metadata": {},
   "source": [
    "##   are: no, for uncorrected\n",
    "data  \n",
    "                                        \\"
   ]
  },
  {
   "cell_type": "markdown",
   "metadata": {},
   "source": [
    "##   (default), yes, for the\n",
    "corrected  \n",
    "                                        \\"
   ]
  },
  {
   "cell_type": "markdown",
   "metadata": {},
   "source": [
    "##   data, and both, for for\n",
    "corrected  \n",
    "                                        \\"
   ]
  },
  {
   "cell_type": "markdown",
   "metadata": {},
   "source": [
    "##   and uncorrected data. Note\n",
    "if both  \n",
    "                                        \\"
   ]
  },
  {
   "cell_type": "markdown",
   "metadata": {},
   "source": [
    "##   is selected two\n",
    "MeasurementSets are  \n",
    "                                        \\"
   ]
  },
  {
   "cell_type": "markdown",
   "metadata": {},
   "source": [
    "##   created, one with\n",
    "uncorrected data  \n",
    "                                        \\"
   ]
  },
  {
   "cell_type": "markdown",
   "metadata": {},
   "source": [
    "##   and the other with\n",
    "corrected data.  \n",
    "scans               =         ''        \\"
   ]
  },
  {
   "cell_type": "markdown",
   "metadata": {},
   "source": [
    "##  processes only the specified\n",
    "scans.  \n",
    "                                        \\"
   ]
  },
  {
   "cell_type": "markdown",
   "metadata": {},
   "source": [
    "##   This value is a semicolon\n",
    "separated  \n",
    "                                        \\"
   ]
  },
  {
   "cell_type": "markdown",
   "metadata": {},
   "source": [
    "##   list of scan\n",
    "specifications. A scan  \n",
    "                                        \\"
   ]
  },
  {
   "cell_type": "markdown",
   "metadata": {},
   "source": [
    "##   specification consists of\n",
    "an exec  \n",
    "                                        \\"
   ]
  },
  {
   "cell_type": "markdown",
   "metadata": {},
   "source": [
    "##   block index followed by the\n",
    ":  \n",
    "                                        \\"
   ]
  },
  {
   "cell_type": "markdown",
   "metadata": {},
   "source": [
    "##   character;  followed by a\n",
    "comma  \n",
    "                                        \\"
   ]
  },
  {
   "cell_type": "markdown",
   "metadata": {},
   "source": [
    "##   separated list of scan\n",
    "indexes or  \n",
    "                                        \\"
   ]
  },
  {
   "cell_type": "markdown",
   "metadata": {},
   "source": [
    "##   scan index ranges. A scan\n",
    "index is  \n",
    "                                        \\"
   ]
  },
  {
   "cell_type": "markdown",
   "metadata": {},
   "source": [
    "##   relative to the exec block\n",
    "it  \n",
    "                                        \\"
   ]
  },
  {
   "cell_type": "markdown",
   "metadata": {},
   "source": [
    "##   belongs to. Scan indexes\n",
    "are 1-based  \n",
    "                                        \\"
   ]
  },
  {
   "cell_type": "markdown",
   "metadata": {},
   "source": [
    "##   while exec blocks are\n",
    "0-based. \"0:1\"  \n",
    "                                        \\"
   ]
  },
  {
   "cell_type": "markdown",
   "metadata": {},
   "source": [
    "##   or \"2:2\\~6\" or  \n",
    "                                        \\"
   ]
  },
  {
   "cell_type": "markdown",
   "metadata": {},
   "source": [
    "##   \"0:1,1:2\\~6,8;2:,3:24\\~30\"\n",
    "\"1,2\" are  \n",
    "                                        \\"
   ]
  },
  {
   "cell_type": "markdown",
   "metadata": {},
   "source": [
    "##   valid values for the\n",
    "option. \"3:\"  \n",
    "                                        \\"
   ]
  },
  {
   "cell_type": "markdown",
   "metadata": {},
   "source": [
    "##   alone will be interpreted\n",
    "as, all  \n",
    "                                        \\"
   ]
  },
  {
   "cell_type": "markdown",
   "metadata": {},
   "source": [
    "##   the scans of the exec\n",
    "block\\#3.  An  \n",
    "                                        \\"
   ]
  },
  {
   "cell_type": "markdown",
   "metadata": {},
   "source": [
    "##   scan index or a scan index\n",
    "range not  \n",
    "                                        \\"
   ]
  },
  {
   "cell_type": "markdown",
   "metadata": {},
   "source": [
    "##   preceded by an exec block\n",
    "index will  \n",
    "                                        \\"
   ]
  },
  {
   "cell_type": "markdown",
   "metadata": {},
   "source": [
    "##   be interpreted as, all the\n",
    "scans  \n",
    "                                        \\"
   ]
  },
  {
   "cell_type": "markdown",
   "metadata": {},
   "source": [
    "##   with such indexes in all\n",
    "the exec  \n",
    "                                        \\"
   ]
  },
  {
   "cell_type": "markdown",
   "metadata": {},
   "source": [
    "##   blocks.  By default all the\n",
    "scans  \n",
    "                                        \\"
   ]
  },
  {
   "cell_type": "markdown",
   "metadata": {},
   "source": [
    "##   are considered.  \n",
    "ignore_time         =      False        \\"
   ]
  },
  {
   "cell_type": "markdown",
   "metadata": {},
   "source": [
    "##  All the rows of the tables\n",
    "Feed,  \n",
    "                                        \\"
   ]
  },
  {
   "cell_type": "markdown",
   "metadata": {},
   "source": [
    "##   History, Pointing, Source,\n",
    "SysCal,  \n",
    "                                        \\"
   ]
  },
  {
   "cell_type": "markdown",
   "metadata": {},
   "source": [
    "##   CalDevice, SysPower, and\n",
    "Weather are  \n",
    "                                        \\"
   ]
  },
  {
   "cell_type": "markdown",
   "metadata": {},
   "source": [
    "##   processed independently of\n",
    "the time  \n",
    "                                        \\"
   ]
  },
  {
   "cell_type": "markdown",
   "metadata": {},
   "source": [
    "##   range of the selected exec\n",
    "block /  \n",
    "                                        \\"
   ]
  },
  {
   "cell_type": "markdown",
   "metadata": {},
   "source": [
    "##   scan.  \n",
    "process_syspower    =       True        \\"
   ]
  },
  {
   "cell_type": "markdown",
   "metadata": {},
   "source": [
    "##   The SysPower table is\n",
    "processed if  \n",
    "                                        \\"
   ]
  },
  {
   "cell_type": "markdown",
   "metadata": {},
   "source": [
    "##   and only if this parameter\n",
    "is set to  \n",
    "                                        \\"
   ]
  },
  {
   "cell_type": "markdown",
   "metadata": {},
   "source": [
    "##   true.  \n",
    "process_caldevice   =       True        \\"
   ]
  },
  {
   "cell_type": "markdown",
   "metadata": {},
   "source": [
    "##  The CalDevice table is\n",
    "processed if  \n",
    "                                        \\"
   ]
  },
  {
   "cell_type": "markdown",
   "metadata": {},
   "source": [
    "##   and only if this parameter\n",
    "is set to  \n",
    "                                        \\"
   ]
  },
  {
   "cell_type": "markdown",
   "metadata": {},
   "source": [
    "##   true.  \n",
    "process_pointing    =       True        \\"
   ]
  },
  {
   "cell_type": "markdown",
   "metadata": {},
   "source": [
    "##  The Pointing table is\n",
    "processed if  \n",
    "                                        \\"
   ]
  },
  {
   "cell_type": "markdown",
   "metadata": {},
   "source": [
    "##   and only if this parameter\n",
    "is set to  \n",
    "                                        \\"
   ]
  },
  {
   "cell_type": "markdown",
   "metadata": {},
   "source": [
    "##   true. If set to False, the\n",
    "POINTING  \n",
    "                                        \\"
   ]
  },
  {
   "cell_type": "markdown",
   "metadata": {},
   "source": [
    "##   table is empty in the\n",
    "resulting MS  \n",
    "process_flags       =       True        \\"
   ]
  },
  {
   "cell_type": "markdown",
   "metadata": {},
   "source": [
    "##  Create online flags in the\n",
    "FLAG_CMD  \n",
    "                                        \\"
   ]
  },
  {
   "cell_type": "markdown",
   "metadata": {},
   "source": [
    "##   sub-table.  \n",
    "     tbuff          =        0.0        \\"
   ]
  },
  {
   "cell_type": "markdown",
   "metadata": {},
   "source": [
    "##   Time padding buffer\n",
    "(seconds)  \n",
    "     applyflags     =      False        \\"
   ]
  },
  {
   "cell_type": "markdown",
   "metadata": {},
   "source": [
    "##  Apply the flags to the MS.  \n",
    "     savecmds       =      False        \\"
   ]
  },
  {
   "cell_type": "markdown",
   "metadata": {},
   "source": [
    "##  Save flag commands to an\n",
    "ASCII file  \n",
    "     outfile        =         ''        \\"
   ]
  },
  {
   "cell_type": "markdown",
   "metadata": {},
   "source": [
    "##  Name of ASCII file to save\n",
    "flag  \n",
    "                                        \\"
   ]
  },
  {
   "cell_type": "markdown",
   "metadata": {},
   "source": [
    "##   commands  \n",
    "  \n",
    "flagbackup          =       True        \\"
   ]
  },
  {
   "cell_type": "markdown",
   "metadata": {},
   "source": [
    "##  Back up flag column before\n",
    "applying  \n",
    "                                        \\"
   ]
  },
  {
   "cell_type": "markdown",
   "metadata": {},
   "source": [
    "##   flags.  \n",
    "verbose             =      False        \\"
   ]
  },
  {
   "cell_type": "markdown",
   "metadata": {},
   "source": [
    "##  Output lots of information\n",
    "while the  \n",
    "                                        \\"
   ]
  },
  {
   "cell_type": "markdown",
   "metadata": {},
   "source": [
    "##   filler is working  \n",
    "overwrite           =      False        \\"
   ]
  },
  {
   "cell_type": "markdown",
   "metadata": {},
   "source": [
    "##  Over write an existing\n",
    "MS(s)  \n",
    "showversion         =      False        \\"
   ]
  },
  {
   "cell_type": "markdown",
   "metadata": {},
   "source": [
    "##  Report the version of\n",
    "asdm2MS being  \n",
    "                                        \\"
   ]
  },
  {
   "cell_type": "markdown",
   "metadata": {},
   "source": [
    "##   used  \n",
    "useversion          =       'v3'        \\"
   ]
  },
  {
   "cell_type": "markdown",
   "metadata": {},
   "source": [
    "##  Version of asdm2MS to be\n",
    "used ('v3'  \n",
    "                                        \\"
   ]
  },
  {
   "cell_type": "markdown",
   "metadata": {},
   "source": [
    "##   (default, should work for\n",
    "all data))  \n",
    "bdfflags            =      False        \\"
   ]
  },
  {
   "cell_type": "markdown",
   "metadata": {},
   "source": [
    "##  Set the MS FLAG column\n",
    "according to  \n",
    "                                        \\"
   ]
  },
  {
   "cell_type": "markdown",
   "metadata": {},
   "source": [
    "##   the ASDM \\_binary\\_ flags  \n",
    "with_pointing_correction =      False   \\"
   ]
  },
  {
   "cell_type": "markdown",
   "metadata": {},
   "source": [
    "##   add\n",
    "(ASDM::Pointing::encoder -  \n",
    "                                        \\"
   ]
  },
  {
   "cell_type": "markdown",
   "metadata": {},
   "source": [
    "##  \n",
    "ASDM::Pointing::pointingDirection)  \n",
    "                                        \\"
   ]
  },
  {
   "cell_type": "markdown",
   "metadata": {},
   "source": [
    "##   to the value to be written\n",
    "in  \n",
    "                                        \\"
   ]
  },
  {
   "cell_type": "markdown",
   "metadata": {},
   "source": [
    "##   MS::Pointing::direction  \n",
    "convert_ephem2geo   =       True        \\"
   ]
  },
  {
   "cell_type": "markdown",
   "metadata": {},
   "source": [
    "##  if True, convert any\n",
    "attached  \n",
    "                                        \\"
   ]
  },
  {
   "cell_type": "markdown",
   "metadata": {},
   "source": [
    "##   ephemerides to the GEO\n",
    "reference  \n",
    "                                        \\"
   ]
  },
  {
   "cell_type": "markdown",
   "metadata": {},
   "source": [
    "##   frame (time-spacing not\n",
    "changed)\n",
    "\n",
    "If *scans* is set, then **importasdm** processes only the scans\n",
    "specified in the option’s value. This value is a semicolon separated\n",
    "list of scan specifications. A scan specification consists of an exec\n",
    "block index followed by the character ’:’ followed by a comma separated\n",
    "list of scan indexes or scan index ranges. A scan index is relative to\n",
    "the exec block it belongs to. Scan indexes are 1-based while exec blocks\n",
    "are 0-based. The expressions\n",
    "\n",
    " \"0:1\"  \n",
    " \"2:2\\~6\"  \n",
    " \"0:1,1:2\\~6,8;2:,3:24\\~30\"  \n",
    " \"1,2\"  \n",
    " \"3:\"\n",
    "\n",
    "are all valid values for the\n",
    "[selection](https://casa.nrao.edu/casadocs-devel/stable/calibration-and-visibility-data/data-selection-in-a-measurementset).\n",
    "The \"3:\" selector will be interpreted as ’all the scans of the exec\n",
    "block 3’. A scan index or a scan index range not preceded by an exec\n",
    "block index will be interpreted as ’all the scans with such indexes in\n",
    "all the exec blocks’. By default all the scans are considered.\n",
    "\n",
    "When *process_flags=True* the task will create online flags based on the\n",
    "Flag.xml,\n",
    "Antenna.xml\n",
    "and SpectralWindow.xml\n",
    "files and copy them to the *FLAG_CMD* sub-table of the MS. The flags\n",
    "will NOT be applied unless the parameter *applyflags* is set to *True*.\n",
    "Optionally, the flags can also be saved to an external ASCII file if\n",
    "savecmds is set to *True*. The flags can later be applied to the MS\n",
    "using task **flagdata** in *list* mode.\n",
    "\n",
    "When *bdfflags=True* the task will apply online flags contained in the\n",
    "ASDM BDF data by calling the executable bdflags2MS\n",
    "which the user can also do from the OS prompt. This is recommended for\n",
    "ALMA data.\n",
    "\n",
    "If *singledish=True*, output data format is scantable (single-dish data\n",
    "format) instead of MS. In that case, you must specify name or id of the\n",
    "antenna that you want to obtain data. This can be done by using\n",
    "*antenna* parameter that is defined as a subparameter of *singledish*.\n",
    "For single-dish mode, only auto-correlation data are filled, i.e.\n",
    "*ocorr_mode* is forcibly set to ’*ao*’.\n",
    "\n",
    "The option *createmms* prepares the output file for [parallel\n",
    "processing](https://casa.nrao.edu/casadocs-devel/stable/parallel-processing)\n",
    "and creates a\n",
    "[multi-MS](https://casa.nrao.edu/casadocs-devel/stable/parallel-processing/the-multi-ms).\n",
    "\n",
    " \n",
    "\n"
   ]
  },
  {
   "cell_type": "markdown",
   "metadata": {},
   "source": [
    "#### Specifics on importing Janksy VLA data with importasdm\n",
    "\n",
    "As of CASA 5.4, the task importevla is no longer available to import\n",
    "JVLA data, but a lot of its functionality is replaced by importasdm.\n",
    "However, several additional steps are required to duplicate the\n",
    "behaviour of importevla when using importasdm, involving a difference in\n",
    "default parameters and the fact that some of the on-the-go flagging\n",
    "cannot be performed by importasdm.\n",
    "\n",
    "To mimic the behaviour of importevla, change the following parameters in\n",
    "**importasdm** from their default settings:\n",
    "\n",
    "-   *ocorr_mode = 'co'* to import cross-correlations only (discarding\n",
    "    auto-correlations)*  \n",
    "    *\n",
    "-   *with_pointing_correction = True* to add pointing corrections*  \n",
    "    *\n",
    "-   *process_flags = True* (default) to read in the online flags, then\n",
    "    *applyflags = True* to apply the online flags and/or *savecmd =\n",
    "    True* to save flag commands to an ascii table.\n",
    "-   For ephemeris objects: convert_ephem2geo = False\n",
    "\n",
    "While online flags can thus be created by leaving the parameter\n",
    "*process_flags = True* by default, additional flagging steps need to be\n",
    "performed after **importasdm** to flag zero values and shadowing of\n",
    "antennas:\n",
    "\n",
    "-   **Shadow flags:** use task **flagdata**, with *mode = 'shadow'* (and\n",
    "    optionally *reason = 'shadow'*). The parameters *tolerance* and\n",
    "    *addantenna* can be specified in flagdata in the same way they were\n",
    "    used in importevla. *  \n",
    "    *\n",
    "-   **Zero clipping flags:** use task **flagdata**, with ***mode =\n",
    "    'clip',*** *correlation = 'ABS_ALL',* and *clipzeros = True* (and\n",
    "    optionally *reason = 'clip'*)*.* Note that the non-default case in\n",
    "    importevla where *flagpol = False c*an be replicated by setting\n",
    "    *correlation=\"ABS_RR, ABS_LL\".*\n",
    "\n",
    "Like **importasdm**, the task **flagdata** can also save the flagging\n",
    "commands to an ascii table by setting *savepars = True.* To NOT apply\n",
    "the flags (*applyflags=False* in importevla) add *action='calculate'* to\n",
    "flagdata. You may also chose to add a reason using the cmdreason\n",
    "argument, e.g. *cmdreason=\"CLIP_ZERO_ALL\".*\n",
    "\n",
    "**WARNING***:* The task **flagdata** can only write out the flag\n",
    "commands for that invocation of flagdata. The default *overwrite=True*\n",
    "must be used to overwrite an existing file. In order to save the\n",
    "commands from all 3 possible flagging steps (importasdm, zero, and\n",
    "shadow) each step must be saved to a separate file, which must then be\n",
    "concatenated into a single file to be used to flag the data.\n",
    "\n",
    " \n",
    "\n"
   ]
  },
  {
   "cell_type": "markdown",
   "metadata": {},
   "source": [
    "#### Import of ASDM data with option *lazy=True*\n",
    "\n",
    "With *lazy=False,* **importasdm** will fill the visibilities into a\n",
    "newly created *DATA* column of the MS converting them from their binary\n",
    "format in the ASDM to the CASA Table format.\n",
    "\n",
    "If, however, *lazy* is set to *True*, the task will create the *DATA*\n",
    "column with an ALMA data-specific storage manager, the asdmstman, which\n",
    "enables CASA to directly read the binary data from the ASDM with\n",
    "on-the-fly conversion. No redundant copy of the raw data is created.\n",
    "\n",
    "This procedure has the advantage that it saves more than 60% disk space\n",
    "and at least in some cases makes the access to the *DATA* column ≥ 10%\n",
    "faster because the data I/O volume is decreased. For the same reason, it\n",
    "also accelerates the import itself by ca. a factor 2. The acceleration\n",
    "is particularly large in the **applycal** task and here particularly on\n",
    "standard SATA disks.\n",
    "\n",
    "E.g., if your ASDM has a size of 36 GB, the import with default\n",
    "parameters will turn this into an MS of 73 GB size (total disk space\n",
    "consumption = 36 GB + 73 GB = 109 GB). With *lazy=True*, the imported MS\n",
    "has a size of only 2 GB (total disk space consumption = 36 GB + 2 GB =\n",
    "38 GB). I.e. your total disk space savings are ca. 65%. Even when you\n",
    "compare to the case where you delete the ASDM after normal import, the\n",
    "solution with lazy import and keeping the ASDM will save you ca. 48%\n",
    "disk space (in the example above 38 GB compared to 73 GB).\n",
    "\n",
    "The only caveats are the following:\n",
    "\n",
    "1.  You must not delete your ASDM. You can, however, move it but you\n",
    "    have to update the reference stored in the MS. Symbolic links will\n",
    "    work. See below on how to use the tool method **ms.asdmref()** to\n",
    "    manipulate the ASDM reference.\n",
    "2.  The lazily imported *DATA* column is read-only. But in any normal\n",
    "    data reduction, the *DATA* column (as opposed to *CORRECTED_DATA*)\n",
    "    is treated as read-only anyway.\n",
    "\n",
    "The lazily imported MS is numerically identical with the traditionally\n",
    "imported MS and so are all results derived from the MSs.\n",
    "\n",
    "An important additional tool to manipulate lazily imported MSs is the\n",
    "new method **ms.asdmref()** in the **ms** tool. If the MS is imported\n",
    "from an ASDM with option *lazy=True*, the DATA column of the MS is\n",
    "virtual and directly reads the visibilities from the ASDM. A reference\n",
    "to the original ASDM is stored with the MS. If the ASDM needs to be\n",
    "moved to a different path, the reference to it in the MS needs to be\n",
    "updated. This can be achieved with **ms.asdmref()**.\n",
    "\n",
    "The method takes one argument: *abspath*. When called with *abspath*\n",
    "equal to an empty string (default), the method just reports the\n",
    "currently set ASDM path or an empty string if the ASDM path was not set,\n",
    "i.e. the MS was not lazily imported.\n",
    "\n",
    "If you want to move the referenced ASDM to a different path, you can set\n",
    "the new absolute path by providing it as the value of *abspath* to the\n",
    "method.\n",
    "\n",
    " ms.open('uid\\_\\_\\_A12345_X678_X910.ms',False)  \n",
    " ms.asdmref('/home/alma/myanalysis/uid\\_\\_\\_A12345_X678_X910')  \n",
    " ms.close()\n",
    "\n",
    "will set the new location of the referenced ASDM to /home/alma/myanalysis/uid\\_\\_\\_A12345_X678_X910.\n",
    "Contrary to what one would expect from the parameter name, you can also\n",
    "provide a *relative* path as *abspath*. This path will be interpreted as\n",
    "relative to the location of the MS.\n",
    "\n",
    "**Info**: the lazily imported MS itself\n",
    "can be moved without any restrictions independently from the referenced\n",
    "ASDM as long as the path to the ASDM remains accessible, even across\n",
    "file systems.\n",
    "\n"
   ]
  },
  {
   "cell_type": "markdown",
   "metadata": {},
   "source": [
    "####  \n",
    "\n"
   ]
  },
  {
   "cell_type": "markdown",
   "metadata": {},
   "source": [
    "### VLA: Filling data from archive format (importvla)\n",
    "\n",
    "VLA data in archive format (i.e., as downloaded from the historic VLA\n",
    "data archive) are read into CASA from disk using the **importvla** task.\n",
    "The inputs are:\n",
    "\n",
    "\\"
   ]
  },
  {
   "cell_type": "markdown",
   "metadata": {},
   "source": [
    "##  importvla :: import VLA archive file(s) to a MeasurementSet:  \n",
    "  \n",
    "archivefiles  =         ''   \\"
   ]
  },
  {
   "cell_type": "markdown",
   "metadata": {},
   "source": [
    "##  Name of input VLA archive file(s)  \n",
    "vis           =         ''   \\"
   ]
  },
  {
   "cell_type": "markdown",
   "metadata": {},
   "source": [
    "##  Name of output visibility file  \n",
    "bandname      =         ''   \\"
   ]
  },
  {
   "cell_type": "markdown",
   "metadata": {},
   "source": [
    "##  VLA frequency band name:''=\\>obtain all\n",
    "bands in archive files  \n",
    "frequencytol  =   150000.0   \\"
   ]
  },
  {
   "cell_type": "markdown",
   "metadata": {},
   "source": [
    "##  Frequency shift to define a unique\n",
    "spectral window (Hz)  \n",
    "project       =         ''   \\"
   ]
  },
  {
   "cell_type": "markdown",
   "metadata": {},
   "source": [
    "##  Project name:  '' =\\> all projects in\n",
    "file  \n",
    "starttime     =         ''   \\"
   ]
  },
  {
   "cell_type": "markdown",
   "metadata": {},
   "source": [
    "##  start time to search for data  \n",
    "stoptime      =         ''   \\"
   ]
  },
  {
   "cell_type": "markdown",
   "metadata": {},
   "source": [
    "##  end time to search for data  \n",
    "applytsys     =       True   \\"
   ]
  },
  {
   "cell_type": "markdown",
   "metadata": {},
   "source": [
    "##  apply nominal sensitivity scaling to\n",
    "data & weights  \n",
    "autocorr      =      False   \\"
   ]
  },
  {
   "cell_type": "markdown",
   "metadata": {},
   "source": [
    "##  import autocorrelations to ms, if set\n",
    "to True  \n",
    "antnamescheme =      'new'   \\"
   ]
  },
  {
   "cell_type": "markdown",
   "metadata": {},
   "source": [
    "##   'old' or 'new'; 'VA04' or '4' for ant\n",
    "4  \n",
    "keepblanks    =      False   \\"
   ]
  },
  {
   "cell_type": "markdown",
   "metadata": {},
   "source": [
    "##  Fill scans with empty source names\n",
    "(e.g. tipping scans)?  \n",
    "evlabands     =      False   \\"
   ]
  },
  {
   "cell_type": "markdown",
   "metadata": {},
   "source": [
    "##  Use updated eVLA frequencies and\n",
    "bandwidths\n",
    "\n",
    "The main parameters are *archivefiles* to specify the input VLA Archive\n",
    "format file names, and *vis* to specify the output MS name.\n",
    "\n",
    "**Info:** The scaling of VLA data both\n",
    "before and after the June 2007 Modcomp-turnoff is fully supported, based\n",
    "on the value of *applytsys*.\n",
    "\n",
    "Note that *archivefiles* takes a string or list of strings, as there are\n",
    "often multiple files for a project in the archive.\n",
    "\n",
    "For example:\n",
    "\n",
    "archivefiles = \\['AP314_A950519.xp1','AP314_A950519.xp2'\\]  \n",
    "   vis = 'NGC7538.ms'\n",
    "\n",
    "The **importvla** task allows selection on the frequency band. Suppose\n",
    "that you have 1.3 cm line observations in K-band and you have copied the\n",
    "archive data files AP314_A95019.xp\\*\n",
    "to your working directory and started casa. Then,\n",
    "\n",
    "  default('importvla')  \n",
    "   archivefiles =\n",
    "\\['AP314_A950519.xp1','AP314_A950519.xp2','AP314_A950519.xp3'\\]  \n",
    "   vis = 'ngc7538.ms'  \n",
    "   bandname = 'K'  \n",
    "   frequencytol = 10e6  \n",
    "   importvla()\n",
    "\n",
    "If the data is located in a different directory on disk, then use the\n",
    "full path name to specify each archive file, e.g.:\n",
    "\n",
    "archivefiles=\\['/home/rohir2/jmcmulli/ALMATST1/Data/N7538/AP314_A950519.xp1',\\\\  \n",
    "     '/home/rohir2/jmcmulli/ALMATST1/Data/N7538/AP314_A950519.xp2',\\\\  \n",
    "     '/home/rohir2/jmcmulli/ALMATST1/Data/N7538/AP314_A950519.xp3'\\]\n",
    "\n",
    "**Info:** **importvla** will import the\n",
    "on-line flags (from the VLA system) along with the data. Shadowed\n",
    "antennas will also be flagged. The flags will be put in the *MAIN* table\n",
    "and thus available to subsequent tasks and tools. If you wish to revert\n",
    "to unflagged data, use **flagmanager** to save the flags (if you wish),\n",
    "and then use **flagdata** with *mode=’manual’* and *unflag=True* to\n",
    "toggle off the flags.\n",
    "\n",
    " \n",
    "\n",
    "The other parameters are:\n",
    "\n"
   ]
  },
  {
   "cell_type": "markdown",
   "metadata": {},
   "source": [
    "##### Parameter applytsys\n",
    "\n",
    "The *applytsys* parameter controls whether the nominal sensitivity\n",
    "scaling (based on the measured *TSYS*, with the weights scaled\n",
    "accordingly using the integration time) is applied to the visibility\n",
    "amplitudes or not. If *True*, then it will be scaled so as to be the\n",
    "same as AIPS **FILLM** (i.e. approximately in deciJanskys). Note that\n",
    "post-Modcomp data is in raw correlation coefficient and will be scaled\n",
    "using the *TSYS* values, while Modcomp-era data had this applied online.\n",
    "In all cases **importvla** will do the correct thing to data and weights\n",
    "based on an internal flag in the VLA Archive file, either scaling it or\n",
    "unscaling based on your choice for *applytsys*.\n",
    "\n",
    "If *applytsys=True* and you see strange behavior in data amplitudes, it\n",
    "may be due to erroneous *TSYS* values from the online system. You might\n",
    "want to then fill with *applytsys=False* and look at the correlation\n",
    "coefficients to see if the behavior is as expected.\n",
    "\n"
   ]
  },
  {
   "cell_type": "markdown",
   "metadata": {},
   "source": [
    "##### Parameter bandname\n",
    "\n",
    "The *bandname* indicates the VLA Frequency band(s) to load, using the\n",
    "traditional bandname codes. These are:\n",
    "\n",
    "-   ’4’ = 48-96 MHz\n",
    "-   ’P’ = 298-345 MHz\n",
    "-   ’L’ = 1.15-1.75 GHz\n",
    "-   ’C’ = 4.2-5.1 GHz\n",
    "-   ’X’ = 6.8-9.6 GHz\n",
    "-   ’U’ = 13.5-16.3 GHz\n",
    "-   ’K’ = 20.8-25.8 GHz\n",
    "-   ’Q’ = 38-51 GHz\n",
    "-   ’’ = all bands (default)\n",
    "\n",
    "Note that as the transition from the VLA to JVLA progressed, the actual\n",
    "frequency ranges covered by the bands expanded, and additional bands\n",
    "were added (namely ’S’ from 2-4 GHz and ’A’ from 26.4-40 GHz).\n",
    "\n"
   ]
  },
  {
   "cell_type": "markdown",
   "metadata": {},
   "source": [
    "##### Parameter frequencytol\n",
    "\n",
    "The *frequencytol* parameter specifies the frequency separation\n",
    "tolerated when assigning data to spectral windows. The default is\n",
    "*frequencytol=150000* (Hz). For Doppler tracked data, where the sky\n",
    "frequency changes with time, a *frequencytol* \\< 10000 Hz may produce\n",
    "too many unnecessary spectral windows.\n",
    "\n"
   ]
  },
  {
   "cell_type": "markdown",
   "metadata": {},
   "source": [
    "##### Parameter project\n",
    "\n",
    "You can specify a specific *project* name to import from archive files.\n",
    "The default ’’ will import data from all projects in file(s)\n",
    "archivefiles.\n",
    "\n",
    "For example for VLA Project AL519:\n",
    "\n",
    "project = 'AL519'    \\"
   ]
  },
  {
   "cell_type": "markdown",
   "metadata": {},
   "source": [
    "## this will work  \n",
    "project = 'al519'    \\"
   ]
  },
  {
   "cell_type": "markdown",
   "metadata": {},
   "source": [
    "## this will also work\n",
    "\n",
    "while *project=’AL0519’* will NOT work (even though that is what queries\n",
    "to the VLA Archive will print it as - sorry!).\n",
    "\n"
   ]
  },
  {
   "cell_type": "markdown",
   "metadata": {},
   "source": [
    "##### Parameters starttime and stoptime\n",
    "\n",
    "You can specify start and stop times for the data, e.g.:\n",
    "\n",
    "starttime = '1970/1/31/00:00:00'  \n",
    "stoptime = '2199/1/31/23:59:59'\n",
    "\n",
    "Note that the blank defaults will load all data fitting other criteria.\n",
    "\n"
   ]
  },
  {
   "cell_type": "markdown",
   "metadata": {},
   "source": [
    "##### Parameter autocorr\n",
    "\n",
    "Note that autocorrelations are filled into the data set if\n",
    "*autocorr=True*. Generally for the VLA, autocorrelation data is not\n",
    "useful, and furthermore the imaging routine will try to image the\n",
    "autocorrelation data (it assumes it is single dish data) which will\n",
    "swamp any real signal. Thus, if you do fill the autocorrelations, you\n",
    "will have to flag them before imaging.\n",
    "\n"
   ]
  },
  {
   "cell_type": "markdown",
   "metadata": {},
   "source": [
    "##### Parameter antnamescheme\n",
    "\n",
    "The *antnamescheme* parameter controls whether **importvla** will try to\n",
    "use a naming scheme where JVLA antennas are prefixed with EA (e.g.\n",
    "’EA16’) and old VLA antennas have names prefixed with VA (e.g. ’VA11’).\n",
    "Our method to detect whether an antenna is JVLA is not yet perfected,\n",
    "and thus unless you require this feature, simply use\n",
    "*antnamescheme=’old’*.\n",
    "\n"
   ]
  },
  {
   "cell_type": "markdown",
   "metadata": {},
   "source": [
    "##### Parameter evlabands\n",
    "\n",
    "The *evlabands=True* option is provided to allow users to access JVLA\n",
    "frequencies outside the standard VLA tunings (e.g. the extended C-band\n",
    "above 6 GHz).\n",
    "\n",
    "**ALERT:** use of this option for\n",
    "standard VLA data will cause unexpected associations, such as X-band\n",
    "data below 8 GHz being extracted to C-band (as the JVLA C-band is\n",
    "4–8 GHz). Use with care.\n",
    "\n",
    " \n",
    "\n"
   ]
  },
  {
   "cell_type": "markdown",
   "metadata": {},
   "source": [
    "### Import ATCA and CARMA data\n",
    "\n",
    "There are several ways to import data from ATCA and CARMA into CASA. The\n",
    "data from these arrays has historically been processed in MIRIAD. For\n",
    "simple cases (single source and frequency) exporting from MIRIAD to\n",
    "UVFITS format and importing using **importuvfits** often works ok,\n",
    "although some fixes to the resulting MeasurementSet may be needed.\n",
    "\n",
    "The **importmiriad** task reads MIRIAD visibility data and can handle\n",
    "multiple frequencies and sources in the input. Since it does not apply\n",
    "any calibration, make sure to apply it beforehand in MIRIAD.\n",
    "\n",
    "The **importatca** task reads the ATCA archive format (RPFITS) directly,\n",
    "avoiding the need to go through MIRIAD to load the data. It can handle\n",
    "ATCA data from both the old and new (CABB) correlator.\n",
    "\n",
    " \n",
    "\n"
   ]
  },
  {
   "cell_type": "markdown",
   "metadata": {},
   "source": [
    "#### Import MIRIAD visibilities (importmiriad)\n",
    "\n",
    "The task **importmiriad** allows one to import visibilities in the\n",
    "MIRIAD data format to be converted to a MS. The task has mainly been\n",
    "tested on data from the ATCA and CARMA telescopes and the inputs are:\n",
    "\n",
    "\\"
   ]
  },
  {
   "cell_type": "markdown",
   "metadata": {},
   "source": [
    "##  importmiriad :: Convert a Miriad visibility file into a CASA\n",
    "MeasurementSet  \n",
    "mirfile             =         ''        \\"
   ]
  },
  {
   "cell_type": "markdown",
   "metadata": {},
   "source": [
    "##  Name of input Miriad\n",
    "visibility file  \n",
    "vis                 =         ''        \\"
   ]
  },
  {
   "cell_type": "markdown",
   "metadata": {},
   "source": [
    "##  Name of output\n",
    "MeasurementSet  \n",
    "tsys                =      False        \\"
   ]
  },
  {
   "cell_type": "markdown",
   "metadata": {},
   "source": [
    "##  Use the Tsys to set the\n",
    "visibility weights  \n",
    "spw                 =      'all'        \\"
   ]
  },
  {
   "cell_type": "markdown",
   "metadata": {},
   "source": [
    "##  Select spectral windows  \n",
    "vel                 =         ''        \\"
   ]
  },
  {
   "cell_type": "markdown",
   "metadata": {},
   "source": [
    "##  Select velocity reference\n",
    "(TOPO,LSRK,LSRD)  \n",
    "linecal             =      False        \\"
   ]
  },
  {
   "cell_type": "markdown",
   "metadata": {},
   "source": [
    "##  (CARMA) Apply line\n",
    "calibration  \n",
    "wide                =      'all'        \\"
   ]
  },
  {
   "cell_type": "markdown",
   "metadata": {},
   "source": [
    "##  (CARMA) Select wide window\n",
    "averages  \n",
    "debug               =          0        \\"
   ]
  },
  {
   "cell_type": "markdown",
   "metadata": {},
   "source": [
    "##  Display increasingly verbose\n",
    "debug messages\n",
    "\n",
    "The *mirfile* parameter specifies a single MIRIAD visibility file which\n",
    "should have any calibration done in MIRIAD already applied to it.\n",
    "\n",
    "Set the *tsys* parameter to *True* to change the visibility weights from\n",
    "the MIRIAD default (usually the integration time) to the inverse of the\n",
    "noise variance using the recorded system temperature.\n",
    "\n",
    "The *spw* parameter can be used to select all or some of the\n",
    "simultaneous spectral windows from the input file. Use the default of\n",
    "’all’ for all the data or use e.g., *spw=’0,2’* to select the first and\n",
    "third window.\n",
    "\n",
    "The *vel* parameter can be used to set the output velocity frame\n",
    "reference. For ATCA this defaults to ’*TOPO*’ and for CARMA it defaults\n",
    "to ’*LSRK*’. Only change this if your data comes out with the incorrect\n",
    "velocity.\n",
    "\n",
    "The *linecal* parameter is only useful for CARMA data and can apply the\n",
    "line calibration if it is stored with the MIRIAD data.\n",
    "\n",
    "The *wide* parameter is only useful for CARMA data and can select which\n",
    "of the wide-band channels should be loaded.\n",
    "\n",
    " \n",
    "\n"
   ]
  },
  {
   "cell_type": "markdown",
   "metadata": {},
   "source": [
    "#### Import ATCA RPFITS data (importatca)\n",
    "\n",
    "The data from the ATCA is available from the archive in files in the\n",
    "RPFITS format. These files can be imported into CASA with the\n",
    "**importatca** task.\n",
    "\n",
    "\\"
   ]
  },
  {
   "cell_type": "markdown",
   "metadata": {},
   "source": [
    "##  importatca :: Import ATCA RPFITS file(s) to a MeasurementSet  \n",
    "files               =\\['\\*.C1234'\\]        \\"
   ]
  },
  {
   "cell_type": "markdown",
   "metadata": {},
   "source": [
    "##  Name of input ATCA RPFits\n",
    "file(s)  \n",
    "vis                 = 'c1234.ms'        \\"
   ]
  },
  {
   "cell_type": "markdown",
   "metadata": {},
   "source": [
    "##  Name of output visibility\n",
    "file  \n",
    "                                        \\"
   ]
  },
  {
   "cell_type": "markdown",
   "metadata": {},
   "source": [
    "##   (MeasurementSet)  \n",
    "options             =         ''        \\"
   ]
  },
  {
   "cell_type": "markdown",
   "metadata": {},
   "source": [
    "##  Processing options: birdie,\n",
    "reweight,  \n",
    "                                        \\"
   ]
  },
  {
   "cell_type": "markdown",
   "metadata": {},
   "source": [
    "##   noxycorr, fastmosaic,\n",
    "hires, noac  \n",
    "                                        \\"
   ]
  },
  {
   "cell_type": "markdown",
   "metadata": {},
   "source": [
    "##   (comma separated list)  \n",
    "spw                 =       \\[-1\\]        \\"
   ]
  },
  {
   "cell_type": "markdown",
   "metadata": {},
   "source": [
    "##  Specify the spectral\n",
    "windows to use,  \n",
    "                                        \\"
   ]
  },
  {
   "cell_type": "markdown",
   "metadata": {},
   "source": [
    "##   default=all  \n",
    "nscans              =     \\[0, 0\\]        \\"
   ]
  },
  {
   "cell_type": "markdown",
   "metadata": {},
   "source": [
    "##  Number of scans to skip\n",
    "followed by  \n",
    "                                        \\"
   ]
  },
  {
   "cell_type": "markdown",
   "metadata": {},
   "source": [
    "##   number of scans to read  \n",
    "lowfreq             =   '0.1GHz'        \\"
   ]
  },
  {
   "cell_type": "markdown",
   "metadata": {},
   "source": [
    "##  Lowest reference frequency\n",
    "to select  \n",
    "highfreq            =   '999GHz'        \\"
   ]
  },
  {
   "cell_type": "markdown",
   "metadata": {},
   "source": [
    "##  Highest reference frequency\n",
    "to select  \n",
    "fields              =       \\[''\\]        \\"
   ]
  },
  {
   "cell_type": "markdown",
   "metadata": {},
   "source": [
    "##  List of field names to\n",
    "select  \n",
    "edge                =          8        \\"
   ]
  },
  {
   "cell_type": "markdown",
   "metadata": {},
   "source": [
    "##  Percentage of edge channels\n",
    "to flag.  \n",
    "                                        \\"
   ]
  },
  {
   "cell_type": "markdown",
   "metadata": {},
   "source": [
    "##   For combined zooms, this\n",
    "specifies  \n",
    "                                        \\"
   ]
  },
  {
   "cell_type": "markdown",
   "metadata": {},
   "source": [
    "##   the percentage for a single\n",
    "zoom  \n",
    "                                        \\"
   ]
  },
  {
   "cell_type": "markdown",
   "metadata": {},
   "source": [
    "##   window\n",
    "\n",
    "The files parameter can take a string or a list of strings as input and\n",
    "also allows the use of wildcards as shown in the example above.\n",
    "\n",
    "For older ATCA continuum data (before the CABB correlator, April 2009)\n",
    "use *options=’birdie,reweight’* to suppress internally generated RFI.\n",
    "\n",
    "The options parameter:\n",
    "\n",
    "-   *birdie* - (pre-CABB data only) Discard edge channels and channels\n",
    "    affected by internal RFI.\n",
    "-   *reweight* - (pre-CABB data only) Suppress ringing of RFI spikes by\n",
    "    reweighting of the lag spectrum\n",
    "-   *noxycorr* - do not apply the xy phase correction as derived from\n",
    "    the switched noise calibration, by default this is applied during\n",
    "    loading of the data.\n",
    "-   *fastmosaic* - use this option if you are loading mosaic data with\n",
    "    many pointings and only one or two integrations per pointing. This\n",
    "    option changes the tiling of the data to avoid excessive I/O.\n",
    "-   *hires* - use this option if you have data in time binning mode (as\n",
    "    used for pulsars) but you want to make it look like data with very\n",
    "    short integration time (no bins).\n",
    "-   *noac* - discard the auto-correlation data\n",
    "\n",
    "The *spw* parameter takes a list of integers and can be used to select\n",
    "one or more of the simultaneous frequencies. With CABB there can be up\n",
    "to 34 spectra. The order of the frequency bands in the RPFITS file is:\n",
    "the two continuum bands (0 and 1), followed by the zoom bands for the\n",
    "first frequency and then the zoom bands for the second frequency. Note\n",
    "that this *spw* parameter does not take a string with wildcards. Use\n",
    "*spw=-1* to get all the data.\n",
    "\n",
    "The *nscans* parameter can be used to select part of a file, e.g., to\n",
    "retrieve a few test scans for a quick look.\n",
    "\n",
    "The *lowfreq* and *highfreq* parameters select data based on the\n",
    "reference frequency.\n",
    "\n",
    "The *fields* parameter selects data based on the field/source name.\n",
    "\n",
    "The *edge* parameter specifies how many edge channels to discard as a\n",
    "percentage of the number of channels in each band. E.g., the default\n",
    "value of 8 will discard 8 channels from the top and bottom of a 2048\n",
    "channel spectrum.\n",
    "\n",
    " \n",
    "\n"
   ]
  },
  {
   "cell_type": "markdown",
   "metadata": {},
   "source": [
    "#### UVFITS Import\n",
    "\n",
    " \n",
    "\n",
    "The UVFITS format is not exactly a standard, but is a popular archive\n",
    "and transport format nonetheless. CASA supports UVFITS files written by\n",
    "the AIPS FITTP task, and others.\n",
    "\n",
    "UVFITS is supported for both import and export.\n",
    "\n"
   ]
  },
  {
   "cell_type": "markdown",
   "metadata": {},
   "source": [
    "##### Import using importuvfits\n",
    "\n",
    "To import UVFITS format data into CASA, use the **importuvfits** task:\n",
    "\n",
    "\\#In CASA: inp(importuvfits)  \n",
    "fitsfile            =         ''  \\"
   ]
  },
  {
   "cell_type": "markdown",
   "metadata": {},
   "source": [
    "## Name of input UVFITS file  \n",
    "vis                 =         ''  \\"
   ]
  },
  {
   "cell_type": "markdown",
   "metadata": {},
   "source": [
    "## Name of output visibility file\n",
    "(MS)  \n",
    "antnamescheme       =      'old'  \\"
   ]
  },
  {
   "cell_type": "markdown",
   "metadata": {},
   "source": [
    "## For VLA only; 'new' or 'old';\n",
    "'VA04' or '04' for VLA ant 4\n",
    "\n",
    "This is straightforward, since all it does is read in a UVFITS file and\n",
    "convert it as best it can into a MS.\n",
    "\n",
    "For example:\n",
    "\n",
    "importuvfits(fitsfile='NGC5921.fits',vis='ngc5921.ms')\n",
    "\n",
    "**INFO: **Here is a hint for handling\n",
    "CARMA data loaded into CASA using importuvfits:  \n",
    "  \n",
    "tb.open(\"c0104I/ANTENNA\",nomodify=False)  \n",
    "namelist=tb.getcol(\"NAME\").tolist()  \n",
    "for i in range(len(namelist)):  \n",
    " name = 'CA'+namelist\\[i\\]  \n",
    " print ' Changing '+namelist\\[i\\]+' to '+name  \n",
    " namelist\\[i\\]=name  \n",
    "   \n",
    "tb.putcol(\"NAME\",namelist)  \n",
    "tb.close()\n",
    "\n",
    " \n",
    "\n"
   ]
  },
  {
   "cell_type": "markdown",
   "metadata": {},
   "source": [
    "##### Import using importfitsidi\n",
    "\n",
    "Some **uvfits** data is written in the FITS-IDI standard. Those files\n",
    "can be imported into CASA with the **importfitsidi** task:\n",
    "\n",
    "\\"
   ]
  },
  {
   "cell_type": "markdown",
   "metadata": {},
   "source": [
    "##  importfitsidi :: Convert a FITS-IDI file to a CASA visibility data\n",
    "set  \n",
    "fitsidifile         =       \\[''\\]       \\"
   ]
  },
  {
   "cell_type": "markdown",
   "metadata": {},
   "source": [
    "##  Name(s) of input FITS-IDI\n",
    "file(s)  \n",
    "vis                 =          ''       \\"
   ]
  },
  {
   "cell_type": "markdown",
   "metadata": {},
   "source": [
    "##  Name of output visibility\n",
    "file (MS)  \n",
    "constobsid          =      False        \\"
   ]
  },
  {
   "cell_type": "markdown",
   "metadata": {},
   "source": [
    "##  If True, give constant obs\n",
    "ID==0 to  \n",
    "                                        \\"
   ]
  },
  {
   "cell_type": "markdown",
   "metadata": {},
   "source": [
    "##   the data from all input\n",
    "fitsidi  \n",
    "                                        \\"
   ]
  },
  {
   "cell_type": "markdown",
   "metadata": {},
   "source": [
    "##   files (False = separate obs\n",
    "id for  \n",
    "                                        \\"
   ]
  },
  {
   "cell_type": "markdown",
   "metadata": {},
   "source": [
    "##   each file)  \n",
    "scanreindexgap_s    =        0.0        \\"
   ]
  },
  {
   "cell_type": "markdown",
   "metadata": {},
   "source": [
    "##  min time gap (seconds)\n",
    "between  \n",
    "                                        \\"
   ]
  },
  {
   "cell_type": "markdown",
   "metadata": {},
   "source": [
    "##   integrations to start a new\n",
    "scan\n",
    "\n",
    "The *constobs* parameter can be used to give all visibilities the same\n",
    "observation id of 0. *scanreindexgap_s* controls the gap that defines\n",
    "different scans.\n",
    "\n",
    "Example:\n",
    "\n",
    "importfitsidi(fitsidifile='NGC1300.fits',vis='NGC1300.ms')"
   ]
  }
 ],
 "metadata": {},
 "nbformat": 4,
 "nbformat_minor": 5
}
