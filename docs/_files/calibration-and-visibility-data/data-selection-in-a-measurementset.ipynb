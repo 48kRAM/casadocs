{
 "cells": [
  {
   "cell_type": "markdown",
   "metadata": {},
   "source": [
    "# Visibility Data Selection\n",
    "\n",
    "How to select visibility data\n",
    "\n",
    "Once in MS form, subsets of the data\n",
    "can be operated on using the tasks and tools. In CASA, there are three\n",
    "common data selection parameters used in the various tasks: *field*, *spw*,\n",
    "and *selectdata*. In addition, the *selectdata* parameter, if set to *True*, will open up\n",
    "a number of other sub-parameters for selection. The selection operation\n",
    "is unified across all the tasks. The available *selectdata* parameters\n",
    "may not be the same in all tasks. But if present, the same parameters\n",
    "mean the same thing and behave in the same manner when used in any\n",
    "task.\n",
    "\n",
    "For example:\n",
    "\n",
    "field = ''         \\"
   ]
  },
  {
   "cell_type": "markdown",
   "metadata": {},
   "source": [
    "## field names or index of calibrators ''==\\>all  \n",
    "spw = ''           \\"
   ]
  },
  {
   "cell_type": "markdown",
   "metadata": {},
   "source": [
    "## spectral window:channels: ''==\\>all  \n",
    "selectdata = False \\"
   ]
  },
  {
   "cell_type": "markdown",
   "metadata": {},
   "source": [
    "## Other data selection parameters\n",
    "\n",
    "versus\n",
    "\n",
    "field = ''         \\"
   ]
  },
  {
   "cell_type": "markdown",
   "metadata": {},
   "source": [
    "## field names or index of calibrators ''==\\>all  \n",
    "spw = ''           \\"
   ]
  },
  {
   "cell_type": "markdown",
   "metadata": {},
   "source": [
    "## spectral window:channels: ''==\\>all  \n",
    "selectdata = True  \\"
   ]
  },
  {
   "cell_type": "markdown",
   "metadata": {},
   "source": [
    "## Other data selection parameters  \n",
    "timerange = ''     \\"
   ]
  },
  {
   "cell_type": "markdown",
   "metadata": {},
   "source": [
    "## time range: ''==\\>all  \n",
    "uvrange = ''       \\"
   ]
  },
  {
   "cell_type": "markdown",
   "metadata": {},
   "source": [
    "## uv range''=all  \n",
    "antenna = ''       \\"
   ]
  },
  {
   "cell_type": "markdown",
   "metadata": {},
   "source": [
    "## antenna/baselines: ''==\\>all  \n",
    "scan = ''          \\"
   ]
  },
  {
   "cell_type": "markdown",
   "metadata": {},
   "source": [
    "## scan numbers  \n",
    "msselect = ''      \\"
   ]
  },
  {
   "cell_type": "markdown",
   "metadata": {},
   "source": [
    "## Optional data selection (Specialized. but see\n",
    "help)\n",
    "\n",
    "The following are the general syntax\n",
    "rules and descriptions of the individual selection parameters of\n",
    "particular interest for the tasks.\n",
    "\n",
    " \n",
    "\n",
    "**Info:** The full documentation of the\n",
    "MeasurementSet data selection syntax can be found on the [CASAcore\n",
    "documentation](https://casacore.github.io/casacore-notes/) page,\n",
    "document 263 \"[Measurement Selection\n",
    "Syntax](https://casacore.github.io/casacore-notes/263.html)\" (see also\n",
    "[CASA Memo\n",
    "1](https://casa.nrao.edu/casadocs-devel/stable/memo-series/casa-memos/casa_memo3_msselection_bhatnagar.pdf)).\n",
    "Links to relevant subsections are provided in the subsections\n",
    "below.\n",
    "\n"
   ]
  },
  {
   "cell_type": "markdown",
   "metadata": {},
   "source": [
    "####  \n",
    "\n"
   ]
  },
  {
   "cell_type": "markdown",
   "metadata": {},
   "source": [
    "### General selection syntax\n",
    "\n",
    "Most\n",
    "of the selections are effected through the use of selection strings.\n",
    "This sub-section describes the general rules used in constructing and\n",
    "parsing these strings. Note that some selections are done through the\n",
    "use of numbers or lists. There are also parameter-specific rules that\n",
    "are described under each parameter.\n",
    "\n",
    "All lists of basic selection\n",
    "specification-units are comma separated lists and can be of any length.\n",
    "White-spaces before and after the commas (e.g. *’3C286, 3C48, 3C84’*) are ignored, while white-space within\n",
    "sub-strings is treated as part of the sub-string (e.g.* **’3C286, VIRGO A, 3C84’*). In some cases, spaces need to be quoted,\n",
    "e.g. *\"’spw 1’\"* (note the double quote around the single\n",
    "quotes).\n",
    "\n",
    "All integers can be of any length (in terms\n",
    "of characters) composed of the characters 0–9. Floating point numbers can be in the\n",
    "standard format (*DIGIT.DIGIT*, *DIGIT.*, or *.DIGIT*) or in the mantissa-exponent format\n",
    "(e.g. *1.4e9*). Places where only integers make sense\n",
    "(e.g. IDs), if a floating point number is given, only the integer part\n",
    "is used (it is truncated).\n",
    "\n",
    "Range of numbers (integers or real numbers)\n",
    "can be given in the format\n",
    "*'N0\\~N1'*. For\n",
    "integer ranges, it is expanded\n",
    "into a list of integers starting from *N0* (inclusive) to *N1* (inclusive). For real numbers, it is used to\n",
    "select all values present for the appropriate parameter in the\n",
    "MeasurementSet between *N0* and *N1* (including the boundaries). Note that\n",
    "the `'~'` (tilde) character is\n",
    "used rather than the more obvious ’*-*’ in order to accommodate hyphens in strings\n",
    "and minus signs in numbers.\n",
    "\n",
    "Wherever appropriate, units can be\n",
    "specified. The units are used to convert the values given to the units\n",
    "used\n",
    "in the MeasurementSet. For ranges, the unit is specified only once (at\n",
    "the end) and applies to both the range boundaries.\n",
    "\n",
    " \n",
    "\n"
   ]
  },
  {
   "cell_type": "markdown",
   "metadata": {},
   "source": [
    "### String Matching\n",
    "\n",
    "String matching can be done in three ways.\n",
    "Any component of a comma separated list that cannot be parsed as a\n",
    "number, a number range, or a physical quantity is treated as a regular\n",
    "expression or a literal string. If the string does not contain the\n",
    "characters *’\\*’, ’{’, ’}’** *or *’?’*, it is treated as a\n",
    "literal string and used for exact matching. If any of the above\n",
    "mentioned characters are part of the string, they are used as a regular\n",
    "expression. As a result, for most cases, the user does not need to\n",
    "supply any special delimiters for literal strings and/or regular\n",
    "expressions. For example:\n",
    "\n",
    "field = '3'    \\"
   ]
  },
  {
   "cell_type": "markdown",
   "metadata": {},
   "source": [
    "## match field ID 3 and not select field named \"3C286\".\n",
    "\n",
    "field = '3\\*'   \\"
   ]
  },
  {
   "cell_type": "markdown",
   "metadata": {},
   "source": [
    "## used as a pattern and matched against field names.\n",
    "If  \n",
    "               \\"
   ]
  },
  {
   "cell_type": "markdown",
   "metadata": {},
   "source": [
    "## names like \"3C84\", \"3C286\", \"3020+2207\" are found,  \n",
    "               \\"
   ]
  },
  {
   "cell_type": "markdown",
   "metadata": {},
   "source": [
    "## all will match. Field ID 3 will not be selected  \n",
    "               \\"
   ]
  },
  {
   "cell_type": "markdown",
   "metadata": {},
   "source": [
    "## (unless of course one of the above mentioned field  \n",
    "               \\"
   ]
  },
  {
   "cell_type": "markdown",
   "metadata": {},
   "source": [
    "## names also correspond to field ID 3!).\n",
    "\n",
    "field = '30\\*'  \\"
   ]
  },
  {
   "cell_type": "markdown",
   "metadata": {},
   "source": [
    "## will match only with \"3020+2207\" in above set.\n",
    "\n",
    "However if it is required that the\n",
    "string be matched exclusively as a regular expression, it can be\n",
    "supplied within a pair of *’/’* as delimiters (e.g. *’/.+BAND.+/’*). A string enclosed within double quotes\n",
    "(*’\"’*) is used exclusively for pattern matching\n",
    "(patterns are a simplified form of regular expressions - used in most\n",
    "UNIX commands for string matching). Patterns are internally converted to\n",
    "equivalent regular expressions before matching. See the Unix\n",
    "command \"info\n",
    "regex\", or\n",
    "visit [http://www.regular-expressions.info](http://www.regular-expressions.info), for details of regular expressions and\n",
    "patterns.\n",
    "\n",
    "Strings can include any character\n",
    "except the following:\n",
    "\n",
    "',' ';' '\"' '/' NEWLINE\n",
    "\n",
    "(since these are part of the selection\n",
    "syntax). Strings that do not contain any of the characters used to\n",
    "construct regular expressions or patterns are used for exact matches.\n",
    "Although it is highly discouraged to have name in the MS containing the\n",
    "above mentioned reserved characters, if one does choose to include the reserved characters as\n",
    "parts of names etc., those names can only be matched against quoted\n",
    "strings (since regular expression and patterns are a super-set of\n",
    "literal strings – i.e., a literal string is also a valid regular\n",
    "expression).\n",
    "\n",
    "This leaves *’\"’, ’\\*’, ’{’, ’}’* or *’?’** *as the list of printable character that\n",
    "cannot be part of a name (i.e., a name containing this character can\n",
    "never be matched in a MSSelection expression). These will be treated as\n",
    "pattern-matching even inside double double quotes (*’\" \"’*). There is currently no escape mechanism\n",
    "(e.g. via a backslash).\n",
    "\n",
    "Some examples of strings, regular\n",
    "expressions, and patterns:\n",
    "\n",
    "-   The string *’LBAND’** *will be used as a literal string for\n",
    "    exact match. It will match only the exact string *LBAND*.\n",
    "-   The wildcarded string *’\\*BAND\\*’* will be used as a string pattern for\n",
    "    matching. This will match any string which has the\n",
    "    sub-string *BAND* in it.\n",
    "-   The string *’\"\\*BAND\\*\"’* will also be used as a string pattern,\n",
    "    matching any string which has the sub-string *BAND* in it.\n",
    "-   The string *’/.+BAND.+/’* will be used as a regular expression.\n",
    "    This will also match any string which as the\n",
    "    sub-string *BAND* in it. (the *.+* regex operator has the same meaning as\n",
    "    the *\\*** *wildcard operator of\n",
    "    patterns).\n",
    "\n"
   ]
  },
  {
   "cell_type": "markdown",
   "metadata": {},
   "source": [
    "####  \n",
    "\n"
   ]
  },
  {
   "cell_type": "markdown",
   "metadata": {},
   "source": [
    "### The *field* Parameter\n",
    "\n",
    "The *field* parameter is a string that specifies which\n",
    "field names or ids will be processed in the task or tool. The field\n",
    "selection expression consists of comma separated list of field\n",
    "specifications inside the string.\n",
    "\n",
    "Field specifications can be literal\n",
    "field names, regular expressions or patterns (see above). Those fields for which the entry in\n",
    "the NAME column of the *FIELD* MS sub-table match the literal field\n",
    "name/regular expression/pattern are selected. If a field name/regular\n",
    "expression/pattern fails to match any field name, the given name/regular\n",
    "expression/pattern are matched against the field code. If still no field\n",
    "is selected, an exception is thrown.\n",
    "\n",
    "Field specifications can also be given by\n",
    "their integer *IDs*. *IDs* can be a single or a range of *IDs*. Field\n",
    "*ID* selection can also be done as a boolean expression. For a field\n",
    "specification of the form *’\\>ID’*, all field IDs greater than ID are selected.\n",
    "Similarly for *’\\<ID’* all field *IDs* less than the *ID* are\n",
    "selected.\n",
    "\n",
    "For example, if the\n",
    "MS has the following observations:\n",
    "\n",
    "MS summary:  \n",
    "==========  \n",
    "FIELDID SPWID NChan Pol NRows Source Name  \n",
    "---------------------------------------------------------------  \n",
    "0 0 127 RR 10260 0530+135  \n",
    "1 0 127 RR 779139 05582+16320  \n",
    "2 0 127 RR 296190 05309+13319  \n",
    "3 0 127 RR 58266 0319+415  \n",
    "4 0 127 RR 32994 1331+305  \n",
    "5 1 1 RR,RL,LL,RR 23166 KTIP\n",
    "\n",
    "one might select\n",
    "\n",
    "field\n",
    "= '0\\~2,KTIP'  \\"
   ]
  },
  {
   "cell_type": "markdown",
   "metadata": {},
   "source": [
    "## FIELDID 0,1,2 and field name KTIP  \n",
    "field = '0530+135' \\"
   ]
  },
  {
   "cell_type": "markdown",
   "metadata": {},
   "source": [
    "## field 0530+135  \n",
    "\n",
    "field = '05\\*'          \\"
   ]
  },
  {
   "cell_type": "markdown",
   "metadata": {},
   "source": [
    "## fields\n",
    "0530+135,05582+16320,05309+13319 \n",
    "\n"
   ]
  },
  {
   "cell_type": "markdown",
   "metadata": {},
   "source": [
    "####   \n",
    "\n",
    "[**Field\n",
    "Selection**](http://casacore.github.io/casacore-notes/263.html#x1-190004 \"Field Selection\")\n",
    "- Expression for selection data along frequency axis (CASAcore docs)\n",
    "\n",
    " \n",
    "\n"
   ]
  },
  {
   "cell_type": "markdown",
   "metadata": {},
   "source": [
    "### The *spw* Parameter\n",
    "\n",
    "The *spw* parameter is a string that indicates the\n",
    "specific spectral windows and the channels within them to be used in\n",
    "subsequent processing. Spectral window selection (*’SPWSEL’*) can be given as a spectral window integer\n",
    "*ID*, a list of integer *IDs*, a spectral window name specified as a\n",
    "literal string (for exact match) or a regular expression or\n",
    "pattern.\n",
    "\n",
    "The specification can be via frequency ranges\n",
    "or by indexes. A range of frequencies are used to select all spectral\n",
    "windows which contain channels within the given range. Frequencies can\n",
    "be specified with an optional unit — the default unit\n",
    "being *Hz*. Other common choices for radio and\n",
    "mm/sub-mm data are *kHz, MHz**,* and *GHz*.\n",
    "You will get the entire spectral windows, not just the channels in the\n",
    "specified range. You will need to do channel selection (see below) to do\n",
    "that.\n",
    "\n",
    "The spw can also be selected via comparison for\n",
    "integer IDs. For example, *’\\>ID’** *will select all spectral windows with *ID*\n",
    "greater than the specified value, while *’\\<ID’** *will select those with *ID* lesser than\n",
    "the specified value.\n",
    "\n",
    "Spectral\n",
    "window selection using strings follows the standard rules: \n",
    "\n",
    "spw\n",
    "= '1'                      \\"
   ]
  },
  {
   "cell_type": "markdown",
   "metadata": {},
   "source": [
    "## SPWID 1  \n",
    " spw = '1,3,5'                \\"
   ]
  },
  {
   "cell_type": "markdown",
   "metadata": {},
   "source": [
    "## SPWID\n",
    "1,3,5  \n",
    " spw = '0\\~3'                  \\"
   ]
  },
  {
   "cell_type": "markdown",
   "metadata": {},
   "source": [
    "## SPWID\n",
    "0,1,2,3  \n",
    " spw = '0\\~3,5'               \\"
   ]
  },
  {
   "cell_type": "markdown",
   "metadata": {},
   "source": [
    "## SPWID\n",
    "0,1,2,3 and 5  \n",
    " spw = '\\<3,5'                 \\"
   ]
  },
  {
   "cell_type": "markdown",
   "metadata": {},
   "source": [
    "## SPWID\n",
    "0,1,2,3 and 5  \n",
    " spw = '\\*'                      \\"
   ]
  },
  {
   "cell_type": "markdown",
   "metadata": {},
   "source": [
    "## All\n",
    "spectral windows  \n",
    " spw = '1412\\~1415MHz' \\#Spectral windows\n",
    "containing 1412-1415MHz. \n",
    "\n",
    "In some cases, the spectral windows may allow specification by name. For\n",
    "example, \n",
    "\n",
    "spw\n",
    "= '3mmUSB, 3mmLSB'      \\"
   ]
  },
  {
   "cell_type": "markdown",
   "metadata": {},
   "source": [
    "## choose by names (if available)might be\n",
    "meaningful for the dataset in question.\n",
    "\n",
    "Note that the order in which\n",
    "multiple spws are given may be important for other\n",
    "parameters. For example, the *mode = ’channel’* in **clean** uses the first *spw* as the origin for the channelization of the\n",
    "resulting image cube.\n",
    "\n",
    " \n",
    "\n"
   ]
  },
  {
   "cell_type": "markdown",
   "metadata": {},
   "source": [
    "#### Channel selection in the *spw* parameter\n",
    "\n",
    "Channel selection can be\n",
    "included in the spw string in the form *’SPWSEL:CHANSEL’* where *CHANSEL* is the channel selector. In the end, the\n",
    "spectral selection within a given spectral window comes down to the\n",
    "selection of specific channels. We provide a number of shorthand\n",
    "selection options for\n",
    "this. These *CHANSEL* options include:\n",
    "\n",
    "-   Channel ranges:\n",
    "    *'START\\~STOP'**  *\n",
    "-   Frequency ranges:\n",
    "    '*FSTART\\~FSTOP' *\n",
    "-   Channel striding/stepping:\n",
    "    *'START\\~STOP^STEP'* or *'FSTART\\~FSTOP^FSTEP'*\n",
    "\n",
    "The most common selection is via\n",
    "channel ranges\n",
    "*'START\\~STOP'* or frequency ranges\n",
    "*'FSTART\\~FSTOP'*:\n",
    "\n",
    "spw = '0:13\\~53'        \\"
   ]
  },
  {
   "cell_type": "markdown",
   "metadata": {},
   "source": [
    "## spw 0, channels 13-53, inclusive  \n",
    "spw = '0:1413\\~1414MHz' \\"
   ]
  },
  {
   "cell_type": "markdown",
   "metadata": {},
   "source": [
    "## spw 0, 1413-1414MHz section only\n",
    "\n",
    "All ranges are inclusive, with the\n",
    "channel given by, or containing the frequency given\n",
    "by, *START* and *STOP* plus all channels between included in the\n",
    "selection. You can also select the spectral window via frequency ranges\n",
    "*'FSTART\\~FSTOP'*, as described\n",
    "above: \n",
    "\n",
    "spw =\n",
    "'1413\\~1414MHz:1413\\~1414MHz' \\"
   ]
  },
  {
   "cell_type": "markdown",
   "metadata": {},
   "source": [
    "## channels falling within 1413\\~1414MHz  \n",
    " spw =\n",
    "'\\*:1413\\~1414MHz'                      \\"
   ]
  },
  {
   "cell_type": "markdown",
   "metadata": {},
   "source": [
    "## does the same\n",
    "thing\n",
    "\n",
    "You can also specify multiple spectral\n",
    "window or channel ranges, e.g. \n",
    "\n",
    "spw = '2:16, 3:32\\~34' \\"
   ]
  },
  {
   "cell_type": "markdown",
   "metadata": {},
   "source": [
    "## spw 2, channel 16 plus spw 3 channels 32-34  \n",
    "spw = '2:1\\~3;57\\~63'   \\"
   ]
  },
  {
   "cell_type": "markdown",
   "metadata": {},
   "source": [
    "## spw 2, channels 1-3 and 57-63  \n",
    "spw = '1\\~3:10\\~20'     \\"
   ]
  },
  {
   "cell_type": "markdown",
   "metadata": {},
   "source": [
    "## spw 1-3, channels 10-20  \n",
    "spw = '\\*:4\\~56'        \\"
   ]
  },
  {
   "cell_type": "markdown",
   "metadata": {},
   "source": [
    "## all spw, channels 4-56\n",
    "\n",
    "Note the use of the wildcard in the\n",
    "last example.\n",
    "\n",
    "A step can be also be included using\n",
    "*'^STEP'** *as a postfix:\n",
    "\n",
    "spw = '0:10\\~100^2'        \\"
   ]
  },
  {
   "cell_type": "markdown",
   "metadata": {},
   "source": [
    "## chans 10,12,14,...,100 of spw 0  \n",
    "spw = ':^4'               \\"
   ]
  },
  {
   "cell_type": "markdown",
   "metadata": {},
   "source": [
    "## chans 0,4,8,... of all spw  \n",
    "spw = ':100\\~150GHz^10GHz' \\"
   ]
  },
  {
   "cell_type": "markdown",
   "metadata": {},
   "source": [
    "## closest chans to 100,110,...,150GHz\n",
    "\n",
    "A step in\n",
    "frequency will pick the channel in which that frequency falls, or the\n",
    "nearest channel.\n",
    "\n"
   ]
  },
  {
   "cell_type": "markdown",
   "metadata": {},
   "source": [
    "####  \n",
    "\n",
    "[**Frequency\n",
    "Selection**](http://casacore.github.io/casacore-notes/263.html#x1-230006 \"Frequency Selection\")\n",
    "- Expression for selection along the frequency axis (CASAcore docs)\n",
    "\n"
   ]
  },
  {
   "cell_type": "markdown",
   "metadata": {},
   "source": [
    "### The *selectdata* Parameters\n",
    "\n",
    "The *selectdata* parameter, if set to True (default), will expand the inputs to include\n",
    "a number of sub-parameters, given below and in the individual task\n",
    "descriptions (if different). If *selectdata = False*, then the sub-parameters are treated as\n",
    "blank for selection by the task.\n",
    "\n",
    "The common *selectdata* expanded sub-parameters are:\n",
    "\n"
   ]
  },
  {
   "cell_type": "markdown",
   "metadata": {},
   "source": [
    "#####  \n",
    "\n"
   ]
  },
  {
   "cell_type": "markdown",
   "metadata": {},
   "source": [
    "### The *antenna* Parameter\n",
    "\n",
    "The *antenna* selection string is a semi-colon\n",
    "(*’;’*) separated list of baseline specifications.\n",
    "A baseline specification is of the form:\n",
    "\n",
    "-   *’ANT1’** *— Select all baselines including the\n",
    "    antenna(s) specified by the selector *ANT1*.\n",
    "\n",
    "-   *’ANT1&’* — Select only baselines between the\n",
    "    antennas specified by the selector *ANT1*.\n",
    "\n",
    "-   *’ANT1&ANT2’* — Select only the cross-correlation\n",
    "    baselines between the antennas specified by selector *ANT1* and antennas specified by\n",
    "    selector *ANT2*. Thus *’ANT1&’* is an abbreviation for *’ANT1&ANT1’*.\n",
    "\n",
    "-   *’ANT1&&ANT2’* — Select only auto-correlation and\n",
    "    cross-correlation baselines between antennas specified by the\n",
    "    selectors *ANT1* and *ANT2*. Note that this is what the\n",
    "    default *antenna=’’** *gives you.\n",
    "\n",
    "-   *’ANT1&&&’* — Select only autocorrelations specified\n",
    "    by the selector *ANT1*.\n",
    "\n",
    "The selectors *ANT1* and *ANT2* are comma-separated lists of antenna\n",
    "integer-*IDs* or literal antenna names, patterns, or regular\n",
    "expressions. The *ANT* strings are parsed and converted to a list\n",
    "of antenna integer-*IDs* or *IDs* of antennas whose name match the given\n",
    "names/pattern/regular expression. Baselines corresponding to all\n",
    "combinations of the elements in lists on either side of ampersand are\n",
    "selected.\n",
    "\n",
    "Integer *IDs* can be specified as single\n",
    "values or a range of integers. When items of the list are parsed as\n",
    "literal strings or regular expressions or patterns. All antenna names that match the given\n",
    "string (exact match)/regular expression/pattern are\n",
    "selected.\n",
    "\n",
    " \n",
    "\n",
    "ALERT: Just for antenna selection, a user supplied\n",
    "integer (or integer list) is converted to a string and matched against\n",
    "the antenna name. If that fails, the normal logic of using an integer as\n",
    "an integer and matching it with antenna index is done. Note that\n",
    "currently there is no method for specifying a pure index (e.g. a number\n",
    "that will not first be checked against the name).\n",
    "\n",
    " \n",
    "\n",
    "The comma is used only as a separator\n",
    "for the list of antenna specifications. The list of baselines\n",
    "specifications is a semi-colon separated list, e.g.\n",
    "\n",
    "antenna = '1\\~3 & 4\\~6 ; 10&11'\n",
    "\n",
    "will select baselines between antennas\n",
    "*1,2,3* and *4,5,6* (*’1&4’, ’1&5’, …, ’3&6’*) plus baseline *’10&11’*.\n",
    "\n",
    "The wildcard operator (*’\\*’*) will be the most often used pattern. To\n",
    "make it easy to use, the wildcard (and only this operator) can be used\n",
    "without enclosing it in quotes. For example, the selection\n",
    "\n",
    "antenna = 'VA\\*'\n",
    "\n",
    "will match all antenna names which\n",
    "have *’VA’** *as the first 2 characters in the name\n",
    "(irrespective of what follows after these characters).\n",
    "\n",
    "There is also a negation operator\n",
    "*“**!**”* that can be used to de-select antennas or\n",
    "baselines.\n",
    "\n",
    "Some examples:\n",
    "\n",
    "antenna=''           \\"
   ]
  },
  {
   "cell_type": "markdown",
   "metadata": {},
   "source": [
    "## shows blank autocorr pages  \n",
    "antenna='\\*&\\*'        \\"
   ]
  },
  {
   "cell_type": "markdown",
   "metadata": {},
   "source": [
    "## does not show the autocorrs  \n",
    "antenna='\\*&&\\*'       \\"
   ]
  },
  {
   "cell_type": "markdown",
   "metadata": {},
   "source": [
    "## show both auto and cross-cor (default)  \n",
    "antenna='\\*&&&'       \\"
   ]
  },
  {
   "cell_type": "markdown",
   "metadata": {},
   "source": [
    "## shows only autocorrs  \n",
    "   \n",
    "antenna='5&\\*'        \\"
   ]
  },
  {
   "cell_type": "markdown",
   "metadata": {},
   "source": [
    "## shows non-auto baselines with AN 5  \n",
    "  \n",
    "antenna='5,6&&&'     \\"
   ]
  },
  {
   "cell_type": "markdown",
   "metadata": {},
   "source": [
    "## AN 5 and 6 autocor  \n",
    "antenna='5&&&;6&\\*'   \\"
   ]
  },
  {
   "cell_type": "markdown",
   "metadata": {},
   "source": [
    "## AN 5 autocor plus cross-cors to AN 6  \n",
    "antenna='5,6,7&'     \\"
   ]
  },
  {
   "cell_type": "markdown",
   "metadata": {},
   "source": [
    "## all baselines in common between antennas 5, 6,\n",
    "and 7  \n",
    "antenna='!5'         \\"
   ]
  },
  {
   "cell_type": "markdown",
   "metadata": {},
   "source": [
    "## baselines not involving AN 5\n",
    "\n",
    "Antenna numbers as names: Needless to say, naming antennas\n",
    "such that the names can also be parsed as a valid token of the syntax is\n",
    "a bad idea. Nevertheless, antenna names that contain any of the reserved\n",
    "characters and/or can be parsed as integers or integer ranges can still\n",
    "be used by enclosing the antenna names in double quotes (*' \"ANT\"\n",
    "'*). E.g. the string\n",
    "\n",
    "antenna = '10\\~15,21,VA22'\n",
    "\n",
    "will expand into an antenna *ID* list\n",
    "*10,11,12,13,14,15,21,22* (assuming the index of the antenna named *’VA22’* is *22*). If, however, the antenna with *ID*\n",
    "index *50* is named *’21’*, then the string\n",
    "\n",
    "antenna = '10\\~15,21,VA22'\n",
    "\n",
    "will expand into an antenna *ID* list\n",
    "of *10,11,12,13,14,15,50,22*. *Keep in mind that numbers are FIRST matched\n",
    "against names, and only against indices if that matching\n",
    "fails.* There is currently no\n",
    "way to force a selection to use the index, and if there an antenna with\n",
    "that name it will select that.\n",
    "\n",
    "Read elsewhere (e.g. info\n",
    "regex under Unix) for details of\n",
    "regular expression and patterns.\n",
    "\n"
   ]
  },
  {
   "cell_type": "markdown",
   "metadata": {},
   "source": [
    "####  Antenna stations \n",
    "\n",
    "Instead of antenna names, the antenna\n",
    "station names are also accepted by the selection syntax., e.g. *’N15’*\n",
    "for the JVLA.\n",
    "\n",
    " \n",
    "\n"
   ]
  },
  {
   "cell_type": "markdown",
   "metadata": {},
   "source": [
    "#### ANT@STATION selection syntax \n",
    "\n",
    "Sometimes, data from multiple array\n",
    "configurations are stored in a single MS. But some antennas may have\n",
    "been moved during reconfiguration and the* **’ANT@STATION’* syntax can distinguish between\n",
    "them. ’*ANT*’ is the antenna name or index\n",
    "and ’*STATION*’ is the antenna station name, e.g.,\n",
    "*’EA12@W03’* selects antenna *EA012* but only at times when it is\n",
    "positioned on station *W03*. Wildcards are accepted, e.g. *’EA12@\\*’*\n",
    "selects all visibilities from antenna *EA12*, and *’\\*@W03’* would\n",
    "select all antennas that are located on station ’*W03*’ during any\n",
    "observations included in the MS.\n",
    "\n",
    "**[Antenna/Baseline\n",
    "Selection](http://casacore.github.io/casacore-notes/263.html#x1-100003 \"Antenna/Baseline Selection\") **- Expression for selection along\n",
    "baseline/antenna aixs (CASAcore docs)\n",
    "\n",
    " \n",
    "\n"
   ]
  },
  {
   "cell_type": "markdown",
   "metadata": {},
   "source": [
    "### The *scan* Parameter \n",
    "\n",
    "The *scan* parameter selects the scan *ID* numbers of\n",
    "the data. There is currently no naming convention for scans. The scan\n",
    "*ID* is filled into the MS depending on how the data was obtained, so\n",
    "use this with care.\n",
    "\n",
    "Examples:\n",
    "\n",
    "scan = '3'  \n",
    "       \\"
   ]
  },
  {
   "cell_type": "markdown",
   "metadata": {},
   "source": [
    "## scan number 3.  \n",
    "scan = '1\\~8'      \\"
   ]
  },
  {
   "cell_type": "markdown",
   "metadata": {},
   "source": [
    "## scan numbers 1 through 8, inclusive  \n",
    "scan = '1,2,4,6'  \\"
   ]
  },
  {
   "cell_type": "markdown",
   "metadata": {},
   "source": [
    "## scans 1,2,4,6  \n",
    "scan = '\\<9'        \\"
   ]
  },
  {
   "cell_type": "markdown",
   "metadata": {},
   "source": [
    "## scans \\<9 (1-8)NOTE: ALMA and VLA/JVLA number\n",
    "scans starting with 1 and not 0. You\n",
    "can see what the numbering is in your MS using the **listobs** task\n",
    "with *verbose=True.*\n",
    "\n",
    " \n",
    "\n",
    "[**Scan/Sub-array\n",
    "Selection**](http://casacore.github.io/casacore-notes/263.html#x1-350009 \"Scan/Sub-array Selection\")\n",
    "- Expression for selection based on scan or sub-array indices (CASAcore\n",
    "docs)\n",
    "\n",
    " \n",
    "\n"
   ]
  },
  {
   "cell_type": "markdown",
   "metadata": {},
   "source": [
    "### The *timerange* Parameter\n",
    "\n",
    " The time strings in the following\n",
    "(*T0*, *T1* and *dT*)\n",
    "can be specified as *YYYY/MM/DD/HH:MM:SS.FF*. The time fields (i.e., *YYYY*, *MM*, *DD*, *HH*, *MM*, *SS* and *FF*),\n",
    "starting from left to right, may be omitted and they will be replaced by\n",
    "context sensitive defaults as explained below.\n",
    "\n",
    "Some examples:\n",
    "\n",
    " \n",
    "\n",
    "*timerange='T0\\~T1'*: Select all time\n",
    "stamps from *T0* to *T1*. For\n",
    "example:\n",
    "\n",
    "timerange = '2007/10/09/00:40:00 \\~ 2007/10/09/03:30:00'\n",
    "\n",
    "Note that fields missing\n",
    "in *T0* are replaced by the fields in the time stamp\n",
    "of the first valid row in the MS. For example,\n",
    "\n",
    "timerange = '09/00:40:00 \\~ 09/03:30:00'\n",
    "\n",
    "where\n",
    "the* **YY/MM/* part of the selection has been defaulted to\n",
    "the start of the MS.\n",
    "\n",
    "Fields missing in *T1*,\n",
    "such as the date part of the string, are replaced by the corresponding\n",
    "fields of *T0* (after its defaults are set). For\n",
    "example:\n",
    "\n",
    "timerange = '2007/10/09/22:40:00 \\~ 03:30:00'\n",
    "\n",
    "does the same thing as above.\n",
    "\n",
    " \n",
    "\n",
    "*timerange='T0'*:  Select all time stamps that are within an\n",
    "integration\n",
    "time of *T0*.\n",
    "For example:\n",
    "\n",
    "timerange = '2007/10/09/23:41:00'\n",
    "\n",
    "Integration time is determined from the first\n",
    "valid row (more rigorously, an average integration time should be\n",
    "computed). Default settings for the missing fields of *T0* are as in the\n",
    "first example.\n",
    "\n",
    " \n",
    "\n",
    "*timerange='T0+dT'*: Select all time stamps starting\n",
    "from T0 and ending with time\n",
    "stamp *T0+dT*. For\n",
    "example:\n",
    "\n",
    "timerange = '23:41:00+01:00:00'\n",
    "\n",
    "picks an hour-long chunk of\n",
    "time.\n",
    "\n",
    "Defaults\n",
    "of *T0* are set as usual. Defaults for *dT* are set from the time corresponding to\n",
    "*MJD=0*. Thus, *dT* is a specification\n",
    "of length of time from the assumed nominal \"start of\n",
    "time\".\n",
    "\n",
    " \n",
    "\n",
    "*timerange='\\>T0'*: Select all times greater\n",
    "than *T0*. For\n",
    "example:\n",
    "\n",
    "timerange\n",
    "= '\\>2007/10/09/23:41:00'  \n",
    "timerange = '\\>23:41:00'                   \\"
   ]
  },
  {
   "cell_type": "markdown",
   "metadata": {},
   "source": [
    "## Same thing without day\n",
    "specification\n",
    "\n",
    "Default settings for *T0* are as above.\n",
    "\n",
    "timerange='\\<T1': Select all times less\n",
    "than *T1*. For\n",
    "example:\n",
    "\n",
    "timerange = '\\<2007/10/09/23:41:00'\n",
    "\n",
    "Default settings\n",
    "for *T1* are as\n",
    "above.\n",
    "\n",
    " \n",
    "\n",
    "An ultra-conservative selection might\n",
    "be:\n",
    "\n",
    "timerange = '1960/01/01/00:00:00\\~2020/12/31/23:59:59'\n",
    "\n",
    "which would choose all possible\n",
    "data!\n",
    "\n",
    " \n",
    "\n",
    "**[**Time\n",
    "Selection**](http://casacore.github.io/casacore-notes/263.html#x1-80002)\n",
    "- Expression for selection data along time axisTime Selection (CASAcore\n",
    "docs) **\n",
    "\n",
    " \n",
    "\n"
   ]
  },
  {
   "cell_type": "markdown",
   "metadata": {},
   "source": [
    "### The uvrange Parameter\n",
    "\n",
    " Rows in the MS can also be selected\n",
    "based on the uv-distance or physical baseline length that the\n",
    "visibilities in each row correspond to. This *uvrange* can be specified in\n",
    "various formats.\n",
    "\n",
    "The basic building block of uv-distance\n",
    "specification is a valid number with optional units in the format\n",
    "*N\\[UNIT\\]* (the unit in square brackets is optional). We refer to this\n",
    "basic building\n",
    "block as *UVDIST*. The default unit is meter. Units of length\n",
    "(such as *’m’** *and *’km’*) select physical baseline distances\n",
    "(independent of wavelength). The other allowed units are in wavelengths\n",
    "(such as *’lambda’, ’klambda’* and *’Mlambda’* and are true uv-plane radii\n",
    "\n",
    "$$UVDIST=\\sqrt{u^2+v^2}$$\n",
    "\n",
    " \n",
    "\n",
    "If only a\n",
    "single *UVDIST* is specified, all rows, the uv-distance of\n",
    "which exactly matches the given *UVDIST*, are selected.\n",
    "\n",
    "*UVDIST* can be specified as a range in the format\n",
    "*'N0\\~N1\\[UNIT\\]'* (where *N0* and *N1* are valid numbers). All rows corresponding\n",
    "to uv-distance between *N0* and *N1* (inclusive) when converted the specified\n",
    "units are selected.\n",
    "\n",
    "*UVDIST* can also be selected via comparison\n",
    "operators. When specified in the format *’\\>UVDIST’*, all visibilities with uv-distances greater\n",
    "than the given *UVDIST* are selected. Likewise, when specified in\n",
    "the format *’\\<UVDIST’*, all rows with uv-distances less than the\n",
    "given *UVDIST* are selected.\n",
    "\n",
    "Any\n",
    "number of above mentioned uv-distance specifications can be given as a\n",
    "comma-separated list.\n",
    "\n",
    "Examples:\n",
    "\n",
    "uvrange\n",
    "= '100\\~200km'                              \\"
   ]
  },
  {
   "cell_type": "markdown",
   "metadata": {},
   "source": [
    "## an annulus in physical\n",
    "baseline length  \n",
    "uvrange = '24\\~35Mlambda, 40\\~45Mlambda' \\"
   ]
  },
  {
   "cell_type": "markdown",
   "metadata": {},
   "source": [
    "## two annuli in units of\n",
    "mega-wavelengths  \n",
    "uvrange = '\\< 45klambda'                             \\"
   ]
  },
  {
   "cell_type": "markdown",
   "metadata": {},
   "source": [
    "## less than 45\n",
    "kilolambda  \n",
    "uvrange = '\\> 0lambda'                                \\"
   ]
  },
  {
   "cell_type": "markdown",
   "metadata": {},
   "source": [
    "## greater than\n",
    "zero length (no auto-corrs)  \n",
    "uvrange = '100km'                                      \\"
   ]
  },
  {
   "cell_type": "markdown",
   "metadata": {},
   "source": [
    "## baselines of\n",
    "length 100km  \n",
    "\n",
    "uvrange = '100klambda'                              \\"
   ]
  },
  {
   "cell_type": "markdown",
   "metadata": {},
   "source": [
    "## uv-radius 100\n",
    "kilolambda  \n",
    "\n",
    "\n",
    "[**UV-distance\n",
    "Selection**](http://casacore.github.io/casacore-notes/263.html#x1-210005 \"UV-distance Selection\")\n",
    "- Expression for selection based on uv-distance (CASAcore docs)\n",
    "\n"
   ]
  },
  {
   "cell_type": "markdown",
   "metadata": {},
   "source": [
    "###  The *correlation* Parameter\n",
    "\n",
    "The *correlation* parameter will select between different\n",
    "correlation products. They can be either the correlation *ID* or values\n",
    "such as *’XX’, ’YY’, ’XY’, ’YX’, ’RR’, ’LL’, ’RL’, ’LR’*.\n",
    "\n",
    " \n",
    "\n",
    "[**Polarization\n",
    "Selection**](http://casacore.github.io/casacore-notes/263.html#x1-310007 \"Polarization Selection\")\n",
    "- Expression for selection along the polarization axis (CASAcore\n",
    "docs) \n",
    "\n"
   ]
  },
  {
   "cell_type": "markdown",
   "metadata": {},
   "source": [
    "###  The *intent* Parameter\n",
    "\n",
    "*intent* is the scan intent that was specified when\n",
    "the observations were set up. They typically describe what was intended\n",
    "with a specific scan, i.e. a flux or phase calibration, a bandpass, a\n",
    "pointing, an observation of your target, or something else or a\n",
    "combination. The format for the scan intents of your observations are\n",
    "listed in the logger when you run listobs. Minimum matching with wildcards will work,\n",
    "like *’\\*BANDPASS\\*’*. This is especially useful when multiple intents\n",
    "are attached to scans.\n",
    "\n",
    " \n",
    "\n",
    "[**'Scan Intent' based\n",
    "selection**](http://casacore.github.io/casacore-notes/263.html#x1-320008 \"'Scan Intent' based Selection\") -\n",
    "Selection by intent (CASAcore docs)\n",
    "\n",
    "  \n",
    "\n"
   ]
  },
  {
   "cell_type": "markdown",
   "metadata": {},
   "source": [
    "### The *observation* Parameter\n",
    "\n",
    "The *observation* parameter can select between different\n",
    "observation *IDs*. They will be assigned to parts of a combined data set\n",
    "during a run of concat. Each input MS will receive its own\n",
    "observation id in the process.\n",
    "\n",
    " \n",
    "\n"
   ]
  },
  {
   "cell_type": "markdown",
   "metadata": {},
   "source": [
    "### The *feed* Parameter\n",
    "\n",
    "The *feed* parameter can select\n",
    "between different feeds, e.g. for different feeds in a single dish\n",
    "multibeam array.\n",
    "\n",
    " \n",
    "\n"
   ]
  },
  {
   "cell_type": "markdown",
   "metadata": {},
   "source": [
    "### The *msselect* Parameter\n",
    "\n",
    "More complicated selections within the\n",
    "MS structure are possible using the Table Query Language\n",
    "(TaQL). This is accessed through the *msselect* parameter.\n",
    "\n",
    "Note that the TaQL syntax does not follow the\n",
    "rules given in above for our\n",
    "other selection strings. TaQL is explained in more detail in\n",
    "CASAcore NOTE 199 — [Table Query\n",
    "Language](https://casacore.github.io/casacore-notes/199.html). The specific columns of the MS are given in\n",
    "the most recent [MS specification\n",
    "document](https://casa.nrao.edu/casadocs-devel/stable/casa-fundamentals/measurement-set).\n",
    "\n",
    "Most selection can be carried out using the\n",
    "other selection parameters. However, these are merely shortcuts to the\n",
    "underlying TaQL selection. For example, field and spectral window\n",
    "selection can be done using msselect rather than through field or spw:\n",
    "\n",
    "msselect='FIELD_ID == 0'                  \\"
   ]
  },
  {
   "cell_type": "markdown",
   "metadata": {},
   "source": [
    "## Field id 0 only  \n",
    "msselect='FIELD_ID \\<= 1'                  \\"
   ]
  },
  {
   "cell_type": "markdown",
   "metadata": {},
   "source": [
    "## Field id 0 and 1  \n",
    "msselect='FIELD_ID IN \\[1,2\\]'              \\"
   ]
  },
  {
   "cell_type": "markdown",
   "metadata": {},
   "source": [
    "## Field id 1 and 2  \n",
    "msselect='FIELD_ID==0 && DATA_DESC_ID==3' \\"
   ]
  },
  {
   "cell_type": "markdown",
   "metadata": {},
   "source": [
    "## Field id 0 in spw id 3 only\n",
    "\n",
    "ALERT: The *msselect* style parameters will be phased out of the\n",
    "tasks. TaQL selection will still be available in the\n",
    "Toolkit. \n",
    "\n",
    " \n",
    "\n",
    "This page describes the syntax for the various expressions for selecting\n",
    "data from the MeasurementSet, implemented in the MSSelection module of\n",
    "CASACore. All expressions consist of a comma or semi-colon separated\n",
    "list of speciﬁcations.  The MSSelection module can also be used for\n",
    "other tables that follow the general data base design of the\n",
    "MeasurementSet. The CASA CalTables is an example which also uses the\n",
    "MSSelection module for selection.The most up to date document will\n",
    "always be on the [CASACore GitHub\n",
    "Repository](http://casacore.github.io/casacore-notes/263.html). The\n",
    "content in this page is derived from this [GitHub\n",
    "snapshot](https://github.com/casacore/casacore-notes/tree/92c6d74cb32592980224b0707884823c5623088f/263.dir).\n",
    "\n",
    "[**Using *MSSelection* expressions in\n",
    "TaQL**](http://casacore.github.io/casacore-notes/263.html#x1-3700010 \"Using MSSelection Expressions in TaQL\")\n",
    "- MSSelection expressions can also be used in pure-TaQL expressions\n",
    "(CASAcore docs)\n",
    "\n",
    "###"
   ]
  }
 ],
 "metadata": {},
 "nbformat": 4,
 "nbformat_minor": 5
}
