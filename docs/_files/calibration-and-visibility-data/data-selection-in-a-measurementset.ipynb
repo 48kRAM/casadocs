{
 "cells": [
  {
   "cell_type": "markdown",
   "metadata": {},
   "source": [
    "# Visibility Data Selection\n",
    "\n",
    "How to select visibility data\n",
    "\n",
    "Once in MS form, subsets of the data\n",
    "can be operated on using the tasks and tools. In CASA, there are three\n",
    "common data selection parameters used in the various\n",
    "tasks:&nbsp;*field*,&nbsp;*spw*,\n",
    "and&nbsp;*selectdata*. In addition, the&nbsp;*selectdata*&nbsp;parameter, if set to&nbsp;*True*, will open up\n",
    "a number of other sub-parameters for selection. The selection operation\n",
    "is unified across all the tasks. The available&nbsp;*selectdata*&nbsp;parameters\n",
    "may not be the same in all tasks. But if present, the same parameters\n",
    "mean the same thing and behave in the same manner when used in any\n",
    "task.\n",
    "\n",
    "For example:\n",
    "\n",
    "field = '' &nbsp; &nbsp; &nbsp; &nbsp; \\"
   ]
  },
  {
   "cell_type": "markdown",
   "metadata": {},
   "source": [
    "## field names or index of\n",
    "calibrators ''==\\>all  \n",
    "spw = '' &nbsp; &nbsp; &nbsp; &nbsp; &nbsp; \\"
   ]
  },
  {
   "cell_type": "markdown",
   "metadata": {},
   "source": [
    "## spectral window:channels:\n",
    "''==\\>all  \n",
    "selectdata = False \\"
   ]
  },
  {
   "cell_type": "markdown",
   "metadata": {},
   "source": [
    "## Other data selection parameters\n",
    "\n",
    "versus\n",
    "\n",
    "field = '' &nbsp; &nbsp; &nbsp; &nbsp; \\"
   ]
  },
  {
   "cell_type": "markdown",
   "metadata": {},
   "source": [
    "## field names or index of\n",
    "calibrators ''==\\>all  \n",
    "spw = '' &nbsp; &nbsp; &nbsp; &nbsp; &nbsp; \\"
   ]
  },
  {
   "cell_type": "markdown",
   "metadata": {},
   "source": [
    "## spectral window:channels:\n",
    "''==\\>all  \n",
    "selectdata = True &nbsp;\\"
   ]
  },
  {
   "cell_type": "markdown",
   "metadata": {},
   "source": [
    "## Other data selection parameters  \n",
    "timerange = '' &nbsp; &nbsp; \\"
   ]
  },
  {
   "cell_type": "markdown",
   "metadata": {},
   "source": [
    "## time range: ''==\\>all  \n",
    "uvrange = '' &nbsp; &nbsp; &nbsp; \\"
   ]
  },
  {
   "cell_type": "markdown",
   "metadata": {},
   "source": [
    "## uv range''=all  \n",
    "antenna = '' &nbsp; &nbsp; &nbsp; \\"
   ]
  },
  {
   "cell_type": "markdown",
   "metadata": {},
   "source": [
    "## antenna/baselines: ''==\\>all  \n",
    "scan = '' &nbsp; &nbsp; &nbsp; &nbsp; &nbsp;\\"
   ]
  },
  {
   "cell_type": "markdown",
   "metadata": {},
   "source": [
    "## scan numbers  \n",
    "msselect = '' &nbsp; &nbsp; &nbsp;\\"
   ]
  },
  {
   "cell_type": "markdown",
   "metadata": {},
   "source": [
    "## Optional data selection\n",
    "(Specialized. but see help)\n",
    "\n",
    "The following are the general syntax\n",
    "rules and descriptions of the individual selection parameters of\n",
    "particular interest for the tasks.\n",
    "\n",
    "&nbsp;\n",
    "\n",
    "**Info:** The full documentation of the\n",
    "MeasurementSet&nbsp;data selection syntax can be found on the [CASAcore\n",
    "documentation](https://casacore.github.io/casacore-notes/)&nbsp;page,\n",
    "document 263 \"[Measurement Selection\n",
    "Syntax](https://casacore.github.io/casacore-notes/263.html)\" (see also\n",
    "[CASA Memo\n",
    "1](https://casa.nrao.edu/casadocs-devel/stable/memo-series/casa-memos/casa_memo3_msselection_bhatnagar.pdf)).\n",
    "Links to relevant subsections are provided in the subsections\n",
    "below.\n",
    "\n"
   ]
  },
  {
   "cell_type": "markdown",
   "metadata": {},
   "source": [
    "#### &nbsp;\n",
    "\n"
   ]
  },
  {
   "cell_type": "markdown",
   "metadata": {},
   "source": [
    "### General selection syntax\n",
    "\n",
    "Most\n",
    "of the selections are effected through the use of selection strings.\n",
    "This sub-section describes the general rules used in constructing and\n",
    "parsing these strings. Note that some selections are done through the\n",
    "use of numbers or lists. There are also parameter-specific rules that\n",
    "are described under each parameter.\n",
    "\n",
    "All lists of basic selection\n",
    "specification-units are comma separated lists and can be of any length.\n",
    "White-spaces before and after the commas (e.g.&nbsp;*&rsquo;3C286, 3C48, 3C84&rsquo;*) are ignored, while white-space within\n",
    "sub-strings is treated as part of the sub-string\n",
    "(e.g.*&nbsp;**&rsquo;3C286,\n",
    "VIRGO A, 3C84&rsquo;*). In some\n",
    "cases, spaces need to be quoted, e.g. *\"&rsquo;spw 1&rsquo;\"* (note the\n",
    "double quote around the single quotes).\n",
    "\n",
    "All integers can be of any length (in terms\n",
    "of characters) composed of the characters 0&ndash;9. Floating point numbers can be in\n",
    "the standard format (*DIGIT.DIGIT*,&nbsp;*DIGIT.*, or&nbsp;*.DIGIT*) or in the mantissa-exponent format\n",
    "(e.g.&nbsp;*1.4e9*). Places where only integers make sense\n",
    "(e.g. IDs), if a floating point number is given, only the integer part\n",
    "is used (it is truncated).\n",
    "\n",
    "Range of numbers (integers or real numbers)\n",
    "can be given in the format\n",
    "*'N0\\~N1'*. For\n",
    "integer ranges, it is expanded\n",
    "into a list of integers starting from&nbsp;*N0*&nbsp;(inclusive) to&nbsp;*N1*&nbsp;(inclusive). For real numbers, it is\n",
    "used to select all values present for the appropriate parameter in the\n",
    "MeasurementSet between&nbsp;*N0*&nbsp;and&nbsp;*N1*&nbsp;(including the boundaries). Note that\n",
    "the&nbsp;`'~'`&nbsp;(tilde)\n",
    "character is used rather than the more obvious&nbsp;&rsquo;*-*&rsquo;&nbsp;in order to accommodate hyphens in\n",
    "strings and minus signs in numbers.\n",
    "\n",
    "Wherever appropriate, units can be\n",
    "specified. The units are used to convert the values given to the units\n",
    "used\n",
    "in the MeasurementSet. For ranges, the unit is specified only once (at\n",
    "the end) and applies to both the range boundaries.\n",
    "\n",
    "&nbsp;\n",
    "\n"
   ]
  },
  {
   "cell_type": "markdown",
   "metadata": {},
   "source": [
    "### String Matching\n",
    "\n",
    "String matching can be done in three ways.\n",
    "Any component of a comma separated list that cannot be parsed as a\n",
    "number, a number range, or a physical quantity is treated as a regular\n",
    "expression or a literal string. If the string does not contain the\n",
    "characters&nbsp;*&rsquo;\\*&rsquo;,&nbsp;&rsquo;{&rsquo;,&nbsp;&rsquo;}&rsquo;**&nbsp;*or&nbsp;*&rsquo;?&rsquo;*, it is treated as a\n",
    "literal string and used for exact matching. If any of the above\n",
    "mentioned characters are part of the string, they are used as a regular\n",
    "expression. As a result, for most cases, the user does not need to\n",
    "supply any special delimiters for literal strings and/or regular\n",
    "expressions. For example:\n",
    "\n",
    "field = '3' &nbsp; &nbsp;\\"
   ]
  },
  {
   "cell_type": "markdown",
   "metadata": {},
   "source": [
    "## match field ID 3 and not select field named\n",
    "\"3C286\".\n",
    "\n",
    "field = '3\\*' &nbsp; \\"
   ]
  },
  {
   "cell_type": "markdown",
   "metadata": {},
   "source": [
    "## used as a pattern and matched against field\n",
    "names. If  \n",
    "&nbsp; &nbsp; &nbsp; &nbsp; &nbsp; &nbsp; &nbsp; &nbsp;\\"
   ]
  },
  {
   "cell_type": "markdown",
   "metadata": {},
   "source": [
    "## names like\n",
    "\"3C84\", \"3C286\", \"3020+2207\" are found,  \n",
    "&nbsp; &nbsp; &nbsp; &nbsp; &nbsp; &nbsp; &nbsp; &nbsp;\\"
   ]
  },
  {
   "cell_type": "markdown",
   "metadata": {},
   "source": [
    "## all will\n",
    "match. Field ID 3 will not be selected  \n",
    "&nbsp; &nbsp; &nbsp; &nbsp; &nbsp; &nbsp; &nbsp; &nbsp;\\"
   ]
  },
  {
   "cell_type": "markdown",
   "metadata": {},
   "source": [
    "## (unless of\n",
    "course one of the above mentioned field  \n",
    "&nbsp; &nbsp; &nbsp; &nbsp; &nbsp; &nbsp; &nbsp; &nbsp;\\"
   ]
  },
  {
   "cell_type": "markdown",
   "metadata": {},
   "source": [
    "## names also\n",
    "correspond to field ID 3!).\n",
    "\n",
    "field = '30\\*' &nbsp;\\"
   ]
  },
  {
   "cell_type": "markdown",
   "metadata": {},
   "source": [
    "## will match only with \"3020+2207\" in above set.\n",
    "\n",
    "However if it is required that the\n",
    "string be matched exclusively as a regular expression, it can be\n",
    "supplied within a pair of&nbsp;*&rsquo;/&rsquo;*&nbsp;as delimiters (e.g.&nbsp;*&rsquo;/.+BAND.+/&rsquo;*). A string enclosed within double quotes\n",
    "(*&rsquo;\"&rsquo;*) is used exclusively for pattern matching\n",
    "(patterns are a simplified form of regular expressions - used in most\n",
    "UNIX commands for string matching). Patterns are internally converted to\n",
    "equivalent regular expressions before matching. See the Unix\n",
    "command&nbsp;\"info\n",
    "regex\", or\n",
    "visit&nbsp;[http://www.regular-expressions.info](http://www.regular-expressions.info), for details of regular expressions and\n",
    "patterns.\n",
    "\n",
    "Strings can include any character\n",
    "except the following:\n",
    "\n",
    "',' ';' '\"' '/' NEWLINE\n",
    "\n",
    "(since these are part of the selection\n",
    "syntax). Strings that do not contain any of the characters used to\n",
    "construct regular expressions or patterns are used for exact matches.\n",
    "Although it is highly discouraged to have name in the MS containing the\n",
    "above mentioned reserved characters, if one&nbsp;does&nbsp;choose to include the reserved\n",
    "characters as parts of names etc., those names can only be matched\n",
    "against quoted strings (since regular expression and patterns are a\n",
    "super-set of literal strings &ndash; i.e., a literal string is also a\n",
    "valid regular expression).\n",
    "\n",
    "This leaves&nbsp;*&rsquo;\"&rsquo;,&nbsp;&rsquo;\\*&rsquo;,&nbsp;&rsquo;{&rsquo;,&nbsp;&rsquo;}&rsquo;*&nbsp;or&nbsp;*&rsquo;?&rsquo;**&nbsp;*as the list of printable character\n",
    "that cannot be part of a name (i.e., a name containing this character\n",
    "can never be matched in a MSSelection expression). These will be treated\n",
    "as pattern-matching even inside double double quotes (*&rsquo;\" \"&rsquo;*). There is currently no escape mechanism\n",
    "(e.g. via a backslash).\n",
    "\n",
    "Some examples of strings, regular\n",
    "expressions, and patterns:\n",
    "\n",
    "-   The string&nbsp;*&rsquo;LBAND&rsquo;**&nbsp;*will be used as a literal string\n",
    "    for exact match. It will match only the exact\n",
    "    string&nbsp;*LBAND*.\n",
    "-   The wildcarded string&nbsp;*&rsquo;\\*BAND\\*&rsquo;*&nbsp;will be used as a string pattern\n",
    "    for matching. This will match any string which has the\n",
    "    sub-string&nbsp;*BAND*&nbsp;in it.\n",
    "-   The string&nbsp;*&rsquo;\"\\*BAND\\*\"&rsquo;*&nbsp;will also be used as a string\n",
    "    pattern, matching any string which has the\n",
    "    sub-string&nbsp;*BAND*&nbsp;in it.\n",
    "-   The string&nbsp;*&rsquo;/.+BAND.+/&rsquo;*&nbsp;will be used as a regular\n",
    "    expression. This will also match any string which as the\n",
    "    sub-string&nbsp;*BAND*&nbsp;in it. (the&nbsp;*.+*&nbsp;regex operator has the same meaning\n",
    "    as the&nbsp;*\\***&nbsp;*wildcard operator of\n",
    "    patterns).\n",
    "\n"
   ]
  },
  {
   "cell_type": "markdown",
   "metadata": {},
   "source": [
    "#### &nbsp;\n",
    "\n"
   ]
  },
  {
   "cell_type": "markdown",
   "metadata": {},
   "source": [
    "### The&nbsp;*field*&nbsp;Parameter\n",
    "\n",
    "The&nbsp;*field*&nbsp;parameter is a string that specifies\n",
    "which field names or ids will be processed in the task or tool. The\n",
    "field selection expression consists of comma separated list of field\n",
    "specifications inside the string.\n",
    "\n",
    "Field specifications can be literal\n",
    "field names, regular expressions or patterns (see above). Those fields for which the entry in\n",
    "the&nbsp;NAME&nbsp;column of the&nbsp;*FIELD*&nbsp;MS sub-table match the literal field\n",
    "name/regular expression/pattern are selected. If a field name/regular\n",
    "expression/pattern fails to match any field name, the given name/regular\n",
    "expression/pattern are matched against the field code. If still no field\n",
    "is selected, an exception is thrown.\n",
    "\n",
    "Field specifications can also be given by\n",
    "their integer *IDs*. *IDs* can be a single or a range of *IDs*. Field\n",
    "*ID* selection can also be done as a boolean expression. For a field\n",
    "specification of the form&nbsp;*&rsquo;\\>ID&rsquo;*, all field IDs greater than ID are selected.\n",
    "Similarly for&nbsp;*&rsquo;\\<ID&rsquo;*&nbsp;all field *IDs* less than the *ID* are\n",
    "selected.\n",
    "\n",
    "For example, if the\n",
    "MS has the following observations:\n",
    "\n",
    "MS summary:  \n",
    "==========  \n",
    "FIELDID SPWID NChan Pol NRows Source Name  \n",
    "---------------------------------------------------------------  \n",
    "0 0 127 RR 10260 0530+135  \n",
    "1 0 127 RR 779139 05582+16320  \n",
    "2 0 127 RR 296190 05309+13319  \n",
    "3 0 127 RR 58266 0319+415  \n",
    "4 0 127 RR 32994 1331+305  \n",
    "5 1 1 RR,RL,LL,RR 23166 KTIP\n",
    "\n",
    "one might select\n",
    "\n",
    "field\n",
    "= '0\\~2,KTIP' &nbsp;\\"
   ]
  },
  {
   "cell_type": "markdown",
   "metadata": {},
   "source": [
    "## FIELDID 0,1,2 and field name KTIP  \n",
    "field = '0530+135' \\"
   ]
  },
  {
   "cell_type": "markdown",
   "metadata": {},
   "source": [
    "## field 0530+135  \n",
    "\n",
    "field = '05\\*' &nbsp; &nbsp; &nbsp; &nbsp; &nbsp;\\"
   ]
  },
  {
   "cell_type": "markdown",
   "metadata": {},
   "source": [
    "## fields\n",
    "0530+135,05582+16320,05309+13319&nbsp;\n",
    "\n"
   ]
  },
  {
   "cell_type": "markdown",
   "metadata": {},
   "source": [
    "#### &nbsp;&nbsp;\n",
    "\n",
    "[**Field\n",
    "Selection**](http://casacore.github.io/casacore-notes/263.html#x1-190004 \"Field Selection\")\n",
    "- Expression for selection data along frequency axis (CASAcore docs)\n",
    "\n",
    "&nbsp;\n",
    "\n"
   ]
  },
  {
   "cell_type": "markdown",
   "metadata": {},
   "source": [
    "### The *spw* Parameter\n",
    "\n",
    "The&nbsp;*spw*&nbsp;parameter is a string that indicates\n",
    "the specific spectral windows and the channels within them to be used in\n",
    "subsequent processing. Spectral window selection (*&rsquo;SPWSEL&rsquo;*) can be given as a spectral window integer\n",
    "*ID*, a list of integer *IDs*, a spectral window name specified as a\n",
    "literal string (for exact match) or a regular expression or\n",
    "pattern.\n",
    "\n",
    "The specification can be via frequency ranges\n",
    "or by indexes. A range of frequencies are used to select all spectral\n",
    "windows which contain channels within the given range. Frequencies can\n",
    "be specified with an optional unit &mdash; the default unit\n",
    "being&nbsp;*Hz*. Other common choices for radio and\n",
    "mm/sub-mm data are&nbsp;*kHz,&nbsp;MHz**,* and&nbsp;*GHz*.\n",
    "You will get the entire spectral windows, not just the channels in the\n",
    "specified range. You will need to do channel selection (see below) to do\n",
    "that.\n",
    "\n",
    "The&nbsp;spw&nbsp;can also be selected via comparison for\n",
    "integer IDs. For example,&nbsp;*&rsquo;\\>ID&rsquo;**&nbsp;*will select all spectral windows with\n",
    "*ID* greater than the specified value, while&nbsp;*&rsquo;\\<ID&rsquo;**&nbsp;*will select those with *ID* lesser\n",
    "than the specified value.\n",
    "\n",
    "Spectral\n",
    "window selection using strings follows the standard rules:&nbsp;\n",
    "\n",
    "spw\n",
    "= '1' &nbsp; &nbsp; &nbsp; &nbsp; &nbsp; &nbsp; &nbsp; &nbsp; &nbsp;\n",
    "&nbsp; &nbsp;\\"
   ]
  },
  {
   "cell_type": "markdown",
   "metadata": {},
   "source": [
    "## SPWID 1  \n",
    " spw = '1,3,5' &nbsp; &nbsp; &nbsp; &nbsp;\n",
    "&nbsp; &nbsp; &nbsp; &nbsp;\\"
   ]
  },
  {
   "cell_type": "markdown",
   "metadata": {},
   "source": [
    "## SPWID 1,3,5  \n",
    " spw = '0\\~3' &nbsp; &nbsp; &nbsp; &nbsp;\n",
    "&nbsp; &nbsp; &nbsp; &nbsp; &nbsp;\\"
   ]
  },
  {
   "cell_type": "markdown",
   "metadata": {},
   "source": [
    "## SPWID 0,1,2,3  \n",
    " spw = '0\\~3,5' &nbsp; &nbsp; &nbsp;\n",
    "&nbsp; &nbsp; &nbsp; &nbsp; \\"
   ]
  },
  {
   "cell_type": "markdown",
   "metadata": {},
   "source": [
    "## SPWID 0,1,2,3 and 5  \n",
    " spw = '\\<3,5' &nbsp; &nbsp; &nbsp; &nbsp;\n",
    "&nbsp; &nbsp; &nbsp; &nbsp; \\"
   ]
  },
  {
   "cell_type": "markdown",
   "metadata": {},
   "source": [
    "## SPWID 0,1,2,3 and 5  \n",
    " spw = '\\*' &nbsp; &nbsp; &nbsp; &nbsp;\n",
    "&nbsp; &nbsp; &nbsp; &nbsp; &nbsp; &nbsp; &nbsp;\\"
   ]
  },
  {
   "cell_type": "markdown",
   "metadata": {},
   "source": [
    "## All spectral\n",
    "windows  \n",
    " spw = '1412\\~1415MHz' \\#Spectral windows\n",
    "containing 1412-1415MHz. \n",
    "\n",
    "In some cases, the spectral windows may allow specification by name. For\n",
    "example,&nbsp;\n",
    "\n",
    "spw\n",
    "= '3mmUSB, 3mmLSB' &nbsp; &nbsp; &nbsp;\\"
   ]
  },
  {
   "cell_type": "markdown",
   "metadata": {},
   "source": [
    "## choose by names (if\n",
    "available)might be meaningful for the dataset in question.\n",
    "\n",
    "Note that the order in which\n",
    "multiple&nbsp;spws are given may be important for other\n",
    "parameters. For example, the&nbsp;*mode = &rsquo;channel&rsquo;*&nbsp;in&nbsp;**clean**&nbsp;uses the first&nbsp;*spw*&nbsp;as the origin for the channelization of\n",
    "the resulting image cube.\n",
    "\n",
    "&nbsp;\n",
    "\n"
   ]
  },
  {
   "cell_type": "markdown",
   "metadata": {},
   "source": [
    "#### Channel selection in the&nbsp;*spw*&nbsp;parameter\n",
    "\n",
    "Channel selection can be\n",
    "included in the&nbsp;spw&nbsp;string in the form&nbsp;*&rsquo;SPWSEL:CHANSEL&rsquo;*&nbsp;where&nbsp;*CHANSEL*&nbsp;is the channel selector. In the end,\n",
    "the spectral selection within a given spectral window comes down to the\n",
    "selection of specific channels. We provide a number of shorthand\n",
    "selection options for\n",
    "this. These&nbsp;*CHANSEL*&nbsp;options include:\n",
    "\n",
    "-   Channel ranges:\n",
    "    *'START\\~STOP'**&nbsp;&nbsp;*\n",
    "-   Frequency ranges:\n",
    "    '*FSTART\\~FSTOP'&nbsp;*\n",
    "-   Channel striding/stepping:\n",
    "    *'START\\~STOP^STEP'* or *'FSTART\\~FSTOP^FSTEP'*\n",
    "\n",
    "The most common selection is via\n",
    "channel ranges\n",
    "*'START\\~STOP'*&nbsp;or frequency ranges\n",
    "*'FSTART\\~FSTOP'*:\n",
    "\n",
    "spw = '0:13\\~53' &nbsp; &nbsp; &nbsp; &nbsp;\\"
   ]
  },
  {
   "cell_type": "markdown",
   "metadata": {},
   "source": [
    "## spw 0, channels 13-53,\n",
    "inclusive  \n",
    "spw = '0:1413\\~1414MHz' \\"
   ]
  },
  {
   "cell_type": "markdown",
   "metadata": {},
   "source": [
    "## spw 0, 1413-1414MHz section only\n",
    "\n",
    "All ranges are inclusive, with the\n",
    "channel given by, or containing the frequency given\n",
    "by,&nbsp;*START*&nbsp;and&nbsp;*STOP*&nbsp;plus all channels between included in\n",
    "the selection. You can also select the spectral window via frequency\n",
    "ranges *'FSTART\\~FSTOP'*,&nbsp;as described above:&nbsp;\n",
    "\n",
    "spw =\n",
    "'1413\\~1414MHz:1413\\~1414MHz' \\"
   ]
  },
  {
   "cell_type": "markdown",
   "metadata": {},
   "source": [
    "## channels falling within 1413\\~1414MHz  \n",
    " spw =\n",
    "'\\*:1413\\~1414MHz' &nbsp; &nbsp; &nbsp; &nbsp; &nbsp; &nbsp; &nbsp;\n",
    "&nbsp; &nbsp; &nbsp; &nbsp;\\"
   ]
  },
  {
   "cell_type": "markdown",
   "metadata": {},
   "source": [
    "## does the same thing\n",
    "\n",
    "You can also specify multiple spectral\n",
    "window or channel ranges, e.g.&nbsp;\n",
    "\n",
    "spw = '2:16, 3:32\\~34' \\"
   ]
  },
  {
   "cell_type": "markdown",
   "metadata": {},
   "source": [
    "## spw 2, channel 16 plus spw 3 channels 32-34  \n",
    "spw = '2:1\\~3;57\\~63' &nbsp; \\"
   ]
  },
  {
   "cell_type": "markdown",
   "metadata": {},
   "source": [
    "## spw 2, channels 1-3 and 57-63  \n",
    "spw = '1\\~3:10\\~20' &nbsp; &nbsp; \\"
   ]
  },
  {
   "cell_type": "markdown",
   "metadata": {},
   "source": [
    "## spw 1-3, channels 10-20  \n",
    "spw = '\\*:4\\~56' &nbsp; &nbsp; &nbsp; &nbsp;\\"
   ]
  },
  {
   "cell_type": "markdown",
   "metadata": {},
   "source": [
    "## all spw, channels 4-56\n",
    "\n",
    "Note the use of the wildcard in the\n",
    "last example.\n",
    "\n",
    "A step can be also be included using\n",
    "*'^STEP'**&nbsp;*as a postfix:\n",
    "\n",
    "spw = '0:10\\~100^2' &nbsp; &nbsp; &nbsp; &nbsp;\\"
   ]
  },
  {
   "cell_type": "markdown",
   "metadata": {},
   "source": [
    "## chans 10,12,14,...,100\n",
    "of spw 0  \n",
    "spw = ':^4' &nbsp; &nbsp; &nbsp; &nbsp; &nbsp; &nbsp; &nbsp; \\"
   ]
  },
  {
   "cell_type": "markdown",
   "metadata": {},
   "source": [
    "## chans\n",
    "0,4,8,... of all spw  \n",
    "spw = ':100\\~150GHz^10GHz' \\"
   ]
  },
  {
   "cell_type": "markdown",
   "metadata": {},
   "source": [
    "## closest chans to 100,110,...,150GHz\n",
    "\n",
    "A step in\n",
    "frequency will pick the channel in which that frequency falls, or the\n",
    "nearest channel.\n",
    "\n"
   ]
  },
  {
   "cell_type": "markdown",
   "metadata": {},
   "source": [
    "#### &nbsp;\n",
    "\n",
    "[**Frequency\n",
    "Selection**](http://casacore.github.io/casacore-notes/263.html#x1-230006 \"Frequency Selection\")\n",
    "- Expression for selection along the frequency axis (CASAcore docs)\n",
    "\n"
   ]
  },
  {
   "cell_type": "markdown",
   "metadata": {},
   "source": [
    "### The *selectdata* Parameters\n",
    "\n",
    "The&nbsp;*selectdata*&nbsp;parameter, if set to&nbsp;True&nbsp;(default), will expand the inputs to\n",
    "include a number of sub-parameters, given below and in the individual\n",
    "task descriptions (if different). If&nbsp;*selectdata = False*, then the sub-parameters are treated as\n",
    "blank for selection by the task.\n",
    "\n",
    "The common&nbsp;*selectdata*&nbsp;expanded sub-parameters\n",
    "are:\n",
    "\n"
   ]
  },
  {
   "cell_type": "markdown",
   "metadata": {},
   "source": [
    "##### &nbsp;\n",
    "\n"
   ]
  },
  {
   "cell_type": "markdown",
   "metadata": {},
   "source": [
    "### The&nbsp;*antenna*&nbsp;Parameter\n",
    "\n",
    "The&nbsp;*antenna*&nbsp;selection string is a semi-colon\n",
    "(*&rsquo;;&rsquo;*) separated list of baseline specifications.\n",
    "A baseline specification is of the form:\n",
    "\n",
    "-   *&rsquo;ANT1&rsquo;**&nbsp;*&mdash; Select all baselines\n",
    "    including the antenna(s) specified by the\n",
    "    selector&nbsp;*ANT1*.\n",
    "\n",
    "-   *&rsquo;ANT1&&rsquo;*&nbsp;&mdash; Select only baselines\n",
    "    between the antennas specified by the selector&nbsp;*ANT1*.\n",
    "\n",
    "-   *&rsquo;ANT1&ANT2&rsquo;*&nbsp;&mdash; Select only the\n",
    "    cross-correlation baselines between the antennas specified by\n",
    "    selector&nbsp;*ANT1*&nbsp;and antennas specified by\n",
    "    selector&nbsp;*ANT2*. Thus&nbsp;*&rsquo;ANT1&&rsquo;*&nbsp;is an abbreviation\n",
    "    for&nbsp;*&rsquo;ANT1&ANT1&rsquo;*.\n",
    "\n",
    "-   *&rsquo;ANT1&&ANT2&rsquo;*&nbsp;&mdash; Select only\n",
    "    auto-correlation and cross-correlation baselines between antennas\n",
    "    specified by the selectors&nbsp;*ANT1*&nbsp;and&nbsp;*ANT2*. Note that this is what the\n",
    "    default&nbsp;*antenna=&rsquo;&rsquo;**&nbsp;*gives you.\n",
    "\n",
    "-   *&rsquo;ANT1&&&&rsquo;*&nbsp;&mdash; Select only\n",
    "    autocorrelations specified by the selector&nbsp;*ANT1*.\n",
    "\n",
    "The selectors&nbsp;*ANT1*&nbsp;and&nbsp;*ANT2*&nbsp;are comma-separated lists of antenna\n",
    "integer-*IDs* or literal antenna names, patterns, or regular\n",
    "expressions. The&nbsp;*ANT*&nbsp;strings are parsed and converted to a\n",
    "list of antenna integer-*IDs* or *IDs* of antennas whose name match the\n",
    "given names/pattern/regular expression. Baselines corresponding to all\n",
    "combinations of the elements in lists on either side of ampersand are\n",
    "selected.\n",
    "\n",
    "Integer *IDs* can be specified as single\n",
    "values or a range of integers. When items of the list are parsed as\n",
    "literal strings or regular expressions or patterns. All antenna names that match the given\n",
    "string (exact match)/regular expression/pattern are\n",
    "selected.\n",
    "\n",
    "&nbsp;\n",
    "\n",
    "ALERT:&nbsp;Just for antenna selection, a user\n",
    "supplied integer (or integer list) is converted to a string and matched\n",
    "against the antenna name. If that fails, the normal logic of using an\n",
    "integer as an integer and matching it with antenna index is done. Note\n",
    "that currently there is no method for specifying a pure index (e.g. a\n",
    "number that will not first be checked against the name).\n",
    "\n",
    "&nbsp;\n",
    "\n",
    "The comma is used only as a separator\n",
    "for the list of antenna specifications. The list of baselines\n",
    "specifications is a semi-colon separated list, e.g.\n",
    "\n",
    "antenna = '1\\~3 & 4\\~6 ; 10&11'\n",
    "\n",
    "will select baselines between antennas\n",
    "*1,2,3* and *4,5,6* (*&rsquo;1&4&rsquo;,&nbsp;&rsquo;1&5&rsquo;, &mldr;,&nbsp;&rsquo;3&6&rsquo;*) plus baseline&nbsp;*&rsquo;10&11&rsquo;*.\n",
    "\n",
    "The wildcard operator (*&rsquo;\\*&rsquo;*) will be the most often used pattern. To\n",
    "make it easy to use, the wildcard (and only this operator) can be used\n",
    "without enclosing it in quotes. For example, the selection\n",
    "\n",
    "antenna = 'VA\\*'\n",
    "\n",
    "will match all antenna names which\n",
    "have&nbsp;*&rsquo;VA&rsquo;**&nbsp;*as the first 2 characters in the name\n",
    "(irrespective of what follows after these characters).\n",
    "\n",
    "There is also a negation operator\n",
    "*&ldquo;**!**&rdquo;* that can be used to de-select\n",
    "antennas or baselines.\n",
    "\n",
    "Some examples:\n",
    "\n",
    "antenna='' &nbsp; &nbsp; &nbsp; &nbsp; &nbsp; \\"
   ]
  },
  {
   "cell_type": "markdown",
   "metadata": {},
   "source": [
    "## shows blank autocorr\n",
    "pages  \n",
    "antenna='\\*&\\*' &nbsp; &nbsp; &nbsp; &nbsp;\\"
   ]
  },
  {
   "cell_type": "markdown",
   "metadata": {},
   "source": [
    "## does not show the\n",
    "autocorrs  \n",
    "antenna='\\*&&\\*' &nbsp; &nbsp; &nbsp; \\"
   ]
  },
  {
   "cell_type": "markdown",
   "metadata": {},
   "source": [
    "## show both auto and cross-cor\n",
    "(default)  \n",
    "antenna='\\*&&&' &nbsp; &nbsp; &nbsp; \\"
   ]
  },
  {
   "cell_type": "markdown",
   "metadata": {},
   "source": [
    "## shows only autocorrs  \n",
    "&nbsp;  \n",
    "antenna='5&\\*' &nbsp; &nbsp; &nbsp; &nbsp;\\"
   ]
  },
  {
   "cell_type": "markdown",
   "metadata": {},
   "source": [
    "## shows non-auto baselines\n",
    "with AN 5  \n",
    "  \n",
    "antenna='5,6&&&' &nbsp; &nbsp; \\"
   ]
  },
  {
   "cell_type": "markdown",
   "metadata": {},
   "source": [
    "## AN 5 and 6 autocor  \n",
    "antenna='5&&&;6&\\*' &nbsp; \\"
   ]
  },
  {
   "cell_type": "markdown",
   "metadata": {},
   "source": [
    "## AN 5 autocor plus cross-cors to AN 6  \n",
    "antenna='5,6,7&' &nbsp; &nbsp; \\"
   ]
  },
  {
   "cell_type": "markdown",
   "metadata": {},
   "source": [
    "## all baselines in common between\n",
    "antennas 5, 6, and 7  \n",
    "antenna='!5' &nbsp; &nbsp; &nbsp; &nbsp; \\"
   ]
  },
  {
   "cell_type": "markdown",
   "metadata": {},
   "source": [
    "## baselines not involving AN 5\n",
    "\n",
    "Antenna numbers as names:&nbsp;Needless to say, naming antennas\n",
    "such that the names can also be parsed as a valid token of the syntax is\n",
    "a bad idea. Nevertheless, antenna names that contain any of the reserved\n",
    "characters and/or can be parsed as integers or integer ranges can still\n",
    "be used by enclosing the antenna names in double quotes (*' \"ANT\"\n",
    "'*). E.g. the string\n",
    "\n",
    "antenna = '10\\~15,21,VA22'\n",
    "\n",
    "will expand into an antenna *ID* list\n",
    "*10,11,12,13,14,15,21,22* (assuming the index of the antenna named&nbsp;*&rsquo;VA22&rsquo;*&nbsp;is *22*). If, however, the antenna with\n",
    "*ID* index *50* is named&nbsp;*&rsquo;21&rsquo;*, then the string\n",
    "\n",
    "antenna = '10\\~15,21,VA22'\n",
    "\n",
    "will expand into an antenna *ID* list\n",
    "of *10,11,12,13,14,15,50,22*.&nbsp;*Keep in mind that numbers are FIRST matched\n",
    "against names, and only against indices if that matching\n",
    "fails.*&nbsp;There is currently\n",
    "no way to force a selection to use the index, and if there an antenna\n",
    "with that name it will select that.\n",
    "\n",
    "Read elsewhere (e.g.&nbsp;info\n",
    "regex&nbsp;under Unix) for\n",
    "details of regular expression and patterns.\n",
    "\n"
   ]
  },
  {
   "cell_type": "markdown",
   "metadata": {},
   "source": [
    "####  Antenna stations&nbsp;\n",
    "\n",
    "Instead of antenna names, the antenna\n",
    "station names are also accepted by the selection syntax., e.g.\n",
    "*&rsquo;N15&rsquo;* for the JVLA.\n",
    "\n",
    "&nbsp;\n",
    "\n"
   ]
  },
  {
   "cell_type": "markdown",
   "metadata": {},
   "source": [
    "#### ANT@STATION selection&nbsp;syntax&nbsp;\n",
    "\n",
    "Sometimes, data from multiple array\n",
    "configurations are stored in a single MS. But some antennas may have\n",
    "been moved during reconfiguration and the*&nbsp;**&rsquo;ANT@STATION&rsquo;*&nbsp;syntax can distinguish between\n",
    "them.&nbsp;&rsquo;*ANT*&rsquo;&nbsp;is the antenna name or index\n",
    "and&nbsp;&rsquo;*STATION*&rsquo;&nbsp;is the antenna station name, e.g.,\n",
    "*&rsquo;EA12@W03&rsquo;* selects antenna *EA012* but only at times when\n",
    "it is positioned on station *W03*. Wildcards are accepted, e.g.\n",
    "*&rsquo;EA12@\\*&rsquo;* selects all visibilities from antenna *EA12*,\n",
    "and *&rsquo;\\*@W03&rsquo;* would select all antennas that are located on\n",
    "station &rsquo;*W03*&rsquo; during any observations included in the\n",
    "MS.\n",
    "\n",
    "**[Antenna/Baseline\n",
    "Selection](http://casacore.github.io/casacore-notes/263.html#x1-100003 \"Antenna/Baseline Selection\")&nbsp;**- Expression for selection along\n",
    "baseline/antenna aixs (CASAcore docs)\n",
    "\n",
    "&nbsp;\n",
    "\n"
   ]
  },
  {
   "cell_type": "markdown",
   "metadata": {},
   "source": [
    "### The&nbsp;*scan*&nbsp;Parameter&nbsp;\n",
    "\n",
    "The&nbsp;*scan*&nbsp;parameter selects the scan *ID* numbers\n",
    "of the data. There is currently no naming convention for scans. The scan\n",
    "*ID* is filled into the MS depending on how the data was obtained, so\n",
    "use this with care.\n",
    "\n",
    "Examples:\n",
    "\n",
    "scan = '3'\n",
    "&nbsp; &nbsp; &nbsp; &nbsp; &nbsp;\\"
   ]
  },
  {
   "cell_type": "markdown",
   "metadata": {},
   "source": [
    "## scan number 3.  \n",
    "scan = '1\\~8' &nbsp; &nbsp; &nbsp;\\"
   ]
  },
  {
   "cell_type": "markdown",
   "metadata": {},
   "source": [
    "## scan numbers 1 through 8,\n",
    "inclusive  \n",
    "scan = '1,2,4,6' &nbsp;\\"
   ]
  },
  {
   "cell_type": "markdown",
   "metadata": {},
   "source": [
    "## scans 1,2,4,6  \n",
    "scan = '\\<9' &nbsp; &nbsp; &nbsp; &nbsp;\\"
   ]
  },
  {
   "cell_type": "markdown",
   "metadata": {},
   "source": [
    "## scans \\<9 (1-8)NOTE: ALMA and\n",
    "VLA/JVLA number scans starting with 1 and not 0. You\n",
    "can see what the numbering is in your MS using\n",
    "the&nbsp;**listobs**&nbsp;task\n",
    "with&nbsp;*verbose=True.*\n",
    "\n",
    "&nbsp;\n",
    "\n",
    "[**Scan/Sub-array\n",
    "Selection**](http://casacore.github.io/casacore-notes/263.html#x1-350009 \"Scan/Sub-array Selection\")\n",
    "- Expression for selection based on scan or sub-array indices (CASAcore\n",
    "docs)\n",
    "\n",
    "&nbsp;\n",
    "\n"
   ]
  },
  {
   "cell_type": "markdown",
   "metadata": {},
   "source": [
    "### The&nbsp;*timerange*&nbsp;Parameter\n",
    "\n",
    "&nbsp;The time strings in the following\n",
    "(*T0*,&nbsp;*T1*&nbsp;and&nbsp;*dT*)\n",
    "can be specified as&nbsp;*YYYY/MM/DD/HH:MM:SS.FF*. The time fields (i.e.,&nbsp;*YYYY*,&nbsp;*MM*,&nbsp;*DD*,&nbsp;*HH*,&nbsp;*MM*,&nbsp;*SS*&nbsp;and&nbsp;*FF*),\n",
    "starting from left to right, may be omitted and they will be replaced by\n",
    "context sensitive defaults as explained below.\n",
    "\n",
    "Some examples:\n",
    "\n",
    "&nbsp;\n",
    "\n",
    "*timerange='T0\\~T1'*: Select all time\n",
    "stamps from&nbsp;*T0*&nbsp;to&nbsp;*T1*. For\n",
    "example:\n",
    "\n",
    "timerange = '2007/10/09/00:40:00 \\~ 2007/10/09/03:30:00'\n",
    "\n",
    "Note that fields missing\n",
    "in&nbsp;*T0*&nbsp;are replaced by the fields in the time\n",
    "stamp of the first valid row in the MS. For example,\n",
    "\n",
    "timerange = '09/00:40:00 \\~ 09/03:30:00'\n",
    "\n",
    "where\n",
    "the*&nbsp;**YY/MM/*&nbsp;part of the selection has been\n",
    "defaulted to the start of the MS.\n",
    "\n",
    "Fields missing in&nbsp;*T1*,\n",
    "such as the date part of the string, are replaced by the corresponding\n",
    "fields of&nbsp;*T0*&nbsp;(after its defaults are set). For\n",
    "example:\n",
    "\n",
    "timerange = '2007/10/09/22:40:00 \\~ 03:30:00'\n",
    "\n",
    "does the same thing as above.\n",
    "\n",
    "&nbsp;\n",
    "\n",
    "*timerange='T0'*: &nbsp;Select all time stamps that are within an\n",
    "integration\n",
    "time of&nbsp;*T0*.\n",
    "For example:\n",
    "\n",
    "timerange = '2007/10/09/23:41:00'\n",
    "\n",
    "Integration time is determined from the first\n",
    "valid row (more rigorously, an average integration time should be\n",
    "computed). Default settings for the missing fields of&nbsp;*T0*&nbsp;are as in\n",
    "the first example.\n",
    "\n",
    "&nbsp;\n",
    "\n",
    "*timerange='T0+dT'*:&nbsp;Select all time stamps starting\n",
    "from&nbsp;T0&nbsp;and ending with time\n",
    "stamp&nbsp;*T0+dT*. For\n",
    "example:\n",
    "\n",
    "timerange = '23:41:00+01:00:00'\n",
    "\n",
    "picks an hour-long chunk of\n",
    "time.\n",
    "\n",
    "Defaults\n",
    "of&nbsp;*T0*&nbsp;are set as usual. Defaults\n",
    "for&nbsp;*dT*&nbsp;are set from the time corresponding to\n",
    "*MJD=0*. Thus,&nbsp;*dT*&nbsp;is a\n",
    "specification of length of time from the assumed nominal \"start of\n",
    "time\".\n",
    "\n",
    "&nbsp;\n",
    "\n",
    "*timerange='\\>T0'*:&nbsp;Select all times greater\n",
    "than&nbsp;*T0*. For\n",
    "example:\n",
    "\n",
    "timerange\n",
    "= '\\>2007/10/09/23:41:00'  \n",
    "timerange = '\\>23:41:00' &nbsp; &nbsp; &nbsp; &nbsp; &nbsp; &nbsp;\n",
    "&nbsp; &nbsp; &nbsp; \\"
   ]
  },
  {
   "cell_type": "markdown",
   "metadata": {},
   "source": [
    "## Same thing without day specification\n",
    "\n",
    "Default settings for&nbsp;*T0*&nbsp;are as above.\n",
    "\n",
    "timerange='\\<T1':&nbsp;Select all times less\n",
    "than&nbsp;*T1*. For\n",
    "example:\n",
    "\n",
    "timerange = '\\<2007/10/09/23:41:00'\n",
    "\n",
    "Default settings\n",
    "for&nbsp;*T1*&nbsp;are as\n",
    "above.\n",
    "\n",
    "&nbsp;\n",
    "\n",
    "An ultra-conservative selection might\n",
    "be:\n",
    "\n",
    "timerange = '1960/01/01/00:00:00\\~2020/12/31/23:59:59'\n",
    "\n",
    "which would choose all possible\n",
    "data!\n",
    "\n",
    "&nbsp;\n",
    "\n",
    "**[**Time\n",
    "Selection**](http://casacore.github.io/casacore-notes/263.html#x1-80002)\n",
    "- Expression for selection data along time axisTime Selection (CASAcore\n",
    "docs)&nbsp;**\n",
    "\n",
    "&nbsp;\n",
    "\n"
   ]
  },
  {
   "cell_type": "markdown",
   "metadata": {},
   "source": [
    "### The&nbsp;uvrange&nbsp;Parameter\n",
    "\n",
    "&nbsp;Rows in the MS can also be\n",
    "selected based on the uv-distance or physical baseline length that the\n",
    "visibilities in each row correspond to. This&nbsp;*uvrange*&nbsp;can be\n",
    "specified in various formats.\n",
    "\n",
    "The basic building block of uv-distance\n",
    "specification is a valid number with optional units in the format\n",
    "*N\\[UNIT\\]* (the unit in square brackets is optional). We refer to this\n",
    "basic building\n",
    "block as&nbsp;*UVDIST*. The default unit is meter. Units of length\n",
    "(such as&nbsp;*&rsquo;m&rsquo;**&nbsp;*and&nbsp;*&rsquo;km&rsquo;*) select physical baseline distances\n",
    "(independent of wavelength). The other allowed units are in wavelengths\n",
    "(such as&nbsp;*&rsquo;lambda&rsquo;,&nbsp;&rsquo;klambda&rsquo;*&nbsp;and&nbsp;*&rsquo;Mlambda&rsquo;*&nbsp;and are true uv-plane\n",
    "radii\n",
    "\n",
    "$$UVDIST=\\sqrt{u^2+v^2}$$\n",
    "\n",
    "&nbsp;\n",
    "\n",
    "If only a\n",
    "single&nbsp;*UVDIST*&nbsp;is specified, all rows, the uv-distance\n",
    "of which exactly matches the given&nbsp;*UVDIST*, are selected.\n",
    "\n",
    "*UVDIST*&nbsp;can be specified as a range in the\n",
    "format *'N0\\~N1\\[UNIT\\]'*&nbsp;(where&nbsp;*N0*&nbsp;and&nbsp;*N1*&nbsp;are valid numbers). All rows\n",
    "corresponding to uv-distance between&nbsp;*N0*&nbsp;and&nbsp;*N1*&nbsp;(inclusive) when converted the\n",
    "specified units are selected.\n",
    "\n",
    "*UVDIST*&nbsp;can also be selected via comparison\n",
    "operators. When specified in the format&nbsp;*&rsquo;\\>UVDIST&rsquo;*, all visibilities with uv-distances greater\n",
    "than the given&nbsp;*UVDIST*&nbsp;are selected. Likewise, when specified\n",
    "in the format&nbsp;*&rsquo;\\<UVDIST&rsquo;*, all rows with uv-distances less than the\n",
    "given&nbsp;*UVDIST*&nbsp;are selected.\n",
    "\n",
    "Any\n",
    "number of above mentioned uv-distance specifications can be given as a\n",
    "comma-separated list.\n",
    "\n",
    "Examples:\n",
    "\n",
    "uvrange\n",
    "= '100\\~200km' &nbsp; &nbsp; &nbsp; &nbsp; &nbsp; &nbsp; &nbsp; &nbsp;\n",
    "&nbsp; &nbsp; &nbsp; &nbsp; &nbsp; &nbsp; &nbsp;\\"
   ]
  },
  {
   "cell_type": "markdown",
   "metadata": {},
   "source": [
    "## an annulus in\n",
    "physical baseline length  \n",
    "uvrange = '24\\~35Mlambda, 40\\~45Mlambda' \\"
   ]
  },
  {
   "cell_type": "markdown",
   "metadata": {},
   "source": [
    "## two annuli in units of\n",
    "mega-wavelengths  \n",
    "uvrange = '\\< 45klambda' &nbsp; &nbsp; &nbsp; &nbsp; &nbsp; &nbsp;\n",
    "&nbsp; &nbsp; &nbsp; &nbsp; &nbsp; &nbsp; &nbsp; &nbsp; \\"
   ]
  },
  {
   "cell_type": "markdown",
   "metadata": {},
   "source": [
    "## less than 45\n",
    "kilolambda  \n",
    "uvrange = '\\> 0lambda' &nbsp; &nbsp; &nbsp; &nbsp; &nbsp; &nbsp; &nbsp;\n",
    "&nbsp; &nbsp; &nbsp; &nbsp; &nbsp; &nbsp; &nbsp; &nbsp; &nbsp;\\"
   ]
  },
  {
   "cell_type": "markdown",
   "metadata": {},
   "source": [
    "## greater\n",
    "than zero length (no auto-corrs)  \n",
    "uvrange = '100km' &nbsp; &nbsp; &nbsp; &nbsp; &nbsp; &nbsp; &nbsp;\n",
    "&nbsp; &nbsp; &nbsp; &nbsp; &nbsp; &nbsp; &nbsp; &nbsp; &nbsp; &nbsp;\n",
    "&nbsp; &nbsp;\\"
   ]
  },
  {
   "cell_type": "markdown",
   "metadata": {},
   "source": [
    "## baselines of length 100km  \n",
    "\n",
    "uvrange = '100klambda' &nbsp; &nbsp; &nbsp; &nbsp; &nbsp; &nbsp; &nbsp;\n",
    "&nbsp; &nbsp; &nbsp; &nbsp; &nbsp; &nbsp; &nbsp; &nbsp;\\"
   ]
  },
  {
   "cell_type": "markdown",
   "metadata": {},
   "source": [
    "## uv-radius 100\n",
    "kilolambda  \n",
    "\n",
    "\n",
    "[**UV-distance\n",
    "Selection**](http://casacore.github.io/casacore-notes/263.html#x1-210005 \"UV-distance Selection\")\n",
    "- Expression for selection based on uv-distance (CASAcore docs)\n",
    "\n"
   ]
  },
  {
   "cell_type": "markdown",
   "metadata": {},
   "source": [
    "###  The&nbsp;*correlation*&nbsp;Parameter\n",
    "\n",
    "The&nbsp;*correlation*&nbsp;parameter will select between different\n",
    "correlation products. They can be either the correlation *ID* or values\n",
    "such as *&rsquo;XX&rsquo;, &rsquo;YY&rsquo;, &rsquo;XY&rsquo;,\n",
    "&rsquo;YX&rsquo;, &rsquo;RR&rsquo;, &rsquo;LL&rsquo;, &rsquo;RL&rsquo;,\n",
    "&rsquo;LR&rsquo;*.\n",
    "\n",
    "&nbsp;\n",
    "\n",
    "[**Polarization\n",
    "Selection**](http://casacore.github.io/casacore-notes/263.html#x1-310007 \"Polarization Selection\")\n",
    "- Expression for selection along the polarization axis (CASAcore\n",
    "docs)&nbsp;\n",
    "\n"
   ]
  },
  {
   "cell_type": "markdown",
   "metadata": {},
   "source": [
    "###  The&nbsp;*intent*&nbsp;Parameter\n",
    "\n",
    "*intent*&nbsp;is the scan intent that was specified\n",
    "when the observations were set up. They typically describe what was\n",
    "intended with a specific scan, i.e. a flux or phase calibration, a\n",
    "bandpass, a pointing, an observation of your target, or something else\n",
    "or a combination. The format for the scan intents of your observations\n",
    "are listed in the logger when you run&nbsp;listobs. Minimum matching with wildcards will work,\n",
    "like *&rsquo;\\*BANDPASS\\*&rsquo;*. This is especially useful when\n",
    "multiple intents are attached to scans.\n",
    "\n",
    "&nbsp;\n",
    "\n",
    "[**'Scan Intent' based\n",
    "selection**](http://casacore.github.io/casacore-notes/263.html#x1-320008 \"'Scan Intent' based Selection\")&nbsp;-\n",
    "Selection by intent (CASAcore docs)\n",
    "\n",
    "&nbsp;&nbsp;\n",
    "\n"
   ]
  },
  {
   "cell_type": "markdown",
   "metadata": {},
   "source": [
    "### The&nbsp;*observation*&nbsp;Parameter\n",
    "\n",
    "The&nbsp;*observation*&nbsp;parameter can select between different\n",
    "observation *IDs*. They will be assigned to parts of a combined data set\n",
    "during a run of&nbsp;concat. Each input MS will receive its own\n",
    "observation id in the process.\n",
    "\n",
    "&nbsp;\n",
    "\n"
   ]
  },
  {
   "cell_type": "markdown",
   "metadata": {},
   "source": [
    "### The&nbsp;*feed*&nbsp;Parameter\n",
    "\n",
    "The&nbsp;*feed*&nbsp;parameter can\n",
    "select between different feeds, e.g. for different feeds in a single\n",
    "dish multibeam array.\n",
    "\n",
    "&nbsp;\n",
    "\n"
   ]
  },
  {
   "cell_type": "markdown",
   "metadata": {},
   "source": [
    "### The&nbsp;*msselect*&nbsp;Parameter\n",
    "\n",
    "More complicated selections within the\n",
    "MS structure are possible using the Table Query Language\n",
    "(TaQL). This is accessed through the&nbsp;*msselect*&nbsp;parameter.\n",
    "\n",
    "Note that the TaQL syntax does not follow the\n",
    "rules given in above&nbsp;for\n",
    "our other selection strings. TaQL is explained in more detail in\n",
    "CASAcore&nbsp;NOTE 199 &mdash;\n",
    "[Table Query\n",
    "Language](https://casacore.github.io/casacore-notes/199.html). The specific columns of the MS are given in\n",
    "the most recent [MS specification\n",
    "document](https://casa.nrao.edu/casadocs-devel/stable/casa-fundamentals/measurement-set).\n",
    "\n",
    "Most selection can be carried out using the\n",
    "other selection parameters. However, these are merely shortcuts to the\n",
    "underlying TaQL selection. For example, field and spectral window\n",
    "selection can be done using&nbsp;msselect&nbsp;rather than through&nbsp;field&nbsp;or&nbsp;spw:\n",
    "\n",
    "msselect='FIELD_ID == 0' &nbsp; &nbsp; &nbsp; &nbsp; &nbsp; &nbsp;\n",
    "&nbsp; &nbsp; &nbsp;\\"
   ]
  },
  {
   "cell_type": "markdown",
   "metadata": {},
   "source": [
    "## Field id 0 only  \n",
    "msselect='FIELD_ID \\<= 1' &nbsp; &nbsp; &nbsp; &nbsp; &nbsp; &nbsp;\n",
    "&nbsp; &nbsp; &nbsp;\\"
   ]
  },
  {
   "cell_type": "markdown",
   "metadata": {},
   "source": [
    "## Field id 0 and 1  \n",
    "msselect='FIELD_ID IN \\[1,2\\]' &nbsp; &nbsp; &nbsp; &nbsp; &nbsp; &nbsp;\n",
    "&nbsp;\\"
   ]
  },
  {
   "cell_type": "markdown",
   "metadata": {},
   "source": [
    "## Field id 1 and 2  \n",
    "msselect='FIELD_ID==0 && DATA_DESC_ID==3' \\"
   ]
  },
  {
   "cell_type": "markdown",
   "metadata": {},
   "source": [
    "## Field id 0 in spw id 3 only\n",
    "\n",
    "ALERT:&nbsp;The&nbsp;*msselect*&nbsp;style parameters will be phased out of\n",
    "the tasks. TaQL selection will still be available in the\n",
    "Toolkit.&nbsp;\n",
    "\n",
    "&nbsp;\n",
    "\n",
    "This page describes the syntax for the various expressions for selecting\n",
    "data from the MeasurementSet, implemented in the MSSelection module of\n",
    "CASACore. All expressions consist of a comma or semi-colon separated\n",
    "list of speci&filig;cations.&nbsp; The MSSelection module can also be\n",
    "used for other tables that follow the general data base design of the\n",
    "MeasurementSet. The CASA CalTables is an example which also uses the\n",
    "MSSelection module for selection.The most up to date document will\n",
    "always be on the [CASACore GitHub\n",
    "Repository](http://casacore.github.io/casacore-notes/263.html). The\n",
    "content in this page is derived from this [GitHub\n",
    "snapshot](https://github.com/casacore/casacore-notes/tree/92c6d74cb32592980224b0707884823c5623088f/263.dir).\n",
    "\n",
    "[**Using *MSSelection* expressions in\n",
    "TaQL**](http://casacore.github.io/casacore-notes/263.html#x1-3700010 \"Using MSSelection Expressions in TaQL\")\n",
    "- MSSelection expressions can also be used in pure-TaQL expressions\n",
    "(CASAcore docs)\n",
    "\n"
   ]
  },
  {
   "cell_type": "markdown",
   "metadata": {},
   "source": [
    "#### &nbsp;"
   ]
  }
 ],
 "metadata": {},
 "nbformat": 4,
 "nbformat_minor": 5
}
