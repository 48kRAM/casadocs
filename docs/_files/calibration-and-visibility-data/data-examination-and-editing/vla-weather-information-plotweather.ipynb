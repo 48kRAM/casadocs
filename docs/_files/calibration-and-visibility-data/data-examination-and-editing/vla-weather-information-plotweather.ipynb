{
 "cells": [
  {
   "cell_type": "markdown",
   "metadata": {},
   "source": [
    "# VLA Weather Information\n",
    "\n",
    "About plotweather\n",
    "\n",
    "Weather data for the VLA can be displayed with the task **plotweather**.\n",
    "This task will also calculate opacities based on the weather data taken\n",
    "at the time of the observation, or from a seasonal model.&nbsp;\n",
    "\n",
    "Inputs are:&nbsp;\n",
    "\n",
    "\\"
   ]
  },
  {
   "cell_type": "markdown",
   "metadata": {},
   "source": [
    "## plotweather :: Plot elements of the weather table; estimate\n",
    "opacity.  \n",
    "vis = '' &nbsp; &nbsp; &nbsp; &nbsp; &nbsp; &nbsp; &nbsp;\\"
   ]
  },
  {
   "cell_type": "markdown",
   "metadata": {},
   "source": [
    "## MS name  \n",
    "seasonal_weight = 0.5 \\"
   ]
  },
  {
   "cell_type": "markdown",
   "metadata": {},
   "source": [
    "## weight of the seasonal model  \n",
    "doPlot = True &nbsp; &nbsp; &nbsp; &nbsp; \\"
   ]
  },
  {
   "cell_type": "markdown",
   "metadata": {},
   "source": [
    "## set this to True to create\n",
    "a plot  \n",
    "plotName = '' &nbsp; &nbsp; &nbsp; &nbsp; \\"
   ]
  },
  {
   "cell_type": "markdown",
   "metadata": {},
   "source": [
    "## (Optional) the name of the\n",
    "plot file\n",
    "\n",
    "The amount of seasonal data can be set by the parameter\n",
    "*seasonal_weight*, where a value of 1 will only use the seasonal model\n",
    "and a value of 0 will only use the actual weather data to calculate\n",
    "opacities.&nbsp;\n",
    "\n",
    "Typical output of **plotweather** looks like below:\n",
    "\n",
    "![https://raw.githubusercontent.com/a36812b09ef65bbf1d85a367204f1070b66a1a2b.png](https://raw.githubusercontent.com/a36812b09ef65bbf1d85a367204f1070b66a1a2b.png)\n",
    "\n",
    "|         |                                                                                                                                                                                                                                                                                                                                                                                                                                                                                                   |\n",
    "|:-------:|:-------------------------------------------------------------------------------------------------------------------------------------------------------------------------------------------------------------------------------------------------------------------------------------------------------------------------------------------------------------------------------------------------------------------------------------------------------------------------------------------------:|\n",
    "|  Type   |                                                                                                                                                                                                                                           Figure&nbsp;                                                                                                                                                                                                                                            |\n",
    "|   ID    |                                                                                                                                                                                                                                  dataexamination-fig-plotweather                                                                                                                                                                                                                                  |\n",
    "| Caption | Typical output from plotweather. The panel at the top displays the following properties as a fiunction of time across the observation: elevation of the sun, wind speed and direction, temperature and dew point, and precipitable water vapor (pwv). The bottom panel shows the calculated zenith opacity as a function of &nbsp;frequency. The opacities calculated from the actual weather data, from a seasonal model and the specified mix of both are shown in the PWV and Tau plots.&nbsp; |\n",
    "\n",
    "The methods used in this task are described [EVLA Memo\n",
    "143](http://library.nrao.edu/public/memos/evla/EVLAM_143.pdf), [VLA Test\n",
    "Memo 232](http://library.nrao.edu/public/memos/vla/test/VLAT_232.pdf),\n",
    "and [VLA Scientific Memo\n",
    "176](http://library.nrao.edu/public/memos/vla/sci/VLAS_176.pdf).\n",
    "&nbsp;The wind direction aligns with the meteorological definition,\n",
    "i.e., north is up (0deg) with the angle&nbsp;increasing clockwise E, S,\n",
    "W (e.g., a vector pointing to the right indicates westerly winds with an\n",
    "angle of 270deg). &nbsp;&nbsp;\n",
    "\n",
    "&nbsp;\n",
    "\n",
    "Allowed output plot formats are those supported by matplotlib,\n",
    "currently&nbsp;emf, eps, pdf, png, ps, raw, rgba, svg, and svgz.\n",
    "\n",
    "&nbsp;\n",
    "\n",
    "Alert: **plotweather** accesses the WEATHER table in the MS. The task\n",
    "may therefore also work for non-VLA data as long as such a table is\n",
    "present. The plots and calculations, however, have been tailored for the\n",
    "VLA, so non-VLA data may or may not be interpreted\n",
    "correctly.&nbsp;&nbsp;&nbsp;\n",
    "\n",
    "&nbsp;\n",
    "\n",
    "&nbsp;\n",
    "\n",
    "&nbsp;\n",
    "\n",
    "&nbsp;"
   ]
  }
 ],
 "metadata": {},
 "nbformat": 4,
 "nbformat_minor": 5
}
