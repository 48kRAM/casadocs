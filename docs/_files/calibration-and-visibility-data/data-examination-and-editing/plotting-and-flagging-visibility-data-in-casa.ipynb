{
 "cells": [
  {
   "cell_type": "markdown",
   "metadata": {},
   "source": [
    "# Plot/Flag Visibilities\n",
    "\n",
    "Summary of tasks for plotting and flagging visibility data\n",
    "\n",
    "A number of CASA tasks handle the plotting and flagging&nbsp;of\n",
    "visibilities. The following subsections describe the usage of the\n",
    "relevant tasks:\n",
    "\n",
    "-   **plotms** --- create X-Y plots of data in MS and calibration\n",
    "    tables, flag data\n",
    "-   **flagdata** --- data flagging\n",
    "-   **flagcmd** --- manipulate and apply flags using FLAG_CMD table\n",
    "-   **flagmanager** --- manage versions of data flags\n",
    "-   **msview**&nbsp;--- two-dimensional viewer used\n",
    "    for&nbsp;manipulating visibilities"
   ]
  }
 ],
 "metadata": {},
 "nbformat": 4,
 "nbformat_minor": 5
}
