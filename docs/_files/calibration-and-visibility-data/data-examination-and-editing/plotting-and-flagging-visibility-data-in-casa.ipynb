{
 "cells": [
  {
   "cell_type": "markdown",
   "metadata": {},
   "source": [
    "# Plot/Flag Visibilities \n",
    "\n",
    "\n",
    "\n",
    "\n",
    "\n",
    "Summary of tasks for plotting and flagging visibility data\n",
    "\n",
    "\n",
    "\n",
    "\n",
    "\n",
    "\n",
    "\n",
    "\n",
    "\n",
    "A number of CASA tasks handle the plotting and flagging of visibilities. The following subsections describe the usage of the relevant tasks:\n",
    "\n",
    "\n",
    "\n",
    "\n",
    "-   **plotms** \\-\\-- create X-Y plots of data in MS and calibration tables, flag data\n",
    "-   **flagdata** \\-\\-- data flagging\n",
    "-   **flagcmd** \\-\\-- manipulate and apply flags using FLAG_CMD table\n",
    "-   **flagmanager** \\-\\-- manage versions of data flags\n",
    "-   **msview** \\-\\-- two-dimensional viewer used for manipulating visibilities"
   ]
  }
 ],
 "metadata": {},
 "nbformat": 4,
 "nbformat_minor": 4
}
