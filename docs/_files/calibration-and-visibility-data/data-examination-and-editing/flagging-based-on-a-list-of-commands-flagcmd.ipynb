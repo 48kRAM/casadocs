{
 "cells": [
  {
   "cell_type": "markdown",
   "metadata": {},
   "source": [
    "# Flag using flagcmd\n",
    "\n",
    "Flag the visibility data set or calibration table based on a specified\n",
    "list of flagging commands\n",
    "\n",
    "**Info:** We recommend using task\n",
    "**flagdata** as the preferable and safer way for flagging based on the\n",
    "visitibilites inspection and for many other capabilities. The option to\n",
    "import XML files with online flag in **flagcmd** has largely become\n",
    "obsolete with the deprecation of **importevla**, because the recommended\n",
    "**importasdm** task cannot copy the actual XML tables from the original\n",
    "SDM to the newly created MS (it can only apply the online flags\n",
    "directly, or write them into ascii tables).  \n",
    "\n",
    "\n",
    "The task **flagcmd** will flag the visibility data set or\n",
    "calibration table based on a specified set of flagging commands using a\n",
    "flagging syntax. These commands\n",
    "can be input from the *FLAG_CMD* table within the MS, from an ascii file, or from input python\n",
    "strings. Input can also be from an XML table within a VLA SDM, but given\n",
    "that importasdm does not copy XML files (and importevla is deprecated),\n",
    "the *Flag.xml, Antenna.xml* and *SpectralWindow.xml* tables must first\n",
    "be copied manually into the top-level MS directory for use by\n",
    "**flagcmd** (not the recommended approach). Facilities for manipulation,\n",
    "listing, or plotting of these flags are also provided.\n",
    "\n",
    "When doing any flagging with\n",
    "**flagcmd** it is wise to use the *flagbackup=True* parameter to save\n",
    "the current flags into a .flagversions file. See **flagmanager** for\n",
    "more details about this.\n",
    "\n",
    "**Alert**: The\n",
    "*FLAG_CMD* sub-table is meant only for meta-data selections such as\n",
    "online flags. Using it to save other parameters\n",
    "(from modes such as *clip, quack, shadow,* etc) is possible but carries a risk that in future releases these\n",
    "parameters maybe renamed or changed their\n",
    "default values. There will be no automatic way\n",
    "to rename any parameter that changes in the future.\n",
    "\n",
    "**Alert**: There is no\n",
    "way to guarantee that a command from the *COMMAND* column has\n",
    "been applied or not to the MS, even if the\n",
    "*APPLIED* column is set to True. If you use\n",
    "other ways to flag such as interactive flagging in plotms, the\n",
    "*FLAG_CMD* will not be updated! Use at your own\n",
    "risk!\n",
    "\n",
    "The inputs to **flagcmd** are: \n",
    "\n",
    "\\"
   ]
  },
  {
   "cell_type": "markdown",
   "metadata": {},
   "source": [
    "##  flagcmd :: Flagging task based on\n",
    "batches of flag-commands  \n",
    "vis                 =      ''         \n",
    "\\"
   ]
  },
  {
   "cell_type": "markdown",
   "metadata": {},
   "source": [
    "##  Name of MS file or calibration table to flag  \n",
    "inpmode             =      'table'    \n",
    "\\"
   ]
  },
  {
   "cell_type": "markdown",
   "metadata": {},
   "source": [
    "##  Input mode for flag commands(table/list/xml)  \n",
    "inpfile             =      ''         \n",
    "\\"
   ]
  },
  {
   "cell_type": "markdown",
   "metadata": {},
   "source": [
    "##  Source of flag commands  \n",
    "tablerows           =      \\[\\]         \n",
    "\\"
   ]
  },
  {
   "cell_type": "markdown",
   "metadata": {},
   "source": [
    "##  Rows of inpfile to read  \n",
    "reason              =      'any'      \n",
    "\\"
   ]
  },
  {
   "cell_type": "markdown",
   "metadata": {},
   "source": [
    "##  Select by REASON types  \n",
    "useapplied          =      False      \n",
    "\\"
   ]
  },
  {
   "cell_type": "markdown",
   "metadata": {},
   "source": [
    "##  Select commands whose rows  \n",
    "                                      \n",
    "\\"
   ]
  },
  {
   "cell_type": "markdown",
   "metadata": {},
   "source": [
    "##  have APPLIED column set to True  \n",
    "action              =      'apply'    \n",
    "\\"
   ]
  },
  {
   "cell_type": "markdown",
   "metadata": {},
   "source": [
    "##  Action to perform in MS and/or in inpfile  \n",
    "                                      \n",
    "\\"
   ]
  },
  {
   "cell_type": "markdown",
   "metadata": {},
   "source": [
    "##  (apply/unapply/list/plot/clear/extract)  \n",
    "flagbackup          =      True       \n",
    "\\"
   ]
  },
  {
   "cell_type": "markdown",
   "metadata": {},
   "source": [
    "##  Automatically backup the  \n",
    "                                      \n",
    "\\"
   ]
  },
  {
   "cell_type": "markdown",
   "metadata": {},
   "source": [
    "##  FLAG column before execution  \n",
    "savepars            =      False      \n",
    "\\"
   ]
  },
  {
   "cell_type": "markdown",
   "metadata": {},
   "source": [
    "##  Save flag commands to the MS or to a file\n",
    "\n",
    " \n",
    "\n",
    " The default input mode is\n",
    "*inpmode=’table’* which directs the task to input flag commands from the\n",
    "*FLAG_CMD* internal MS table. Other options include *list* and *xml*,\n",
    "explained below.\n",
    "\n",
    "The default operation mode is\n",
    "action=’apply’ directing the task to apply relevant\n",
    "flagging commands to the MS data main table. Other options include *'unapply', 'list', 'plot',\n",
    "'clear',* and *'extract'*, explained below.  \n",
    "\n",
    "\n",
    "See the Flagging Command Syntax section below for\n",
    "more detail.\n",
    "\n",
    "**Alert:** It is possible to flag\n",
    "calibration tables using **flagcmd**, although we recommend using the\n",
    "**flagdata**  task for this in most cases.  \n",
    "\n",
    "\n",
    "When using **flagcmd**  to flag calibration tables, only the\n",
    " apply and list actions are supported. Because calibration\n",
    "tables do not have a *FLAG_CMD* sub-table, the default \n",
    "inpmode=’table’ can only\n",
    "be used if an MS is given in the \n",
    "inpfile parameter so that\n",
    "flags from the MS are applied to the calibration table directly.\n",
    "Otherwise, the flag commands must be given using inpmode=’list’, either from a file or from a list of\n",
    "strings.\n",
    "\n",
    " \n",
    "\n",
    "------------------------------------------------------------------------\n",
    "\n"
   ]
  },
  {
   "cell_type": "markdown",
   "metadata": {},
   "source": [
    "### Input modes inpmode:\n",
    "\n",
    "The inpmode parameter selects options for the input mode\n",
    "for the flagging commands.\n",
    "\n",
    "Available inpmode options are: \n",
    "\n",
    "-   ’table’ — input from MS table\n",
    "-   ’list’ — input from ASCII file or from a list\n",
    "    of strings\n",
    "-   ’xml’ — input from XML table (largely obsolete\n",
    "    with the deprecation of **importevla** in CASA 5.4)  \n",
    "    \n",
    "\n"
   ]
  },
  {
   "cell_type": "markdown",
   "metadata": {},
   "source": [
    "#####  \n",
    "\n"
   ]
  },
  {
   "cell_type": "markdown",
   "metadata": {},
   "source": [
    "#### Input mode *inpmode=**’table’*\n",
    "\n",
    " The default input mode is inpmode=’table’ which directs the task to input flag\n",
    "commands from a *FLAG_CMD* MS table. This has the sub-parameters:\n",
    "\n",
    "\n",
    "inpmode        =      'table'      \\"
   ]
  },
  {
   "cell_type": "markdown",
   "metadata": {},
   "source": [
    "## \n",
    "Input mode for flag commands(table/list/xml)  \n",
    "inpfile        =      ''           \\"
   ]
  },
  {
   "cell_type": "markdown",
   "metadata": {},
   "source": [
    "## \n",
    "Source of flag commands  \n",
    "tablerows      =      \\[\\]           \\"
   ]
  },
  {
   "cell_type": "markdown",
   "metadata": {},
   "source": [
    "## \n",
    "Rows of inpfile to read  \n",
    "reason         =      'any'        \\"
   ]
  },
  {
   "cell_type": "markdown",
   "metadata": {},
   "source": [
    "## \n",
    "Select by REASON types  \n",
    "useapplied     =      False        \\"
   ]
  },
  {
   "cell_type": "markdown",
   "metadata": {},
   "source": [
    "## \n",
    "Select commands whose rows  \n",
    "                                   \\"
   ]
  },
  {
   "cell_type": "markdown",
   "metadata": {},
   "source": [
    "## \n",
    "have APPLIED column set to  \n",
    "                                   \\"
   ]
  },
  {
   "cell_type": "markdown",
   "metadata": {},
   "source": [
    "##  \n",
    "True\n",
    "\n",
    "If inpfile =\n",
    "'' then it will look for\n",
    "the *FLAG_CMD* table in the MS given by vis. You can use this sub-parameter to tell the\n",
    "task to read the *FLAG_CMD* table from another MS and apply then to the\n",
    "MS given in *vis*.\n",
    "\n",
    "The tablerows sub-parameter is a simple Python list of the\n",
    "row numbers of the table to consider in processing flags. The default is\n",
    "all rows. Currently it only takes fully-enumerated integer lists. Use\n",
    "the Python range function to generate ranges, \n",
    "\n",
    "tablerows = range(0,30) +\n",
    "range(50,55)\n",
    "\n",
    "\\#Do not use strings such as\n",
    "’0\\~29,50\\~54’\n",
    "\n",
    "The useapplied sub-parameter toggles whether only flag\n",
    "commands marked as not having been applied are considered (the default),\n",
    "or to allow (re)processing using all commands.\n",
    "\n",
    "The reason sub-parameter selects the *reason* type to process. The default ’any’ means all commands.  \n",
    "\n",
    "\n",
    "**Info:** what is within\n",
    "the string is literally matched, e.g. *reason=’’* matches only blank\n",
    "reasons, and *reason = ’FOCUS_ERROR,SUBREFLECTOR_ERROR’* matches this\n",
    "compound reason string only. To flag by either of these reasons alone,\n",
    "run **flagcmd** twice, once with *reason='FOCUS_ERROR'*, and then with\n",
    "the other reason.\n",
    "\n",
    "One use case is to read the flag\n",
    "commands from the *FLAG_CMD* of an MS and apply them to a calibration\n",
    "table given in the parameter vis. Example:  \n",
    "\n",
    "\n",
    "flagcmd(vis='cal-X54.B1',\n",
    "inpmode='table',inpfile='uid\\_\\_\\_A002_X2a5c2f_X54.ms',\n",
    "action='apply')\n",
    "\n"
   ]
  },
  {
   "cell_type": "markdown",
   "metadata": {},
   "source": [
    "#### Input mode *inpmode=**’list’*\n",
    "\n",
    "See **flagdata** help for\n",
    "syntax.\n",
    "\n",
    "This mode allows one to give a list of\n",
    "strings with flagging commands, the name of a file or a list of\n",
    "filenames that contains these commands equivalent to the mode=’list’ in flagdata. E.g. a file * flags.txt* that contains \n",
    "\n",
    "scan='1\\~3' mode='manual'  \n",
    "mode='clip' clipminmax=\\[0,2\\]\n",
    "correlation='ABS_XX' clipoutside=False  \n",
    "spw='9' mode='tfcrop'\n",
    "correlation='ABS_YY' ntime=51.0  \n",
    "mode='extend' extendpols=True\n",
    "\n",
    "can be\n",
    "used via\n",
    "\n",
    "flagcmd(vis='some.ms',inpmode='list',inpfile='flags.txt')\n",
    "\n",
    "A list of input files can also be\n",
    "given:\n",
    "\n",
    "flagcmd(vis='some.ms',inpmode='list',inpfile=\\['flags.txt,'userflags.txt'\\])\n",
    "\n",
    " \n",
    "\n",
    "Alternatively, the individual flagging\n",
    "commands can be directly provided in the call itself such as:  \n",
    "\n",
    "\n",
    "inpfile=\\[\"scan='1\\~3'\n",
    "mode='manual'\",  \n",
    "         \"mode='clip' clipminmax=\\[0,2\\]\n",
    "correlation='ABS_XX' clipoutside=False\",  \n",
    "         \"spw='9' mode='tfcrop'\n",
    "correlation='ABS_YY' ntime=51.0\",  \n",
    "         \"mode='extend'\n",
    "extendpols=True\"\\]\n",
    "\n"
   ]
  },
  {
   "cell_type": "markdown",
   "metadata": {},
   "source": [
    "####  \n",
    "\n"
   ]
  },
  {
   "cell_type": "markdown",
   "metadata": {},
   "source": [
    "#### Input mode inpmode=’xml’\n",
    "\n",
    "**Alert:** With the deprecation of\n",
    "**importevla**, XML files can no longer be imported directly from the\n",
    "original SDM into the newly created MS, but only by manually copying the\n",
    "*Flag.xml*, *Antenna.xml* and *SpectralWindow.xml* tables into the\n",
    "top-level MS directory (not the recommended approach). Also, the XML\n",
    "mode is not available for cal tables, therefore it will not work for\n",
    "ALMA MSs. However, task **importasdm** with *process_flags=True* will\n",
    "copy the flags from the XML files directly to the *FLAG_CMD* sub-table,\n",
    "see **importasdm** help for options. This is the recommend way of\n",
    "dealing with the online flags.\n",
    "\n",
    "The input mode inpmode=’xml’ tells the task to input flag commands from\n",
    "XML SDM files, which contain the online flags. When set this opens the sub-parameters:\n",
    "\n",
    "\n",
    "inpmode        =      'xml'        \\"
   ]
  },
  {
   "cell_type": "markdown",
   "metadata": {},
   "source": [
    "## \n",
    "Input mode for flag commands(table/list/xml)  \n",
    "tbuff          =      0.0          \\"
   ]
  },
  {
   "cell_type": "markdown",
   "metadata": {},
   "source": [
    "## \n",
    "Time buffer (sec) to pad flags  \n",
    "ants           =      ''           \\"
   ]
  },
  {
   "cell_type": "markdown",
   "metadata": {},
   "source": [
    "## \n",
    "Allowed flag antenna names to select by  \n",
    "reason         =      'any'        \\"
   ]
  },
  {
   "cell_type": "markdown",
   "metadata": {},
   "source": [
    "## \n",
    "Select by REASON types\n",
    "\n",
    "  This\n",
    "mode will look for files called Flag.xml,\n",
    "Antenna.xml and optionally\n",
    "SpectralWindow.xml inside\n",
    "the MS directory specified under vis. \n",
    "\n",
    "**Info:** You can only apply the flags\n",
    "from an XML file. It is not possible to unapply them. For that, transfer\n",
    "the flags to the *FLAG_CMD* table using *action='list'*, then unapply\n",
    "them.\n",
    "\n",
    " \n",
    "\n",
    "The tbuff sub-parameter sets a padding buffer (in\n",
    "seconds) to the begin and end times of the online flags in the XML file.\n",
    "The online flag time buffer\n",
    "tbuff is specified in seconds, but in fact should\n",
    "be keyed to the intrinsic online integration time to allow for events\n",
    "(like slewing) that occur within an integration period. This is\n",
    "particularly true for JVLA data, where a tbuff value of 0.5×\n",
    "to 1.5× the integration time is needed. For example,\n",
    "if data were taken with 1-second integrations, then at least\n",
    "tbuff=0.5 should be used, likewise tbuff=5 for 10-second integrations. \n",
    "\n",
    "Info: For JVLA data you should use\n",
    "1.5× (e.g. tbuff=15 for\n",
    "10-second integrations) for data taken in early 2011 or before due to a\n",
    "timing error. We do not yet know what ALMA data will need for padding\n",
    "(if any).\n",
    "\n",
    "The ants sub-parameter selects the antennas from\n",
    "which online flags will be selected (default is all antennas). For\n",
    "example, ants=’ea01’ is a valid choice for JVLA data.\n",
    "\n",
    "The reason sub-parameter selects by the REASON field in the Flag.xml file. The default ’any’ means all commands. Note that reason=” would only select flags who have a blank\n",
    "REASON field entry.\n",
    "\n"
   ]
  },
  {
   "cell_type": "markdown",
   "metadata": {},
   "source": [
    "####  \n",
    "\n",
    "------------------------------------------------------------------------\n",
    "\n"
   ]
  },
  {
   "cell_type": "markdown",
   "metadata": {},
   "source": [
    "### Operation types action\n",
    "\n",
    " The action selects options for operating on the\n",
    "selected flags and possibly the data.\n",
    "\n",
    "Available action options are: \n",
    "\n",
    "-   ’apply’ — apply flag commands to data\n",
    "-   ’unapply’ — unapply flags in data\n",
    "-   ’list’ — list and/or save flag commands\n",
    "-   ’plot’ — plot flag commands\n",
    "-   ’clear’ — clear rows from FLAG_CMD table\n",
    "-   ’extract’ — extract internal flag\n",
    "    dictionary\n",
    "\n"
   ]
  },
  {
   "cell_type": "markdown",
   "metadata": {},
   "source": [
    "#### Apply flags action=’apply’\n",
    "\n",
    "The default operation mode is\n",
    "action=’apply’ directing the task to apply relevant\n",
    "flagging commands to the *vis* data main table.\n",
    "\n",
    "action         =       'apply'     \\"
   ]
  },
  {
   "cell_type": "markdown",
   "metadata": {},
   "source": [
    "## \n",
    "Action to perform in MS and/or in inpfile  \n",
    "                                   \\"
   ]
  },
  {
   "cell_type": "markdown",
   "metadata": {},
   "source": [
    "##  \n",
    "(apply/unapply/list/plot/clear/extract)  \n",
    "flagbackup     =       True        \\"
   ]
  },
  {
   "cell_type": "markdown",
   "metadata": {},
   "source": [
    "## \n",
    "Automatically backup the  \n",
    "                                       \n",
    "\\"
   ]
  },
  {
   "cell_type": "markdown",
   "metadata": {},
   "source": [
    "## FLAG column before execution\n",
    "\n",
    "  The\n",
    "flagbackup parameter toggles whether a new copy of the\n",
    "MS FLAG column is written to the .flagversions backup directory for that MS before the\n",
    "requested flagging operation.\n",
    "\n"
   ]
  },
  {
   "cell_type": "markdown",
   "metadata": {},
   "source": [
    "#####  \n",
    "\n"
   ]
  },
  {
   "cell_type": "markdown",
   "metadata": {},
   "source": [
    "#### Unapply flags action=’unapply’\n",
    "\n",
    "The unapply option allows unflagging of data based on\n",
    "the selected flag commands. This choice opens the sub-parameters:\n",
    "\n",
    "\n",
    "action = 'unapply' \\"
   ]
  },
  {
   "cell_type": "markdown",
   "metadata": {},
   "source": [
    "## Action to perform\n",
    "in MS and/or in inpfile  \n",
    " \\"
   ]
  },
  {
   "cell_type": "markdown",
   "metadata": {},
   "source": [
    "##\n",
    "(apply/unapply/list/plot/clear/extract)  \n",
    " flagbackup = True \\"
   ]
  },
  {
   "cell_type": "markdown",
   "metadata": {},
   "source": [
    "## Automatically\n",
    "backup the  \n",
    " \\"
   ]
  },
  {
   "cell_type": "markdown",
   "metadata": {},
   "source": [
    "## FLAG column before execution\n",
    "\n",
    "As in action=’apply’, it is possible to make a backup to the\n",
    "\\*.flagversions file by using flagbackup=True. \n",
    "\n",
    " \n",
    "\n"
   ]
  },
  {
   "cell_type": "markdown",
   "metadata": {},
   "source": [
    "#### List and save flags action=’list’\n",
    "\n",
    "The ’list’ option will give a listing of the flagging\n",
    "commands. This choice opens the sub-parameters: \n",
    "\n",
    "action = 'list' \\"
   ]
  },
  {
   "cell_type": "markdown",
   "metadata": {},
   "source": [
    "## Action to perform in\n",
    "MS and/or in inpfile  \n",
    " \\"
   ]
  },
  {
   "cell_type": "markdown",
   "metadata": {},
   "source": [
    "##\n",
    "(apply/unapply/list/plot/clear/extract)  \n",
    " savepars = True \\"
   ]
  },
  {
   "cell_type": "markdown",
   "metadata": {},
   "source": [
    "## Save flag commands to\n",
    "the MS or to a file  \n",
    " outfile = '' \\"
   ]
  },
  {
   "cell_type": "markdown",
   "metadata": {},
   "source": [
    "## Name of output file to\n",
    "save commands  \n",
    " overwrite = True \\"
   ]
  },
  {
   "cell_type": "markdown",
   "metadata": {},
   "source": [
    "## Overwrite an\n",
    "existing file to save the flag commands\n",
    "\n",
    "This action lists the commands on the\n",
    "screen without applying them. One can save the flagging script to an\n",
    "file specified in the outfile parameter when savepars=True. If outfile is empty, it will save the commands to a new\n",
    "row in the MS *FLAG_CMD* table given in vis.\n",
    "\n",
    "The format of the listing output\n",
    "depends on the source of the flagging commands. A set of flagging\n",
    "commands specified through inpmode=’list’ will be listed directly. The flagging\n",
    "commands extracted through inpmode=’table’ will reflect the columns in the\n",
    "table: '*Row*', '*Timerange*',\n",
    "'*Reason*', '*Type*', '*Applied*', '*Lev*', '*Sev*', '*Command*' while\n",
    "commands from inpmode=’xml’ will be shown with the SDM XML table\n",
    "fields: '*Key*', '*FlagID*',\n",
    "'*Antenna*', '*Reason*', '*Timerange*'\n",
    "\n"
   ]
  },
  {
   "cell_type": "markdown",
   "metadata": {},
   "source": [
    "#### Plot flags action=’plot’\n",
    "\n",
    "The ’plot’ option will produce a graphical plot of\n",
    "flags of time versus antenna. This choice opens the sub-parameters:\n",
    "\n",
    "\n",
    "action = 'plot' \\"
   ]
  },
  {
   "cell_type": "markdown",
   "metadata": {},
   "source": [
    "## Action to perform in\n",
    "MS and/or in inpfile  \n",
    " \\"
   ]
  },
  {
   "cell_type": "markdown",
   "metadata": {},
   "source": [
    "##\n",
    "(apply/unapply/list/plot/clear/extract)  \n",
    " plotfile = '' \\"
   ]
  },
  {
   "cell_type": "markdown",
   "metadata": {},
   "source": [
    "## Name of output file to\n",
    "save plot\n",
    "\n",
    "  This\n",
    "is only useful for MS. flagcmd is most often used to plot the VLA or\n",
    "ALMA flags generated online using *impmode='table'* or *'xml'* and\n",
    "provided in a *FLAG_CMD* or *Flags.xml* table. Using these tables, only\n",
    "the standard on-line REASONs are recognised. These include\n",
    "*'FOCUS','SUBREFLECTOR', 'OFF SOURCE', 'NOT IN SUBARRAY'* for the VLA\n",
    "and '*Calibration_device\\_(ACD)\\_is_not_in_the_correct_position',*  \n",
    "*'Mount_is_off_source', 'FrontEnd_LO_Amps_not_optimized'\n",
    "'Power_levels_are_being_optimized.', 'The_WCA_is_not_locked.'* for\n",
    "ALMA\n",
    "\n",
    "If the plotfile sub-parameter is non-blank, then a plotfile\n",
    "will be made with that name instead of appearing in a matplotlib plotter\n",
    "window on the users workstation. There are additional parameters that\n",
    "control the shape of the output file, such as dimensions, and\n",
    "resolution.\n",
    "\n",
    "**Alert:** The plotted enumerations are\n",
    "currently only those known to be allowed for JVLA online flags as of 15\n",
    "April 2011, and include:  \n",
    "  \n",
    "*'FOCUS', 'SUBREFLECTOR', 'OFF SOURCE',\n",
    "'NOT IN SUBARRAY'* with all others being plotted as *’Other*’.\n",
    "\n"
   ]
  },
  {
   "cell_type": "markdown",
   "metadata": {},
   "source": [
    "#### Clear flags action=’clear’\n",
    "\n",
    "This is only useful for MS, using\n",
    "*inpmode=\"table\"*. The ’clear’ action will delete selected rows from the\n",
    "FLAG_CMD MS table. This choice opens the\n",
    "sub-parameters: \n",
    "\n",
    "action = 'clear' \\"
   ]
  },
  {
   "cell_type": "markdown",
   "metadata": {},
   "source": [
    "## Action to perform in\n",
    "MS and/or in inpfile  \n",
    " \\"
   ]
  },
  {
   "cell_type": "markdown",
   "metadata": {},
   "source": [
    "##\n",
    "(apply/unapply/list/plot/clear/extract)  \n",
    " clearall = False \\"
   ]
  },
  {
   "cell_type": "markdown",
   "metadata": {},
   "source": [
    "## Delete all rows from\n",
    "FLAG_CMD  \n",
    " rowlist = \\[\\] \\"
   ]
  },
  {
   "cell_type": "markdown",
   "metadata": {},
   "source": [
    "## FLAG_CMD rows to\n",
    "clearThis box is intended for CASA Inputs. Insert your text here.\n",
    "\n",
    "The rowlist sub-parameter is a simple Python list of the\n",
    "row numbers of the table to consider in processing flags. The default is\n",
    "a blank list which indicates the desire to clear all rows. Currently it\n",
    "only takes fully-enumerated integer lists. Use the Python range function\n",
    "to generate ranges,\n",
    "\n",
    "tablerows = range(0,30) +\n",
    "range(50,55)  \n",
    "\\#Do not use strings such as\n",
    "’0\\~29,50\\~54’\n",
    "\n",
    "In either case, if clearall=False then nothing will happen by default as a\n",
    "safeguard. If clearall=True, then a blank list will direct the deletion\n",
    "of the selected rows from the table.\n",
    "\n",
    "Alert: Use this option with care. You\n",
    "can easily mess up the FLAG_CMD\n",
    "table.\n",
    "\n"
   ]
  },
  {
   "cell_type": "markdown",
   "metadata": {},
   "source": [
    "#### Extract Flag Commands action=’extract’\n",
    "\n",
    "This will return the requested flags\n",
    "(depending on *inpmode*) as a Python dictionary.\n",
    "\n",
    "action = 'extract' \\"
   ]
  },
  {
   "cell_type": "markdown",
   "metadata": {},
   "source": [
    "## Action to perform\n",
    "in MS and/or in inpfile  \n",
    " \\"
   ]
  },
  {
   "cell_type": "markdown",
   "metadata": {},
   "source": [
    "##\n",
    "(apply/unapply/list/plot/clear/extract)\n",
    "\n",
    "The dictionary can be saved to a\n",
    "variable such as shown below. If a variable is not set, only the first\n",
    "1000 flags will be printed to the terminal: \n",
    "\n",
    "myflagd =\n",
    "flagcmd(vis=msfile,useapplied=True,action='extract')\n",
    "\n",
    "An example of the dictionary returned\n",
    "by *action='extract'* is given below:\n",
    "\n",
    "{0: {'antenna': 'PM04&&\\*',  \n",
    "  'applied': False,  \n",
    "  'command': 'antenna=PM04&&\\*\n",
    "timerange=2013/04/28/04:35:58.217\\~2013/04/28/04:35:58.468 ',  \n",
    "  'id': '662',  \n",
    "  'interval': 0.0,  \n",
    "  'level': 0,  \n",
    "  'mode': '',  \n",
    "  'reason':\n",
    "'ACD_motors_are_not_in_position.',  \n",
    "  'severity': 0,  \n",
    "  'time': 0.0,  \n",
    "  'timerange':\n",
    "'2013/04/28/04:35:58.217\\~2013/04/28/04:35:58.468',  \n",
    "  'type': ''},  \n",
    " 1: {'antenna': 'CM03&&\\*',  \n",
    "  'applied': False,  \n",
    "  'command': 'antenna=CM03&&\\*\n",
    "timerange=2013/04/28/04:35:58.196\\~2013/04/28/04:35:58.503 ',  \n",
    "  'id': '663',  \n",
    "  'interval': 0.0,  \n",
    "  'level': 0,  \n",
    "  'mode': '',  \n",
    "  'reason':\n",
    "'ACD_motors_are_not_in_position.',  \n",
    "  'severity': 0,  \n",
    "  'time': 0.0,  \n",
    "  'timerange':\n",
    "'2013/04/28/04:35:58.196\\~2013/04/28/04:35:58.503',  \n",
    "  'type': ''}}\n",
    "\n"
   ]
  },
  {
   "cell_type": "markdown",
   "metadata": {},
   "source": [
    "####  \n",
    "\n",
    "------------------------------------------------------------------------\n",
    "\n"
   ]
  },
  {
   "cell_type": "markdown",
   "metadata": {},
   "source": [
    "### Flagging command syntax\n",
    "\n",
    "A flagging command syntax has been\n",
    "devised to populate the  COMMAND column of the *FLAG_CMD* table and to direct the operation of the\n",
    "**flagcmd** task.\n",
    "\n",
    "The syntax is the same used in\n",
    "**flagdata***,*  so please check\n",
    "*\"help\n",
    "flagdata*\"  for more\n",
    "updated info. \n",
    "\n",
    "Commands are a string (which may\n",
    "contain internal \"strings\") consisting of KEY=VALUE pairs separated by whitespace (see examples\n",
    "below).\n",
    "\n",
    "**Alert:** There should be no whitespace\n",
    "between KEY=VALUE or within each KEY or VALUE, since the simple parser\n",
    "first breaks command lines on whitespace, then on \"=\".\n",
    "\n",
    "The key is the name of a parameter and\n",
    "the value is the value of that parameter. The parameter data types\n",
    "enforced in **flagdata** are the same used in these flag commands. As an\n",
    "example, the parameter *clipminmax* accepts only a list of double values\n",
    "in **flagdata** and should have the same type when given in a flag\n",
    "command list, e.g. *mode='clip' clipminmax=\\[0.1,10.2\\]*\n",
    "\n",
    "Each key should only appear once on a\n",
    "given command line/string\n",
    "\n",
    "There is an implicit \"mode\" for each command, with the default being\n",
    "’manual’ if not given.\n",
    "\n",
    "Comment lines can start with ’\\#’ and\n",
    "will be ignored.\n",
    "\n",
    "1.  "
   ]
  },
  {
   "cell_type": "markdown",
   "metadata": {},
   "source": [
    "#### Data selection parameters (used by all flagging modes)  \n",
    "\n",
    "    antenna=''   \n",
    "    spw=''   \n",
    "    correlation=''   \n",
    "    field=''   \n",
    "    scan=''   \n",
    "    feed=''  \n",
    "    array=''   \n",
    "    timerange=''   \n",
    "    uvrange=''   \n",
    "    intent=''   \n",
    "    observation=''\n",
    "\n",
    "    **Info:** a command consisting only\n",
    "    of meta-data selection key-value pairs is a basic \"manual\"\n",
    "    operation, i.e. flag the data meeting the selection\n",
    "\n",
    "2.  "
   ]
  },
  {
   "cell_type": "markdown",
   "metadata": {},
   "source": [
    "#### Modes with default values for relevant parameters (for further details, refer to the task **flagdata**)\n",
    "\n",
    "    1.  "
   ]
  },
  {
   "cell_type": "markdown",
   "metadata": {},
   "source": [
    "##### Mode manual\n",
    "\n",
    "        autocorr=False\n",
    "\n",
    "    2.  "
   ]
  },
  {
   "cell_type": "markdown",
   "metadata": {},
   "source": [
    "##### Mode clip\n",
    "\n",
    "        datacolumn='DATA'  \n",
    "         clipminmax=\\[\\]   \n",
    "         clipoutside=True  \n",
    "         channelavg=False   \n",
    "         clipzeros=False  \n",
    "         timeavg=False  \n",
    "         timebin=''\n",
    "\n",
    "    3.  "
   ]
  },
  {
   "cell_type": "markdown",
   "metadata": {},
   "source": [
    "##### Mode shadow \n",
    "\n",
    "        tolerance=0.0  \n",
    "         addantenna=''\n",
    "\n",
    "    4.  "
   ]
  },
  {
   "cell_type": "markdown",
   "metadata": {},
   "source": [
    "##### Mode quack\n",
    "\n",
    "        quackinterval=0.0   \n",
    "         quackmode='beg'   \n",
    "         quackincrement=False\n",
    "\n",
    "    5.  "
   ]
  },
  {
   "cell_type": "markdown",
   "metadata": {},
   "source": [
    "##### Mode elevation\n",
    "\n",
    "        lowerlimit=0.0  \n",
    "         upperlimit=90.0\n",
    "\n",
    "    6.  "
   ]
  },
  {
   "cell_type": "markdown",
   "metadata": {},
   "source": [
    "##### Mode tfcrop\n",
    "\n",
    "        ntime='scan'  \n",
    "         combinescans=False  \n",
    "         datacolumn='DATA'   \n",
    "         timecutoff=4.0   \n",
    "         freqcutoff=3.0  \n",
    "         timefit='line'  \n",
    "         freqfit='poly'  \n",
    "         maxnpieces=7   \n",
    "         flagdimension='freqtime'\n",
    "          \n",
    "         usewindowstats='none'  \n",
    "         halfwin=1  \n",
    "         extendflags=True  \n",
    "         channelavg=False  \n",
    "         chanbin=1  \n",
    "         timeavg=False  \n",
    "         timebin='0s'\n",
    "\n",
    "    7.  "
   ]
  },
  {
   "cell_type": "markdown",
   "metadata": {},
   "source": [
    "##### Mode extend\n",
    "\n",
    "        ntime='scan'  \n",
    "         combinescans=False  \n",
    "         extendpols=True  \n",
    "         growtime=50.0  \n",
    "         growfreq=50.0  \n",
    "         growaround=False  \n",
    "         flagneartime=False  \n",
    "         flagnearfreq=False\n",
    "\n",
    "    8.  "
   ]
  },
  {
   "cell_type": "markdown",
   "metadata": {},
   "source": [
    "##### Mode rflag\n",
    "\n",
    "        ntime='scan'  \n",
    "         combinescans=False  \n",
    "         datacolumn='DATA'  \n",
    "         winsize=3  \n",
    "         timedev=''  \n",
    "         freqdev=''  \n",
    "         timedevscale=5.0  \n",
    "         freqdevscale=5.0  \n",
    "         spectralmax=1000000.0  \n",
    "         spectralmin=0.0  \n",
    "         extendflags=True  \n",
    "         channelavg=False  \n",
    "         chanbin=1  \n",
    "         timeavg=False  \n",
    "         timebin='0s'\n",
    "\n",
    "    9.  "
   ]
  },
  {
   "cell_type": "markdown",
   "metadata": {},
   "source": [
    "##### Mode antint\n",
    "\n",
    "        minchanfrac=0.6  \n",
    "         verbose=False\n",
    "\n",
    "    10. "
   ]
  },
  {
   "cell_type": "markdown",
   "metadata": {},
   "source": [
    "##### Mode unflag\n",
    "\n",
    "        This mode does not have any\n",
    "        sub-parameters.\n",
    "\n",
    "3.  "
   ]
  },
  {
   "cell_type": "markdown",
   "metadata": {},
   "source": [
    "#### Typical example of a list with flag commands \n",
    "\n",
    "    spw='0,1'  \n",
    "    antenna='ea1,ea10'  \n",
    "    autocorr=True  \n",
    "    mode='clip'  \n",
    "    clipzeros=True  \n",
    "    datacolumn='DATA'  \n",
    "    mode='summary'  \n",
    "    name='Initial_flags'\n",
    "\n",
    "4.  "
   ]
  },
  {
   "cell_type": "markdown",
   "metadata": {},
   "source": [
    "#### Basic elaboration options for online and interface use \n",
    "\n",
    "    id='' \\"
   ]
  },
  {
   "cell_type": "markdown",
   "metadata": {},
   "source": [
    "## flag ID tag (not\n",
    "    necessary)  \n",
    "     reason='' \\"
   ]
  },
  {
   "cell_type": "markdown",
   "metadata": {},
   "source": [
    "## reason string for\n",
    "    flag  \n",
    "     flagtime='' \\"
   ]
  },
  {
   "cell_type": "markdown",
   "metadata": {},
   "source": [
    "## a timestamp for when\n",
    "    this flag was generated (for   \n",
    "     user history use)\n",
    "\n",
    "    **Info:** there is no flagtime column\n",
    "    in *FLAG_CMD* at this time, but we will propose to add this as an\n",
    "    optional column  \n",
    "      \n",
    "    **Info:** These are currently ignored\n",
    "    and not used\n",
    "\n",
    "5.  "
   ]
  },
  {
   "cell_type": "markdown",
   "metadata": {},
   "source": [
    "#### Extended elaboration options for online and interface use Note: these are FLAG_CMD columns, but their use is not clear but included here for compatibility and future expansion\n",
    "\n",
    "    level=N \\"
   ]
  },
  {
   "cell_type": "markdown",
   "metadata": {},
   "source": [
    "## flagging \"level\" for flags\n",
    "    with same reason  \n",
    "     severity=N \\"
   ]
  },
  {
   "cell_type": "markdown",
   "metadata": {},
   "source": [
    "## Severity code for the\n",
    "    flag, on a scale of 0-10 in order   \n",
    "     of increasing severity; user\n",
    "    specific"
   ]
  }
 ],
 "metadata": {},
 "nbformat": 4,
 "nbformat_minor": 5
}
