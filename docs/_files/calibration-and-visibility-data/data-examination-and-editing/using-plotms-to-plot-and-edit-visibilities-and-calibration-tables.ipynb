{
 "cells": [
  {
   "cell_type": "markdown",
   "metadata": {},
   "source": [
    "# Plot/Edit using plotms\n",
    "\n",
    "Using plotms to plot and edit visibilities and calibration tables\n",
    "\n",
    "**plotms** is a GUI-style plotter, based\n",
    "on Qt, for creating X-Y plots of visibility data and calibration tables.\n",
    "It can either be started as a task within CASA or from outside CASA\n",
    "(type casaplotms on the\n",
    "command line).  This task also provides editing capability.\n",
    "\n",
    "**plotms** was originally intended to\n",
    "plot MeasurementSets (the \"ms\" in \"plotms\"), but has been extended to\n",
    "include calibration tables.  Supported cal table types include B Jones,\n",
    "B TSYS, EGainCurve, F Jones, G Jones, K Jones, Kcross Jones, KAntPos, T\n",
    "Jones, TOpac, Xf Jones, A Mueller, BPOLY, and GSPLINE.  Some options\n",
    "(axis choice, averaging, channel selection) do not apply to calibration\n",
    "tables or have not been implemented yet.  Other options, such as\n",
    "calibration axes, do not apply to MeasurementSets. For simplicity, this\n",
    "document primarily addresses plotting MeasurementSets.\n",
    "\n",
    "The current inputs and default values for\n",
    "**plotms** include:\n",
    "\n",
    "plotms\n",
    ":: A plotter/interactive flagger for visibility data.  \n",
    "vis                \n",
    "=         ''        \\"
   ]
  },
  {
   "cell_type": "markdown",
   "metadata": {},
   "source": [
    "##  input MS (or CalTable) (blank for none)  \n",
    "gridrows           \n",
    "=          1        \\"
   ]
  },
  {
   "cell_type": "markdown",
   "metadata": {},
   "source": [
    "##  Number of subplot rows (default 1).      \n",
    "gridcols           \n",
    "=          1        \\"
   ]
  },
  {
   "cell_type": "markdown",
   "metadata": {},
   "source": [
    "##  Number of subplot columns (default 1).   \n",
    "rowindex           \n",
    "=          0        \\"
   ]
  },
  {
   "cell_type": "markdown",
   "metadata": {},
   "source": [
    "##  Row location of the plot (0-based, default\n",
    "0)  \n",
    "colindex           \n",
    "=          0        \\"
   ]
  },
  {
   "cell_type": "markdown",
   "metadata": {},
   "source": [
    "##  Column location of the plot (0-based, default\n",
    "0)  \n",
    "plotindex          \n",
    "=          0        \\"
   ]
  },
  {
   "cell_type": "markdown",
   "metadata": {},
   "source": [
    "##  Index to address a subplot (0-based, default 0)\n",
    "  \n",
    "xaxis              \n",
    "=         ''        \\"
   ]
  },
  {
   "cell_type": "markdown",
   "metadata": {},
   "source": [
    "##  plot x-axis (blank for default/current)       \n",
    "   \n",
    "yaxis              \n",
    "=         ''        \\"
   ]
  },
  {
   "cell_type": "markdown",
   "metadata": {},
   "source": [
    "##  plot y-axis (blank for default/current)       \n",
    "   \n",
    "selectdata         \n",
    "=       True        \\"
   ]
  },
  {
   "cell_type": "markdown",
   "metadata": {},
   "source": [
    "##  data selection parameters                     \n",
    "   \n",
    "    \n",
    "field          =         ''        \\"
   ]
  },
  {
   "cell_type": "markdown",
   "metadata": {},
   "source": [
    "##  field names or field index\n",
    "numbers (blank for all)  \n",
    "    \n",
    "spw            =         ''        \\"
   ]
  },
  {
   "cell_type": "markdown",
   "metadata": {},
   "source": [
    "##  spectral windows:channels (blank\n",
    "for all)  \n",
    "    \n",
    "timerange      =         ''        \\"
   ]
  },
  {
   "cell_type": "markdown",
   "metadata": {},
   "source": [
    "##  time range (blank for\n",
    "all)  \n",
    "    \n",
    "uvrange        =         ''        \\"
   ]
  },
  {
   "cell_type": "markdown",
   "metadata": {},
   "source": [
    "##  uv range (blank for all)  \n",
    "    \n",
    "antenna        =         ''        \\"
   ]
  },
  {
   "cell_type": "markdown",
   "metadata": {},
   "source": [
    "##  antenna/baselines (blank for\n",
    "all)  \n",
    "    \n",
    "scan           =         ''        \\"
   ]
  },
  {
   "cell_type": "markdown",
   "metadata": {},
   "source": [
    "##  scan numbers (blank for\n",
    "all)  \n",
    "    \n",
    "correlation    =         ''        \\"
   ]
  },
  {
   "cell_type": "markdown",
   "metadata": {},
   "source": [
    "##  correlations (blank for\n",
    "all)  \n",
    "    \n",
    "array          =         ''        \\"
   ]
  },
  {
   "cell_type": "markdown",
   "metadata": {},
   "source": [
    "##  (sub)array numbers (blank for\n",
    "all)  \n",
    "    \n",
    "observation    =         ''        \\"
   ]
  },
  {
   "cell_type": "markdown",
   "metadata": {},
   "source": [
    "##  observation ID(s) (blank for\n",
    "all)  \n",
    "    \n",
    "intent         =         ''        \\"
   ]
  },
  {
   "cell_type": "markdown",
   "metadata": {},
   "source": [
    "##  observing intent (blank for\n",
    "all)  \n",
    "    \n",
    "feed           =         ''        \\"
   ]
  },
  {
   "cell_type": "markdown",
   "metadata": {},
   "source": [
    "##  Select feed (blank for\n",
    "all)  \n",
    "    \n",
    "msselect       =         ''        \\"
   ]
  },
  {
   "cell_type": "markdown",
   "metadata": {},
   "source": [
    "##  MS selection (blank for\n",
    "all)  \n",
    "  \n",
    "averagedata        \n",
    "=       True        \\"
   ]
  },
  {
   "cell_type": "markdown",
   "metadata": {},
   "source": [
    "##  data averaging parameters  \n",
    "    \n",
    "avgchannel     =         ''        \\"
   ]
  },
  {
   "cell_type": "markdown",
   "metadata": {},
   "source": [
    "##  average over channel?  (blank =\n",
    "False, otherwise  \n",
    "                                       \n",
    "\\"
   ]
  },
  {
   "cell_type": "markdown",
   "metadata": {},
   "source": [
    "##   value in channels)  \n",
    "    \n",
    "avgtime        =         ''        \\"
   ]
  },
  {
   "cell_type": "markdown",
   "metadata": {},
   "source": [
    "##  average over time? (blank =\n",
    "False, other value in  \n",
    "                                       \n",
    "\\"
   ]
  },
  {
   "cell_type": "markdown",
   "metadata": {},
   "source": [
    "##   seconds)  \n",
    "    \n",
    "avgscan        =      False        \\"
   ]
  },
  {
   "cell_type": "markdown",
   "metadata": {},
   "source": [
    "##  only valid if time averaging is\n",
    "turned on.  average  \n",
    "                                       \n",
    "\\"
   ]
  },
  {
   "cell_type": "markdown",
   "metadata": {},
   "source": [
    "##   over scans?  \n",
    "    \n",
    "avgfield       =      False        \\"
   ]
  },
  {
   "cell_type": "markdown",
   "metadata": {},
   "source": [
    "##  only valid if time averaging is\n",
    "turned on.  average  \n",
    "                                       \n",
    "\\"
   ]
  },
  {
   "cell_type": "markdown",
   "metadata": {},
   "source": [
    "##   over fields?  \n",
    "    \n",
    "avgbaseline    =      False        \\"
   ]
  },
  {
   "cell_type": "markdown",
   "metadata": {},
   "source": [
    "##  average over all baselines? \n",
    "(mutually exclusive  \n",
    "                                       \n",
    "\\"
   ]
  },
  {
   "cell_type": "markdown",
   "metadata": {},
   "source": [
    "##   with avgantenna)  \n",
    "    \n",
    "avgantenna     =      False        \\"
   ]
  },
  {
   "cell_type": "markdown",
   "metadata": {},
   "source": [
    "##  average by per-antenna? \n",
    "(mutually exclusive with  \n",
    "                                       \n",
    "\\"
   ]
  },
  {
   "cell_type": "markdown",
   "metadata": {},
   "source": [
    "##   avgbaseline)  \n",
    "    \n",
    "avgspw         =      False        \\"
   ]
  },
  {
   "cell_type": "markdown",
   "metadata": {},
   "source": [
    "##  average over all spectral\n",
    "windows?  \n",
    "    \n",
    "scalar         =      False        \\"
   ]
  },
  {
   "cell_type": "markdown",
   "metadata": {},
   "source": [
    "##  Do scalar averaging?  \n",
    "  \n",
    "transform          \n",
    "=      False        \\"
   ]
  },
  {
   "cell_type": "markdown",
   "metadata": {},
   "source": [
    "##  transform data in various ways?  \n",
    "extendflag         \n",
    "=      False        \\"
   ]
  },
  {
   "cell_type": "markdown",
   "metadata": {},
   "source": [
    "##  have flagging extend to other data\n",
    "points?  \n",
    "iteraxis           \n",
    "=         ''        \\"
   ]
  },
  {
   "cell_type": "markdown",
   "metadata": {},
   "source": [
    "##  the axis over which to iterate  \n",
    "customsymbol       \n",
    "=      False        \\"
   ]
  },
  {
   "cell_type": "markdown",
   "metadata": {},
   "source": [
    "##  set a custom symbol(s) for unflagged\n",
    "points  \n",
    "coloraxis          \n",
    "=         ''        \\"
   ]
  },
  {
   "cell_type": "markdown",
   "metadata": {},
   "source": [
    "##  selects which data to use for\n",
    "colorizing  \n",
    "customflaggedsymbol\n",
    "=      False        \\"
   ]
  },
  {
   "cell_type": "markdown",
   "metadata": {},
   "source": [
    "##  set a custom plot symbol for flagged\n",
    "points  \n",
    "xconnector         \n",
    "=          ''       \\"
   ]
  },
  {
   "cell_type": "markdown",
   "metadata": {},
   "source": [
    "##  Set connector for data points  \n",
    "                                        \\"
   ]
  },
  {
   "cell_type": "markdown",
   "metadata": {},
   "source": [
    "##   (blank=\"none\";\n",
    "\"line\",\"step\")  \n",
    "plotrange          \n",
    "=         \\[\\]        \\"
   ]
  },
  {
   "cell_type": "markdown",
   "metadata": {},
   "source": [
    "##  plot axes ranges:\n",
    "\\[xmin,xmax,ymin,ymax\\]  \n",
    "title              \n",
    "=         ''        \\"
   ]
  },
  {
   "cell_type": "markdown",
   "metadata": {},
   "source": [
    "##  Title written along top of plot  \n",
    "titlefont          \n",
    "=          0        \\"
   ]
  },
  {
   "cell_type": "markdown",
   "metadata": {},
   "source": [
    "##  Font for plot title  \n",
    "xlabel             \n",
    "=         ''        \\"
   ]
  },
  {
   "cell_type": "markdown",
   "metadata": {},
   "source": [
    "##  Text for horizontal axis. Blank for\n",
    "default.  \n",
    "xaxisfont          \n",
    "=          0        \\"
   ]
  },
  {
   "cell_type": "markdown",
   "metadata": {},
   "source": [
    "##  Font for plot x-axis  \n",
    "ylabel             \n",
    "=         ''        \\"
   ]
  },
  {
   "cell_type": "markdown",
   "metadata": {},
   "source": [
    "##  Text for vertical axis. Blank for\n",
    "default.  \n",
    "yaxisfont          \n",
    "=          0        \\"
   ]
  },
  {
   "cell_type": "markdown",
   "metadata": {},
   "source": [
    "##  Font for plot y-axis.  \n",
    "showmajorgrid      \n",
    "=      False        \\"
   ]
  },
  {
   "cell_type": "markdown",
   "metadata": {},
   "source": [
    "##  Show major grid lines (horiz and vert.)  \n",
    "showminorgrid      \n",
    "=      False        \\"
   ]
  },
  {
   "cell_type": "markdown",
   "metadata": {},
   "source": [
    "##  Show minor grid lines (horiz and vert.)  \n",
    "showlegend         \n",
    "=      False        \\"
   ]
  },
  {
   "cell_type": "markdown",
   "metadata": {},
   "source": [
    "##  Show a legend on the plot.  \n",
    "plotfile           \n",
    "=         ''        \\"
   ]
  },
  {
   "cell_type": "markdown",
   "metadata": {},
   "source": [
    "##  Name of plot file to save\n",
    "automatically.  \n",
    "showgui            \n",
    "=       True        \\"
   ]
  },
  {
   "cell_type": "markdown",
   "metadata": {},
   "source": [
    "##  Show GUI  \n",
    "    \n",
    "clearplots     =       True        \\"
   ]
  },
  {
   "cell_type": "markdown",
   "metadata": {},
   "source": [
    "##  Remove any existing plots so new\n",
    "ones can replace  \n",
    "                                       \n",
    "\\"
   ]
  },
  {
   "cell_type": "markdown",
   "metadata": {},
   "source": [
    "##   them.  \n",
    "callib             \n",
    "=       \\[''\\]        \\"
   ]
  },
  {
   "cell_type": "markdown",
   "metadata": {},
   "source": [
    "##  Calibration library string or filename for\n",
    "on-the-  \n",
    "                                       \n",
    "\\"
   ]
  },
  {
   "cell_type": "markdown",
   "metadata": {},
   "source": [
    "##   fly calibration.  \n",
    "headeritems        \n",
    "=         ''        \\"
   ]
  },
  {
   "cell_type": "markdown",
   "metadata": {},
   "source": [
    "## Comma-separated list of pre-defined  \n",
    "                                       \n",
    "\\"
   ]
  },
  {
   "cell_type": "markdown",
   "metadata": {},
   "source": [
    "##   page header items.   \n",
    "showatm            \n",
    "=     False         \\"
   ]
  },
  {
   "cell_type": "markdown",
   "metadata": {},
   "source": [
    "## Compute and overlay the atmospheric  \n",
    "                                       \n",
    "\\"
   ]
  },
  {
   "cell_type": "markdown",
   "metadata": {},
   "source": [
    "##   transmission curve.  \n",
    "showtsky           \n",
    "=     False         \\"
   ]
  },
  {
   "cell_type": "markdown",
   "metadata": {},
   "source": [
    "## Compute and overlay the sky  \n",
    "                                       \n",
    "\\"
   ]
  },
  {
   "cell_type": "markdown",
   "metadata": {},
   "source": [
    "##   temperature curve.  \n",
    "showimage          \n",
    "=     False         \\"
   ]
  },
  {
   "cell_type": "markdown",
   "metadata": {},
   "source": [
    "## Compute and overlay the image  \n",
    "                                       \n",
    "\\"
   ]
  },
  {
   "cell_type": "markdown",
   "metadata": {},
   "source": [
    "##   sideband curve.\n",
    "\n",
    "Note that when some parameters are set or\n",
    "are True, their subparameters are displayed by inp( ).  By default,\n",
    "selectdata, averagedata, and showgui are True and their subparameters\n",
    "are shown above.  Other parameters with subparameters include:\n",
    "\n",
    "xaxis              \n",
    "=     'real'        \\"
   ]
  },
  {
   "cell_type": "markdown",
   "metadata": {},
   "source": [
    "##  plot x-axis (blank for default/current)       \n",
    "   \n",
    "     xdatacolumn    =         ''        \\"
   ]
  },
  {
   "cell_type": "markdown",
   "metadata": {},
   "source": [
    "##  data column to use for\n",
    "x-axis (blank for          \n",
    "                                        \\"
   ]
  },
  {
   "cell_type": "markdown",
   "metadata": {},
   "source": [
    "##  \n",
    "default/current)                                 \n",
    "  \n",
    "yaxis               =     'imag'        \\"
   ]
  },
  {
   "cell_type": "markdown",
   "metadata": {},
   "source": [
    "##  plot y-axis (blank for\n",
    "default/current)  \n",
    "     ydatacolumn    =         ''        \\"
   ]
  },
  {
   "cell_type": "markdown",
   "metadata": {},
   "source": [
    "##  data column to use for\n",
    "y-axis (blank for  \n",
    "                                        \\"
   ]
  },
  {
   "cell_type": "markdown",
   "metadata": {},
   "source": [
    "##  default/current)  \n",
    "     yaxislocation  =      'left'       \\"
   ]
  },
  {
   "cell_type": "markdown",
   "metadata": {},
   "source": [
    "##  yaxis is to the left of the\n",
    "plot  \n",
    "transform           =       True        \\"
   ]
  },
  {
   "cell_type": "markdown",
   "metadata": {},
   "source": [
    "##  transform data in\n",
    "various ways?  \n",
    "     freqframe      =         ''        \\"
   ]
  },
  {
   "cell_type": "markdown",
   "metadata": {},
   "source": [
    "##  the frame in which to render\n",
    "frequency and velocity  \n",
    "                                        \\"
   ]
  },
  {
   "cell_type": "markdown",
   "metadata": {},
   "source": [
    "##   axes  \n",
    "     restfreq       =         ''        \\"
   ]
  },
  {
   "cell_type": "markdown",
   "metadata": {},
   "source": [
    "##  Rest frequency to use for\n",
    "velocity conversions  \n",
    "     veldef         =    'RADIO'        \\"
   ]
  },
  {
   "cell_type": "markdown",
   "metadata": {},
   "source": [
    "##  the definition in which to\n",
    "render velocity  \n",
    "     shift          = \\[0.0, 0.0\\]        \\"
   ]
  },
  {
   "cell_type": "markdown",
   "metadata": {},
   "source": [
    "##  Adjust phases by this\n",
    "approximate phase center  \n",
    "                                        \\"
   ]
  },
  {
   "cell_type": "markdown",
   "metadata": {},
   "source": [
    "##   shift \\[dx,dy\\] (arcsec)  \n",
    "  \n",
    "extendflag          =       True        \\"
   ]
  },
  {
   "cell_type": "markdown",
   "metadata": {},
   "source": [
    "##  have flagging extend to\n",
    "other data points?  \n",
    "     extcorr        =      False        \\"
   ]
  },
  {
   "cell_type": "markdown",
   "metadata": {},
   "source": [
    "##  extend flags based on\n",
    "correlation?  \n",
    "     extchannel     =      False        \\"
   ]
  },
  {
   "cell_type": "markdown",
   "metadata": {},
   "source": [
    "##  extend flags based on\n",
    "channel?  \n",
    "iteraxis            = 'baseline'        \\"
   ]
  },
  {
   "cell_type": "markdown",
   "metadata": {},
   "source": [
    "##  the axis over which to\n",
    "iterate  \n",
    "     xselfscale     =      False        \\"
   ]
  },
  {
   "cell_type": "markdown",
   "metadata": {},
   "source": [
    "##  When true, iterated plots\n",
    "have a common  \n",
    "                                        \\"
   ]
  },
  {
   "cell_type": "markdown",
   "metadata": {},
   "source": [
    "##   x-axis range (scale).  \n",
    "     yselfscale     =      False        \\"
   ]
  },
  {
   "cell_type": "markdown",
   "metadata": {},
   "source": [
    "##  When true, iterated plots\n",
    "have a common  \n",
    "                                        \\"
   ]
  },
  {
   "cell_type": "markdown",
   "metadata": {},
   "source": [
    "##   y-axis range (scale).  \n",
    "     xsharedaxis    =      False        \\"
   ]
  },
  {
   "cell_type": "markdown",
   "metadata": {},
   "source": [
    "##  Enables iterated plots on a\n",
    "grid to share a                                         \\"
   ]
  },
  {
   "cell_type": "markdown",
   "metadata": {},
   "source": [
    "##  common\n",
    "external x-axis per column. Must also set \n",
    "                                        \\"
   ]
  },
  {
   "cell_type": "markdown",
   "metadata": {},
   "source": [
    "##  xselfscale=True and\n",
    "gridrows\\>1.  \n",
    "     ysharedaxis    =      False        \\"
   ]
  },
  {
   "cell_type": "markdown",
   "metadata": {},
   "source": [
    "##  Enables iterated plots on a\n",
    "grid to share a                                          \\"
   ]
  },
  {
   "cell_type": "markdown",
   "metadata": {},
   "source": [
    "##  common\n",
    "external y-axis per row. Must also set \n",
    "                                        \\"
   ]
  },
  {
   "cell_type": "markdown",
   "metadata": {},
   "source": [
    "##  yselfscale=True and\n",
    "gridcols\\>1.  \n",
    "  \n",
    "customsymbol        =       True        \\"
   ]
  },
  {
   "cell_type": "markdown",
   "metadata": {},
   "source": [
    "##  set a custom symbol(s) for\n",
    "unflagged points  \n",
    "     symbolshape    = 'autoscaling'     \\"
   ]
  },
  {
   "cell_type": "markdown",
   "metadata": {},
   "source": [
    "##  shape of plotted unflagged\n",
    "symbols  \n",
    "     symbolsize     =          2        \\"
   ]
  },
  {
   "cell_type": "markdown",
   "metadata": {},
   "source": [
    "##  size of plotted unflagged\n",
    "symbols  \n",
    "     symbolcolor    =   '0000ff'        \\"
   ]
  },
  {
   "cell_type": "markdown",
   "metadata": {},
   "source": [
    "##  color of plotted unflagged\n",
    "symbols  \n",
    "     symbolfill     =     'fill'        \\"
   ]
  },
  {
   "cell_type": "markdown",
   "metadata": {},
   "source": [
    "##  fill type of plotted\n",
    "unflagged symbols  \n",
    "     symboloutline  =      False        \\"
   ]
  },
  {
   "cell_type": "markdown",
   "metadata": {},
   "source": [
    "##  selects outlining plotted\n",
    "unflagged points  \n",
    "  \n",
    "customflaggedsymbol =       True        \\"
   ]
  },
  {
   "cell_type": "markdown",
   "metadata": {},
   "source": [
    "##  set a custom plot symbol for\n",
    "flagged points  \n",
    "     flaggedsymbolshape = 'nosymbol'    \\"
   ]
  },
  {
   "cell_type": "markdown",
   "metadata": {},
   "source": [
    "##  shape of plotted flagged\n",
    "symbols  \n",
    "     flaggedsymbolsize =          2     \\"
   ]
  },
  {
   "cell_type": "markdown",
   "metadata": {},
   "source": [
    "##  size of plotted flagged\n",
    "symbols  \n",
    "     flaggedsymbolcolor =   'ff0000'    \\"
   ]
  },
  {
   "cell_type": "markdown",
   "metadata": {},
   "source": [
    "##  color of plotted flagged\n",
    "symbols  \n",
    "     flaggedsymbolfill =     'fill'     \\"
   ]
  },
  {
   "cell_type": "markdown",
   "metadata": {},
   "source": [
    "##  fill type of plotted flagged\n",
    "symbols  \n",
    "     flaggedsymboloutline =      False  \\"
   ]
  },
  {
   "cell_type": "markdown",
   "metadata": {},
   "source": [
    "##  selects outlining plotted\n",
    "flagged points  \n",
    "  \n",
    "showmajorgrid       =       True        \\"
   ]
  },
  {
   "cell_type": "markdown",
   "metadata": {},
   "source": [
    "##  Show major grid lines (horiz\n",
    "and vert.)  \n",
    "     majorwidth     =          0        \\"
   ]
  },
  {
   "cell_type": "markdown",
   "metadata": {},
   "source": [
    "##  Line width in pixels of\n",
    "major grid lines  \n",
    "     majorstyle     =         ''        \\"
   ]
  },
  {
   "cell_type": "markdown",
   "metadata": {},
   "source": [
    "##  Major grid line style: solid\n",
    "dash dot none  \n",
    "     majorcolor     =         ''        \\"
   ]
  },
  {
   "cell_type": "markdown",
   "metadata": {},
   "source": [
    "##  Color as name or hex code of\n",
    "major grid lines  \n",
    "  \n",
    "showminorgrid       =       True        \\"
   ]
  },
  {
   "cell_type": "markdown",
   "metadata": {},
   "source": [
    "##  Show minor grid lines (horiz\n",
    "and vert.)  \n",
    "     minorwidth     =          0        \\"
   ]
  },
  {
   "cell_type": "markdown",
   "metadata": {},
   "source": [
    "##  Line width in pixels of\n",
    "minor grid lines  \n",
    "     minorstyle     =         ''        \\"
   ]
  },
  {
   "cell_type": "markdown",
   "metadata": {},
   "source": [
    "##  Minor grid line style: solid\n",
    "dash dot none  \n",
    "     minorcolor     =         ''        \\"
   ]
  },
  {
   "cell_type": "markdown",
   "metadata": {},
   "source": [
    "##  Color as name or hex code of\n",
    "minor grid lines  \n",
    "plotfile            = 'plot.jpg'        \\"
   ]
  },
  {
   "cell_type": "markdown",
   "metadata": {},
   "source": [
    "##  Name of plot file to save\n",
    "automatically.  \n",
    "     expformat      =         ''        \\"
   ]
  },
  {
   "cell_type": "markdown",
   "metadata": {},
   "source": [
    "##  Export format type (jpg,\n",
    "png, ps, pdf, txt), if not  \n",
    "                                        \\"
   ]
  },
  {
   "cell_type": "markdown",
   "metadata": {},
   "source": [
    "##   provided, plotfile\n",
    "extension will be used.  \n",
    "     verbose        =      True         \\"
   ]
  },
  {
   "cell_type": "markdown",
   "metadata": {},
   "source": [
    "##  Include metadata in text\n",
    "export.  \n",
    "     exprange       =         ''        \\"
   ]
  },
  {
   "cell_type": "markdown",
   "metadata": {},
   "source": [
    "##  Export all iteration plots\n",
    "or only the current one.  \n",
    "     highres        =      False        \\"
   ]
  },
  {
   "cell_type": "markdown",
   "metadata": {},
   "source": [
    "##  Use high resolution  \n",
    "     dpi            =         -1        \\"
   ]
  },
  {
   "cell_type": "markdown",
   "metadata": {},
   "source": [
    "##  DPI of exported plot  \n",
    "     width          =         -1        \\"
   ]
  },
  {
   "cell_type": "markdown",
   "metadata": {},
   "source": [
    "##  Width of exported plot  \n",
    "     height         =         -1        \\"
   ]
  },
  {
   "cell_type": "markdown",
   "metadata": {},
   "source": [
    "##  Height of exported plot  \n",
    "     overwrite      =      False        \\"
   ]
  },
  {
   "cell_type": "markdown",
   "metadata": {},
   "source": [
    "##  Overwrite plot file if it\n",
    "already exists? \n",
    "\n",
    "Note that if the *vis* parameter is set\n",
    "to the name of a MeasurementSet here, when you start **plotms** the\n",
    "*entire* MeasurementSet will be plotted, which can be time consuming. \n",
    "You may want to set selection or averaging parameters first.\n",
    "\n",
    "To start a \"blank\" **plotms** window then\n",
    "enter your selections interactively in the GUI, use these\n",
    "commands:\n",
    "\n",
    "default\n",
    "plotms  \n",
    "plotms\n",
    "\n",
    " Alternatively, they can be specified as\n",
    "task parameters in a **plotms** call, for scripting:  \n",
    "\n",
    "\n",
    "plotms(vis1,\n",
    "yaxis='phase', ydatacolumn='corrected', xaxis='frequency',\n",
    "coloraxis='spw', antenna='1', spw='0:3\\~10', corr='RR', avgtime='1e8',\n",
    "plotfile='vis1.jpg')  \n",
    "\n",
    "\n",
    "Note that subsequent **plotms** calls\n",
    "will return any unspecified parameters in that call to their default\n",
    "values.  See also the\n",
    "[Examples](https://casa.nrao.edu/casadocs-devel/stable/global-task-list/task_plotms/examples)\n",
    "tab in the **plotms** task for **plotms** calls using many of the\n",
    "parameters.  \n",
    "\n",
    "\n",
    "The **plotms** GUI will be described in\n",
    "the following sections, along with the corresponding parameters for the\n",
    "task interface or scripting.  For non-interactive scripting,\n",
    "set *showgui=False* and export the plot into an image specified by\n",
    "*plotfile.*\n",
    "\n",
    "------------------------------------------------------------------------\n",
    "\n"
   ]
  },
  {
   "cell_type": "markdown",
   "metadata": {},
   "source": [
    "## 1. The Plot Tab\n",
    "\n"
   ]
  },
  {
   "cell_type": "markdown",
   "metadata": {},
   "source": [
    "### 1.1 Loading, Selecting, and Averaging Data: the Plot Data Tab\n",
    "\n",
    "![947bd4c094887ae05fd3452bda5a4fb6db71314e.png](947bd4c094887ae05fd3452bda5a4fb6db71314e.png)\n",
    "\n",
    "|         |                                                                                   |\n",
    "|:--------|-----------------------------------------------------------------------------------|\n",
    "| Type    | Figure 1                                                                          |\n",
    "| ID      |                                                                                   |\n",
    "| Caption | The plotms window starts on the *Plot \\> Data* tab.  No parameters have been set. |\n",
    "\n"
   ]
  },
  {
   "cell_type": "markdown",
   "metadata": {},
   "source": [
    "#### 1.1.1 File Selection\n",
    "\n",
    "When **plotms** is first started, by\n",
    "default it will display the *Plot* tab (as chosen from the tabs at the\n",
    "top of the **plotms** window) and its *Data* subtab (as chosen from the\n",
    "tabs on the left side) as shown in Figure 1. First, a MeasurementSet or\n",
    "calibration table should be loaded by clicking on *Browse* in the *File*\n",
    "section and selecting a MeasurementSet directory (just select the\n",
    "directory itself; do not descend into it).\n",
    "\n",
    "A plot can now be made of the\n",
    "MeasurementSet by clicking on the *Plot* button, but you may want to set\n",
    "selection or averaging parameters first rather than plot the entire\n",
    "dataset.  By default, **plotms** will plot Amplitude versus Time for a\n",
    "MeasurementSet; see this section on\n",
    "[selecting axes](#1-3-1-selecting-axes) for axis options.  The\n",
    "default axes change for calibration tables depending on the table type. \n",
    "**plotms** self-scales axes and the symbol size. For a very large range,\n",
    "this can hide points close to zero; see the sections\n",
    "below for information on setting [axes\n",
    "ranges](#1-3-4-axes-ranges) and [symbol\n",
    "sizes](#1-6-2-customizing-your-symbols).\n",
    "\n",
    "The **plotms** task parameter for file\n",
    "selection is *vis.*\n",
    "\n"
   ]
  },
  {
   "cell_type": "markdown",
   "metadata": {},
   "source": [
    "####  1.1.2 Data Selection\n",
    "\n",
    "The options for data selection\n",
    "are:\n",
    "\n",
    "-   field\n",
    "-   spw\n",
    "-   timerange\n",
    "-   uvrange\n",
    "-   antenna\n",
    "-   scan\n",
    "-   corr (correlated\n",
    "    polarizations)\n",
    "-   array\n",
    "-   observation\n",
    "-   intent\n",
    "-   feed\n",
    "-   msselect\n",
    "\n",
    "Note that, unlike when setting data\n",
    "selection parameters from the CASA command line, no quotation marks are\n",
    "needed around strings in the GUI.  For more information on data\n",
    "selection strings, see the documentation\n",
    "[here](https://casa.nrao.edu/casadocs-devel/stable/calibration-and-visibility-data/data-selection-in-a-measurementset). \n",
    "To view information about your data in order to make your selection, see\n",
    "the [Summary](#5-3-summary-menu--information-about-your-dataset)\n",
    "section below or use the listobs task.\n",
    "\n",
    "Calibration table selection differs from\n",
    "MeasurementSet selection.  The *antenna* selection selects baselines\n",
    "which contain the selected antennas in MeasurementSets, but selects\n",
    "antenna1 only for calibration tables.  Spectral window selection (*spw*)\n",
    "is used to select spw only (channel selection is ignored) in calibration\n",
    "tables.  *corr* may be used to select cal table polarizations, including\n",
    "\"/\" for a ratio plot.  \n",
    "\n",
    "\n",
    "The **plotms** parameter for data\n",
    "selection is *selectdata* (default is True, but no selection occurs\n",
    "unless one or more subparameters is set).  Its subparameters include\n",
    "*field, spw, timerange. uvrange, antenna, scan, correlation, array,\n",
    "observation, intent, feed,* and *msselect.*  These should be set to\n",
    "string values.\n",
    "\n"
   ]
  },
  {
   "cell_type": "markdown",
   "metadata": {},
   "source": [
    "#### 1.1.3 Averaging Data\n",
    "\n",
    "**plotms** enables averaging of the data\n",
    "in order to increase signal-to-noise of the plotted points or to\n",
    "increase plotting speed.  Averaging is currently not supported\n",
    "for\n",
    "\n",
    "-   calibration tables\n",
    "-   *Ant-Ra*, Ant*-Dec* axes  \n",
    "    \n",
    "\n",
    "and will result in a warning in the log,\n",
    "then the unaveraged data will be plotted.  \n",
    "\n",
    "\n",
    "The options for averaging in the *Plot \\>\n",
    "Data* tab include:\n",
    "\n",
    "-   channel\n",
    "-   time (optionally over scans or\n",
    "    fields)  \n",
    "    \n",
    "-   all baselines or per antenna\n",
    "-   all spectral windows\n",
    "-   vector (default) or scalar\n",
    "\n",
    "The box next to a given averaging mode\n",
    "needs to be checked for that averaging to take effect.  The Weight and\n",
    "Sigma axes are not supported in some averaging modes.  Note that the\n",
    "\"average weight\" is actually the weight *sum* accumulated when\n",
    "performing the average; i.e., the net weight of a weighted-averaged\n",
    "datum is the sum of the weights going into the average.  \n",
    "\n",
    "\n",
    "When averaging, **plotms** will prefer\n",
    "unflagged data.  If an averaging bin contains any unflagged data at all,\n",
    "only the average of the unflagged will be shown. For averaging bins that\n",
    "contain *only* unflagged data, the average of that unflagged data will\n",
    "be shown. When flagging on a plot of averaged data, the flags will be\n",
    "applied to the unaveraged data in the MS.\n",
    "\n",
    "The **plotms** task parameter for\n",
    "averaging is *averagedata* (default is True, but no averaging occurs\n",
    "unless one or more subparameters are set).  It subparameters include\n",
    "*avgchannel* and *avgtime* (set to a string value in channels or\n",
    "seconds, default \"\"), and boolean parameters *avgscan, avgfield,\n",
    "avgbaseline, avgantenna, avgspw, and scalar* (True/False, default\n",
    "False).  Invalid combinations of averaging will result in an error\n",
    "message (e.g. *avgbaseline=True, avgantenna=True)* or will be ignored\n",
    "(e.g. *avgscan=True* but *avgtime* has not been set).\n",
    "\n"
   ]
  },
  {
   "cell_type": "markdown",
   "metadata": {},
   "source": [
    "##### Channel Averaging:\n",
    "\n",
    "For example, to average n channels together, the user would\n",
    "click on the box next to *Channel* so that an “X” appears in it, and\n",
    "then type the number n in the\n",
    "empty box. When the user next clicks on *Plot*, every n channels will then be averaged\n",
    "together and plotted against the average channel numbers. The total\n",
    "number of channels plotted will be decreased by a factor of n.\n",
    "\n",
    "Warning: If a complex channel selection\n",
    "is made e.g. of continuum in the presense of multiple lines, channel\n",
    "averaging is unlikely to produce a meaningful plot.\n",
    "\n"
   ]
  },
  {
   "cell_type": "markdown",
   "metadata": {},
   "source": [
    "##### Time Averaging:\n",
    "\n",
    "Time averaging is a little trickier, as\n",
    "it is controlled by three fields. If the checkbox next to *Time* is\n",
    "checked, a blank box with units of seconds will become active, along\n",
    "with two additional checkboxes: *Scan* and *Field*. If averaging is\n",
    "desired over a relatively short interval (say, 30 seconds, shorter than\n",
    "the scan length), a number can simply be entered into the blank box and,\n",
    "when the data are replotted, the data will be time averaged. Clicking on\n",
    "the *Scan* or *Field* checkbox in this case will have no impact on the\n",
    "time averaging.  These checkboxes become relevant if averaging over a\n",
    "relatively long time—say the entire observation, which consists of\n",
    "multiple scans—is desired. Regardless of how large a number is set in\n",
    "the *Time* averaging box, only data within individual scans will be\n",
    "averaged together. In order to average data across scan boundaries, the\n",
    "*Scan* checkbox must be checked and the data replotted. Finally,\n",
    "clicking on the *Field* checkbox enables the averaging of multiple\n",
    "fields together in time.\n",
    "\n"
   ]
  },
  {
   "cell_type": "markdown",
   "metadata": {},
   "source": [
    "##### Averaging All Baselines/Per Antenna:\n",
    "\n",
    "Clicking on the *All Baselines* checkbox\n",
    "will average all baselines in the array together. Alternatively, the\n",
    "*Per Antenna* box may be checked, which will average all baselines for a\n",
    "given antenna together. In this case, all baselines are represented\n",
    "twice; baseline 3-24 will contribute to the averages for both antenna 3\n",
    "and antenna 24. This can produce some rather strange-looking plots if\n",
    "the user also selects on antenna—say, if the user requests to plot only\n",
    "antenna 0 and then averages *Per Antenna*, In this case, an average of\n",
    "all baselines including antenna 0 will be plotted, but each individual\n",
    "baseline including antenna 0 will also be plotted (because the presence\n",
    "of baselines 0-1, 0-2, 0-3, etc. trigger *Per Antenna* averaging to\n",
    "compute averages for antennae 1, 2, 3, etc. Therefore, baseline 0-1 will\n",
    "contribute to the average for antenna 0, but it will also singlehandedly\n",
    "be the average for antenna 1.) \n",
    "These averaging modes currently do not support the Weight and Sigma\n",
    "axes.  \n",
    "\n",
    "\n"
   ]
  },
  {
   "cell_type": "markdown",
   "metadata": {},
   "source": [
    "##### Averaging All Spectral Windows:\n",
    "\n",
    "Spectral windows can be averaged together\n",
    "by checking the box next to *All Spectral Windows*. This will result in,\n",
    "for a given channel n, all\n",
    "channels n from the individual\n",
    "spectral windows being averaged together.  This averaging mode currently\n",
    "does not support the Weight and Sigma axes.  \n",
    "\n",
    "\n"
   ]
  },
  {
   "cell_type": "markdown",
   "metadata": {},
   "source": [
    "##### Vector/Scalar Averaging:\n",
    "\n",
    "Finally, the default mode is vector\n",
    "averaging, where the complex average is formed by averaging the real and\n",
    "imaginary parts of the relevant visibilities. If *Scalar* is chosen,\n",
    "then the amplitude of the average is formed by a scalar average of the\n",
    "individual visibility amplitudes.\n",
    "\n"
   ]
  },
  {
   "cell_type": "markdown",
   "metadata": {},
   "source": [
    "#### 1.1.4 A Brief Note Regarding plotms Memory Usage\n",
    "\n",
    "In order to provide a wide range of\n",
    "flexible interactive plotting options while minimizing the I/O burden\n",
    "and speeding up the plotting, **plotms** caches the data values for the\n",
    "plot (along with a subset of relevant meta-info) in as efficient a\n",
    "manner as possible.  Sometimes, however, the data changes on disk, for\n",
    "example when other data processing tasks are applied. To force plotms to\n",
    "reload the data, check the *Reload* box next to the *Plot* button or\n",
    "press the SHIFT key while clicking the *Plot* button.\n",
    "\n",
    "For plots of large numbers of points, the\n",
    "total memory requirement can be quite large. **plotms** attempts to\n",
    "predict the memory it will require (typically 5 or 6 bytes per plotted\n",
    "point when only one axis is a data axis, depending upon the data shapes\n",
    "involved), and will complain if it believes there is insufficient memory\n",
    "to support the requested plot. For most practical interactive purposes\n",
    "(plots that load and draw in less than a few or a few 10s of minutes),\n",
    "there is usually not a problem on typical modern workstations.  Attempts\n",
    "to plot large datasets on small laptops might be more likely to\n",
    "encounter problems here.\n",
    "\n",
    "The absolute upper limit on the number of\n",
    "simultaneously plotted points is currently set by the ability to index\n",
    "the points in the cache. For modern 64 bit machines, this is about 4.29\n",
    "billion points (requiring around 25GB of memory). Such plots are not\n",
    "especially useful interactively, since the I/O and draw become\n",
    "prohibitive.  \n",
    "  \n",
    "In general, it is usually most efficient\n",
    "to plot data in modest chunks of no more than a few hundred million\n",
    "points or less, either using selection or averaging. Note that all\n",
    "iterations are (currently) cached simultaneously for iterated plots, so\n",
    "iteration is not a way to manage memory use. A few hundred million\n",
    "points tends to be the practical limit of interactive **plotms** use\n",
    "with respect to information content and utility in the resulting plots,\n",
    "especially when you consider the number of available pixels on your\n",
    "screen.  \n",
    "  \n",
    "\n",
    "------------------------------------------------------------------------\n",
    "\n"
   ]
  },
  {
   "cell_type": "markdown",
   "metadata": {},
   "source": [
    "### 1.2 On-The-Fly Calibration: the Plot Calibration Tab\n",
    "\n",
    "![b94c97ec8e973a5049417474e6255ba5b02936c7.png](b94c97ec8e973a5049417474e6255ba5b02936c7.png)\n",
    "\n",
    "|         |                                                                                                                                                                        |\n",
    "|:--------|------------------------------------------------------------------------------------------------------------------------------------------------------------------------|\n",
    "| Type    | Figure 2                                                                                                                                                               |\n",
    "| ID      |                                                                                                                                                                        |\n",
    "| Caption | The plotms Calibration tab.  This MeasurementSet has no *CORRECTED_DATA* column. A calibration library file was selected with the file browser and applied on the fly. |\n",
    "\n",
    "One can apply calibration tables to the\n",
    "uncalibrated data on the fly, i.e. without a run of applycal beforehand,\n",
    "by specifying a calibration library and selecting the *corrected* Data\n",
    "Column for the plotted axes.  See the [Cal Library\n",
    "Syntax](https://casa.nrao.edu/casadocs-devel/stable/calibration-and-visibility-data/cal-library-syntax)\n",
    "documentation for more information on specifying calibration in a string\n",
    "or file.  \n",
    "\n",
    "\n",
    "The *Calibration* tab on the left hand\n",
    "side contains a field to specify a calibration library file, or use\n",
    "*Browse* to open a file selection dialog.  You can also specify the\n",
    "calibration library commands directly in a string.  There is a switch to\n",
    "apply the calibration library to produce the corrected data\n",
    "(*Calibration On*) or to show an existing *CORRECTED_DATA* column\n",
    "(*Calibration Off*).  If the *corrected* Data Column is requested but\n",
    "the column is not present in the MS and the calibration library is not\n",
    "set or enabled, **plotms** issues a warning and plots the *DATA* column\n",
    "instead.  \n",
    "\n",
    "\n",
    "The\n",
    "**plotms** task parameter *’callib’* can be used to provide a\n",
    "calibration library file or a string containing the cal library\n",
    "commands.  It is enabled by default when the parameter is set.  \n",
    "\n",
    "\n",
    "------------------------------------------------------------------------\n",
    "\n"
   ]
  },
  {
   "cell_type": "markdown",
   "metadata": {},
   "source": [
    "### 1.3 Selecting Plot Axes: The Plot Axes Tab \n",
    "\n",
    "![38b1324df723df2ffee435444a27346ea9ecd248.png](38b1324df723df2ffee435444a27346ea9ecd248.png)\n",
    "\n",
    " \n",
    "\n",
    "|         |                                                                                                                                                                                                         |\n",
    "|:--------|---------------------------------------------------------------------------------------------------------------------------------------------------------------------------------------------------------|\n",
    "| Type    | Figure 3                                                                                                                                                                                                |\n",
    "| ID      |                                                                                                                                                                                                         |\n",
    "| Caption | The plotms *Plot* *\\> Axes* tab, used here to make a plot of Amp **vs.** Channel. |\n",
    "\n",
    "------------------------------------------------------------------------\n",
    "\n"
   ]
  },
  {
   "cell_type": "markdown",
   "metadata": {},
   "source": [
    "#### 1.3.1 Selecting Axes\n",
    "\n",
    "The X and Y axes of a plot are selected\n",
    "by clicking on the *Plot \\> Axes* tab and choosing an entry from the\n",
    "drop-down menus below *X Axis* and *Y Axis*. The axes are grouped by\n",
    "type and listed in this order:\n",
    "\n",
    "-   **MeasurementSet metadata:**\n",
    "    -   **Scan** — The scan number, as\n",
    "        listed by listobs or the **plotms** summary\n",
    "    -   **Field —** The field number, as\n",
    "        listed by listobs or the **plotms** summary\n",
    "    -   **Time —**The time at which the\n",
    "        visibility was observed, given in terms of calendar year\n",
    "        (yyyy/mm/dd/hh:mm:ss.s).\n",
    "    -   **Interval —** The integration\n",
    "        time in seconds.\n",
    "    -   **Spw** — The spectral window\n",
    "        number. The characteristics of each spectral window are listed\n",
    "        in listobs or the **plotms** summary.\n",
    "    -   **Channel** — The spectral\n",
    "        channel number.\n",
    "    -   **Frequency** — Frequency in\n",
    "        units of GHz. The frame for the frequency (e.g., topocentric,\n",
    "        barycentric, LSRK) can be set in the Plots \\> Transform\n",
    "        tab.\n",
    "    -   **Velocity** — Velocity in units\n",
    "        of km s−1, as defined by the Frame, Velocity Defn, and Rest Freq\n",
    "        parameters in the Plots \\> Transform tab.\n",
    "    -   **Corr** — Correlations which\n",
    "        have been assigned integer IDs, including RR (5), RL (6), LR\n",
    "        (7), LL (8), XX (9), XY (10), YX (11), and YY (12).  The axis\n",
    "        values are these IDs, as listed by listobs or the **plotms**\n",
    "        summary.  \n",
    "        \n",
    "    -   **Antenna1** — The first antenna\n",
    "        in a baseline pair; for example, for baseline 2-4, Antenna1= 2.\n",
    "        Antennae are numbered according to the antenna IDs listed in\n",
    "        listobs or the **plotms** summary.\n",
    "    -   **Antenna2** — The second antenna\n",
    "        in a baseline pair; for baseline 2-4, Antenna2 = 4. Antennae are\n",
    "        numbered according to the antenna IDs listed in listobs or the\n",
    "        **plotms** summary.\n",
    "    -   **Antenna** — Antenna ID for\n",
    "        plotting antenna-based quantities. Antennae are numbered\n",
    "        according to the antenna IDs listed in listobs or the **plotms**\n",
    "        summary.\n",
    "    -   **Baseline** — The baseline\n",
    "        number.\n",
    "    -   **Row** — The MS data row number.\n",
    "        A row number corresponds to a unique timestamp, baseline, and\n",
    "        spectral window in the MeasurementSet.\n",
    "    -   **Observation —** The observation\n",
    "        ID (index)\n",
    "    -   **Intent** — The intent ID\n",
    "        (index)\n",
    "    -   **Feed1** — The first feed\n",
    "        number, most useful for single-dish data.  \n",
    "        \n",
    "    -   **Feed2** — The second feed\n",
    "        number, most useful for single-dish data.\n",
    "-   **Visibility values and\n",
    "    flags:**\n",
    "    -   **Amp** — Data amplitudes in\n",
    "        units which are proportional to Jansky (for data which are fully\n",
    "        calibrated, the units should be in Jy).\n",
    "    -   **Phase** — Data phases in units\n",
    "        of degrees.\n",
    "    -   **Real** and **Imag** — The real\n",
    "        and imaginary parts of the visibility in units which are\n",
    "        proportional to Jansky (for data which are fully calibrated, the\n",
    "        units should be Jy).\n",
    "    -   **Wt and **Wt\\*Amp**** — the\n",
    "        weight of the visibility and the product of the weight and the\n",
    "        amplitude.\n",
    "    -   **WtSp** — WEIGHT_SPECTRUM\n",
    "        column, i.e. a weight per channel.\n",
    "    -   **Sigma** — the SIGMA column of\n",
    "        the visibilities\n",
    "    -   **SigmaSp** — SIGMA_SPECTRUM\n",
    "        column, i.e. a sigma per channel\n",
    "    -   **Flag** — Data which are flagged\n",
    "        have Flag = 1, whereas unflagged data are set to Flag = 0.  Note\n",
    "        that, to display flagged data, you will have to click on the\n",
    "        Plots \\> Display tab and choose a Flagged Points Symbol.\n",
    "    -   **FlagRow** — In some tasks, if a\n",
    "        whole data row is flagged, then FlagRow will be set to 1 for\n",
    "        that row. Unflagged rows have FlagRow = 0. However, note that\n",
    "        some tasks (like **plotms**) may flag a row, but not set FlagRow\n",
    "        = 1. It is probably better to plot Flag than FlagRow for most\n",
    "        applications.\n",
    "-   **Observational geometry:**\n",
    "    -   **UVdist** — Projected baseline\n",
    "        separations in units of meters. Note that UVDist is not a\n",
    "        function of frequency.\n",
    "\n",
    "    -   **UVwave —** Projected baseline\n",
    "        separations in units of the observing wavelength (lambda, not\n",
    "        kilolambda). UVwave is a function of frequency, and therefore,\n",
    "        there will be a different data point for each frequency\n",
    "        channel.\n",
    "\n",
    "    -   **U, **V**,** and ****W** —** u,\n",
    "        v, and w in units of meters.\n",
    "\n",
    "    -   **Uwave**, **Vwave**, and\n",
    "        **Wwave** — u, v, and w in units of wavelengths lambda.\n",
    "\n",
    "    -   **Azimuth** and **Ant-Azimuth** —\n",
    "        Azimuth in units of degrees. Azimuth plots a fiducial value for\n",
    "        the entire array, while Ant-Azimuth plots the azimuth for each\n",
    "        individual antenna (their azimuths will differ depending on each\n",
    "        antenna's longitude, latitude, and elevation).\n",
    "\n",
    "    -   **Elevation** and\n",
    "        **Ant-Elevation** — Elevation in units of degrees. Elevation is\n",
    "        a representative value for the entire array, while Ant-Elevation\n",
    "        is the elevation for each individual antenna (their elevations\n",
    "        will differ depending on each antenna's longitude, latitude, and\n",
    "        elevation).\n",
    "\n",
    "    -   **Ant-Ra** and **Ant-Dec** —\n",
    "        Longitude and latitude of the direction to which the first\n",
    "        antenna of a baseline points at data-taking timestamps.  \n",
    "        \n",
    "\n",
    "    -   **HourAngle** — Hour angle in\n",
    "        units of hours. This is a fiducial value for the entire\n",
    "        array.\n",
    "\n",
    "    -   **ParAngle** and **Ant-ParAng** —\n",
    "        Parallactic angle in units of degrees. ParAngle is the fiducial\n",
    "        parallactic angle for all antennae in the array, while\n",
    "        Ant-ParAng plots the parallactic angle for each individual\n",
    "        antenna (their parallactic angles will differ depending on each\n",
    "        antenna's longitude, latitude, and elevation).\n",
    "-   **Calibration:**\n",
    "    -   **GainAmp, **GainPhase**,\n",
    "        **GainReal**, **GainImag**** — the amplitude, phase, real and\n",
    "        imaginary part of the calibration tables for regular complex\n",
    "        gain tables.\n",
    "    -   **Delay** — The delay of a delay\n",
    "        calibration table.\n",
    "    -   **SwPower** — Switched Power\n",
    "        values for VLA switched power calibration tables.\n",
    "    -   **Tsys** — Tsys for Tsys\n",
    "        calibration tables.\n",
    "    -   **Opac** — Opacity values of a\n",
    "        Opacity calibration table.\n",
    "    -   **SNR** — Signal-to-Noise Ratio\n",
    "        of a calibration table.\n",
    "    -   **TEC** — Total Electron Content\n",
    "        of an ionosphere correction calibration table.\n",
    "-   **Ephemeris:**\n",
    "    -   **Radial Velocity** — for an ephemeris source, in\n",
    "        km/s.\n",
    "    -   **Distance (rho)** — for an\n",
    "        ephemeris source, in km.\n",
    "-   \n",
    "\n",
    "If the data axis selected from the\n",
    "drop-down menu is already stored in the cache (therefore implying that\n",
    "plotting will proceed relatively quickly), an “X” will appear in the\n",
    "checkbox next to *Cached*.   To reload the data from disk, the *Reload*\n",
    "checkmark should be set at the bottom of this display.\n",
    "\n",
    "The **plotms** task parameters used to\n",
    "select the axes are *xaxis* and *yaxis*.  Valid options include 'scan',\n",
    "'field', 'time', 'interval', 'spw', 'chan' (or 'channel'), 'freq' (or\n",
    "'frequency'), 'vel' (or 'velocity'), 'corr' (or 'correlation), 'ant1'\n",
    "(or 'antenna1'), 'ant2' (or 'antenna2'), 'baseline', 'row',\n",
    "'observation', 'intent', 'feed1', 'feed2', 'amp' (or 'amplitude'),\n",
    "'phase', 'real', 'imag', 'wt' (or 'weight'), 'wtsp' (or\n",
    "'weightspectrum'), 'flag', 'flagrow', 'uvdist', 'uvwave' (or 'uvdistl'),\n",
    "'u', 'v', 'w', 'uwave', 'vwave', 'wwave', 'azimuth', 'elevation',\n",
    "'hourang' (or 'hourangle'), 'parang' (or 'parangle'), 'ant' (or\n",
    "'antenna'), 'ant-azimuth', 'ant-elevation', 'ant-ra', 'ant-dec',\n",
    "'ant-parang' (or 'ant-parangle'), 'gainamp' (or 'gamp'), 'gainphase' (or\n",
    "'gphase'), 'gainreal' (or 'greal'), 'gainimag' (or 'gimag'), 'delay' (or\n",
    "'del'), 'swpower' (or 'swp' or 'spgain'), 'tsys', 'opacity' (or 'opac'),\n",
    "'snr', 'tec', 'radialvelocity', 'distance' (or 'rho').\n",
    "\n",
    "When left as the default empty strings\n",
    "(\"\"), the axes for a MeasurementSet will be Amp vs. Time.  The default\n",
    "axes for a calibration table depend on the type.  \n",
    "\n",
    "\n"
   ]
  },
  {
   "cell_type": "markdown",
   "metadata": {},
   "source": [
    "#### 1.3.2 Setting Axes Parameters\n",
    "\n"
   ]
  },
  {
   "cell_type": "markdown",
   "metadata": {},
   "source": [
    "##### 1.3.2.1 Data Columns\n",
    "\n",
    "For relevant data axes like Amp and\n",
    "Phase, the user will be presented with the option to plot raw data or\n",
    "calibrated data. This can be selected via a *Data Column* drop-down\n",
    "menu, located directly under the drop-down menu for *X Axis* or *Y Axis*\n",
    "selection. To plot raw data, select “data”; to plot calibrated data,\n",
    "select “corrected”. Note that this choice will only have an impact on a\n",
    "plot if a calibration table has been applied to the MeasurementSet or a\n",
    "calibration library is set and enabled.  \n",
    "\n",
    "\n",
    "If a data model is present in the\n",
    "MeasurementSet (e.g., created by setjy, clean, or ft), it can be plotted\n",
    "by selecting “model” from the *Data Column* menu. For MeasurementSets\n",
    "with float data instead of complex data, common in singledish datasets,\n",
    "select the \"float\" datacolumn.\n",
    "\n",
    "Residuals can be plotted via\n",
    "\"corrected-model_vector\", \"corrected-model_scalar\", \"data-model_vector\",\n",
    "data-model_scalar\", \"corrected/model_vector\", \"corrected/model_scalar\",\n",
    "\"data/model_vector\", and \"data/model_scalar\".  The vector and scalar\n",
    "options distinguish between versions where values like amp, phase, etc.\n",
    "are calculated before (scalar) or after (vector) the subtraction or\n",
    "division.  \n",
    "\n",
    "\n",
    "The **plotms** task parameters used to\n",
    "select the data columns are *xdatacolumn* and *ydatacolumn*.  Valid\n",
    "options include 'data', corrected', 'model', 'float', 'corrected-model'\n",
    "(vector implied), 'corrected-model_vector', 'corrected-model_scalar',\n",
    "'data-model' (vector implied), 'data-model_vector', 'data-model_scalar',\n",
    "'corrected/model' (vector implied), 'corrected/model_vector',\n",
    "'corrected/model_scalar', 'data/model' (vector implied),\n",
    "'data/model_vector', and 'data/model_scalar'.  The implied vector\n",
    "residual datacolumns were kept for backwards compatibility.  Default\n",
    "data columns for x and y are both 'data'.  \n",
    "\n",
    "\n"
   ]
  },
  {
   "cell_type": "markdown",
   "metadata": {},
   "source": [
    "##### 1.3.2.2 Antenna Pointing Direction Parameters \n",
    "\n",
    "Ant-Ra, Ant-Dec axes are the longitude\n",
    "and the latitude of the direction to which the first antenna of a\n",
    "baseline points at data-taking timestamps. Their value is computed by  \n",
    "\n",
    "\n",
    "-   interpolating with a user-supplied\n",
    "    method the direction of that antenna at that data-taking timestamp,\n",
    "    from the known directions pointed by that antenna at\n",
    "    pointing-direction-recording timestamps, recorded in\n",
    "    MeasurementSet's POINTING table\n",
    "-   converting the result to a\n",
    "    user-specified output reference frame  \n",
    "    \n",
    "\n",
    "The **plotms** task parameters to set\n",
    "ant-ra and ant-dec axes parameters are:  \n",
    "\n",
    "\n",
    "-   xinterp: interpolation method to use\n",
    "    when xaxis='ant-ra' or xaxis='ant-dec'\n",
    "-   xframe: output reference frame to use\n",
    "    when xaxis='ant-ra' or xaxis='ant-dec'\n",
    "-   yinterp: interpolation method to use\n",
    "    when yaxis='ant-ra' or yaxis='ant-dec'\n",
    "-   yframe: output reference frame to use\n",
    "    when yaxis='ant-ra' or yaxis='ant-dec'\n",
    "\n",
    "Valid values for xframe and yframe are:\n",
    "'icrs', 'j2000', 'b1950', 'galactic', 'azelgeo' (default \"\" == 'icrs')\n",
    "\n",
    "\n",
    "Valid values for xinterp and yinterp are:\n",
    "'nearest', 'cubic spline', 'spline' (default \"\" == 'cubic spline')\n",
    "\n",
    "\n",
    "Note:\n",
    "\n",
    "-   'spline' is a synonym for 'cubic\n",
    "    spline'\n",
    "-   when the interpolation method is set\n",
    "    to 'nearest', reference frame conversion is performed at the nearest\n",
    "    pointing-recording timestamp, not at the data-taking\n",
    "    timestamp\n",
    "\n",
    "WARNING: plotting antennas pointing\n",
    "directions with the Ant-Ra / Ant-Dec axes has only been implemented for\n",
    "ALMA, ASTE, and NRO data.\n",
    "\n",
    " \n",
    "\n"
   ]
  },
  {
   "cell_type": "markdown",
   "metadata": {},
   "source": [
    "#### 1.3.3 Axis Locations\n",
    "\n",
    "The location of the x-axis and y-axis can\n",
    "be set using the radio buttons in the GUI, where the x-axis can be\n",
    "located at the *Bottom* (default) or *Top*, and the y-axis can be\n",
    "located at the *Left* (default) or *Right.*\n",
    "\n",
    "The **plotms** task parameter to set the\n",
    "y-axis location is *yaxislocation. * There is no parameter to set the\n",
    "x-axis location.  Valid values for this parameter include 'left' and\n",
    "'right' (default \"\" == 'left').  \n",
    "\n",
    "\n"
   ]
  },
  {
   "cell_type": "markdown",
   "metadata": {},
   "source": [
    "#### 1.3.4 Axes Ranges\n",
    "\n",
    "The X and Y ranges of the plot can be set\n",
    "manually or automatically. By default, the circle next to *Automatic*\n",
    "will be checked, and the ranges will be auto-scaled. To define the\n",
    "range, click on the circle below *Automatic* and enter a minimum and\n",
    "maximum value in the blank boxes. Note that if identical values are\n",
    "placed in the blank boxes (xmin=xmax and/or ymin=ymax), then the values will be\n",
    "ignored and a best guess will be made to auto-range that axis.\n",
    "\n",
    "The **plotms** task parameter used to set\n",
    "the axes ranges is *plotrange*, and its value is a list of numbers in\n",
    "the format \\[xmin, xmax, ymin, ymax\\] (default \\[ \\], automatic\n",
    "range).  \n",
    "\n",
    "\n"
   ]
  },
  {
   "cell_type": "markdown",
   "metadata": {},
   "source": [
    "#### 1.3.5 Plotting Multiple Y-Axes\n",
    "\n",
    "Different\n",
    "values of the same dataset can be shown at the same time. To add a\n",
    "second y-axis, press the *Add Y Axis Data* button at the bottom of the\n",
    "*Axes* tab. Then select the parameters for the newly created axis by\n",
    "selecting from the new “Y Axis Data” drop-down menu. If the two y-axes\n",
    "have the same units, they can be displayed both on the same axis. If\n",
    "they are different (or their ranges are dissimilar), e.g. Amplitude and\n",
    "Elevation (both versus Time; see Figure 4 below), one axis should be\n",
    "attached to the left and the other to the right hand side of the plot.\n",
    "Using more than a single y-axis data is also reflected in the *Display*\n",
    "tab where a drop-down menu appears in order to select multiple y-axis\n",
    "options; here you may colorize each axis differently.  See the section\n",
    "below\n",
    "to learn more about [symbol\n",
    "properties](#1-6-2-customizing-your-symbols). To remove the additional\n",
    "y-axis, click *Delete Y Axis Data* at the bottom of the *Axes*\n",
    "tab.  \n",
    "\n",
    "\n",
    "![](6ea1a2b82d3016d25f772e89ef08d716ed1ff364.png)\n",
    "\n",
    "|         |                                                                                                                                                                  |\n",
    "|:--------|------------------------------------------------------------------------------------------------------------------------------------------------------------------|\n",
    "| Type    | Figure 4                                                                                                                                                         |\n",
    "| ID      |                                                                                                                                                                  |\n",
    "| Caption | Overplotting in plotms: Two different y-axes for the same dataset have been chosen for this plot, amplitude and elevation. |\n",
    "\n",
    "The\n",
    "**plotms** task parameters used to plot multiple y-axes are the same as\n",
    "for a single y-axis: *yaxis* and *yaxislocation*; multiple y-axes can be\n",
    "specified as a list of strings if you are specifying the **plotms**\n",
    "command in the terminal. The values for *yaxis* and\n",
    "*yaxislocation* should be set to lists of the same length:  \n",
    "\n",
    "\n",
    "plotms(vis='ngc5921.ms',\n",
    "yaxis=\\['amp','elevation'\\], yaxislocation=\\['left','right'\\])\n",
    "\n"
   ]
  },
  {
   "cell_type": "markdown",
   "metadata": {},
   "source": [
    "#### 1.3.6 Atmospheric Curve Overlays \n",
    "\n",
    "The ability to compute and overlay an\n",
    "atmospheric transmission curve or a sky temperature curve, available in\n",
    "plotbandpass, has been added to **plotms**.  For this feature, the\n",
    "x-axis must be Channel or Frequency; if another axis is chosen, a\n",
    "warning is issued and the plot continues without the overlay.  \n",
    "\n",
    "\n",
    "**plotms** uses the dataset's subtables\n",
    "to compute the mean weather values: pressure, humidity, temperature, and\n",
    "precipitable water vapor (pwv).  If these subtables are not found,\n",
    "reasonable defaults are used instead and reported in a log message.  The\n",
    "[atmosphere\n",
    "tool](https://casa.nrao.edu/casadocs-devel/stable/global-tool-list/tool_atmosphere)\n",
    "is then used by **plotms** to calculate dry and wet opacities to produce\n",
    "the requested overlay curve, corrected by the airmass based on\n",
    "elevation.\n",
    "\n",
    "![fbf2f683de008d52ef2db218adad4d151c72c4a9.png](fbf2f683de008d52ef2db218adad4d151c72c4a9.png)\n",
    "\n",
    "|         |                                                                                                                                                                                                                                 |\n",
    "|:--------|---------------------------------------------------------------------------------------------------------------------------------------------------------------------------------------------------------------------------------|\n",
    "| Type    | Figure 5                                                                                                                                                                                                                        |\n",
    "| ID      |                                                                                                                                                                                                                                 |\n",
    "| Caption | Amp vs. Frequency plot with a Tsky overlay.  The Tsky y-axis is automatically added on the right, and the curve is plotted in magenta.  The Plot \\> Axes tab shows the radio buttons to select the Overlay: None, Atm, or Tsky. |\n",
    "\n",
    "The **plotms** task parameters used to\n",
    "plot the overlays are *showatm* and *showtsky*.  These take boolean\n",
    "values and their defaults are False.  Only one overlay can be selected;\n",
    "if both are set to True, only the atmospheric curve (*showatm*) will be\n",
    "displayed.\n",
    "\n",
    "plotms(vis=myvis,\n",
    "yaxis='amp', xaxis='freq', showatm=True)\n",
    "\n",
    "The image sideband curve may also be\n",
    "shown in **plotms** when the atmospheric transmission or sky temperature\n",
    "curves are plotted.  In order to do this, the MS (or associated MS for a\n",
    "calibration table) cannot have reindexed spectral window IDs as a result\n",
    "of a split, and must have an ASDM_RECEIVER table in order to read the LO\n",
    "frequencies.  If these conditions are not met, a warning is issued and\n",
    "only the atm/tsky curves are calculated and plotted.\n",
    "\n",
    "![06d13146ca57d00a107fef7873643a317b22505c.png](06d13146ca57d00a107fef7873643a317b22505c.png)\n",
    "\n",
    "|         |                                                                                                                                                                                                                                                                                                             |\n",
    "|:--------|-------------------------------------------------------------------------------------------------------------------------------------------------------------------------------------------------------------------------------------------------------------------------------------------------------------|\n",
    "| Type    | Figure 5b                                                                                                                                                                                                                                                                                                   |\n",
    "| ID      |                                                                                                                                                                                                                                                                                                             |\n",
    "| Caption | Gain Amp vs. Frequency plot for a bandpass calibration table with the Atm Transmission (magenta) and Image Sideband (black) overlays, colorized by spw and one antenna selected.  The Plot \\> Axes tab shows the checkbox to select the image sideband curve, enabled only when the Overlay is Atm or Tsky. |\n",
    "\n",
    "The **plotms** task parameter used to\n",
    "plot the image sideband curve overlay is *showimage*.  This takes a\n",
    "boolean value and its default is False.  If *showatm=False* and\n",
    "*showtsky=False*, a warning is issued and the curve will not be\n",
    "calculated and plotted.\n",
    "\n",
    "plotms(vis=mycaltable,\n",
    "yaxis='amp', xaxis='freq', antenna='0', coloraxis='spw', showatm=True,\n",
    "showimage=True)\n",
    "\n",
    "------------------------------------------------------------------------\n",
    "\n"
   ]
  },
  {
   "cell_type": "markdown",
   "metadata": {},
   "source": [
    "### 1.4 Iteration and Page Header : The Plot Page Tab\n",
    "\n"
   ]
  },
  {
   "cell_type": "markdown",
   "metadata": {},
   "source": [
    "####  ![1f43767491c56766199057350f36b7e6b69384a4.png](1f43767491c56766199057350f36b7e6b69384a4.png)\n",
    "\n",
    "|         |                  |\n",
    "|:--------|------------------|\n",
    "| Type    | Figure 6         |\n",
    "| ID      | plotms.plot.page |\n",
    "| Caption | Plot Page Tab    |\n",
    "\n"
   ]
  },
  {
   "cell_type": "markdown",
   "metadata": {},
   "source": [
    "#### 1.4.1 Iteration\n",
    "\n",
    "In many cases, it is desirable to iterate\n",
    "through the data that were selected in the Data tab. A typical example is to\n",
    "display a single baseline in an amplitude vs. time plot and then proceed\n",
    "to the next baselines step by step. This can be done via the *Plot \\>\n",
    "Page* tab.  A drop-down menu allows you to select the axis to be\n",
    "iterated on, with options *None, Scan, Field, Spw, Baseline, Antenna,\n",
    "Time,* and *Corr*.  Press the *Plot* button after changing your\n",
    "selection.  Each plot will be autoscaled according to its iteration\n",
    "value range unless a *Range* is specified in the *Axis* tab.  \n",
    "\n",
    "\n",
    "The current iteration is indicated in the\n",
    "plot title of the displayed plot. To proceed to the next plot use the\n",
    "green arrow buttons below the\n",
    "main panel. The different button symbols let you to proceed panel by\n",
    "panel (single arrow symbols) or to jump to the first or last panel\n",
    "directly (double arrow symbols).\n",
    "\n",
    "The number of plots per page can be\n",
    "selected under *Options \\> Grid*, the last of the top row of tabs, as\n",
    "described in the section on [plotting on a\n",
    "grid](#4-1-plotting-on-a-grid).  There are two scaling options for the\n",
    "iterated axes in a grid, set in this tab: Global and Shared. Global will use a common axis range\n",
    "based on data loaded with the selection criteria specified in the Data tab. Shared displays one set of x-axes and\n",
    "y-axes for the page rather than per-plot.  When left\n",
    "unchecked, *Global *and *Shared *results in plots with axes scaling to\n",
    "the data for each individual panel of the iteration.  See Figure 9 in\n",
    "[section 4.1.1](#4-1-1-plotting-iterations-on-a-grid) for an example of\n",
    "global shared x-axes and y-axes.  \n",
    "\n",
    "\n",
    "The **plotms** task parameter used to\n",
    "select an iteration axis is *iteraxis*.  The options include 'scan',\n",
    "'field', 'spw', 'baseline', 'antenna', 'time', and 'corr'.\n",
    "\n",
    "To use a global axis range for iterated\n",
    "plots, set parameters *xselfscale=True* and/or *yselfscale=True*.  To\n",
    "use a shared external x-axis per column on a grid, set\n",
    "*xsharedaxis=True* (must also set *xselfscale=True* and *gridrows*\n",
    "greater than 1).  To use a shared external y-axis per row on a grid, set\n",
    "*ysharedaxis=True* (must also set *yselfscale=True* and *gridcols*\n",
    "greater than 1).  \n",
    "\n",
    "\n"
   ]
  },
  {
   "cell_type": "markdown",
   "metadata": {},
   "source": [
    "#### 1.4.2 Page Header\n",
    "\n",
    "It is sometimes useful to display above\n",
    "the plots a page header showing some metadata information. To do so,\n",
    "select in the lower list the header items you want to display, and press\n",
    "the antenna-shaped \"arrow\" pointing up. This will move the items you\n",
    "selected to the upper list showing the header contents, without updating\n",
    "the page header. Press the Plot button to update the page header.\n",
    "\n",
    "Multiple items can be selected at once by\n",
    "pressing the Shift or the Control key, Control+A selects all\n",
    "items.\n",
    "\n",
    "Items displayed in the Contents list are\n",
    "laid out on 2 columns in the page header, in \"Z\" order.\n",
    "\n",
    "To remove items from the Contents list,\n",
    "select in that list the items to remove and press  the antenna-shaped\n",
    "\"arrow\" pointing down.\n",
    "\n",
    "Antennas blink red when clicked while\n",
    "their corresponding selection is empty, green otherwise.\n",
    "\n",
    "Header items from multiple plots can be\n",
    "displayed in the page header. In that case items from the first plot are\n",
    "laid out first, items from the second plot are then laid out starting\n",
    "from the first empty row, and so on.\n",
    "\n",
    "The contents of the header is common to\n",
    "all pages.\n",
    "\n",
    "The **plotms** task parameter used to\n",
    "specify header items is *headeritems*. Legal value is a string whose\n",
    "value can be any comma-separated combination of the following\n",
    "pre-defined keywords: \n",
    "\n",
    "-   'filename',\n",
    "    'projid','telescope','observer','obsdate','obstime','targname','targdir','ycolumn'\n",
    "\n",
    "When selected data leaves room for\n",
    "multiple candidates (e.g when selected data spans multiple observations\n",
    "or include multiple fields or sources), the first selected row in\n",
    "MeasurementSet's Main table is used as a starting point for looking up a\n",
    "single \"first\" candidate in  MeasurementSet's auxiliary tables.\n",
    "\n",
    "Observation Start Date and Observation\n",
    "Start Time are looked up in MeasurementSet's Observation table, and\n",
    "therefore differ from the output of listobs task.\n",
    "\n",
    "------------------------------------------------------------------------\n",
    "\n"
   ]
  },
  {
   "cell_type": "markdown",
   "metadata": {},
   "source": [
    "### 1.5 Transforming the Velocity Frame or Phase Center: The Plot Transform Tab \n",
    "\n"
   ]
  },
  {
   "cell_type": "markdown",
   "metadata": {},
   "source": [
    "#### 1.5.1 Frequency Frame\n",
    "\n",
    "If the user plans to plot frequency, the reference frame must be defined. By\n",
    "default, **plotms** selects the frame keyword (if any) present in the\n",
    "data, usually the frame observed at the telescope unless modified during\n",
    "previous processing. However, transformations can be made by choosing a\n",
    "*Frame* from the drop-down menu in the *Plot \\>\n",
    "Transform* tab. Frequency\n",
    "reference frames can be chosen to be:\n",
    "\n",
    "-   LSRK — local standard of rest\n",
    "    (kinematic)\n",
    "-   LSRD — local standard of rest\n",
    "    (dynamic)\n",
    "-   BARY — barycentric\n",
    "-   GEO — geocentric\n",
    "-   TOPO — topocentric\n",
    "-   GALACTO — galactocentric\n",
    "-   LGROUP — local group\n",
    "-   CMB — cosmic microwave background\n",
    "    dipole\n",
    "\n",
    "The **plotms** task parameter used to\n",
    "select frequency frame is *freqframe.*  Valid options include those\n",
    "listed above (strings with all caps).  The default empty string \"\"\n",
    "results in no frame transformation.  \n",
    "\n",
    "\n"
   ]
  },
  {
   "cell_type": "markdown",
   "metadata": {},
   "source": [
    "#### 1.5.2 Velocity\n",
    "\n",
    "If Velocity is selected as an axis, by\n",
    "default the transformation from frequency uses the parameters in the MS\n",
    "metadata, or, if absent, using the central frequency and TOPO frame. The\n",
    "user can change this by using the *Frame, Velocity Defn,* and *Rest\n",
    "Freq* options in the Transform tab*. * The velocity definition is chosen from the\n",
    "*Velocity Defn* drop-down menu, offering selections of *Radio, True*\n",
    "(Relativistic)*,* or\n",
    "*Optical.*\n",
    "\n",
    "For more information on frequency\n",
    "frames and spectral coordinate systems, see the paper by Greisen et al.\n",
    "(A&A, 446, 747, 2006) (Also at [http://www.aoc.nrao.edu/\\~egreisen/scs.ps](http://www.aoc.nrao.edu/%7Eegreisen/scs.ps))<sup>  \n",
    "</sup>\n",
    "\n",
    "Finally, the spectral line’s rest\n",
    "frequency in units of MHz should be typed into the *Rest Freq* input box\n",
    "next. You can use the\n",
    "[slsearch](https://casa.nrao.edu/casadocs-devel/stable/global-task-list/task_slsearch)\n",
    "task to search a spectral line table, or the me.spectralline tool method to turn transition names into\n",
    "frequencies:\n",
    "\n",
    "CASA \\<16\\>:\n",
    "me.spectralline('HI')  \n",
    " Out\\[17\\]:   \n",
    "{'m0': {'unit': 'Hz', 'value':\n",
    "1420405751.786},  \n",
    " 'refer': 'REST',  \n",
    " 'type': 'frequency'}\n",
    "\n",
    "For a list of known lines in the CASA\n",
    "measures system, use the toolkit command me.linelist(). For example:  \n",
    "\n",
    "\n",
    "CASA \\<21\\>: me.linelist()  \n",
    " Out\\[21\\]: 'HI H186A H185A H184A H183A\n",
    "H182A H181A H180A H179A H178A H177A H176A H175A   \n",
    "H174A H173A H172A H171A H170A H169A H168A\n",
    "H167A H166A H165A H164A H163A H162A H161A H160A...   \n",
    "He182A He181A He180A He179A He178A He177A\n",
    "He176A He175A He174A He173A He172A He171A He170A   \n",
    "He169A He168A He167A He166A He165A He164A\n",
    "He163A He162A He161A He160A He159A He158A He157A...  \n",
    "C186A C185A C184A C183A C182A C181A C180A\n",
    "C179A C178A C177A C176A C175A C174A C173A C172A   \n",
    "C171A C170A C169A C168A C167A C166A C165A\n",
    "C164A C163A C162A C161A C160A C159A C158A C157A...   \n",
    "NH3_11 NH3_22 NH3_33 NH3_44 NH3_55 NH3_66\n",
    "NH3_77 NH3_88 NH3_99 NH3_1010 NH3_1111 NH3_1212   \n",
    "OH1612 OH1665 OH1667 OH1720 OH4660 OH4750\n",
    "OH4765 OH5523 OH6016 OH6030 OH6035 OH6049 OH13433   \n",
    "OH13434 OH13441 OH13442 OH23817 OH23826\n",
    "CH3OH6.7 CH3OH44 H2O22 H2CO4.8 CO_1\\_0 CO_2\\_1 CO_3\\_2   \n",
    "CO_4\\_3 CO_5\\_4 CO_6\\_5 CO_7\\_6 CO_8\\_7\n",
    "13CO_1\\_0 13CO_2\\_1 13CO_3\\_2 13CO_4\\_3 13CO_5\\_4 13CO_6\\_5   \n",
    "13CO_7\\_6 13CO_8\\_7 13CO_9\\_8 C18O_1\\_0\n",
    "C18O_2\\_1 C18O_3\\_2 C18O_4\\_3 C18O_5\\_4 C18O_6\\_5 C18O_7\\_6   \n",
    "C18O_8\\_7 C18O_9\\_8 CS_1\\_0 CS_2\\_1\n",
    "CS_3\\_2 CS_4\\_3 CS_5\\_4 CS_6\\_5 CS_7\\_6 CS_8\\_7 CS_9\\_8 CS_10_9\n",
    "  \n",
    "CS_11_10 CS_12_11 CS_13_12 CS_14_13\n",
    "CS_15_14 CS_16_15 CS_17_16 CS_18_17 CS_19_18 CS_12_19   \n",
    "SiO_1\\_0 SiO_2\\_1 SiO_3\\_2 SiO_4\\_3\n",
    "SiO_5\\_4 SiO_6\\_5 SiO_7\\_6 SiO_8\\_7 SiO_9\\_8 SiO_10_9 SiO_11_10\n",
    "  \n",
    "SiO_12_11 SiO_13_12 SiO_14_13 SiO_15_14\n",
    "SiO_16_15 SiO_17_16 SiO_18_17 SiO_19_18 SiO_20_19   \n",
    "SiO_21_20 SiO_22_21 SiO_23_22'\n",
    "\n",
    "The **plotms** task parameters used to\n",
    "set velocity definition and rest frequency are *veldef* and *restfreq.* \n",
    "Valid options for *veldef* are 'RADIO', 'TRUE', or 'OPTICAL' (default is\n",
    "'RADIO').  *restfreq* should be in a string in MHz, for example\n",
    "'22235.08MHz'.  \n",
    "\n",
    "\n"
   ]
  },
  {
   "cell_type": "markdown",
   "metadata": {},
   "source": [
    "#### 1.5.3 Shifting the Phase Center\n",
    "\n",
    "The plot’s phase center can be shifted\n",
    "in the *Plot \\>\n",
    "Transform* tab. This will allow\n",
    "coherent vector averaging of visibility amplitudes far from the phase\n",
    "tracking center.  Enter the X and Y shifts in units of arcseconds in the\n",
    "*dX* and *dY* boxes under *Phase\n",
    "center shift*.\n",
    "\n",
    "The\n",
    "**plotms** task parameter used to shift the phase center is\n",
    "*shift*.  Its value should be a list in the format \\[dx,dy\\] in arcsec\n",
    "(default \\[0.0, 0.0\\]).  \n",
    "\n",
    "\n",
    "------------------------------------------------------------------------\n",
    "\n"
   ]
  },
  {
   "cell_type": "markdown",
   "metadata": {},
   "source": [
    "### 1.6 Display Options for Plots: The Plot Display Tab\n",
    "\n"
   ]
  },
  {
   "cell_type": "markdown",
   "metadata": {},
   "source": [
    "#### 1.6.1 Colorizing Your Data \n",
    "\n",
    "Data points can be given informative\n",
    "symbol colors using the *Colorize* option in the *Plot \\> Display* tab. By\n",
    "checking the box next to *Colorize* and selecting a data axis from the drop-down\n",
    "menu, the data will be plotted with colors that vary along that axis.\n",
    "For example, if “corr” is chosen from the *Colorize* menu, “RR”, “LL”, “RL”, and “LR” data will\n",
    "each be plotted with a different color. Note that *Colorize* while plotting flagged data will override\n",
    "the default flagged red symbol color.\n",
    "\n",
    "The\n",
    "**plotms** task parameter used to colorize data is *coloraxis*. \n",
    "Options include 'scan', 'field', 'spw', 'antenna1', 'antenna2',\n",
    "'baseline', 'channel', 'corr', 'time', 'observation', and 'intent'.  \n",
    "\n",
    "\n"
   ]
  },
  {
   "cell_type": "markdown",
   "metadata": {},
   "source": [
    "#### 1.6.2 Customizing Your Symbols\n",
    "\n",
    "Unflagged and flagged plot symbols can\n",
    "be customized in the *Plot\n",
    "\\> Display* tab. Most fundamentally, the user can choose\n",
    "to plot unflagged data and/or flagged data. By default, unflagged data\n",
    "is plotted (the circle next to *Default* is checked under *Unflagged Points Symbol*), and flagged data is not plotted (the\n",
    "circle next to *None*\n",
    "is checked under *Flagged Points\n",
    "Symbol*). We note here that plotting flagged data on\n",
    "an averaged plot is undertaken at the user’s own risk, as the\n",
    "distinction between flagged points and unflagged points becomes blurred\n",
    "if data are averaged over a dimension that is partially flagged. Take,\n",
    "for example, a plot of Amplitude vs. Time where all channels are\n",
    "averaged together, but some channels have been flagged due to RFI\n",
    "spikes. In creating the average, **plotms** will skip over the flagged\n",
    "channels and only use the unflagged ones. The averaged points will be\n",
    "considered unflagged, and the flagged data will not appear on the plot\n",
    "at all.\n",
    "\n",
    "Symbol options include:\n",
    "\n",
    "-   None — no data points\n",
    "-   Default — data points which are small circles\n",
    "    (blue for unflagged data and red for flagged data)\n",
    "-   Custom — allows the user to define a plot\n",
    "    symbol\n",
    "\n",
    "If *Custom* plot symbols are chosen, the user can\n",
    "determine:\n",
    "\n",
    "1.  **Size**, by typing a number in the\n",
    "    blank box next to *px* or by clicking on the adjacent up or\n",
    "    down arrows.\n",
    "2.  **Shape**, chosen from the\n",
    "    drop-down menu; options include *circle, square, diamond*, *pixel*,\n",
    "    or *autoscaling. * Note that pixel only has one possible size. \n",
    "    *autoscaling* attempts to adjust the size of the points from dots to\n",
    "    circles of different sizes, depending on how many points are\n",
    "    plotted.*  \n",
    "    *\n",
    "3.  **Color**, chosen by typing a hex color code in\n",
    "    the *Fill* input box or by\n",
    "    clicking on the ... button and selecting a color from the\n",
    "    pop-up GUI.\n",
    "4.  **Fill**, using the adjacent\n",
    "    drop-down menu for how heavily the plot symbol is shaded with this\n",
    "    color, from heaviest to lightest; options include *fill, mesh1,\n",
    "    mesh2, mesh3*, and *no fill*.\n",
    "5.  **Outline**, by selecting *None*\n",
    "    (no outline) or *Default *(outlined in black)\n",
    "\n",
    "Note that if “no fill” and *Outline: None* are selected, the plot symbols will be\n",
    "invisible.\n",
    "\n",
    "The **plotms** task parameter and\n",
    "subparameters used to customize unflagged symbols\n",
    "include:\n",
    "\n",
    "-   *customsymbol* (True/False, default\n",
    "    False) - must be True for subparameters to take effect  \n",
    "    \n",
    "-   *symbolshape* ('autoscaling', 'circle',\n",
    "    'square', 'diamond', 'pixel', 'nosymbol', default\n",
    "    'autoscaling')\n",
    "-   *symbolsize* (in number of pixels,\n",
    "    default 2)\n",
    "-   *symbolcolor* (RGB hex code e.g. 'aa55ff'\n",
    "    or string color name e.g. 'purple', default '0000ff'\n",
    "    blue)\n",
    "-   *symbolfill* ('fill', 'mesh1', 'mesh2', 'mesh3',\n",
    "    'no fill', default 'fill'*)*  \n",
    "    \n",
    "-   *symboloutline* (True/False, default\n",
    "    False)\n",
    "\n",
    "The **plotms** task parameters used to\n",
    "customize flagged\n",
    "symbols include *customflaggedsymbol* (default False) with subparameters\n",
    "*flaggedsymbolshape* (default 'nosymbol'), flaggedsymbolsize (default\n",
    "2), *flaggedsymbolcolor* (default 'ff0000' red), *flaggedsymbolfill*\n",
    "(default 'fill'), and *flaggedsymboloutline* (default False).  Supported\n",
    "values are the same as for unflagged symbols.  \n",
    "\n",
    "\n"
   ]
  },
  {
   "cell_type": "markdown",
   "metadata": {},
   "source": [
    "#### 1.6.3 Symbols for Multiple Y-Axes \n",
    "\n",
    "If you have added an additional y-axis in\n",
    "the *Plot \\> Axes* tab, you may customize each y-axis individually by\n",
    "selecting the axis in the *Y Axis Data* pull-down menu at the top of the\n",
    "*Plot \\> Display* tab and then customizing the symbols for that\n",
    "axis.\n",
    "\n",
    "To set multiple symbols in the **plotms**\n",
    "task, set the symbol parameters as a list:  \n",
    "\n",
    "\n",
    "plotms(vis='ngc5921.ms',\n",
    "yaxis=\\['amp','elevation'\\], yaxislocation=\\['left','right'\\],\n",
    "customsymbol=\\[True,True\\], symbolcolor=\\['purple','green'\\])  \n",
    "\n",
    "\n",
    "In this plot, the 'amp' axis will be\n",
    "purple, and the 'elevation' axis will be green.\n",
    "\n"
   ]
  },
  {
   "cell_type": "markdown",
   "metadata": {},
   "source": [
    "#### 1.6.4 Connecting the Points\n",
    "\n",
    "Plotms has the capability to connect\n",
    "points for calibration tables; support for MeasurementSets will be added\n",
    "later.  The points are colorized and connected along the x-axis or time\n",
    "axis by line or step.  Points with the same metadata but varying values\n",
    "of the x-axis or time are connected.  Unflagged points are not connected\n",
    "to flagged points, even when they are not displayed.  The \"Colorize\"\n",
    "axis will override the connection colorization.  \n",
    "\n",
    "\n",
    "![1cb0ac9d3ca82e6a491a0d9b7ce4e6c219c0886a.png](1cb0ac9d3ca82e6a491a0d9b7ce4e6c219c0886a.png)\n",
    "\n",
    "|         |                                                                                                                                                                               |\n",
    "|:--------|-------------------------------------------------------------------------------------------------------------------------------------------------------------------------------|\n",
    "| Type    | Figure 7                                                                                                                                                                      |\n",
    "| ID      | plotms.plot.display                                                                                                                                                           |\n",
    "| Caption | Plot Display tab showing the Connect Points options for a gain table.  Here, points with the same spw, channel, polarization, and antenna1 are connected along the time axis. |\n",
    "\n",
    "The plotms task parameters used to connect\n",
    "points in a calibration table plot are *xconnector* (default \"none\",\n",
    "options \"line\" or \"step\") and *timeconnector* (default False, or True to\n",
    "connect along time axis instead of x-axis).  \n",
    "\n",
    "\n",
    "------------------------------------------------------------------------\n",
    "\n"
   ]
  },
  {
   "cell_type": "markdown",
   "metadata": {},
   "source": [
    "### 1.7 Plot Labels: The Plot Canvas Tab \n",
    "\n"
   ]
  },
  {
   "cell_type": "markdown",
   "metadata": {},
   "source": [
    "#### 1.7.1 Plot Title \n",
    "\n",
    "Options to change the plot title\n",
    "include *None* (no title), *Default,* and a user-input string.  To set\n",
    "the plot title, under *Title*, click on the circle next to the input box\n",
    "and enter the desired text. This text box shows the grayed-out default\n",
    "string, \"%%yaxis%% vs. %%xaxis%%\" (to substitute the axis names for\n",
    "\"yaxis\" and \"xaxis\").  The user can also choose the size of the title\n",
    "font by checking the *Title Font* checkbox and entering the font size or\n",
    "using the arrows to increase or decrease the value.  The default is to\n",
    "scale the title font depending on the plot size.  \n",
    "\n",
    "\n",
    "The\n",
    "**plotms** task parameters used to set the title and its font are\n",
    "*title* (default \"\" for yaxis vs. xaxis string) and *titlefont* (default\n",
    "is 0 to autoscale).  Set *title='\"\"* for the default title (Y vs. X) or\n",
    "\" \" (space) for no title. \n",
    "\n"
   ]
  },
  {
   "cell_type": "markdown",
   "metadata": {},
   "source": [
    "#### 1.7.2 Legend\n",
    "\n",
    "A plot\n",
    "symbol legend can be added to the plot by clicking on the checkbox next\n",
    "to *Legend*. For a simple plot, a symbol legend simply echoes the plot axes\n",
    "(e.g. \"Amp vs Time\") but is useful when [overplotting\n",
    "data](#7-1-overplotting-multiple-data-sets-on-the-same-plot) with custom\n",
    "colors so that you can identify the data (e.g. \"Amp vs Time\" in blue and\n",
    "\"Phase vs Time\" in green on the same plot).\n",
    "\n",
    "When\n",
    "enabled, a drop-down menu next to *Legend* allows the user to select the\n",
    "legend location either within the plot (Upper Right, Lower Right, Upper\n",
    "Left, Lower Left) or outside the plot (Out Right, Out Left, Out Top, Out\n",
    "Bottom).\n",
    "\n",
    "The\n",
    "**plotms** task parameter used to enable the legend is *showlegend*\n",
    "(default is False).  To select the legend location subparameter, set\n",
    "*legendposition* to 'upperRight', 'upperLeft', 'lowerRight',\n",
    "'lowerLeft', 'exteriorRight', 'exteriorLeft', 'exteriorTop', or\n",
    "'exteriorBottom' (default is \"\" == upperRight).  \n",
    "\n",
    "\n"
   ]
  },
  {
   "cell_type": "markdown",
   "metadata": {},
   "source": [
    "#### 1.7.3 Axis Labels \n",
    "\n",
    "To enable the X- and Y-axis labels,\n",
    "check the *Show Label* checkboxes under *X Axis* and *Y Axis *(default is checked).  As with the plot\n",
    "title, the user may set the label to None (no label), Default (axis name\n",
    "with units),* * or type the\n",
    "desired text in the blank box.  The font size of labels can also be\n",
    "customized by enabling then setting the font size for each axis.  The\n",
    "location of axis labels is determined by the axis location as set in the\n",
    "*Plot \\>\n",
    "Axes* tab, as shown in [the\n",
    "section above](#1-3-3-axis-locations).\n",
    "\n",
    "The\n",
    "**plotms** task parameters used to set the label text and font\n",
    "are *xlabel and ylabel* (default \"\" is axis name with units, set to ' '\n",
    "space to disable label) and *xaxisfont* and *yaxisfont* (default 0 ==\n",
    "autoscale).\n",
    "\n"
   ]
  },
  {
   "cell_type": "markdown",
   "metadata": {},
   "source": [
    "#### 1.7.4 Grid Lines \n",
    "\n",
    "A grid of lines can be superimposed on\n",
    "the plot using *Grid\n",
    "Lines* in the *Plot \\>\n",
    "Canvas* tab. “Major” grid lines\n",
    "are drawn at the locations of major tick marks, while “minor” grid lines\n",
    "are drawn at minor tick marks.\n",
    "\n",
    "Grid line colors, thicknesses, and\n",
    "styles are selected independently for the “major” and “minor” grid\n",
    "lines. Desired line thickness should be typed into the blank boxes just\n",
    "to the right of the *Major* and *Minor* labels. Colors are set by clicking on the\n",
    "... buttons. The blank boxes to the left of the\n",
    "... buttons will then contain the hex codes for\n",
    "the selected colors (e.g., “808080”). Line styles can also be selected\n",
    "from the drop-down menus to the right of ... buttons; style options include *solid, dash,\n",
    "dot*, and *none*.  \n",
    "\n",
    "\n",
    "The\n",
    "**plotms** task parameter used to add and customize major grid\n",
    "lines include *showmajorgrid* (default is False) with subparameters\n",
    "*majorwidth* (default is 1), *majorstyle* ('solid', 'dash', 'dot',\n",
    "'none'; default is 'solid'), and *majorcolor* (RGB hex code or color\n",
    "name; default is 'b0b0b0' dark gray).\n",
    "\n",
    "Parameters for minor grid lines include\n",
    "*showminorgrid* (default is False) with subparameters *minorwidth*\n",
    "(default is 0), *minorstyle* (default is 'solid'), and *minorcolor*\n",
    "(default is 'd0d0d0' light gray).  \n",
    "\n",
    "\n",
    "------------------------------------------------------------------------\n",
    "\n"
   ]
  },
  {
   "cell_type": "markdown",
   "metadata": {},
   "source": [
    "## 2. Flag Extensions: The Flag Tab\n",
    "\n",
    "![0b91fab4d4cbcb4061e0185c76c2d9a8889cc449.png](0b91fab4d4cbcb4061e0185c76c2d9a8889cc449.png)\n",
    "\n",
    "|         |                                                                                                                                                                                         |\n",
    "|:--------|-----------------------------------------------------------------------------------------------------------------------------------------------------------------------------------------|\n",
    "| Type    | Figure 8                                                                                                                                                                                |\n",
    "| ID      |                                                                                                                                                                                         |\n",
    "| Caption | The plotms *Flag* tab.  Here the *Extend flags* box has been checked, enabling the *Correlation* and *Channel* options.  The plot shows unflagged data in blue and flagged data in red. |\n",
    "\n",
    "See the section below on [interactive\n",
    "flagging in plotms.](#8--interactive-flagging)  The options in this tab\n",
    "allows the user to have flagging extend to other data points besides\n",
    "what is marked on the plot.\n",
    "\n",
    "When enabled with the *Extend flags*\n",
    "checkbox, the user may choose to extend flags based on correlation or\n",
    "channel by checking the corresponding checkboxes.  Future options for\n",
    "flag extensions are planned.\n",
    "\n",
    "By checking the boxes next to *Extend Flags* and *Correlation**,* flags will be extended beyond the\n",
    "correlations displayed. Currently the only option is to extend to\n",
    "*All* correlations as noted by\n",
    "the radio button, implying that all correlations will be flagged.  For\n",
    "example, with RR displayed, the correlations RR, RL, LR, and LL will all\n",
    "be flagged when this option is enabled.\n",
    "\n",
    "By checking the boxes next to\n",
    "*Extend Flags* and *Channel*, flagging will be extended to other channels\n",
    "in the same spw as the displayed point. For example, if\n",
    "spw=’0:0’ and channel 0 is displayed, then flagging\n",
    "will extend to all channels in spw 0.\n",
    "\n",
    "The\n",
    "**plotms** task parameter used to extend flags is *extendflag*\n",
    "(True/False, default is False) with subparameters *extcorr*\n",
    "(True/False), and *extchannel* (True/False).  These parameters will\n",
    "enable flag extensions when interactively flagging the plot.  \n",
    "\n",
    "\n",
    "------------------------------------------------------------------------\n",
    "\n"
   ]
  },
  {
   "cell_type": "markdown",
   "metadata": {},
   "source": [
    "## 3. Interactive Tools: The Tools Tab, Annotate Tab, and Tool Icons \n",
    "\n",
    "![5805a63e175751d3cece5510c839490bd34ec9f4.png](5805a63e175751d3cece5510c839490bd34ec9f4.png)\n",
    "\n",
    "|         |                                                                                                                                                                                         |\n",
    "|:--------|-----------------------------------------------------------------------------------------------------------------------------------------------------------------------------------------|\n",
    "| Type    | Figure 9                                                                                                                                                                                |\n",
    "| ID      |                                                                                                                                                                                         |\n",
    "| Caption | The plotms Tools tab.  Here the Tracker Display tool is showing the (X,Y) coordinates of the cursor position.  A previous position was saved to the text box by pressing the SPACE bar. |\n",
    "\n",
    "Various interactive GUI tools are\n",
    "selectable with the radio buttons in the *Hand Tools* section of\n",
    "the *Tools *tab at the top of the **plotms** window.  They are also\n",
    "available as icon buttons at the bottom of the **plotms** window.  These\n",
    "tools can be used to zoom, pan, annotate, flag/unflag, and locate data. \n",
    "Described below are the bottom icon buttons in order.  \n",
    "\n",
    "\n",
    "![30e7cfa63b3a09d8c6ed179f5c955109348d9360.png](30e7cfa63b3a09d8c6ed179f5c955109348d9360.png)\n",
    "\n",
    "-   **Zoom** — The “magnifying glass”\n",
    "    button (1st on left) lets you draw a box around a region of the plot\n",
    "    (left-click on one corner of the box, and drag the mouse to the\n",
    "    opposite corner of the desired box), and then zooms in on this\n",
    "    box.\n",
    "\n",
    "-   **Pan** — The “four-arrow” button\n",
    "    (2nd from left) lets you pan around a zoomed plot.\n",
    "\n",
    "-   **Annotate** — The 3rd button from\n",
    "    the left is chosen from a drop-down menu to either *Annotate Text*\n",
    "    (“T with a green diamond” button) or *Annotate Rectangle* (“pencil”\n",
    "    button). With *Annotate Text* activated, click on a location in the\n",
    "    plot where text is desired; a window will pop up, allowing you to\n",
    "    type text in it. When you click the OK button, this text will appear\n",
    "    on the plot. *Annotate Rectangle* simply lets you draw a box on the\n",
    "    plot by left-clicking and dragging the mouse. By clicking on the\n",
    "    *Annotate* tab near the top of the **plotms** window, different\n",
    "    fonts, colors, line styles, etc. can be selected for\n",
    "    annotations.\n",
    "\n",
    "-   **Stack Base** — The “house” button\n",
    "    (5th from left) returns to the original zoom level.\n",
    "\n",
    "-   **Stack Back** and **Stack Forward**\n",
    "    — The left and right arrow buttons (4th and 6th from left) step\n",
    "    through the zoom settings you’ve visited.\n",
    "\n",
    "-   **Mark Regions** — The “box with a\n",
    "    green diamond” button (7th from left) lets you mark a region for\n",
    "    flagging, unflagging, or locating. Left-click on one corner of the\n",
    "    desired region, and then drag the mouse to set the opposite corner\n",
    "    of the region. You can mark multiple boxes before performing an\n",
    "    operation on them.  The selected regions will appear on the plot as\n",
    "    shaded rectangles.  \n",
    "    \n",
    "\n",
    "-   **Subtract Regions** — The “box with\n",
    "    a minus sign” button (8th from left) lets you de-select marked\n",
    "    regions (draw around a marked region and the shaded area will\n",
    "    disappear).  To de-select all marked regions, use the next button.  \n",
    "    \n",
    "\n",
    "-   **Clear Regions** — Clicking on the\n",
    "    “box with a red circle” button (9th from left) will clear all\n",
    "    regions which have been marked using Mark Regions.\n",
    "\n",
    "-   **Locate** — The “magnifying glass on\n",
    "    a sheet of paper” button (10th from left) will print out information\n",
    "    about points in the marked regions.  This information is printed to\n",
    "    the shell terminal when **plotms** was started with *casaplotms*, or\n",
    "    to the casa logger/logfile when **plotms** was started in a casa\n",
    "    python session.  The header of the output indicates the plotted X\n",
    "    and Y axes and the range of values in the selected region.  The\n",
    "    output for each point includes scan, field, time, baseline, spw,\n",
    "    channel, frequency, correlation, X, Y, and observation ID.  By\n",
    "    copying this list to a text file, or setting a new logfile with\n",
    "    *casalog.setlogfile* as described in the [CASA logger\n",
    "    documentation](https://casa.nrao.edu/casadocs-devel/stable/usingcasa/casa-logger),\n",
    "    the *Locate* information can be edited to provide input for\n",
    "    flagdata.  To list an entire column, e.g. all visibilities for a\n",
    "    source, use the listvis task or the [table\n",
    "    tools](https://casa.nrao.edu/casadocs-devel/stable/global-tool-list/tool_table).  \n",
    "    \n",
    "\n",
    "-   **Flag** — Click on the “flag” button\n",
    "    (11th from left) to flag all points in the marked regions.  See the\n",
    "    section below on [Interactive Flagging](#8--interactive-flagging).  \n",
    "    \n",
    "\n",
    "-   **Unflag** — Click on the\n",
    "    “crossed-out flag” button (12th from left) to unflag any flagged\n",
    "    points in the marked regions (even if not displayed).\n",
    "\n",
    "-   **Flag All** — Click on the \"per-grid\n",
    "    flag/unflag\" button (13th from left) to enter/leave the \"Flag All\"\n",
    "    mode. See the section below on [Interactive\n",
    "    Flagging](#8--interactive-flagging).\n",
    "\n",
    "-   **Iteration **— The next four green arrow buttons (14th\n",
    "    through 17th from left) control iteration, with the first and last\n",
    "    \"double arrow\" buttons used to display the first and last iteration,\n",
    "    and the center two \"single arrow\" button to display the previous or\n",
    "    next iteration.  If the plots are on a grid, these arrows navigate\n",
    "    through the pages of plots which contain multiple iterations.\n",
    "\n",
    "-   **Hold Drawing** — If the *Hold\n",
    "    Drawing* button (rightmost, or 18th from left) is clicked to\n",
    "    activate it, when new plot axes are selected from the *Plot \\> Axes*\n",
    "    tab, the new data will be cached but not plotted. When the button is\n",
    "    clicked again (de-activated), it will automatically plot the data\n",
    "    that was last requested. This can be particularly useful when\n",
    "    changing the size of the **plotms** window.\n",
    "\n",
    "The *Tools* tab also contains *Tracker*\n",
    "tools including *Hover* and *Display.*  When *Hover* is selected and the\n",
    "mouse is moved over the plot, the pointer's position is displayed on the\n",
    "plot in (X, Y) format.  When *Display* is selected, the (X, Y) position\n",
    "is displayed in the text box under the *Display* checkbox.\n",
    "\n",
    "To record various tracked positions,\n",
    "enable *Display* then click on the plot to activate it.  As usual,\n",
    "moving the pointer displays the position in the small display text box. \n",
    "Pressing the *SPACE* bar will copy the displayed line into the larger\n",
    "white box below it. This can be repeated many times and a log of\n",
    "positions and values will be created. The content in the box can then be\n",
    "easily copied and pasted into any other application that is used for\n",
    "data analysis. The *Clear* button wipes out the content of the box for a\n",
    "fresh start into new scientific adventures.\n",
    "\n",
    "------------------------------------------------------------------------\n",
    "\n"
   ]
  },
  {
   "cell_type": "markdown",
   "metadata": {},
   "source": [
    "## 4. Miscellaneous Options: The Options Tab \n",
    "\n",
    "A few miscellaneous per-page plot\n",
    "options and GUI options are available in the *Options* tab, the last tab at the top of the\n",
    "**plotms** window.  \n",
    "\n",
    "\n"
   ]
  },
  {
   "cell_type": "markdown",
   "metadata": {},
   "source": [
    "### 4.1 Plotting on a Grid\n",
    "\n",
    "The layout\n",
    "of the page is set on the **plotms** *Options* tab. For multiple plots\n",
    "per page, set the grid layout, the number of rows and columns that\n",
    "determine the number of sub-plots.  When set, click \"Update\" to activate\n",
    "the grid changes.\n",
    "\n"
   ]
  },
  {
   "cell_type": "markdown",
   "metadata": {},
   "source": [
    "#### 4.1.1 Plotting Iterations on a Grid\n",
    "\n",
    " \n",
    "\n",
    "![43c10660168c9492aad849d60db2bf97d08411c0.png](43c10660168c9492aad849d60db2bf97d08411c0.png) \n",
    "\n",
    "|         |                                                                                                 |\n",
    "|:--------|-------------------------------------------------------------------------------------------------|\n",
    "| Type    | Figure 10                                                                                       |\n",
    "| ID      |                                                                                                 |\n",
    "| Caption | The plotms Options tab.  Here a 2x2 grid has been created with iteration on the 'antenna' axis. |\n",
    "\n",
    "If\n",
    "[iteration](#1-4-iteration--the-plot-page-tab) is enabled in the *Plot\n",
    "\\> Page* tab, the grid will be filled automatically with each iterated\n",
    "plot.  The *Plot \\> Page* tab is also where common axis scales and\n",
    "shared axes will be set; they are enabled for the plot in Figure 9. \n",
    "These axis options are only available for iterated plots in a grid.  \n",
    "\n",
    "\n",
    "The\n",
    "**plotms** task parameters used to create a grid with iteration include\n",
    "*gridrows and gridcols* (default is 1)*.* To create the plot shown in\n",
    "Figure 9, the **plotms** command would be:  \n",
    "\n",
    "\n",
    "plotms('ngc5921_ut.ms', xaxis='freq',\n",
    "iteraxis='antenna', gridrows=2, gridcols=2, xsharedaxis=True,\n",
    "xselfscale=True, ysharedaxis=True, yselfscale=True)\n",
    "\n"
   ]
  },
  {
   "cell_type": "markdown",
   "metadata": {},
   "source": [
    "#### 4.1.2 Plotting Multiple Data on a Grid\n",
    "\n",
    "We note here that plotting multiple\n",
    "datasets or axes on a grid is possible in **plotms** but covered\n",
    "separately in the [section\n",
    "below](#6-2-plotting-multiple-datasets-or-axes-on-a-grid), as this\n",
    "involves many settings in the GUI or multiple **plotms** task commands. \n",
    "Since the grid affects all of the plots, its settings are in the\n",
    "*Options* tab rather than the *Plot* tab.\n",
    "\n"
   ]
  },
  {
   "cell_type": "markdown",
   "metadata": {},
   "source": [
    "### 4.2 Tool Button Style \n",
    "\n",
    "The *Tool\n",
    "Button Style* drop-down menu determines the format of the tool buttons\n",
    "at the bottom of the **plotms** window. The options include *Icon Only,\n",
    "Text Only, Text Beside Icon, and Text Under* Icon.  In *Icon Only* mode\n",
    "(default), hovering the cursor over each icon will give a text\n",
    "description of the icon.\n",
    "\n",
    "To hide\n",
    "the bottom icons, see the description of the [View\n",
    "menu](#5-2-view-menu). The tools can also be accessed in the *Tools*\n",
    "tab.\n",
    "\n"
   ]
  },
  {
   "cell_type": "markdown",
   "metadata": {},
   "source": [
    "### 4.3 Log Events \n",
    "\n",
    "This drop-down menu shows a checklist of\n",
    "events and **plotms** functions so that you can customize how verbose **plotms** is in documenting its actions.\n",
    "\n"
   ]
  },
  {
   "cell_type": "markdown",
   "metadata": {},
   "source": [
    "### 4.4 Clear Regions and Annotations \n",
    "\n",
    "The *When changing plot axes, clear any\n",
    "existing regions or annotations* checkbox determines when regions and\n",
    "annotation are deleted from the plot. By default, this is\n",
    "enabled.\n",
    "\n"
   ]
  },
  {
   "cell_type": "markdown",
   "metadata": {},
   "source": [
    "### 4.5 Cached Images \n",
    "\n",
    "A useful option is the *Use*\n",
    "*fixed size for cached\n",
    "image* checkbox. It determines\n",
    "how large the dots in the panel are with respect to the screen\n",
    "resolution. The values influence how the data is redrawn on the panel.\n",
    "When *Screen\n",
    "resolution* is selected, the\n",
    "**plotms** window can be resized\n",
    "without redrawing on the canvas – a considerable speedup for large data\n",
    "sets. The penalty is that the dots of the data points are the size of a\n",
    "pixel on the screen, which may be very small for high resolution\n",
    "monitors.  By default, this\n",
    "feature is not enabled.  \n",
    "\n",
    "\n"
   ]
  },
  {
   "cell_type": "markdown",
   "metadata": {},
   "source": [
    "### 4.6 File Chooser History Limit \n",
    "\n",
    "This setting allows the user to limit\n",
    "how many remembered filepaths are displayed in file chooser dialogs\n",
    "produced by clicking *Browse* in the *Plot \\> Data* tab to select a\n",
    "MeasurementSet or calibration table and in the *Plot \\> Calibration* tab\n",
    "to select a calibration library.\n",
    "\n",
    "------------------------------------------------------------------------\n",
    "\n"
   ]
  },
  {
   "cell_type": "markdown",
   "metadata": {},
   "source": [
    "## 5. The plotms Menus \n",
    "\n"
   ]
  },
  {
   "cell_type": "markdown",
   "metadata": {},
   "source": [
    "### 5.1 File Menu: Quit \n",
    "\n",
    "The *File* menu in the top menu bar\n",
    "allows you to *Quit* **plotms**, or you can click the *X in the upper\n",
    "right corner of the window.*\n",
    "\n"
   ]
  },
  {
   "cell_type": "markdown",
   "metadata": {},
   "source": [
    "### 5.2 Export Menu: Saving Your Plot \n",
    "\n",
    "You can save a copy of a plot to file\n",
    "with the *Export* menu, which\n",
    "produces an *Export Plots* dialog box with many settings.\n",
    "\n",
    "-   **Filename**: Click the\n",
    "    *Browse* button for a GUI-based selection of the\n",
    "    directory and filename to which the plot will be saved, or click the\n",
    "    *Insert MS Name* button to minimize typing. You may also just type\n",
    "    in a file name. The file\n",
    "    format can be determined in this GUI by the suffix given to the\n",
    "    filename: .png, .jpg, .ps, .pdf, and txt. \n",
    "    If a file already exists with the\n",
    "    given filename, it will be overwritten without warning!\n",
    "-   **Format**: Alternatively, the file\n",
    "    format can be selected from the *Format* drop-down menu, with these options: \\[by\n",
    "    file extension\\], PNG, JPG, PS, PDF, and TEXT. For the first option, if your filename\n",
    "    is \"test.jpg\" the plot will be exported in JPG format.  For the\n",
    "    other formats, **plotms** will use the filename as given and **not**\n",
    "    add a suffix to indicate its\n",
    "    format. See below for an example of TEXT format; the header will\n",
    "    include the name of the visibility and other specified parameters\n",
    "    including selection, averaging, transformations, etc.  \n",
    "    \n",
    "-   **Verbose**: When a text export is\n",
    "    selected, the output can be verbose (include metadata).  When this\n",
    "    checkbox is unchecked, the text export will include x and y values\n",
    "    only.  This parameter is ignored for other formats.\n",
    "-   **Range**: When iteration is\n",
    "    chosen, producing multiple plots, you may select to export only the *Current\n",
    "    Page* or A*ll Pages***.**  Each saved plot will have the name of the\n",
    "    iteration appended to the given filename before the extension.  For\n",
    "    example, with filename \"ngc5921_ut.jpg\" and iteration on antenna,\n",
    "    the first plot will be named \"ngc5921_ut_Antenna1@VLA:N7.jpg\".  This\n",
    "    is so the exported plots can be identified without viewing them.  Be\n",
    "    warned that if you are plotting iterations on a grid, the filenames\n",
    "    will have all of the iterations on the page appended, which can lead\n",
    "    to a very long filename. Filenames exceeding 255 characters in\n",
    "    length will be automatically shortened upon export. One plotfile per\n",
    "    page is produced; multipage pdf exports are not currently\n",
    "    supported.  \n",
    "    \n",
    "-   **High Resolution:** Exporting to images in screen resolution\n",
    "    is currently not working, so plot exports are always high\n",
    "    resolution.  A notice is issued in the console/log.\n",
    "-   **DPI, Size**: Use the text boxes or up/down arrows to\n",
    "    set the output DPI or size (in pixels) of the exported plot.\n",
    "-   **Export**: When settings are\n",
    "    complete, click *Export* to create your plotfile.\n",
    "\n",
    "Note: The plot files produced by the PS and PDF\n",
    "options can be large and time-consuming to export. The JPG is the\n",
    "smallest.\n",
    "\n",
    "The TEXT\n",
    "format will not save an image but all of the data points themselves.\n",
    "This allows one to dump the current plot into a file that is used in\n",
    "other programs for further processing. \n",
    "\n",
    "**ALERT**: The exported TEXT file can be quite\n",
    "large and take some time to create.  Using averaging, selection, etc. is\n",
    "recommended to keep the file size manageable.  If a region is marked as\n",
    "described in section 3, only those points are exported to the text\n",
    "file.  \n",
    "\n",
    "\n",
    "The reported data is the same as when\n",
    "using the *L**ocate* button in **plotms**, with the following\n",
    "format (when *verbose=True*):\n",
    "\n",
    "\\"
   ]
  },
  {
   "cell_type": "markdown",
   "metadata": {},
   "source": [
    "## vis: ngc5921_ut.ms  \n",
    "\\"
   ]
  },
  {
   "cell_type": "markdown",
   "metadata": {},
   "source": [
    "## scan: 4  \n",
    "\\"
   ]
  },
  {
   "cell_type": "markdown",
   "metadata": {},
   "source": [
    "## channel average: 63  \n",
    "\\"
   ]
  },
  {
   "cell_type": "markdown",
   "metadata": {},
   "source": [
    "## time average: None  \n",
    "\\"
   ]
  },
  {
   "cell_type": "markdown",
   "metadata": {},
   "source": [
    "## From plot 0  \n",
    "\\"
   ]
  },
  {
   "cell_type": "markdown",
   "metadata": {},
   "source": [
    "## x y chan scan field ant1 ant2 ant1name ant2name time freq spw corr\n",
    "obs  \n",
    "\\"
   ]
  },
  {
   "cell_type": "markdown",
   "metadata": {},
   "source": [
    "## Time Amp None None None None None None None MJD(seconds) GHz None\n",
    "None None  \n",
    "4304483429.999 62.7219 0 4 1 1 1 2@VLA:W1 2@VLA:W1 4304483429.999\n",
    "1.413332233 0 RR 0  \n",
    "4304483429.999 59.0717 0 4 1 1 1 2@VLA:W1 2@VLA:W1 4304483429.999\n",
    "1.413332233 0 LL 0  \n",
    "4304483429.999 59.0252 0 4 1 27 27 28@VLA:W7 28@VLA:W7 4304483429.999\n",
    "1.413332233 0 RR 0  \n",
    "4304483429.999 60.8603 0 4 1 27 27 28@VLA:W7 28@VLA:W7 4304483429.999\n",
    "1.413332233 0 LL 0  \n",
    "4304483429.999 57.4048 0 4 1 7 7 8@VLA:W8 8@VLA:W8 4304483429.999\n",
    "1.413332233 0 RR 0  \n",
    "etc.\n",
    "\n",
    "where x and y are the two plotted axes\n",
    "and the other columns contain additional information such as the\n",
    "baselines and frequencies, with an additional line for units.  The\n",
    "header for the file includes the name of the visibility and other\n",
    "parameters such as selection, averaging, etc.  \n",
    "\n",
    "\n",
    "The **plotms** task parameter used to export\n",
    "plots is *plotfile.*  Unlike the Export Plots dialog box in the GUI,\n",
    "**plotms** will issue an error if this file exists unless\n",
    "*overwrite=True*.  Its subparameters include:\n",
    "\n",
    "-    *expformat* ('jpg', 'png', 'pdf', 'ps',\n",
    "    'txt') - select the format if no extension is included in the\n",
    "    *plotfile*. If there is no *plotfile* extension and no *expformat*\n",
    "    set, the plot will be exported as a PNG.  \n",
    "    \n",
    "-   verbose (True/False, default is True) -\n",
    "    include metadata in text export; ignored for other\n",
    "    formats.\n",
    "-   *exprange *('current', 'all'; defaults to\n",
    "    current)  \n",
    "    \n",
    "-   *highres* (True/False, default is\n",
    "    False)  \n",
    "    \n",
    "-   *dpi*\n",
    "-   *width* (in pixels)\n",
    "-   *height* (in pixels)\n",
    "-   *overwrite* (True/False,\n",
    "    default is\n",
    "    False)\n",
    "\n"
   ]
  },
  {
   "cell_type": "markdown",
   "metadata": {},
   "source": [
    "### 5.3 Summary Menu: Information About Your Dataset \n",
    "\n",
    "Information about the MeasurementSet\n",
    "can be obtained from within **plotms** by clicking on the *Summary* menu in the top menu bar. If *All* is chosen\n",
    "from the pull-down menu next to *Type*, listobs-style output about scans, correlator\n",
    "configurations, and antennae will be written to the console or log. \n",
    "Other options for a subset of the data include *Where, What, How, Main,\n",
    "Tables, Antenna, Feed, Field, Observation, History, Polarization,\n",
    "Source, Spectral Window, Spectral Window and Polarization, SysCal*, and\n",
    "*Weather*.\n",
    "\n",
    "For calibration tables, options in the\n",
    "*Summary* menu include *All, Where, What, How, Main, Tables, Antenna,\n",
    "Field, Observation, History,* and *Spectral Window*.\n",
    "\n",
    "For more detail, click on the\n",
    "*Verbose* checkbox.\n",
    "\n"
   ]
  },
  {
   "cell_type": "markdown",
   "metadata": {},
   "source": [
    "### 5.4 View Menu: Hide or Display Tool Icons \n",
    "\n",
    "This menu controls the display of tool\n",
    "icons.  Use the *View \\> Toolbars* menu to de-select and hide the\n",
    "*Tools, Iteration* (green arrows), or *Display* (Hold Drawing) icons. \n",
    "By default these icons are all selected and displayed at the bottom of\n",
    "the **plotms** window.\n",
    "\n"
   ]
  },
  {
   "cell_type": "markdown",
   "metadata": {},
   "source": [
    "### 5.4 Help Menu: About **plotms** \n",
    "\n",
    "This menu's *About* option describes\n",
    "**plotms** and the versions of CASA, Qt, and Qwt it uses, along with\n",
    "links.  Qt is the software framework that **plotms** uses for its GUI,\n",
    "and Qwt is a library that provides plotting functionality on top of the\n",
    "Qt framework.\n",
    "\n",
    "Click *About Qt*  for more detail about\n",
    "this software package and its licensing.\n",
    "\n",
    "------------------------------------------------------------------------\n",
    "\n"
   ]
  },
  {
   "cell_type": "markdown",
   "metadata": {},
   "source": [
    "## 6. Plotting Multiple Data\n",
    "\n"
   ]
  },
  {
   "cell_type": "markdown",
   "metadata": {},
   "source": [
    "### 6.1 Overplotting Multiple Datasets or Axes on the Same Plot\n",
    "\n",
    "It is possible to overplot two datasets\n",
    "on the same plot, or the same dataset with different y-axes in each\n",
    "plot.  To do this, set up the first plot as usual.  Then press the *Add\n",
    "Plot* button at the bottom left of the **plotms** window. This will\n",
    "bring up an additional data input panel in the *Plot \\> Data* tab where\n",
    "you can specify the plot parameters as you did for the first one, which\n",
    "is automatically minimized.  Use the slider to scroll vertically through\n",
    "the panels.  Use right-click options or the *Minimize, Maximize*, or\n",
    "*Close* buttons to keep a better overview on the individual\n",
    "datasets.\n",
    "\n",
    "When overplotting, you may want to set\n",
    "different custom colors for each dataset in its *Display* tab.  If you\n",
    "are plotting different axes or the axes ranges are a significantly\n",
    "different range of values, you may want to set different axes locations\n",
    "for each plot in the *Axes* tab.  When you are done, click the *Plot*\n",
    "button to see the overplot.\n",
    "\n",
    "Use the *Close* button in each data\n",
    "panel to close the panel and remove that plot.\n",
    "\n",
    "In the **plotms** task interface, you can overplot by invoking\n",
    "**plotms** more than once with\n",
    "clearplots=False. Each **plotms** command corresponds to a plot to go on top of\n",
    "previous ones, and each must have its own *plotindex* (0-based, default\n",
    "is 0).  Otherwise, with the same plotindex, the second plot will\n",
    "overwrite the first.  In the following example, we are plotting Scan vs.\n",
    "Time for MeasurementSet test1.ms with plotindex 0, and Field vs. Time\n",
    "for MeasurementSet test2.ms on the same  plot with plotindex 1.  The\n",
    "test2 data is a different color and its yaxis is on the right.\n",
    "\n",
    "Note that since the *plotindex* is an\n",
    "index into subplots, this parameter must be assigned in consecutive\n",
    "order.  If a *plotindex* is skipped, plotms will adjust the index number\n",
    "and inform the user of the corrected *plotindex* value.  \n",
    "\n",
    "\n",
    "plotms(vis='test1.ms',\n",
    "yaxis='scan')  \n",
    "plotms(vis='test2.ms', yaxis='field', plotindex=1, clearplots=False,\n",
    "customsymbol=True, symbolcolor='00FF00', yaxislocation='right')\n",
    "\n"
   ]
  },
  {
   "cell_type": "markdown",
   "metadata": {},
   "source": [
    "### 6.2 Plotting Multiple Datasets or Axes on a Grid \n",
    "\n",
    "**plotms** allows you to plot more than\n",
    "one dataset or axes on the same page by [specifying a grid\n",
    "size](#4-1-plotting-on-a-grid) then a grid location for each plot as\n",
    "described below. Here is an example of two plots with different\n",
    "datasets:  \n",
    "\n",
    "\n",
    "![459e57c04e9d444fff7936b9bef64eb0ac3c652d.png](459e57c04e9d444fff7936b9bef64eb0ac3c652d.png)\n",
    "\n",
    "|         |                                                                                                                                                                                                               |\n",
    "|:--------|---------------------------------------------------------------------------------------------------------------------------------------------------------------------------------------------------------------|\n",
    "| Type    | Figure 11                                                                                                                                                                                                     |\n",
    "| ID      |                                                                                                                                                                                                               |\n",
    "| Caption | Plotting multiple data sets on a 2x1 grid.  Here, the MS is plotted in grid location (1,1).  Then the *Add Plot* button was used to select its bandpass calibration table and plot it in grid location (2,1). |\n",
    "\n",
    "The process is similar to the one\n",
    "above, except that you specify the grid  and each plot's location:  \n",
    "\n",
    "\n",
    "1.  Set up your first plot as described\n",
    "    above.\n",
    "2.  Use the *Options* tab to set up a\n",
    "    grid by incrementing the number of rows and/or columns.  By default\n",
    "    the plot you set up in step 1 will be in row 0, column 0.\n",
    "3.  Use the *Add Plot* button to set up\n",
    "    the second plot's parameters. Pay particular attention to the new\n",
    "    dataset's *Page* tab, where you can set the *Grid Location* (row and\n",
    "    column number) of the new plot.  This section appears only when a\n",
    "    grid is set up.\n",
    "4.  Unlike iteration, you cannot share\n",
    "    axes among the plots.\n",
    "5.  Add as many plots as you desire to\n",
    "    fill your grid, then click *Plot.*\n",
    "\n",
    "Several **plotms** task parameters are\n",
    "used to create a grid and specify a plot location.\n",
    "\n",
    "-   gridcols and gridrows define the number of plots on the\n",
    "    screen.\n",
    "-   colindex and rowindex (0-based) set the\n",
    "    location of an individual plot\n",
    "-   plotindex (0-based) must be\n",
    "    incremented by 1 for each **plotms** call\n",
    "-   *clearplots* is set to False to\n",
    "    keep previous plots\n",
    "\n",
    "Here is an example of multiple\n",
    "**plotms** calls to set up two\n",
    "plots on a grid and export the plot page; note the defaults on the first\n",
    "call are *rowindex=0, colindex=0, plotindex=0* so just set up the grid. \n",
    "On each subsequent **plotms** call set *clearplots=False* and increment\n",
    "the *plotindex* by 1*. * To save the gridded plot, set a *plotfile* on\n",
    "the final plot.  \n",
    "\n",
    "\n",
    "plotms(vis='test1.ms',\n",
    "yaxis='field', gridrows=2, gridcols=1)  \n",
    "plotms(vis='test2.ms', yaxis='field', gridrows=2, gridcols=1,\n",
    "rowindex=1, colindex=0, plotindex=1, clearplots=False,\n",
    "plotfile='fields.jpg')\n",
    "\n",
    "------------------------------------------------------------------------\n",
    "\n"
   ]
  },
  {
   "cell_type": "markdown",
   "metadata": {},
   "source": [
    "## 7. Interactive Flagging\n",
    "\n",
    "Interactive flagging, on the principle\n",
    "of “see it — flag it”, is possible on the X-Y display of the data\n",
    "plotted by **plotms**. Use the\n",
    "cursor to mark one or more regions, and then flag, unflag, or list\n",
    "([*Locate*](#3--interactive-tools--the-tools-tab--annotate-tab--and-tool-icons))\n",
    "the data that falls in these regions of the display.\n",
    "\n",
    "Do not attempt to flag data while another\n",
    "task is accessing the same data set.\n",
    "\n",
    "For plotting, **plotms** opens the\n",
    "MeasurementSet read-only, so there should be no problem if another task\n",
    "accesses the same dataset, unless the other task locks the file.  When\n",
    "this happens, you can wait for the lock to be released, cancel\n",
    "cache-loading in the **plotms** dialog box, type *go clearstat* at the\n",
    "prompt, or exit **plotms.** Do not attempt to flag data in **plotms**\n",
    "while another task is accessing the same data set, as in this case\n",
    "**plotms** must open the MeasurementSet with a file lock for\n",
    "writing.\n",
    "\n",
    "Using the row of icons at the bottom of\n",
    "the **plotms**\n",
    "window, click on the\n",
    "*Mark Regions* button, then mark a region by left-clicking\n",
    "and dragging the mouse.  Each click and drag will mark an additional\n",
    "region. You can remove all of your marked regions by clicking on the\n",
    "*Clear Regions* button. Once regions are marked, you can then click\n",
    "on one of the other buttons to take action:\n",
    "\n",
    "1.  Flag — flag all of the points in the\n",
    "    region(s),\n",
    "2.  Unflag — unflag flagged points in the\n",
    "    region(s),\n",
    "3.  Locate — list information (X and Y value, scan,\n",
    "    field, baseline, frequency, etc.) about the points in the region(s)\n",
    "    to the command line or log (Warning: this could be a long\n",
    "    list!).\n",
    "\n",
    "Note that if you mark a region with\n",
    "flagged and unflagged values and *Flag* it, using *Unflag* will not\n",
    "return the data to its previous state but will unflag **all** of the\n",
    "data in the marked region.\n",
    "\n",
    "The following figure shows an example of marking regions and then\n",
    "clicking the *Flag* button. Whenever you click on a button, that\n",
    "action occurs without requiring an explicit disk-write. If you quit\n",
    "**plotms** and re-enter, you\n",
    "will see your previous edits because your flag changes were written to\n",
    "the MeasurementSet on disk.\n",
    "\n",
    "------------------------------------------------------------------------\n",
    "\n",
    "![](552927ba046380032eabbec06584e6ff325f72fa.png)![](a8a4487709d848f87a6f179713f2e352e6e9629e.png)\n",
    "\n",
    "|         |                                                                                                                                                                                                                                                                                                          |\n",
    "|:--------|----------------------------------------------------------------------------------------------------------------------------------------------------------------------------------------------------------------------------------------------------------------------------------------------------------|\n",
    "| Type    | Figure 12                                                                                                                                                                                                                                                                                                |\n",
    "| ID      |                                                                                                                                                                                                                                                                                                          |\n",
    "| Caption | Plot of amplitude versus time, before (top) and after (bottom) flagging two marked regions. Note that flagged data is not displayed so these regions are hidden after flagging.  To unflag these regions, mark the two same regions and click the *Unflag* button. |\n",
    "\n",
    " \n",
    "\n",
    "------------------------------------------------------------------------\n",
    "\n",
    "New interactive flagging is available in CASA 5.5 and later. You have a\n",
    "new button **Flag All**, which is located next to the **Unflag **button,\n",
    "and can turn on and off \"Flag all/Unflag all\" mode by clicking it.\n",
    "Instead of flag/unflag operation on selected region, the \"Flag\n",
    "all/Unflag all\" mode allows you to flag/unflag whole data associated\n",
    "with the grid. The usage of this mode is as follows:\n",
    "\n",
    "1.  Press the **Flag All** button -- You now enter the \"Flag all/Unflag\n",
    "    all\" mode. Background color of completely flagged grids will become\n",
    "    yellow.  \n",
    "    ![3b74be06ff6033999651a736383d8c89a40d4764.png](3b74be06ff6033999651a736383d8c89a40d4764.png)  \n",
    "2.  Select grids to flag/unflag -- You can click each grid to select for\n",
    "    flag/unflag when the mode is active. Unflag is selected for the\n",
    "    grids where all data are already flagged, otherwise flag is\n",
    "    selected. The background color of the grids selected for flag will\n",
    "    change to yellow while the grids selected for unflag will change to\n",
    "    the default color.  \n",
    "      \n",
    "    ![d41e5bbb0ae5ed277f736d63ba4cc3f3aee5d0e5.png](d41e5bbb0ae5ed277f736d63ba4cc3f3aee5d0e5.png)  \n",
    "3.  Press the **Flag All** button again -- You now leave the \"Flag\n",
    "    all/Unflag all\" mode. At this moment, flag/unflag operations are\n",
    "    applied to the data of the currently displayed grids selected in the\n",
    "    previous step, and each grid is updated accordingly.   \n",
    "    ![b917ed2b75f2a0f8cf8451329a2360ba613c9dda.png](b917ed2b75f2a0f8cf8451329a2360ba613c9dda.png)\n",
    "\n",
    "**WARNING:**  On macOS, the \"Flag\n",
    "all/Unflag all\" mode doesn't work as expected!\n",
    "\n",
    "On macOS, background color of grids\n",
    "doesn't yet change properly although flag/unflag operations work fine.\n",
    "It is not recommended to use this mode on macOS.\n",
    "\n",
    "**WARNING:**  You cannot \"undo\" flagging\n",
    "to a previous state!\n",
    "\n",
    "**plotms** does not automatically\n",
    "create flag backups in the \\<msname\\>.flagversions file. It is thus recommended to save the\n",
    "initial flags with the flagmanager task before starting **plotms** interactive flagging. Important intermediate\n",
    "flagging stages may also be saved during **plotms** flagging in the same fashion.  Flagging can\n",
    "also be performed using the interactive msview task or scripted with the\n",
    "flagdata or flagcmd tasks.  \n",
    "\n",
    "\n",
    "Flags can also be extended with options\n",
    "in the [*Flag*\n",
    "tab;](#2--flag-extensions--the-flag-tab) see this section for a more detailed\n",
    "description of these options. Flag extension enables the user to plot a\n",
    "subset of the data and extend the flagging to a wider set. In this\n",
    "release, the only functional extensions are over correlation and\n",
    "channel.\n",
    "\n",
    "WARNING:  Use of flag extensions may\n",
    "lead to deletion of much more data than desired. Be careful!\n",
    "\n",
    "WARNING:  Interactive flagging doesn't\n",
    "support a collaboration with **Iteration** buttons! \n",
    "\n",
    "The flag/unflag operations are applied\n",
    "to currently displayed grids only, although you can move to other\n",
    "iterations in the \"Flag all/Unflag all\" mode.\n",
    "\n",
    "------------------------------------------------------------------------\n",
    "\n"
   ]
  },
  {
   "cell_type": "markdown",
   "metadata": {},
   "source": [
    "## 8. Scripting With No GUI\n",
    "\n",
    "When scripting to produce exported\n",
    "plotfiles, you may want to set the **plotms** parameter *showgui=False*\n",
    "to suppress the GUI and pop-up dialog boxes.  The default is\n",
    "True.\n",
    "\n",
    "------------------------------------------------------------------------\n",
    "\n"
   ]
  },
  {
   "cell_type": "markdown",
   "metadata": {},
   "source": [
    "## 9. Exiting **plotms** \n",
    "\n",
    "To exit the **plotms** GUI, select *Quit*\n",
    "from the *File* menu at the top of the\n",
    "**plotms** window. You can also\n",
    "dismiss the window by killing it with the “X” on the frame.\n",
    "\n",
    "Alternatively, you can just leave it\n",
    "alone, and **plotms** will keep\n",
    "running in the background and update with each subsequent **plotms**\n",
    "call. If the data file changes in the background while you are using\n",
    "other tasks, you can force reloading the data via the *Reload* checkbox\n",
    "next to the *Plot* button, or press SHIFT while clicking on *Plot* for\n",
    "the same purpose.\n",
    "\n",
    "If started in a casa session,\n",
    "**plotms** will automatically quit when the session is ended."
   ]
  }
 ],
 "metadata": {},
 "nbformat": 4,
 "nbformat_minor": 5
}
