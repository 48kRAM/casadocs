{
 "cells": [
  {
   "cell_type": "markdown",
   "metadata": {},
   "source": [
    "# Advanced: flagdata\n",
    "\n",
    "Advanced Information on flagdata. C++ code infrastructure...\n",
    "\n",
    "--CASA Developer--\n",
    "\n",
    "For advanced information about some\n",
    "parts of flagdata please visit:\n",
    "\n",
    "[http://www.aoc.nrao.edu/\\~rurvashi/FlaggerDocs/FlaggerDocs.html](http://www.aoc.nrao.edu/~rurvashi/FlaggerDocs/FlaggerDocs.html)\n",
    "\n",
    "In progress...\n",
    "\n",
    "&nbsp;\n",
    "\n"
   ]
  },
  {
   "cell_type": "markdown",
   "metadata": {},
   "source": [
    "### 1.1 C++ Infrastructure\n",
    "\n",
    "&nbsp;\n",
    "\n"
   ]
  },
  {
   "cell_type": "markdown",
   "metadata": {},
   "source": [
    "#### Main Classes\n",
    "\n",
    "1.  AgentFlagger: The top-level AgentFlagger class that connects all of\n",
    "    the following together, and defines the C++ user-interface for the\n",
    "    agentflagger. This is the class used by the tool layer.\n",
    "\n",
    "2.  FlagDataHandler : A top level class defining the data handling\n",
    "    interface for the flagging module.\n",
    "\n",
    "3.  FlagMSHandler: - TBD\n",
    "\n",
    "4.  FlagCalTableHandler: - TBD\n",
    "\n",
    "5.  FlagAgentBase: base class that defines the behaviour of all flagging\n",
    "    agents and contains agent-level data-selection, etc. The main\n",
    "    functions to be implemented by derived classes are\n",
    "    setAgentParameters(), preProcessBuffer(), computeAntennaPairFlags()\n",
    "    or computeRowFlags(), getReport() .\n",
    "\n",
    "    List of available Flag Agents :\n",
    "\n",
    "    1.  FlagAgentManual : Flag/Unflag based on data-selections. The only\n",
    "        processing done by this agent is to set the flags for all data\n",
    "        it sees to True if the operation is to flag, and to False to\n",
    "        unflag. A boolean parameter apply determines whether to flag\n",
    "        (apply=True) or unflag (apply=False). By default it is set to\n",
    "        True.\n",
    "\n",
    "    2.  FlagAgentQuack : Flag time-ranges at the beginning and/or end of\n",
    "        scans. Uses the YYY iteration-mode.\n",
    "\n",
    "    3.  FlagAgentElevation : Flag time-ranges based on source elevation.\n",
    "        Uses the YYY iteration-mode.\n",
    "\n",
    "    4.  FlagAgentShadow : For each timestep, flag antennas that are\n",
    "        shadowed by any other antenna. Antennas to be flagged are chosen\n",
    "        and marked in the preProcess() stage. Rows are flagged in\n",
    "        computeRow(), and this agent uses the YYY iteration-mode.\n",
    "\n",
    "    5.  FlagAgentExtension : Read and extend flags along specified axes,\n",
    "        within the current chunk. Uses the YYY iteration-mode.\n",
    "\n",
    "    6.  FlagAgentClip : Flag based on a clip threshold and\n",
    "        visExpression. Find and flag NaNs and Infs. Uses the YYY\n",
    "        iteration-mode.\n",
    "\n",
    "    7.  FlagAgentTimeFreqCrop : The TFCrop algorithm is run per\n",
    "        baseline, via FlagAgentTimeFreqCrop::computeAntennaPairFlags()\n",
    "\n",
    "    8.  FlagAgentRFlag : The RFlag algorithm. Implements multiple passes\n",
    "        through each chunk via the passIntermediate() and passFinal()\n",
    "        mechanism.\n",
    "\n",
    "    9.  FlagAgentSummary : Flag counts are accumulated in computeRow()\n",
    "        and packaged into a Record in getResult().\n",
    "\n",
    "    10. FlagAgentDisplay : Visibilities are read and displayed from\n",
    "        computeAntennaPair(). Navigation-buttons control the order in\n",
    "        which the framework iterates through baselines.\n",
    "\n",
    "    11. FlagAgentAntennaIntegrations - TBD\n",
    "\n",
    "    &nbsp;\n",
    "\n",
    "6.  The FlagReport class allows each flag agent to build and return\n",
    "    information (summary counts, reports as plots, etc) to the user\n",
    "    (and/or) to the display agent for end-of-MS reports.\n",
    "\n"
   ]
  },
  {
   "cell_type": "markdown",
   "metadata": {},
   "source": [
    "#### &nbsp;Control Flow\n",
    "\n",
    "![55045d458766e4fad0872ad6a034931be98c7555.png](55045d458766e4fad0872ad6a034931be98c7555.png)\n",
    "\n"
   ]
  },
  {
   "cell_type": "markdown",
   "metadata": {},
   "source": [
    "#### Performance and Optimizations\n",
    "\n",
    "There are several performance-optimization choices that can be made.\n",
    "Some of these are under the users control, and some have automated\n",
    "heuristics.\n",
    "\n"
   ]
  },
  {
   "cell_type": "markdown",
   "metadata": {},
   "source": [
    "##### List mode\n",
    "\n",
    "It helps to combine multiple flag commands into a single run ONLY if\n",
    "most of the commands require the same data to be read. The goal is to\n",
    "read data once, apply multiple flag commands, and write flags once.\n",
    "\n",
    "1.  Manual-flag commands read only meta-data.\n",
    "2.  Shadow, elevation read meta-data + processing to calculate uvw,\n",
    "    azel.\n",
    "3.  Clip reads visibilities.\n",
    "4.  tfcrop and rflag read visibilities and flags\n",
    "5.  Extend, summary read flags\n",
    "\n"
   ]
  },
  {
   "cell_type": "markdown",
   "metadata": {},
   "source": [
    "##### Data Pre-selection\n",
    "\n",
    "If only a subset of the Measurement Set is to be traversed for\n",
    "flag-calculation, it helps to pre-select and iterate through only that\n",
    "section of the MS. When flagdata is run in list mode, there is a second\n",
    "level of selection per agent (command) that ensures that each agent sees\n",
    "only its correct subset of the data.\n",
    "\n"
   ]
  },
  {
   "cell_type": "markdown",
   "metadata": {},
   "source": [
    "##### Asynchronous I/O\n",
    "\n",
    "Asynchronous I/O is a data-access optimization that applies when\n",
    "iterating through the dataset in chunks. It uses multi-threading to\n",
    "pre-read the next chunk of data from disk while the current chunk is\n",
    "being processed.\n",
    "\n",
    "The user has the option of enabling asynchronous I/O by setting the\n",
    "following variables in the **.casarc** file.\n",
    "\n",
    "    VisibilityIterator.async.enabled: true     "
   ]
  },
  {
   "cell_type": "markdown",
   "metadata": {},
   "source": [
    "## if present and set to false then async i/o will work\n",
    "    VisibilityIterator.async.nBuffers: 2       "
   ]
  },
  {
   "cell_type": "markdown",
   "metadata": {},
   "source": [
    "## the default value is two\n",
    "    VisibilityIterator.async.logFile: stderr   "
   ]
  },
  {
   "cell_type": "markdown",
   "metadata": {},
   "source": [
    "## Send async i/o debug log messages to this file\n",
    "                                               "
   ]
  },
  {
   "cell_type": "markdown",
   "metadata": {},
   "source": [
    "## if not present or file is invalid then no logging occurs\n",
    "    VisibilityIterator.async.logLevel: 2       "
   ]
  },
  {
   "cell_type": "markdown",
   "metadata": {},
   "source": [
    "## Level of log messages to output (two is good, too); defaults to 1\n",
    "\n",
    "    FlagDataHandler.asyncio: true              "
   ]
  },
  {
   "cell_type": "markdown",
   "metadata": {},
   "source": [
    "## True : enable async-IO for the flagger (clip,tfcrop,rflag)\n",
    "    FlagDataHandler.slurp: true                "
   ]
  },
  {
   "cell_type": "markdown",
   "metadata": {},
   "source": [
    "## True : enable ??\n",
    "    FlagAgent.background: true                 "
   ]
  },
  {
   "cell_type": "markdown",
   "metadata": {},
   "source": [
    "## True : enable threading mode\n",
    "\n",
    "Asynchronous I/O helps only when data I/O dominates the total cost. For\n",
    "our current list of agents/algorithms, this helps only for agents that\n",
    "read visibilities. Therefore asynchronous I/O is activated only if clip\n",
    "or tfcrop or rflag are present in the flag-command list.\n",
    "\n",
    "&nbsp;\n",
    "\n",
    "&nbsp;"
   ]
  }
 ],
 "metadata": {},
 "nbformat": 4,
 "nbformat_minor": 5
}
