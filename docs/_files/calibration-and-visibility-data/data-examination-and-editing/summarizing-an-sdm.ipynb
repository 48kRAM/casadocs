{
 "cells": [
  {
   "cell_type": "markdown",
   "metadata": {},
   "source": [
    "# SDM Summary\n",
    "\n",
    "About listsdm\n",
    "\n",
    "The task **listsdm** summarizes the content of archival data in the\n",
    "format that is used by ALMA and the VLA for visibility data transport\n",
    "and archiving (the [Science Data\n",
    "Model](https://casa.nrao.edu/casadocs-devel/stable/casa-fundamentals/the-science-data-model),\n",
    "known as ASDM for ALMA). The output in the casalog is very similar to\n",
    "that of **listobs**, which reads the metadata after conversion to a\n",
    "MeasurementSet (see next section). **listsdm** therefore does not\n",
    "require the SDM to be filled into an MS. The output of **listsdm** is\n",
    "also returned as a dictionary."
   ]
  }
 ],
 "metadata": {},
 "nbformat": 4,
 "nbformat_minor": 5
}
