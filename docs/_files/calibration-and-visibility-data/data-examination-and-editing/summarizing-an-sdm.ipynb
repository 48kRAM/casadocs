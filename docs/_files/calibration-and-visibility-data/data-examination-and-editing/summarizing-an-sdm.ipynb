{
 "cells": [
  {
   "cell_type": "markdown",
   "metadata": {},
   "source": [
    "# SDM Summary\n",
    "\n",
    "About listsdm\n",
    "\n",
    "The task **listsdm**&nbsp;summarizes the content of archival data in the\n",
    "format that is used by ALMA and the VLA for visibility data transport\n",
    "and archiving (the&nbsp;[Science Data\n",
    "Model](https://casa.nrao.edu/casadocs-devel/stable/casa-fundamentals/the-science-data-model),\n",
    "known as ASDM for ALMA). The output in the casalog is very similar to\n",
    "that of&nbsp;**listobs**, which&nbsp;reads the metadata after conversion\n",
    "to&nbsp;a MeasurementSet (see next section). **listsdm** therefore does\n",
    "not require the SDM to be filled into an MS. The output of **listsdm**\n",
    "is also returned as a dictionary."
   ]
  }
 ],
 "metadata": {},
 "nbformat": 4,
 "nbformat_minor": 5
}
