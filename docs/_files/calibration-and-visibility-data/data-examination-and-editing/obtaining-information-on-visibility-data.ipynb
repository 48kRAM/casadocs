{
 "cells": [
  {
   "cell_type": "markdown",
   "metadata": {},
   "source": [
    "# Visibility Information \n",
    "\n",
    "\n",
    "\n",
    "\n",
    "\n",
    "Summary of tasks for handling MeasurementSet data and metadata\n",
    "\n",
    "\n",
    "\n",
    "\n",
    "\n",
    "\n",
    "\n",
    "\n",
    "There are tasks provided for basic listing and manipulation of MeasurementSet data and metadata. These includ the following tasks, which are described in more detail in the subsequent pages.\n",
    "\n",
    "-   **listsdm** --- summarize the contents of an SDM\n",
    "-   **listobs** --- summarize the contents of a MS \n",
    "-   **listpartition** --- list the partition structure of a Multi-MS\n",
    "-   **vishead** --- list and change the metadata contents of a MS\n",
    "-   **visstat** --- statistics on data in a MS \n",
    "-   **plotants** --- plotting antenna locations\n",
    "-   **plotms** --- plotting uv-coverages\n",
    "-   **plotweather** --- VLA weather statistics, calculation of opacities\n",
    "-   **browsetable** --- examining an MS"
   ]
  }
 ],
 "metadata": {},
 "nbformat": 4,
 "nbformat_minor": 4
}
