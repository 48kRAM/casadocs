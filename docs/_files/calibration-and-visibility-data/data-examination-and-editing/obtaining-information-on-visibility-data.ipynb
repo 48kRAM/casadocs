{
 "cells": [
  {
   "cell_type": "markdown",
   "metadata": {},
   "source": [
    "# Visibility Information\n",
    "\n",
    "Summary of tasks for handling MeasurementSet data and metadata\n",
    "\n",
    "There are tasks provided for basic listing and manipulation of\n",
    "MeasurementSet data and metadata. These includ the following tasks,\n",
    "which are described in more detail in the subsequent pages.\n",
    "\n",
    "-   **listsdm**&nbsp;&mdash; summarize the contents of an SDM\n",
    "-   **listobs** &mdash; summarize the contents of a MS&nbsp;\n",
    "-   **listpartition** &mdash; list the partition structure of a Multi-MS\n",
    "-   **vishead** &mdash; list and change the metadata contents of a MS\n",
    "-   **visstat** &mdash; statistics on data in a MS&nbsp;\n",
    "-   **plotants**&nbsp;&mdash; plotting antenna locations\n",
    "-   **plotms** &mdash; plotting uv-coverages\n",
    "-   **plotweather** &mdash; VLA weather statistics, calculation of\n",
    "    opacities\n",
    "-   **browsetable**&nbsp;&mdash; examining an MS"
   ]
  }
 ],
 "metadata": {},
 "nbformat": 4,
 "nbformat_minor": 5
}
