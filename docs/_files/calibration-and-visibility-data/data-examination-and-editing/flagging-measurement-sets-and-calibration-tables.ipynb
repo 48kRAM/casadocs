{
 "cells": [
  {
   "cell_type": "markdown",
   "metadata": {},
   "source": [
    "# Flag using flagdata \n",
    "\n",
    "\n",
    "\n",
    "\n",
    "\n",
    "Flagging MeasurementSets and calibration tables\n",
    "\n",
    "\n",
    "\n",
    "\n",
    "\n",
    "\n",
    "\n",
    "\n",
    "**flagdata** is the main flagging task in CASA. **flagdata** can flag MeasurementSets and calibration tables with an elaborate selection syntax. It also contains auto-flagging routines.\n",
    "\n",
    " \n",
    "\n",
    "Other tasks related to flagging are **flagmanager** to save the existing flags before adding more, and  **plotms** and **msview** for interactive flagging. In addition, optionally, data for which calibration solutions have failed will be flagged when these solutions are applied.\n",
    "\n",
    " \n",
    "\n",
    "The inputs to **flagdata** are:\n",
    "\n",
    "```\n",
    "#In CASA\n",
    "CASA<1>: inp flagdata\n"
   ]
  },
  {
   "cell_type": "markdown",
   "metadata": {},
   "source": [
    "## flagdata :: All-purpose flagging task based on data-selections and flagging modes/algorithms.\n",
    "vis              = ''          # Name of MS file or calibration table to flag\n",
    "mode             = 'manual'    # Flagging mode\n",
    "     field       = ''          # Field names or field index numbers: '' ==> all, field='0~2,3C286'\n",
    "     spw         = ''          # Spectral-window/frequency/channel: '' ==> all, spw='0:17~19'\n",
    "     antenna     = ''          # Antenna/baselines: '' ==> all, antenna ='3,VA04'\n",
    "     timerange   = ''          # Time range: '' ==> all,timerange='09:14:0~09:54:0'\n",
    "     correlation = ''          # Correlation: '' ==> all, correlation='XX,YY'\n",
    "     scan        = ''          # Scan numbers: '' ==> all\n",
    "     intent      = ''          # Observation intent: '' ==> all, intent='CAL*POINT*'\n",
    "     array       = ''          # (Sub)array numbers: '' ==> all\n",
    "     uvrange     = ''          # UV range: '' ==> all; uvrange ='0~100klambda', default units=meters\n",
    "     observation = ''          # Observation ID: '' ==> all\n",
    "     feed        = ''          # Multi-feed numbers: Not yet implemented\n",
    "     autocorr    = False       # Flag auto-correlations\n",
    "\n",
    "action           = 'apply'     # Action to perform in MS and/or in inpfile (none/apply/calculate)\n",
    "     display     = ''          # Display data and/or end-of-MS reports at runtime (data/report/both).\n",
    "     flagbackup  = True        # Back up the state of flags before the run\n",
    "\n",
    "savepars         = False       # Save the current parameters to the FLAG_CMD table or to a file\n",
    "```\n",
    "\n",
    "vis can take a MeasurementSet or calibration table. Data selection for calibration tables is limited to field, scan, time, antenna, spw, and observation. See section at end about which parameters are applicable for calibration tables. Since calibration tables do not have a *FLAG_CMD* table, parameter settings, if requested, can only be saved in external files. \n",
    "\n"
   ]
  },
  {
   "cell_type": "markdown",
   "metadata": {},
   "source": [
    "###   {#section .subsection}\n",
    "\n"
   ]
  },
  {
   "cell_type": "markdown",
   "metadata": {},
   "source": [
    "### The *mode* parameter {#sec179 .subsection}\n",
    "\n",
    "The mode parameter selects the flagging algorithm and the following are available:\n",
    "\n",
    "``` {.verbatim}\n",
    "list        = list of flagging commands to apply to MS\n",
    "manual      = flagging based on specific selection parameters\n",
    "clip        = clip data according to values\n",
    "quack       = remove/keep specific time range at scan beginning/end\n",
    "shadow      = remove antenna-shadowed data\n",
    "elevation   = remove data below/above given elevations\n",
    "tfcrop      = automatic identification of outliers on the time-freq plane\n",
    "rflag       = automatic detection of outliers based on sliding-window RMS filters\n",
    "antint      = flag integrations if all baselines to a specified antenna are flagged\n",
    "extend      = extend and/or grow flags beyond what the basic algorithms detect\n",
    "summary     = report the amount of flagged data\n",
    "unflag      = unflag the specified data\n",
    "```\n",
    "\n",
    "these are described in detail lower down.\n",
    "\n",
    "Flagging will only be applied to the data selection that is performed with the usual selection parameters. The dataset is iterated-through in chunks (small pieces of data) consisting of one field, one spw, and a user-defined timerange (default is one scan). In addition to the typical antenna, spw, timerange, etc. selections, we would like to point out some addition of the correlation syntax for modes clip, tfcrop, and  rflag. One can combine correlation products with simple mathematical expressions \n",
    "\n",
    "``` {.verbatim}\n",
    "'ABS', 'ARG', 'RE', 'IM', 'NORM' \n",
    "```\n",
    "\n",
    "where *ABS* is the absolute value, *RE*, the real and *IM* the imaginary part. *NORM* and *ARG* refer to the amplitude and phase. This parameter is followed by the polarization products (using an underscore in between \"\\_\" )\n",
    "\n",
    "``` {.verbatim}\n",
    "'ALL', 'I', 'XX', 'YY', 'RR', 'LL', 'WVR' \n",
    "```\n",
    "\n",
    "'WVR' refers to the water vapour radiometer of ALMA data. Note that the operators ABS,ARG,RE, etc. are written only once as the first value. if more than one correlation is given, the operator will be applied to all of them. An example would be \n",
    "\n",
    "```\n",
    "correlation = 'RE_XX, XY'\n",
    "```\n",
    "\n",
    "which would select all real XX and XY polarization for flagging. \n",
    "\n",
    "------------------------------------------------------------------------\n",
    "\n"
   ]
  },
  {
   "cell_type": "markdown",
   "metadata": {},
   "source": [
    "### The *action* parameter {#sec179 .subsection}\n",
    "\n",
    "The parameter action controls whether the actual flagging commands will be applied or not and the options are the empty string \", 'apply' and 'calculate'.\n",
    "\n",
    "apply is likely the most popular one as it applies the flags to the MS:\n",
    "\n",
    "```\n",
    "#In CASA:\n",
    "action = 'apply' # Action to perform in MS and/or in inpfile\n"
   ]
  },
  {
   "cell_type": "markdown",
   "metadata": {},
   "source": [
    "## (none/apply/calculate)\n",
    "display = '' # Display data and/or end-of-MS reports at runtime\n"
   ]
  },
  {
   "cell_type": "markdown",
   "metadata": {},
   "source": [
    "## (data/report/both).\n",
    "flagbackup = True # Back up the state of flags before the run\n",
    "```\n",
    "\n",
    "flagbackup specifies if a backup of the current flags should be saved in the \"\\*.flagversions\" file. display can be  \", 'data', 'report', 'both' where the empty string \" will report no individual flagging statistics, whereas 'data' launches an interactive GUI to display data and flags for each chunk to browse through. The plots are time-frequency planes and both old and new flags are being overlaid for all correlations per baseline. In the GUI, one can step though all chunks for inspection and if the flagging is unsatisfactory, one can exit without applying the flags. If the flagging is acceptable, it is also possible to continue flagging without viewing all chunks (the number of chunks can be very large for typical JVLA and ALMA data sets. display='report' lists the flagging statistics at the end of the procedure on the screen and  both starts the GUI and reports all statistics at the end.\n",
    "\n",
    "action='calculate' calculates the flags but does not write them to the MS or calibration table. This is useful if one would like to inspect the computed flags in the GUI without a straight application:\n",
    "\n",
    "```\n",
    "action  = 'calculate' # Action to perform in MS and/or in inpfile (none/apply/calculate)\n",
    "display = ''          # Display data and/or end-of-MS reports at runtime (data/report/both).\n",
    "```\n",
    "\n",
    "The empty string action=\" will do nothing and is useful when the commands themselves shall only be written to the FLAG_CMD sub-table or to an external file using the savepars parameter to specify the filename.\n",
    "\n",
    "savepars will save the flagging commands to a file that can be later used for input in flagdata via mode='list'. It also shares the flagcmd syntax and can be used there. The file name is specified by outfile and, if empty, the FLAG_CMD table in the MS will be populated. A REASON can be given by the  reason parameter which may be useful for bookkeeping as well as for unflagging data that are marked by specific REASON parameters. The overwrite parameter will control overwriting an existing file when saving the flag commands.\n",
    "\n"
   ]
  },
  {
   "cell_type": "markdown",
   "metadata": {},
   "source": [
    "###   {#section-1 .subsection}\n",
    "\n"
   ]
  },
  {
   "cell_type": "markdown",
   "metadata": {},
   "source": [
    "### Flagging Modes {#sec180 .subsection}\n",
    "\n",
    "### Manual Flag/Unflag {#sec181 .subsubsection}\n",
    "\n",
    "```\n",
    "mode = 'manual' # Flagging mode (list/manual/clip/shadow/quack/el\n"
   ]
  },
  {
   "cell_type": "markdown",
   "metadata": {},
   "source": [
    "## evation/tfcrop/rflag/extend/unflag/summary)\n",
    "field = '' # Field names or field index numbers: '' ==> all,\n"
   ]
  },
  {
   "cell_type": "markdown",
   "metadata": {},
   "source": [
    "## field='0~2,3C286'\n",
    "spw = '' # Spectral-window/frequency/channel: '' ==> all,\n"
   ]
  },
  {
   "cell_type": "markdown",
   "metadata": {},
   "source": [
    "## spw='0:17~19'\n",
    "antenna = '' # Antenna/baselines: '' ==> all, antenna\n"
   ]
  },
  {
   "cell_type": "markdown",
   "metadata": {},
   "source": [
    "## ='3,VA04'\n",
    "timerange = '' # Time range: '' ==>\n"
   ]
  },
  {
   "cell_type": "markdown",
   "metadata": {},
   "source": [
    "## all,timerange='09:14:0~09:54:0'\n",
    "correlation = '' # Correlation: '' ==> all, correlation='XX,YY'\n",
    "scan = '' # Scan numbers: '' ==> all\n",
    "intent = '' # Observation intent: '' ==> all,\n"
   ]
  },
  {
   "cell_type": "markdown",
   "metadata": {},
   "source": [
    "## intent='CAL*POINT*'\n",
    "array = '' # (Sub)array numbers: '' ==> all\n",
    "uvrange = '' # UV range: '' ==> all; uvrange ='0~100klambda',\n"
   ]
  },
  {
   "cell_type": "markdown",
   "metadata": {},
   "source": [
    "## default units=meters\n",
    "observation = '' # Observation ID: '' ==> all\n",
    "feed = '' # Multi-feed numbers: Not yet implemented\n",
    "autocorr = False # Flag auto-correlations\n",
    "```\n",
    "\n",
    "The 'manual' mode is the most straight-forward of all modes. All visibilities that are selected by the various data selection parameters will be flagged or unflagged, depending on the  action parameter. autocorr is a shorthand for  antenna='\\*&&&' to flag all auto correlations in the data.\n",
    "\n",
    " \n",
    "\n",
    "### List {#sec182 .subsubsection}\n",
    "\n",
    "```\n",
    "mode = 'list' # Flagging mode (list/manual/clip/shadow/quack/el\n"
   ]
  },
  {
   "cell_type": "markdown",
   "metadata": {},
   "source": [
    "## evation/tfcrop/rflag/extend/unflag/summary)\n",
    "inpfile = '' # Input ASCII file, list of\n"
   ]
  },
  {
   "cell_type": "markdown",
   "metadata": {},
   "source": [
    "## files or Python list of strings with\n",
    "\n"
   ]
  },
  {
   "cell_type": "markdown",
   "metadata": {},
   "source": [
    "## flag commands.\n",
    "reason = 'any' # Select by REASON types\n",
    "```\n",
    "\n",
    "A list of flag commands can be provided through a file or a list of files, specified by the inpfile parameter. Each input line may contain a flagging mode with data selection parameters as well as parameters that are specific to that mode. All parameters that are not set will be reset to their default values (default  mode is 'manual'). Each line of this file or list of strings will be taken as a command to the flagdata task. This  mode='list' is similar to the task flagcmd with the  inpmode='list' option.\n",
    "\n",
    "An example for such a file would be: \n",
    "\n",
    "``` {.verbatim}\n",
    "mode='shadow'\n",
    "mode='clip' clipminmax=[0,5] correlation='ABS_ALL'\n",
    "mode='quack' quackmode='end' quackinterval=1.0\n",
    "antenna='ea01' timerange='00:00:00~01:00:00'\n",
    "antenna='ea11' timerange='00:00:00~03:00:00' spw='0~4'\n",
    "```\n",
    "\n",
    "Alternatively, this can be issued in the task directly like:\n",
    "\n",
    "```\n",
    "#In CASA:\n",
    "CASA<1>: flagdata(vis='vis',mode='list',\n",
    "inpfile=[\"mode='shadow'\",\n",
    "\"mode='clip' clipminmax=[0,5] correlation='ABS_ALL'\",\n",
    "\"mode='quack' quackmode='end' quackinterval=1.0\"'\n",
    "\"antenna='ea01' timerange='00:00:00~01:00:00'\",\n",
    "\"antenna='ea11' timerange='00:00:00~03:00:00' spw='0~4'\"])\n",
    "```\n",
    "\n",
    "  or via a variable \n",
    "\n",
    "```\n",
    "#In CASA:\n",
    "CASA<1>:cmds=[\"mode='shadow',\n",
    "\"mode='clip' clipminmax=[0,5] correlation='ABS_ALL'\",\n",
    "\"mode='quack' quackmode='end' quackinterval=1.0\",\n",
    "\"antenna='ea01' timerange='00:00:00~01:00:00'\",\n",
    "\"antenna='ea11' timerange='00:00:00~03:00:00' spw='0~4'\"]\n",
    "\n",
    "\n",
    "CASA<2>: flagdata(vis='vis',mode='list', inpfile=cmds)\n",
    "```\n",
    "\n",
    "The syntax needs to be written with quotes e.g. mode='manual' antenna='ea10'. There should be no space between key=value. Spaces are used to separate pairs of parameters, not commas.\n",
    "\n",
    " \n",
    "\n",
    "### Clip {#sec183 .subsubsection}\n",
    "\n",
    "```\n",
    "mode = 'clip' # Flagging mode (list/manual/clip/shadow/quack/\n"
   ]
  },
  {
   "cell_type": "markdown",
   "metadata": {},
   "source": [
    "## elevation/tfcrop/rflag/extend/unflag/summary)\n",
    "...\n",
    "datacolumn = 'DATA' # Data column on which to operate\n"
   ]
  },
  {
   "cell_type": "markdown",
   "metadata": {},
   "source": [
    "## (data,corrected,model,residual)\n",
    "clipminmax = [] # Range to use for clipping\n",
    "clipoutside = True # Clip outside the range, or within it\n",
    "channelavg = False # Average over channels (scalar average)\n",
    "timeavg = False # Average over time ranges\n",
    "timebin = '' # Bin width for time averaging.\n",
    "clipzeros = False # Clip zero-value data\n",
    "```\n",
    "\n",
    "in addition to the regular selection parameters, mode='clip' also has an option to select between a number of scratch columns in datacolumn. This includes the usual DATA, CORRECTED, etc., and also clipping based on data weights WEIGHT,  WEIGHT_SPECTRUM as well as other MS columns. clipminmax selects the range of values to be clipped -- usually this is combined with  clipoutside=True to clip everything but the values covered in clipminmax. The data can also be averaged over the selected  spw channel ranges by setting channelavg=True, or time averages via timeavg=True and setting of timebin. clip will also flag 'NaN', 'inf', and '-inf' values by default and can flag exact zero values (these are sometimes produced by the JVLA correlator) using the clipzeros parameter.\n",
    "\n",
    "Note : For modes clip, tfcrop and rflag, channel-ranges can be excluded from flagging by selecting ranges such as  spw='0:05;1063'. This is a way to protect known spectral-lines from being flagged by the autoflag algorithms.\n",
    "\n",
    " \n",
    "\n",
    "### Shadow {#sec184 .subsubsection}\n",
    "\n",
    "```\n",
    "mode = 'shadow' # Flagging mode (list/manual/clip/shadow/quack/\n"
   ]
  },
  {
   "cell_type": "markdown",
   "metadata": {},
   "source": [
    "## elevation/tfcrop/rflag/extend/unflag/summary)\n",
    "...\n",
    "tolerance = 0.0 # Amount of shadow allowed (in meters)\n",
    "addantenna = '' # File name or dictionary with additional antenna names,\n"
   ]
  },
  {
   "cell_type": "markdown",
   "metadata": {},
   "source": [
    "## positions and diameters\n",
    "```\n",
    "\n",
    "This option flags shadowed antennas, i.e. when one antenna blocks part of the aperture of a second antenna that is behind the first one. Shadowing can be gradual and the criterion for a shadow flag is when a baseline is shorter than radius~1~ + radius~2~ − tolerance (where the radii of the antennae are taken from the MS antenna subtable); see the figure below. addantenna may be used to account for shadowing when antennas are not listed in the MS but are physically present. Please read the flagdata inline help for the syntax of this option.\n",
    "\n",
    "\n",
    "\n",
    "------------------------------------------------------------------------\n",
    "\n",
    "\n",
    "\n",
    "[ ![](docs/_files/calibration-and-visibility-data/data-examination-and-editing/1549b953275f8856b049cd09f60d19c320b125b8.png)]\n",
    "\n",
    "\n",
    "  -------------------------------------------------------------------------------------------------\n",
    "  This figure shows the geometry used to compute shadowed antennas.\n",
    "  -------------------------------------------------------------------------------------------------\n",
    "\n",
    "\n",
    "\n",
    " \n",
    "\n",
    " \n",
    "\n",
    "### Quack\n",
    "\n",
    "```\n",
    "mode = 'quack' # Flagging mode (list/manual/clip/shadow/quack/\n"
   ]
  },
  {
   "cell_type": "markdown",
   "metadata": {},
   "source": [
    "## elevation/tfcrop/rflag/extend/unflag/summary)\n",
    "...\n",
    "quackinterval = 0.0 # Quack n seconds from scan beginning or end\n",
    "quackmode = 'beg' # flag an interval at the beginning of scan\n",
    "'endb' # flag an interval at the end of scan\n",
    "'tail' # flag all but an interval at the beginning of\n",
    "scan\n",
    "'end' # flag all but an interval at end of scan\n",
    "\n",
    "quackincrement = False # Flag incrementally in time?\n",
    "```\n",
    "\n",
    "quack is used to remove data at scan boundaries.  quackinterval specifies the time in seconds to be flagged, and  quackmode can be 'beg' to flag the quackinterval at the beginning of each selected scan, 'endb' at the end of scan.  'tail' flags all but the beginning of scan and 'end' all but the end of scan. The quackincrement is either True or  False, depending if one wishes to flag the quackinterval from the first unflagged data in the scan, or from the scan boundaries independent of data being already flagged or not.\n",
    "\n",
    " \n",
    "\n",
    "Because *quackincrement=True* needs to know the state of the previous flags in order to know which is the first unflagged data, it cannot be used in \\'list\\' mode, unless it is the first command of the list.\n",
    "\n",
    "```python\n",
    "Visual representation of quack mode when flagging a scan\n",
    "with 1s duration. The following diagram shows what is flagged\n",
    "for each quack mode when quackinterval is set to 0.25s.\n",
    "The flagged part is represented by crosses (+++++++++)\n",
    "\n",
    "scan with 1s duration\n",
    "--------------------------------------------\n",
    "beg\n",
    "+++++++++++---------------------------------\n",
    "endb\n",
    "---------------------------------+++++++++++\n",
    "tail\n",
    "-----------+++++++++++++++++++++++++++++++++\n",
    "end\n",
    "+++++++++++++++++++++++++++++++++-----------\n",
    "```\n",
    "\n",
    "###   {#section-2 .subsubsection}\n",
    "\n",
    "### Elevation {#sec186 .subsubsection}\n",
    "\n",
    "```\n",
    "mode = 'elevation' # Flagging mode (list/manual/clip/shadow/quack/\n"
   ]
  },
  {
   "cell_type": "markdown",
   "metadata": {},
   "source": [
    "## elevation/tfcrop/rflag/extend/unflag/summary)\n",
    "...\n",
    "lowerlimit = 0.0 # Lower limiting elevation (in degrees)\n",
    "upperlimit = 90.0 # Upper limiting elevation (in degrees)\n",
    "```\n",
    "\n",
    "Flagging based on the elevation of the antennae. This may be useful to avoid data taken at very low elevations or close to transit and the lowerlimit and upperlimit parameters specify the range of good elevations.\n",
    "\n",
    "###   {#section-3 .subsubsection}\n",
    "\n",
    "### Tfcrop {#sec187 .subsubsection}\n",
    "\n",
    "```\n",
    "mode = 'tfcrop' # Flagging mode (list/manual/clip/shadow/quack/\n"
   ]
  },
  {
   "cell_type": "markdown",
   "metadata": {},
   "source": [
    "## elevation/tfcrop/rflag/extend/unflag/summary\n"
   ]
  },
  {
   "cell_type": "markdown",
   "metadata": {},
   "source": [
    "## )\n",
    "...\n",
    "ntime = 'scan' # Time-range to use for each chunk (in seconds\n"
   ]
  },
  {
   "cell_type": "markdown",
   "metadata": {},
   "source": [
    "## or minutes)\n",
    "combinescans = False # Accumulate data across scans.\n",
    "datacolumn = 'DATA' # Data column on which to operate\n"
   ]
  },
  {
   "cell_type": "markdown",
   "metadata": {},
   "source": [
    "## (data,corrected,model,residual)\n",
    "timecutoff = 4.0 # Flagging thresholds in units of deviation\n"
   ]
  },
  {
   "cell_type": "markdown",
   "metadata": {},
   "source": [
    "## from the fit\n",
    "freqcutoff = 3.0 # Flagging thresholds in units of deviation\n"
   ]
  },
  {
   "cell_type": "markdown",
   "metadata": {},
   "source": [
    "## from the fit\n",
    "timefit = 'line' # Fitting function for the time direction\n"
   ]
  },
  {
   "cell_type": "markdown",
   "metadata": {},
   "source": [
    "## (poly/line)\n",
    "freqfit = 'poly' # Fitting function for the frequency direction\n"
   ]
  },
  {
   "cell_type": "markdown",
   "metadata": {},
   "source": [
    "## (poly/line)\n",
    "maxnpieces = 7 # Number of pieces in the polynomial-fits (for\n"
   ]
  },
  {
   "cell_type": "markdown",
   "metadata": {},
   "source": [
    "## 'freqfit' or 'timefit' = 'poly')\n",
    "flagdimension = 'freqtime' # Dimensions along which to calculate fits\n"
   ]
  },
  {
   "cell_type": "markdown",
   "metadata": {},
   "source": [
    "## (freq/time/freqtime/timefreq)\n",
    "usewindowstats = 'none' # Calculate additional flags using sliding\n"
   ]
  },
  {
   "cell_type": "markdown",
   "metadata": {},
   "source": [
    "## window statistics (none,sum,std,both)\n",
    "halfwin = 1 # Half-width of sliding window to use with\n"
   ]
  },
  {
   "cell_type": "markdown",
   "metadata": {},
   "source": [
    "## 'usewindowstats' (1,2,3).\n",
    "extendflags = True # Extend flags along time,\n"
   ]
  },
  {
   "cell_type": "markdown",
   "metadata": {},
   "source": [
    "## frequency and correlation.\n",
    "channelavg = False # Pre-average data across channels before\n"
   ]
  },
  {
   "cell_type": "markdown",
   "metadata": {},
   "source": [
    "## analyzing visibilities for flagging.\n",
    "chanbin = False # Bin width for channel average in\n"
   ]
  },
  {
   "cell_type": "markdown",
   "metadata": {},
   "source": [
    "## number of input channels.\n",
    "timeavg = False # Pre-average data across time before\n"
   ]
  },
  {
   "cell_type": "markdown",
   "metadata": {},
   "source": [
    "## analyzing visibilities for flagging\n",
    "timebin = False # Bin width for time average in seconds\n",
    "```\n",
    "\n",
    "TFCrop is an autoflag algorithm that detects outliers on the 2D time-frequency plane, and can operate on un-calibrated data (non bandpass-corrected). The original implementation of this algorithm is described in NCRA Technical Report 202 (Oct 2003).\n",
    "\n",
    "The algorithm iterates through the data in chunks of time. For each chunk, the result of user-specified visibility-expressions are organized as 2D time-frequency planes, one for each baseline and correlation-expression result, and the following steps are performed.\n",
    "\n",
    "As of CASA 4.6 the data can also be pre-averaged over the selected spw channel ranges by setting channelavg=True and chanbin to the desired bin (in number of channels), or time averaged over the selected time ranges by setting timeavg=True and timebin to the desired time range (in seconds). This averaging is independent from the tfcrop time/channel average, and allows to specify custom time/channel average bins, instead of averaging all data across time and/or channel direction.\n",
    "\n",
    "1.  Calculate a bandshape template : Average the data across time, to construct an average bandpass. Construct an estimate of a clean bandpass (without RFI) via a robust piece-wise polynomial fit to the average bandpass shape.\n",
    "\n",
    "    Note : A robust fit is computed in up to 5 iterations. It begins with a straight line fit across the full range, and gradually increases to 'maxnpieces' number of pieces with third-order polynomials in each piece. At each iteration, the stddev between the data and the fit is computed, values beyond N-stddev are flagged, and the fit and stddev are re-calculated with the remaining points. This stddev calculation is adaptive, and converges to a value that reflects only the data and no RFI. At each iteration, the same relative threshold is applied to detect flags, and this results in a varying set of flagging thresholds, that allows deep flagging only when the fit represents the true data best. Iterations stop when the stddev changes by less than 10%, or when 5 iterations are completed.\n",
    "\n",
    "    The resulting clean bandpass is a fit across the base of RFI spikes.\n",
    "\n",
    "2.  Divide out this clean bandpass function from all timesteps in the current chunk. Now, any data points that deviate from a mean of 1 can be considered RFI. This step helps to separate narrow-band RFI spikes from a smooth but varying bandpass, in situations where a simple range-based clipping will flag good sections of the bandpass.\n",
    "\n",
    "3.  Perform iterative flagging (robust flagging) of points deviating from a value of 1.\n",
    "\n",
    "    Flagging is done in up to 5 iterations. In each iteration, for every timestep, calculate the stddev of the bandpass-flattened data, flag all points further than N times stddev from the fit, and recalculate the stddev. At each iteration, the same relative threshold is applied to detect flags. Optionally, use sliding-window based statistics to calculate additional flags.\n",
    "\n",
    "4.  Repeat steps 1 and 3, but in the other direction (i.e. average the data across frequency, calculate a piece-wise polynomial fit to the average time-series, and find flags based on deviations w.r.to this fit.)\n",
    "\n",
    "The default parameters of the tfcrop implementation are optimized for strong narrow-band RFI (see the example figure below). With broad-band RFI, the piece-wise polynomial can sometimes model it as part of the band-shape, and therefore not detect it as RFI. In this case, reducing the maximum number of pieces in the polynomial can help. This algorithm usually has trouble with noisy RFI that is also extended in time of frequency, and additional statistics-based flagging is recommended (via the 'usewindowstats' parameter). It is often required to set up parameters separately for each spectral-window.\n",
    "\n",
    "If frequency ranges of known astronomical spectral lines are known  a-priori , they can be protected from automatic flagging by de-selecting those frequency-ranges via the 'spw' data-selection parameter.\n",
    "\n",
    "The extendflag parameter will clean up small portions of data between flagged data points along time and/or frequency when more than 50% of all timeranges or 80% of all channels are already flagged. It will also extend the flags to the other polarizations. Alternatively, mode='extend' can be used (see section below).\n",
    "\n",
    " \n",
    "\n",
    "\n",
    "[ ![](docs/_files/calibration-and-visibility-data/data-examination-and-editing/ab85ff655f50ffc1e9b342b61fa9f82458aaf442.png)]\n",
    "\n",
    "\n",
    "  ---------------------------------------------------------------------------------------------------------------------------------------------------------------------------------------------------------------------------------------------------------------------------------------------------------------------------------------------------------------------------------------\n",
    "  This screenshot represents a run where 'tfcrop' was run on a spw='9' with mainly narrow-band RFI. RIGHT : An example of protecting a spectral line (in this case, demonstrated on an RFI spike) by setting the spw-selection to spw='0:0 45;53 63'. In both figures, the top row indicates the data before flagging, and the bottom row after flagging.\n",
    "  ---------------------------------------------------------------------------------------------------------------------------------------------------------------------------------------------------------------------------------------------------------------------------------------------------------------------------------------------------------------------------------------\n",
    "\n",
    "\n",
    "\n",
    "> \n",
    ">\n",
    "> ------------------------------------------------------------------------\n",
    "> \n",
    "\n",
    "####   {#section-4 .subsubsection}\n",
    "\n",
    "### Rflag {#sec188 .subsubsection}\n",
    "\n",
    "```\n",
    "mode = 'rflag' # Flagging mode (list/manual/clip/shadow/quack/\n"
   ]
  },
  {
   "cell_type": "markdown",
   "metadata": {},
   "source": [
    "## elevation/tfcrop/rflag/extend/unflag/summary\n"
   ]
  },
  {
   "cell_type": "markdown",
   "metadata": {},
   "source": [
    "## )\n",
    "...\n",
    "ntime = 'scan' # Time-range to use for each chunk (in seconds\n"
   ]
  },
  {
   "cell_type": "markdown",
   "metadata": {},
   "source": [
    "## or minutes)\n",
    "combinescans = False # Accumulate data across scans.\n",
    "datacolumn = 'DATA' # Data column on which to operate\n"
   ]
  },
  {
   "cell_type": "markdown",
   "metadata": {},
   "source": [
    "## (data,corrected,model,residual)\n",
    "winsize = 3 # Number of timesteps in the sliding time\n"
   ]
  },
  {
   "cell_type": "markdown",
   "metadata": {},
   "source": [
    "## window [aips:fparm(1)]\n",
    "timedev = '' # Time-series noise estimate [aips:noise]\n",
    "freqdev = '' # Spectral noise estimate [aips:scutoff]\n",
    "timedevscale = 5.0 # Threshold scaling for timedev [aips:fparm(9)]\n",
    "freqdevscale = 5.0 # Threshold scaling for freqdev\n"
   ]
  },
  {
   "cell_type": "markdown",
   "metadata": {},
   "source": [
    "## [aips:fparm(10)]\n",
    "spectralmax = 1000000.0 # Flag whole spectrum if freqdev is greater\n"
   ]
  },
  {
   "cell_type": "markdown",
   "metadata": {},
   "source": [
    "## than spectralmax [aips:fparm(6)]\n",
    "spectralmin = 0.0 # Flag whole spectrum if freqdev is less than\n"
   ]
  },
  {
   "cell_type": "markdown",
   "metadata": {},
   "source": [
    "## spectralmin [aips:fparm(5)]\n",
    "extendflags = True # Extend flags along time, frequency and correlation.\n",
    "channelavg = False # Pre-average data across channels before\n"
   ]
  },
  {
   "cell_type": "markdown",
   "metadata": {},
   "source": [
    "## analyzing visibilities for flagging.\n",
    "chanbin = False # Bin width for channel average in\n"
   ]
  },
  {
   "cell_type": "markdown",
   "metadata": {},
   "source": [
    "## number of input channels.\n",
    "timeavg = False # Pre-average data across time before\n"
   ]
  },
  {
   "cell_type": "markdown",
   "metadata": {},
   "source": [
    "## analyzing visibilities for flagging\n",
    "timebin = False # Bin width for time average in seconds\n",
    "```\n",
    "\n",
    "RFlag is an autoflag algorithm based on a sliding window statistical filter. The RFlag algorithm was originally developed by Eric Greisen in AIPS (31DEC11). AIPS documentation : Subsection E.5 of the AIPS cookbook (Appendix E : Special Considerations for JVLA data calibration and imaging in AIPS[](https://casa.nrao.edu/casadocs-devel/docs/cookbook/casa_cookbook004.html#note3){#text3}, [[http://www.aips.nrao.edu/cook.html\\#CEE](http://www.aips.nrao.edu/cook.html#CEE))]\n",
    "\n",
    "In RFlag, the data is iterated-through in chunks of time, statistics are accumulated across time-chunks, thresholds are calculated at the end, and applied during a second pass through the dataset.\n",
    "\n",
    "The CASA implementation also optionally allows a single-pass operation where statistics and thresholds are computed and also used for flagging, within each time-chunk (defined by 'ntime' and 'combinescans').\n",
    "\n",
    "For each chunk, calculate local statistics, and apply flags based on user supplied (or auto-calculated) thresholds.\n",
    "\n",
    "As of CASA 4.6 the data can also be pre-averaged over the selected spw channel ranges by setting channelavg=True and chanbin to the desired bin (in number of channels), or time averaged over the selected time ranges by setting timeavg=True and timebin to the desired time range (in seconds). This averaging is independent from the rflag time/channel sliding window, as it performs not only an average but also a binning operation (so there is no data overlap between adjacent bins), and allows to specify independent time/channel bins.\n",
    "\n",
    "1.  Time analysis (for each channel) \n",
    "    a.  Calculate local rms of real and imag visibilities, within a sliding time window \n",
    "    b.  Calculate the median rms across time windows, deviations of local rms from this median, and the median deviation \n",
    "    c.  Flag if local rms is larger than timedevscale x (medianRMS + medianDev) \n",
    "2.  Spectral analysis (for each time) \n",
    "    a.  Calculate avg of real and imag visibilities and their rms across channels \n",
    "    b.  Calculate the deviation of each channel from this avg, and the median-deviation \n",
    "    c.  Flag if deviation is larger than freqdevscale x medianDev \n",
    "\n",
    "The extendflags parameter will clean up small portions of data between flagged data points along time and/or frequency when more than 50% of all timeranges or 80% of all channels are already flagged. It will also extend the flags to the other polarizations. Alternatively, mode='extend' can be used.\n",
    "\n",
    "Some examples (see figure below):\\\n",
    "\n",
    "\n",
    "1.  Calculate thresholds automatically per scan, and use them to find flags. Specify scale-factor for time-analysis thresholds, use default for frequency.\n",
    "    ```\n",
    "    #In CASA:\n",
    "    CASA<1>: flagdata('my.ms', mode='rflag',spw='9',timedevscale=4.0)\n",
    "    ```\n",
    "\n",
    "2.  Supply noise-estimates to be used with default scale-factors.\n",
    "\n",
    "    ```\n",
    "    #In CASA:\n",
    "    CASA<1>: flagdata(vis='my.ms', mode='rflag', spw='9', timedev=0.1, freqdev=0.5);\n",
    "    ```\n",
    "\n",
    "    Two-passes. This replicates the usage pattern in AIPS. \n",
    "\n",
    "    -   The first pass saves commands in an output text files, with auto-calculated thresholds. Thresholds are returned from rflag only when action=\\'calculate\\' (calc-only mode). The user can edit this file before doing the second pass, but the python-dictionary structure must be preserved.\n",
    "    -   The second pass applies these commands (action=\\'apply\\').\n",
    "        ```\n",
    "        #In CASA:\n",
    "        CASA<1>: flagdata(vis='my.ms', mode='rflag', spw='9,10', timedev='tdevfile.txt', freqdev='fdevfile.txt', action='calculate');\n",
    "        CASA<2>: flagdata(vis='my.ms', mode='rflag', spw='9,10', timedev='tdevfile.txt', freqdev='fdevfile.txt', action='apply');\n",
    "        ```\n",
    "\n",
    "        \n",
    "\n",
    "        ------------------------------------------------------------------------\n",
    "        \n",
    "\n",
    "        \n",
    "        [ ![](docs/_files/calibration-and-visibility-data/data-examination-and-editing/0897c13b6603be6efd68d97c7fc69171bef47cf6.png)]\n",
    "        \n",
    "          --------------------------------------------------------------------------------------------------------------------------------------------------------------\n",
    "          Example of rflag on narrow-band RFI\n",
    "          --------------------------------------------------------------------------------------------------------------------------------------------------------------\n",
    "        \n",
    "        \n",
    "\n",
    "> \n",
    ">\n",
    "> ------------------------------------------------------------------------\n",
    "> \n",
    ">\n",
    "> \n",
    "> \n",
    ">  \n",
    "> \n",
    ">\n",
    "> \n",
    ">  \n",
    "> \n",
    "> \n",
    "\n",
    "### Extend {#sec188 .subsubsection}\n",
    "\n",
    "```\n",
    "mode = 'extend' # Flagging mode (list/manual/clip/shadow/quack/el\n"
   ]
  },
  {
   "cell_type": "markdown",
   "metadata": {},
   "source": [
    "## evation/tfcrop/rflag/extend/unflag/summary)\n",
    "field = '' # Field names or field index numbers: '' ==> all,\n"
   ]
  },
  {
   "cell_type": "markdown",
   "metadata": {},
   "source": [
    "## field='0~2,3C286'\n",
    "spw = '' # Spectral-window/frequency/channel: '' ==> all,\n"
   ]
  },
  {
   "cell_type": "markdown",
   "metadata": {},
   "source": [
    "## spw='0:17~19'\n",
    "antenna = '' # Antenna/baselines: '' ==> all, antenna\n"
   ]
  },
  {
   "cell_type": "markdown",
   "metadata": {},
   "source": [
    "## ='3,VA04'\n",
    "timerange = '' # Time range: '' ==>\n"
   ]
  },
  {
   "cell_type": "markdown",
   "metadata": {},
   "source": [
    "## all,timerange='09:14:0~09:54:0'\n",
    "correlation = '' # Correlation: '' ==> all, correlation='XX,YY'\n",
    "scan = '' # Scan numbers: '' ==> all\n",
    "intent = '' # Observation intent: '' ==> all,\n"
   ]
  },
  {
   "cell_type": "markdown",
   "metadata": {},
   "source": [
    "## intent='CAL*POINT*'\n",
    "array = '' # (Sub)array numbers: '' ==> all\n",
    "uvrange = '' # UV range: '' ==> all; uvrange ='0~100klambda',\n"
   ]
  },
  {
   "cell_type": "markdown",
   "metadata": {},
   "source": [
    "## default units=meters\n",
    "observation = '' # Observation ID: '' ==> all\n",
    "feed = '' # Multi-feed numbers: Not yet implemented\n",
    "ntime = 'scan' # Time-range to use for each chunk (in seconds or\n"
   ]
  },
  {
   "cell_type": "markdown",
   "metadata": {},
   "source": [
    "## minutes)\n",
    "combinescans = False # Accumulate data across scans.\n",
    "extendpols = True # If any correlation is flagged, flag all\n"
   ]
  },
  {
   "cell_type": "markdown",
   "metadata": {},
   "source": [
    "## correlations\n",
    "growtime = 50.0 # Flag all 'ntime' integrations if more than X%\n"
   ]
  },
  {
   "cell_type": "markdown",
   "metadata": {},
   "source": [
    "## of the timerange is flagged (0-100)\n",
    "growfreq = 50.0 # Flag all selected channels if more than X% of\n"
   ]
  },
  {
   "cell_type": "markdown",
   "metadata": {},
   "source": [
    "## the frequency range is flagged(0-100)\n",
    "growaround = False # Flag data based on surrounding flags\n",
    "flagneartime = False # Flag one timestep before and after a flagged\n"
   ]
  },
  {
   "cell_type": "markdown",
   "metadata": {},
   "source": [
    "## one (True/False)\n",
    "flagnearfreq = False # Flag one channel before and after a flagged one\n"
   ]
  },
  {
   "cell_type": "markdown",
   "metadata": {},
   "source": [
    "## (True/False)\n",
    "```\n",
    "\n",
    "Although the modes tfcrop and rflag already have  extendflags parameters, some autoflagging algorithms may still leave small islands of unflagged data behind, data that are surrounded by flagged visibilities in the time-frequency space. Although the algorithm may deem these visibilities as good ones, they are frequently affected by low-level RFI that spills from the adjacent, flagged points and one may wish to clean those up.\n",
    "\n",
    "ntime specifies the time ranges over which to clean up, e.g. '1.5min' or 'scan' which checks on all data within a scan. To span time ranges larger than scans, one can set  combinescans to True.\n",
    "\n",
    "extendpols=True would extend all flags to all polarization products when at least one of them is flagged.\n",
    "\n",
    "growtime flags the entire time range for a flagged channel, when a certain fraction of flagged time intervals is exceeded. \n",
    "\n",
    "growfreq is similar but extends the flags in frequency when a given fraction of channels is already flagged.\n",
    "\n",
    "growaround checks for flagged data points in the time-frequency domain that neighbor a datum. The threshold is four data points. If more surrounding points are flagged, the central datum will be flagged, too.\n",
    "\n",
    "flagneartime flags adjacent data points along the time axis, around a flagged datum\n",
    "\n",
    "flagnearfreq flags neighboring channels. \n",
    "\n",
    "\n",
    "\n",
    "------------------------------------------------------------------------\n",
    "\n",
    "\n",
    "\n",
    "[ ![](docs/_files/calibration-and-visibility-data/data-examination-and-editing/ff49a17852eab157b2326e6879023523c60dba54.png)]\n",
    "\n",
    "\n",
    "  ------------------------------------------------------------------------------------------------------------------------------------------------------------------------------------------\n",
    "  This screenshot represents a run where 'tfcrop' was run only on 'ABS_RR' (top row) and followed by an extension along time and correlations (bottom row). \n",
    "  ------------------------------------------------------------------------------------------------------------------------------------------------------------------------------------------\n",
    "\n",
    "\n",
    "\n",
    "####   {#section-5 .subsubsection}\n",
    "\n",
    "### Unflag {#sec190 .subsubsection}\n",
    "\n",
    "```\n",
    "mode = 'unflag' # Flagging mode (list/manual/clip/shadow/quack/\n"
   ]
  },
  {
   "cell_type": "markdown",
   "metadata": {},
   "source": [
    "## elevation/tfcrop/rflag/extend/unflag/summary\n"
   ]
  },
  {
   "cell_type": "markdown",
   "metadata": {},
   "source": [
    "## )\n",
    "field = '' # Field names or field index numbers: ''==>all,\n"
   ]
  },
  {
   "cell_type": "markdown",
   "metadata": {},
   "source": [
    "## field='0~2,3C286'\n",
    "spw = '' # spectral-window/frequency/channel\n",
    "antenna = 'ea01' # antenna/baselines: ''==>all, antenna\n"
   ]
  },
  {
   "cell_type": "markdown",
   "metadata": {},
   "source": [
    "## ='3,VA04'\n",
    "timerange = '' # time range:\n"
   ]
  },
  {
   "cell_type": "markdown",
   "metadata": {},
   "source": [
    "## ''==>all,timerange='09:14:0~09:54:0'\n",
    "correlation = '' # Select data based on correlation\n",
    "scan = '' # scan numbers: ''==>all\n",
    "intent = '' # Select data based on observation intent:\n"
   ]
  },
  {
   "cell_type": "markdown",
   "metadata": {},
   "source": [
    "## ''==>all\n",
    "feed = '' # multi-feed numbers: Not yet implemented\n",
    "array = '' # (sub)array numbers: ''==>all\n",
    "uvrange = '' # uv range: ''==>all; uvrange ='0~100klambda',\n"
   ]
  },
  {
   "cell_type": "markdown",
   "metadata": {},
   "source": [
    "## default units=meters\n",
    "observation = '' # Select data based on observation ID: ''==>all\n",
    "```\n",
    "\n",
    "The selection data will be unflagged. \n",
    "\n",
    "####   {#section-6 .subsubsection}\n",
    "\n",
    "### Summary {#sec191 .subsubsection}\n",
    "\n",
    "```\n",
    "mode = 'summary' # Flagging mode (list/manual/clip/shadow/quack/\n"
   ]
  },
  {
   "cell_type": "markdown",
   "metadata": {},
   "source": [
    "## elevation/tfcrop/rflag/extend/unflag/summary\n"
   ]
  },
  {
   "cell_type": "markdown",
   "metadata": {},
   "source": [
    "## )\n",
    "...\n",
    "minrel = 0.0 # minimum number of flags (relative)\n",
    "maxrel = 1.0 # maximum number of flags (relative)\n",
    "minabs = 0 # minimum number of flags (absolute)\n",
    "maxabs = -1 # maximum number of flags (absolute). Use a\n"
   ]
  },
  {
   "cell_type": "markdown",
   "metadata": {},
   "source": [
    "## negative value to indicate infinity.\n",
    "spwchan = False # Print summary of channels per spw\n",
    "spwcorr = False # Print summary of correlation per spw\n",
    "basecnt = False # Print summary counts per baseline\n",
    "```\n",
    "\n",
    "This mode reports the number of rows and data points that are flagged. The selection of reported points can be restricted (see inline help for details).\n",
    "\n",
    "mode='summary' can also report back a dictionary if the task is run as \n",
    "\n",
    "```\n",
    "#In CASA:\n",
    "CASA<1>: s = flagdata(..., mode='summary')\n",
    "```\n",
    "\n",
    "with a variable assigned, here 's'."
   ]
  }
 ],
 "metadata": {},
 "nbformat": 4,
 "nbformat_minor": 4
}
