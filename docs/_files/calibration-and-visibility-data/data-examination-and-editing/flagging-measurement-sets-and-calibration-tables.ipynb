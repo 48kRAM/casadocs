{
 "cells": [
  {
   "cell_type": "markdown",
   "metadata": {},
   "source": [
    "# Flag using flagdata\n",
    "\n",
    "Flagging MeasurementSets and calibration tables\n",
    "\n",
    "**flagdata**&nbsp;is the main flagging task in CASA.\n",
    "**flagdata** can flag MeasurementSets and calibration tables with an\n",
    "elaborate selection syntax. It also contains auto-flagging\n",
    "routines.\n",
    "\n",
    "&nbsp;\n",
    "\n",
    "Other tasks related to flagging\n",
    "are&nbsp;**flagmanager**&nbsp;to\n",
    "save the existing flags before adding more, and&nbsp;&nbsp;**plotms**&nbsp;and **msview**&nbsp;for\n",
    "interactive flagging.&nbsp;In addition, optionally, data for which\n",
    "calibration solutions have failed will be flagged when these solutions\n",
    "are applied.\n",
    "\n",
    "&nbsp;\n",
    "\n",
    "The inputs to **flagdata** are:\n",
    "\n",
    "\\#In CASA  \n",
    "CASA\\<1\\>: inp flagdata  \n",
    "\\"
   ]
  },
  {
   "cell_type": "markdown",
   "metadata": {},
   "source": [
    "## flagdata :: All-purpose flagging task based on data-selections and\n",
    "flagging modes/algorithms.  \n",
    "vis&nbsp;&nbsp;&nbsp;&nbsp;&nbsp;&nbsp;&nbsp;&nbsp;&nbsp;&nbsp;&nbsp;&nbsp;&nbsp;\n",
    "= ''&nbsp;&nbsp;&nbsp;&nbsp;&nbsp;&nbsp;&nbsp;&nbsp;&nbsp; \\"
   ]
  },
  {
   "cell_type": "markdown",
   "metadata": {},
   "source": [
    "## Name of MS\n",
    "file or calibration table to flag  \n",
    "mode&nbsp;&nbsp;&nbsp;&nbsp;&nbsp;&nbsp;&nbsp;&nbsp;&nbsp;&nbsp;&nbsp;&nbsp;\n",
    "= 'manual'&nbsp;&nbsp;&nbsp; \\"
   ]
  },
  {
   "cell_type": "markdown",
   "metadata": {},
   "source": [
    "## Flagging mode  \n",
    "&nbsp;&nbsp;&nbsp;&nbsp; field&nbsp;&nbsp;&nbsp;&nbsp;&nbsp;&nbsp; =\n",
    "''&nbsp;&nbsp;&nbsp;&nbsp;&nbsp;&nbsp;&nbsp;&nbsp;&nbsp; \\"
   ]
  },
  {
   "cell_type": "markdown",
   "metadata": {},
   "source": [
    "## Field names\n",
    "or field index numbers: '' ==\\> all, field='0\\~2,3C286'  \n",
    "&nbsp;&nbsp;&nbsp;&nbsp;\n",
    "spw&nbsp;&nbsp;&nbsp;&nbsp;&nbsp;&nbsp;&nbsp;&nbsp; =\n",
    "''&nbsp;&nbsp;&nbsp;&nbsp;&nbsp;&nbsp;&nbsp;&nbsp;&nbsp; \\"
   ]
  },
  {
   "cell_type": "markdown",
   "metadata": {},
   "source": [
    "##\n",
    "Spectral-window/frequency/channel: '' ==\\> all, spw='0:17\\~19'  \n",
    "&nbsp;&nbsp;&nbsp;&nbsp; antenna&nbsp;&nbsp;&nbsp;&nbsp; =\n",
    "''&nbsp;&nbsp;&nbsp;&nbsp;&nbsp;&nbsp;&nbsp;&nbsp;&nbsp; \\"
   ]
  },
  {
   "cell_type": "markdown",
   "metadata": {},
   "source": [
    "##\n",
    "Antenna/baselines: '' ==\\> all, antenna ='3,VA04'  \n",
    "&nbsp;&nbsp;&nbsp;&nbsp; timerange&nbsp;&nbsp; =\n",
    "''&nbsp;&nbsp;&nbsp;&nbsp;&nbsp;&nbsp;&nbsp;&nbsp;&nbsp; \\"
   ]
  },
  {
   "cell_type": "markdown",
   "metadata": {},
   "source": [
    "## Time range:\n",
    "'' ==\\> all,timerange='09:14:0\\~09:54:0'  \n",
    "&nbsp;&nbsp;&nbsp;&nbsp; correlation =\n",
    "''&nbsp;&nbsp;&nbsp;&nbsp;&nbsp;&nbsp;&nbsp;&nbsp;&nbsp; \\"
   ]
  },
  {
   "cell_type": "markdown",
   "metadata": {},
   "source": [
    "## Correlation:\n",
    "'' ==\\> all, correlation='XX,YY'  \n",
    "&nbsp;&nbsp;&nbsp;&nbsp; scan&nbsp;&nbsp;&nbsp;&nbsp;&nbsp;&nbsp;&nbsp;\n",
    "= ''&nbsp;&nbsp;&nbsp;&nbsp;&nbsp;&nbsp;&nbsp;&nbsp;&nbsp; \\"
   ]
  },
  {
   "cell_type": "markdown",
   "metadata": {},
   "source": [
    "## Scan\n",
    "numbers: '' ==\\> all  \n",
    "&nbsp;&nbsp;&nbsp;&nbsp; intent&nbsp;&nbsp;&nbsp;&nbsp;&nbsp; =\n",
    "''&nbsp;&nbsp;&nbsp;&nbsp;&nbsp;&nbsp;&nbsp;&nbsp;&nbsp; \\"
   ]
  },
  {
   "cell_type": "markdown",
   "metadata": {},
   "source": [
    "## Observation\n",
    "intent: '' ==\\> all, intent='CAL\\*POINT\\*'  \n",
    "&nbsp;&nbsp;&nbsp;&nbsp; array&nbsp;&nbsp;&nbsp;&nbsp;&nbsp;&nbsp; =\n",
    "''&nbsp;&nbsp;&nbsp;&nbsp;&nbsp;&nbsp;&nbsp;&nbsp;&nbsp; \\"
   ]
  },
  {
   "cell_type": "markdown",
   "metadata": {},
   "source": [
    "## (Sub)array\n",
    "numbers: '' ==\\> all  \n",
    "&nbsp;&nbsp;&nbsp;&nbsp; uvrange&nbsp;&nbsp;&nbsp;&nbsp; =\n",
    "''&nbsp;&nbsp;&nbsp;&nbsp;&nbsp;&nbsp;&nbsp;&nbsp;&nbsp; \\"
   ]
  },
  {
   "cell_type": "markdown",
   "metadata": {},
   "source": [
    "## UV range: ''\n",
    "==\\> all; uvrange ='0\\~100klambda', default units=meters  \n",
    "&nbsp;&nbsp;&nbsp;&nbsp; observation =\n",
    "''&nbsp;&nbsp;&nbsp;&nbsp;&nbsp;&nbsp;&nbsp;&nbsp;&nbsp; \\"
   ]
  },
  {
   "cell_type": "markdown",
   "metadata": {},
   "source": [
    "## Observation\n",
    "ID: '' ==\\> all  \n",
    "&nbsp;&nbsp;&nbsp;&nbsp; feed&nbsp;&nbsp;&nbsp;&nbsp;&nbsp;&nbsp;&nbsp;\n",
    "= ''&nbsp;&nbsp;&nbsp;&nbsp;&nbsp;&nbsp;&nbsp;&nbsp;&nbsp; \\"
   ]
  },
  {
   "cell_type": "markdown",
   "metadata": {},
   "source": [
    "## Multi-feed\n",
    "numbers: Not yet implemented  \n",
    "&nbsp;&nbsp;&nbsp;&nbsp; autocorr&nbsp;&nbsp;&nbsp; =\n",
    "False&nbsp;&nbsp;&nbsp;&nbsp;&nbsp;&nbsp; \\"
   ]
  },
  {
   "cell_type": "markdown",
   "metadata": {},
   "source": [
    "## Flag auto-correlations\n",
    "\n",
    "action&nbsp;&nbsp;&nbsp;&nbsp;&nbsp;&nbsp;&nbsp;&nbsp;&nbsp;&nbsp; =\n",
    "'apply'&nbsp;&nbsp;&nbsp;&nbsp; \\"
   ]
  },
  {
   "cell_type": "markdown",
   "metadata": {},
   "source": [
    "## Action to perform in MS and/or in\n",
    "inpfile (none/apply/calculate)  \n",
    "&nbsp;&nbsp;&nbsp;&nbsp; display&nbsp;&nbsp;&nbsp;&nbsp; =\n",
    "''&nbsp;&nbsp;&nbsp;&nbsp;&nbsp;&nbsp;&nbsp;&nbsp;&nbsp; \\"
   ]
  },
  {
   "cell_type": "markdown",
   "metadata": {},
   "source": [
    "## Display data\n",
    "and/or end-of-MS reports at runtime (data/report/both).  \n",
    "&nbsp;&nbsp;&nbsp;&nbsp; flagbackup&nbsp; =\n",
    "True&nbsp;&nbsp;&nbsp;&nbsp;&nbsp;&nbsp;&nbsp; \\"
   ]
  },
  {
   "cell_type": "markdown",
   "metadata": {},
   "source": [
    "## Back up the state of\n",
    "flags before the run\n",
    "\n",
    "savepars&nbsp;&nbsp;&nbsp;&nbsp;&nbsp;&nbsp;&nbsp;&nbsp; =\n",
    "False&nbsp;&nbsp;&nbsp;&nbsp;&nbsp;&nbsp; \\"
   ]
  },
  {
   "cell_type": "markdown",
   "metadata": {},
   "source": [
    "## Save the current parameters\n",
    "to the FLAG_CMD table or to a file\n",
    "\n",
    "vis can take a MeasurementSet or calibration\n",
    "table. Data selection for calibration tables is limited to field,\n",
    "scan, time, antenna, spw, and observation. See section at end about which parameters\n",
    "are applicable for calibration tables. Since calibration tables do not\n",
    "have a *FLAG_CMD* table, parameter settings, if requested, can only be\n",
    "saved in external files. \n",
    "\n"
   ]
  },
  {
   "cell_type": "markdown",
   "metadata": {},
   "source": [
    "### &nbsp;\n",
    "\n"
   ]
  },
  {
   "cell_type": "markdown",
   "metadata": {},
   "source": [
    "### The *mode* parameter\n",
    "\n",
    "The mode parameter selects the flagging algorithm and the\n",
    "following are available:\n",
    "\n",
    "``` verbatim\n",
    "list        = list of flagging commands to apply to MS\n",
    "manual      = flagging based on specific selection parameters\n",
    "clip        = clip data according to values\n",
    "quack       = remove/keep specific time range at scan beginning/end\n",
    "shadow      = remove antenna-shadowed data\n",
    "elevation   = remove data below/above given elevations\n",
    "tfcrop      = automatic identification of outliers on the time-freq plane\n",
    "rflag       = automatic detection of outliers based on sliding-window RMS filters\n",
    "antint      = flag integrations if all baselines to a specified antenna are flagged\n",
    "extend      = extend and/or grow flags beyond what the basic algorithms detect\n",
    "summary     = report the amount of flagged data\n",
    "unflag      = unflag the specified data\n",
    "```\n",
    "\n",
    "these are described in detail lower\n",
    "down.\n",
    "\n",
    "Flagging will only be applied to the\n",
    "data selection that is performed with the usual selection\n",
    "parameters. The dataset is\n",
    "iterated-through in chunks (small pieces of data) consisting of one\n",
    "field, one spw, and a user-defined timerange (default is one scan). In\n",
    "addition to the typical antenna, spw, timerange, etc. selections, we\n",
    "would like to point out some addition of the correlation syntax for modes clip,\n",
    "tfcrop, and \n",
    "rflag. One can combine\n",
    "correlation products with simple mathematical expressions \n",
    "\n",
    "``` verbatim\n",
    "'ABS', 'ARG', 'RE', 'IM', 'NORM' \n",
    "```\n",
    "\n",
    "where\n",
    "*ABS* is the absolute value, *RE*, the real and *IM* the imaginary part.\n",
    "*NORM* and *ARG* refer to the amplitude and phase. This parameter is\n",
    "followed by the polarization products (using an underscore in between\n",
    "&ldquo;\\_&rdquo; )\n",
    "\n",
    "``` verbatim\n",
    "'ALL', 'I', 'XX', 'YY', 'RR', 'LL', 'WVR' \n",
    "```\n",
    "\n",
    "&rsquo;WVR&rsquo; refers to the water vapour radiometer of\n",
    "ALMA data. Note that the operators ABS,ARG,RE, etc. are written only once as the first\n",
    "value. if more than one correlation is given, the operator will be\n",
    "applied to all of them. An example would be \n",
    "\n",
    "correlation = 'RE_XX, XY'\n",
    "\n",
    "which would select all real XX and XY\n",
    "polarization for flagging. \n",
    "\n",
    "------------------------------------------------------------------------\n",
    "\n"
   ]
  },
  {
   "cell_type": "markdown",
   "metadata": {},
   "source": [
    "### The *action* parameter\n",
    "\n",
    "The parameter action controls whether the actual flagging\n",
    "commands will be applied or not and the options are the empty string\n",
    "&rdquo;, &rsquo;apply&rsquo; and &rsquo;calculate&rsquo;.\n",
    "\n",
    "apply is likely the most popular one as it applies\n",
    "the flags to the MS:\n",
    "\n",
    "\\#In CASA:  \n",
    "action = 'apply' \\"
   ]
  },
  {
   "cell_type": "markdown",
   "metadata": {},
   "source": [
    "## Action to perform in MS and/or in inpfile  \n",
    "\\"
   ]
  },
  {
   "cell_type": "markdown",
   "metadata": {},
   "source": [
    "## (none/apply/calculate)  \n",
    "display = '' \\"
   ]
  },
  {
   "cell_type": "markdown",
   "metadata": {},
   "source": [
    "## Display data and/or end-of-MS reports at runtime  \n",
    "\\"
   ]
  },
  {
   "cell_type": "markdown",
   "metadata": {},
   "source": [
    "## (data/report/both).  \n",
    "flagbackup = True \\"
   ]
  },
  {
   "cell_type": "markdown",
   "metadata": {},
   "source": [
    "## Back up the state of flags before the run\n",
    "\n",
    "flagbackup specifies if a backup of the current flags\n",
    "should be saved in the &ldquo;\\*.flagversions&rdquo; file. display can be  &rdquo;,\n",
    "&rsquo;data&rsquo;, &rsquo;report&rsquo;,\n",
    "&rsquo;both&rsquo; where\n",
    "the empty string &rdquo; will report no individual flagging\n",
    "statistics, whereas &rsquo;data&rsquo; launches an interactive GUI to display data\n",
    "and flags for each chunk to browse through. The plots are time-frequency\n",
    "planes and both old and new flags are being overlaid for all\n",
    "correlations per baseline. In the GUI, one can step though all chunks\n",
    "for inspection and if the flagging is unsatisfactory, one can exit\n",
    "without applying the flags. If the flagging is acceptable, it is also\n",
    "possible to continue flagging without viewing all chunks (the number of\n",
    "chunks can be very large for typical JVLA and ALMA data sets.\n",
    "display=&rsquo;report&rsquo; lists the flagging statistics at the end of\n",
    "the procedure on the screen and \n",
    "both starts the GUI and\n",
    "reports all statistics at the end.\n",
    "\n",
    "action=&rsquo;calculate&rsquo; calculates the flags but does not write them\n",
    "to the MS or calibration table. This is useful if one would like to\n",
    "inspect the computed flags in the GUI without a straight\n",
    "application:\n",
    "\n",
    "action&nbsp; = 'calculate' \\"
   ]
  },
  {
   "cell_type": "markdown",
   "metadata": {},
   "source": [
    "## Action to perform in MS and/or in inpfile\n",
    "(none/apply/calculate)  \n",
    "display = ''&nbsp;&nbsp;&nbsp;&nbsp;&nbsp;&nbsp;&nbsp;&nbsp;&nbsp; \\"
   ]
  },
  {
   "cell_type": "markdown",
   "metadata": {},
   "source": [
    "##\n",
    "Display data and/or end-of-MS reports at runtime (data/report/both).\n",
    "\n",
    "The empty string action=&rdquo; will do nothing and is useful when the\n",
    "commands themselves shall only be written to the FLAG_CMD sub-table or to an external file using the\n",
    "savepars parameter to specify the filename.\n",
    "\n",
    "savepars will save the flagging commands to a file\n",
    "that can be later used for input in flagdata via mode=&rsquo;list&rsquo;. It also shares the flagcmd syntax and can be used there. The file name\n",
    "is specified by outfile and, if empty, the FLAG_CMD table in the MS will be populated. A\n",
    "REASON can be given by the \n",
    "reason parameter which\n",
    "may be useful for bookkeeping as well as for unflagging data that are\n",
    "marked by specific REASON parameters. The overwrite parameter will control overwriting an\n",
    "existing file when saving the flag commands.\n",
    "\n"
   ]
  },
  {
   "cell_type": "markdown",
   "metadata": {},
   "source": [
    "### &nbsp;\n",
    "\n"
   ]
  },
  {
   "cell_type": "markdown",
   "metadata": {},
   "source": [
    "### Flagging Modes\n",
    "\n"
   ]
  },
  {
   "cell_type": "markdown",
   "metadata": {},
   "source": [
    "#### Manual Flag/Unflag\n",
    "\n",
    "mode = 'manual' \\"
   ]
  },
  {
   "cell_type": "markdown",
   "metadata": {},
   "source": [
    "## Flagging mode (list/manual/clip/shadow/quack/el  \n",
    "\\"
   ]
  },
  {
   "cell_type": "markdown",
   "metadata": {},
   "source": [
    "## evation/tfcrop/rflag/extend/unflag/summary)  \n",
    "field = '' \\"
   ]
  },
  {
   "cell_type": "markdown",
   "metadata": {},
   "source": [
    "## Field names or field index numbers: '' ==\\> all,  \n",
    "\\"
   ]
  },
  {
   "cell_type": "markdown",
   "metadata": {},
   "source": [
    "## field='0\\~2,3C286'  \n",
    "spw = '' \\"
   ]
  },
  {
   "cell_type": "markdown",
   "metadata": {},
   "source": [
    "## Spectral-window/frequency/channel: '' ==\\> all,  \n",
    "\\"
   ]
  },
  {
   "cell_type": "markdown",
   "metadata": {},
   "source": [
    "## spw='0:17\\~19'  \n",
    "antenna = '' \\"
   ]
  },
  {
   "cell_type": "markdown",
   "metadata": {},
   "source": [
    "## Antenna/baselines: '' ==\\> all, antenna  \n",
    "\\"
   ]
  },
  {
   "cell_type": "markdown",
   "metadata": {},
   "source": [
    "## ='3,VA04'  \n",
    "timerange = '' \\"
   ]
  },
  {
   "cell_type": "markdown",
   "metadata": {},
   "source": [
    "## Time range: '' ==\\>  \n",
    "\\"
   ]
  },
  {
   "cell_type": "markdown",
   "metadata": {},
   "source": [
    "## all,timerange='09:14:0\\~09:54:0'  \n",
    "correlation = '' \\"
   ]
  },
  {
   "cell_type": "markdown",
   "metadata": {},
   "source": [
    "## Correlation: '' ==\\> all, correlation='XX,YY'  \n",
    "scan = '' \\"
   ]
  },
  {
   "cell_type": "markdown",
   "metadata": {},
   "source": [
    "## Scan numbers: '' ==\\> all  \n",
    "intent = '' \\"
   ]
  },
  {
   "cell_type": "markdown",
   "metadata": {},
   "source": [
    "## Observation intent: '' ==\\> all,  \n",
    "\\"
   ]
  },
  {
   "cell_type": "markdown",
   "metadata": {},
   "source": [
    "## intent='CAL\\*POINT\\*'  \n",
    "array = '' \\"
   ]
  },
  {
   "cell_type": "markdown",
   "metadata": {},
   "source": [
    "## (Sub)array numbers: '' ==\\> all  \n",
    "uvrange = '' \\"
   ]
  },
  {
   "cell_type": "markdown",
   "metadata": {},
   "source": [
    "## UV range: '' ==\\> all; uvrange ='0\\~100klambda',  \n",
    "\\"
   ]
  },
  {
   "cell_type": "markdown",
   "metadata": {},
   "source": [
    "## default units=meters  \n",
    "observation = '' \\"
   ]
  },
  {
   "cell_type": "markdown",
   "metadata": {},
   "source": [
    "## Observation ID: '' ==\\> all  \n",
    "feed = '' \\"
   ]
  },
  {
   "cell_type": "markdown",
   "metadata": {},
   "source": [
    "## Multi-feed numbers: Not yet implemented  \n",
    "autocorr = False \\"
   ]
  },
  {
   "cell_type": "markdown",
   "metadata": {},
   "source": [
    "## Flag auto-correlations\n",
    "\n",
    "The &rsquo;manual&rsquo; mode is the most straight-forward of all\n",
    "modes. All visibilities that are selected by the various data selection\n",
    "parameters will be flagged or unflagged, depending on the \n",
    "action parameter.\n",
    "autocorr is a shorthand for \n",
    "antenna=&rsquo;\\*&&&&rsquo; to flag all auto correlations in the\n",
    "data.\n",
    "\n",
    "&nbsp;\n",
    "\n"
   ]
  },
  {
   "cell_type": "markdown",
   "metadata": {},
   "source": [
    "#### List\n",
    "\n",
    "mode = 'list' \\"
   ]
  },
  {
   "cell_type": "markdown",
   "metadata": {},
   "source": [
    "## Flagging mode (list/manual/clip/shadow/quack/el  \n",
    "\\"
   ]
  },
  {
   "cell_type": "markdown",
   "metadata": {},
   "source": [
    "## evation/tfcrop/rflag/extend/unflag/summary)  \n",
    "inpfile = '' \\"
   ]
  },
  {
   "cell_type": "markdown",
   "metadata": {},
   "source": [
    "## Input ASCII file, list of  \n",
    "\\"
   ]
  },
  {
   "cell_type": "markdown",
   "metadata": {},
   "source": [
    "## files or Python list of strings with\n",
    "\n",
    "\\"
   ]
  },
  {
   "cell_type": "markdown",
   "metadata": {},
   "source": [
    "## flag commands.  \n",
    "reason = 'any' \\"
   ]
  },
  {
   "cell_type": "markdown",
   "metadata": {},
   "source": [
    "## Select by REASON types\n",
    "\n",
    "A list of flag commands can be provided\n",
    "through a file or a list of files, specified by the inpfile parameter. Each input line may contain a\n",
    "flagging mode with data selection parameters as well as\n",
    "parameters that are specific to that mode. All parameters that are not set will be\n",
    "reset to their default values (default \n",
    "mode is &rsquo;manual&rsquo;). Each line of this file or list of strings\n",
    "will be taken as a command to the flagdata task. This \n",
    "mode=&rsquo;list&rsquo;\n",
    "is similar to the task flagcmd with the \n",
    "inpmode=&rsquo;list&rsquo; option.\n",
    "\n",
    "An example for such a file would be:\n",
    "\n",
    "\n",
    "``` verbatim\n",
    "mode='shadow'\n",
    "mode='clip' clipminmax=[0,5] correlation='ABS_ALL'\n",
    "mode='quack' quackmode='end' quackinterval=1.0\n",
    "antenna='ea01' timerange='00:00:00~01:00:00'\n",
    "antenna='ea11' timerange='00:00:00~03:00:00' spw='0~4'\n",
    "```\n",
    "\n",
    "Alternatively, this can be issued in\n",
    "the task directly like:\n",
    "\n",
    "\\#In CASA:  \n",
    "CASA\\<1\\>: flagdata(vis='vis',mode='list',  \n",
    "inpfile=\\[\"mode='shadow'\",  \n",
    "\"mode='clip' clipminmax=\\[0,5\\] correlation='ABS_ALL'\",  \n",
    "\"mode='quack' quackmode='end' quackinterval=1.0\"'  \n",
    "\"antenna='ea01' timerange='00:00:00\\~01:00:00'\",  \n",
    "\"antenna='ea11' timerange='00:00:00\\~03:00:00' spw='0\\~4'\"\\])\n",
    "\n",
    "  or\n",
    "via a variable \n",
    "\n",
    "\\#In CASA:  \n",
    "CASA\\<1\\>:cmds=\\[\"mode='shadow',  \n",
    "\"mode='clip' clipminmax=\\[0,5\\] correlation='ABS_ALL'\",  \n",
    "\"mode='quack' quackmode='end' quackinterval=1.0\",  \n",
    "\"antenna='ea01' timerange='00:00:00\\~01:00:00'\",  \n",
    "\"antenna='ea11' timerange='00:00:00\\~03:00:00' spw='0\\~4'\"\\]\n",
    "\n",
    "  \n",
    "CASA\\<2\\>: flagdata(vis='vis',mode='list', inpfile=cmds)\n",
    "\n",
    "The syntax needs to be written with\n",
    "quotes e.g. mode=&rsquo;manual&rsquo;\n",
    "antenna=&rsquo;ea10&rsquo;. There should be no space between\n",
    "key=value. Spaces are used to separate pairs of\n",
    "parameters, not commas.\n",
    "\n",
    "&nbsp;\n",
    "\n"
   ]
  },
  {
   "cell_type": "markdown",
   "metadata": {},
   "source": [
    "#### Clip\n",
    "\n",
    "mode = 'clip' \\"
   ]
  },
  {
   "cell_type": "markdown",
   "metadata": {},
   "source": [
    "## Flagging mode (list/manual/clip/shadow/quack/  \n",
    "\\"
   ]
  },
  {
   "cell_type": "markdown",
   "metadata": {},
   "source": [
    "## elevation/tfcrop/rflag/extend/unflag/summary)  \n",
    "...  \n",
    "datacolumn = 'DATA' \\"
   ]
  },
  {
   "cell_type": "markdown",
   "metadata": {},
   "source": [
    "## Data column on which to operate  \n",
    "\\"
   ]
  },
  {
   "cell_type": "markdown",
   "metadata": {},
   "source": [
    "## (data,corrected,model,residual)  \n",
    "clipminmax = \\[\\] \\"
   ]
  },
  {
   "cell_type": "markdown",
   "metadata": {},
   "source": [
    "## Range to use for clipping  \n",
    "clipoutside = True \\"
   ]
  },
  {
   "cell_type": "markdown",
   "metadata": {},
   "source": [
    "## Clip outside the range, or within it  \n",
    "channelavg = False \\"
   ]
  },
  {
   "cell_type": "markdown",
   "metadata": {},
   "source": [
    "## Average over channels (scalar average)  \n",
    "timeavg = False \\"
   ]
  },
  {
   "cell_type": "markdown",
   "metadata": {},
   "source": [
    "## Average over time ranges  \n",
    "timebin = '' \\"
   ]
  },
  {
   "cell_type": "markdown",
   "metadata": {},
   "source": [
    "## Bin width for time averaging.  \n",
    "clipzeros = False \\"
   ]
  },
  {
   "cell_type": "markdown",
   "metadata": {},
   "source": [
    "## Clip zero-value data\n",
    "\n",
    "in addition to the regular selection\n",
    "parameters, mode=&rsquo;clip&rsquo; also has an option to select between a\n",
    "number of scratch columns in datacolumn. This includes the usual DATA, CORRECTED, etc., and also clipping based on data\n",
    "weights WEIGHT, \n",
    "WEIGHT_SPECTRUM as well\n",
    "as other MS columns. clipminmax selects the range of values to be clipped\n",
    "&ndash; usually this is combined with \n",
    "clipoutside=True to clip\n",
    "everything but the values covered in clipminmax. The data can also be averaged over the\n",
    "selected  spw channel ranges by setting channelavg=True, or time averages via timeavg=True and setting of timebin. clip will also flag &rsquo;NaN&rsquo;,\n",
    "&rsquo;inf&rsquo;, and &rsquo;-inf&rsquo; values by default and can flag\n",
    "exact zero values (these are sometimes produced by the JVLA correlator)\n",
    "using the clipzeros parameter.\n",
    "\n",
    "Note : For modes clip,\n",
    "tfcrop and rflag, channel-ranges can be excluded from\n",
    "flagging by selecting ranges such as \n",
    "spw=&rsquo;0:05;1063&rsquo;. This is a way to protect known\n",
    "spectral-lines from being flagged by the autoflag algorithms.\n",
    "\n",
    "&nbsp;\n",
    "\n"
   ]
  },
  {
   "cell_type": "markdown",
   "metadata": {},
   "source": [
    "#### Shadow\n",
    "\n",
    "mode = 'shadow' \\"
   ]
  },
  {
   "cell_type": "markdown",
   "metadata": {},
   "source": [
    "## Flagging mode (list/manual/clip/shadow/quack/  \n",
    "\\"
   ]
  },
  {
   "cell_type": "markdown",
   "metadata": {},
   "source": [
    "## elevation/tfcrop/rflag/extend/unflag/summary)  \n",
    "...  \n",
    "tolerance = 0.0 \\"
   ]
  },
  {
   "cell_type": "markdown",
   "metadata": {},
   "source": [
    "## Amount of shadow allowed (in meters)  \n",
    "addantenna = '' \\"
   ]
  },
  {
   "cell_type": "markdown",
   "metadata": {},
   "source": [
    "## File name or dictionary with additional antenna\n",
    "names,  \n",
    "\\"
   ]
  },
  {
   "cell_type": "markdown",
   "metadata": {},
   "source": [
    "## positions and diameters\n",
    "\n",
    "This option flags shadowed antennas,\n",
    "i.e. when one antenna blocks part of the aperture of a second antenna\n",
    "that is behind the first one. Shadowing can be gradual and the criterion\n",
    "for a shadow flag is when a baseline is shorter than radius<sub>1</sub> + radius<sub>2</sub> &minus; tolerance (where the radii of the antennae are taken\n",
    "from the MS antenna subtable); see the figure below. addantenna may be used to account for shadowing when\n",
    "antennas are not listed in the MS but are physically present. Please\n",
    "read the flagdata inline help for the syntax of this\n",
    "option.\n",
    "\n",
    "------------------------------------------------------------------------\n",
    "\n",
    "\n",
    "![](https://raw.githubusercontent.com/1549b953275f8856b049cd09f60d19c320b125b8.png)\n",
    "\n",
    "|                                                                                                           |\n",
    "|:----------------------------------------------------------------------------------------------------------|\n",
    "| This figure shows the geometry used to compute shadowed antennas. |\n",
    "\n",
    "&nbsp;\n",
    "\n",
    "&nbsp;\n",
    "\n"
   ]
  },
  {
   "cell_type": "markdown",
   "metadata": {},
   "source": [
    "#### Quack\n",
    "\n",
    "mode = 'quack' \\"
   ]
  },
  {
   "cell_type": "markdown",
   "metadata": {},
   "source": [
    "## Flagging mode (list/manual/clip/shadow/quack/  \n",
    "\\"
   ]
  },
  {
   "cell_type": "markdown",
   "metadata": {},
   "source": [
    "## elevation/tfcrop/rflag/extend/unflag/summary)  \n",
    "...  \n",
    "quackinterval = 0.0 \\"
   ]
  },
  {
   "cell_type": "markdown",
   "metadata": {},
   "source": [
    "## Quack n seconds from scan beginning or end  \n",
    "quackmode = 'beg' \\"
   ]
  },
  {
   "cell_type": "markdown",
   "metadata": {},
   "source": [
    "## flag an interval at the beginning of scan  \n",
    "'endb' \\"
   ]
  },
  {
   "cell_type": "markdown",
   "metadata": {},
   "source": [
    "## flag an interval at the end of scan  \n",
    "'tail' \\"
   ]
  },
  {
   "cell_type": "markdown",
   "metadata": {},
   "source": [
    "## flag all but an interval at the beginning of  \n",
    "scan  \n",
    "'end' \\"
   ]
  },
  {
   "cell_type": "markdown",
   "metadata": {},
   "source": [
    "## flag all but an interval at end of scan\n",
    "\n",
    "quackincrement = False \\"
   ]
  },
  {
   "cell_type": "markdown",
   "metadata": {},
   "source": [
    "## Flag incrementally in time?\n",
    "\n",
    "quack is used to remove data at scan boundaries.\n",
    " quackinterval specifies the time in seconds to be flagged,\n",
    "and  quackmode can be &rsquo;beg&rsquo; to flag the quackinterval at the beginning of each selected scan,\n",
    "&rsquo;endb&rsquo; at the end of scan. \n",
    "&rsquo;tail&rsquo; flags\n",
    "all but the beginning of scan and &rsquo;end&rsquo; all but the end of scan. The quackincrement is either True or \n",
    "False, depending if one\n",
    "wishes to flag the quackinterval from the first unflagged data in the scan,\n",
    "or from the scan boundaries independent of data being already flagged or\n",
    "not.\n",
    "\n",
    "&nbsp;\n",
    "\n",
    "Because *quackincrement=True* needs to\n",
    "know the state of the previous flags in order to know which is the first\n",
    "unflagged data, it cannot be used in 'list' mode, unless it is the first\n",
    "command of the list.\n",
    "\n",
    "Visual representation of quack mode when flagging a scan  \n",
    "with 1s duration. The following diagram shows what is flagged  \n",
    "for each quack mode when quackinterval is set to 0.25s.  \n",
    "The flagged part is represented by crosses (+++++++++)\n",
    "\n",
    "scan with 1s duration  \n",
    "--------------------------------------------  \n",
    "beg  \n",
    "+++++++++++---------------------------------  \n",
    "endb  \n",
    "---------------------------------+++++++++++  \n",
    "tail  \n",
    "-----------+++++++++++++++++++++++++++++++++  \n",
    "end  \n",
    "+++++++++++++++++++++++++++++++++-----------\n",
    "\n"
   ]
  },
  {
   "cell_type": "markdown",
   "metadata": {},
   "source": [
    "#### &nbsp;\n",
    "\n"
   ]
  },
  {
   "cell_type": "markdown",
   "metadata": {},
   "source": [
    "#### Elevation\n",
    "\n",
    "mode = 'elevation' \\"
   ]
  },
  {
   "cell_type": "markdown",
   "metadata": {},
   "source": [
    "## Flagging mode (list/manual/clip/shadow/quack/  \n",
    "\\"
   ]
  },
  {
   "cell_type": "markdown",
   "metadata": {},
   "source": [
    "## elevation/tfcrop/rflag/extend/unflag/summary)  \n",
    "...  \n",
    "lowerlimit = 0.0 \\"
   ]
  },
  {
   "cell_type": "markdown",
   "metadata": {},
   "source": [
    "## Lower limiting elevation (in degrees)  \n",
    "upperlimit = 90.0 \\"
   ]
  },
  {
   "cell_type": "markdown",
   "metadata": {},
   "source": [
    "## Upper limiting elevation (in degrees)\n",
    "\n",
    "Flagging based on the elevation of the\n",
    "antennae. This may be useful to avoid data taken at very low elevations\n",
    "or close to transit and the lowerlimit and upperlimit parameters specify the range of good\n",
    "elevations.\n",
    "\n"
   ]
  },
  {
   "cell_type": "markdown",
   "metadata": {},
   "source": [
    "#### &nbsp;\n",
    "\n"
   ]
  },
  {
   "cell_type": "markdown",
   "metadata": {},
   "source": [
    "#### Tfcrop\n",
    "\n",
    "mode = 'tfcrop' \\"
   ]
  },
  {
   "cell_type": "markdown",
   "metadata": {},
   "source": [
    "## Flagging mode (list/manual/clip/shadow/quack/  \n",
    "\\"
   ]
  },
  {
   "cell_type": "markdown",
   "metadata": {},
   "source": [
    "## elevation/tfcrop/rflag/extend/unflag/summary  \n",
    "\\"
   ]
  },
  {
   "cell_type": "markdown",
   "metadata": {},
   "source": [
    "## )  \n",
    "...  \n",
    "ntime = 'scan' \\"
   ]
  },
  {
   "cell_type": "markdown",
   "metadata": {},
   "source": [
    "## Time-range to use for each chunk (in seconds  \n",
    "\\"
   ]
  },
  {
   "cell_type": "markdown",
   "metadata": {},
   "source": [
    "## or minutes)  \n",
    "combinescans = False \\"
   ]
  },
  {
   "cell_type": "markdown",
   "metadata": {},
   "source": [
    "## Accumulate data across scans.  \n",
    "datacolumn = 'DATA' \\"
   ]
  },
  {
   "cell_type": "markdown",
   "metadata": {},
   "source": [
    "## Data column on which to operate  \n",
    "\\"
   ]
  },
  {
   "cell_type": "markdown",
   "metadata": {},
   "source": [
    "## (data,corrected,model,residual)  \n",
    "timecutoff = 4.0 \\"
   ]
  },
  {
   "cell_type": "markdown",
   "metadata": {},
   "source": [
    "## Flagging thresholds in units of deviation  \n",
    "\\"
   ]
  },
  {
   "cell_type": "markdown",
   "metadata": {},
   "source": [
    "## from the fit  \n",
    "freqcutoff = 3.0 \\"
   ]
  },
  {
   "cell_type": "markdown",
   "metadata": {},
   "source": [
    "## Flagging thresholds in units of deviation  \n",
    "\\"
   ]
  },
  {
   "cell_type": "markdown",
   "metadata": {},
   "source": [
    "## from the fit  \n",
    "timefit = 'line' \\"
   ]
  },
  {
   "cell_type": "markdown",
   "metadata": {},
   "source": [
    "## Fitting function for the time direction  \n",
    "\\"
   ]
  },
  {
   "cell_type": "markdown",
   "metadata": {},
   "source": [
    "## (poly/line)  \n",
    "freqfit = 'poly' \\"
   ]
  },
  {
   "cell_type": "markdown",
   "metadata": {},
   "source": [
    "## Fitting function for the frequency direction  \n",
    "\\"
   ]
  },
  {
   "cell_type": "markdown",
   "metadata": {},
   "source": [
    "## (poly/line)  \n",
    "maxnpieces = 7 \\"
   ]
  },
  {
   "cell_type": "markdown",
   "metadata": {},
   "source": [
    "## Number of pieces in the polynomial-fits (for  \n",
    "\\"
   ]
  },
  {
   "cell_type": "markdown",
   "metadata": {},
   "source": [
    "## 'freqfit' or 'timefit' = 'poly')  \n",
    "flagdimension = 'freqtime' \\"
   ]
  },
  {
   "cell_type": "markdown",
   "metadata": {},
   "source": [
    "## Dimensions along which to calculate fits  \n",
    "\\"
   ]
  },
  {
   "cell_type": "markdown",
   "metadata": {},
   "source": [
    "## (freq/time/freqtime/timefreq)  \n",
    "usewindowstats = 'none' \\"
   ]
  },
  {
   "cell_type": "markdown",
   "metadata": {},
   "source": [
    "## Calculate additional flags using sliding  \n",
    "\\"
   ]
  },
  {
   "cell_type": "markdown",
   "metadata": {},
   "source": [
    "## window statistics (none,sum,std,both)  \n",
    "halfwin = 1 \\"
   ]
  },
  {
   "cell_type": "markdown",
   "metadata": {},
   "source": [
    "## Half-width of sliding window to use with  \n",
    "\\"
   ]
  },
  {
   "cell_type": "markdown",
   "metadata": {},
   "source": [
    "## 'usewindowstats' (1,2,3).  \n",
    "extendflags = True \\"
   ]
  },
  {
   "cell_type": "markdown",
   "metadata": {},
   "source": [
    "## Extend flags along time,  \n",
    "\\"
   ]
  },
  {
   "cell_type": "markdown",
   "metadata": {},
   "source": [
    "## frequency and correlation.  \n",
    "channelavg = False \\"
   ]
  },
  {
   "cell_type": "markdown",
   "metadata": {},
   "source": [
    "## Pre-average data across channels before  \n",
    "\\"
   ]
  },
  {
   "cell_type": "markdown",
   "metadata": {},
   "source": [
    "## analyzing visibilities for flagging.  \n",
    "chanbin = False \\"
   ]
  },
  {
   "cell_type": "markdown",
   "metadata": {},
   "source": [
    "## Bin width for channel average in  \n",
    "\\"
   ]
  },
  {
   "cell_type": "markdown",
   "metadata": {},
   "source": [
    "## number of input channels.  \n",
    "timeavg = False \\"
   ]
  },
  {
   "cell_type": "markdown",
   "metadata": {},
   "source": [
    "## Pre-average data across time before  \n",
    "\\"
   ]
  },
  {
   "cell_type": "markdown",
   "metadata": {},
   "source": [
    "## analyzing visibilities for flagging  \n",
    "timebin = False \\"
   ]
  },
  {
   "cell_type": "markdown",
   "metadata": {},
   "source": [
    "## Bin width for time average in seconds\n",
    "\n",
    "TFCrop is an autoflag algorithm that\n",
    "detects outliers on the 2D time-frequency plane, and can operate on\n",
    "un-calibrated data (non bandpass-corrected). The original implementation\n",
    "of this algorithm is described in NCRA Technical Report 202 (Oct\n",
    "2003).\n",
    "\n",
    "The algorithm iterates through the data\n",
    "in chunks of time. For each chunk, the result of user-specified\n",
    "visibility-expressions are organized as 2D time-frequency planes, one\n",
    "for each baseline and correlation-expression result, and the following\n",
    "steps are performed.\n",
    "\n",
    "As of CASA 4.6 the data can also be\n",
    "pre-averaged over the selected spw channel ranges by setting channelavg=True and chanbin to the desired bin (in number of channels),\n",
    "or time averaged over the selected time ranges by setting timeavg=True and timebin to the desired time range (in seconds). This\n",
    "averaging is independent from the tfcrop time/channel average, and\n",
    "allows to specify custom time/channel average bins, instead of averaging\n",
    "all data across time and/or channel direction.\n",
    "\n",
    "1.  Calculate a bandshape template :\n",
    "    Average the data across time, to construct an average bandpass.\n",
    "    Construct an estimate of a clean bandpass (without RFI) via a robust\n",
    "    piece-wise polynomial fit to the average bandpass shape.\n",
    "\n",
    "    Note : A robust fit is computed in\n",
    "    up to 5 iterations. It begins with a straight line fit across the\n",
    "    full range, and gradually increases to &rsquo;maxnpieces&rsquo;\n",
    "    number of pieces with third-order polynomials in each piece. At each\n",
    "    iteration, the stddev between the data and the fit is computed,\n",
    "    values beyond N-stddev are flagged, and the fit and stddev are\n",
    "    re-calculated with the remaining points. This stddev calculation is\n",
    "    adaptive, and converges to a value that reflects only the data and\n",
    "    no RFI. At each iteration, the same relative threshold is applied to\n",
    "    detect flags, and this results in a varying set of flagging\n",
    "    thresholds, that allows deep flagging only when the fit represents\n",
    "    the true data best. Iterations stop when the stddev changes by less\n",
    "    than 10%, or when 5 iterations are completed.\n",
    "\n",
    "    The resulting clean bandpass is a\n",
    "    fit across the base of RFI spikes.\n",
    "\n",
    "2.  Divide out this clean bandpass\n",
    "    function from all timesteps in the current chunk. Now, any data\n",
    "    points that deviate from a mean of 1 can be considered RFI. This\n",
    "    step helps to separate narrow-band RFI spikes from a smooth but\n",
    "    varying bandpass, in situations where a simple range-based clipping\n",
    "    will flag good sections of the bandpass.\n",
    "\n",
    "3.  Perform iterative flagging (robust\n",
    "    flagging) of points deviating from a value of 1.\n",
    "\n",
    "    Flagging is done in up to 5\n",
    "    iterations. In each iteration, for every timestep, calculate the\n",
    "    stddev of the bandpass-flattened data, flag all points further than\n",
    "    N times stddev from the fit, and recalculate the stddev. At each\n",
    "    iteration, the same relative threshold is applied to detect flags.\n",
    "    Optionally, use sliding-window based statistics to calculate\n",
    "    additional flags.\n",
    "\n",
    "4.  Repeat steps 1 and 3, but in the\n",
    "    other direction (i.e. average the data across frequency, calculate a\n",
    "    piece-wise polynomial fit to the average time-series, and find flags\n",
    "    based on deviations w.r.to this fit.)\n",
    "\n",
    "The default parameters of the tfcrop\n",
    "implementation are optimized for strong narrow-band RFI (see the example\n",
    "figure below). With broad-band\n",
    "RFI, the piece-wise polynomial can sometimes model it as part of the\n",
    "band-shape, and therefore not detect it as RFI. In this case, reducing\n",
    "the maximum number of pieces in the polynomial can help. This algorithm\n",
    "usually has trouble with noisy RFI that is also extended in time of\n",
    "frequency, and additional statistics-based flagging is recommended (via\n",
    "the &rsquo;usewindowstats&rsquo; parameter). It is often required to set\n",
    "up parameters separately for each spectral-window.\n",
    "\n",
    "If frequency ranges of known\n",
    "astronomical spectral lines are known \n",
    "a-priori , they can be\n",
    "protected from automatic flagging by de-selecting those frequency-ranges\n",
    "via the &rsquo;spw&rsquo; data-selection parameter.\n",
    "\n",
    "The extendflag parameter will clean up small portions of\n",
    "data between flagged data points along time and/or frequency when more\n",
    "than 50% of all timeranges or 80% of all channels are already flagged.\n",
    "It will also extend the flags to the other polarizations. Alternatively,\n",
    "mode=&rsquo;extend&rsquo; can be used (see section below).\n",
    "\n",
    "&nbsp;\n",
    "\n",
    "\n",
    "![](https://raw.githubusercontent.com/ab85ff655f50ffc1e9b342b61fa9f82458aaf442.png)\n",
    "\n",
    "|                                                                                                                                                                                                                                                                                                                                                                                                                                     |\n",
    "|:------------------------------------------------------------------------------------------------------------------------------------------------------------------------------------------------------------------------------------------------------------------------------------------------------------------------------------------------------------------------------------------------------------------------------------|\n",
    "| This screenshot represents a run where &rsquo;tfcrop&rsquo; was run on a spw=&rsquo;9&rsquo; with mainly narrow-band RFI. RIGHT : An example of protecting a spectral line (in this case, demonstrated on an RFI spike) by setting the spw-selection to spw=&rsquo;0:0 45;53 63&rsquo;. In both figures, the top row indicates the data before flagging, and the bottom row after flagging. |\n",
    "\n",
    "> ------------------------------------------------------------------------\n",
    "\n"
   ]
  },
  {
   "cell_type": "markdown",
   "metadata": {},
   "source": [
    "##### &nbsp;\n",
    "\n"
   ]
  },
  {
   "cell_type": "markdown",
   "metadata": {},
   "source": [
    "#### Rflag\n",
    "\n",
    "mode = 'rflag' \\"
   ]
  },
  {
   "cell_type": "markdown",
   "metadata": {},
   "source": [
    "## Flagging mode (list/manual/clip/shadow/quack/  \n",
    "\\"
   ]
  },
  {
   "cell_type": "markdown",
   "metadata": {},
   "source": [
    "## elevation/tfcrop/rflag/extend/unflag/summary  \n",
    "\\"
   ]
  },
  {
   "cell_type": "markdown",
   "metadata": {},
   "source": [
    "## )  \n",
    "...  \n",
    "ntime = 'scan' \\"
   ]
  },
  {
   "cell_type": "markdown",
   "metadata": {},
   "source": [
    "## Time-range to use for each chunk (in seconds  \n",
    "\\"
   ]
  },
  {
   "cell_type": "markdown",
   "metadata": {},
   "source": [
    "## or minutes)  \n",
    "combinescans = False \\"
   ]
  },
  {
   "cell_type": "markdown",
   "metadata": {},
   "source": [
    "## Accumulate data across scans.  \n",
    "datacolumn = 'DATA' \\"
   ]
  },
  {
   "cell_type": "markdown",
   "metadata": {},
   "source": [
    "## Data column on which to operate  \n",
    "\\"
   ]
  },
  {
   "cell_type": "markdown",
   "metadata": {},
   "source": [
    "## (data,corrected,model,residual)  \n",
    "winsize = 3 \\"
   ]
  },
  {
   "cell_type": "markdown",
   "metadata": {},
   "source": [
    "## Number of timesteps in the sliding time  \n",
    "\\"
   ]
  },
  {
   "cell_type": "markdown",
   "metadata": {},
   "source": [
    "## window \\[aips:fparm(1)\\]  \n",
    "timedev = '' \\"
   ]
  },
  {
   "cell_type": "markdown",
   "metadata": {},
   "source": [
    "## Time-series noise estimate \\[aips:noise\\]  \n",
    "freqdev = '' \\"
   ]
  },
  {
   "cell_type": "markdown",
   "metadata": {},
   "source": [
    "## Spectral noise estimate \\[aips:scutoff\\]  \n",
    "timedevscale = 5.0 \\"
   ]
  },
  {
   "cell_type": "markdown",
   "metadata": {},
   "source": [
    "## Threshold scaling for timedev \\[aips:fparm(9)\\]  \n",
    "freqdevscale = 5.0 \\"
   ]
  },
  {
   "cell_type": "markdown",
   "metadata": {},
   "source": [
    "## Threshold scaling for freqdev  \n",
    "\\"
   ]
  },
  {
   "cell_type": "markdown",
   "metadata": {},
   "source": [
    "## \\[aips:fparm(10)\\]  \n",
    "spectralmax = 1000000.0 \\"
   ]
  },
  {
   "cell_type": "markdown",
   "metadata": {},
   "source": [
    "## Flag whole spectrum if freqdev is greater  \n",
    "\\"
   ]
  },
  {
   "cell_type": "markdown",
   "metadata": {},
   "source": [
    "## than spectralmax \\[aips:fparm(6)\\]  \n",
    "spectralmin = 0.0 \\"
   ]
  },
  {
   "cell_type": "markdown",
   "metadata": {},
   "source": [
    "## Flag whole spectrum if freqdev is less than  \n",
    "\\"
   ]
  },
  {
   "cell_type": "markdown",
   "metadata": {},
   "source": [
    "## spectralmin \\[aips:fparm(5)\\]  \n",
    "extendflags = True \\"
   ]
  },
  {
   "cell_type": "markdown",
   "metadata": {},
   "source": [
    "## Extend flags along time, frequency and\n",
    "correlation.  \n",
    "channelavg = False \\"
   ]
  },
  {
   "cell_type": "markdown",
   "metadata": {},
   "source": [
    "## Pre-average data across channels before  \n",
    "\\"
   ]
  },
  {
   "cell_type": "markdown",
   "metadata": {},
   "source": [
    "## analyzing visibilities for flagging.  \n",
    "chanbin = False \\"
   ]
  },
  {
   "cell_type": "markdown",
   "metadata": {},
   "source": [
    "## Bin width for channel average in  \n",
    "\\"
   ]
  },
  {
   "cell_type": "markdown",
   "metadata": {},
   "source": [
    "## number of input channels.  \n",
    "timeavg = False \\"
   ]
  },
  {
   "cell_type": "markdown",
   "metadata": {},
   "source": [
    "## Pre-average data across time before  \n",
    "\\"
   ]
  },
  {
   "cell_type": "markdown",
   "metadata": {},
   "source": [
    "## analyzing visibilities for flagging  \n",
    "timebin = False \\"
   ]
  },
  {
   "cell_type": "markdown",
   "metadata": {},
   "source": [
    "## Bin width for time average in seconds\n",
    "\n",
    "RFlag is an autoflag algorithm based on\n",
    "a sliding window statistical filter. The RFlag algorithm was originally\n",
    "developed by Eric Greisen in AIPS (31DEC11). AIPS documentation :\n",
    "Subsection E.5 of the AIPS cookbook (Appendix E : Special Considerations\n",
    "for JVLA data calibration and imaging in\n",
    "AIPS<a href=\"https://casa.nrao.edu/casadocs-devel/docs/cookbook/casa_cookbook004.html#note3\" id=\"text3\"></a>, [http://www.aips.nrao.edu/cook.html\\#CEE](http://www.aips.nrao.edu/cook.html#CEE))\n",
    "\n",
    "In RFlag, the data is iterated-through\n",
    "in chunks of time, statistics are accumulated across time-chunks,\n",
    "thresholds are calculated at the end, and applied during a second pass\n",
    "through the dataset.\n",
    "\n",
    "The CASA implementation also optionally\n",
    "allows a single-pass operation where statistics and thresholds are\n",
    "computed and also used for flagging, within each time-chunk (defined by\n",
    "&rsquo;ntime&rsquo; and &rsquo;combinescans&rsquo;).\n",
    "\n",
    "For each chunk, calculate local\n",
    "statistics, and apply flags based on user supplied (or auto-calculated)\n",
    "thresholds.\n",
    "\n",
    "As of CASA 4.6 the data can also be\n",
    "pre-averaged over the selected spw channel ranges by setting channelavg=True and chanbin to the desired bin (in number of channels),\n",
    "or time averaged over the selected time ranges by setting timeavg=True and timebin to the desired time range (in seconds). This\n",
    "averaging is independent from the rflag time/channel sliding window, as\n",
    "it performs not only an average but also a binning operation (so there\n",
    "is no data overlap between adjacent bins), and allows to specify\n",
    "independent time/channel bins.\n",
    "\n",
    "1.  Time analysis (for each channel)\n",
    "    \n",
    "    1.  Calculate local rms of real and\n",
    "        imag visibilities, within a sliding time window \n",
    "    2.  Calculate the median rms across\n",
    "        time windows, deviations of local rms from this median, and the\n",
    "        median deviation \n",
    "    3.  Flag if local rms is larger\n",
    "        than timedevscale x (medianRMS + medianDev) \n",
    "2.  Spectral analysis (for each time)\n",
    "    \n",
    "    1.  Calculate avg of real and imag\n",
    "        visibilities and their rms across channels \n",
    "    2.  Calculate the deviation of each\n",
    "        channel from this avg, and the median-deviation \n",
    "    3.  Flag if deviation is larger\n",
    "        than freqdevscale x medianDev \n",
    "\n",
    "The extendflags parameter will clean up small portions of\n",
    "data between flagged data points along time and/or frequency when more\n",
    "than 50% of all timeranges or 80% of all channels are already flagged.\n",
    "It will also extend the flags to the other polarizations. Alternatively,\n",
    "mode=&rsquo;extend&rsquo; can be used.\n",
    "\n",
    "Some examples (see figure\n",
    "below):  \n",
    "\n",
    "\n",
    "1.  Calculate thresholds automatically per\n",
    "    scan, and use them to find flags. Specify scale-factor for\n",
    "    time-analysis thresholds, use default for frequency.\n",
    "    \\#In CASA:  \n",
    "    CASA\\<1\\>: flagdata('my.ms', mode='rflag',spw='9',timedevscale=4.0)\n",
    "\n",
    "2.  Supply noise-estimates to be used with\n",
    "    default scale-factors.\n",
    "\n",
    "    \\#In CASA:  \n",
    "    CASA\\<1\\>: flagdata(vis='my.ms', mode='rflag', spw='9', timedev=0.1,\n",
    "    freqdev=0.5);\n",
    "\n",
    "    Two-passes. This replicates the\n",
    "    usage pattern in AIPS. \n",
    "\n",
    "    -   The first pass saves commands\n",
    "        in an output text files, with auto-calculated thresholds.\n",
    "        Thresholds are returned from rflag only when action='calculate'&nbsp;(calc-only mode). The user can\n",
    "        edit this file before doing the second pass, but the\n",
    "        python-dictionary structure must be preserved.\n",
    "    -   The second pass applies these\n",
    "        commands (action='apply').\n",
    "        \\#In CASA:  \n",
    "        CASA\\<1\\>: flagdata(vis='my.ms', mode='rflag', spw='9,10',\n",
    "        timedev='tdevfile.txt', freqdev='fdevfile.txt',\n",
    "        action='calculate');  \n",
    "        CASA\\<2\\>: flagdata(vis='my.ms', mode='rflag', spw='9,10',\n",
    "        timedev='tdevfile.txt', freqdev='fdevfile.txt', action='apply');\n",
    "\n",
    "        ------------------------------------------------------------------------\n",
    "\n",
    "        \n",
    "        ![](https://raw.githubusercontent.com/0897c13b6603be6efd68d97c7fc69171bef47cf6.png)\n",
    "        |                                                                                                                                                                                                      |\n",
    "        |:-----------------------------------------------------------------------------------------------------------------------------------------------------------------------------------------------------|\n",
    "        | Example of rflag on narrow-band RFI |\n",
    "\n",
    "> ------------------------------------------------------------------------\n",
    ">\n",
    "> &nbsp;\n",
    ">\n",
    "> &nbsp;\n",
    "\n"
   ]
  },
  {
   "cell_type": "markdown",
   "metadata": {},
   "source": [
    "#### Extend\n",
    "\n",
    "mode = 'extend' \\"
   ]
  },
  {
   "cell_type": "markdown",
   "metadata": {},
   "source": [
    "## Flagging mode (list/manual/clip/shadow/quack/el  \n",
    "\\"
   ]
  },
  {
   "cell_type": "markdown",
   "metadata": {},
   "source": [
    "## evation/tfcrop/rflag/extend/unflag/summary)  \n",
    "field = '' \\"
   ]
  },
  {
   "cell_type": "markdown",
   "metadata": {},
   "source": [
    "## Field names or field index numbers: '' ==\\> all,  \n",
    "\\"
   ]
  },
  {
   "cell_type": "markdown",
   "metadata": {},
   "source": [
    "## field='0\\~2,3C286'  \n",
    "spw = '' \\"
   ]
  },
  {
   "cell_type": "markdown",
   "metadata": {},
   "source": [
    "## Spectral-window/frequency/channel: '' ==\\> all,  \n",
    "\\"
   ]
  },
  {
   "cell_type": "markdown",
   "metadata": {},
   "source": [
    "## spw='0:17\\~19'  \n",
    "antenna = '' \\"
   ]
  },
  {
   "cell_type": "markdown",
   "metadata": {},
   "source": [
    "## Antenna/baselines: '' ==\\> all, antenna  \n",
    "\\"
   ]
  },
  {
   "cell_type": "markdown",
   "metadata": {},
   "source": [
    "## ='3,VA04'  \n",
    "timerange = '' \\"
   ]
  },
  {
   "cell_type": "markdown",
   "metadata": {},
   "source": [
    "## Time range: '' ==\\>  \n",
    "\\"
   ]
  },
  {
   "cell_type": "markdown",
   "metadata": {},
   "source": [
    "## all,timerange='09:14:0\\~09:54:0'  \n",
    "correlation = '' \\"
   ]
  },
  {
   "cell_type": "markdown",
   "metadata": {},
   "source": [
    "## Correlation: '' ==\\> all, correlation='XX,YY'  \n",
    "scan = '' \\"
   ]
  },
  {
   "cell_type": "markdown",
   "metadata": {},
   "source": [
    "## Scan numbers: '' ==\\> all  \n",
    "intent = '' \\"
   ]
  },
  {
   "cell_type": "markdown",
   "metadata": {},
   "source": [
    "## Observation intent: '' ==\\> all,  \n",
    "\\"
   ]
  },
  {
   "cell_type": "markdown",
   "metadata": {},
   "source": [
    "## intent='CAL\\*POINT\\*'  \n",
    "array = '' \\"
   ]
  },
  {
   "cell_type": "markdown",
   "metadata": {},
   "source": [
    "## (Sub)array numbers: '' ==\\> all  \n",
    "uvrange = '' \\"
   ]
  },
  {
   "cell_type": "markdown",
   "metadata": {},
   "source": [
    "## UV range: '' ==\\> all; uvrange ='0\\~100klambda',  \n",
    "\\"
   ]
  },
  {
   "cell_type": "markdown",
   "metadata": {},
   "source": [
    "## default units=meters  \n",
    "observation = '' \\"
   ]
  },
  {
   "cell_type": "markdown",
   "metadata": {},
   "source": [
    "## Observation ID: '' ==\\> all  \n",
    "feed = '' \\"
   ]
  },
  {
   "cell_type": "markdown",
   "metadata": {},
   "source": [
    "## Multi-feed numbers: Not yet implemented  \n",
    "ntime = 'scan' \\"
   ]
  },
  {
   "cell_type": "markdown",
   "metadata": {},
   "source": [
    "## Time-range to use for each chunk (in seconds or  \n",
    "\\"
   ]
  },
  {
   "cell_type": "markdown",
   "metadata": {},
   "source": [
    "## minutes)  \n",
    "combinescans = False \\"
   ]
  },
  {
   "cell_type": "markdown",
   "metadata": {},
   "source": [
    "## Accumulate data across scans.  \n",
    "extendpols = True \\"
   ]
  },
  {
   "cell_type": "markdown",
   "metadata": {},
   "source": [
    "## If any correlation is flagged, flag all  \n",
    "\\"
   ]
  },
  {
   "cell_type": "markdown",
   "metadata": {},
   "source": [
    "## correlations  \n",
    "growtime = 50.0 \\"
   ]
  },
  {
   "cell_type": "markdown",
   "metadata": {},
   "source": [
    "## Flag all 'ntime' integrations if more than X%  \n",
    "\\"
   ]
  },
  {
   "cell_type": "markdown",
   "metadata": {},
   "source": [
    "## of the timerange is flagged (0-100)  \n",
    "growfreq = 50.0 \\"
   ]
  },
  {
   "cell_type": "markdown",
   "metadata": {},
   "source": [
    "## Flag all selected channels if more than X% of  \n",
    "\\"
   ]
  },
  {
   "cell_type": "markdown",
   "metadata": {},
   "source": [
    "## the frequency range is flagged(0-100)  \n",
    "growaround = False \\"
   ]
  },
  {
   "cell_type": "markdown",
   "metadata": {},
   "source": [
    "## Flag data based on surrounding flags  \n",
    "flagneartime = False \\"
   ]
  },
  {
   "cell_type": "markdown",
   "metadata": {},
   "source": [
    "## Flag one timestep before and after a flagged  \n",
    "\\"
   ]
  },
  {
   "cell_type": "markdown",
   "metadata": {},
   "source": [
    "## one (True/False)  \n",
    "flagnearfreq = False \\"
   ]
  },
  {
   "cell_type": "markdown",
   "metadata": {},
   "source": [
    "## Flag one channel before and after a flagged\n",
    "one  \n",
    "\\"
   ]
  },
  {
   "cell_type": "markdown",
   "metadata": {},
   "source": [
    "## (True/False)\n",
    "\n",
    "Although the modes tfcrop and rflag already have \n",
    "extendflags parameters,\n",
    "some autoflagging algorithms may still leave small islands of unflagged\n",
    "data behind, data that are surrounded by flagged visibilities in the\n",
    "time-frequency space. Although the algorithm may deem these visibilities\n",
    "as good ones, they are frequently affected by low-level RFI that spills\n",
    "from the adjacent, flagged points and one may wish to clean those\n",
    "up.\n",
    "\n",
    "ntime specifies the time ranges over which to\n",
    "clean up, e.g. &rsquo;1.5min&rsquo; or &rsquo;scan&rsquo; which checks on all data within a scan. To\n",
    "span time ranges larger than scans, one can set \n",
    "combinescans to\n",
    "True.\n",
    "\n",
    "extendpols=True would extend all flags to all polarization\n",
    "products when at least one of them is flagged.\n",
    "\n",
    "growtime flags the entire time range for a flagged\n",
    "channel, when a certain fraction of flagged time intervals is exceeded.\n",
    "\n",
    "\n",
    "growfreq is similar but extends the flags in\n",
    "frequency when a given fraction of channels is already flagged.\n",
    "\n",
    "growaround checks for flagged data points in the\n",
    "time-frequency domain that neighbor a datum. The threshold is four data\n",
    "points. If more surrounding points are flagged, the central datum will\n",
    "be flagged, too.\n",
    "\n",
    "flagneartime flags adjacent data points along the time\n",
    "axis, around a flagged datum\n",
    "\n",
    "flagnearfreq flags neighboring channels. \n",
    "\n",
    "------------------------------------------------------------------------\n",
    "\n",
    "\n",
    "![](https://raw.githubusercontent.com/ff49a17852eab157b2326e6879023523c60dba54.png)\n",
    "\n",
    "|                                                                                                                                                                                                                            |\n",
    "|:---------------------------------------------------------------------------------------------------------------------------------------------------------------------------------------------------------------------------|\n",
    "| This screenshot represents a run where &rsquo;tfcrop&rsquo; was run only on &rsquo;ABS_RR&rsquo; (top row) and followed by an extension along time and correlations (bottom row).  |\n",
    "\n"
   ]
  },
  {
   "cell_type": "markdown",
   "metadata": {},
   "source": [
    "##### &nbsp;\n",
    "\n"
   ]
  },
  {
   "cell_type": "markdown",
   "metadata": {},
   "source": [
    "#### Unflag\n",
    "\n",
    "mode = 'unflag' \\"
   ]
  },
  {
   "cell_type": "markdown",
   "metadata": {},
   "source": [
    "## Flagging mode (list/manual/clip/shadow/quack/  \n",
    "\\"
   ]
  },
  {
   "cell_type": "markdown",
   "metadata": {},
   "source": [
    "## elevation/tfcrop/rflag/extend/unflag/summary  \n",
    "\\"
   ]
  },
  {
   "cell_type": "markdown",
   "metadata": {},
   "source": [
    "## )  \n",
    "field = '' \\"
   ]
  },
  {
   "cell_type": "markdown",
   "metadata": {},
   "source": [
    "## Field names or field index numbers: ''==\\>all,  \n",
    "\\"
   ]
  },
  {
   "cell_type": "markdown",
   "metadata": {},
   "source": [
    "## field='0\\~2,3C286'  \n",
    "spw = '' \\"
   ]
  },
  {
   "cell_type": "markdown",
   "metadata": {},
   "source": [
    "## spectral-window/frequency/channel  \n",
    "antenna = 'ea01' \\"
   ]
  },
  {
   "cell_type": "markdown",
   "metadata": {},
   "source": [
    "## antenna/baselines: ''==\\>all, antenna  \n",
    "\\"
   ]
  },
  {
   "cell_type": "markdown",
   "metadata": {},
   "source": [
    "## ='3,VA04'  \n",
    "timerange = '' \\"
   ]
  },
  {
   "cell_type": "markdown",
   "metadata": {},
   "source": [
    "## time range:  \n",
    "\\"
   ]
  },
  {
   "cell_type": "markdown",
   "metadata": {},
   "source": [
    "## ''==\\>all,timerange='09:14:0\\~09:54:0'  \n",
    "correlation = '' \\"
   ]
  },
  {
   "cell_type": "markdown",
   "metadata": {},
   "source": [
    "## Select data based on correlation  \n",
    "scan = '' \\"
   ]
  },
  {
   "cell_type": "markdown",
   "metadata": {},
   "source": [
    "## scan numbers: ''==\\>all  \n",
    "intent = '' \\"
   ]
  },
  {
   "cell_type": "markdown",
   "metadata": {},
   "source": [
    "## Select data based on observation intent:  \n",
    "\\"
   ]
  },
  {
   "cell_type": "markdown",
   "metadata": {},
   "source": [
    "## ''==\\>all  \n",
    "feed = '' \\"
   ]
  },
  {
   "cell_type": "markdown",
   "metadata": {},
   "source": [
    "## multi-feed numbers: Not yet implemented  \n",
    "array = '' \\"
   ]
  },
  {
   "cell_type": "markdown",
   "metadata": {},
   "source": [
    "## (sub)array numbers: ''==\\>all  \n",
    "uvrange = '' \\"
   ]
  },
  {
   "cell_type": "markdown",
   "metadata": {},
   "source": [
    "## uv range: ''==\\>all; uvrange ='0\\~100klambda',  \n",
    "\\"
   ]
  },
  {
   "cell_type": "markdown",
   "metadata": {},
   "source": [
    "## default units=meters  \n",
    "observation = '' \\"
   ]
  },
  {
   "cell_type": "markdown",
   "metadata": {},
   "source": [
    "## Select data based on observation ID: ''==\\>all\n",
    "\n",
    "The selection data will be unflagged.\n",
    "\n",
    "\n"
   ]
  },
  {
   "cell_type": "markdown",
   "metadata": {},
   "source": [
    "##### &nbsp;\n",
    "\n"
   ]
  },
  {
   "cell_type": "markdown",
   "metadata": {},
   "source": [
    "#### Summary\n",
    "\n",
    "mode = 'summary' \\"
   ]
  },
  {
   "cell_type": "markdown",
   "metadata": {},
   "source": [
    "## Flagging mode (list/manual/clip/shadow/quack/  \n",
    "\\"
   ]
  },
  {
   "cell_type": "markdown",
   "metadata": {},
   "source": [
    "## elevation/tfcrop/rflag/extend/unflag/summary  \n",
    "\\"
   ]
  },
  {
   "cell_type": "markdown",
   "metadata": {},
   "source": [
    "## )  \n",
    "...  \n",
    "minrel = 0.0 \\"
   ]
  },
  {
   "cell_type": "markdown",
   "metadata": {},
   "source": [
    "## minimum number of flags (relative)  \n",
    "maxrel = 1.0 \\"
   ]
  },
  {
   "cell_type": "markdown",
   "metadata": {},
   "source": [
    "## maximum number of flags (relative)  \n",
    "minabs = 0 \\"
   ]
  },
  {
   "cell_type": "markdown",
   "metadata": {},
   "source": [
    "## minimum number of flags (absolute)  \n",
    "maxabs = -1 \\"
   ]
  },
  {
   "cell_type": "markdown",
   "metadata": {},
   "source": [
    "## maximum number of flags (absolute). Use a  \n",
    "\\"
   ]
  },
  {
   "cell_type": "markdown",
   "metadata": {},
   "source": [
    "## negative value to indicate infinity.  \n",
    "spwchan = False \\"
   ]
  },
  {
   "cell_type": "markdown",
   "metadata": {},
   "source": [
    "## Print summary of channels per spw  \n",
    "spwcorr = False \\"
   ]
  },
  {
   "cell_type": "markdown",
   "metadata": {},
   "source": [
    "## Print summary of correlation per spw  \n",
    "basecnt = False \\"
   ]
  },
  {
   "cell_type": "markdown",
   "metadata": {},
   "source": [
    "## Print summary counts per baseline\n",
    "\n",
    "This mode reports the number of rows\n",
    "and data points that are flagged. The selection of reported points can\n",
    "be restricted (see inline help for details).\n",
    "\n",
    "mode=&rsquo;summary&rsquo; can also report back a dictionary if the\n",
    "task is run as \n",
    "\n",
    "\\#In CASA:  \n",
    "CASA\\<1\\>: s = flagdata(..., mode='summary')\n",
    "\n",
    "with a variable assigned, here\n",
    "&rsquo;s&rsquo;."
   ]
  }
 ],
 "metadata": {},
 "nbformat": 4,
 "nbformat_minor": 5
}
