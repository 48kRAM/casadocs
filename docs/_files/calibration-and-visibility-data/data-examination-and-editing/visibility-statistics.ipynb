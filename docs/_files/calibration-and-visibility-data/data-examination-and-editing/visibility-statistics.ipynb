{
 "cells": [
  {
   "cell_type": "markdown",
   "metadata": {},
   "source": [
    "# Visibility Statistics\n",
    "\n",
    "Using visstat\n",
    "\n"
   ]
  },
  {
   "cell_type": "markdown",
   "metadata": {},
   "source": [
    "#### MS statistics (visstat)\n",
    "\n",
    "The **visstat** task is provided to obtain simple statistics for a\n",
    "MeasurementSet, useful in regression tests.\n",
    "\n",
    "The inputs are:\n",
    "\n",
    "\\"
   ]
  },
  {
   "cell_type": "markdown",
   "metadata": {},
   "source": [
    "##  visstat ::\n",
    "Displays statistical information from a MeasurementSet, or from a\n",
    "Multi-MS  \n",
    "\n",
    "vis           \n",
    "=     ''            \\"
   ]
  },
  {
   "cell_type": "markdown",
   "metadata": {},
   "source": [
    "##  Name of MeasurementSet or Multi-MS  \n",
    "axis          \n",
    "=     'real'        \\"
   ]
  },
  {
   "cell_type": "markdown",
   "metadata": {},
   "source": [
    "##  Which values to use  \n",
    "    \n",
    "datacolumn     =     'data'        \\"
   ]
  },
  {
   "cell_type": "markdown",
   "metadata": {},
   "source": [
    "##  Which data column to use (data,\n",
    "corrected, model, float_data)  \n",
    "  \n",
    "useflags      \n",
    "=      False        \\"
   ]
  },
  {
   "cell_type": "markdown",
   "metadata": {},
   "source": [
    "##  Take flagging into account?  \n",
    "spw           \n",
    "=         ''        \\"
   ]
  },
  {
   "cell_type": "markdown",
   "metadata": {},
   "source": [
    "##  spectral-window/frequency/channel  \n",
    "field         \n",
    "=        '1'        \\"
   ]
  },
  {
   "cell_type": "markdown",
   "metadata": {},
   "source": [
    "##  Field names or field index numbers: ''==\\>all,\n",
    "field='0\\~2,3C286'  \n",
    "selectdata    \n",
    "=       True        \\"
   ]
  },
  {
   "cell_type": "markdown",
   "metadata": {},
   "source": [
    "##  More data selection parameters (antenna,\n",
    "timerange etc)  \n",
    "    \n",
    "antenna        =         ''        \\"
   ]
  },
  {
   "cell_type": "markdown",
   "metadata": {},
   "source": [
    "##  antenna/baselines: ''==\\>all,\n",
    "antenna = '3,VA04'  \n",
    "    \n",
    "timerange      =         ''        \\"
   ]
  },
  {
   "cell_type": "markdown",
   "metadata": {},
   "source": [
    "##  time range: ''==\\>all,\n",
    "timerange='09:14:0\\~09:54:0'  \n",
    "    \n",
    "correlation    =       'RR'        \\"
   ]
  },
  {
   "cell_type": "markdown",
   "metadata": {},
   "source": [
    "##  Select data based on\n",
    "correlation  \n",
    "    \n",
    "scan           =         ''        \\"
   ]
  },
  {
   "cell_type": "markdown",
   "metadata": {},
   "source": [
    "##  scan numbers: ''==\\>all  \n",
    "    \n",
    "array          =         ''        \\"
   ]
  },
  {
   "cell_type": "markdown",
   "metadata": {},
   "source": [
    "##  (sub)array numbers:\n",
    "''==\\>all  \n",
    "    \n",
    "observation    =         ''        \\"
   ]
  },
  {
   "cell_type": "markdown",
   "metadata": {},
   "source": [
    "##  observation ID number(s): '' =\n",
    "all  \n",
    "    \n",
    "uvrange        =         ''        \\"
   ]
  },
  {
   "cell_type": "markdown",
   "metadata": {},
   "source": [
    "##  uv range: ''==\\>all; uvrange =\n",
    "'0\\~100klambda', default units=meters  \n",
    "  \n",
    "timeaverage   \n",
    "=      False        \\"
   ]
  },
  {
   "cell_type": "markdown",
   "metadata": {},
   "source": [
    "##  Average data in time.  \n",
    "intent        \n",
    "=         ''        \\"
   ]
  },
  {
   "cell_type": "markdown",
   "metadata": {},
   "source": [
    "##  Select data by scan intent.  \n",
    "reportingaxes \n",
    "=     'ddid'        \\"
   ]
  },
  {
   "cell_type": "markdown",
   "metadata": {},
   "source": [
    "##  Which reporting axis to use (ddid, field,\n",
    "integration)\n",
    "\n",
    " \n",
    "\n",
    "Running this task returns a record (Python dictionary) with the\n",
    "statistics, which can be captured in a Python variable. For example,\n",
    "\n",
    "CASA \\<54\\>:\n",
    "mystat=visstat(vis='data/regression/unittest/setjy/ngc5921.ms',\n",
    "axis='amp', datacolumn='data', useflags=False, spw='', field='',\n",
    "selectdata=True, correlation='RR', timeaverage=False, intent='',\n",
    "reportingaxes='ddid')\n",
    "\n",
    "CASA \\<55\\>: mystat  \n",
    "Out\\[55\\]:  \n",
    "{'DATA_DESC_ID=0': {'firstquartile': 0.023732144385576248,  \n",
    "  'isMasked': False,  \n",
    "  'isWeighted': False,  \n",
    "  'max': 73.75,  \n",
    "  'maxDatasetIndex': 12,  \n",
    "  'maxIndex': 1204,  \n",
    "  'mean': 4.511831488357214,  \n",
    "  'medabsdevmed': 0.0432449858635664,  \n",
    "  'median': 0.051963627338409424,  \n",
    "  'min': 2.2130521756480448e-05,  \n",
    "  'minDatasetIndex': 54,  \n",
    "  'minIndex': 4346,  \n",
    "  'npts': 1427139.0,  \n",
    "  'rms': 16.42971891790897,  \n",
    "  'stddev': 15.798076313999745,  \n",
    "  'sum': 6439010.678462409,  \n",
    "  'sumOfWeights': 1427139.0,  \n",
    "  'sumsq': 385235713.187832,  \n",
    "  'thirdquartile': 0.3004012107849121,  \n",
    "  'variance': 249.57921522295976}}\n",
    "\n",
    "CASA \\<56\\>: mystat\\['DATA_DESC_ID=0'\\]\\['stddev'\\]  \n",
    "Out\\[56\\]: 15.798076313999745\n",
    "\n",
    "``` verbatim\n",
    "The options for axis are:\n",
    "```\n",
    "\n",
    "axis='amplitude' \\"
   ]
  },
  {
   "cell_type": "markdown",
   "metadata": {},
   "source": [
    "## or ('amp') axis='phase' axis='imag' (or 'imaginary')\n",
    "axis='real'\n",
    "\n",
    "The phase of a complex number is in radians with range (−π, π)."
   ]
  }
 ],
 "metadata": {},
 "nbformat": 4,
 "nbformat_minor": 5
}
