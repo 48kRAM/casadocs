{
 "cells": [
  {
   "cell_type": "markdown",
   "metadata": {},
   "source": [
    "# Ephemeris Data\n",
    "\n",
    "Overview of handling ephemeris data in CASA"
   ]
  },
  {
   "cell_type": "markdown",
   "metadata": {
    "nbsphinx-toctree": {
     "hidden": true
    }
   },
   "source": [
    "[Ephemeris Objects](ephemeris-data/ephemeris-objects)\n",
    "[Manipulate Ephemeris Objects](ephemeris-data/manipulation-of-ephemeris-objects)\n"
   ]
  }
 ],
 "metadata": {},
 "nbformat": 4,
 "nbformat_minor": 5
}
