{
 "cells": [
  {
   "cell_type": "markdown",
   "metadata": {},
   "source": [
    "# Data Examination/Editing\n",
    "\n",
    "Plotting and flagging visibility data in CASA\n",
    "\n",
    "This chapter discusses how to plot and flag visibility and calibration\n",
    "data in CASA."
   ]
  },
  {
   "cell_type": "markdown",
   "metadata": {
    "nbsphinx-toctree": {
     "hidden": true
    }
   },
   "source": [
    "[Visibility Information](data-examination-and-editing/obtaining-information-on-visibility-data)\n",
    "[MeasurementSet Summary](data-examination-and-editing/summarizing-measurementsets)\n",
    "[SDM Summary](data-examination-and-editing/summarizing-an-sdm)\n",
    "[MS Metadata List/Change](data-examination-and-editing/listing-and-manipulating-ms-metadata)\n",
    "[Visibility Statistics](data-examination-and-editing/visibility-statistics)\n",
    "[Plot Antenna Positions](data-examination-and-editing/plotting-antenna-positions)\n",
    "[VLA Weather Information](data-examination-and-editing/vla-weather-information-plotweather)\n",
    "[Browse MS/Calibration Tables](data-examination-and-editing/browse-a-table)\n",
    "[Plot/Flag Visibilities](data-examination-and-editing/plotting-and-flagging-visibility-data-in-casa)\n",
    "[Plot/Edit using plotms](data-examination-and-editing/using-plotms-to-plot-and-edit-visibilities-and-calibration-tables)\n",
    "[Flag using flagdata](data-examination-and-editing/flagging-measurement-sets-and-calibration-tables)\n",
    "[Advanced: flagdata](data-examination-and-editing/advanced-information-on-flagdata)\n",
    "[Flag using flagcmd](data-examination-and-editing/flagging-based-on-a-list-of-commands-flagcmd)\n",
    "[Manage flag versions](data-examination-and-editing/managing-flag-versions-flagmanager)\n"
   ]
  }
 ],
 "metadata": {},
 "nbformat": 4,
 "nbformat_minor": 5
}
