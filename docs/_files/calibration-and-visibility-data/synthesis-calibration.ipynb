{
 "cells": [
  {
   "cell_type": "markdown",
   "metadata": {},
   "source": [
    "# Synthesis Calibration\n",
    "\n",
    "Synthesis calibration overview and summary of tasks\n",
    "\n",
    "**&nbsp;**"
   ]
  },
  {
   "cell_type": "markdown",
   "metadata": {
    "nbsphinx-toctree": {
     "hidden": true
    }
   },
   "source": [
    "[Introduction](synthesis-calibration/introduction)\n",
    "[Preparing for Calibration](synthesis-calibration/preparing-for-calibration)\n",
    "[Virtual Model Visibilities](synthesis-calibration/virtual-model-visibilities)\n",
    "[Solve for Calibration](synthesis-calibration/solving-for-calibration)\n",
    "[Gain Calibration](synthesis-calibration/gain-calibration)\n",
    "[Polarization Calibration](synthesis-calibration/instrumental-polarization-calibration)\n",
    "[Water Vapor Radiometers](synthesis-calibration/water-vapor-radiometer-gain-calibration-wvrgcal)\n",
    "[Examine/Edit Cal Tables](synthesis-calibration/examination-and-manipultion-of-cal-tables)\n",
    "[Apply Calibration](synthesis-calibration/application-of-calibration)\n"
   ]
  }
 ],
 "metadata": {},
 "nbformat": 4,
 "nbformat_minor": 5
}
