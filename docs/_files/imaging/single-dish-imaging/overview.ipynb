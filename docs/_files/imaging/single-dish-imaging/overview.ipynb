{
 "cells": [
  {
   "cell_type": "markdown",
   "metadata": {},
   "source": [
    "# Overview \n",
    "\n",
    "\n",
    "\n",
    "\n",
    "\n",
    "Chapter overview\n",
    "\n",
    "\n",
    "\n",
    "\n",
    "\n",
    "\n",
    "\n",
    "\n",
    "\n",
    "This section describes imaging single-dish data.\n",
    "\n",
    "The data should already be T[]{.MathJax_Preview style=\"color: inherit;\"}$_{sys}$ and T[]{.MathJax_Preview style=\"color: inherit;\"}$_{sky}$ calibrated (at least into antenna temperature units, []{.MathJax_Preview style=\"color: inherit;\"}$T_A^*$ \\[K\\]) , according to the process described in the single-dish calibration pages.\n",
    "\n",
    "The CASA task used for imaging single-dish data is [sdimaging](https://casa.nrao.edu/casadocs-devel/stable/global-task-list/task_sdimaging).  This task will return a four-dimensional array with two position axes, one frequency or velocity axis, and one polarization axis. The output of [sdimaging](https://casa.nrao.edu/casadocs-devel/stable/global-task-list/task_sdimaging) is a CASA image that can be explored, analyzed, and manipulated in CASA, or exported into a versatile FITS image format via [exportfits](https://casa.nrao.edu/casadocs-devel/stable/global-task-list/task_exportfits).\n",
    "\n",
    "The pages below first describe the general process of gridding single-dish data followed by the actual procedures invoked with CASA."
   ]
  }
 ],
 "metadata": {},
 "nbformat": 4,
 "nbformat_minor": 4
}
