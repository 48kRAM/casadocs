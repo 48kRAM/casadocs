{
 "cells": [
  {
   "cell_type": "markdown",
   "metadata": {},
   "source": [
    "# Overview\n",
    "\n",
    "Chapter overview\n",
    "\n",
    "This section describes imaging single-dish data.\n",
    "\n",
    "The data should already be T$_{sys}$ and T$_{sky}$\n",
    "calibrated (at least into antenna temperature units, $T_A^*$ \\[K\\]) ,\n",
    "according to the process described in the single-dish calibration pages.\n",
    "\n",
    "The CASA task used for imaging single-dish data is\n",
    "[sdimaging](https://casa.nrao.edu/casadocs-devel/stable/global-task-list/task_sdimaging).&nbsp;\n",
    "This task will return a four-dimensional array with two position axes,\n",
    "one frequency or velocity axis, and one polarization axis. The output of\n",
    "[sdimaging](https://casa.nrao.edu/casadocs-devel/stable/global-task-list/task_sdimaging)\n",
    "is a CASA image that can be explored, analyzed, and manipulated in CASA,\n",
    "or exported into a versatile FITS image format via\n",
    "[exportfits](https://casa.nrao.edu/casadocs-devel/stable/global-task-list/task_exportfits).\n",
    "\n",
    "The pages below first describe the general process of gridding\n",
    "single-dish data followed by the actual procedures invoked with CASA."
   ]
  }
 ],
 "metadata": {},
 "nbformat": 4,
 "nbformat_minor": 5
}
