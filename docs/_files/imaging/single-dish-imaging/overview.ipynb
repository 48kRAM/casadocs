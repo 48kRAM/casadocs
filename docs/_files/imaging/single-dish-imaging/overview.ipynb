{
 "cells": [
  {
   "cell_type": "markdown",
   "metadata": {},
   "source": [
    "# Overview {#overview .documentFirstHeading}\n",
    "\n",
    "\n",
    "\n",
    "\n",
    "\n",
    "Chapter overview\n",
    "\n",
    "\n",
    "\n",
    "\n",
    "\n",
    "\n",
    "\n",
    "\n",
    "\n",
    "This section describes imaging single-dish data.\n",
    "\n",
    "The data should already be T[]{.MathJax_Preview\n",
    "style=\"color: inherit;\"}$_{sys}$ and T[]{.MathJax_Preview\n",
    "style=\"color: inherit;\"}$_{sky}$ calibrated (at least into antenna\n",
    "temperature units, []{.MathJax_Preview style=\"color: inherit;\"}$T_A^*$\n",
    "\\[K\\]) , according to the process described in the single-dish\n",
    "calibration pages.\n",
    "\n",
    "The CASA task used for imaging single-dish data is\n",
    "[sdimaging](https://casa.nrao.edu/casadocs-devel/stable/global-task-list/task_sdimaging). \n",
    "This task will return a four-dimensional array with two position axes,\n",
    "one frequency or velocity axis, and one polarization axis. The output of\n",
    "[sdimaging](https://casa.nrao.edu/casadocs-devel/stable/global-task-list/task_sdimaging)\n",
    "is a CASA image that can be explored, analyzed, and manipulated in CASA,\n",
    "or exported into a versatile FITS image format via\n",
    "[exportfits](https://casa.nrao.edu/casadocs-devel/stable/global-task-list/task_exportfits).\n",
    "\n",
    "The pages below first describe the general process of gridding\n",
    "single-dish data followed by the actual procedures invoked with CASA."
   ]
  }
 ],
 "metadata": {},
 "nbformat": 4,
 "nbformat_minor": 4
}
