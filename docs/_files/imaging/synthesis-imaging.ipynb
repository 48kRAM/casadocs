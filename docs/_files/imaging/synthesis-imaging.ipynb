{
 "cells": [
  {
   "cell_type": "markdown",
   "metadata": {},
   "source": [
    "# Synthesis Imaging\n",
    "\n",
    "Chapter overview\n",
    "\n",
    "This chapter documents CASA's refactored imager. These features are\n",
    "visible to the user via the **tclean** task.\n",
    "\n",
    "The first five sections give an algorithm-centric view of the imager\n",
    "framework and are meant to convey the overall iterative reconstruction\n",
    "framework and how various algorithms and usage options fit into it. The\n",
    "other sections are more user-centric and focus on what one would need to\n",
    "know about specific imaging goals such as wideband imaging, mosaicking\n",
    "or details about spectral-cube definitions, etc. There is some overlap\n",
    "in content between sections, but this is meant to address the needs of\n",
    "readers who want to understand how the system works as well as those who\n",
    "want to learn how to approach their specific use case.\n",
    "\n",
    "**NOTE**: The older **clean** task also supports most of the options\n",
    "described here, with a similar internal structure. However, clean will\n",
    "be deprecated in the near future, so we strongly encourage to use\n",
    "**tclean** instead. All major functionality from clean is now present in\n",
    "tclean via a modified interface, along with additional algorithmic\n",
    "options."
   ]
  },
  {
   "cell_type": "markdown",
   "metadata": {
    "nbsphinx-toctree": {
     "hidden": true
    }
   },
   "source": [
    "[Introduction](synthesis-imaging/imaging-overview)\n",
    "[Types of images](synthesis-imaging/image-definition)\n",
    "[Imaging Algorithms](synthesis-imaging/data-weighting)\n",
    "[Deconvolution Algorithms](synthesis-imaging/deconvolution-algorithms)\n",
    "[Iteration Control](synthesis-imaging/user-interaction)\n",
    "[Masks for Deconvolution](synthesis-imaging/masks-for-deconvolution)\n",
    "[Spectral Line Imaging](synthesis-imaging/spectral-line-imaging)\n",
    "[Wide Band Imaging](synthesis-imaging/wide-band-imaging)\n",
    "[Wide-Field Imaging](synthesis-imaging/wide-field-imaging-full-primary-beam)\n"
   ]
  }
 ],
 "metadata": {},
 "nbformat": 4,
 "nbformat_minor": 5
}
