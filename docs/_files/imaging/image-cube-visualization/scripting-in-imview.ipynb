{
 "cells": [
  {
   "cell_type": "markdown",
   "metadata": {},
   "source": [
    "# Scripting using imview\n",
    "\n",
    "Plotting to a file without invoking the Viewer GUI\n",
    "\n"
   ]
  },
  {
   "cell_type": "markdown",
   "metadata": {},
   "source": [
    "## Image Viewer (imview)\n",
    "\n",
    "The **imview** task offers scriptable access to many **viewer** options.\n",
    "This enables the production of customized plots without invoking the GUI\n",
    "and allows one to open the **viewer** to a carefully selected state.\n",
    "\n",
    "**imview** has the following inputs:\n",
    "\n",
    "\\"
   ]
  },
  {
   "cell_type": "markdown",
   "metadata": {},
   "source": [
    "## &nbsp; imview :: View an image  \n",
    "raster&nbsp;&nbsp;&nbsp;&nbsp;&nbsp; = &nbsp; &nbsp;{} &nbsp; &nbsp; \\"
   ]
  },
  {
   "cell_type": "markdown",
   "metadata": {},
   "source": [
    "##\n",
    "(Optional) Raster filename (string)  \n",
    "&nbsp; &nbsp; &nbsp; &nbsp; &nbsp; &nbsp; &nbsp; &nbsp; &nbsp; &nbsp;\n",
    "&nbsp; &nbsp; \\"
   ]
  },
  {
   "cell_type": "markdown",
   "metadata": {},
   "source": [
    "## &nbsp; or complete raster config  \n",
    "&nbsp; &nbsp; &nbsp; &nbsp; &nbsp; &nbsp; &nbsp; &nbsp; &nbsp; &nbsp;\n",
    "&nbsp; &nbsp; \\"
   ]
  },
  {
   "cell_type": "markdown",
   "metadata": {},
   "source": [
    "## &nbsp; dictionary. The allowed dictionary  \n",
    "&nbsp; &nbsp; &nbsp; &nbsp; &nbsp; &nbsp; &nbsp; &nbsp; &nbsp; &nbsp;\n",
    "&nbsp; &nbsp; \\"
   ]
  },
  {
   "cell_type": "markdown",
   "metadata": {},
   "source": [
    "## &nbsp; keys are file (string), scaling  \n",
    "&nbsp; &nbsp; &nbsp; &nbsp; &nbsp; &nbsp; &nbsp; &nbsp; &nbsp; &nbsp;\n",
    "&nbsp; &nbsp; \\"
   ]
  },
  {
   "cell_type": "markdown",
   "metadata": {},
   "source": [
    "## &nbsp; (numeric), range (2 element numeric  \n",
    "&nbsp; &nbsp; &nbsp; &nbsp; &nbsp; &nbsp; &nbsp; &nbsp; &nbsp; &nbsp;\n",
    "&nbsp; &nbsp; \\"
   ]
  },
  {
   "cell_type": "markdown",
   "metadata": {},
   "source": [
    "## &nbsp; vector), colormap (string), and  \n",
    "&nbsp; &nbsp; &nbsp; &nbsp; &nbsp; &nbsp; &nbsp; &nbsp; &nbsp; &nbsp;\n",
    "&nbsp; &nbsp; \\"
   ]
  },
  {
   "cell_type": "markdown",
   "metadata": {},
   "source": [
    "## &nbsp; colorwedge (bool).  \n",
    "contour &nbsp; &nbsp; = &nbsp; &nbsp;{} &nbsp; &nbsp; \\"
   ]
  },
  {
   "cell_type": "markdown",
   "metadata": {},
   "source": [
    "## (Optional)\n",
    "Contour filename (string)  \n",
    "&nbsp; &nbsp; &nbsp; &nbsp; &nbsp; &nbsp; &nbsp; &nbsp; &nbsp; &nbsp;\n",
    "&nbsp; &nbsp; \\"
   ]
  },
  {
   "cell_type": "markdown",
   "metadata": {},
   "source": [
    "## &nbsp; or complete contour config  \n",
    "&nbsp; &nbsp; &nbsp; &nbsp; &nbsp; &nbsp; &nbsp; &nbsp; &nbsp; &nbsp;\n",
    "&nbsp; &nbsp; \\"
   ]
  },
  {
   "cell_type": "markdown",
   "metadata": {},
   "source": [
    "## &nbsp; dictionary. The allowed dictionary  \n",
    "&nbsp; &nbsp; &nbsp; &nbsp; &nbsp; &nbsp; &nbsp; &nbsp; &nbsp; &nbsp;\n",
    "&nbsp; &nbsp; \\"
   ]
  },
  {
   "cell_type": "markdown",
   "metadata": {},
   "source": [
    "## &nbsp; keys are file (string), levels  \n",
    "&nbsp; &nbsp; &nbsp; &nbsp; &nbsp; &nbsp; &nbsp; &nbsp; &nbsp; &nbsp;\n",
    "&nbsp; &nbsp; \\"
   ]
  },
  {
   "cell_type": "markdown",
   "metadata": {},
   "source": [
    "## &nbsp; (numeric vector), unit (float), and  \n",
    "&nbsp; &nbsp; &nbsp; &nbsp; &nbsp; &nbsp; &nbsp; &nbsp; &nbsp; &nbsp;\n",
    "&nbsp; &nbsp; \\"
   ]
  },
  {
   "cell_type": "markdown",
   "metadata": {},
   "source": [
    "## &nbsp; base (float).  \n",
    "zoom &nbsp; &nbsp; &nbsp; &nbsp;= &nbsp; &nbsp;1 &nbsp; &nbsp; &nbsp;\\"
   ]
  },
  {
   "cell_type": "markdown",
   "metadata": {},
   "source": [
    "##\n",
    "(Optional) zoom can specify  \n",
    "&nbsp; &nbsp; &nbsp; &nbsp; &nbsp; &nbsp; &nbsp; &nbsp; &nbsp; &nbsp;\n",
    "&nbsp; &nbsp; \\"
   ]
  },
  {
   "cell_type": "markdown",
   "metadata": {},
   "source": [
    "## &nbsp; intermental zoom (integer), zoom  \n",
    "&nbsp; &nbsp; &nbsp; &nbsp; &nbsp; &nbsp; &nbsp; &nbsp; &nbsp; &nbsp;\n",
    "&nbsp; &nbsp; \\"
   ]
  },
  {
   "cell_type": "markdown",
   "metadata": {},
   "source": [
    "## &nbsp; region read from a file (string) or  \n",
    "&nbsp; &nbsp; &nbsp; &nbsp; &nbsp; &nbsp; &nbsp; &nbsp; &nbsp; &nbsp;\n",
    "&nbsp; &nbsp; \\"
   ]
  },
  {
   "cell_type": "markdown",
   "metadata": {},
   "source": [
    "## &nbsp; dictionary specifying the zoom  \n",
    "&nbsp; &nbsp; &nbsp; &nbsp; &nbsp; &nbsp; &nbsp; &nbsp; &nbsp; &nbsp;\n",
    "&nbsp; &nbsp; \\"
   ]
  },
  {
   "cell_type": "markdown",
   "metadata": {},
   "source": [
    "## &nbsp; region. The dictionary can have two  \n",
    "&nbsp; &nbsp; &nbsp; &nbsp; &nbsp; &nbsp; &nbsp; &nbsp; &nbsp; &nbsp;\n",
    "&nbsp; &nbsp; \\"
   ]
  },
  {
   "cell_type": "markdown",
   "metadata": {},
   "source": [
    "## &nbsp; forms. It can be either a simple  \n",
    "&nbsp; &nbsp; &nbsp; &nbsp; &nbsp; &nbsp; &nbsp; &nbsp; &nbsp; &nbsp;\n",
    "&nbsp; &nbsp; \\"
   ]
  },
  {
   "cell_type": "markdown",
   "metadata": {},
   "source": [
    "## &nbsp; region specified with blc (2 element  \n",
    "&nbsp; &nbsp; &nbsp; &nbsp; &nbsp; &nbsp; &nbsp; &nbsp; &nbsp; &nbsp;\n",
    "&nbsp; &nbsp; \\"
   ]
  },
  {
   "cell_type": "markdown",
   "metadata": {},
   "source": [
    "## &nbsp; vector) and trc (2 element vector)  \n",
    "&nbsp; &nbsp; &nbsp; &nbsp; &nbsp; &nbsp; &nbsp; &nbsp; &nbsp; &nbsp;\n",
    "&nbsp; &nbsp; \\"
   ]
  },
  {
   "cell_type": "markdown",
   "metadata": {},
   "source": [
    "## &nbsp; \\[along with an optional coord key  \n",
    "&nbsp; &nbsp; &nbsp; &nbsp; &nbsp; &nbsp; &nbsp; &nbsp; &nbsp; &nbsp;\n",
    "&nbsp; &nbsp; \\"
   ]
  },
  {
   "cell_type": "markdown",
   "metadata": {},
   "source": [
    "## &nbsp; (\"pixel\" or \"world\"; pixel is the  \n",
    "&nbsp; &nbsp; &nbsp; &nbsp; &nbsp; &nbsp; &nbsp; &nbsp; &nbsp; &nbsp;\n",
    "&nbsp; &nbsp; \\"
   ]
  },
  {
   "cell_type": "markdown",
   "metadata": {},
   "source": [
    "## &nbsp; default) or a complete region  \n",
    "&nbsp; &nbsp; &nbsp; &nbsp; &nbsp; &nbsp; &nbsp; &nbsp; &nbsp; &nbsp;\n",
    "&nbsp; &nbsp; \\"
   ]
  },
  {
   "cell_type": "markdown",
   "metadata": {},
   "source": [
    "## &nbsp; rectangle e.g. loaded with  \n",
    "&nbsp; &nbsp; &nbsp; &nbsp; &nbsp; &nbsp; &nbsp; &nbsp; &nbsp; &nbsp;\n",
    "&nbsp; &nbsp; \\"
   ]
  },
  {
   "cell_type": "markdown",
   "metadata": {},
   "source": [
    "## &nbsp; \"rg.fromfiletorecord( )\". The  \n",
    "&nbsp; &nbsp; &nbsp; &nbsp; &nbsp; &nbsp; &nbsp; &nbsp; &nbsp; &nbsp;\n",
    "&nbsp; &nbsp; \\"
   ]
  },
  {
   "cell_type": "markdown",
   "metadata": {},
   "source": [
    "## &nbsp; dictionary can also contain a  \n",
    "&nbsp; &nbsp; &nbsp; &nbsp; &nbsp; &nbsp; &nbsp; &nbsp; &nbsp; &nbsp;\n",
    "&nbsp; &nbsp; \\"
   ]
  },
  {
   "cell_type": "markdown",
   "metadata": {},
   "source": [
    "## &nbsp; channel (integer) field which  \n",
    "&nbsp; &nbsp; &nbsp; &nbsp; &nbsp; &nbsp; &nbsp; &nbsp; &nbsp; &nbsp;\n",
    "&nbsp; &nbsp; \\"
   ]
  },
  {
   "cell_type": "markdown",
   "metadata": {},
   "source": [
    "## &nbsp; indicates which channel should be  \n",
    "&nbsp; &nbsp; &nbsp; &nbsp; &nbsp; &nbsp; &nbsp; &nbsp; &nbsp; &nbsp;\n",
    "&nbsp; &nbsp; \\"
   ]
  },
  {
   "cell_type": "markdown",
   "metadata": {},
   "source": [
    "## &nbsp; displayed.  \n",
    "axes &nbsp; &nbsp; &nbsp; &nbsp;= &nbsp; &nbsp;-1 &nbsp; &nbsp; \\"
   ]
  },
  {
   "cell_type": "markdown",
   "metadata": {},
   "source": [
    "##\n",
    "(Optional) this can either be a  \n",
    "&nbsp; &nbsp; &nbsp; &nbsp; &nbsp; &nbsp; &nbsp; &nbsp; &nbsp; &nbsp;\n",
    "&nbsp; &nbsp; \\"
   ]
  },
  {
   "cell_type": "markdown",
   "metadata": {},
   "source": [
    "## &nbsp; three element vector (string) where  \n",
    "&nbsp; &nbsp; &nbsp; &nbsp; &nbsp; &nbsp; &nbsp; &nbsp; &nbsp; &nbsp;\n",
    "&nbsp; &nbsp; \\"
   ]
  },
  {
   "cell_type": "markdown",
   "metadata": {},
   "source": [
    "## &nbsp; each element describes what should  \n",
    "&nbsp; &nbsp; &nbsp; &nbsp; &nbsp; &nbsp; &nbsp; &nbsp; &nbsp; &nbsp;\n",
    "&nbsp; &nbsp; \\"
   ]
  },
  {
   "cell_type": "markdown",
   "metadata": {},
   "source": [
    "## &nbsp; be found on each of the x, y, and z  \n",
    "&nbsp; &nbsp; &nbsp; &nbsp; &nbsp; &nbsp; &nbsp; &nbsp; &nbsp; &nbsp;\n",
    "&nbsp; &nbsp; \\"
   ]
  },
  {
   "cell_type": "markdown",
   "metadata": {},
   "source": [
    "## &nbsp; axes or a dictionary containing  \n",
    "&nbsp; &nbsp; &nbsp; &nbsp; &nbsp; &nbsp; &nbsp; &nbsp; &nbsp; &nbsp;\n",
    "&nbsp; &nbsp; \\"
   ]
  },
  {
   "cell_type": "markdown",
   "metadata": {},
   "source": [
    "## &nbsp; fields \"x\", \"y\" and \"z\" (string).  \n",
    "out &nbsp; &nbsp; &nbsp; &nbsp; = &nbsp; &nbsp;{} &nbsp; &nbsp; \\"
   ]
  },
  {
   "cell_type": "markdown",
   "metadata": {},
   "source": [
    "##\n",
    "(Optional) Output filename or  \n",
    "&nbsp; &nbsp; &nbsp; &nbsp; &nbsp; &nbsp; &nbsp; &nbsp; &nbsp; &nbsp;\n",
    "&nbsp; &nbsp; \\"
   ]
  },
  {
   "cell_type": "markdown",
   "metadata": {},
   "source": [
    "## &nbsp; complete output config dictionary.  \n",
    "&nbsp; &nbsp; &nbsp; &nbsp; &nbsp; &nbsp; &nbsp; &nbsp; &nbsp; &nbsp;\n",
    "&nbsp; &nbsp; \\"
   ]
  },
  {
   "cell_type": "markdown",
   "metadata": {},
   "source": [
    "## &nbsp; If a string is passed, the file  \n",
    "&nbsp; &nbsp; &nbsp; &nbsp; &nbsp; &nbsp; &nbsp; &nbsp; &nbsp; &nbsp;\n",
    "&nbsp; &nbsp; \\"
   ]
  },
  {
   "cell_type": "markdown",
   "metadata": {},
   "source": [
    "## &nbsp; extension is used to determine the  \n",
    "&nbsp; &nbsp; &nbsp; &nbsp; &nbsp; &nbsp; &nbsp; &nbsp; &nbsp; &nbsp;\n",
    "&nbsp; &nbsp; \\"
   ]
  },
  {
   "cell_type": "markdown",
   "metadata": {},
   "source": [
    "## &nbsp; output type (jpg, pdf, eps, ps, png,  \n",
    "&nbsp; &nbsp; &nbsp; &nbsp; &nbsp; &nbsp; &nbsp; &nbsp; &nbsp; &nbsp;\n",
    "&nbsp; &nbsp; \\"
   ]
  },
  {
   "cell_type": "markdown",
   "metadata": {},
   "source": [
    "## &nbsp; xbm, xpm, or ppm). If a dictionary  \n",
    "&nbsp; &nbsp; &nbsp; &nbsp; &nbsp; &nbsp; &nbsp; &nbsp; &nbsp; &nbsp;\n",
    "&nbsp; &nbsp; \\"
   ]
  },
  {
   "cell_type": "markdown",
   "metadata": {},
   "source": [
    "## &nbsp; is passed, it can contain the  \n",
    "&nbsp; &nbsp; &nbsp; &nbsp; &nbsp; &nbsp; &nbsp; &nbsp; &nbsp; &nbsp;\n",
    "&nbsp; &nbsp; \\"
   ]
  },
  {
   "cell_type": "markdown",
   "metadata": {},
   "source": [
    "## &nbsp; fields, file (string), scale  \n",
    "&nbsp; &nbsp; &nbsp; &nbsp; &nbsp; &nbsp; &nbsp; &nbsp; &nbsp; &nbsp;\n",
    "&nbsp; &nbsp; \\"
   ]
  },
  {
   "cell_type": "markdown",
   "metadata": {},
   "source": [
    "## &nbsp; (float), dpi (int), or orient  \n",
    "&nbsp; &nbsp; &nbsp; &nbsp; &nbsp; &nbsp; &nbsp; &nbsp; &nbsp; &nbsp;\n",
    "&nbsp; &nbsp; \\"
   ]
  },
  {
   "cell_type": "markdown",
   "metadata": {},
   "source": [
    "## &nbsp; (landscape or portrait). The scale  \n",
    "&nbsp; &nbsp; &nbsp; &nbsp; &nbsp; &nbsp; &nbsp; &nbsp; &nbsp; &nbsp;\n",
    "&nbsp; &nbsp; \\"
   ]
  },
  {
   "cell_type": "markdown",
   "metadata": {},
   "source": [
    "## &nbsp; field is used for the bitmap formats  \n",
    "&nbsp; &nbsp; &nbsp; &nbsp; &nbsp; &nbsp; &nbsp; &nbsp; &nbsp; &nbsp;\n",
    "&nbsp; &nbsp; \\"
   ]
  },
  {
   "cell_type": "markdown",
   "metadata": {},
   "source": [
    "## &nbsp; (i.e. not ps or pdf) and the dpi  \n",
    "&nbsp; &nbsp; &nbsp; &nbsp; &nbsp; &nbsp; &nbsp; &nbsp; &nbsp; &nbsp;\n",
    "&nbsp; &nbsp; \\"
   ]
  },
  {
   "cell_type": "markdown",
   "metadata": {},
   "source": [
    "## &nbsp; parameter is used for scalable  \n",
    "&nbsp; &nbsp; &nbsp; &nbsp; &nbsp; &nbsp; &nbsp; &nbsp; &nbsp; &nbsp;\n",
    "&nbsp; &nbsp; \\"
   ]
  },
  {
   "cell_type": "markdown",
   "metadata": {},
   "source": [
    "## &nbsp; formats (pdf or ps).\n",
    "\n",
    "The *raster* and *contour* parameters specify which images to load and\n",
    "how these images should be displayed. These parameters take python\n",
    "dictionaries as inputs. The fields in these dictionaries specify how the\n",
    "image will be displayed.\n",
    "\n",
    "An example call to **imview** looks like this:\n",
    "\n",
    "imview(raster={'file': 'ngc5921.clean.image','range':\n",
    "\\[-0.01,0.03\\],'colormap': 'Hot Metal 2','scaling': -1},  \n",
    "&nbsp;&nbsp;&nbsp;&nbsp;&nbsp; contour={'file':\n",
    "'ngc5921.clean.image'},  \n",
    "&nbsp;&nbsp;&nbsp;&nbsp;&nbsp; axes={'x':'Declination'},  \n",
    "&nbsp;&nbsp;&nbsp;&nbsp;&nbsp; zoom={'channel': 7, 'blc': \\[75,75\\],\n",
    "'trc': \\[175,175\\],'coord': 'pixel'},  \n",
    "&nbsp;&nbsp;&nbsp;&nbsp;&nbsp; out='myout.png')\n",
    "\n",
    "The argument to *raster* is enclosed in the curly braces { }. Within\n",
    "these braces are a number of \"key\":\"value\" pairs. Each sets an option in\n",
    "the **viewer**, with the GUI parameter to set defined by the \"key\" and\n",
    "the value to set it to defined by \"value.\" In the example above,\n",
    "file=&rsquo;ngc5921.clean.image&rsquo; sets the file name of the raster\n",
    "image, range= \\[-0.01,0.03\\] sets the range of pixel values used for the\n",
    "scaling.\n",
    "\n",
    "*contour* works similarly to *raster* but can accept multiple\n",
    "dictionaries in order to produce multiple contour overlays on a single\n",
    "image. To specify multiple contour overlays, simply pass multiple\n",
    "dictionaries (comma delimited) in to the *contour* argument:\n",
    "\n",
    "contour={'file': 'file1.image', 'levels': \\[1,2,3\\] }, {'file':\n",
    "'file2.image', 'levels': \\[0.006, 0.008, 0.010\\] }\n",
    "\n",
    "*zoom* specifies the part of the image to be shown. The example above\n",
    "specifies a channel as well as the top right corner \"trc\" and the bottom\n",
    "left corner \"blc\" of the region of interest.\n",
    "\n",
    "*axes* defines what axes are shown. By default, the viewer will show\n",
    "&rsquo;x&rsquo;:&rsquo;Right Ascension&rsquo;,\n",
    "&rsquo;y&rsquo;:&rsquo;Declination&rsquo; but one may also view\n",
    "position-frequency images.\n",
    "\n",
    "*out* defines the filename of the output, with the extension setting the\n",
    "file type.\n",
    "\n",
    "Currently, the following parameters are supported:\n",
    "\n",
    "raster &nbsp;-- (string) image file to open  \n",
    "&nbsp; &nbsp; &nbsp; &nbsp; &nbsp; &nbsp;(dict) &nbsp; file (string)\n",
    "&nbsp; &nbsp; =\\> image file to open  \n",
    "&nbsp; &nbsp; &nbsp; &nbsp; &nbsp; &nbsp; &nbsp; &nbsp; &nbsp; &nbsp;\n",
    "scaling (float) &nbsp; =\\> scaling power cycles  \n",
    "&nbsp; &nbsp; &nbsp; &nbsp; &nbsp; &nbsp; &nbsp; &nbsp; &nbsp; &nbsp;\n",
    "range (float\\*2) &nbsp; =\\> data range  \n",
    "&nbsp; &nbsp; &nbsp; &nbsp; &nbsp; &nbsp; &nbsp; &nbsp; &nbsp; &nbsp;\n",
    "colormap (string) =\\> name of colormap  \n",
    "&nbsp; &nbsp; &nbsp; &nbsp; &nbsp; &nbsp; &nbsp; &nbsp; &nbsp; &nbsp;\n",
    "colorwedge (bool) =\\> show color wedge?  \n",
    "contour -- (string) file to load as a contour  \n",
    "&nbsp; &nbsp; &nbsp; &nbsp; &nbsp; &nbsp;(dict) &nbsp; file (string)\n",
    "&nbsp; &nbsp; =\\> file to load  \n",
    "&nbsp; &nbsp; &nbsp; &nbsp; &nbsp; &nbsp; &nbsp; &nbsp; &nbsp; &nbsp;\n",
    "levels (float\\*N) &nbsp;=\\> relative levels  \n",
    "&nbsp; &nbsp; &nbsp; &nbsp; &nbsp; &nbsp; &nbsp; &nbsp; &nbsp; &nbsp;\n",
    "base (numeric) &nbsp; &nbsp;=\\> zero in relative levels  \n",
    "&nbsp; &nbsp; &nbsp; &nbsp; &nbsp; &nbsp; &nbsp; &nbsp; &nbsp; &nbsp;\n",
    "unit (numeric) &nbsp; &nbsp;=\\> one in the relative levels  \n",
    "zoom &nbsp; &nbsp;-- (int) &nbsp; &nbsp;integral zoom level  \n",
    "&nbsp; &nbsp; &nbsp; &nbsp; &nbsp; &nbsp;(string) region file to load as\n",
    "the zoom region  \n",
    "&nbsp; &nbsp; &nbsp; &nbsp; &nbsp; &nbsp;(dict) &nbsp; blc (numeric\\*2)\n",
    "&nbsp; =\\> bottom left corner  \n",
    "&nbsp; &nbsp; &nbsp; &nbsp; &nbsp; &nbsp; &nbsp; &nbsp; &nbsp; &nbsp;\n",
    "trc (numeric\\*2) &nbsp; =\\> top right corner  \n",
    "&nbsp; &nbsp; &nbsp; &nbsp; &nbsp; &nbsp; &nbsp; &nbsp; &nbsp; &nbsp;\n",
    "coord (string) &nbsp; &nbsp;=\\> pixel or world  \n",
    "&nbsp; &nbsp; &nbsp; &nbsp; &nbsp; &nbsp; &nbsp; &nbsp; &nbsp; &nbsp;\n",
    "channel (int) &nbsp; &nbsp; =\\> channel to display  \n",
    "&nbsp; &nbsp; &nbsp; &nbsp; &nbsp; &nbsp;(dict) &nbsp; \\<region record\\>\n",
    "&nbsp; =\\> record loaded  \n",
    "&nbsp; &nbsp; &nbsp; &nbsp; &nbsp; &nbsp; &nbsp; &nbsp; &nbsp; &nbsp;\n",
    "&nbsp; &nbsp; &nbsp; &nbsp; &nbsp; &nbsp; &nbsp; &nbsp; &nbsp; &nbsp;\n",
    "&nbsp;e.g., rg.fromfiletorecord( )  \n",
    "axes &nbsp; &nbsp;-- (string\\*3) dimension to display on the x, y, and z\n",
    "axes  \n",
    "&nbsp; &nbsp; &nbsp; &nbsp; &nbsp; &nbsp;(dict) &nbsp; x &nbsp; &nbsp;\n",
    "&nbsp; &nbsp; &nbsp; &nbsp; &nbsp; &nbsp; =\\> dimension for x-axes  \n",
    "&nbsp; &nbsp; &nbsp; &nbsp; &nbsp; &nbsp; &nbsp; &nbsp; &nbsp; &nbsp; y\n",
    "&nbsp; &nbsp; &nbsp; &nbsp; &nbsp; &nbsp; &nbsp; &nbsp; =\\> dimension\n",
    "for y-axes  \n",
    "&nbsp; &nbsp; &nbsp; &nbsp; &nbsp; &nbsp; &nbsp; &nbsp; &nbsp; &nbsp; z\n",
    "&nbsp; &nbsp; &nbsp; &nbsp; &nbsp; &nbsp; &nbsp; &nbsp; =\\> dimension\n",
    "for z-axes  \n",
    "out &nbsp; &nbsp; -- (string) file with a supported extension  \n",
    "&nbsp; &nbsp; &nbsp; &nbsp; &nbsp; &nbsp; &nbsp; &nbsp; &nbsp; &nbsp;\n",
    "\\[jpg, pdf, eps, ps, png, xbm, xpm, ppm\\]  \n",
    "&nbsp; &nbsp; &nbsp; &nbsp; &nbsp; &nbsp;(dict) &nbsp; file (string)\n",
    "&nbsp; &nbsp; =\\> filename  \n",
    "&nbsp; &nbsp; &nbsp; &nbsp; &nbsp; &nbsp; &nbsp; &nbsp; &nbsp; &nbsp;\n",
    "format (string) &nbsp; =\\> valid ext (filename ext overrides)  \n",
    "&nbsp; &nbsp; &nbsp; &nbsp; &nbsp; &nbsp; &nbsp; &nbsp; &nbsp; &nbsp;\n",
    "scale (numeric) &nbsp; =\\> scale for non-eps, non-ps output  \n",
    "&nbsp; &nbsp; &nbsp; &nbsp; &nbsp; &nbsp; &nbsp; &nbsp; &nbsp; &nbsp;\n",
    "dpi (numeric) &nbsp; &nbsp; =\\> dpi for eps or ps output  \n",
    "&nbsp; &nbsp; &nbsp; &nbsp; &nbsp; &nbsp; &nbsp; &nbsp; &nbsp; &nbsp;\n",
    "orient (string) &nbsp; =\\> portrait or landscape\n",
    "\n",
    "Examples are also found in help **imview**.\n",
    "\n",
    "&nbsp;\n",
    "\n"
   ]
  },
  {
   "cell_type": "markdown",
   "metadata": {},
   "source": [
    "## Scripting using the viewer tool\n",
    "\n",
    "The **viewer** tool may also be used to generate simple figures that can\n",
    "be directly saved to an output image file format (png, jpg, etc). Below\n",
    "is an example.\n",
    "\n",
    "def dispimage(imname=''):&nbsp;  \n",
    "&nbsp;&nbsp;&nbsp; qq = viewertool()&nbsp;  \n",
    "&nbsp;&nbsp;&nbsp; qq.load(imname)&nbsp;  \n",
    "&nbsp;&nbsp;&nbsp; qq.datarange(range=\\[-0.01,1.1\\])&nbsp;  \n",
    "&nbsp;&nbsp;&nbsp; qq.colormap(map='Rainbow 3')&nbsp;  \n",
    "&nbsp;&nbsp;&nbsp; qq.colorwedge(show=True)&nbsp;  \n",
    "&nbsp;&nbsp;&nbsp; qq.zoom(blc=\\[100,150\\], trc=\\[600,640\\])&nbsp;  \n",
    "&nbsp;&nbsp;&nbsp;\n",
    "qq.output(device='fig_trial.png',format='png')&nbsp;  \n",
    "&nbsp;&nbsp;&nbsp; qq.close()\n",
    "\n",
    "Note that only basic controls are available via the **viewertool**\n",
    "interface. For additional customization via a script, please\n",
    "see&nbsp;the following section describing \"Using Viewer state files\n",
    "within a script\".&nbsp;\n",
    "\n",
    "&nbsp;\n",
    "\n"
   ]
  },
  {
   "cell_type": "markdown",
   "metadata": {},
   "source": [
    "## Using Viewer state files within a script&nbsp;\n",
    "\n",
    "In order to access the full flexibility of the GUI interface in\n",
    "customizing the **viewer** settings and display options, a hand-crafted\n",
    "**viewer** state can be saved, edited, and subsequently\n",
    "restored/rendered via a script that then allows the saving of the figure\n",
    "to a file on disk.\n",
    "\n",
    "For example:\n",
    "\n",
    "Step 1 : Customize the **viewer** by hand. For example, choose to open\n",
    "an image, customize the display data ranges, choose a colormap, change\n",
    "axis label properties, change the units of the movie axis label, edit\n",
    "the panel background color, adjust margins and and resize the panel\n",
    "window.\n",
    "\n",
    "Step 2 : Click on the \"save viewer state\" button on the top control\n",
    "panel of the **viewer**. This will save a .rstr file, which is an xml\n",
    "file containing a complete description of the current state of the\n",
    "**viewer**.&nbsp;&nbsp;\n",
    "\n",
    "Step 3 : Edit the text xml file as required. The simplest operation is\n",
    "to search and replace the name of the CASA image being opened. More\n",
    "complex editing can be done via stand-alone editing scripts perhaps\n",
    "using standard python xml parser/editing packages.\n",
    "\n",
    "Step 4 : Restore the state of the **viewer** from the edited xml .rstr\n",
    "file, using the **viewertool** as follows to subsequently save a .png\n",
    "figure to disk.\n",
    "\n",
    "CASA \\<1\\>: vx = viewertool()  \n",
    "CASA \\<2\\>: x = vx.panel('mystate.rstr')  \n",
    "CASA \\<3\\>: vx.output('myfig.png',panel=x)\n",
    "\n",
    "(There are two interactive ways to restore the **viewer** state as well.\n",
    "The first is by starting up the **viewer** with no image chosen, and\n",
    "then clicking on the \"restore viewer state\" button and choosing this\n",
    ".rstr file to open. Alternately, the **casaviewer** can itself be opened\n",
    "by supplying this .rstr file as the 'image' to open.)\n",
    "\n",
    "&nbsp;"
   ]
  }
 ],
 "metadata": {},
 "nbformat": 4,
 "nbformat_minor": 5
}
