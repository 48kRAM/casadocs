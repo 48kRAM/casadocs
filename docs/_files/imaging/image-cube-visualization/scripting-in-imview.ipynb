{
 "cells": [
  {
   "cell_type": "markdown",
   "metadata": {},
   "source": [
    "# Scripting using imview\n",
    "\n",
    "Plotting to a file without invoking the Viewer GUI\n",
    "\n"
   ]
  },
  {
   "cell_type": "markdown",
   "metadata": {},
   "source": [
    "## Image Viewer (imview)\n",
    "\n",
    "The **imview** task offers scriptable access to many **viewer** options.\n",
    "This enables the production of customized plots without invoking the GUI\n",
    "and allows one to open the **viewer** to a carefully selected state.\n",
    "\n",
    "**imview** has the following inputs:\n",
    "\n",
    "\\"
   ]
  },
  {
   "cell_type": "markdown",
   "metadata": {},
   "source": [
    "##   imview :: View an image  \n",
    "raster      =    {}     \\"
   ]
  },
  {
   "cell_type": "markdown",
   "metadata": {},
   "source": [
    "## (Optional) Raster filename (string)  \n",
    "                        \\"
   ]
  },
  {
   "cell_type": "markdown",
   "metadata": {},
   "source": [
    "##   or complete raster config  \n",
    "                        \\"
   ]
  },
  {
   "cell_type": "markdown",
   "metadata": {},
   "source": [
    "##   dictionary. The allowed dictionary  \n",
    "                        \\"
   ]
  },
  {
   "cell_type": "markdown",
   "metadata": {},
   "source": [
    "##   keys are file (string), scaling  \n",
    "                        \\"
   ]
  },
  {
   "cell_type": "markdown",
   "metadata": {},
   "source": [
    "##   (numeric), range (2 element numeric  \n",
    "                        \\"
   ]
  },
  {
   "cell_type": "markdown",
   "metadata": {},
   "source": [
    "##   vector), colormap (string), and  \n",
    "                        \\"
   ]
  },
  {
   "cell_type": "markdown",
   "metadata": {},
   "source": [
    "##   colorwedge (bool).  \n",
    "contour     =    {}     \\"
   ]
  },
  {
   "cell_type": "markdown",
   "metadata": {},
   "source": [
    "## (Optional) Contour filename (string)  \n",
    "                        \\"
   ]
  },
  {
   "cell_type": "markdown",
   "metadata": {},
   "source": [
    "##   or complete contour config  \n",
    "                        \\"
   ]
  },
  {
   "cell_type": "markdown",
   "metadata": {},
   "source": [
    "##   dictionary. The allowed dictionary  \n",
    "                        \\"
   ]
  },
  {
   "cell_type": "markdown",
   "metadata": {},
   "source": [
    "##   keys are file (string), levels  \n",
    "                        \\"
   ]
  },
  {
   "cell_type": "markdown",
   "metadata": {},
   "source": [
    "##   (numeric vector), unit (float), and  \n",
    "                        \\"
   ]
  },
  {
   "cell_type": "markdown",
   "metadata": {},
   "source": [
    "##   base (float).  \n",
    "zoom        =    1      \\"
   ]
  },
  {
   "cell_type": "markdown",
   "metadata": {},
   "source": [
    "## (Optional) zoom can specify  \n",
    "                        \\"
   ]
  },
  {
   "cell_type": "markdown",
   "metadata": {},
   "source": [
    "##   intermental zoom (integer), zoom  \n",
    "                        \\"
   ]
  },
  {
   "cell_type": "markdown",
   "metadata": {},
   "source": [
    "##   region read from a file (string) or  \n",
    "                        \\"
   ]
  },
  {
   "cell_type": "markdown",
   "metadata": {},
   "source": [
    "##   dictionary specifying the zoom  \n",
    "                        \\"
   ]
  },
  {
   "cell_type": "markdown",
   "metadata": {},
   "source": [
    "##   region. The dictionary can have two  \n",
    "                        \\"
   ]
  },
  {
   "cell_type": "markdown",
   "metadata": {},
   "source": [
    "##   forms. It can be either a simple  \n",
    "                        \\"
   ]
  },
  {
   "cell_type": "markdown",
   "metadata": {},
   "source": [
    "##   region specified with blc (2 element  \n",
    "                        \\"
   ]
  },
  {
   "cell_type": "markdown",
   "metadata": {},
   "source": [
    "##   vector) and trc (2 element vector)  \n",
    "                        \\"
   ]
  },
  {
   "cell_type": "markdown",
   "metadata": {},
   "source": [
    "##   \\[along with an optional coord key  \n",
    "                        \\"
   ]
  },
  {
   "cell_type": "markdown",
   "metadata": {},
   "source": [
    "##   (\"pixel\" or \"world\"; pixel is the  \n",
    "                        \\"
   ]
  },
  {
   "cell_type": "markdown",
   "metadata": {},
   "source": [
    "##   default) or a complete region  \n",
    "                        \\"
   ]
  },
  {
   "cell_type": "markdown",
   "metadata": {},
   "source": [
    "##   rectangle e.g. loaded with  \n",
    "                        \\"
   ]
  },
  {
   "cell_type": "markdown",
   "metadata": {},
   "source": [
    "##   \"rg.fromfiletorecord( )\". The  \n",
    "                        \\"
   ]
  },
  {
   "cell_type": "markdown",
   "metadata": {},
   "source": [
    "##   dictionary can also contain a  \n",
    "                        \\"
   ]
  },
  {
   "cell_type": "markdown",
   "metadata": {},
   "source": [
    "##   channel (integer) field which  \n",
    "                        \\"
   ]
  },
  {
   "cell_type": "markdown",
   "metadata": {},
   "source": [
    "##   indicates which channel should be  \n",
    "                        \\"
   ]
  },
  {
   "cell_type": "markdown",
   "metadata": {},
   "source": [
    "##   displayed.  \n",
    "axes        =    -1     \\"
   ]
  },
  {
   "cell_type": "markdown",
   "metadata": {},
   "source": [
    "## (Optional) this can either be a  \n",
    "                        \\"
   ]
  },
  {
   "cell_type": "markdown",
   "metadata": {},
   "source": [
    "##   three element vector (string) where  \n",
    "                        \\"
   ]
  },
  {
   "cell_type": "markdown",
   "metadata": {},
   "source": [
    "##   each element describes what should  \n",
    "                        \\"
   ]
  },
  {
   "cell_type": "markdown",
   "metadata": {},
   "source": [
    "##   be found on each of the x, y, and z  \n",
    "                        \\"
   ]
  },
  {
   "cell_type": "markdown",
   "metadata": {},
   "source": [
    "##   axes or a dictionary containing  \n",
    "                        \\"
   ]
  },
  {
   "cell_type": "markdown",
   "metadata": {},
   "source": [
    "##   fields \"x\", \"y\" and \"z\" (string).  \n",
    "out         =    {}     \\"
   ]
  },
  {
   "cell_type": "markdown",
   "metadata": {},
   "source": [
    "## (Optional) Output filename or  \n",
    "                        \\"
   ]
  },
  {
   "cell_type": "markdown",
   "metadata": {},
   "source": [
    "##   complete output config dictionary.  \n",
    "                        \\"
   ]
  },
  {
   "cell_type": "markdown",
   "metadata": {},
   "source": [
    "##   If a string is passed, the file  \n",
    "                        \\"
   ]
  },
  {
   "cell_type": "markdown",
   "metadata": {},
   "source": [
    "##   extension is used to determine the  \n",
    "                        \\"
   ]
  },
  {
   "cell_type": "markdown",
   "metadata": {},
   "source": [
    "##   output type (jpg, pdf, eps, ps, png,  \n",
    "                        \\"
   ]
  },
  {
   "cell_type": "markdown",
   "metadata": {},
   "source": [
    "##   xbm, xpm, or ppm). If a dictionary  \n",
    "                        \\"
   ]
  },
  {
   "cell_type": "markdown",
   "metadata": {},
   "source": [
    "##   is passed, it can contain the  \n",
    "                        \\"
   ]
  },
  {
   "cell_type": "markdown",
   "metadata": {},
   "source": [
    "##   fields, file (string), scale  \n",
    "                        \\"
   ]
  },
  {
   "cell_type": "markdown",
   "metadata": {},
   "source": [
    "##   (float), dpi (int), or orient  \n",
    "                        \\"
   ]
  },
  {
   "cell_type": "markdown",
   "metadata": {},
   "source": [
    "##   (landscape or portrait). The scale  \n",
    "                        \\"
   ]
  },
  {
   "cell_type": "markdown",
   "metadata": {},
   "source": [
    "##   field is used for the bitmap formats  \n",
    "                        \\"
   ]
  },
  {
   "cell_type": "markdown",
   "metadata": {},
   "source": [
    "##   (i.e. not ps or pdf) and the dpi  \n",
    "                        \\"
   ]
  },
  {
   "cell_type": "markdown",
   "metadata": {},
   "source": [
    "##   parameter is used for scalable  \n",
    "                        \\"
   ]
  },
  {
   "cell_type": "markdown",
   "metadata": {},
   "source": [
    "##   formats (pdf or ps).\n",
    "\n",
    "The *raster* and *contour* parameters specify which images to load and\n",
    "how these images should be displayed. These parameters take python\n",
    "dictionaries as inputs. The fields in these dictionaries specify how the\n",
    "image will be displayed.\n",
    "\n",
    "An example call to **imview** looks like this:\n",
    "\n",
    "imview(raster={'file': 'ngc5921.clean.image','range':\n",
    "\\[-0.01,0.03\\],'colormap': 'Hot Metal 2','scaling': -1},  \n",
    "      contour={'file': 'ngc5921.clean.image'},  \n",
    "      axes={'x':'Declination'},  \n",
    "      zoom={'channel': 7, 'blc': \\[75,75\\], 'trc': \\[175,175\\],'coord':\n",
    "'pixel'},  \n",
    "      out='myout.png')\n",
    "\n",
    "The argument to *raster* is enclosed in the curly braces { }. Within\n",
    "these braces are a number of \"key\":\"value\" pairs. Each sets an option in\n",
    "the **viewer**, with the GUI parameter to set defined by the \"key\" and\n",
    "the value to set it to defined by \"value.\" In the example above,\n",
    "file=’ngc5921.clean.image’ sets the file name of the raster image,\n",
    "range= \\[-0.01,0.03\\] sets the range of pixel values used for the\n",
    "scaling.\n",
    "\n",
    "*contour* works similarly to *raster* but can accept multiple\n",
    "dictionaries in order to produce multiple contour overlays on a single\n",
    "image. To specify multiple contour overlays, simply pass multiple\n",
    "dictionaries (comma delimited) in to the *contour* argument:\n",
    "\n",
    "contour={'file': 'file1.image', 'levels': \\[1,2,3\\] }, {'file':\n",
    "'file2.image', 'levels': \\[0.006, 0.008, 0.010\\] }\n",
    "\n",
    "*zoom* specifies the part of the image to be shown. The example above\n",
    "specifies a channel as well as the top right corner \"trc\" and the bottom\n",
    "left corner \"blc\" of the region of interest.\n",
    "\n",
    "*axes* defines what axes are shown. By default, the viewer will show\n",
    "’x’:’Right Ascension’, ’y’:’Declination’ but one may also view\n",
    "position-frequency images.\n",
    "\n",
    "*out* defines the filename of the output, with the extension setting the\n",
    "file type.\n",
    "\n",
    "Currently, the following parameters are supported:\n",
    "\n",
    "raster  -- (string) image file to open  \n",
    "           (dict)   file (string)     =\\> image file to open  \n",
    "                    scaling (float)   =\\> scaling power cycles  \n",
    "                    range (float\\*2)   =\\> data range  \n",
    "                    colormap (string) =\\> name of colormap  \n",
    "                    colorwedge (bool) =\\> show color wedge?  \n",
    "contour -- (string) file to load as a contour  \n",
    "           (dict)   file (string)     =\\> file to load  \n",
    "                    levels (float\\*N)  =\\> relative levels  \n",
    "                    base (numeric)    =\\> zero in relative levels  \n",
    "                    unit (numeric)    =\\> one in the relative levels  \n",
    "zoom    -- (int)    integral zoom level  \n",
    "           (string) region file to load as the zoom region  \n",
    "           (dict)   blc (numeric\\*2)   =\\> bottom left corner  \n",
    "                    trc (numeric\\*2)   =\\> top right corner  \n",
    "                    coord (string)    =\\> pixel or world  \n",
    "                    channel (int)     =\\> channel to display  \n",
    "           (dict)   \\<region record\\>   =\\> record loaded  \n",
    "                                         e.g., rg.fromfiletorecord( )  \n",
    "axes    -- (string\\*3) dimension to display on the x, y, and z axes  \n",
    "           (dict)   x                 =\\> dimension for x-axes  \n",
    "                    y                 =\\> dimension for y-axes  \n",
    "                    z                 =\\> dimension for z-axes  \n",
    "out     -- (string) file with a supported extension  \n",
    "                    \\[jpg, pdf, eps, ps, png, xbm, xpm, ppm\\]  \n",
    "           (dict)   file (string)     =\\> filename  \n",
    "                    format (string)   =\\> valid ext (filename ext\n",
    "overrides)  \n",
    "                    scale (numeric)   =\\> scale for non-eps, non-ps\n",
    "output  \n",
    "                    dpi (numeric)     =\\> dpi for eps or ps output  \n",
    "                    orient (string)   =\\> portrait or landscape\n",
    "\n",
    "Examples are also found in help **imview**.\n",
    "\n",
    " \n",
    "\n"
   ]
  },
  {
   "cell_type": "markdown",
   "metadata": {},
   "source": [
    "## Scripting using the viewer tool\n",
    "\n",
    "The **viewer** tool may also be used to generate simple figures that can\n",
    "be directly saved to an output image file format (png, jpg, etc). Below\n",
    "is an example.\n",
    "\n",
    "def dispimage(imname=''):   \n",
    "    qq = viewertool()   \n",
    "    qq.load(imname)   \n",
    "    qq.datarange(range=\\[-0.01,1.1\\])   \n",
    "    qq.colormap(map='Rainbow 3')   \n",
    "    qq.colorwedge(show=True)   \n",
    "    qq.zoom(blc=\\[100,150\\], trc=\\[600,640\\])   \n",
    "    qq.output(device='fig_trial.png',format='png')   \n",
    "    qq.close()\n",
    "\n",
    "Note that only basic controls are available via the **viewertool**\n",
    "interface. For additional customization via a script, please see the\n",
    "following section describing \"Using Viewer state files within a\n",
    "script\". \n",
    "\n",
    " \n",
    "\n"
   ]
  },
  {
   "cell_type": "markdown",
   "metadata": {},
   "source": [
    "## Using Viewer state files within a script \n",
    "\n",
    "In order to access the full flexibility of the GUI interface in\n",
    "customizing the **viewer** settings and display options, a hand-crafted\n",
    "**viewer** state can be saved, edited, and subsequently\n",
    "restored/rendered via a script that then allows the saving of the figure\n",
    "to a file on disk.\n",
    "\n",
    "For example:\n",
    "\n",
    "Step 1 : Customize the **viewer** by hand. For example, choose to open\n",
    "an image, customize the display data ranges, choose a colormap, change\n",
    "axis label properties, change the units of the movie axis label, edit\n",
    "the panel background color, adjust margins and and resize the panel\n",
    "window.\n",
    "\n",
    "Step 2 : Click on the \"save viewer state\" button on the top control\n",
    "panel of the **viewer**. This will save a .rstr file, which is an xml\n",
    "file containing a complete description of the current state of the\n",
    "**viewer**.  \n",
    "\n",
    "Step 3 : Edit the text xml file as required. The simplest operation is\n",
    "to search and replace the name of the CASA image being opened. More\n",
    "complex editing can be done via stand-alone editing scripts perhaps\n",
    "using standard python xml parser/editing packages.\n",
    "\n",
    "Step 4 : Restore the state of the **viewer** from the edited xml .rstr\n",
    "file, using the **viewertool** as follows to subsequently save a .png\n",
    "figure to disk.\n",
    "\n",
    "CASA \\<1\\>: vx = viewertool()  \n",
    "CASA \\<2\\>: x = vx.panel('mystate.rstr')  \n",
    "CASA \\<3\\>: vx.output('myfig.png',panel=x)\n",
    "\n",
    "(There are two interactive ways to restore the **viewer** state as well.\n",
    "The first is by starting up the **viewer** with no image chosen, and\n",
    "then clicking on the \"restore viewer state\" button and choosing this\n",
    ".rstr file to open. Alternately, the **casaviewer** can itself be opened\n",
    "by supplying this .rstr file as the 'image' to open.)"
   ]
  }
 ],
 "metadata": {},
 "nbformat": 4,
 "nbformat_minor": 5
}
