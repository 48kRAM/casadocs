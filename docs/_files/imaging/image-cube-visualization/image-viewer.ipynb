{
 "cells": [
  {
   "cell_type": "markdown",
   "metadata": {},
   "source": [
    "# Image Viewer\n",
    "\n",
    "Introduction to the CASA Viewer\n",
    "\n",
    "This documentation describes how to use\n",
    "the CASA Viewer to display data. The Viewer can be started as a\n",
    "stand-alone executable or by the **viewer** task inside a CASA shell. It can display\n",
    "both images and MeasurementSets. The task-level access to the Viewer has\n",
    "been split into two tasks: **imview** for images and **msview** for MeasurementSets. These tasks offer\n",
    "improved scriptability, giving command line access to many of the viewer\n",
    "features.\n",
    "\n",
    "For help on the image viewer, please\n",
    "see the subpages shown in the tabs to the left. For the Visibility\n",
    "visualization, please see [2-D Visualization and Flagging of Visibility\n",
    "Data](https://casa.nrao.edu/casadocs-devel/stable/calibration-and-visibility-data/data-examination-and-editing/2-d-visualization-of-visibility-data-msview). "
   ]
  }
 ],
 "metadata": {},
 "nbformat": 4,
 "nbformat_minor": 5
}
