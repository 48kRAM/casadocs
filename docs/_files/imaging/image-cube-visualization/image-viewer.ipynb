{
 "cells": [
  {
   "cell_type": "markdown",
   "metadata": {},
   "source": [
    "# Image Viewer {#image-viewer .documentFirstHeading}\n",
    "\n",
    "\n",
    "\n",
    "\n",
    "\n",
    "Introduction to the CASA Viewer\n",
    "\n",
    "\n",
    "\n",
    "\n",
    "\n",
    "\n",
    "\n",
    "\n",
    "This documentation describes how to use the CASA Viewer to display\n",
    "data. The Viewer can be started as a stand-alone executable or by the\n",
    "**viewer** task inside a CASA shell. It\n",
    "can display both images and MeasurementSets. The task-level access to\n",
    "the Viewer has been split into two tasks:\n",
    "**imview** for images and\n",
    "**msview** for MeasurementSets. These\n",
    "tasks offer improved scriptability, giving command line access to many\n",
    "of the viewer features.\n",
    "\n",
    "For help on the image viewer, please see the subpages shown in the tabs\n",
    "to the left. For the Visibility visualization, please see [2-D\n",
    "Visualization and Flagging of Visibility\n",
    "Data](https://casa.nrao.edu/casadocs-devel/stable/calibration-and-visibility-data/data-examination-and-editing/2-d-visualization-of-visibility-data-msview)."
   ]
  }
 ],
 "metadata": {},
 "nbformat": 4,
 "nbformat_minor": 4
}
