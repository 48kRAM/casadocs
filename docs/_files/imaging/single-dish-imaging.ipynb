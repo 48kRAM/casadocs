{
 "cells": [
  {
   "cell_type": "markdown",
   "metadata": {},
   "source": [
    "# Single-Dish Imaging\n",
    "\n",
    "Imaging single-dish data in CASA"
   ]
  },
  {
   "cell_type": "markdown",
   "metadata": {
    "nbsphinx-toctree": {
     "hidden": true
    }
   },
   "source": [
    "[Overview](single-dish-imaging/overview)\n",
    "[Theoretical Description](single-dish-imaging/image-generation-and-data-gridding-in-casa)\n",
    "[Procedure SD Imaging](single-dish-imaging/single-dish-image-generation-and-data-gridding-in-casa-procedure)\n"
   ]
  }
 ],
 "metadata": {},
 "nbformat": 4,
 "nbformat_minor": 5
}
