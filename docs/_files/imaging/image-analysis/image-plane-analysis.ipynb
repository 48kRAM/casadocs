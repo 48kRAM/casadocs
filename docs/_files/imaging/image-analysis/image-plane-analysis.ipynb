{
 "cells": [
  {
   "cell_type": "markdown",
   "metadata": {},
   "source": [
    "# Image Plane Analysis\n",
    "\n",
    "Source Fitting and Smoothing\n",
    "\n"
   ]
  },
  {
   "cell_type": "markdown",
   "metadata": {},
   "source": [
    "## Image-plane Component Fitting (**imfit**)\n",
    "\n",
    "The inputs are:\n",
    "\n",
    "\\"
   ]
  },
  {
   "cell_type": "markdown",
   "metadata": {},
   "source": [
    "##  imfit :: Fit one or more elliptical Gaussian components on an image\n",
    "region(s)  \n",
    "imagename           =         ''        \\"
   ]
  },
  {
   "cell_type": "markdown",
   "metadata": {},
   "source": [
    "##  Name of the input image  \n",
    "box                 =         ''        \\"
   ]
  },
  {
   "cell_type": "markdown",
   "metadata": {},
   "source": [
    "##  Specify one or more box\n",
    "regions for the fit.  \n",
    "region              =         ''        \\"
   ]
  },
  {
   "cell_type": "markdown",
   "metadata": {},
   "source": [
    "##  Region.   \n",
    "chans               =         ''        \\"
   ]
  },
  {
   "cell_type": "markdown",
   "metadata": {},
   "source": [
    "##  Spectral channels on which\n",
    "to perform fit.   \n",
    "stokes              =         ''        \\"
   ]
  },
  {
   "cell_type": "markdown",
   "metadata": {},
   "source": [
    "##  Stokes parameter to fit. If\n",
    "blank, first stokes plane is  \n",
    "                                        \\"
   ]
  },
  {
   "cell_type": "markdown",
   "metadata": {},
   "source": [
    "##   used.  \n",
    "mask                =         ''        \\"
   ]
  },
  {
   "cell_type": "markdown",
   "metadata": {},
   "source": [
    "##  Mask to use. Default is\n",
    "none.  \n",
    "includepix          =         \\[\\]        \\"
   ]
  },
  {
   "cell_type": "markdown",
   "metadata": {},
   "source": [
    "##  Range of pixel values to\n",
    "include for fitting.  \n",
    "excludepix          =         \\[\\]        \\"
   ]
  },
  {
   "cell_type": "markdown",
   "metadata": {},
   "source": [
    "##  Range of pixel values to\n",
    "exclude for fitting.  \n",
    "residual            =         ''        \\"
   ]
  },
  {
   "cell_type": "markdown",
   "metadata": {},
   "source": [
    "##  Name of output residual\n",
    "image.  \n",
    "model               =         ''        \\"
   ]
  },
  {
   "cell_type": "markdown",
   "metadata": {},
   "source": [
    "##  Name of output model\n",
    "image.  \n",
    "estimates           =         ''        \\"
   ]
  },
  {
   "cell_type": "markdown",
   "metadata": {},
   "source": [
    "##  Name of file containing\n",
    "initial estimates of component  \n",
    "                                        \\"
   ]
  },
  {
   "cell_type": "markdown",
   "metadata": {},
   "source": [
    "##   parameters.  \n",
    "logfile             =         ''        \\"
   ]
  },
  {
   "cell_type": "markdown",
   "metadata": {},
   "source": [
    "##  Name of file to write fit\n",
    "results.  \n",
    "newestimates        =         ''        \\"
   ]
  },
  {
   "cell_type": "markdown",
   "metadata": {},
   "source": [
    "##  File to write fit results\n",
    "which can be used as initial  \n",
    "                                        \\"
   ]
  },
  {
   "cell_type": "markdown",
   "metadata": {},
   "source": [
    "##   estimates for next run.  \n",
    "complist            =         ''        \\"
   ]
  },
  {
   "cell_type": "markdown",
   "metadata": {},
   "source": [
    "##  Name of output component\n",
    "list table.  \n",
    "dooff               =      False        \\"
   ]
  },
  {
   "cell_type": "markdown",
   "metadata": {},
   "source": [
    "##  Also fit a zero level\n",
    "offset? Default is False  \n",
    "rms                 =         -1        \\"
   ]
  },
  {
   "cell_type": "markdown",
   "metadata": {},
   "source": [
    "##  RMS to use in calculation of\n",
    "uncertainties. Numeric or  \n",
    "                                        \\"
   ]
  },
  {
   "cell_type": "markdown",
   "metadata": {},
   "source": [
    "##   valid quantity (record or\n",
    "string). If numeric, it is  \n",
    "                                        \\"
   ]
  },
  {
   "cell_type": "markdown",
   "metadata": {},
   "source": [
    "##   given units of the input\n",
    "image. If quantity, units must  \n",
    "                                        \\"
   ]
  },
  {
   "cell_type": "markdown",
   "metadata": {},
   "source": [
    "##   conform to image units. If\n",
    "not positive, the rms of the  \n",
    "                                        \\"
   ]
  },
  {
   "cell_type": "markdown",
   "metadata": {},
   "source": [
    "##   residual image, in the\n",
    "region of the fit, is used.  \n",
    "noisefwhm           =         ''        \\"
   ]
  },
  {
   "cell_type": "markdown",
   "metadata": {},
   "source": [
    "##  Noise correlation beam FWHM.\n",
    "If numeric value,  \n",
    "                                        \\"
   ]
  },
  {
   "cell_type": "markdown",
   "metadata": {},
   "source": [
    "##   interpreted as pixel\n",
    "widths. If quantity (dictionary,  \n",
    "                                        \\"
   ]
  },
  {
   "cell_type": "markdown",
   "metadata": {},
   "source": [
    "##   string), it must have\n",
    "angular units.\n",
    "\n",
    "**imfit** will return (as a Python dictionary) the results of the fit,\n",
    "but the results can also be written into a component list table or a\n",
    "logfile.\n",
    "\n",
    "**NOTE**: To fit more than a single component, you must provide starting\n",
    "estimates for each component via the *estimates* file. See ‘‘*help\n",
    "imfit’*’ for more details on this. A noise estimate will be calculated\n",
    "automatically or can be provided through the *rms* and *noisefwhm*\n",
    "keywords.\n",
    "\n",
    " \n",
    "\n"
   ]
  },
  {
   "cell_type": "markdown",
   "metadata": {},
   "source": [
    "### Examples for **imfit**\n",
    "\n",
    "\\"
   ]
  },
  {
   "cell_type": "markdown",
   "metadata": {},
   "source": [
    "## First fit only a single component at a time  \n",
    "\\"
   ]
  },
  {
   "cell_type": "markdown",
   "metadata": {},
   "source": [
    "## This is OK since the components are well-separated and not blended  \n",
    "\\"
   ]
  },
  {
   "cell_type": "markdown",
   "metadata": {},
   "source": [
    "## Box around component A  \n",
    "xfit_A\\_res = imfit('b1608.demo.clean2.image',box='121,121,136,136',  \n",
    "                   newestimates='b1608.demo.clean2.newestimate')  \n",
    "  \n",
    "\\"
   ]
  },
  {
   "cell_type": "markdown",
   "metadata": {},
   "source": [
    "## Now extract the fit part of the return value  \n",
    "xfit_A = xfit_A\\_res\\['results'\\]\\['component0'\\]  \n",
    "\\#xfit_A  \n",
    "\\"
   ]
  },
  {
   "cell_type": "markdown",
   "metadata": {},
   "source": [
    "##  Out\\[7\\]:  \n",
    "\\#{'flux': {'error': array(\\[  6.73398035e-05,   0.00000000e+00,  \n",
    "0.00000000e+00,  \n",
    "\\"
   ]
  },
  {
   "cell_type": "markdown",
   "metadata": {},
   "source": [
    "##         0.00000000e+00\\]),  \n",
    "\\"
   ]
  },
  {
   "cell_type": "markdown",
   "metadata": {},
   "source": [
    "##          'polarisation': 'Stokes',  \n",
    "\\"
   ]
  },
  {
   "cell_type": "markdown",
   "metadata": {},
   "source": [
    "##          'unit': 'Jy',  \n",
    "\\"
   ]
  },
  {
   "cell_type": "markdown",
   "metadata": {},
   "source": [
    "##          'value': array(\\[ 0.01753742,  0.        ,  0.        , \n",
    "0.        \\])},  \n",
    "\\"
   ]
  },
  {
   "cell_type": "markdown",
   "metadata": {},
   "source": [
    "## 'label': '',  \n",
    "\\"
   ]
  },
  {
   "cell_type": "markdown",
   "metadata": {},
   "source": [
    "## 'shape': {'direction': {'error': {'latitude': {'unit': 'arcsec',  \n",
    "\\"
   ]
  },
  {
   "cell_type": "markdown",
   "metadata": {},
   "source": [
    "##                                                'value':\n",
    "0.00041154866279462775},  \n",
    "\\"
   ]
  },
  {
   "cell_type": "markdown",
   "metadata": {},
   "source": [
    "##                                   'longitude': {'unit': 'arcsec',  \n",
    "\\"
   ]
  },
  {
   "cell_type": "markdown",
   "metadata": {},
   "source": [
    "##                                                 'value':\n",
    "0.00046695916589535109}},  \n",
    "\\"
   ]
  },
  {
   "cell_type": "markdown",
   "metadata": {},
   "source": [
    "##                         'm0': {'unit': 'rad', 'value':\n",
    "-2.0541102061078207},       NOTE: 'm0' and 'm1' are the coordinates of\n",
    "peak/controid  \n",
    "\\"
   ]
  },
  {
   "cell_type": "markdown",
   "metadata": {},
   "source": [
    "##                         'm1': {'unit': 'rad', 'value':\n",
    "1.1439131060384089},        NOTE: 'm0' and 'm1' are the coordinates of\n",
    "peak/controid  \n",
    "\\"
   ]
  },
  {
   "cell_type": "markdown",
   "metadata": {},
   "source": [
    "##                         'refer': 'J2000',  \n",
    "\\"
   ]
  },
  {
   "cell_type": "markdown",
   "metadata": {},
   "source": [
    "##                         'type': 'direction'},  \n",
    "\\"
   ]
  },
  {
   "cell_type": "markdown",
   "metadata": {},
   "source": [
    "##           'majoraxis': {'unit': 'arcsec', 'value':\n",
    "0.29100166137741568},  \n",
    "\\"
   ]
  },
  {
   "cell_type": "markdown",
   "metadata": {},
   "source": [
    "##           'majoraxiserror': {'unit': 'arcsec',  \n",
    "\\"
   ]
  },
  {
   "cell_type": "markdown",
   "metadata": {},
   "source": [
    "##                              'value': 0.0011186420613222663},  \n",
    "\\"
   ]
  },
  {
   "cell_type": "markdown",
   "metadata": {},
   "source": [
    "##           'minoraxis': {'unit': 'arcsec', 'value':\n",
    "0.24738110059830495},  \n",
    "\\"
   ]
  },
  {
   "cell_type": "markdown",
   "metadata": {},
   "source": [
    "##           'minoraxiserror': {'unit': 'arcsec',  \n",
    "\\"
   ]
  },
  {
   "cell_type": "markdown",
   "metadata": {},
   "source": [
    "##                              'value': 0.0013431999725066338},  \n",
    "\\"
   ]
  },
  {
   "cell_type": "markdown",
   "metadata": {},
   "source": [
    "##           'positionangle': {'unit': 'deg', 'value':\n",
    "19.369249322401796},  \n",
    "\\"
   ]
  },
  {
   "cell_type": "markdown",
   "metadata": {},
   "source": [
    "##           'positionangleerror': {'unit': 'rad',  \n",
    "\\"
   ]
  },
  {
   "cell_type": "markdown",
   "metadata": {},
   "source": [
    "##                                  'value': 0.016663189295782171},  \n",
    "\\"
   ]
  },
  {
   "cell_type": "markdown",
   "metadata": {},
   "source": [
    "##           'type': 'Gaussian'},  \n",
    "\\"
   ]
  },
  {
   "cell_type": "markdown",
   "metadata": {},
   "source": [
    "## 'spectrum': {'frequency': {'m0': {'unit': 'GHz', 'value': 1.0},  \n",
    "\\"
   ]
  },
  {
   "cell_type": "markdown",
   "metadata": {},
   "source": [
    "##                            'refer': 'LSRK',  \n",
    "\\"
   ]
  },
  {
   "cell_type": "markdown",
   "metadata": {},
   "source": [
    "##                            'type': 'frequency'},  \n",
    "\\"
   ]
  },
  {
   "cell_type": "markdown",
   "metadata": {},
   "source": [
    "##              'type': 'Constant'}}  \n",
    "  \n",
    "\\"
   ]
  },
  {
   "cell_type": "markdown",
   "metadata": {},
   "source": [
    "## Now the other components  \n",
    "xfit_B\\_res = imfit('b1608.demo.clean2.image',box='108,114,120,126',  \n",
    "                  \n",
    "newestimates='b1608.demo.clean2.newestimate',append=True)  \n",
    "xfit_B = xfit_B\\_res\\['results'\\]\\['component0'\\]  \n",
    "  \n",
    "xfit_C\\_res= imfit('b1608.demo.clean2.image',box='108,84,120,96')  \n",
    "xfit_C = xfit_C\\_res\\['results'\\]\\['component0'\\]  \n",
    "  \n",
    "xfit_D\\_res = imfit('b1608.demo.clean2.image',box='144,98,157,110')  \n",
    "xfit_D = xfit_D\\_res\\['results'\\]\\['component0'\\]  \n",
    "  \n",
    "print \"\"  \n",
    "print \"Imfit Results:\"  \n",
    "print \"--------------\"  \n",
    "print \"A  Flux = %6.4f Bmaj = %6.4f\" %\n",
    "(xfit_A\\['flux'\\]\\['value'\\]\\[0\\],xfit_A\\['shape'\\]\\['majoraxis'\\]\\['value'\\])  \n",
    "print \"B  Flux = %6.4f Bmaj = %6.4f\" %\n",
    "(xfit_B\\['flux'\\]\\['value'\\]\\[0\\],xfit_B\\['shape'\\]\\['majoraxis'\\]\\['value'\\])  \n",
    "print \"C  Flux = %6.4f Bmaj = %6.4f\" %\n",
    "(xfit_C\\['flux'\\]\\['value'\\]\\[0\\],xfit_C\\['shape'\\]\\['majoraxis'\\]\\['value'\\])  \n",
    "print \"D  Flux = %6.4f Bmaj = %6.4f\" %\n",
    "(xfit_D\\['flux'\\]\\['value'\\]\\[0\\],xfit_D\\['shape'\\]\\['majoraxis'\\]\\['value'\\])  \n",
    "print \"\"\n",
    "\n",
    "Now try fitting four components together. For this we will have to\n",
    "provide an estimate file. We will use the clean beam for the estimate of\n",
    "the component sizes:\n",
    "\n",
    "estfile=open('b1608.demo.clean2.estimate','w')  \n",
    "print \\>\\>estfile,'\\"
   ]
  },
  {
   "cell_type": "markdown",
   "metadata": {},
   "source": [
    "## peak, x, y, bmaj, bmin, bpa'  \n",
    "print \\>\\>estfile,'0.017, 128, 129, 0.293arcsec, 0.238arcsec, 21.7deg'  \n",
    "print \\>\\>estfile,'0.008, 113, 120, 0.293arcsec, 0.238arcsec, 21.7deg'  \n",
    "print \\>\\>estfile,'0.008, 113,  90, 0.293arcsec, 0.238arcsec, 21.7deg'  \n",
    "print \\>\\>estfile,'0.002, 151, 104, 0.293arcsec, 0.238arcsec, 21.7deg'  \n",
    "estfile.close()\n",
    "\n",
    "Then, this can be used in **imfit**:\n",
    "\n",
    "fit_all_res = imfit('b1608.demo.clean2.image',  \n",
    "                     estimates='b1608.demo.clean2.estimate',  \n",
    "                     logfile='b1608.demo.clean2.imfitall.log',  \n",
    "                     newestimates='b1608.demo.clean2.newestimate',  \n",
    "                    \n",
    "box='121,121,136,136,108,114,120,126,108,84,120,96,144,98,157,110')  \n",
    "\\"
   ]
  },
  {
   "cell_type": "markdown",
   "metadata": {},
   "source": [
    "## Now extract the fit part of the return values  \n",
    "xfit_allA = xfit_all_res\\['results'\\]\\['component0'\\]  \n",
    "xfit_allB = xfit_all_res\\['results'\\]\\['component1'\\]  \n",
    "xfit_allC = xfit_all_res\\['results'\\]\\['component2'\\]  \n",
    "xfit_allD = xfit_all_res\\['results'\\]\\['component3'\\]\n",
    "\n",
    "These results are almost identical to those from the individual fits.\n",
    "You can see a nicer printout of the fit results in the logfile.\n",
    "\n",
    " \n",
    "\n"
   ]
  },
  {
   "cell_type": "markdown",
   "metadata": {},
   "source": [
    "## 2-dimensional Smoothing; Image Convolution (imsmooth)\n",
    "\n",
    "A data cube can be smoothed across spatial dimensions with **imsmooth**.\n",
    "The inputs are:\n",
    "\n",
    "\\"
   ]
  },
  {
   "cell_type": "markdown",
   "metadata": {},
   "source": [
    "##  imsmooth :: Smooth an image or portion of an image  \n",
    "imagename           =         ''        \\"
   ]
  },
  {
   "cell_type": "markdown",
   "metadata": {},
   "source": [
    "##  Name of the input image.\n",
    "Must be  \n",
    "                                        \\"
   ]
  },
  {
   "cell_type": "markdown",
   "metadata": {},
   "source": [
    "##   specified.  \n",
    "kernel              =    'gauss'        \\"
   ]
  },
  {
   "cell_type": "markdown",
   "metadata": {},
   "source": [
    "##  Type of kernel to use.\n",
    "Acceptable values  \n",
    "                                        \\"
   ]
  },
  {
   "cell_type": "markdown",
   "metadata": {},
   "source": [
    "##   are 'b', 'box', or 'boxcar'\n",
    "for a  \n",
    "                                        \\"
   ]
  },
  {
   "cell_type": "markdown",
   "metadata": {},
   "source": [
    "##   boxcar kernel, 'g',\n",
    "'gauss', or  \n",
    "                                        \\"
   ]
  },
  {
   "cell_type": "markdown",
   "metadata": {},
   "source": [
    "##   'gaussian' for a gaussian\n",
    "kernel, 'c',  \n",
    "                                        \\"
   ]
  },
  {
   "cell_type": "markdown",
   "metadata": {},
   "source": [
    "##   'common', or 'commonbeam'\n",
    "to use the  \n",
    "                                        \\"
   ]
  },
  {
   "cell_type": "markdown",
   "metadata": {},
   "source": [
    "##   common beam of an image\n",
    "with multiple  \n",
    "                                        \\"
   ]
  },
  {
   "cell_type": "markdown",
   "metadata": {},
   "source": [
    "##   beams as the gaussian to\n",
    "which to  \n",
    "                                        \\"
   ]
  },
  {
   "cell_type": "markdown",
   "metadata": {},
   "source": [
    "##   convolve all the planes,\n",
    "'i' or 'image'  \n",
    "                                        \\"
   ]
  },
  {
   "cell_type": "markdown",
   "metadata": {},
   "source": [
    "##   to use an image as the\n",
    "kernel.  \n",
    "     beam           =         ''        \\"
   ]
  },
  {
   "cell_type": "markdown",
   "metadata": {},
   "source": [
    "##  Alternate way of describing\n",
    "a Gaussian.  \n",
    "                                        \\"
   ]
  },
  {
   "cell_type": "markdown",
   "metadata": {},
   "source": [
    "##   If specified, must be a\n",
    "dictionary with  \n",
    "                                        \\"
   ]
  },
  {
   "cell_type": "markdown",
   "metadata": {},
   "source": [
    "##   keys 'major', 'minor', and\n",
    "'pa' (or  \n",
    "                                        \\"
   ]
  },
  {
   "cell_type": "markdown",
   "metadata": {},
   "source": [
    "##   'positionangle'). Do not\n",
    "specify beam  \n",
    "                                        \\"
   ]
  },
  {
   "cell_type": "markdown",
   "metadata": {},
   "source": [
    "##   if specifying major, minor,\n",
    "and pa.  \n",
    "                                        \\"
   ]
  },
  {
   "cell_type": "markdown",
   "metadata": {},
   "source": [
    "##   Example: Example: {'major':\n",
    "'5arcsec',  \n",
    "                                        \\"
   ]
  },
  {
   "cell_type": "markdown",
   "metadata": {},
   "source": [
    "##   'minor': '2arcsec', 'pa':\n",
    "'20deg'}.  \n",
    "     targetres      =      False        \\"
   ]
  },
  {
   "cell_type": "markdown",
   "metadata": {},
   "source": [
    "##  If gaussian kernel,\n",
    "specified parameters  \n",
    "                                        \\"
   ]
  },
  {
   "cell_type": "markdown",
   "metadata": {},
   "source": [
    "##   are to be resolution of\n",
    "output image  \n",
    "                                        \\"
   ]
  },
  {
   "cell_type": "markdown",
   "metadata": {},
   "source": [
    "##   (True) or parameters of\n",
    "gaussian to  \n",
    "                                        \\"
   ]
  },
  {
   "cell_type": "markdown",
   "metadata": {},
   "source": [
    "##   convolve with input image\n",
    "(False).  \n",
    "     major          =         ''        \\"
   ]
  },
  {
   "cell_type": "markdown",
   "metadata": {},
   "source": [
    "##  Major axis for the kernels.\n",
    "Standard  \n",
    "                                        \\"
   ]
  },
  {
   "cell_type": "markdown",
   "metadata": {},
   "source": [
    "##   quantity representation.\n",
    "Must be  \n",
    "                                        \\"
   ]
  },
  {
   "cell_type": "markdown",
   "metadata": {},
   "source": [
    "##   specified for\n",
    "kernel='boxcar'. Example:  \n",
    "                                        \\"
   ]
  },
  {
   "cell_type": "markdown",
   "metadata": {},
   "source": [
    "##   '4arcsec'.  \n",
    "     minor          =         ''        \\"
   ]
  },
  {
   "cell_type": "markdown",
   "metadata": {},
   "source": [
    "##  Minor axis. Standard\n",
    "quantity  \n",
    "                                        \\"
   ]
  },
  {
   "cell_type": "markdown",
   "metadata": {},
   "source": [
    "##   representation. Must be\n",
    "specified for  \n",
    "                                        \\"
   ]
  },
  {
   "cell_type": "markdown",
   "metadata": {},
   "source": [
    "##   kernel='boxcar'. Example:\n",
    "'2arcsec'.  \n",
    "     pa             =         ''        \\"
   ]
  },
  {
   "cell_type": "markdown",
   "metadata": {},
   "source": [
    "##  Position angle used only for\n",
    "gaussian  \n",
    "                                        \\"
   ]
  },
  {
   "cell_type": "markdown",
   "metadata": {},
   "source": [
    "##   kernel. Standard quantity  \n",
    "                                        \\"
   ]
  },
  {
   "cell_type": "markdown",
   "metadata": {},
   "source": [
    "##   representation. Example:\n",
    "'40deg'.  \n",
    "  \n",
    "region              =         ''        \\"
   ]
  },
  {
   "cell_type": "markdown",
   "metadata": {},
   "source": [
    "##  Region selection. See\n",
    "Default is to use the full  \n",
    "                                        \\"
   ]
  },
  {
   "cell_type": "markdown",
   "metadata": {},
   "source": [
    "##   image.  \n",
    "box                 =         ''        \\"
   ]
  },
  {
   "cell_type": "markdown",
   "metadata": {},
   "source": [
    "##  Rectangular region to select\n",
    "in  \n",
    "                                        \\"
   ]
  },
  {
   "cell_type": "markdown",
   "metadata": {},
   "source": [
    "##   direction plane. Default is\n",
    "to use the entire  \n",
    "                                        \\"
   ]
  },
  {
   "cell_type": "markdown",
   "metadata": {},
   "source": [
    "##   direction plane.  \n",
    "chans               =         ''        \\"
   ]
  },
  {
   "cell_type": "markdown",
   "metadata": {},
   "source": [
    "##  Channels to use. Default is\n",
    "to use all  \n",
    "                                        \\"
   ]
  },
  {
   "cell_type": "markdown",
   "metadata": {},
   "source": [
    "##   channels.  \n",
    "stokes              =         ''        \\"
   ]
  },
  {
   "cell_type": "markdown",
   "metadata": {},
   "source": [
    "##  Stokes planes to use.\n",
    " Default is to  \n",
    "                                        \\"
   ]
  },
  {
   "cell_type": "markdown",
   "metadata": {},
   "source": [
    "##   use all Stokes planes.  \n",
    "mask                =         ''        \\"
   ]
  },
  {
   "cell_type": "markdown",
   "metadata": {},
   "source": [
    "##  Mask to use. Default  \n",
    "                                        \\"
   ]
  },
  {
   "cell_type": "markdown",
   "metadata": {},
   "source": [
    "##   is none.  \n",
    "outfile             =         ''        \\"
   ]
  },
  {
   "cell_type": "markdown",
   "metadata": {},
   "source": [
    "##  Output image name. Must be\n",
    "specified.  \n",
    "overwrite           =      False        \\"
   ]
  },
  {
   "cell_type": "markdown",
   "metadata": {},
   "source": [
    "##  Overwrite (unprompted)\n",
    "pre-existing  \n",
    "                                        \\"
   ]
  },
  {
   "cell_type": "markdown",
   "metadata": {},
   "source": [
    "##   output file?\n",
    "\n",
    "where the cube/image imagename will be convolved with a kernel defined\n",
    "in the *kernel* keyword. Kernels '*gauss'* and '*boxcar'* need the major\n",
    "and minor axes sizes as input, the Gaussian kernel smoothing also\n",
    "requires a position angle. By default, the kernel size defines the\n",
    "kernel itself, i.e. the data will be smoothed with this *kernel*. If the\n",
    "*targetres* parameter for Gaussian kernels is set to '*True'*, major and\n",
    "minor axes will be those from the output resolution, and the kernel will\n",
    "be adjusted for each plane to arrive at the final resolution. The\n",
    "’commonbeam’ kernel is to be used when the beam shape is different as a\n",
    "function of frequency. This option will then smooth all planes to a\n",
    "single beam, defined by the largest beam in the cube. With the '*image'*\n",
    "kernel, one can specify an image that will serve as the convolution\n",
    "kernel. A scale factor can be applied, which defaults to flux\n",
    "conservation where units are Jy/beam or Jy/beam.km/s. For all other\n",
    "units, like K, the output will be scaled by the inverse of the\n",
    "convolution kernel. e.g., in the extreme case of a flat distribution the\n",
    "values before and after smoothing will be the same.  \n",
    "  \n",
    "Examples:  \n",
    "1) Smoothing with a Gaussian kernel 20” by 10”\n",
    "\n",
    "imsmooth( imagename='my.image', kernel='gauss', major='20arcsec',\n",
    "minor='10arcsec',targetres=T)\n",
    "\n",
    "2\\) Smoothing using pixel coordinates and a boxcar kernel.\n",
    "\n",
    "imsmooth( imagename='new.image', major='20pix', minor='10pix',\n",
    "kernel='boxcar')\n",
    "\n",
    "#"
   ]
  }
 ],
 "metadata": {},
 "nbformat": 4,
 "nbformat_minor": 5
}
