{
 "cells": [
  {
   "cell_type": "markdown",
   "metadata": {},
   "source": [
    "# Image Plane Analysis \n",
    "\n",
    "\n",
    "\n",
    "\n",
    "\n",
    "Source Fitting and Smoothing\n",
    "\n",
    "\n",
    "\n",
    "\n",
    "\n",
    "\n",
    "\n",
    "\n"
   ]
  },
  {
   "cell_type": "markdown",
   "metadata": {},
   "source": [
    "## Image-plane Component Fitting (**imfit**)\n",
    "\n",
    "The inputs are:\n",
    "\n",
    "```\n"
   ]
  },
  {
   "cell_type": "markdown",
   "metadata": {},
   "source": [
    "##  imfit :: Fit one or more elliptical Gaussian components on an image region(s)\n",
    "imagename           =         ''        #  Name of the input image\n",
    "box                 =         ''        #  Specify one or more box regions for the fit.\n",
    "region              =         ''        #  Region. \n",
    "chans               =         ''        #  Spectral channels on which to perform fit. \n",
    "stokes              =         ''        #  Stokes parameter to fit. If blank, first stokes plane is\n",
    "                                        #   used.\n",
    "mask                =         ''        #  Mask to use. Default is none.\n",
    "includepix          =         []        #  Range of pixel values to include for fitting.\n",
    "excludepix          =         []        #  Range of pixel values to exclude for fitting.\n",
    "residual            =         ''        #  Name of output residual image.\n",
    "model               =         ''        #  Name of output model image.\n",
    "estimates           =         ''        #  Name of file containing initial estimates of component\n",
    "                                        #   parameters.\n",
    "logfile             =         ''        #  Name of file to write fit results.\n",
    "newestimates        =         ''        #  File to write fit results which can be used as initial\n",
    "                                        #   estimates for next run.\n",
    "complist            =         ''        #  Name of output component list table.\n",
    "dooff               =      False        #  Also fit a zero level offset? Default is False\n",
    "rms                 =         -1        #  RMS to use in calculation of uncertainties. Numeric or\n",
    "                                        #   valid quantity (record or string). If numeric, it is\n",
    "                                        #   given units of the input image. If quantity, units must\n",
    "                                        #   conform to image units. If not positive, the rms of the\n",
    "                                        #   residual image, in the region of the fit, is used.\n",
    "noisefwhm           =         ''        #  Noise correlation beam FWHM. If numeric value,\n",
    "                                        #   interpreted as pixel widths. If quantity (dictionary,\n",
    "                                        #   string), it must have angular units.\n",
    "```\n",
    "\n",
    "**imfit** will return (as a Python dictionary) the results of the fit, but the results can also be written into a component list table or a logfile.\n",
    "\n",
    "<div class=\"alert alert-info\">\n",
    "**NOTE**: To fit more than a single component, you must provide starting estimates for each component via the *estimates* file. See ''*help imfit'*' for more details on this. A noise estimate will be calculated automatically or can be provided through the *rms* and *noisefwhm* keywords.\n",
    "</div>\n",
    "\n",
    " \n",
    "\n"
   ]
  },
  {
   "cell_type": "markdown",
   "metadata": {},
   "source": [
    "### Examples for **imfit**\n",
    "\n",
    "```\n"
   ]
  },
  {
   "cell_type": "markdown",
   "metadata": {},
   "source": [
    "## First fit only a single component at a time\n"
   ]
  },
  {
   "cell_type": "markdown",
   "metadata": {},
   "source": [
    "## This is OK since the components are well-separated and not blended\n"
   ]
  },
  {
   "cell_type": "markdown",
   "metadata": {},
   "source": [
    "## Box around component A\n",
    "xfit_A_res = imfit('b1608.demo.clean2.image',box='121,121,136,136',\n",
    "                   newestimates='b1608.demo.clean2.newestimate')\n",
    "\n"
   ]
  },
  {
   "cell_type": "markdown",
   "metadata": {},
   "source": [
    "## Now extract the fit part of the return value\n",
    "xfit_A = xfit_A_res['results']['component0']\n",
    "#xfit_A\n"
   ]
  },
  {
   "cell_type": "markdown",
   "metadata": {},
   "source": [
    "##  Out[7]:\n",
    "#{'flux': {'error': array([  6.73398035e-05,   0.00000000e+00,   0.00000000e+00,\n"
   ]
  },
  {
   "cell_type": "markdown",
   "metadata": {},
   "source": [
    "##         0.00000000e+00]),\n"
   ]
  },
  {
   "cell_type": "markdown",
   "metadata": {},
   "source": [
    "##          'polarisation': 'Stokes',\n"
   ]
  },
  {
   "cell_type": "markdown",
   "metadata": {},
   "source": [
    "##          'unit': 'Jy',\n"
   ]
  },
  {
   "cell_type": "markdown",
   "metadata": {},
   "source": [
    "##          'value': array([ 0.01753742,  0.        ,  0.        ,  0.        ])},\n"
   ]
  },
  {
   "cell_type": "markdown",
   "metadata": {},
   "source": [
    "## 'label': '',\n"
   ]
  },
  {
   "cell_type": "markdown",
   "metadata": {},
   "source": [
    "## 'shape': {'direction': {'error': {'latitude': {'unit': 'arcsec',\n"
   ]
  },
  {
   "cell_type": "markdown",
   "metadata": {},
   "source": [
    "##                                                'value': 0.00041154866279462775},\n"
   ]
  },
  {
   "cell_type": "markdown",
   "metadata": {},
   "source": [
    "##                                   'longitude': {'unit': 'arcsec',\n"
   ]
  },
  {
   "cell_type": "markdown",
   "metadata": {},
   "source": [
    "##                                                 'value': 0.00046695916589535109}},\n"
   ]
  },
  {
   "cell_type": "markdown",
   "metadata": {},
   "source": [
    "##                         'm0': {'unit': 'rad', 'value': -2.0541102061078207},       NOTE: 'm0' and 'm1' are the coordinates of peak/controid\n"
   ]
  },
  {
   "cell_type": "markdown",
   "metadata": {},
   "source": [
    "##                         'm1': {'unit': 'rad', 'value': 1.1439131060384089},        NOTE: 'm0' and 'm1' are the coordinates of peak/controid\n"
   ]
  },
  {
   "cell_type": "markdown",
   "metadata": {},
   "source": [
    "##                         'refer': 'J2000',\n"
   ]
  },
  {
   "cell_type": "markdown",
   "metadata": {},
   "source": [
    "##                         'type': 'direction'},\n"
   ]
  },
  {
   "cell_type": "markdown",
   "metadata": {},
   "source": [
    "##           'majoraxis': {'unit': 'arcsec', 'value': 0.29100166137741568},\n"
   ]
  },
  {
   "cell_type": "markdown",
   "metadata": {},
   "source": [
    "##           'majoraxiserror': {'unit': 'arcsec',\n"
   ]
  },
  {
   "cell_type": "markdown",
   "metadata": {},
   "source": [
    "##                              'value': 0.0011186420613222663},\n"
   ]
  },
  {
   "cell_type": "markdown",
   "metadata": {},
   "source": [
    "##           'minoraxis': {'unit': 'arcsec', 'value': 0.24738110059830495},\n"
   ]
  },
  {
   "cell_type": "markdown",
   "metadata": {},
   "source": [
    "##           'minoraxiserror': {'unit': 'arcsec',\n"
   ]
  },
  {
   "cell_type": "markdown",
   "metadata": {},
   "source": [
    "##                              'value': 0.0013431999725066338},\n"
   ]
  },
  {
   "cell_type": "markdown",
   "metadata": {},
   "source": [
    "##           'positionangle': {'unit': 'deg', 'value': 19.369249322401796},\n"
   ]
  },
  {
   "cell_type": "markdown",
   "metadata": {},
   "source": [
    "##           'positionangleerror': {'unit': 'rad',\n"
   ]
  },
  {
   "cell_type": "markdown",
   "metadata": {},
   "source": [
    "##                                  'value': 0.016663189295782171},\n"
   ]
  },
  {
   "cell_type": "markdown",
   "metadata": {},
   "source": [
    "##           'type': 'Gaussian'},\n"
   ]
  },
  {
   "cell_type": "markdown",
   "metadata": {},
   "source": [
    "## 'spectrum': {'frequency': {'m0': {'unit': 'GHz', 'value': 1.0},\n"
   ]
  },
  {
   "cell_type": "markdown",
   "metadata": {},
   "source": [
    "##                            'refer': 'LSRK',\n"
   ]
  },
  {
   "cell_type": "markdown",
   "metadata": {},
   "source": [
    "##                            'type': 'frequency'},\n"
   ]
  },
  {
   "cell_type": "markdown",
   "metadata": {},
   "source": [
    "##              'type': 'Constant'}}\n",
    "\n"
   ]
  },
  {
   "cell_type": "markdown",
   "metadata": {},
   "source": [
    "## Now the other components\n",
    "xfit_B_res = imfit('b1608.demo.clean2.image',box='108,114,120,126',\n",
    "                   newestimates='b1608.demo.clean2.newestimate',append=True)\n",
    "xfit_B = xfit_B_res['results']['component0']\n",
    "\n",
    "xfit_C_res= imfit('b1608.demo.clean2.image',box='108,84,120,96')\n",
    "xfit_C = xfit_C_res['results']['component0']\n",
    "\n",
    "xfit_D_res = imfit('b1608.demo.clean2.image',box='144,98,157,110')\n",
    "xfit_D = xfit_D_res['results']['component0']\n",
    "\n",
    "print \"\"\n",
    "print \"Imfit Results:\"\n",
    "print \"--------------\"\n",
    "print \"A  Flux = %6.4f Bmaj = %6.4f\" % (xfit_A['flux']['value'][0],xfit_A['shape']['majoraxis']['value'])\n",
    "print \"B  Flux = %6.4f Bmaj = %6.4f\" % (xfit_B['flux']['value'][0],xfit_B['shape']['majoraxis']['value'])\n",
    "print \"C  Flux = %6.4f Bmaj = %6.4f\" % (xfit_C['flux']['value'][0],xfit_C['shape']['majoraxis']['value'])\n",
    "print \"D  Flux = %6.4f Bmaj = %6.4f\" % (xfit_D['flux']['value'][0],xfit_D['shape']['majoraxis']['value'])\n",
    "print \"\"\n",
    "```\n",
    "\n",
    "Now try fitting four components together. For this we will have to provide an estimate file. We will use the clean beam for the estimate of the component sizes:\n",
    "\n",
    "```\n",
    "estfile=open('b1608.demo.clean2.estimate','w')\n",
    "print >>estfile,'# peak, x, y, bmaj, bmin, bpa'\n",
    "print >>estfile,'0.017, 128, 129, 0.293arcsec, 0.238arcsec, 21.7deg'\n",
    "print >>estfile,'0.008, 113, 120, 0.293arcsec, 0.238arcsec, 21.7deg'\n",
    "print >>estfile,'0.008, 113,  90, 0.293arcsec, 0.238arcsec, 21.7deg'\n",
    "print >>estfile,'0.002, 151, 104, 0.293arcsec, 0.238arcsec, 21.7deg'\n",
    "estfile.close()\n",
    "```\n",
    "\n",
    "Then, this can be used in **imfit**:\n",
    "\n",
    "```\n",
    "fit_all_res = imfit('b1608.demo.clean2.image',\n",
    "                     estimates='b1608.demo.clean2.estimate',\n",
    "                     logfile='b1608.demo.clean2.imfitall.log',\n",
    "                     newestimates='b1608.demo.clean2.newestimate',\n",
    "                     box='121,121,136,136,108,114,120,126,108,84,120,96,144,98,157,110')\n"
   ]
  },
  {
   "cell_type": "markdown",
   "metadata": {},
   "source": [
    "## Now extract the fit part of the return values\n",
    "xfit_allA = xfit_all_res['results']['component0']\n",
    "xfit_allB = xfit_all_res['results']['component1']\n",
    "xfit_allC = xfit_all_res['results']['component2']\n",
    "xfit_allD = xfit_all_res['results']['component3']\n",
    "```\n",
    "\n",
    "These results are almost identical to those from the individual fits. You can see a nicer printout of the fit results in the logfile.\n",
    "\n",
    " \n",
    "\n"
   ]
  },
  {
   "cell_type": "markdown",
   "metadata": {},
   "source": [
    "## []{#2-dimensional-smoothing--image-convolution--imsmooth-}2-dimensional Smoothing; Image Convolution (imsmooth)\n",
    "\n",
    "A data cube can be smoothed across spatial dimensions with **imsmooth**. The inputs are:\n",
    "\n",
    "```\n"
   ]
  },
  {
   "cell_type": "markdown",
   "metadata": {},
   "source": [
    "##  imsmooth :: Smooth an image or portion of an image\n",
    "imagename           =         ''        #  Name of the input image. Must be\n",
    "                                        #   specified.\n",
    "kernel              =    'gauss'        #  Type of kernel to use. Acceptable values\n",
    "                                        #   are 'b', 'box', or 'boxcar' for a\n",
    "                                        #   boxcar kernel, 'g', 'gauss', or\n",
    "                                        #   'gaussian' for a gaussian kernel, 'c',\n",
    "                                        #   'common', or 'commonbeam' to use the\n",
    "                                        #   common beam of an image with multiple\n",
    "                                        #   beams as the gaussian to which to\n",
    "                                        #   convolve all the planes, 'i' or 'image'\n",
    "                                        #   to use an image as the kernel.\n",
    "     beam           =         ''        #  Alternate way of describing a Gaussian.\n",
    "                                        #   If specified, must be a dictionary with\n",
    "                                        #   keys 'major', 'minor', and 'pa' (or\n",
    "                                        #   'positionangle'). Do not specify beam\n",
    "                                        #   if specifying major, minor, and pa.\n",
    "                                        #   Example: Example: {'major': '5arcsec',\n",
    "                                        #   'minor': '2arcsec', 'pa': '20deg'}.\n",
    "     targetres      =      False        #  If gaussian kernel, specified parameters\n",
    "                                        #   are to be resolution of output image\n",
    "                                        #   (True) or parameters of gaussian to\n",
    "                                        #   convolve with input image (False).\n",
    "     major          =         ''        #  Major axis for the kernels. Standard\n",
    "                                        #   quantity representation. Must be\n",
    "                                        #   specified for kernel='boxcar'. Example:\n",
    "                                        #   '4arcsec'.\n",
    "     minor          =         ''        #  Minor axis. Standard quantity\n",
    "                                        #   representation. Must be specified for\n",
    "                                        #   kernel='boxcar'. Example: '2arcsec'.\n",
    "     pa             =         ''        #  Position angle used only for gaussian\n",
    "                                        #   kernel. Standard quantity\n",
    "                                        #   representation. Example: '40deg'.\n",
    "\n",
    "region              =         ''        #  Region selection. See Default is to use the full\n",
    "                                        #   image.\n",
    "box                 =         ''        #  Rectangular region to select in\n",
    "                                        #   direction plane. Default is to use the entire\n",
    "                                        #   direction plane.\n",
    "chans               =         ''        #  Channels to use. Default is to use all\n",
    "                                        #   channels.\n",
    "stokes              =         ''        #  Stokes planes to use.  Default is to\n",
    "                                        #   use all Stokes planes.\n",
    "mask                =         ''        #  Mask to use. Default\n",
    "                                        #   is none.\n",
    "outfile             =         ''        #  Output image name. Must be specified.\n",
    "overwrite           =      False        #  Overwrite (unprompted) pre-existing\n",
    "                                        #   output file?\n",
    "```\n",
    "\n",
    "where the cube/image imagename will be convolved with a kernel defined in the *kernel* keyword. Kernels \\'*gauss\\'* and \\'*boxcar\\'* need the major and minor axes sizes as input, the Gaussian kernel smoothing also requires a position angle. By default, the kernel size defines the kernel itself, i.e. the data will be smoothed with this *kernel*. If the *targetres* parameter for Gaussian kernels is set to \\'*True\\'*, major and minor axes will be those from the output resolution, and the kernel will be adjusted for each plane to arrive at the final resolution. The 'commonbeam' kernel is to be used when the beam shape is different as a function of frequency. This option will then smooth all planes to a single beam, defined by the largest beam in the cube. With the \\'*image\\'* kernel, one can specify an image that will serve as the convolution kernel. A scale factor can be applied, which defaults to flux conservation where units are Jy/beam or Jy/beam.km/s. For all other units, like K, the output will be scaled by the inverse of the convolution kernel. e.g., in the extreme case of a flat distribution the values before and after smoothing will be the same.\\\n",
    "\\\n",
    "Examples:\\\n",
    "1) Smoothing with a Gaussian kernel 20\" by 10\"\n",
    "\n",
    "```\n",
    "imsmooth( imagename='my.image', kernel='gauss', major='20arcsec', minor='10arcsec',targetres=T)\n",
    "```\n",
    "\n",
    "2\\) Smoothing using pixel coordinates and a boxcar kernel.\n",
    "\n",
    "```\n",
    "imsmooth( imagename='new.image', major='20pix', minor='10pix', kernel='boxcar')\n",
    "```\n",
    "\n",
    "#"
   ]
  }
 ],
 "metadata": {},
 "nbformat": 4,
 "nbformat_minor": 4
}
