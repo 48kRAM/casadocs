{
 "cells": [
  {
   "cell_type": "markdown",
   "metadata": {},
   "source": [
    "# Lattice Expression Language"
   ]
  },
  {
   "cell_type": "markdown",
   "metadata": {
    "nbsphinx-toctree": {
     "hidden": true
    }
   },
   "source": [
    "[Lattice Expression Language](lattice-expression-language-lel/lattice-expression-language)\n",
    "[LEL Expressions](lattice-expression-language-lel/lel-expressions)\n",
    "[LEL Masks](lattice-expression-language-lel/lel-masks)\n",
    "[LEL Regions](lattice-expression-language-lel/lel-regions)\n",
    "[LEL Optimization](lattice-expression-language-lel/lel-optimization)\n",
    "[LEL Interface](lattice-expression-language-lel/lel-interface)\n",
    "[LEL Examples](lattice-expression-language-lel/lel-examples)\n"
   ]
  }
 ],
 "metadata": {},
 "nbformat": 4,
 "nbformat_minor": 5
}
