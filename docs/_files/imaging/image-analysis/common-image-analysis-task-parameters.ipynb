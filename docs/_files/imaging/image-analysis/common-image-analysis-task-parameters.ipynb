{
 "cells": [
  {
   "cell_type": "markdown",
   "metadata": {},
   "source": [
    "# Common Task Parameters {#common-task-parameters .documentFirstHeading}\n",
    "\n",
    "\n",
    "\n",
    "\n",
    "\n",
    "Description of parameters commonly used in Image Analysis tasks\n",
    "\n",
    "\n",
    "\n",
    "\n",
    "\n",
    "\n",
    "\n",
    "\n"
   ]
  },
  {
   "cell_type": "markdown",
   "metadata": {},
   "source": [
    "### Common Image Analysis Task Parameters\n",
    "\n",
    "Certain parameters are present in many image analysis tasks. These\n",
    "include: \n",
    "\n",
    " \n",
    "\n"
   ]
  },
  {
   "cell_type": "markdown",
   "metadata": {},
   "source": [
    "#### *imagename*\n",
    "\n",
    "The *imagename* parameter is used to specify the image(s) on which a\n",
    "task should operate.  In most tasks, this will be a string containing\n",
    "the image name, but in some tasks, this can be a list of strings, as for\n",
    "example, in **immath**. Most image analysis tasks accept both CASA\n",
    "images and FITS images, although we recommend working with CASA images. \n",
    "\n",
    " \n",
    "\n"
   ]
  },
  {
   "cell_type": "markdown",
   "metadata": {},
   "source": [
    "#### *outfile* \n",
    "\n",
    "The *outfile* parameter specifies the name (in string format) of the\n",
    "file that the task should output.  This parameter is only present in\n",
    "tasks that produce processed files (typically images) as output.  It\n",
    "will therefore not be present for tasks that return python dictionaries,\n",
    "arrays, or other data types.  \n",
    "\n",
    " \n",
    "\n"
   ]
  },
  {
   "cell_type": "markdown",
   "metadata": {},
   "source": [
    "#### *axes*\n",
    "\n",
    "The *axes* parameter is used to specify the image axes that the task\n",
    "should operate on, and the user should input a list of integers for this\n",
    "(e.g. \\\"axes = \\[0,1\\]\\\").  CASA images typically have the following\n",
    "axis order (python indices are zero-based): Axis 0 = RA, 1 = DEC, 2 =\n",
    "Stokes parameter, and 3 = Frequency. The **imhead **task can be used to\n",
    "confirm the axis specifications in the data cube of interest, and the\n",
    "axes may differ from the above sequence, particularly when using FITS\n",
    "data cubes or CASA images that were converted from FITS files.  In the\n",
    "examples, we assume the above axis order. \n",
    "\n",
    "To obtain statistics across RA and DEC for each velocity channel, the\n",
    "user would run the **imstat** task (**imstat** stands for \\\"image\n",
    "statistics\\\") with \\\"axes = \\[0,1\\]\\\".  To obtain statistics over the\n",
    "spectral axis, one would run imstat with *axes = \\[3\\]*.  \n",
    "\n",
    "  \n",
    "\n"
   ]
  },
  {
   "cell_type": "markdown",
   "metadata": {},
   "source": [
    "#### *box, chans, stokes*\n",
    "\n",
    "The box, chans, and stokes parameters are used to select parts of an\n",
    "image cube for the task to operate on.  If a box is applied, the task\n",
    "will operate only on a specific spatial region (e.g. *box =\n",
    "\\'100,100,200,200\\'* will only operate on pixels in the range (100,100)\n",
    "\\<= (x,y) \\<= (200,200) ). If specific channels are specified through\n",
    "chans, the task will select that segment of the spectral axis (e.g.\n",
    "*chans = \\'30\\~45\\'* will operate on channels 30 through 45).  In the\n",
    "same way, stokes selects specific Stokes parameter axes, as e.g. s*tokes\n",
    "= \\'I\\'*.  Further detail is provided in the \\'[Image Selection\n",
    "Parameters](https://casa.nrao.edu/casadocs-devel/stable/imaging/image-analysis/image-selection-parameters)\\'\n",
    "page.  \n",
    "\n",
    " \n",
    "\n"
   ]
  },
  {
   "cell_type": "markdown",
   "metadata": {},
   "source": [
    "#### *mask* \n",
    "\n",
    "The mask parameter tells the task to operate on specific segments of the\n",
    "image cube, as set by a mask.  The input for the mask parameter may be a\n",
    "conditional statement in LEL string format (e.g. *mask = \\' \\\"ngc5921.im\n",
    "\\> 0.5\\'*, which selects all pixels in that image that have values\n",
    "larger than 0.5 and zeros out all other pixels), or may be a Boolean\n",
    "True/False cube or an Integer zero/non-zero cube. The task will not\n",
    "operate on pixels that are \\\"masked\\\", or zeroed out.  See the \\'[Image\n",
    "Masks](https://casa.nrao.edu/casadocs-devel/stable/imaging/image-analysis/image-masks)\\'\n",
    "page for more detail and examples of usage.  \n",
    "\n"
   ]
  },
  {
   "cell_type": "markdown",
   "metadata": {},
   "source": [
    "#####   {#section .western}\n",
    "\n"
   ]
  },
  {
   "cell_type": "markdown",
   "metadata": {},
   "source": [
    "#### *stretch* \n",
    "\n",
    "This parameter can be True or False, with a default value of False.  Set\n",
    "*stretch = True* when applying a single-plane mask to a full image\n",
    "cube.  As an example, if you have a mask in a single spectral channel\n",
    "image that you wish to apply to all spectral channels in a cube, you\n",
    "would \\\"stretch\\\" the mask over all of the channels. The mask can also\n",
    "be stretched over all Stokes parameter planes for polarization images.\n",
    "\n",
    " \n",
    "\n"
   ]
  },
  {
   "cell_type": "markdown",
   "metadata": {},
   "source": [
    "### Returned Python Dictionaries \n",
    "\n",
    "Many image analysis tasks return python dictionaries with information\n",
    "that is also printed to the logger. The dictionaries can be assigned to\n",
    "a variable and then used later for other scripting purposes. In the\n",
    "following the output of imstat is assigned to the python dictionary\n",
    "\\'test_stats\\':\n",
    "\n",
    "```\n",
    "CASA \\<20\\>: test_stats=imstat(imagename=\\'test.image\\')\n",
    "\n",
    "CASA \\<21\\>: test\\\n",
    "Out\\[21\\]:\\\n",
    "{\\'blc\\': array(\\[0, 0, 0, 0\\], dtype=int32),\\\n",
    "\\'blcf\\': \\'17:45:40.899, -29.00.18.780, I, 1.62457e+10Hz\\',\\\n",
    "\\'max\\': array(\\[ 0.49454519\\]),\\\n",
    "\\'maxpos\\': array(\\[32, 32, 0, 0\\], dtype=int32),\\\n",
    "\\'maxposf\\': \\'17:45:40.655, -29.00.15.580, I, 1.62457e+10Hz\\',\\\n",
    "\\'mean\\': array(\\[ 0.00033688\\]),\\\n",
    "\\'medabsdevmed\\': array(\\[ 0.\\]),\\\n",
    "\\'median\\': array(\\[ 0.\\]),\\\n",
    "\\'min\\': array(\\[-0.0174111\\]),\\\n",
    "\\'minpos\\': array(\\[15, 42, 0, 0\\], dtype=int32),\\\n",
    "\\'minposf\\': \\'17:45:40.785, -29.00.14.580, I, 1.62457e+10Hz\\',\\\n",
    "\\'npts\\': array(\\[ 4096.\\]),\\\n",
    "\\'q1\\': array(\\[ 0.\\]),\\\n",
    "\\'q3\\': array(\\[ 0.\\]),\\\n",
    "\\'quartile\\': array(\\[ 0.\\]),\\\n",
    "\\'rms\\': array(\\[ 0.00906393\\]),\\\n",
    "\\'sigma\\': array(\\[ 0.00905878\\]),\\\n",
    "\\'sum\\': array(\\[ 1.37985568\\]),\\\n",
    "\\'sumsq\\': array(\\[ 0.3365063\\]),\\\n",
    "\\'trc\\': array(\\[63, 63, 0, 0\\], dtype=int32),\\\n",
    "\\'trcf\\': \\'17:45:40.419, -29.00.12.480, I, 1.62457e+10Hz\\'}\n",
    "```\n",
    "\n",
    "A description of how to deal with Python dictionaries is given in\n",
    "\\'[Python and\n",
    "CASA](http://casa.nrao.edu/casadocs/stable/usingcasa/python-and-casa#figid-casapythondictionaries)\\'."
   ]
  }
 ],
 "metadata": {},
 "nbformat": 4,
 "nbformat_minor": 4
}
