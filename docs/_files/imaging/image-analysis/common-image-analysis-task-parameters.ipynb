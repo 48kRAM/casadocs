{
 "cells": [
  {
   "cell_type": "markdown",
   "metadata": {},
   "source": [
    "# Common Task Parameters\n",
    "\n",
    "Description of parameters commonly used in Image Analysis tasks\n",
    "\n"
   ]
  },
  {
   "cell_type": "markdown",
   "metadata": {},
   "source": [
    "### Common Image Analysis Task Parameters\n",
    "\n",
    "Certain&nbsp;parameters are&nbsp;present in&nbsp;many image analysis\n",
    "tasks. These include:&nbsp;\n",
    "\n",
    "&nbsp;\n",
    "\n"
   ]
  },
  {
   "cell_type": "markdown",
   "metadata": {},
   "source": [
    "#### *imagename*\n",
    "\n",
    "The *imagename* parameter is used to specify the image(s)&nbsp;on\n",
    "which&nbsp;a task should operate.&nbsp; In most tasks, this will be a\n",
    "string containing the image name, but in some tasks, this can be a list\n",
    "of strings, as for example, in&nbsp;**immath**. Most image analysis\n",
    "tasks accept both CASA images and&nbsp;FITS&nbsp;images,\n",
    "although&nbsp;we recommend working with CASA images.&nbsp;\n",
    "\n",
    "&nbsp;\n",
    "\n"
   ]
  },
  {
   "cell_type": "markdown",
   "metadata": {},
   "source": [
    "#### *outfile*&nbsp;\n",
    "\n",
    "The *outfile* parameter specifies the name (in string format) of the\n",
    "file that the task should output.&nbsp; This parameter is only present\n",
    "in tasks that produce processed files (typically images) as\n",
    "output.&nbsp; It will therefore not be present for tasks that return\n",
    "python dictionaries, arrays, or other data types.&nbsp;&nbsp;\n",
    "\n",
    "&nbsp;\n",
    "\n"
   ]
  },
  {
   "cell_type": "markdown",
   "metadata": {},
   "source": [
    "#### *axes*\n",
    "\n",
    "The *axes* parameter is used to specify the image axes that the task\n",
    "should operate on, and the user should input a list of integers for this\n",
    "(e.g. \"axes = \\[0,1\\]\").&nbsp; CASA images typically have the following\n",
    "axis order (python indices are zero-based): Axis 0 = RA, 1 = DEC, 2 =\n",
    "Stokes parameter, and 3 = Frequency. The&nbsp;**imhead&nbsp;**task can\n",
    "be used to confirm the axis specifications in the data cube of interest,\n",
    "and the axes may differ from the above sequence, particularly when using\n",
    "FITS data cubes or CASA images that were converted from FITS\n",
    "files.&nbsp; In the examples, we assume the above axis order.&nbsp;\n",
    "\n",
    "To obtain statistics across RA and DEC for each velocity channel, the\n",
    "user would run the **imstat** task (**imstat** stands for \"image\n",
    "statistics\") with \"axes = \\[0,1\\]\".&nbsp; To obtain statistics over the\n",
    "spectral axis, one would run imstat with *axes = \\[3\\]*.&nbsp;&nbsp;\n",
    "\n",
    "&nbsp;&nbsp;\n",
    "\n"
   ]
  },
  {
   "cell_type": "markdown",
   "metadata": {},
   "source": [
    "#### *box, chans, stokes*\n",
    "\n",
    "The box, chans, and stokes parameters are used to select parts of an\n",
    "image cube for the task to operate on.&nbsp; If a box is applied, the\n",
    "task will operate only on a specific spatial region (e.g. *box =\n",
    "'100,100,200,200'* will only operate on pixels in the range (100,100)\n",
    "\\<= (x,y) \\<= (200,200) ). If specific channels are specified through\n",
    "chans, the task will select that segment of the spectral axis (e.g.\n",
    "*chans = '30\\~45'* will operate on channels 30 through 45).&nbsp; In the\n",
    "same way, stokes selects specific Stokes parameter axes, as e.g. s*tokes\n",
    "= 'I'*.&nbsp; Further detail is provided in the '[Image Selection\n",
    "Parameters](https://casa.nrao.edu/casadocs-devel/stable/imaging/image-analysis/image-selection-parameters)'\n",
    "page. &nbsp;\n",
    "\n",
    "&nbsp;\n",
    "\n"
   ]
  },
  {
   "cell_type": "markdown",
   "metadata": {},
   "source": [
    "#### *mask*&nbsp;\n",
    "\n",
    "The mask parameter tells the task to operate on specific segments of the\n",
    "image cube, as set by a mask.&nbsp; The input for the mask parameter may\n",
    "be a conditional statement in LEL string format (e.g. *mask = '\n",
    "\"ngc5921.im \\> 0.5'*, which selects all pixels in that image that have\n",
    "values larger than 0.5 and zeros out all other pixels), or may be a\n",
    "Boolean True/False cube or an Integer zero/non-zero cube. The task will\n",
    "not operate on pixels that are \"masked\", or zeroed out.&nbsp; See the\n",
    "'[Image\n",
    "Masks](https://casa.nrao.edu/casadocs-devel/stable/imaging/image-analysis/image-masks)'\n",
    "page for more detail and examples of usage.&nbsp;&nbsp;\n",
    "\n"
   ]
  },
  {
   "cell_type": "markdown",
   "metadata": {},
   "source": [
    "##### &nbsp;\n",
    "\n"
   ]
  },
  {
   "cell_type": "markdown",
   "metadata": {},
   "source": [
    "#### *stretch*&nbsp;\n",
    "\n",
    "This parameter can be True or False, with a default value of\n",
    "False.&nbsp; Set *stretch = True* when applying a single-plane mask to a\n",
    "full image cube.&nbsp; As an example, if you have a mask in a single\n",
    "spectral channel image that you wish to apply to all spectral channels\n",
    "in a cube, you would \"stretch\" the mask over all of the channels. The\n",
    "mask can also be stretched over all Stokes parameter planes for\n",
    "polarization images.\n",
    "\n",
    "&nbsp;\n",
    "\n"
   ]
  },
  {
   "cell_type": "markdown",
   "metadata": {},
   "source": [
    "### Returned Python Dictionaries&nbsp;\n",
    "\n",
    "Many image analysis tasks return python dictionaries with information\n",
    "that is also printed to the logger. The dictionaries can be assigned to\n",
    "a variable and then used later for other scripting purposes. In the\n",
    "following the output of imstat is assigned to the python dictionary\n",
    "'test_stats':\n",
    "\n",
    "CASA \\<20\\>: test_stats=imstat(imagename='test.image')\n",
    "\n",
    "CASA \\<21\\>: test  \n",
    "Out\\[21\\]:  \n",
    "{'blc': array(\\[0, 0, 0, 0\\], dtype=int32),  \n",
    "'blcf': '17:45:40.899, -29.00.18.780, I, 1.62457e+10Hz',  \n",
    "'max': array(\\[ 0.49454519\\]),  \n",
    "'maxpos': array(\\[32, 32, 0, 0\\], dtype=int32),  \n",
    "'maxposf': '17:45:40.655, -29.00.15.580, I, 1.62457e+10Hz',  \n",
    "'mean': array(\\[ 0.00033688\\]),  \n",
    "'medabsdevmed': array(\\[ 0.\\]),  \n",
    "'median': array(\\[ 0.\\]),  \n",
    "'min': array(\\[-0.0174111\\]),  \n",
    "'minpos': array(\\[15, 42, 0, 0\\], dtype=int32),  \n",
    "'minposf': '17:45:40.785, -29.00.14.580, I, 1.62457e+10Hz',  \n",
    "'npts': array(\\[ 4096.\\]),  \n",
    "'q1': array(\\[ 0.\\]),  \n",
    "'q3': array(\\[ 0.\\]),  \n",
    "'quartile': array(\\[ 0.\\]),  \n",
    "'rms': array(\\[ 0.00906393\\]),  \n",
    "'sigma': array(\\[ 0.00905878\\]),  \n",
    "'sum': array(\\[ 1.37985568\\]),  \n",
    "'sumsq': array(\\[ 0.3365063\\]),  \n",
    "'trc': array(\\[63, 63, 0, 0\\], dtype=int32),  \n",
    "'trcf': '17:45:40.419, -29.00.12.480, I, 1.62457e+10Hz'}\n",
    "\n",
    "A description of how to deal with Python dictionaries is given in\n",
    "'[Python and\n",
    "CASA](http://casa.nrao.edu/casadocs/stable/usingcasa/python-and-casa#figid-casapythondictionaries)'.\n",
    "\n",
    "&nbsp;"
   ]
  }
 ],
 "metadata": {},
 "nbformat": 4,
 "nbformat_minor": 5
}
