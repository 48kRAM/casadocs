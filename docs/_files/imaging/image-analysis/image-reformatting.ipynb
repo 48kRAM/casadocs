{
 "cells": [
  {
   "cell_type": "markdown",
   "metadata": {},
   "source": [
    "# Reformat Images\n",
    "\n",
    "Resizing, binning, regridding, and collapsing images\n",
    "\n",
    "This page contains a description of various tasks that reformat images. \n",
    "These include:\n",
    "\n",
    "-   **imsubimage:** enables the user to extract a sub-image from a\n",
    "    larger cube,\n",
    "-   **imtrans:** changes the axis order in an image,\n",
    "-   **imregrid:** sets the image onto a different spatial coordinate\n",
    "    system or spectral grid,\n",
    "-   **imreframe:** changes the velocity system of an image\n",
    "-   **imrebin:** rebins an image in a spatial or spectral dimension \n",
    "-   **imcollapse:** collapses an image along an axis. \n",
    "\n",
    " \n",
    "\n"
   ]
  },
  {
   "cell_type": "markdown",
   "metadata": {},
   "source": [
    "## Extracting sub-images (**imsubimage**)\n",
    "\n",
    "The task **imsubimage** provides a way to extract a smaller data cube\n",
    "from a bigger one. The inputs are:\n",
    "\n",
    "  \n",
    "\\"
   ]
  },
  {
   "cell_type": "markdown",
   "metadata": {},
   "source": [
    "##\n",
    "imsubimage :: Create a (sub)image from a region of the image  \n",
    "imagename\n",
    "     =    ''    \\"
   ]
  },
  {
   "cell_type": "markdown",
   "metadata": {},
   "source": [
    "## Input image name. Default is unset.  \n",
    "outfile  \n",
    "     =    ''    \\"
   ]
  },
  {
   "cell_type": "markdown",
   "metadata": {},
   "source": [
    "## Output image name. Default is unset.  \n",
    "box      \n",
    "     =    ''    \\"
   ]
  },
  {
   "cell_type": "markdown",
   "metadata": {},
   "source": [
    "## Rectangular region to select in  \n",
    "         \n",
    "                \\"
   ]
  },
  {
   "cell_type": "markdown",
   "metadata": {},
   "source": [
    "## direction plane. Default is to use the  \n",
    "         \n",
    "                \\"
   ]
  },
  {
   "cell_type": "markdown",
   "metadata": {},
   "source": [
    "## entire direction plane.  \n",
    "region    \n",
    "    =    ''    \\"
   ]
  },
  {
   "cell_type": "markdown",
   "metadata": {},
   "source": [
    "## Region selection. Default is to use the  \n",
    "         \n",
    "                \\"
   ]
  },
  {
   "cell_type": "markdown",
   "metadata": {},
   "source": [
    "## full image.  \n",
    "chans    \n",
    "     =    ''    \\"
   ]
  },
  {
   "cell_type": "markdown",
   "metadata": {},
   "source": [
    "## Channels to use. Default is to use all  \n",
    "         \n",
    "                \\"
   ]
  },
  {
   "cell_type": "markdown",
   "metadata": {},
   "source": [
    "## channels.  \n",
    "stokes    \n",
    "    =    ''    \\"
   ]
  },
  {
   "cell_type": "markdown",
   "metadata": {},
   "source": [
    "## Stokes planes to use. Default is to use  \n",
    "         \n",
    "                \\"
   ]
  },
  {
   "cell_type": "markdown",
   "metadata": {},
   "source": [
    "## all Stokes planes.  \n",
    "mask      \n",
    "    =    ''    \\"
   ]
  },
  {
   "cell_type": "markdown",
   "metadata": {},
   "source": [
    "## Mask to use. Default is none.  \n",
    "dropdeg  \n",
    "     =  True    \\"
   ]
  },
  {
   "cell_type": "markdown",
   "metadata": {},
   "source": [
    "## Drop degenerate axes  \n",
    "   \n",
    " keepaxes  =    \\[\\]    \\"
   ]
  },
  {
   "cell_type": "markdown",
   "metadata": {},
   "source": [
    "## If dropdeg=True, these are the  \n",
    "         \n",
    "                \\"
   ]
  },
  {
   "cell_type": "markdown",
   "metadata": {},
   "source": [
    "## degenerate axes to keep. Nondegenerate  \n",
    "         \n",
    "                \\"
   ]
  },
  {
   "cell_type": "markdown",
   "metadata": {},
   "source": [
    "## axes are implicitly always kept.\n",
    "\n",
    "verbose  \n",
    "     =   True   \\"
   ]
  },
  {
   "cell_type": "markdown",
   "metadata": {},
   "source": [
    "## Post additional informative messages to  \n",
    "         \n",
    "                \\"
   ]
  },
  {
   "cell_type": "markdown",
   "metadata": {},
   "source": [
    "## the logger\n",
    "\n",
    "The *region* keyword defines the size of the smaller cube and is\n",
    "specified via the CASA region CRTF syntax. E.g.\n",
    "\n",
    "region='box \\[ \\[ 100pix , 130pix\\] , \\[120pix, 150pix \\] \\]'\n",
    "\n",
    "will extract the portion of the image that is between pixel coordinates\n",
    "(100,130) and (12,150). *dropdeg=T* with selection via *keepaxes* is\n",
    "useful to remove axes in the data cube that are degenerate, i.e. axes\n",
    "with a single plane only. A single Stokes I axis is a common example.\n",
    "\n",
    " \n",
    "\n",
    " \n",
    "\n"
   ]
  },
  {
   "cell_type": "markdown",
   "metadata": {},
   "source": [
    "## Reordering the Axes of an Image Cube (**imtrans**)\n",
    "\n",
    "Sometimes data cubes can be in axis orders that are not adequate for\n",
    "processing. The CASA task **imtrans** can change the ordering of the\n",
    "axis:\n",
    "\n",
    "\\"
   ]
  },
  {
   "cell_type": "markdown",
   "metadata": {},
   "source": [
    "##  imtrans :: Reorder image axes  \n",
    "imagename           =         ''        \\"
   ]
  },
  {
   "cell_type": "markdown",
   "metadata": {},
   "source": [
    "##  Name of the input image  \n",
    "outfile             =         ''        \\"
   ]
  },
  {
   "cell_type": "markdown",
   "metadata": {},
   "source": [
    "##  Name of output CASA image.  \n",
    "order               =         ''        \\"
   ]
  },
  {
   "cell_type": "markdown",
   "metadata": {},
   "source": [
    "##  New zero-based axes order.  \n",
    "wantreturn          =       True        \\"
   ]
  },
  {
   "cell_type": "markdown",
   "metadata": {},
   "source": [
    "##  Return an image tool\n",
    "referencing the  \n",
    "                                        \\"
   ]
  },
  {
   "cell_type": "markdown",
   "metadata": {},
   "source": [
    "##   transposed image\n",
    "\n",
    "The *order* parameter is the most important input here. It is a string\n",
    "of numbers that shows how axes 0, 1, 2, 3, ... are mapped onto the new\n",
    "cube (note that the first axis has the label 0, as typical in python).\n",
    "E.g. *order='1032'* will reorder the input axis 0 to be axis 1 in the\n",
    "output, input axis 1 to be output axis 0, input axis 2 to output axis 3\n",
    "(the last axis) and input axis 3 to output axis 2. Alternatively, axes\n",
    "can be specified by their names. E.g., to reorder an image with right\n",
    "ascension, declination, and frequency and reverse the first two,\n",
    "*order=\\[‘‘declination’’, ‘‘right ascension’’, ‘‘frequency’’\\]* will\n",
    "work. The axes names can be found typing **ia.coordsys**.**names**.\n",
    "Minimum match is supported, so that *order=\\['d', 'f', 'r'\\]* will\n",
    "produce the same results.  \n",
    "  \n",
    "Axes can simultaneously be transposed and reversed. To reverse an axis,\n",
    "precede it by a '-'. For example, *order='-10-32'* will reverse the\n",
    "direction of the first and third axis of the input image (the zeroth and\n",
    "second axes in the output image).  \n",
    "  \n",
    "Example (swap the stokes and spectral axes in an RA-Dec-Stokes-Frequency\n",
    "image):\n",
    "\n",
    "imagename = 'myim.im'  \n",
    "outfile = 'outim.im'  \n",
    "order = '0132'  \n",
    "imtrans()\n",
    "\n",
    "or\n",
    "\n",
    "outfile = 'myim_2.im'  \n",
    "order = 132  \n",
    "imtrans()\n",
    "\n",
    "or\n",
    "\n",
    "outfile = 'myim_3.im'  \n",
    "order = \\['r', 'd', 'f', 's'\\]  \n",
    "imtrans()\n",
    "\n",
    "or\n",
    "\n",
    "outfile = 'myim_4.im'  \n",
    "order = \\['rig', 'declin', 'frequ', 'stok'\\]  \n",
    "imtrans()\n",
    "\n",
    "If the *outfile* parameter is empty, only a temporary image is created;\n",
    "no output image is written to disk. The temporary image can be captured\n",
    "in the returned value (assuming *wantreturn*=T*rue*).\n",
    "\n",
    "  \n",
    "\n"
   ]
  },
  {
   "cell_type": "markdown",
   "metadata": {},
   "source": [
    "## Regridding an Image (imregrid)\n",
    "\n",
    "**Inside the Toolkit:** More complex coordinate system and image\n",
    "regridding operation can be carried out in the toolkit. The **coordsys**\n",
    "(**cs**) tool and the **ia.regrid** method are the relevant components.\n",
    "\n",
    "It is occasionally necessary to regrid an image onto a new coordinate\n",
    "system. The **imregrid** task will regrid one image onto the coordinate\n",
    "system of another, creating an output image. In this task, the user need\n",
    "only specify the names of the input, template, and output images. The\n",
    "default inputs are:\n",
    "\n",
    "  \n",
    "\\"
   ]
  },
  {
   "cell_type": "markdown",
   "metadata": {},
   "source": [
    "##  imregrid :: regrid an image onto a template image  \n",
    "imagename           =         ''        \\"
   ]
  },
  {
   "cell_type": "markdown",
   "metadata": {},
   "source": [
    "##  Name of the source image  \n",
    "template            =      'get'        \\"
   ]
  },
  {
   "cell_type": "markdown",
   "metadata": {},
   "source": [
    "##  A dictionary, refcode, or\n",
    "name of an  \n",
    "                                        \\"
   ]
  },
  {
   "cell_type": "markdown",
   "metadata": {},
   "source": [
    "##   image that provides the\n",
    "output shape  \n",
    "                                        \\"
   ]
  },
  {
   "cell_type": "markdown",
   "metadata": {},
   "source": [
    "##   and coordinate system  \n",
    "output              =         ''        \\"
   ]
  },
  {
   "cell_type": "markdown",
   "metadata": {},
   "source": [
    "##  Name for the regridded\n",
    "image  \n",
    "asvelocity          =       True        \\"
   ]
  },
  {
   "cell_type": "markdown",
   "metadata": {},
   "source": [
    "##  Regrid spectral axis in\n",
    "velocity space  \n",
    "                                        \\"
   ]
  },
  {
   "cell_type": "markdown",
   "metadata": {},
   "source": [
    "##   rather than frequency\n",
    "space?  \n",
    "axes                =       \\[-1\\]        \\"
   ]
  },
  {
   "cell_type": "markdown",
   "metadata": {},
   "source": [
    "##  The pixel axes to regrid.\n",
    "-1 =\\> all.  \n",
    "interpolation       =   'linear'        \\"
   ]
  },
  {
   "cell_type": "markdown",
   "metadata": {},
   "source": [
    "##  The interpolation method. \n",
    "One of  \n",
    "                                        \\"
   ]
  },
  {
   "cell_type": "markdown",
   "metadata": {},
   "source": [
    "##   'nearest', 'linear',\n",
    "'cubic'.  \n",
    "decimate            =         10        \\"
   ]
  },
  {
   "cell_type": "markdown",
   "metadata": {},
   "source": [
    "##  Decimation factor for\n",
    "coordinate grid  \n",
    "                                        \\"
   ]
  },
  {
   "cell_type": "markdown",
   "metadata": {},
   "source": [
    "##   computation  \n",
    "replicate           =      False        \\"
   ]
  },
  {
   "cell_type": "markdown",
   "metadata": {},
   "source": [
    "##  Replicate image rather than\n",
    "regrid?  \n",
    "overwrite           =      False        \\"
   ]
  },
  {
   "cell_type": "markdown",
   "metadata": {},
   "source": [
    "##  Overwrite (unprompted)\n",
    "pre-existing  \n",
    "                                        \\"
   ]
  },
  {
   "cell_type": "markdown",
   "metadata": {},
   "source": [
    "##   output file?\n",
    "\n",
    "The output image will have the data in *imagename* regridded onto the\n",
    "coordinate system provided by the *template* parameter. *template* is\n",
    "used universally for a range of ways to define the grid of the output\n",
    "image: \n",
    "\n",
    "-   a template image: specify an image name here and the input will be\n",
    "    regridded to the same 3-dimensional coordinate system as the one in\n",
    "    template. Values are filled in as blanks if they do not exist in the\n",
    "    input. Note that the input and template images must have the same\n",
    "    coordinate structure to begin with (like 3 or 4 axes, with the same\n",
    "    ordering)\n",
    "-   a coordinate system (reference code): to convert from one coordinate\n",
    "    frame to another one, e.g. from B1950 to J2000, the template\n",
    "    parameter can be used to specify the output coordinate system. These\n",
    "    following recognized keywords are supported: 'J2000', 'B1950',\n",
    "    'B1950_VLA', 'GALACTIC', 'HADEC', 'AZEL', 'AZELSW', 'AZELNE',\n",
    "    'ECLIPTIC', 'MECLIPTIC', 'TECLIPTIC', 'SUPERGAL'\n",
    "-   '*get'*: This option returns a python dictionary in the {’csys’:\n",
    "    csys_record, ’shap’: shape} format\n",
    "-   a python dictionary: In turn, such a dictionary can be used as a\n",
    "    template to define the final grid\n",
    "\n"
   ]
  },
  {
   "cell_type": "markdown",
   "metadata": {},
   "source": [
    "##  Redefining the Velocity System of an Image (**imreframe**)\n",
    "\n",
    "**imreframe** can be used to change the velocity system of an image. It\n",
    "is not applying a regridding as a change from radio to optical\n",
    "conventions would require, but it will change the labels of the velocity\n",
    "axes.\n",
    "\n",
    "\\"
   ]
  },
  {
   "cell_type": "markdown",
   "metadata": {},
   "source": [
    "##  imreframe :: Change the frame in which the image reports its\n",
    "spectral values  \n",
    "imagename           =         ''        \\"
   ]
  },
  {
   "cell_type": "markdown",
   "metadata": {},
   "source": [
    "##  Name of the input image  \n",
    "output              =         ''        \\"
   ]
  },
  {
   "cell_type": "markdown",
   "metadata": {},
   "source": [
    "##  Name of the output image; ''\n",
    "=\\> modify input image  \n",
    "outframe            =     'lsrk'        \\"
   ]
  },
  {
   "cell_type": "markdown",
   "metadata": {},
   "source": [
    "##  Spectral frame in which the\n",
    "frequency or velocity  \n",
    "                                        \\"
   ]
  },
  {
   "cell_type": "markdown",
   "metadata": {},
   "source": [
    "##   values will be reported by\n",
    "default  \n",
    "restfreq            =         ''        \\"
   ]
  },
  {
   "cell_type": "markdown",
   "metadata": {},
   "source": [
    "##  restfrequency to use for\n",
    "velocity values (e.g.  \n",
    "                                        \\"
   ]
  },
  {
   "cell_type": "markdown",
   "metadata": {},
   "source": [
    "##   '1.420GHz' for the HI line)\n",
    "\n",
    "*outframe* defines the velocity frame (LSRK, BARY, etc.,) of the output\n",
    "image and a rest frequency should be specified to relabel the spectral\n",
    "axis in new velocity units.\n",
    "\n"
   ]
  },
  {
   "cell_type": "markdown",
   "metadata": {},
   "source": [
    "##  Rebin an Image (**imrebin**)\n",
    "\n",
    "The task **imrebin** allows one to rebin an image in any spatial or\n",
    "spectral direction:\n",
    "\n",
    "imrebin :: Rebin an image by the specified integer factors  \n",
    "imagename           =         ''        \\"
   ]
  },
  {
   "cell_type": "markdown",
   "metadata": {},
   "source": [
    "##  Name of the input image  \n",
    "outfile             =         ''        \\"
   ]
  },
  {
   "cell_type": "markdown",
   "metadata": {},
   "source": [
    "##  Output image name.  \n",
    "factor              =         \\[\\]        \\"
   ]
  },
  {
   "cell_type": "markdown",
   "metadata": {},
   "source": [
    "##  Binning factors for each\n",
    "axis. Use  \n",
    "                                        \\"
   ]
  },
  {
   "cell_type": "markdown",
   "metadata": {},
   "source": [
    "##   imhead or ia.summary to\n",
    "determine axis  \n",
    "                                        \\"
   ]
  },
  {
   "cell_type": "markdown",
   "metadata": {},
   "source": [
    "##   ordering.  \n",
    "region              =         ''        \\"
   ]
  },
  {
   "cell_type": "markdown",
   "metadata": {},
   "source": [
    "##  Region selection. Default is\n",
    "to use the full  \n",
    "                                        \\"
   ]
  },
  {
   "cell_type": "markdown",
   "metadata": {},
   "source": [
    "##   image.  \n",
    "box                 =         ''        \\"
   ]
  },
  {
   "cell_type": "markdown",
   "metadata": {},
   "source": [
    "##  Rectangular region to select\n",
    "in  \n",
    "                                        \\"
   ]
  },
  {
   "cell_type": "markdown",
   "metadata": {},
   "source": [
    "##   direction plane. Default is\n",
    "to use the entire  \n",
    "                                        \\"
   ]
  },
  {
   "cell_type": "markdown",
   "metadata": {},
   "source": [
    "##   direction plane.  \n",
    "chans               =         ''        \\"
   ]
  },
  {
   "cell_type": "markdown",
   "metadata": {},
   "source": [
    "##  Channels to use. Default is\n",
    "to use all  \n",
    "                                        \\"
   ]
  },
  {
   "cell_type": "markdown",
   "metadata": {},
   "source": [
    "##   channels.  \n",
    "stokes              =         ''        \\"
   ]
  },
  {
   "cell_type": "markdown",
   "metadata": {},
   "source": [
    "##  Stokes planes to\n",
    "use. Default is to  \n",
    "                                        \\"
   ]
  },
  {
   "cell_type": "markdown",
   "metadata": {},
   "source": [
    "##   use all Stokes planes.\n",
    "Stokes planes  \n",
    "                                        \\"
   ]
  },
  {
   "cell_type": "markdown",
   "metadata": {},
   "source": [
    "##   cannot be rebinned.  \n",
    "mask                =         ''        \\"
   ]
  },
  {
   "cell_type": "markdown",
   "metadata": {},
   "source": [
    "##  Mask to use. Default is\n",
    "none.  \n",
    "dropdeg             =      False        \\"
   ]
  },
  {
   "cell_type": "markdown",
   "metadata": {},
   "source": [
    "##  Drop degenerate axes?  \n",
    "crop                =       True        \\"
   ]
  },
  {
   "cell_type": "markdown",
   "metadata": {},
   "source": [
    "##  Remove pixels from the end\n",
    "of an axis to  \n",
    "                                        \\"
   ]
  },
  {
   "cell_type": "markdown",
   "metadata": {},
   "source": [
    "##   be rebinned if there are\n",
    "not enough to  \n",
    "                                        \\"
   ]
  },
  {
   "cell_type": "markdown",
   "metadata": {},
   "source": [
    "##   form an integral bin?\n",
    "\n",
    "where *factor* is a list of integers that provides the numbers of pixels\n",
    "to be binned for each axis. The *crop* parameters controls how pixels at\n",
    "the boundaries are treated if the bin values are not multiple integers\n",
    "of the image dimensions.  \n",
    "  \n",
    "Example:\n",
    "\n",
    "imrebin(imagename='my.im', outfile='rebinned.im', factor=\\[1,2,1,4\\],\n",
    "crop=T)\n",
    "\n",
    "This leaves RA untouched, bins DEC by a factor of 2, leaves Stokes as\n",
    "is, and bins the spectral axis by a factor of 4. If the input image has\n",
    "a spectral axis with a length that is not a multiple of 4, the *crop=T*\n",
    "setting will discard the remaining 1-3 edge pixels.\n",
    "\n",
    " \n",
    "\n",
    " \n",
    "\n"
   ]
  },
  {
   "cell_type": "markdown",
   "metadata": {},
   "source": [
    "## Collapsing an Image Along an Axis (**imcollapse**)\n",
    "\n",
    "**imcollapse** allows to apply an aggregation function along one or more\n",
    "axes of an image. Functions supported are '*max', 'mean', 'median',\n",
    "'min', 'rms', 'stdev', 'sum', 'variance'* (minimum match supported). The\n",
    "relevant axes will then collapse to a single value or plane (i.e. they\n",
    "will result in a degenerate axis). The functions are specified in the\n",
    "*function* parameter of the **imcollapse** inputs:\n",
    "\n",
    "\\"
   ]
  },
  {
   "cell_type": "markdown",
   "metadata": {},
   "source": [
    "##  imcollapse :: Collapse image along one axis, aggregating pixel\n",
    "values along that axis.  \n",
    "imagename           =         ''        \\"
   ]
  },
  {
   "cell_type": "markdown",
   "metadata": {},
   "source": [
    "##  Name of the input image  \n",
    "function            =         ''        \\"
   ]
  },
  {
   "cell_type": "markdown",
   "metadata": {},
   "source": [
    "##  Function used to compute\n",
    "aggregation  \n",
    "                                        \\"
   ]
  },
  {
   "cell_type": "markdown",
   "metadata": {},
   "source": [
    "##   of pixel values.  \n",
    "axes                =        \\[0\\]        \\"
   ]
  },
  {
   "cell_type": "markdown",
   "metadata": {},
   "source": [
    "##  Zero-based axis number(s)\n",
    "or minimal  \n",
    "                                        \\"
   ]
  },
  {
   "cell_type": "markdown",
   "metadata": {},
   "source": [
    "##   match strings to\n",
    "collapse.  \n",
    "outfile             =         ''        \\"
   ]
  },
  {
   "cell_type": "markdown",
   "metadata": {},
   "source": [
    "##  Name of output CASA image.  \n",
    "box                 =         ''        \\"
   ]
  },
  {
   "cell_type": "markdown",
   "metadata": {},
   "source": [
    "##  Optional direction plane box\n",
    "('blcx,  \n",
    "                                        \\"
   ]
  },
  {
   "cell_type": "markdown",
   "metadata": {},
   "source": [
    "##   blcy, trcx trcy').  \n",
    "     region         =         ''        \\"
   ]
  },
  {
   "cell_type": "markdown",
   "metadata": {},
   "source": [
    "##  Name of optional region file\n",
    "to use.  \n",
    "  \n",
    "chans               =         ''        \\"
   ]
  },
  {
   "cell_type": "markdown",
   "metadata": {},
   "source": [
    "##  Optional zero-based\n",
    "contiguous  \n",
    "                                        \\"
   ]
  },
  {
   "cell_type": "markdown",
   "metadata": {},
   "source": [
    "##   frequency channel\n",
    "specification.  \n",
    "stokes              =         ''        \\"
   ]
  },
  {
   "cell_type": "markdown",
   "metadata": {},
   "source": [
    "##  Optional contiguous stokes\n",
    "planes  \n",
    "                                        \\"
   ]
  },
  {
   "cell_type": "markdown",
   "metadata": {},
   "source": [
    "##   specification.  \n",
    "mask                =         ''        \\"
   ]
  },
  {
   "cell_type": "markdown",
   "metadata": {},
   "source": [
    "##  Optional mask to use.  \n",
    "wantreturn          =       True        \\"
   ]
  },
  {
   "cell_type": "markdown",
   "metadata": {},
   "source": [
    "##  Should an image analysis\n",
    "tool  \n",
    "                                        \\"
   ]
  },
  {
   "cell_type": "markdown",
   "metadata": {},
   "source": [
    "##   referencing the collapsed\n",
    "image be  \n",
    "                                        \\"
   ]
  },
  {
   "cell_type": "markdown",
   "metadata": {},
   "source": [
    "##   returned?\n",
    "\n",
    "*wantreturn=True* returns an image analysis tool containing the newly\n",
    "created collapsed image.  \n",
    "  \n",
    "Example (myimage.im is a 512x512x128x4 (ra,dec,freq,stokes; i.e. in the\n",
    "0-based system, frequency is labeled as axis 2) image and we want to\n",
    "collapse a subimage of it along its spectral axis avoiding the 8 edge\n",
    "channels at each end of the band, computing the mean value of the pixels\n",
    "(resulting image is 256x256x1x4 in size)):\n",
    "\n",
    "imcollapse(imagename='myimage.im', outfile='collapse_spec_mean.im',  \n",
    "           function='mean', axis=2, box='127,127,383,383',\n",
    "chans='8\\~119')\n",
    "\n",
    "Note that **imcollapse** will not smooth to a common beam for all planes\n",
    "if they differ. If this is desired, run **imsmooth** before\n",
    "**imcollapse**."
   ]
  }
 ],
 "metadata": {},
 "nbformat": 4,
 "nbformat_minor": 5
}
