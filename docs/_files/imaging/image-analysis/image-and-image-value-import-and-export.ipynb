{
 "cells": [
  {
   "cell_type": "markdown",
   "metadata": {},
   "source": [
    "# Image Import/Export\n",
    "\n",
    "Im/Exporting FITS files and dumping the data into Python\n",
    "\n"
   ]
  },
  {
   "cell_type": "markdown",
   "metadata": {},
   "source": [
    "## Image Import/Export to FITS\n",
    "\n",
    "These tasks will allow you to write your CASA image to a FITS file that\n",
    "other packages can read, and to import existing FITS files into CASA as\n",
    "an image.\n",
    "\n"
   ]
  },
  {
   "cell_type": "markdown",
   "metadata": {},
   "source": [
    "#### FITS Image Export (exportfits)\n",
    "\n",
    "To export your images to fits format use the **exportfits** task. The\n",
    "inputs are:\n",
    "\n",
    "\\"
   ]
  },
  {
   "cell_type": "markdown",
   "metadata": {},
   "source": [
    "##  exportfits :: Convert a CASA image to a FITS file  \n",
    "imagename    =         ''   \\"
   ]
  },
  {
   "cell_type": "markdown",
   "metadata": {},
   "source": [
    "##  Name of input CASA image  \n",
    "fitsimage    =         ''   \\"
   ]
  },
  {
   "cell_type": "markdown",
   "metadata": {},
   "source": [
    "##  Name of output image FITS file  \n",
    "velocity     =      False   \\"
   ]
  },
  {
   "cell_type": "markdown",
   "metadata": {},
   "source": [
    "##  Use velocity (rather than frequency) as\n",
    "spectral axis  \n",
    "optical      =      False   \\"
   ]
  },
  {
   "cell_type": "markdown",
   "metadata": {},
   "source": [
    "##  Use the optical (rather than radio)\n",
    "velocity convention  \n",
    "bitpix       =        -32   \\"
   ]
  },
  {
   "cell_type": "markdown",
   "metadata": {},
   "source": [
    "##  Bits per pixel  \n",
    "minpix       =          0   \\"
   ]
  },
  {
   "cell_type": "markdown",
   "metadata": {},
   "source": [
    "##  Minimum pixel value  \n",
    "maxpix       =          0   \\"
   ]
  },
  {
   "cell_type": "markdown",
   "metadata": {},
   "source": [
    "##  Maximum pixel value  \n",
    "overwrite    =      False   \\"
   ]
  },
  {
   "cell_type": "markdown",
   "metadata": {},
   "source": [
    "##  Overwrite pre-existing imagename  \n",
    "dropstokes   =      False   \\"
   ]
  },
  {
   "cell_type": "markdown",
   "metadata": {},
   "source": [
    "##  Drop the Stokes axis?  \n",
    "stokeslast   =       True   \\"
   ]
  },
  {
   "cell_type": "markdown",
   "metadata": {},
   "source": [
    "##  Put Stokes axis last in header?\n",
    "\n",
    "The *dropstokes* or *stokeslast* parameter may be needed to make the\n",
    "FITS image compatible with an external application.  \n",
    "  \n",
    "For example,\n",
    "\n",
    "  \n",
    "exportfits('ngc5921.demo.cleanimg.image','ngc5921.demo.cleanimg.image.fits')\n",
    "\n"
   ]
  },
  {
   "cell_type": "markdown",
   "metadata": {},
   "source": [
    "###  FITS Image Import (importfits)\n",
    "\n",
    "You can also use the **importfits** task to import a FITS image into\n",
    "CASA image table format. Note, the CASA viewer can read fits images so\n",
    "you don’t need to do this if you just want to look at the image. The\n",
    "inputs for **importfits** are:\n",
    "\n",
    "\\"
   ]
  },
  {
   "cell_type": "markdown",
   "metadata": {},
   "source": [
    "##  importfits :: Convert an image FITS file into a CASA image  \n",
    "fitsimage           =         ''        \\"
   ]
  },
  {
   "cell_type": "markdown",
   "metadata": {},
   "source": [
    "##  Name of input image FITS\n",
    "file  \n",
    "imagename           =         ''        \\"
   ]
  },
  {
   "cell_type": "markdown",
   "metadata": {},
   "source": [
    "##  Name of output CASA image  \n",
    "whichrep            =          0        \\"
   ]
  },
  {
   "cell_type": "markdown",
   "metadata": {},
   "source": [
    "##  If fits image has multiple  \n",
    "                                        \\"
   ]
  },
  {
   "cell_type": "markdown",
   "metadata": {},
   "source": [
    "##   coordinate reps, choose\n",
    "one.  \n",
    "whichhdu            =          0        \\"
   ]
  },
  {
   "cell_type": "markdown",
   "metadata": {},
   "source": [
    "##  If its file contains  \n",
    "                                        \\"
   ]
  },
  {
   "cell_type": "markdown",
   "metadata": {},
   "source": [
    "##    multiple images, choose\n",
    "one.  \n",
    "zeroblanks          =       True        \\"
   ]
  },
  {
   "cell_type": "markdown",
   "metadata": {},
   "source": [
    "##  Set blanked pixels to zero\n",
    "(not NaN)  \n",
    "overwrite           =      False        \\"
   ]
  },
  {
   "cell_type": "markdown",
   "metadata": {},
   "source": [
    "##  Overwrite pre-existing\n",
    "imagename  \n",
    "defaultaxes         =      False        \\"
   ]
  },
  {
   "cell_type": "markdown",
   "metadata": {},
   "source": [
    "##  Add the default 4D  \n",
    "                                        \\"
   ]
  },
  {
   "cell_type": "markdown",
   "metadata": {},
   "source": [
    "##   coordinate axes where they\n",
    "are missing  \n",
    "defaultaxesvalues   =         \\[\\]        \\"
   ]
  },
  {
   "cell_type": "markdown",
   "metadata": {},
   "source": [
    "##  List of values to assign\n",
    "to  \n",
    "                                        \\"
   ]
  },
  {
   "cell_type": "markdown",
   "metadata": {},
   "source": [
    "##   added degenerate axes\n",
    "when  \n",
    "                                        \\"
   ]
  },
  {
   "cell_type": "markdown",
   "metadata": {},
   "source": [
    "##   defaultaxes=True\n",
    "(ra,dec,freq,stokes)\n",
    "\n",
    "For example, we can read the above image back in\n",
    "\n",
    "importfits('ngc5921.demo.cleanimg.image.fits','ngc5921.demo.cleanimage')\n",
    "\n",
    " \n",
    "\n"
   ]
  },
  {
   "cell_type": "markdown",
   "metadata": {},
   "source": [
    "##  \n",
    "\n"
   ]
  },
  {
   "cell_type": "markdown",
   "metadata": {},
   "source": [
    "## Extracting data from an image (**imval**)\n",
    "\n",
    "  \n",
    "The **imval** task will extract the values of the data and mask from a\n",
    "specified region of an image and place in the task return value as a\n",
    "Python dictionary. The inputs are:\n",
    "\n",
    "\\"
   ]
  },
  {
   "cell_type": "markdown",
   "metadata": {},
   "source": [
    "##  imval :: Get the data value(s) and/or mask value in an image.  \n",
    "imagename  =      ''   \\"
   ]
  },
  {
   "cell_type": "markdown",
   "metadata": {},
   "source": [
    "##  Name of the input image  \n",
    "region     =      ''   \\"
   ]
  },
  {
   "cell_type": "markdown",
   "metadata": {},
   "source": [
    "##  Image Region.  Use viewer  \n",
    "box        =      ''   \\"
   ]
  },
  {
   "cell_type": "markdown",
   "metadata": {},
   "source": [
    "##  Select one or more box regions  \n",
    "chans      =      ''   \\"
   ]
  },
  {
   "cell_type": "markdown",
   "metadata": {},
   "source": [
    "##  Select the channel(spectral) range  \n",
    "stokes     =      ''   \\"
   ]
  },
  {
   "cell_type": "markdown",
   "metadata": {},
   "source": [
    "##  Stokes params to image (I,IV,IQU,IQUV)\n",
    "\n",
    "Area selection using [box](#region-selection--box-) and\n",
    "[region](#regions--region-) is detailed above. By default, *box=' '*\n",
    "will extract the image information at the reference pixel on the\n",
    "direction axes. [Plane selection](#plane-selection--chans--stokes-) is\n",
    "controlled by *chans* and *stokes*. By default, *chans=' '* and\n",
    "*stokes=' '* will extract the image information in all channels and\n",
    "Stokes planes.  \n",
    "  \n",
    "For instance,\n",
    "\n",
    "xval = imval('myimage', box='144,144', stokes='I' )\n",
    "\n",
    "will extract the Stokes I value or spectrum at pixel 144,144, while\n",
    "\n",
    "xval = imval('myimage', box='134,134.154,154', stokes='I' )\n",
    "\n",
    "will extract a 21 by 21 pixel region. Extractions are returned in NumPy\n",
    "arrays in the return value dictionary, plus some extra elements\n",
    "describing the axes and selection:\n",
    "\n",
    "  \n",
    "CASA \\<2\\>: xval = imval('ngc5921.demo.moments.integrated')  \n",
    "  \n",
    "CASA \\<3\\>: xval  \n",
    "  Out\\[3\\]:  \n",
    "{'axes': \\[\\[0, 'Right Ascension'\\],  \n",
    "          \\[1, 'Declination'\\],  \n",
    "          \\[3, 'Frequency'\\],  \n",
    "          \\[2, 'Stokes'\\]\\],  \n",
    " 'blc': \\[128, 128, 0, 0\\],  \n",
    " 'data': array(\\[ 0.89667124\\]),  \n",
    " 'mask': array(\\[ True\\], dtype=bool),  \n",
    " 'trc': \\[128, 128, 0, 0\\],  \n",
    " 'unit': 'Jy/beam.km/s'}\n",
    "\n",
    "extracts the reference pixel value in this 1-plane image. Note that the\n",
    "'*data'* and '*mask'* elements are NumPy arrays, not Python lists. To\n",
    "extract a spectrum from a cube:\n",
    "\n",
    "  \n",
    "CASA \\<8\\>: xval = imval('ngc5921.demo.clean.image',box='125,125')  \n",
    "  \n",
    "CASA \\<9\\>: xval  \n",
    "  Out\\[9\\]:  \n",
    "{'axes': \\[\\[0, 'Right Ascension'\\],  \n",
    "          \\[1, 'Declination'\\],  \n",
    "          \\[3, 'Frequency'\\],  \n",
    "          \\[2, 'Stokes'\\]\\],  \n",
    " 'blc': \\[125, 125, 0, 0\\],  \n",
    " 'data': array(\\[  8.45717848e-04,   1.93370355e-03,   1.53750915e-03,  \n",
    "         2.88399984e-03,   2.38683447e-03,   2.89159478e-04,  \n",
    "         3.16268904e-03,   9.93389636e-03,   1.88773088e-02,  \n",
    "         3.01138610e-02,   3.14478502e-02,   4.03211266e-02,  \n",
    "         3.82498614e-02,   3.06552909e-02,   2.80734301e-02,  \n",
    "         1.72479432e-02,   1.20884273e-02,   6.13593217e-03,  \n",
    "         9.04005766e-03,   1.71429547e-03,   5.22095338e-03,  \n",
    "         2.49114982e-03,   5.30831399e-04,   4.80734324e-03,  \n",
    "         1.19265869e-05,   1.29435991e-03,   3.75700940e-04,  \n",
    "         2.34788167e-03,   2.72604497e-03,   1.78467855e-03,  \n",
    "         9.74952069e-04,   2.24676146e-03,   1.82263291e-04,  \n",
    "         1.98463408e-06,   2.02975096e-03,   9.65532148e-04,  \n",
    "         1.68218743e-03,   2.92119570e-03,   1.29359076e-03,  \n",
    "        -5.11484570e-04,   1.54162932e-03,   4.68662125e-04,  \n",
    "        -8.50282842e-04,  -7.91683051e-05,   2.95954203e-04,  \n",
    "        -1.30133145e-03\\]),  \n",
    " 'mask': array(\\[ True,  True,  True,  True,  True,  True,  True, \n",
    "True,  True,  \n",
    "        True,  True,  True,  True,  True,  True,  True,  True,  True,  \n",
    "        True,  True,  True,  True,  True,  True,  True,  True,  True,  \n",
    "        True,  True,  True,  True,  True,  True,  True,  True,  True,  \n",
    "        True,  True,  True,  True,  True,  True,  True,  True,  True, \n",
    "True\\], dtype=bool),  \n",
    " 'trc': \\[125, 125, 0, 45\\],  \n",
    " 'unit': 'Jy/beam'}\n",
    "\n",
    "To extract a region from the plane of a cube:\n",
    "\n",
    "CASA \\<13\\>: xval =\n",
    "imval('ngc5921.demo.clean.image',box='126,128,130,129',chans='23')  \n",
    "  \n",
    "CASA \\<14\\>: xval  \n",
    "  Out\\[14\\]:  \n",
    "{'axes': \\[\\[0, 'Right Ascension'\\],  \n",
    "          \\[1, 'Declination'\\],  \n",
    "          \\[3, 'Frequency'\\],  \n",
    "          \\[2, 'Stokes'\\]\\],  \n",
    " 'blc': \\[126, 128, 0, 23\\],  \n",
    " 'data': array(\\[\\[ 0.00938627,  0.01487772\\],  \n",
    "       \\[ 0.00955847,  0.01688832\\],  \n",
    "       \\[ 0.00696965,  0.01501907\\],  \n",
    "       \\[ 0.00460964,  0.01220793\\],  \n",
    "       \\[ 0.00358087,  0.00990202\\]\\]),  \n",
    " 'mask': array(\\[\\[ True,  True\\],  \n",
    "       \\[ True,  True\\],  \n",
    "       \\[ True,  True\\],  \n",
    "       \\[ True,  True\\],  \n",
    "       \\[ True,  True\\]\\], dtype=bool),  \n",
    " 'trc': \\[130, 129, 0, 23\\],  \n",
    " 'unit': 'Jy/beam'}  \n",
    "  \n",
    "CASA \\<15\\>: print xval\\['data'\\]\\[0\\]\\[1\\]  \n",
    "0.0148777160794\n",
    "\n",
    "In this example, a rectangular box was extracted, and you can see the\n",
    "order in the array and how to address specific elements."
   ]
  }
 ],
 "metadata": {},
 "nbformat": 4,
 "nbformat_minor": 5
}
