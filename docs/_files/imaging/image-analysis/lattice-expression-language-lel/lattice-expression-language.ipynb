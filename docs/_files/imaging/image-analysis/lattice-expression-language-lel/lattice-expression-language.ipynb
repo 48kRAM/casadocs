{
 "cells": [
  {
   "cell_type": "markdown",
   "metadata": {},
   "source": [
    "# Lattice Expression Language {#lattice-expression-language .documentFirstHeading}\n",
    "\n",
    "\n",
    "\n",
    "\n",
    "\n",
    "Introduction to LEL\n",
    "\n",
    "\n",
    "\n",
    "\n",
    "\n",
    "\n",
    "\n",
    "\n"
   ]
  },
  {
   "cell_type": "markdown",
   "metadata": {},
   "source": [
    "## Lattice Expression Language\n",
    "\n"
   ]
  },
  {
   "cell_type": "markdown",
   "metadata": {},
   "source": [
    "### Introduction {#title0}\n",
    "\n",
    "The Lattice Expression Language (LEL) makes it possible to do arithmetic\n",
    "on lattices (in particular on images \\[which are just lattices plus\n",
    "coordinates\\]). An expression can be seen as a lattice (or image) in\n",
    "itself. It can be used in any operation where a normal image is used.\n",
    "\n",
    "To summarize, the following functionality is supported:\n",
    "\n",
    "-   The common mathematical, comparison, and relational\n",
    "    [operators](https://casa.nrao.edu/casadocs-devel/stable/imaging/image-analysis/lattice-expression-language-lel/lel-expressions).\n",
    "-   An extensive list of mathematical and logical\n",
    "    [functions](https://casa.nrao.edu/casadocs-devel/stable/imaging/image-analysis/lattice-expression-language-lel/lel-expressions).\n",
    "-   Mixed [data\n",
    "    type](https://casa.nrao.edu/casadocs-devel/stable/imaging/image-analysis/lattice-expression-language-lel/lel-expressions)\n",
    "    arithmetic and automatic data type promotion.\n",
    "-   Support of image\n",
    "    [masks](https://casa.nrao.edu/casadocs-devel/stable/imaging/image-analysis/lattice-expression-language-lel/lel-masks).\n",
    "-   [Masking](https://casa.nrao.edu/casadocs-devel/stable/imaging/image-analysis/lattice-expression-language-lel/lel-masks)\n",
    "    using boolean expressions.\n",
    "-   Handling of\n",
    "    [masks](https://casa.nrao.edu/casadocs-devel/stable/imaging/image-analysis/lattice-expression-language-lel/lel-masks)\n",
    "    in an expression.\n",
    "-   Support of image\n",
    "    [regions](https://casa.nrao.edu/casadocs-devel/stable/imaging/image-analysis/lattice-expression-language-lel/lel-regions).\n",
    "-   Interface from both Python and C++.\n",
    "\n",
    "The first section explains the syntax. The last sections show the\n",
    "interface to LEL using Python or C++. At the end some\n",
    "[examples](https://casa.nrao.edu/casadocs-devel/stable/imaging/image-analysis/lattice-expression-language-lel/lel-examples)\n",
    "are given. If you like, you can go straight to the examples and\n",
    "hopefully immediately be able to do some basic things.\n",
    "\n",
    "LEL operates on lattices, which are a generalization of arrays. As said\n",
    "above a particular type of lattice is an image; they will be used most\n",
    "often. Because lattices can be very large and usually reside on disk, an\n",
    "expression is only evaluated when a chunk of its data is requested. This\n",
    "is similar to reading only the requested chunk of data from a disk file.\n",
    "\n",
    "LEL is quite efficient and can therefore be used well in C++ and Python\n",
    "code. Note however, that it can never be as efficient as carefully\n",
    "constructed C++ code."
   ]
  }
 ],
 "metadata": {},
 "nbformat": 4,
 "nbformat_minor": 4
}
