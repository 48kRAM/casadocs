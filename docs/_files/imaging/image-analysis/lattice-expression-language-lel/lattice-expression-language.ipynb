{
 "cells": [
  {
   "cell_type": "markdown",
   "metadata": {},
   "source": [
    "# Lattice Expression Language \n",
    "\n",
    "\n",
    "\n",
    "\n",
    "\n",
    "Introduction to LEL\n",
    "\n",
    "\n",
    "\n",
    "\n",
    "\n",
    "\n",
    "\n",
    "\n"
   ]
  },
  {
   "cell_type": "markdown",
   "metadata": {},
   "source": [
    "## Lattice Expression Language\n",
    "\n"
   ]
  },
  {
   "cell_type": "markdown",
   "metadata": {},
   "source": [
    "### Introduction {#title0}\n",
    "\n",
    "The Lattice Expression Language (LEL) makes it possible to do arithmetic on lattices (in particular on images \\[which are just lattices plus coordinates\\]). An expression can be seen as a lattice (or image) in itself. It can be used in any operation where a normal image is used.\n",
    "\n",
    "To summarize, the following functionality is supported:\n",
    "\n",
    "-   The common mathematical, comparison, and relational [operators](https://casa.nrao.edu/casadocs-devel/stable/imaging/image-analysis/lattice-expression-language-lel/lel-expressions).\n",
    "-   An extensive list of mathematical and logical [functions](https://casa.nrao.edu/casadocs-devel/stable/imaging/image-analysis/lattice-expression-language-lel/lel-expressions).\n",
    "-   Mixed [data type](https://casa.nrao.edu/casadocs-devel/stable/imaging/image-analysis/lattice-expression-language-lel/lel-expressions) arithmetic and automatic data type promotion.\n",
    "-   Support of image [masks](https://casa.nrao.edu/casadocs-devel/stable/imaging/image-analysis/lattice-expression-language-lel/lel-masks).\n",
    "-   [Masking](https://casa.nrao.edu/casadocs-devel/stable/imaging/image-analysis/lattice-expression-language-lel/lel-masks) using boolean expressions.\n",
    "-   Handling of [masks](https://casa.nrao.edu/casadocs-devel/stable/imaging/image-analysis/lattice-expression-language-lel/lel-masks) in an expression.\n",
    "-   Support of image [regions](https://casa.nrao.edu/casadocs-devel/stable/imaging/image-analysis/lattice-expression-language-lel/lel-regions).\n",
    "-   Interface from both Python and C++.\n",
    "\n",
    "The first section explains the syntax. The last sections show the interface to LEL using Python or C++. At the end some [examples](https://casa.nrao.edu/casadocs-devel/stable/imaging/image-analysis/lattice-expression-language-lel/lel-examples) are given. If you like, you can go straight to the examples and hopefully immediately be able to do some basic things.\n",
    "\n",
    "LEL operates on lattices, which are a generalization of arrays. As said above a particular type of lattice is an image; they will be used most often. Because lattices can be very large and usually reside on disk, an expression is only evaluated when a chunk of its data is requested. This is similar to reading only the requested chunk of data from a disk file.\n",
    "\n",
    "LEL is quite efficient and can therefore be used well in C++ and Python code. Note however, that it can never be as efficient as carefully constructed C++ code."
   ]
  }
 ],
 "metadata": {},
 "nbformat": 4,
 "nbformat_minor": 4
}
