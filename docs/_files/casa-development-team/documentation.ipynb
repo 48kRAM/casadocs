{
 "cells": [
  {
   "cell_type": "markdown",
   "metadata": {},
   "source": [
    "# Documentation\n",
    "\n",
    "Reference material for authors and reviewers of CASA documentation"
   ]
  },
  {
   "cell_type": "markdown",
   "metadata": {
    "nbsphinx-toctree": {
     "hidden": true
    }
   },
   "source": [
    "[Introduction to CASA Documentation](documentation/casa-doc-development)\n",
    "[Style Guide](documentation/style-guide)\n",
    "[Adding a New Page to an Existing Chapter](documentation/adding-a-new-page-to-an-existing-section)\n",
    "[Adding a Task (Tool) to the Global Task List (Global Tool List)](documentation/adding-a-task-to-the-global-tool-list)\n"
   ]
  }
 ],
 "metadata": {},
 "nbformat": 4,
 "nbformat_minor": 5
}
