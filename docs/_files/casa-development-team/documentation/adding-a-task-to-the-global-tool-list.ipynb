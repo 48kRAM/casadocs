{
 "cells": [
  {
   "cell_type": "markdown",
   "metadata": {},
   "source": [
    "# Adding a Task (Tool) to the Global Task List (Global Tool List)\n",
    "\n",
    "Step-by-step instructions on how to correctly add a new Task to the\n",
    "Global Task List or a new Tool to the Global Tool List.\n",
    "\n",
    "--CASA Developer--\n",
    "\n",
    "All tasks are documented within the Global Task List folder.&nbsp; All\n",
    "tools are documented within the Global Tool List folder.&nbsp; The\n",
    "format of task and tool documentation is very similar.&nbsp; In fact,\n",
    "the only difference between the task and tool templates is that tools\n",
    "have a \"methods\" page where tasks have a \"parameters\" page.&nbsp; The\n",
    "instructions below explain step-by-step how to create new task\n",
    "documentation.&nbsp; When creating new documentation for a tool, follow\n",
    "the same steps, but note that the Global Tool List is used in place of\n",
    "the Global Task List, and the Method page is used in place of the\n",
    "Parameters page.\n",
    "\n"
   ]
  },
  {
   "cell_type": "markdown",
   "metadata": {},
   "source": [
    "## Adding a Folder for the New Task (Tool)\n",
    "\n",
    "1.  Navigate to the Global Task List (Global Tool List) directory within\n",
    "    CASA Documentation.\n",
    "2.  Login with your NRAO credentials.\n",
    "3.  You&nbsp;will find&nbsp;both published and private Tasks (Tools)\n",
    "    within the directory as a logged in user.\n",
    "4.  Click&nbsp;&lsquo;Contents&rsquo; on the Plone Toolbar.&nbsp; You\n",
    "    will be redirected to the Global Task List Contents page within\n",
    "    Plone.&nbsp;The Contents page will list all published, private, and\n",
    "    items excluded from navigation&nbsp;within the Global Task List. You\n",
    "    should see a folder labelled &lsquo;TASK TEMPLATE&rsquo; near the\n",
    "    top of the list on the first page.&nbsp; TASK TEMPLATE is an\n",
    "    unpublished folder that contains all of the pages and code currently\n",
    "    required&nbsp;for documenting a Task in CASA Docs.\n",
    "5.  Copy the TASK TEMPLATE folder and paste it back into Contents. You\n",
    "    should now have a copy of TASK TEMPLATE at the bottom of the folder\n",
    "    contents list.\n",
    "6.  Rename TASK TEMPLATE to the name of the Task you are\n",
    "    documenting.&nbsp;Follow the naming conventions listed below:\n",
    "7.  Click on the new copy of TASK TEMPLATE.&nbsp; You will enter the new\n",
    "    TASK TEMPLATE folder.\n",
    "8.  Click Edit in the Plone Toolbar.\n",
    "9.  Update the Title field.&nbsp; The title should be the name of the\n",
    "    task -- one word&nbsp;and lowercase. Example: applycal's&nbsp;title\n",
    "    is \"applycal\".\n",
    "10. Update the Summary field with a one-line description of the\n",
    "    task.&nbsp; The description should be equivalent to the short\n",
    "    description used in the *task.*xml file.&nbsp;\n",
    "    Example:&nbsp;imcollapse task: Collapse image along one axis,\n",
    "    aggregating pixel values along that axis.\n",
    "11. Click on the Settings tab and update the Short Name field.&nbsp; The\n",
    "    Short Name should be \"task\\_\" + title&nbsp;of the task (\"tool\\_\" +\n",
    "    title of the tool).&nbsp; Example: applycal's&nbsp;short name is\n",
    "    \"task_applycal\"\n",
    "12. Click save.\n",
    "13. You are now ready to edit the pages within your new Task folder.\n",
    "    Your new Task documentation folder should have six items&nbsp;total:\n",
    "    Redirect, Description, Parameters, Changelog, Examples, and\n",
    "    Developer.\n",
    "14. **DO NOT EDIT**&nbsp;the 'Redirect', 'Parameters', or 'Changelog'\n",
    "    pages in the Task. The 'Redirect' page is a redirect link to the\n",
    "    Task's Description page for anonymous users. The\n",
    "    &lsquo;Parameters&rsquo; tab is automatically generated from the\n",
    "    task XML file. &nbsp; The &lsquo;Changelog&rsquo; tab will\n",
    "    eventually be automatically generated Bamboo pull-request strings.\n",
    "\n"
   ]
  },
  {
   "cell_type": "markdown",
   "metadata": {},
   "source": [
    "## Populating the Description Tab\n",
    "\n",
    "1.  From the task folder view, navigate to the Description tab using the\n",
    "    buttons at the top of the page.\n",
    "2.  Select Edit from the plone toolbar.\n",
    "3.  Leave the title as *Description.*\n",
    "4.  Set the summary to the one-line description of the task used in the\n",
    "    task XML file for shortdescription*.*\n",
    "5.  Don't forget to save when your done.&nbsp;\n",
    "\n"
   ]
  },
  {
   "cell_type": "markdown",
   "metadata": {},
   "source": [
    "## Reviewing the Parameters Tab\n",
    "\n",
    "The Parameters tab is automatically generated from the task.xml file\n",
    "each evening. &nbsp;Review the parameters tab and make any necessary\n",
    "changes to the xml to make this as informative as possible.\n",
    "&nbsp;Examples on this page should be short and demonstrate the syntax\n",
    "of using the parameter. &nbsp;Not discussing the functioning of options\n",
    "etc.\n",
    "\n"
   ]
  },
  {
   "cell_type": "markdown",
   "metadata": {},
   "source": [
    "## Populating the Examples Tab\n",
    "\n",
    "1.  Navigate to the examples tab using the button at the top of the\n",
    "    page.\n",
    "2.  Select Edit from the plone menu\n",
    "3.  Leave the title as *Examples*\n",
    "4.  Leave the summary section blank\n",
    "5.  Populate the Text field with examples. &nbsp;Use the formatting and\n",
    "    templates, as well as equations and images to make the examples as\n",
    "    clear to the user as possible. &nbsp;The H1 and H2 formats can be\n",
    "    used to provide jump points for in page navigation.\n",
    "\n"
   ]
  },
  {
   "cell_type": "markdown",
   "metadata": {},
   "source": [
    "## Populating the Developer Tab\n",
    "\n",
    "1.  Navigate to the Developer tab and select edit as above.\n",
    "2.  Ensure that the *CASA Developer* option is selected, this means that\n",
    "    only people that select the **Developer Mode** will see this page.\n",
    "3.  This is the place to document design decision, gotcha's, or other\n",
    "    implementation details that are useful for the next person looking\n",
    "    at this task.\n",
    "\n"
   ]
  },
  {
   "cell_type": "markdown",
   "metadata": {},
   "source": [
    "## &nbsp;\n",
    "\n"
   ]
  },
  {
   "cell_type": "markdown",
   "metadata": {},
   "source": [
    "## Populating the&nbsp;Planning Tab\n",
    "\n",
    "1.  Navigate to the&nbsp;Planning tab and select edit as above. The\n",
    "    planning tab is used for planned, future development of the task and\n",
    "    contains documentation of the planned behavior.&nbsp;\n",
    "2.  The state of the Planning tab is set to *internal* so only logged in\n",
    "    users can see it.&nbsp;\n",
    "\n"
   ]
  },
  {
   "cell_type": "markdown",
   "metadata": {},
   "source": [
    "## &nbsp;"
   ]
  }
 ],
 "metadata": {},
 "nbformat": 4,
 "nbformat_minor": 5
}
