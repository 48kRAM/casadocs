{
 "cells": [
  {
   "cell_type": "markdown",
   "metadata": {},
   "source": [
    "# Adding a Task (Tool) to the Global Task List (Global Tool List)\n",
    "\n",
    "Step-by-step instructions on how to correctly add a new Task to the\n",
    "Global Task List or a new Tool to the Global Tool List.\n",
    "\n",
    "--CASA Developer--\n",
    "\n",
    "All tasks are documented within the Global Task List folder.  All tools\n",
    "are documented within the Global Tool List folder.  The format of task\n",
    "and tool documentation is very similar.  In fact, the only difference\n",
    "between the task and tool templates is that tools have a \"methods\" page\n",
    "where tasks have a \"parameters\" page.  The instructions below explain\n",
    "step-by-step how to create new task documentation.  When creating new\n",
    "documentation for a tool, follow the same steps, but note that the\n",
    "Global Tool List is used in place of the Global Task List, and the\n",
    "Method page is used in place of the Parameters page.\n",
    "\n"
   ]
  },
  {
   "cell_type": "markdown",
   "metadata": {},
   "source": [
    "## Adding a Folder for the New Task (Tool)\n",
    "\n",
    "1.  Navigate to the Global Task List (Global Tool List) directory within\n",
    "    CASA Documentation.\n",
    "2.  Login with your NRAO credentials.\n",
    "3.  You will find both published and private Tasks (Tools) within the\n",
    "    directory as a logged in user.\n",
    "4.  Click ‘Contents’ on the Plone Toolbar.  You will be redirected to\n",
    "    the Global Task List Contents page within Plone. The Contents page\n",
    "    will list all published, private, and items excluded from\n",
    "    navigation within the Global Task List. You should see a folder\n",
    "    labelled ‘TASK TEMPLATE’ near the top of the list on the first\n",
    "    page.  TASK TEMPLATE is an unpublished folder that contains all of\n",
    "    the pages and code currently required for documenting a Task in CASA\n",
    "    Docs.\n",
    "5.  Copy the TASK TEMPLATE folder and paste it back into Contents. You\n",
    "    should now have a copy of TASK TEMPLATE at the bottom of the folder\n",
    "    contents list.\n",
    "6.  Rename TASK TEMPLATE to the name of the Task you are\n",
    "    documenting. Follow the naming conventions listed below:\n",
    "7.  Click on the new copy of TASK TEMPLATE.  You will enter the new TASK\n",
    "    TEMPLATE folder.\n",
    "8.  Click Edit in the Plone Toolbar.\n",
    "9.  Update the Title field.  The title should be the name of the task --\n",
    "    one word and lowercase. Example: applycal's title is \"applycal\".\n",
    "10. Update the Summary field with a one-line description of the task. \n",
    "    The description should be equivalent to the short description used\n",
    "    in the *task.*xml file.  Example: imcollapse task: Collapse image\n",
    "    along one axis, aggregating pixel values along that axis.\n",
    "11. Click on the Settings tab and update the Short Name field.  The\n",
    "    Short Name should be \"task\\_\" + title of the task (\"tool\\_\" + title\n",
    "    of the tool).  Example: applycal's short name is \"task_applycal\"\n",
    "12. Click save.\n",
    "13. You are now ready to edit the pages within your new Task folder.\n",
    "    Your new Task documentation folder should have six items total:\n",
    "    Redirect, Description, Parameters, Changelog, Examples, and\n",
    "    Developer.\n",
    "14. **DO NOT EDIT** the 'Redirect', 'Parameters', or 'Changelog' pages\n",
    "    in the Task. The 'Redirect' page is a redirect link to the Task's\n",
    "    Description page for anonymous users. The ‘Parameters’ tab is\n",
    "    automatically generated from the task XML file.   The ‘Changelog’\n",
    "    tab will eventually be automatically generated Bamboo pull-request\n",
    "    strings.\n",
    "\n"
   ]
  },
  {
   "cell_type": "markdown",
   "metadata": {},
   "source": [
    "## Populating the Description Tab\n",
    "\n",
    "1.  From the task folder view, navigate to the Description tab using the\n",
    "    buttons at the top of the page.\n",
    "2.  Select Edit from the plone toolbar.\n",
    "3.  Leave the title as *Description.*\n",
    "4.  Set the summary to the one-line description of the task used in the\n",
    "    task XML file for shortdescription*.*\n",
    "5.  Don't forget to save when your done. \n",
    "\n"
   ]
  },
  {
   "cell_type": "markdown",
   "metadata": {},
   "source": [
    "## Reviewing the Parameters Tab\n",
    "\n",
    "The Parameters tab is automatically generated from the task.xml file\n",
    "each evening.  Review the parameters tab and make any necessary changes\n",
    "to the xml to make this as informative as possible.  Examples on this\n",
    "page should be short and demonstrate the syntax of using the parameter.\n",
    " Not discussing the functioning of options etc.\n",
    "\n"
   ]
  },
  {
   "cell_type": "markdown",
   "metadata": {},
   "source": [
    "## Populating the Examples Tab\n",
    "\n",
    "1.  Navigate to the examples tab using the button at the top of the\n",
    "    page.\n",
    "2.  Select Edit from the plone menu\n",
    "3.  Leave the title as *Examples*\n",
    "4.  Leave the summary section blank\n",
    "5.  Populate the Text field with examples.  Use the formatting and\n",
    "    templates, as well as equations and images to make the examples as\n",
    "    clear to the user as possible.  The H1 and H2 formats can be used to\n",
    "    provide jump points for in page navigation.\n",
    "\n"
   ]
  },
  {
   "cell_type": "markdown",
   "metadata": {},
   "source": [
    "## Populating the Developer Tab\n",
    "\n",
    "1.  Navigate to the Developer tab and select edit as above.\n",
    "2.  Ensure that the *CASA Developer* option is selected, this means that\n",
    "    only people that select the **Developer Mode** will see this page.\n",
    "3.  This is the place to document design decision, gotcha's, or other\n",
    "    implementation details that are useful for the next person looking\n",
    "    at this task.\n",
    "\n"
   ]
  },
  {
   "cell_type": "markdown",
   "metadata": {},
   "source": [
    "##  \n",
    "\n"
   ]
  },
  {
   "cell_type": "markdown",
   "metadata": {},
   "source": [
    "## Populating the Planning Tab\n",
    "\n",
    "1.  Navigate to the Planning tab and select edit as above. The planning\n",
    "    tab is used for planned, future development of the task and contains\n",
    "    documentation of the planned behavior. \n",
    "2.  The state of the Planning tab is set to *internal* so only logged in\n",
    "    users can see it. \n",
    "\n",
    "#"
   ]
  }
 ],
 "metadata": {},
 "nbformat": 4,
 "nbformat_minor": 5
}
