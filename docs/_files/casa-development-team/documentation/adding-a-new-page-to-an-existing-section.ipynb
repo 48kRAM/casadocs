{
 "cells": [
  {
   "cell_type": "markdown",
   "metadata": {},
   "source": [
    "# Adding a New Page to an Existing Chapter\n",
    "\n",
    "Instructions on how to create a new page inside a chapter of the Plone\n",
    "system\n",
    "\n",
    "--CASA Developer--\n",
    "\n",
    "To add a new page to the CASA Docs, follow this procedure:\n",
    "\n",
    "1.  Navigate to the appropriate folder either using the directory\n",
    "    (immediately to the left) or by clicking \"Contents\" in the left-side\n",
    "    Plone toolbar and proceeding the proper folder.&nbsp; (You must be\n",
    "    in a folder to add a new page.)\n",
    "2.  Click \"Add new\" in the left sidebar, then click \"Page\".&nbsp; This\n",
    "    will display the page editor.\n",
    "3.  Insert the page title.\n",
    "4.  Insert a 1-line summary of the page in the summary section.\n",
    "5.  If the page is intended for CASA Developers select \"yes\" under CASA\n",
    "    Developer.\n",
    "6.  If the page is intended to be a subpage of another page in this\n",
    "    chapter click \"yes\" under CASA subtopic.&nbsp; (Note that a subpage\n",
    "    is indented in the left-side directory and in the folder view.&nbsp;\n",
    "    Aside from these differences, subpages and pages are exactly the\n",
    "    same.)&nbsp;\n",
    "7.  Enter the contet of the page in the Text section.\n",
    "8.  To save your changes, make a note of the work you have done in the\n",
    "    \"Change Note\" section and click \"Save\" at the bottom of the page.\n",
    "9.  By default, new pages are created below all other pages in the\n",
    "    directory.&nbsp; If you want to reorganize the folder content, click\n",
    "    \"Contents\" in the left side Plone toolbar.&nbsp; Drag and drop pages\n",
    "    into the desired order.&nbsp;\n",
    "\n",
    "&nbsp;"
   ]
  }
 ],
 "metadata": {},
 "nbformat": 4,
 "nbformat_minor": 5
}
