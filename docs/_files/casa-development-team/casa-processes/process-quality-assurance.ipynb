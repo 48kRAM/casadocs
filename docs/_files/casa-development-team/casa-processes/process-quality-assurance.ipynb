{
 "cells": [
  {
   "cell_type": "markdown",
   "metadata": {},
   "source": [
    "# Process Quality Assurance\n",
    "\n",
    "Process for implementing quality assurance in CASA\n",
    "\n",
    "--CASA Developer--\n",
    "\n",
    "The goal of process quality assurance (QA) is to maintain the quality of\n",
    "CASA team processes by educating members of the CASA team on the details\n",
    "of team processes and ensuring compliance with the processes the team\n",
    "chooses for itself.  Process QA is itself a process that can be broken\n",
    "into four steps that will be performed in an iterative fashion:\n",
    "\n",
    "1.  Define/update processes,\n",
    "2.  Ensure compliance with processes,\n",
    "3.  Gather feedback from team, and\n",
    "4.  Improve processes.\n",
    "\n"
   ]
  },
  {
   "cell_type": "markdown",
   "metadata": {},
   "source": [
    "## Process Definition\n",
    "\n",
    "The CASA project manager (PM) is primarily responsible for documenting\n",
    "processes approved by the group lead (GL).  CASA Process documentation\n",
    "will be stored in the [CASA\n",
    "Processes](https://casa.nrao.edu/casadocs-devel/stable/casa-development-team/casa-processes)\n",
    "chapter of the CASA Doc website.\n",
    "\n",
    "The PM and GL will assess the need for team process education after each\n",
    "process update.\n",
    "\n"
   ]
  },
  {
   "cell_type": "markdown",
   "metadata": {},
   "source": [
    "## Ensure Process Compliance\n",
    "\n",
    "The PM is also responsible for auditing the CASA team work to document\n",
    "conformance and non-conformance to selected processes.  Beginning in\n",
    "FY17 Q2, select metrics (TBD) will be reported by the PM to select\n",
    "recipients (TBD).\n",
    "\n"
   ]
  },
  {
   "cell_type": "markdown",
   "metadata": {},
   "source": [
    "## Team Feedback\n",
    "\n",
    "An annual CASA team retrospective will be performed in Q3 of each year. \n",
    "The retrospective will provide a forum for discussion of what is and is\n",
    "not working well within the team.  The PM will organize and facilitate\n",
    "the retrospective and generate a report that summarizes the discussion\n",
    "and decisions.  The report will be circulated within the team for\n",
    "additional input.\n",
    "\n",
    "Informal feedback on processes can be given to the CASA PM and CASA GL\n",
    "at any time. \n",
    "\n"
   ]
  },
  {
   "cell_type": "markdown",
   "metadata": {},
   "source": [
    "## Process Improvement\n",
    "\n",
    "The retrospective report will be used by the PM and GL to create a\n",
    "process improvement plan that will be written by the PM and approved by\n",
    "the GL in Q4 of each year."
   ]
  }
 ],
 "metadata": {},
 "nbformat": 4,
 "nbformat_minor": 5
}
