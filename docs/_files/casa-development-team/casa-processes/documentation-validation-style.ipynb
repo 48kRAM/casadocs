{
 "cells": [
  {
   "cell_type": "markdown",
   "metadata": {},
   "source": [
    "# Documentation Verification \n",
    "\n",
    "\n",
    "\n",
    "\n",
    "\n",
    "Process for verification of user documentation (style review)\n",
    "\n",
    "\n",
    "\n",
    "\n",
    "\n",
    "\n",
    "\n",
    "\n"
   ]
  },
  {
   "cell_type": "markdown",
   "metadata": {},
   "source": [
    "## **Before You Start **\n",
    "\n",
    "1.  Make sure you log into plone so that any pages currently marked \\\"private\\\" are visible to you. \n",
    "2.  Verifiers should review the [CASA Docs style guide](https://casa.nrao.edu/casadocs-devel/stable/casa-development-team/documentation/style-guide) before beginning verification.\n",
    "3.  Take a quick tour of plone by clicking the wrench in the upper right corner \\--\\> \\\"Tutorials\\\" \\--\\> \\\"Introduction\\\". It will show you several messages pointing out the different features of plone. You may need to toggle the \\\"developer mode\\\" on to see more content; best to turn this on, just in case. \n",
    "\n"
   ]
  },
  {
   "cell_type": "markdown",
   "metadata": {},
   "source": [
    "## **Testing Plan**\n",
    "\n"
   ]
  },
  {
   "cell_type": "markdown",
   "metadata": {},
   "source": [
    "### Editorial Content and Style\n",
    "\n",
    "Note: Validators should plan to make minor document changes directly to the document. Extensive changes should be reported back to the author using the appropriate JIRA ticket.\n",
    "\n",
    "### Page look and feel\n",
    "\n",
    "1.  Does the page conform to style guide rules?\n",
    "2.  Does the organization of the page make sense?\n",
    "3.  Are figures formatted appropriately?\n",
    "4.  Are text boxes used in a way that enhances the readability of the document?\n",
    "5.  Are there obvious changes that would improve the overall look and feel of the document?\n",
    "6.  For tasks and tools, please ensure that the information is divided appropriately between the \\\"Description\\\" and \\\"Examples\\\" tabs, such that \\\"Examples\\\" contains only explicit examples, and all other information falls under \\\"Description\\\". \n",
    "\n"
   ]
  },
  {
   "cell_type": "markdown",
   "metadata": {},
   "source": [
    "### Workflow\n",
    "\n",
    "1.  Load the [Google spreadsheet](https://docs.google.com/spreadsheets/d/1YjPYn5K6Y2RCmHKkW9_ddVBrKphpX4wEqbpaG5eEudE/edit#gid=0).\n",
    "2.  Anything with a \\\"1\\\" in the \\\"Ready for Style Check\\\" column is ready for style verification.\n",
    "3.  Assign yourself the relevant JIRA ticket (which should be in the state \\\"Ready for Verification\\\") and move it to \\\"Under Verification.\\\" \n",
    "4.  Check through the relevant pages of plone documentation and make your changes.\n",
    "5.  Once you\\'re satisfied, move the status of the JIRA ticket to \\\"Ready for Validation\\\" and assign it to Jen Donovan Meyer so that she can assign the content check. \n",
    "6.  Put a \\\"1\\\" in the \\\"Ready for Content Check\\\" column in the Google spreadsheet. \n",
    "7.  You\\'re done!\n",
    "\n",
    "###"
   ]
  }
 ],
 "metadata": {},
 "nbformat": 4,
 "nbformat_minor": 4
}
