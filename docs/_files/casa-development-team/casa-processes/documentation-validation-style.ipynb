{
 "cells": [
  {
   "cell_type": "markdown",
   "metadata": {},
   "source": [
    "# Documentation Verification\n",
    "\n",
    "Process for verification of user documentation (style review)\n",
    "\n"
   ]
  },
  {
   "cell_type": "markdown",
   "metadata": {},
   "source": [
    "## **Before You Start **\n",
    "\n",
    "1.  Make sure you log into plone so that any pages currently marked\n",
    "    \"private\" are visible to you. \n",
    "2.  Verifiers should review the [CASA Docs style\n",
    "    guide](https://casa.nrao.edu/casadocs-devel/stable/casa-development-team/documentation/style-guide)\n",
    "    before beginning verification.\n",
    "3.  Take a quick tour of plone by clicking the wrench in the upper right\n",
    "    corner --\\> \"Tutorials\" --\\> \"Introduction\". It will show you\n",
    "    several messages pointing out the different features of plone. You\n",
    "    may need to toggle the \"developer mode\" on to see more content; best\n",
    "    to turn this on, just in case. \n",
    "\n"
   ]
  },
  {
   "cell_type": "markdown",
   "metadata": {},
   "source": [
    "## **Testing Plan**\n",
    "\n"
   ]
  },
  {
   "cell_type": "markdown",
   "metadata": {},
   "source": [
    "### Editorial Content and Style\n",
    "\n",
    "Note: Validators should plan to make minor document changes directly to\n",
    "the document. Extensive changes should be reported back to the author\n",
    "using the appropriate JIRA ticket.\n",
    "\n"
   ]
  },
  {
   "cell_type": "markdown",
   "metadata": {},
   "source": [
    "#### Page look and feel\n",
    "\n",
    "1.  Does the page conform to style guide rules?\n",
    "2.  Does the organization of the page make sense?\n",
    "3.  Are figures formatted appropriately?\n",
    "4.  Are text boxes used in a way that enhances the readability of the\n",
    "    document?\n",
    "5.  Are there obvious changes that would improve the overall look and\n",
    "    feel of the document?\n",
    "6.  For tasks and tools, please ensure that the information is divided\n",
    "    appropriately between the \"Description\" and \"Examples\" tabs, such\n",
    "    that \"Examples\" contains only explicit examples, and all other\n",
    "    information falls under \"Description\". \n",
    "\n"
   ]
  },
  {
   "cell_type": "markdown",
   "metadata": {},
   "source": [
    "### Workflow\n",
    "\n",
    "1.  Load the [Google\n",
    "    spreadsheet](https://docs.google.com/spreadsheets/d/1YjPYn5K6Y2RCmHKkW9_ddVBrKphpX4wEqbpaG5eEudE/edit#gid=0).\n",
    "2.  Anything with a \"1\" in the \"Ready for Style Check\" column is ready\n",
    "    for style verification.\n",
    "3.  Assign yourself the relevant JIRA ticket (which should be in the\n",
    "    state \"Ready for Verification\") and move it to \"Under\n",
    "    Verification.\" \n",
    "4.  Check through the relevant pages of plone documentation and make\n",
    "    your changes.\n",
    "5.  Once you're satisfied, move the status of the JIRA ticket to \"Ready\n",
    "    for Validation\" and assign it to Jen Donovan Meyer so that she can\n",
    "    assign the content check. \n",
    "6.  Put a \"1\" in the \"Ready for Content Check\" column in the Google\n",
    "    spreadsheet. \n",
    "7.  You're done!\n",
    "\n",
    "###"
   ]
  }
 ],
 "metadata": {},
 "nbformat": 4,
 "nbformat_minor": 5
}
