{
 "cells": [
  {
   "cell_type": "markdown",
   "metadata": {},
   "source": [
    "# Automated Test Definitions\n",
    "\n",
    "A comprehensive description of automated tests classes\n",
    "\n",
    "--CASA Developer--\n",
    "\n"
   ]
  },
  {
   "cell_type": "markdown",
   "metadata": {},
   "source": [
    "## Test Suite Definitions\n",
    "\n"
   ]
  },
  {
   "cell_type": "markdown",
   "metadata": {},
   "source": [
    "### c++ Unit Tests\n",
    "\n",
    "These tests are focused exclusively on verifying c++ code changes. These\n",
    "tests should be run automatically at each autonomously initiated\n",
    "compilation of the software. There should also be a capability to\n",
    "manually run these tests by a developer (particularly on their own local\n",
    "copy of the repo) on demand.\n",
    "\n"
   ]
  },
  {
   "cell_type": "markdown",
   "metadata": {},
   "source": [
    "### Smoke Tests\n",
    "\n",
    "These are very quick python level tests. They should not collectively\n",
    "run for more then a few minutes. These should be run following any\n",
    "automated initiated build on either the trunk (master repo) or any\n",
    "feature branch, following a successful completion of the c++ Unit Tests.\n",
    "There should be a capability to initate these manually on a developers\n",
    "own copy of the repo.\n",
    "\n"
   ]
  },
  {
   "cell_type": "markdown",
   "metadata": {},
   "source": [
    "### Test Suite 1 (TS1)\n",
    "\n",
    "Mostly consisting of slightly longer running python verification tests\n",
    "(compared to the Smoke Tests), and some validation tests. TS1 should be\n",
    "run anytime a developer commits a change to the Feature Branch\n",
    "(following the subsequent automated build, passing both c++ Unit Tests\n",
    "and Smoke Tests), or if an approved change in the trunk (master repo)\n",
    "has been pushed to the Feature Branch. These tests should have a total\n",
    "duration of a half hour or so.\n",
    "\n"
   ]
  },
  {
   "cell_type": "markdown",
   "metadata": {},
   "source": [
    "### Test Suite 2 (TS2)\n",
    "\n",
    "Before validation by the scientist on a feature branch, TS2 is run to\n",
    "ensure some rudimentry validation is good (roughly in line with a\n",
    "current Stable tarball). Should these tests fail, the JIRA ticket\n",
    "associated with it should no longer be \"Ready To Verify\", and the\n",
    "developer of the feature branch should be notified. These tests should\n",
    "run collectively for no more then an hour or so.\n",
    "\n"
   ]
  },
  {
   "cell_type": "markdown",
   "metadata": {},
   "source": [
    "### Test Suite 3 (TS3)\n",
    "\n",
    "TS3 consists of long running validation or regression tests that will\n",
    "exercise the python, as well as exercise the underlying c++. This may\n",
    "take a number of hours to run (though less then 12). This test suite\n",
    "will be run every couple of days, and only if there have been updates to\n",
    "the trunk (master repo). In principle these tests will have to all pass\n",
    "in order for there to be a new package created.\n",
    "\n",
    "&nbsp;\n",
    "\n"
   ]
  },
  {
   "cell_type": "markdown",
   "metadata": {},
   "source": [
    "## Test Category Definition\n",
    "\n"
   ]
  },
  {
   "cell_type": "markdown",
   "metadata": {},
   "source": [
    "### c++ Unit Tests\n",
    "\n",
    "These are small scale tests which test parts of the c++ code. Unit tests\n",
    "declared in the module level CMakeLists.txt file are built and executed\n",
    "as part of the commit level builds. There is documentation available on\n",
    "how to do this in CASA here:\n",
    "<https://safe.nrao.edu/wiki/bin/view/Software/CASA/CasaInterimUnitTesting>.\n",
    "This goes in to more detail on these particular tests. Also, the current\n",
    "status of the latest c++ unit test runs can be seen\n",
    "here:&nbsp;<http://www.aoc.nrao.edu/~jjacobs/casaCodeTestDefinitionsStatus.html>.\n",
    "This table can be broken down by: first column (Tests) is number of unit\n",
    "tests known to the build system, the second (Legacy) is the number using\n",
    "the legacy (old, unused) tests, third column (Current) are those units\n",
    "tests using the new macros (and are live), and the final column is the\n",
    "((number of current tests)/(total number of tests))\\*100. Or, the third\n",
    "column, divided by the first column times 100. Ideally we want the last\n",
    "column to be unity.&nbsp;\n",
    "\n"
   ]
  },
  {
   "cell_type": "markdown",
   "metadata": {},
   "source": [
    "### Functional Tests\n",
    "\n",
    "Functional tests are typically small tests collected under a single\n",
    "larger executed test. It can return a true or false result for each\n",
    "constituent test. These usually focus on basic functions (typically a\n",
    "level below tasks, but not always).&nbsp;\n",
    "\n"
   ]
  },
  {
   "cell_type": "markdown",
   "metadata": {},
   "source": [
    "### Regression Tests\n",
    "\n"
   ]
  },
  {
   "cell_type": "markdown",
   "metadata": {},
   "source": [
    "#### Legacy Regression Tests\n",
    "\n",
    "This covers all those regression tests that are currently in place, and\n",
    "a single test returns a single true or false, depending on its passing\n",
    "or failing.\n",
    "\n"
   ]
  },
  {
   "cell_type": "markdown",
   "metadata": {},
   "source": [
    "#### CASAGuides\n",
    "\n",
    "Several tests in the framework are actively created based on the\n",
    "maintained [CASA\n",
    "guides](https://casaguides.nrao.edu/index.php/Main_Page), both for ALMA\n",
    "(<https://casaguides.nrao.edu/index.php/ALMAguides>) and the EVLA\n",
    "(<https://casaguides.nrao.edu/index.php/Karl_G._Jansky_VLA_Tutorials>).\n",
    "They tend to run long, but provide very high level results on the health\n",
    "of the code.\n",
    "\n"
   ]
  },
  {
   "cell_type": "markdown",
   "metadata": {},
   "source": [
    "#### Parallel Processing Tests\n",
    "\n",
    "These are the tests specifically designed to exercise the high\n",
    "performance computing infrastructure in CASA. Ideally they exercise\n",
    "multiple processors across nodes in a cluster. This is not to be\n",
    "confused with tests which may test features that take advantage of\n",
    "parallel processing, as these tests are focused on the parallel\n",
    "processing infrastucture. The following\n",
    "[section](https://casa.nrao.edu/casadocs-devel/stable/parallel-processing/testing-using-multi-ms)\n",
    "explains how to create Multi-MS for tests and how to execute them.\n",
    "\n"
   ]
  },
  {
   "cell_type": "markdown",
   "metadata": {},
   "source": [
    "#### Pipeline Tests&nbsp;\n",
    "\n",
    "Having pipeline installed is a prerequisite for these tests. Beyond\n",
    "that, these tests exercise the heuristics found in pipeline, in addition\n",
    "to making sure pipeline is working in that particular version of\n",
    "CASA.&nbsp;\n",
    "\n",
    "Page that defines which tests fit in to which Test Suites:\n",
    "<https://safe.nrao.edu/wiki/bin/view/Software/CASA/ContinuousIntegrationTestDiscussionForBamboo>"
   ]
  }
 ],
 "metadata": {},
 "nbformat": 4,
 "nbformat_minor": 5
}
