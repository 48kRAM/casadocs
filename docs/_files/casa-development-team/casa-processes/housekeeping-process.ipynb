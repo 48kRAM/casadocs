{
 "cells": [
  {
   "cell_type": "markdown",
   "metadata": {},
   "source": [
    "# Housekeeping Process\n",
    "\n",
    "Process for CASA housekeeping (technical debt elimination) activities\n",
    "\n",
    "--CASA Developer--\n",
    "\n",
    "The CASA team is currently hampered by \"technical debt.\"&nbsp; The debt\n",
    "is a result of both past insufficient architectual planning and the use\n",
    "of development shortcuts made to save time at the expense of good\n",
    "software engineering practice.&nbsp; This process establishes a path for\n",
    "paying off the technical debt.\n",
    "\n"
   ]
  },
  {
   "cell_type": "markdown",
   "metadata": {},
   "source": [
    "## Development and Housekeeping\n",
    "\n",
    "Every six months, the CDG will devote 1 month to housekeeping\n",
    "activities.&nbsp; In the current 6-month release cycle, the first month\n",
    "of a new cycle will be devoted to housekeeping.&nbsp; As with new\n",
    "feature development, blocker-level bugs will take precedence over\n",
    "housekeeping activities.&nbsp; Housekeeping work requests, like other\n",
    "work requests should be scheduled by estimating the duration of the\n",
    "housekeeping activity.&nbsp; If the activity exceeds 8 days of\n",
    "development work, the activity should be reclassified as an Epic.&nbsp;\n",
    "Housekeeping epics should be scheduled in coordination with the PM,\n",
    "potentially outside the normal housekeeping window.\n",
    "\n"
   ]
  },
  {
   "cell_type": "markdown",
   "metadata": {},
   "source": [
    "## Housekeeping Schedule\n",
    "\n",
    "(T0 = start of housekeeping period)\n",
    "\n",
    "1.  T0 - 2 months: The GL and PM assess CASA housekeeping needs and\n",
    "    generate new JIRA issues as needed.&nbsp; Housekeeping issues are\n",
    "    assigned to developers.&nbsp; Housekeeping tasks should be assigned\n",
    "    to every developer.&nbsp; A developer may be exempt from the\n",
    "    housekeeping activity only if her/his domain of expertise within\n",
    "    CASA has no technical debt.\n",
    "2.  T0 - 1 month: Developers schedule housekeeping issues.&nbsp;\n",
    "    Housekeeping work should not exceed 1-month window.&nbsp;\n",
    "3.  T0: Developers begin work on housekeeping tasks.&nbsp; Weekly CDG\n",
    "    meetings should prioritize discussion of housekeeping issues.\n",
    "4.  T0 + 1 month: Housekeeping period ends.&nbsp; The subsequent CDG\n",
    "    weekly meeting should perform a short retrospective to gather\n",
    "    developer feedback on the housekeeping process.&nbsp; Additional\n",
    "    housekeeping tasks identified during the process should be\n",
    "    documented using new JIRA issues.&nbsp; PM assesses accomplishments\n",
    "    during housekeeping period and complies feedback.\n",
    "5.  T0 + 2 months: PM generates report on housekeeping activity that\n",
    "    documents accomplishments, challenges, lessons learned, and any\n",
    "    proposed process changes."
   ]
  }
 ],
 "metadata": {},
 "nbformat": 4,
 "nbformat_minor": 5
}
