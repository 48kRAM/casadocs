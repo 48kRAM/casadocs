{
 "cells": [
  {
   "cell_type": "markdown",
   "metadata": {},
   "source": [
    "# Housekeeping Process {#housekeeping-process .documentFirstHeading}\n",
    "\n",
    "\n",
    "\n",
    "\n",
    "\n",
    "Process for CASA housekeeping (technical debt elimination) activities\n",
    "\n",
    "\n",
    "\n",
    "\n",
    "\n",
    "\n",
    "\n",
    "\\--CASA Developer\\--\n",
    "\n",
    "\n",
    "The CASA team is currently hampered by \\\"technical debt.\\\"  The debt is\n",
    "a result of both past insufficient architectual planning and the use of\n",
    "development shortcuts made to save time at the expense of good software\n",
    "engineering practice.  This process establishes a path for paying off\n",
    "the technical debt.\n",
    "\n"
   ]
  },
  {
   "cell_type": "markdown",
   "metadata": {},
   "source": [
    "## Development and Housekeeping\n",
    "\n",
    "Every six months, the CDG will devote 1 month to housekeeping\n",
    "activities.  In the current 6-month release cycle, the first month of a\n",
    "new cycle will be devoted to housekeeping.  As with new feature\n",
    "development, blocker-level bugs will take precedence over housekeeping\n",
    "activities.  Housekeeping work requests, like other work requests should\n",
    "be scheduled by estimating the duration of the housekeeping activity. \n",
    "If the activity exceeds 8 days of development work, the activity should\n",
    "be reclassified as an Epic.  Housekeeping epics should be scheduled in\n",
    "coordination with the PM, potentially outside the normal housekeeping\n",
    "window.\n",
    "\n"
   ]
  },
  {
   "cell_type": "markdown",
   "metadata": {},
   "source": [
    "## Housekeeping Schedule\n",
    "\n",
    "(T0 = start of housekeeping period)\n",
    "\n",
    "1.  T0 - 2 months: The GL and PM assess CASA housekeeping needs and\n",
    "    generate new JIRA issues as needed.  Housekeeping issues are\n",
    "    assigned to developers.  Housekeeping tasks should be assigned to\n",
    "    every developer.  A developer may be exempt from the housekeeping\n",
    "    activity only if her/his domain of expertise within CASA has no\n",
    "    technical debt.\n",
    "2.  T0 - 1 month: Developers schedule housekeeping issues.  Housekeeping\n",
    "    work should not exceed 1-month window. \n",
    "3.  T0: Developers begin work on housekeeping tasks.  Weekly CDG\n",
    "    meetings should prioritize discussion of housekeeping issues.\n",
    "4.  T0 + 1 month: Housekeeping period ends.  The subsequent CDG weekly\n",
    "    meeting should perform a short retrospective to gather developer\n",
    "    feedback on the housekeeping process.  Additional housekeeping tasks\n",
    "    identified during the process should be documented using new JIRA\n",
    "    issues.  PM assesses accomplishments during housekeeping period and\n",
    "    complies feedback.\n",
    "5.  T0 + 2 months: PM generates report on housekeeping activity that\n",
    "    documents accomplishments, challenges, lessons learned, and any\n",
    "    proposed process changes."
   ]
  }
 ],
 "metadata": {},
 "nbformat": 4,
 "nbformat_minor": 4
}
