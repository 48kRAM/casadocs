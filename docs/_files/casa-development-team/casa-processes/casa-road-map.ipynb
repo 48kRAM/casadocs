{
 "cells": [
  {
   "cell_type": "markdown",
   "metadata": {},
   "source": [
    "# CASA Roadmap {#casa-roadmap .documentFirstHeading}\n",
    "\n",
    "\n",
    "\n",
    "\n",
    "\n",
    "Process for creating and maintaining the CASA Roadmap\n",
    "\n",
    "\n",
    "\n",
    "\n",
    "\n",
    "\n",
    "\n",
    "\\--CASA Developer\\--\n",
    "\n",
    "\n",
    "The CASA road map describes the high-level plan for CASA development\n",
    "over the next 4 to 6 quarters. The road map is written for internal\n",
    "audiences. The road map may be a subset of the group management document\n",
    "described in [DMSD Software Development\n",
    "Processes](https://sharepoint.nrao.edu/pmd/projects/494%20CASA%20Recommendations%20for%20Improvement%20%20Implemen/DMSD%20SW%20Dev%20Processes.aspx).\n",
    "A table such as the one shown in figure 9 of [Recommendations for\n",
    "Improvement](https://sharepoint.nrao.edu/pmd/projects/494%20CASA%20Recommendations%20for%20Improvement%20%20Implemen/DMSD%20SW%20Dev%20Processes.aspx)\n",
    "may be used to communicate the quarterly focus of the CASA team.\n",
    "\n"
   ]
  },
  {
   "cell_type": "markdown",
   "metadata": {},
   "source": [
    "## Schedule\n",
    "\n",
    "To remain relevant and informative, the road map will be updated twice\n",
    "annually, in quarters 2 and 4. The updated roadmap should be made\n",
    "available at or before the time of the official software release."
   ]
  }
 ],
 "metadata": {},
 "nbformat": 4,
 "nbformat_minor": 4
}
