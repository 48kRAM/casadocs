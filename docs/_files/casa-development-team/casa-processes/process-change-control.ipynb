{
 "cells": [
  {
   "cell_type": "markdown",
   "metadata": {},
   "source": [
    "# Process Change Control\n",
    "\n",
    "The process for changing CASA processes\n",
    "\n",
    "--CASA Developer--\n",
    "\n",
    "This process defines the steps involved in changing CASA process\n",
    "definitions.  To maintain effective and meaningful processes, it is\n",
    "important to consult with relevant stakeholders inside and outside the\n",
    "team before a change is made.  After making a change, all impacted\n",
    "stakeholders must be notified.  \n",
    "\n",
    "Changes to CASA process documents will follow these steps.\n",
    "\n",
    "1.  Changes will be proposed to the group lead (GL). \n",
    "2.  The GL will discuss the changes with the project manager (PM) and\n",
    "    other stakeholders as appropriate.\n",
    "3.  The GL will approve or reject the proposed change.\n",
    "4.  If approved, the GL or his delegate will update the CASA process\n",
    "    documents.\n",
    "5.  An annoucement of the change will be made to the casa-staff mailing\n",
    "    list and the lead of the NRAO DMS software division."
   ]
  }
 ],
 "metadata": {},
 "nbformat": 4,
 "nbformat_minor": 5
}
