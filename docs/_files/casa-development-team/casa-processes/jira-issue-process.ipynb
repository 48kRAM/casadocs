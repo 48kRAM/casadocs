{
 "cells": [
  {
   "cell_type": "markdown",
   "metadata": {},
   "source": [
    "# JIRA Work Request Management \n",
    "\n",
    "\n",
    "\n",
    "\n",
    "\n",
    "Process for work request management using JIRA\n",
    "\n",
    "\n",
    "\n",
    "\n",
    "\n",
    "\n",
    "\n",
    "\\--CASA Developer\\--\n",
    "\n",
    "\n"
   ]
  },
  {
   "cell_type": "markdown",
   "metadata": {},
   "source": [
    "## Background\n",
    "\n",
    "In the fall of 2016 the CASA development group (CDG) migrated to a [new JIRA server](https://open-jira.nrao.edu/) that is integrated with Atlassian software systems [Confluence](https://open-confluence.nrao.edu/), [BitBucket](https://open-bitbucket.nrao.edu/), and [Bamboo](https://open-bamboo.nrao.edu/). This change is motivated by the [recommendations](https://sharepoint.nrao.edu/dms/CASA%20Docs/Miranda%20Recommendations/EMiranda%20Recommendations.pdf) provided by an exernal consultant who studied the CDG in 2015. The Data Management and Software Department (DMSD) has developed a [software development processes document](https://staff.nrao.edu/wiki/bin/view/DMS/DMSDevelopmentProcesses) that describes departmental policies and recommendations for its software teams; this document adopts some of the recommendations applicable across the department. The CDG JIRA processes follow the DMSD processes as much as possible. This document describes these processes.\n",
    "\n",
    " \n",
    "\n"
   ]
  },
  {
   "cell_type": "markdown",
   "metadata": {},
   "source": [
    "## Issue Types\n",
    "\n",
    "The following table describes the issue types allowed in the CASA project:\n",
    "\n",
    "  ----------------------------------------------------------------------------------------------------------------------------------------------------------------------------------------------------------------------------------------------------------------------------------------------------------------------------- -------------------------------------------------------------------------------------------------------------------------------------------------------------------------------------------------------------\n",
    "  **Issue Type**                                                                                                                                                                                                                                                                                                                **Description**\n",
    "  ![d4564b7aa9ac3a9d85da111eeb7bfadcceed22a8.svg](d4564b7aa9ac3a9d85da111eeb7bfadcceed22a8.svg) Bug                                                                                                                  A request to correct a deviation of the system from its specified behavior.\n",
    "  ![](bca974343cad39d2b8dfb44b5bc93ad86c820430.svg) Feature                                                                                                                                      A request to change the current specified behavior.  Features should always undergo validation testing.\n",
    "  ![52adf8818d72376ec12c80ded4c7bf1fa0b53a86.svg](52adf8818d72376ec12c80ded4c7bf1fa0b53a86.svg) Engineering Task                                        An internal change request to improve maintainability of the code, perform refactoring activities, clean up, improve documentation, etc.  An issue of this type does not require validation (user) testing.\n",
    "  ![](4c2e1dc3341ec72ec7fbc7f13803a7bfa7ef236a.svg) Epic                                                                                       A large, cross functional work request that requires substantially more coordination than other jobs.\n",
    "  ![699da208e61b5e89883637b470a8c6b4935eb5fb.svg](699da208e61b5e89883637b470a8c6b4935eb5fb.svg) Research Request   A request for new capabilities in which either the requestor cannot define the expected result or the developers are unsure about whether the requirement can be implemented.\n",
    "  ![Sub-Task](4c9af52f27a2ca10f008ae0da277b495a0f2dbcd.svg){width=\"16\" height=\"16\"} Sub-Task                                                                                                                                                                                   Part of a larger issue.\n",
    "  ----------------------------------------------------------------------------------------------------------------------------------------------------------------------------------------------------------------------------------------------------------------------------------------------------------------------------- -------------------------------------------------------------------------------------------------------------------------------------------------------------------------------------------------------------\n",
    "\n",
    "For a brief description of JIRA issue types see the [JIRA Concepts - Issues](https://open-jira.nrao.edu/secure/ShowConstantsHelp.jspa?decorator=popup#IssueTypes) page. All of the issue types allowed in the CASA project are described in detail in the [DMSD software development processes document](https://staff.nrao.edu/wiki/bin/view/DMS/DMSDevelopmentProcesses). The only exception is the Sub-task issue type, which has been turned on for the CASA project to allow other issues to be broken down into smaller work assignments. The sub-task issue type uses the Feature workflow.\n",
    "\n",
    "### Note on Features vs. Epics\n",
    "\n",
    "Features and Epics are described in the DMSD document in sections 7.2 and 7.4, respectively. A Feature has low coordination needs and is a relatively small, compact change. If the implementation requires coordination or will take more than two weeks to develop, the request should be characterized as an Epic. Epics are typically broken down into sub-tasks.\n",
    "\n",
    "<div class=\"alert alert-warning\">\n",
    "Bamboo builds:  All appropriately-named branches will be built by the Bamboo CI plan.  However, only tickets that are typed in JIRA as a Feature (with a feature/CAS-XXXX branch) or a Bugfix (with a bugfix/CAS-XXXX branch) will be packaged and tested with the Bamboo Branch plans!\n",
    "</div>\n",
    "\n"
   ]
  },
  {
   "cell_type": "markdown",
   "metadata": {},
   "source": [
    "## Issue States\n",
    "\n",
    "The following table describes the issue states allowed in the CASA project:\n",
    "\n",
    "  ----------------------------------------------------------------------------------------------------------------------------------------------------------------------------------------------------------------------------------------------------------------------------------------------------------------------------------------------------------------------------------------------------------------------------------------------------------------------------------------------------------------------------------------------------------------------------------------------------------------------------------------------------------------------------------------------------------------------------------------------------------------------------- -------------------------------------------------------------------------------------------------------------- ---------------------\n",
    "  **Issue state**                                                                                                                                                                                                                                                                                                                                                                                                                                                                                                                                                                                                                                                                                                                                                               **Description**                                                                                                **Responsible**\n",
    "  [Open]{.jira-issue-status-lozenge .aui-lozenge .jira-issue-status-lozenge-blue-gray .jira-issue-status-lozenge-new .jira-issue-status-lozenge-max-width-medium tooltip=\"<span class=\\\"jira-issue-status-tooltip-title\\\">Open</span><br><span class=\\\"jira-issue-status-tooltip-desc\\\">Initial state after a new ticket is created.</span>\"}                                                                                                                                                                                                                                                                                                                                                                                                                                   Initial state after a new ticket is created.                                                                   Component lead\n",
    "  [Unscheduled]{.jira-issue-status-lozenge .aui-lozenge .jira-issue-status-lozenge-blue-gray .jira-issue-status-lozenge-new .jira-issue-status-lozenge-max-width-medium tooltip=\"<span class=\\\"jira-issue-status-tooltip-title\\\">Unscheduled</span><br><span class=\\\"jira-issue-status-tooltip-desc\\\">Ticket has been accepted but has not been scheduled yet.</span>\"}                                                                                                                                                                                                                                                                                                                                                                                                         Ticket has been accepted but has not been scheduled yet.                                                       Developer\n",
    "  [Input Required]{.jira-issue-status-lozenge .aui-lozenge .jira-issue-status-lozenge-blue-gray .jira-issue-status-lozenge-new .jira-issue-status-lozenge-max-width-medium tooltip=\"<span class=\\\"jira-issue-status-tooltip-title\\\">Input Required</span><br><span class=\\\"jira-issue-status-tooltip-desc\\\">Ticket requires additional information.</span>\"}                                                                                                                                                                                                                                                                                                                                                                                                                    Ticket requires additional information.                                                                        Domain expert\n",
    "  [Scheduled]{.jira-issue-status-lozenge .aui-lozenge .jira-issue-status-lozenge-yellow .jira-issue-status-lozenge-indeterminate .jira-issue-status-lozenge-max-width-medium tooltip=\"<span class=\\\"jira-issue-status-tooltip-title\\\">Scheduled</span><br><span class=\\\"jira-issue-status-tooltip-desc\\\">Ticket is investigated, reproduced, fixed, and tested.</span>\"}                                                                                                                                                                                                                                                                                                                                                                                                        Ticket is investigated, reproduced, fixed, and tested.                                                         Developer\n",
    "  [Ready to Verify]{.jira-issue-status-lozenge .aui-lozenge .jira-issue-status-lozenge-yellow .jira-issue-status-lozenge-indeterminate .jira-issue-status-lozenge-max-width-medium tooltip=\"<span class=\\\"jira-issue-status-tooltip-title\\\">Ready to Verify</span><br><span class=\\\"jira-issue-status-tooltip-desc\\\">Ticket requires additional verification besides that executed by the developer while in the Scheduled state.</span>\"}                                                                                                                                                                                                                                                                                                                                      Ticket requires additional verification besides that executed by the developer while in the Scheduled state.   PM / GL\n",
    "  [Under Verification]{.jira-issue-status-lozenge .aui-lozenge .jira-issue-status-lozenge-yellow .jira-issue-status-lozenge-indeterminate .jira-issue-status-lozenge-max-width-medium tooltip=\"<span class=\\\"jira-issue-status-tooltip-title\\\">Under Verification</span><br><span class=\\\"jira-issue-status-tooltip-desc\\\">Additional verification tests are executed and results reported.</span>\"}                                                                                                                                                                                                                                                                                                                                                                            Additional verification tests are executed and results reported.                                               Verification tester\n",
    "  [Ready to Validate]{.jira-issue-status-lozenge .aui-lozenge .jira-issue-status-lozenge-yellow .jira-issue-status-lozenge-indeterminate .jira-issue-status-lozenge-max-width-medium tooltip=\"<span class=\\\"jira-issue-status-tooltip-title\\\">Ready to Validate</span><br><span class=\\\"jira-issue-status-tooltip-desc\\\">Waiting state where ticket is ready to be tested by Validator.</span>\"}                                                                                                                                                                                                                                                                                                                                                                                Waiting state where ticket is ready to be tested by Validator.                                                 Validation lead\n",
    "  [Under Validation]{.jira-issue-status-lozenge .aui-lozenge .jira-issue-status-lozenge-yellow .jira-issue-status-lozenge-indeterminate .jira-issue-status-lozenge-max-width-medium tooltip=\"<span class=\\\"jira-issue-status-tooltip-title\\\">Under Validation</span><br><span class=\\\"jira-issue-status-tooltip-desc\\\">Validation test is performed.</span>\"}                                                                                                                                                                                                                                                                                                                                                                                                                   Validation test is performed.                                                                                  Validation tester\n",
    "  [Resolved]{.jira-issue-status-lozenge .aui-lozenge .jira-issue-status-lozenge-yellow .jira-issue-status-lozenge-indeterminate .jira-issue-status-lozenge-max-width-medium tooltip=\"<span class=\\\"jira-issue-status-tooltip-title\\\">Resolved</span><br><span class=\\\"jira-issue-status-tooltip-desc\\\">Developer performs post-development activities, such as merging to the final branch, etc.</span>\"}                                                                                                                                                                                                                                                                                                                                                                       Developer performs post-development activities, including making a pull-request.                               Developer\n",
    "  [[Completed]{.jira-issue-status-lozenge .aui-lozenge .jira-issue-status-lozenge-yellow .jira-issue-status-lozenge-indeterminate .jira-issue-status-lozenge-max-width-medium tooltip=\"<span class=\\\"jira-issue-status-tooltip-title\\\">Completed</span><br><span class=\\\"jira-issue-status-tooltip-desc\\\">Ticket is ready for delivery but has not yet been delivered.</span>\"}]{.jira-issue-status-lozenge .aui-lozenge .jira-issue-status-lozenge-yellow .jira-issue-status-lozenge-indeterminate .jira-issue-status-lozenge-max-width-medium tooltip=\"<span class=\\\"jira-issue-status-tooltip-title\\\">Resolved</span><br><span class=\\\"jira-issue-status-tooltip-desc\\\">Developer performs post-development activities, such as merging to the final branch, etc.</span>\"}   Ticket is ready for delivery but has not yet been delivered.                                                   Build Team\n",
    "  [Closed]{.jira-issue-status-lozenge .aui-lozenge .jira-issue-status-lozenge-green .jira-issue-status-lozenge-done .jira-issue-status-lozenge-max-width-medium tooltip=\"<span class=\\\"jira-issue-status-tooltip-title\\\">Closed</span><br><span class=\\\"jira-issue-status-tooltip-desc\\\">Final state.  No more work can be done.</span>\"}                                                                                                                                                                                                                                                                                                                                                                                                                                       Final state. No more work can be done.                                                                         None\n",
    "  ----------------------------------------------------------------------------------------------------------------------------------------------------------------------------------------------------------------------------------------------------------------------------------------------------------------------------------------------------------------------------------------------------------------------------------------------------------------------------------------------------------------------------------------------------------------------------------------------------------------------------------------------------------------------------------------------------------------------------------------------------------------------------- -------------------------------------------------------------------------------------------------------------- ---------------------\n",
    "\n",
    "The issue states are described in greater detail in the [DMSD software development processes document](https://staff.nrao.edu/wiki/bin/view/DMS/DMSDevelopmentProcesses).  \n",
    "\n",
    "Under normal conditions an issue cannot be reopened. The reason for this restriction lies in the way that the JIRA issue workflow is integrated with the revision control system (BitBucket). After development activity, an issue is closed when the branch associated with the issue has been merged back into the master branch. Since there is no way to unmerge a branch, there is likewise no way to un-close a ticket. Rather than re-opening a ticket, you must create a new ticket.  In exceptional circumstances (such as human error) a CASA project administrator can reopen a closed ticket.\n",
    "\n",
    "<div class=\"alert alert-info\">\n",
    "**NOTE**:  It is quite easy to link a new ticket to an old, closed ticket.\n",
    "</div>\n",
    "\n",
    " \n",
    "\n"
   ]
  },
  {
   "cell_type": "markdown",
   "metadata": {},
   "source": [
    "## Issue Workflows\n",
    "\n",
    "Each issue type has its own workflow describing the issue states allowed and the allowed transitions between states.  We have attempted, as much as possible, to minimize the number of clicks required to move an issue through the workflow.  The table below describes the workflows for each issue type:\n",
    "\n",
    "<table><colgroup><col style=\"width: 50%\" /><col style=\"width: 50%\" /></colgroup><tbody><tr class=\"odd\"><td><strong>Issue Types</strong></td><td><strong>Workflow Description</strong></td></tr><tr class=\"even\"><td><p><img src=\"docs/_files/casa-development-team/casa-processes/d4564b7aa9ac3a9d85da111eeb7bfadcceed22a8.svg\" title=\"A request to correct a deviation of the system from its specified behavior.\" width=\"16\" height=\"16\" /> Bug</p><p><img src=\"docs/_files/casa-development-team/casa-processes/bca974343cad39d2b8dfb44b5bc93ad86c820430.svg\" title=\"A request to change the current specified behavior.\" width=\"16\" height=\"16\" /> Feature</p><p><img src=\"docs/_files/casa-development-team/casa-processes/4c2e1dc3341ec72ec7fbc7f13803a7bfa7ef236a.svg\" title=\"A large, cross functional work request that requires substantially more coordination than other jobs.\" width=\"16\" height=\"16\" /> Epic</p><p><img src=\"docs/_files/casa-development-team/casa-processes/4c9af52f27a2ca10f008ae0da277b495a0f2dbcd.svg\" width=\"16\" height=\"16\" alt=\"Sub-Task\" /> Sub-Task</p></td><td>The workflows for these issues contain all states described above.</td></tr><tr class=\"odd\"><td><img src=\"docs/_files/casa-development-team/casa-processes/52adf8818d72376ec12c80ded4c7bf1fa0b53a86.svg\" title=\"An internal change request to improve maintainability of the code, perform refactoring activities, clean up, improve documentation, etc.\" width=\"16\" height=\"16\" /> Engineering Task</td><td>Workflow does not contain validation steps.</td></tr><tr class=\"even\"><td><img src=\"docs/_files/casa-development-team/casa-processes/699da208e61b5e89883637b470a8c6b4935eb5fb.svg\" title=\"A request for new capabilities in which either the requestor cannot define the expected result or the developers are unsure about whether the requirement can be implemented.\" width=\"16\" height=\"16\" /> Research Request</td><td>Workflow does not contain verification or validation steps. </td></tr></tbody></table>\n",
    "\n",
    "A graphical rendering of the Bug / Feature / Epic / Sub-Task workflow is shown, below:\n",
    "\n",
    "![](docs/_files/casa-development-team/casa-processes/9e17a552ef5b272a0a8a67dcdcb0a7cac69ec715.png)\n",
    "\n",
    "When viewing a JIRA ticket, a link is available next to the issue status value, \\\"View Workflow\\\". If you click this link you will see a graphical description of the workflow for that issue type. The graphical workflow includes tool-tips that describe each status and transition. For a more detailed discussion of workflows see the [DMSD software development processes document](https://staff.nrao.edu/wiki/bin/view/DMS/DMSDevelopmentProcesses)."
   ]
  }
 ],
 "metadata": {},
 "nbformat": 4,
 "nbformat_minor": 4
}
