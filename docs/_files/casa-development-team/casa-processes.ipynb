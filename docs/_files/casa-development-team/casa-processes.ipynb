{
 "cells": [
  {
   "cell_type": "markdown",
   "metadata": {},
   "source": [
    "# CASA Processes\n",
    "\n",
    "Description of CASA development team processes"
   ]
  },
  {
   "cell_type": "markdown",
   "metadata": {
    "nbsphinx-toctree": {
     "hidden": true
    }
   },
   "source": [
    "[Process Change Control](casa-processes/process-change-control)\n",
    "[Process Quality Assurance](casa-processes/process-quality-assurance)\n",
    "[CASA Roadmap](casa-processes/casa-road-map)\n",
    "[Housekeeping Process](casa-processes/housekeeping-process)\n",
    "[JIRA Work Request Management](casa-processes/jira-issue-process)\n",
    "[Work Request Scheduling](casa-processes/work-planning-and-tracking-process)\n",
    "[Revision Control Using git](casa-processes/version-control-git)\n",
    "[Automated Test Definitions](casa-processes/test-definition-and-processes)\n",
    "[Documentation Verification](casa-processes/documentation-validation-style)\n",
    "[Documentation Validation](casa-processes/documentation-validation-content)\n",
    "[CASA Data Repository](casa-processes/data-repository)\n"
   ]
  }
 ],
 "metadata": {},
 "nbformat": 4,
 "nbformat_minor": 5
}
