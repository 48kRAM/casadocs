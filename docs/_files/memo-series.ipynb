{
 "cells": [
  {
   "cell_type": "markdown",
   "metadata": {},
   "source": [
    "# Memo Series & Knowledgebase"
   ]
  },
  {
   "cell_type": "markdown",
   "metadata": {
    "nbsphinx-toctree": {
     "hidden": true
    }
   },
   "source": [
    "[CASA Memos](memo-series/casa-memos)\n",
    "[CASAcore Memos](memo-series/casacore-notes)\n",
    "[CASA Knowledgebase](memo-series/casa-knowledgebase)\n",
    "[Reference Material](memo-series/reference-material)\n",
    "[Resources and Links](memo-series/resources-and-links)\n"
   ]
  }
 ],
 "metadata": {},
 "nbformat": 4,
 "nbformat_minor": 5
}
