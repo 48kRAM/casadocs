{
 "cells": [
  {
   "cell_type": "markdown",
   "metadata": {},
   "source": [
    "# Parallel Processing\n",
    "\n",
    "An overview of parallel processing with CASA"
   ]
  },
  {
   "cell_type": "markdown",
   "metadata": {
    "nbsphinx-toctree": {
     "hidden": true
    }
   },
   "source": [
    "[Parallelization concept](parallel-processing/the-casa-parallelization-scheme)\n",
    "[Control & Configuration](parallel-processing/parallelization-control)\n",
    "[Parallel Imaging](parallel-processing/parallel-imaging)\n",
    "[The Multi-MS](parallel-processing/the-multi-ms)\n",
    "[Parallel Calibration](parallel-processing/parallel-calibration)\n",
    "[Examples parallelization](parallel-processing/examples-of-running-casa-in-parallel)\n",
    "[Advanced: Interface Framework](parallel-processing/casa-parallelization-interface-mpi4casa)\n",
    "[Tests with Multi-MS](parallel-processing/testing-using-multi-ms)\n"
   ]
  }
 ],
 "metadata": {},
 "nbformat": 4,
 "nbformat_minor": 5
}
