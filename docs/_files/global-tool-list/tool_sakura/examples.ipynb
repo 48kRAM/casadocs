{
 "cells": [
  {
   "cell_type": "markdown",
   "metadata": {},
   "source": [
    "# Examples\n",
    "\n",
    "--CASA Developer--\n",
    "\n",
    "No example is provided since current version of&nbsp;**sakura** tool is\n",
    "not available to users in general. &nbsp;"
   ]
  }
 ],
 "metadata": {},
 "nbformat": 4,
 "nbformat_minor": 5
}
