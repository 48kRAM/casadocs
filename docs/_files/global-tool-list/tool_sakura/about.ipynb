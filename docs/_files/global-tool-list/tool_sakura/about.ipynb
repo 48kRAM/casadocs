{
 "cells": [
  {
   "cell_type": "markdown",
   "metadata": {},
   "source": [
    "# Description\n",
    "\n",
    "tool sakura description\n",
    "\n",
    "--CASA Developer--\n",
    "\n",
    "The **sakura** tool is intended to be an interface to functions that\n",
    "sakura library provide. Since, however, sakura functions are responsible\n",
    "for low level data processing such as interpolation, least-square\n",
    "fitting, etc., they are not exposed to CASA interface in general.\n",
    "Instead, they are used inside other tools such as **singledishms** and\n",
    "**calibrater**. Exceptions are two administrative\n",
    "methods, **initialize_sakura** and **cleanup_sakura**. The sakura\n",
    "library must be initialized before using any available functions. Also,\n",
    "it must be cleaned up finally. As name indicates,\n",
    "**initialize_sakura** and **cleanup_sakura** are responsible for those\n",
    "mandatory steps for sakura library. However, you don't need to worry\n",
    "about initializing and cleaning up sakura library. CASA properly manages\n",
    "sakura library using these methods during its startup and exit.\n",
    "\n",
    "It is *not* recommended\n",
    "that users interact with **sakura** tool explicitly. Manual use of\n",
    "**sakura** tool may cause unexpected error. For this reason, **sakura**\n",
    "tool is not available to the users by default. Users are able to\n",
    "create **sakura** tool by yourself but it is also *not* recommended."
   ]
  }
 ],
 "metadata": {},
 "nbformat": 4,
 "nbformat_minor": 5
}
