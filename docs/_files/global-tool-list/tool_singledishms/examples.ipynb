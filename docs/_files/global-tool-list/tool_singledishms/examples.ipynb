{
 "cells": [
  {
   "cell_type": "markdown",
   "metadata": {},
   "source": [
    "# Examples\n",
    "\n",
    "examples how to use sdms tool functions.\n",
    "\n",
    "If you already have your SD data in MS format, you can operate on that\n",
    "data as follows. Here is an example to fit 3rd order polynomials to\n",
    "spectra stored in the FLOAT_DATA column with *field='M100'* and with\n",
    "*spw=5* and *7*, subtract it, then save&nbsp;the residual\n",
    "spectra&nbsp;into another file:\n",
    "\n",
    "sdms.open('foo.ms')\n",
    "\n",
    "sdms.set_selection(field='M100', spw='5,7')\n",
    "\n",
    "sdms.subtract_baseline(order=3, datacolumn='float_data',\n",
    "outfile='bar.ms')\n",
    "\n",
    "sdms.close()\n",
    "\n",
    "When importing SD data from other data formats than MS, do as follows:\n",
    "\n",
    "sdms.importnro(infile='foo.Y',\n",
    "outfile='bar.ms')&nbsp;&nbsp;&nbsp;&nbsp;&nbsp; \\"
   ]
  },
  {
   "cell_type": "markdown",
   "metadata": {},
   "source": [
    "## import from NOSTAR\n",
    "format\n",
    "\n",
    "&nbsp;or\n",
    "\n",
    "sdms.importasap(infile='foo.asap',\n",
    "outfile='baz.ms')&nbsp; \\"
   ]
  },
  {
   "cell_type": "markdown",
   "metadata": {},
   "source": [
    "## import from Scantable\n",
    "\n",
    "Once you get your data in MS format, you can process it as shown in the\n",
    "code sample at the top of this page."
   ]
  }
 ],
 "metadata": {},
 "nbformat": 4,
 "nbformat_minor": 5
}
