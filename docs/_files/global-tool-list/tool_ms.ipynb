{
 "cells": [
  {
   "cell_type": "markdown",
   "metadata": {},
   "source": [
    "# ms\n",
    "\n",
    "applycal task: Apply calibrations solution(s) to data\n",
    "\n",
    "**test**"
   ]
  },
  {
   "cell_type": "markdown",
   "metadata": {
    "nbsphinx-toctree": {
     "hidden": true
    }
   },
   "source": [
    "[Description](tool_ms/about)\n",
    "[Methods](tool_ms/methods)\n",
    "[Changelog](tool_ms/changelog)\n",
    "[Examples](tool_ms/examples)\n",
    "[Developer](tool_ms/developer)\n",
    "[Planning](tool_ms/planning)\n"
   ]
  }
 ],
 "metadata": {},
 "nbformat": 4,
 "nbformat_minor": 5
}
