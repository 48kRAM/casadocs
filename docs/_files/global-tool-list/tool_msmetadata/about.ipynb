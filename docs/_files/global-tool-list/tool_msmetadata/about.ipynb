{
 "cells": [
  {
   "cell_type": "markdown",
   "metadata": {},
   "source": [
    "# Description\n",
    "\n",
    "tool msmetadata description\n",
    "\n",
    "**msmetadata (msmd)** is a powerful tool that allows\n",
    "users to directly access MeasurementSets. It is not generally used in\n",
    "the data reduction and is recommended for advanced users that want to\n",
    "manipulate MeasurementSet tables. The default global tool is named \n",
    "**msmd**.  \n",
    "\n",
    "\n"
   ]
  },
  {
   "cell_type": "markdown",
   "metadata": {},
   "source": [
    "### Summary of Tool Use \n",
    "\n",
    "The simplest and most common way to\n",
    "attach an msmd tool to a MeasurementSet is to use the **msmd.open()\n",
    "**method which\n",
    "requires that you specify the name of the MeasurementSet table. When one\n",
    "has finished with the tool, the **msmd.close()** or **msmd.done()**\n",
    "method should be called to free up resources that the tool uses when it\n",
    "is attached to an MeasurementSet (MS). **msmd** has several functions,\n",
    "as for example: get the list of spectral windows, antenna numbers, band\n",
    "widths, field names, intents, numer of channels for a given spectral\n",
    "window, phase centers, scan numbers, observing time for a specific scan,\n",
    "and many other functions listed in Methods.  \n",
    "\n",
    "\n",
    "NOTE: Any modifications to an MS while\n",
    "an associated **msmd** tool is open will not be reflected in the\n",
    "**msmd** tool. You must close and reopen the tool if you want to capture\n",
    "changes made to metadata of an MS if such a change occurs."
   ]
  }
 ],
 "metadata": {},
 "nbformat": 4,
 "nbformat_minor": 5
}
