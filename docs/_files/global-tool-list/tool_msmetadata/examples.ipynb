{
 "cells": [
  {
   "cell_type": "markdown",
   "metadata": {},
   "source": [
    "# Examples\n",
    "\n",
    "tool msmetadata examples\n",
    "\n",
    "\\"
   ]
  },
  {
   "cell_type": "markdown",
   "metadata": {},
   "source": [
    "## attach tool to an MS  \n",
    "msmd.open(\"3C273XC1.MS\")  \n",
    "\\"
   ]
  },
  {
   "cell_type": "markdown",
   "metadata": {},
   "source": [
    "## get the number of spectral windows  \n",
    "nspw = msmd.nspw()  \n",
    "\\"
   ]
  },
  {
   "cell_type": "markdown",
   "metadata": {},
   "source": [
    "## free up resources used by the attached tool  \n",
    "msmd.done()\n",
    "\n",
    "We open the tool by querying the MS for its metadata. We then get the\n",
    "number of spectral windows in the dataset and close the tool.\n",
    "\n",
    " \n",
    "\n",
    "\\"
   ]
  },
  {
   "cell_type": "markdown",
   "metadata": {},
   "source": [
    "## attach tool to an MS  \n",
    "msmd.open(\"3C273XC1.MS\")  \n",
    "\\"
   ]
  },
  {
   "cell_type": "markdown",
   "metadata": {},
   "source": [
    "## get the diameter of the antenna named 'VB2'  \n",
    "diameter = msmd.antennadiameter()  \n",
    "\\"
   ]
  },
  {
   "cell_type": "markdown",
   "metadata": {},
   "source": [
    "## free up resources used by the attached tool  \n",
    "msmd.done()\n",
    "\n",
    "We open the tool by querying the MS for its metadata. We then get the\n",
    "diameter of antenna 'VB2' and close the tool.\n",
    "\n",
    " \n",
    "\n",
    "\\"
   ]
  },
  {
   "cell_type": "markdown",
   "metadata": {},
   "source": [
    "## attach tool to an MS  \n",
    "msmd.open(\"3C273XC1.MS\")  \n",
    "\\"
   ]
  },
  {
   "cell_type": "markdown",
   "metadata": {},
   "source": [
    "## get the on-source integration time  \n",
    "exposure_time = msmd.effexposuretime()  \n",
    "\\"
   ]
  },
  {
   "cell_type": "markdown",
   "metadata": {},
   "source": [
    "## free up resources used by the attached tool  \n",
    "msmd.done()\n",
    "\n",
    "We open the tool by querying the MS for its metadata. We then get the\n",
    "on-source integration time and close the tool.\n",
    "\n",
    " \n",
    "\n",
    "\\"
   ]
  },
  {
   "cell_type": "markdown",
   "metadata": {},
   "source": [
    "## attach tool to an MS  \n",
    "msmd.open(\"3C273XC1.MS\")  \n",
    "\\"
   ]
  },
  {
   "cell_type": "markdown",
   "metadata": {},
   "source": [
    "## get the field names in the MS  \n",
    "fieldnames = msmd.fieldnames()  \n",
    "\\"
   ]
  },
  {
   "cell_type": "markdown",
   "metadata": {},
   "source": [
    "## free up resources used by the attached tool  \n",
    "msmd.done()\n",
    "\n",
    "We open the tool by querying the MS for its metadata. We then get the\n",
    "field names fromm the MS and close the tool."
   ]
  }
 ],
 "metadata": {},
 "nbformat": 4,
 "nbformat_minor": 5
}
