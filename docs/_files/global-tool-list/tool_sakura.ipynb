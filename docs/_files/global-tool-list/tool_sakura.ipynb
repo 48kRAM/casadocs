{
 "cells": [
  {
   "cell_type": "markdown",
   "metadata": {},
   "source": [
    "# sakura\n",
    "\n",
    "tool sakura description\n",
    "\n",
    "--CASA Developer--\n",
    "\n",
    "The **sakura** tool is intended to be an interface to functions that\n",
    "sakura library provide. Since, however, sakura functions are responsible\n",
    "for low level data processing such as interpolation, least-square\n",
    "fitting, etc., they are not exposed to CASA interface in general.\n",
    "Instead, they are used inside other tools such as **singledishms** and\n",
    "**calibrater**. Exceptions are two administrative\n",
    "methods,&nbsp;**initialize_sakura** and&nbsp;**cleanup_sakura**. The\n",
    "sakura library must be initialized before using any available functions.\n",
    "Also, it must be cleaned up finally. As name indicates,\n",
    "**initialize_sakura**&nbsp;and **cleanup_sakura** are responsible for\n",
    "those mandatory steps for sakura library. However, you don't need to\n",
    "worry about initializing and cleaning up sakura library. CASA properly\n",
    "manages sakura library using these methods during its startup and exit.\n",
    "\n",
    "It is *not* recommended\n",
    "that users interact with&nbsp;**sakura** tool explicitly. Manual use of\n",
    "**sakura** tool may cause unexpected error.&nbsp;For this\n",
    "reason,&nbsp;**sakura** tool is not available to the users by default.\n",
    "Users are able to create&nbsp;**sakura** tool by yourself but it is also\n",
    "*not* recommended."
   ]
  },
  {
   "cell_type": "markdown",
   "metadata": {
    "nbsphinx-toctree": {
     "hidden": true
    }
   },
   "source": [
    "[Description](tool_sakura/about)\n",
    "[Methods](tool_sakura/methods)\n",
    "[Changelog](tool_sakura/changelog)\n",
    "[Examples](tool_sakura/examples)\n",
    "[Developer](tool_sakura/developer)\n"
   ]
  }
 ],
 "metadata": {},
 "nbformat": 4,
 "nbformat_minor": 5
}
