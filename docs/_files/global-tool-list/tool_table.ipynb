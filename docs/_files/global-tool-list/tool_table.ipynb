{
 "cells": [
  {
   "cell_type": "markdown",
   "metadata": {},
   "source": [
    "# table\n",
    "\n",
    "tool table description\n",
    "\n",
    "table is the tool that contains all the functions relevant for table\n",
    "handling"
   ]
  },
  {
   "cell_type": "markdown",
   "metadata": {
    "nbsphinx-toctree": {
     "hidden": true
    }
   },
   "source": [
    "[Description](tool_table/about)\n",
    "[Methods](tool_table/methods)\n",
    "[Changelog](tool_table/changelog)\n",
    "[Examples](tool_table/examples)\n",
    "[Developer](tool_table/developer)\n",
    "[Planning](tool_table/planning)\n"
   ]
  }
 ],
 "metadata": {},
 "nbformat": 4,
 "nbformat_minor": 5
}
