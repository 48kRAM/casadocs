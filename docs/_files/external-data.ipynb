{
 "cells": [
  {
   "cell_type": "markdown",
   "metadata": {},
   "source": [
    "# External Data\n",
    "\n",
    "This chapter described the various external data that is shipped with\n",
    "CASA and periodically updated."
   ]
  },
  {
   "cell_type": "markdown",
   "metadata": {
    "nbsphinx-toctree": {
     "hidden": true
    }
   },
   "source": [
    "[CASA Data Repository](external-data/casa-data-repository)\n",
    "[The casacore Measures tables](external-data/casacore-measures-tables)\n",
    "[The JPL-Horizons ephemeris tables](external-data/the-jpl-horizons-ephemeris-tables)\n",
    "[Array configuration files](external-data/array-configuration-files)\n"
   ]
  }
 ],
 "metadata": {},
 "nbformat": 4,
 "nbformat_minor": 5
}
