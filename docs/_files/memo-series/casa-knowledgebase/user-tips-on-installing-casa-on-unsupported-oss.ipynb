{
 "cells": [
  {
   "cell_type": "markdown",
   "metadata": {},
   "source": [
    "# User tips on installing CASA on unsupported OSs\n",
    "\n",
    "This document provide tips from users on how to install CASA on\n",
    "unsupported operating systems, like LINUX Ubuntu, Debian, and Fedora.\n",
    "\n",
    "***Disclaimer: the information in this document is\n",
    "provided by users and not verified by the CASA team. The information\n",
    "does not reflect official CASA recommendations and should be used at\n",
    "your own risk. ***\n",
    "\n",
    " \n",
    "\n",
    "CASA\n",
    "officially supports certain versions of LINUX Redhat and Mac OSX. See\n",
    "the [CASA Download page](https://casa.nrao.edu/../casa_obtaining.shtml)\n",
    "for more information.  \n",
    "\n",
    "\n",
    "We realize\n",
    "that many users wish to try and run CASA on different operating systems.\n",
    "Below are some tips from the user community on installing CASA on\n",
    "unsupported platforms. CASA will not run on Windows.\n",
    "\n",
    " \n",
    "\n"
   ]
  },
  {
   "cell_type": "markdown",
   "metadata": {},
   "source": [
    "##### Ubuntu or Debian\n",
    "\n",
    "Please see the following PDF: [Installing\n",
    "CASA on Unbuntu or\n",
    "Debian](https://casa.nrao.edu/casadocs-devel/stable/memo-series/casa-knowledgebase/installing_casa_ubuntu_debian.pdf)\n",
    "\n",
    " \n",
    "\n"
   ]
  },
  {
   "cell_type": "markdown",
   "metadata": {},
   "source": [
    "##### Fedora\n",
    "\n",
    "Fedora 32 may cause CASA to crash on startup with the error *\"code for\n",
    "hash md5 was not found\"*. This is caused by changes to libssl.so in the\n",
    "compat-openssl10 package, which prevents the CASA supplied version of\n",
    "this library from loading. An easy fix is to replace the CASA version of\n",
    "libssl.so.10 with the OS version in /lib64 (i.e., libssl.so.1.0.2o)."
   ]
  }
 ],
 "metadata": {},
 "nbformat": 4,
 "nbformat_minor": 5
}
