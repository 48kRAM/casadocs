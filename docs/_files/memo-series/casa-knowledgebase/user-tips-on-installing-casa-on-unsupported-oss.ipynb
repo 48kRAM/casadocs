{
 "cells": [
  {
   "cell_type": "markdown",
   "metadata": {},
   "source": [
    "# User tips on installing CASA on unsupported OSs {#user-tips-on-installing-casa-on-unsupported-oss .documentFirstHeading}\n",
    "\n",
    "\n",
    "\n",
    "\n",
    "\n",
    "This document provide tips from users on how to install CASA on\n",
    "unsupported operating systems, like LINUX Ubuntu, Debian, and Fedora.\n",
    "\n",
    "\n",
    "\n",
    "\n",
    "\n",
    "\n",
    "\n",
    "\n",
    "***[[Disclaimer: the information in this document is provided by users\n",
    "and not verified by the CASA team. The information does not reflect\n",
    "official CASA recommendations and should be used at your own\n",
    "risk.\n",
    "]{style=\"color: #ff0000;\"}***]{style=\"font-size: 10pt;\"}\n",
    "\n",
    " \n",
    "\n",
    "[CASA officially supports certain versions of LINUX Redhat and Mac OSX.\n",
    "See the [CASA Download\n",
    "page](https://casa.nrao.edu/../casa_obtaining.shtml) for more\n",
    "information.\\\n",
    "]{style=\"color: #808080;\"}\n",
    "\n",
    "[We realize that many users wish to try and run CASA on different\n",
    "operating systems. Below are some tips from the user community on\n",
    "installing CASA on unsupported platforms. CASA will not run on\n",
    "Windows.]{style=\"color: #808080;\"}\n",
    "\n",
    " \n",
    "\n"
   ]
  },
  {
   "cell_type": "markdown",
   "metadata": {},
   "source": [
    "##### Ubuntu or Debian\n",
    "\n",
    "Please see the following PDF: [Installing CASA on Unbuntu or\n",
    "Debian](https://casa.nrao.edu/casadocs-devel/stable/memo-series/casa-knowledgebase/installing_casa_ubuntu_debian.pdf)\n",
    "\n",
    " \n",
    "\n"
   ]
  },
  {
   "cell_type": "markdown",
   "metadata": {},
   "source": [
    "##### Fedora\n",
    "\n",
    "Fedora 32 may cause CASA to crash on startup with the error *\\\"code for\n",
    "hash md5 was not found\\\"*. This is caused by changes to libssl.so in the\n",
    "compat-openssl10 package, which prevents the CASA supplied version of\n",
    "this library from loading. An easy fix is to replace the CASA version of\n",
    "libssl.so.10 with the OS version in /lib64 (i.e., libssl.so.1.0.2o)."
   ]
  }
 ],
 "metadata": {},
 "nbformat": 4,
 "nbformat_minor": 4
}
