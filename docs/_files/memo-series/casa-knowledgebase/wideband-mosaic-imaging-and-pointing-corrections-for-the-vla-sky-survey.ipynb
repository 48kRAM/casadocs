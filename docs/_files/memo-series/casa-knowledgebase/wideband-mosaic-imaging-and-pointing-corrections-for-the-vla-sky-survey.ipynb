{
 "cells": [
  {
   "cell_type": "markdown",
   "metadata": {},
   "source": [
    "# Wideband Mosaic Imaging and Pointing Corrections for the VLA Sky Survey\n",
    "\n",
    "This Knowledgebase article describes testing results for wideband mosaic\n",
    "imaging and pointing corrections for VLASS.\n",
    "\n",
    "The Very Large Array Sky Survey\n",
    "([VLASS](https://science.nrao.edu/vlass)) critically depends on accurate\n",
    "wideband mosaicing algorithms for its single epoch imaging and\n",
    "ultimately cumulative imaging. To a large degree, VLASS requirements\n",
    "have driven CASA’s development of the AW-projection and related\n",
    "algorithms for\n",
    "[widefield](https://casa.nrao.edu/casadocs-devel/stable/imaging/synthesis-imaging/wide-field-imaging-full-primary-beam)\n",
    "and\n",
    "[wideband](https://casa.nrao.edu/casadocs-devel/stable/imaging/synthesis-imaging/wide-band-imaging)\n",
    "imaging in CASA. This Knowledgebase article provides complementary\n",
    "reports on the testing of Wideband Mosaic Imaging and Pointing\n",
    "Corrections for VLASS.\n",
    "\n",
    "[ARDG Test Report: Wideband Mosaic Imaging for\n",
    "VLASS](https://casa.nrao.edu/casadocs-devel/stable/memo-series/casa-knowledgebase/ardg_vlass_imaging_report_sept2018_v2.pdf)\n",
    "\n",
    "[CASA development report: Pointing Corrections for\n",
    "VLASS](https://casa.nrao.edu/casadocs-devel/stable/memo-series/casa-knowledgebase/casa_report_vlass_pointingcorrections_cas-12617_feb2020_v3.pdf)"
   ]
  }
 ],
 "metadata": {},
 "nbformat": 4,
 "nbformat_minor": 5
}
