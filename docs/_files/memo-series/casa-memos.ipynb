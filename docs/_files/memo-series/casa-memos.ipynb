{
 "cells": [
  {
   "cell_type": "markdown",
   "metadata": {},
   "source": [
    "# CASA Memos \n",
    "\n",
    "\n",
    "\n",
    "\n",
    "\n",
    "CASA Memo Series"
   ]
  }
 ],
 "metadata": {},
 "nbformat": 4,
 "nbformat_minor": 4
}
