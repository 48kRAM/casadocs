{
 "cells": [
  {
   "cell_type": "markdown",
   "metadata": {},
   "source": [
    "# Dan Briggs' Dissertation - Robust Weighting\n",
    "\n",
    "Dan Briggs' Dissertation on high fidelity imaging with interferometers,\n",
    "including robust ('Briggs') weighting.\n",
    "\n",
    "Link to [Dan Briggs'\n",
    "Dissertation](http://www.aoc.nrao.edu/dissertations/dbriggs/) ([pdf\n",
    "version](https://casa.nrao.edu/../Documents/Briggs-PhD.pdf))"
   ]
  }
 ],
 "metadata": {},
 "nbformat": 4,
 "nbformat_minor": 5
}
