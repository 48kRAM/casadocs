{
 "cells": [
  {
   "cell_type": "markdown",
   "metadata": {},
   "source": [
    "# Dan Briggs\\' Dissertation - Robust Weighting \n",
    "\n",
    "\n",
    "\n",
    "\n",
    "\n",
    "Dan Briggs\\' Dissertation on high fidelity imaging with interferometers, including robust (\\'Briggs\\') weighting.\n",
    "\n",
    "\n",
    "\n",
    "\n",
    "\n",
    "\n",
    "\n",
    "\n",
    "Link to [Dan Briggs\\' Dissertation](http://www.aoc.nrao.edu/dissertations/dbriggs/) ([pdf version](https://casa.nrao.edu/../Documents/Briggs-PhD.pdf))"
   ]
  }
 ],
 "metadata": {},
 "nbformat": 4,
 "nbformat_minor": 4
}
