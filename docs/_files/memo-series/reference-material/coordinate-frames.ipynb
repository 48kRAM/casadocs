{
 "cells": [
  {
   "cell_type": "markdown",
   "metadata": {},
   "source": [
    "# Coordinate Frames\n",
    "\n",
    "CASA supported spatial coordinate frames\n",
    "\n",
    "CASA supported spatial coordinate frames:\n",
    "\n",
    "  \n",
    "\n",
    "| Name      | Description                                     |\n",
    "|-----------|-------------------------------------------------|\n",
    "| J2000     | mean equator and equinox at J2000.0 (FK5)       |\n",
    "| JNAT      | geocentric natural frame                        |\n",
    "| JMEAN     | mean equator and equinox at frame epoch         |\n",
    "| JTRUE     | true equator and equinox at frame epoch         |\n",
    "| APP       | apparent geocentric position                    |\n",
    "| B1950     | mean epoch and ecliptic at B1950.0.             |\n",
    "| B1950_VLA | mean epoch (1979.9) and ecliptic at B1950.0     |\n",
    "| BMEAN     | mean equator and equinox at frame epoch         |\n",
    "| BTRUE     | true equator and equinox at frame epoch         |\n",
    "| GALACTIC  | Galactic coordinates                            |\n",
    "| HADEC     | topocentric HA and declination                  |\n",
    "| AZEL      | topocentric Azimuth and Elevation (N through E) |\n",
    "| AZELSW    | topocentric Azimuth and Elevation (S through W) |\n",
    "| AZELNE    | topocentric Azimuth and Elevation (N through E) |\n",
    "| AZELGEO   | geodetic Azimuth and Elevation (N through E)    |\n",
    "| AZELSWGEO | geodetic Azimuth and Elevation (S through W)    |\n",
    "| AZELNEGEO | geodetic Azimuth and Elevation (N through E)    |\n",
    "| ECLIPTC   | ecliptic for J2000 equator and equinox          |\n",
    "| MECLIPTIC | ecliptic for mean equator of date               |\n",
    "| TECLIPTIC | ecliptic for true equator of date               |\n",
    "| SUPERGAL  | supergalactic coordinates                       |\n",
    "| ITRF      | coordinates wrt ITRF Earth frame                |\n",
    "| TOPO      | apparent topocentric position                   |\n",
    "| ICRS      | International Celestial reference system        |"
   ]
  }
 ],
 "metadata": {},
 "nbformat": 4,
 "nbformat_minor": 5
}
