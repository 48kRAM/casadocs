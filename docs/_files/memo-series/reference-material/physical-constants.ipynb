{
 "cells": [
  {
   "cell_type": "markdown",
   "metadata": {},
   "source": [
    "# Physical Constants\n",
    "\n",
    "Physical constants recognized by CASA\n",
    "\n",
    "The following physical constants are defined in CASA:\n",
    "\n",
    "&nbsp;\n",
    "\n",
    "| Constant | Name                        | Value                                                                              |\n",
    "|:---------|:----------------------------|:-----------------------------------------------------------------------------------|\n",
    "| pi       | 3.14..                      | 3.14159                                                                            |\n",
    "| ee       | 2.71..                      | 2.71828                                                                            |\n",
    "| c        | speed&nbsp;of light         | 2.99792&times;10<sup>8</sup>&nbsp;m&nbsp;s<sup>&minus;1</sup>                      |\n",
    "| G        | grav. constant              | 6.67259&times;10<sup>11</sup>&nbsp;N&nbsp;m<sup>2</sup>&nbsp;kg<sup>&minus;2</sup> |\n",
    "| h        | Planck constant             | 6.62608&times;10<sup>&minus;34</sup>&nbsp;J&nbsp;s                                 |\n",
    "| HI       | HI line frequency           | 1420.41 MHz                                                                        |\n",
    "| R        | gas constant                | 8.31451 J&nbsp;K<sup>&minus;1</sup>&nbsp;mol<sup>&minus;1</sup>                    |\n",
    "| NA       | Avogadro \\"
   ]
  },
  {
   "cell_type": "markdown",
   "metadata": {},
   "source": [
    "##                 | 6.02214&times;10<sup>23</sup>&nbsp;mol<sup>&minus;1</sup>                          |\n",
    "| e        | electron charge             | 1.60218&times;10<sup>&minus;19</sup>&nbsp;C                                        |\n",
    "| mp       | proton mass                 | 1.67262&times;10<sup>&minus;27</sup>&nbsp; kg                                      |\n",
    "| mp_me    | mp/me                       | 1836.15                                                                            |\n",
    "| mu0      | permeability vac.           | 1.25664&times;10<sup>&minus;6</sup>&nbsp;H&nbsp;m<sup>&minus;1</sup>               |\n",
    "| eps0     | permittivity vac.           | 8.85418782&times;10<sup>&minus;12</sup>&nbsp;F m<sup>-1</sup>                      |\n",
    "| k        | Boltzmann constant          | 1.38066&times;10<sup>&minus;23</sup>&nbsp;J&nbsp;K<sup>&minus;1</sup>              |\n",
    "| F        | Faraday constant            | 96485.3 C&nbsp;mol<sup>&minus;1</sup>                                              |\n",
    "| me       | electron mass               | 9.10939&times;10<sup>&minus;31</sup>&nbsp; kg                                      |\n",
    "| re       | electron radius             | 2.8179e&times;10<sup>&minus;15</sup>&nbsp; m                                       |\n",
    "| a0       | Bohrs radius                | 5.2918&times;10<sup>&minus;11</sup>&nbsp; m                                        |\n",
    "| R0       | solar radius                | 6.9599&times;10<sup>8</sup>&nbsp; m                                                |\n",
    "| k2       | IAU grav. const<sup>2</sup> | 0.000295912 AU<sup>3</sup>&nbsp;d<sup>&minus;2</sup>&nbsp;S0<sup>&minus;1</sup>    |\n",
    "\n",
    "&nbsp;"
   ]
  }
 ],
 "metadata": {},
 "nbformat": 4,
 "nbformat_minor": 5
}
