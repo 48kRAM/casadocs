{
 "cells": [
  {
   "cell_type": "markdown",
   "metadata": {},
   "source": [
    "# Physical Constants\n",
    "\n",
    "Physical constants recognized by CASA\n",
    "\n",
    "The following physical constants are defined in CASA:\n",
    "\n",
    " \n",
    "\n",
    "| Constant | Name                        | Value                                                     |\n",
    "|:---------|:----------------------------|:----------------------------------------------------------|\n",
    "| pi       | 3.14..                      | 3.14159                                                   |\n",
    "| ee       | 2.71..                      | 2.71828                                                   |\n",
    "| c        | speed of light              | 2.99792×10<sup>8</sup> m s<sup>−1</sup>                   |\n",
    "| G        | grav. constant              | 6.67259×10<sup>11</sup> N m<sup>2</sup> kg<sup>−2</sup>   |\n",
    "| h        | Planck constant             | 6.62608×10<sup>−34</sup> J s                              |\n",
    "| HI       | HI line frequency           | 1420.41 MHz                                               |\n",
    "| R        | gas constant                | 8.31451 J K<sup>−1</sup> mol<sup>−1</sup>                 |\n",
    "| NA       | Avogadro \\"
   ]
  },
  {
   "cell_type": "markdown",
   "metadata": {},
   "source": [
    "##                 | 6.02214×10<sup>23</sup> mol<sup>−1</sup>                  |\n",
    "| e        | electron charge             | 1.60218×10<sup>−19</sup> C                                |\n",
    "| mp       | proton mass                 | 1.67262×10<sup>−27</sup>  kg                              |\n",
    "| mp_me    | mp/me                       | 1836.15                                                   |\n",
    "| mu0      | permeability vac.           | 1.25664×10<sup>−6</sup> H m<sup>−1</sup>                  |\n",
    "| eps0     | permittivity vac.           | 8.85418782×10<sup>−12</sup> F m<sup>-1</sup>              |\n",
    "| k        | Boltzmann constant          | 1.38066×10<sup>−23</sup> J K<sup>−1</sup>                 |\n",
    "| F        | Faraday constant            | 96485.3 C mol<sup>−1</sup>                                |\n",
    "| me       | electron mass               | 9.10939×10<sup>−31</sup>  kg                              |\n",
    "| re       | electron radius             | 2.8179e×10<sup>−15</sup>  m                               |\n",
    "| a0       | Bohrs radius                | 5.2918×10<sup>−11</sup>  m                                |\n",
    "| R0       | solar radius                | 6.9599×10<sup>8</sup>  m                                  |\n",
    "| k2       | IAU grav. const<sup>2</sup> | 0.000295912 AU<sup>3</sup> d<sup>−2</sup> S0<sup>−1</sup> |"
   ]
  }
 ],
 "metadata": {},
 "nbformat": 4,
 "nbformat_minor": 5
}
