{
 "cells": [
  {
   "cell_type": "markdown",
   "metadata": {},
   "source": [
    "# CASAcore Memos {#casacore-memos .documentFirstHeading}\n",
    "\n",
    "\n",
    "\n",
    "\n",
    "\n",
    "Implementation Notes from casacore\n",
    "\n",
    "\n",
    "\n",
    "\n",
    "\n",
    "\n",
    "\n",
    "\n",
    "CASA\\'s underlying structure is based on\n",
    "[casacore](http://casacore.github.io/).  The [CASAcore\n",
    "Notes](http://casacore.github.io/casacore-notes/) describe some of the\n",
    "most fundamental properties, such as on the table system, data selection\n",
    "syntax, and data model definitions."
   ]
  }
 ],
 "metadata": {},
 "nbformat": 4,
 "nbformat_minor": 4
}
