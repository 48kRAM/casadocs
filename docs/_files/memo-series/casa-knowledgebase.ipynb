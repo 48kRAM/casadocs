{
 "cells": [
  {
   "cell_type": "markdown",
   "metadata": {},
   "source": [
    "# CASA Knowledgebase\n",
    "\n",
    "The CASA Knowledgebase pages provide bits of wisdom on CASA that should\n",
    "be preserved, and that may be of use to expert users."
   ]
  },
  {
   "cell_type": "markdown",
   "metadata": {
    "nbsphinx-toctree": {
     "hidden": true
    }
   },
   "source": [
    "[Correcting bad common beam](casa-knowledgebase/correcting-bad-common-beam)\n",
    "[ALMA polarization: XY-phase solver avoids +-45 deg solution](casa-knowledgebase/alma-polarization-xy-phase-solver-avoids-45-deg-solution)\n",
    "[User tips on installing CASA on unsupported OSs](casa-knowledgebase/user-tips-on-installing-casa-on-unsupported-oss)\n",
    "[Wideband Mosaic Imaging and Pointing Corrections for the VLA Sky Survey](casa-knowledgebase/wideband-mosaic-imaging-and-pointing-corrections-for-the-vla-sky-survey)\n",
    "[Calculation of Weights for Data with Varying Integration Time](casa-knowledgebase/calculation-of-weights-for-data-with-varying-integration-time)\n",
    "[Bug affecting polarization visibility data in concatenated data](casa-knowledgebase/bug-affecting-polarization-visibility-data-in-concatenated-data)\n"
   ]
  }
 ],
 "metadata": {},
 "nbformat": 4,
 "nbformat_minor": 5
}
