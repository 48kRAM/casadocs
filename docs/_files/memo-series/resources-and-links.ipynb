{
 "cells": [
  {
   "cell_type": "markdown",
   "metadata": {},
   "source": [
    "# Resources and Links \n",
    "\n",
    "\n",
    "\n",
    "\n",
    "\n",
    "Useful supplementary information relevant to CASA\n",
    "\n",
    "\n",
    "\n",
    "\n",
    "\n",
    "\n",
    "\n",
    "\n",
    " \n",
    "\n"
   ]
  },
  {
   "cell_type": "markdown",
   "metadata": {},
   "source": [
    "### Tutorials\n",
    "\n",
    "-   [CASAguides](https://casaguides.nrao.edu/) contains the most comprehensive data reduction tutorials for ALMA (including simulations) and the VLA. Tutorials also exist for other telescopes, such as ATCA, SMA, and CARMA. The [CASAguides](https://casaguides.nrao.edu/) wiki is also a great resource for tips and tricks in using CASA and contains user contributed scripts.\n",
    "\n"
   ]
  },
  {
   "cell_type": "markdown",
   "metadata": {},
   "source": [
    "### Workshops\n",
    "\n",
    "-   [ALMA community days](https://science.nrao.edu/facilities/alma/community1) webpages provide material that was used during workshops\n",
    "-   The [2018 VLA data reduction workshop](http://www.cvent.com/events/16th-synthesis-imaging-workshop/event-summary-b36e4bc16b574d5d94229f9d885d0eff.aspx) contains course material\n",
    "-   Synthesis Imaging in Radio Astronomy II ([pdf book](https://casa.nrao.edu/../Memos/s98book.pdf)) ([chapters](http://www.aspbooks.org/a/volumes/table_of_contents/?book_id=292))\n",
    "\n"
   ]
  },
  {
   "cell_type": "markdown",
   "metadata": {},
   "source": [
    "### Python\n",
    "\n",
    "-   [Python documentation](https://casa.nrao.edu/../python.shtml)\n",
    "\n"
   ]
  },
  {
   "cell_type": "markdown",
   "metadata": {},
   "source": [
    "### Science Data Model\n",
    "\n",
    "-   The SDM description and SDM definition document can be found on [this page](https://casa.nrao.edu/casadocs-devel/stable/casa-fundamentals/the-science-data-model)\n",
    "\n"
   ]
  },
  {
   "cell_type": "markdown",
   "metadata": {},
   "source": [
    "### Dependencies/Libraries\n",
    "\n",
    "-   [CASA package code libraries and dependencies](https://safe.nrao.edu/wiki/bin/view/Software/CASA/CASADevelopmentToolsAndLibraries)\n",
    "\n"
   ]
  },
  {
   "cell_type": "markdown",
   "metadata": {},
   "source": [
    "### Memos\n",
    "\n",
    "-   [ALMA](http://library.nrao.edu/alma.shtml)\n",
    "-   [VLA](http://www.aoc.nrao.edu/evla/memolist.shtml)\n",
    "-   [ngVLA](http://library.nrao.edu/ngvla.shtml)\n",
    "\n"
   ]
  },
  {
   "cell_type": "markdown",
   "metadata": {},
   "source": [
    "### Related Telescopes\n",
    "\n",
    "-   [ALMA](http://www.almascience.org/)\n",
    "-   [VLA](https://public.nrao.edu/telescopes/vla/)\n",
    "-   [Greenbank](https://greenbankobservatory.org/science/)\n",
    "-   [VLBA](https://www.lbo.us/)\n",
    "-   [ATCA](https://www.narrabri.atnf.csiro.au/)\n",
    "-   [GMRT](http://www.ncra.tifr.res.in/ncra/gmrt)\n",
    "-   [Nobeyama](http://www.nro.nao.ac.jp/~nro45mrt/html/index-e.html)\n",
    "-   [SMA](https://www.cfa.harvard.edu/sma/)\n",
    "-   [NOEMA](http://iram-institute.org/EN/noema-project.php)\n",
    "-   [MeerKAT](https://www.ska.ac.za/gallery/meerkat/)\n",
    "-   [Next Generation VLA](http://ngvla.nrao.edu/)\n",
    "-   [Square Kilometre Array](https://www.skatelescope.org/)"
   ]
  }
 ],
 "metadata": {},
 "nbformat": 4,
 "nbformat_minor": 4
}
