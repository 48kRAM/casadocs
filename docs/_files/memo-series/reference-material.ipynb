{
 "cells": [
  {
   "cell_type": "markdown",
   "metadata": {},
   "source": [
    "# Reference Material\n",
    "\n",
    "Collection of relevant reference material"
   ]
  },
  {
   "cell_type": "markdown",
   "metadata": {
    "nbsphinx-toctree": {
     "hidden": true
    }
   },
   "source": [
    "[AIPS-CASA Dictionary](reference-material/aips-casa-dictionary)\n",
    "[MIRIAD-CASA Dictionary](reference-material/miriad-casa)\n",
    "[Dan Briggs' Dissertation - Robust Weighting](reference-material/dan-briggs-dissertation)\n",
    "[Flux Calibrator Models](reference-material/flux-calibrator-models)\n",
    "[Flux Calibrator Models - Data Formats](reference-material/flux-density-calibrator-models-conventions-data-formats)\n",
    "[Spectral Frames](reference-material/spectral-frames)\n",
    "[Time Reference Frames](reference-material/time-reference-frames)\n",
    "[Coordinate Frames](reference-material/coordinate-frames)\n",
    "[Physical Units](reference-material/physical-units)\n",
    "[Physical Constants](reference-material/physical-constants)\n"
   ]
  }
 ],
 "metadata": {},
 "nbformat": 4,
 "nbformat_minor": 5
}
