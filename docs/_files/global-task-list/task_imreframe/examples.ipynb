{
 "cells": [
  {
   "cell_type": "markdown",
   "metadata": {},
   "source": [
    "# Examples\n",
    "\n",
    "task examples\n",
    "\n",
    "To change the spectral reference frame of an image ('linecube.image') to\n",
    "the Local Group reference frame using the rest-frequency values already\n",
    "stored in the original image, and then save the output image into a new\n",
    "image ('linecube_new.image'):\n",
    "\n",
    "imreframe(imagename='linecube.image',\n",
    "output='linecube_new.image' outframe='lgroup')\n",
    "\n",
    "To change the spectral reference frame of an image that contains the\n",
    "NH<sub>3</sub> (1,1) line into the barycentric values,\n",
    "and overwrite the input image:  \n",
    "\n",
    "\n",
    "imreframe(imagename='NH3_cube.image', outframe='bary',\n",
    "restfreq='23.694496GHz')"
   ]
  }
 ],
 "metadata": {},
 "nbformat": 4,
 "nbformat_minor": 5
}
