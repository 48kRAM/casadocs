{
 "cells": [
  {
   "cell_type": "markdown",
   "metadata": {},
   "source": [
    "# Parameters\n",
    "\n",
    "task parameters\n",
    "\n",
    "infile : string\n",
    "\n",
    "Name of input NOSTAR data Default: none\n",
    "\n",
    "Example\n",
    "\n",
    "outputvis : string\n",
    "\n",
    "Root name of the ms to be created. Note the .ms is NOT added Default:\n",
    "none Example: outputvis='myms.ms'\n",
    "\n",
    "Example\n",
    "\n",
    "overwrite : bool = False\n",
    "\n",
    "Over write an existing MS(s) Default: False (do not overwrite) Options:\n",
    "False\\|True\n",
    "\n",
    "Example\n",
    "\n",
    "parallel : bool = False\n",
    "\n",
    "Turn on parallel execution Default: False (serial execution) Options:\n",
    "False\\|True\n",
    "\n",
    "Example"
   ]
  }
 ],
 "metadata": {},
 "nbformat": 4,
 "nbformat_minor": 5
}
