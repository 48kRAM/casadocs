{
 "cells": [
  {
   "cell_type": "markdown",
   "metadata": {},
   "source": [
    "# Examples\n",
    "\n",
    "To import NRO45m OTF data:\n",
    "\n",
    "infile = 'OriKLA.OriKL.20170101235959.32.Y'&nbsp; \\"
   ]
  },
  {
   "cell_type": "markdown",
   "metadata": {},
   "source": [
    "## The NRO45m OTF data\n",
    "obtained using the SAM45 spectrometer has an extention of \"Y\".  \n",
    "outputvis = 'OriKLA.OriKL.20170101235959.32.Y.ms'  \n",
    "importnro(infile = infile, outputvis = outputvis, overwrite = True,\n",
    "parallel = False)\n",
    "\n",
    "&nbsp;\n",
    "\n",
    "&nbsp;"
   ]
  }
 ],
 "metadata": {},
 "nbformat": 4,
 "nbformat_minor": 5
}
