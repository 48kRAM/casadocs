{
 "cells": [
  {
   "cell_type": "markdown",
   "metadata": {},
   "source": [
    "# rerefant\n",
    "\n",
    "task description\n",
    "\n"
   ]
  },
  {
   "cell_type": "markdown",
   "metadata": {},
   "source": [
    "## Summary:\n",
    "\n",
    "The time-dependent phases for a specified caltable are re-referenced to\n",
    "a new antenna by the specified algorithm.\n",
    "\n"
   ]
  },
  {
   "cell_type": "markdown",
   "metadata": {},
   "source": [
    "## Introduction\n",
    "\n",
    "Fundamentally, the baseline visibility phases measured by a synthesis\n",
    "instrument are exclusively differences (between antennas), and so no\n",
    "absolute phase reference exists. Antenna-based calibration solutions\n",
    "thus have phases which are constrained only to satisfy the observed\n",
    "visibility phases; further, each solution in time is formally\n",
    "independent of all others, though stability (or at least continuity) in\n",
    "time is expected. Therefore, to assert phase continuity in time, it is\n",
    "conventional practice to assign a reference antenna whose phase will be\n",
    "held constant at zero in time. Any actual phase variation associated\n",
    "with the reference antenna will be transferred to the phase solutions of\n",
    "all others (consistent with satisfying the visibility phase\n",
    "differences), and if the time sampling is adequate, phase continuity for\n",
    "all antennas&mdash;and thus also for all visibility baselines&mdash;will\n",
    "be assured. Usually, the phase reference antenna is applied on the\n",
    "back-end of the calibration solving task, e.g., **gaincal** or\n",
    "**bandpass**.\n",
    "\n",
    "However, it is sometimes the case that the referencing must be reapplied\n",
    "with a different reference antenna choice, or with a different\n",
    "algorithm, e.g., due to dropouts (from visibility flagging) or other\n",
    "problems in the nominally preferred reference antenna. The **rerefant**\n",
    "task provides a convenient mechanism to achieve this without having to\n",
    "re-run the calibration solving task with only a new *refant* setting.\n",
    "\n"
   ]
  },
  {
   "cell_type": "markdown",
   "metadata": {},
   "source": [
    "## Input/Output parameters\n",
    "\n",
    "An input MS, input caltable, and output caltable are specified in *vis*,\n",
    "*tablein*, and *caltable*, respectively.\n",
    "\n"
   ]
  },
  {
   "cell_type": "markdown",
   "metadata": {},
   "source": [
    "## Reference antenna choice: *refant*\n",
    "\n",
    "Reference antennas are specified using the *refant* parameter. A list of\n",
    "antennas may be specified in decreasing order of preference. (See below\n",
    "for the conditions under which alternate reference antennas are\n",
    "used.)*  \n",
    "*\n",
    "\n",
    "&nbsp;\n",
    "\n"
   ]
  },
  {
   "cell_type": "markdown",
   "metadata": {},
   "source": [
    "## Phase referencing mode: *refantmode*\n",
    "\n",
    "The *refantmode* parameter controls how the refant is applied. Currently\n",
    "available choices are 'flex' and 'strict'.\n",
    "\n"
   ]
  },
  {
   "cell_type": "markdown",
   "metadata": {},
   "source": [
    "#### *refantmode='flex'*\n",
    "\n",
    "If the preferred or current *refant* drops out, switch to another.\n",
    "Alternate reference antennas will be chosen from the *refant* parameter\n",
    "(if a nontrivial list of antennas is specified), or according to\n",
    "proximity to the last-used refant. If and when the preferred refant\n",
    "returns, the referencing will switch back to it. Note that the preferred\n",
    "reference antenna may no longer be at zero at phase with respect to the\n",
    "alternate refant, and so it will return at a new phase value that will\n",
    "be kept constant from that point. Generally, this mode of referencing\n",
    "should ensure continuity at the available phase SNR (signal-to-noise\n",
    "ratio). However, under low SNR conditions, the effective cross-hand\n",
    "phase may not be assured stable at refant changes, since each hand of\n",
    "polarization is referenced independently, and the non-zero noise on the\n",
    "cross-hand phase difference will change. When doing polarimetry (which\n",
    "depends on stable cross-hand phase), it may be preferable to use\n",
    "*refantmode='strict'* (see below).\n",
    "\n"
   ]
  },
  {
   "cell_type": "markdown",
   "metadata": {},
   "source": [
    "#### *refantmode='strict'*\n",
    "\n",
    "If the preferred or current refant is absent for a solution, flag all\n",
    "antennas at that solution. This mode ensures that the effective\n",
    "cross-hand phase will be maintained constant and equal to that of the\n",
    "chosen refant, and not subject to variation due to finite SNR when\n",
    "switching among reference antennas. If a list of antennas is specified\n",
    "in *refant*, only the first is used. Note that *refantmode='strict'* is\n",
    "not reversible, since the reason for flagging solutions is not\n",
    "preserved. Also note that a poor refant choice could lead to excessive\n",
    "data flagging when using this mode.\n",
    "\n",
    "&nbsp;"
   ]
  },
  {
   "cell_type": "markdown",
   "metadata": {
    "nbsphinx-toctree": {
     "hidden": true
    }
   },
   "source": [
    "[Description](task_rerefant/about)\n",
    "[Parameters](task_rerefant/parameters)\n",
    "[Changelog](task_rerefant/changelog)\n",
    "[Examples](task_rerefant/examples)\n",
    "[Developer](task_rerefant/developer)\n"
   ]
  }
 ],
 "metadata": {},
 "nbformat": 4,
 "nbformat_minor": 5
}
