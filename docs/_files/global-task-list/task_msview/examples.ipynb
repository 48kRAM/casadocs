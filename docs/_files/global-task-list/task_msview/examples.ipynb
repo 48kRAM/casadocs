{
 "cells": [
  {
   "cell_type": "markdown",
   "metadata": {},
   "source": [
    "# Examples\n",
    "\n",
    "task examples\n",
    "\n"
   ]
  },
  {
   "cell_type": "markdown",
   "metadata": {},
   "source": [
    "## Display a MeasurementSet as a raster image\n",
    "\n",
    "\\"
   ]
  },
  {
   "cell_type": "markdown",
   "metadata": {},
   "source": [
    "## In CASA  \n",
    "msview(infile='my_MeasurementSet.ms', displaytype='raster')\n",
    "\n",
    "This displays the MeasurementSet as a raster image. Settings (e.g.,\n",
    "axes) can then be manually adjusted using the interactive Viewer Display\n",
    "Panel. If no *infile* is specified, the Load Data window will appear for\n",
    "selecting data.\n",
    "\n",
    "The parameter *displaytype* (optional) gives the method of rendering\n",
    "data visually using one of the following settings: raster (default),\n",
    "contour, vector or marker. You can also set this parameter to 'lel' to\n",
    "provide a [Lattice Expression\n",
    "Language](https://casa.nrao.edu/casadocs-devel/stable/imaging/image-analysis/lattice-expression-language-lel/lattice-expression-language) expression for\n",
    "*infile* (advanced)."
   ]
  }
 ],
 "metadata": {},
 "nbformat": 4,
 "nbformat_minor": 5
}
