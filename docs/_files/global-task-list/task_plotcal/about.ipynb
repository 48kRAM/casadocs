{
 "cells": [
  {
   "cell_type": "markdown",
   "metadata": {},
   "source": [
    "# Description\n",
    "\n",
    "plot calibration solutions\n",
    "\n"
   ]
  },
  {
   "cell_type": "markdown",
   "metadata": {},
   "source": [
    "## Most of the functionality of plotcal is now implemented in plotms. \n",
    "\n",
    "We recommend the use of plotms for\n",
    "plotting calibration tables, except for certain VLBI cases that still\n",
    "need plotcal. Plotcal will be deprecated in the near future.\n",
    "\n",
    "&nbsp;\n",
    "\n",
    "The **plotcal** task is available for examining solutions of all of the\n",
    "basic solvable types.\n",
    "\n",
    "**Alert:** Currently, **plotcal** needs to know the MS from which\n",
    "caltable was derived to get indexing information. It does this using the\n",
    "name stored inside the table, which does not include the full path, but\n",
    "assumes the MS is in the *current working directory*.&nbsp; Thus if you\n",
    "are using a MS in a directory other than the current one, it will not\n",
    "find it. You need to change directories using *cd* in IPython (or\n",
    "*os.chdir()* inside a script) to the MS location.&nbsp; If the MS is not\n",
    "found, **plotcal** wil plot solutions, but ignore any specified\n",
    "selection.&nbsp;\n",
    "\n"
   ]
  },
  {
   "cell_type": "markdown",
   "metadata": {},
   "source": [
    "## Parameter descriptions\n",
    "\n"
   ]
  },
  {
   "cell_type": "markdown",
   "metadata": {},
   "source": [
    "#### *caltable*\n",
    "\n",
    "Specify the name of the calibration table to be plotted as a string in\n",
    "*caltable*.\n",
    "\n",
    "&nbsp;\n",
    "\n"
   ]
  },
  {
   "cell_type": "markdown",
   "metadata": {},
   "source": [
    "#### Axis choices: *xaxis, yaxis*\n",
    "\n",
    "Specify the axes to be plotted in *xaxis* and *yaxis*.&nbsp; The\n",
    "possible choices are listed in the Parameters section.\n",
    "\n",
    "&nbsp;\n",
    "\n"
   ]
  },
  {
   "cell_type": "markdown",
   "metadata": {},
   "source": [
    "#### General selection:&nbsp; *field, spw, antenna, timerange*\n",
    "\n",
    "The **plotcal** task uses the same selection syntax as the solving tasks\n",
    "for these parameters.&nbsp; See\n",
    "[here](https://casa.nrao.edu/casadocs-devel/stable/calibration-and-visibility-data/data-selection-in-a-measurementset)\n",
    "for more information.\n",
    "\n",
    "&nbsp;\n",
    "\n"
   ]
  },
  {
   "cell_type": "markdown",
   "metadata": {},
   "source": [
    "#### Polarization selection: *poln*\n",
    "\n",
    "The *poln* parameter determines what polarization or combination of\n",
    "polarizations is being plotted. Choosing *poln='RL'* plots both R and L\n",
    "polarizations on the same plot. The respective XY options do equivalent\n",
    "things. The *poln='/'* option plots amplitude ratios or phase\n",
    "differences between whatever polarizations are in the MS (R and L or X\n",
    "and Y).\n",
    "\n",
    "&nbsp;\n",
    "\n"
   ]
  },
  {
   "cell_type": "markdown",
   "metadata": {},
   "source": [
    "#### Plot control: *subplot, iteration, overplot, plotrange*\n",
    "\n",
    "The *subplot* parameter is particularly helpful in making multi-panel\n",
    "plots. The format is *subplot=yxn* where *yxn* is an integer with digit\n",
    "*y* representing the number of plots in the y-axis, digit *x* the number\n",
    "of panels along the x-axis, and digit *n* giving the location of the\n",
    "plot in the panel array (where n = 1, ..., xy, in order upper left to\n",
    "right, then down).&nbsp;\n",
    "\n",
    "The *iteration* parameter allows you to select an identifier to iterate\n",
    "over when producing multi-page or multi-panel plots. The choices for\n",
    "*iteration* are: *'antenna', 'time', 'spw', 'field'*. For example, if\n",
    "per-antenna solution plots are desired, use *iteration='antenna'*. You\n",
    "can then use *subplot* to specify the number of plots to appear on each\n",
    "page. In this case, set the n to 1 in *subplot=yxn*. Use the Next button\n",
    "on the **plotcal** window to advance to the next set of plots.&nbsp;\n",
    "Note that *iteration* can take more than one choice (as a single string\n",
    "containing a comma-separated list of the options).&nbsp; When specifying\n",
    "multiple iteration axes, the iteration order will be fixed (independent\n",
    "of the order specified in the iteration string).&nbsp;&nbsp; The\n",
    "iteration order (slowest to fastest) is\n",
    "*iteration='antenna,time,field,spw'*.\n",
    "\n",
    "The *overplot* parameter may be used to plot more than one execution of\n",
    "**plotcal** on the same plot surface.&nbsp; If *overplot=T*, and the\n",
    "specified plot axes are consistent, any existing plot will not be\n",
    "cleared before plotting.&nbsp;&nbsp; It can useful to use the\n",
    "*plotsymbol* parameter to change the plot symbols for different\n",
    "**plotcal** runs using *overplot*, so that the different solutions are\n",
    "distinguishable.\n",
    "\n",
    "The range of the two axes can be specified in the *plotrange* parameter,\n",
    "as a list of real numbers in the following order:&nbsp;\n",
    "\n",
    "plotrange=\\[xmin,xmax,ymin,ymax\\]\n",
    "\n",
    "If the both values for either axis are zeros, the plot range on that\n",
    "axis will be set automatically.\n",
    "\n"
   ]
  },
  {
   "cell_type": "markdown",
   "metadata": {},
   "source": [
    "#### Symbol control:&nbsp; *plotsymbol, plotcolor, markersize, fontsize*\n",
    "\n",
    "Symbol type, color, and size, as well as fontsize for labels can be set\n",
    "with these parameters, which are adopted from the general matplotlib\n",
    "interface.\n",
    "\n"
   ]
  },
  {
   "cell_type": "markdown",
   "metadata": {},
   "source": [
    "#### Plot files:&nbsp; *showgui, figfile*\n",
    "\n",
    "If *showgui=True*, an interactive plot window will be generated to show\n",
    "the plot.&nbsp; If a filename is specified in *figfile,* a plot file\n",
    "will be generated.&nbsp; The format of the plotfile is indicated by a\n",
    "specified suffix on the filename; supported formats include emf, eps,\n",
    "pdf, png, ps, raw, rgba, svg, svgz.\n",
    "\n",
    "&nbsp;\n",
    "\n",
    "&nbsp;"
   ]
  }
 ],
 "metadata": {},
 "nbformat": 4,
 "nbformat_minor": 5
}
