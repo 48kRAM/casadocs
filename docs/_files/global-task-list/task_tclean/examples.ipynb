{
 "cells": [
  {
   "cell_type": "markdown",
   "metadata": {},
   "source": [
    "# Examples\n",
    "\n",
    "task examples\n",
    "\n",
    "The following examples, to be expanded, highlight modes and options that\n",
    "the tclean task supports.  \n",
    "  \n",
    "The examples below are written as scripts that may be copied and pasted\n",
    "to get started with the basic parameters needed for a particular\n",
    "operation. When writing scripts, it is advised that the interactive task\n",
    "interface be used to view lists of sub-parameters that are relevant only\n",
    "to the operations being performed. For example, setting specmode='cube'\n",
    "and running inp() will list parameters that are relevant to spectral\n",
    "coordinate definition, or setting niter to a number greater than zero\n",
    "(niter=100) followed by inp() will list iteration control parameters.  \n",
    "  \n",
    "Note that all runs of tclean need the following parameters: vis,\n",
    "imagename, imsize, and cell.  \n",
    "  \n",
    "By default, tclean will run with niter=0, making the PSF, a primary\n",
    "beam, the initial dirty (or residual) image and a restored version of\n",
    "the image.\n",
    "\n",
    "&nbsp;\n",
    "\n",
    "For examples running tclean on ALMA data, see also the CASA Guide\n",
    "[\"Tclean and\n",
    "ALMA\"](https://casaguides.nrao.edu/index.php?title=TCLEAN_and_ALMA).\n",
    "\n"
   ]
  },
  {
   "cell_type": "markdown",
   "metadata": {},
   "source": [
    "###  Imaging and Deconvolution Iterations\n",
    "\n",
    "&nbsp;\n",
    "\n"
   ]
  },
  {
   "cell_type": "markdown",
   "metadata": {},
   "source": [
    "#### Using Hogbom CLEAN on a single MFS image\n",
    "\n",
    "tclean(vis='test.ms', imagename='try1', imsize=100, cell='10.0arcsec',\n",
    "specmode='mfs',  \n",
    "&nbsp;&nbsp;&nbsp;&nbsp;&nbsp;&nbsp; deconvolver='hogbom',\n",
    "gridder='standard', weighting='natural', niter=100 )\n",
    "\n"
   ]
  },
  {
   "cell_type": "markdown",
   "metadata": {},
   "source": [
    "#### Using Multi-scale CLEAN on a Cube Mosaic image\n",
    "\n",
    "&nbsp;  \n",
    "\n",
    "tclean(vis='test.ms', imagename='try1', imsize=100,\n",
    "cell='10.0arcsec',specmode='cube',\n",
    "\n",
    "&nbsp; &nbsp; &nbsp; &nbsp;nchan=10, start='1.0GHz', width='10MHz',  \n",
    "&nbsp;&nbsp;&nbsp;&nbsp;&nbsp;&nbsp; deconvolver='multiscale',\n",
    "scales=\\[0,3,10,30\\],  \n",
    "&nbsp;&nbsp;&nbsp;&nbsp;&nbsp;&nbsp; gridder='mosaic', pblimit=0.1,  \n",
    "&nbsp;&nbsp;&nbsp;&nbsp;&nbsp;&nbsp; weighting='natural', niter=100 )\n",
    "\n"
   ]
  },
  {
   "cell_type": "markdown",
   "metadata": {},
   "source": [
    "####  Using W-Projection with Multi-Term MFS wideband imaging\n",
    "\n",
    "tclean(vis='test.ms', imagename='try1', imsize=100, cell='10.0arcsec',  \n",
    "&nbsp;&nbsp;&nbsp;&nbsp;&nbsp;&nbsp; deconvolver='mtmfs',\n",
    "reffreq='1.5GHz', nterms=2,  \n",
    "&nbsp; &nbsp; &nbsp; &nbsp;gridder='wproject', wprojplanes=64,  \n",
    "&nbsp; &nbsp; &nbsp; &nbsp;weighting='natural', niter=100 )\n",
    "\n"
   ]
  },
  {
   "cell_type": "markdown",
   "metadata": {},
   "source": [
    "####  Using automasking with any type of image\n",
    "\n",
    "tclean(vis='test.ms', imagename='try1', niter=100, ....,\n",
    "usemask='auto-multithresh')\n",
    "\n",
    "See the&nbsp;[Masks for\n",
    "Deconvolution](https://casa.nrao.edu/casadocs-devel/stable/imaging/synthesis-imaging/masks-for-deconvolution)\n",
    "section of CASAdocs for more information about the auto-multithresh\n",
    "algorithm.\n",
    "\n",
    "&nbsp;\n",
    "\n"
   ]
  },
  {
   "cell_type": "markdown",
   "metadata": {},
   "source": [
    "### Scripting using PySynthesisImager\n",
    "\n",
    "  \n",
    "PySynthesisImager (LINK) is a python application built on top of the\n",
    "synthesis tools (LINK). The operations of the tclean task can be\n",
    "replicated using the following python script. Subsets of the script can\n",
    "thus be chosen, and extra external methods can be inserted in between as\n",
    "desired.&nbsp; After each stage, images are saved on disk. Therefore,\n",
    "any modifications done to the images in between steps will be\n",
    "honored.&nbsp;\n",
    "\n",
    "&nbsp;\n",
    "\n",
    "\\#\\"
   ]
  },
  {
   "cell_type": "markdown",
   "metadata": {},
   "source": [
    "## (1) Import the python application layer  \n",
    "  \n",
    "from imagerhelpers.imager_base import PySynthesisImager  \n",
    "from imagerhelpers.input_parameters import ImagerParameters  \n",
    "  \n",
    "\\#\\"
   ]
  },
  {
   "cell_type": "markdown",
   "metadata": {},
   "source": [
    "## (2) Set up Input Parameters  \n",
    "\\#\\"
   ]
  },
  {
   "cell_type": "markdown",
   "metadata": {},
   "source": [
    "## - List all parameters that you need here  \n",
    "\\#\\"
   ]
  },
  {
   "cell_type": "markdown",
   "metadata": {},
   "source": [
    "## - Defaults will be assumed for unspecified parameters  \n",
    "\\#\\"
   ]
  },
  {
   "cell_type": "markdown",
   "metadata": {},
   "source": [
    "## - Nearly all parameters are identical to that in the task. Please\n",
    "look at the  \n",
    "\\#\\"
   ]
  },
  {
   "cell_type": "markdown",
   "metadata": {},
   "source": [
    "## list of parameters under \\_\\_init\\_\\_ using \" help ImagerParameters\n",
    "\" )  \n",
    "  \n",
    "paramList = ImagerParameters(  \n",
    "msname ='DataTest/point.ms',  \n",
    "field='',  \n",
    "spw='',  \n",
    "imagename='try2',  \n",
    "imsize=100,  \n",
    "cell='10.0arcsec',  \n",
    "specmode='mfs',  \n",
    "gridder='standard',  \n",
    "weighting='briggs',  \n",
    "niter=100,  \n",
    "deconvolver='hogbom'  \n",
    ")  \n",
    "  \n",
    "\\#\\"
   ]
  },
  {
   "cell_type": "markdown",
   "metadata": {},
   "source": [
    "## (3) Construct the PySynthesisImager object, with all input\n",
    "parameters  \n",
    "  \n",
    "imager = PySynthesisImager(params=paramList)  \n",
    "  \n",
    "\\#\\"
   ]
  },
  {
   "cell_type": "markdown",
   "metadata": {},
   "source": [
    "## (4) Initialize various modules.  \n",
    "\\#\\"
   ]
  },
  {
   "cell_type": "markdown",
   "metadata": {},
   "source": [
    "## - Pick only the modules you will need later on. For example, to\n",
    "only make  \n",
    "\\#\\"
   ]
  },
  {
   "cell_type": "markdown",
   "metadata": {},
   "source": [
    "## the PSF, there is no need for the deconvolver or iteration control\n",
    "modules.  \n",
    "  \n",
    "\\#\\"
   ]
  },
  {
   "cell_type": "markdown",
   "metadata": {},
   "source": [
    "## Initialize modules major cycle modules  \n",
    "  \n",
    "imager.initializeImagers()  \n",
    "imager.initializeNormalizers()  \n",
    "imager.setWeighting()  \n",
    "  \n",
    "\\#\\"
   ]
  },
  {
   "cell_type": "markdown",
   "metadata": {},
   "source": [
    "## Init minor cycle modules  \n",
    "  \n",
    "imager.initializeDeconvolvers()  \n",
    "imager.initializeIterationControl()  \n",
    "  \n",
    "\\#\\"
   ]
  },
  {
   "cell_type": "markdown",
   "metadata": {},
   "source": [
    "## (5) Make the initial images  \n",
    "  \n",
    "imager.makePSF()  \n",
    "imager.makePB()  \n",
    "imager.runMajorCycle() \\"
   ]
  },
  {
   "cell_type": "markdown",
   "metadata": {},
   "source": [
    "## Make initial dirty / residual image  \n",
    "  \n",
    "\\#\\"
   ]
  },
  {
   "cell_type": "markdown",
   "metadata": {},
   "source": [
    "## (6) Make the initial clean mask  \n",
    "imager.hasConverged()  \n",
    "imager.updateMask()  \n",
    "  \n",
    "\\#\\"
   ]
  },
  {
   "cell_type": "markdown",
   "metadata": {},
   "source": [
    "## (7) Run the iteration loops  \n",
    "while ( not imager.hasConverged() ):  \n",
    "&nbsp;&nbsp;&nbsp; imager.runMinorCycle()  \n",
    "&nbsp;&nbsp;&nbsp; imager.runMajorCycle()  \n",
    "&nbsp;&nbsp;&nbsp; imager.updateMask()  \n",
    "  \n",
    "\\#\\"
   ]
  },
  {
   "cell_type": "markdown",
   "metadata": {},
   "source": [
    "## (8) Finish up  \n",
    "  \n",
    "retrec=imager.getSummary();  \n",
    "imager.restoreImages()  \n",
    "imager.pbcorImages()  \n",
    "  \n",
    "\\#\\"
   ]
  },
  {
   "cell_type": "markdown",
   "metadata": {},
   "source": [
    "## (9) Close tools.  \n",
    "  \n",
    "imager.deleteTools()\n",
    "\n",
    "&nbsp;  \n",
    "For model prediction (i.e. to only save an input model in preparation\n",
    "for self-calibration, for example), use the following in step (5). The\n",
    "name of the input model is either assumed to be \\<imagename\\>.model (or\n",
    "its multi-term equivalent) or should be specified via the startmodel\n",
    "parameter in step (2).  \n",
    "&nbsp;\n",
    "\n",
    "imager.predictModel()&nbsp;&nbsp;&nbsp;&nbsp;&nbsp; \\"
   ]
  },
  {
   "cell_type": "markdown",
   "metadata": {},
   "source": [
    "## Step (5)\n",
    "\n",
    "  \n",
    "For major cycle parallelization for continuum imaging (specmode='mfs'),\n",
    "replace steps (1) and (3) with the following\n",
    "\n",
    "&nbsp;\n",
    "\n",
    "from imagerhelpers.imager_parallel_continuum import\n",
    "PyParallelContSynthesisImager&nbsp;&nbsp;&nbsp;&nbsp;&nbsp; \\"
   ]
  },
  {
   "cell_type": "markdown",
   "metadata": {},
   "source": [
    "## Step\n",
    "(1)  \n",
    "imager =\n",
    "PyParallelContSynthesisImager(params=paramList)&nbsp;&nbsp;&nbsp;&nbsp;&nbsp;&nbsp;&nbsp;&nbsp;&nbsp;&nbsp;&nbsp;&nbsp;&nbsp;&nbsp;&nbsp;&nbsp;&nbsp;&nbsp;&nbsp;&nbsp;&nbsp;&nbsp;&nbsp;&nbsp;&nbsp;&nbsp;&nbsp;&nbsp;&nbsp;&nbsp;&nbsp;&nbsp;&nbsp;\n",
    "\\"
   ]
  },
  {
   "cell_type": "markdown",
   "metadata": {},
   "source": [
    "## Step (3)  \n",
    "&nbsp;\n",
    "\n",
    "For parallelization of both the major and minor cycles for Cube imaging,\n",
    "replace steps (1) and (3) with the following, and include a virtual\n",
    "concanenation call at the end. (However, note that for parallel Cube\n",
    "imaging, if you would like to replace the minor cycle with your own code\n",
    "(for example), you would have to go one layer deeper. For this, please\n",
    "contact our team for assistance.)\n",
    "\n",
    "&nbsp;\n",
    "\n",
    "  \n",
    "from imagerhelpers.imager_parallel_cube import\n",
    "PyParallelCubeSynthesisImager&nbsp;&nbsp; \\"
   ]
  },
  {
   "cell_type": "markdown",
   "metadata": {},
   "source": [
    "## Step (1)  \n",
    "imager =\n",
    "PyParallelCubeSynthesisImager(params=paramList)&nbsp;&nbsp;&nbsp;&nbsp;&nbsp;&nbsp;&nbsp;&nbsp;&nbsp;&nbsp;&nbsp;&nbsp;&nbsp;&nbsp;&nbsp;&nbsp;&nbsp;&nbsp;&nbsp;&nbsp;&nbsp;&nbsp;&nbsp;&nbsp;\n",
    "\\"
   ]
  },
  {
   "cell_type": "markdown",
   "metadata": {},
   "source": [
    "## Step (3)  \n",
    "imager.concatImages(type='virtualcopy')&nbsp;&nbsp;&nbsp;&nbsp;&nbsp;&nbsp;&nbsp;&nbsp;&nbsp;&nbsp;&nbsp;&nbsp;&nbsp;&nbsp;&nbsp;&nbsp;&nbsp;&nbsp;&nbsp;&nbsp;&nbsp;&nbsp;&nbsp;&nbsp;&nbsp;&nbsp;&nbsp;&nbsp;&nbsp;&nbsp;&nbsp;&nbsp;&nbsp;&nbsp;&nbsp;&nbsp;&nbsp;&nbsp;&nbsp;&nbsp;&nbsp;&nbsp;\n",
    "\\"
   ]
  },
  {
   "cell_type": "markdown",
   "metadata": {},
   "source": [
    "## Step (8)\n",
    "\n",
    "&nbsp;\n",
    "\n"
   ]
  },
  {
   "cell_type": "markdown",
   "metadata": {},
   "source": [
    "### Using tclean&nbsp;with ephemerides tables in CASA format\n",
    "\n",
    "&nbsp;\n",
    "\n",
    "When you have an ephermeris table that covers the whole observation:\n",
    "\n",
    "tclean(vis=\\['MS1.ms', 'MS2.ms', 'MS3.ms', 'MS4.ms',\n",
    "'MS5.ms'\\],selectdata=True,field=\"DES_DEEDEE\",spw=\\['17,19,21,23',\n",
    "'17,19,21,23', '17,19,21,23', '17,19,21,23',\n",
    "'17,19,21,23'\\],intent=\"OBSERVE_TARGET\\#ON_SOURCE\",datacolumn=\"data\",imagename=\"test_track\",imsize=\\[2000,\n",
    "2000\\],cell=\\['0.037arcsec'\\],phasecenter=\"des_deedee_ephem.tab\",stokes=\"I\")\n",
    "\n",
    "You can check whether the ephermeris table is of the format that CASA\n",
    "accepts by using the measures tool me.framecomet function:\n",
    "\n",
    "&nbsp;\n",
    "\n",
    "me.framecomet('des_deedee.tab')\n",
    "\n",
    "If this tool accepts the input without complaint, then the same should\n",
    "work in tclean.  \n",
    "  \n",
    "If the source you are tracking is one of the ten sources for which the\n",
    "CASA measures tool has the ephemerides from the JPL DE200 or DE405, then\n",
    "you can use their names directly:\n",
    "\n",
    "&nbsp;\n",
    "\n",
    "tclean(vis=\\['uid\\_\\_\\_A002_Xbc74ea_X175c.ms',\n",
    "'uid\\_\\_\\_A002_Xbc74ea_X1af4.ms', 'uid\\_\\_\\_A002_Xbc74ea_X1e19.ms',\n",
    "'uid\\_\\_\\_A002_Xbc74ea_X20b7.ms'\\],selectdata=True,field=\"Jupiter\",spw=\\['17,19,21,23',\n",
    "'17,19,21,23', '17,19,21,23',\n",
    "'17,19,21,23'\\],intent=\"OBSERVE_TARGET\\#ON_SOURCE\",datacolumn=\"corrected\",imagename=\"alltogether\",imsize=\\[700,\n",
    "700\\],cell=\\['0.16arcsec'\\],phasecenter=\"JUPITER\",stokes=\"I\")\n",
    "\n",
    "For ALMA data mainly the correlator may have the ephemerides of a moving\n",
    "source already attached to the FIELD tables of the MeasurementSets (as\n",
    "it was used to phase track the source). In such special cases, you can\n",
    "use the keyword \"TRACKFIELD\" in the phasecenter parameter, and then the\n",
    "internal ephemerides will be used to track the source.\n",
    "\n",
    "&nbsp;\n",
    "\n",
    "tclean(vis=\\['MS1.ms', 'MS2.ms', 'MS3.ms', 'MS4.ms',\n",
    "'MS5.ms'\\],selectdata=True,field=\"DES_DEEDEE\",spw=\\['17,19,21,23',\n",
    "'17,19,21,23', '17,19,21,23', '17,19,21,23',\n",
    "'17,19,21,23'\\],intent=\"OBSERVE_TARGET\\#ON_SOURCE\",datacolumn=\"data\",imagename=\"test_track\",imsize=\\[2000,\n",
    "2000\\],cell=\\['0.037arcsec'\\],phasecenter=\"TRACKFIELD\",stokes=\"I\")\n",
    "\n",
    "&nbsp;"
   ]
  }
 ],
 "metadata": {},
 "nbformat": 4,
 "nbformat_minor": 5
}
