{
 "cells": [
  {
   "cell_type": "markdown",
   "metadata": {},
   "source": [
    "# Developer\n",
    "\n",
    "task developer\n",
    "\n",
    "--CASA Developer--\n",
    "\n",
    "task_tclean.py&nbsp; contains only calls to various steps and the\n",
    "controls for different Operating Modes (LINK).&nbsp; No other logic is\n",
    "present in the top level task script.&nbsp;&nbsp;&nbsp; task_tclean.py\n",
    "uses classes defined in refimagerhelper.py ( PySynthesisImager and its\n",
    "parallel derivatives ).\n",
    "\n",
    "&nbsp;\n",
    "\n",
    "Script writers aiming to replicate tclean in an external script and be\n",
    "able to insert their own methods or connect their own modules, will be\n",
    "able to simply copy and paste the task tclean code (the lines\n",
    "containing&nbsp; \" imager.xxxx \" )\n",
    "\n",
    "&nbsp;\n",
    "\n",
    "The tclean task interface is meant to show (and use) subparameters only\n",
    "when their parent options are turned on. This way, at any given time,\n",
    "the only parameters a user should see via inp() are those that are\n",
    "relevant to the current set of algorithm and operational choices.&nbsp;\n",
    "\n",
    "&nbsp;\n",
    "\n",
    "Additional examples to be added to the Examples tab (from testing suite\n",
    "at\n",
    "<https://svn.cv.nrao.edu/svn/casa/branches/release-4_7/gcwrap/python/scripts/tests/test_refimager.py>):\n",
    "\n",
    "Examples are meant to have a consistent set of values for vis,\n",
    "imagename, imsize,cell, with a limited number of parameters per line, to\n",
    "ensure readability. Note that each multiline command has to be edited\n",
    "outside of plone and copied in here, such that the spacing is preserved\n",
    "and the reader can copy/paste at the casa prompt.&nbsp;\n",
    "\n"
   ]
  },
  {
   "cell_type": "markdown",
   "metadata": {},
   "source": [
    "## &nbsp;\n",
    "\n"
   ]
  },
  {
   "cell_type": "markdown",
   "metadata": {},
   "source": [
    "### Make PSF and PB :&nbsp;\n",
    "\n",
    "Make only the PSF, Weight images, and the PB.\n",
    "\n",
    "tclean(vis='test.ms',\n",
    "imagename='try1', imsize=100, cell='10.0arcsec, niter=0  \n",
    "\n",
    "\n"
   ]
  },
  {
   "cell_type": "markdown",
   "metadata": {},
   "source": [
    "### Make a residual/dirty image :\n",
    "\n",
    "example\n",
    "\n",
    "example\n",
    "\n",
    "tclean(vis='test.ms',\n",
    "imagename='try1', imsize=100, cell='10.0arcsec',\n",
    "\n",
    "&nbsp;\n",
    "\n"
   ]
  },
  {
   "cell_type": "markdown",
   "metadata": {},
   "source": [
    "### Model Prediction :\n",
    "\n",
    "example\n",
    "\n",
    "example\n",
    "\n",
    "tclean(vis='test.ms',\n",
    "imagename='try1', imsize=100, cell='10.0arcsec',\n",
    "\n",
    "&nbsp;\n",
    "\n"
   ]
  },
  {
   "cell_type": "markdown",
   "metadata": {},
   "source": [
    "### PB-correction :\n",
    "\n",
    "example\n",
    "\n",
    "example\n",
    "\n",
    "tclean(vis='test.ms',\n",
    "imagename='try1', imsize=100, cell='10.0arcsec',\n",
    "\n",
    "  \n",
    "&nbsp;\n",
    "\n"
   ]
  },
  {
   "cell_type": "markdown",
   "metadata": {},
   "source": [
    "### Restoration :\n",
    "\n",
    "examples\n",
    "\n",
    "example\n",
    "\n",
    "tclean(vis='test.ms',\n",
    "imagename='try1', imsize=100, cell='10.0arcsec',\n",
    "\n",
    "&nbsp;\n",
    "\n"
   ]
  },
  {
   "cell_type": "markdown",
   "metadata": {},
   "source": [
    "### Restarts :&nbsp;\n",
    "\n",
    "&nbsp;( deconv only,&nbsp; autonaming, etc )\n",
    "\n",
    "example\n",
    "\n",
    "tclean(vis='test.ms',\n",
    "imagename='try1', imsize=100, cell='10.0arcsec',\n",
    "\n",
    "&nbsp;\n",
    "\n",
    "&nbsp;\n",
    "\n"
   ]
  },
  {
   "cell_type": "markdown",
   "metadata": {},
   "source": [
    "### Data Selection :&nbsp;\n",
    "\n",
    "one MS, a list of MSs.\n",
    "\n",
    "example\n",
    "\n",
    "tclean(vis='test.ms',\n",
    "imagename='try1', imsize=100, cell='10.0arcsec',\n",
    "\n",
    "&nbsp;\n",
    "\n"
   ]
  },
  {
   "cell_type": "markdown",
   "metadata": {},
   "source": [
    "### Single-Field Image Shapes :\n",
    "\n",
    "&nbsp;Single Field (mfs, cube (basics), phasecenter, stokes planes ? )\n",
    "\n",
    "example\n",
    "\n",
    "tclean(vis='test.ms',\n",
    "imagename='try1', imsize=100, cell='10.0arcsec',\n",
    "\n",
    "&nbsp;\n",
    "\n"
   ]
  },
  {
   "cell_type": "markdown",
   "metadata": {},
   "source": [
    "### Defining Spectral Coordinate Systems :\n",
    "\n",
    "LINK to Synthesis Imaging / Spectral Line Imaging\n",
    "\n",
    "(examples of all the complicated ways you can do this)\n",
    "\n",
    "&nbsp;\n",
    "\n",
    "example\n",
    "\n",
    "tclean(vis='test.ms',\n",
    "imagename='try1', imsize=100, cell='10.0arcsec',\n",
    "\n",
    "     \n",
    "\n"
   ]
  },
  {
   "cell_type": "markdown",
   "metadata": {},
   "source": [
    "### Examples of Multi-Field Imaging :\n",
    "\n",
    "( 2 single, multiterm, mfs and cube, etc )\n",
    "\n",
    "&nbsp;\n",
    "\n",
    "example\n",
    "\n",
    "tclean(vis='test.ms',\n",
    "imagename='try1', imsize=100, cell='10.0arcsec',\n",
    "\n",
    "example\n",
    "\n",
    "tclean(vis='test.ms',\n",
    "imagename='try1', imsize=100, cell='10.0arcsec',\n",
    "\n"
   ]
  },
  {
   "cell_type": "markdown",
   "metadata": {},
   "source": [
    "## &nbsp;\n",
    "\n"
   ]
  },
  {
   "cell_type": "markdown",
   "metadata": {},
   "source": [
    "### Examples of Iteration Control :\n",
    "\n",
    "niter=0,&nbsp; using cycleniter,&nbsp; cyclefactor...\n",
    "\n",
    "example\n",
    "\n",
    "tclean(vis='test.ms',\n",
    "imagename='try1', imsize=100, cell='10.0arcsec',\n",
    "\n",
    "&nbsp;\n",
    "\n"
   ]
  },
  {
   "cell_type": "markdown",
   "metadata": {},
   "source": [
    "### Using a Starting model :\n",
    "\n",
    "single term, multi-term, with restarts, a single-dish model (units,\n",
    "etc).\n",
    "\n",
    "example\n",
    "\n",
    "tclean(vis='test.ms',\n",
    "imagename='try1', imsize=100, cell='10.0arcsec',\n",
    "\n",
    "&nbsp;\n",
    "\n"
   ]
  },
  {
   "cell_type": "markdown",
   "metadata": {},
   "source": [
    "### Saving model visibilities in preparation for self-calibration :\n",
    "\n",
    "use savemodel of various types.\n",
    "\n",
    "example\n",
    "\n",
    "tclean(vis='test.ms',\n",
    "imagename='try1', imsize=100, cell='10.0arcsec',\n",
    "\n",
    "&nbsp;\n",
    "\n"
   ]
  },
  {
   "cell_type": "markdown",
   "metadata": {},
   "source": [
    "### Making masks for deconvolution :\n",
    "\n",
    "LINK to Synthesis Imaging / Masks For Deconvolution\n",
    "\n",
    "making masks....\n",
    "\n",
    "&nbsp;\n",
    "\n",
    "example\n",
    "\n",
    "tclean(vis='test.ms',\n",
    "imagename='try1', imsize=100, cell='10.0arcsec',\n",
    "\n",
    "     \n",
    "\n",
    "example\n",
    "\n",
    "tclean(vis='test.ms',\n",
    "imagename='try1', imsize=100, cell='10.0arcsec',\n",
    "\n"
   ]
  },
  {
   "cell_type": "markdown",
   "metadata": {},
   "source": [
    "### Primary Beam correction :\n",
    "\n",
    "LINK to Synthesis Imaging / Primary Beams\n",
    "\n",
    "single term, wideband (connect to wb)\n",
    "\n",
    "example\n",
    "\n",
    "tclean(vis='test.ms',\n",
    "imagename='try1', imsize=100, cell='10.0arcsec',\n",
    "\n",
    "using vpmanager to set a PB model for tclean\n",
    "\n",
    "example\n",
    "\n",
    "tclean(vis='test.ms',\n",
    "imagename='try1', imsize=100, cell='10.0arcsec',\n",
    "\n",
    "&nbsp;\n",
    "\n"
   ]
  },
  {
   "cell_type": "markdown",
   "metadata": {},
   "source": [
    "### Returned dictionary :\n",
    "\n",
    "example of what is in it...\n",
    "\n",
    "&nbsp;\n",
    "\n",
    "example\n",
    "\n",
    "tclean(vis='test.ms',\n",
    "imagename='try1', imsize=100, cell='10.0arcsec',\n",
    "\n"
   ]
  },
  {
   "cell_type": "markdown",
   "metadata": {},
   "source": [
    "### Examples of Wide-Band Imaging :\n",
    "\n",
    "LINK to Synthesis Imaging / Wide Band Imaging\n",
    "\n",
    "Choose nterms, ref-freq.&nbsp; Re-restore outputs. Apply widebandpbcor\n",
    "\n",
    "example\n",
    "\n",
    "tclean(vis='test.ms',\n",
    "imagename='try1', imsize=100, cell='10.0arcsec',\n",
    "\n",
    "&nbsp;\n",
    "\n"
   ]
  },
  {
   "cell_type": "markdown",
   "metadata": {},
   "source": [
    "### Examples of Mosaicking :\n",
    "\n",
    "LINK to Synthesis Imaging / Mosaicking\n",
    "\n",
    "Setting up mosaic imaging, setup vpmanager to supply external PB.\n",
    "\n",
    "example\n",
    "\n",
    "tclean(vis='test.ms',\n",
    "imagename='try1', imsize=100, cell='10.0arcsec',\n",
    "\n",
    "&nbsp;\n",
    "\n"
   ]
  },
  {
   "cell_type": "markdown",
   "metadata": {},
   "source": [
    "### Examples of Wide-field and Full-Beam Imaging\n",
    "\n",
    "facets, wprojection (and wprojplanes),&nbsp; A-Projection\n",
    "\n",
    "example\n",
    "\n",
    "tclean(vis='test.ms',\n",
    "imagename='try1', imsize=100, cell='10.0arcsec',\n",
    "\n",
    "&nbsp;\n",
    "\n"
   ]
  },
  {
   "cell_type": "markdown",
   "metadata": {},
   "source": [
    "### Parallelization for Continuum/MFS and Cube.\n",
    "\n",
    "blah...\n",
    "\n",
    "example\n",
    "\n",
    "tclean(vis='test.ms',\n",
    "imagename='try1', imsize=100, cell='10.0arcsec',\n",
    "\n"
   ]
  },
  {
   "cell_type": "markdown",
   "metadata": {},
   "source": [
    "## &nbsp;\n",
    "\n"
   ]
  },
  {
   "cell_type": "markdown",
   "metadata": {},
   "source": [
    "### Channel chunking for very large Spectral Cubes :\n",
    "\n",
    "blah...\n",
    "\n",
    "example\n",
    "\n",
    "This box is intended for CASA Inputs. Insert your text here.\n",
    "\n",
    "tclean(vis='test.ms',\n",
    "imagename='try1', imsize=100, cell='10.0arcsec',\n",
    "\n"
   ]
  },
  {
   "cell_type": "markdown",
   "metadata": {},
   "source": [
    "## &nbsp;\n",
    "\n"
   ]
  },
  {
   "cell_type": "markdown",
   "metadata": {},
   "source": [
    "## Changes to tclean\n",
    "\n",
    "10/19/2019:\n",
    "\n",
    "In the MTMFS deconvolver, the expression used to compute D-Chisq can be\n",
    "algebraically reduced. This means that the runtime of the minor cycle\n",
    "has been improved ror deconvolver=&lsquo;MTMFS&rsquo;, particularly for\n",
    "large imsize, niter, and number of scales for multi-scale deconvolution.\n",
    "This [technical\n",
    "memo](https://casa.nrao.edu/casadocs-devel/stable/global-task-list/task_tclean/notes_speedup_tests.pdf)\n",
    "briefly describes the algorithmic changes and provides examples of the\n",
    "speed-up in runtime.\n",
    "\n",
    "&nbsp;\n",
    "\n",
    "&nbsp;\n",
    "\n",
    "&nbsp;\n",
    "\n",
    "&nbsp;"
   ]
  }
 ],
 "metadata": {},
 "nbformat": 4,
 "nbformat_minor": 5
}
