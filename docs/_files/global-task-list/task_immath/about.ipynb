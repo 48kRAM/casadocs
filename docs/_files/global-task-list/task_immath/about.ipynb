{
 "cells": [
  {
   "cell_type": "markdown",
   "metadata": {},
   "source": [
    "# Description\n",
    "\n",
    "immath task: Perform math operations on images\n",
    "\n",
    "This task evaluates mathematical expressions involving existing image\n",
    "files. The results of the calculations are stored in the  designated\n",
    "output file. The available options are 1) specify a mathematical\n",
    "expression directly, 2) use a pre-defined expression for calculation of\n",
    "spectral index image, polarization intensity, or position angle images.\n",
    "Image file names are specified in *imagename*, and by default the\n",
    "variables IM0, IM1, ... are used to represent these files in the\n",
    "expression. For option1 (*mode = 'evalexpr'*) explicit notations of file\n",
    "names in the expression are also supported, in which cases the file\n",
    "names must be enclosed in double quotes (\") and *imagename* is ignored.\n",
    "The image files names may be CASA images or FITS images.\n",
    "\n",
    "NOTE: Index values start at 0; use the **imhead** task to see the range\n",
    "of index values for each axes.\n",
    "\n",
    "If the mask has fewer dimensions than the image and if the shape of the\n",
    "dimensions the mask and image have in common are the same, the mask will\n",
    "automatically have the missing dimensions added so it conforms to the\n",
    "image.\n",
    "\n",
    "For a full description of the allowed syntax and examples, see the LEL\n",
    "pages in the [Image\n",
    "Analysis](https://casa.nrao.edu/casadocs-devel/stable/imaging/image-analysis)\n",
    "chapter.\n",
    "\n",
    "NOTE: where indexing and axis numbering are used in the above functions\n",
    "they are 1-based, ie. numbering starts at 1.\n",
    "\n",
    "If *stretch* is true and if the number of mask dimensions is less than\n",
    "or equal to the number of image dimensions and some axes in the mask are\n",
    "degenerate while the corresponding axes in the image are not, the mask\n",
    "will be stetched in the degenerate axis dimensions. For example, if the\n",
    "input image has shape \\[100, 200, 10\\] and the input mask has shape\n",
    "\\[100, 200, 1\\] and stretch is true, the mask will be stretched along\n",
    "the third dimension to shape \\[100, 200, 10\\]. However if the mask is\n",
    "shape \\[100, 200, 2\\], stretching is not possible and an error will\n",
    "result.\n",
    "\n",
    "**WARNING***:* for a mathematical expression that involves multiple\n",
    "images (e.g., subtracting one image from the other), it is good to\n",
    "realize that the algorithm is pixel-based. This means that it is up to\n",
    "the user to put the images on the same dimensions for all relevant axes\n",
    "(e.g., RA and dec). Where needed, use **imregrid** before using\n",
    "**immath** to ensure the image dimensions on the relevant axes are the\n",
    "same.\n",
    "\n"
   ]
  },
  {
   "cell_type": "markdown",
   "metadata": {},
   "source": [
    "####  \n",
    "\n"
   ]
  },
  {
   "cell_type": "markdown",
   "metadata": {},
   "source": [
    "#### NOTES ON MODES OF OPERATION (\\`MODE’)\n",
    "\n",
    "The supported modes of operation are *mode=‘evalexpr'* (evaluate an LEL\n",
    "expression), *'spix'* (spectral index computation, although see also\n",
    "task **spxfit** for a more robust algorithm), *'pola'* (polarization\n",
    "angle), and *'poli'* (total polarization intensity).\n",
    "\n",
    "Mode *'evalexpr'* supports (mixtures of)\n",
    "images with float, double, complex-float, and complex-double precision\n",
    "pixels (although . Modes *'pola'* and *'poli'* only support images with\n",
    "float precision pixels. Mode *'spix'* only supports images with real\n",
    "valued pixels.\n",
    "\n",
    " \n",
    "\n"
   ]
  },
  {
   "cell_type": "markdown",
   "metadata": {},
   "source": [
    "##### NOTES ON *MODE='POLA'*\n",
    "\n",
    "The *mode='pola'* option creates an image of the polarization angle;\n",
    "\n",
    "$\\theta = {1\\over{2}}\\,tan^{-1}(U/Q)$\n",
    "\n",
    "If *polithresh* is set to a value, e.g. ’30uJy/beam’, a mask (’*mask0*’)\n",
    "is written to the output image and is False for all corresponding linear\n",
    "polarization values below this threshold. This parameter overrides the\n",
    "input parameter *mask*. Default (’’) means use the value given in\n",
    "*mask*, or no masking if that value is empty as well.\n",
    "\n",
    " \n",
    "\n"
   ]
  },
  {
   "cell_type": "markdown",
   "metadata": {},
   "source": [
    "##### NOTES ON *MODE='POLI', MODE='TPOLI', AND MODE='LPOLI'*\n",
    "\n",
    "The *mode='poli'* option creates an image of the total polarized\n",
    "intensity using all of the linear and circular polarizations available\n",
    "in the input image(s);\n",
    "\n",
    "$\\sqrt{( Q^2+ U^2+ V^2)}$.\n",
    "\n",
    "If the input image(s) contains only Q and U, or only V, then just those\n",
    "components contribute to the total polarized intensity. \n",
    "\n",
    "Note that this mode is flexible and will fall back to '*tpoli*' when\n",
    "Stokes V is provided and '*lpoli*' when Stokes V is not available; these\n",
    "modes are described below.\n",
    "\n",
    "The polarized intensity may optionally be debiased (if *sigma* \\> 0).\n",
    "This requires an estimate of the thermal noise level ($\\sigma$). The\n",
    "resulting image will be computed using\n",
    "\n",
    "$\\sqrt{( Q^2 + U^2 + V^2 - \\sigma^2)}$\n",
    "\n",
    "In the output image, pixels for which the expression inside the square\n",
    "root is negative are masked, and their values are set to zero. Note that\n",
    "the **imagepol** tool method **po.totpolint** also performs this\n",
    "computation (in fact it's what immath calls under the hood in this\n",
    "case), with the added feature that an estimate of sigma can be computed\n",
    "on the fly (see the relevant [tool method\n",
    "help](https://casa.nrao.edu/casadocs-devel/stable/global-tool-list) for\n",
    "details).\n",
    "\n",
    "When using a multi-Stokes input image, the modes *'tpoli'* and *'lpoli'*\n",
    "can be used to control which polarizations are used in the calculation:\n",
    "\n",
    "The *mode='tpoli'* option will calculate a total polarization intensity\n",
    "image;\n",
    "\n",
    "$\\sqrt{( Q^2+ U^2+ V^2)}$. \n",
    "\n",
    "The task requires all three Stokes image planes to be present. \n",
    "\n",
    "The *mode='lpoli'* option will calculate a linear polarization intensity\n",
    "image;\n",
    "\n",
    "$\\sqrt{( Q^2+ U^2)}$.\n",
    "\n",
    "Only the Q and U Stokes image planes are required to be present. If\n",
    "Stokes V is present it will be ignored. \n",
    "\n",
    " \n",
    "\n"
   ]
  },
  {
   "cell_type": "markdown",
   "metadata": {},
   "source": [
    "##### NOTES ON *MODE='SPIX'*\n",
    "\n",
    "This mode computes the spectral index\n",
    "using two images of different frequencies. The spectral index is defined\n",
    "as  \n",
    "\n",
    "\n",
    "$\\alpha = ln(I_0/I_1)/ln(\\nu_0/\\nu_1)$\n",
    "\n",
    "where the $I$'s are the pixel values and the\n",
    "$\\nu$'s are\n",
    "the frequencies of the two images.  \n",
    "\n",
    "If exactly\n",
    "two images aren't supplied, an exception will result. This mode is\n",
    "equivalent to specifying *mode='evalexpr'* and *expr='spectralindex(IM0,\n",
    "IM1)'*. Both images must have spectral axes. If both images have\n",
    "multiple channels, they must have the same number of channels. In that\n",
    "case, the pixel values of the i$^{th}$ plane in the output\n",
    "image will be computed using the the i$^{th}$ plane pixel values and the i$^ith$ plane\n",
    "frequencies of the input images. Alternatively, one image can have $n>1$ channels\n",
    "and the other can have a single channel, in which case the output image\n",
    "will have $n$ channels with the i$^{th}$ plane\n",
    "pixel values being the result of the i$^{th}$ plane pixel values and i$^{th}$ plane\n",
    "frequency of the multi-channel image and the pixel values and fequency\n",
    "of the single channel image. If corresponding pixels in the two input\n",
    "images do not have the same sign, the corresponding output pixel will\n",
    "have a value of $nan$.  \n",
    "\n",
    " \n",
    "\n"
   ]
  },
  {
   "cell_type": "markdown",
   "metadata": {},
   "source": [
    "##### NOTES ON *PREC* PARAMETER WITH *MODE='EVALEXPR'* AND *'SPIX'*\n",
    "\n",
    "The prec parameter indicates what the\n",
    "precision of the pixel values of the output image should be. Float is\n",
    "the default. For mode='evalexpr', the domain (real or complex) of the\n",
    "output image pixels is determined from the specified lattice expression.\n",
    "For mode='spix', only real valued images are supported and the output\n",
    "image will also have real valued pixels.\n",
    "\n",
    " \n",
    "\n"
   ]
  },
  {
   "cell_type": "markdown",
   "metadata": {},
   "source": [
    "#### CAUTIONS REGARDING OUTPUT IMAGE METADATA\n",
    "\n",
    "EXCEPT IN THE EXAMPLES GIVEN HERE, THIS APPLICATION MAKES NO ATTEMPT TO\n",
    "DETERMINE WHAT THE CORRECT BRIGHTNESS UNIT OF THE OUTPUT IMAGE SHOULD\n",
    "BE. THIS RESPONSIBILITY LIES SOLELY WITH THE USER. The brightness unit\n",
    "of the output image can be modified using tool method\n",
    "**ia.setbrightnessunit** or task **imhead** with *mode='put'* and\n",
    "*hdkey='bunit'*.\n",
    "\n",
    "Note that when multiple image are used in the expression, there is no\n",
    "strict rule which of those images will be used to create the metadata of\n",
    "the output image, unless imagemd is specified. If *imagemd* is\n",
    "specified, the following rules of metadata copying will be followed:\n",
    "\n",
    "1.  The pixel data type of the image specified by *imagemd* and the\n",
    "    output image must be the same.\n",
    "2.  The metadata copied include\n",
    "    -   the coordinate system - thus, the dimensionality of the output\n",
    "        image must correspond to the coordinate system to be copied\n",
    "    -   the image_info record - which contains information like the\n",
    "        beam(s)\n",
    "    -   the misc_info record - if one exists in the image specified by\n",
    "        *imagemd*\n",
    "    -   the units.\n",
    "3.  If the output image is a spectral index image, the brightness units\n",
    "    are set to the empty string.\n",
    "4.  If the ouptut image is a polarization angle image, the brightness\n",
    "    unit is set to \"deg\" and the stokes coordinate is set to have a\n",
    "    single plane of type of Pangle.\n",
    "\n"
   ]
  },
  {
   "cell_type": "markdown",
   "metadata": {},
   "source": [
    "####  \n",
    "\n"
   ]
  },
  {
   "cell_type": "markdown",
   "metadata": {},
   "source": [
    "#### TEMPORARY IMAGES\n",
    "\n",
    "It is often necessary for this task to create intermediate, temporary\n",
    "disk images. The names of these images start with '\\_immath' and are\n",
    "created in the directory in which the task is run. The task makes\n",
    "reasonable attempts to remove these images before it exits, but there\n",
    "are conceivably instances where the temporary images may not be\n",
    "automatically deleted. If there is no immath instance in progress, it is\n",
    "generally safe to delete these files manually.\n",
    "\n",
    " \n",
    "\n"
   ]
  },
  {
   "cell_type": "markdown",
   "metadata": {},
   "source": [
    "## Task-specific Parameter Summary\n",
    "\n"
   ]
  },
  {
   "cell_type": "markdown",
   "metadata": {},
   "source": [
    "##### *mode*\n",
    "\n",
    "Mode of operation. Supported values are *'evalexpr'* (evaluate an LEL\n",
    "expression), *'spix'* (spectral index computation, although see also\n",
    "task **spxfit** for a more robust algorithm), *'pola'* (polarization\n",
    "angle), and *'poli'* (total polarization intensity).\n",
    "\n"
   ]
  },
  {
   "cell_type": "markdown",
   "metadata": {},
   "source": [
    "##### *expr*\n",
    "\n",
    "Used when *mode='evalexpr'*. LEL expression to compute.\n",
    "\n"
   ]
  },
  {
   "cell_type": "markdown",
   "metadata": {},
   "source": [
    "##### *varnames*\n",
    "\n",
    "List of normally short strings corresponding to the images given in\n",
    "imagename that can alternatively be used for the image names given in\n",
    "expr when *mode='evalexpr'*.\n",
    "\n"
   ]
  },
  {
   "cell_type": "markdown",
   "metadata": {},
   "source": [
    "##### *sigma*\n",
    "\n",
    "Used if *mode = 'poli'*. Standard deviation of noise for debiasing.\n",
    "\n"
   ]
  },
  {
   "cell_type": "markdown",
   "metadata": {},
   "source": [
    "##### *polithresh*\n",
    "\n",
    "Used if *mode = 'pola'*. Threshold in linear polarization intensity\n",
    "image below which to mask pixels.\n",
    "\n"
   ]
  },
  {
   "cell_type": "markdown",
   "metadata": {},
   "source": [
    "##### *imagemd*\n",
    "\n",
    "Name of image from which metadata should be copied to the output image.\n",
    "The input can be either an image listed in the imagename parameter or\n",
    "any other image on disk. Not specifying this parameter may copy header\n",
    "metadata from any of the input images, which one is not guaranteed.\n",
    "\n"
   ]
  },
  {
   "cell_type": "markdown",
   "metadata": {},
   "source": [
    "##### *prec*\n",
    "\n",
    "Specifies what the precision type, float\n",
    "or double (minimum match supported), should be for the output image.\n",
    "Only used if *mode='evalexpr'* or *'spix'*."
   ]
  }
 ],
 "metadata": {},
 "nbformat": 4,
 "nbformat_minor": 5
}
