{
 "cells": [
  {
   "cell_type": "markdown",
   "metadata": {},
   "source": [
    "# Examples\n",
    "\n"
   ]
  },
  {
   "cell_type": "markdown",
   "metadata": {},
   "source": [
    "#### Pre-defined modes:\n",
    "\n",
    "mode='evalexpr'; imagename=\\['image1.im', 'image2.im' \\]  \n",
    "\\"
   ]
  },
  {
   "cell_type": "markdown",
   "metadata": {},
   "source": [
    "## in the parameter **expr**, the value 'IM0' is replaced by\n",
    "'image1.im'  \n",
    "\\"
   ]
  },
  {
   "cell_type": "markdown",
   "metadata": {},
   "source": [
    "## and 'IM1' is replaced with 'image2.im'\n",
    "\n",
    "mode='spix'; imagename=\\['image1.im','image2.im'\\]  \n",
    "\\"
   ]
  },
  {
   "cell_type": "markdown",
   "metadata": {},
   "source": [
    "## will calculate an image of log(S1/S2)/log(f1/f2), where S1 and S2 are\n",
    "fluxes and  \n",
    "\\"
   ]
  },
  {
   "cell_type": "markdown",
   "metadata": {},
   "source": [
    "## f1 and f2 are frequencies\n",
    "\n",
    "mode='pola'; imagename='multistokes.im' (where that image contains both\n",
    "Q and U stokes planes) or imagename=\\['imageQ.im','imageU.im'\\]  \n",
    "\\"
   ]
  },
  {
   "cell_type": "markdown",
   "metadata": {},
   "source": [
    "## will calculate an image of the polarization angle distribution\n",
    "0.5\\*arctan(U/Q),  \n",
    "\\"
   ]
  },
  {
   "cell_type": "markdown",
   "metadata": {},
   "source": [
    "## where imageQ.im and imageU.im are Stokes Q and U images,\n",
    "respectively.\n",
    "\n",
    "mode='poli'; imagename=\\['imageQ.im','imageU.im','imageV.im'\\]  \n",
    "\\"
   ]
  },
  {
   "cell_type": "markdown",
   "metadata": {},
   "source": [
    "## will calculate the total polarization intensity image, where\n",
    "imageQ.im, imageU.im,  \n",
    "\\"
   ]
  },
  {
   "cell_type": "markdown",
   "metadata": {},
   "source": [
    "## imageV.im are Stokes Q, U, and V images, respectively.\n",
    "Alternatively,  \n",
    "mode='poli'; imagename = \\['imageQ.im','imageU.im'\\]  \n",
    "\\"
   ]
  },
  {
   "cell_type": "markdown",
   "metadata": {},
   "source": [
    "## will calculate the linear polarization intensity image.  \n",
    "\\"
   ]
  },
  {
   "cell_type": "markdown",
   "metadata": {},
   "source": [
    "## In the case where imagename is a single multi-stokes image, the total\n",
    "polarization  \n",
    "\\"
   ]
  },
  {
   "cell_type": "markdown",
   "metadata": {},
   "source": [
    "## image will be calculated if all of the Q, U, and V stokes planes are\n",
    "present, and  \n",
    "\\"
   ]
  },
  {
   "cell_type": "markdown",
   "metadata": {},
   "source": [
    "## the linear polarization intensity image will be calculated if the Q\n",
    "and U (but not V) planes  \n",
    "\\"
   ]
  },
  {
   "cell_type": "markdown",
   "metadata": {},
   "source": [
    "## are present.\n",
    "\n"
   ]
  },
  {
   "cell_type": "markdown",
   "metadata": {},
   "source": [
    "#### Examples of expressions in mode='evalexpr':\n",
    "\n",
    "\\#Make an image that is image1.im - image2.im  \n",
    "expr=’ (IM0 - IM1 )’  \n",
    "\\#or with an explicit notation,  \n",
    "expr=’(\"image1.im\" - \"image2.im\")’\n",
    "\n",
    "\\#Double all values in an image.  \n",
    "immath( imagename='myimage.im', expr='IM0\\*2', outfile='double.im' )  \n",
    "\\"
   ]
  },
  {
   "cell_type": "markdown",
   "metadata": {},
   "source": [
    "## or with an explicit notation,  \n",
    "immath( expr='\"myimage.im\"\\*2', outfile='double.im' )\n",
    "\n",
    "\\"
   ]
  },
  {
   "cell_type": "markdown",
   "metadata": {},
   "source": [
    "## Taking the sin of an image and adding it to another  \n",
    "\\"
   ]
  },
  {
   "cell_type": "markdown",
   "metadata": {},
   "source": [
    "## Note that the images need to be the same size  \n",
    "immath(imagename=\\['image1.im', 'image2.im'\\],\n",
    "expr='sin(IM1)+IM0;',outfile='newImage.im')\n",
    "\n",
    "  \n",
    "\\"
   ]
  },
  {
   "cell_type": "markdown",
   "metadata": {},
   "source": [
    "## Adding only the plane associated with the 'V' stokes value and  \n",
    "\\"
   ]
  },
  {
   "cell_type": "markdown",
   "metadata": {},
   "source": [
    "## the 1st channel together in two images  \n",
    "immath(imagename=\\[image1', 'image2'\\],\n",
    "expr='IM0+IM1',chans='1',stokes='V')\n",
    "\n",
    "\\"
   ]
  },
  {
   "cell_type": "markdown",
   "metadata": {},
   "source": [
    "## Selecting a single plane (5th channel), of the 3-D cube and  \n",
    "\\"
   ]
  },
  {
   "cell_type": "markdown",
   "metadata": {},
   "source": [
    "## adding it to the original image. In this example the 2-D plane  \n",
    "\\"
   ]
  },
  {
   "cell_type": "markdown",
   "metadata": {},
   "source": [
    "## gets expanded out and the values are applied to each plane in the  \n",
    "\\"
   ]
  },
  {
   "cell_type": "markdown",
   "metadata": {},
   "source": [
    "## 3-D cube.  \n",
    "default('immath')  \n",
    "imagename='ngc7538.image'  \n",
    "outfile='chanFive.im'  \n",
    "expr='IM0'  \n",
    "chans='5'  \n",
    "go  \n",
    "default('immath')  \n",
    "imagename=\\['ngc7538.image', chanFive.im'\\]  \n",
    "outfile='ngc7538_chanFive.im'  \n",
    "expr='IM0+IM1'  \n",
    "go  \n",
    "  \n",
    "\n",
    "\\"
   ]
  },
  {
   "cell_type": "markdown",
   "metadata": {},
   "source": [
    "## Selecting and saving the inner 3/4 of an image for channels\n",
    "40,42,44  \n",
    "\\"
   ]
  },
  {
   "cell_type": "markdown",
   "metadata": {},
   "source": [
    "## as well as channels less than 10  \n",
    "default('immath')  \n",
    "imagename='my_image.im'  \n",
    "expr='IM0'  \n",
    "box='25,25,123,123'  \n",
    "chans='\\<10;40,42,44'  \n",
    "outfile='my_image_inner.im' )  \n",
    "go  \n",
    "  \n",
    "\n",
    "\\"
   ]
  },
  {
   "cell_type": "markdown",
   "metadata": {},
   "source": [
    "## Dividing an image by another, making sure we aren't dividing by\n",
    "zero  \n",
    "default('immath')  \n",
    "imagename=\\['orion.image', 'my.image'\\]  \n",
    "expr='IM0/iif(IM1==0,1.0,IM1)' \\#note: iif (a, b, c) a is the boolean\n",
    "expression  \n",
    "\\"
   ]
  },
  {
   "cell_type": "markdown",
   "metadata": {},
   "source": [
    "##                                                   b is the value if\n",
    "true  \n",
    "\\"
   ]
  },
  {
   "cell_type": "markdown",
   "metadata": {},
   "source": [
    "##                                                   c is the value if\n",
    "false    \n",
    "outfile='my_orion.image'  \n",
    "go  \n",
    "  \n",
    "\n",
    "\\"
   ]
  },
  {
   "cell_type": "markdown",
   "metadata": {},
   "source": [
    "## Applying a mask to all of the images in the expression  \n",
    "default('immath')  \n",
    "imagename=\\['ngc7538.image','ngc7538_clean.image'\\]  \n",
    "expr='(IM0\\*10)+IM1'  \n",
    "mask='\"ngc7538.mask\"'  \n",
    "outfile='really_noisy_ngc7538.image'  \n",
    "go\n",
    "\n",
    "\\"
   ]
  },
  {
   "cell_type": "markdown",
   "metadata": {},
   "source": [
    "## Applying a pixel mask contained in the image information  \n",
    "default('immath')  \n",
    "imagename='ngc5921.image'  \n",
    "expr='IM0\\*10'  \n",
    "mask='mask(\"ngc5921.mask\")'  \n",
    "outfile='ngc5921.masked.image'  \n",
    "go\n",
    "\n",
    "\\"
   ]
  },
  {
   "cell_type": "markdown",
   "metadata": {},
   "source": [
    "## Creating a total polarization intensity image from an multi-stokes\n",
    "image  \n",
    "\\"
   ]
  },
  {
   "cell_type": "markdown",
   "metadata": {},
   "source": [
    "## containing IQUV.  \n",
    "default('immath')  \n",
    "outfile='pol_intensity'  \n",
    "stokes=''  \n",
    "\\"
   ]
  },
  {
   "cell_type": "markdown",
   "metadata": {},
   "source": [
    "## in imagename, you can also specify a list containing single stokes\n",
    "images  \n",
    "\\"
   ]
  },
  {
   "cell_type": "markdown",
   "metadata": {},
   "source": [
    "## of Q and U (for linear polarization intensity) and V (for total  \n",
    "\\"
   ]
  },
  {
   "cell_type": "markdown",
   "metadata": {},
   "source": [
    "## polarization intensity)  \n",
    "imagename='3C138_pcal'  \n",
    "mode='poli'  \n",
    "go  \n",
    "  \n",
    "\n",
    "  \n",
    "  \n",
    "\\"
   ]
  },
  {
   "cell_type": "markdown",
   "metadata": {},
   "source": [
    "## Creating a polarization position angle image  \n",
    "default('immath')  \n",
    "outfile='pol_angle.im'  \n",
    "mode='pola'  \n",
    "\\"
   ]
  },
  {
   "cell_type": "markdown",
   "metadata": {},
   "source": [
    "## you can also do imagename=\\['Q.im','U.im'\\] for single stokes images,\n",
    "order of  \n",
    "\\"
   ]
  },
  {
   "cell_type": "markdown",
   "metadata": {},
   "source": [
    "## the two Stokes images does not matter  \n",
    "imagename='3C138_pcal' \\"
   ]
  },
  {
   "cell_type": "markdown",
   "metadata": {},
   "source": [
    "## multi-stokes image containing at least Q and U\n",
    "stokes  \n",
    "go\n",
    "\n",
    "\\"
   ]
  },
  {
   "cell_type": "markdown",
   "metadata": {},
   "source": [
    "## same as before but write a mask with values of False for pixels for\n",
    "which the  \n",
    "\\"
   ]
  },
  {
   "cell_type": "markdown",
   "metadata": {},
   "source": [
    "## corresponding linear polarization ( sqrt(Q\\*Q+U\\*U)) is less than 30\n",
    "microJy/beam  \n",
    "polithresh='30uJy/beam'  \n",
    "go  \n",
    "  \n",
    "\n",
    "\\"
   ]
  },
  {
   "cell_type": "markdown",
   "metadata": {},
   "source": [
    "## Creating a spectral index image from the images at two different\n",
    "observing frequencies  \n",
    "default('immath')  \n",
    "outfile='mySource_sp.im'  \n",
    "mode='spix'  \n",
    "imagename=\\['mySource_5GHz.im','mySource_8GHz.im'\\]  \n",
    "go"
   ]
  }
 ],
 "metadata": {},
 "nbformat": 4,
 "nbformat_minor": 5
}
