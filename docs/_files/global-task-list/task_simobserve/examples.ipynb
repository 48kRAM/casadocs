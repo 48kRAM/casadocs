{
 "cells": [
  {
   "cell_type": "markdown",
   "metadata": {},
   "source": [
    "# Examples\n",
    "\n",
    "task examples\n",
    "\n",
    "This example was taken from the simulation CASAguide located\n",
    "[here](https://casaguides.nrao.edu/index.php/Simulation_Guide_Component_Lists_(CASA_5.1)).\n",
    "\n",
    "default(\"simobserve\")  \n",
    "project = \"FITS_list\"  \n",
    "skymodel = \"Gaussian.fits\"  \n",
    "inwidth = \"1GHz\"  \n",
    "complist = 'point.cl'  \n",
    "compwidth = '1GHz'  \n",
    "direction = \"J2000 10h00m00.0s -30d00m00.0s\"  \n",
    "obsmode = \"int\"  \n",
    "antennalist = 'alma.cycle5.1.cfg'  \n",
    "totaltime = \"28800s\"  \n",
    "mapsize = \"10arcsec\"  \n",
    "thermalnoise = ''  \n",
    "simobserve()\n",
    "\n",
    "This example demonstrates the use of the *comp_nchan* parameter to\n",
    "simulate a disk and produce a multi-channel MS (with a flat spectrum).\n",
    "\n",
    "simobserve(project=\"test_project\",  \n",
    "           complist=\"complist.cl\",  \n",
    "           compwidth=\"2000.00MHz\",  \n",
    "           comp_nchan=128,  \n",
    "           integration=\"6.05s\",  \n",
    "           mapsize=\\['11.51arcsec'\\],  \n",
    "           hourangle=\"1.5h\",  \n",
    "           totaltime=\"677.6s\",  \n",
    "           antennalist=\"antennalist.cfg2\",  \n",
    "           sdantlist=\"aca.tp.cfg\",  \n",
    "           thermalnoise=\"\")"
   ]
  }
 ],
 "metadata": {},
 "nbformat": 4,
 "nbformat_minor": 5
}
