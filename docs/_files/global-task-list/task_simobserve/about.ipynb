{
 "cells": [
  {
   "cell_type": "markdown",
   "metadata": {},
   "source": [
    "# Description\n",
    "\n",
    "task description\n",
    "\n"
   ]
  },
  {
   "cell_type": "markdown",
   "metadata": {},
   "source": [
    "## Summary\n",
    "\n",
    "This task simulates interferometric or total power MeasurementSets. The\n",
    "general steps for simulation in CASA are described on the top\n",
    "[Simulation](https://casa.nrao.edu/casadocs-devel/stable/simulation)\n",
    "page. We describe the first two steps in more detail here.\n",
    "\n",
    "1.  Make a model image or componentlist representation of the sky\n",
    "    brightness distribution.\n",
    "2.  Use the **simobserve** task to create a MeasurementSet (uv data).\n",
    "\n"
   ]
  },
  {
   "cell_type": "markdown",
   "metadata": {},
   "source": [
    "### Generating a Model Image\n",
    "\n",
    "A \"model image\" is a CASA image or FITS file that contains a\n",
    "representation of the sky brightness distribution, and it represents the\n",
    "object to be \"observed\" in the simulation. There are several ways to\n",
    "generate a model image.\n",
    "\n"
   ]
  },
  {
   "cell_type": "markdown",
   "metadata": {},
   "source": [
    "##### Starting from an existing FITS image\n",
    "\n",
    "The simplest option is to begin with an existing FITS image. The image\n",
    "can be either a single plane (i.e., one observed frequency channel) or a\n",
    "cube. A common simulation exercise is to begin with a FITS file\n",
    "representing an observation of a target, then scale the spatial axes and\n",
    "the flux to shift the data to what would be observed for a similar\n",
    "target at a different distance. The **simobserve** task has parameters\n",
    "to set the peak flux density, coordinates on the sky, pixel size,\n",
    "frequency of the center channel, and channel width.\n",
    "\n"
   ]
  },
  {
   "cell_type": "markdown",
   "metadata": {},
   "source": [
    "##### Starting from a component list\n",
    "\n",
    "**WARNING**: **simobserve** does not currently handle component lists\n",
    "correctly for single-dish-only simulations. It is advised to convert the\n",
    "component list to an image or FITS file.\n",
    "\n",
    "It may be useful to simulate observations of an idealized model image\n",
    "consisting, for example, of point sources and Gaussians. The CASA\n",
    "component list tool (**cl**) allows the user to specify a set of point\n",
    "sources, Gaussians, disks, and limb-darkened disks. One can then either\n",
    "use that component list directly in&nbsp;**simobserve**, or create a\n",
    "CASA image from the components, or both. Details can be found in\n",
    "<a href=\"http://casaguides.nrao.edu/index.php?title=Simulation_Guide_Component_Lists_%28CASA_4.1%29\" class=\"external text\">this CASA guide</a>.\n",
    "\n"
   ]
  },
  {
   "cell_type": "markdown",
   "metadata": {},
   "source": [
    "##### Starting from a GIF or JPG image\n",
    "\n",
    "A user may wish to convert a GIF or JPG image to a FITS file for\n",
    "simulation in CASA. The image should be converted to a 32-bit FITS image\n",
    "for use with the CASA sim tools. See\n",
    "<a href=\"http://casaguides.nrao.edu/index.php?title=Convert_jpg_to_fits\" class=\"external text\">this page</a>\n",
    "for an example of using gimp to\n",
    "convert a JPG image to a FITS file. Alternatively, you could use\n",
    "ImageMagik from the command line, like so:\n",
    "\n",
    "convert myfile.jpg myfile.fits\n",
    "\n",
    "Then proceed to trim and convert the file in CASA like so:\n",
    "\n",
    "importfits(fitsimage='myfile.fits',imagename='testimage',overwrite=T)  \n",
    "default 'immath'  \n",
    "imagename = 'testimage'  \n",
    "expr = 'IM0'  \n",
    "box = '0,0,299,299'  \n",
    "outfile = 'testimage2'  \n",
    "immath()\n",
    "\n",
    "You can use **imhead** to modify the header parameters of the new image,\n",
    "or you can use the parameters in the **simobserve** task to modify the\n",
    "peak flux density, coordinates on the sky, pixel size, frequency of the\n",
    "center channel, and channel width. See the discussion below.\n",
    "\n",
    "&nbsp;\n",
    "\n"
   ]
  },
  {
   "cell_type": "markdown",
   "metadata": {},
   "source": [
    "### Generating visibilities with **simobserve**\n",
    "\n",
    "The task **simobserve** takes several steps to generate observed\n",
    "visibilities. The major steps are:\n",
    "\n",
    "-   Modify Model: If desired, you can modify the header parameters in\n",
    "    your data model to mimic different observing targets. For example,\n",
    "    if you start with a model of M100 you might wish to scale the axes\n",
    "    to simulate an observation of an M100-like galaxy that is 4X more\n",
    "    distant.\n",
    "-   Set Pointings: If the angular size of your model image is comparable\n",
    "    or larger than the 12-m primary beam, you can simulate observing the\n",
    "    target as a mosaic. In this step, the individual pointings are\n",
    "    determined and saved in a text file. You can also generate such a\n",
    "    text file yourself.\n",
    "-   Generate visibilities: The visibilities are determined based on the\n",
    "    telescope and configuration specified, and the length in time of the\n",
    "    observation.\n",
    "-   Finally, noise can be added to the visibilities. The **simobserve**\n",
    "    task uses the\n",
    "    <a href=\"http://www.mrao.cam.ac.uk/%7Ebn204/alma/atmomodel.html\" class=\"external text\">aatm</a>\n",
    "    atmospheric model (based on Juan Pardo's\n",
    "    <a href=\"http://cab.inta-csic.es/users/jrpardo/class_atm.html\" class=\"external text\">ATM</a>\n",
    "    library) to simulate real observing conditions. It can corrupt the\n",
    "    data with thermal noise and atmospheric attenuation. Corruption with\n",
    "    an atmospheric phase screen, or adding gain fluctuations or drift,\n",
    "    can be added subsequently using the **simulator** tool **sm** as\n",
    "    described in [this CASA\n",
    "    guide.](https://casaguides.nrao.edu/index.php/Corrupt)\n",
    "\n",
    "For details, please see the descriptions of the individual parameters\n",
    "below.\n",
    "\n",
    "**WARNING**: It is currently not possible to generate a MS in a frame\n",
    "other than J2000 e.g., if you set *indirection* to \"ICRS 19h00m00\n",
    "-40d00m00\" it will silently assume that to actually be \"J2000 19h00m00\n",
    "-40d00m00\". The reference frame can be set to ICRS during the imaging or\n",
    "**simanalyze** process.\n",
    "\n",
    "**WARNING**: when using a simulated MS in **tclean**, it should be\n",
    "considered best practice to declare the *phasecenter* parameter using\n",
    "the 'J2000 xx:xx:xx.xxx +xxx.xx.xx.xxx' notation to account for possible\n",
    "rounding errors that can create an offset in the simulated image.\n",
    "\n",
    "**NOTE**: **simobserve** calls **sm.predict** with\n",
    "**sm.setvp**(*dovp=True*). This means that the vpmanager will be\n",
    "queried, and a primary beam pattern will be applied, according to the\n",
    "telescope name. One can set the primary beam for the given telescope\n",
    "using the **vpmanager**. In most circumstances, **simobserve** will use\n",
    "synthesis gridding (image-plane primary beam application), unless 1)\n",
    "there are more than 1 pointing, AND 2) there are more than one antenna\n",
    "diameter in the configuration file. In that case it will\n",
    "**sm.setoptions**(*ftmachine=\"mosaic\"*) which enables heterogenous array\n",
    "simulation for ALMA, ACA, and OVRO telescopes.\n",
    "\n",
    "Treatment of the primary beam depends critically on parameters set in\n",
    "sm.setvp() and sm.setoptions(ftmachine) - see help sm.setvp for details.\n",
    "For componentlists, if sm.setvp() is run prior to predict, then\n",
    "the&nbsp;spectral variation of each component in the componentlist will\n",
    "include&nbsp;the multiplicative term of the beam value for each channel\n",
    "frequency.&nbsp;So a flat spectrum component will show the frequency\n",
    "variation of the beam&nbsp;in the predicted visibilities.\n",
    "\n"
   ]
  },
  {
   "cell_type": "markdown",
   "metadata": {},
   "source": [
    "### Task output\n",
    "\n",
    "&nbsp;Below is a list of the products produced by the **simobserve**\n",
    "task. Not all of these will necessarily be produced, depending on input\n",
    "parameters selected.\n",
    "\n",
    "**NOTE**: To support different runs with different arrays, the names\n",
    "have the configuration name from antenna list appended.\n",
    "\n",
    "-   \\[project\\].\\[cfg\\].skymodel = 4D input sky model image (optionally)\n",
    "    scaled\n",
    "-   \\[project\\].\\[cfg\\].skymodel.flat.regrid.conv = input sky regridded\n",
    "    to match the output image, and convolved with the output clean beam\n",
    "-   \\[project\\].\\[cfg\\].skymodel.png = diagnostic figure of sky model\n",
    "    with pointings\n",
    "-   \\[project\\].\\[cfg\\].ptg.txt = list of mosaic pointings\n",
    "-   \\[project\\].\\[cfg\\].quick.psf = psf calculated from uv coverage\n",
    "-   \\[project\\].\\[cfg\\].ms = noise-free MeasurementSet\n",
    "-   \\[project\\].\\[cfg\\].noisy.ms = corrupted MeasurementSet\n",
    "-   \\[project\\].\\[cfg\\].observe.png = diagnostic figure of uv coverage\n",
    "    and visibilities\n",
    "-   \\[project\\].\\[cfg\\].simobserve.last = saved input parameters for\n",
    "    **simobserve** task\n",
    "\n",
    "&nbsp;\n",
    "\n"
   ]
  },
  {
   "cell_type": "markdown",
   "metadata": {},
   "source": [
    "## Parameter descriptions\n",
    "\n"
   ]
  },
  {
   "cell_type": "markdown",
   "metadata": {},
   "source": [
    "##### *project*\n",
    "\n",
    "The root filename for all output files. This parameter should be set to\n",
    "the same name as used when&nbsp;running **simanalyze** or **simalma**\n",
    "for the directory of results generated.\n",
    "\n"
   ]
  },
  {
   "cell_type": "markdown",
   "metadata": {},
   "source": [
    "##### *skymodel*\n",
    "\n",
    "The input image (used as a model of the sky). **simobserve** uses a CASA\n",
    "or FITS image. If you merely have a grid of numbers, you will need to\n",
    "write them out as FITS or write a CASA script to read them in and use\n",
    "the **ia** tool to create an image and insert the data. **simobserve**\n",
    "does NOT require a coordinate system in the header. If the coordinate\n",
    "information is incomplete, missing, or you would like to override it,\n",
    "set the appropriate \"in\" parameters.\n",
    "\n",
    "**NOTE**: Setting those parameters simply changes the header values,\n",
    "ignoring any values already in the image. No regridding is performed.\n",
    "\n",
    "You can also manipulate an image header manually with the **imhead**\n",
    "task. If you have a proper Coordinate System, **simobserve** will do its\n",
    "best to generate visibilities from that.\n",
    "\n"
   ]
  },
  {
   "cell_type": "markdown",
   "metadata": {},
   "source": [
    "#### *skymodel* expandable parameters\n",
    "\n"
   ]
  },
  {
   "cell_type": "markdown",
   "metadata": {},
   "source": [
    "##### *inbright*\n",
    "\n",
    "Scales the model flux densities by setting the peak brightness of the\n",
    "britest pixel in Jy/pixel, or '' for unchanged.\n",
    "\n",
    "**WARNING**: 'unchanged' will take the numerical values in your image\n",
    "and assume they are in Jy/pixel, even if it says some other unit in the\n",
    "header.\n",
    "\n"
   ]
  },
  {
   "cell_type": "markdown",
   "metadata": {},
   "source": [
    "##### *indirection*\n",
    "\n",
    "The central direction to place the sky model image, or '' to use\n",
    "whatever is in the image already.\n",
    "\n"
   ]
  },
  {
   "cell_type": "markdown",
   "metadata": {},
   "source": [
    "##### *incell*\n",
    "\n",
    "The spatial pixel size to scale the skymodel image, or '' to use\n",
    "whatever is in the image already.\n",
    "\n"
   ]
  },
  {
   "cell_type": "markdown",
   "metadata": {},
   "source": [
    "##### *incenter*\n",
    "\n",
    "The frequency to use for the center channel (or only channel, if the\n",
    "skymodel is 2D). Examples: *incenter='89GHz'*, or '' to use what is in\n",
    "the header.\n",
    "\n"
   ]
  },
  {
   "cell_type": "markdown",
   "metadata": {},
   "source": [
    "##### *inwidth*\n",
    "\n",
    "The width of the channels to use, or '' to use what is in the image\n",
    "should be a string representing a quantity with units. Examples:\n",
    "*inwidth='10MHz'*\n",
    "\n",
    "**NOTE**: *inwidth* only works reliably with frequencies, not\n",
    "velocities.\n",
    "\n",
    "**NOTE** **2**: It is not possible to change the number of spectral\n",
    "planes of the sky model, only to relabel them with different\n",
    "frequencies. That kind of regridding can be accomplished with the CASA\n",
    "toolkit.\n",
    "\n"
   ]
  },
  {
   "cell_type": "markdown",
   "metadata": {},
   "source": [
    "##### &nbsp;\n",
    "\n"
   ]
  },
  {
   "cell_type": "markdown",
   "metadata": {},
   "source": [
    "##### *complist*\n",
    "\n",
    "A component list model of the sky, added to or instead of *skymodel*.\n",
    "\n",
    "**WARNING**: **simobserve** does not currently handle component lists\n",
    "correctly for single-dish-only simulations. It is advised to convert the\n",
    "component list to an image or FITS file.\n",
    "\n"
   ]
  },
  {
   "cell_type": "markdown",
   "metadata": {},
   "source": [
    "#### complist expandable parameters\n",
    "\n"
   ]
  },
  {
   "cell_type": "markdown",
   "metadata": {},
   "source": [
    "##### *compwidth*\n",
    "\n",
    "The bandwidth of components; if simulating from components only, this\n",
    "defines the bandwidth of the MS and output images.\n",
    "\n"
   ]
  },
  {
   "cell_type": "markdown",
   "metadata": {},
   "source": [
    "##### *comp_nchan*\n",
    "\n",
    "The number of channels in the output MS.&nbsp;Validated only for a\n",
    "positive integer number of channels, this parameter assumes a flat\n",
    "spectrum and equal spacing when setting the channel width in the output\n",
    "MS. Since variation in channel width as a function of frequency is not\n",
    "currently supported, it is not advised to use this parameter to simulate\n",
    "observations with spectral index or large fractional bandwidth (use a\n",
    "skymodel image instead).\n",
    "\n",
    "&nbsp;\n",
    "\n"
   ]
  },
  {
   "cell_type": "markdown",
   "metadata": {},
   "source": [
    "##### *setpointings*\n",
    "\n",
    "If True, **simobserve** calculates a map of pointings based on a set of\n",
    "sub-parameters and generates a pointing file. If False, it will read the\n",
    "pointings from the parameter *ptgfile*.\n",
    "\n"
   ]
  },
  {
   "cell_type": "markdown",
   "metadata": {},
   "source": [
    "#### *setpointings=True* expandable parameters\n",
    "\n"
   ]
  },
  {
   "cell_type": "markdown",
   "metadata": {},
   "source": [
    "##### *integration*\n",
    "\n",
    "Sets the time interval for each integration. Also used with\n",
    "*setpointings=False*. Examples: *integration='10s'*\n",
    "\n",
    "**NOTE**: To simulate a 'scan' longer than one integration, use\n",
    "*setpointings* to generate a pointing file, and then edit the file to\n",
    "increase the time at each point to be larger than the parameter\n",
    "integration time.\n",
    "\n"
   ]
  },
  {
   "cell_type": "markdown",
   "metadata": {},
   "source": [
    "##### *direction*\n",
    "\n",
    "The mosaic center direction. If left unset, **simobserve** will use the\n",
    "center of the skymodel image. Examples: *direction= 'J2000 19h00m00\n",
    "-40d00m00';* can optionally be a list of pointings, otherwise\n",
    "**simobserve** will cover a region of size *mapsize* according to\n",
    "*maptype*.\n",
    "\n"
   ]
  },
  {
   "cell_type": "markdown",
   "metadata": {},
   "source": [
    "##### *mapsize*\n",
    "\n",
    "The angular size of mosaic map to simulate. Set to '' to cover the model\n",
    "image.\n",
    "\n"
   ]
  },
  {
   "cell_type": "markdown",
   "metadata": {},
   "source": [
    "##### *maptype*\n",
    "\n",
    "How to calculate the pointings for the mosaic observation. 'hexagonal',\n",
    "'square' (rectangular raster), 'ALMA' for the same hex algorithm as the\n",
    "ALMA Cycle 1 OT or 'ALMA2012' for the algorithm used in the Cycle 0 OT.\n",
    "\n"
   ]
  },
  {
   "cell_type": "markdown",
   "metadata": {},
   "source": [
    "##### *pointingspacing*\n",
    "\n",
    "Spacing in between primary beams. \"0.25PB\" to use 1/4 of the primary\n",
    "beam FWHM, \"nyquist\" will use $\\lambda/d/2$, '' will use $\\lambda/d/\\sqrt(3)$ for INT, $\\lambda/d/3$ for\n",
    "SD.\n",
    "\n"
   ]
  },
  {
   "cell_type": "markdown",
   "metadata": {},
   "source": [
    "#### *setpointings=False* expandable parameters\n",
    "\n"
   ]
  },
  {
   "cell_type": "markdown",
   "metadata": {},
   "source": [
    "##### *ptgfile*\n",
    "\n",
    "A text file specifying directions in the following format, with optional\n",
    "integration times, e.g.,\n",
    "\n",
    "    #Epoch     RA          DEC      TIME(optional)\n",
    "    J2000 23h59m28.10 -019d52m12.35 10.0\n",
    "\n",
    "If the time column is not present in the file, it will use 'integration'\n",
    "for all pointings.\n",
    "\n",
    "**NOTE**: At this time the file should contain only science pointings:\n",
    "**simobserve** will observe these, then optionally the calibrator, then\n",
    "the list of science pointings again, etc, until totaltime is used up.\n",
    "\n",
    "&nbsp;\n",
    "\n"
   ]
  },
  {
   "cell_type": "markdown",
   "metadata": {},
   "source": [
    "##### *obsmode*\n",
    "\n",
    "Sets the observation mode to calculate visibilities from a skymodel\n",
    "image (which may have been modified above), an optional component list,\n",
    "and a pointing file (which also may have been generated above). This\n",
    "parameter takes two possible values:\n",
    "\n",
    "-   interferometer (or int)\n",
    "-   singledish (or sd)\n",
    "\n",
    "If simulating from a component list, you should specify *compwidth*, the\n",
    "desired bandwidth. There is not currently a way to specify the spectrum\n",
    "of a component, so simulations from a componentlist only will be\n",
    "continuum (1 chan).\n",
    "\n"
   ]
  },
  {
   "cell_type": "markdown",
   "metadata": {},
   "source": [
    "#### *obsmode* expandable parameters ('int' or 'sd')\n",
    "\n"
   ]
  },
  {
   "cell_type": "markdown",
   "metadata": {},
   "source": [
    "##### *refdate*\n",
    "\n",
    "The date of simulated observation. Examples: *refdate='2014/05/21'*\n",
    "\n"
   ]
  },
  {
   "cell_type": "markdown",
   "metadata": {},
   "source": [
    "##### *hourangle*\n",
    "\n",
    "The hour angle of observation, given as a string of various possible\n",
    "formats. E.g.,&nbsp;\"-3:00:00\", or \"5h\". The default setting for this\n",
    "parameter is *hourangle='transit'*, which is equivalent to 0h.\n",
    "\n"
   ]
  },
  {
   "cell_type": "markdown",
   "metadata": {},
   "source": [
    "##### *totaltime*\n",
    "\n",
    "The total time of an observation. Examples: *totaltime='7200s'* or if a\n",
    "number without units, interpreted as the number of times to repeat the\n",
    "mosaic.\n",
    "\n"
   ]
  },
  {
   "cell_type": "markdown",
   "metadata": {},
   "source": [
    "#### *obsmode='int' expandable parameters*\n",
    "\n"
   ]
  },
  {
   "cell_type": "markdown",
   "metadata": {},
   "source": [
    "##### *antennalist*\n",
    "\n",
    "ASCII file containing antenna positions. Each row has x, y, and z\n",
    "coordinates and antenna diameter and name; header lines are required to\n",
    "specify the observatory name and coordinate system.&nbsp;If the\n",
    "configuration file does not include antenna names, the station name will\n",
    "be used instead.\n",
    "\n",
    "    #observatory=ALMA\n",
    "    #COFA=-67.75,-23.02\n",
    "    #coordsys=LOC (local tangent plane)\n",
    "    "
   ]
  },
  {
   "cell_type": "markdown",
   "metadata": {},
   "source": [
    "## uid___A002_Xdb6217_X55ec_target.ms\n",
    "    "
   ]
  },
  {
   "cell_type": "markdown",
   "metadata": {},
   "source": [
    "## x             y               z             diam  station  ant \n",
    "    -5.850273514   -125.9985379    -1.590364043   12.   A058     DA41\n",
    "    -19.90369337    52.82680653    -1.892119601   12.   A023     DA42\n",
    "    13.45860758    -5.790196849    -2.087805181   12.   A035     DA43\n",
    "    5.606192499     7.646657746    -2.087775605   12.   A001     DA44\n",
    "    24.10057423    -25.95933768    -2.08466565    12.   A036     DA45\n",
    "\n",
    "Standard array configuration files are found in your CASA data\n",
    "repository, os.getenv(\"CASAPATH\").split()\\[0\\]+\"/data/alma/simmos/\". A\n",
    "string of the form \"alma;0.5arcsec\" will be parsed into a full 12m ALMA\n",
    "configuration.&nbsp;If *antennalist=' '*, **simobserve** will not\n",
    "produce an interferometric MS. If simulating total power observations,\n",
    "be sure to accurately set the parameter *sdantlist*.&nbsp;\n",
    "\n"
   ]
  },
  {
   "cell_type": "markdown",
   "metadata": {},
   "source": [
    "##### *caldirection*\n",
    "\n",
    "An unresolved calibrator can be observed interleaved with the science\n",
    "pointings. The calibrator is implemented as a point source clean\n",
    "component with this specified direction and flux=*calflux*.\n",
    "\n"
   ]
  },
  {
   "cell_type": "markdown",
   "metadata": {},
   "source": [
    "##### *calflux*\n",
    "\n",
    "Sets the flux density for the calibrator. Default is set to\n",
    "*calflux='1Jy'*.\n",
    "\n"
   ]
  },
  {
   "cell_type": "markdown",
   "metadata": {},
   "source": [
    "#### *obsmode='sd' expandable parameters*\n",
    "\n"
   ]
  },
  {
   "cell_type": "markdown",
   "metadata": {},
   "source": [
    "##### *sdantlist*\n",
    "\n",
    "Single-dish antenna position file. If simulating total power\n",
    "observations, be sure to accurately set the\n",
    "parameter&nbsp;*sdantlist*.&nbsp;If this parameter is left unset,\n",
    "**simobserve** assumes the default configuration file for a single dish\n",
    "simulation (even if the configuration file is explicitly specified in\n",
    "*antennalist*). Default: *sdantlist='aca.tp.cfg'.*\n",
    "\n"
   ]
  },
  {
   "cell_type": "markdown",
   "metadata": {},
   "source": [
    "##### *sdant*\n",
    "\n",
    "The index of the antenna in the list to use for total power. Defaults to\n",
    "the first antenna on the list (*sdant=0*). Heterogeneous total power\n",
    "\"arrays\" are not currently supported.\n",
    "\n"
   ]
  },
  {
   "cell_type": "markdown",
   "metadata": {},
   "source": [
    "#####  *thermalnoise*\n",
    "\n",
    "Adds thermal noise to the synthesized data. This parameter takes two\n",
    "possible values (not including unset ' '):\n",
    "\n",
    "-   tsys-atm: J. Pardo's ATM library will be used to construct an\n",
    "    atmospheric profile for the ALMA site: altitude 5000m, ground\n",
    "    pressure 650mbar, relhum=20%, a water layer of *user_pwv* at\n",
    "    altitude of 2km, the sky brightness temperature returned by ATM, and\n",
    "    internally tabulated receiver temperatures\n",
    "-   tsys-manual: instead of using the ATM model, specify the zenith sky\n",
    "    brightness and opacity manually. Noise is added and then the\n",
    "    visibility flux scale is referenced above the atmosphere.&nbsp;\n",
    "\n",
    "In either mode, noise is calculated using the following assumptions:\n",
    "\n",
    "-   an antenna spillover efficiency of 0.96,\n",
    "-   taper of 0.86,\n",
    "-   surface accuracy of 25 and 300 microns for ALMA and EVLA,\n",
    "    respectively, using the Ruze formula for surface efficiency,\n",
    "-   correlator efficiencies of 0.95 and 0.91 for ALMA and EVLA, and\n",
    "-   receiver temperatures:\n",
    "    -   for ALMA: 25, 30, 40, 42, 50, 50, 72, 135, 105, 230 K\n",
    "        interpolated between 35, 75, 110, 145, 185, 230, 345, 409, 675,\n",
    "        867 GHz\n",
    "    -   for EVLA: 500, 70, 60, 55, 100, 130, 350 K interpolated between\n",
    "        0.33, 1.47, 4.89, 8.44, 22.5, 33.5, 43.3 GHz\n",
    "    -   for SMA: 67, 116, 134, 500 K interpolated between 212, 310, 383,\n",
    "        660 GHz\n",
    "\n",
    "These are only approximate numbers and do not take into account\n",
    "performance at edges of receiver bands,&nbsp;nor are they guaranteed to\n",
    "reflect the most recent measurements. Caveat emptor. Use the **sm** tool\n",
    "to add noise if you want more precise control, and use the ALMA exposure\n",
    "time calculator for sensitivity numbers in proposals.\n",
    "\n"
   ]
  },
  {
   "cell_type": "markdown",
   "metadata": {},
   "source": [
    "#### *thermalnoise* expandable parameters\n",
    "\n"
   ]
  },
  {
   "cell_type": "markdown",
   "metadata": {},
   "source": [
    "##### *t_ground*\n",
    "\n",
    "The ambient ground/spillover temperature in K.\n",
    "\n"
   ]
  },
  {
   "cell_type": "markdown",
   "metadata": {},
   "source": [
    "##### *seed*\n",
    "\n",
    "Random number seed for noise generation.\n",
    "\n"
   ]
  },
  {
   "cell_type": "markdown",
   "metadata": {},
   "source": [
    "#### *thermalnoise='tsys-atm'* expandable parameters\n",
    "\n"
   ]
  },
  {
   "cell_type": "markdown",
   "metadata": {},
   "source": [
    "##### *user_pwv*\n",
    "\n",
    "The precipitable water vapor at zenith if constructing an atmospheric\n",
    "model.\n",
    "\n"
   ]
  },
  {
   "cell_type": "markdown",
   "metadata": {},
   "source": [
    "#### *thermalnoise='tsys-manual'* expandable parameters\n",
    "\n"
   ]
  },
  {
   "cell_type": "markdown",
   "metadata": {},
   "source": [
    "##### *t_sky*\n",
    "\n",
    "The atmospheric temperature in K.\n",
    "\n"
   ]
  },
  {
   "cell_type": "markdown",
   "metadata": {},
   "source": [
    "##### *tau0*\n",
    "\n",
    "The zenith opacity at observing frequency. See\n",
    "[here](https://casaguides.nrao.edu/index.php/Corrupt) for more\n",
    "information on noise, in particular how to add a phase screen using the\n",
    "toolkit.\n",
    "\n",
    "&nbsp;\n",
    "\n"
   ]
  },
  {
   "cell_type": "markdown",
   "metadata": {},
   "source": [
    "##### *leakage*\n",
    "\n",
    "Adds cross polarization corruption of this fractional magnitude.\n",
    "\n"
   ]
  },
  {
   "cell_type": "markdown",
   "metadata": {},
   "source": [
    "##### *graphics*\n",
    "\n",
    "View plots on the screen, saved to file, both, or neither.\n",
    "\n"
   ]
  },
  {
   "cell_type": "markdown",
   "metadata": {},
   "source": [
    "##### *verbose*\n",
    "\n",
    "Turns on or off the printing of extra information to the logger and\n",
    "terminal.\n",
    "\n"
   ]
  },
  {
   "cell_type": "markdown",
   "metadata": {},
   "source": [
    "##### *overwrite*\n",
    "\n",
    "Overwrites existing files in the project subdirectory. Default: False\n",
    "\n",
    "&nbsp;"
   ]
  }
 ],
 "metadata": {},
 "nbformat": 4,
 "nbformat_minor": 5
}
