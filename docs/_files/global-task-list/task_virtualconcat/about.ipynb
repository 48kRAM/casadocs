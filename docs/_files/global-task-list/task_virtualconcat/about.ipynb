{
 "cells": [
  {
   "cell_type": "markdown",
   "metadata": {},
   "source": [
    "# Description\n",
    "\n",
    "task description\n",
    "\n",
    "**NOTE**: This task behaves mostly like the task **concat**, except that\n",
    "the result is an MMS and that the original MSs become part of the\n",
    "concatenated MS (unless you set *keepcopy=True*).\n",
    "\n",
    "The list of data sets given in the *vis* argument are moved into an\n",
    "output&nbsp;Multi-MS data set and virtually concatenated. This task will\n",
    "modify the input datasets by moving and reindexing them.&nbsp;If you\n",
    "want to keep a copy of your original data, please set the parameter\n",
    "*keepcopy* to True. It only makes sense to use **virtualconcat** with\n",
    "*'keepcopy=True'*, instead of **concat**, if you need to create an MMS\n",
    "instead of an MS.\n",
    "\n",
    "There is no limit to the number of input data sets. If none of the input\n",
    "data sets have any scratch columns (MODEL and CORRECTED columns), none\n",
    "are created in the *concatvis* dataset. Otherwise these columns\n",
    "are&nbsp;created on output and initialized to their default value (1 in\n",
    "MODEL column,&nbsp;data in CORRECTED column) for those data with no\n",
    "input columns.\n",
    "\n",
    "Spectral windows for each data set with the same channelization, and\n",
    "within a&nbsp;specified frequency tolerance of another data set, will be\n",
    "combined into one&nbsp;spectral window. A field position in one data set\n",
    "that is within a specified direction tolerance&nbsp;of another field\n",
    "position in any other data set will be combined into one&nbsp;field. The\n",
    "field names need not be the same (only their position is used). Each\n",
    "appended dataset is assigned a new observation ID if the\n",
    "corresponding&nbsp;rows in the observation table are not the same.\n",
    "\n",
    "&nbsp;\n",
    "\n"
   ]
  },
  {
   "cell_type": "markdown",
   "metadata": {},
   "source": [
    "## Parameter descriptions\n",
    "\n"
   ]
  },
  {
   "cell_type": "markdown",
   "metadata": {},
   "source": [
    "##### *vis*\n",
    "\n",
    "Name of input visibility files to be combined. No default\n",
    "\n"
   ]
  },
  {
   "cell_type": "markdown",
   "metadata": {},
   "source": [
    "##### *concatvis*\n",
    "\n",
    "Name of visibility file that will contain the concatenated data.\n",
    "\n",
    "**NOTE**: If this file exits on disk then the input files are added to\n",
    "this file. Otherwise the new file contains the concatenated data. Be\n",
    "careful here when concatenating to an existing file.\n",
    "\n",
    "No default.\n",
    "\n"
   ]
  },
  {
   "cell_type": "markdown",
   "metadata": {},
   "source": [
    "##### *freqtol*\n",
    "\n",
    "Frequency shift tolerance for considering data to be in the same spw ID.\n",
    "The number of channels must also be the same. Default: '', i.e., do not\n",
    "combine unless frequencies are equal. Example: *freqtol='10MHz'* will\n",
    "not combine spw ID unless they are within 10 MHz.\n",
    "\n",
    "**NOTE**: This option is useful to combine spectral windows with very\n",
    "slight frequency differences caused by Doppler tracking, for example.\n",
    "\n"
   ]
  },
  {
   "cell_type": "markdown",
   "metadata": {},
   "source": [
    "##### *dirtol*\n",
    "\n",
    "Direction shift tolerance for considering data as the same field.\n",
    "Default: '' means always combine. Example: *dirtol='1.arcsec'* will not\n",
    "combine data for a field unless their phase center differ by less than 1\n",
    "arcsec. If the field names are different in the input data sets, the\n",
    "name in the output data set will be the first relevant data set in the\n",
    "list.\n",
    "\n"
   ]
  },
  {
   "cell_type": "markdown",
   "metadata": {},
   "source": [
    "##### *respectname*\n",
    "\n",
    "If True, fields with a different name are not merged even if their\n",
    "direction agrees (within *dirtol*). Default: True\n",
    "\n"
   ]
  },
  {
   "cell_type": "markdown",
   "metadata": {},
   "source": [
    "##### *visweightscale*\n",
    "\n",
    "The weights of the individual MSs will be scaled in the concatenated\n",
    "output MS by the factors in this list. Useful for handling heterogeneous\n",
    "arrays. Use **plotms** to inspect the \"Wt\" column as a reference for\n",
    "determining the scaling factors. See the CASA Docs Chapter Pages on\n",
    "[Data\n",
    "Weights](https://casa.nrao.edu/casadocs-devel/stable/calibration-and-visibility-data/data-weights)\n",
    "for more details. Example: *visweightscale=\\[1.,3.,3.\\]*, which scales\n",
    "the weights of the second and third MS by a factor 3. Default: \\[\\]\n",
    "(empty list) or no scaling\n",
    "\n"
   ]
  },
  {
   "cell_type": "markdown",
   "metadata": {},
   "source": [
    "##### *keepcopy*\n",
    "\n",
    "If True, a copy of the input MSs is kept in their original place.\n",
    "Default: False\n",
    "\n"
   ]
  },
  {
   "cell_type": "markdown",
   "metadata": {},
   "source": [
    "##### *copypointing*\n",
    "\n",
    "If True, the POINTING table information will be present in the output.\n",
    "If False, the result is an empty POINTING table. Default: True\n",
    "\n",
    "&nbsp;"
   ]
  }
 ],
 "metadata": {},
 "nbformat": 4,
 "nbformat_minor": 5
}
