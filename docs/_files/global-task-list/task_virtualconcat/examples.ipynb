{
 "cells": [
  {
   "cell_type": "markdown",
   "metadata": {},
   "source": [
    "# Examples\n",
    "\n",
    "task examples\n",
    "\n",
    "To concatenate the two MeasurementSets 'ngc5921.ms' and\n",
    "'src2.ms' into a file named 'out.mms':\n",
    "\n",
    "virtualconcat(vis=\\['src2.ms','ngc5921.ms'\\],\n",
    "concatvis='out.mms') \n",
    "\n",
    "The original 'ngc5921.ms' and 'src2.ms' ***are gone***. The output\n",
    "data 'out.mms' is a Multi-MS. As most of the data is only moved, not\n",
    "copied, this is faster and subsequent tasks can run in parallel on the\n",
    "Sub-MSs of 'out.mms'.\n",
    "\n",
    " \n",
    "\n",
    "To concatenate the two MeasurementSets 'ngc5921.ms' and\n",
    "'src2.ms' into a file named 'out.mms', but keeping the original\n",
    "MeasurementSets:  \n",
    "\n",
    "\n",
    "virtualconcat(vis=\\['src2.ms','ngc5921.ms'\\], concatvis='out.mms',\n",
    "keepcopy=True)\n",
    "\n",
    "Compared to the first example, this consumes more disk space and time for the copy.      \n",
    "\n",
    "\n",
    "**NOTE**: Run **flagmanager** to save flags in the\n",
    "*concatvis*."
   ]
  }
 ],
 "metadata": {},
 "nbformat": 4,
 "nbformat_minor": 5
}
