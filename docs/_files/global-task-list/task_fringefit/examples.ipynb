{
 "cells": [
  {
   "cell_type": "markdown",
   "metadata": {},
   "source": [
    "# Examples\n",
    "\n",
    "task fringefit examples\n",
    "\n",
    "Single-band delay: calibration of delay only for a single scan on a\n",
    "bright calibrator:\n",
    "\n",
    "fringefit(vis='data.ms',  \n",
    "          caltable='data.sbd',                  \\"
   ]
  },
  {
   "cell_type": "markdown",
   "metadata": {},
   "source": [
    "## write solutions to\n",
    "this table on disk  \n",
    "          scan='30',                            \\"
   ]
  },
  {
   "cell_type": "markdown",
   "metadata": {},
   "source": [
    "## use only scan 30  \n",
    "          solint='inf',                         \\"
   ]
  },
  {
   "cell_type": "markdown",
   "metadata": {},
   "source": [
    "## use all timestamps in\n",
    "the scan  \n",
    "          refant='EF',                          \\"
   ]
  },
  {
   "cell_type": "markdown",
   "metadata": {},
   "source": [
    "## a big antenna does\n",
    "well as reference antenna  \n",
    "          minsnr=50,                            \\"
   ]
  },
  {
   "cell_type": "markdown",
   "metadata": {},
   "source": [
    "## empirically proven to\n",
    "be a good value is anything over 25  \n",
    "          zerorates=True,                       \\"
   ]
  },
  {
   "cell_type": "markdown",
   "metadata": {},
   "source": [
    "## for instrumental\n",
    "delay rates should not be used  \n",
    "          gaintable=\\['data.tsys','data.gc'\\],    \\"
   ]
  },
  {
   "cell_type": "markdown",
   "metadata": {},
   "source": [
    "## apply the amplitude\n",
    "calibration on the fly  \n",
    "          parang=True)                          \\"
   ]
  },
  {
   "cell_type": "markdown",
   "metadata": {},
   "source": [
    "## always True for VLBI\n",
    "\n",
    "Multi-band delay: calibration of time-dependent delay and delay-rate for\n",
    "a phase reference source, relative to single-band delay solution from\n",
    "above:\n",
    "\n",
    "fringefit(vis='data.ms',  \n",
    "          caltable='data.mbd',                  \\"
   ]
  },
  {
   "cell_type": "markdown",
   "metadata": {},
   "source": [
    "## write solutions to\n",
    "this table disk  \n",
    "          solint='60',                          \\"
   ]
  },
  {
   "cell_type": "markdown",
   "metadata": {},
   "source": [
    "## anything shorter than\n",
    "the scan length will give more than 1 solution  \n",
    "          combine='spw',                        \\"
   ]
  },
  {
   "cell_type": "markdown",
   "metadata": {},
   "source": [
    "## combine spectral\n",
    "windows for this step, gives only a solution for spw0  \n",
    "          field='1',                            \\"
   ]
  },
  {
   "cell_type": "markdown",
   "metadata": {},
   "source": [
    "## select the field that\n",
    "is your phase reference calibrator  \n",
    "          refant='EF',                          \\"
   ]
  },
  {
   "cell_type": "markdown",
   "metadata": {},
   "source": [
    "## pick a big antenna or\n",
    "one close to the geometric center of the array  \n",
    "          minsnr=50,                            \\"
   ]
  },
  {
   "cell_type": "markdown",
   "metadata": {},
   "source": [
    "## this seems to be a\n",
    "sensible value  \n",
    "          gaintable=\\['data.tys', 'data.gc', 'data.sbd'\\],   \\"
   ]
  },
  {
   "cell_type": "markdown",
   "metadata": {},
   "source": [
    "## apply\n",
    "amplitude calibration and single band delay on the fly  \n",
    "          parang=True)                          \\"
   ]
  },
  {
   "cell_type": "markdown",
   "metadata": {},
   "source": [
    "## always set to True\n",
    "for VLBI\n",
    "\n",
    "The calibration table data.mbd will contain phase, delay, and rate\n",
    "solutions per antenna, per polarization and per solution interval. For\n",
    "data with multiple spectral windows the solutions will be assigned to\n",
    "spectral window 0 in the output cal table. In the **applycal** step, the\n",
    "parameter *spwmap* needs to be set to apply the solutions to all\n",
    "spectral windows. For example, in a dataset with 8 spectral windows:\n",
    "*spwmap=\\[8\\*\\[0\\]\\]*. Since the **applycal** step will include multiple\n",
    "calibration tables, this setting needs to correspond to the data.mbd\n",
    "table in the *gaintable* parameter:\n",
    "\n",
    "applycal(vis='data.ms',  \n",
    "         field='0,1',                           \\"
   ]
  },
  {
   "cell_type": "markdown",
   "metadata": {},
   "source": [
    "## now select the phase\n",
    "calibrator AND the target source  \n",
    "         gaintable=\\['data.tsys', 'data.gc','data.sbd', 'data.mbd'\\],   \n",
    "\\"
   ]
  },
  {
   "cell_type": "markdown",
   "metadata": {},
   "source": [
    "## include all the calibration tables  \n",
    "         interp=\\[\\],spwmap=\\[\\[\\], \\[\\], \\[\\],\n",
    "8\\*\\[0\\]\\],                         \\"
   ]
  },
  {
   "cell_type": "markdown",
   "metadata": {},
   "source": [
    "## map the spectral windows\n",
    "accordingly  \n",
    "         parang=True)                           \\"
   ]
  },
  {
   "cell_type": "markdown",
   "metadata": {},
   "source": [
    "## for VLBI this should\n",
    "always be True\n",
    "\n",
    "In cases where it is necessary to constrain the search for group delay\n",
    "and fringe rates at the FFT stage, the parameters *delaywindow* and\n",
    "*ratewindow* can be used:\n",
    "\n",
    "fringefit(vis='data.ms',  \n",
    "          caltable='data.mbd',            \\"
   ]
  },
  {
   "cell_type": "markdown",
   "metadata": {},
   "source": [
    "## write solutions to this\n",
    "table disk  \n",
    "          solint='60',                    \\"
   ]
  },
  {
   "cell_type": "markdown",
   "metadata": {},
   "source": [
    "## anything shorter than the\n",
    "scan length will give more than 1 solution  \n",
    "          combine='spw',                  \\"
   ]
  },
  {
   "cell_type": "markdown",
   "metadata": {},
   "source": [
    "## combine spectral windows\n",
    "for this step, gives only a solution for spw0  \n",
    "          field='1',                      \\"
   ]
  },
  {
   "cell_type": "markdown",
   "metadata": {},
   "source": [
    "## select the field that is\n",
    "your phase reference calibrator  \n",
    "          refant='EF',                    \\"
   ]
  },
  {
   "cell_type": "markdown",
   "metadata": {},
   "source": [
    "## pick a big antenna or one\n",
    "close to the geometric center of the array  \n",
    "          minsnr=5,                       \\"
   ]
  },
  {
   "cell_type": "markdown",
   "metadata": {},
   "source": [
    "## we're looking for weak\n",
    "detections, but we have a good a priori idea of where they are to steer\n",
    "the FFT search  \n",
    "          delaywindow = \\[0,10\\],         \n",
    " \\"
   ]
  },
  {
   "cell_type": "markdown",
   "metadata": {},
   "source": [
    "## FFT delay search range of 0 to 10 nanoseconds  \n",
    "          ratewindow = \\[-5e-9,5e-9\\],     \n",
    "\\"
   ]
  },
  {
   "cell_type": "markdown",
   "metadata": {},
   "source": [
    "## FFT rate search range of -5 to 5 nanoseconds per second  \n",
    "          gaintable=\\['data.tys', 'data.gc',\n",
    "'data.sbd'\\],   \\"
   ]
  },
  {
   "cell_type": "markdown",
   "metadata": {},
   "source": [
    "## apply amplitude calibration and single band\n",
    "delay on the fly  \n",
    "          parang=True)                    \\"
   ]
  },
  {
   "cell_type": "markdown",
   "metadata": {},
   "source": [
    "## always set to True for VLBI"
   ]
  }
 ],
 "metadata": {},
 "nbformat": 4,
 "nbformat_minor": 5
}
