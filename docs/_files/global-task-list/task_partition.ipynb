{
 "cells": [
  {
   "cell_type": "markdown",
   "metadata": {},
   "source": [
    "# partition\n",
    "\n",
    "task description\n",
    "\n",
    "**partition** is a task that creates a\n",
    "[Multi-MS](https://casa.nrao.edu/casadocs-devel/stable/parallel-processing/the-multi-ms)\n",
    "out of a MeasurementSet. General selection&nbsp;parameters are included, and one or all of the various data\n",
    "columns&nbsp;(DATA, FLAG_DATA and/or FLOAT_DATA,\n",
    "and possibly MODEL_DATA and/or&nbsp;CORRECTED_DATA) can be selected.\n",
    "\n",
    "The **partition** task creates a Multi-MS in\n",
    "parallel&nbsp;using the Message Passing Interface\n",
    "([MPI](http://mpi-forum.org/ \"MPI\")), enabled via the\n",
    "[mpi4casa](https://casa.nrao.edu/casadocs-devel/stable/parallel-processing/casa-parallelization-interface-mpi4casa)\n",
    "framework.\n",
    "\n",
    "When **partition** or any other task processes an MMS\n",
    "in parallel, each Sub-MS is processed independently in a parallel\n",
    "engine.&nbsp;The log messages of the parallel\n",
    "engines are identified by the string **MPIServer-**\\#, where \\"
   ]
  },
  {
   "cell_type": "markdown",
   "metadata": {},
   "source": [
    "## gives\n",
    "the number&nbsp;of the engine running that\n",
    "process. When the task runs sequentially, it shows the **MPIClient**\n",
    "text&nbsp;in the origin of the log messages or\n",
    "does not show anything.\n",
    "\n"
   ]
  },
  {
   "cell_type": "markdown",
   "metadata": {},
   "source": [
    "## &nbsp;\n",
    "\n"
   ]
  },
  {
   "cell_type": "markdown",
   "metadata": {},
   "source": [
    "## Parameter Descriptions\n",
    "\n"
   ]
  },
  {
   "cell_type": "markdown",
   "metadata": {},
   "source": [
    "##### *vis*\n",
    "\n",
    "Name of input MeasurementSet.\n",
    "\n"
   ]
  },
  {
   "cell_type": "markdown",
   "metadata": {},
   "source": [
    "##### *outputvis *\n",
    "\n",
    "Name of output&nbsp;Multi-MS.\n",
    "\n"
   ]
  },
  {
   "cell_type": "markdown",
   "metadata": {},
   "source": [
    "##### *createmms*\n",
    "\n",
    "By default, this parameter is set to True to&nbsp;create an output\n",
    "Multi-MS, which is the basic step for running CASA in parallel. See more\n",
    "about this in the\n",
    "[Parallelization](https://casa.nrao.edu/casadocs-devel/stable/parallel-processing)\n",
    "chapter. The task will obey the settings of the parameters listed below\n",
    "if set to True. If set to False, it will work as the **split** task and\n",
    "create a normal MS, split according to the given data selection\n",
    "parameters.&nbsp;Note that, when this parameter is set to False, a\n",
    "cluster&nbsp;will not be used.  \n",
    "\n",
    "\n"
   ]
  },
  {
   "cell_type": "markdown",
   "metadata": {},
   "source": [
    "##### *separationaxis*\n",
    "\n",
    "Axis to do parallelization across. Namely, it is how the MS will be\n",
    "partitioned to form separated entities, called Sub-MSs. **partition**\n",
    "accepts four axes to do separation across: &rsquo;auto&rsquo;,\n",
    "&rsquo;scan&rsquo;, &rsquo;spw&rsquo; or &rsquo;baseline&rsquo;. The\n",
    "default is set to 'auto', which&nbsp;will first separate the MS in spws,\n",
    "then in scans. It tries to balance the spw and scan contents in each\n",
    "Sub-MS, also taking into account the available fields so that the size\n",
    "in disk is also balanced. This is the recommended axis to partition an\n",
    "MS.\n",
    "\n",
    "-   The 'auto' option will partition the MS per scan\n",
    "    and spw to obtain optimal load balancing with the&nbsp;following\n",
    "    criteria:&nbsp; &nbsp; &nbsp;\n",
    "    &nbsp;\n",
    "\n",
    "1. Maximize the scan/spw/field distribution across\n",
    "sub-MSs\n",
    "\n",
    "2. Generate sub-MSs with similar size\n",
    "\n",
    "-   The 'scan' or 'spw' axes will partition the MS\n",
    "    based on scans or spws. The individual sub-MSs may&nbsp;not be balanced with respect to the number of\n",
    "    rows.\n",
    "-   The 'baseline' axis is mostly useful for\n",
    "    Single-Dish data. This axis will partition the MS&nbsp;based on the available baselines. If the user wants only\n",
    "    auto-correlations, use the&nbsp;antenna\n",
    "    selection such as antenna='\\*&&&' together with this separation\n",
    "    axis. Note that if *numsubms='auto'*,\n",
    "    **partition** will try to create as many sub-MSs as the number of\n",
    "    available&nbsp;servers in the cluster.\n",
    "    If the user wants to have one sub-MS for each baseline, set the\n",
    "    *numsubms*&nbsp;parameter to a number\n",
    "    higher than the number of baselines to achieve this. &nbsp; &nbsp; &nbsp;\n",
    "    &nbsp;\n",
    "\n"
   ]
  },
  {
   "cell_type": "markdown",
   "metadata": {},
   "source": [
    "##### *numsubms*\n",
    "\n",
    "The number of sub-MSs to create in the\n",
    "Multi-MS.&nbsp;The default 'auto' is to\n",
    "partition the MS using the number of available servers in the\n",
    "cluster.&nbsp;If the task is unable to determine\n",
    "the number of running servers, or the user did not start\n",
    "CASA&nbsp;using **mpicasa**, *numsubms* will be\n",
    "set to&nbsp;8 Sub-MSs as default. The user can create any number of\n",
    "Sub-MSs, regardless of the number of cores used to create the cluster\n",
    "with **mpicasa**.\n",
    "\n"
   ]
  },
  {
   "cell_type": "markdown",
   "metadata": {},
   "source": [
    "##### *flagbackup*\n",
    "\n",
    "Make a backup of the FLAG column of the output MMS. When the&nbsp;MMS is created, the [flag\n",
    "versions](https://casa.nrao.edu/casadocs-devel/stable/calibration-and-visibility-data/data-examination-and-editing/managing-flag-versions-flagmanager)&nbsp;(the\n",
    ".flagversions file) of the input MS are not\n",
    "transferred;&nbsp;therefore it is necessary to\n",
    "re-create it for the new MMS. Note&nbsp;that\n",
    "multiple backups from the input MS will not be preserved.\n",
    "This&nbsp;will create a single backup of all the\n",
    "flags present in the input&nbsp;MS at the time\n",
    "the MMS is created.&nbsp;\n",
    "\n",
    "&nbsp;"
   ]
  },
  {
   "cell_type": "markdown",
   "metadata": {
    "nbsphinx-toctree": {
     "hidden": true
    }
   },
   "source": [
    "[Description](task_partition/about)\n",
    "[Parameters](task_partition/parameters)\n",
    "[Changelog](task_partition/changelog)\n",
    "[Examples](task_partition/examples)\n",
    "[Developer](task_partition/developer)\n"
   ]
  }
 ],
 "metadata": {},
 "nbformat": 4,
 "nbformat_minor": 5
}
