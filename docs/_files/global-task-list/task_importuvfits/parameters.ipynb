{
 "cells": [
  {
   "cell_type": "markdown",
   "metadata": {},
   "source": [
    "# Parameters\n",
    "\n",
    "task parameters\n",
    "\n",
    "fitsfile : string\n",
    "\n",
    "Name of input UV FITS file\n",
    "\n",
    "Example\n",
    "\n",
    "vis : string\n",
    "\n",
    "Name of output visibility file (MS)\n",
    "\n",
    "Example\n",
    "\n",
    "antnamescheme : string = old\n",
    "\n",
    "VLA/EVLA/CARMA only; \\\\'new\\\\' or \\\\'old\\\\'; \\\\'VA04\\\\' or \\\\'04\\\\' for\n",
    "VLA ant 4\n",
    "\n",
    "Allowed Value(s)\n",
    "\n",
    "old new\n",
    "\n",
    "Example"
   ]
  }
 ],
 "metadata": {},
 "nbformat": 4,
 "nbformat_minor": 5
}
