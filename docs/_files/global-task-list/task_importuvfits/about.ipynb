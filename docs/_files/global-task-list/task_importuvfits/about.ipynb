{
 "cells": [
  {
   "cell_type": "markdown",
   "metadata": {},
   "source": [
    "# Description\n",
    "\n",
    "importuvfits task: Convert a UVFITS file to a CASA measurement set\n",
    "\n",
    "Convert a UVFITS file to a CASA visibility data set.\n",
    "\n",
    "This is primarily designed for importing AIPS data into CASA, but also\n",
    "works for other UVFITS data (e.g., MIRIAD).\n",
    "\n",
    "The current UVFITS specification can be found in [AIPS Memo\n",
    "117](ftp://ftp.aoc.nrao.edu/pub/software/aips/TEXT/PUBL/AIPSMEM117.PS \"aips memo 117\").\n",
    "\n",
    "The *antnamescheme* parameter specifies the naming scheme for\n",
    "VLA/JVLA/CARMA antennas. The default is \"old\". For \"old\", antnnea names\n",
    "are numerical, eg \"04\". This option exists for backwards compatibility\n",
    "but can lead to ambiguous results when antenna indices are used for data\n",
    "selection. When set to \"new\", Antenna names are not strictly numerical,\n",
    "eg \"VA04\" or \"EA04\". With this scheme, data selection via antenna names\n",
    "and indices is non-ambiguous.\n",
    "\n",
    "A NOTE ON WEIGHTS: **importuvfits** will generate a WEIGHT_SPECTRUM\n",
    "column in which it will fill the absolute value of the weight associated\n",
    "with each visibility in the uvfits file. Negative weights will have the\n",
    "associated FLAGs set to True. It will compute the associated WEIGHT\n",
    "value for that MS row to be the sum of the absolute values of the\n",
    "associated WEIGHT_SPECTRUM values. \n",
    "\n",
    "**NOTE**: Don't forget to flag autocorrections using the\n",
    "task **flagdata**, *autocorr = true*"
   ]
  }
 ],
 "metadata": {},
 "nbformat": 4,
 "nbformat_minor": 5
}
