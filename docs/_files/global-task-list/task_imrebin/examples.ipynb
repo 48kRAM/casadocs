{
 "cells": [
  {
   "cell_type": "markdown",
   "metadata": {},
   "source": [
    "# Examples\n",
    "\n",
    "task examples\n",
    "\n",
    "\\"
   ]
  },
  {
   "cell_type": "markdown",
   "metadata": {},
   "source": [
    "## rebin the first two axes (normally the direction axes)  \n",
    "imrebin(imagename=\"my.im\", outfile=\"rebinned.im\", factor=\\[2,3\\])  \n",
    "  \n",
    "\\"
   ]
  },
  {
   "cell_type": "markdown",
   "metadata": {},
   "source": [
    "## rebin the frequency axis, which is the fourth axis in this image  \n",
    "imrebin(imagename=\"my2.im\", outfile=\"rebinned2.im\", factor=\\[1,1,1,4\\])"
   ]
  }
 ],
 "metadata": {},
 "nbformat": 4,
 "nbformat_minor": 5
}
