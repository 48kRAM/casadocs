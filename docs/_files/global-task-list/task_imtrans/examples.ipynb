{
 "cells": [
  {
   "cell_type": "markdown",
   "metadata": {},
   "source": [
    "# Examples\n",
    "\n",
    "task examples\n",
    "\n",
    "\\"
   ]
  },
  {
   "cell_type": "markdown",
   "metadata": {},
   "source": [
    "## Swap the stokes and spectral axes in an RA-Dec-Stokes-Frequency\n",
    "image  \n",
    "imagename = \"myim.im\"  \n",
    "outfile = \"outim.im\"  \n",
    "order = \"0132\"  \n",
    "imtrans()  \n",
    "  \n",
    "\\"
   ]
  },
  {
   "cell_type": "markdown",
   "metadata": {},
   "source": [
    "## or  \n",
    "  \n",
    "outfile = \"myim_2.im\"  \n",
    "order = 132  \n",
    "imtrans()  \n",
    "  \n",
    "\\"
   ]
  },
  {
   "cell_type": "markdown",
   "metadata": {},
   "source": [
    "## or  \n",
    "  \n",
    "outfile = \"myim_3.im\"  \n",
    "order = \\[\"r\", \"d\", \"f\", \"s\"\\]  \n",
    "imtrans()  \n",
    "  \n",
    "\\"
   ]
  },
  {
   "cell_type": "markdown",
   "metadata": {},
   "source": [
    "## or  \n",
    "  \n",
    "outfile = \"myim_4.im\"  \n",
    "order = \\[\"rig\", \"declin\", \"frequ\", \"stok\"\\]  \n",
    "imtrans()"
   ]
  }
 ],
 "metadata": {},
 "nbformat": 4,
 "nbformat_minor": 5
}
