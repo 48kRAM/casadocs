{
 "cells": [
  {
   "cell_type": "markdown",
   "metadata": {},
   "source": [
    "# Parameters\n",
    "\n",
    "task parameters\n",
    "\n",
    "imagename : string\n",
    "\n",
    "Name of the input image which must be specified.\n",
    "\n",
    "Example\n",
    "\n",
    "imagename='ngc5921.im'\n",
    "\n",
    "outfile : string\n",
    "\n",
    "Name of output CASA image.\n",
    "\n",
    "Example\n",
    "\n",
    "outfile='reordered.im'\n",
    "\n",
    "order : undefined\n",
    "\n",
    "New zero-based axes order.\n",
    "\n",
    "Example\n",
    "\n",
    "order=\"120\"order=120order=\\[\"d\", \"f\", \"r\"\\]"
   ]
  }
 ],
 "metadata": {},
 "nbformat": 4,
 "nbformat_minor": 5
}
