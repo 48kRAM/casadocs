{
 "cells": [
  {
   "cell_type": "markdown",
   "metadata": {},
   "source": [
    "# imrebin\n",
    "\n",
    "imrebin task: Rebin an image by the specified integer factors\n",
    "\n",
    "This application rebins the specified image by the specified integer\n",
    "binning factors for each axis. It supports both float valued and complex\n",
    "valued images. The corresponding output pixel value is the average of\n",
    "the input pixel values. The output pixel will be masked False if there\n",
    "were no good input pixels. A polarization axis cannot be rebinned.\n",
    "\n",
    "The binning factors array must contain at least one element and no more\n",
    "elements than the number of input image axes. If the number of elements\n",
    "specified is less than the number of image axes, then the remaining axes\n",
    "not specified are not rebinned. All specified values must be positive. A\n",
    "value of one indicates that no rebinning of the associated axis will\n",
    "occur.  \n",
    "  \n",
    "Should this array contain any float values, they will be rounded to the\n",
    "next lowest integer. Note that in many images with both frequency and\n",
    "polarization axes, the polarization axis preceeds the frequency axis. If\n",
    "you wish to rebin the frequency axis, it is recommended that you inspect\n",
    "your image with **imhead** or **ia.summary** to determine the axis\n",
    "ordering.\n",
    "\n",
    "Binning starts from the origin pixel of the bounding box of the selected\n",
    "region or the origin pixel of the input image if no region is specified.\n",
    "The value of crop is used to determine how to handle cases where there\n",
    "are pixels at the end of the axis that do not form a complete bin. If\n",
    "*crop=True*, extra pixels at the end of the axis are discarded. If\n",
    "*crop=False*, the remaining pixels are averaged into the final bin along\n",
    "that axis. Should the length of the axis to be rebinned be an integral\n",
    "multiple of the associated binning factor, the value of crop is\n",
    "irrelevant.\n",
    "\n",
    "A value of *dropdeg=True* will result in the output image not containing\n",
    "axes that are degenerate in the specified region or in the input image\n",
    "if no region is specified. Note that, however, the binning factors array\n",
    "must still account for degenerate axes, and the binning factor\n",
    "associated with a degenerate axis must always be 1."
   ]
  },
  {
   "cell_type": "markdown",
   "metadata": {
    "nbsphinx-toctree": {
     "hidden": true
    }
   },
   "source": [
    "[Description](task_imrebin/about)\n",
    "[Examples](task_imrebin/examples)\n"
   ]
  }
 ],
 "metadata": {},
 "nbformat": 4,
 "nbformat_minor": 5
}
