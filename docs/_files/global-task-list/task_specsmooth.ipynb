{
 "cells": [
  {
   "cell_type": "markdown",
   "metadata": {},
   "source": [
    "# specsmooth\n",
    "\n",
    "task description\n",
    "\n",
    "This application performs one dimensional convolution along a specified\n",
    "axis of an image or selected region of an image. Hanning smoothing and\n",
    "boxcar smoothing are supported. Both float valued and complex valued\n",
    "images are supported. Masked pixel values are set to zero prior to\n",
    "convolution. All nondefault pixel masks are ignored during the\n",
    "calculation. The convolution is done in the image domain (i.e., not with\n",
    "an FFT).\n",
    "\n"
   ]
  },
  {
   "cell_type": "markdown",
   "metadata": {},
   "source": [
    "## BOXCAR SMOOTHING\n",
    "\n",
    "One dimensional boxcar convolution is defined by\n",
    "\n",
    "    zi = (yi + yi+1 + ... + yi+w-1)/w\n",
    "\n",
    "where *z*<sub>i</sub> is the value at pixel *i* in the box car smoothed\n",
    "image, *y*<sub>k</sub> is the pixel value of the input image at pixel\n",
    "*k*, and *w* is a postivie integer representing the width of the boxcar\n",
    "in pixels. The length of the axis along which the convolution is to\n",
    "occur must be at least *w* pixels in the selected region, unless\n",
    "decimation using the mean function is chosen in which case the axis  \n",
    "length must be at least 2*w* (see below).\n",
    "\n",
    "If *dmethod=\"\"* (no decimation), the length of the output axis will be\n",
    "equal to *L* - (*w* + 1), where *L* is the length of the input axis. The\n",
    "default pixel mask if one exists is ANDed with the OTF mask if specified\n",
    "and copied from the selected region of the input image to the output\n",
    "image (in other words, the result mask for creating the output image is\n",
    "true only for pixels for which both the OTF and pixel mask are true).\n",
    "Thus for example, if the selected region in the input image has six\n",
    "planes along the convolution axis, if the specified boxcar width is 2,\n",
    "and if the pixel values, which are all unmasked, on a slice along this\n",
    "axis are \\[1, 2, 5, 10, 17, 26\\], then the corresponding output slice\n",
    "will be of length five pixels and the output pixel values will be \\[1.5,\n",
    "3.5, 7.5, 13.5, 21.5\\].\n",
    "\n",
    "If *dmethod=\"copy\"*, the output image is the image calculated if\n",
    "*dmethod=\"\"*, except that only every *w*th plane is kept. Both the pixel\n",
    "and mask values of these planes are copied directly to the output image,\n",
    "without further processing. Thus for example, if the selected region in\n",
    "the input image has six planes along the convolution axis, the boxcar\n",
    "width is chosen to be 2, and if the pixel values, which are all\n",
    "unmasked, on a slice along this axis are \\[1, 2, 5, 10, 17, 26\\], the\n",
    "corresponding output pixel values will be \\[1.5, 7.5, 21.5\\].\n",
    "\n",
    "&nbsp;If *dmethod=\"mean\"*, first the image described in the *dmethod=\"\"*\n",
    "case is calculated. Then, the *i*th plane of the output image is\n",
    "calculated by averaging the *i\\*w* to the *(i+1)\\*w-1* planes of this\n",
    "intermediate image. Thus, for example, if the selected region in the\n",
    "input image has six planes along the convolution axis, the boxcar width\n",
    "is chosen to be 2, and if the pixel values,  \n",
    "which are all unmasked, on a slice along this axis are \\[1, 2, 5, 10,\n",
    "17, 26\\], then the corresponding output pixel values will be \\[2.5,\n",
    "10.5\\]. Any pixels at the end of the convolution axis of the\n",
    "intermediate image that do not fall into a complete bin of width *w* are\n",
    "ignored. Masked values are taken into consideration when forming this\n",
    "average, so if one of the values is masked, it is not used in the\n",
    "average. If at least one of the values in the intermediate image bin is\n",
    "not masked, the corresponding output pixel will not be masked.\n",
    "\n"
   ]
  },
  {
   "cell_type": "markdown",
   "metadata": {},
   "source": [
    "## HANNING SMOOTHING\n",
    "\n",
    "Hanning convolution of one axis of an image is defined by\n",
    "\n",
    "    zi = 0.25yi-1 + 0.5yi + 0.25yi+1 (equation 1)\n",
    "\n",
    "where *z*<sub>i</sub> is the value at pixel *i* in the hanning smoothed\n",
    "image, and *y<sub>i-1</sub>*, *y*<sub>i</sub>, and *y<sub>i+1</sub>* are\n",
    "the values of the input image at pixels *i*-1, *i*, and *i*+1\n",
    "respectively. The length of the axis along which the convolution is to\n",
    "occur must be at least three pixels in the selected region.\n",
    "\n",
    "If *dmethod=\"\"* (no decimation of image planes), the length of the\n",
    "output axis will be the same as that of the input axis. The output pixel\n",
    "values along the convolution axis will be related to those of the input\n",
    "values according to equation 1, except the first and last pixels. In\n",
    "that case,\n",
    "\n",
    "    z0 = (y0 + y1)/2\n",
    "\n",
    "and,\n",
    "\n",
    "    zN-1 = (yN-2 + yN-1)/2\n",
    "\n",
    "where *N* is the number of pixels along the convolution aixs. The\n",
    "default pixel mask, if one exists, is ANDed with the OTF mask if\n",
    "specified and is copied from the selected region of the input image to\n",
    "the output image. Thus for example, if the selected region in the input\n",
    "image has six planes along the convolution axis, and if the pixel\n",
    "values, which are all unmasked, on a slice along this axis are \\[1, 2,\n",
    "5, 10, 17, 26\\], the corresponding output pixel values will be \\[1.5,\n",
    "2.5, 5.5, 10.5, 17.5, 21.5\\].\n",
    "\n",
    "&nbsp;If *dmethod=\"copy\"*, the output image is the image calculated if\n",
    "*dmethod=\"\"*, except that only the odd-numbered planes are kept.\n",
    "Furthermore, if the number of planes along the convolution axis in the\n",
    "selected region of the input image is even, the last odd number plane is\n",
    "also discarded. Thus, if the selected region has *N* pixels along the\n",
    "convolution axis in the input image, along the convolution axis the\n",
    "output image will have (*N*-1)/2 planes if *N* is odd, or (*N-2*)/2\n",
    "planes if *N* is even. The pixel and mask values are copied directly,\n",
    "without further processing. Thus for example, if the selected region in\n",
    "the input image has six planes along the convolution axis, and if the\n",
    "pixel values, which are all unmasked, on a slice along this axis are\n",
    "\\[1, 2, 5, 10, 17, 26\\], the corresponding output pixel values will be\n",
    "\\[2.5, 10.5\\].\n",
    "\n",
    "If *dmethod=\"mean\"*, first the image described in the *dmethod=\"\"* case\n",
    "is calculated. The first plane and last plane(s) of that image are then\n",
    "discarded as described in the *dmethod=\"copy\"* case. Then, the ith plane\n",
    "of the output image is calculated by averaging the (2*i*)th and (2*i* +\n",
    "1)th planes of the intermediate image. Thus for example, if the selected\n",
    "region in the input image has six planes along the convolution axis, and\n",
    "if the pixel values, which are all unmasked, on a slice along this axis\n",
    "are \\[1, 2, 5, 10, 17, 26\\], the corresponding output pixel values will\n",
    "be \\[4.0, 14.0\\]. Masked values are taken into consideration when\n",
    "forming this average, so if one of the values is masked, it is not used\n",
    "in the average. If at least one of the values in the input pair is not\n",
    "masked, the corresponding output pixel will not be masked.\n",
    "\n",
    "&nbsp;\n",
    "\n"
   ]
  },
  {
   "cell_type": "markdown",
   "metadata": {},
   "source": [
    "## Task specific parameter summary\n",
    "\n"
   ]
  },
  {
   "cell_type": "markdown",
   "metadata": {},
   "source": [
    "##### *axis*\n",
    "\n",
    "Zero-based profile axis number. Default (\\<0): use the spectral axis if\n",
    "one exists, axis 0 otherwise.\n",
    "\n"
   ]
  },
  {
   "cell_type": "markdown",
   "metadata": {},
   "source": [
    "##### *function*\n",
    "\n",
    "Convolution function. hanning and boxcar are supported functions.\n",
    "Minimum match is supported.\n",
    "\n"
   ]
  },
  {
   "cell_type": "markdown",
   "metadata": {},
   "source": [
    "##### *width*\n",
    "\n",
    "Width of boxcar, in pixels. Ignored for hanning smoothing.\n",
    "\n"
   ]
  },
  {
   "cell_type": "markdown",
   "metadata": {},
   "source": [
    "##### *dmethod*\n",
    "\n",
    "Decimation method. \"\" means no decimation, \"copy\" and \"mean\" are also\n",
    "supported (minimum match)."
   ]
  },
  {
   "cell_type": "markdown",
   "metadata": {
    "nbsphinx-toctree": {
     "hidden": true
    }
   },
   "source": [
    "[Description](task_specsmooth/about)\n",
    "[Parameters](task_specsmooth/parameters)\n",
    "[Changelog](task_specsmooth/changelog)\n",
    "[Examples](task_specsmooth/examples)\n",
    "[Developer](task_specsmooth/developer)\n"
   ]
  }
 ],
 "metadata": {},
 "nbformat": 4,
 "nbformat_minor": 5
}
