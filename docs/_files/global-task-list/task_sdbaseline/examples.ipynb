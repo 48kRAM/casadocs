{
 "cells": [
  {
   "cell_type": "markdown",
   "metadata": {},
   "source": [
    "# Examples\n",
    "\n",
    "task examples\n",
    "\n"
   ]
  },
  {
   "cell_type": "markdown",
   "metadata": {},
   "source": [
    "##   Example 1\n",
    "\n",
    "This is one of the simplest examples. To fit and remove a Chebyshev\n",
    "polynomial function (default is 5th order) from the data 'sd_data.ms',\n",
    "using only spectral window 0, and fitting channels 100-800 and 1200-2000\n",
    "(to avoid, for example, band-pass roll off at the edges, and perhaps an\n",
    "emission line that might occur over channels 800-1200).\n",
    "\n",
    "sdbaseline(infile='sd_data.ms',\n",
    "spw='0:100\\~800;1200\\~2000',blfunc='chebyshev',outfile='sd_data.ms.bl',overwrite\n",
    "=True)  \n",
    "\n"
   ]
  },
  {
   "cell_type": "markdown",
   "metadata": {},
   "source": [
    "##  Example 2\n",
    "\n",
    "This example shows fitting and subtracting a sinusoidal baseline. To fit\n",
    "and remove a sinusoid from the data 'sd_data.ms', using spectral window\n",
    "0 and scan number 0. Wave numbers of sinusoids are set autmatically in\n",
    "the fft method. \n",
    "\n",
    "sdbaseline(infile='sd_data.ms',spw='0',scan='0',blfunc='sinusoid',applyfft=True,fftmethod='fft',outfile='sd_data.ms.bl',overwrite=True) \n",
    "\n"
   ]
  },
  {
   "cell_type": "markdown",
   "metadata": {},
   "source": [
    "##  Example 3\n",
    "\n",
    "In this example, the user specifies different fitting parameters per\n",
    "spectrum, using blfunc='variable' and specifying the fit parameters\n",
    "using a text file.\n",
    "\n",
    "sdbaseline(infile='sd_data.ms',blfunc='variable',blparam='blparam.txt',outfile='sd_data.ms.bl',overwrite\n",
    "=True)\n",
    "\n",
    " Here is the text file \"blparam.txt\" used in the above example.\n",
    "\n",
    "\\#row,pol,mask,clipniter,clipthresh,use_linefinder,thresh,Ledge,Redge,avg_limit,blfunc,order,npiece,nwave\n",
    "\n",
    "0,0,100\\~750;1250\\~1900,0,3.,false,0.,0,0,0,chebyshev,2,0,\\[\\]\n",
    "\n",
    "0,1,,0,3.,false,0.,0,0,0,chebyshev,0,0,\\[\\]\n",
    "\n",
    "1,0,0\\~500;1500\\~2000,0,3.,false,0.,0,0,0,poly,1,0,\\[\\]"
   ]
  }
 ],
 "metadata": {},
 "nbformat": 4,
 "nbformat_minor": 5
}
