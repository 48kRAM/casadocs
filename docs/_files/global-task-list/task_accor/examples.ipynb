{
 "cells": [
  {
   "cell_type": "markdown",
   "metadata": {},
   "source": [
    "# Examples\n",
    "\n",
    "task examples\n",
    "\n",
    "The following example creates a caltable with **accor** solutions on a\n",
    "30s timescale. \n",
    "\n",
    "accor(vis='data.ms', caltable='cal.A', solint='30s')"
   ]
  }
 ],
 "metadata": {},
 "nbformat": 4,
 "nbformat_minor": 5
}
