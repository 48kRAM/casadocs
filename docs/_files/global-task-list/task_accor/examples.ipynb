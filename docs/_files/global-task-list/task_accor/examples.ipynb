{
 "cells": [
  {
   "cell_type": "markdown",
   "metadata": {},
   "source": [
    "# Examples\n",
    "\n",
    "task examples\n",
    "\n",
    "The following example creates a caltable with **accor** solutions on a\n",
    "30s timescale.&nbsp;\n",
    "\n",
    "accor(vis='data.ms', caltable='cal.A', solint='30s')\n",
    "\n",
    "&nbsp;\n",
    "\n",
    "&nbsp;\n",
    "\n",
    "&nbsp;\n",
    "\n",
    "&nbsp;"
   ]
  }
 ],
 "metadata": {},
 "nbformat": 4,
 "nbformat_minor": 5
}
