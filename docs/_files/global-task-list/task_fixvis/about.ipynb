{
 "cells": [
  {
   "cell_type": "markdown",
   "metadata": {},
   "source": [
    "# Description\n",
    "\n",
    "task fixvis description\n",
    "\n",
    "**fixvis**&nbsp;recalculates (u, v, w) in an MS based on antenna\n",
    "positions, time and source position. **fixvis**&nbsp;can\n",
    "also&nbsp;change the phase center of visibilities.\n",
    "\n",
    "If the phase center is changed, the corresponding modifications are\n",
    "applied to the visibility columns given by the parameter\n",
    "*datacolumn*&nbsp;which is by default set to *all*&nbsp;(DATA,\n",
    "CORRECTED, and MODEL).\n",
    "\n",
    "**ALERT:** **fixvis** uses the small angle approximation and may be\n",
    "incorrect for large phase shifts. This may result in sources shifting\n",
    "position if large phase shifts are being applied (shifts up to a few\n",
    "beam sizes have been reported). Please use **tclean** for phase center\n",
    "shifts during imaging when applicable.\n",
    "\n",
    "See also&nbsp;[the description in section UV\n",
    "Manipulation](https://casa.nrao.edu/casadocs-devel/stable/calibration-and-visibility-data/uv-manipulation/recalculation-of-uvw-values-fixvis).&nbsp;\n",
    "\n",
    "&nbsp;\n",
    "\n"
   ]
  },
  {
   "cell_type": "markdown",
   "metadata": {},
   "source": [
    "## Parameter descriptions\n",
    "\n"
   ]
  },
  {
   "cell_type": "markdown",
   "metadata": {},
   "source": [
    "##### *vis*\n",
    "\n",
    "Name of the input visibility&nbsp;MS.&nbsp;\n",
    "\n"
   ]
  },
  {
   "cell_type": "markdown",
   "metadata": {},
   "source": [
    "##### *outputvis*\n",
    "\n",
    "Name of the output&nbsp;MS. Default: same as *vis*\n",
    "\n"
   ]
  },
  {
   "cell_type": "markdown",
   "metadata": {},
   "source": [
    "##### *field*\n",
    "\n",
    "The field selection string. Default: '' = all.\n",
    "\n"
   ]
  },
  {
   "cell_type": "markdown",
   "metadata": {},
   "source": [
    "##### *refcode*\n",
    "\n",
    "The UVW coordinates are calculated based on a celestial position, the\n",
    "phase direction of the given field. This direction has a reference\n",
    "frame. If that frame is not the desired one, one can use the parameter\n",
    "refcode to convert to a different frame when the UVW coordinates are\n",
    "recalculated. Default: the refcode of PHASE_DIR in the&nbsp;FIELD table.\n",
    "Example: *refcode='B1950'*\n",
    "\n"
   ]
  },
  {
   "cell_type": "markdown",
   "metadata": {},
   "source": [
    "##### *reuse*\n",
    "\n",
    "If *True* and the given *refcode* is different from the original, the\n",
    "present UVW coordinates are just rotated to the new *refcode*. If False,\n",
    "the coordinates are re-calculated from the phase direction.\n",
    "Default:&nbsp;True; The parameter is&nbsp;ignored when the parameter\n",
    "*phasecenter* is set.\n",
    "\n"
   ]
  },
  {
   "cell_type": "markdown",
   "metadata": {},
   "source": [
    "##### *phasecenter*\n",
    "\n",
    "If set to a valid direction: change the phase center for the\n",
    "given&nbsp;field to this value. Example: *phasecenter='J2000 9h25m00s\n",
    "-05d12m00s'.* If given without the equinox, e.g. '*0h01m00s\n",
    "+00d12m00s'*, the parameter is interpreted as a pair of offsets in RA\n",
    "and DEC to the present&nbsp;phase center.&nbsp;\n",
    "\n",
    "**NOTE**: The RA offset can be given in units of time or angle. If\n",
    "given&nbsp;as a time (i.e. as a single number with a time unit as in,\n",
    "e.g., 12s&nbsp;or in the XXhXXmXXs or XX:XX:XX.XXX formats), it is\n",
    "applied as is.&nbsp;If given as an angle (e.g., 0.01deg), it is divided\n",
    "by the cos(DEC)&nbsp;before it is applied.\n",
    "\n"
   ]
  },
  {
   "cell_type": "markdown",
   "metadata": {},
   "source": [
    "##### *distances*\n",
    "\n",
    "*(experimental)* List of the distances (as quanta) of the fields\n",
    "selected by field to be used for refocusing. If empty, the distances of\n",
    "all fields are assumed to be infinity.&nbsp;If not a list but just a\n",
    "single value is given, this is applied to&nbsp;all fields. Default: \\[\n",
    "\\].&nbsp; Examples: *distances=\\['2E6km', '3E6km'\\], distances='15au'*\n",
    "\n"
   ]
  },
  {
   "cell_type": "markdown",
   "metadata": {},
   "source": [
    "##### *datacolumn*\n",
    "\n",
    "When applying a phase center shift, modify visibilities only\n",
    "in&nbsp;this/these column(s). Default: 'all' (DATA, CORRECTED, and\n",
    "MODEL). Example: 'DATA,CORRECTED' (will not modify MODEL).\n",
    "\n",
    "&nbsp;"
   ]
  }
 ],
 "metadata": {},
 "nbformat": 4,
 "nbformat_minor": 5
}
