{
 "cells": [
  {
   "cell_type": "markdown",
   "metadata": {},
   "source": [
    "# Examples\n",
    "\n",
    "task examples\n",
    "\n",
    "**Example 1:**\n",
    "\n",
    "Recalculate the UVW coordinates for all fields based on the\n",
    "existing phase center information in the FIELD table.\n",
    "\n",
    "fixvis(vis='NGC3256.ms',outputvis='NGC3256-fixed.ms')\n",
    "\n",
    "**Example 2: **\n",
    "\n",
    "Set the phase center for field 'Moon' to the given direction and\n",
    "recalculate the UVW coordinates.\n",
    "\n",
    " fixvis(vis='Moon.ms',outputvis='Moon-fixed.ms',field='Moon',\n",
    "phasecenter='J2000 9h25m00s 05d12m00s')"
   ]
  }
 ],
 "metadata": {},
 "nbformat": 4,
 "nbformat_minor": 5
}
