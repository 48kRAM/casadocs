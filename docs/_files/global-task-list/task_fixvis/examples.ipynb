{
 "cells": [
  {
   "cell_type": "markdown",
   "metadata": {},
   "source": [
    "# Examples\n",
    "\n",
    "task examples\n",
    "\n",
    "**Example 1:**\n",
    "\n",
    "Recalculate the UVW coordinates for all fields based on the\n",
    "existing&nbsp;phase center information in the FIELD table.\n",
    "\n",
    "fixvis(vis='NGC3256.ms',outputvis='NGC3256-fixed.ms')\n",
    "\n",
    "**Example 2:&nbsp;**\n",
    "\n",
    "Set the phase center for field 'Moon' to the given direction and\n",
    "recalculate&nbsp;the UVW coordinates.\n",
    "\n",
    "&nbsp;fixvis(vis='Moon.ms',outputvis='Moon-fixed.ms',field='Moon',\n",
    "phasecenter='J2000 9h25m00s 05d12m00s')\n",
    "\n",
    "&nbsp;"
   ]
  }
 ],
 "metadata": {},
 "nbformat": 4,
 "nbformat_minor": 5
}
