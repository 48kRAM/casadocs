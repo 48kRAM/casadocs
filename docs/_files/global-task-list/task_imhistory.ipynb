{
 "cells": [
  {
   "cell_type": "markdown",
   "metadata": {},
   "source": [
    "# imhistory\n",
    "\n",
    "imhistory task: Retrieve and modify image history\n",
    "\n",
    "This task prints out the history information contained in the image\n",
    "file.\n",
    "\n",
    "The task provides access to the logtable of an image, where generally\n",
    "history information is stored, and prints out the history information\n",
    "(for each of the supported formats). Two operation modes are supported.\n",
    "When *mode=\"list\"*, the history messages are returned as an array of\n",
    "strings. If *verbose=True*, this information is also written to the\n",
    "logger. When *mode=\"append\"*, a specified message, along with its\n",
    "specified origin, are appended to the logtable and *True* is returned if\n",
    "successful."
   ]
  },
  {
   "cell_type": "markdown",
   "metadata": {
    "nbsphinx-toctree": {
     "hidden": true
    }
   },
   "source": [
    "[Description](task_imhistory/about)\n",
    "[Examples](task_imhistory/examples)\n"
   ]
  }
 ],
 "metadata": {},
 "nbformat": 4,
 "nbformat_minor": 5
}
