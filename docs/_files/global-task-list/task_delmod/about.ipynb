{
 "cells": [
  {
   "cell_type": "markdown",
   "metadata": {},
   "source": [
    "# Description\n",
    "\n",
    "deletes stored MODELs in the MS\n",
    "\n",
    "**delmod** is a task to remove MODEL data from MeasurementSets.\n",
    "\n",
    "The MODEL can be either the scratch-less virtual model (stored in the MS\n",
    "SOURCE sub-table), and/or as model visibilities the MODEL_DATA column\n",
    "(e.g., written by the tasks **setjy**, **ft**, **tclean**). In cases\n",
    "where both representations are present, the virtual model is used over\n",
    "the scratch column model and there may be a need to remove the virtual\n",
    "model to allow the MODEL_DATA column to take effect.  \n",
    "\n",
    " \n",
    "\n"
   ]
  },
  {
   "cell_type": "markdown",
   "metadata": {},
   "source": [
    "## Parameter descriptions\n",
    "\n"
   ]
  },
  {
   "cell_type": "markdown",
   "metadata": {},
   "source": [
    "##### *vis*\n",
    "\n",
    "The input MeasurementSet.\n",
    "\n"
   ]
  },
  {
   "cell_type": "markdown",
   "metadata": {},
   "source": [
    "##### *otf*\n",
    "\n",
    "*otf=True* will remove the virtual model informatiom from the MS SOURCE\n",
    "sub-table.\n",
    "\n"
   ]
  },
  {
   "cell_type": "markdown",
   "metadata": {},
   "source": [
    "#### *otf=True* expandable parameters\n",
    "\n"
   ]
  },
  {
   "cell_type": "markdown",
   "metadata": {},
   "source": [
    "##### *field*\n",
    "\n",
    "The field ID or name to be selected.  \n",
    "\n",
    "**NOTE:** Currently the *field* selection only applies to the virtual\n",
    "model with *otf=True*, **not** the scratch MODEL_DATA column\n",
    "(*scr=True*)\n",
    "\n",
    " \n",
    "\n"
   ]
  },
  {
   "cell_type": "markdown",
   "metadata": {},
   "source": [
    "##### scr\n",
    "\n",
    "*scr=True* will remove the scratch column MODEL_DATA."
   ]
  }
 ],
 "metadata": {},
 "nbformat": 4,
 "nbformat_minor": 5
}
