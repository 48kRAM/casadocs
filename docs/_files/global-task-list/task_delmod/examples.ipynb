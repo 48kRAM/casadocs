{
 "cells": [
  {
   "cell_type": "markdown",
   "metadata": {},
   "source": [
    "# Examples\n",
    "\n",
    "task delmod examples\n",
    "\n",
    "To delete the on-the-fly model data from a MeasurementSet:\n",
    "\n",
    "delmod(vis='myfile.ms', otf=True, scr=False)"
   ]
  }
 ],
 "metadata": {},
 "nbformat": 4,
 "nbformat_minor": 5
}
