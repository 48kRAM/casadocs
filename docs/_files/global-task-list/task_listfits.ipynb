{
 "cells": [
  {
   "cell_type": "markdown",
   "metadata": {},
   "source": [
    "# listfits\n",
    "\n",
    "task description\n",
    "\n",
    "Lists the header information of a FITS file.\n",
    "\n",
    "A list of the HDU (Header Data Unit) of a FITS file will be written to\n",
    "the logger. The HDU consists of a header and typically a data table.\n",
    "\n",
    "&nbsp;"
   ]
  },
  {
   "cell_type": "markdown",
   "metadata": {
    "nbsphinx-toctree": {
     "hidden": true
    }
   },
   "source": [
    "[Description](task_listfits/about)\n",
    "[Examples](task_listfits/examples)\n"
   ]
  }
 ],
 "metadata": {},
 "nbformat": 4,
 "nbformat_minor": 5
}
