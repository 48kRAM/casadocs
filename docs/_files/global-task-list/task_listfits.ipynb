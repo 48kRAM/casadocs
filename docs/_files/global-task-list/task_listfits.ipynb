{
 "cells": [
  {
   "cell_type": "markdown",
   "metadata": {},
   "source": [
    "# listfits\n",
    "\n",
    "task description\n",
    "\n",
    "Lists the header information of a FITS file.\n",
    "\n",
    "A list of the HDU (Header Data Unit) of a FITS file will be written to\n",
    "the logger. The HDU consists of a header and typically a data table.\n",
    "\n",
    "&nbsp;"
   ]
  },
  {
   "cell_type": "markdown",
   "metadata": {
    "nbsphinx-toctree": {
     "hidden": true
    }
   },
   "source": [
    "[Description](task_listfits/about)\n",
    "[Parameters](task_listfits/parameters)\n",
    "[Changelog](task_listfits/changelog)\n",
    "[Examples](task_listfits/examples)\n",
    "[Developer](task_listfits/developer)\n"
   ]
  }
 ],
 "metadata": {},
 "nbformat": 4,
 "nbformat_minor": 5
}
