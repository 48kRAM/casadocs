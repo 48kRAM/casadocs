{
 "cells": [
  {
   "cell_type": "markdown",
   "metadata": {},
   "source": [
    "# sdbaseline\n",
    "\n",
    "task description\n",
    "\n",
    "Task **sdbaseline** fits and/or subtracts a baseline from single-dish\n",
    "spectra in MS format. Given parameters that define the baseline to be\n",
    "fit (function type, order or the polynomial, etc.), **sdbaseline**\n",
    "computes the best-fit baseline for each spectrum using the least-squares\n",
    "fitting method and, if you want, subtracts it. The best-fit baseline\n",
    "parameters (including baseline type, coefficients of basis functions,\n",
    "etc.) and other values such as residual rms can be saved in various\n",
    "formats including ascii text (in human-readable format or CSV format) or\n",
    "a baseline table (a CASA table). Task **sdbaseline** also has a mode to\n",
    "'apply' a baseline table to MS data.&nbsp; For each spectrum in the MS,\n",
    "the best-fit baseline is reproduced from baseline parameters stored in\n",
    "the specified baseline table, and subtracted. Putting the \"fit\" and\n",
    "\"subtract\" into separate processes can be useful for pipeline processing\n",
    "of huge datasets.\n",
    "\n",
    "&nbsp;\n",
    "\n"
   ]
  },
  {
   "cell_type": "markdown",
   "metadata": {},
   "source": [
    "## Baseline Model Functions&nbsp;\n",
    "\n",
    "The user can specify the function to be used for the baseline with the\n",
    "*blfunc* keyword (e.g. *blfunc = 'poly'*). In general, polynomial\n",
    "fitting is stable. Sinusoid fitting is a special mode that could be\n",
    "useful for data that clearly shows a standing wave in the spectral\n",
    "baseline.\n",
    "\n",
    "The **sdbaseline** procedure gives the user the opportunity to specify\n",
    "unique baseline fitting parameters for each spectrum, using the setting\n",
    "*blfunc='variable'*. Note this is an expert mode! The fitting parameters\n",
    "should be defined in a text file for each spectrum in the input MS. The\n",
    "text file should store comma separated values in the following order:\n",
    "row ID, polarization, mask, clipniter, clipthresh, use_linefinder,&nbsp;\n",
    "thresh, left edge, right edge, avg_limit, blfunc, order, npiece, nwave.\n",
    "Each row in the text file must contain the following keywords and\n",
    "values:\n",
    "\n",
    "-   'row': row number after selection\n",
    "-   'pol': polarization index in the row\n",
    "-   'clipniter': maximum iteration number for iterative fitting\n",
    "-   'blfunc': function name.&nbsp; available options are 'poly',\n",
    "    'chebyshev', 'cspline',and 'sinusoid'\n",
    "-   'order': maximum order of the polynomial. Needed when blfunc='poly'\n",
    "    or 'chebyshev'\n",
    "-   'npiece': number of piecewise polynomials. Needed when\n",
    "    blfunc='cspline'\n",
    "-   'nwave': a list of sinusoidal wave numbers. Needed when\n",
    "    blfunc='sinusoid'\n",
    "\n",
    "&nbsp;\n",
    "\n"
   ]
  },
  {
   "cell_type": "markdown",
   "metadata": {},
   "source": [
    "## Output Files&nbsp;\n",
    "\n",
    "The task outputs the baseline-subtracted MS data set.&nbsp; Users should\n",
    "specify the output data file name with the *outfile* keyword.&nbsp;  \n",
    "Also, the fit parameters, terms, and rms of the baseline can be saved\n",
    "into an ascii text file (in human-readable format or CSV format) or a\n",
    "baseline table (a CASA table). By default, a text file named&nbsp;\n",
    "\\<infile name\\> + '\\_ blparam.txt' is output. The saved baseline table\n",
    "can be used later to subtract the baselines from an MS.\n",
    "\n",
    "&nbsp;\n",
    "\n"
   ]
  },
  {
   "cell_type": "markdown",
   "metadata": {},
   "source": [
    "## Fitting and Clipping\n",
    "\n",
    "In general, least-squares fitting is strongly affected by extreme data\n",
    "points, making the resulting fit poor. Sigma clipping is an iterative\n",
    "baseline fitting method that clips data based on a certain threshold.\n",
    "The threshold is set as a certain factor times the rms of the resulting\n",
    "(baseline-subtracted) spectra. If sigma clipping is on, baseline\n",
    "fit/removal is performed several times, iteratively. After each baseline\n",
    "subtraction, data whose absolute value is above the threshold are\n",
    "excluded from the next round of fitting. By using sigma clipping,\n",
    "extreme data are excluded from the fit so the resulting fit is more\n",
    "robust.\n",
    "\n",
    "The user can control the rms multiplication factor using the parameter\n",
    "*clipthresh,* for the clipping threshold. The actual threshold for sigma\n",
    "clipping will then be (clipthresh) x (rms of spectra). Also, the user\n",
    "can specify the maximum number of iterations with the parameter\n",
    "*clipniter*.\n",
    "\n",
    "In general, sigma clipping will make the procedure slower since it\n",
    "increases the number of fits per spectra. However, it is strongly\n",
    "recommended to turn on sigma clipping unless you are sure that the data\n",
    "is free from any kind of extreme values that may affect the fit.\n",
    "\n",
    "&nbsp;"
   ]
  },
  {
   "cell_type": "markdown",
   "metadata": {
    "nbsphinx-toctree": {
     "hidden": true
    }
   },
   "source": [
    "[Description](task_sdbaseline/about)\n",
    "[Examples](task_sdbaseline/examples)\n"
   ]
  }
 ],
 "metadata": {},
 "nbformat": 4,
 "nbformat_minor": 5
}
