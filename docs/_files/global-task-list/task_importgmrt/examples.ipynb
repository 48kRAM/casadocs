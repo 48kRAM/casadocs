{
 "cells": [
  {
   "cell_type": "markdown",
   "metadata": {},
   "source": [
    "# Examples\n",
    "\n",
    "task examples\n",
    "\n",
    "The following example shows how visibility data from the GMRT that is\n",
    "stored in a FITS file can be imported into CASA:\n",
    "\n",
    "importgmrt(fitsfile='fitsfile.fits',\n",
    "flagfile=\\['gmrt_flagfile1.flag','gmrt_flagfile2.flag'\\],\n",
    "vis='outputvis.ms')\n",
    "\n",
    "This imports GMRT visibilities from FITS file *'*fitsfile.fits', applies\n",
    "flagging that is captured in the two flag files 'gmrt_flagfile1.flag'\n",
    "and 'gmrt_flagfile2.flag', and writes out the unflagged visibilites in\n",
    "MeasurementSet 'outputvis.ms'.\n",
    "\n",
    "**NOTE**: Don't forget to manually flag autocorrections using\n",
    "**flagdata** with *autocorr = True*\n",
    "\n",
    "&nbsp;"
   ]
  }
 ],
 "metadata": {},
 "nbformat": 4,
 "nbformat_minor": 5
}
