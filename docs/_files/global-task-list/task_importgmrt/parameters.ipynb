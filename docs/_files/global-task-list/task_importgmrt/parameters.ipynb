{
 "cells": [
  {
   "cell_type": "markdown",
   "metadata": {},
   "source": [
    "# Parameters\n",
    "\n",
    "task parameters\n",
    "\n",
    "fitsfile : string\n",
    "\n",
    "Name of input UV FITS file Default: none Example:\n",
    "fitsimage='3C273XC1.fits'\n",
    "\n",
    "Example\n",
    "\n",
    "flagfile : string stringArray\n",
    "\n",
    "List of files containing flagging information. Default: none Examples:\n",
    "flagfile='3c273XC1.flag'\n",
    "flagfile=\\['3c273Cc1_1.flag','3c273Cc2_1.flag','\\]\n",
    "\n",
    "Example\n",
    "\n",
    "vis : string\n",
    "\n",
    "Name of input visibility file Default: none Example: vis='ngc5921.ms'\n",
    "\n",
    "Example"
   ]
  }
 ],
 "metadata": {},
 "nbformat": 4,
 "nbformat_minor": 5
}
