{
 "cells": [
  {
   "cell_type": "markdown",
   "metadata": {},
   "source": [
    "# Description\n",
    "\n",
    "task description\n",
    "\n",
    "Converts a FITS file with visibility data from the Giant Metrewave Radio\n",
    "Telescope (GMRT) into a CASA MeasurementSet (MS).\n",
    "\n",
    "GMRT flag files can also be read and applied using the *flagfile*\n",
    "parameter.\n",
    "\n",
    "#"
   ]
  }
 ],
 "metadata": {},
 "nbformat": 4,
 "nbformat_minor": 5
}
