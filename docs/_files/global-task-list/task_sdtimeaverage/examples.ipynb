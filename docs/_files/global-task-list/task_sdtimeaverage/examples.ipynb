{
 "cells": [
  {
   "cell_type": "markdown",
   "metadata": {},
   "source": [
    "# Examples\n",
    "\n",
    "Template\n",
    "\n",
    "&nbsp;\n",
    "\n",
    "sdtimeaverage(infile='sd_data.ms', outfile='sd_data_TimeAve.ms')\n",
    "\n",
    "sdtimeaverage(infile='sd_data.ms', datacolumn='float_data',\n",
    "outfile='sd_data_TimeAve.ms')\n",
    "\n",
    "sdtimeaverage(infile='sd_data.ms', datacolumn='float_data',\n",
    "timebin='all', outfile='sd_data_TimeAve.ms')"
   ]
  }
 ],
 "metadata": {},
 "nbformat": 4,
 "nbformat_minor": 5
}
