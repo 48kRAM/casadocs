{
 "cells": [
  {
   "cell_type": "markdown",
   "metadata": {},
   "source": [
    "# Examples\n",
    "\n",
    "task examples\n",
    "\n",
    "\\"
   ]
  },
  {
   "cell_type": "markdown",
   "metadata": {},
   "source": [
    "## boxcar smooth the spectral axis by 3 pixels,  \n",
    "\\"
   ]
  },
  {
   "cell_type": "markdown",
   "metadata": {},
   "source": [
    "## say it's axis 2 and only write every other pixel  \n",
    "specsmooth(imagename=\"mynonsmoothed.im\",\n",
    "outfile=\"myboxcarsmoothed.im\",  \n",
    "axis=2, function=\"boxcar\", dmethod=\"copy\", width=3, overwrite=True)\n",
    "\n",
    "\\"
   ]
  },
  {
   "cell_type": "markdown",
   "metadata": {},
   "source": [
    "## hanning smooth the spectral axis,  \n",
    "\\"
   ]
  },
  {
   "cell_type": "markdown",
   "metadata": {},
   "source": [
    "## say it's axis 2 and do not perform decimation of image planes  \n",
    "specsmooth(imagename=\"mynonsmoothed.im\",\n",
    "outfile=\"myhanningsmoothed.im\",  \n",
    "axis=2, dmethod=\"\",\" overwrite=True)"
   ]
  }
 ],
 "metadata": {},
 "nbformat": 4,
 "nbformat_minor": 5
}
