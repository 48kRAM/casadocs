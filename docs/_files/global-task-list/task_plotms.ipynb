{
 "cells": [
  {
   "cell_type": "markdown",
   "metadata": {},
   "source": [
    "# plotms\n",
    "\n",
    "plotms task: A plotter/interactive flagger for visibility data.\n",
    "\n",
    "**plotms** is a task for plotting and interacting with visibility data.\n",
    "A variety of axes choices (including data column) along with MS\n",
    "selection and averaging options are provided.&nbsp; All of the provided\n",
    "parameters can also be set using the GUI once the application has been\n",
    "launched.&nbsp; Additional operations are available through the GUI such\n",
    "as marking a region then using the *Locate tool* to list information\n",
    "about the points in the plot, or using the *Flag* and *Unflag* tools to\n",
    "change the flags in the marked region. Flag extension parameters are\n",
    "also available for flagging operations in the plotter.\n",
    "\n",
    "Support for calibration table plotting is included in plotms.&nbsp; Most\n",
    "basic plotms functions (plotting, selection, iteration, locate, summary,\n",
    "flagging) will work for most CalTables. Parameterized CalTables (delays,\n",
    "antpos, gaincurve, opacity) will currently just plot the simple\n",
    "parameters contained in the table. Baseline-based A, M, and X tables are\n",
    "not yet supported. Features currently unsupported for CalTables include\n",
    "averaging, transformations (velocity conversions, etc.), and some\n",
    "selection and axes choices. In the **plotms** GUI, many options\n",
    "irrelevant for CalTables are not hidden when interacting with a\n",
    "calibration table, and such settings will be ignored (when benign) or\n",
    "cause an error message.\n",
    "\n",
    "The return value of plotms is a Boolean *True* or *False*, where *True*\n",
    "indicates that the supplied parameters were processed successfully with\n",
    "no errors; however, a plot may or may not have been produced.&nbsp; For\n",
    "example, a null selection returns *True* with no plot, but an invalid\n",
    "argument or combination of arguments returns *False*.\n",
    "\n",
    "For a detailed explanation of the **plotms** GUI and its corresponding\n",
    "task parameters, see the [documentation on using\n",
    "plotms](https://casa.nrao.edu/casadocs-devel/stable/calibration-and-visibility-data/data-examination-and-editing/using-plotms-to-plot-and-edit-visibilities-and-calibration-tables)\n",
    "under Data Examination and Editing.\n",
    "\n"
   ]
  },
  {
   "cell_type": "markdown",
   "metadata": {},
   "source": [
    "## Parameter Descriptions\n",
    "\n",
    "The options for each parameter are explained in detail below. The\n",
    "parameter&rsquo;s default value, if any, will be described.\n",
    "\n"
   ]
  },
  {
   "cell_type": "markdown",
   "metadata": {},
   "source": [
    "### Plotter settings\n",
    "\n",
    "-   "
   ]
  },
  {
   "cell_type": "markdown",
   "metadata": {},
   "source": [
    "##### *showgui*\n",
    "\n",
    "    -   Whether to show or hide the GUI window\n",
    "    -   True (default): show the GUI window (False=hide).\n",
    "    -   The casaplotms process runs in the background whether the GUI is\n",
    "        shown or not.\n",
    "\n"
   ]
  },
  {
   "cell_type": "markdown",
   "metadata": {},
   "source": [
    "### Input Dataset\n",
    "\n",
    "-   "
   ]
  },
  {
   "cell_type": "markdown",
   "metadata": {},
   "source": [
    "##### *vis*\n",
    "\n",
    "    -   The directory name of the input MeasurementSet or CalTable. The\n",
    "        path is needed if this directory is not in the current working\n",
    "        directory.\n",
    "    -   &ldquo;&rdquo; (default) : launch casaplotms without plotting.\n",
    "    -   If input file not found: plotms issues a warning and does not\n",
    "        launch or, if already launched, does not update.\n",
    "\n"
   ]
  },
  {
   "cell_type": "markdown",
   "metadata": {},
   "source": [
    "### Page and Subplot Settings\n",
    "\n",
    "-   "
   ]
  },
  {
   "cell_type": "markdown",
   "metadata": {},
   "source": [
    "##### *gridrows*\n",
    "\n",
    "    -   Number of subplot rows in each page of plots. There is no\n",
    "        maximum, but consider legibility for larger grids.\n",
    "    -   1 (default): one plot per row\n",
    "\n",
    "-   "
   ]
  },
  {
   "cell_type": "markdown",
   "metadata": {},
   "source": [
    "##### *gridcols*\n",
    "\n",
    "    -   Number of subplot columns in each page of plots There is no\n",
    "        maximum, but consider legibility for larger grids.\n",
    "    -   1 (default): one plot per column\n",
    "\n",
    "-   "
   ]
  },
  {
   "cell_type": "markdown",
   "metadata": {},
   "source": [
    "##### *rowindex*\n",
    "\n",
    "    -   Row location of this subplot (0-based), used to indicate\n",
    "        location of plot in grid.&nbsp; If *iteraxis* is enabled for the\n",
    "        subplot, this indicates where to put the first plot.\n",
    "    -   0 (default): locate the plot in the first row.\n",
    "\n",
    "-   "
   ]
  },
  {
   "cell_type": "markdown",
   "metadata": {},
   "source": [
    "##### *colindex*\n",
    "\n",
    "    -   Column location of this subplot (0-based), used to indicate\n",
    "        location of plot in grid.&nbsp; If *iteraxis* is enabled for the\n",
    "        subplot, this indicates where to put the first plot.\n",
    "    -   0 (default): locate the plot in the first column.\n",
    "\n",
    "-   "
   ]
  },
  {
   "cell_type": "markdown",
   "metadata": {},
   "source": [
    "##### *plotindex*\n",
    "\n",
    "    -   Index of subplot (0-based). When there is more than one plot on\n",
    "        a page (overplot or on a grid without iteration), each plot\n",
    "        should increment the plotindex by 1 and set\n",
    "        *clearplots=False*.&nbsp; If a plotindex is skipped, plotms will\n",
    "        adjust the plotindex with a message to the user.\n",
    "    -   0 (default): first (and possibly only) plot\n",
    "\n",
    "-   "
   ]
  },
  {
   "cell_type": "markdown",
   "metadata": {},
   "source": [
    "##### *clearplots*\n",
    "\n",
    "    -   Make a new plot (remove existing plots) or overplot/add plot to\n",
    "        grid.\n",
    "    -   True (default): make a new plot.\n",
    "\n"
   ]
  },
  {
   "cell_type": "markdown",
   "metadata": {},
   "source": [
    "### Iteration\n",
    "\n"
   ]
  },
  {
   "cell_type": "markdown",
   "metadata": {},
   "source": [
    "##### *iteraxis*\n",
    "\n",
    "-   axis over which to iterate plots, one per page or per grid location.\n",
    "-   &ldquo;&rdquo; (default) : no iteration.\n",
    "-   Options: *'scan', 'field', 'spw', 'baseline', 'antenna', 'time',\n",
    "    'corr'*.\n",
    "-   Each plot shows all of the points in the cache associated with the\n",
    "    current iteration value.&nbsp; This means that when iterating over\n",
    "    '*antenna'* for a CalTable, the plot for the reference antenna shows\n",
    "    all of the other antennas, since their baselines include the\n",
    "    reference antenna.\n",
    "-   Iteration changes the plot title, appending the iteraxis and the\n",
    "    iteration value, e.g. &ldquo;Amp vs .Time Spw: 9&rdquo;.\n",
    "-   Subparameters are enabled when iteraxis is set:\n",
    "\n",
    "<!-- -->\n",
    "\n",
    "-   "
   ]
  },
  {
   "cell_type": "markdown",
   "metadata": {},
   "source": [
    "##### *xselfscale, yselfscale*\n",
    "\n",
    "    -   all axes in iterated plots will have the same scale (axis range\n",
    "        and tick marks).\n",
    "    -   False (default) : scale the each plot individually.\n",
    "\n",
    "<!-- -->\n",
    "\n",
    "-   "
   ]
  },
  {
   "cell_type": "markdown",
   "metadata": {},
   "source": [
    "##### *xsharedaxis, ysharedaxis*\n",
    "\n",
    "    -   iterated plots on a grid share a single x-axis (top or bottom of\n",
    "        the grid) in each column, or a single y-axis (left or right of\n",
    "        the grid) in each row. Must also set *xselfscale=True,\n",
    "        yselfscale=True*.\n",
    "    -   False (default) : each plot has its own x-axis and y-axis.\n",
    "    -   *xsharedaxis=True* ignored with warning when *gridrows=1.*\n",
    "    -   *ysharedaxis=True* ignored with warning when *gridcols=1*.\n",
    "\n"
   ]
  },
  {
   "cell_type": "markdown",
   "metadata": {},
   "source": [
    "### Axes and Calibration\n",
    "\n",
    "-   "
   ]
  },
  {
   "cell_type": "markdown",
   "metadata": {},
   "source": [
    "##### *xaxis, yaxis*\n",
    "\n",
    "    -   What to plot on the xaxis and yaxis\n",
    "    -   &ldquo;&rdquo; (default) : use the default axis for the dataset\n",
    "    -   Default xaxis\n",
    "        -   For MeasurementSets, the default xaxis is\n",
    "            *&lsquo;time&rsquo;*.\n",
    "        -   For CalTables, the default xaxis depends on the cal table\n",
    "            type, i.e. *&lsquo;time&rsquo;* for G Jones and GSPLINE;\n",
    "            *&lsquo;chan&rsquo;* for B Jones and B TSYS;\n",
    "            *&lsquo;ant1&rsquo;* for D Jones, K Jones, and KAntPos;\n",
    "            *&lsquo;freq&rsquo;* for BPOLY.\n",
    "    -   Default yaxis\n",
    "        -   For MeasurementSets, the default yaxis is\n",
    "            *&lsquo;amp&rsquo;*.\n",
    "        -   For CalTables, the default yaxis depends on the cal table\n",
    "            type. For most types, this is *&lsquo;gainamp&rsquo;*. For\n",
    "            GSPLINE tables, the default yaxis depends on the *POLY_MODE*\n",
    "            column: if &ldquo;AMP&rdquo;or &ldquo;A&P&rdquo; the default\n",
    "            is *&lsquo;gainamp&rsquo;*, if &ldquo;PHAS&rdquo; the\n",
    "            default is *&lsquo;gainphase&rsquo;*.\n",
    "    -   yaxis can be a list, e.g.\n",
    "        *yaxis=\\[&lsquo;amp&rsquo;,&rsquo;phase&rsquo;\\]* to plot more\n",
    "        than one yaxis for a dataset on the same plot. You may want to\n",
    "        have different axis locations for this (see *yaxislocation*).\n",
    "    -   Subparameters *xdatacolumn* and *ydatacolumn* are enabled when\n",
    "        *xaxis* and *yaxis* are visibility axes, respectively.\n",
    "\n",
    "-   Axis options, with synonyms in parentheses and ordered by type, are\n",
    "    in the following subsections.\n",
    "\n"
   ]
  },
  {
   "cell_type": "markdown",
   "metadata": {},
   "source": [
    "#### Metadata Axes\n",
    "\n",
    "-   *&lsquo;scan&rsquo;*\n",
    "    -   scan number from the *SCAN_NUMBER* column, as shown in\n",
    "        [listobs](https://casa.nrao.edu/casadocs-devel/stable/global-task-list/task_listobs).\n",
    "-   *&lsquo;field&rsquo;*\n",
    "    -   index from the *FIELD_ID* column which references a row in the\n",
    "        *FIELD* subtable, as shown in\n",
    "        [listobs](https://casa.nrao.edu/casadocs-devel/stable/global-task-list/task_listobs).\n",
    "-   *&lsquo;time&rsquo;*\n",
    "    -   timestamps from the *TIME* column, converted for display to time\n",
    "        format HH:MM:SS.S (precision depends on the interval between\n",
    "        tick marks).\n",
    "-   *&lsquo;interval&rsquo;* (*&lsquo;timeint&rsquo;,\n",
    "    &lsquo;timeinterval&rsquo;, &lsquo;time_interval&rsquo;*)\n",
    "    -   integration time values from the *INTERVAL* column, in seconds.\n",
    "    -   Not supported for CalTables.\n",
    "-   *&lsquo;spw&rsquo;*\n",
    "    -   spectral window IDs, as shown in\n",
    "        [listobs](https://casa.nrao.edu/casadocs-devel/stable/global-task-list/task_listobs).\n",
    "    -   For MeasurementSets, the data description ID is used to\n",
    "        reference a row in the *DATA_DESCRIPTION* subtable, then the spw\n",
    "        index value is retrieved from the row&rsquo;s *SPECTRAL_WINDOW*\n",
    "        column. This index references a row in the *SPECTRAL_WINDOW*\n",
    "        subtable.\n",
    "    -   For CalTables, the index from the main table *SPECTRAL_WINDOW*\n",
    "        column which references a row in the *SPECTRAL_WINDOW* subtable.\n",
    "-   *&lsquo;chan&rsquo;* (*&lsquo;channel&rsquo;*)\n",
    "    -   index into the number of channels in the selected spws, ranging\n",
    "        0\\~nChan.\n",
    "-   &lsquo;*freq&rsquo;* (*&lsquo;frequency&rsquo;*)\n",
    "    -   the *CHAN_FREQ* column in the *SPECTRAL_WINDOW* subtable, in\n",
    "        GHz.&nbsp; This is an array of frequencies, one per channel.\n",
    "    -   The frame can be set with the *freqframe* parameter.\n",
    "-   *&lsquo;vel&rsquo;* (*&lsquo;velocity&rsquo;*)\n",
    "    -   velocity in km/s, as defined by the *freqframe*, *veldef*, and\n",
    "        *restfreq* parameters. Converted from frequencies ('*freq*')\n",
    "        using the\n",
    "        [measures](https://casa.nrao.edu/casadocs-devel/stable/global-tool-list/tool_measures)\n",
    "        (me) tool.\n",
    "    -   Not supported for CalTables.\n",
    "-   *&lsquo;corr&rsquo;* (*&lsquo;correlation&rsquo;*)\n",
    "    -   correlation IDs (for MeasurementSets) or polarization IDs (for\n",
    "        CalTables).\n",
    "    -   For MeasurementSets, the data description ID is used to\n",
    "        reference a row in the *DATA_DESCRIPTION* subtable, then the\n",
    "        polarization index value is retrieved from the row&rsquo;s\n",
    "        *POLARIZATION_ID* column. This index references a row in the\n",
    "        *POLARIZATION* subtable and the values are obtained from the\n",
    "        *CORR_TYPE* column.&nbsp; &nbsp; These IDs correspond to values\n",
    "        RR (5), RL (6), LR (7), LL (8), XX (9), XY (10), YX (11), and YY\n",
    "        (12).\n",
    "    -   For CalTables, this is the index into the number of\n",
    "        polarizations in the first axis of the array in the\n",
    "        *CPARAM/FPARAM* column. The CalTable&rsquo;s PolBasis keyword\n",
    "        may indicate whether the polarizations are linear (0=X, 1=Y) or\n",
    "        circular (0=R, 1=L).\n",
    "-   *&lsquo;ant1&rsquo;* (*&lsquo;antenna1&rsquo;*)\n",
    "    -   the ID of the first antenna in a baseline pair, as shown in\n",
    "        [listobs](https://casa.nrao.edu/casadocs-devel/stable/global-task-list/task_listobs).\n",
    "    -   index from the *ANTENNA1* column which references a row in the\n",
    "        *ANTENNA* subtable.\n",
    "-   *&lsquo;ant2&rsquo;* (*&lsquo;antenna2&rsquo;*)\n",
    "    -   the ID of the second antenna in a baseline pair, as shown in\n",
    "        [listobs](https://casa.nrao.edu/casadocs-devel/stable/global-task-list/task_listobs).\n",
    "    -   index from the *ANTENNA2* column which references a row in the\n",
    "        *ANTENNA* subtable.\n",
    "    -   Some CalTables have antenna2 IDs of -1, indicating this column\n",
    "        is irrelevant to the table.\n",
    "-   *&lsquo;baseline&rsquo;*\n",
    "    -   unique number for all antenna baselines, computed as follows for\n",
    "        a particular row (where ant1 is the antenna1 ID and ant2 is the\n",
    "        antenna2 ID for that row): (nAnts+1)\\*ant1-(ant1\\*(ant1+1))/2+ant2\n",
    "-   *&lsquo;row&rsquo;*\n",
    "    -   index into the number of rows, ranging 0\\~nRow.\n",
    "    -   For a selected table (see *selectdata*), these are not the same\n",
    "        as the row numbers in the original MeasurementSet.\n",
    "    -   Not supported for CalTables.\n",
    "-   *&lsquo;observation&rsquo;*\n",
    "    -   index from the *OBSERVATION_ID* column which references a row in\n",
    "        the *OBSERVATION* subtable, which contains information about the\n",
    "        observer, project, and telescope as shown in\n",
    "        [listobs](https://casa.nrao.edu/casadocs-devel/stable/global-task-list/task_listobs).\n",
    "    -   Some CalTables have observation IDs of -1, indicating this\n",
    "        column is irrelevant to the table. Often there is no\n",
    "        *OBSERVATION* subtable.\n",
    "-   *&lsquo;intent&rsquo;*\n",
    "    -   index from the *STATE_ID* column which references a row in the\n",
    "        *STATE* subtable.&nbsp; This includes OBS_MODE information about\n",
    "        the Scan Intent as shown in\n",
    "        [listobs](https://casa.nrao.edu/casadocs-devel/stable/global-task-list/task_listobs).\n",
    "    -   Some MeasurementSets and CalTables have state IDs of -1,\n",
    "        indicating this column is irrelevant to the table. Often there\n",
    "        is no *STATE* subtable or it has zero rows.\n",
    "-   *&lsquo;feed1&rsquo;*\n",
    "    -   the first feed number, most useful for single-dish data with\n",
    "        multi-feed receivers.\n",
    "    -   index from the *FEED1* column which references a row in the\n",
    "        *FEED* subtable.\n",
    "    -   Not supported for CalTables.\n",
    "-   *&lsquo;feed2&rsquo;*\n",
    "    -   the second feed number, most useful for single-dish data with\n",
    "        multi-feed receivers.\n",
    "    -   index from the *FEED2* column which references a row in the\n",
    "        *FEED* subtable.\n",
    "    -   Not supported for CalTables.\n",
    "\n"
   ]
  },
  {
   "cell_type": "markdown",
   "metadata": {},
   "source": [
    "#### Visibility and Flag Axes\n",
    "\n",
    "-   *&lsquo;amp&rsquo;* (*&lsquo;amplitude&rsquo;*)\n",
    "    -   amplitude of the complex visibility cube from the MeasurementSet\n",
    "        data column specified in the *datacolumn* parameter.\n",
    "    -   If only the *FLOAT_DATA* column exists, the float values are\n",
    "        plotted and the axis is labeled &ldquo;Amp:float&rdquo;.\n",
    "    -   For residual data columns, vector (complex) subtraction or\n",
    "        division occurs before the amplitude is computed.&nbsp; When\n",
    "        averaging is enabled, the averaged data for each column is used\n",
    "        for the subtraction or division, then the amplitude is taken.\n",
    "    -   For CalTables with complex parameters (*CPARAM* column), this\n",
    "        axis is relabeled &ldquo;Gain Amp&rdquo;. For CalTables with\n",
    "        float parameters (*FPARAM* column), the float values are plotted\n",
    "        and the axis is relabeled appropriately, e.g. \"Delay\",\n",
    "        \"SwPower\", \"Tsys\", \"Opac\", etc.\n",
    "-   *&lsquo;phase&rsquo;*\n",
    "    -   phase of the complex visibility cube from the MeasurementSet\n",
    "        data column specified in the *datacolumn* parameter, in degrees.\n",
    "    -   Not valid if only non-complex *FLOAT_DATA* column exists.\n",
    "    -   For residual data columns, vector (complex) subtraction or\n",
    "        division occurs before the phase is computed.&nbsp; When\n",
    "        averaging is enabled, the averaged data for each column is used\n",
    "        for the subtraction or division, then the phase is taken.\n",
    "    -   For CalTables with complex parameters (*CPARAM* column), this\n",
    "        axis is relabeled &ldquo;Gain Phase&rdquo;. Not valid for\n",
    "        CalTables with non-complex float parameters (*FPARAM* column).\n",
    "-   *&lsquo;real&rsquo;*\n",
    "    -   the real part of the complex visibility cube from the\n",
    "        MeasurementSet data column specified in the *datacolumn*\n",
    "        parameter.\n",
    "    -   If only the *FLOAT_DATA* column exists, the float values are\n",
    "        plotted and the axis is labeled &ldquo;Amp:float&rdquo;.\n",
    "    -   For residual data columns, vector (complex) subtraction or\n",
    "        division occurs before the real part is computed.&nbsp; When\n",
    "        averaging is enabled, the averaged data for each column is used\n",
    "        for the subtraction or division, then the real part is taken.\n",
    "    -   For CalTables with complex parameters (*CPARAM* column), this\n",
    "        axis is relabeled &lsquo;Gain Real&rsquo;. Not valid for\n",
    "        CalTables with non-complex float parameters (*FPARAM* column).\n",
    "-   *&lsquo;imag&rsquo;* (*&lsquo;imaginary&rsquo;*)\n",
    "    -   the imaginary part of the complex visibility cube from the\n",
    "        MeasurementSet data column specified in the *datacolumn*\n",
    "        parameter.\n",
    "    -   Not valid if only non-complex *FLOAT_DATA* column exists.\n",
    "    -   For residual data columns, vector (complex) subtraction or\n",
    "        division occurs before the imaginary part is computed.&nbsp;\n",
    "        When averaging is enabled, the averaged data for each column is\n",
    "        used for the subtraction or division, then the imaginary part is\n",
    "        taken.\n",
    "    -   For CalTables with complex parameters (*CPARAM* column), this\n",
    "        axis is re-labeled &lsquo;Gain Imag&rsquo;. Not valid for\n",
    "        CalTables with non-complex float parameters (*FPARAM* column).\n",
    "-   *&lsquo;wt&rsquo;* (*&lsquo;weight&rsquo;*)\n",
    "    -   values from the *WEIGHT* column, which reflects how much weight\n",
    "        each corrected data sample (*CORRECTED_DATA* column) should\n",
    "        receive when combined, e.g. in averaging. See also chapter on\n",
    "        [Data\n",
    "        Weights](https://casa.nrao.edu/casadocs-devel/stable/calibration-and-visibility-data/data-weights).\n",
    "    -   Not supported for CalTables.\n",
    "-   *&lsquo;wtamp&rsquo;* (*&lsquo;wt\\*amp&rsquo;*)\n",
    "    -   product of the weight from the *WEIGHT* column and the amplitude\n",
    "        of the visibility cube from the requested data column.  \n",
    "        Not supported for CalTables.\n",
    "-   *&lsquo;wtsp&rsquo;* (*&lsquo;weightspectrum&rsquo;*)\n",
    "    -   values from the *WEIGHT_SPECTRUM* column, which reflects\n",
    "        per-channel frequency variations of the *WEIGHT* column. If this\n",
    "        column does not exist, a warning is issued and *WEIGHT* is\n",
    "        plotted instead. See also chapter on [Data\n",
    "        Weights](https://casa.nrao.edu/casadocs-devel/stable/calibration-and-visibility-data/data-weights).\n",
    "    -   Not supported for CalTables.\n",
    "-   *&lsquo;sigma&rsquo;*\n",
    "    -   values from the *SIGMA* column, which reflects the rms noise of\n",
    "        the *DATA* column.&nbsp; See also chapter on [Data\n",
    "        Weights](https://casa.nrao.edu/casadocs-devel/stable/calibration-and-visibility-data/data-weights).\n",
    "    -   Not supported for CalTables.\n",
    "-   *&lsquo;sigmasp&rsquo;* (*&lsquo;sigmaspectrum&rsquo;*)\n",
    "    -   values from the *SIGMA_SPECTRUM* column, which reflects\n",
    "        per-channel frequency variations of the *SIGMA* column. If this\n",
    "        column does not exist, the values are derived.&nbsp; See also\n",
    "        chapter on [Data\n",
    "        Weights](https://casa.nrao.edu/casadocs-devel/stable/calibration-and-visibility-data/data-weights).\n",
    "    -   Not supported for CalTables.\n",
    "-   *&lsquo;flag&rsquo;*\n",
    "    -   boolean values from the *FLAG* column (0=unflagged, 1=flagged).\n",
    "-   *&lsquo;flagrow&rsquo;*\n",
    "    -   boolean values from the *FLAG_ROW* column (0=no flags in row,\n",
    "        1=flags in row).\n",
    "    -   This can be inconsistent with *FLAG*, as it is not always\n",
    "        updated as flags are changed.\n",
    "\n"
   ]
  },
  {
   "cell_type": "markdown",
   "metadata": {},
   "source": [
    "#### Observational Geometry Axes\n",
    "\n",
    "-   *&lsquo;uvdist&rsquo;*\n",
    "    -   uv distance (baseline separations), in meters. Calculated as\n",
    "        sqrt(u\\*u+v\\*v),\n",
    "        where u and v are values from the *UVW* column  \n",
    "        Not supported for CalTables.\n",
    "-   *&lsquo;uvwave&rsquo;* (*&rsquo;uvdistl&rsquo;,\n",
    "    &rsquo;uvdist_l&rsquo;*)\n",
    "    -   uv distance (baseline separations) as a function of frequency,\n",
    "        in units of the observing wavelength &lambda; (lambda).\n",
    "    -   Not supported for CalTables.\n",
    "-   *&lsquo;u&rsquo;*\n",
    "    -   u in meters, from the *UVW* column.\n",
    "    -   Not supported for CalTables.\n",
    "-   *&lsquo;v&rsquo;*\n",
    "    -   v in meters, from the *UVW* column.\n",
    "    -   Not supported for CalTables.\n",
    "-   *&lsquo;w&rsquo;*\n",
    "    -   w in meters, from the *UVW* column.\n",
    "    -   Not supported for CalTables.\n",
    "-   *&lsquo;uwave&rsquo;*\n",
    "    -   u in units of wavelength &lambda; (lambda).\n",
    "    -   Not supported for CalTables.\n",
    "-   *&lsquo;vwave&rsquo;*\n",
    "    -   v in units of wavelength &lambda; (lambda).\n",
    "    -   Not supported for CalTables.\n",
    "-   *&lsquo;wwave&rsquo;*\n",
    "    -   w in units of wavelength &lambda; (lambda).\n",
    "    -   Not supported for CalTables.\n",
    "-   *&lsquo;azimuth&rsquo;*\n",
    "    -   azimuth for the entire array, in degrees. Calculated from the\n",
    "        *FIELD* table&rsquo;s *PHASE_DIR* column and the observatory\n",
    "        position, using the\n",
    "        [measures](https://casa.nrao.edu/casadocs-devel/stable/global-tool-list/tool_measures)\n",
    "        (me) tool.\n",
    "    -   Not supported for CalTables.\n",
    "-   *&lsquo;elevation*&rsquo;\n",
    "    -   elevation for the entire array, in degrees. Calculated from the\n",
    "        *FIELD* table&rsquo;s *PHASE_DIR* column and the observatory\n",
    "        position, using the\n",
    "        [measures](https://casa.nrao.edu/casadocs-devel/stable/global-tool-list/tool_measures)\n",
    "        (me) tool.\n",
    "    -   Not supported for CalTables.\n",
    "-   *&lsquo;hourang&rsquo;* (*&lsquo;hourangle&rsquo;*)\n",
    "    -   hour angle for the entire array, in units of hours. Calculated\n",
    "        from the FIELD table&rsquo;s *PHASE_DIR* column and the\n",
    "        observatory position, using\n",
    "        the&nbsp;[measures](https://casa.nrao.edu/casadocs-devel/stable/global-tool-list/tool_measures)\n",
    "        (me) tool.\n",
    "    -   Not supported for CalTables.\n",
    "-   *&lsquo;parang&rsquo;* (*&lsquo;parangle&rsquo;,\n",
    "    &lsquo;parallacticangle&rsquo;*)\n",
    "    -   parallactic angle for the entire array, in degrees. Calculated\n",
    "        from the FIELD table&rsquo;s *PHASE_DIR* column and the\n",
    "        observatory position, using\n",
    "        the&nbsp;[measures](https://casa.nrao.edu/casadocs-devel/stable/global-tool-list/tool_measures)\n",
    "        (me) tool .\n",
    "    -   Not supported for CalTables.\n",
    "-   *&lsquo;antenna&rsquo;* (*&lsquo;ant&rsquo;*)\n",
    "    -   antenna IDs in range 0\\~nAnt, for plotting antenna-based\n",
    "        quantities.\n",
    "    -   For CalTables with no antenna2 IDs, &lsquo;antenna&rsquo; is the\n",
    "        same as &lsquo;antenna1&rsquo;.\n",
    "-   *&lsquo;ant-azimuth&rsquo;*\n",
    "    -   azimuth for each antenna, in degrees. Calculated from the\n",
    "        *FIELD* table&rsquo;s *PHASE_DIR* column and the positions in\n",
    "        the *ANTENNA* table, using\n",
    "        the&nbsp;[measures](https://casa.nrao.edu/casadocs-devel/stable/global-tool-list/tool_measures)\n",
    "        (me) tool.\n",
    "    -   Not supported for CalTables.\n",
    "-   *&lsquo;ant-elevation&rsquo;*\n",
    "    -   elevation for each antenna, in degrees. Calculated from the\n",
    "        *FIELD* table&rsquo;s *PHASE_DIR* column and the positions in\n",
    "        the *ANTENNA* table, using\n",
    "        the&nbsp;[measures](https://casa.nrao.edu/casadocs-devel/stable/global-tool-list/tool_measures)\n",
    "        (me) tool.\n",
    "    -   Not supported for CalTables.\n",
    "-   'ant-ra'\n",
    "    -   Only implemented for ALMA, ASTE, and NRO data.\n",
    "    -   longitude of the direction to which the first antenna of a\n",
    "        baseline points at data-taking timestamps. Calculated by\n",
    "        interpolating at data-taking timestamps POINTING table's\n",
    "        DIRECTION column, and converting the result to a user-specified\n",
    "        reference frame. See xinterp, yinterp and xframe, yframe\n",
    "        parameters below for supported interpolation methods and\n",
    "        reference frames.\n",
    "    -   Not supported for CalTables\n",
    "    -   Averaging not supported\n",
    "-   &nbsp;'ant-dec'\n",
    "    -   Only implemented for ALMA, ASTE, and NRO data.\n",
    "    -   latitude of the direction to which the first antenna of a\n",
    "        baseline points at data-taking timestamps. Calculated by\n",
    "        interpolating at data-taking timestamps POINTING table's\n",
    "        DIRECTION column, and converting the result to a user-specified\n",
    "        reference frame. See xinterp, yinterp and xframe, yframe\n",
    "        parameters below for supported interpolation methods and\n",
    "        reference frames.\n",
    "    -   Not supported for CalTables\n",
    "    -   Averaging not supported\n",
    "-   *&lsquo;ant-parang&rsquo;* (*&lsquo;ant-parangle&rsquo;,\n",
    "    &lsquo;ant-parallacticangle&rsquo;*)\n",
    "    -   parallactic angle for each antenna, in degrees. Calculated from\n",
    "        the *FIELD* table&rsquo;s *PHASE_DIR* column and the positions\n",
    "        in the *ANTENNA* table, using\n",
    "        the&nbsp;[measures](https://casa.nrao.edu/casadocs-devel/stable/global-tool-list/tool_measures)\n",
    "        (me) tool.\n",
    "    -   Not supported for CalTables.\n",
    "\n"
   ]
  },
  {
   "cell_type": "markdown",
   "metadata": {},
   "source": [
    "#### Calibration Axes\n",
    "\n",
    "-   *&lsquo;gainamp&rsquo;* (*&lsquo;gamp&rsquo;*)\n",
    "    -   Invalid for MeasurementSets.\n",
    "    -   amplitude of complex gain parameters (*CPARAM* column). For\n",
    "        CalTables with float parameters (*FPARAM* column), the float\n",
    "        values are plotted.&nbsp; For polynomial CalTables, including\n",
    "        BPOLY and GSPLINE, the viscube values are calculated according\n",
    "        to the *POLY_MODE* and their amplitudes are plotted.\n",
    "    -   When the default *xaxis* or *yaxis* parameter (&ldquo;&rdquo;)\n",
    "        is used, the *gainamp* axis is relabeled with the axis\n",
    "        appropriate for the table type.&nbsp; However, when the xaxis or\n",
    "        yaxis is explicitly set to *&lsquo;gainamp&rsquo;*, the axis is\n",
    "        labeled &rdquo;Gain Amplitude&rdquo; although the float\n",
    "        parameter values may actually be Tsys, opacity, etc.\n",
    "-   *&lsquo;gainphase&rsquo;* (&lsquo;*gphase&rsquo;*)\n",
    "    -   Invalid for MeasurementSets.\n",
    "    -   phase of complex gain parameters (*CPARAM* column). Invalid for\n",
    "        CalTables with float parameters (*FPARAM* column).&nbsp; For\n",
    "        polynomial CalTables, including BPOLY and GSPLINE, the viscube\n",
    "        values are calculated according to the *POLY_MODE* and their\n",
    "        phases are plotted.\n",
    "-   *&lsquo;gainreal&rsquo;* (*&lsquo;greal&rsquo;*)\n",
    "    -   Invalid for MeasurementSets.\n",
    "    -   real part of complex gain parameters (*CPARAM* column). Invalid\n",
    "        for CalTables with float parameters (*FPARAM* column).&nbsp; For\n",
    "        polynomial CalTables, including BPOLY and GSPLINE, the viscube\n",
    "        values are calculated according to the *POLY_MODE* and the real\n",
    "        part is plotted.\n",
    "-   *&lsquo;gainimag&rsquo;* (*&lsquo;gimag&rsquo;*)\n",
    "    -   Invalid for MeasurementSets.\n",
    "    -   imaginary part of complex gain parameters (*CPARAM* column).\n",
    "        Invalid for CalTables with float parameters (*FPARAM*\n",
    "        column).&nbsp; For polynomial CalTables, including BPOLY and\n",
    "        GSPLINE, the viscube values are calculated according to the\n",
    "        *POLY_MODE* and their phases are plotted.\n",
    "-   *&lsquo;delay*&rsquo; (*&lsquo;del&rsquo;*)\n",
    "    -   Invalid for MeasurementSets.\n",
    "    -   delay values of a delay CalTable, from the *FPARAM* column.\n",
    "        Invalid for other CalTable types.\n",
    "-   *&lsquo;swpower&rsquo;* (*&lsquo;swp&rsquo;,\n",
    "    &lsquo;switchedpower&rsquo;, &lsquo;spgain&rsquo;*)\n",
    "    -   Invalid for MeasurementSets.\n",
    "    -   switched power values for a VLA switched power CalTable, from\n",
    "        the *FPARAM* column. Invalid for other CalTable types.\n",
    "-   *&lsquo;tsys&rsquo;*\n",
    "    -   Invalid for MeasurementSets.\n",
    "    -   tsys of a Tsys CalTable, from the *FPARAM* column. Invalid for\n",
    "        otherCalTable types.\n",
    "-   *&lsquo;opacity&rsquo;* (*&lsquo;opac&rsquo;*)\n",
    "    -   Invalid for MeasurementSets.\n",
    "    -   opacity of an opacity CalTable, from the *FPARAM* column.\n",
    "        Invalid for other CalTable types.\n",
    "-   *&lsquo;snr&rsquo;*\n",
    "    -   Invalid for MeasurementSets.\n",
    "    -   signal-to-noise ratio of a CalTable, from the *SNR* column.\n",
    "-   *&lsquo;tec&rsquo;*\n",
    "    -   Invalid for MeasurementSets.\n",
    "    -   total electron content of an ionosphere correction CalTable,\n",
    "        from the *FPARAM* column. Invalid for other CalTable types.\n",
    "\n"
   ]
  },
  {
   "cell_type": "markdown",
   "metadata": {},
   "source": [
    "#### Ephemeris Axes\n",
    "\n",
    "-   *&lsquo;radialvelocity&rsquo;*\n",
    "    -   radial velocity of an ephemeris field, in km/s. Valid only for\n",
    "        MeasurementSets whose *FIELD* subtable has an ephemeris table.\n",
    "    -   Invalid for CalTables.\n",
    "-   *&lsquo;distance&rsquo;* (*&lsquo;rho&rsquo;*)\n",
    "    -   distance (rho) of an ephemeris field, in km. Valid only for\n",
    "        MeasurementSets whose *FIELD* subtable has an ephemeris table.\n",
    "    -   Invalid for CalTables.\n",
    "\n"
   ]
  },
  {
   "cell_type": "markdown",
   "metadata": {},
   "source": [
    "#### Other Axis Settings\n",
    "\n",
    "-   "
   ]
  },
  {
   "cell_type": "markdown",
   "metadata": {},
   "source": [
    "##### *xdatacolumn, ydatacolumn*\n",
    "\n",
    "    -   data column in the MeasurementSet from which to retrieve\n",
    "        visibilities\n",
    "    -   &ldquo;&rdquo; (default) : &lsquo;*data*&rsquo; (*DATA* column).\n",
    "    -   Subparameters of visibility axes only.\n",
    "    -   If a data column other than &lsquo;*data&rsquo;* is selected,\n",
    "        the visibility axis in the plot title is appended with the data\n",
    "        column name, e.g. &ldquo;Amp:corrected vs. Time&rdquo;.\n",
    "    -   For residual data columns:  \n",
    "        -   Vector (complex) subtraction or division occurs before the\n",
    "            axis operation (amplitude, phase, real, imaginary) is\n",
    "            computed.\n",
    "        -   When the '*corrected/model*' or '*data/model*' data column\n",
    "            is selected, some of the resulting values may be infinite or\n",
    "            \"not a number\" due to division by zero.&nbsp; These values\n",
    "            are ignored when plotting.\n",
    "        -   When averaging is enabled, each column's data is averaged,\n",
    "            then it is subtracted or divided, then the axis operation is\n",
    "            computed.\n",
    "        -   Data residual columns *&lsquo;data-model&rsquo;* and\n",
    "            *&lsquo;data/model&rsquo;* are invalid for singledish\n",
    "            datasets.&nbsp; There are no float residual columns.\n",
    "    -   Options:\n",
    "        -   *&lsquo;data&rsquo;*\n",
    "            -   raw data. Use the *DATA* column in the MeasurementSet.\n",
    "            -   For singledish datasets, a warning is issued and\n",
    "                *FLOAT_DATA* is plotted with \":float\" appended to the\n",
    "                visibility axis label.\n",
    "        -   *&lsquo;corrected&rsquo;*\n",
    "            -   calibrated data. Use the *CORRECTED_DATA* column in the\n",
    "                MeasurementSet, or use on-the-fly calibration if\n",
    "                *callib* parameter is set.&nbsp;Plotms will prefer OTF\n",
    "                calibration over an\n",
    "                existing&nbsp;*CORRECTED_DATA*&nbsp;column.\n",
    "            -   If no calibrated data can be used, a warning is issued\n",
    "                and the raw data (*DATA* or *FLOAT_DATA*) is plotted\n",
    "                instead.\n",
    "        -   *&lsquo;model&rsquo;*\n",
    "            -   model data. Use the *MODEL_DATA* column in the\n",
    "                MeasurementSet.\n",
    "            -   For interferometry datasets, model data is created\n",
    "                dynamically if it does not exist.\n",
    "            -   For singledish datasets with no model data, an error is\n",
    "                issued and no plot is made.\n",
    "        -   *&lsquo;float&rsquo;*\n",
    "            -   non-complex data.&nbsp; Use the *FLOAT_DATA* column in\n",
    "                the MeasurementSet. Primarily for single-dish data.\n",
    "            -   Fails if *FLOAT_DATA* does not exist.\n",
    "        -   *&rsquo;corrected-model&rsquo;* ('*corrected-model_vector'*,\n",
    "            *&rsquo;residual&rsquo;)*\n",
    "            -   subtract the model data from the corrected data before\n",
    "                the amplitude, phase, etc. is calculated.\n",
    "            -   For interferometry datasets with no corrected data and\n",
    "                cannot be generated with the *callib* parameter, a\n",
    "                warning is issued and '*data-model_vector*' is plotted.\n",
    "            -   For singledish datasets with no corrected data and/or no\n",
    "                model data, an error is issued and no plot is made.\n",
    "        -   *&rsquo;corrected-model_scalar&rsquo;*\n",
    "            -   subtract the model data from the corrected data after\n",
    "                the amplitude, phase, etc. is calculated.\n",
    "            -   For interferometry datasets with no corrected data and\n",
    "                cannot be generated with the *callib* parameter, a\n",
    "                warning is issued and '*data-model_scalar*' is plotted.\n",
    "            -   For singledish datasets with no corrected data and/or no\n",
    "                model data, an error is issued and no plot is made.\n",
    "        -   *&lsquo;data-model&rsquo;* ('*data-model_vector'*)*  \n",
    "            *\n",
    "            -   subtract the model data from the raw data before the\n",
    "                amplitude, phase, etc. is calculated.\n",
    "            -   For interferometry datasets, model data is created\n",
    "                dynamically if it does not exist.\n",
    "            -   Invalid for singledish datasets: no data or model\n",
    "                columns. An error is issued and no plot is made.\n",
    "        -   *&lsquo;data-model'* ('*data-model_scalar'*)*  \n",
    "            *\n",
    "            -   subtract the model data from the raw data after the\n",
    "                amplitude, phase, etc. is calculated.\n",
    "            -   For interferometry datasets, model data is created\n",
    "                dynamically if it does not exist.\n",
    "            -   Invalid for singledish datasets: no data or model\n",
    "                columns. An error is issued and no plot is made.\n",
    "        -   *&lsquo;corrected/model&rsquo; ('corrected/model_vector')  \n",
    "            *\n",
    "            -   divide the corrected data by the model data before the\n",
    "                amplitude, phase, etc. is calculated.\n",
    "            -   For interferometry datasets with corrected data, model\n",
    "                data is created dynamically if it does not exist.\n",
    "            -   For interferometry datasets with no corrected data and\n",
    "                cannot be generated with the *callib* parameter, a\n",
    "                warning is issued and '*data/model_vector*' is plotted.\n",
    "            -   For singledish datasets with no corrected data and/or no\n",
    "                model data, an error is issued and no plot is made.\n",
    "        -   *'corrected/model_scalar'  \n",
    "            *\n",
    "            -   divide the corrected data by the model data after the\n",
    "                amplitude, phase, etc. is calculated.\n",
    "            -   For interferometry datasets with corrected data, model\n",
    "                data is created dynamically if it does not exist.\n",
    "            -   For interferometry datasets with no corrected data and\n",
    "                cannot be generated with the *callib* parameter, a\n",
    "                warning is issued and '*data/model_scalar*' is plotted.\n",
    "            -   For singledish datasets with no corrected data and/or no\n",
    "                model data, an error is issued and no plot is made.\n",
    "        -   *&lsquo;data/model&rsquo;* ('*data/model_vector'*)*  \n",
    "            *\n",
    "            -   divide the raw data by the model data before the\n",
    "                amplitude, phase, etc. is calculated..\n",
    "            -   For interferometry datasets, model data is created\n",
    "                dynamically if it does not exist.\n",
    "            -   Invalid for singledish datasets: no data or&nbsp; model\n",
    "                columns.&nbsp; An error is issued and no plot is made.\n",
    "        -   '*data/model_scalar*'*  \n",
    "            *\n",
    "            -   divide the raw data by the model data after the\n",
    "                amplitude, phase, etc. is calculated..\n",
    "            -   For interferometry datasets, model data is created\n",
    "                dynamically if it does not exist.\n",
    "            -   Invalid for singledish datasets: no data or&nbsp; model\n",
    "                columns.&nbsp; An error is issued and no plot is made.\n",
    "\n",
    "-   "
   ]
  },
  {
   "cell_type": "markdown",
   "metadata": {},
   "source": [
    "##### *xinterp, yinterp *\n",
    "\n",
    "    -   *Sub-parameter of xaxis (resp. yaxis) when xaxis='ant-ra' or\n",
    "        xaxis='ant-dec' (resp. yaxis='ant-ra' or yaxis='ant-dec')*\n",
    "    -   *Interpolation method to use for interpolating antennas'\n",
    "        pointing directions recorded in MeasurementSet's POINTING table\n",
    "        (DIRECTION and TIME columns) at data-taking timestamps (MAIN\n",
    "        table, TIME column)  \n",
    "        *\n",
    "    -   *&ldquo;&rdquo; (default) : &lsquo;*cubic spline*&rsquo;  \n",
    "        *\n",
    "    -   *Options: 'cubic spline', 'spline', 'nearest'*\n",
    "        -   *'spline' is a synonym for 'cubic spline'*\n",
    "\n",
    "-   "
   ]
  },
  {
   "cell_type": "markdown",
   "metadata": {},
   "source": [
    "##### *xframe, yframe *\n",
    "\n",
    "    -   *Sub-parameter of xaxis (resp. yaxis) when xaxis='ant-ra' or\n",
    "        xaxis='ant-dec' (resp. yaxis='ant-ra' or yaxis='ant-dec')*\n",
    "    -   *Convert antennas' interpolated pointing directions to the\n",
    "        supplied reference frame  \n",
    "        *\n",
    "    -   *&ldquo;&rdquo; (default) : &lsquo;icrs&rsquo;  \n",
    "        *\n",
    "    -   *Options: 'icrs', 'j2000','b1950','galactic','azelgeo'  \n",
    "        *\n",
    "\n",
    "<!-- -->\n",
    "\n",
    "-   "
   ]
  },
  {
   "cell_type": "markdown",
   "metadata": {},
   "source": [
    "##### *yaxislocation*\n",
    "\n",
    "    -   whether to put the yaxis on the left or right.\n",
    "    -   &ldquo;&rdquo; (default) : left.\n",
    "    -   Options: *&lsquo;left&rsquo;*, *&lsquo;right&rsquo;*\n",
    "    -   Can be a string or list when yaxis is a list, e.g. (yaxis=\\[&lsquo;amp&rsquo;,\n",
    "        &lsquo;phase&rsquo;\\], yaxislocation=\\[&lsquo;left&rsquo;,\n",
    "        &lsquo;right&rsquo;\\]) will plot amp on the left yaxis\n",
    "        and phase on the right yaxis.\n",
    "    -   xaxis location can be set in the GUI but there is no\n",
    "        corresponding parameter.\n",
    "\n",
    "-   "
   ]
  },
  {
   "cell_type": "markdown",
   "metadata": {},
   "source": [
    "##### *plotrange*\n",
    "\n",
    "    -   format is \\[xmin, xmax, ymin, ymax\\]; when min=max=0,\n",
    "        autoscaling is used.\n",
    "    -   \\[\\] (default) : \\[0,0,0,0\\] to autoscale the x and y ranges.\n",
    "    -   You may autoscale one axis and not the other.&nbsp; For example,\n",
    "        \\[0,0,0,10\\] will autoscale the xaxis but set the yaxis range to\n",
    "        \\[0,10\\].\n",
    "\n",
    "-   "
   ]
  },
  {
   "cell_type": "markdown",
   "metadata": {},
   "source": [
    "##### *callib*\n",
    "\n",
    "    -   calibration library string or filename to use for on-the-fly\n",
    "        (OTF) calibration to produce calibrated data (the\n",
    "        &lsquo;*corrected*&rsquo; datacolumn).\n",
    "    -   \"\" (default): no calibration library\n",
    "    -   See [Cal Library Syntax\n",
    "        documentation](https://casa.nrao.edu/casadocs-devel/stable/calibration-and-visibility-data/cal-library-syntax).\n",
    "        When this parameter is set, OTF calibration is enabled.&nbsp;\n",
    "        Plotms will prefer OTF calibration over an existing\n",
    "        *CORRECTED_DATA* column.\n",
    "\n",
    "-   "
   ]
  },
  {
   "cell_type": "markdown",
   "metadata": {},
   "source": [
    "##### *showatm, showtsky, showimage *\n",
    "\n",
    "    -   overplot the atmospheric transmission curve or the sky\n",
    "        temperature curve, with the yaxis on the right. The *xaxis* must\n",
    "        be *&lsquo;chan&rsquo;* or &lsquo;*freq&rsquo;*, else the plot\n",
    "        is made without the overlay.\n",
    "    -   False (default): no overlay.\n",
    "    -   Only one overlay may be chosen. If both are True, only the\n",
    "        atmospheric curve is computed and plotted.\n",
    "    -   Overlays are computed with the\n",
    "        [atmosphere](https://casa.nrao.edu/casadocs-devel/stable/global-tool-list/tool_atmosphere)\n",
    "        (atm) tool using pressure, humidity, temperature, and\n",
    "        precipitable water vapor (pwv) computed from the MeasurementSet\n",
    "        subtables:\n",
    "        -   The *WEATHER* subtable is used to compute mean weather\n",
    "            values, else defaults are used. humidity: 20.0, temperature:\n",
    "            273.15, pressure: 563.0 (ALMA) or 786.0 (other).\n",
    "        -   The ALMA *ASDM_CALWVR* or *ASDM_CALATMOSPHERE* subtable is\n",
    "            used to compute pwv, else defaults are used. 1.0 (ALMA), 5.0\n",
    "            (other).\n",
    "    -   When *showimage=True*, the image sideband curve is also\n",
    "        plotted.&nbsp; This feature can only be used when *showatm* or\n",
    "        *showtsky* is True.&nbsp; In addition, the MS (associated MS for\n",
    "        a calibration table) cannot be split and must have an\n",
    "        ASDM_RECEIVER table, or a warning is issued and the atm/tsky\n",
    "        curve is plotted without the sideband curve.\n",
    "\n"
   ]
  },
  {
   "cell_type": "markdown",
   "metadata": {},
   "source": [
    "### Data Selection\n",
    "\n"
   ]
  },
  {
   "cell_type": "markdown",
   "metadata": {},
   "source": [
    "##### *selectdata*\n",
    "\n",
    "-   parameter to enable data selection.\n",
    "-   True (default) : data selection always enabled.\n",
    "-   See\n",
    "    [MSSelection](https://casa.nrao.edu/casadocs-devel/stable/calibration-and-visibility-data/data-selection-in-a-measurementset)\n",
    "    for syntax of subparameters below.&nbsp; All arguments are strings.\n",
    "-   For all subparameters, &ldquo;&rdquo; (default) selects all (no\n",
    "    selection).\n",
    "-   Selection is done before averaging, calibration, plotting, etc.\n",
    "-   Selection by uvrange, array, intent, and feed is invalid for\n",
    "    CalTables, which do not have these columns.\n",
    "\n",
    "<!-- -->\n",
    "\n",
    "-   "
   ]
  },
  {
   "cell_type": "markdown",
   "metadata": {},
   "source": [
    "##### *field*\n",
    "\n",
    "    -   select fields by name or ID.\n",
    "\n",
    "<!-- -->\n",
    "\n",
    "-   "
   ]
  },
  {
   "cell_type": "markdown",
   "metadata": {},
   "source": [
    "##### *spw*\n",
    "\n",
    "    -   select spectral windows/channels.\n",
    "    -   For CalTables, select spw only; channel selection is currently\n",
    "        not implemented.\n",
    "\n",
    "<!-- -->\n",
    "\n",
    "-   "
   ]
  },
  {
   "cell_type": "markdown",
   "metadata": {},
   "source": [
    "##### *timerange*\n",
    "\n",
    "    -   select data based on time range.\n",
    "\n",
    "<!-- -->\n",
    "\n",
    "-   "
   ]
  },
  {
   "cell_type": "markdown",
   "metadata": {},
   "source": [
    "##### *uvrange*\n",
    "\n",
    "    -   select data within uvrange (default meters), or include units:\n",
    "        &lsquo;0\\~1000klamba&rsquo;.\n",
    "    -   Not supported for CalTables.\n",
    "\n",
    "<!-- -->\n",
    "\n",
    "-   "
   ]
  },
  {
   "cell_type": "markdown",
   "metadata": {},
   "source": [
    "##### *antenna*\n",
    "\n",
    "    -   select baselines and auto/cross-correlations for MeasurementSet.\n",
    "    -   select antenna1 for CalTables.\n",
    "\n",
    "<!-- -->\n",
    "\n",
    "-   "
   ]
  },
  {
   "cell_type": "markdown",
   "metadata": {},
   "source": [
    "##### *scan*\n",
    "\n",
    "    -   select scan numbers.\n",
    "\n",
    "<!-- -->\n",
    "\n",
    "-   "
   ]
  },
  {
   "cell_type": "markdown",
   "metadata": {},
   "source": [
    "##### *correlation*\n",
    "\n",
    "    -   select correlations for MeasurementSet.\n",
    "    -   select polarizations for CalTable, including ratio plots.&nbsp;\n",
    "        Options include \"RL\", \"R\", \"L\", \"XY\", \"X\", \"Y\", and \"/\".\n",
    "\n",
    "<!-- -->\n",
    "\n",
    "-   "
   ]
  },
  {
   "cell_type": "markdown",
   "metadata": {},
   "source": [
    "##### *array*\n",
    "\n",
    "    -   select array ID.\n",
    "    -   Not supported for CalTables.\n",
    "\n",
    "<!-- -->\n",
    "\n",
    "-   "
   ]
  },
  {
   "cell_type": "markdown",
   "metadata": {},
   "source": [
    "##### *observation*\n",
    "\n",
    "    -   select observation ID.\n",
    "\n",
    "<!-- -->\n",
    "\n",
    "-   "
   ]
  },
  {
   "cell_type": "markdown",
   "metadata": {},
   "source": [
    "##### *intent*\n",
    "\n",
    "    -   select state ID or intent by name.\n",
    "    -   Not supported for CalTables.\n",
    "\n",
    "<!-- -->\n",
    "\n",
    "-   "
   ]
  },
  {
   "cell_type": "markdown",
   "metadata": {},
   "source": [
    "##### *feed*\n",
    "\n",
    "    -   select feed IDs by number.\n",
    "    -   Note: as with antenna IDs, a single feed ID selection (e.g.\n",
    "        *feed=\"1\"*) will only select where feed1 or feed2 is the\n",
    "        selected ID but not both, unless \"auto-correlation\"-like syntax\n",
    "        is used .\n",
    "    -   Not supported for CalTables.\n",
    "\n",
    "<!-- -->\n",
    "\n",
    "-   "
   ]
  },
  {
   "cell_type": "markdown",
   "metadata": {},
   "source": [
    "##### *msselect*\n",
    "\n",
    "    -   select using TaQL expression.\n",
    "\n"
   ]
  },
  {
   "cell_type": "markdown",
   "metadata": {},
   "source": [
    "### Data Averaging\n",
    "\n"
   ]
  },
  {
   "cell_type": "markdown",
   "metadata": {},
   "source": [
    "##### *averagedata*\n",
    "\n",
    "-   parameter to enable data averaging.&nbsp; Not implemented for\n",
    "    CalTables.\n",
    "-   True (default) : averaging always enabled.\n",
    "-   For all subparameters, &ldquo;&rdquo; or False (default) does no\n",
    "    averaging.\n",
    "-   When averaging, plotms will prefer unflagged data. If an averaging\n",
    "    bin contains any unflagged data at all, only the average of the\n",
    "    unflagged will be shown. When flagging on a plot of averaged data,\n",
    "    the flags will be applied to the unaveraged data in the MS.\n",
    "-   When plotting weight axes with averaging enabled, the values are the\n",
    "    weights applied to the averaged data, i.e. it is the sum not the\n",
    "    average of the weight values.\n",
    "-   Some axes are invalid or not implemented for some averaging\n",
    "    modes.&nbsp; For example, you cannot plot weight axes when baseline,\n",
    "    averaging, spw, or scalar averaging is enabled.\n",
    "-   The result is a weighted average. When averaging corrected data,\n",
    "    weight spectrum is used. When averaging raw data, sigma spectrum is\n",
    "    used.\n",
    "-   Normally, the data averaged together has the same scan number,\n",
    "    field, baseline, and spw.&nbsp; Subparameters allow data to be\n",
    "    averaged across these boundaries.\n",
    "-   By default, data uses vector averaging, where the complex average is\n",
    "    formed by averaging the complex values of the visibilities, then the\n",
    "    amplitude or phase of the result is plotted.&nbsp; To compute the\n",
    "    average of the amplitude or phase values instead, set *scalar=True*.\n",
    "\n",
    "<!-- -->\n",
    "\n",
    "-   "
   ]
  },
  {
   "cell_type": "markdown",
   "metadata": {},
   "source": [
    "##### *avgchannel*\n",
    "\n",
    "    -   Average data across the channel axis; value is number of\n",
    "        channels to average together to form one output channel.\n",
    "    -   see\n",
    "        [mstransform](https://casa.nrao.edu/casadocs-devel/stable/global-task-list/task_mstransform)\n",
    "        description for channel averaging.\n",
    "    -   When plotting the *&lsquo;channel&rsquo;* axis, output channel\n",
    "        numbers are reindexed 0\\~nAvgChan, rather than using the average\n",
    "        of the channel numbers (channels are integer values). The axis\n",
    "        label is changed to &ldquo;Average Channel&rdquo;.\n",
    "    -   The plotms Locate tool indicates which channels were averaged\n",
    "        together for a point in the plot, e.g.\n",
    "        &ldquo;Chan=\\<7\\~13\\>&rdquo; which may be shown as channel 1 on\n",
    "        the plot.\n",
    "\n",
    "<!-- -->\n",
    "\n",
    "-   "
   ]
  },
  {
   "cell_type": "markdown",
   "metadata": {},
   "source": [
    "##### *avgtime*\n",
    "\n",
    "    -   Average data across the time axis; value string is number of\n",
    "        seconds to average together.\n",
    "    -   \"\" (default): do not time-average data.\n",
    "    -   The &ldquo;bins&rdquo; of averaged data have the same scan\n",
    "        number and field ID unless avgscan or avgfield are True.\n",
    "\n",
    "<!-- -->\n",
    "\n",
    "-   "
   ]
  },
  {
   "cell_type": "markdown",
   "metadata": {},
   "source": [
    "##### *avgscan*\n",
    "\n",
    "    -   Ignore scan boundaries when time-averaging data; parameter\n",
    "        ignored when *avgtime* is not set.\n",
    "    -   False (default): time-average data within individual scans.\n",
    "    -   When scan number is used in plotting or locate, the first scan\n",
    "        number of scans averaged together is used for the value,\n",
    "        independent of unflagged/flagged data.\n",
    "\n",
    "<!-- -->\n",
    "\n",
    "-   "
   ]
  },
  {
   "cell_type": "markdown",
   "metadata": {},
   "source": [
    "##### *avgfield*\n",
    "\n",
    "    -   Ignore field boundaries when time-averaging data; parameter\n",
    "        ignored when *avgtime* is not set.\n",
    "    -   False (default): time-average data within individual fields.\n",
    "    -   When field number is used in plotting or locate, the first field\n",
    "        number of fields averaged together is used for the value,\n",
    "        independent of unflagged/flagged data.\n",
    "\n",
    "<!-- -->\n",
    "\n",
    "-   "
   ]
  },
  {
   "cell_type": "markdown",
   "metadata": {},
   "source": [
    "##### *avgbaseline*\n",
    "\n",
    "    -   Average data for all baselines together in each \"chunk\" (rows\n",
    "        having the same scan number, field ID, spw, and correlation).\n",
    "    -   False (default): do not average data over baseline.\n",
    "    -   Exclusive with avgantenna.\n",
    "\n",
    "<!-- -->\n",
    "\n",
    "-   "
   ]
  },
  {
   "cell_type": "markdown",
   "metadata": {},
   "source": [
    "##### *avgantenna*\n",
    "\n",
    "    -   Average data for each antenna separately in each \"chunk\" (rows\n",
    "        having the same scan number, field ID, spw, and correlation).\n",
    "    -   False (default): do not average data per antenna.\n",
    "    -   Exclusive with avgbaseline.\n",
    "\n",
    "<!-- -->\n",
    "\n",
    "-   "
   ]
  },
  {
   "cell_type": "markdown",
   "metadata": {},
   "source": [
    "##### *avgspw*\n",
    "\n",
    "    -   Average data over spectral window. For a given channel number,\n",
    "        the channels in the spectral windows with that number are\n",
    "        averaged together.\n",
    "    -   False (default): do not average data over spectral window.\n",
    "\n",
    "<!-- -->\n",
    "\n",
    "-   "
   ]
  },
  {
   "cell_type": "markdown",
   "metadata": {},
   "source": [
    "##### *scalar*\n",
    "\n",
    "    -   Values like amplitude or phase of the individual complex values\n",
    "        are calculated before averaging.\n",
    "    -   False (default) results in vector averaging: complex values are\n",
    "        averaged, then the values for amp, phase, etc. are calculated.\n",
    "    -   Ignored when other averaging is not enabled.\n",
    "\n"
   ]
  },
  {
   "cell_type": "markdown",
   "metadata": {},
   "source": [
    "### Data Transformations\n",
    "\n"
   ]
  },
  {
   "cell_type": "markdown",
   "metadata": {},
   "source": [
    "##### *transform*\n",
    "\n",
    "-   parameter to enable transformations.&nbsp; Not implemented for\n",
    "    CalTables.\n",
    "-   False (default) disables subparameters below.\n",
    "\n",
    "<!-- -->\n",
    "\n",
    "-   "
   ]
  },
  {
   "cell_type": "markdown",
   "metadata": {},
   "source": [
    "##### *freqframe*\n",
    "\n",
    "    -   the coordinate frame in which to render frequency and velocity\n",
    "        axes.\n",
    "    -   &ldquo;&rdquo; (default) : use frame in which data were taken.\n",
    "    -   Options: *\"LSRK\", \"LSRD\", \"BARY\", \"GEO\", \"TOPO\", \"GALACTO\",\n",
    "        \"LGROUP\", \"CMB\"*\n",
    "\n",
    "<!-- -->\n",
    "\n",
    "-   "
   ]
  },
  {
   "cell_type": "markdown",
   "metadata": {},
   "source": [
    "##### *restfreq*\n",
    "\n",
    "    -   the rest frequency to use in velocity conversions (MHz).\n",
    "    -   &ldquo;&rdquo; (default) : use spw central frequency and show\n",
    "        relative velocity.\n",
    "\n",
    "<!-- -->\n",
    "\n",
    "-   "
   ]
  },
  {
   "cell_type": "markdown",
   "metadata": {},
   "source": [
    "##### *veldef*\n",
    "\n",
    "    -   the velocity definition (Doppler ratio) to use in velocity\n",
    "        conversions.\n",
    "    -   \"*RADIO*\" (default)\n",
    "    -   Options: *&ldquo;RADIO&rdquo;, &ldquo;OPTICAL&rdquo;,\n",
    "        &ldquo;TRUE&rdquo;* (Relativistic)\n",
    "\n",
    "<!-- -->\n",
    "\n",
    "-   "
   ]
  },
  {
   "cell_type": "markdown",
   "metadata": {},
   "source": [
    "##### *shift *\n",
    "\n",
    "    -   phase center shift, in arcseconds. Format is \\[dx, dy\\].\n",
    "    -   \\[0.0, 0.0\\] (default) : no shift.\n",
    "\n"
   ]
  },
  {
   "cell_type": "markdown",
   "metadata": {},
   "source": [
    "### Interactive Flagging Extensions\n",
    "\n"
   ]
  },
  {
   "cell_type": "markdown",
   "metadata": {},
   "source": [
    "##### *extendflag*\n",
    "\n",
    "-   parameter to enable flag extensions according to subparameters.\n",
    "-   False (default): do not extend flags.\n",
    "\n",
    "<!-- -->\n",
    "\n",
    "-   "
   ]
  },
  {
   "cell_type": "markdown",
   "metadata": {},
   "source": [
    "##### *extcorr*\n",
    "\n",
    "    -   Extend flagging to unplotted correlations when\n",
    "        *extendflag=True*, else ignored.\n",
    "    -   False (default) : do not extend flagging by correlation.\n",
    "    -   True : for example, if correlation RR is selected, plotted, and\n",
    "        interactively flagged, correlations RL, LR, and LL will be\n",
    "        flagged for the points in the marked region.\n",
    "\n",
    "<!-- -->\n",
    "\n",
    "-   "
   ]
  },
  {
   "cell_type": "markdown",
   "metadata": {},
   "source": [
    "##### *extchannel*\n",
    "\n",
    "    -   Extend flagging to unplotted channels in the same spw when\n",
    "        *extendflag=True*, else ignored.\n",
    "    -   False (default) : do not extend flagging by channel.\n",
    "    -   True : for example, if spw 0:0 (spw 0, channel 0) is selected,\n",
    "        plotted, and interactively flagged, all channels in spw 0 will\n",
    "        be flagged for the points in the marked region.\n",
    "\n"
   ]
  },
  {
   "cell_type": "markdown",
   "metadata": {},
   "source": [
    "### Display: Symbols\n",
    "\n"
   ]
  },
  {
   "cell_type": "markdown",
   "metadata": {},
   "source": [
    "##### *coloraxis*\n",
    "\n",
    "-   colorize the symbols based on the given axis. Points with the same\n",
    "    value for that axis will be the same color.\n",
    "-   &ldquo;&rdquo; (default) : do not colorize.\n",
    "-   Options: *&ldquo;scan&rdquo;, &ldquo;field&rdquo;,\n",
    "    &ldquo;spw&rdquo;, &ldquo;antenna1&rdquo;* (*&ldquo;ant1&rdquo;*),\n",
    "    *&ldquo;antenna2&rdquo;* (*&ldquo;ant2&rdquo;*),\n",
    "    *&ldquo;baseline&rdquo;, &ldquo;channel&rdquo;*\n",
    "    (*&ldquo;chan&rdquo;*), *&ldquo;corr&rdquo;, &ldquo;time&rdquo;,\n",
    "    &ldquo;observation&rdquo;, &ldquo;intent&rdquo;*\n",
    "-   Overrides custom symbol settings below and xconnector\n",
    "    colorization.&nbsp; Flagged points will be colorized according to\n",
    "    the *coloraxis*.\n",
    "\n"
   ]
  },
  {
   "cell_type": "markdown",
   "metadata": {},
   "source": [
    "##### *customsymbol*\n",
    "\n",
    "-   parameter to enable custom symbol for unflagged data.\n",
    "\n",
    "-   False (default) : disables subparameters below, symbols use default\n",
    "    values (&ldquo;blue&rdquo; autoscaling).\n",
    "\n",
    "-   "
   ]
  },
  {
   "cell_type": "markdown",
   "metadata": {},
   "source": [
    "##### *symbolshape*\n",
    "\n",
    "    -   set the shape of the symbol for points plotted.\n",
    "    -   *&ldquo;autoscaling&rdquo;* (default) changes the size according\n",
    "        to the number of points; the shape is *&ldquo;pixel&rdquo;* for\n",
    "        the highest range of points, *&ldquo;circle&rdquo;* otherwise.\n",
    "    -   Options: *&ldquo;autoscaling&rdquo;, &ldquo;circle&rdquo;,\n",
    "        &ldquo;square&rdquo;, &ldquo;diamond&rdquo;,\n",
    "        &ldquo;pixel&rdquo;, &ldquo;nosymbol&rdquo;* (do not show\n",
    "        points)\n",
    "\n",
    "<!-- -->\n",
    "\n",
    "-   "
   ]
  },
  {
   "cell_type": "markdown",
   "metadata": {},
   "source": [
    "##### *symbolsize*\n",
    "\n",
    "    -   set size in number of pixels.\n",
    "\n",
    "<!-- -->\n",
    "\n",
    "-   "
   ]
  },
  {
   "cell_type": "markdown",
   "metadata": {},
   "source": [
    "##### *symbolcolor*\n",
    "\n",
    "    -   set color by RGB hex code or string color name e.g.\n",
    "        &lsquo;red&rsquo;.\n",
    "    -   *\"0000ff\"* (default) is blue.\n",
    "\n",
    "<!-- -->\n",
    "\n",
    "-   "
   ]
  },
  {
   "cell_type": "markdown",
   "metadata": {},
   "source": [
    "##### *symbolfill*\n",
    "\n",
    "    -   set fill pattern for symbol.\n",
    "    -   *\"fill\"* (default).\n",
    "    -   Options: *&ldquo;fill&rdquo;, &ldquo;mesh1&rdquo;,\n",
    "        &ldquo;mesh2&rdquo;, &ldquo;mesh3&rdquo;, &ldquo;nofill&rdquo;*\n",
    "\n",
    "<!-- -->\n",
    "\n",
    "-   "
   ]
  },
  {
   "cell_type": "markdown",
   "metadata": {},
   "source": [
    "##### *symboloutline*\n",
    "\n",
    "    -   outline the symbol.\n",
    "    -   False (default).\n",
    "\n"
   ]
  },
  {
   "cell_type": "markdown",
   "metadata": {},
   "source": [
    "##### *customflaggedsymbol*\n",
    "\n",
    "-   parameter to enable custom symbol for flagged data.\n",
    "-   False (default) : disables subparameters below, shape is\n",
    "    &ldquo;nosymbol&rdquo;.\n",
    "-   True: show flagged points as red circles of size 2 (default), unless\n",
    "    subparameters are set otherwise.\n",
    "\n",
    "<!-- -->\n",
    "\n",
    "-   "
   ]
  },
  {
   "cell_type": "markdown",
   "metadata": {},
   "source": [
    "##### *flaggedsymbolshape=\"circle\", flaggedsymbolsize=2, flaggedsymbolcolor=\"ff0000\" (&lsquo;red&rsquo;), flaggedsymbolfill=\"fill\", flaggedsymboloutline=False*\n",
    "\n",
    "    -   Subparameter defaults are shown.&nbsp; Their options are the\n",
    "        same as for unflagged symbols, when *customflaggedsymbol=True*.\n",
    "\n"
   ]
  },
  {
   "cell_type": "markdown",
   "metadata": {},
   "source": [
    "##### *xconnector*\n",
    "\n",
    "-   parameter to enable connecting the data points by line or step along\n",
    "    the xaxis; connected points will have the same metadata (including\n",
    "    flag) with only the x-axis value changing.&nbsp; Points will be\n",
    "    colorized based on their connection metadata.&nbsp; Unflagged points\n",
    "    are not connected to flagged points, even when not displayed.\n",
    "\n",
    "-   Supported for calibration tables only at present.&nbsp; When enabled\n",
    "    for a MeasurementSet, a warning will be issued and the plot will\n",
    "    complete without connection.\n",
    "\n",
    "-   \"none\" (default), \"line\", or \"step\".\n",
    "\n",
    "-   "
   ]
  },
  {
   "cell_type": "markdown",
   "metadata": {},
   "source": [
    "##### *timeconnector*\n",
    "\n",
    "    -   subparameter when xconnector is not \"none\".\n",
    "    -   False (default).&nbsp; When True, connect the points which\n",
    "        change by time only, irrespective of the x-axis value.\n",
    "\n"
   ]
  },
  {
   "cell_type": "markdown",
   "metadata": {},
   "source": [
    "### Display: Title, Axis Labels\n",
    "\n",
    "-   "
   ]
  },
  {
   "cell_type": "markdown",
   "metadata": {},
   "source": [
    "##### *title*\n",
    "\n",
    "    -   Set title text.\n",
    "    -   &ldquo;&rdquo; (default) : yaxis vs. xaxis\n",
    "    -   Will append data column to visibility axis if not\n",
    "        *&lsquo;data&rsquo;*.\n",
    "    -   Will prepend &ldquo;Average&rdquo; to axis, if axis is averaged.\n",
    "    -   Will append iteration axis and value to title, if *iteraxis*\n",
    "        set.\n",
    "\n",
    "-   "
   ]
  },
  {
   "cell_type": "markdown",
   "metadata": {},
   "source": [
    "##### *titlefont*\n",
    "\n",
    "    -   set the size of the title text.\n",
    "    -   0 (default) : autosize the title according to the plot size,\n",
    "        especially important when making a grid of plots.\n",
    "\n",
    "-   "
   ]
  },
  {
   "cell_type": "markdown",
   "metadata": {},
   "source": [
    "##### *xlabel, ylabel*\n",
    "\n",
    "    -   set the xaxis or yaxis label.\n",
    "    -   &ldquo;&rdquo; (default) : label string for the axis plotted,\n",
    "        e.g. use the label &ldquo;Amp&rdquo; for the axis\n",
    "        &lsquo;amp&rsquo;.\n",
    "\n",
    "-   "
   ]
  },
  {
   "cell_type": "markdown",
   "metadata": {},
   "source": [
    "##### *xaxisfont, yaxisfont*\n",
    "\n",
    "    -   set the axis label font size.\n",
    "    -   0 (default) : autosize depending on the plot size.\n",
    "\n"
   ]
  },
  {
   "cell_type": "markdown",
   "metadata": {},
   "source": [
    "### Display: Plot Gridlines, Legend, Header\n",
    "\n"
   ]
  },
  {
   "cell_type": "markdown",
   "metadata": {},
   "source": [
    "##### *showmajorgrid*\n",
    "\n",
    "-   parameter to enable major gridlines (at labeled tick marks) and\n",
    "    subparameters.\n",
    "-   False (default): do not show major gridlines.\n",
    "-   True: show solid black gridlines of width 1 unless subparameters are\n",
    "    set otherwise.\n",
    "-   Not to be confused with *gridrows* and *gridcols*, for making plots\n",
    "    in a grid.\n",
    "\n",
    "<!-- -->\n",
    "\n",
    "-   "
   ]
  },
  {
   "cell_type": "markdown",
   "metadata": {},
   "source": [
    "##### *majorwidth*\n",
    "\n",
    "    -   width of major gridlines, when major grid is enabled.\n",
    "    -   0 (default) : automatically sets width to 1.\n",
    "\n",
    "<!-- -->\n",
    "\n",
    "-   "
   ]
  },
  {
   "cell_type": "markdown",
   "metadata": {},
   "source": [
    "##### *majorstyle*\n",
    "\n",
    "    -   style of major gridlines, when major grid is enabled.\n",
    "    -   *&ldquo;solid&rdquo;* (default) when *showmajorgrid=True*.\n",
    "    -   Options: *&ldquo;solid&rdquo;, &ldquo;dash&rdquo;,\n",
    "        &ldquo;dot&rdquo;, &ldquo;none&rdquo;*.\n",
    "\n",
    "-   "
   ]
  },
  {
   "cell_type": "markdown",
   "metadata": {},
   "source": [
    "##### *majorcolor*\n",
    "\n",
    "    -   "
   ]
  },
  {
   "cell_type": "markdown",
   "metadata": {},
   "source": [
    "##### &nbsp;\n",
    "\n",
    "        set color by RGB hex code or string color name, e.g.\n",
    "        *&lsquo;blue&rsquo;*, when major grid is enabled.\n",
    "\n",
    "    -   *\"B0B0B0\"* (default): dark gray.\n",
    "\n"
   ]
  },
  {
   "cell_type": "markdown",
   "metadata": {},
   "source": [
    "##### *showminorgrid*\n",
    "\n",
    "-   parameter to enable minor gridlines (between labeled tick marks) and\n",
    "    subparameters.\n",
    "-   False (default): do not show show minor gridlines.\n",
    "-   True: show solid light gray gridlines of width 1 unless\n",
    "    subparameters are set otherwise.\n",
    "\n",
    "<!-- -->\n",
    "\n",
    "-   "
   ]
  },
  {
   "cell_type": "markdown",
   "metadata": {},
   "source": [
    "##### *minorwidth=1, minorstyle=\"\" (&ldquo;solid&rdquo;), minorcolor=\"D0D0D0\"* (light gray)\n",
    "\n",
    "    -   Subparameter defaults are shown.&nbsp; Options are the same as\n",
    "        for major gridlines, when *showminorgrid=True*.\n",
    "\n"
   ]
  },
  {
   "cell_type": "markdown",
   "metadata": {},
   "source": [
    "##### *showlegend*\n",
    "\n",
    "-   Show legend; useful when setting two y-axes or overplotting two\n",
    "    plots on one canvas, with different colors for each yaxis/plot.\n",
    "-   False (default) : do not show legend.\n",
    "-   Legend is shown at upper right unless subparameter *legendposition*\n",
    "    is set.\n",
    "\n",
    "<!-- -->\n",
    "\n",
    "-   "
   ]
  },
  {
   "cell_type": "markdown",
   "metadata": {},
   "source": [
    "##### *legendposition*\n",
    "\n",
    "    -   position of the legend, either inside the plot canvas (may cover\n",
    "        part of the plot) or exterior to it.\n",
    "    -   None (default) when *showlegend=False*; set to\n",
    "        *&lsquo;upperRight&rsquo;* when *showlegend=True*.\n",
    "    -   Options: *&ldquo;upperRight&rdquo;, &ldquo;upperLeft&rdquo;,\n",
    "        &ldquo;lowerRight&rdquo;, &ldquo;lowerLeft&rdquo;,\n",
    "        &ldquo;exteriorRight&rdquo;, &ldquo;exteriorLeft&rdquo;,\n",
    "        &ldquo;exteriorTop&rdquo;, &ldquo;exteriorBottom&rdquo;*\n",
    "\n"
   ]
  },
  {
   "cell_type": "markdown",
   "metadata": {},
   "source": [
    "##### *headeritems*\n",
    "\n",
    "-   Add plot header: comma-separated list of options in a string, e.g.\n",
    "    *headeritems=&ldquo;filename,\n",
    "    telescope&rdquo;*.\n",
    "-   &ldquo;&rdquo; (default) : Do not show plot header.\n",
    "-   Options: *&ldquo;filename&rdquo;, &ldquo;projid&rdquo;,\n",
    "    &ldquo;telescope&rdquo;, &ldquo;observer&rdquo;,\n",
    "    &ldquo;obsdate&rdquo;, &ldquo;obstime&rdquo;,\n",
    "    &ldquo;targname&rdquo;, &ldquo;targdir&rdquo;,\n",
    "    &ldquo;ycolumn&rdquo;.*\n",
    "-   Items are always loaded into cache along with plotted axes, even if\n",
    "    not requested, so that all of the disk I/O of the dataset is done at\n",
    "    once.\n",
    "-   Requested items will appear in the header even if no value is found\n",
    "    for it in dataset.\n",
    "-   The page header is only applicable to MeasurementSets. A header will\n",
    "    be added to CalTable plots but with no values for requested items.\n",
    "\n",
    "&nbsp;\n",
    "\n"
   ]
  },
  {
   "cell_type": "markdown",
   "metadata": {},
   "source": [
    "### Plot Export\n",
    "\n"
   ]
  },
  {
   "cell_type": "markdown",
   "metadata": {},
   "source": [
    "##### *plotfile*\n",
    "\n",
    "-   filename for plot export. Enables subparameters to be set.\n",
    "-   &ldquo;&rdquo; (default) : do not export the plot.\n",
    "-   If no path is included in the filename, the plot will be exported to\n",
    "    the current directory.\n",
    "-   If the filename exists and *overwrite=False* (default), the plot and\n",
    "    the export will fail with an error.\n",
    "-   If the filename has no extension and *expformat* is set, the given\n",
    "    filename will be used and the extension will not be added.\n",
    "\n",
    "<!-- -->\n",
    "\n",
    "-   "
   ]
  },
  {
   "cell_type": "markdown",
   "metadata": {},
   "source": [
    "##### *expformat*\n",
    "\n",
    "    -   export format type.\n",
    "    -   &ldquo;&rdquo; (default) : use *plotfile* extension to determine\n",
    "        type. If the *plotfile* has no extension, the export will fail.\n",
    "    -   Options: *&ldquo;jpg&rdquo;, &ldquo;png&rdquo;,\n",
    "        &ldquo;pdf&rdquo;, &ldquo;ps&rdquo;, &ldquo;txt&rdquo;*\n",
    "    -   For *&lsquo;txt&rsquo;* format, Locate information (x and y\n",
    "        values plus metadata) for each point is exported to an ASCII\n",
    "        text file. This can take some time and produce a large file when\n",
    "        many points are plotted. Use averaging and selection to keep the\n",
    "        file size manageable.\n",
    "    -   If the *expformat* does not match the *plotfile* extension (e.g.\n",
    "        plotfile=&rsquo;test.pdf&rsquo;,\n",
    "        expformat=&rsquo;jpg&rsquo;), both will take effect; a\n",
    "        jpg file will be created with the name &ldquo;test.pdf&rdquo;.\n",
    "        Not recommended!\n",
    "\n",
    "-   "
   ]
  },
  {
   "cell_type": "markdown",
   "metadata": {},
   "source": [
    "##### *verbose*\n",
    "\n",
    "    -   include metadata in text export\n",
    "    -   True (default): When False, export only x and y values.\n",
    "\n",
    "<!-- -->\n",
    "\n",
    "-   "
   ]
  },
  {
   "cell_type": "markdown",
   "metadata": {},
   "source": [
    "##### *exprange*\n",
    "\n",
    "    -   range of iteration plots to export, one plotfile per page.\n",
    "        Multipage pdf exports are not supported. Ignored if iteraxis is\n",
    "        not set.\n",
    "    -   &ldquo;&rdquo; (default) : current page only.\n",
    "    -   Options: *&ldquo;current&rdquo;, &ldquo;all&rdquo;*\n",
    "\n",
    "<!-- -->\n",
    "\n",
    "-   "
   ]
  },
  {
   "cell_type": "markdown",
   "metadata": {},
   "source": [
    "##### *highres*\n",
    "\n",
    "    -   Export .jpg or .png plot in high resolution.\n",
    "    -   False (default) : screen resolution export not\n",
    "        implemented.&nbsp; Plotms always exports a high resolution plot\n",
    "        (high quality, no compression) for .png and .jpg formats.\n",
    "\n",
    "<!-- -->\n",
    "\n",
    "-   "
   ]
  },
  {
   "cell_type": "markdown",
   "metadata": {},
   "source": [
    "##### *dpi*\n",
    "\n",
    "    -   set DPI (dots per inch) of exported plot.\n",
    "    -   -1 (default) : use Qt default settings.\n",
    "\n",
    "<!-- -->\n",
    "\n",
    "-   "
   ]
  },
  {
   "cell_type": "markdown",
   "metadata": {},
   "source": [
    "##### *width, height*\n",
    "\n",
    "    -   set size of exported plot, in pixels (does not affect GUI plot).\n",
    "    -   -1 (default) : use default settings.\n",
    "\n",
    "<!-- -->\n",
    "\n",
    "-   "
   ]
  },
  {
   "cell_type": "markdown",
   "metadata": {},
   "source": [
    "##### *overwrite*\n",
    "\n",
    "    -   overwrite existing *plotfile*.\n",
    "    -   False (default) : do not overwrite existing *plotfile*.\n",
    "    -   If False and *plotfile* exists, plotms will issue an error and\n",
    "        fail to make the plot."
   ]
  },
  {
   "cell_type": "markdown",
   "metadata": {
    "nbsphinx-toctree": {
     "hidden": true
    }
   },
   "source": [
    "[Description](task_plotms/about)\n",
    "[Parameters](task_plotms/parameters)\n",
    "[Changelog](task_plotms/changelog)\n",
    "[Examples](task_plotms/examples)\n",
    "[Developer](task_plotms/developer)\n"
   ]
  }
 ],
 "metadata": {},
 "nbformat": 4,
 "nbformat_minor": 5
}
