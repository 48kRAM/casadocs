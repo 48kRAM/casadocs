{
 "cells": [
  {
   "cell_type": "markdown",
   "metadata": {},
   "source": [
    "# Examples\n",
    "\n",
    "task examples\n",
    "\n",
    "\\"
   ]
  },
  {
   "cell_type": "markdown",
   "metadata": {},
   "source": [
    "## make a subimage containing only channels 4 to 6 of the original\n",
    "image,  \n",
    "imsubimage(imagename=\"my.im\", outfile=\"first.im\", chans=\"4\\~6\")\n",
    "\n",
    "\\"
   ]
  },
  {
   "cell_type": "markdown",
   "metadata": {},
   "source": [
    "## Same as above command, just specifying chans in an alternate, more\n",
    "verbose way  \n",
    "imsubimage(imagename=\"my.im\", outfile=\"second.im\",\n",
    "chans=\"range=\\[4pix,6pix\\]\")\n",
    "\n",
    "\\"
   ]
  },
  {
   "cell_type": "markdown",
   "metadata": {},
   "source": [
    "## Same as the above command, but even more verbose way of specifying\n",
    "the spectral selection. Assumes the direction axes are axes numbers 0\n",
    "and 1.  \n",
    "ia.open(\"my.im\")shape = ia.shape()axes = ia.coordsys().names()  \n",
    "ia.done()xmax = shape\\[axes.index(\"Right Ascension\")\\] - 1ymax =\n",
    "shape\\[axes.index(\"Declination\")\\] - 1reg = \"box\\[\\[0pix,0pix\\],\\[\" +\n",
    "str(xmax) + \"pix, \" + str(ymax) + \"pix\\]\\] range=\\[4pix,6pix\\]\"  \n",
    "imsubimage(imagename=\"my.im\", outfile=\"third.im\", region=reg)\n",
    "\n",
    "\\"
   ]
  },
  {
   "cell_type": "markdown",
   "metadata": {},
   "source": [
    "## As an example of the usage of the keepaxes parameter, consider an\n",
    "image  \n",
    "\\"
   ]
  },
  {
   "cell_type": "markdown",
   "metadata": {},
   "source": [
    "## that has axes RA, Dec, Stokes, and Freq. The Stokes and Freq axes are\n",
    "both  \n",
    "\\"
   ]
  },
  {
   "cell_type": "markdown",
   "metadata": {},
   "source": [
    "## degenerate while the RA and Dec axes are not, and it is desired to\n",
    "make a  \n",
    "\\"
   ]
  },
  {
   "cell_type": "markdown",
   "metadata": {},
   "source": [
    "## subimage in which the Stokes axis is discarded. The following command\n",
    "will accomplish that.  \n",
    "imsubimage(imagename=\"my.im\", outfile=\"discarded_stokes.im\",\n",
    "dropdeg=True, keepaxes=\\[3\\])"
   ]
  }
 ],
 "metadata": {},
 "nbformat": 4,
 "nbformat_minor": 5
}
