{
 "cells": [
  {
   "cell_type": "markdown",
   "metadata": {},
   "source": [
    "# impbcor\n",
    "\n",
    "impbcor task: Construct a primary beam corrected image from an image and\n",
    "a primary beam pattern.\n",
    "\n",
    "Corrects an image for primary beam attenuation using an image of the\n",
    "primary beam pattern. The primary beam pattern can be provided as an\n",
    "image, in which case:\n",
    "\n",
    "1.  it must have the same shape as the input image and its coordinate\n",
    "    system must be the same, or\n",
    "2.  it must be a 2-D image in which case its coordinate system must\n",
    "    consist of a (2-D) direction coordinate which is the same as the\n",
    "    direction coordinate in the input image and its direction plane must\n",
    "    be the same shape as that of the input image.\n",
    "\n",
    "Alternatively, *pbimage* can be an array of pixel values in which case\n",
    "the same dimensionality and shape constraints apply.\n",
    "\n",
    "One can choose between dividing the image by the primary beam pattern\n",
    "(*mode=\"divide\"*) or multiplying the image by the primary beam pattern\n",
    "(*mode=\"multiply\"*). One can also choose to specify a cutoff limit for\n",
    "the primary beam pattern. For *mode=\"divide\"*, for all pixels below this\n",
    "cutoff in the primary beam pattern, the output image will be masked. In\n",
    "the case of *mode=\"multiply\"*, all pixels in the output will be masked\n",
    "corresponding to pixels with values greater than the cutoff in the\n",
    "primary beam pattern. A negative value for cutoff means that no cutoff\n",
    "will be applied, which is the default."
   ]
  },
  {
   "cell_type": "markdown",
   "metadata": {
    "nbsphinx-toctree": {
     "hidden": true
    }
   },
   "source": [
    "[Description](task_impbcor/about)\n",
    "[Parameters](task_impbcor/parameters)\n",
    "[Changelog](task_impbcor/changelog)\n",
    "[Examples](task_impbcor/examples)\n",
    "[Developer](task_impbcor/developer)\n"
   ]
  }
 ],
 "metadata": {},
 "nbformat": 4,
 "nbformat_minor": 5
}
