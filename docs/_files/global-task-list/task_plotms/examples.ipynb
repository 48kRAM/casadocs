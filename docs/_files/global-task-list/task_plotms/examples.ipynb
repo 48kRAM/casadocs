{
 "cells": [
  {
   "cell_type": "markdown",
   "metadata": {},
   "source": [
    "# Examples\n",
    "\n",
    "NOTE: These examples are not comprehensive, as **plotms** has a\n",
    "substantial list of parameters and allowed values!&nbsp; See the\n",
    "[documentation on using\n",
    "plotms](https://casa.nrao.edu/casadocs-devel/stable/calibration-and-visibility-data/data-examination-and-editing/using-plotms-to-plot-and-edit-visibilities-and-calibration-tables)\n",
    "under Data Examination and Editing for details of the task parameters\n",
    "and how they correspond to settings in the GUI.\n",
    "\n"
   ]
  },
  {
   "cell_type": "markdown",
   "metadata": {},
   "source": [
    "## Default Plots (unflagged data only)\n",
    "\n",
    "All that is really required is a dataset or cal table to plot.&nbsp; The\n",
    "first example will plot Amp vs. Time, the default axes for a\n",
    "MeasurementSet.&nbsp; The second plot will be Tsys vs. Channel, the\n",
    "default axes for the cal table type being plotted.&nbsp; By default,\n",
    "*customflaggedsymbol=False* and no flagged data is plotted.&nbsp; Since\n",
    "no averaging or selection is done, **plotms** will plot the entire\n",
    "dataset, which could take some time and substantial memory.\n",
    "\n",
    "plotms(vis='test.ms')  \n",
    "plotms(vis='uid\\_\\_\\_A002_X99c183_X25b6.ms.tsys')\n",
    "\n"
   ]
  },
  {
   "cell_type": "markdown",
   "metadata": {},
   "source": [
    "## Change Default Axis and Datacolumn\n",
    "\n",
    "Here we change the default datacolumn and axes. In the first example,\n",
    "*yaxis='amp'* is implied since it is the default.\n",
    "\n",
    "plotms(vis='test.ms', ydatacolumn='corrected', xaxis='channel')  \n",
    "plotms(vis='test.ms', xaxis='elevation', yaxis='azimuth')\n",
    "\n"
   ]
  },
  {
   "cell_type": "markdown",
   "metadata": {},
   "source": [
    "## Plot Flagged Data\n",
    "\n",
    "By setting *customflaggedsymbol=True*, **plotms** uses the default red\n",
    "circles for the flagged data. In the second example, a custom symbol is\n",
    "specified.\n",
    "\n",
    "plotms(vis='test.ms', customflaggedsymbol=True)  \n",
    "plotms(vis='test.ms', customflaggedsymbol=True,\n",
    "flaggedsymbolshape='diamond', flaggedsymbolsize=5,\n",
    "flaggedsymbolcolor='00ff00', flaggedsymbolfill='mesh3')\n",
    "\n"
   ]
  },
  {
   "cell_type": "markdown",
   "metadata": {},
   "source": [
    "## Plot with Colorized Data\n",
    "\n",
    "Note that the colorization overrides the default or custom color for all\n",
    "data, unflagged or flagged.&nbsp; In the following example, all data in\n",
    "the MS will be colorized according to its spectral window.\n",
    "\n",
    "plotms(vis='test.ms', customflaggedsymbol=True, coloraxis='spw')\n",
    "\n"
   ]
  },
  {
   "cell_type": "markdown",
   "metadata": {},
   "source": [
    "## Plot with Data Selection\n",
    "\n",
    "Note that all selections are strings, including numerical values.&nbsp;\n",
    "Refer to the documentation on [Data\n",
    "Selection](https://casa.nrao.edu/casadocs-devel/stable/calibration-and-visibility-data/data-selection-in-a-measurementset)\n",
    "for an explanation of MeasurementSet selection.&nbsp; In the second\n",
    "example, the *correlation* parameter is used for polarization selection\n",
    "on a calibration table, and the result is plotted with the default axes\n",
    "Gain Amplitude vs. Time for this cal table type.\n",
    "\n",
    "plotms(vis='test.ms', field='1', spw='0:3\\~10', antenna='1&2',\n",
    "scan='2\\~4', corr='XX,YY')  \n",
    "plotms(vis='bpphase.gcal', correlation='R')\n",
    "\n"
   ]
  },
  {
   "cell_type": "markdown",
   "metadata": {},
   "source": [
    "## Plot with Iteration\n",
    "\n",
    "The first example plots one plot per page.&nbsp; The second example\n",
    "demonstrates iteration plots on a 2x2 grid.&nbsp; In the third example,\n",
    "all iteration plots are exported with the plotfile name appended with\n",
    "the iteration label and index, i.e. test_Scan2.jpg, test_Scan3_2.jpg,\n",
    "test_Scan4_3.jpg.\n",
    "\n",
    "plotms(vis='test.ms', xaxis='freq', iteraxis='baseline')  \n",
    "plotms(vis='test.ms', xaxis='freq', iteraxis='baseline', gridrows=2,\n",
    "gridcols=2)  \n",
    "plotms(vis='test.ms', scan='2\\~4', iteraxis='scan', plotfile='test.jpg',\n",
    "exprange='all')\n",
    "\n"
   ]
  },
  {
   "cell_type": "markdown",
   "metadata": {},
   "source": [
    "## Plot with Averaging\n",
    "\n",
    "In the first example, the *avgtime* value is in seconds.&nbsp; In the\n",
    "second example, the channel numbers plotted on the x-axis (*'chan'*)\n",
    "will refer to the binned channels (0-based), not the averaged channel\n",
    "number for the bin.&nbsp; Use the Locate feature to find the channel\n",
    "range for each bin.\n",
    "\n",
    "plotms(vis='test.ms', avgtime='1e8', avgscan=True)  \n",
    "plotms(vis='test.ms', xaxis='chan', avgchannel='128')\n",
    "\n"
   ]
  },
  {
   "cell_type": "markdown",
   "metadata": {},
   "source": [
    "## Using On-the-Fly Calibration\n",
    "\n",
    "The calibration library to apply is contained in the file\n",
    "*calibration.txt*.&nbsp; By default, this sets Calibration to \"On\" in\n",
    "the GUI and applies the cal library; you can select \"OFF\" but keep the\n",
    "callib setting.\n",
    "\n",
    "plotms(vis='ngc5921.ms', xaxis='frequency', yaxis='amp',\n",
    "ydatacolumn='corrected', field='N5921_2', antenna='\\*&\\*',\n",
    "callib='calibration.txt')\n",
    "\n"
   ]
  },
  {
   "cell_type": "markdown",
   "metadata": {},
   "source": [
    "## Overplot Two Datasets on One Plot\n",
    "\n",
    "This is **one example** with two **plotms** calls.&nbsp; Be sure to\n",
    "increment *plotindex* and set *clearplots* to False on the second\n",
    "call.&nbsp; Here the second plot is set to a different color.&nbsp; A\n",
    "legend is included to indicate which points represent the Scan axis and\n",
    "which are Field points.\n",
    "\n",
    "plotms(vis='test1.ms', yaxis='scan', showlegend=True,\n",
    "legendposition='lowerRight')  \n",
    "plotms(vis='test2.ms', yaxis='field', plotindex=1, clearplots=False,\n",
    "showlegend=True, legendposition='lowerRight', customsymbol=True,\n",
    "symbolcolor='00FF00')\n",
    "\n"
   ]
  },
  {
   "cell_type": "markdown",
   "metadata": {},
   "source": [
    "## Plot Two Datasets on One Page\n",
    "\n",
    "Here we use a grid with 2 rows, 1 column, and specify the plot for each\n",
    "row.&nbsp; The first **plotms** call uses the defaults *rowindex=0,\n",
    "colindex=0, plotindex=0, clearplots=True*.&nbsp; In the second call we\n",
    "must increment the *plotindex* and *rowindex* (so it does not overplot\n",
    "the first plot), and set *clearplots=False* so that it keeps the first\n",
    "plot.&nbsp; We can also export this page with two plots.\n",
    "\n",
    "plotms(vis='test1.ms', yaxis='field', gridrows=2, gridcols=1)  \n",
    "plotms(vis='test2.ms', yaxis='field', gridrows=2, gridcols=1,\n",
    "rowindex=1, plotindex=1, clearplots=False, plotfile='fields.jpg')\n",
    "\n"
   ]
  },
  {
   "cell_type": "markdown",
   "metadata": {},
   "source": [
    "## Saving your plot\n",
    "\n",
    "The export format can be indicated in the plotfile name or by using the\n",
    "*expformat* parameter.&nbsp; Allowed extensions include jpg, png, pdf,\n",
    "ps, and txt.&nbsp; Exporting the plot as text produces Locate-style\n",
    "output.\n",
    "\n",
    "Here the plot will be exported in PNG format, as indicated by the\n",
    "plotfile extension:\n",
    "\n",
    "plotms(vis='test.ms', plotfile='test.png')\n",
    "\n",
    "Example with *expformat* parameter.&nbsp; Note that the plotfile name is\n",
    "used as given and no extension is added:\n",
    "\n",
    "plotms(vis='ngc5921.ms', plotfile='ngc5921', expformat='jpg')\n",
    "\n",
    "When scripting the **plotms** calls, one may want to produce plotfiles\n",
    "without a GUI:\n",
    "\n",
    "plotms(vis='test.ms', plotfile='test.jpg', showgui=False)\n",
    "\n",
    "With iteration, one may wish to export only the first plot (default) or\n",
    "all plots using the *exprange* parameter.&nbsp; The iteration string\n",
    "will be appended to the filename before the extension.\n",
    "\n",
    "plotms(vis='ngc5921.ms', iteraxis='baseline', plotfile='ngc5921.jpg',\n",
    "exprange='all')"
   ]
  }
 ],
 "metadata": {},
 "nbformat": 4,
 "nbformat_minor": 5
}
