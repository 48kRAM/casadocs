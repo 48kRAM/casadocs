{
 "cells": [
  {
   "cell_type": "markdown",
   "metadata": {},
   "source": [
    "# Examples\n",
    "\n",
    "Write a FITS image file that uses\n",
    "velocity rather than frequency as the spectral axis, overwriting an\n",
    "existing file of the same name if it already exists.\n",
    "\n",
    "exportfits(imagename=\"my.im\",\n",
    "fitsimage=\"my.fits\", velocity = True, overwrite=True)\n",
    "\n",
    "Write a FITS image file that uses\n",
    "velocity rather than frequency as the spectral axis and where the\n",
    "degenerate Stokes axis is dropped (i.e. the product has only one value\n",
    "in the polarisation dimension).\n",
    "\n",
    "exportfits(imagename=\"my.im\",\n",
    "fitsimage=\"my.fits\", dropstokes = True, velocity = True)\n",
    "\n",
    "Note: if the imput image has a\n",
    "synthesized beam specfied, then the major and minor axis (BMAJ and BMIN)\n",
    "may be specified in units of degrees in the output fits-file.  \n"
   ]
  }
 ],
 "metadata": {},
 "nbformat": 4,
 "nbformat_minor": 5
}
