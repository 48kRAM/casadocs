{
 "cells": [
  {
   "cell_type": "markdown",
   "metadata": {},
   "source": [
    "# imreframe\n",
    "\n",
    "Changes the spectral reference frame of an image\n",
    "(cube).  \n",
    "\n",
    "\n",
    "The spectral values assigned to an object depend on the\n",
    "spectral reference frame. This task can change the frame in which the\n",
    "image reports its spectral values.\n",
    "\n",
    "&nbsp;\n",
    "\n"
   ]
  },
  {
   "cell_type": "markdown",
   "metadata": {},
   "source": [
    "## Parameter descriptions\n",
    "\n"
   ]
  },
  {
   "cell_type": "markdown",
   "metadata": {},
   "source": [
    "##### *imagename*\n",
    "\n",
    "Name of the input image.\n",
    "\n"
   ]
  },
  {
   "cell_type": "markdown",
   "metadata": {},
   "source": [
    "##### *output*\n",
    "\n",
    "Name of the output image. Default (no output) is to\n",
    "modify the input image.\n",
    "\n"
   ]
  },
  {
   "cell_type": "markdown",
   "metadata": {},
   "source": [
    "##### *outframe*\n",
    "\n",
    "Spectral frame in which the frequency or velocity values will be\n",
    "reported by default. See [Spectral\n",
    "Frames](https://casa.nrao.edu/casadocs-devel/stable/memo-series/reference-material/spectral-frames)\n",
    "for more information on the frame definitions.&nbsp;\n",
    "\n",
    "<table style=\"height: 176px;\" width=\"314\">\n",
    "<colgroup>\n",
    "<col style=\"width: 50%\" />\n",
    "<col style=\"width: 50%\" />\n",
    "</colgroup>\n",
    "<tbody>\n",
    "<tr class=\"odd\">\n",
    "<td><strong>Abbreviation</strong></td>\n",
    "<td><strong>Definition</strong></td>\n",
    "</tr>\n",
    "<tr class=\"even\">\n",
    "<td>lsrk</td>\n",
    "<td>local standard of rest (kinematic) - default<br />\n",
    "</td>\n",
    "</tr>\n",
    "<tr class=\"odd\">\n",
    "<td>lsrd</td>\n",
    "<td>local standard of rest (dynamic)</td>\n",
    "</tr>\n",
    "<tr class=\"even\">\n",
    "<td>bary</td>\n",
    "<td>barycentric</td>\n",
    "</tr>\n",
    "<tr class=\"odd\">\n",
    "<td>geo</td>\n",
    "<td>geocentric</td>\n",
    "</tr>\n",
    "<tr class=\"even\">\n",
    "<td>topo</td>\n",
    "<td>topocentric</td>\n",
    "</tr>\n",
    "<tr class=\"odd\">\n",
    "<td>galacto</td>\n",
    "<td>galactocentric</td>\n",
    "</tr>\n",
    "<tr class=\"even\">\n",
    "<td>lgroup</td>\n",
    "<td>local group</td>\n",
    "</tr>\n",
    "<tr class=\"odd\">\n",
    "<td>cmb</td>\n",
    "<td>Cosmic Microwave Background dipole</td>\n",
    "</tr>\n",
    "</tbody>\n",
    "</table>\n",
    "\n"
   ]
  },
  {
   "cell_type": "markdown",
   "metadata": {},
   "source": [
    "##### *epoch*\n",
    "\n",
    "Epoch to be associated with this image (only with\n",
    "*outframe='geo'* or *'topo'*). For example:\n",
    "'2000/12/25/18:30:00.10'.\n",
    "\n"
   ]
  },
  {
   "cell_type": "markdown",
   "metadata": {},
   "source": [
    "##### *restfreq*\n",
    "\n",
    "Rest-frequency to use for velocity value. For example:\n",
    "*restfreq='1.420405752GHz'* for the HI 21cm line\n",
    "of neutral hydrogen. The default is to use the rest-frequency already\n",
    "present in the input image.  \n",
    "\n",
    "\n",
    "&nbsp;"
   ]
  },
  {
   "cell_type": "markdown",
   "metadata": {
    "nbsphinx-toctree": {
     "hidden": true
    }
   },
   "source": [
    "[Description](task_imreframe/about)\n",
    "[Examples](task_imreframe/examples)\n"
   ]
  }
 ],
 "metadata": {},
 "nbformat": 4,
 "nbformat_minor": 5
}
