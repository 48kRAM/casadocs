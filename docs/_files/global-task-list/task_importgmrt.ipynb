{
 "cells": [
  {
   "cell_type": "markdown",
   "metadata": {},
   "source": [
    "# importgmrt\n",
    "\n",
    "task description\n",
    "\n",
    "Converts a FITS file with visibility data from the Giant Metrewave Radio\n",
    "Telescope (GMRT) into a CASA MeasurementSet (MS).\n",
    "\n",
    "GMRT flag files can also be read and applied using the *flagfile*\n",
    "parameter.\n",
    "\n"
   ]
  },
  {
   "cell_type": "markdown",
   "metadata": {},
   "source": [
    "## &nbsp;"
   ]
  },
  {
   "cell_type": "markdown",
   "metadata": {
    "nbsphinx-toctree": {
     "hidden": true
    }
   },
   "source": [
    "[Description](task_importgmrt/about)\n",
    "[Examples](task_importgmrt/examples)\n"
   ]
  }
 ],
 "metadata": {},
 "nbformat": 4,
 "nbformat_minor": 5
}
