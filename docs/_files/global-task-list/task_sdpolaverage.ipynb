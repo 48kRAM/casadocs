{
 "cells": [
  {
   "cell_type": "markdown",
   "metadata": {},
   "source": [
    "# sdpolaverage\n",
    "\n",
    "Averaging over different polarizations for Single Dish MS data\n",
    "\n",
    "Task **sdpolaverage** is used to export Single Dish MS data averaged\n",
    "over different polarizations, to obtain Stokes I from orthogonal\n",
    "autocorrelation pairs (XXYY/LLRR).&nbsp;\n",
    "\n"
   ]
  },
  {
   "cell_type": "markdown",
   "metadata": {},
   "source": [
    "## Polarization Average\n",
    "\n",
    "Two modes of polarizaton averaging are available. One is 'stokes' which\n",
    "is an average based on a formulation of Stokes parameter. In this mode,\n",
    "averaged data is calculated by (XX + YY) / 2 or (RR + LL) / 2. The other\n",
    "option is 'geometric', which is a conventional way of averaging in the\n",
    "field of single-dish data reduction; the output data is given by\n",
    "weighted average of XX and YY, or RR and LL."
   ]
  },
  {
   "cell_type": "markdown",
   "metadata": {
    "nbsphinx-toctree": {
     "hidden": true
    }
   },
   "source": [
    "[Description](task_sdpolaverage/about)\n",
    "[Parameters](task_sdpolaverage/parameters)\n",
    "[Changelog](task_sdpolaverage/changelog)\n",
    "[Examples](task_sdpolaverage/examples)\n",
    "[Developer](task_sdpolaverage/developer)\n"
   ]
  }
 ],
 "metadata": {},
 "nbformat": 4,
 "nbformat_minor": 5
}
