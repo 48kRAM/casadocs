{
 "cells": [
  {
   "cell_type": "markdown",
   "metadata": {},
   "source": [
    "# Examples\n",
    "\n",
    "A straightforward implementation of **importfits**:\n",
    "\n",
    "importfits(fitsimage='ngc3256.fits', imagename='ngc3256.im',\n",
    "overwrite=True)\n",
    "\n",
    "Though the user may wish to explicitly set (or re-set), for example, the\n",
    "beam characteristics:\n",
    "\n",
    "importfits(fitsimage='ngc3256.fits', imagename='ngc3256.im',\n",
    "overwrite=True, beam=\\['0.35arcsec', '0.24arcsec', '25deg'\\])\n",
    "\n",
    "Which will force the BMIN, BMAX and BPA parameters to be 0.35\", 0.24\"\n",
    "and 25 degrees, respectively."
   ]
  }
 ],
 "metadata": {},
 "nbformat": 4,
 "nbformat_minor": 5
}
