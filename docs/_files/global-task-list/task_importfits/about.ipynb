{
 "cells": [
  {
   "cell_type": "markdown",
   "metadata": {},
   "source": [
    "# Description\n",
    "\n",
    "importfits task: Convert an image FITS file into a CASA image\n",
    "\n",
    "You can use the **importfits** task to import a FITS image into CASA\n",
    "image format. Note, the CASA viewer can read FITS images so you\n",
    "don&rsquo;t need to do this if you just want to look at the image.\n",
    "\n",
    "The CASA FITS reader uses wcslib by Mark Calabretta and thus implements\n",
    "the latest FITS standard (3.0). The intention of both wcslib and the\n",
    "added CASA code is to accommodate certain common deviations from the\n",
    "standard and be forgiving rather than pedantic. In some cases, however,\n",
    "images deviating too far from the standard will not be readable and you\n",
    "might see error messages. Read these carefully and try to consult the\n",
    "FITS documentation\n",
    "(&nbsp;<https://fits.gsfc.nasa.gov/standard30/fits_standard30aa.pdf>&nbsp;)\n",
    "to see how you have to change the header of your FITS image to make it\n",
    "sufficiently compliant with the standard.\n",
    "\n",
    "The inputs for **importfits** are:\n",
    "\n",
    "\\"
   ]
  },
  {
   "cell_type": "markdown",
   "metadata": {},
   "source": [
    "## importfits :: Convert an image FITS file into a CASA image  \n",
    "fitsimage&nbsp;&nbsp;&nbsp;&nbsp;&nbsp;&nbsp;&nbsp;&nbsp; =\n",
    "''&nbsp;&nbsp;&nbsp; \\"
   ]
  },
  {
   "cell_type": "markdown",
   "metadata": {},
   "source": [
    "## Name of input image FITS file  \n",
    "imagename&nbsp;&nbsp;&nbsp;&nbsp;&nbsp;&nbsp;&nbsp;&nbsp; =\n",
    "''&nbsp;&nbsp;&nbsp; \\"
   ]
  },
  {
   "cell_type": "markdown",
   "metadata": {},
   "source": [
    "## Name of output CASA image  \n",
    "whichrep&nbsp;&nbsp;&nbsp;&nbsp;&nbsp;&nbsp;&nbsp;&nbsp;&nbsp; =\n",
    "0&nbsp;&nbsp;&nbsp;&nbsp; \\"
   ]
  },
  {
   "cell_type": "markdown",
   "metadata": {},
   "source": [
    "## If fits image has multiple coordinate reps,\n",
    "choose one.  \n",
    "whichhdu&nbsp;&nbsp;&nbsp;&nbsp;&nbsp;&nbsp;&nbsp;&nbsp;&nbsp; =\n",
    "-1&nbsp;&nbsp;&nbsp; \\"
   ]
  },
  {
   "cell_type": "markdown",
   "metadata": {},
   "source": [
    "## If its file contains multiple images, choose one\n",
    "(0 = first HDU, -1 = first valid image).  \n",
    "zeroblanks&nbsp;&nbsp;&nbsp;&nbsp;&nbsp;&nbsp;&nbsp; = True&nbsp; \\"
   ]
  },
  {
   "cell_type": "markdown",
   "metadata": {},
   "source": [
    "## Set\n",
    "blanked pixels to zero (not NaN)  \n",
    "overwrite&nbsp;&nbsp;&nbsp;&nbsp;&nbsp;&nbsp;&nbsp;&nbsp; = False \\"
   ]
  },
  {
   "cell_type": "markdown",
   "metadata": {},
   "source": [
    "##\n",
    "Overwrite pre-existing imagename  \n",
    "defaultaxes&nbsp;&nbsp;&nbsp;&nbsp;&nbsp;&nbsp; = False \\"
   ]
  },
  {
   "cell_type": "markdown",
   "metadata": {},
   "source": [
    "## Add the\n",
    "default 4D coordinate axes where they are missing; value True requires\n",
    "setting defaultaxesvalues  \n",
    "defaultaxesvalues = \\[\\]&nbsp;&nbsp;&nbsp; \\"
   ]
  },
  {
   "cell_type": "markdown",
   "metadata": {},
   "source": [
    "## List of values to assign\n",
    "to added degenerate axes when defaultaxes==True (ra,dec,freq,stokes)  \n",
    "beam&nbsp;&nbsp;&nbsp;&nbsp;&nbsp;&nbsp;&nbsp;&nbsp;&nbsp;&nbsp;&nbsp;&nbsp;&nbsp;\n",
    "= \\[\\]&nbsp;&nbsp;&nbsp; \\"
   ]
  },
  {
   "cell_type": "markdown",
   "metadata": {},
   "source": [
    "## List of values to be used to define the\n",
    "synthesized beam \\[BMAJ,BMIN,BPA\\] (as in the FITS keywords)\n",
    "\n",
    "Here a description of the non-self-explanatory parameters:\n",
    "\n",
    "  \n",
    "*whichrep* -- If the FITS image has multiple coordinate representations,\n",
    "this parameter lets you choose which one to use (numbering starts at 0).\n",
    "Example: whichrep=1 .\n",
    "\n",
    "*whichhdu* -- If the fits file contains multiple images, you can choose\n",
    "the header data unit by number. The value \"-1\" (default) chooses the\n",
    "first valid one.  \n",
    "  \n",
    "CASA images by default have a 4D coordinate system (ra, dec, stokes,\n",
    "freq). Your input image may not have that. Setting the parameter\n",
    "*defaultaxes* to True, will make **importfits** add the missing axes as\n",
    "degenerate (one-pixel) axes and will take the coordinate values for\n",
    "these axes from the list in the parameter *defaultaxesvalues*\n",
    "(ra,dec,stokes, freq). For existing axes, empty strings can be given as\n",
    "values. For the directions and spectral values, any valid\n",
    "angle/frequency expressions can be given. Example:\n",
    "defaultaxesvalues=\\['19h30m00', '-02d30m00', '88.5GHz', 'Q'\\]. If the\n",
    "order of the fits files ins not ra, dec, stokes, freq, **imtrans** can\n",
    "be used to change the order.&nbsp;\n",
    "\n",
    "If your input image does not provide a beam or you want to override it,\n",
    "you can provde a list of values to be used to define the synthesized\n",
    "beam \\[BMAJ,BMIN,BPA\\] (as in the FITS keywords) in the parameter\n",
    "*beam*. Note that the FITS keywords typically list the BMAJ, BMIN and\n",
    "BPA in degrees, but they can be specified with other units in\n",
    "importfits. Example: beam=\\['0.35arcsec', '0.24arcsec', '25deg'\\]\n",
    "\n",
    "&nbsp;\n",
    "\n",
    "&nbsp;"
   ]
  }
 ],
 "metadata": {},
 "nbformat": 4,
 "nbformat_minor": 5
}
