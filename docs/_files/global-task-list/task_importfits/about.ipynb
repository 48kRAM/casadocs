{
 "cells": [
  {
   "cell_type": "markdown",
   "metadata": {},
   "source": [
    "# Description\n",
    "\n",
    "importfits task: Convert an image FITS file into a CASA image\n",
    "\n",
    "You can use the **importfits** task to import a FITS image into CASA\n",
    "image format. Note, the CASA viewer can read FITS images so you don’t\n",
    "need to do this if you just want to look at the image.\n",
    "\n",
    "The CASA FITS reader uses wcslib by Mark Calabretta and thus implements\n",
    "the latest FITS standard (3.0). The intention of both wcslib and the\n",
    "added CASA code is to accommodate certain common deviations from the\n",
    "standard and be forgiving rather than pedantic. In some cases, however,\n",
    "images deviating too far from the standard will not be readable and you\n",
    "might see error messages. Read these carefully and try to consult the\n",
    "FITS documentation\n",
    "( <https://fits.gsfc.nasa.gov/standard30/fits_standard30aa.pdf> ) to see\n",
    "how you have to change the header of your FITS image to make it\n",
    "sufficiently compliant with the standard.\n",
    "\n",
    "The inputs for **importfits** are:\n",
    "\n",
    "\\"
   ]
  },
  {
   "cell_type": "markdown",
   "metadata": {},
   "source": [
    "## importfits :: Convert an image FITS file into a CASA image  \n",
    "fitsimage         = ''    \\"
   ]
  },
  {
   "cell_type": "markdown",
   "metadata": {},
   "source": [
    "## Name of input image FITS file  \n",
    "imagename         = ''    \\"
   ]
  },
  {
   "cell_type": "markdown",
   "metadata": {},
   "source": [
    "## Name of output CASA image  \n",
    "whichrep          = 0     \\"
   ]
  },
  {
   "cell_type": "markdown",
   "metadata": {},
   "source": [
    "## If fits image has multiple coordinate reps,\n",
    "choose one.  \n",
    "whichhdu          = -1    \\"
   ]
  },
  {
   "cell_type": "markdown",
   "metadata": {},
   "source": [
    "## If its file contains multiple images,\n",
    "choose one (0 = first HDU, -1 = first valid image).  \n",
    "zeroblanks        = True  \\"
   ]
  },
  {
   "cell_type": "markdown",
   "metadata": {},
   "source": [
    "## Set blanked pixels to zero (not NaN)  \n",
    "overwrite         = False \\"
   ]
  },
  {
   "cell_type": "markdown",
   "metadata": {},
   "source": [
    "## Overwrite pre-existing imagename  \n",
    "defaultaxes       = False \\"
   ]
  },
  {
   "cell_type": "markdown",
   "metadata": {},
   "source": [
    "## Add the default 4D coordinate axes where\n",
    "they are missing; value True requires setting defaultaxesvalues  \n",
    "defaultaxesvalues = \\[\\]    \\"
   ]
  },
  {
   "cell_type": "markdown",
   "metadata": {},
   "source": [
    "## List of values to assign to added\n",
    "degenerate axes when defaultaxes==True (ra,dec,freq,stokes)  \n",
    "beam              = \\[\\]    \\"
   ]
  },
  {
   "cell_type": "markdown",
   "metadata": {},
   "source": [
    "## List of values to be used to define the\n",
    "synthesized beam \\[BMAJ,BMIN,BPA\\] (as in the FITS keywords)\n",
    "\n",
    "Here a description of the non-self-explanatory parameters:\n",
    "\n",
    "  \n",
    "*whichrep* -- If the FITS image has multiple coordinate representations,\n",
    "this parameter lets you choose which one to use (numbering starts at 0).\n",
    "Example: whichrep=1 .\n",
    "\n",
    "*whichhdu* -- If the fits file contains multiple images, you can choose\n",
    "the header data unit by number. The value \"-1\" (default) chooses the\n",
    "first valid one.  \n",
    "  \n",
    "CASA images by default have a 4D coordinate system (ra, dec, stokes,\n",
    "freq). Your input image may not have that. Setting the parameter\n",
    "*defaultaxes* to True, will make **importfits** add the missing axes as\n",
    "degenerate (one-pixel) axes and will take the coordinate values for\n",
    "these axes from the list in the parameter *defaultaxesvalues*\n",
    "(ra,dec,stokes, freq). For existing axes, empty strings can be given as\n",
    "values. For the directions and spectral values, any valid\n",
    "angle/frequency expressions can be given. Example:\n",
    "defaultaxesvalues=\\['19h30m00', '-02d30m00', '88.5GHz', 'Q'\\]. If the\n",
    "order of the fits files ins not ra, dec, stokes, freq, **imtrans** can\n",
    "be used to change the order. \n",
    "\n",
    "If your input image does not provide a beam or you want to override it,\n",
    "you can provde a list of values to be used to define the synthesized\n",
    "beam \\[BMAJ,BMIN,BPA\\] (as in the FITS keywords) in the parameter\n",
    "*beam*. Note that the FITS keywords typically list the BMAJ, BMIN and\n",
    "BPA in degrees, but they can be specified with other units in\n",
    "importfits. Example: beam=\\['0.35arcsec', '0.24arcsec', '25deg'\\]"
   ]
  }
 ],
 "metadata": {},
 "nbformat": 4,
 "nbformat_minor": 5
}
