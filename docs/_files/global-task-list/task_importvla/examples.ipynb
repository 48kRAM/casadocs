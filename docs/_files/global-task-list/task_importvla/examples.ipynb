{
 "cells": [
  {
   "cell_type": "markdown",
   "metadata": {},
   "source": [
    "# Examples\n",
    "\n",
    "task examples\n",
    "\n",
    "To import all K-band data from two archival VLA data-sets and write them\n",
    "out in a single MeasurementSet, taking into account all bands (and\n",
    "placing them in different spectral windows), applying the system\n",
    "temperatures and excluding the auto-correlations:\n",
    "\n",
    "importvla(archivefiles=\\['inputfile1','inputfile2'\\], vis='output.ms',\n",
    "bandname='K', applytsys=True, autocorr=False)"
   ]
  }
 ],
 "metadata": {},
 "nbformat": 4,
 "nbformat_minor": 5
}
