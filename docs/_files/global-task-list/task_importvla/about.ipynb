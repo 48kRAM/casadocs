{
 "cells": [
  {
   "cell_type": "markdown",
   "metadata": {},
   "source": [
    "# Description\n",
    "\n",
    "task importvla description\n",
    "\n",
    "Imports an arbitrary number of VLA archive-format data sets into a CASA\n",
    "MeasurementSet.\n",
    "\n",
    "The task **importvla** reads in VLA data in archive format, as\n",
    "downloaded from the VLA data archive. It will handle archival VLA data\n",
    "in both old style (before July 2007) and new style (after July 2007). It\n",
    "can apply the system temperature (Tsys) to the data and to the weights.\n",
    "If more than one band is present, each band will be put in the same\n",
    "MeasurementSet but in a separate spectral window.\n",
    "\n",
    "**NOTE**: **importvla** will import the on-line flags (from the VLA\n",
    "system) along with the data. Shadowed antennas will also be flagged. The\n",
    "flags will be put in the MAIN table and thus available to subsequent\n",
    "tasks and tools. If you wish to revert to unflagged data, use\n",
    "**flagmanager** to save the flags (if you wish), and then use\n",
    "**flagdata** with *mode=’manualflag’* and *unflag=True* to toggle off\n",
    "the flags.\n",
    "\n",
    " \n",
    "\n"
   ]
  },
  {
   "cell_type": "markdown",
   "metadata": {},
   "source": [
    "## Parameter descriptions\n",
    "\n"
   ]
  },
  {
   "cell_type": "markdown",
   "metadata": {},
   "source": [
    "##### *archivefiles*\n",
    "\n",
    "The parameter *archivefiles* is used to specify the input VLA Archive\n",
    "format file names, as can be found in the [NRAO\n",
    "Archive](https://archive.nrao.edu). Note that *archivefiles* takes a\n",
    "string or list of strings, as there are often multiple files for a\n",
    "project in the archive. If the data are located in a different directory\n",
    "on disk, then use the full path name to specify each archive file. The\n",
    "scaling of VLA data both before and after the June 2007 Modcomp-turnoff\n",
    "is fully supported, based on the value of *applytsys*.\n",
    "\n"
   ]
  },
  {
   "cell_type": "markdown",
   "metadata": {},
   "source": [
    "##### *vis*\n",
    "\n",
    "Name of output visibility file.\n",
    "\n"
   ]
  },
  {
   "cell_type": "markdown",
   "metadata": {},
   "source": [
    "##### *bandname*\n",
    "\n",
    "The **importvla** task allows selection on the frequency band. The\n",
    "*bandname* indicates the VLA Frequency band(s) to load, using the\n",
    "traditional bandname codes. These are:\n",
    "\n",
    "-   ’4’ = 48-96 MHz\n",
    "-   ’P’ = 298-345 MHz\n",
    "-   ’L’ = 1.15-1.75 GHz\n",
    "-   ’C’ = 4.2-5.1 GHz\n",
    "-   ’X’ = 6.8-9.6 GHz\n",
    "-   ’U’ = 13.5-16.3 GHz\n",
    "-   ’K’ = 20.8-25.8 GHz\n",
    "-   ’Q’ = 38-51 GHz\n",
    "-   ’’ = all bands (default)\n",
    "\n",
    "**NOTE**: After the transition from the VLA to JVLA, the actual\n",
    "frequency ranges covered by the bands have changed, and additional bands\n",
    "have been added (namely ’S’ from 1-2 GHz and ’Ka’ from 26.4-40 GHz). See\n",
    "the [frequency ranges of the\n",
    "JVLA](https://science.nrao.edu/facilities/vla/docs/manuals/oss2017B/performance/vla-frequency-bands-and-tunability)\n",
    "bands for details.\n",
    "\n"
   ]
  },
  {
   "cell_type": "markdown",
   "metadata": {},
   "source": [
    "##### *frequencytol*\n",
    "\n",
    "The *frequencytol* parameter specifies the frequency separation\n",
    "tolerated when assigning data to spectral windows. The default is\n",
    "*frequencytol='150000.0Hz'*. For Doppler tracked data, where the sky\n",
    "frequency changes with time, a *frequencytol* \\< 10000 Hz may produce\n",
    "too many unnecessary spectral windows.\n",
    "\n"
   ]
  },
  {
   "cell_type": "markdown",
   "metadata": {},
   "source": [
    "##### *project*\n",
    "\n",
    "You can specify a specific project name to import from archive files.\n",
    "The default ’’ will import data from all projects in file(s)\n",
    "*archivefiles*. For example for VLA Project AL519:\n",
    "\n",
    "-   project = 'AL519'    \\"
   ]
  },
  {
   "cell_type": "markdown",
   "metadata": {},
   "source": [
    "## this will work\n",
    "-   project = 'al519'    \\"
   ]
  },
  {
   "cell_type": "markdown",
   "metadata": {},
   "source": [
    "## this will also work\n",
    "\n",
    "**NOTE**: project=’AL0519’ will NOT work (even though that is what\n",
    "queries to the VLA Archive will print it as).\n",
    "\n"
   ]
  },
  {
   "cell_type": "markdown",
   "metadata": {},
   "source": [
    "##### *starttime* and *stoptime*\n",
    "\n",
    "You can specify start and stop times for the data, e.g.,\n",
    "*starttime='1970/1/31/00:00:00'* and *stoptime='2199/1/31/23:59:59'*.\n",
    "The blank defaults will load all data fitting other criteria.\n",
    "\n"
   ]
  },
  {
   "cell_type": "markdown",
   "metadata": {},
   "source": [
    "##### *applytsys*\n",
    "\n",
    "The *applytsys* parameter controls whether the nominal sensitivity\n",
    "scaling (based on the measured TSYS, with the weights scaled accordingly\n",
    "using the integration time) is applied to the visibility amplitudes or\n",
    "not. If True, then it will be scaled so as to be the same as AIPS FILLM\n",
    "(i.e., approximately in deciJanskys). Note that post-Modcomp data is in\n",
    "raw correlation coefficient and will be scaled using the TSYS values,\n",
    "while Modcomp-era data had this applied online. In all cases,\n",
    "**importvla** will do the correct thing to data and weights based on an\n",
    "internal flag in the VLA Archive file, either scaling it or unscaling\n",
    "based on your choice for *applytsys*.\n",
    "\n",
    "**NOTE**: If *applytsys=True* and you see strange behavior in data\n",
    "amplitudes, it may be due to erroneous TSYS values from the online\n",
    "system. You might want to then fill with *applytsys=False* and look at\n",
    "the correlation coefficients to see if the behavior is as expected.\n",
    "\n"
   ]
  },
  {
   "cell_type": "markdown",
   "metadata": {},
   "source": [
    "##### *autocorr*\n",
    "\n",
    "Autocorrelations are written to the MeasurementSet if *autocorr=True*.\n",
    "Generally for the VLA, autocorrelation data is not useful, and\n",
    "furthermore the imaging routine will try to image the autocorrelation\n",
    "data (it assumes it is single dish data) which will swamp any real\n",
    "signal. Thus, if you do fill the autocorrelations, you will have to flag\n",
    "them before imaging.\n",
    "\n"
   ]
  },
  {
   "cell_type": "markdown",
   "metadata": {},
   "source": [
    "##### *antnamescheme*\n",
    "\n",
    "The *antnamescheme* parameter controls whether **importvla** will try to\n",
    "use a naming scheme where JVLA antennas are prefixed with EA (e.g.,\n",
    "’EA16’) and old VLA antennas have names prefixed with VA (e.g., ’VA11’).\n",
    "\n"
   ]
  },
  {
   "cell_type": "markdown",
   "metadata": {},
   "source": [
    "##### *keepblanks*\n",
    "\n",
    "Turns on or off whether **importvla** fills the scans with blank (empty)\n",
    "source names (e.g., tipping scans).\n",
    "\n"
   ]
  },
  {
   "cell_type": "markdown",
   "metadata": {},
   "source": [
    "##### *evlabands*\n",
    "\n",
    "The *evlabands=True* option is provided to allow users to access JVLA\n",
    "frequencies outside the standard VLA tunings (e.g., the extended C-band\n",
    "above 6 GHz).\n",
    "\n",
    "**WARNING**: Use of this option for standard VLA data will cause\n",
    "unexpected associations, such as X-band data below 8 GHz being extracted\n",
    "to C-band (as the JVLA C-band is 4–8 GHz). Use with care.\n",
    "\n",
    " \n",
    "\n",
    " \n",
    "\n"
   ]
  },
  {
   "cell_type": "markdown",
   "metadata": {},
   "source": [
    "## Notes\n",
    "\n",
    "If the output *vis* parameter (MeasurementSet) already exists or is an\n",
    "illegal name, the following SEVERE warning is shown. (\\<*archivefiles*\\>\n",
    "and \\<*vis*\\> are those parameter values):\n",
    "\n",
    "SEVERE \\*\\*\\* Error importing \\<*archivefiles*\\> to \\<*vis*\\>  \n",
    "SEVERE Need valid visibility file name (bad name or already exists)  \n",
    "SEVERE An error occurred running task importvla.\n",
    "\n",
    "When **importvla** finishes without writing any rows to the output\n",
    "MeasurementSet (because of the data selection resulting from the\n",
    "parameter settings or because of problems with the data as described\n",
    "below) then this SEVERE error message is shown (\"*\\<vis*\\>\" is the value\n",
    "of the *vis* parameter).\n",
    "\n",
    "SEVERE \\*\\*\\* visibility file is empty: \\<*vis*\\>  \n",
    "SEVERE An error occurred running task importvla.\n",
    "\n",
    "This task has not been tested on VLA archive data with revisions less\n",
    "than 23. Using **importvla** to import older revisions results in the\n",
    "following warning message (the revision level of the archive data is\n",
    "shown):\n",
    "\n",
    "WARN This function has not been tested on VLA archive data with\n",
    "revisions less  \n",
    "WARN than 23 & the data in this record has a revision level of 5  \n",
    "WARN It is very likely that the correlation data will be scaled\n",
    "incorrectly\n",
    "\n",
    "The *epoch* value is set to zero in archive data for revsions less than\n",
    "10. **importvla** assumes a value of 1950 in that case, resuting in the\n",
    "code using a value of B1950_VLA where necessary in the output\n",
    "MeasurementSet (mean epoch \\[1979.9\\] and ecliptic at B1950.0). This\n",
    "warning message is given when that assumption is made:\n",
    "\n",
    "WARN epoch is 0, assuming B1950_VLA\n",
    "\n",
    "Records involving unsupported observing modes are skipped by\n",
    "**importvla**. If only unsupported observing modes are found no rows\n",
    "will be written and the output MeasurementSet will be empty. A warning\n",
    "message similar to the following is shown when an unsupported observing\n",
    "mode is seen, indicating the mode and a short description of that mode.\n",
    "\n",
    "WARN Unsupported observing mode: IA interferometer pointing mode A (IF)\n",
    "\n",
    "The polarization information is sometimes impossible for **importvla**\n",
    "to determine for some old (early) correlator modes. In that case, the\n",
    "task will skip that record. If no other correlator modes are found in\n",
    "the data the resulting output MeasurementSet will be empty. This is a\n",
    "SEVERE error and may indicate that there are other problems with any\n",
    "data that was written to the MeasurementSet.\n",
    "\n",
    "SEVERE Unable to determine polarization information for some or all\n",
    "correlator modes.  \n",
    "SEVERE That data can not be filled and the resulting visibility file may\n",
    "be empty.\n",
    "\n",
    "The folllowing warning appears to be limited to revisions 03 and 04 and\n",
    "it may indicate other problems wtih the output MeasurementSet. The check\n",
    "for this condition is always made against the first antenna encountered.\n",
    "All of the antennas that are different from that antenna will be shown\n",
    "in a warning message.\n",
    "\n",
    "WARN The IF transfer switch for antenna VA04 is different from the\n",
    "setting for antenna VA01.  \n",
    "WARN Correlations involving this antenna may have incorrect polarization\n",
    "labelling.\n",
    "\n"
   ]
  },
  {
   "cell_type": "markdown",
   "metadata": {},
   "source": [
    "## Unsupported Observing Modes\n",
    "\n",
    "-   \"D \" : delay center determination mode\n",
    "-   \"IR\" : interferometer reference pointing mode\n",
    "-   \"I\\*\" : interferomter pointing mode \\* (IF). Where \\* is one of A,\n",
    "    B, C, D.\n",
    "-   \"J\\*\" : JPL mode \\* (IF). Where \\* is one of A, B, C, D.\"\n",
    "-   \"P\\*\" : single dish pointing mode \\* (IF). Where \\* is one of A, B,\n",
    "    C, D\n",
    "-   \"TB\" : test back-end and front-end\n",
    "-   \"TE\" : tipping curve\n",
    "-   \"TF\" : test front-end\n",
    "-   \"VS\" : single dish VLBI"
   ]
  }
 ],
 "metadata": {},
 "nbformat": 4,
 "nbformat_minor": 5
}
