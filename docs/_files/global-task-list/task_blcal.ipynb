{
 "cells": [
  {
   "cell_type": "markdown",
   "metadata": {},
   "source": [
    "# blcal\n",
    "\n",
    "Calculate a baseline-based calibration solution (gain or bandpass)\n",
    "\n"
   ]
  },
  {
   "cell_type": "markdown",
   "metadata": {},
   "source": [
    "## Summary\n",
    "\n",
    "The **blcal** task determines baseline-based time- and/or\n",
    "frequency-dependent gains for all baselines in the data set. Such\n",
    "solutions are in contrast to **gaincal** and **bandpass** solutions\n",
    "which are antenna-based and better constrained.\n",
    "\n",
    "In general, solving for and applying baseline-based calibration can be a\n",
    "very dangerous thing to do, since such non-closing corrections can\n",
    "fundamentally alter the otherwise unique source structure information\n",
    "obtained by an interferometer. Use of **blcal** should be approached\n",
    "with great care, after all antenna-based calibration options have been\n",
    "exhausted, and then only on long timescales, to ensure that the solution\n",
    "doesn't absorb true---or reinforce false---source structure. You must be\n",
    "sure you have an excellent model for the source (better than the\n",
    "magnitude of the baseline-dependent errors). In any case, **blcal**\n",
    "will, if used, usually mark the endpoint of a calibration scheme,\n",
    "reinforcing the current source model, and rendering any additional\n",
    "antenna-based calibration (e.g., selfcal) less reliable. As such, it\n",
    "could be viewed as a mostly cosmetic last step in calibration.\n",
    "\n"
   ]
  },
  {
   "cell_type": "markdown",
   "metadata": {},
   "source": [
    "## Common calibration solve parameters\n",
    "\n",
    "The **blcal** task uses all of the same parameters as gaincal and\n",
    "bandpass, which the exception of gaintype and bandtype, respectively.\n",
    "See [\"Solving for\n",
    "Calibration\"](https://casa.nrao.edu/casadocs-devel/stable/calibration-and-visibility-data/synthesis-calibration/solving-for-calibration)\n",
    "for general information about calibration solving parameters.\n",
    "\n"
   ]
  },
  {
   "cell_type": "markdown",
   "metadata": {},
   "source": [
    "### Controlling frequency-dependence in blcal: *freqdep*\n",
    "\n",
    "The parameter *freqdep* controls whether or not a channel-dependent\n",
    "solution should be obtained. If *freqdep=True*, a channelized solution\n",
    "(like **bandpass**, but baseline-based) will be obtained; otherwise the\n",
    "solution will be unchannelized (like **gaincal**, but baseline-based).\n",
    "\n",
    "&nbsp;"
   ]
  },
  {
   "cell_type": "markdown",
   "metadata": {
    "nbsphinx-toctree": {
     "hidden": true
    }
   },
   "source": [
    "[Description](task_blcal/about)\n",
    "[Parameters](task_blcal/parameters)\n",
    "[Changelog](task_blcal/changelog)\n",
    "[Examples](task_blcal/examples)\n",
    "[Developer](task_blcal/developer)\n"
   ]
  }
 ],
 "metadata": {},
 "nbformat": 4,
 "nbformat_minor": 5
}
