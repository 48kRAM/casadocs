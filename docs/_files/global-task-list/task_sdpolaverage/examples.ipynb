{
 "cells": [
  {
   "cell_type": "markdown",
   "metadata": {},
   "source": [
    "# Examples\n",
    "\n",
    "The following example shows how to obtain Stokes I data from XX and YY\n",
    "or from LL and RR stored in FLOAT_DATA column:\n",
    "\n",
    "sdpolaverage(infile='sd_data.ms', datacolumn='float_data',\n",
    "polaverage='stokes', outfile='sd_data_pave.ms')\n",
    "\n",
    "While the input dataset 'sd_data.ms' contains two (XX and YY or LL and\n",
    "RR) spectra in each row, the output MS 'sd_data_pave.ms' should have\n",
    "just one (Stokes I) spectrum in each row.&nbsp;\n",
    "\n",
    "&nbsp;"
   ]
  }
 ],
 "metadata": {},
 "nbformat": 4,
 "nbformat_minor": 5
}
