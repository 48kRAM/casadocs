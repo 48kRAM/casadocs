{
 "cells": [
  {
   "cell_type": "markdown",
   "metadata": {},
   "source": [
    "# imdev\n",
    "\n",
    "Create an image that can represent the statistical deviations of the\n",
    "input image.\n",
    "\n",
    "This application creates an image that reflects the statistics around\n",
    "specified grid points of the input image. The output image has the same\n",
    "dimensions and coordinate system as the (selected region in the) input\n",
    "image. The *grid* parameter describes how many pixels apart the grid\n",
    "pixels are from one another and the statistics are computed around each\n",
    "grid pixel. Grid pixels are limited to the direction plane only\n",
    "(typically RA and dec); independent statistics are computed for each\n",
    "direction plane (i.e., at each frequency/stokes pixel should the input\n",
    "image happen to have such additional axes).\n",
    "\n",
    "Using the *xlength* and *ylength* parameters, one may specify either a\n",
    "rectangular or circular region around each grid point that defines which\n",
    "surrounding pixels are used in the statistic computation for individual\n",
    "grid points. If the *ylength* parameter is the empty string, then a\n",
    "circle of diameter provided by *xlength* centered on the grid point is\n",
    "used. If *ylength* is not empty, then a rectangular box of dimensions\n",
    "*xlength* x *ylength* centered on the grid pixel is used. These two\n",
    "parameters may be specified in pixels, using either numerical values or\n",
    "valid quantities with \"pix\" as the unit (e.g., \"4pix\"). Otherwise, they\n",
    "must be specified as valid angular quantities, with recognized units\n",
    "(e.g., \"4arcsec\"). As with other region selections in CASA, full pixels\n",
    "are included in the computation even if the specified region includes\n",
    "only a fraction of that pixel.\n",
    "\n",
    "**WARNING**: Beware of machine precision issues because you may get a\n",
    "smaller number of pixels included in a region than you expect if you\n",
    "specify, e.g., an integer number of pixels. In such cases, you probably\n",
    "want to specify that number plus a small epsilon value (e.g.,\n",
    "\"2.0001pix\" rather than \"2pix\") to mitigate machine precision issues\n",
    "when computing region extents.\n",
    "\n",
    "The output image is formed by putting the statistics calculated at each\n",
    "grid point at the corresponding grid point in the output image.\n",
    "Interpolation of these output values is then used to compute values at\n",
    "non-grid-point pixels. The user may specify which interpolation\n",
    "algorithm to use for this computation using the *interp* parameter. The\n",
    "input image pixel mask is copied to the output image. If interpolation\n",
    "is performed, output pixels are masked where the interpolation fails.\n",
    "\n"
   ]
  },
  {
   "cell_type": "markdown",
   "metadata": {},
   "source": [
    "### ANCHORING THE GRID\n",
    "\n",
    "The user may choose at which pixel to *anchor* the grid. For example, if\n",
    "one specifies *grid=\\[4,4\\]* and *anchor=\\[0,0\\]*, grid points will be\n",
    "located at pixels \\[0,0\\], \\[0,4\\], \\[0,8\\] ... \\[4,0\\], \\[4,4\\], etc.\n",
    "This is exactly the same grid that would be produced if the user\n",
    "specified *anchor=\\[4,4\\]* or *anchor=\\[20,44\\]*. The value \"ref\", which\n",
    "is the default, indicates that the reference pixel of the input image\n",
    "should be used to anchor the grid. The x and y values of this pixel will\n",
    "be rounded to the nearest integer if necessary.\n",
    "\n"
   ]
  },
  {
   "cell_type": "markdown",
   "metadata": {},
   "source": [
    "### SUPPORTED STATISTICS AND STATISTICS ALGORITHMS\n",
    "\n",
    "One may specify which statistic should be represented using the\n",
    "*stattype* parameter. The following values are recognized (minimum match\n",
    "supported):\n",
    "\n",
    "-   'iqr' - inner quartile range (q3 - q1)\n",
    "-   'max' - maximum\n",
    "-   'mean' - mean\n",
    "-   'medabsdevmed' or 'madm' - median absolute deviation from the median\n",
    "-   'median' - median\n",
    "-   'min' - minimum\n",
    "-   'npts' - number of points\n",
    "-   'q1' - first quartile\n",
    "-   'q3' - third quartile\n",
    "-   'rms' - rms\n",
    "-   'sigma' or 'std' - standard deviation\n",
    "-   'sumsq' - sum of squares\n",
    "-   'sum' - sum\n",
    "-   'var' - variance\n",
    "-   'xmadm' - median absolute deviation from the median converted to an\n",
    "    RMS-equivalent value. Result is MADM multipied by x, where x is the\n",
    "    reciprocal of $Phi^{-1}*(3/4)$ and $Phi^{-1}$ is\n",
    "    the reciprocal of the quantile function. Numerically, x =\n",
    "    1.482602218505602. See\n",
    "    [here](https://en.wikipedia.org/wiki/Median_absolute_deviation#Relation_to_standard_deviation)\n",
    "    for an example.\n",
    "\n",
    "Using the *statalg* parameter, one may also select whether to use the\n",
    "default Classical (\"classic\", which uses the \"framework\" statistics\n",
    "method) or Chauvenet/ZScore (\"chauvenet\") statistics algorithm to\n",
    "compute the desired statistic (see the help for **ia.statistics** or\n",
    "**imstat** for a full description of these algorithms; see [this\n",
    "page](https://casa.nrao.edu/casadocs-devel/stable/imaging/image-analysis/mathematical-operation-on-images-and-image-statistics \"this page\")\n",
    "for further information on Operations and Statistics on CASA images).\n",
    "\n",
    "&nbsp;\n",
    "\n"
   ]
  },
  {
   "cell_type": "markdown",
   "metadata": {},
   "source": [
    "## Parameter descriptions\n",
    "\n"
   ]
  },
  {
   "cell_type": "markdown",
   "metadata": {},
   "source": [
    "##### *imagename*\n",
    "\n",
    "The name of the input image that **imdev** will use.\n",
    "\n"
   ]
  },
  {
   "cell_type": "markdown",
   "metadata": {},
   "source": [
    "##### *outfile*\n",
    "\n",
    "Output image file name. If left blank (the default), no image is written\n",
    "but a new image tool referencing the collapsed image is returned.\n",
    "\n"
   ]
  },
  {
   "cell_type": "markdown",
   "metadata": {},
   "source": [
    "##### *region*\n",
    "\n",
    "Region selection. Default is to use the full image.\n",
    "\n"
   ]
  },
  {
   "cell_type": "markdown",
   "metadata": {},
   "source": [
    "##### *box*\n",
    "\n",
    "Rectangular region(s) to select in direction plane. Default is to use\n",
    "the entire direction plane.\n",
    "\n"
   ]
  },
  {
   "cell_type": "markdown",
   "metadata": {},
   "source": [
    "##### *chans*\n",
    "\n",
    "Channels from the input image to use. Default is to use all channels.\n",
    "\n"
   ]
  },
  {
   "cell_type": "markdown",
   "metadata": {},
   "source": [
    "##### *stokes*\n",
    "\n",
    "Stokes planes to use. Default is to use all Stokes planes.\n",
    "\n"
   ]
  },
  {
   "cell_type": "markdown",
   "metadata": {},
   "source": [
    "##### *mask*\n",
    "\n",
    "Mask to use. Default setting is none.\n",
    "\n"
   ]
  },
  {
   "cell_type": "markdown",
   "metadata": {},
   "source": [
    "#### *mask* expandable parameters\n",
    "\n"
   ]
  },
  {
   "cell_type": "markdown",
   "metadata": {},
   "source": [
    "##### *stretch*\n",
    "\n",
    "Stretch the mask if necessary and possible. Default value is False.\n",
    "\n",
    "&nbsp;\n",
    "\n"
   ]
  },
  {
   "cell_type": "markdown",
   "metadata": {},
   "source": [
    "##### *overwrite*\n",
    "\n",
    "Overwrite (unprompted) pre-existing output file. Ignored if *outfile* is\n",
    "left blank.\n",
    "\n"
   ]
  },
  {
   "cell_type": "markdown",
   "metadata": {},
   "source": [
    "##### *grid*\n",
    "\n",
    "x,y grid spacing. Array of exactly two positive integers.\n",
    "\n"
   ]
  },
  {
   "cell_type": "markdown",
   "metadata": {},
   "source": [
    "##### *anchor*\n",
    "\n",
    "x,y anchor pixel location. Either \"ref\" to use the image reference\n",
    "pixel, or an array of exactly two integers.\n",
    "\n"
   ]
  },
  {
   "cell_type": "markdown",
   "metadata": {},
   "source": [
    "##### *xlength*\n",
    "\n",
    "Either x coordinate length of box, or diameter of circle. Circle is used\n",
    "if *ylength* is empty string.\n",
    "\n"
   ]
  },
  {
   "cell_type": "markdown",
   "metadata": {},
   "source": [
    "##### *ylength*\n",
    "\n",
    "y coordinate length of box. Use a circle if *ylength* is empty string.\n",
    "\n"
   ]
  },
  {
   "cell_type": "markdown",
   "metadata": {},
   "source": [
    "##### *interp*\n",
    "\n",
    "Interpolation algorithm to use. One of \"nearest\", \"linear\", \"cubic\", or\n",
    "\"lanczos\". Minimum match supported.\n",
    "\n"
   ]
  },
  {
   "cell_type": "markdown",
   "metadata": {},
   "source": [
    "##### *stattype*\n",
    "\n",
    "Statistic to compute. Accepted values discussed in the section above.\n",
    "\n"
   ]
  },
  {
   "cell_type": "markdown",
   "metadata": {},
   "source": [
    "##### *statalg*\n",
    "\n",
    "Statistics computation algorithm to use. Supported values are\n",
    "\"chauvenet\" and \"classic\", Minimum match is supported.\n",
    "\n"
   ]
  },
  {
   "cell_type": "markdown",
   "metadata": {},
   "source": [
    "#### *statalg='chauvenet'* expandable parameters\n",
    "\n"
   ]
  },
  {
   "cell_type": "markdown",
   "metadata": {},
   "source": [
    "##### *zscore*\n",
    "\n",
    "This is the target maximum number of standard deviations data may have\n",
    "to be included. If negative, use Chauvenet\"s criterion.\n",
    "\n"
   ]
  },
  {
   "cell_type": "markdown",
   "metadata": {},
   "source": [
    "##### *maxiter*\n",
    "\n",
    "This is the maximum number of iterations to attempt. Iterating will stop\n",
    "when either this limit is reached, or the *zscore* criterion is met. If\n",
    "negative, iterate until the *zscore* criterion is met.\n",
    "\n",
    "&nbsp;"
   ]
  },
  {
   "cell_type": "markdown",
   "metadata": {
    "nbsphinx-toctree": {
     "hidden": true
    }
   },
   "source": [
    "[Description](task_imdev/about)\n",
    "[Parameters](task_imdev/parameters)\n",
    "[Changelog](task_imdev/changelog)\n",
    "[Examples](task_imdev/examples)\n",
    "[Developer](task_imdev/developer)\n"
   ]
  }
 ],
 "metadata": {},
 "nbformat": 4,
 "nbformat_minor": 5
}
