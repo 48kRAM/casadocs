{
 "cells": [
  {
   "cell_type": "markdown",
   "metadata": {},
   "source": [
    "# Examples\n",
    "\n",
    "task examples\n",
    "\n",
    "**Example 1:&nbsp;**\n",
    "\n",
    "Initialize the&nbsp;WEIGHT and the SIGMA column of myMS.ms based on the\n",
    "channel widths and integration time of each visibility. *dowtsp=True*\n",
    "will create a SIGMA_SPECTRUM and WEIGHT_SPECTRUM column if they did not\n",
    "exist in the original myMS.ms.&nbsp;\n",
    "\n",
    "initweights(vis='myMS.ms', wtmode='nyq', dowtsp=True)\n",
    "\n",
    "&nbsp;\n",
    "\n",
    "**Example 2:&nbsp;**\n",
    "\n",
    "Use **initweights** to create WEIGHT_SPECTRUM column if it does not\n",
    "exist and fill the WEIGHT values into WEIGHT_SPECTRUM&nbsp;\n",
    "\n",
    "initweights(vis='myMS.ms', wtmode='weight')&nbsp;\n",
    "\n",
    "&nbsp;and here's a call that will remove the WEIGHT_SPECTRUM column, but\n",
    "keep WEIGHT\n",
    "\n",
    "initweights(vis='myMS.ms', wrtmode='delwtsp')\n",
    "\n",
    "&nbsp;\n",
    "\n",
    "&nbsp;\n",
    "\n",
    "&nbsp;"
   ]
  }
 ],
 "metadata": {},
 "nbformat": 4,
 "nbformat_minor": 5
}
