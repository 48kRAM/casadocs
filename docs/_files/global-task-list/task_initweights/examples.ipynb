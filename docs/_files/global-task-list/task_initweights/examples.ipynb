{
 "cells": [
  {
   "cell_type": "markdown",
   "metadata": {},
   "source": [
    "# Examples\n",
    "\n",
    "task examples\n",
    "\n",
    "**Example 1: **\n",
    "\n",
    "Initialize the WEIGHT and the SIGMA column of myMS.ms based on the\n",
    "channel widths and integration time of each visibility. *dowtsp=True*\n",
    "will create a SIGMA_SPECTRUM and WEIGHT_SPECTRUM column if they did not\n",
    "exist in the original myMS.ms. \n",
    "\n",
    "initweights(vis='myMS.ms', wtmode='nyq', dowtsp=True)\n",
    "\n",
    " \n",
    "\n",
    "**Example 2: **\n",
    "\n",
    "Use **initweights** to create WEIGHT_SPECTRUM column if it does not\n",
    "exist and fill the WEIGHT values into WEIGHT_SPECTRUM \n",
    "\n",
    "initweights(vis='myMS.ms', wtmode='weight') \n",
    "\n",
    " and here's a call that will remove the WEIGHT_SPECTRUM column, but keep\n",
    "WEIGHT\n",
    "\n",
    "initweights(vis='myMS.ms', wrtmode='delwtsp')"
   ]
  }
 ],
 "metadata": {},
 "nbformat": 4,
 "nbformat_minor": 5
}
