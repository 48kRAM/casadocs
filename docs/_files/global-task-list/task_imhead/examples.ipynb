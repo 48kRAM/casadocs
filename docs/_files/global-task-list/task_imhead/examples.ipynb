{
 "cells": [
  {
   "cell_type": "markdown",
   "metadata": {},
   "source": [
    "# Examples\n",
    "\n",
    "mode='get' (image has direction and spectral coordinates)\n",
    "\n",
    "epoch = imhead(imagename=imagename, mode=\"get\", hdkey=\"date-obs\")  \n",
    "observer = imhead(imagename=imagename, mode=\"get\", hdkey=\"observer\")  \n",
    "projection = imhead(imagename=imagename, mode=\"get\",\n",
    "hdkey=\"projection\")  \n",
    "restfreq = imhead(imagename=imagename, mode=\"get\", hdkey=\"restfreq\")\n",
    "\n",
    "mode='add'\n",
    "\n",
    "  \n",
    "if imhead(imagename=imagename, mode=\"add\", hdkey=\"mykey\",\n",
    "hdvalue=\"myvalue\"):  \n",
    "&nbsp;&nbsp;&nbsp;&nbsp; print \"mykey added\".  \n",
    "else:  \n",
    "&nbsp;&nbsp;&nbsp;&nbsp; print \"addition of mykey failed.\"\n",
    "\n",
    "mode=\"del\"\n",
    "\n",
    "if imhead(imagename=imagename, mode=\"del\", hdkey=\"mykey\"):  \n",
    "&nbsp;&nbsp;&nbsp;&nbsp; print \"mykey deleted\".  \n",
    "else:  \n",
    "&nbsp;&nbsp;&nbsp;&nbsp; print \"deletion of mykey failed.\"\n",
    "\n",
    "mode=\"put\"\n",
    "\n",
    "\\"
   ]
  },
  {
   "cell_type": "markdown",
   "metadata": {},
   "source": [
    "## change the reference RA value  \n",
    "key = 'crval1'  \n",
    "imhead(imagename=imagename, mode=\"put\", hdkey=key, hdvalue=\"3:00:00\")  \n",
    "\\"
   ]
  },
  {
   "cell_type": "markdown",
   "metadata": {},
   "source": [
    "## or equivalently  \n",
    "imhead(imagename=imagename, mode=\"put\", hdkey=key, hdvalue=\"45deg\")  \n",
    "  \n",
    "\\"
   ]
  },
  {
   "cell_type": "markdown",
   "metadata": {},
   "source": [
    "## change the direction reference frame (NOTE, no precession of the\n",
    "existing  \n",
    "\\"
   ]
  },
  {
   "cell_type": "markdown",
   "metadata": {},
   "source": [
    "## reference values is done!)  \n",
    "imhead(imagename=imagename, mode=\"put\", hdkey=\"equinox\",\n",
    "hdvalue=\"GALACTIC\")  \n",
    "  \n",
    "\\"
   ]
  },
  {
   "cell_type": "markdown",
   "metadata": {},
   "source": [
    "## change the object  \n",
    "imhead(imagename=imagename, mode=\"put\", hdkey=\"object\",\n",
    "hdvalue=\"Milliways, also known as The Restaurant at the End of the\n",
    "Universe\")"
   ]
  }
 ],
 "metadata": {},
 "nbformat": 4,
 "nbformat_minor": 5
}
