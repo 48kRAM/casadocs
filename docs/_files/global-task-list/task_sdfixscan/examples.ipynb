{
 "cells": [
  {
   "cell_type": "markdown",
   "metadata": {},
   "source": [
    "# Examples\n",
    "\n",
    "task examples\n",
    "\n"
   ]
  },
  {
   "cell_type": "markdown",
   "metadata": {},
   "source": [
    "## Examples for 'Basket-Weaving'\n",
    "\n",
    "sdfixscan(mode='fft_mask', infiles = \\['scan_0deg.im',\n",
    "'scan_90deg.im'\\], direction=\\[0., 90.\\], maskwidth=5.0,\n",
    "outfile='basket_0\\_90.im')\n",
    "\n",
    "sdfixscan(mode='fft_mask', infiles = \\['scan_30deg.im',\n",
    "'scan_120deg.im'\\], direction=\\[30., 120.\\], maskwidth=10.0,\n",
    "outfile='basket_30_120.im')\n",
    "\n"
   ]
  },
  {
   "cell_type": "markdown",
   "metadata": {},
   "source": [
    "##  \n",
    "\n"
   ]
  },
  {
   "cell_type": "markdown",
   "metadata": {},
   "source": [
    "## Example for  'Pressed-out'\n",
    "\n",
    "sdfixscan(mode='model', infiles = 'scan_0deg.im', direction=90.,\n",
    "smoothsize='100arcsec', outfile='press_0.im')"
   ]
  }
 ],
 "metadata": {},
 "nbformat": 4,
 "nbformat_minor": 5
}
