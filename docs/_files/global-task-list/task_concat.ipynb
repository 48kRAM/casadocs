{
 "cells": [
  {
   "cell_type": "markdown",
   "metadata": {},
   "source": [
    "# concat\n",
    "\n",
    "concatenate several visibility data sets.\n",
    "\n",
    "This task concatenates several visibility data sets into a single\n",
    "MeasurementSet (MS).\n",
    "\n",
    "&nbsp;\n",
    "\n"
   ]
  },
  {
   "cell_type": "markdown",
   "metadata": {},
   "source": [
    "## Input and output&nbsp;MeasurementSets\n",
    "\n",
    "The list of data sets given in the *vis* argument are chronologically\n",
    "concatenated into an output data set (named in *concatvis*), i.e. the\n",
    "data sets in *vis* are first ordered by the time of their earliest\n",
    "integration and then concatenated.\n",
    "\n",
    "For example, *vis =\n",
    "\\['src2.ms','ngc5921.ms','ngc315.ms'\\],&nbsp;*concatvis =\n",
    "'src2.ms'*.&nbsp;*\n",
    "\n",
    "If *concatvis* already exists (e.g., it is the same as the first input\n",
    "data set), then the other input data sets will be appended to the\n",
    "*concatvis* data set. There is no limit to the number of input data\n",
    "sets. If none of the input data sets has any scratch columns (model or\n",
    "corrected columns), none is created in the *concatvis*. Otherwise these\n",
    "columns are created on output and initialized to their default value (1\n",
    "in model column, data in corrected column) for those data with no input\n",
    "scratch columns.&nbsp;\n",
    "\n",
    "**NOTE**: If the&nbsp;*concatvis* output&nbsp;file exits on disk then\n",
    "the input files are added to this file. Otherwise the new file contains\n",
    "the concatenated data. Be careful here when concatenating to an existing\n",
    "file.\n",
    "\n",
    "&nbsp;\n",
    "\n"
   ]
  },
  {
   "cell_type": "markdown",
   "metadata": {},
   "source": [
    "## Spectral and position shift tolerances\n",
    "\n",
    "Spectral windows for each data set with the same channelization (equal\n",
    "numbers of channels), and within a specified frequency tolerance\n",
    "(parameter *freqtol*) of another data set, will be combined into one\n",
    "spectral window. By default,&nbsp;*freqtol* = '', which is understood by\n",
    "CASA to be a frequency tolerance of 1 Hz. For example,&nbsp;*freqtol =\n",
    "'10MHz'* will not combine spectral windows&nbsp;unless they are within\n",
    "10 MHz of each other.&nbsp;\n",
    "\n",
    "**NOTE**: This option is useful to combine spectral windows with very\n",
    "slight frequency differences caused by Doppler tracking, for example.\n",
    "\n",
    "A field position in one data set that is within a specified direction\n",
    "tolerance (parameter *dirtol*) of another field position in any other\n",
    "data set will be combined into one field. The field names need not be\n",
    "the same -- only their position is used. In these cases, the actual\n",
    "direction and field name in the resulting, merged output field will be\n",
    "the ones from the chronologically-first input MS. Each appended dataset\n",
    "is assigned a new observation ID (provided the entries in the\n",
    "observation table are indeed different). By default,&nbsp;*dirtol* = '',\n",
    "which is understood by CASA to be a position tolerance of 1 milliarcsec\n",
    "(mas). For&nbsp;example,&nbsp;*dirtol = '1arcsec'* will not combine\n",
    "fields unless their phase centers differ by less than 1 arcsec. If the\n",
    "field names are different in the input data sets, the name in the output\n",
    "data set will be the first relevant data set in the list. Use the\n",
    "parameter&nbsp;*respectname = True&nbsp;*to indicate that&nbsp;fields\n",
    "with&nbsp;a different name should not be merged even if their direction\n",
    "agrees (within&nbsp;*dirtol*).&nbsp;\n",
    "\n",
    "**NOTE**: There is no constraint on data that is simultaneously observed\n",
    "for more than one field; for example multi-source correlation of VLBA\n",
    "data.\n",
    "\n"
   ]
  },
  {
   "cell_type": "markdown",
   "metadata": {},
   "source": [
    "## &nbsp;\n",
    "\n"
   ]
  },
  {
   "cell_type": "markdown",
   "metadata": {},
   "source": [
    "## Operations performed on output&nbsp;MeasurementSets&nbsp;\n",
    "\n",
    "Use the parameter&nbsp;*timesort = True* to sort the output visibility\n",
    "table in time.&nbsp;\n",
    "\n",
    "Set&nbsp;*copypointing = True*&nbsp;(the default behavior) to make a\n",
    "proper copy of the POINTING subtable (though this can be\n",
    "time-consuming). If *False*, the result is an empty POINTING table.\n",
    "\n",
    "The weights of the individual MSs will be scaled in the concatenated\n",
    "output MS by the factors in the list given in *visweightscale*. SIGMA\n",
    "will be scaled by 1/sqrt(factor). This parameter is useful for handling\n",
    "heterogeneous arrays. Use plotms to inspect the \"Wt\" columns as\n",
    "reference for determining the scaling factors. For\n",
    "example,&nbsp;*visweightscale* =&nbsp;\\[1.,3.,3.\\] will scale the\n",
    "weights of the second and third MS by a factor 3 and the SIGMA column of\n",
    "these MSs by a factor 1/sqrt(3).\n",
    "\n",
    "By default, **concat** will only merge two ephemeris fields if the first\n",
    "ephemeris covers the time range of the second. Otherwise, two separate\n",
    "fields with separate ephemerides are placed in the output MS. In order\n",
    "to override this behaviour and force&nbsp;**concat** to merge the\n",
    "non-overlapping or only partially overlapping input ephemerides, the\n",
    "name or ID&nbsp;of the field in question needs to be placed into the\n",
    "list in parameter *forcesingleephemfield*. For example,\n",
    "*forcesingleephemfield =*&nbsp;\\['Neptune'\\] will make sure that there\n",
    "is only one joint ephemeris for field Neptune in the output MS."
   ]
  },
  {
   "cell_type": "markdown",
   "metadata": {
    "nbsphinx-toctree": {
     "hidden": true
    }
   },
   "source": [
    "[Description](task_concat/about)\n",
    "[Examples](task_concat/examples)\n"
   ]
  }
 ],
 "metadata": {},
 "nbformat": 4,
 "nbformat_minor": 5
}
