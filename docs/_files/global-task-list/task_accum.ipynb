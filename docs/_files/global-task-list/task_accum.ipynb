{
 "cells": [
  {
   "cell_type": "markdown",
   "metadata": {},
   "source": [
    "# accum\n",
    "\n",
    "task accum description\n",
    "\n"
   ]
  },
  {
   "cell_type": "markdown",
   "metadata": {},
   "source": [
    "## Summary\n",
    "\n",
    "Please note: The **accum** task has been designated for deprecation, and\n",
    "will be removed in CASA 5.8/6.2.\n",
    "\n",
    "&nbsp;\n",
    "\n",
    "**accum** will interpolate and extrapolate a temporal calibration table\n",
    "onto a new table that has a regularly-space time grid. The first run of\n",
    "**accum** defines the time grid and fills this table with the results\n",
    "from the input table. Subsequent use of **accum** will combine\n",
    "additional calibration tables onto the same grid of the initial\n",
    "**accum** table to obtain an output **accum** table.&nbsp;\n",
    "\n",
    "&nbsp;\n",
    "\n"
   ]
  },
  {
   "cell_type": "markdown",
   "metadata": {},
   "source": [
    "## Parameter descriptions\n",
    "\n"
   ]
  },
  {
   "cell_type": "markdown",
   "metadata": {},
   "source": [
    "##### *vis*\n",
    "\n",
    "Name of input MeasurementSet. No default.\n",
    "\n"
   ]
  },
  {
   "cell_type": "markdown",
   "metadata": {},
   "source": [
    "##### *tablein*\n",
    "\n",
    "Input cumulative calibration table. Default: ''*&nbsp;* means none. On\n",
    "first execution of **accum**, *tablein=''*&nbsp; and *accumtime* is used\n",
    "to generate *tablein* with&nbsp;the specified time gridding.\n",
    "\n"
   ]
  },
  {
   "cell_type": "markdown",
   "metadata": {},
   "source": [
    "#### *tablein* expandable parameters\n",
    "\n"
   ]
  },
  {
   "cell_type": "markdown",
   "metadata": {},
   "source": [
    "##### *accumtime*\n",
    "\n",
    "The time separation when making *tablein*. Default: 1.0*&nbsp;* (1\n",
    "second).&nbsp;This time should not be&nbsp;less than the visibiility\n",
    "sampling time, but should&nbsp;be less than about 30% of a typical scan\n",
    "length.\n",
    "\n",
    "&nbsp;\n",
    "\n"
   ]
  },
  {
   "cell_type": "markdown",
   "metadata": {},
   "source": [
    "##### *incrtable*\n",
    "\n",
    "The calibration data to be interpolated onto the&nbsp;*tablein* file.\n",
    "Default: ''. Must be specified.\n",
    "\n"
   ]
  },
  {
   "cell_type": "markdown",
   "metadata": {},
   "source": [
    "##### *caltable&nbsp;*\n",
    "\n",
    "The output cumulative calibration file. Default: ''&nbsp; means use\n",
    "*tablein* as the output file.\n",
    "\n"
   ]
  },
  {
   "cell_type": "markdown",
   "metadata": {},
   "source": [
    "##### *field*\n",
    "\n",
    "Standard field ID or name selection for *tablein* to process. Default:\n",
    "'' = all fields. (See [Data Selection in a\n",
    "MeasurementSet](https://casa.nrao.edu/casadocs-devel/stable/calibration-and-visibility-data/data-selection-in-a-measurementset)&nbsp;for\n",
    "more details.)\n",
    "\n"
   ]
  },
  {
   "cell_type": "markdown",
   "metadata": {},
   "source": [
    "##### *calfield*\n",
    "\n",
    "Select field(s) from *incrtable* to process. Default: '' = all fields.\n",
    "(See&nbsp;[Data Selection in a\n",
    "MeasurementSet](https://casa.nrao.edu/casadocs-devel/stable/calibration-and-visibility-data/data-selection-in-a-measurementset)&nbsp;for\n",
    "more details.)&nbsp;\n",
    "\n"
   ]
  },
  {
   "cell_type": "markdown",
   "metadata": {},
   "source": [
    "##### *interp*\n",
    "\n",
    "Interpolation type (in time,freq) to use for each gaintable.&nbsp;When\n",
    "frequency interpolation is relevant (B, Df, Xf),&nbsp;separate\n",
    "time-dependent and freq-dependent *interp*&nbsp;types with a comma\n",
    "(freq&nbsp;*interp*&nbsp;type should be after&nbsp;the comma).\n",
    "Specifications for frequency are ignored when the&nbsp;calibration table\n",
    "has no channel-dependence.&nbsp;Time-dependent interp options ending in\n",
    "'PD' enable a&nbsp;\"phase delay\" correction per spw for\n",
    "non-channel-dependent&nbsp;calibration types.&nbsp;For multi-obsId\n",
    "datasets, 'perobs' can be appended to the time-dependent interpolation\n",
    "specification to&nbsp;enforce obs ID boundaries when interpolating in\n",
    "time. Options: Time - 'nearest'*,* 'linear'*;* Freq - 'nearest'*,*\n",
    "'linear'*,* 'cubic'*,* 'spline'*. D*efault: 'linear,linear' for all\n",
    "gaintable(s). See also: [Solving for\n",
    "Calibration](https://casa.nrao.edu/casadocs-devel/stable/calibration-and-visibility-data/synthesis-calibration/solving-for-calibration).\n",
    "\n"
   ]
  },
  {
   "cell_type": "markdown",
   "metadata": {},
   "source": [
    "##### *spwmap*\n",
    "\n",
    "Spectral windows combinations to form gaintable(s). Default: \\[ \\]\n",
    "(apply solutions from each spw to that spw only). See\n",
    "also:&nbsp;[Solving for\n",
    "Calibration](https://casa.nrao.edu/casadocs-devel/stable/calibration-and-visibility-data/synthesis-calibration/solving-for-calibration).\n",
    "\n",
    "&nbsp;"
   ]
  },
  {
   "cell_type": "markdown",
   "metadata": {
    "nbsphinx-toctree": {
     "hidden": true
    }
   },
   "source": [
    "[Description](task_accum/about)\n",
    "[Parameters](task_accum/parameters)\n",
    "[Changelog](task_accum/changelog)\n",
    "[Examples](task_accum/examples)\n",
    "[Developer](task_accum/developer)\n"
   ]
  }
 ],
 "metadata": {},
 "nbformat": 4,
 "nbformat_minor": 5
}
