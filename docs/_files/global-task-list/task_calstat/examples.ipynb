{
 "cells": [
  {
   "cell_type": "markdown",
   "metadata": {},
   "source": [
    "# Examples\n",
    "\n",
    "task calstat examples\n",
    "\n",
    "To extract amplitude statistics from a 'G' caltable called\n",
    "ngc5921.demo.gcal with **calstat**:\n",
    "\n",
    "gstat=calstat('ngc5921.demo.gcal',axis='amp',datacolumn='CPARAM')\n",
    "\n",
    "The gstat\n",
    "variable will contain the following dictionary:\n",
    "\n",
    "{'CPARAM': {'max': 1.6031942367553711,  \n",
    "            'mean': 1.4448433067117419,  \n",
    "            'medabsdevmed': 0.0086394548416137695,  \n",
    "            'median': 1.5732669830322266,  \n",
    "            'min': 0.99916577339172363,  \n",
    "            'npts': 280.0,  \n",
    "            'quartile': 0.020265340805053711,  \n",
    "            'rms': 1.4650156497955322,  \n",
    "            'stddev': 0.24271160321065546,  \n",
    "            'sum': 404.55612587928772,  \n",
    "            'sumsq': 600.95579999685287,  \n",
    "            'var': 0.058908922333086665}}"
   ]
  }
 ],
 "metadata": {},
 "nbformat": 4,
 "nbformat_minor": 5
}
