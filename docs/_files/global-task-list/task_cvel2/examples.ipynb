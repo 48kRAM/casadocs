{
 "cells": [
  {
   "cell_type": "markdown",
   "metadata": {},
   "source": [
    "# Examples\n",
    "\n",
    "task cvel2 examples\n",
    "\n",
    "**Example 1: **\n",
    "\n",
    "Regrid a MeasurementSet 'myMS.ms'  to a new 'myMSregridded.ms', using\n",
    "velocity mode and a LSRK radio velocity definition.  The output width is\n",
    "given in velocity units. The output data has a structure of 10 channels,\n",
    "starting at 123 km/s with a width of 0.1km/s. We use the HI rest\n",
    "frequency of 1.420405 GHz. \n",
    "\n",
    "cvel2(vis='myMS.ms', outputvis='myMSregriddedVelMode.ms',\n",
    "outframe='LSRK', mode='velocity', veltype='radio',\n",
    "restfreq='1.420405GHz', nchan=10, start='123km/s', width='0.1km/s')\n",
    "\n",
    "**Example 2: **\n",
    "\n",
    "Regrid the same MS, but this time using channel mode. We start at\n",
    "channel 5, and create 10 new output channels, grouping 7 channels in the\n",
    "new bins. The output width is given in units of number of input\n",
    "channels. We also run the output MeasurementSet in reverse spectral\n",
    "order (note the negative value of width). This time we request a\n",
    "BARYcentric frame and use the interpolation method 'fftshift'.\n",
    "\n",
    "cvel2(vis='myMS.ms', outputvis='myMSregriddedChannelMode.ms',\n",
    "outframe='BARY',  mode='channel', nchan=10, start=5, width=-7,\n",
    "interpolation='fftshift')"
   ]
  }
 ],
 "metadata": {},
 "nbformat": 4,
 "nbformat_minor": 5
}
