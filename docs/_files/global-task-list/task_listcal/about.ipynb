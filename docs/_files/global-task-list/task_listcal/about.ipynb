{
 "cells": [
  {
   "cell_type": "markdown",
   "metadata": {},
   "source": [
    "# Description\n",
    "\n",
    "task description\n",
    "\n",
    "This task lists antenna gain solutions in tabular form. The table is\n",
    "organized as follows. Solutions are output by\n",
    "\n",
    "1.  Spectral window\n",
    "2.  Antenna\n",
    "3.  Time\n",
    "4.  Channel\n",
    "5.  and Polarization\n",
    "\n",
    "where the inner-most loop is over polarization.\n",
    "\n",
    "The **listcal** output table contains two table headers. The top-level\n",
    "header is printed each time the spectral window changes. This header\n",
    "lists  \n",
    "the spectral window ID (SpwID), the date of observation (Date), the\n",
    "calibration table name (CalTable), and the measurement set name (MS\n",
    "name).&nbsp;\n",
    "\n",
    "A lower-level header is printed when the top-level header is printed,\n",
    "when the antenna names change, and for every *pagerows* of output. The\n",
    "lower-level header columns are described here:\n",
    "\n",
    "|             |                                                     |\n",
    "|-------------|-----------------------------------------------------|\n",
    "| Column name | Description                                         |\n",
    "| Ant         | Antenna name (contains sub-columns: Amp, Phs, F)    |\n",
    "| Time        | Visibility timestamp corresponding to gain solution |\n",
    "| Field       | Field name                                          |\n",
    "| Chn         | Channel number                                      |\n",
    "| Amp         | Complex solution amplitude                          |\n",
    "| Phs         | Complex solution phase                              |\n",
    "| F           | Flag                                                |\n",
    "\n",
    "Elements of the \"F\" column contain an 'F' when the datum is flagged, and\n",
    "'' (whitespace) when the datum is not flagged. Presently, the\n",
    "polarization mode names (for example: R, L) are not given, but the\n",
    "ordering of the polarization modes (left-to-right) is equivalent to the\n",
    "order output by task **listobs** (see \"Feeds\" in **listobs** output).\n",
    "\n",
    "&nbsp;\n",
    "\n"
   ]
  },
  {
   "cell_type": "markdown",
   "metadata": {},
   "source": [
    "## Parameter descriptions\n",
    "\n"
   ]
  },
  {
   "cell_type": "markdown",
   "metadata": {},
   "source": [
    "##### *vis*\n",
    "\n",
    "Name of input visibility file. Default: none. Examples:\n",
    "*vis='ngc5921.ms'*\n",
    "\n"
   ]
  },
  {
   "cell_type": "markdown",
   "metadata": {},
   "source": [
    "##### *caltable*\n",
    "\n",
    "Name of input calibration table. Default: none. Examples:\n",
    "*caltable='ngc5921.gcal'*\n",
    "\n"
   ]
  },
  {
   "cell_type": "markdown",
   "metadata": {},
   "source": [
    "##### *field*\n",
    "\n",
    "Select data based on field ID(s) or name(s). Default: '' =\\> all.\n",
    "Examples: *field='1'*; *field='0\\~2'* field IDs inclusive from 0 to 2;\n",
    "*field='3C\\*'* all field names starting with 3C\n",
    "\n"
   ]
  },
  {
   "cell_type": "markdown",
   "metadata": {},
   "source": [
    "##### *antenna*\n",
    "\n",
    "Select calibration data based on antenna. Default: '' =\\> all. Examples:\n",
    "*antenna='5'*; *antenna='5,6'* antenna index 5 and 6 solutions;\n",
    "*antenna='VA05','VA06'* VLA antenna 5 and 6\n",
    "\n"
   ]
  },
  {
   "cell_type": "markdown",
   "metadata": {},
   "source": [
    "##### *spw*\n",
    "\n",
    "Select spectral window, channel to list. Default: '' =\\> all spws and\n",
    "channels. Examples: *spw='2:34'* spectral window 2, channel 34 (will\n",
    "only list one spw, one channel at a time)\n",
    "\n"
   ]
  },
  {
   "cell_type": "markdown",
   "metadata": {},
   "source": [
    "##### *listfile*\n",
    "\n",
    "Write output to disk (will not overwrite). Default: '' =\\> write to\n",
    "screen\n",
    "\n"
   ]
  },
  {
   "cell_type": "markdown",
   "metadata": {},
   "source": [
    "##### *pagerows*\n",
    "\n",
    "Rows per page of listing. Default: 50; *pagerows=0* =\\> do not paginate\n",
    "\n",
    "&nbsp;"
   ]
  }
 ],
 "metadata": {},
 "nbformat": 4,
 "nbformat_minor": 5
}
