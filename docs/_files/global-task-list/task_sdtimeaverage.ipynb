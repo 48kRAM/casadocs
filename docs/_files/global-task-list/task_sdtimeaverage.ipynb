{
 "cells": [
  {
   "cell_type": "markdown",
   "metadata": {},
   "source": [
    "# sdtimeaverage\n",
    "\n",
    "sdtimeaverage averages SD spectral data over specified time.\n",
    "\n",
    "&nbsp;\n",
    "\n",
    "Task **sdtimeaverage**&nbsp;is used for averaging SD spectral data over\n",
    "specified time or all the data and export output MS. Data selection is\n",
    "available. Please see parameters.&nbsp;\n",
    "\n",
    "&nbsp; Task sdtimeaverage is a wrapper task of mstransform.\n",
    "sdtimeaveraging provides spectral data averaging in a simple way.\n",
    "\n",
    "&nbsp; When All the spectra data is to be averaged, &nbsp;timebin='all'\n",
    "option is available. This option automatically obtains the actual time\n",
    "range, then internally executes mstransform.\n",
    "\n",
    "&nbsp;\n",
    "\n",
    "If the parameter is not specified, sdtimeaverage uses the default\n",
    "values. If specified output MS already exist, sdtimeaverage does not\n",
    "overwrite.\n",
    "\n",
    "&nbsp;\n",
    "\n",
    "&nbsp;\n",
    "\n",
    "------------------------------------------------------------------------\n",
    "\n",
    "Parameter Descriptions\n",
    "\n"
   ]
  },
  {
   "cell_type": "markdown",
   "metadata": {},
   "source": [
    "##### timebin&nbsp;(default : ' ' (all)) &nbsp; &nbsp; &nbsp; &nbsp; &nbsp;\n",
    "\n",
    "The timebin parameter will perform time averaging in the specified bin\n",
    "width.\n",
    "\n",
    "**Warning:** the timebin parameter works based on wall clock time, not\n",
    "integration time. For example, if each scan is 5 seconds long, and scans\n",
    "are separated by 15 seconds, then timebin='25s' is the minimum value\n",
    "needed to combine data from 2 consecutive scans. One might assume that\n",
    "timebin='10s' should work to combine two 5 second scans, but it does\n",
    "not.\n",
    "\n",
    "&nbsp;\n",
    "\n"
   ]
  },
  {
   "cell_type": "markdown",
   "metadata": {},
   "source": [
    "##### timespan&nbsp;(default : 'scan')\n",
    "\n",
    "The timespan parameter will span the timebin across scans, states or\n",
    "both.  \n",
    "State is equivalent to sub-scans and one scan may have several state\n",
    "IDs.&nbsp;\n",
    "\n",
    "-   'scan': average data regardless of scan\n",
    "-   'state': average data regardless of state\n",
    "-   'scan, state':&nbsp;average data regardless of both scan and state\n",
    "-   ' ':&nbsp; &nbsp; &nbsp; &nbsp;average data&nbsp;over each scan and\n",
    "    each state separately\n",
    "\n",
    "**Warning:** The timespan subparameter = 'scan,scate' performs average\n",
    "of the data regardless of scan and state. In some cases, data of ON-scan\n",
    "and OFF-scan are to be averaged.  \n",
    "If the TELESCOPE NAME in specified MS contains 'ALMA', then mstransform\n",
    "automatically changes timescan = 'scan state'.\n",
    "\n",
    "&nbsp;\n",
    "\n"
   ]
  },
  {
   "cell_type": "markdown",
   "metadata": {},
   "source": [
    "##### timerange (default : ' ' (all))&nbsp; &nbsp; &nbsp; &nbsp; &nbsp;\n",
    "\n",
    "The timerange parameter&nbsp;specifies the&nbsp;data\n",
    "based on time range.&nbsp;\n",
    "\n",
    "**Warning:** timerange is prior than timebin, do not use timerange when\n",
    "timebin='all' is desired.&nbsp;\n",
    "\n",
    "&nbsp;\n",
    "\n"
   ]
  },
  {
   "cell_type": "markdown",
   "metadata": {},
   "source": [
    "##### datacolumn&nbsp; (default : 'float_data')\n",
    "\n",
    "If 'float_data' does not exist, 'data is used instead.\n",
    "\n",
    "&nbsp;"
   ]
  },
  {
   "cell_type": "markdown",
   "metadata": {
    "nbsphinx-toctree": {
     "hidden": true
    }
   },
   "source": [
    "[Description](task_sdtimeaverage/about)\n",
    "[Examples](task_sdtimeaverage/examples)\n"
   ]
  }
 ],
 "metadata": {},
 "nbformat": 4,
 "nbformat_minor": 5
}
