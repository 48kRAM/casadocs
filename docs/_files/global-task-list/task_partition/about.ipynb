{
 "cells": [
  {
   "cell_type": "markdown",
   "metadata": {},
   "source": [
    "# Description\n",
    "\n",
    "task description\n",
    "\n",
    "**partition** is a task that creates a\n",
    "[Multi-MS](https://casa.nrao.edu/casadocs-devel/stable/parallel-processing/the-multi-ms)\n",
    "out of a MeasurementSet. General selection parameters are included, and one or all of the various data\n",
    "columns (DATA, FLAG_DATA and/or FLOAT_DATA, and\n",
    "possibly MODEL_DATA and/or CORRECTED_DATA) can\n",
    "be selected.\n",
    "\n",
    "The **partition** task creates a Multi-MS in\n",
    "parallel using the Message Passing Interface\n",
    "([MPI](http://mpi-forum.org/ \"MPI\")), enabled via the\n",
    "[mpi4casa](https://casa.nrao.edu/casadocs-devel/stable/parallel-processing/casa-parallelization-interface-mpi4casa)\n",
    "framework.\n",
    "\n",
    "When **partition** or any other task processes an MMS\n",
    "in parallel, each Sub-MS is processed independently in a parallel\n",
    "engine. The log messages of the parallel engines\n",
    "are identified by the string **MPIServer-**\\#, where \\"
   ]
  },
  {
   "cell_type": "markdown",
   "metadata": {},
   "source": [
    "## gives the\n",
    "number of the engine running that process. When\n",
    "the task runs sequentially, it shows the **MPIClient** text in the origin of the log messages or does not show\n",
    "anything.\n",
    "\n"
   ]
  },
  {
   "cell_type": "markdown",
   "metadata": {},
   "source": [
    "##  \n",
    "\n"
   ]
  },
  {
   "cell_type": "markdown",
   "metadata": {},
   "source": [
    "## Parameter Descriptions\n",
    "\n"
   ]
  },
  {
   "cell_type": "markdown",
   "metadata": {},
   "source": [
    "##### *vis*\n",
    "\n",
    "Name of input MeasurementSet.\n",
    "\n"
   ]
  },
  {
   "cell_type": "markdown",
   "metadata": {},
   "source": [
    "##### *outputvis *\n",
    "\n",
    "Name of output Multi-MS.\n",
    "\n"
   ]
  },
  {
   "cell_type": "markdown",
   "metadata": {},
   "source": [
    "##### *createmms*\n",
    "\n",
    "By default, this parameter is set to True to create an output Multi-MS,\n",
    "which is the basic step for running CASA in parallel. See more about\n",
    "this in the\n",
    "[Parallelization](https://casa.nrao.edu/casadocs-devel/stable/parallel-processing)\n",
    "chapter. The task will obey the settings of the parameters listed below\n",
    "if set to True. If set to False, it will work as the **split** task and\n",
    "create a normal MS, split according to the given data selection\n",
    "parameters. Note that, when this parameter is set to False, a\n",
    "cluster will not be used.  \n",
    "\n",
    "\n"
   ]
  },
  {
   "cell_type": "markdown",
   "metadata": {},
   "source": [
    "##### *separationaxis*\n",
    "\n",
    "Axis to do parallelization across. Namely, it is how the MS will be\n",
    "partitioned to form separated entities, called Sub-MSs. **partition**\n",
    "accepts four axes to do separation across: ’auto’, ’scan’, ’spw’ or\n",
    "’baseline’. The default is set to 'auto', which will first separate the\n",
    "MS in spws, then in scans. It tries to balance the spw and scan contents\n",
    "in each Sub-MS, also taking into account the available fields so that\n",
    "the size in disk is also balanced. This is the recommended axis to\n",
    "partition an MS.\n",
    "\n",
    "-   The 'auto' option will partition the MS per scan\n",
    "    and spw to obtain optimal load balancing with the following\n",
    "    criteria:       \n",
    "\n",
    "1. Maximize the scan/spw/field distribution across\n",
    "sub-MSs\n",
    "\n",
    "2. Generate sub-MSs with similar size\n",
    "\n",
    "-   The 'scan' or 'spw' axes will partition the MS\n",
    "    based on scans or spws. The individual sub-MSs may not be balanced with respect to the number of\n",
    "    rows.\n",
    "-   The 'baseline' axis is mostly useful for\n",
    "    Single-Dish data. This axis will partition the MS based on the available baselines. If the user wants only\n",
    "    auto-correlations, use the antenna selection\n",
    "    such as antenna='\\*&&&' together with this separation axis. Note\n",
    "    that if *numsubms='auto'*, **partition**\n",
    "    will try to create as many sub-MSs as the number of\n",
    "    available servers in the cluster. If the\n",
    "    user wants to have one sub-MS for each baseline, set the\n",
    "    *numsubms* parameter to a number higher\n",
    "    than the number of baselines to achieve this.        \n",
    "\n"
   ]
  },
  {
   "cell_type": "markdown",
   "metadata": {},
   "source": [
    "##### *numsubms*\n",
    "\n",
    "The number of sub-MSs to create in the\n",
    "Multi-MS. The default 'auto' is to partition the\n",
    "MS using the number of available servers in the cluster. If the task is unable to determine the number of running\n",
    "servers, or the user did not start CASA using\n",
    "**mpicasa**, *numsubms* will be set to 8 Sub-MSs as default. The user\n",
    "can create any number of Sub-MSs, regardless of the number of cores used\n",
    "to create the cluster with **mpicasa**.\n",
    "\n"
   ]
  },
  {
   "cell_type": "markdown",
   "metadata": {},
   "source": [
    "##### *flagbackup*\n",
    "\n",
    "Make a backup of the FLAG column of the output MMS. When the MMS is created, the [flag\n",
    "versions](https://casa.nrao.edu/casadocs-devel/stable/calibration-and-visibility-data/data-examination-and-editing/managing-flag-versions-flagmanager) (the\n",
    ".flagversions file) of the input MS are not transferred; therefore it is necessary to re-create it for the new MMS.\n",
    "Note that multiple backups from the input MS\n",
    "will not be preserved. This will create a single\n",
    "backup of all the flags present in the input MS\n",
    "at the time the MMS is created."
   ]
  }
 ],
 "metadata": {},
 "nbformat": 4,
 "nbformat_minor": 5
}
