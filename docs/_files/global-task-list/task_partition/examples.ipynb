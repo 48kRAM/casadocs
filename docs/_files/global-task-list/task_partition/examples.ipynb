{
 "cells": [
  {
   "cell_type": "markdown",
   "metadata": {},
   "source": [
    "# Examples\n",
    "\n",
    "task examples\n",
    "\n",
    " \n",
    "\n",
    "Other examples of running CASA in parallel can be found\n",
    "[here](https://casa.nrao.edu/casadocs-devel/stable/parallel-processing/examples-of-running-casa-in-parallel).\n",
    "Use task **listpartition** to see the content of the Multi-MS.\n",
    "\n",
    " \n",
    "\n"
   ]
  },
  {
   "cell_type": "markdown",
   "metadata": {},
   "source": [
    "## Start CASA on a single node with 16 engines\n",
    "\n",
    "The first engine will be used as the MPIClient, where the user will see\n",
    "the CASA prompt. All other engines will be used as MPIServers and will\n",
    "process the MS in parallel.\n",
    "\n",
    "mpicasa -n 16 casa --nogui --log2term\n",
    "\n",
    "partition(vis='uid\\_\\_A1\\_\\_X33993.ms',\n",
    "outputvis='test.mms')\n",
    "\n"
   ]
  },
  {
   "cell_type": "markdown",
   "metadata": {},
   "source": [
    "####  \n",
    "\n"
   ]
  },
  {
   "cell_type": "markdown",
   "metadata": {},
   "source": [
    "## Run CASA on a group of nodes in a cluster\n",
    "\n",
    "mpicasa -hostfile user_hostfile casa ....\n",
    "\n",
    "partition(.....)\n",
    "\n",
    "where *user_hostfile* contains the names of the nodes\n",
    "and the number of engines to use in each one of them.\n",
    "Example:\n",
    "\n",
    "``` p1\n",
    "cvpost001, slots=5\n",
    "cvpost002, slots=4\n",
    "```\n",
    "\n",
    " \n",
    "\n"
   ]
  },
  {
   "cell_type": "markdown",
   "metadata": {},
   "source": [
    "## Create a Multi-MS of selected spws, partitioned per spw\n",
    "\n",
    " The first example will create 4 Sub-MSs by default, if\n",
    "CASA is started with 5 engines. In the second example, use the\n",
    "*numsubms* parameter to force the creation of 8 Sub-MSs, with one spw\n",
    "per Sub-MS.  \n",
    "\n",
    "\n",
    "mpicasa -n 5 casa ...\n",
    "\n",
    "\\"
   ]
  },
  {
   "cell_type": "markdown",
   "metadata": {},
   "source": [
    "## *Ex 1: The following example will create 4 Sub-MSs\n",
    "by default*\n",
    "\n",
    "partition('uid001.ms', outpuvis='source.mms',\n",
    "spw='1,3,5,7,9,11,13,15', separationaxis='spw')\n",
    "\n",
    "\\"
   ]
  },
  {
   "cell_type": "markdown",
   "metadata": {},
   "source": [
    "## *Ex 2: force the creation of one spw per Sub-MS*\n",
    "\n",
    "partition('uid001.ms', outpuvis='source.mms', spw='1,3,5,7,9,11,13,15',\n",
    "separationaxis='spw', numsubms=8)\n",
    "\n",
    "  \n",
    "\n"
   ]
  },
  {
   "cell_type": "markdown",
   "metadata": {},
   "source": [
    "## Create a Multi-MS with only a certain channel range of all spws but do not back up the FLAG column\n",
    "\n",
    "partition('uid0001.ms', outputvis='fewchans.mms', spw='\\*:1\\~10',\n",
    "flagbackup=False)\n",
    "\n",
    "     \n",
    "\n"
   ]
  },
  {
   "cell_type": "markdown",
   "metadata": {},
   "source": [
    "## Create a single-dish Multi-MS using the baseline axis only for auto-correlations\n",
    "\n",
    "partition('uid0001.ms', outputvis='myuid.ms', createmms=True,\n",
    "separationaxis='baseline', antenna='\\*&&&')\n",
    "\n",
    "  \n",
    "\n",
    "**NOTE**: If CASA is started without **mpicasa**, it is\n",
    "still possible to create an MMS, but the\n",
    "processing will be done in serial."
   ]
  }
 ],
 "metadata": {},
 "nbformat": 4,
 "nbformat_minor": 5
}
