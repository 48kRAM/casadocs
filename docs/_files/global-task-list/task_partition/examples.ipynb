{
 "cells": [
  {
   "cell_type": "markdown",
   "metadata": {},
   "source": [
    "# Examples\n",
    "\n",
    "task examples\n",
    "\n",
    "&nbsp;\n",
    "\n",
    "Other examples of running CASA in parallel can be found\n",
    "[here](https://casa.nrao.edu/casadocs-devel/stable/parallel-processing/examples-of-running-casa-in-parallel).\n",
    "Use task **listpartition** to see the content of the Multi-MS.\n",
    "\n",
    "&nbsp;\n",
    "\n"
   ]
  },
  {
   "cell_type": "markdown",
   "metadata": {},
   "source": [
    "## Start CASA on a single node with 16 engines\n",
    "\n",
    "The first engine will be used as the&nbsp;MPIClient, where the user will\n",
    "see the CASA prompt. All other engines will be used&nbsp;as MPIServers\n",
    "and will process the MS&nbsp;in parallel.\n",
    "\n",
    "mpicasa -n 16 casa --nogui --log2term\n",
    "\n",
    "partition(vis='uid\\_\\_A1\\_\\_X33993.ms',\n",
    "outputvis='test.mms')\n",
    "\n"
   ]
  },
  {
   "cell_type": "markdown",
   "metadata": {},
   "source": [
    "#### &nbsp;\n",
    "\n"
   ]
  },
  {
   "cell_type": "markdown",
   "metadata": {},
   "source": [
    "## Run CASA on a group of nodes in a cluster\n",
    "\n",
    "mpicasa -hostfile user_hostfile casa ....\n",
    "\n",
    "partition(.....)\n",
    "\n",
    "where *user_hostfile* contains the names of the nodes\n",
    "and the number of engines to use&nbsp;in each one of them.\n",
    "Example:\n",
    "\n",
    "``` p1\n",
    "cvpost001, slots=5\n",
    "cvpost002, slots=4\n",
    "```\n",
    "\n",
    "&nbsp;\n",
    "\n"
   ]
  },
  {
   "cell_type": "markdown",
   "metadata": {},
   "source": [
    "## Create a Multi-MS of selected&nbsp;spws, partitioned per spw\n",
    "\n",
    " The first&nbsp;example will create 4 Sub-MSs by\n",
    "default, if CASA is started with 5 engines. In the second example, use\n",
    "the *numsubms* parameter to force the creation of 8 Sub-MSs, with one\n",
    "spw per Sub-MS.  \n",
    "\n",
    "\n",
    "mpicasa -n 5 casa ...\n",
    "\n",
    "\\"
   ]
  },
  {
   "cell_type": "markdown",
   "metadata": {},
   "source": [
    "## *Ex 1: The following example will create 4 Sub-MSs\n",
    "by default*\n",
    "\n",
    "partition('uid001.ms', outpuvis='source.mms',\n",
    "spw='1,3,5,7,9,11,13,15', separationaxis='spw')\n",
    "\n",
    "\\"
   ]
  },
  {
   "cell_type": "markdown",
   "metadata": {},
   "source": [
    "## *Ex 2: force the creation of one spw per Sub-MS*\n",
    "\n",
    "partition('uid001.ms', outpuvis='source.mms', spw='1,3,5,7,9,11,13,15',\n",
    "separationaxis='spw', numsubms=8)\n",
    "\n",
    "&nbsp;&nbsp;\n",
    "\n"
   ]
  },
  {
   "cell_type": "markdown",
   "metadata": {},
   "source": [
    "## Create a Multi-MS with only a certain channel range of all spws but do not back up the FLAG&nbsp;column\n",
    "\n",
    "partition('uid0001.ms', outputvis='fewchans.mms', spw='\\*:1\\~10',\n",
    "flagbackup=False)\n",
    "\n",
    "&nbsp; &nbsp;\n",
    "&nbsp;\n",
    "\n"
   ]
  },
  {
   "cell_type": "markdown",
   "metadata": {},
   "source": [
    "## Create a single-dish Multi-MS using the baseline axis only for auto-correlations\n",
    "\n",
    "partition('uid0001.ms', outputvis='myuid.ms', createmms=True,\n",
    "separationaxis='baseline', antenna='\\*&&&')\n",
    "\n",
    "&nbsp;&nbsp;\n",
    "\n",
    "**NOTE**: If CASA is started without **mpicasa**, it is\n",
    "still possible to create an MMS, but&nbsp;the\n",
    "processing will be done in serial.\n",
    "\n",
    "&nbsp;"
   ]
  }
 ],
 "metadata": {},
 "nbformat": 4,
 "nbformat_minor": 5
}
