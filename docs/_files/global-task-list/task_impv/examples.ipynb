{
 "cells": [
  {
   "cell_type": "markdown",
   "metadata": {},
   "source": [
    "# Examples\n",
    "\n",
    "task examples\n",
    "\n",
    "\\"
   ]
  },
  {
   "cell_type": "markdown",
   "metadata": {},
   "source": [
    "## create a pv image with the position axis running from ra, dec pixel\n",
    "positions of \\[45, 50\\] to \\[100, 120\\]  \n",
    "\\"
   ]
  },
  {
   "cell_type": "markdown",
   "metadata": {},
   "source": [
    "## in the input image  \n",
    "impv(imagename=\"my_spectral_cube.im\", outfile=\"mypv.im\",\n",
    "start=\\[45,50\\], end=\\[100,120\\])  \n",
    "  \n",
    "  \n",
    "\\"
   ]
  },
  {
   "cell_type": "markdown",
   "metadata": {},
   "source": [
    "## analyze the pv image, such as get statistics  \n",
    "pvstats = imstat(\"mypv.im\")  \n",
    "  \n",
    "  \n",
    "\\"
   ]
  },
  {
   "cell_type": "markdown",
   "metadata": {},
   "source": [
    "## get the alternate coordinate system information  \n",
    "tb.open(\"mypv.im\")  \n",
    "alternate_csys_record =\n",
    "tb.getkeyword(\"misc\")\\[\"secondary_coordinates\"\\]  \n",
    "tb.done()"
   ]
  }
 ],
 "metadata": {},
 "nbformat": 4,
 "nbformat_minor": 5
}
