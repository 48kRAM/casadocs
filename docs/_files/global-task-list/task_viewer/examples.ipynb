{
 "cells": [
  {
   "cell_type": "markdown",
   "metadata": {},
   "source": [
    "# Examples\n",
    "\n",
    "task examples\n",
    "\n",
    "To simply create a CASA **viewer** to set up\n",
    "interactively, you can type within CASA:\n",
    "\n",
    "viewer\n",
    "\n",
    "To open an image:  \n",
    "\n",
    "\n",
    "viewer \"myimage.im\"\n",
    "\n",
    " ",
    "To open a MeasurementSet:  \n",
    "\n",
    "\n",
    "viewer \"mymeasurementset.ms\"\n",
    "\n",
    "To open an image and overlay a contour:\n",
    "\n",
    "viewer \"myimage.im\", \"contour\"\n",
    "\n",
    "To open a previously saved state of the **viewer**:\n",
    "\n",
    "viewer \"myrestorefile.rstr\""
   ]
  }
 ],
 "metadata": {},
 "nbformat": 4,
 "nbformat_minor": 5
}
