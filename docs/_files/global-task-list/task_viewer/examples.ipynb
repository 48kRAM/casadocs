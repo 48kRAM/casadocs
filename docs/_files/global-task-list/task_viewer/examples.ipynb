{
 "cells": [
  {
   "cell_type": "markdown",
   "metadata": {},
   "source": [
    "# Examples\n",
    "\n",
    "task examples\n",
    "\n",
    "To simply create a CASA **viewer** to set up\n",
    "interactively, you can type within CASA:\n",
    "\n",
    "viewer\n",
    "\n",
    "To open an image:  \n",
    "\n",
    "\n",
    "viewer \"myimage.im\"\n",
    "\n",
    "&#8232;To open a MeasurementSet:  \n",
    "\n",
    "\n",
    "viewer \"mymeasurementset.ms\"\n",
    "\n",
    "To open an image and overlay a contour:\n",
    "\n",
    "viewer \"myimage.im\", \"contour\"\n",
    "\n",
    "To open a previously saved state of the **viewer**:\n",
    "\n",
    "viewer \"myrestorefile.rstr\"\n",
    "\n",
    "&nbsp;"
   ]
  }
 ],
 "metadata": {},
 "nbformat": 4,
 "nbformat_minor": 5
}
