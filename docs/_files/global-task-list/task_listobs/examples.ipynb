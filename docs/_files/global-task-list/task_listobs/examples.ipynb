{
 "cells": [
  {
   "cell_type": "markdown",
   "metadata": {},
   "source": [
    "# Examples\n",
    "\n",
    "task examples\n",
    "\n",
    "\\"
   ]
  },
  {
   "cell_type": "markdown",
   "metadata": {},
   "source": [
    "## generate standard listobs listing  \n",
    "listobs(vis=\"my.ms\")\n",
    "\n",
    "\\"
   ]
  },
  {
   "cell_type": "markdown",
   "metadata": {},
   "source": [
    "## generate listobs listing with more detail  \n",
    "listobs(vis=\"my.ms\", verbose=True)\n",
    "\n",
    "\\"
   ]
  },
  {
   "cell_type": "markdown",
   "metadata": {},
   "source": [
    "## save the listobs output into a text file  \n",
    "listobs(vis=\"my.ms\", verbose=True, listfile=\"my.listobs.out\")"
   ]
  }
 ],
 "metadata": {},
 "nbformat": 4,
 "nbformat_minor": 5
}
