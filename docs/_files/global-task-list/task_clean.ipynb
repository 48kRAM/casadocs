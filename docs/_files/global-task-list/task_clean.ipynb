{
 "cells": [
  {
   "cell_type": "markdown",
   "metadata": {},
   "source": [
    "# clean\n",
    "\n",
    "Invert and deconvolve images with selected algorithm\n",
    "\n"
   ]
  },
  {
   "cell_type": "markdown",
   "metadata": {},
   "source": [
    "## The 'clean' task will be deprecated in the near future - please use tclean instead! \n",
    "\n",
    "All major functionality from clean is\n",
    "present in tclean via a modified interface along with additional\n",
    "algorithmic options.\n",
    "\n",
    "&nbsp;\n",
    "\n"
   ]
  },
  {
   "cell_type": "markdown",
   "metadata": {},
   "source": [
    "### Basics of&nbsp;**clean**\n",
    "\n",
    "The CLEAN algorithm (more details available\n",
    "[here](https://www.cv.nrao.edu/~abridle/deconvol/node7.html)) is the\n",
    "most popular and widely-studied method for reconstructing a model image\n",
    "based on interferometer data. It iteratively removes at each step a\n",
    "fraction of the flux in the brightest pixel in a defined region of the\n",
    "current &ldquo;dirty&rdquo; image, and places this in the model image.\n",
    "The **clean** task implements the CLEAN algorithm for single-field data.\n",
    "The user can choose from a number of options for the particular flavor\n",
    "of CLEAN to use. Often, the first step in imaging is to make a simple\n",
    "gridded Fourier inversion of the calibrated data to make a\n",
    "&ldquo;dirty&rdquo; image. This can then be examined to look for the\n",
    "presence of noticeable emission above the noise, and to assess the\n",
    "quality of the calibration by searching for artifacts in the image. This\n",
    "is done using **clean** with *niter=0*.\n",
    "\n",
    "**ALERT**: For large fractional bandwidths, the psf in **clean** may\n",
    "vary considerably with frequency in data cubes. To accommodate this fact\n",
    "we have introduced a per-plane psf (dirty beam) when the change is\n",
    "larger than half the size of a pixel. Analysis tasks in CASA can deal\n",
    "with such beam variation. If a single beam size is requested,\n",
    "**imsmooth** can be invoked on the clean products to smooth to a common,\n",
    "uniform beam for all channels.\n",
    "\n",
    "The **clean** task has many options:\n",
    "\n",
    "-   Make 'dirty' image and 'dirty' beam (PSF)\n",
    "-   Multi-frequency-continuum images or spectral channel imaging\n",
    "-   Full Stokes imaging\n",
    "-   Mosaicking of several pointings\n",
    "-   Multi-scale cleaning\n",
    "-   Widefield cleaning\n",
    "-   Interactive clean boxing\n",
    "-   Use starting model (e.g. from single-dish)\n",
    "\n",
    "&nbsp;\n",
    "\n"
   ]
  },
  {
   "cell_type": "markdown",
   "metadata": {},
   "source": [
    "### *imagermode* parameter\n",
    "\n",
    "CASA supports several methods for data deconvolution and imaging. These\n",
    "methods can be set using the parameter *imagermode*, which chooses the\n",
    "mode of operation of **clean**, either as single-field deconvolution\n",
    "using image-plane major and minor cycles only (*imagermode=''*),\n",
    "single-field deconvolution using Cotton-Schwab (CS) residual\n",
    "visibilities for major cycles (*imagermode='csclean'*), or multi-field\n",
    "mosaics using CS major cycles (*imagermode='mosaic'*).\n",
    "\n",
    "The default *imagermode='csclean'* choice specifies the Cotton-Schwab\n",
    "algorithm (more details available\n",
    "[here](https://www.cv.nrao.edu/~abridle/deconvol/node10.html)). This\n",
    "opens up the following sub-parameters:\n",
    "\n",
    "imagermode&nbsp;&nbsp;&nbsp; &nbsp; &nbsp;&nbsp;&nbsp; =&nbsp; 'csclean'\n",
    "&nbsp; \\#&nbsp; Options: 'csclean' or 'mosaic'; '', uses psfmode  \n",
    "&nbsp;&nbsp;&nbsp;&nbsp; cyclefactor&nbsp;&nbsp;&nbsp; =&nbsp;&nbsp;\n",
    "&nbsp; &nbsp;&nbsp; 1.5&nbsp;&nbsp; \\#&nbsp; Controls how often major\n",
    "cycles are done. (e.g. 5 for frequently)  \n",
    "&nbsp;&nbsp;&nbsp;&nbsp; cyclespeedup&nbsp;&nbsp;\n",
    "=&nbsp;&nbsp;&nbsp;&nbsp;&nbsp;&nbsp;&nbsp;&nbsp; -1&nbsp;&nbsp;\n",
    "\\#&nbsp; Cycle threshold doubles in this number of iterations\n",
    "\n",
    "In the CS mode, cleaning is split into minor and major cycles. For each\n",
    "field, a minor cycle is performed using the PSF algorithm specified by\n",
    "the *psfmode* parameter. At major-cycle breakpoints, the points thus\n",
    "found are subtracted from the original visibilities. A fast variant does\n",
    "a convolution using a FFT (Fast Fourier transform). This will be faster\n",
    "for large numbers of visibilities. If you want to be extra careful,\n",
    "double the image size from that used for the Clark **clean** and set a\n",
    "mask to clean only the inner quarter or less (this is not done by\n",
    "default). This is probably the best choice for high-fidelity\n",
    "deconvolution of images without lots of large-scale structure.\n",
    "\n",
    "**NOTE**: When using the Cotton-Schwab algorithm with a threshold, there\n",
    "may be strange behavior when you hit the threshold with a major cycle.\n",
    "In particular, it may be above threshold again at the start of the next\n",
    "major cycle. This is particularly noticeable when cleaning a cube, where\n",
    "different channels will hit the threshold at different times.\n",
    "\n",
    "In the empty mode (*imagermode=''*), the major and minor clean cycles\n",
    "work off of the gridded FFT dirty image, with residuals updated using\n",
    "the PSF calculation algorithm set by the *psfmode* parameter. This\n",
    "method is not recommended for high dynamic range or high fidelity\n",
    "imaging applications, but can be significantly faster than CS clean (the\n",
    "default).\n",
    "\n",
    "**NOTE**: For this option only, if *mask=''* (no mask or box set) then\n",
    "it will clean the inner quarter of the image by default.\n",
    "\n",
    "**ALERT**: You will see a warning message in the logger, similar to\n",
    "this:\n",
    "\n",
    "Zero Pixels selected with a Flux limit of 0.000551377 and a maximum\n",
    "Residual of 0.00751239\n",
    "\n",
    "whenever it finds 0 pixels above the threshold. This is normal, and not\n",
    "a problem if you&rsquo;ve specified a non-zero threshold. On the other\n",
    "hand, if you get this warning with the threshold set to the default of\n",
    "'0Jy', then you should look carefully at your inputs or your data, since\n",
    "this usually means that the masking is bad.\n",
    "\n",
    "The option *imagermode='mosaic'* is for multi-field mosaics. This choice\n",
    "opens up the following sub-parameters:\n",
    "\n",
    "imagermode&nbsp;&nbsp;&nbsp;&nbsp;&nbsp;&nbsp;&nbsp;&nbsp;&nbsp;\n",
    "=&nbsp;&nbsp; 'mosaic' &nbsp; \\#&nbsp; Use csclean or mosaic.&nbsp; If\n",
    "&rsquo;&rsquo;, use psfmode  \n",
    "&nbsp;&nbsp;&nbsp;&nbsp; mosweight&nbsp;&nbsp;&nbsp;&nbsp;&nbsp;\n",
    "=&nbsp;&nbsp;&nbsp;&nbsp;&nbsp; False&nbsp;&nbsp; \\#&nbsp; Individually\n",
    "weight the fields of the mosaic  \n",
    "&nbsp;&nbsp;&nbsp;&nbsp; ftmachine&nbsp;&nbsp;&nbsp;&nbsp;&nbsp;\n",
    "=&nbsp;&nbsp; 'mosaic' &nbsp; \\#&nbsp; Gridding method for the image  \n",
    "&nbsp;&nbsp;&nbsp;&nbsp; scaletype&nbsp;&nbsp;&nbsp;&nbsp;&nbsp;\n",
    "=&nbsp;&nbsp;&nbsp; 'SAULT' &nbsp; \\#&nbsp; Controls scaling of pixels\n",
    "in the image plane.  \n",
    "&nbsp;&nbsp;&nbsp;&nbsp; cyclefactor&nbsp;&nbsp;&nbsp;\n",
    "=&nbsp;&nbsp;&nbsp;&nbsp;&nbsp;&nbsp;&nbsp; 1.5&nbsp;&nbsp; \\#&nbsp;\n",
    "change depth in between of&nbsp; csclean cycle  \n",
    "&nbsp;&nbsp;&nbsp;&nbsp; cyclespeedup&nbsp;&nbsp;\n",
    "=&nbsp;&nbsp;&nbsp;&nbsp;&nbsp;&nbsp;&nbsp;&nbsp; -1&nbsp;&nbsp;\n",
    "\\#&nbsp; Cycle threshold doubles in this number of iterations\n",
    "\n"
   ]
  },
  {
   "cell_type": "markdown",
   "metadata": {},
   "source": [
    "##### *psfmode* parameter\n",
    "\n",
    "The *psfmode* parameter chooses the &ldquo;algorithm&rdquo; that will be\n",
    "used to calculate the synthesized beam for use during the minor cycles\n",
    "in the image plane. There are 3 choices: '*clark*' (default),\n",
    "'*hogbom*', and '*clarkstokes*'.\n",
    "\n",
    "In the 'clark' algorithm, the cleaning is split into minor and major\n",
    "cycles. In the minor cycles only the brightest points are cleaned, using\n",
    "a subset of the point spread function. In the major cycle, the points\n",
    "thus found are subtracted correctly by using an FFT-based convolution.\n",
    "This algorithm is reasonably fast. Also, for polarization imaging, Clark\n",
    "searches for the peak in\n",
    "\n",
    "$I^2 + Q^2 + U^2 + V^2$.\n",
    "\n",
    "The '*hogbom*' algorithm is the &ldquo;Classic&rdquo; image-plane CLEAN,\n",
    "where model pixels are found iteratively by searching for the peak. Each\n",
    "point is subtracted from the full residual image using the shifted and\n",
    "scaled point spread function. In general, this is not a good choice for\n",
    "most imaging problems (*clark* or *csclean* are preferred) as it does\n",
    "not calculate the residuals accurately. But in some cases, with poor\n",
    "uv-coverage and/or a PSF with bad sidelobes, the Hogbom algorithm will\n",
    "do better as it uses a smaller beam patch. For polarization cleaning,\n",
    "Hogbom searches for clean peak in I, Q, U, and V independently.\n",
    "\n",
    "In the '*clarkstokes*' algorithm, the Clark psf is used, but for\n",
    "polarization imaging the Stokes planes are cleaned sequentially for\n",
    "components instead of jointly as in '*clark*'. This means that this is\n",
    "the same as 'clark' for Stokes I imaging only. This option can also be\n",
    "combined with *imagermode='csclean'*.\n",
    "\n",
    "&nbsp;\n",
    "\n"
   ]
  },
  {
   "cell_type": "markdown",
   "metadata": {},
   "source": [
    "### Data weighting\n",
    "\n",
    "Data weighting during imaging allows for the improvement of the dynamic\n",
    "range and the ability to adjust the synthesized beam associated with the\n",
    "produced image. The weight given to each visibility sample can be\n",
    "adjusted to fit the desired output. There are several reasons to adjust\n",
    "the weighting, including improving sensitivity to extended sources or\n",
    "accounting for noise variation between samples.The user can adjust the\n",
    "weighting using&nbsp;**clean** and changing the *weighting* parameter\n",
    "with six options: 'natural', 'uniform', 'briggs',&nbsp; 'superuniform',\n",
    "'briggsabs', and 'radial'.\n",
    "\n"
   ]
  },
  {
   "cell_type": "markdown",
   "metadata": {},
   "source": [
    "##### Natural weighting\n",
    "\n",
    "For *weighting='natural'*,\n",
    "visibilities are weighted only by the data weights, which are calculated\n",
    "during filling and calibration and should be equal to the inverse noise\n",
    "variance on that visibility. Imaging weight $w_i$ of\n",
    "sample&nbsp;$\\dot\\imath$ is given by:\n",
    "\n",
    "$w_i = \\omega_i = \\frac{1}{{\\sigma_i}^2}$\n",
    "\n",
    "where the data weight $\\omega_i$ is determined from $\\sigma_i$, the\n",
    "rms noise on visibility $\\dot\\imath$. When data is gridded into\n",
    "the same uv-cell for imaging, the weights are summed, and thus a higher\n",
    "uv density results in higher imaging weights. No sub-parameters are\n",
    "linked to this mode choice. It is the default imaging weight mode, and\n",
    "it should produce &ldquo;optimum&rdquo; image with with the lowest noise\n",
    "(highest signal-to-noise ratio).\n",
    "\n",
    "**NOTE**: This generally produces images with the poorest angular\n",
    "resolution, since the density of visibilities falls radially in the\n",
    "uv-plane.\n",
    "\n"
   ]
  },
  {
   "cell_type": "markdown",
   "metadata": {},
   "source": [
    "##### Uniform weighting\n",
    "\n",
    "For *weighting='uniform'*, the data\n",
    "weights are calculated as in 'natural'\n",
    "weighting. The data is then gridded to a number of cells in the\n",
    "uv-plane, and after all data is gridded the uv-cells are re-weighted to\n",
    "have &ldquo;uniform&rdquo; imaging weights. This pumps up the influence\n",
    "on the image of data with low weights (they are multiplied up to be the\n",
    "same as for the highest weighted data), which sharpens resolution and\n",
    "reduces the sidelobe level in the field-of-view, but increases the rms\n",
    "image noise. No sub-parameters are linked to this mode choice.\n",
    "\n",
    "For uniform weighting, we first grid the inverse variance $\\omega_i$ for\n",
    "all selected data onto a grid with uv cell-size given by 2 &#8725; FOV, where FOV is the specified field of view\n",
    "(defaults to the image field of view). This forms the gridded weights\n",
    "$W_k$. The\n",
    "weight of the $\\dot\\imath$-th sample is then:\n",
    "\n",
    "$w_i = \\frac{w_i}{W_k}$\n",
    "\n"
   ]
  },
  {
   "cell_type": "markdown",
   "metadata": {},
   "source": [
    "##### Briggs weighting\n",
    "\n",
    "The *weighting='briggs' *mode is an\n",
    "implementation of the flexible weighting scheme developed by Dan Briggs\n",
    "in his PhD thesis, which can be viewed\n",
    "[here](http://www.aoc.nrao.edu/dissertations/dbriggs/).\n",
    "\n",
    "This choice brings up the sub-parameters:\n",
    "\n",
    "weighting&nbsp;&nbsp;&nbsp;&nbsp;&nbsp;&nbsp;=&nbsp;&nbsp; 'briggs'\n",
    "&nbsp;\n",
    "\\#&nbsp;&nbsp;&nbsp;Weighting&nbsp;to&nbsp;apply&nbsp;to&nbsp;visibilities\n",
    "&nbsp;  \n",
    "&nbsp;&nbsp;&nbsp;&nbsp;&nbsp;robust&nbsp;&nbsp;&nbsp;&nbsp;=&nbsp;&nbsp;&nbsp;&nbsp;&nbsp;&nbsp;&nbsp;&nbsp;0.0&nbsp;&nbsp;&nbsp;\\#&nbsp;&nbsp;&nbsp;Briggs&nbsp;robustness&nbsp;parameter\n",
    "&nbsp;  \n",
    "&nbsp;&nbsp;&nbsp;&nbsp;&nbsp;npixels&nbsp;&nbsp;&nbsp;=&nbsp;&nbsp;&nbsp;&nbsp;&nbsp;&nbsp;&nbsp;&nbsp;&nbsp;&nbsp;0&nbsp;&nbsp;&nbsp;\\#&nbsp;&nbsp;&nbsp;number&nbsp;of&nbsp;pixels&nbsp;to&nbsp;determine&nbsp;uv-cell&nbsp;size&nbsp;0=\\>&nbsp;field&nbsp;of&nbsp;view\n",
    "\n",
    "The actual weighting scheme used is:\n",
    "\n",
    "$w_i = \\frac{\\omega_i}{1 + W_k f^2}$\n",
    "\n",
    "&nbsp;where $W_k$ is defined as in 'uniform' and 'superuniform' weighting, and\n",
    "\n",
    "$f^2 = \\frac{(5 \\times 10^{-\\text{R}})^2}{\\frac{\\Sigma_k W_k^2}{\\Sigma_i \\omega_i}}$\n",
    "\n",
    "and R is the *robust* sub-parameter.\n",
    "\n",
    "The key parameter is the *robust\n",
    "sub-*parameter, which sets R\n",
    "in the Briggs equations. The scaling of R is such that *robust=0* gives a good\n",
    "trade-off between resolution and sensitivity. The robust R\n",
    "takes value between -2.0 (close to uniform weighting) to 2.0 (close to natural).\n",
    "\n",
    "Superuniform weighting can be combined with Briggs weighting using the\n",
    "*npixels *sub-parameter. This works\n",
    "as in &rsquo;superuniform&rsquo;\n",
    "weighting.\n",
    "\n"
   ]
  },
  {
   "cell_type": "markdown",
   "metadata": {},
   "source": [
    "##### Superuniform weighting\n",
    "\n",
    "The *weighting='superuniform' *mode\n",
    "is similar to the 'uniform'\n",
    "weighting mode but there is now an additional *npixels *sub-parameter that specifies a\n",
    "change to the number of cells on a side (with respect to uniform\n",
    "weighting) to define a uv-plane patch for the weighting renormalization.\n",
    "If *npixels=0*, you get uniform weighting.\n",
    "\n"
   ]
  },
  {
   "cell_type": "markdown",
   "metadata": {},
   "source": [
    "##### Briggsabs weighting\n",
    "\n",
    "For *weighting='briggsabs'*, a\n",
    "slightly different Briggs weighting is used, with:\n",
    "\n",
    "$w_i = \\frac{\\omega_i}{W_k \\text{R}^2 + 2\\sigma_\\text{R}^2}$\n",
    "\n",
    "where R is the *robust* parameter\n",
    "and $\\sigma_\\text{R}$ is the *noise *parameter.\n",
    "\n",
    "This choice brings up the sub-parameters:\n",
    "\n",
    "weighting&nbsp;&nbsp;&nbsp;&nbsp;&nbsp;&nbsp;= 'briggsabs'&nbsp;\n",
    "\\#&nbsp;&nbsp;&nbsp;Weighting&nbsp;to&nbsp;apply&nbsp;to&nbsp;visibilities\n",
    "&nbsp;  \n",
    "&nbsp;&nbsp;&nbsp;&nbsp;&nbsp;robust&nbsp;&nbsp;&nbsp;&nbsp;=&nbsp;&nbsp;&nbsp;&nbsp;&nbsp;&nbsp;0.0&nbsp;&nbsp;&nbsp;&nbsp;&nbsp;\\#&nbsp;&nbsp;&nbsp;Briggs&nbsp;robustness&nbsp;parameter\n",
    "&nbsp;  \n",
    "&nbsp;&nbsp;&nbsp;&nbsp;&nbsp;noise&nbsp;&nbsp;&nbsp;&nbsp;&nbsp;=&nbsp;\n",
    "'0.0Jy' &nbsp;&nbsp;&nbsp;\n",
    "\\#&nbsp;&nbsp;&nbsp;noise&nbsp;parameter&nbsp;for&nbsp;briggs&nbsp;weighting&nbsp;when&nbsp;rmode='abs'&nbsp;  \n",
    "&nbsp;&nbsp;&nbsp;&nbsp;&nbsp;npixels&nbsp;&nbsp;&nbsp;=&nbsp;&nbsp;&nbsp;&nbsp;&nbsp;&nbsp;&nbsp;&nbsp;0&nbsp;&nbsp;&nbsp;&nbsp;&nbsp;\\#&nbsp;&nbsp;&nbsp;number&nbsp;of&nbsp;pixels&nbsp;to&nbsp;determine&nbsp;uv-cell&nbsp;size&nbsp;0=\\>&nbsp;field&nbsp;of&nbsp;view\n",
    "\n",
    "Otherwise, this works as *weighting='briggs' *above.\n",
    "\n"
   ]
  },
  {
   "cell_type": "markdown",
   "metadata": {},
   "source": [
    "##### Radial weighting\n",
    "\n",
    "The *weighting='radial' *mode is a\n",
    "seldom-used option that increases the weight by the radius in the\n",
    "uv-plane, i.e.:\n",
    "\n",
    "$w_i = \\omega_i \\times \\sqrt{u_i^2 + v_i^2}$\n",
    "\n",
    "Technically, this would be called an inverse uv-taper, since it depends\n",
    "on uv-coordinates and not on the data per-se. Its effect is to reduce\n",
    "the rms sidelobes for an east-west synthesis array. This option has\n",
    "limited utility.\n",
    "\n",
    "&nbsp;\n",
    "\n"
   ]
  },
  {
   "cell_type": "markdown",
   "metadata": {},
   "source": [
    "### Output images with parameter *imagename*\n",
    "\n",
    "The value of the *imagename* parameter is used as the root name of the\n",
    "output image. Depending on the particular task and the options chosen,\n",
    "one or more images with names built from that root will be created. For\n",
    "example, the **clean** task run with *imagename='ngc5921'* a series of\n",
    "output images will be created with the names ngc5921.clean,\n",
    "ngc5921.residual, ngc5921.model, etc. If an image with that name already\n",
    "exists, it will in general be overwritten. Beware using names of\n",
    "existing images however. If the **clean** is run using an *imagename*\n",
    "where \\<imagename\\>.residual and \\<imagename\\>.model already exist&nbsp;\n",
    "then **clean** will continue starting from these (effectively restarting\n",
    "from the end of the previous **clean**). Thus, if multiple runs of\n",
    "**clean** are run consecutively with the same *imagename*, then the\n",
    "cleaning is incremental (as in the\n",
    "[difmap](https://www.cv.nrao.edu/adass/adassVI/shepherdm.html) package).\n",
    "\n",
    "The output image may also have a different beam per plane. For datasets\n",
    "with very large fractional bandwidth, **clean** will use a different PSF\n",
    "for each channel when the PSF changes by more than half a pixel as a\n",
    "function of frequency. To smooth to a common resolution, one can either\n",
    "use the parameter *resmooth* to smooth to the smallest common possible\n",
    "beam, *restoringbeam* for an arbitrary, larger beam, or the task\n",
    "**imsmooth** after cleaning. Data analysis tasks such as **immoments**\n",
    "in CASA support changing beams per plane.\n",
    "\n",
    "There is some differences between the output images based on the\n",
    "algorithm used during a **clean**. The following is a list of\n",
    "differences between MS-MFS (*nterms\\>1*) and standard imaging, in the\n",
    "current CASA release:\n",
    "\n",
    "1.  Iterations always proceed as cs-clean major/minor cycles, and uses\n",
    "    the full psf during minor cycle iterations. There are currently no\n",
    "    user-controls on the *cyclespeedup*, and the flux-limit per major\n",
    "    cycle is chosen as 10% of the peak residual. In future releases,\n",
    "    this will be made more adaptive/controllable.\n",
    "2.  Currently, the following options are not supported for *nterms\\>1*:\n",
    "    *psfmode*, *pbcorr*, *minpb*, *imagermode='mosaic'*,\n",
    "    *gridmode='aprojection'*, *cyclespeedup*, and allowed are one of\n",
    "    Stokes I, Q, U, V, RR, LL, XX, YY at a time. More options and\n",
    "    combinations are currently under development and testing. Under\n",
    "    'Using CASA'&rarr;'Other Documentation'&rarr;'Imaging Algorithms in\n",
    "    CASA' you can find the latest implementations.\n",
    "\n",
    "&nbsp;\n",
    "\n"
   ]
  },
  {
   "cell_type": "markdown",
   "metadata": {},
   "source": [
    "### Mosaic imaging\n",
    "\n",
    "The **clean** task contains the capability to image multiple pointing\n",
    "centers together into a single &ldquo;mosaic&rdquo; image. This ability\n",
    "is controlled by setting *imagermode='mosaic'*. The key parameter that\n",
    "controls how clean produces the mosaic is the *ftmachine* sub-parameter.\n",
    "For *ftmachine='ft'*, clean will perform a weighted combination of the\n",
    "images produced by transforming each mosaic pointing separately. This\n",
    "can be slow, as the individual sub-images must be recombined in the\n",
    "image plane.\n",
    "\n",
    "**NOTE**: This option is preferred for data taken with sub-optimal\n",
    "mosaic sampling (e.g. fields too far apart, on a sparse irregular\n",
    "pattern, etc.)\n",
    "\n",
    "If *ftmachine='mosaic'*, then the data are gridded onto a single\n",
    "uv-plane which is then transformed to produce the single output image.\n",
    "This is accomplished by using a gridding kernel that approximates\n",
    "the&nbsp; transform of the primary beam pattern. Note that for this mode\n",
    "the \\<imagename\\>.flux image includes this convolution kernel in its\n",
    "effective weighted response pattern (needed to &ldquo;primary-beam\n",
    "correct&rdquo; the output image). For this mode only, an additional\n",
    "image \\<imagename\\>.flux.pbcoverage is produced that is the primary-beam\n",
    "coverage only used to compute the *minpb* cutoff.\n",
    "\n",
    "The *flatnoise* parameter determines whether the minor cycle performs on\n",
    "the the residual with or without a primary beam correction. Whereas the\n",
    "former has the correct fluxes, the latter has a uniform noise, which\n",
    "allows for a simpler deconvolution in particular at the the edges of the\n",
    "mosaic where the primary beam correction is largest.\n",
    "\n",
    "**ALERT**: In order to avoid aliasing artifacts for *ftmachine='mosaic'*\n",
    "in the mosaic image, due to the discrete sampling of the mosaic pattern\n",
    "on the sky, you should make an image in which the desired unmasked part\n",
    "of the image (above minpb) lies within the inner quarter. In other\n",
    "words, make an image twice as big as necessary to encompass the mosaic.\n",
    "\n",
    "It is also important to choose an appropriate *phasecenter* for your\n",
    "output mosaic image. The phase center should not be at the edge of an\n",
    "image with pointings around it. In that case, FFT aliasing may creep\n",
    "into the image.\n",
    "\n"
   ]
  },
  {
   "cell_type": "markdown",
   "metadata": {},
   "source": [
    "##### Mosaic *threshold* parameter\n",
    "\n",
    "For mosaics, the specification of the threshold is not straightforward,\n",
    "as it is in the single field case. This is because the different fields\n",
    "can be observed to different depths, and get different weights in the\n",
    "mosaic. We now provide internal rescaling (based on scaletype) so\n",
    "**clean** does its component search on a properly weighted and scaled\n",
    "version of the sky. For *ftmachine='ft'*, the minor cycles of the\n",
    "deconvolution are performed on an image that has been weighted to have\n",
    "constant noise, as in 'SAULT' weighting. This is equivalent to making a\n",
    "dirty mosaic by coadding dirty images made from the individual pointings\n",
    "with a sum of the mosaic contributions to a given pixel weighted by so\n",
    "as to give constant noise across the image. This means that the flux\n",
    "scale can vary across the mosaic depending on the effective noise\n",
    "(higher weighted regions have lower noise, and thus will have higher\n",
    "&ldquo;fluxes&rdquo; in the 'SAULT' map). Effectively, the flux scale\n",
    "that threshold applies to is that at the center of the highest-weighted\n",
    "mosaic field, with higher-noise regions down-scaled accordingly.\n",
    "Compared to the true sky, this image has a factor of the PB, plus a\n",
    "scaling map (returned in the .flux image). You will preferentially find\n",
    "components in the low-noise regions near mosaic centers. When\n",
    "*ftmachine='mosaic'* and *scaletype='SAULT'*, the deconvolution is also\n",
    "performed on a &ldquo;constant noise image&rdquo;, as detailed above for\n",
    "'ft'.\n",
    "\n",
    "**ALERT**: The intrinsic image made using *ftmachine='mosaic'* is\n",
    "equivalent to a dirty mosaic that is formed by coadding dirty images\n",
    "made from the individual fields after apodizing each by the PB function.\n",
    "Thus compared to the true sky, this has a factor of the PB 2 in it. You\n",
    "would thus preferentially find components in the centers of the mosaic\n",
    "fields (even more so than in the 'ft' mosaics). We now rescale this\n",
    "image internally at major-cycle (and interactive) boundaries based on\n",
    "scaletype, and do not have a way to clean on the raw unscaled dirty\n",
    "image (as was done in previous released versions).\n",
    "\n",
    "&nbsp;\n",
    "\n"
   ]
  },
  {
   "cell_type": "markdown",
   "metadata": {},
   "source": [
    "### Multi-scale cleaning\n",
    "\n",
    "The CASA multi-scale algorithm uses &ldquo;Multi-scale CLEAN&rdquo; to\n",
    "deconvolve using delta-functions and circular Gaussians as the basis\n",
    "functions for the model, instead of just delta-functions or pixels as in\n",
    "the other **clean** algorithms. This algorithm is still in the\n",
    "experimental stage, mostly because we are working on better algorithms\n",
    "for setting the scales for the Gaussians. The sizes of the Gaussians are\n",
    "set using the *scales* sub-parameter.\n",
    "\n",
    "Multi-scale cleaning is also not as sensitive to the loop gain as\n",
    "regular cleaning algorithms. A loop gain of 0.3 may still work fine and\n",
    "will considerably speed up the processing time. Increasing the\n",
    "cyclefactor by a few may provide better stability in the solution, in\n",
    "particular when the data exhibit a severely non-Gaussian dirty beam.\n",
    "\n",
    "**Inside the Toolkit**: The **im.setscales** method sets the multi-scale\n",
    "Gaussian widths. In addition to choosing a list of sizes in pixels, you\n",
    "can just pick a number of scales and get a geometric series of sizes.\n",
    "\n",
    "To activate multi-scale mode, specify a non-blank list of scales in the\n",
    "*multiscale* parameter. A good rule of thumb for starters is \\[ 0,\n",
    "2xbeam, 5xbeam \\], and maybe adding larger scales up to the maximum\n",
    "scale the interferometer can image. E.g. for a 2 arcsecond beam:\n",
    "\n",
    "multiscale = \\[0,6,10,30\\] \\"
   ]
  },
  {
   "cell_type": "markdown",
   "metadata": {},
   "source": [
    "## Four scales including point sources\n",
    "\n",
    "These are given in numbers of pixels, and specify FWHM of the Gaussians\n",
    "used to compute the filtered images. Setting the *multiscale* parameter\n",
    "to a non-empty list opens up the sub-parameter:\n",
    "\n",
    "multiscale = \\[0, 6, 10, 30\\]&nbsp; \\"
   ]
  },
  {
   "cell_type": "markdown",
   "metadata": {},
   "source": [
    "## set deconvolution scales\n",
    "(pixels)&nbsp;&nbsp; &nbsp;  \n",
    "&nbsp;&nbsp;&nbsp;&nbsp; negcomponent =\n",
    "-1&nbsp;&nbsp;&nbsp;&nbsp;&nbsp;&nbsp; \\"
   ]
  },
  {
   "cell_type": "markdown",
   "metadata": {},
   "source": [
    "## Stop cleaning if the  \n",
    "&nbsp;&nbsp;&nbsp;&nbsp;&nbsp;&nbsp;&nbsp;&nbsp;&nbsp;&nbsp;&nbsp;&nbsp;&nbsp;&nbsp;&nbsp;&nbsp;&nbsp;&nbsp;&nbsp;&nbsp;&nbsp;&nbsp;&nbsp;&nbsp;&nbsp;&nbsp;&nbsp;&nbsp;\n",
    "\\"
   ]
  },
  {
   "cell_type": "markdown",
   "metadata": {},
   "source": [
    "## largest scale finds this number of neg  \n",
    "&nbsp;&nbsp;&nbsp;&nbsp;&nbsp;&nbsp;&nbsp;&nbsp;&nbsp;&nbsp;&nbsp;&nbsp;&nbsp;&nbsp;&nbsp;&nbsp;&nbsp;&nbsp;&nbsp;&nbsp;&nbsp;&nbsp;&nbsp;&nbsp;&nbsp;&nbsp;&nbsp;&nbsp;\n",
    "\\"
   ]
  },
  {
   "cell_type": "markdown",
   "metadata": {},
   "source": [
    "## components  \n",
    "&nbsp;&nbsp;&nbsp;&nbsp; smallscalebias = 0.6&nbsp;&nbsp;&nbsp; \\"
   ]
  },
  {
   "cell_type": "markdown",
   "metadata": {},
   "source": [
    "## a\n",
    "bias to give more weight  \n",
    "&nbsp;&nbsp;&nbsp;&nbsp;&nbsp;&nbsp;&nbsp;&nbsp;&nbsp;&nbsp;&nbsp;&nbsp;&nbsp;&nbsp;&nbsp;&nbsp;&nbsp;&nbsp;&nbsp;&nbsp;&nbsp;&nbsp;&nbsp;&nbsp;&nbsp;&nbsp;&nbsp;&nbsp;\n",
    "\\"
   ]
  },
  {
   "cell_type": "markdown",
   "metadata": {},
   "source": [
    "## toward smaller scales\n",
    "\n",
    "The *negcomponent* sub-parameter is here to set the point at which the\n",
    "**clean** terminates because of negative components. For *negcomponent\n",
    "\\> 0*, component search will cease when this number of negative&nbsp;\n",
    "components are found at the largest scale. If *negcomponent = -1,* then\n",
    "component search will continue even if the largest component is\n",
    "negative. Increasing *smallscalebias* gives more weight to small scales.\n",
    "A value of 1.0 weighs the largest scale to zero and a value \\< 0.2\n",
    "weighs all scales nearly equally. The default of 0.6 is usually a good\n",
    "number as it corresponds to a weighting that approximates the\n",
    "normalization of each component by its area. Depending on the image,\n",
    "however, it may be necessary to tweak the *smallscalebias* for a better\n",
    "convergence of the algorithm.\n",
    "\n",
    "**NOTE**: Currently *smallscalebias* is ignored by the MS-MFS algorithm.\n",
    "It will be available in a future release.\n",
    "\n"
   ]
  },
  {
   "cell_type": "markdown",
   "metadata": {},
   "source": [
    "##### MS-MFS Algorithm\n",
    "\n",
    "The MS-MFS (multiscale-multifrequency synthesis) algorithm combines the\n",
    "concepts of multi-scale and multi-frequency synthesis cleaning for\n",
    "wideband synthesis imaging. Setting the *mode='mfs'* sub-parameter\n",
    "*nterms\\>1* runs the MS-MFS algorithm, and the choice of *nterms* should\n",
    "depend on the expected shape and SNR of the spectral structure, across\n",
    "the chosen bandwidth. The MS-MFS algorithm requires the *multiscale*\n",
    "parameter to be set. For point-source deconvolution, set\n",
    "*multiscale=\\[0\\]* (also the default). Output images represent\n",
    "Taylor-coefficients of the sky spectrum (images with file-name\n",
    "extensions of tt0,tt1,etc). A spectral index map is also computed as the\n",
    "ratio of the first two terms, following this convention:\n",
    "\n",
    "$I(\\nu) = I(ref_\\nu) \\times  (\\nu/\\nu_0)^\\alpha$\n",
    "\n",
    "**NOTE**: Unlike standard multi-scale cleaning (*multiscale=\n",
    "\\[0,6,10,....\\]* with *nterms=1*), with higher nterms the largest\n",
    "specified scale size must lie within the sampled range of the\n",
    "interferometer. If not, there can be an ambiguity in the spectral\n",
    "reconstruction at very large spatial scales.\n",
    "\n",
    "Additionally, a spectral-index error image is made by treating\n",
    "Taylor-coefficient residuals as errors, and propagating them through the\n",
    "division used to compute spectral-index. It is meant to be a guide to\n",
    "which parts of the spectral-index image to trust, and the values may not\n",
    "always represent a statistically-correct error. For more details about\n",
    "this algorithm, please refer to the paper titled \"A multi-scale\n",
    "multi-frequency deconvolution algorithm for synthesis imaging in radio\n",
    "interferometry\" <a href=\"#cit1\" id=\"ref-cit1\" class=\"ref-cit\">[1]</a> .\n",
    "\n",
    "**NOTE**: The software implementation of the MS-MFS algorithm for\n",
    "*nterms\\>1* currently does not allow combination with mosaics and pbcor.\n",
    "\n",
    "&nbsp;\n",
    "\n"
   ]
  },
  {
   "cell_type": "markdown",
   "metadata": {},
   "source": [
    "### Polarization Imaging\n",
    "\n",
    "The *stokes* parameter specifies the Stokes parameters for the resulting\n",
    "images, with standard imaging only using the *stokes='I'* for the total\n",
    "intensity measurement.\n",
    "\n",
    "**NOTE**: Forming Stokes Q and U images requires the presence of\n",
    "cross-hand polarizations (e.g. RL and LR for circularly polarized\n",
    "systems such as the VLA) in the data. Stokes V requires both parallel\n",
    "hands (RR and :LL) for circularly polarized systems or the cross-hands\n",
    "(XY and YX) for linearly polarized systems such as ALMA and ATCA.\n",
    "\n",
    "This parameter is specified as a string of up to four letters and can\n",
    "indicate stokes parameters themselves, Right/Left hand polarization\n",
    "products, or linear polarization products (X/Y). For example,\n",
    "\n",
    "stokes = 'I' \\"
   ]
  },
  {
   "cell_type": "markdown",
   "metadata": {},
   "source": [
    "## Intensity only  \n",
    "stokes = 'IQU' \\"
   ]
  },
  {
   "cell_type": "markdown",
   "metadata": {},
   "source": [
    "## Intensity and linear polarization  \n",
    "stokes = 'IV' \\"
   ]
  },
  {
   "cell_type": "markdown",
   "metadata": {},
   "source": [
    "## Intensity and circular polarization  \n",
    "stokes = 'IQUV' \\"
   ]
  },
  {
   "cell_type": "markdown",
   "metadata": {},
   "source": [
    "## All Stokes imaging  \n",
    "stokes = 'RR' \\"
   ]
  },
  {
   "cell_type": "markdown",
   "metadata": {},
   "source": [
    "## Right hand polarization only  \n",
    "stokes = 'XXYY' \\"
   ]
  },
  {
   "cell_type": "markdown",
   "metadata": {},
   "source": [
    "## Both linear polarizations\n",
    "\n",
    "are common choices (see the inline help of **clean** for a full range of\n",
    "possible options). The output image will have planes (along the\n",
    "&ldquo;polarization axis&rdquo;) corresponding to the chosen Stokes\n",
    "parameters. If as input to deconvolution tasks such as **clean**, the\n",
    "*stokes* parameter includes polarization planes other than I, then\n",
    "choosing *psfmode='hogbom'* or *psfmode='clarkstokes'* will **clean**\n",
    "(search for components) each plane sequentially, while *psfmode='clark'*\n",
    "will deconvolve jointly.\n",
    "\n",
    "**ALERT**: As of Release 3.2, **clean** expects that all input\n",
    "polarizations are present. E.g. if you have RR and LL dual polarization\n",
    "data and you flagged parts of RR but not LL, **clean** will ignore both\n",
    "polarizations in slice. It is possible to split out a polarization\n",
    "product with **split** and image separately. But you will not be able to\n",
    "combine these part-flagged data in the uv-domain. We will remove that\n",
    "restriction in a future CASA release.\n",
    "\n",
    "&nbsp;\n",
    "\n"
   ]
  },
  {
   "cell_type": "markdown",
   "metadata": {},
   "source": [
    "### Hints on **clean** with flanking fields\n",
    "\n",
    "There are two ways of specifying multi-field images for clean: (a) the\n",
    "task parameters are used to define the first (main) field and a text\n",
    "file containing definitions of all additional fields is supplied to the\n",
    "outlierfile task parameter, or (b) all fields are specified as lists for\n",
    "each task parameter.  \n",
    "  \n",
    "For the first example, the outlier file must contain the following\n",
    "parameters per field: *imagename*, *imsize*, and *phasecenter*. Optional\n",
    "parameters include *mask* and *modelimage*. The parameter set for each\n",
    "field must begin with *imagename*. Parameters can be listed in a single\n",
    "line or span multiple lines. The task inputs are:\n",
    "\n",
    "imagename = 'M1_0'  \n",
    "outlierfile='outlier.txt'  \n",
    "imsize = \\[1024,1024\\]  \n",
    "phasecenter = 'J2000 13h27m20.98 43d26m28.0'\n",
    "\n",
    "&nbsp;The contents of outlier file 'outlier.txt' are:\n",
    "\n",
    "    imagename = 'M1_1'\n",
    "    imsize = [128,128]\n",
    "    phasecenter = 'J2000 13h30m52.159 43d23m08.02'\n",
    "    mask = ['out1.mask', 'circle[[40pix,40pix],5pix]' ]\n",
    "    modelimage = 'out1.model'\n",
    "    imagename = 'M1_2'\n",
    "    imsize = [128,128]\n",
    "    phasecenter = 'J2000 13h24m08.16 43d09m48.0'\n",
    "\n",
    "In this example, the first field 'M1_0' is defined using main task\n",
    "parameters. The next two 'M1_1' and 'M1_2' are listed in the file\n",
    "'outlier.txt'.&nbsp; A *mask* and *modelimage* has been supplied only\n",
    "for the second field (M1_1). Fields with unspecified masks will use the\n",
    "full field for cleaning.  \n",
    "  \n",
    "For the second example, the inputs are instead included in the main\n",
    "parameters, using brackets to signify multiple inputs. Parameters that\n",
    "support lists for multi-field specification are *imagename*, *imsize*,\n",
    "*phasecenter*, *mask*, and *modelimage*. The task inputs are:\n",
    "\n",
    "imagename = \\['M1_0','M1_1','M1_2\\]  \n",
    "imsize = \\[\\[1024,1024\\],\\[128,128\\],\\[128,128\\]\\]  \n",
    "phasecenter = \\['J2000 13h27m20.98 43d26m28.0',  \n",
    "&nbsp;&nbsp;&nbsp;&nbsp;&nbsp;&nbsp;&nbsp;&nbsp;&nbsp;&nbsp;&nbsp;&nbsp;&nbsp;&nbsp;&nbsp;&nbsp;&nbsp;&nbsp;&nbsp;&nbsp;&nbsp;&nbsp;\n",
    "'J2000 13h30m52.159 43d23m08.02',  \n",
    "&nbsp;&nbsp;&nbsp;&nbsp;&nbsp;&nbsp;&nbsp;&nbsp;&nbsp;&nbsp;&nbsp;&nbsp;&nbsp;&nbsp;&nbsp;&nbsp;&nbsp;&nbsp;&nbsp;&nbsp;&nbsp;&nbsp;\n",
    "'J2000 13h24m08.16 43d09m48.0'\\]  \n",
    "mask=\\[\\[''\\],\n",
    "\\['out1.mask','circle\\[\\[40pix,40pix\\],5pix\\]'\\],\\[''\\]\\]  \n",
    "modelimage=\\[\\[''\\],\\['out1.model'\\],\\[''\\]\\]\n",
    "\n",
    "**NOTE**: All lists must have the same length.\n",
    "\n",
    "In both examples, the following images will be made:\n",
    "\n",
    "-   M1_0.image, M1_1.image, M1_2.image (cleaned images)\n",
    "-   M1.0.model, M1_1.model, M1_2.model (model images)\n",
    "-   M1.0.residual, M1_1.residual, M1_2.residual (residual images)\n",
    "\n",
    "**NOTE**: The old AIPS-style outlier-file and boxfile formats have been\n",
    "deprecated. However, due to user-requests, they will continue be\n",
    "supported in CASA 3.4. Note that the old outlier file format does not\n",
    "support the specification of modelimage and mask for each field. The new\n",
    "format is more complete, and less ambiguous, so please consider updating\n",
    "your scripts.\n",
    "\n",
    "&nbsp;\n",
    "\n"
   ]
  },
  {
   "cell_type": "markdown",
   "metadata": {},
   "source": [
    "## Parameters\n",
    "\n"
   ]
  },
  {
   "cell_type": "markdown",
   "metadata": {},
   "source": [
    "##### *vis*\n",
    "\n",
    "Name(s) of input visibility file(s). default: none; example:\n",
    "*vis='ngc5921.ms'*; *vis=\\['ngc5921a.ms','ngc5921b.ms'\\]*; multiple MSes\n",
    "\n"
   ]
  },
  {
   "cell_type": "markdown",
   "metadata": {},
   "source": [
    "##### *imagename*\n",
    "\n",
    "Pre-name of output images.\n",
    "\n",
    "&nbsp;&nbsp;&nbsp; default: none; example: *imagename='m2'*\n",
    "\n",
    "&nbsp;&nbsp;&nbsp; Output images are:\n",
    "\n",
    "-   m2.image; cleaned and restored image with or without primary beam\n",
    "    correction\n",
    "-   m2.psf; point-spread function (dirty beam)\n",
    "-   m2.flux;&nbsp; relative sky sensitivity over field\n",
    "-   m2.flux.pbcoverage;&nbsp; relative pb coverage over field (gets\n",
    "    created only for *ft='mosaic'*)\n",
    "-   m2.model; image of clean components\n",
    "-   m2.residual; image of residuals\n",
    "-   m2.interactive.mask; image containing clean regions&nbsp;&nbsp;\n",
    "\n",
    "&nbsp;&nbsp;&nbsp;&nbsp; To include outlier fields:\n",
    "imagename=\\['n5921','outlier1','outlier2'\\]\n",
    "\n"
   ]
  },
  {
   "cell_type": "markdown",
   "metadata": {},
   "source": [
    "##### *outlierfile*\n",
    "\n",
    "Text file name which contains image names, sizes, field centers (See\n",
    "'HINTS ON CLEAN WITH FLANKING FIELDS' above for the format of this\n",
    "outlier file.)\n",
    "\n"
   ]
  },
  {
   "cell_type": "markdown",
   "metadata": {},
   "source": [
    "##### *field*\n",
    "\n",
    "Select fields to image or mosaic.&nbsp; Use field ID(s) or name(s).\n",
    "\\['go listobs' to obtain the list id's or names\\]\n",
    "\n",
    "&nbsp; &nbsp; default: '' all fields; If field string is a non-negative\n",
    "integer, it is assumed to be a field index otherwise, it is assumed to\n",
    "be a field name  \n",
    "&nbsp;&nbsp;&nbsp; examples: *field='0\\~2'*; field IDs 0,1,2  \n",
    "&nbsp;&nbsp;&nbsp;&nbsp;&nbsp;&nbsp;&nbsp;&nbsp;&nbsp;&nbsp;&nbsp;&nbsp;&nbsp;&nbsp;&nbsp;&nbsp;&nbsp;&nbsp;&nbsp;&nbsp;&nbsp;&nbsp;\n",
    "*field='0,4,5\\~7'*; field IDs 0,4,5,6,7  \n",
    "&nbsp;&nbsp;&nbsp;&nbsp;&nbsp;&nbsp;&nbsp;&nbsp;&nbsp;&nbsp;&nbsp;&nbsp;&nbsp;&nbsp;&nbsp;&nbsp;&nbsp;&nbsp;&nbsp;&nbsp;&nbsp;&nbsp;\n",
    "*field='3C286,3C295'*; field named 3C286 and 3C295  \n",
    "&nbsp;&nbsp;&nbsp;&nbsp;&nbsp;&nbsp;&nbsp;&nbsp;&nbsp;&nbsp;&nbsp;&nbsp;&nbsp;&nbsp;&nbsp;&nbsp;&nbsp;&nbsp;&nbsp;&nbsp;&nbsp;&nbsp;\n",
    "*field = '3,4C\\*'*; field id 3, all names starting with 4C  \n",
    "&nbsp;&nbsp;&nbsp; For multiple MS input, a list of field strings can be\n",
    "used:  \n",
    "&nbsp;&nbsp;&nbsp;&nbsp;&nbsp;&nbsp;&nbsp;&nbsp;&nbsp;&nbsp;&nbsp;&nbsp;&nbsp;&nbsp;&nbsp;&nbsp;&nbsp;&nbsp;&nbsp;&nbsp;&nbsp;&nbsp;\n",
    "*field = \\['0\\~2','0\\~4'\\]*; field IDs 0-2 for the first MS and 0-4 for\n",
    "the second  \n",
    "&nbsp;&nbsp;&nbsp;&nbsp;&nbsp;&nbsp;&nbsp;&nbsp;&nbsp;&nbsp;&nbsp;&nbsp;&nbsp;&nbsp;&nbsp;&nbsp;&nbsp;&nbsp;&nbsp;&nbsp;&nbsp;&nbsp;\n",
    "*field = '0\\~2'*; field IDs 0-2 for all input MSes\n",
    "\n"
   ]
  },
  {
   "cell_type": "markdown",
   "metadata": {},
   "source": [
    "##### *spw*\n",
    "\n",
    "Select spectral window/channels\n",
    "\n",
    "**NOTE**:&nbsp; Channels de-selected here will contain all zeros if\n",
    "selected by the parameter *mode* subparameters.\n",
    "\n",
    "&nbsp;&nbsp;&nbsp; default: '' all spectral windows and channels  \n",
    "&nbsp;&nbsp;&nbsp; examples: *spw='0\\~2,4'*; spws 0,1,2,4 (all\n",
    "channels)  \n",
    "&nbsp;&nbsp;&nbsp;&nbsp;&nbsp;&nbsp;&nbsp;&nbsp;&nbsp;&nbsp;&nbsp;&nbsp;&nbsp;&nbsp;&nbsp;&nbsp;&nbsp;&nbsp;&nbsp;&nbsp;&nbsp;&nbsp;\n",
    "*spw='0:5\\~61'*; spw 0, channels 5 to 61  \n",
    "&nbsp;&nbsp;&nbsp;&nbsp;&nbsp;&nbsp;&nbsp;&nbsp;&nbsp;&nbsp;&nbsp;&nbsp;&nbsp;&nbsp;&nbsp;&nbsp;&nbsp;&nbsp;&nbsp;&nbsp;&nbsp;&nbsp;\n",
    "*spw='\\<2'*;&nbsp;&nbsp; spws less than 2 (i.e. 0,1)  \n",
    "&nbsp;&nbsp;&nbsp;&nbsp;&nbsp;&nbsp;&nbsp;&nbsp;&nbsp;&nbsp;&nbsp;&nbsp;&nbsp;&nbsp;&nbsp;&nbsp;&nbsp;&nbsp;&nbsp;&nbsp;&nbsp;&nbsp;\n",
    "*spw='0,10,3:3\\~45'*; spw 0,10 all channels, spw 3, channels 3 to 45.  \n",
    "&nbsp;&nbsp;\n",
    "&nbsp;&nbsp;&nbsp;&nbsp;&nbsp;&nbsp;&nbsp;&nbsp;&nbsp;&nbsp;&nbsp;&nbsp;&nbsp;&nbsp;&nbsp;&nbsp;&nbsp;&nbsp;&nbsp;\n",
    "*spw='0\\~2:2\\~6'*; spw 0,1,2 with channels 2 through 6 in each.  \n",
    "&nbsp;&nbsp;&nbsp; For multiple MS input, a list of spw strings can be\n",
    "used:  \n",
    "&nbsp;&nbsp;&nbsp; &nbsp;&nbsp;\n",
    "&nbsp;&nbsp;&nbsp;&nbsp;&nbsp;&nbsp;&nbsp;&nbsp;&nbsp;&nbsp;&nbsp;&nbsp;&nbsp;&nbsp;&nbsp;\n",
    "*spw=\\['0','0\\~3'\\]*; spw ids 0 for the first MS and 0-3 for the\n",
    "second  \n",
    "&nbsp;&nbsp;&nbsp;&nbsp;&nbsp; &nbsp;&nbsp;\n",
    "&nbsp;&nbsp;&nbsp;&nbsp;&nbsp;&nbsp;&nbsp;&nbsp;&nbsp;&nbsp;&nbsp;&nbsp;&nbsp;\n",
    "*spw='0\\~3'* spw ids 0-3 for all input MS  \n",
    "&nbsp;&nbsp;&nbsp;&nbsp;&nbsp;&nbsp;&nbsp; &nbsp;&nbsp;\n",
    "&nbsp;&nbsp;&nbsp;&nbsp;&nbsp;&nbsp;&nbsp;&nbsp;&nbsp;&nbsp;&nbsp;\n",
    "*spw='3:10\\~20;50\\~60'* for multiple channel ranges within spw id 3  \n",
    "&nbsp;&nbsp;&nbsp;&nbsp;&nbsp;&nbsp;&nbsp;&nbsp;&nbsp; &nbsp;&nbsp;\n",
    "&nbsp;&nbsp;&nbsp;&nbsp;&nbsp;&nbsp;&nbsp;&nbsp;&nbsp;\n",
    "*spw='3:10\\~20;50\\~60,4:0\\~30'* for different channel ranges for spw ids\n",
    "3 and 4  \n",
    "&nbsp;&nbsp;&nbsp;&nbsp;&nbsp;&nbsp;&nbsp;&nbsp;&nbsp;&nbsp;&nbsp;\n",
    "&nbsp;&nbsp; &nbsp;&nbsp;&nbsp;&nbsp;&nbsp;&nbsp;&nbsp;\n",
    "*spw='0:0\\~10,1:20\\~30,2:1;2;3'*; spw 0, channels 0-10, spw 1, channels\n",
    "20-30, and spw 2, channels, 1,2 and 3  \n",
    "&nbsp;&nbsp;\n",
    "&nbsp;&nbsp;&nbsp;&nbsp;&nbsp;&nbsp;&nbsp;&nbsp;&nbsp;&nbsp;&nbsp;&nbsp;&nbsp;&nbsp;&nbsp;&nbsp;&nbsp;&nbsp;&nbsp;\n",
    "*spw='1\\~4;6:15\\~48'* for channels 15 through 48 for spw ids 1,2,3,4 and\n",
    "6\n",
    "\n"
   ]
  },
  {
   "cell_type": "markdown",
   "metadata": {},
   "source": [
    "##### *selectdata*\n",
    "\n",
    "Other data selection parameters  \n",
    "&nbsp;&nbsp;&nbsp; default: True\n",
    "\n"
   ]
  },
  {
   "cell_type": "markdown",
   "metadata": {},
   "source": [
    "#### &nbsp; &nbsp; *selectdata=True* expandable parameters (See help par.selectdata for more on these)\n",
    "\n"
   ]
  },
  {
   "cell_type": "markdown",
   "metadata": {},
   "source": [
    "##### &nbsp;&nbsp;&nbsp; *timerange*\n",
    "\n",
    "&nbsp;&nbsp;&nbsp; Select data based on time range:  \n",
    "&nbsp;&nbsp;&nbsp;&nbsp;&nbsp;&nbsp;&nbsp; default: '' (all)  \n",
    "&nbsp;&nbsp;&nbsp;&nbsp;&nbsp;&nbsp;&nbsp; examples: *timerange =\n",
    "'YYYY/MM/DD/hh:mm:ss\\~YYYY/MM/DD/hh:mm:ss'*\n",
    "\n",
    "**NOTE**: If YYYY/MM/DD is missing, date defaults to first day in data\n",
    "set.\n",
    "\n",
    "&nbsp; &nbsp; &nbsp;\n",
    "&nbsp;&nbsp;&nbsp;&nbsp;&nbsp;&nbsp;&nbsp;&nbsp;&nbsp;&nbsp;&nbsp;&nbsp;&nbsp;&nbsp;&nbsp;&nbsp;&nbsp;&nbsp;&nbsp;\n",
    "*timerange='09:14:0\\~09:54:0'* picks 40 min on first day  \n",
    "&nbsp;&nbsp;&nbsp;&nbsp;&nbsp;&nbsp;&nbsp;&nbsp;&nbsp;&nbsp;&nbsp;&nbsp;&nbsp;&nbsp;&nbsp;&nbsp;&nbsp;&nbsp;&nbsp;&nbsp;&nbsp;&nbsp;&nbsp;&nbsp;&nbsp;\n",
    "*timerange='25:00:00\\~27:30:00'* picks 1 hr to 3 hr 30min on NEXT day  \n",
    "&nbsp; &nbsp;\n",
    "&nbsp;&nbsp;&nbsp;&nbsp;&nbsp;&nbsp;&nbsp;&nbsp;&nbsp;&nbsp;&nbsp;&nbsp;&nbsp;&nbsp;&nbsp;&nbsp;&nbsp;&nbsp;&nbsp;&nbsp;&nbsp;\n",
    "*timerange='09:44:00'* pick data within one integration of time  \n",
    "&nbsp; &nbsp;\n",
    "&nbsp;&nbsp;&nbsp;&nbsp;&nbsp;&nbsp;&nbsp;&nbsp;&nbsp;&nbsp;&nbsp;&nbsp;&nbsp;&nbsp;&nbsp;&nbsp;&nbsp;&nbsp;&nbsp;&nbsp;&nbsp;\n",
    "*timerange='\\>10:24:00'* data after this time  \n",
    "&nbsp;&nbsp;&nbsp;&nbsp;&nbsp;&nbsp;&nbsp; For multiple MS input, a list\n",
    "of timerange strings can be used:  \n",
    "&nbsp; &nbsp;\n",
    "&nbsp;&nbsp;&nbsp;&nbsp;&nbsp;&nbsp;&nbsp;&nbsp;&nbsp;&nbsp;&nbsp;&nbsp;&nbsp;&nbsp;&nbsp;&nbsp;&nbsp;&nbsp;&nbsp;&nbsp;&nbsp;\n",
    "*timerange=\\['09:14:0\\~09:54:0','\\>10:24:00'\\]*  \n",
    "&nbsp;&nbsp; &nbsp; &nbsp;\n",
    "&nbsp;&nbsp;&nbsp;&nbsp;&nbsp;&nbsp;&nbsp;&nbsp;&nbsp;&nbsp;&nbsp;&nbsp;&nbsp;&nbsp;&nbsp;&nbsp;&nbsp;&nbsp;\n",
    "*timerange='09:14:0\\~09:54:0'*; apply the same timerange for all input\n",
    "MSes  \n",
    "&nbsp;&nbsp;&nbsp;&nbsp;&nbsp;&nbsp;&nbsp;&nbsp;&nbsp;&nbsp;&nbsp;&nbsp;&nbsp;&nbsp;&nbsp;&nbsp;&nbsp;&nbsp;\n",
    "\n"
   ]
  },
  {
   "cell_type": "markdown",
   "metadata": {},
   "source": [
    "##### &nbsp;&nbsp;&nbsp; *uvrange*\n",
    "\n",
    "&nbsp;&nbsp;&nbsp; Select data within uvrange (default units meters)  \n",
    "&nbsp;&nbsp;&nbsp;&nbsp;&nbsp;&nbsp;&nbsp; default: '' (all)  \n",
    "&nbsp;&nbsp;&nbsp;&nbsp;&nbsp;&nbsp;&nbsp; example:\n",
    "*uvrange='0\\~1000klambda'*; uvrange from 0-1000 kilo-lambda  \n",
    "&nbsp;&nbsp;&nbsp;&nbsp;&nbsp;&nbsp;&nbsp;&nbsp;&nbsp;&nbsp;&nbsp;&nbsp;&nbsp;&nbsp;&nbsp;&nbsp;&nbsp;&nbsp;&nbsp;&nbsp;&nbsp;&nbsp;&nbsp;&nbsp;\n",
    "*uvrange='\\>4klambda'*;uvranges greater than 4 kilo lambda  \n",
    "&nbsp;&nbsp;&nbsp;&nbsp;&nbsp;&nbsp;&nbsp; For multiple MS input, a list\n",
    "of uvrange strings can be used:  \n",
    "&nbsp;&nbsp;\n",
    "&nbsp;&nbsp;&nbsp;&nbsp;&nbsp;&nbsp;&nbsp;&nbsp;&nbsp;&nbsp;&nbsp;&nbsp;&nbsp;&nbsp;&nbsp;&nbsp;&nbsp;&nbsp;&nbsp;&nbsp;&nbsp;\n",
    "*uvrange=\\['0\\~1000klambda','100\\~1000klamda'\\]*  \n",
    "&nbsp; &nbsp;&nbsp;\n",
    "&nbsp;&nbsp;&nbsp;&nbsp;&nbsp;&nbsp;&nbsp;&nbsp;&nbsp;&nbsp;&nbsp;&nbsp;&nbsp;&nbsp;&nbsp;&nbsp;&nbsp;&nbsp;&nbsp;\n",
    "*uvrange='0\\~1000klambda'*; apply 0-1000 kilo-lambda for all input MSes\n",
    "\n"
   ]
  },
  {
   "cell_type": "markdown",
   "metadata": {},
   "source": [
    "#####  &nbsp;&nbsp;&nbsp; *antenna*\n",
    "\n",
    "&nbsp;&nbsp;&nbsp; Select data based on antenna/baseline  \n",
    "&nbsp;&nbsp;&nbsp;&nbsp;&nbsp;&nbsp;&nbsp; default: '' (all)  \n",
    "&nbsp;&nbsp;&nbsp;&nbsp;&nbsp;&nbsp;&nbsp; If antenna string is a\n",
    "non-negative integer, it is assumed to be an antenna index, otherwise,\n",
    "it is considered an antenna name.  \n",
    "&nbsp;&nbsp;&nbsp;&nbsp;&nbsp;&nbsp;&nbsp;&nbsp;&nbsp;&nbsp;&nbsp;&nbsp;&nbsp;&nbsp;&nbsp;&nbsp;&nbsp;&nbsp;&nbsp;&nbsp;&nbsp;&nbsp;\n",
    "*antenna='5&amp;6'*; baseline between antenna index 5 and index 6.  \n",
    "&nbsp;&nbsp;&nbsp;&nbsp;&nbsp;&nbsp;&nbsp;&nbsp;&nbsp;&nbsp;&nbsp;&nbsp;&nbsp;&nbsp;&nbsp;&nbsp;&nbsp;&nbsp;&nbsp;&nbsp;&nbsp;&nbsp;\n",
    "*antenna='VA05&amp;VA06'*; baseline between VLA antenna 5 and 6.  \n",
    "&nbsp;&nbsp;&nbsp;&nbsp;&nbsp;&nbsp;&nbsp;&nbsp;&nbsp;&nbsp;&nbsp;&nbsp;&nbsp;&nbsp;&nbsp;&nbsp;&nbsp;&nbsp;&nbsp;&nbsp;&nbsp;&nbsp;\n",
    "*antenna='5&amp;6;7&amp;8'*; baselines 5-6 and 7-8  \n",
    "&nbsp;&nbsp;&nbsp;&nbsp;&nbsp;&nbsp;&nbsp;&nbsp;&nbsp;&nbsp;&nbsp;&nbsp;&nbsp;&nbsp;&nbsp;&nbsp;&nbsp;&nbsp;&nbsp;&nbsp;&nbsp;&nbsp;\n",
    "*antenna='5'*; all baselines with antenna index 5  \n",
    "&nbsp;&nbsp;&nbsp;&nbsp;&nbsp;&nbsp;&nbsp;&nbsp;&nbsp;&nbsp;&nbsp;&nbsp;&nbsp;&nbsp;&nbsp;&nbsp;&nbsp;&nbsp;&nbsp;&nbsp;&nbsp;&nbsp;\n",
    "*antenna='05'*; all baselines with antenna number 05 (VLA old name)  \n",
    "&nbsp;&nbsp;&nbsp;&nbsp;&nbsp;&nbsp;&nbsp;&nbsp;&nbsp;&nbsp;&nbsp;&nbsp;&nbsp;&nbsp;&nbsp;&nbsp;&nbsp;&nbsp;&nbsp;&nbsp;&nbsp;&nbsp;\n",
    "*antenna='5,6,9'*; all baselines with antennas 5,6,9 index number  \n",
    "&nbsp;&nbsp;&nbsp;&nbsp;&nbsp;&nbsp;&nbsp; For multiple MS input, a list\n",
    "of antenna strings can be used:  \n",
    "&nbsp;&nbsp;&nbsp;&nbsp;&nbsp;&nbsp;&nbsp;&nbsp;&nbsp;&nbsp;&nbsp;&nbsp;&nbsp;&nbsp;&nbsp;&nbsp;&nbsp;&nbsp;&nbsp;&nbsp;&nbsp;&nbsp;\n",
    "*antenna=\\['5','5&amp;6'\\]*;  \n",
    "&nbsp;&nbsp;&nbsp;&nbsp;&nbsp;&nbsp;&nbsp;&nbsp;&nbsp;&nbsp;&nbsp;&nbsp;&nbsp;&nbsp;&nbsp;&nbsp;&nbsp;&nbsp;&nbsp;&nbsp;&nbsp;&nbsp;\n",
    "*antenna='5'*; antenna index 5 for all input MSes\n",
    "\n"
   ]
  },
  {
   "cell_type": "markdown",
   "metadata": {},
   "source": [
    "#####  &nbsp;&nbsp;&nbsp; *scan*\n",
    "\n",
    "&nbsp;&nbsp;&nbsp; Scan number range. \\[Check 'go listobs' to insure the\n",
    "scan numbers are in order.\\]  \n",
    "&nbsp;&nbsp;&nbsp;&nbsp;&nbsp;&nbsp;&nbsp; default: '' (all)  \n",
    "&nbsp;&nbsp;&nbsp;&nbsp;&nbsp;&nbsp;&nbsp; examples: *scan='1\\~5'*  \n",
    "&nbsp;&nbsp;&nbsp;&nbsp;&nbsp;&nbsp;&nbsp; For multiple MS input, a list\n",
    "of scan strings can be used:  \n",
    "&nbsp;&nbsp;&nbsp;&nbsp;&nbsp;&nbsp;&nbsp; &nbsp; &nbsp;&nbsp;\n",
    "&nbsp;&nbsp;&nbsp;&nbsp;&nbsp;&nbsp;&nbsp;&nbsp;&nbsp;&nbsp;&nbsp;&nbsp;&nbsp;\n",
    "*scan=\\['0\\~100','10\\~200'\\]*  \n",
    "&nbsp;&nbsp;&nbsp;&nbsp;&nbsp;&nbsp;&nbsp;&nbsp;&nbsp;&nbsp;&nbsp;\n",
    "&nbsp; &nbsp;&nbsp;\n",
    "&nbsp;&nbsp;&nbsp;&nbsp;&nbsp;&nbsp;&nbsp;&nbsp;&nbsp; *scan='0\\~100*;\n",
    "scan ids 0-100 for all input MSes  \n",
    "&nbsp;&nbsp;&nbsp;&nbsp;&nbsp;&nbsp;&nbsp;&nbsp;&nbsp;&nbsp;&nbsp;&nbsp;&nbsp;&nbsp;&nbsp;&nbsp;&nbsp;&nbsp;&nbsp;&nbsp;&nbsp;&nbsp;\n",
    "\n"
   ]
  },
  {
   "cell_type": "markdown",
   "metadata": {},
   "source": [
    "##### &nbsp;&nbsp;&nbsp; *observation*\n",
    "\n",
    "&nbsp;&nbsp;&nbsp; Observation ID range.  \n",
    "&nbsp;&nbsp;&nbsp;&nbsp;&nbsp;&nbsp;&nbsp; default: '' (all); example:\n",
    "*observation='1\\~5'*\n",
    "\n"
   ]
  },
  {
   "cell_type": "markdown",
   "metadata": {},
   "source": [
    "#####  &nbsp;&nbsp;&nbsp; *intent*\n",
    "\n",
    "&nbsp;&nbsp;&nbsp; Scan intent (case sensitive)  \n",
    "&nbsp;&nbsp;&nbsp;&nbsp;&nbsp;&nbsp;&nbsp; default: '' (all); examples:\n",
    "*intent='TARGET_SOURCE', intent='TARGET_SOURCE1,TARGET_SOURCE2',\n",
    "intent='TARGET_POINTING\\*'*  \n",
    "  \n",
    "\n"
   ]
  },
  {
   "cell_type": "markdown",
   "metadata": {},
   "source": [
    "##### *mode:* Frequency Specification\n",
    "\n",
    "**NOTE**: Channels deselected with spw parameter will contain all zeros.\n",
    "\n",
    "&nbsp;&nbsp;&nbsp; default: 'mfs'; examples: *mode = 'mfs'* means\n",
    "produce one image from all specified data, *mode = 'channel'* use with\n",
    "nchan, start, width to specify output image cube, *mode = 'velocity'*\n",
    "channels are specified in velocity, *mode = 'frequency'*, channels are\n",
    "specified in frequency.\n",
    "\n"
   ]
  },
  {
   "cell_type": "markdown",
   "metadata": {},
   "source": [
    "#### &nbsp;&nbsp;&nbsp; *mode='mfs'* expandable parameters\n",
    "\n",
    "&nbsp;&nbsp;&nbsp; Make a continuum image from the selected frequency\n",
    "channels/range using Multi-frequency synthesis algorithm for wide-band\n",
    "narrow field imaging. &nbsp;  \n",
    "&nbsp;&nbsp;&nbsp; examples: *spw = '0,1'*; *mode = 'mfs'* will produce\n",
    "one image made from all channels in spw 0 and 1  \n",
    "&nbsp; &nbsp;&nbsp;\n",
    "&nbsp;&nbsp;&nbsp;&nbsp;&nbsp;&nbsp;&nbsp;&nbsp;&nbsp;&nbsp;&nbsp;&nbsp;&nbsp;&nbsp;&nbsp;&nbsp;&nbsp;\n",
    "*spw='0:5\\~28^2'*; *mode = 'mfs'* will produce one image made with\n",
    "channels (5,7,9,...,25,27)\n",
    "\n"
   ]
  },
  {
   "cell_type": "markdown",
   "metadata": {},
   "source": [
    "##### &nbsp;&nbsp;&nbsp; *nterms*\n",
    "\n",
    "&nbsp;&nbsp;&nbsp; Number of Taylor terms to be used to model the\n",
    "frequency dependence of the sky emission. nterms=1 is equivalent to\n",
    "assuming no frequency dependence. nterms\\>1 runs the MS-MFS algorithm,\n",
    "and the choice of nterms should depend on the expected shape and SNR of\n",
    "the spectral structure, across the chosen bandwidth. Output images\n",
    "represent taylor-coefficients of the sky spectrum (images with file-name\n",
    "extensions of tt0,tt1,etc). A spectral index map is also computed as the\n",
    "ratio of the first two terms (following the convention of $I(nu) = I(ref_nu) x (nu/nu_0)^\\alpha$).\n",
    "Additionally, a spectral-index error image is made by treating\n",
    "taylor-coefficient residuals as errors, and propagating them through the\n",
    "division used to compute spectral-index. It is meant to be a guide to\n",
    "which parts of the spectral-index image to trust, and the values may not\n",
    "always represent a statistically-correct error.\n",
    "\n",
    "**NOTE**: The software implementation of the MS-MFS algorithm for\n",
    "*nterms\\>1* currently does not allow combination with mosaics, and\n",
    "*pbcor*.\n",
    "\n"
   ]
  },
  {
   "cell_type": "markdown",
   "metadata": {},
   "source": [
    "##### &nbsp;&nbsp;&nbsp; *reffreq*\n",
    "\n",
    "&nbsp;&nbsp;&nbsp; The reference frequency (for nterms\\>1) about which\n",
    "the Taylor expansion if done.  \n",
    "&nbsp;&nbsp;&nbsp;&nbsp;&nbsp;&nbsp;&nbsp;&nbsp;&nbsp;&nbsp;&nbsp;&nbsp;&nbsp;&nbsp;&nbsp;&nbsp;&nbsp;&nbsp;\n",
    "*reffreq=''* defaults to the middle frequency of the selected range.  \n",
    "  \n",
    "&nbsp;&nbsp;&nbsp;\n",
    "\n"
   ]
  },
  {
   "cell_type": "markdown",
   "metadata": {},
   "source": [
    "#### &nbsp;&nbsp;&nbsp; *mode='channel'*, *'velocity'*, and *'frequency'* expandable parameters\n",
    "\n"
   ]
  },
  {
   "cell_type": "markdown",
   "metadata": {},
   "source": [
    "##### &nbsp;&nbsp;&nbsp; *nchan*\n",
    "\n",
    "&nbsp;&nbsp;&nbsp; Total number of channels in the output image.  \n",
    "&nbsp;&nbsp;&nbsp;&nbsp;&nbsp;&nbsp;&nbsp; default: -1; Automatically\n",
    "selects enough channels to cover data selected by 'spw' consistent with\n",
    "'start' and 'width'. It is often easiest to leave nchan at the default\n",
    "value. example: *nchan=100*.\n",
    "\n"
   ]
  },
  {
   "cell_type": "markdown",
   "metadata": {},
   "source": [
    "##### &nbsp;&nbsp;&nbsp; *start*\n",
    "\n",
    "&nbsp;&nbsp;&nbsp; First channel, velocity, or frequency.  \n",
    "&nbsp;&nbsp;&nbsp;&nbsp;&nbsp;&nbsp;&nbsp;&nbsp; For *mode='channel'*;\n",
    "This selects the channel index number from the MS (0 based) that you\n",
    "want to correspond to the first channel of the output cube. The output\n",
    "cube will be in frequency space with the first channel having the\n",
    "frequency of the MS channel selected by *start*.&nbsp; *start=0* refers\n",
    "to the first channel in the first selected spw, even if that channel is\n",
    "de-selected in the *spw* parameter. Channels de-selected by the *spw*\n",
    "parameter will be filled with zeros if included by the *start*\n",
    "parameter. For example, *spw=3\\~8:3\\~100* and *start=2* will produce a\n",
    "cube that starts on the third channel (recall 0 based) of spw index 3,\n",
    "and the first channel will be blank. example: *start=5*  \n",
    "&nbsp;&nbsp;&nbsp;&nbsp;&nbsp;&nbsp;&nbsp;&nbsp; For *mode='velocity'*\n",
    "or *'frequency'*: default=''; starts at first input channel of first\n",
    "input spw; examples: *start='5.0km/s'* or *start='22.3GHz'*\n",
    "\n"
   ]
  },
  {
   "cell_type": "markdown",
   "metadata": {},
   "source": [
    "##### &nbsp;&nbsp;&nbsp; *width*\n",
    "\n",
    "&nbsp;&nbsp;&nbsp; Output channel width  \n",
    "&nbsp;&nbsp;&nbsp;&nbsp;&nbsp;&nbsp;&nbsp;&nbsp; For *mode='channel'*,\n",
    "default=1; \\>1 indicates channel averaging; example: *width=4*  \n",
    "&nbsp;&nbsp;&nbsp;&nbsp;&nbsp;&nbsp;&nbsp;&nbsp; For *mode= 'velocity'*\n",
    "or *'frequency'*, default=''; width of first input channel, or more\n",
    "precisely, the difference in frequencies between the first two selected\n",
    "channels. For example, if channels 1 and 3 are selected with *spw*, then\n",
    "the default width will be the difference between their frequencies, and\n",
    "not the width of channel 1. Similarly, if the selected data has uneven\n",
    "channel-spacing, the default width will be picked from the first two\n",
    "selected channels. In this case, please specify the desired width. When\n",
    "specifying the width, one must give units. examples: *width='1.0km/s'*,\n",
    "or *width='24.2kHz'*. Setting *width\\>0* gives channels of increasing\n",
    "frequency for *mode='frequency'*, and increasing velocity for\n",
    "*mode='velocity'*.\n",
    "\n"
   ]
  },
  {
   "cell_type": "markdown",
   "metadata": {},
   "source": [
    "##### &nbsp;&nbsp;&nbsp; *interpolation*\n",
    "\n",
    "&nbsp;&nbsp;&nbsp; Interpolation type for spectral gridding onto the\n",
    "uv-plane. Options: 'nearest', 'linear', or 'cubic'.  \n",
    "&nbsp;&nbsp;&nbsp;&nbsp;&nbsp;&nbsp;&nbsp; default = 'linear'\n",
    "\n",
    "**NOTE**: 'linear' and 'cubic' interpolation requires data points on\n",
    "both sides of each image frequency. Errors are therefore possible at\n",
    "edge channels, or near flagged data channels. When image channel width\n",
    "is much larger than the data channel width there is nothing much to be\n",
    "gained using linear or cubic thus not worth the extra computation\n",
    "involved.\n",
    "\n"
   ]
  },
  {
   "cell_type": "markdown",
   "metadata": {},
   "source": [
    "##### &nbsp;&nbsp;&nbsp; *resmooth*\n",
    "\n",
    "&nbsp;&nbsp;&nbsp; If the cube has a different restoring beam/channel.\n",
    "Restore image to a common beam or leave as is; (default) options: True\n",
    "or False  \n",
    "&nbsp;&nbsp;&nbsp;&nbsp;&nbsp;&nbsp;&nbsp; default = False\n",
    "\n"
   ]
  },
  {
   "cell_type": "markdown",
   "metadata": {},
   "source": [
    "##### &nbsp;&nbsp;&nbsp; *chaniter*\n",
    "\n",
    "&nbsp;&nbsp;&nbsp; Specify how spectral CLEAN is performed,  \n",
    "&nbsp;&nbsp;&nbsp;&nbsp;&nbsp;&nbsp;&nbsp; default: *chaniter=False*;\n",
    "example: *chaniter=True*; step through channels\n",
    "\n"
   ]
  },
  {
   "cell_type": "markdown",
   "metadata": {},
   "source": [
    "##### &nbsp;&nbsp;&nbsp; *outframe*\n",
    "\n",
    "&nbsp;&nbsp;&nbsp; For *mode='velocity'*, 'frequency', or 'channel':\n",
    "default spectral reference frame of output image; Options:\n",
    "'','LSRK','LSRD','BARY','GEO','TOPO','GALACTO', ''LGROUP','CMB'  \n",
    "&nbsp;&nbsp;&nbsp;&nbsp;&nbsp;&nbsp;&nbsp; default: ''; same as input\n",
    "data; example: *frame='bary'* for Barycentric frame\n",
    "\n"
   ]
  },
  {
   "cell_type": "markdown",
   "metadata": {},
   "source": [
    "##### &nbsp;&nbsp;&nbsp; *veltype*\n",
    "\n",
    "&nbsp;&nbsp;&nbsp; For *mode='velocity'* gives the velocity\n",
    "definition;&nbsp; Options: 'radio','optical'  \n",
    "&nbsp;&nbsp;&nbsp;&nbsp;&nbsp;&nbsp;&nbsp; default: 'radio'\n",
    "\n",
    "**NOTE**: The viewer always defaults to displaying the 'radio' frame,\n",
    "but that can be changed in the position tracking pull down.\n",
    "\n",
    "&nbsp;&nbsp;&nbsp; *mode='channel'* examples:  \n",
    "&nbsp;&nbsp;&nbsp;&nbsp;&nbsp;&nbsp;&nbsp; *spw = '0'*; *mode =\n",
    "'channel'*: *nchan=3*; *start=5*; *width=4* will produce an image with 3\n",
    "output planes: plane 1 contains data from channels (5+6+7+8), plane 2\n",
    "contains data from channels (9+10+11+12), plane 3 contains data from\n",
    "channels (13+14+15+16)  \n",
    "&nbsp;&nbsp;&nbsp;&nbsp;&nbsp;&nbsp;&nbsp; *spw = '0:0\\~63^3'*;\n",
    "*mode='channel'*; *nchan=21*; *start = 0*; *width = 1* will produce an\n",
    "image with 20 output planes: plane 1 contains data from channel 0, plane\n",
    "2 contains date from channel 2, plane 21 contains data from channel 61  \n",
    "&nbsp;&nbsp;&nbsp;&nbsp;&nbsp;&nbsp;&nbsp; *spw = '0:0\\~40^2'*; *mode =\n",
    "'channel'*; *nchan = 3*; *start = 5*; *width = 4* will produce an image\n",
    "with three output planes: plane 1 contains channels (5,7), plane 2\n",
    "contains channels (13,15), plane 3 contains channels (21,23)\n",
    "\n",
    "&nbsp;\n",
    "\n"
   ]
  },
  {
   "cell_type": "markdown",
   "metadata": {},
   "source": [
    "##### *psfmode*\n",
    "\n",
    "method of PSF calculation to use during minor cycles:  \n",
    "&nbsp;&nbsp;&nbsp; default: 'clark': Options: 'clark','clarkstokes',\n",
    "'hogbom'  \n",
    "&nbsp;&nbsp;&nbsp; &nbsp; &nbsp;&nbsp; 'clark'&nbsp; use smaller beam\n",
    "(faster, usually good enough); for stokes images clean components peaks\n",
    "are searched in the I^2+Q^2+U^2+V^2 domain  \n",
    "&nbsp;&nbsp;&nbsp;&nbsp;&nbsp;&nbsp;&nbsp;&nbsp; 'clarkstokes' locate\n",
    "clean components independently in each stokes image  \n",
    "&nbsp;&nbsp;&nbsp;&nbsp;&nbsp;&nbsp;&nbsp;&nbsp; 'hogbom' full-width of\n",
    "image (slower, better for poor uv-coverage)\n",
    "\n",
    "**NOTE**:&nbsp; *psfmode* will also be used to clean if *imagermode =\n",
    "''*.\n",
    "\n"
   ]
  },
  {
   "cell_type": "markdown",
   "metadata": {},
   "source": [
    "##### *imagermode*\n",
    "\n",
    "Advanced imaging e.g. mosaic or Cotton-Schwab clean  \n",
    "&nbsp;&nbsp;&nbsp; default: *imagermode='csclean'*: Options: '',\n",
    "'csclean', 'mosaic'  \n",
    "&nbsp;&nbsp;&nbsp;&nbsp;&nbsp;&nbsp;&nbsp;&nbsp; ''&nbsp; =\\> psfmode\n",
    "cleaning algorithm used\n",
    "\n",
    "**NOTE**: *imagermode* 'mosaic' (and/or) any *gridmode* not blank\n",
    "(and/or) *nterms\\>1* : will always use CS style clean.\n",
    "\n"
   ]
  },
  {
   "cell_type": "markdown",
   "metadata": {},
   "source": [
    "#### *&nbsp;&nbsp;&nbsp; imagermode='mosaic'* expandable parameter(s)\n",
    "\n",
    "&nbsp;&nbsp;&nbsp; Make a mosaic of the different pointings (uses\n",
    "csclean style too)\n",
    "\n"
   ]
  },
  {
   "cell_type": "markdown",
   "metadata": {},
   "source": [
    "##### &nbsp;&nbsp;&nbsp; *mosweight*\n",
    "\n",
    "&nbsp;&nbsp;&nbsp; Individually weight the fields of the mosaic.\n",
    "Default: *mosweight = False*; Example: *mosweight = True*, this performs\n",
    "the weight density calculation for each field indepedently when using\n",
    "Briggs (including uniform) weighting. This can be useful if some of your\n",
    "fields are more sensitive than others (i.e. due to time spent on-source)\n",
    "or if you have relatively poor uv-coverage (e.g., snap-shot). If\n",
    "*False*, the weight density is calculated from the average uv\n",
    "distribution of all the fields.\n",
    "\n"
   ]
  },
  {
   "cell_type": "markdown",
   "metadata": {},
   "source": [
    "##### &nbsp;&nbsp;&nbsp; *ftmachine*\n",
    "\n",
    "&nbsp;&nbsp;&nbsp; Gridding method for the mosaic; Options: 'mosaic' ,\n",
    "'ft' or 'wproject'. default: 'mosaic'; 'ft' or 'wproject' implies\n",
    "standard interferometric 2D or widefield gridding. The residual\n",
    "visibilities are imaged for each pointing and combined in the image\n",
    "plane with the appropriate PB to make the mosaic. 'mosaic' (grid using\n",
    "the Fourier transform of PB as convolution function and mosaic\n",
    "combination is done in visibilities). ONLY if *imagermode='mosaic'* is\n",
    "chosen and *ftmachine='mosaic'*, is heterogeneous imaging (CARMA, ALMA)\n",
    "or wideband beam accounting possible using the right convolution derived\n",
    "from primary beams for each baseline and for different frequencies\n",
    "\n",
    "**NOTE**: *ftmachine='mosaic'* uses Fourier transforms of the primary\n",
    "beams/pointing for mosaicing. Making an image which is too small for the\n",
    "pointing coverages will cause aliasing due to standard Fourier transform\n",
    "wrap around.\n",
    "\n"
   ]
  },
  {
   "cell_type": "markdown",
   "metadata": {},
   "source": [
    "##### &nbsp;&nbsp;&nbsp; *scaletype*\n",
    "\n",
    "&nbsp;&nbsp;&nbsp; Controls scaling of pixels in the image plane.\n",
    "(controls what is seen if *interactive=True*) It does \\*not\\* affect the\n",
    "scaling of the \\*final\\* image that is done by *pbcor*. default='SAULT';\n",
    "example: *scaletype='PBCOR'*; Options: 'PBCOR','SAULT'. 'SAULT' when\n",
    "*interactive=True* shows the residual with constant noise across the\n",
    "mosaic. Can also be achieved by setting *pbcor=False*. 'PBCOR' uses the\n",
    "SAULT scaling scheme for deconvolution, but if *interactive=True* shows\n",
    "the primary beam corrected image during interactive.\n",
    "\n"
   ]
  },
  {
   "cell_type": "markdown",
   "metadata": {},
   "source": [
    "##### &nbsp;&nbsp;&nbsp; *cyclefactor*\n",
    "\n",
    "&nbsp;&nbsp;&nbsp; Controls the threshhold at which the deconvolution\n",
    "cycle will pause to degrid and subtract the model from the visibilities.\n",
    "With poor PSFs, reconcile often (*cyclefactor=4* or *5*) for\n",
    "reliability. With good PSFs, use *cyclefactor = 1.5* to *2.0* for\n",
    "speed.&nbsp;&nbsp;&nbsp;&nbsp;&nbsp;&nbsp;&nbsp;&nbsp;&nbsp;&nbsp;&nbsp;&nbsp;&nbsp;&nbsp;&nbsp;\n",
    "\n",
    "**NOTE**: *threshold* = *cyclefactor* \\* max sidelobe \\* max residual\n",
    "\n",
    "&nbsp;&nbsp;&nbsp;&nbsp;&nbsp;&nbsp;&nbsp; default: 1.5; example:\n",
    "*cyclefactor=4*\n",
    "\n"
   ]
  },
  {
   "cell_type": "markdown",
   "metadata": {},
   "source": [
    "##### &nbsp;&nbsp;&nbsp; *cyclespeedup*\n",
    "\n",
    "&nbsp;&nbsp;&nbsp; The major cycle threshold doubles in this number of\n",
    "iterations.  \n",
    "&nbsp;&nbsp;&nbsp;&nbsp;&nbsp;&nbsp;&nbsp; default: -1 (no doubling);\n",
    "example: *cyclespeedup=3*; Try *cyclespeedup = 50* to speed up cleaning.\n",
    "\n"
   ]
  },
  {
   "cell_type": "markdown",
   "metadata": {},
   "source": [
    "##### &nbsp;&nbsp;&nbsp; flatnoise\n",
    "\n",
    "&nbsp;&nbsp;&nbsp; Controls whether searching for clean components is\n",
    "done in a constant noise residual image (True) or in an optimal\n",
    "signal-to-noise residual image (False) when *ftmosaic='mosaic'* is\n",
    "chosen. default=True\n",
    "\n"
   ]
  },
  {
   "cell_type": "markdown",
   "metadata": {},
   "source": [
    "#### &nbsp;&nbsp; *imagermode='csclean'* expandable parameter(s)\n",
    "\n",
    "&nbsp;&nbsp;&nbsp; Image using the Cotton-Schwab algorithm in between\n",
    "major cycles.\n",
    "\n"
   ]
  },
  {
   "cell_type": "markdown",
   "metadata": {},
   "source": [
    "##### &nbsp;&nbsp;&nbsp; *cyclefactor*\n",
    "\n",
    "&nbsp;&nbsp;&nbsp; See above, under *imagermode='mosaic'*.\n",
    "\n"
   ]
  },
  {
   "cell_type": "markdown",
   "metadata": {},
   "source": [
    "##### &nbsp;&nbsp;&nbsp; *cyclespeedup*\n",
    "\n",
    "&nbsp;&nbsp;&nbsp; See above, under *imagermode='mosaic'*.\n",
    "\n",
    "&nbsp;\n",
    "\n"
   ]
  },
  {
   "cell_type": "markdown",
   "metadata": {},
   "source": [
    "##### *gridmode*\n",
    "\n",
    "This parameter is now provided to access more advanced deconvolution\n",
    "capabilities.\n",
    "\n"
   ]
  },
  {
   "cell_type": "markdown",
   "metadata": {},
   "source": [
    "#### &nbsp;&nbsp;&nbsp; *gridmode=''* expandable parameters\n",
    "\n",
    "&nbsp;&nbsp;&nbsp; The default value of '' has no effect.\n",
    "\n"
   ]
  },
  {
   "cell_type": "markdown",
   "metadata": {},
   "source": [
    "#### &nbsp;&nbsp;&nbsp; *gridmode='widefield'* expandable parameters\n",
    "\n",
    "&nbsp;&nbsp;&nbsp; Apply corrections for non-coplanar effects during\n",
    "imaging using the W-Projection algorithm\n",
    "<a href=\"#cit2\" id=\"ref-cit2\" class=\"ref-cit\">[2]</a> or faceting or a\n",
    "combination of the two.\n",
    "\n"
   ]
  },
  {
   "cell_type": "markdown",
   "metadata": {},
   "source": [
    "##### &nbsp;&nbsp;&nbsp; *wprojplanes*\n",
    "\n",
    "&nbsp;&nbsp;&nbsp; The number of pre-computed w-planes used for the\n",
    "W-Projection algorithm. *wprojplanes=1* disables correction for\n",
    "non-coplanar effects. default value *wprojpanes=-1* means **clean** will\n",
    "determine the number to use.\n",
    "\n"
   ]
  },
  {
   "cell_type": "markdown",
   "metadata": {},
   "source": [
    "##### &nbsp;&nbsp;&nbsp; *facets*\n",
    "\n",
    "&nbsp;&nbsp;&nbsp; The number of facets on each side of the image (i.e.\n",
    "the total number of facets is 'facets x facets'). If wprojplanes\\>1,\n",
    "W-Projection is done for each facet. Usually when many wprojection\n",
    "convolution functions sizes are&nbsp; above \\~400 pixels, it might be\n",
    "faster to use a few facets with wprojection.\n",
    "\n"
   ]
  },
  {
   "cell_type": "markdown",
   "metadata": {},
   "source": [
    "#### &nbsp;&nbsp;&nbsp; *gridmode='aprojection'* expandable parameters\n",
    "\n",
    "&nbsp;&nbsp;&nbsp; Corrects for the (E)VLA time-varying PB effects\n",
    "including polarization squint using the A-Projection algorithm\n",
    "<a href=\"#cit3\" id=\"ref-cit3\" class=\"ref-cit\">[3]</a>. This can\n",
    "optinally include w-projection also.\n",
    "\n"
   ]
  },
  {
   "cell_type": "markdown",
   "metadata": {},
   "source": [
    "##### &nbsp;&nbsp;&nbsp; *wprojplanes*\n",
    "\n",
    "&nbsp;&nbsp;&nbsp; The number of pre-computed w-planes used for\n",
    "W-Projection algorithm. *wprojplanes=1* disables correction for\n",
    "non-coplanar effects.\n",
    "\n"
   ]
  },
  {
   "cell_type": "markdown",
   "metadata": {},
   "source": [
    "##### &nbsp;&nbsp;&nbsp; *cfcache*\n",
    "\n",
    "&nbsp;&nbsp;&nbsp; The name of the directory to store the convolution\n",
    "functions and weighted sensitivty pattern function. These functions can\n",
    "be reused again if the image parameters are unchanged. If the image\n",
    "parameters change, a new cache must be created (or the existing one\n",
    "removed).\n",
    "\n"
   ]
  },
  {
   "cell_type": "markdown",
   "metadata": {},
   "source": [
    "##### &nbsp;&nbsp;&nbsp; *rotpainc*\n",
    "\n",
    "&nbsp;&nbsp;&nbsp; The Parallactic Angle increment (in degrees) used for\n",
    "OTF rotation of the convolution function.\n",
    "\n"
   ]
  },
  {
   "cell_type": "markdown",
   "metadata": {},
   "source": [
    "##### &nbsp;&nbsp;&nbsp; *painc*\n",
    "\n",
    "*&nbsp;&nbsp;&nbsp;* The Parallactic Angle increment (in degrees) used\n",
    "to compute the convolution functions*.*  \n",
    "&nbsp;\n",
    "\n"
   ]
  },
  {
   "cell_type": "markdown",
   "metadata": {},
   "source": [
    "##### *multiscale*\n",
    "\n",
    "set of scales to use in deconvolution. If set, cleans with several\n",
    "resolutions using Hogbom clean. The scale sizes are in units of\n",
    "cellsize. So if *cell='2arcsec'*, a multiscale *scale=10* =\\> 20arcsec.\n",
    "The first scale is recommended to&nbsp; be 0 (point), we suggest the\n",
    "second be on the order of synthesized beam, the third 3-5 times the\n",
    "synthesized beam, etc.. Avoid making the largest scale too large\n",
    "relative to the image width or the scale of the lowest measured spatial\n",
    "frequency.&nbsp; For example, if the synthesized beam is 10\" FWHM and\n",
    "*cell='2',* try *multiscale = \\[0,5,15\\]*. default: *multiscale=\\[\\]*\n",
    "(standard **clean** with psfmode algorithm, no multi-scale). Example:\n",
    "*multiscale = \\[0,5,15\\]*\n",
    "\n"
   ]
  },
  {
   "cell_type": "markdown",
   "metadata": {},
   "source": [
    "#### &nbsp;&nbsp;&nbsp; *multiscale* expandable parameter(s)\n",
    "\n"
   ]
  },
  {
   "cell_type": "markdown",
   "metadata": {},
   "source": [
    "##### &nbsp;&nbsp;&nbsp; *negcomponent*\n",
    "\n",
    "&nbsp;&nbsp;&nbsp; Stop component search when the largest scale has\n",
    "found this number of negative components; -1 means continue component\n",
    "search even if the largest component is negative. default: -1; example:\n",
    "*negcomponent=50*\n",
    "\n"
   ]
  },
  {
   "cell_type": "markdown",
   "metadata": {},
   "source": [
    "##### &nbsp;&nbsp;&nbsp; *smallscalebias*\n",
    "\n",
    "&nbsp;&nbsp;&nbsp; A bias toward smaller scales. The peak flux found at\n",
    "each scale is weighted by a factor = 1 -\n",
    "smallscalebias\\*scale/max_scale, so that Fw = F\\*factor. Typically the\n",
    "values range from 0.2 to 1.0. default: 0.6\n",
    "\n",
    "&nbsp;\n",
    "\n"
   ]
  },
  {
   "cell_type": "markdown",
   "metadata": {},
   "source": [
    "##### *imsize*\n",
    "\n",
    "Image size in pixels (x, y). DOES NOT HAVE TO BE A POWER OF 2 (but has\n",
    "to be even and factorizable to 2,3,5,7 only). default = \\[256,256\\];\n",
    "examples: *imsize=\\[350,350\\]*, *imsize = 500* is equivalent to\n",
    "\\[500,500\\]. If include outlier fields, e.g.,\n",
    "\\[\\[400,400\\],\\[100,100\\]\\] or use *outlierfile*. Avoid odd-numbered\n",
    "imsize.\n",
    "\n"
   ]
  },
  {
   "cell_type": "markdown",
   "metadata": {},
   "source": [
    "##### *cell*\n",
    "\n",
    "Cell size (x,y). default= '1.0arcsec'; examples:\n",
    "*cell=\\['0.5arcsec,'0.5arcsec'\\]*, *cell=\\['1arcmin', '1arcmin'\\]*,\n",
    "*cell = '1arcsec'* is equivalent to \\['1arcsec','1arcsec'\\], *cell =\n",
    "2.0* is equivalent to \\['2arcsec', '2arcsec'\\]\n",
    "\n"
   ]
  },
  {
   "cell_type": "markdown",
   "metadata": {},
   "source": [
    "##### *phasecenter*\n",
    "\n",
    "Direction measure or fieldid for the mosaic center. default: '' = first\n",
    "field selected; examples: *phasecenter=6, phasecenter='J2000 19h30m00\n",
    "-40d00m00', phasecenter='J2000 292.5deg&nbsp; -40.0deg',\n",
    "phasecenter='J2000 5.105rad&nbsp; -0.698rad'*. If include outlier\n",
    "fields, e.g. \\['J2000 19h30m00 -40d00m00',J2000 19h25m00 -38d40m00'\\] or\n",
    "use *outlierfile*.\n",
    "\n"
   ]
  },
  {
   "cell_type": "markdown",
   "metadata": {},
   "source": [
    "##### *restfreq*\n",
    "\n",
    "Specify rest frequency to use for output image. default='' Occasionally\n",
    "it is necessary to set this (for example some VLA spectral line data).\n",
    "For example, for NH_3 (1,1) put *restfreq='23.694496GHz'*\n",
    "\n"
   ]
  },
  {
   "cell_type": "markdown",
   "metadata": {},
   "source": [
    "##### *stokes*\n",
    "\n",
    "Stokes parameters to image. default='I'; example: *stokes='IQUV'*;\n",
    "Options:\n",
    "'I','Q','U','V','IV','QU','IQ','UV','IQU','IUV','IQUV','RR','LL','XX','YY','RRLL','XXYY'\n",
    "\n"
   ]
  },
  {
   "cell_type": "markdown",
   "metadata": {},
   "source": [
    "##### *niter*\n",
    "\n",
    "Maximum number iterations. If *niter=0*, then no cleaning is done\n",
    "(\"invert\" only). (*niter=0* can be used instead of the 'ft' task to\n",
    "predict/save a model) For cube or multi field images, *niter* is the\n",
    "maximum number of iteration **clean** will use for each image plane. The\n",
    "number of iterations used may be less that *niter* if *threshold* value\n",
    "is reached. default: 500; example: *niter=5000*\n",
    "\n"
   ]
  },
  {
   "cell_type": "markdown",
   "metadata": {},
   "source": [
    "##### *gain*\n",
    "\n",
    "Loop gain for CLEANing. default: 0.1; example: *gain=0.5*\n",
    "\n"
   ]
  },
  {
   "cell_type": "markdown",
   "metadata": {},
   "source": [
    "##### *threshold*\n",
    "\n",
    "Flux level at which to stop CLEANing. default: '0.0mJy'; examples:\n",
    "*threshold='2.3mJy'*&nbsp; (always include units), *threshold =\n",
    "'0.0023Jy', threshold = '0.0023Jy/beam'* (okay also)\n",
    "\n"
   ]
  },
  {
   "cell_type": "markdown",
   "metadata": {},
   "source": [
    "##### *interactive*\n",
    "\n",
    "Use interactive **clean** (with GUI viewer). Interactive **clean**\n",
    "allows the user to build the cleaning mask interactively using the\n",
    "viewer. The viewer will appear every *npercycle* interation, but modify\n",
    "as needed. The final interactive mask is saved in the file\n",
    "imagename_interactive.mask. The initial masks use the union of mask and\n",
    "cleanbox (see below). default: *interactive=False*; example:\n",
    "*interactive=True*  \n",
    "&nbsp;&nbsp;&nbsp;\n",
    "\n"
   ]
  },
  {
   "cell_type": "markdown",
   "metadata": {},
   "source": [
    "#### &nbsp;&nbsp;&nbsp; *interactive=True* expandable parameters\n",
    "\n"
   ]
  },
  {
   "cell_type": "markdown",
   "metadata": {},
   "source": [
    "##### &nbsp;&nbsp;&nbsp; *npercycle*\n",
    "\n",
    "&nbsp;&nbsp;&nbsp; This is the number of iterations between each\n",
    "interactive update of the mask. It is important to modify this number\n",
    "interactively during the cleaning, starting with a low number like 20,\n",
    "but then increasing as more extended emission is encountered.\n",
    "\n"
   ]
  },
  {
   "cell_type": "markdown",
   "metadata": {},
   "source": [
    "##### &nbsp;&nbsp;&nbsp; *mask*\n",
    "\n",
    "&nbsp;&nbsp;&nbsp; Specification of cleanbox(es), mask image(s), primary\n",
    "beam coverage level, and/or region(s) to be used for cleaning. **clean**\n",
    "tends to perform better, and is less likely to diverge, if the **clean**\n",
    "component placement is limited by a mask to where real emission is\n",
    "expected to be. As long as the image has the same shape (size), mask\n",
    "images (e.g. from a previous interactive session) can be used for a new\n",
    "execution.&nbsp;\n",
    "\n",
    "**NOTE**: The initial clean mask actually used is the union of what is\n",
    "specified in mask and \\<imagename\\>.mask.\n",
    "\n",
    "&nbsp;&nbsp;&nbsp;&nbsp;&nbsp;&nbsp;&nbsp; default: \\[\\] or '' : no\n",
    "masking; Possible specification types:  \n",
    "&nbsp;&nbsp;&nbsp;&nbsp;&nbsp;&nbsp;&nbsp;&nbsp;&nbsp;&nbsp;&nbsp; (a)\n",
    "Cleanboxes, specified using the CASA region format\n",
    "(<http://casaguides.nrao.edu/index.php?title=CASA_Region_Format>)  \n",
    "&nbsp;&nbsp;&nbsp;&nbsp;&nbsp;&nbsp;&nbsp;&nbsp;&nbsp;&nbsp;&nbsp;\n",
    "examples: *mask='box \\[ \\[ 100pix , 130pix\\] , \\[120pix, 150pix \\] \\]'*,\n",
    "*mask='circle \\[ \\[ 120pix , 40pix\\] ,6pix \\]'*,\n",
    "*mask='circle\\[\\[19h58m52.7s,+40d42m06.04s \\], 30.0arcsec\\]'*  \n",
    "&nbsp;&nbsp;&nbsp;&nbsp;&nbsp;&nbsp;&nbsp;&nbsp;&nbsp;&nbsp;&nbsp; If\n",
    "used with a spectral cube, it will apply to all channels.  \n",
    "&nbsp;&nbsp;&nbsp;&nbsp;&nbsp;&nbsp;&nbsp;&nbsp;&nbsp;&nbsp;&nbsp;\n",
    "Multiple regions may be specified as a list of pixel ranges.  \n",
    "&nbsp;&nbsp;&nbsp;&nbsp;&nbsp;&nbsp;&nbsp;&nbsp;&nbsp;&nbsp;&nbsp;\n",
    "examples: *mask= \\['circle \\[ \\[ 120pix , 40pix\\] ,6pix \\]', 'box \\[ \\[\n",
    "100pix , 130pix\\] , \\[120pix, 150pix \\] \\]' \\]*  \n",
    "&nbsp;&nbsp;&nbsp;&nbsp;&nbsp;&nbsp;&nbsp;&nbsp;&nbsp;&nbsp;&nbsp; (b)\n",
    "Filename with cleanbox shapes defined using the CASA region format.  \n",
    "&nbsp;&nbsp;&nbsp;&nbsp;&nbsp;&nbsp;&nbsp;&nbsp;&nbsp;&nbsp;&nbsp;\n",
    "example: *mask='mycleanbox.txt';* The file 'mycleanbox.txt' contains:\n",
    "\n",
    "    box [ [ 100pix , 130pix ] , [ 120pix, 150pix ] ]\n",
    "    circle [ [ 150pix , 150pix] ,10pix ]\n",
    "    rotbox [ [ 60pix , 50pix ] , [ 30pix , 30pix ] , 30deg ]\n",
    "\n",
    "&nbsp;&nbsp;&nbsp;&nbsp;&nbsp;&nbsp;&nbsp;&nbsp;&nbsp;&nbsp;&nbsp;&nbsp;\n",
    "(c) Filename for image mask. example: *mask='myimage.mask'*  \n",
    "&nbsp;&nbsp;&nbsp;&nbsp;&nbsp;&nbsp;&nbsp;&nbsp;&nbsp;&nbsp;&nbsp;&nbsp;\n",
    "Multiple mask files may be specified.  \n",
    "&nbsp;&nbsp;&nbsp;&nbsp;&nbsp;&nbsp;&nbsp;&nbsp;&nbsp;&nbsp;&nbsp;&nbsp;\n",
    "example: *mask=\\[ 'mask1.mask', 'mask2.mask' \\]*  \n",
    "&nbsp;&nbsp;&nbsp;&nbsp;&nbsp;&nbsp;&nbsp;&nbsp;&nbsp;&nbsp;&nbsp;&nbsp;\n",
    "(d) Filename for region specification (e.g. from **viewer**).  \n",
    "&nbsp;&nbsp;&nbsp;&nbsp;&nbsp;&nbsp;&nbsp;&nbsp;&nbsp;&nbsp;&nbsp;&nbsp;\n",
    "example: *mask='myregion.rgn'*  \n",
    "&nbsp;&nbsp;&nbsp;&nbsp;&nbsp;&nbsp;&nbsp;&nbsp;&nbsp;&nbsp;&nbsp;&nbsp;\n",
    "(e) Combinations of the above options.  \n",
    "&nbsp;&nbsp;&nbsp;&nbsp;&nbsp;&nbsp;&nbsp;&nbsp;&nbsp;&nbsp;&nbsp;&nbsp;\n",
    "example: *mask=\\['mycleanbox.txt', 'myimage.mask',\n",
    "'myregion.rgn','circle \\[ \\[ 120pix , 40pix\\] ,6pix \\]'\\]*  \n",
    "&nbsp;&nbsp;&nbsp;&nbsp;&nbsp;&nbsp;&nbsp;&nbsp;&nbsp;&nbsp;&nbsp;&nbsp;\n",
    "(f) Threshold on primary-beam.  \n",
    "&nbsp;&nbsp;&nbsp;&nbsp;&nbsp;&nbsp;&nbsp;&nbsp;&nbsp;&nbsp;&nbsp;&nbsp;\n",
    "A number between 0 and 1, used as a threshhold of primary beam coverage.\n",
    "The primary beam coverage map (imagename + '.flux(.pbcoverage)') will be\n",
    "made and the clean component placement will be limited to where it is \\>\n",
    "the number.  \n",
    "&nbsp;&nbsp;&nbsp;&nbsp;&nbsp;&nbsp;&nbsp;&nbsp;&nbsp;&nbsp;&nbsp;&nbsp;\n",
    "(g) True or False.  \n",
    "&nbsp;&nbsp;&nbsp;&nbsp;&nbsp;&nbsp;&nbsp;&nbsp;&nbsp;&nbsp;&nbsp;&nbsp;\n",
    "True: like (f), but use *minpb* as the number.  \n",
    "&nbsp;&nbsp;&nbsp;&nbsp;&nbsp;&nbsp;&nbsp;&nbsp;&nbsp;&nbsp;&nbsp;&nbsp;\n",
    "False: go maskless (and expect trouble).  \n",
    "&nbsp;&nbsp;&nbsp;&nbsp;&nbsp;&nbsp;&nbsp;&nbsp;&nbsp;&nbsp;&nbsp;&nbsp;\n",
    "(For masks for multiple fields, please see 'HINTS ON CLEAN WITH FLANKING\n",
    "FIELDS')\n",
    "\n",
    "&nbsp;\n",
    "\n"
   ]
  },
  {
   "cell_type": "markdown",
   "metadata": {},
   "source": [
    "##### *uvtaper*\n",
    "\n"
   ]
  },
  {
   "cell_type": "markdown",
   "metadata": {},
   "source": [
    "#### Apply additional uv tapering of the visibilities. default: *uvtaper=False*; example: *uvtaper=True*  &nbsp;&nbsp;&nbsp; *uvtaper=True* expandable parameters\n",
    "\n"
   ]
  },
  {
   "cell_type": "markdown",
   "metadata": {},
   "source": [
    "##### &nbsp;&nbsp;&nbsp; *outertaper*\n",
    "\n",
    "&nbsp;&nbsp;&nbsp; uv-taper on outer baselines in uv-plane, \\[bmaj,\n",
    "bmin, bpa\\] taper Gaussian scale in uv or angular units.\n",
    "\n",
    "**NOTE**: The on-sky FWHM in arcsec is roughly the *uvtaper* / 200\n",
    "(klambda).\n",
    "\n",
    "&nbsp;&nbsp;&nbsp;&nbsp; default: *outertaper=\\[\\]*; no outer taper\n",
    "applied; examples: *outertaper=\\['5klambda'\\]* circular taper FWHM=5\n",
    "kilo-lambda, *outertaper=\\['5klambda','3klambda','45.0deg'\\]*,\n",
    "*outertaper=\\['10arcsec'\\]* on-sky FWHM 10 arcseconds,\n",
    "*outertaper=\\['300.0'\\]* default units are lambda in aperture plane\n",
    "\n",
    "&nbsp;\n",
    "\n"
   ]
  },
  {
   "cell_type": "markdown",
   "metadata": {},
   "source": [
    "##### *modelimage*\n",
    "\n",
    "Name of model image(s) to initialize cleaning. If multiple images, then\n",
    "these will be added together to form initial staring model.\n",
    "\n",
    "**NOTE**: these are in addition to any initial model in the\n",
    "\\<imagename\\>.model image file.\n",
    "\n",
    "&nbsp;&nbsp;&nbsp; default: '' (none); examples:\n",
    "*modelimage='orion.model'*,\n",
    "*modelimage=\\['orion.model','sdorion.image'\\]*\n",
    "\n",
    "**NOTE**: If the units in the image are Jy/beam as in a single-dish\n",
    "image, then it will be converted to Jy/pixel as in a model image, using\n",
    "the restoring beam in the image header and zeroing negatives. If the\n",
    "image is in Jy/pixel then it is taken as is.\n",
    "\n",
    "&nbsp;&nbsp;&nbsp; When *nterms\\>1*, a one-to-one mapping is done\n",
    "between images in this list and Taylor-coefficients. If more than\n",
    "*nterms* images are specified, only the first *nterms* are used. It is\n",
    "valid to supply fewer than *nterms* model images. Example: Supply an\n",
    "estimate of the continuum flux from a previous imaging run.\n",
    "\n"
   ]
  },
  {
   "cell_type": "markdown",
   "metadata": {},
   "source": [
    "##### *weighting*\n",
    "\n",
    "Weighting to apply to visibilities. default='natural'; example:\n",
    "*weighting='uniform'*; Options: 'natural','uniform','briggs',\n",
    "'superuniform','briggsabs','radial'\n",
    "\n"
   ]
  },
  {
   "cell_type": "markdown",
   "metadata": {},
   "source": [
    "#### &nbsp;&nbsp;&nbsp; *weighting* expandable parameters\n",
    "\n",
    "&nbsp;&nbsp;&nbsp; For details on weighting please see Chapter3 of late\n",
    "Dr. Brigg's thesis (http://www.aoc.nrao.edu/dissertations/dbriggs)\n",
    "\n",
    "&nbsp;&nbsp;&nbsp; For *weighting='briggs'* and *'briggsabs'*:\n",
    "\n"
   ]
  },
  {
   "cell_type": "markdown",
   "metadata": {},
   "source": [
    "##### &nbsp;&nbsp;&nbsp;&nbsp;&nbsp;&nbsp;&nbsp; *robust*\n",
    "\n",
    "&nbsp;&nbsp;&nbsp;&nbsp;&nbsp;&nbsp;&nbsp; Brigg's robustness parameter.\n",
    "default=0.0; example: robust=0.5; Options: -2.0 to 2.0; -2 (uniform)/+2\n",
    "(natural)\n",
    "\n"
   ]
  },
  {
   "cell_type": "markdown",
   "metadata": {},
   "source": [
    "##### *&nbsp;&nbsp;&nbsp;&nbsp;&nbsp;&nbsp;&nbsp; npixels*\n",
    "\n",
    "&nbsp;&nbsp;&nbsp;&nbsp;&nbsp;&nbsp;&nbsp; uv-box used for weight\n",
    "calculation a box going from -npixel/2 to +npixel/2 on each side around\n",
    "a point is used to calculate weight density. 0 means box is pixel size.\n",
    "default = 0; example: *npixels=2*\n",
    "\n",
    "**EXEMPTION**: When choosing superuniform, it does not make sense to use\n",
    "npixels=0 as it is uniform thus if npixels is 0, it will be forced to 6\n",
    "or a box from -3pixels to 3pixels.\n",
    "\n",
    "&nbsp;&nbsp;&nbsp; For *weighting='briggsabs'*\n",
    "\n"
   ]
  },
  {
   "cell_type": "markdown",
   "metadata": {},
   "source": [
    "##### &nbsp;&nbsp;&nbsp;&nbsp;&nbsp;&nbsp;&nbsp; *noise*\n",
    "\n",
    "&nbsp;&nbsp;&nbsp;&nbsp;&nbsp;&nbsp;&nbsp; noise parameter to use for\n",
    "Briggs \"abs\" weighting. example:\n",
    "*noise='1.0mJy'*&nbsp;&nbsp;&nbsp;&nbsp;&nbsp; *  \n",
    "*\n",
    "\n",
    "&nbsp;\n",
    "\n"
   ]
  },
  {
   "cell_type": "markdown",
   "metadata": {},
   "source": [
    "##### *restoringbeam*\n",
    "\n",
    "Output Gaussian restoring beam for clean image, \\[bmaj, bmin, bpa\\]\n",
    "elliptical Gaussian restoring beam. Default units are in arc-seconds for\n",
    "bmaj,bmin, degrees for bpa. default: *restoringbeam=\\[\\]*; Use PSF\n",
    "calculated from dirty beam. examples: *restoringbeam=\\['10arcsec'\\]*\n",
    "circular Gaussian FWHM 10 arcseconds,\n",
    "*restoringbeam=\\['10.0','5.0','45.0deg'\\]* 10\"x5\" at 45 degrees\n",
    "\n"
   ]
  },
  {
   "cell_type": "markdown",
   "metadata": {},
   "source": [
    "##### *pbcor*\n",
    "\n",
    "Output primary beam-corrected image. If *pbcor=False*, the final output\n",
    "image is NOT corrected for the PB pattern (particularly important for\n",
    "mosaics), and therefore is not \"flux correct\". Correction can also be\n",
    "done after the fact using immath to divide \\<imagename\\>.image by the\n",
    "\\<imagename\\>.flux image. default: *pbcor=False*, output un-corrected\n",
    "image; example: *pbcor=True*, output pb-corrected image (masked outside\n",
    "*minpb*)\n",
    "\n"
   ]
  },
  {
   "cell_type": "markdown",
   "metadata": {},
   "source": [
    "##### *minpb*\n",
    "\n",
    "Minimum PB level to use for pb-correction and pb-based masking.\n",
    "default=0.2; example: *minpb=0.01*  \n",
    "&nbsp;&nbsp;&nbsp; When *imagermode* is \\*not\\* 'mosaic': *minpb* is\n",
    "applied to the flux image (sensitivity-weighted pb). *minpb* is used to\n",
    "create a mask, only when *pbcor=True*  \n",
    "&nbsp;&nbsp;&nbsp; When *imagermode='mosaic'*: *minpb* is applied to the\n",
    "flux.pbcoverage image (mosaic pb with equal weight per pointing).\n",
    "*minpb* is always used to create a mask (regardless of\n",
    "*pbcor=True/False*).\n",
    "\n"
   ]
  },
  {
   "cell_type": "markdown",
   "metadata": {},
   "source": [
    "##### *usescratch*\n",
    "\n",
    "If True will create scratch columns if they are not there. And after\n",
    "**clean** completes the predicted model visibility is from the clean\n",
    "components are written to the MS. This increases the MS size by the data\n",
    "volume. if False then the model is saved in the MS header and the\n",
    "calculation of the visibilities is done on the fly when using\n",
    "calibration or **plotms**. Use True if you want to access the model\n",
    "visibilities in python, say.\n",
    "\n"
   ]
  },
  {
   "cell_type": "markdown",
   "metadata": {},
   "source": [
    "##### *allowchunk*\n",
    "\n",
    "Partition the image cube by channel-chunks. default=False; &nbsp;  \n",
    "&nbsp;&nbsp;&nbsp; False: Major cycle grids all channels. Minor cycle\n",
    "steps through all channels before the next major cycle.  \n",
    "&nbsp;&nbsp;&nbsp; True: Major and minor cycles are performed one chunk\n",
    "at a time, and output images cubes are concatenated.\n",
    "\n"
   ]
  },
  {
   "cell_type": "markdown",
   "metadata": {},
   "source": [
    "##### *async*\n",
    "\n",
    "Run asynchronously. default = False; do not run asychronously\n",
    "\n",
    "|                 |                                                                                                     |\n",
    "|:----------------|-----------------------------------------------------------------------------------------------------|\n",
    "| Citation Number | 1                                                                                                   |\n",
    "| Citation Text   | Rau and Cornwell, AA, Volume 532, 2011 ([ADS](http://adsabs.harvard.edu/abs/2011A%26A...532A..71R)) |\n",
    "\n",
    "|                 |                                                                                                        |\n",
    "|:----------------|--------------------------------------------------------------------------------------------------------|\n",
    "| Citation Number | 2                                                                                                      |\n",
    "| Citation Text   | Cornwell et al. IEEE JSTSP, 2008 ([IEEE](http://ieeexplore.ieee.org/stamp/stamp.jsp?arnumber=4703511)) |\n",
    "\n",
    "|                 |                                                                                                                         |\n",
    "|:----------------|-------------------------------------------------------------------------------------------------------------------------|\n",
    "| Citation Number | 3                                                                                                                       |\n",
    "| Citation Text   | Bhatnagar et al., AandA, 487, 419, 2008 ([A&A](http://www.aanda.org/articles/aa/full/2008/31/aa9284-07/aa9284-07.html)) |\n",
    "\n",
    "Bibliography\n",
    "\n",
    "  \n",
    "<sup>1.\\ Rau\\ and\\ Cornwell,\\ AA,\\ Volume\\ 532,\\ 2011\\ ([ADS](http://adsabs.harvard.edu/abs/2011A%26A...532A..71R))\\ [&larrhk;](#ref-cit1 \"Jump back to citation 1 in the text.\")</sup>\n",
    "\n",
    "  \n",
    "<sup>2.\\ Cornwell\\ et\\ al.\\ IEEE\\ JSTSP,\\ 2008\\ ([IEEE](http://ieeexplore.ieee.org/stamp/stamp.jsp?arnumber=4703511))\\ [&larrhk;](#ref-cit2 \"Jump back to citation 2 in the text.\")</sup>\n",
    "\n",
    "  \n",
    "<sup>3.\\ Bhatnagar\\ et\\ al.,\\ AandA,\\ 487,\\ 419,\\ 2008\\ ([A&A](http://www.aanda.org/articles/aa/full/2008/31/aa9284-07/aa9284-07.html))\\ [&larrhk;](#ref-cit3 \"Jump back to citation 3 in the text.\")</sup>"
   ]
  },
  {
   "cell_type": "markdown",
   "metadata": {
    "nbsphinx-toctree": {
     "hidden": true
    }
   },
   "source": [
    "[Description](task_clean/about)\n",
    "[Examples](task_clean/examples)\n"
   ]
  }
 ],
 "metadata": {},
 "nbformat": 4,
 "nbformat_minor": 5
}
