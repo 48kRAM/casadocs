{
 "cells": [
  {
   "cell_type": "markdown",
   "metadata": {},
   "source": [
    "# Examples\n",
    "\n",
    "task examples\n",
    "\n",
    "\\"
   ]
  },
  {
   "cell_type": "markdown",
   "metadata": {},
   "source": [
    "## smoothing with a gaussian kernel 20arseconds by 10 arseconds  \n",
    "imsmooth( imagename='my.image', kernel='gauss', major='20arcsec',\n",
    "minor='10arcsec', pa=\"0deg\")\n",
    "\n",
    "\\"
   ]
  },
  {
   "cell_type": "markdown",
   "metadata": {},
   "source": [
    "## the same as before, just a different way of specifying the kernel\n",
    "parameters  \n",
    "mybeam = {'major': '20arcsec', 'minor': '10arcsec', 'pa': '0deg'}  \n",
    "imsmooth( imagename='my.image', kernel='gauss', beam=mybeam)\n",
    "\n",
    "\\"
   ]
  },
  {
   "cell_type": "markdown",
   "metadata": {},
   "source": [
    "## Smoothing using pixel coordinates and a boxcar kernel.  \n",
    "imsmooth( imagename='new.image', major='20pix', minor='10pix',\n",
    "kernel='boxcar')"
   ]
  }
 ],
 "metadata": {},
 "nbformat": 4,
 "nbformat_minor": 5
}
