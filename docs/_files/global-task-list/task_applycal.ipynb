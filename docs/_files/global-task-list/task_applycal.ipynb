{
 "cells": [
  {
   "cell_type": "markdown",
   "metadata": {},
   "source": [
    "# applycal\n",
    "\n",
    "apply calibrations solutions(s) to data\n",
    "\n"
   ]
  },
  {
   "cell_type": "markdown",
   "metadata": {},
   "source": [
    "## Summary\n",
    "\n",
    "The **applycal** task reads the specified gain calibration tables,\n",
    "applies them to the (raw) MS *DATA* column (with the specified\n",
    "selection), and writes the calibrated data into the *CORRECTED_DATA*\n",
    "column, where imaging or other analysis can find it for further\n",
    "processing. All supplied calibration is applied in one step, according\n",
    "to the [Measurement\n",
    "Equation](https://casa.nrao.edu/casadocs-devel/stable/casa-fundamentals/the-measurement-equation-calibration).\n",
    "The existing contents of the *CORRECTED_DATA* (for the specified\n",
    "selection) will be overwritten. &nbsp;\n",
    "\n",
    "The **applycal** task shares the input dataset ('vis'), data selection\n",
    "and (prior) calibration parameters with the solving tasks; detailed\n",
    "information about setting these parameters can be found the section on\n",
    "[\"Solving for\n",
    "Calibration\"](https://casa.nrao.edu/casadocs-devel/stable/calibration-and-visibility-data/synthesis-calibration/solving-for-calibration).\n",
    "Several parameters unique to **applycal** are described below.\n",
    "\n",
    "In the traditional interface (*docallib=False*), all calibration tables\n",
    "(both temporal, frequency, polarization calibrations) are specified in\n",
    "the gaintable parameter. The calibration values associated with a\n",
    "restricted list of fields can also be selected for each table in\n",
    "gainfield. As of CASA v4.2, *docallib=True* provides specification of an\n",
    "ensemble of calibration tables and directives via a cal library file.\n",
    "\n",
    "After running **applycal**, the corrected data may be selected,\n",
    "partially (and optionally) averaged, and copied to a new MS using\n",
    "**mstransform** (formerly **split**). This may be desirable to reduce\n",
    "the size of the dataset for further processing, if circumstances (e.g.,\n",
    "field-of-view) permit. Alternatively, the corrected data may be imaged\n",
    "directly from the original MS.\n",
    "\n",
    "Calibrated data may be examined in **plotms** and **visstat**.\n",
    "\n",
    "&nbsp;\n",
    "\n"
   ]
  },
  {
   "cell_type": "markdown",
   "metadata": {},
   "source": [
    "## Weight calibration: *calwt*\n",
    "\n",
    "Unlike the solving tasks, calibration of the weights is optional in\n",
    "**applycal**, and is controlled using the *calwt* parameter. If\n",
    "*calwt=True*, the weights will be calibrated by all specified caltables\n",
    "that change the data's scale (phase-like caltables have no effect on the\n",
    "weights). The *calwt* parameter may also be specified as a list of\n",
    "Booleans, enabling control of which caltables calibrate the weights. In\n",
    "general, it is advisable to calibrate the weights, as this should ensure\n",
    "achieving the full natural sensitivity of the observation. Information\n",
    "about weight calibration conventions can be found\n",
    "[here](https://casa.nrao.edu/casadocs-devel/stable/calibration-and-visibility-data/data-weights).\n",
    "\n"
   ]
  },
  {
   "cell_type": "markdown",
   "metadata": {},
   "source": [
    "## Calibration application modes: *applymode*\n",
    "\n",
    "The **applycal** task supports different modes of application via the\n",
    "*applymode* parameter:\n",
    "\n",
    "-   'calflag' will apply all flags from a calibration table to the MS\n",
    "    and apply the calibration itself to the remaining visibilities (and\n",
    "    weights, as per calwt). This is the default.\n",
    "-   'trial' will only report on the calibration table flags but not\n",
    "    manipulate the data or weights.\n",
    "-   'flagonly' applies the flags but not the calibration itself, leaving\n",
    "    the data and weights untouched.\n",
    "-   'calonly' will apply the calibration to data and weights, but leave\n",
    "    the flags untouched.\n",
    "\n",
    "For the flag-aware options, if 'strict' is appended (e.g.,\n",
    "'calflagstrict' or 'flagonlystrict'), **applycal** will flag all\n",
    "selected data for spws that have no solutions available in any one of\n",
    "the caltables, instead of allowing the to pass uncorrected and\n",
    "unflagged.&nbsp;\n",
    "\n"
   ]
  },
  {
   "cell_type": "markdown",
   "metadata": {},
   "source": [
    "## Flag control: *flagbackup*\n",
    "\n",
    "Since the MS stores only one copy of the flags (in the *FLAG* column),\n",
    "saving flags prior to **applycal** is often desirable. Use\n",
    "*flagbackup=True* for this. The pre-applycal flags will be stored in a\n",
    "separate CASA table named for the MS, with a '.flagversions' suffix. See\n",
    "the **flagmanager** task to recover old flag versions and otherwise\n",
    "manage the flag information.\n",
    "\n",
    "&nbsp;\n",
    "\n",
    "&nbsp;"
   ]
  },
  {
   "cell_type": "markdown",
   "metadata": {
    "nbsphinx-toctree": {
     "hidden": true
    }
   },
   "source": [
    "[Description](task_applycal/about)\n",
    "[Parameters](task_applycal/parameters)\n",
    "[Changelog](task_applycal/changelog)\n",
    "[Examples](task_applycal/examples)\n",
    "[Developer](task_applycal/developer)\n"
   ]
  }
 ],
 "metadata": {},
 "nbformat": 4,
 "nbformat_minor": 5
}
