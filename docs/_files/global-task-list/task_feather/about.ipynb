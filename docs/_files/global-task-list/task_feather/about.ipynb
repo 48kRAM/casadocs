{
 "cells": [
  {
   "cell_type": "markdown",
   "metadata": {},
   "source": [
    "# Description\n",
    "\n",
    "combine two images using their Fourier transforms\n",
    "\n"
   ]
  },
  {
   "cell_type": "markdown",
   "metadata": {},
   "source": [
    "## Summary\n",
    "\n",
    "**feather** can be used as one method of combining single-dish and\n",
    "interferometric images after they have been separately made.\n",
    "The algorithm converts each image to the gridded visibility plane,\n",
    "combines them, and reconverts them into a combined image. Each image\n",
    "must include a well-defined beam shape (clean beam) in order for\n",
    "feathering to work well; these could be a 'clean beam' for\n",
    "interferometric images, and a 'primary-beam' for a single-dish image.\n",
    "The two images must have the same flux density normalization scale.\n",
    "\n",
    "More information about **feather** can be found in the [Image\n",
    "Combination](https://casa.nrao.edu/casadocs-devel/stable/imaging/image-combination/feather)\n",
    "section of the CASAdocs. \n",
    "\n",
    "Feathering is a simple method for combining two images with different\n",
    "spatial resolution. The processing steps are:\n",
    "\n",
    "1.  Regrid the low-resolution image to a temporary copy matching the\n",
    "    resolution of the high-resolution image.\n",
    "2.  Transform each image to the spatial-frequency plane (gridded).\n",
    "3.  Scale the low-resolution image (uv-grid) by the ratio of the volumes\n",
    "    of the two 'clean beams' (high-res/low-res).\n",
    "4.  Add to this, the uv-grid of the high-resolution image, scaled by\n",
    "    (1-$\\omega$t) where '$\\omega$t' is\n",
    "    the Fourier transform of the 'clean beam' defined in the\n",
    "    low-resolution image.\n",
    "5.  Transform back to the image plane.\n",
    "\n",
    "One commonly used option for feather is sdfactor, which can be used to\n",
    "adjust the flux scale of the SD image in the case that the fluxes don't\n",
    "match where there is overlap between the spatial-frequencies in the SD\n",
    "image and the interferometer image.\n",
    "\n",
    " \n",
    "\n",
    "![c54b9bc64427577246358518c70157487bed008a.png](c54b9bc64427577246358518c70157487bed008a.png)\n",
    "\n",
    "*The results of feathering ALMA 12+7m and Total Power data for M100\n",
    "using three different sdfactors: 0.5 (right) 0.7 (middle) 1.3 (left).\n",
    "The higher sdfactor (1.3) recovers more of the faint extended emission,\n",
    "as it is boosting the TP signal.*  \n",
    " \n",
    "\n",
    "**NOTE**: The **tclean** task allows another method of combining\n",
    "single-dish and interferometric data. The single-dish image can be used\n",
    "as a starting model for the interferometric image-reconstruction. If\n",
    "there is some overlap between the spatial-frequencies contained in the\n",
    "single-dish image and the interferometer sampling function, then such a\n",
    "starting model will help constrain the solutions on the short-baselines\n",
    "of the interferometric data.\n",
    "\n",
    " \n",
    "\n"
   ]
  },
  {
   "cell_type": "markdown",
   "metadata": {},
   "source": [
    "## Parameter descriptions\n",
    "\n"
   ]
  },
  {
   "cell_type": "markdown",
   "metadata": {},
   "source": [
    "##### *imagename*\n",
    "\n",
    "Name of output feathered image. Default is none; example:\n",
    "*imagename='orion_combined.im'*.\n",
    "\n"
   ]
  },
  {
   "cell_type": "markdown",
   "metadata": {},
   "source": [
    "##### *highres*\n",
    "\n",
    "Name of high resolution (interferometer) image. Default is none;\n",
    "example: *highres='orion_vla.im'*. This image is often a clean image\n",
    "obtained from synthesis observations.\n",
    "\n"
   ]
  },
  {
   "cell_type": "markdown",
   "metadata": {},
   "source": [
    "##### *lowres*\n",
    "\n",
    "Name of low resolution (single dish) image. Default is none; example:\n",
    "*lowres='orion_gbt.im'*. This image is often a image from a single-dish\n",
    "observations or a clean image obtained from lower resolution synthesis\n",
    "observations.\n",
    "\n"
   ]
  },
  {
   "cell_type": "markdown",
   "metadata": {},
   "source": [
    "##### *sdfactor*\n",
    "\n",
    "Value by which to scale the Single Dish image. Default is 1.0. Basically\n",
    "modifying the flux scale of the SD image.\n",
    "\n"
   ]
  },
  {
   "cell_type": "markdown",
   "metadata": {},
   "source": [
    "##### *effdishdiam*\n",
    "\n",
    "New effective SingleDish diameter to use in meters \\[m\\]. One can only\n",
    "reduce the dish effective dish diameter in feathering. Default is -1.0\n",
    "which means leave as is.\n",
    "\n"
   ]
  },
  {
   "cell_type": "markdown",
   "metadata": {},
   "source": [
    "##### *lowpassfiltersd*\n",
    "\n",
    "If True the high spatial frequency in the SD image is rejected. Any data\n",
    "outside the maximum uv distance that the SD has illuminated is filtered\n",
    "out."
   ]
  }
 ],
 "metadata": {},
 "nbformat": 4,
 "nbformat_minor": 5
}
