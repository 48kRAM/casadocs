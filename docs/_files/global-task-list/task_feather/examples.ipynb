{
 "cells": [
  {
   "cell_type": "markdown",
   "metadata": {},
   "source": [
    "# Examples\n",
    "\n",
    "task examples\n",
    "\n",
    "Creating a image called 'M100_Feather_CO.image' from an ALMA\n",
    "interferometric cube, 'M100_combine_CO_cube.image.subim', and a single\n",
    "dish ALMA total power image, 'M100_TP_CO_cube.regrid.subim.depb'. The\n",
    "inputs have been appropriately cleaned, regridded, and cropped\n",
    "beforehand.\n",
    "\n",
    "`feather(imagename='M100_Feather_CO.image',highres='M100_combine_CO_cube.image.subim',lowres='M100_TP_CO_cube.regrid.subim.depb')`\n",
    "\n",
    "Creating an image called 'feather.im' by combining the cleaned,\n",
    "synthesis image, 'synth.im' and the SD image, 'single_dish.im' while\n",
    "increasing the flux scale of the SD image by setting sdfactor = 1.2.\n",
    "\n",
    "`feather(imagename ='feather.im', highres ='synth.im', lowres ='single_dish.im'sdfactor = 1.2)`"
   ]
  }
 ],
 "metadata": {},
 "nbformat": 4,
 "nbformat_minor": 5
}
