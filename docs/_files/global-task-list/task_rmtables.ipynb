{
 "cells": [
  {
   "cell_type": "markdown",
   "metadata": {},
   "source": [
    "# rmtables\n",
    "\n",
    "task description\n",
    "\n",
    "This task removes tables (MS, caltables, images)\n",
    "cleanly. \n",
    "\n",
    "**rmtables** is preferred over rm -rf for\n",
    "removing tables because it also gets rid of data that may linger in the\n",
    "cache. If you are within CASA, the system is keeping a cache of tables\n",
    "that you have been using, and using the rm -rf\n",
    "command may confuse things. For example, running a script that contains\n",
    "multiple&nbsp;rm commands\n",
    "will often not run&nbsp;(and instead crash) the second time as the cache\n",
    "gets confused. Also **clean** sometimes claims that files still exist\n",
    "after they have been removed from disk using rm -rf. Use\n",
    "**rmtables** instead. See the Chapter pages on [CASA\n",
    "Data](https://casa.nrao.edu/casadocs-devel/stable/casa-fundamentals/casa-data)\n",
    "for more details.  \n",
    "\n",
    "\n",
    "**NOTE:** If you have multiple sessions running, bad\n",
    "things&nbsp;could happen if you remove a table\n",
    "being accessed by another process.  \n",
    "\n",
    "\n",
    "&nbsp;"
   ]
  },
  {
   "cell_type": "markdown",
   "metadata": {
    "nbsphinx-toctree": {
     "hidden": true
    }
   },
   "source": [
    "[Description](task_rmtables/about)\n",
    "[Parameters](task_rmtables/parameters)\n",
    "[Changelog](task_rmtables/changelog)\n",
    "[Examples](task_rmtables/examples)\n",
    "[Developer](task_rmtables/developer)\n"
   ]
  }
 ],
 "metadata": {},
 "nbformat": 4,
 "nbformat_minor": 5
}
