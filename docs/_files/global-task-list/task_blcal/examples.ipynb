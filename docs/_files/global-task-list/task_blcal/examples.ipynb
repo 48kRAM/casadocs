{
 "cells": [
  {
   "cell_type": "markdown",
   "metadata": {},
   "source": [
    "# Examples\n",
    "\n",
    "task blcal examples\n",
    "\n",
    "&nbsp;\n",
    "\n",
    "In this example, we solve for constant (*solint='inf'*)\n",
    "frequency-independent (*freqdep=False*) baseline-based solutions\n",
    "relative to ordinary gain, bandpass, and gaincurve calibration:\n",
    "\n",
    "blcal(vis='data.ms',  \n",
    "&nbsp;&nbsp;&nbsp;&nbsp;&nbsp;\n",
    "caltable='cal.M',&nbsp;&nbsp;&nbsp;&nbsp;&nbsp;&nbsp;&nbsp; &nbsp;\n",
    "&nbsp;&nbsp;&nbsp;&nbsp;&nbsp;&nbsp;&nbsp;&nbsp;&nbsp;&nbsp;&nbsp;&nbsp;&nbsp;\n",
    "\\"
   ]
  },
  {
   "cell_type": "markdown",
   "metadata": {},
   "source": [
    "## Output table name  \n",
    "&nbsp;&nbsp;&nbsp;&nbsp;&nbsp;\n",
    "field='2',&nbsp;&nbsp;&nbsp;&nbsp;&nbsp;&nbsp;&nbsp;&nbsp;&nbsp;&nbsp;&nbsp;\n",
    "&nbsp; &nbsp;\n",
    "&nbsp;&nbsp;&nbsp;&nbsp;&nbsp;&nbsp;&nbsp;&nbsp;&nbsp;&nbsp;&nbsp;&nbsp;&nbsp;&nbsp;\n",
    "\\"
   ]
  },
  {
   "cell_type": "markdown",
   "metadata": {},
   "source": [
    "## A field with a very good model  \n",
    "&nbsp;&nbsp;&nbsp;&nbsp;&nbsp;\n",
    "solint='inf',&nbsp;&nbsp;&nbsp;&nbsp;&nbsp;&nbsp;&nbsp;&nbsp;&nbsp;&nbsp;&nbsp;&nbsp;\n",
    "&nbsp;\n",
    "&nbsp;&nbsp;&nbsp;&nbsp;&nbsp;&nbsp;&nbsp;&nbsp;&nbsp;&nbsp;&nbsp;&nbsp;\n",
    "\\"
   ]
  },
  {
   "cell_type": "markdown",
   "metadata": {},
   "source": [
    "## single solution per baseline, spw  \n",
    "&nbsp;&nbsp;&nbsp;&nbsp;&nbsp;\n",
    "gaintable=\\['cal.B','cal.gc','cal.G90s'\\], \\"
   ]
  },
  {
   "cell_type": "markdown",
   "metadata": {},
   "source": [
    "## all prior cal  \n",
    "&nbsp;&nbsp;&nbsp;&nbsp;&nbsp; freqdep=False) &nbsp; &nbsp; &nbsp;\n",
    "&nbsp; &nbsp;&nbsp;&nbsp;&nbsp;&nbsp;&nbsp;&nbsp;&nbsp;&nbsp; &nbsp;\n",
    "&nbsp; &nbsp; &nbsp; \\"
   ]
  },
  {
   "cell_type": "markdown",
   "metadata": {},
   "source": [
    "## frequency-independent solution\n",
    "\n",
    "&nbsp;\n",
    "\n",
    "&nbsp;\n",
    "\n",
    "&nbsp;\n",
    "\n",
    "&nbsp;"
   ]
  }
 ],
 "metadata": {},
 "nbformat": 4,
 "nbformat_minor": 5
}
