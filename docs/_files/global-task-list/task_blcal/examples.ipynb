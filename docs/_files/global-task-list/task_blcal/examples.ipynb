{
 "cells": [
  {
   "cell_type": "markdown",
   "metadata": {},
   "source": [
    "# Examples\n",
    "\n",
    "task blcal examples\n",
    "\n",
    " \n",
    "\n",
    "In this example, we solve for constant (*solint='inf'*)\n",
    "frequency-independent (*freqdep=False*) baseline-based solutions\n",
    "relative to ordinary gain, bandpass, and gaincurve calibration:\n",
    "\n",
    "blcal(vis='data.ms',  \n",
    "      caltable='cal.M',                        \\"
   ]
  },
  {
   "cell_type": "markdown",
   "metadata": {},
   "source": [
    "## Output table name  \n",
    "      field='2',                               \\"
   ]
  },
  {
   "cell_type": "markdown",
   "metadata": {},
   "source": [
    "## A field with a very\n",
    "good model  \n",
    "      solint='inf',                            \\"
   ]
  },
  {
   "cell_type": "markdown",
   "metadata": {},
   "source": [
    "## single solution per\n",
    "baseline, spw  \n",
    "      gaintable=\\['cal.B','cal.gc','cal.G90s'\\], \\"
   ]
  },
  {
   "cell_type": "markdown",
   "metadata": {},
   "source": [
    "## all prior cal  \n",
    "      freqdep=False)                           \\"
   ]
  },
  {
   "cell_type": "markdown",
   "metadata": {},
   "source": [
    "## frequency-independent\n",
    "solution"
   ]
  }
 ],
 "metadata": {},
 "nbformat": 4,
 "nbformat_minor": 5
}
