{
 "cells": [
  {
   "cell_type": "markdown",
   "metadata": {},
   "source": [
    "# Examples\n",
    "\n",
    "task examples\n",
    "\n",
    "**Example 1: **\n",
    "\n",
    "Subtract the continuum of channels 10\\~100 and 300\\~350 in spw 0\n",
    "(assuming that the line is in channels 101\\~299). Note that we also\n",
    "exclude edge channels, e.g. the first 9 channels. We use a fitorder of 0\n",
    "(default). \n",
    "\n",
    "uvcontsub(vis='myMS.ms',fitspw='0:10\\~100;300\\~350')\n",
    "\n",
    " \n",
    "\n",
    "**Example 2: **\n",
    "\n",
    "subtract continuum across all spw, assuming that the line sits at\n",
    "23.694GHz with a 20 MHz width. We use fitorder 1 for the large frequency\n",
    "range.  \n",
    "\n",
    "uvcontsub(vis='myMS.ms', fitspw='23.684\\~23.704GHz', excludechans=True,\n",
    "combine='spw', fitorder=1)"
   ]
  }
 ],
 "metadata": {},
 "nbformat": 4,
 "nbformat_minor": 5
}
