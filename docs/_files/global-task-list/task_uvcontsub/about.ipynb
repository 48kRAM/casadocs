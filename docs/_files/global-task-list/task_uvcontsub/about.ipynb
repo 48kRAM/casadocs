{
 "cells": [
  {
   "cell_type": "markdown",
   "metadata": {},
   "source": [
    "# Description\n",
    "\n",
    "task description\n",
    "\n",
    "&nbsp;\n",
    "\n",
    "**uvcontsub** is a task to perform continuum fitting and subtraction in\n",
    "the uv plane\n",
    "\n",
    "&nbsp;\n",
    "\n",
    "This task estimates the continuum emission by fitting polynomials to the\n",
    "real and imaginary parts of the spectral windows and channels selected\n",
    "by *fitspw*. This fit represents a model of the continuum in all\n",
    "channels.&nbsp;The fitted continuum spectrum is subtracted from all\n",
    "channels selected in *spw*, and the result (presumably only line\n",
    "emission) is stored in a new MS that is always called vis + \".contsub\".\n",
    "If an MS with the output name already exists, it will be overwritten.\n",
    "\n",
    "&nbsp;\n",
    "\n",
    "**uvcontsub** will read from the CORRECTED_DATA column of *vis* if it is\n",
    "present, or DATA if it is not. Whichever column is read is presumed to\n",
    "have already been calibrated.\n",
    "\n",
    "&nbsp;&nbsp;\n",
    "\n",
    "**WARNING:** Strictly speaking, the **uvcontsub** model is only a good\n",
    "representation of the continuum at the phase center. Residuals may be\n",
    "visible for sources far away and one may try&nbsp;**imcontsub**&nbsp;in\n",
    "the image domain for improved results.&nbsp;\n",
    "\n",
    "**WARNING*****:** fitorders*&nbsp;\\> 1 are strongly discouraged because\n",
    "high order polynomials have more flexibility, may absorb line emission,\n",
    "and tend to go wild at the edges of&nbsp;*fitspw*, which is not what you\n",
    "want.&nbsp;default:&nbsp;*0*&nbsp;(constant)\n",
    "\n",
    "If *want_cont*&nbsp;=*True*, the continuum fit is placed in a second new\n",
    "MS with the name vis + '.cont', also overwritten if it already\n",
    "exists.&nbsp;\n",
    "\n",
    "**INFO:&nbsp;** because the continuum model is necessarily a smoothed\n",
    "fit, images made with it are liable to have their field of view reduced\n",
    "in some strange way. Images of the continuum should be made by simply\n",
    "excluding the line channels (and probably averaging the remaining ones)\n",
    "in **tclean**.\n",
    "\n",
    "&nbsp;\n",
    "\n",
    "&nbsp;\n",
    "\n"
   ]
  },
  {
   "cell_type": "markdown",
   "metadata": {},
   "source": [
    "## Parameter descriptions\n",
    "\n"
   ]
  },
  {
   "cell_type": "markdown",
   "metadata": {},
   "source": [
    "##### *vis*\n",
    "\n",
    "Name of input MS. Output goes to vis + \".contsub\" (will be overwritten\n",
    "if already exists)\n",
    "\n"
   ]
  },
  {
   "cell_type": "markdown",
   "metadata": {},
   "source": [
    "##### *field*\n",
    "\n",
    "[Field\n",
    "selection](https://casa.nrao.edu/casadocs-devel/stable/calibration-and-visibility-data/data-selection-in-a-measurementset)\n",
    "for continuum estimation and subtraction. The estimation and subtraction\n",
    "is done for each selected field separately in\n",
    "turn.&nbsp;default:&nbsp;*''*&nbsp;(all fields)&nbsp;(See&nbsp;[Data\n",
    "Selection in a\n",
    "MeasurementSet](https://casa.nrao.edu/casadocs-devel/stable/calibration-and-visibility-data/data-selection-in-a-measurementset))\n",
    "\n"
   ]
  },
  {
   "cell_type": "markdown",
   "metadata": {},
   "source": [
    "##### *fitspw&nbsp;&nbsp;*\n",
    "\n",
    "Selection of spectral windows and channels to use in the fit for the\n",
    "continuum, using general&nbsp;[MS selection\n",
    "syntax](https://casa.nrao.edu/casadocs-devel/stable/calibration-and-visibility-data/data-selection-in-a-measurementset)&nbsp;for\n",
    "spectral windows, e.g. in spw:chan format (spw ids are required\n",
    "but&nbsp;*'\\*'*&nbsp;can be used) or as frequencies.&nbsp;See the note\n",
    "under *combine*. default: *fitspw=''&nbsp;* (all)\n",
    "\n",
    "**WARNING:**&nbsp;The *fitspw* selection is based on the channel numbers\n",
    "in the uv-data of the input MS file, which are most likely different\n",
    "from the channel numbers in the image plane after running\n",
    "**tclean**.&nbsp;\n",
    "\n"
   ]
  },
  {
   "cell_type": "markdown",
   "metadata": {},
   "source": [
    "##### *excludechans (fitspw subparameter)*\n",
    "\n",
    "if *True*, it will exclude the channels (or frequency range) that is\n",
    "specified in *fitspw&nbsp;*for the fit; this is useful to specify the\n",
    "line channels to exclude rather than the continuum channels to include\n",
    "in the fit. (default: *False*)\n",
    "\n"
   ]
  },
  {
   "cell_type": "markdown",
   "metadata": {},
   "source": [
    "##### *combine*\n",
    "\n",
    "Continuum solutions will break at scan, field, and spw boundaries\n",
    "according to *solint.* To allow solutions across these boundaries,\n",
    "*combine* can be set to&nbsp;'*spw*', '*scan*', or *'spw, scan'.&nbsp;\n",
    "combine&nbsp;*must include *'spw'*&nbsp; if&nbsp;spw contains spws that\n",
    "are not in *fitspw*!&nbsp; default: *''*&nbsp; which is that solutions\n",
    "will break at scan, field, and spw\n",
    "\n"
   ]
  },
  {
   "cell_type": "markdown",
   "metadata": {},
   "source": [
    "##### *solint*\n",
    "\n",
    "Timescale for per-baseline fit (units optional) options are time ranges,\n",
    "e.g. '*10s*', or '*inf*' per scan, or '*int*' per integration. default\n",
    "(recommended): '*int*', i.e. no time averaging, do a&nbsp;fit for each\n",
    "integration and let the noisy fits average out in the image.continuum\n",
    "fit.&nbsp;If *solint* is longer than '*int*', the continuum estimate can\n",
    "be  \n",
    "corrupted by time smearing.\n",
    "\n"
   ]
  },
  {
   "cell_type": "markdown",
   "metadata": {},
   "source": [
    "##### *fitorder*\n",
    "\n",
    "Polynomial order for the fits of the continuum w.r.t. frequency.\n",
    "*fitorders* \\> 1 are strongly discouraged because high order polynomials\n",
    "have more flexibility, may  \n",
    "absorb line emission, and tend to go wild at the edges of *fitspw*,\n",
    "which is not what you want.&nbsp;default: *0* (constant)\n",
    "\n"
   ]
  },
  {
   "cell_type": "markdown",
   "metadata": {},
   "source": [
    "##### *spw*\n",
    "\n",
    "Optional per spectral window selection of channels to include in the\n",
    "output. See the note under *combine*.&nbsp;The sub-MS output spectral\n",
    "windows will be renumbered to start from 0, as in **split**. default:\n",
    "*''* (all spws)&nbsp;(See&nbsp;[Data Selection in a\n",
    "MeasurementSet](https://casa.nrao.edu/casadocs-devel/stable/calibration-and-visibility-data/data-selection-in-a-measurementset))\n",
    "\n"
   ]
  },
  {
   "cell_type": "markdown",
   "metadata": {},
   "source": [
    "##### *want_cont*\n",
    "\n",
    "Create vis + '.cont' to hold the continuum estimate.&nbsp;\n",
    "\n",
    "&nbsp;"
   ]
  }
 ],
 "metadata": {},
 "nbformat": 4,
 "nbformat_minor": 5
}
