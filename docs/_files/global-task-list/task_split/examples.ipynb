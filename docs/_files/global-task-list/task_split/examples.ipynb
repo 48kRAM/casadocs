{
 "cells": [
  {
   "cell_type": "markdown",
   "metadata": {},
   "source": [
    "# Examples\n",
    "\n",
    "task examples\n",
    "\n"
   ]
  },
  {
   "cell_type": "markdown",
   "metadata": {},
   "source": [
    "#### Split with field selections\n",
    "\n",
    "Create a new MS with field ID 3 and all field names starting with 4C.\n",
    "\n",
    "split(vis='example.ms',outputvis='test.ms',field='3,4C\\*')\n",
    "\n"
   ]
  },
  {
   "cell_type": "markdown",
   "metadata": {},
   "source": [
    "#### Split with spectral window and channel selections\n",
    "\n",
    "Split channels 3 through 64 for all SPW IDs.\n",
    "\n",
    "split(vis='example.ms', outputvis='test.ms', spw='\\*:3\\~64')\n",
    "\n",
    "Split with multiple channel selection. The following example will select\n",
    "channels 4 through 13 and 10 through 59 inclusive from spw 8.\n",
    "\n",
    "split('example.ms',outputvis='test.ms',spw='8:4\\~13;10\\~59')\n",
    "\n",
    "Split with multiple spws and channel selections. The following example\n",
    "will select all channels from spw 4, channels 4 through 59 inclusive\n",
    "from spw 7. It will also select channels 4 through 13 and 10 through 59\n",
    "from spw 8. The output MS will have three spectral windows, reindexed\n",
    "from 0 through 2.\n",
    "\n",
    "split('example.ms',outputvis='test.ms',spw='4,7:4\\~59,8:4\\~13;10\\~59')\n",
    "\n",
    "On the other hand, the following example will select only channels 4\n",
    "through 59 from all three spectral windows 4, 5 and 6.\n",
    "\n",
    "split('example.ms',outputvis='test.ms',spw='4\\~6:4\\~59')\n",
    "\n",
    "&nbsp;\n",
    "\n"
   ]
  },
  {
   "cell_type": "markdown",
   "metadata": {},
   "source": [
    "#### Split with antenna selections\n",
    "\n",
    "Split using antenna selection. Non-negative integers are assumed to be\n",
    "antenna indices, and anything else is taken as an antenna name. The\n",
    "following example will split the baseline between antennas VA05 and\n",
    "VA06.\n",
    "\n",
    "split(vis='example.ms', outputvis='test.ms', antenna='VA05&VA06')\n",
    "\n"
   ]
  },
  {
   "cell_type": "markdown",
   "metadata": {},
   "source": [
    "#### Channel Averaging\n",
    "\n",
    "Average 2 channels of first selected SPW and 3 channels in second SPW.\n",
    "\n",
    "split(vis='example.ms', outputvis='test.ms',spw='0,1', width=\\[2,3\\])\n",
    "\n"
   ]
  },
  {
   "cell_type": "markdown",
   "metadata": {},
   "source": [
    "#### Time Averaging\n",
    "\n",
    "Average in time across scans. The following example can be useful when\n",
    "the scan number goes up with each integration as in many WSRT MSs.\n",
    "\n",
    "split(vis='example.ms', outputvis='test.ms',timebin='20s',\n",
    "combine='scan')\n",
    "\n",
    "&nbsp;"
   ]
  }
 ],
 "metadata": {},
 "nbformat": 4,
 "nbformat_minor": 5
}
