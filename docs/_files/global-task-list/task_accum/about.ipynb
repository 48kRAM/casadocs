{
 "cells": [
  {
   "cell_type": "markdown",
   "metadata": {},
   "source": [
    "# Description\n",
    "\n",
    "task accum description\n",
    "\n"
   ]
  },
  {
   "cell_type": "markdown",
   "metadata": {},
   "source": [
    "## Summary\n",
    "\n",
    "Please note: The **accum** task has been designated for deprecation, and\n",
    "will be removed in CASA 5.8/6.2.\n",
    "\n",
    " \n",
    "\n",
    "**accum** will interpolate and extrapolate a temporal calibration table\n",
    "onto a new table that has a regularly-space time grid. The first run of\n",
    "**accum** defines the time grid and fills this table with the results\n",
    "from the input table. Subsequent use of **accum** will combine\n",
    "additional calibration tables onto the same grid of the initial\n",
    "**accum** table to obtain an output **accum** table. \n",
    "\n",
    " \n",
    "\n"
   ]
  },
  {
   "cell_type": "markdown",
   "metadata": {},
   "source": [
    "## Parameter descriptions\n",
    "\n"
   ]
  },
  {
   "cell_type": "markdown",
   "metadata": {},
   "source": [
    "##### *vis*\n",
    "\n",
    "Name of input MeasurementSet. No default.\n",
    "\n"
   ]
  },
  {
   "cell_type": "markdown",
   "metadata": {},
   "source": [
    "##### *tablein*\n",
    "\n",
    "Input cumulative calibration table. Default: ''* * means none. On first\n",
    "execution of **accum**, *tablein=''*  and *accumtime* is used to\n",
    "generate *tablein* with the specified time gridding.\n",
    "\n"
   ]
  },
  {
   "cell_type": "markdown",
   "metadata": {},
   "source": [
    "#### *tablein* expandable parameters\n",
    "\n"
   ]
  },
  {
   "cell_type": "markdown",
   "metadata": {},
   "source": [
    "##### *accumtime*\n",
    "\n",
    "The time separation when making *tablein*. Default: 1.0* * (1\n",
    "second). This time should not be less than the visibiility sampling\n",
    "time, but should be less than about 30% of a typical scan length.\n",
    "\n",
    " \n",
    "\n"
   ]
  },
  {
   "cell_type": "markdown",
   "metadata": {},
   "source": [
    "##### *incrtable*\n",
    "\n",
    "The calibration data to be interpolated onto the *tablein* file.\n",
    "Default: ''. Must be specified.\n",
    "\n"
   ]
  },
  {
   "cell_type": "markdown",
   "metadata": {},
   "source": [
    "##### *caltable *\n",
    "\n",
    "The output cumulative calibration file. Default: ''  means use *tablein*\n",
    "as the output file.\n",
    "\n"
   ]
  },
  {
   "cell_type": "markdown",
   "metadata": {},
   "source": [
    "##### *field*\n",
    "\n",
    "Standard field ID or name selection for *tablein* to process. Default:\n",
    "'' = all fields. (See [Data Selection in a\n",
    "MeasurementSet](https://casa.nrao.edu/casadocs-devel/stable/calibration-and-visibility-data/data-selection-in-a-measurementset) for\n",
    "more details.)\n",
    "\n"
   ]
  },
  {
   "cell_type": "markdown",
   "metadata": {},
   "source": [
    "##### *calfield*\n",
    "\n",
    "Select field(s) from *incrtable* to process. Default: '' = all fields.\n",
    "(See [Data Selection in a\n",
    "MeasurementSet](https://casa.nrao.edu/casadocs-devel/stable/calibration-and-visibility-data/data-selection-in-a-measurementset) for\n",
    "more details.) \n",
    "\n"
   ]
  },
  {
   "cell_type": "markdown",
   "metadata": {},
   "source": [
    "##### *interp*\n",
    "\n",
    "Interpolation type (in time,freq) to use for each gaintable. When\n",
    "frequency interpolation is relevant (B, Df, Xf), separate time-dependent\n",
    "and freq-dependent *interp* types with a comma (freq *interp* type\n",
    "should be after the comma). Specifications for frequency are ignored\n",
    "when the calibration table has no channel-dependence. Time-dependent\n",
    "interp options ending in 'PD' enable a \"phase delay\" correction per spw\n",
    "for non-channel-dependent calibration types. For multi-obsId datasets,\n",
    "'perobs' can be appended to the time-dependent interpolation\n",
    "specification to enforce obs ID boundaries when interpolating in time.\n",
    "Options: Time - 'nearest'*,* 'linear'*;* Freq - 'nearest'*,* 'linear'*,*\n",
    "'cubic'*,* 'spline'*. D*efault: 'linear,linear' for all gaintable(s).\n",
    "See also: [Solving for\n",
    "Calibration](https://casa.nrao.edu/casadocs-devel/stable/calibration-and-visibility-data/synthesis-calibration/solving-for-calibration).\n",
    "\n"
   ]
  },
  {
   "cell_type": "markdown",
   "metadata": {},
   "source": [
    "##### *spwmap*\n",
    "\n",
    "Spectral windows combinations to form gaintable(s). Default: \\[ \\]\n",
    "(apply solutions from each spw to that spw only). See also: [Solving for\n",
    "Calibration](https://casa.nrao.edu/casadocs-devel/stable/calibration-and-visibility-data/synthesis-calibration/solving-for-calibration)."
   ]
  }
 ],
 "metadata": {},
 "nbformat": 4,
 "nbformat_minor": 5
}
