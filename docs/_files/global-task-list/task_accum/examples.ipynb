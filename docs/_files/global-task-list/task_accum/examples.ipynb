{
 "cells": [
  {
   "cell_type": "markdown",
   "metadata": {},
   "source": [
    "# Examples\n",
    "\n",
    "task accum examples\n",
    "\n",
    "Create an **accum** table with 10-sec sampling, filling it with the\n",
    "calibration&nbsp;in 'first_cal' with the desired interpolation.\n",
    "\n",
    "accum(vis='mydata.ms',&nbsp;tablein='', accumtime=10,\n",
    "incrtable='first_cal', caltable='accum1_cal')\n",
    "\n",
    "If you plot 'accum1_cal' with **plotms**, you can see how the\n",
    "*incrtable* was&nbsp;interpolated.\n",
    "\n",
    "Continue accumulating calibrations in 'accum1_cal' from 'second_cal'\n",
    "\n",
    "accum(vis='mydata.ms',&nbsp;tablein='accum1_cal',\n",
    "incrtable='second_cal',&nbsp;caltable='accum1_cal')\n",
    "\n",
    "&nbsp;"
   ]
  }
 ],
 "metadata": {},
 "nbformat": 4,
 "nbformat_minor": 5
}
