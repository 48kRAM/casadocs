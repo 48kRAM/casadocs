{
 "cells": [
  {
   "cell_type": "markdown",
   "metadata": {},
   "source": [
    "# Examples\n",
    "\n",
    "task accum examples\n",
    "\n",
    "Create an **accum** table with 10-sec sampling, filling it with the\n",
    "calibration in 'first_cal' with the desired interpolation.\n",
    "\n",
    "accum(vis='mydata.ms', tablein='', accumtime=10, incrtable='first_cal',\n",
    "caltable='accum1_cal')\n",
    "\n",
    "If you plot 'accum1_cal' with **plotms**, you can see how the\n",
    "*incrtable* was interpolated.\n",
    "\n",
    "Continue accumulating calibrations in 'accum1_cal' from 'second_cal'\n",
    "\n",
    "accum(vis='mydata.ms', tablein='accum1_cal',\n",
    "incrtable='second_cal', caltable='accum1_cal')"
   ]
  }
 ],
 "metadata": {},
 "nbformat": 4,
 "nbformat_minor": 5
}
