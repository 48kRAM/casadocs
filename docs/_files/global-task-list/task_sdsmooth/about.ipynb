{
 "cells": [
  {
   "cell_type": "markdown",
   "metadata": {},
   "source": [
    "# Description\n",
    "\n",
    "Smooth spectral data\n",
    "\n",
    "Task **sdsmooth** performs smoothing along the spectral axis using a\n",
    "user-specified smoothing kernel. Currently, 'Gaussian' and 'boxcar'\n",
    "kernels are supported.\n",
    "\n",
    "The default Kernel shape is 'Gaussian'. The width of the function is\n",
    "specified with the *kwidth* parameter, in number of channels.\n",
    "\n",
    "Standard data selection parameters are used: *antenna*, *field*, *spw*,\n",
    "*scan*, *timerange*, *pol,* and *intent*.\n",
    "\n",
    " \n",
    "\n",
    "Weights are propagated to smoothed spectra following:\n",
    "\n",
    "$W^{k}_{\\rm out} = \\frac{ (\\sum_{i=1}^{n} c_{i})^{2} } { (\\sum_{i=1}^{n} c^{2}_{i} / W^{j+i}_{\\rm inp}) } $\n",
    "   ,\n",
    "\n",
    "where $W$\n",
    "is the input/output weight, $c$ is the spectral smoothing kernel\n",
    "originated from a channel $k$ where the weight is evaluated, and\n",
    "$n$ is the\n",
    "width of the spectral smoothing kernel in channels. In the case of\n",
    "Gaussian, $n$ corresponds to FWHM in channels."
   ]
  }
 ],
 "metadata": {},
 "nbformat": 4,
 "nbformat_minor": 5
}
