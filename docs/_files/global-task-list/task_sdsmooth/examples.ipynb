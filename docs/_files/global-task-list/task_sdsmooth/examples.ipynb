{
 "cells": [
  {
   "cell_type": "markdown",
   "metadata": {},
   "source": [
    "# Examples\n",
    "\n",
    "task examples\n",
    "\n",
    "To spectrally smooth part of a data set for both polarizations,\n",
    "selecting by frequency and scan with a boxcar kernel having a width of\n",
    "50 channels:\n",
    "\n",
    "sdsmooth(infile='sd_data.ms',spw='116\\~117GHz',scan='21\\~23',pol='0,1',kernel='boxcar',kwidth='50',antenna='PM03',outfile='sd_data_smoothed.ms',overwrite=T)\n",
    "\n",
    "&nbsp;\n",
    "\n",
    "&nbsp;\n",
    "\n",
    "&nbsp;\n",
    "\n",
    "&nbsp;"
   ]
  }
 ],
 "metadata": {},
 "nbformat": 4,
 "nbformat_minor": 5
}
