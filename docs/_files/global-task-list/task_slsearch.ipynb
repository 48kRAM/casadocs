{
 "cells": [
  {
   "cell_type": "markdown",
   "metadata": {},
   "source": [
    "# slsearch\n",
    "\n",
    "task description\n",
    "\n"
   ]
  },
  {
   "cell_type": "markdown",
   "metadata": {},
   "source": [
    "## Summary\n",
    "\n",
    "This task allows the user to search a specified\n",
    "spectral line table. If no spectral line table is specified, the default\n",
    "is to use a subset of the [Splatalogue spectral line\n",
    "catalog](http://www.cv.nrao.edu/php/splat/), which is distributed with\n",
    "CASA. One can also export custom catalogs from the Splatalogue website\n",
    "and import them to CASA using the task **splattotable**, or tool method **sl.splattotable**. The results table can\n",
    "be written to disk by specifying its name in the *outfile*\n",
    "parameter.&nbsp;If *outfile* is not specified (i.e.\n",
    "*outfile=''*), no table is created. \n",
    "\n",
    "Because\n",
    "[Splatalogue](http://www.cv.nrao.edu/php/splat/) does not have values\n",
    "for the CDMS/JPL intensity (*intensity*),\n",
    "quantum mechanical line strength (*smu2*), Einstein A coefficient\n",
    "(*loga*), the upper state energy level (*eu*), or the lower state energy\n",
    "level (*el*) measured in K for radio recombination lines (RRLs), one\n",
    "must specify to include RRLs in the specified frequency range in the\n",
    "output. In this case, RRLs will be included ignoring any filters on\n",
    "*intensity*, *smu2*, *loga*, *eu*, and *el*. One can also specify\n",
    "to&nbsp;list only RRLs.\n",
    "\n",
    "One can specify to list the search\n",
    "results to the logger via the *verbose* parameter. If *verbose=False*,\n",
    "no&nbsp;logger output is listed. If\n",
    "*verbose=True*, one can also specify that the results be listed to a\n",
    "*logfile*. If this file already&nbsp;exists, one\n",
    "can specify that the results be appended to it, or to overwrite it with\n",
    "the results.\n",
    "\n",
    "&nbsp;\n",
    "\n"
   ]
  },
  {
   "cell_type": "markdown",
   "metadata": {},
   "source": [
    "## Parameter descriptions\n",
    "\n"
   ]
  },
  {
   "cell_type": "markdown",
   "metadata": {},
   "source": [
    "##### *tablename* \n",
    "\n",
    "Input spectral line table name to search. If not\n",
    "specified, use the default table in the system.\n",
    "\n"
   ]
  },
  {
   "cell_type": "markdown",
   "metadata": {},
   "source": [
    "##### *outfile *\n",
    "\n",
    "Results table name. Blank means do not write the table\n",
    "to disk.\n",
    "\n"
   ]
  },
  {
   "cell_type": "markdown",
   "metadata": {},
   "source": [
    "##### *freqrange*\n",
    "\n",
    "Frequency range in GHz.\n",
    "\n"
   ]
  },
  {
   "cell_type": "markdown",
   "metadata": {},
   "source": [
    "##### *species *\n",
    "\n",
    "Species to search for.\n",
    "\n"
   ]
  },
  {
   "cell_type": "markdown",
   "metadata": {},
   "source": [
    "##### *reconly *\n",
    "\n",
    "List only NRAO recommended frequencies.\n",
    "\n"
   ]
  },
  {
   "cell_type": "markdown",
   "metadata": {},
   "source": [
    "##### *chemnames *\n",
    "\n",
    "Chemical names to search for.\n",
    "\n"
   ]
  },
  {
   "cell_type": "markdown",
   "metadata": {},
   "source": [
    "##### *qns *\n",
    "\n",
    "Resolved quantum numbers to search for.\n",
    "\n"
   ]
  },
  {
   "cell_type": "markdown",
   "metadata": {},
   "source": [
    "##### *intensity *\n",
    "\n",
    "CDMS/JPL intensity range. -1 -\\> do not use an\n",
    "intensity range.\n",
    "\n"
   ]
  },
  {
   "cell_type": "markdown",
   "metadata": {},
   "source": [
    "##### *smu2* \n",
    "\n",
    "S&mu;<sup>2</sup> range in Debye<sup>2</sup>. -1 -\\> do\n",
    "not use an S&mu;<sup>2</sup> range.\n",
    "\n"
   ]
  },
  {
   "cell_type": "markdown",
   "metadata": {},
   "source": [
    "##### *loga* \n",
    "\n",
    "log(A) (Einstein A coefficient) range. -1 -\\> do not\n",
    "use a loga range.\n",
    "\n"
   ]
  },
  {
   "cell_type": "markdown",
   "metadata": {},
   "source": [
    "##### *el* \n",
    "\n",
    "Lower energy state range in Kelvin. -1 -\\> do not use\n",
    "an el range.\n",
    "\n"
   ]
  },
  {
   "cell_type": "markdown",
   "metadata": {},
   "source": [
    "##### *eu* \n",
    "\n",
    "Upper energy state range in Kelvin. -1 -\\> do not use\n",
    "an eu range.\n",
    "\n"
   ]
  },
  {
   "cell_type": "markdown",
   "metadata": {},
   "source": [
    "##### *rrlinclude* \n",
    "\n",
    "Include Radio Recombination Lines (RRLs) in the result\n",
    "set?\n",
    "\n"
   ]
  },
  {
   "cell_type": "markdown",
   "metadata": {},
   "source": [
    "##### *rrlonly *\n",
    "\n",
    "Include only RRLs in the result set?\n",
    "\n"
   ]
  },
  {
   "cell_type": "markdown",
   "metadata": {},
   "source": [
    "##### *verbose *\n",
    "\n",
    "List result set to logger (and optionally\n",
    "logfile)\n",
    "\n"
   ]
  },
  {
   "cell_type": "markdown",
   "metadata": {},
   "source": [
    "##### *logfile *\n",
    "\n",
    "List result set to this logfile (only used if\n",
    "*verbose=True*).\n",
    "\n"
   ]
  },
  {
   "cell_type": "markdown",
   "metadata": {},
   "source": [
    "##### *append* \n",
    "\n",
    "If True, append to logfile if it already exists, if\n",
    "False overwrite logfile it it exists. Only used if *verbose=True* and\n",
    "logfile not blank.&nbsp; &nbsp; &nbsp;"
   ]
  },
  {
   "cell_type": "markdown",
   "metadata": {
    "nbsphinx-toctree": {
     "hidden": true
    }
   },
   "source": [
    "[Description](task_slsearch/about)\n",
    "[Examples](task_slsearch/examples)\n"
   ]
  }
 ],
 "metadata": {},
 "nbformat": 4,
 "nbformat_minor": 5
}
