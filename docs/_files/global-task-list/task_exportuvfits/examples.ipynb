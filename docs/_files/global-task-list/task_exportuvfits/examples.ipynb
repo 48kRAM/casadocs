{
 "cells": [
  {
   "cell_type": "markdown",
   "metadata": {},
   "source": [
    "# Examples\n",
    "\n",
    "&nbsp;\\"
   ]
  },
  {
   "cell_type": "markdown",
   "metadata": {},
   "source": [
    "## create a uvfits file from an MS, overwriting the output file if\n",
    "it already exists.\n",
    "\n",
    "exportuvfits(vis=\"my.ms\", fitsfile=\"my.uvfits\", datacolumn=\"corrected\",\n",
    "overwrite=True)\n",
    "\n",
    "&nbsp;\n",
    "\n",
    "&nbsp;\n",
    "\n",
    "&nbsp;"
   ]
  }
 ],
 "metadata": {},
 "nbformat": 4,
 "nbformat_minor": 5
}
