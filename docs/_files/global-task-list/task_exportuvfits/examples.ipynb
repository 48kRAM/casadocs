{
 "cells": [
  {
   "cell_type": "markdown",
   "metadata": {},
   "source": [
    "# Examples\n",
    "\n",
    " \\"
   ]
  },
  {
   "cell_type": "markdown",
   "metadata": {},
   "source": [
    "## create a uvfits file from an MS, overwriting the output file if it\n",
    "already exists.\n",
    "\n",
    "exportuvfits(vis=\"my.ms\", fitsfile=\"my.uvfits\", datacolumn=\"corrected\",\n",
    "overwrite=True)"
   ]
  }
 ],
 "metadata": {},
 "nbformat": 4,
 "nbformat_minor": 5
}
