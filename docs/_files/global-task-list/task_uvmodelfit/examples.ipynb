{
 "cells": [
  {
   "cell_type": "markdown",
   "metadata": {},
   "source": [
    "# Examples\n",
    "\n",
    "task examples\n",
    "\n",
    "More information on **uvmodelfit** can be found\n",
    "[here](https://casa.nrao.edu/casadocs-devel/stable/calibration-and-visibility-data/uv-manipulation/fitting-gaussians-to-visibilities).\n",
    "\n",
    "Example:\n",
    "\n",
    "\\"
   ]
  },
  {
   "cell_type": "markdown",
   "metadata": {},
   "source": [
    "## Note: It's best to channel average the data if there are many\n",
    "channels before running a modelfit  \n",
    "split('ngc5921.ms','1445+099_avg.ms',\n",
    "datacolumn='corrected',field='1445\\*',width='63')  \n",
    " \n",
    "\n",
    "\\"
   ]
  },
  {
   "cell_type": "markdown",
   "metadata": {},
   "source": [
    "## Initial guess is that it's close to the phase center and has a flux\n",
    "of 2.0 (a priori we know it's 2.47)  \n",
    "uvmodelfit('1445+099_avg.ms', \\"
   ]
  },
  {
   "cell_type": "markdown",
   "metadata": {},
   "source": [
    "## use averaged data  \n",
    "           niter=5, \\"
   ]
  },
  {
   "cell_type": "markdown",
   "metadata": {},
   "source": [
    "## Do 5 iterations  \n",
    "           comptype='P', \\"
   ]
  },
  {
   "cell_type": "markdown",
   "metadata": {},
   "source": [
    "## P=Point source, G=Gaussian, D=Disk  \n",
    "           sourcepar=\\[2.0,.1,.1\\], \\"
   ]
  },
  {
   "cell_type": "markdown",
   "metadata": {},
   "source": [
    "## Source parameters for a point\n",
    "source  \n",
    "           spw='0',    \n",
    "           outfile='gcal.cl') \\"
   ]
  },
  {
   "cell_type": "markdown",
   "metadata": {},
   "source": [
    "## Output component list file"
   ]
  }
 ],
 "metadata": {},
 "nbformat": 4,
 "nbformat_minor": 5
}
