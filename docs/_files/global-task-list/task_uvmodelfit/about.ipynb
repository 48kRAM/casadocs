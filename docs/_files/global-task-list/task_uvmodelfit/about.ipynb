{
 "cells": [
  {
   "cell_type": "markdown",
   "metadata": {},
   "source": [
    "# Description\n",
    "\n",
    "task uvmodelfit description\n",
    "\n"
   ]
  },
  {
   "cell_type": "markdown",
   "metadata": {},
   "source": [
    "## Summary\n",
    "\n",
    "Fit a single component source model to the uv-data. Three models are available: P=point;\n",
    "G=Gaussian; D=Disk. Fitting parameters can be\n",
    "held fixed. The results are given in the CASA log and placed in\n",
    "a components file. More information can be found\n",
    "about **uvmodelfit**\n",
    "[here](https://casa.nrao.edu/casadocs-devel/stable/calibration-and-visibility-data/uv-manipulation/fitting-gaussians-to-visibilities).\n",
    "\n",
    "**INFO:** The Nordic ALMA Regional Center Node has developed tools for\n",
    "fitting multiple components of any shape to the visibilities. Their\n",
    "versatile\n",
    "uvmultifit <a href=\"#cit1\" id=\"ref-cit1\" class=\"ref-cit\">[1]</a> package\n",
    "is provided on their [software\n",
    "tools](https://www.oso.nordic-alma.se/software-tools.php) page.  \n",
    "\n"
   ]
  },
  {
   "cell_type": "markdown",
   "metadata": {},
   "source": [
    "## Parameter descriptions\n",
    "\n"
   ]
  },
  {
   "cell_type": "markdown",
   "metadata": {},
   "source": [
    "##### *vis*\n",
    "\n",
    "Name of input visibility file.\n",
    "Default: none. Examples: *vis='ngc5921.ms'  \n",
    "*\n",
    "\n"
   ]
  },
  {
   "cell_type": "markdown",
   "metadata": {},
   "source": [
    "##### *field*\n",
    "\n",
    "Select data based on field id(s) or name(s). Default:\n",
    "'' (all). Examples: *field='1'*; *field='0\\~2'*, field IDs inclusive\n",
    "from 0 to 2; *field='3C\\*'*, all field names starting with 3C\n",
    "\n"
   ]
  },
  {
   "cell_type": "markdown",
   "metadata": {},
   "source": [
    "##### *spw*\n",
    "\n",
    "Select data based on spectral window. Default: ''\n",
    "(all). Examples: *spw='1'*; *spw='\\<2'* \\#spectral windows less than 2;\n",
    "*spw='\\>1'*, spectral windows greater than 1\n",
    "\n"
   ]
  },
  {
   "cell_type": "markdown",
   "metadata": {},
   "source": [
    "##### *selectdata*\n",
    "\n",
    "Select a subset of the visibility using MSSelection.\n",
    "Default: False.  Examples: *selectdata=True*\n",
    "\n"
   ]
  },
  {
   "cell_type": "markdown",
   "metadata": {},
   "source": [
    "##### *timerange*\n",
    "\n",
    "Select data based on time range. Default = '' (all).\n",
    "Examples: *timerange =\n",
    "'YYYY/MM/DD/hh:mm:ss\\~YYYY/MM/DD/hh:mm:ss'*\n",
    "\n",
    "**NOTE**: YYYY/MM/DD can be dropped as needed.\n",
    "\n",
    "Further examples:* timerange='09:14:0\\~09:54:0'* yields the quoted time\n",
    "range; *timerange='09:44:00'* yields data within one integration of the\n",
    "specified time; *timerange='\\>10:24:00'* yields data after the specified\n",
    "time; *timerange='09:44:00+00:13:00'* yields data 13 minutes after the\n",
    "specified time\n",
    "\n"
   ]
  },
  {
   "cell_type": "markdown",
   "metadata": {},
   "source": [
    "##### *uvrange*\n",
    "\n",
    "Select data within uvrange (default units kilo-lambda).\n",
    "Default: '' (all). Examples: *uvrange='0\\~1000klambda'*, uvrange from\n",
    "0-1000 kilo-lambda; *uvrange='\\>4klambda'*, uvranges greater than 4 kilo\n",
    "lambda; *uvrange='0\\~1000km'*, uvrange in kilometers\n",
    "\n"
   ]
  },
  {
   "cell_type": "markdown",
   "metadata": {},
   "source": [
    "##### *antenna*\n",
    "\n",
    "Select data based on antenna/baseline. Default: ''\n",
    "(all).  Examples: *antenna='5&6'*, baseline 5-6; *antenna='5&6;7&8'*,\n",
    "baselines 5-6 and 7-8; *antenna='5'*, all baselines with antenna 5;\n",
    "*antenna='5,6'*, all baselines with antennas 5 and 6\n",
    "\n"
   ]
  },
  {
   "cell_type": "markdown",
   "metadata": {},
   "source": [
    "##### *scan*\n",
    "\n",
    "Select data based on scan number. Default: '' (all).\n",
    "Examples: *scan='\\>3'*\n",
    "\n"
   ]
  },
  {
   "cell_type": "markdown",
   "metadata": {},
   "source": [
    "##### *msselect*\n",
    "\n",
    "Optional data selection (field,spw,time,etc).\n",
    "Default:'' means select all.  Examples: *msselect='FIELD_ID==0'*;\n",
    "*msselect='FIELD_ID IN \\[0,1,2\\]'* means select fields 0,1 and 2;\n",
    "*msselect='FIELD_ID \\<= 1'* means select fields 0, 1;\n",
    "*msselect='FIELD_ID==0 && ANTENNA1 IN \\[0\\] && ANTENNA2 IN \\[2:26\\]'*\n",
    "means select field 0 and antennas 0 to 26, except antenna 1. Other\n",
    "msselect fields are: 'DATA_DESC_ID', 'SPECTRAL_WINDOW_ID',\n",
    "'POLARIZATION_ID', 'SCAN_NUMBER', 'TIME', 'UVW'. \n",
    "\n"
   ]
  },
  {
   "cell_type": "markdown",
   "metadata": {},
   "source": [
    "##### *niter*\n",
    "\n",
    "Number of fitting iterations to execute. Default: 5.\n",
    "Examples: *niter=20*\n",
    "\n"
   ]
  },
  {
   "cell_type": "markdown",
   "metadata": {},
   "source": [
    "##### *comptype*\n",
    "\n",
    "Component model type. Default: *'P'*. Options: *'P'*\n",
    "(point source), *'G'* (elliptical gaussian), *'D'* (elliptical\n",
    "disk)\n",
    "\n"
   ]
  },
  {
   "cell_type": "markdown",
   "metadata": {},
   "source": [
    "##### *sourcepar*\n",
    "\n",
    "Starting guess for component parameters. Default:\n",
    "\\[1,0,0\\] (for\n",
    "*comptype='P'*). \n",
    "\n",
    "If *comptype = 'P'*, then *sourcepar =\n",
    "\\[flux,xoff,yoff\\],* where *flux* = flux (Jy), *xoff* = offset east\n",
    "(arcsec), *yoff* = offset north (arcsec). \n",
    "\n",
    "If *comptype = 'G'* or *'D'*, then *sourcepar =\n",
    "\\[flux,xoff,yoff,majax,axrat,pos\\],* where *majax* = FWHM along the\n",
    "major axis (arcsec), *axrat* \\< 1 is the ratio of minor to major axis,\n",
    "*pos *= position angle (deg)\n",
    "\n"
   ]
  },
  {
   "cell_type": "markdown",
   "metadata": {},
   "source": [
    "##### *varypar*\n",
    "\n",
    "Control which parameters to let vary in the fit.\n",
    "Default: \\[ \\] (all vary). Examples:\n",
    "*varypar=\\[False,True,True\\]*\n",
    "\n"
   ]
  },
  {
   "cell_type": "markdown",
   "metadata": {},
   "source": [
    "####  \n",
    "\n",
    "**Examples with *comptype*, *sourcepar*, and *varypar***\n",
    "\n",
    "Fit a point: *comptype = 'P'*, *sourcepar =\n",
    "\\[0.4,0.2,-0.3\\]*, *varypar = \\[True,True,True\\]*\n",
    "\n",
    "Fit a circular Gaussian: *comptype = 'G'*, *sourcepar =\n",
    "\\[1.4,0.3,-0.2,0.3, 1, 0\\]*, *varypar = \\[ True , True ,  True , True , False,\n",
    "False\\]*\n",
    "\n",
    " \n",
    "\n"
   ]
  },
  {
   "cell_type": "markdown",
   "metadata": {},
   "source": [
    "##### *outfile*\n",
    "\n",
    "Optional output component list table. Default: ''.\n",
    "Examples: *outfile='componentlist.cl'*\n",
    "\n",
    "How to get the output values:\n",
    "\n",
    "cl.open('componentlist.cl')        \\#open the componentlist\n",
    "'componentlist.cl'\n",
    "\n",
    "fit = cl.getcomponent(0)           \\#stores component informationof the\n",
    "first component \n",
    "\n",
    "fit                                \\#to see the list\n",
    "\n",
    "flux = fit\\['flux'\\]\\['value'\\]        \\#to store the I,Q,U,V, flux\n",
    "\n",
    "print flux\n",
    "\n",
    " \n",
    "\n",
    "ra = fit\\['shape'\\]\\['direction'\\]\\['m0'\\]\\['value'\\]\n",
    "\n",
    "dec =fit\\['shape'\\]\\['direction'\\]\\['m1'\\]\\['value'\\]\n",
    "\n",
    "print ra, dec\n",
    "\n",
    " \n",
    "\n",
    "bmaj = fit\\['shape'\\]\\['majoraxis'\\]\\['value'\\]     \\#to get major axis\n",
    "\n",
    "bmin = fit\\['shape'\\]\\['minoraxis'\\]\\['value'\\]     \\#to get minor axis \n",
    "\n",
    " \n",
    "\n",
    "|                 |                                                                                           |\n",
    "|:----------------|-------------------------------------------------------------------------------------------|\n",
    "| Citation Number | 1                                                                                         |\n",
    "| Citation Text   | Marti-Vidal et al. 2014, A&A 563, 136 ([arXiv:1401.4984](http://arxiv.org/abs/1401.4984)) |\n",
    "\n",
    "Bibliography\n",
    "\n",
    "  \n",
    "<sup>1.\\ Marti-Vidal\\ et\\ al.\\ 2014,\\ A&A\\ 563,\\ 136\\ ([arXiv:1401.4984](http://arxiv.org/abs/1401.4984))\\ [↩](#ref-cit1 \"Jump back to citation 1 in the text.\")</sup>"
   ]
  }
 ],
 "metadata": {},
 "nbformat": 4,
 "nbformat_minor": 5
}
