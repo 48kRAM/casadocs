{
 "cells": [
  {
   "cell_type": "markdown",
   "metadata": {},
   "source": [
    "# flagdata\n",
    "\n",
    "task description\n",
    "\n",
    "This task can flag a MeasurementSet or a calibration table. It has two\n",
    "main types of operation. One type will read the parameters from the\n",
    "interface and flag using any of the various available modes. The other\n",
    "type will read the commands from a text file, a list of files or a\n",
    "Python list of strings, containing a list of flag commands (each line\n",
    "containing data selection parameters and any parameter specific for the\n",
    "mode being requested). Please see examples at the end of this help.\n",
    "\n",
    "It is also possible to only save the parameters set in the interface\n",
    "without flagging. The parameters can be saved in the FLAG_CMD sub-table\n",
    "or in a text file. Note that when saving to an external file, the\n",
    "parameters will be appended to the given file.\n",
    "\n",
    "The available flagging modes are: 'manual', 'clip', 'shadow', 'quack',\n",
    "'elevation', 'tfcrop', 'rflag', 'extend', 'unflag' and 'summary'. For\n",
    "automatic flagging, it is recommended to combine auto-flag modes with\n",
    "'extend', via the *list* mode.\n",
    "\n",
    "The current flags can be automatically backed up before applying new\n",
    "flags if the parameter *flagbackup* is set. Previous flag versions can\n",
    "be recovered using the **flagmanager** task.\n",
    "\n",
    "**NOTE** on flagging calibration tables:  \n",
    "&nbsp;&nbsp;&nbsp;&nbsp;&nbsp;&nbsp; &nbsp;  \n",
    "**flagdata** can flag many types of calibration tables using\n",
    "*mode='manual'*. It can only flag using the auto-flagging algorithms\n",
    "('clip', 'tfcrop', or 'rflag'), the cal tables that have the following\n",
    "data columns: CPARAM, FPARAM or SNR. The solution elements of the data\n",
    "columns are given in the *correlation* parameter using the names 'Sol1',\n",
    "'Sol2', 'Sol3', or 'Sol4'. See examples at the end of this help on how\n",
    "to flag different cal tables.\n",
    "\n",
    "When the input is a calibration table, the modes 'elevation' and\n",
    "'shadow' will be disabled. Data selection for calibration tables is\n",
    "limited to *field*, *scan*, *timerange*, *antenna*, *spw*&nbsp; and\n",
    "*observation*. It is only possible to save the parameters to an external\n",
    "file. If the calibration table was created before CASA 4.1, this task\n",
    "will create a dummy OBSERVATION column and OBSERVATION sub-table in the\n",
    "input calibration table to adapt it to the new cal table format.\n",
    "\n",
    "Selecting antennas in some calibration tables have a different meaning\n",
    "compared to selecting the MS. Some calibration tables such as the\n",
    "antenna-based ones, created with some modes of **gencal** or **polcal**,\n",
    "have the ANTENNA2 column set to -1. This means that when selecting\n",
    "*antenna='ANT'*, will select the whole ANT and not the\n",
    "cross-correlations between ANT and the other antennas. Similarly, the\n",
    "baseline syntax do not apply to this type of calibration tables. Those\n",
    "values with ampersand do not have any meaning when selecting\n",
    "antenna/baselines in antenna-based cal tables.\n",
    "\n",
    "The task will flag a subset of data based on the following modes of\n",
    "operation:\n",
    "\n",
    "-   'list' = list of flagging commands to apply to MS/cal table\n",
    "-   'manual' = flagging based on specific selection parameters\n",
    "-   'clip' = clip data according to values\n",
    "-   'quack' = remove/keep specific time range at scan beginning/end\n",
    "-   'shadow' = remove antenna-shadowed data\n",
    "-   'elevation' = remove data below/above given elevations\n",
    "-   'tfcrop' = automatic identification of outliers on the time-freq\n",
    "    plane\n",
    "-   'rflag' = automatic detection of outliers based on sliding-window\n",
    "    RMS filters\n",
    "-   'antint' = flag integrations if all baselines to a specified antenna\n",
    "    are flagged\n",
    "-   'extend' = extend and/or grow flags beyond what the basic algorithms\n",
    "    detect\n",
    "-   'summary' = report the amount of flagged data\n",
    "-   'unflag' = unflag the specified data&nbsp;\n",
    "\n",
    "&nbsp;\n",
    "\n"
   ]
  },
  {
   "cell_type": "markdown",
   "metadata": {},
   "source": [
    "## Parameter descriptions\n",
    "\n"
   ]
  },
  {
   "cell_type": "markdown",
   "metadata": {},
   "source": [
    "##### *vis*\n",
    "\n",
    "Name of input visibility file or calibration table. Default: '' (none).\n",
    "Examples: *vis='uid\\_\\_\\_A002_X2a5c2f_X54.ms'*, *vis='cal-X54.B1'*\n",
    "\n"
   ]
  },
  {
   "cell_type": "markdown",
   "metadata": {},
   "source": [
    "##### *mode*\n",
    "\n",
    "Mode of operation. Options: 'list', 'manual', 'clip', 'quack', 'shadow',\n",
    "'elevation', 'tfcrop', 'extend', 'unflag', 'summary'. Default: 'manual'\n",
    "\n"
   ]
  },
  {
   "cell_type": "markdown",
   "metadata": {},
   "source": [
    "#### *mode* expandable parameters (except *mode='list'*)\n",
    "\n"
   ]
  },
  {
   "cell_type": "markdown",
   "metadata": {},
   "source": [
    "##### *field*\n",
    "\n",
    "Select fields in mosaic. Use field id(s) or field name(s). \\[go listobs to\n",
    "obtain the list id's or names\\] Default: '' = all fields. If field\n",
    "string is a non-negative integer, it is assumed to be a field index\n",
    "otherwise, it is assumed to be a field name. Examples: *field='0\\~2'*,\n",
    "field ids 0,1,2; *field='0,4,5\\~7'*, field ids 0,4,5,6,7;\n",
    "*field='3C286,3C295'*, field named 3C286 and 3C295; *field = '3,4C\\*'*,\n",
    "field id 3 and all names starting with 4C.\n",
    "\n"
   ]
  },
  {
   "cell_type": "markdown",
   "metadata": {},
   "source": [
    "##### *spw*\n",
    "\n",
    "Select data based on spectral window and channels. Default: '' =\\> all\n",
    "spectral windows and channels. Examples: *spw='0\\~2,4'*, spectral\n",
    "windows 0,1,2,4 (all channels); *spw='0:5\\~61'*, spw 0, channels 5 to\n",
    "61; *spw='\\<2'*, spectral windows less than 2 (i.e. 0,1);\n",
    "*spw='0,10,3:3\\~45'*, spw 0,10 all channels, spw 3, channels 3 to 45;\n",
    "*spw='0\\~2:2\\~6'*; spw 0,1,2 with channels 2 through 6 in each;\n",
    "*spw='0:0\\~10;15\\~60'*; spectral window 0 with channels 0-10,15-60;\n",
    "*spw='0:0\\~10,1:20\\~30,2:1;2;3'*; spw 0, channels 0-10, spw 1, channels\n",
    "20-30, and spw 2, channels, 1,2 and 3.\n",
    "\n",
    "**NOTE** : For modes 'clip', 'tfcrop', and 'rflag', channel-ranges can\n",
    "be excluded from flagging by leaving them out of the selection range.\n",
    "This is a way to protect known spectral-lines from being flagged by the\n",
    "autoflag algorithms.\n",
    "\n"
   ]
  },
  {
   "cell_type": "markdown",
   "metadata": {},
   "source": [
    "##### *antenna*\n",
    "\n",
    "Select data based on baseline. Default: '' (all). Examples:\n",
    "*antenna='DV04&DV06'* baseline DV04-DV06;\n",
    "*antenna='DV04&DV06;DV07&DV10'* baselines DV04-DV06 and DV07-DV10;\n",
    "*antenna='DV06'* all cross-correlation baselines between antenna DV06\n",
    "and all other available antennas; *antenna='DV04,DV06'* all baselines\n",
    "with antennas DV04 and DV06; *antenna='DV06&&DV06'* only the\n",
    "auto-correlation baselines for antenna DV06; *antenna='DV04&&\\*'* cross\n",
    "and auto-correlation baselines between antenna DV04 and all other\n",
    "available antennas; *antenna='0\\~2&&&'* only the auto-correlation\n",
    "baselines for antennas in range 0\\~2&nbsp;&nbsp;&nbsp;\n",
    "\n",
    "**NOTE**: For some antenna-based calibration tables, selecting baselines\n",
    "with the & syntax do not apply.\n",
    "\n"
   ]
  },
  {
   "cell_type": "markdown",
   "metadata": {},
   "source": [
    "##### *timerange*\n",
    "\n",
    "Select data based on time range. Default: '' (all). Examples: *timerange\n",
    "= 'YYYY/MM/DD/hh:mm:ss\\~YYYY/MM/DD/hh:mm:ss'*;\n",
    "\n",
    "**NOTE**: if YYYY/MM/DD is missing date defaults to first day in data\n",
    "set.\n",
    "\n",
    "*timerange='09:14:0\\~09:54:0'* picks 40 min on first day;\n",
    "*timerange='25:00:00\\~27:30:00'* picks 1 hr to 3 hr 30min on NEXT day;\n",
    "*timerange='09:44:00'* pick data within one integration of time;\n",
    "*timerange='\\>10:24:00'* data after this time.\n",
    "\n"
   ]
  },
  {
   "cell_type": "markdown",
   "metadata": {},
   "source": [
    "##### *correlation*\n",
    "\n",
    "Correlation types or expression. Default: '' (all correlations). For\n",
    "modes clip, tfcrop or rflag, the default means ABS_ALL. If the input is\n",
    "cal table that does not contain a complex data column, the default will\n",
    "fall back to REAL_ALL. Examples: *correlation='XX,YY'* or options: Any\n",
    "of 'ABS', 'ARG', 'REAL', 'IMAG', 'NORM' followed by any of 'ALL', 'I',\n",
    "'XX', 'YY', 'RR', 'LL', 'WVR'. 'WVR' refers to the water vapour\n",
    "radiometer of ALMA data. For calibration tables, the solutions are:\n",
    "'Sol1', 'Sol2', Sol3, Sol4. Correlation selection is not supported for\n",
    "modes other than 'clip', 'tfcrop', or 'rflag' in cal tables.\n",
    "\n",
    "**NOTE**: The operators ABS, ARG, REAL, etc. are written only once as\n",
    "the first value. If more than one correlation is given, the operator\n",
    "will be applied to all of them. The expression is used only in modes\n",
    "'clip', 'tfcrop', and 'rflag'.\n",
    "\n"
   ]
  },
  {
   "cell_type": "markdown",
   "metadata": {},
   "source": [
    "##### *scan*\n",
    "\n",
    "Scan number range. Default: '' (all). Examples: *scan='1\\~5'*. Check\n",
    "'go\n",
    "listobs' to\n",
    "insure the scan numbers are in order.\n",
    "\n"
   ]
  },
  {
   "cell_type": "markdown",
   "metadata": {},
   "source": [
    "##### *intent*\n",
    "\n",
    "Select data based on scan intent. Intent selection is not supported for\n",
    "cal tables. Default: '' (all). Examples: *intent='\\*CAL\\*,\\*BAND\\*'*\n",
    "\n"
   ]
  },
  {
   "cell_type": "markdown",
   "metadata": {},
   "source": [
    "##### *array*\n",
    "\n",
    "Selection based on the antenna array. Array selection is not supported\n",
    "for cal tables. Default: '' (all).\n",
    "\n"
   ]
  },
  {
   "cell_type": "markdown",
   "metadata": {},
   "source": [
    "##### *uvrange*\n",
    "\n",
    "Select data within uvrange (default units meters). Default: '' (all).\n",
    "Examples: *uvrange='0\\~1000klambda'*, uvrange from 0-1000 kilo-lambda;\n",
    "*uvrange='\\>4klambda'*, uvranges greater than 4 kilo lambda. *uvrange*\n",
    "selection is not supported for cal tables.\n",
    "\n"
   ]
  },
  {
   "cell_type": "markdown",
   "metadata": {},
   "source": [
    "##### *observation*\n",
    "\n",
    "Selection based on the observation ID. Default: '' (all). Examples:\n",
    "*observation='1'* or *observation=1*\n",
    "\n"
   ]
  },
  {
   "cell_type": "markdown",
   "metadata": {},
   "source": [
    "##### *feed*\n",
    "\n",
    "Selection based on the feed - NOT IMPLEMENTED YET\n",
    "\n",
    "&nbsp;\n",
    "\n"
   ]
  },
  {
   "cell_type": "markdown",
   "metadata": {},
   "source": [
    "#### *mode='manual'* expandable parameters\n",
    "\n",
    "Flag according to the data selection specified. This is the default mode\n",
    "(used when the mode is not specified).\n",
    "\n"
   ]
  },
  {
   "cell_type": "markdown",
   "metadata": {},
   "source": [
    "##### *autocorr*\n",
    "\n",
    "Flag only the auto-correlations. Note that this parameter is only active\n",
    "when set to True. If set to False it does NOT mean \"do not flag\n",
    "auto-correlations\". When set to True, it will only flag data from a\n",
    "processor of type CORRELATOR. Default: False. Otions: True, False\n",
    "\n",
    "&nbsp;\n",
    "\n"
   ]
  },
  {
   "cell_type": "markdown",
   "metadata": {},
   "source": [
    "#### *mode='list'* expandable parameters\n",
    "\n",
    "Flag according to the data selection and flag commands specified in the\n",
    "input list. The input list may come from a text file, a list of text\n",
    "files or from a Python list of strings. Each input line may contain data\n",
    "selection parameters and any parameter specific to the mode given in the\n",
    "line. Default values will be used for the parameters that are not\n",
    "present in the line. Each line will be taken as a command to the task.\n",
    "If data is pre-selected using any of the selection parameters, then\n",
    "flagging will apply only to that subset of the MS.\n",
    "\n",
    "For optimization and whenever possible, the task will create a union of\n",
    "the data selection parameters present in the list and select only that\n",
    "portion of the MS.\n",
    "\n",
    "**NOTE1**: The flag commands will be applied only when *action='apply'*.\n",
    "If *action='calculate'* the flags will be calculated, but not applied.\n",
    "This is useful if *display* is set to something other than 'none'. If\n",
    "*action=''* or *'none'*, the flag commands will not be applied either.\n",
    "An empty *action* is useful only to save the parameters of the list to a\n",
    "file or to the FLAG_CMD sub-table.\n",
    "\n",
    "**NOTE2**: quackincrement = True works based on the state of prior\n",
    "flagging, and unless it is the first item in the list the agent doing\n",
    "the quacking in list mode doesn't know about the state of prior flags.\n",
    "In this case, the command with quackincrement=True &nbsp;will be ignored\n",
    "and the task will issue a WARNING.\n",
    "\n"
   ]
  },
  {
   "cell_type": "markdown",
   "metadata": {},
   "source": [
    "##### *inpfile*\n",
    "\n",
    "Input ASCII file, list of files or a Python list of command strings.\n",
    "Default: ''. Options: \\[ \\] with flag commands or \\[ \\] with filenames\n",
    "or ' ' with a filename.\n",
    "\n",
    "**IMPORTANT**: From CASA 4.3 onwards, the parser will be strict and\n",
    "accept only valid **flagdata** parameters in the list. It will check\n",
    "each parameter name and type and exit with an error if any of them is\n",
    "wrong. String values must contain quotes around them or the parser will\n",
    "not work. The parser evaluates the commands in the list and considers\n",
    "only existing Python types.\n",
    "\n",
    "**NOTE**: There should be no whitespace between KEY=VALUE since the\n",
    "parser first breaks command lines on whitespace, then on \"=\". Use only\n",
    "one whitespace to separate the parameters (no commas). Scroll down to\n",
    "the bottom to see a detailed description of the input list syntax..\n",
    "\n",
    "Example1: The following commands can be saved to a file or group of\n",
    "files and given to the task (e.g., save it to 'flags.txt'):&nbsp;\n",
    "\n",
    "    scan='1~3' mode='manual'\n",
    "    mode='clip' clipminmax=[0,2] correlation='ABS_XX' clipoutside=False\n",
    "    spw='9' mode='tfcrop' correlation='ABS_YY' ntime=51.0\n",
    "    mode='extend' extendpols=True\n",
    "\n",
    "flagdata(vis, mode='list', inpfile='flags.txt')\n",
    "\n",
    "or\n",
    "\n",
    "flagdata(vis, mode='list', inpfile=\\['onlineflags.txt'\n",
    ",'otherflags.txt'\\])\n",
    "\n",
    "Example2: The same commands can be given in a Python list on the command\n",
    "line to the task.\n",
    "\n",
    "cmd=\\[\"scan='1\\~3' mode='manual'\",  \n",
    "&nbsp;&nbsp;&nbsp;&nbsp; \"mode='clip' clipminmax=\\[0,2\\]\n",
    "correlation='ABS_XX' clipoutside=False\",  \n",
    "&nbsp;&nbsp;&nbsp;&nbsp; \"spw='9' mode='tfcrop' correlation='ABS_YY'\n",
    "ntime=51.0\",  \n",
    "&nbsp;&nbsp;&nbsp;&nbsp; \"mode='extend' extendpols=True\"\\]  \n",
    "  \n",
    "flagdata(vis,mode='list',inpfile=cmd)\n",
    "\n"
   ]
  },
  {
   "cell_type": "markdown",
   "metadata": {},
   "source": [
    "##### *reason*\n",
    "\n",
    "Select flag commands based on REASON(s). Can be a string, or list of\n",
    "strings. If *inpfile* is a list of files, the reasons given in this\n",
    "parameter will apply to all the files. Default: 'any' (all flags\n",
    "regardless of reason). Examples: *reason='FOCUS_ERROR'*;\n",
    "*reason=\\['FOCUS_ERROR', 'SUBREFLECTOR_ERROR'\\]*&nbsp;&nbsp;&nbsp;\n",
    "\n",
    "**NOTE**: what is within the string is literally matched, e.g. reason=''\n",
    "matches only blank reasons, and r*eason = 'FOCUS_ERROR,\n",
    "SUBREFLECTOR_ERROR'* matches this compound reason string only. See the\n",
    "syntax for writing flag commands at the end of this help.&nbsp;\n",
    "\n"
   ]
  },
  {
   "cell_type": "markdown",
   "metadata": {},
   "source": [
    "##### *tbuff*\n",
    "\n",
    "A time buffer or list of time buffers to pad the *timerange* parameters\n",
    "in flag commands. When a list of 2 time buffers is given, it will\n",
    "subtract the first value from the lower time and the second value will\n",
    "be added to the upper time in the range. The 2 time buffer values can be\n",
    "different, allowing to have an irregular time buffer padding to time\n",
    "ranges. If the list contains only one time buffer, it will use it to\n",
    "subtract from t0 and add to t1. If more than one list of input files is\n",
    "given, *tbuff* will apply to all of the flag commands that have\n",
    "*timerange* parameters in the files.\n",
    "\n",
    "Each *tbuff* value should be a float number given in seconds. Default:\n",
    "0.0 (it will not apply any time padding). Example: *tbuff=\\[0.5, 0.8\\]\n",
    "inpfile=\\['online.txt','userflags.txt'\\].* The *timerange* parameters in\n",
    "the 'online.txt' file are first converted to seconds. Then, 0.5 is\n",
    "subtracted from t0 and 0.8 is added to t1, where t0 and t1 are the two\n",
    "intervals given in timerange. Similarly, *tbuff* will be applied to any\n",
    "timerange in 'userflags.txt'.&nbsp;&nbsp;&nbsp;\n",
    "\n",
    "**IMPORTANT**: This parameter assumes that timerange = t0 \\~ t1,\n",
    "therefore it will not work if only t0 or t1 is given.\n",
    "\n",
    "**NOTE**: The most common use-case for tbuff is to apply the online\n",
    "flags that are created by importasdm when savecmds=True. The value of a\n",
    "regular time buffer should be *tbuff=0.5\\*max*(integration time).\n",
    "\n",
    "&nbsp;\n",
    "\n"
   ]
  },
  {
   "cell_type": "markdown",
   "metadata": {},
   "source": [
    "#### *mode='clip'* expandable parameters\n",
    "\n",
    "Clip data according to values of the following subparameters. The\n",
    "polarization expression is given by the *correlation* parameter. For\n",
    "calibration tables, the solutions are also given by the *correlation*\n",
    "parameter.\n",
    "\n"
   ]
  },
  {
   "cell_type": "markdown",
   "metadata": {},
   "source": [
    "##### *clipminmax*\n",
    "\n",
    "Range of data (Jy) that will NOT be flagged. It will always flag the\n",
    "NaN/Inf data, even when a range is specified. Default: \\[ \\]. Example:\n",
    "*clipminmax=\\[0.0,1.5\\]*\n",
    "\n"
   ]
  },
  {
   "cell_type": "markdown",
   "metadata": {},
   "source": [
    "##### *clipoutside*\n",
    "\n",
    "Clip OUTSIDE the range. Default: True. Example: *clipoutside=False*,\n",
    "flag data WITHIN the *clipminmax* range.\n",
    "\n"
   ]
  },
  {
   "cell_type": "markdown",
   "metadata": {},
   "source": [
    "##### *clipzeros*\n",
    "\n",
    "Clip zero-value data. Default: False.\n",
    "\n",
    "&nbsp;\n",
    "\n"
   ]
  },
  {
   "cell_type": "markdown",
   "metadata": {},
   "source": [
    "#### *mode='clip', 'tfcrop', or 'rflag'* expandable parameters\n",
    "\n"
   ]
  },
  {
   "cell_type": "markdown",
   "metadata": {},
   "source": [
    "##### *datacolumn*\n",
    "\n",
    "Column to use for clipping. Default: 'DATA'. Options: MS columns:\n",
    "'DATA', 'CORRECTED', 'MODEL', 'RESIDUAL', 'RESIDUAL_DATA',\n",
    "'WEIGHT_SPECTRUM', 'WEIGHT', 'FLOAT_DATA'. Cal table columns: 'FPARAM',\n",
    "'CPARAM', 'SNR',\n",
    "'WEIGHT'.&nbsp;&nbsp;&nbsp;&nbsp;&nbsp;&nbsp;&nbsp;&nbsp;&nbsp;&nbsp;&nbsp;&nbsp;&nbsp;&nbsp;&nbsp;&nbsp;&nbsp;&nbsp;&nbsp;&nbsp;&nbsp;&nbsp;&nbsp;&nbsp;&nbsp;&nbsp;&nbsp;&nbsp;\n",
    "\n",
    "**NOTE1**: RESIDUAL = CORRECTED - MODEL  \n",
    "&nbsp;&nbsp;&nbsp;&nbsp;&nbsp;&nbsp;&nbsp;&nbsp;&nbsp;&nbsp;&nbsp;&nbsp;\n",
    "RESIDUAL_DATA = DATA - MODEL  \n",
    "**NOTE2**: When *datacolumn* is WEIGHT, the task will internally use\n",
    "WEIGHT_SPECTRUM. If WEIGHT_SPECTRUM does not exist, it will create one\n",
    "on-the-fly based on the values of WEIGHT.\n",
    "\n"
   ]
  },
  {
   "cell_type": "markdown",
   "metadata": {},
   "source": [
    "##### *channelavg*\n",
    "\n",
    "Pre-average data across channels before analyzing visibilities for\n",
    "flagging. Partially flagged data is not be included in the average\n",
    "unless all data contributing to a given output channel is flagged. If\n",
    "present, WEIGHT_SPECTRUM/ SIGMA_SPECTRUM are used to compute a weighted\n",
    "average (WEIGHT_SPECTRUM for CORRECTED_DATA and SIGMA_SPECTRUM for\n",
    "DATA). Default: False. Options:\n",
    "True/False&nbsp;&nbsp;&nbsp;&nbsp;&nbsp;&nbsp;&nbsp;&nbsp;&nbsp;&nbsp;&nbsp;&nbsp;&nbsp;&nbsp;&nbsp;&nbsp;&nbsp;&nbsp;&nbsp;\n",
    "\n",
    "**NOTE1**: Pre-average across channels is\n",
    "meant to be used with the auto-flagging methods (clip, tfcrop, rflag)\n",
    "only. In list mode, if channelavg is enabled and any other method than\n",
    "clip, tfcrop, rflag is used, that is forbidden and flagdata will produce\n",
    "an error message and stop. The same applies to timeavg.  \n",
    "**NOTE2**: Pre-average across channels is not supported for calibration\n",
    "tables.\n",
    "\n"
   ]
  },
  {
   "cell_type": "markdown",
   "metadata": {},
   "source": [
    "##### *chanbin*\n",
    "\n",
    "Bin width for channel average in number of input channels. If a list is\n",
    "given, each bin applies to one of the selected SPWs. When chanbin is set\n",
    "to 1 all input channels are used considered for the average to produce a\n",
    "single output channel, this behaviour aims to be preserve backwards\n",
    "compatibility with the previous pre-averaging feature of clip mode.\n",
    "Default: 1&nbsp;&nbsp; &nbsp;\n",
    "\n"
   ]
  },
  {
   "cell_type": "markdown",
   "metadata": {},
   "source": [
    "##### *timeavg*\n",
    "\n",
    "Pre-average data across time before analyzing visibilities for flagging.\n",
    "Partially flagged data is not be included in the average unless all data\n",
    "contributing to a given output channel is flagged. If present,\n",
    "WEIGHT_SPECTRUM/ SIGMA_SPECTRUM are used to compute a weighted average\n",
    "(WEIGHT_SPECTRUM for CORRECTED_DATA and SIGMA_SPECTRUM for DATA).\n",
    "Otherwise WEIGHT/ SIGMA are used to average together data from different\n",
    "integrations. Default: False. Options: True/False&nbsp;\n",
    "\n",
    "**NOTE1**: Pre-average across time is\n",
    "meant to be used with the auto-flagging methods (clip, tfcrop, rflag)\n",
    "only. In list mode, if timeavg is enabled and any other method than\n",
    "clip, tfcrop, rflag is used, that is forbidden and flagdata will produce\n",
    "an error message and stop. The same applies to channelavg.  \n",
    "**NOTE2**: Pre-average across time is not supported for calibration\n",
    "tables&nbsp;\n",
    "\n"
   ]
  },
  {
   "cell_type": "markdown",
   "metadata": {},
   "source": [
    "##### *timebin*\n",
    "\n",
    "Bin width for time average in seconds. Default: '0s'\n",
    "\n",
    "\\[NOTE ADDED FROM CAS-12294\\] The\n",
    "auto-flagging methods (clip, tfcrop, rflag) can be used together with\n",
    "timeavg and channelavg, and other modes or agents. But when timeavg,\n",
    "channelavg (or both) are enabled the set of other modes or agents that\n",
    "can be used simultaneously is limited to the following ones:\n",
    "extendflags, antint, and the display='data' GUI. display='data' and\n",
    "extendflags can be added either in the flagdata command line or in list\n",
    "mode. antint can only be added in list mode, as there is no subparameter\n",
    "of clip, rflag, or tfcrop for this.  \n",
    "\n",
    "\n"
   ]
  },
  {
   "cell_type": "markdown",
   "metadata": {},
   "source": [
    "#### *mode='quack'* expandable parameters\n",
    "\n",
    "Option to remove specified part of scan beginning/end.\n",
    "\n"
   ]
  },
  {
   "cell_type": "markdown",
   "metadata": {},
   "source": [
    "##### *quackinterval*\n",
    "\n",
    "Time in seconds from scan beginning or end to flag. Make time slightly\n",
    "smaller than the desired time. Default: 0.0. Type: int or float.\n",
    "\n"
   ]
  },
  {
   "cell_type": "markdown",
   "metadata": {},
   "source": [
    "##### *quackmode*\n",
    "\n",
    "Quack mode. Default: 'beg'. Options:\n",
    "\n",
    "-   'beg'&nbsp; ==\\> flag an interval at the beginning of scan\n",
    "-   'endb' ==\\> flag an interval at the end of scan\n",
    "-   'tail' ==\\> flag all but an interval at the beginning of scan\n",
    "-   'end'&nbsp; ==\\> flag all but an interval at end of scan\n",
    "\n",
    "Visual representation of quack mode flagging one scan with 1s duration.\n",
    "The following diagram shows what is flagged for each quack mode when\n",
    "*quackinterval* is set to 0.25s. The flagged part is represented by\n",
    "crosses (+++++++++):\n",
    "\n",
    "               scan with 1s duration\n",
    "    --------------------------------------------\n",
    "    beg\n",
    "    +++++++++++---------------------------------\n",
    "                                     endb\n",
    "    ---------------------------------+++++++++++\n",
    "               tail\n",
    "    -----------+++++++++++++++++++++++++++++++++\n",
    "    end\n",
    "    +++++++++++++++++++++++++++++++++-----------\n",
    "\n"
   ]
  },
  {
   "cell_type": "markdown",
   "metadata": {},
   "source": [
    "##### q*uackincrement*\n",
    "\n",
    "Increment quack flagging in time taking into account flagged data or\n",
    "not. Default: False. Type: bool\n",
    "\n",
    "-   False&nbsp; ==\\> the quack interval is counted from the scan\n",
    "    boundaries, as determined by the quackmode parameter, regardless if\n",
    "    data has been flagged or not.\n",
    "-   True&nbsp;&nbsp; ==\\> the quack interval is counted from the first\n",
    "    unflagged data in the scan.\n",
    "\n",
    "quackincrement = True works based on the state of prior flagging, and\n",
    "unless it is the first item in the list the agent doing the quacking in\n",
    "list mode doesn't know about the state of prior flags. In this case, the\n",
    "command with quackincrement=True &nbsp;will be ignored and the task will\n",
    "issue a WARNING.\n",
    "\n",
    "&nbsp;\n",
    "\n"
   ]
  },
  {
   "cell_type": "markdown",
   "metadata": {},
   "source": [
    "#### *mode='shadow'* expandable parameters\n",
    "\n",
    "Option to flag data of shadowed antennas. This mode is not available for\n",
    "cal tables.\n",
    "\n",
    "All antennas in the ANTENNA subtable of the MS (and the corresponding\n",
    "diameters) will be considered for shadow-flag calculations. For a given\n",
    "timestep, an antenna is flagged if any of its baselines (projected onto\n",
    "the uv-plane) is shorter than&nbsp; radius$_{1}$ $+$ radius$_{2}$ $-$ tolerance. The value of 'w' is used\n",
    "to determine which antenna is behind the other. The phase-reference\n",
    "center is used for antenna-pointing direction.\n",
    "\n"
   ]
  },
  {
   "cell_type": "markdown",
   "metadata": {},
   "source": [
    "##### *tolerance*\n",
    "\n",
    "Amount of shadowing allowed (or tolerated), in meters. A positive number\n",
    "allows antennas to overlap in projection. A negative number forces\n",
    "antennas apart in projection. Zero implies a distance of radius$_{1}$ $+$ radius$_{2}$ between\n",
    "antenna centers. Default: 0.0\n",
    "\n"
   ]
  },
  {
   "cell_type": "markdown",
   "metadata": {},
   "source": [
    "##### *addantenna*\n",
    "\n",
    "It can be either a file name with additional antenna names, positions\n",
    "and diameters, or a Python dictionary with the same information. You can\n",
    "use the **flaghelper** functions to create the dictionary from a file.\n",
    "Default: ''. Type: string or {} (dictionary). To create a dictionary\n",
    "inside CASA:\n",
    "\n",
    "import flaghelper as fh  \n",
    "antdic = fh.readAntennaList(antfile)\n",
    "\n",
    "Where antfile is a\n",
    "text file in disk that contains information such as:\n",
    "\n",
    "    name=VLA01\n",
    "    diameter=25.0\n",
    "    position=[-1601144.96146691, -5041998.01971858, 3554864.76811967]\n",
    "    name=VLA02\n",
    "    diameter=25.0\n",
    "    position=[-1601105.7664601889, -5042022.3917835914, 3554847.245159178]\n",
    "\n",
    "&nbsp;\n",
    "\n"
   ]
  },
  {
   "cell_type": "markdown",
   "metadata": {},
   "source": [
    "#### *mode='elevation'* expandable parameters\n",
    "\n",
    "Option to flag based on antenna elevation. This mode is not available\n",
    "for cal tables.\n",
    "\n"
   ]
  },
  {
   "cell_type": "markdown",
   "metadata": {},
   "source": [
    "##### *lowerlimit*\n",
    "\n",
    "Lower limiting elevation in degrees. Data coming from a baseline where\n",
    "one or both antennas were pointing at a strictly lower elevation (as\n",
    "function of time), will be flagged. Default: 0.0\n",
    "\n"
   ]
  },
  {
   "cell_type": "markdown",
   "metadata": {},
   "source": [
    "##### *upperlimit*\n",
    "\n",
    "Upper limiting elevation in degrees. Data coming from a baseline where\n",
    "one or both antennas were pointing at a strictly higher elevation (as\n",
    "function of time), will be flagged. Default: 90.0\n",
    "\n",
    "&nbsp;\n",
    "\n"
   ]
  },
  {
   "cell_type": "markdown",
   "metadata": {},
   "source": [
    "#### *mode='tfcrop', 'rflag',* or *'extend'* expandable parameters\n",
    "\n"
   ]
  },
  {
   "cell_type": "markdown",
   "metadata": {},
   "source": [
    "##### *ntime*\n",
    "\n",
    "Time range (in seconds or minutes) over which to buffer data before\n",
    "running the algorithm. Options: 'scan' or any other float value or\n",
    "string containing the units. Default: 'scan'. Examples:\n",
    "*ntime='1.5min'*; *ntime=1.2* (taken in seconds). The dataset will be\n",
    "iterated through in time-chunks defined here.\n",
    "\n",
    "**WARNING**: If *ntime='scan'* and *combinescans=True*, all the scans\n",
    "will be loaded at once, thus requesting a lot of memory depending on the\n",
    "available spws.\n",
    "\n"
   ]
  },
  {
   "cell_type": "markdown",
   "metadata": {},
   "source": [
    "##### *combinescans*\n",
    "\n",
    "Accumulate data across scans depending on the value of *ntime*. Default:\n",
    "False. This parameter should be set to True only when *ntime* is\n",
    "specified as a time-interval (not 'scan'). When set to True, it will\n",
    "remove SCAN from the sorting columns, therefore it will only accumulate\n",
    "across scans if *ntime* is not set to 'scan'.\n",
    "\n",
    "&nbsp;\n",
    "\n"
   ]
  },
  {
   "cell_type": "markdown",
   "metadata": {},
   "source": [
    "#### *mode='tfcrop'* expandable parameters\n",
    "\n",
    "Flag using the TFCrop autoflag algorithm. For each field, spw, timerange\n",
    "(specified by ntime), and baseline:\n",
    "\n",
    "1.  &nbsp;Average visibility amplitudes along time dimension to form an\n",
    "    average spectrum\n",
    "2.  Calculate a robust piece-wise polynomial fit for the band-shape at\n",
    "    the base of RFI spikes. Calculate 'stddev' of (data - fit).\n",
    "3.  Flag points deviating from the fit by more than N-stddev\n",
    "4.  Repeat (1-3) along the other dimension.\n",
    "\n",
    "This algorithm is designed to operate on un-calibrated data (step (2)),\n",
    "as well as calibrated data. It is recommended to extend the flags after\n",
    "running this algorithm. See the sub-parameter *extendflags* below.\n",
    "\n"
   ]
  },
  {
   "cell_type": "markdown",
   "metadata": {},
   "source": [
    "##### *timecutoff*\n",
    "\n",
    "Flag threshold in time. Flag all data-points further than N-stddev from\n",
    "the fit. This threshold catches time-varying RFI spikes (narrow and\n",
    "broad-band), but will not catch RFI that is persistent in time. Default:\n",
    "4.0.\n",
    "\n",
    "Flagging is done in up to 5 iterations. The stddev calculation is\n",
    "adaptive and converges to a value that reflects only the data and no\n",
    "RFI. At each iteration, the same relative threshold is applied to detect\n",
    "flags. (Step (3) of the algorithm).\n",
    "\n"
   ]
  },
  {
   "cell_type": "markdown",
   "metadata": {},
   "source": [
    "##### *freqcutoff*\n",
    "\n",
    "Flag threshold in frequency. Flag all data-points further than N-stddev\n",
    "from the fit. Same as *timecutoff*, but along the frequency-dimension.\n",
    "This threshold catches narrow-band RFI that may or may not be persistent\n",
    "in time. Default: 3.0\n",
    "\n"
   ]
  },
  {
   "cell_type": "markdown",
   "metadata": {},
   "source": [
    "##### *timefit*\n",
    "\n",
    "Fitting function for the time direction. Default: 'line'. Options:\n",
    "'line', 'poly'\n",
    "\n",
    "A 'line' fit is a robust straight-line fit across the entire *timerange*\n",
    "(defined by *ntime*). A 'poly' fit is a robust piece-wise polynomial fit\n",
    "across the *timerange*.&nbsp;\n",
    "\n",
    "**NOTE**: A robust fit is computed in upto 5 iterations. At each\n",
    "iteration, the stddev between the data and the fit is computed, values\n",
    "beyond N-stddev are flagged, and the fit and stddev are re-calculated\n",
    "with the remaining points. This stddev calculation is adaptive, and\n",
    "converges to a value that reflects only the data and no RFI. It also\n",
    "provides a varying set of flagging thresholds, that allows deep flagging\n",
    "only when the fit best represents the true data. Choose 'poly' only if\n",
    "the visibilities are expected to vary significantly over the timerange\n",
    "selected by *ntime*, or if there is a lot of strong but intermittent\n",
    "RFI.\n",
    "\n",
    "&nbsp;\n",
    "\n"
   ]
  },
  {
   "cell_type": "markdown",
   "metadata": {},
   "source": [
    "##### *freqfit*\n",
    "\n",
    "Fitting function for the frequency direction. Same as for the *timefit*\n",
    "parameter. Default: 'poly'. Options: 'line', 'poly'. Choose 'line' only\n",
    "if you are operating on bandpass-corrected data, or residuals, and\n",
    "expect that the bandshape is linear. The 'poly' option works better on\n",
    "uncalibrated bandpasses with narrow-band RFI spikes.\n",
    "\n"
   ]
  },
  {
   "cell_type": "markdown",
   "metadata": {},
   "source": [
    "##### *maxnpieces*\n",
    "\n",
    "Maxinum number of pieces to allow in the piecewise-polynomial fits.\n",
    "Default: 7. Options: 1 - 9. This parameter is used only if *timefit* or\n",
    "*freqfit* are chosen as 'poly'. If there is significant broad-band RFI,\n",
    "reduce this number. Using too many pieces could result in the RFI being\n",
    "fitted in the clean bandpass. In later stages of the fit, a third-order\n",
    "polynomial is fit per piece, so for best results, please ensure that\n",
    "*nchan*/*maxnpieces* is at-least 10.\n",
    "\n"
   ]
  },
  {
   "cell_type": "markdown",
   "metadata": {},
   "source": [
    "##### *flagdimension*\n",
    "\n",
    "Choose the directions along which to perform flagging. Default:\n",
    "'freqtime'; first flag along frequency, and then along time. Options:\n",
    "'time', 'freq', 'timefreq', 'freqtime'. For most cases, 'freqtime' or\n",
    "'timefreq' are appropriate, and differences between these choices are\n",
    "apparant only if RFI in one dimension is significantly stronger than the\n",
    "other. The goal is to flag the dominant RFI first. If there are very few\n",
    "(less than 5) channels of data, then choose 'time'. Similarly for\n",
    "'freq'.\n",
    "\n"
   ]
  },
  {
   "cell_type": "markdown",
   "metadata": {},
   "source": [
    "##### *usewindowstats*\n",
    "\n",
    "Use sliding-window statistics to find additional flags. Default: 'none'.\n",
    "Options: 'none', 'sum', 'std', 'both'\n",
    "\n",
    "**WARNING**: This parameter is experimental!\n",
    "\n",
    "The 'sum' option chooses to flag a point, if the mean-value in a window\n",
    "centered on that point deviates from the fit by more than N-stddev $/ 2.0$.\n",
    "\n",
    "**NOTE**: stddev is calculated between the data and fit as explained in\n",
    "Step (2). This option is an attempt to catch broad-band or\n",
    "time-persistent RFI&nbsp; that the above polynomial fits will mistakenly\n",
    "fit as the clean band. It is an approximation to the sumThreshold method\n",
    "found to be effective by Offringa et.al (2010) for LOFAR data.\n",
    "\n",
    "The 'std' option chooses to flag a point, if the 'local' stddev\n",
    "calculated in a window centered on that point is larger than N-stddev\n",
    "$/2.0$.\n",
    "This option is an attempt to catch noisy RFI that is not excluded in the\n",
    "polynomial fits, and which increases the global stddev, and results in\n",
    "fewer flags (based on the N-stddev threshold).\n",
    "\n"
   ]
  },
  {
   "cell_type": "markdown",
   "metadata": {},
   "source": [
    "##### *halfwin*\n",
    "\n",
    "Half width of sliding window to use with *usewindowstats*. Default: 1 (a\n",
    "3-point window size). Options: 1,2,3\n",
    "\n",
    "**WARNING**: This is experimental!\n",
    "\n",
    "&nbsp;\n",
    "\n"
   ]
  },
  {
   "cell_type": "markdown",
   "metadata": {},
   "source": [
    "#### *mode='tfcrop'* or *'rflag'* expandable parameters\n",
    "\n"
   ]
  },
  {
   "cell_type": "markdown",
   "metadata": {},
   "source": [
    "##### *extendflags*\n",
    "\n",
    "Extend flags along time, frequency and correlation. Default: True\n",
    "\n",
    "**NOTE**: It is usually helpful to extend the flags along time,\n",
    "frequency, and correlation using this parameter, which will run the\n",
    "'extend' mode after 'tfcrop' and extend the flags if more than 50% of\n",
    "the timeranges are already flagged, and if more than 80% of the channels\n",
    "are already flagged. It will also extend the flags to the other\n",
    "polarizations. The user may also set extendflags to False and run the\n",
    "'extend' mode in a second step within the same flagging run. See the\n",
    "example below.\n",
    "\n",
    "&nbsp;\n",
    "\n"
   ]
  },
  {
   "cell_type": "markdown",
   "metadata": {},
   "source": [
    "#### *mode='rflag'* expandable parameters\n",
    "\n",
    "Detect outliers based on the RFlag algorithm\n",
    "<a href=\"#cit1\" id=\"ref-cit1\" class=\"ref-cit\">[1]</a>. The polarization\n",
    "expression is given by the *correlation* parameter. Iterate through the\n",
    "data in chunks of time. For each chunk, calculate local statistics, and\n",
    "apply flags based on user supplied (or auto-calculated) thresholds.\n",
    "\n",
    "-   Time analysis (for each channel):\n",
    "    -   calculate local RMS of real and imaginary visibilities within a\n",
    "        sliding time window\n",
    "    -   calculate the median RMS across time windows, deviations of\n",
    "        local RMS from this median, and the median deviation\n",
    "    -   flag if local RMS is larger than *timedevscale* $x$\n",
    "        (medianRMS $+$ medianDev)\n",
    "-   Spectral analysis (for each time):\n",
    "    -   calculate avg of real and imaginary visibilities and their RMS\n",
    "        across channels\n",
    "    -   calculate the deviation of each channel from this avg, and the\n",
    "        median-deviation\n",
    "    -   flag if deviation is larger than *freqdevscale* $x$\n",
    "        medianDev\n",
    "\n",
    "It is recommended to extend the flags after running this algorithm. See\n",
    "the sub-parameter *extendflags* below.\n",
    "\n",
    "Notice that by default the flag implementation in CASA is able to\n",
    "calculate the thresholds and apply them on-the-fly (OTF). There is a\n",
    "significant performance gain with this approach, as the visibilities\n",
    "don't have to be read twice, and therefore is highly recommended (see\n",
    "example 1). Otherwise it is possible to reproduce the AIPS usage pattern\n",
    "by doing a first run with *action='calculate'* and a second run with\n",
    "*action='apply'*. The advantage of this approach is that the thresholds\n",
    "are calculated using the data from all scans, instead of calculating\n",
    "them for one scan only (see example 3).\n",
    "\n",
    "Example usage :\n",
    "\n",
    "1.  Calculate thresholds automatically per scan, and use them to find\n",
    "    flags. Specify scale-factor for time-analysis thresholds, use\n",
    "    default for frequency.\n",
    "    flagdata('my.ms', mode='rflag', spw='9', timedevscale=4.0)\n",
    "2.  Supply noise-estimates to be used with default scale-factors.\n",
    "    flagdata(vis='my.ms', mode='rflag', spw='9', timedev=0.1,\n",
    "    freqdev=0.5, action='calculate')\n",
    "3.  Two-passes. This replicates the usage pattern in AIPS.\n",
    "    -   The first pass saves commands in output text files, with\n",
    "        auto-calculated thresholds. Thresholds are returned from 'rflag'\n",
    "        only when *action='calculate'*. The user can edit this file\n",
    "        before doing the second pass, but the python-dictionary\n",
    "        structure must be preserved. The parameters timedevscale and\n",
    "        freqdevscale are not used in this first pass.\n",
    "    -   The second pass applies these commands (*action='apply'*).\n",
    "        flagdata(vis='my.ms', mode='rflag', spw='9,10',\n",
    "        timedev='tdevfile.txt', freqdev='fdevfile.txt',\n",
    "        action='calculate')\n",
    "\n",
    "        flagdata(vis='my.ms', mode='rflag', spw='9,10',\n",
    "        timedev='tdevfile.txt', freqdev='fdevfile.txt', action='apply')\n",
    "\n",
    "With *action='calculate'*, *display='report'* will produce diagnostic\n",
    "plots showing data-statistics and thresholds (the same thresholds as\n",
    "those written out to 'tdevfile.txt' and 'fdevfile.txt'). In this second\n",
    "pass, with *action='apply'*, the parameters freqdevscale and\n",
    "timedevscale can be used to re-scale the thresholds calculated in the\n",
    "first pass.\n",
    "\n",
    "**NOTE1**: The RFlag algorithm was originally developed by Eric Greisen\n",
    "in AIPS <a href=\"#cit1\" id=\"ref-cit1\" class=\"ref-cit\">[1]</a> .  \n",
    "  \n",
    "**NOTE2**: Since this algorithm operates with two passes through each\n",
    "chunk of data (time and freq axes), some data points get flagged twice.\n",
    "This can affect the flag-percentage estimate printed in the logger at\n",
    "runtime. An accurate estimate can be obtained via the 'summary' mode.  \n",
    "  \n",
    "**NOTE3**: RFlag calculates statistics across all selected correlations.\n",
    "Therefore, if there is a significant amplitude difference between\n",
    "parallel-hand and cross-hand correlations, or between different\n",
    "solutions in a gain table, it is advisable to pre-select subsets of\n",
    "correlations (or sols) on which to run one instance of RFlag. For\n",
    "example, *correlation='RR,LL'* or *correlation='ABS sol1,sol2'.*\n",
    "\n",
    "**NOTE: dictionaries returned by *action='calculate'*.**  \n",
    "  \n",
    "Rflag with action='calculate' (the first pass of the two-passes usage)\n",
    "can return a dictionary. The dictionary holds the freqdev and timedev\n",
    "thresholds calculated in that first pass. For example:\n",
    "\n",
    "thresholds = flagdata(vis='my.ms', mode='rflag', action='calculate')\n",
    "\n",
    "print(thresholds)\n",
    "\n",
    "&nbsp;&nbsp; {'type': 'list', 'report0': {'type': 'rflag', 'freqdev':\n",
    "array(\\[\\[&nbsp; 1.0e+00,&nbsp;&nbsp; 0.0e+00,&nbsp;&nbsp; 3.13e-02\\],\n",
    "... , 'name': 'Rflag', 'timedev': array(\\[\\[&nbsp; 1.0e+00,&nbsp;&nbsp;\n",
    "0.0e+00,&nbsp;&nbsp; 6.8e-03\\], ... \\])}, 'nreport': 1}\n",
    "\n",
    "The timedev and freqdev items from this dictionary can be used in the\n",
    "second pass call to flagdata, but their respective values need to be\n",
    "passed as separate parameters. For example:\n",
    "\n",
    "flagdata(vis=ms, mode='rflag', action='apply',\n",
    "timedev=thresholds\\['report0'\\]\\['timedev'\\],\n",
    "freqdev=thresholds\\['report0'\\]\\['freqdev'\\])\n",
    "\n",
    "This is an alternative approach (and fully equivalent) to using two\n",
    "files to save and reuse the timedev and freqdev values.\n",
    "\n"
   ]
  },
  {
   "cell_type": "markdown",
   "metadata": {},
   "source": [
    "##### *winsize*\n",
    "\n",
    "Number of timesteps in the sliding time window (fparm(1) in AIPS).\n",
    "Default: 3\n",
    "\n"
   ]
  },
  {
   "cell_type": "markdown",
   "metadata": {},
   "source": [
    "##### *timedev*\n",
    "\n",
    "Time-series noise estimate (noise in AIPS). Default: \\[ \\]. Examples:\n",
    "*timedev = 0.5*: Use this noise-estimate to calculate flags. Do not\n",
    "recalculate; *timedev = \\[\\[1,9,0.2\\], \\[1,10,0.5\\]\\]*: Use\n",
    "noise-estimate of 0.2 for field 1, spw 9, and noise-estimate of 0.5 for\n",
    "field 1, spw 10; *timedev = \\[ \\]*: Auto-calculate noise estimates;\n",
    "*timedev='timedevfile'*: Auto-calculate noise estimates and write them\n",
    "into a file with the name given (any string will be interpreted as a\n",
    "file name which will be checked for existence).\n",
    "\n"
   ]
  },
  {
   "cell_type": "markdown",
   "metadata": {},
   "source": [
    "##### *freqdev*\n",
    "\n",
    "Spectral noise estimate (scutoff in AIPS). This step depends on having a\n",
    "relatively-flat bandshape. Same parameter-options as *timedev*. Default:\n",
    "\\[ \\]\n",
    "\n"
   ]
  },
  {
   "cell_type": "markdown",
   "metadata": {},
   "source": [
    "##### *timedevscale*\n",
    "\n",
    "For Step 1 (time analysis), flag a point if local RMS around it is\n",
    "larger than *timedevscale* $x$ *timedev* (fparm(0) in AIPS). This\n",
    "scale parameter is only applied when flagging (*action='apply'*) and\n",
    "displaying reports (display option). It is not used when the thresholds\n",
    "are simply calculated and saved into files (*action='calculate'*, as in\n",
    "the two-passes usage pattern of AIPS). Default: 5.0\n",
    "\n"
   ]
  },
  {
   "cell_type": "markdown",
   "metadata": {},
   "source": [
    "##### *freqdevscale*\n",
    "\n",
    "For Step 2 (spectral analysis), flag a point if local rms around it is\n",
    "larger than *freqdevscale* $x$ *freqdev* (fparm(10) in AIPS).\n",
    "Similarly as with timedevscale, freqdevscale is not used when the\n",
    "thresholds are simply calculated and saved into files\n",
    "(*action='calculate',* as in the two-passes usage pattern of AIPS).\n",
    "Default: 5.0\n",
    "\n"
   ]
  },
  {
   "cell_type": "markdown",
   "metadata": {},
   "source": [
    "##### *spectralmax*\n",
    "\n",
    "Flag whole spectrum if *freqdev* is greater than *spectralmax* (fparm(6)\n",
    "in AIPS). Default: 1E6\n",
    "\n"
   ]
  },
  {
   "cell_type": "markdown",
   "metadata": {},
   "source": [
    "##### *spectralmin*\n",
    "\n",
    "Flag whole spectrum if *freqdev* is less than *spectralmin* (fparm(5) in\n",
    "AIPS). Default: 0.0\n",
    "\n",
    "&nbsp;\n",
    "\n"
   ]
  },
  {
   "cell_type": "markdown",
   "metadata": {},
   "source": [
    "#### *mode='extend'* expandable parameters\n",
    "\n",
    "Extend and/or grow flags beyond what the basic algorithms detect. This\n",
    "mode will extend the accumulated flags available in the MS, regardless\n",
    "of which algorithm created them. It is recommended that any autoflag\n",
    "(tfcrop, rflag) algorithm be followed up by a flag extension. Extensions\n",
    "will apply only within the selected data, according to the settings of\n",
    "*extendpols*, *growtime*, *growfreq*, *growaround*, *flagneartime*, and\n",
    "*flagnearfreq*.\n",
    "\n",
    "**NOTE** : Runtime summary counts in the logger can sometimes report\n",
    "larger flag percentages than what is actually flagged. This is because\n",
    "extensions onto already-flagged data-points are counted as new flags. An\n",
    "accurate flag count can be obtained via the 'summary' mode.\n",
    "\n"
   ]
  },
  {
   "cell_type": "markdown",
   "metadata": {},
   "source": [
    "##### *extendpols*\n",
    "\n",
    "Extend flags to all selected correlations. Default: True. Options:\n",
    "True/False. For example, to extend flags from RR to only RL and LR, a\n",
    "data-selection of *correlation='RR,LR,RL'* is required along with\n",
    "*extendpols=True*.\n",
    "\n"
   ]
  },
  {
   "cell_type": "markdown",
   "metadata": {},
   "source": [
    "##### *growtime*\n",
    "\n",
    "For any channel, flag the entire timerange in the current 2D chunk (set\n",
    "by *ntime*) if more than X% of the *timerange* is already flagged.\n",
    "Default: 50.0. Options: 0.0 - 100.0. This option catches the\n",
    "low-intensity parts of time-persistent RFI.\n",
    "\n"
   ]
  },
  {
   "cell_type": "markdown",
   "metadata": {},
   "source": [
    "##### g*rowfreq*\n",
    "\n",
    "For any timestep, flag all channels in the current 2D chunk (set by\n",
    "data-selection) if more than X% of the channels are already flagged.\n",
    "Default: 50.0. Options: 0.0 - 100.0. This option catches broad-band RFI\n",
    "that is partially identified by earlier steps.\n",
    "\n"
   ]
  },
  {
   "cell_type": "markdown",
   "metadata": {},
   "source": [
    "##### *growaround*\n",
    "\n",
    "Flag a point based on the number of flagged points around it. Default:\n",
    "False. Options: True/False. For every un-flagged point on the 2D\n",
    "time/freq plane, if more than four surrounding points are already\n",
    "flagged, flag that point. This option catches some wings of strong RFI\n",
    "spikes.\n",
    "\n"
   ]
  },
  {
   "cell_type": "markdown",
   "metadata": {},
   "source": [
    "##### *flagneartime*\n",
    "\n",
    "Flag points before and after every flagged one, in the time-direction.\n",
    "Default: False. Options: True/False. Note that this can result in\n",
    "excessive flagging.\n",
    "\n"
   ]
  },
  {
   "cell_type": "markdown",
   "metadata": {},
   "source": [
    "##### *flagnearfreq*\n",
    "\n",
    "Flag points before and after every flagged one, in the\n",
    "frequency-direction. Default: False. Options: True/False. This option\n",
    "allows flagging of wings in the spectral response of strong RFI. Note\n",
    "that this can result in excessive flagging.\n",
    "\n",
    "&nbsp;\n",
    "\n"
   ]
  },
  {
   "cell_type": "markdown",
   "metadata": {},
   "source": [
    "#### mode='antint' expandable parameters\n",
    "\n",
    "This mode flag all integrations in which a specified antenna is flagged.\n",
    "This mode operates for an spectral window. It flags any integration in\n",
    "which all baselines to a specified antenna are flagged, but only if this\n",
    "condition is satisfied in a fraction of channels within the spectral\n",
    "window of interest greater than a nominated fraction. For simplicity, it\n",
    "assumes that all polarization products must be unflagged for a baseline\n",
    "to be deemed unflagged. The antint mode implements the flagging approach\n",
    "introduced in 'antintflag'\n",
    "(https://doi.org/10.5281/zenodo.163546)&nbsp;&nbsp;&nbsp;&nbsp;&nbsp;&nbsp;&nbsp;&nbsp;&nbsp;&nbsp;&nbsp;&nbsp;&nbsp;&nbsp;&nbsp;&nbsp;&nbsp;&nbsp;&nbsp;&nbsp;&nbsp;&nbsp;&nbsp;&nbsp;&nbsp;&nbsp;&nbsp;&nbsp;&nbsp;&nbsp;&nbsp;&nbsp;&nbsp;&nbsp;&nbsp;&nbsp;&nbsp;&nbsp;&nbsp;&nbsp;&nbsp;&nbsp;&nbsp;&nbsp;&nbsp;&nbsp;&nbsp;&nbsp;&nbsp;&nbsp;&nbsp;&nbsp;&nbsp;&nbsp;&nbsp;&nbsp;&nbsp;&nbsp;&nbsp;&nbsp;&nbsp;&nbsp;&nbsp;&nbsp;&nbsp;&nbsp;&nbsp;&nbsp;&nbsp;&nbsp;&nbsp;&nbsp;&nbsp;&nbsp;&nbsp;&nbsp;&nbsp;&nbsp;\n",
    "&nbsp;  \n",
    "&nbsp;&nbsp;&nbsp;&nbsp;&nbsp;&nbsp;&nbsp;&nbsp;&nbsp;&nbsp;&nbsp;&nbsp;&nbsp;&nbsp;&nbsp;&nbsp;&nbsp;&nbsp;&nbsp;&nbsp;&nbsp;&nbsp;&nbsp;&nbsp;&nbsp;&nbsp;&nbsp;&nbsp;&nbsp;&nbsp;&nbsp;&nbsp;&nbsp;&nbsp;&nbsp;&nbsp;&nbsp;&nbsp;&nbsp;&nbsp;&nbsp;&nbsp;&nbsp;&nbsp;&nbsp;&nbsp;&nbsp;&nbsp;&nbsp;&nbsp;&nbsp;&nbsp;&nbsp;&nbsp;&nbsp;&nbsp;&nbsp;&nbsp;&nbsp;&nbsp;&nbsp;&nbsp;&nbsp;&nbsp;&nbsp;&nbsp;&nbsp;&nbsp;&nbsp;&nbsp;&nbsp;&nbsp;&nbsp;&nbsp;&nbsp;&nbsp;&nbsp;&nbsp;&nbsp;&nbsp;&nbsp;&nbsp;&nbsp;&nbsp;&nbsp;&nbsp;&nbsp;&nbsp;&nbsp;&nbsp;&nbsp;&nbsp;&nbsp;&nbsp;&nbsp;&nbsp;&nbsp;&nbsp;&nbsp;&nbsp;&nbsp;&nbsp;&nbsp;&nbsp;&nbsp;&nbsp;&nbsp;&nbsp;&nbsp;&nbsp;&nbsp;&nbsp;&nbsp;&nbsp;&nbsp;&nbsp;&nbsp;&nbsp;&nbsp;&nbsp;&nbsp;&nbsp;&nbsp;&nbsp;&nbsp;&nbsp;&nbsp;&nbsp;&nbsp;&nbsp;&nbsp;&nbsp;&nbsp;&nbsp;&nbsp;  \n",
    "The motivating application for introducing this mode is removal of data\n",
    "that will otherwise lead to changes in reference antenna during gain\n",
    "calibration, which will in turn lead to corrupted polarization\n",
    "calibration.\n",
    "\n"
   ]
  },
  {
   "cell_type": "markdown",
   "metadata": {},
   "source": [
    "##### antint_ref_antenna\n",
    "\n",
    "Check the baselines to this antenna. Note that this is not the same as\n",
    "the general 'antenna' parameter of flagdata. The parameter\n",
    "antint_ref_antenna is mandatory with the&nbsp;&nbsp; 'antint' mode and\n",
    "chooses the antenna for which the fraction of channels flagged will be\n",
    "checked.\n",
    "\n"
   ]
  },
  {
   "cell_type": "markdown",
   "metadata": {},
   "source": [
    "##### minchanfrac\n",
    "\n",
    "Minimum fraction of flagged channels required for a baseline&nbsp; to be\n",
    "deemed as flagged. Takes values between 0-1 (float). In this mode\n",
    "flagdata does the following for every point in time. It checks the\n",
    "fraction of channels flagged for any of the polarization products and\n",
    "for every baseline to the antenna of interest. If the fraction is higher\n",
    "than this 'minchanfrac' threshold then the data are flagged for this\n",
    "pont in time (this includes all the rows selected with the flagdata\n",
    "command that have that timestamp). This parameter will be ignored if spw\n",
    "specifies a channel.\n",
    "\n"
   ]
  },
  {
   "cell_type": "markdown",
   "metadata": {},
   "source": [
    "##### verbose\n",
    "\n",
    "Print timestamps of flagged integrations to the log.\n",
    "\n",
    "&nbsp;\n",
    "\n"
   ]
  },
  {
   "cell_type": "markdown",
   "metadata": {},
   "source": [
    "#### mode='unflag' expandable parameters\n",
    "\n",
    "Unflag according to the data selection specified.  \n",
    "  \n",
    "  \n",
    "\n"
   ]
  },
  {
   "cell_type": "markdown",
   "metadata": {},
   "source": [
    "#### mode='summary' expandable parameters\n",
    "\n",
    "List the number of rows and flagged data points for the MS's meta-data.\n",
    "The resulting summary will be returned as a Python dictionary.\n",
    "\n",
    "In 'summary' mode, the task returns a dictionary of flagging statistics.\n",
    "\n",
    "Example1:\n",
    "\n",
    "s = flagdata(..., mode='summary')\n",
    "\n",
    "s will\n",
    "be a dictionary which contains:\n",
    "\n",
    "-   s\\['total'\\]:\n",
    "    total number of data\n",
    "-   s\\['flagged'\\]:\n",
    "    amount of flagged data\n",
    "\n",
    "Example2: two summary commands in 'list' mode, intercalating a manual\n",
    "flagging command.\n",
    "\n",
    "s = flagdata(..., mode='list', inpfile=\\[\"mode='summary'\n",
    "name='InitFlags'\", \"mode='manual' autocorr=True\", \"mode='summary'\n",
    "name='Autocorr'\"\\])\n",
    "\n",
    "The dictionary returned in s will\n",
    "contain two dictionaries, one for each of the two summary modes.\n",
    "\n",
    "-   s\\['report0'\\]\\['name'\\]:\n",
    "    'InitFlags'\n",
    "-   s\\['report1'\\]\\['name'\\]:\n",
    "    'Autocorr'\n",
    "\n"
   ]
  },
  {
   "cell_type": "markdown",
   "metadata": {},
   "source": [
    "##### *minrel*\n",
    "\n",
    "Minimum number of flags (relative) to include in histogram. Default: 0.0\n",
    "\n"
   ]
  },
  {
   "cell_type": "markdown",
   "metadata": {},
   "source": [
    "##### *maxrel*\n",
    "\n",
    "Maximum number of flags (relative) to include in histogram. Default: 1.0\n",
    "\n"
   ]
  },
  {
   "cell_type": "markdown",
   "metadata": {},
   "source": [
    "##### *minabs*\n",
    "\n",
    "Minimum number of flags (absolute, inclusive) to include in histogram.\n",
    "Default: 0\n",
    "\n"
   ]
  },
  {
   "cell_type": "markdown",
   "metadata": {},
   "source": [
    "##### *maxabs*\n",
    "\n",
    "Maximum number of flags (absolute, inclusive) to include in histogram.\n",
    "To indicate infinity, use any negative number. Default: -1\n",
    "\n"
   ]
  },
  {
   "cell_type": "markdown",
   "metadata": {},
   "source": [
    "##### *spwchan*\n",
    "\n",
    "List the number of flags per spw and per channel. Default: False\n",
    "\n"
   ]
  },
  {
   "cell_type": "markdown",
   "metadata": {},
   "source": [
    "##### *spwcorr*\n",
    "\n",
    "Llist the number of flags per spw and per correlation. Default: False\n",
    "\n"
   ]
  },
  {
   "cell_type": "markdown",
   "metadata": {},
   "source": [
    "##### *basecnt*\n",
    "\n",
    "List the number of flags per baseline. Default: False\n",
    "\n"
   ]
  },
  {
   "cell_type": "markdown",
   "metadata": {},
   "source": [
    "##### *fieldcnt*\n",
    "\n",
    "Produce a separated breakdown per field. Default: False\n",
    "\n"
   ]
  },
  {
   "cell_type": "markdown",
   "metadata": {},
   "source": [
    "##### *name*\n",
    "\n",
    "Name for this summary, to be used as a key in the returned Python\n",
    "dictionary. It is possible to call the 'summary' *mode* multiple times\n",
    "in 'list' *mode*. When calling the 'summary' *mode* as a command in a\n",
    "list, one can give different names to each one of them so that they can\n",
    "be easily pulled out of the summary's dictionary. Default: 'Summary'\n",
    "\n",
    "&nbsp;\n",
    "\n"
   ]
  },
  {
   "cell_type": "markdown",
   "metadata": {},
   "source": [
    "##### *action*\n",
    "\n",
    "Action to perform in MS/cal table or in the input list of parameters.\n",
    "Options: 'none', 'apply', 'calculate'. Default: 'apply'\n",
    "\n"
   ]
  },
  {
   "cell_type": "markdown",
   "metadata": {},
   "source": [
    "#### *action='apply'* or *'calculate'* expandable parameters\n",
    "\n",
    "action='apply' applies the flags to the MS. action='calculate' only\n",
    "calculates the flags but does not write them to the MS. This is useful\n",
    "if used together with the display to analyze the results before writing\n",
    "to the MS.\n",
    "\n"
   ]
  },
  {
   "cell_type": "markdown",
   "metadata": {},
   "source": [
    "##### *display*\n",
    "\n",
    "Display data and/or end-of-MS reports at run-time. It needs to read a\n",
    "*datacolumn* for the plotting. The default for an MS is DATA, but the\n",
    "task will use FLOAT_DATA for a Single-dish MS. Default: 'none'. Options:\n",
    "'none', 'data', 'report', 'both'  \n",
    "  \n",
    "\n",
    "'none' --\\> It will not display anything.\n",
    "\n",
    "'data' --\\> display data and flags per-chunk at run-time, within an\n",
    "interactive GUI.\n",
    "\n",
    "-   This option opens a GUI to show the 2D time-freq planes of the data\n",
    "    with old and new flags, for all correlations per baseline.\n",
    "-   The GUI allows stepping through all baselines (prev/next) in the\n",
    "    current chunk (set by *ntime*), and stepping to the next-chunk.\n",
    "-   The **flagdata** task can be quit from the GUI, in case it becomes\n",
    "    obvious that the current set of parameters is just wrong.\n",
    "-   There is an option to stop the display but continue flagging.\n",
    "\n",
    "'report' --\\> displays end-of-MS reports on the screen.\n",
    "\n",
    "'both' --\\> displays data per chunk and end-of-MS reports on the screen\n",
    "\n",
    "&nbsp;\n",
    "\n"
   ]
  },
  {
   "cell_type": "markdown",
   "metadata": {},
   "source": [
    "#### *action='apply'* expandable parameters\n",
    "\n"
   ]
  },
  {
   "cell_type": "markdown",
   "metadata": {},
   "source": [
    "##### *flagbackup*\n",
    "\n",
    "Automatically backup flags before running the tool. Flagversion names\n",
    "are chosen automatically, and are based on the *mode* being used.\n",
    "Default: True. Options: True/False\n",
    "\n",
    "&nbsp;\n",
    "\n"
   ]
  },
  {
   "cell_type": "markdown",
   "metadata": {},
   "source": [
    "#### action='' or 'none' description\n",
    "\n",
    "When set to empty or 'none', the underlying tool will not be executed\n",
    "and no flags will be produced. No data selection will be done either.\n",
    "This is useful when used together with the parameter *savepars* to only\n",
    "save the current parameters (or list of parameters) to the FLAG_CMD\n",
    "sub-table or to an external file. &nbsp;\n",
    "\n",
    "&nbsp;\n",
    "\n"
   ]
  },
  {
   "cell_type": "markdown",
   "metadata": {},
   "source": [
    "##### *savepars*\n",
    "\n",
    "Save the current parameters to the FLAG_CMD table of the MS or to an\n",
    "output text file.\n",
    "\n",
    "Note that when *display* is set to anything other than 'none',\n",
    "*savepars* will be disabled. This is done because in an interactive\n",
    "mode, the user may skip data which may invalidate the initial input\n",
    "parameters and there is no way to save the interactive commands. When\n",
    "the input is a calibration table it is only possible to save the\n",
    "parameters to a file.\n",
    "\n",
    "Default: False. Options: True/False\n",
    "\n"
   ]
  },
  {
   "cell_type": "markdown",
   "metadata": {},
   "source": [
    "#### savepars=True expandable parameters\n",
    "\n"
   ]
  },
  {
   "cell_type": "markdown",
   "metadata": {},
   "source": [
    "##### *cmdreason*\n",
    "\n",
    "A string containing a reason to save to the FLAG_CMD table or to an\n",
    "output text file given by the *outfile* sub-parameter. If the input\n",
    "contains any *reason*, they will be replaced with this one. At the\n",
    "moment it is not possible to add more than one *reason*. Default: ' ',\n",
    "no *reason* will be added to output. Examples: *cmdreason='CLIP_ZEROS'*\n",
    "\n"
   ]
  },
  {
   "cell_type": "markdown",
   "metadata": {},
   "source": [
    "##### *outfile*\n",
    "\n",
    "Name of output file to save the current parameters. Default: ' ', will\n",
    "save the parameters to the FLAG_CMD table of the MS. Examples:\n",
    "*outfile='flags.txt'* will save the parameters in a text file.\n",
    "\n"
   ]
  },
  {
   "cell_type": "markdown",
   "metadata": {},
   "source": [
    "##### *overwrite*\n",
    "\n",
    "Overwrite the existing file given in *outfile*. Options: True/False.\n",
    "Default: True, it will remove the existing file given in *outfile* and\n",
    "save the current flag commands to a new file with the same name. When\n",
    "set to False, the task will exit with an error message if the file\n",
    "exist.\n",
    "\n",
    "&nbsp;\n",
    "\n"
   ]
  },
  {
   "cell_type": "markdown",
   "metadata": {},
   "source": [
    "## SYNTAX FOR COMMANDS GIVEN IN A FILE or LIST OF STRINGS\n",
    "\n"
   ]
  },
  {
   "cell_type": "markdown",
   "metadata": {},
   "source": [
    "### Basic Syntax Rules\n",
    "\n",
    "1.  Commands are strings (which may contain internal \"strings\")\n",
    "    consisting of KEY=VALUE pairs separated by one whitespace only.\n",
    "\n",
    "**NOTE**: There should be no whitespace between KEY=VALUE.The parser\n",
    "first breaks command lines on whitespace, then on \"=\".\n",
    "\n",
    "1.  Use only ONE white space to separate the parameters (no commas).\n",
    "    Each key should only appear once on a given command line/string.\n",
    "2.  There is an implicit *mode* for each command, with the default being\n",
    "    'manual' if not given.\n",
    "3.  Comment lines can start with '\\#' and will be ignored. The parser\n",
    "    used in **flagdata** will check each parameter name and type and\n",
    "    exit with an error if the parameter is not a valid **flagdata**\n",
    "    parameter or of a wrong type.\n",
    "\n",
    "Example:\n",
    "\n",
    "    scan='1~3' mode='manual'\n",
    "    "
   ]
  },
  {
   "cell_type": "markdown",
   "metadata": {},
   "source": [
    "## this line will be ignored\n",
    "    spw='9' mode='tfcrop' correlation='ABS_XX,YY' ntime=51.0\n",
    "    mode='extend' extendpols=True\n",
    "    scan='1~3,10~12' mode='quack' quackinterval=1.0\n",
    "\n",
    "&nbsp;\n",
    "\n",
    "|                 |                                                                                                                                                                                                                 |\n",
    "|:----------------|-----------------------------------------------------------------------------------------------------------------------------------------------------------------------------------------------------------------|\n",
    "| Citation Number | 1                                                                                                                                                                                                               |\n",
    "| Citation Text   | Greisen, Eric, Dec 31, 2011. AIPS documentation: Section E.5 of the AIPS cookbook (Appendix E: Special Considerations for EVLA data calibration and imaging in AIPS, <http://www.aips.nrao.edu/cook.html#CEE> ) |\n",
    "\n",
    "Bibliography\n",
    "\n",
    "  \n",
    "<sup>1.\\ Greisen,\\ Eric,\\ Dec\\ 31,\\ 2011.\\ AIPS\\ documentation:\\ Section\\ E.5\\ of\\ the\\ AIPS\\ cookbook\\ (Appendix\\ E:\\ Special\\ Considerations\\ for\\ EVLA\\ data\\ calibration\\ and\\ imaging\\ in\\ AIPS,\\ <http://www.aips.nrao.edu/cook.html#CEE>\\ )\\ [&larrhk;](#ref-cit1 \"Jump back to citation 1 in the text.\")</sup>"
   ]
  },
  {
   "cell_type": "markdown",
   "metadata": {
    "nbsphinx-toctree": {
     "hidden": true
    }
   },
   "source": [
    "[Description](task_flagdata/about)\n",
    "[Parameters](task_flagdata/parameters)\n",
    "[Changelog](task_flagdata/changelog)\n",
    "[Examples](task_flagdata/examples)\n",
    "[Developer](task_flagdata/developer)\n"
   ]
  }
 ],
 "metadata": {},
 "nbformat": 4,
 "nbformat_minor": 5
}
