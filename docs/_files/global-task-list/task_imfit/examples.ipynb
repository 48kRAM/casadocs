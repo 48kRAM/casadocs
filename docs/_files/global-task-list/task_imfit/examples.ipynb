{
 "cells": [
  {
   "cell_type": "markdown",
   "metadata": {},
   "source": [
    "# Examples\n",
    "\n",
    "Here is how one might fit two Gaussians to multiple channels of a cube\n",
    "using the fit from the previous channel as the initial estimate for the\n",
    "next. It also illustrates how one can specify a region in the associated\n",
    "continuum image as the region to use as the fit for the channel.\n",
    "\n",
    "default imfit  \n",
    "imagename = \"co_cube.im\"\n",
    "\n",
    "\\"
   ]
  },
  {
   "cell_type": "markdown",
   "metadata": {},
   "source": [
    "## specify box around source  \n",
    "box = \"50,50,100,100\"  \n",
    "chans = \"2\\~20\"  \n",
    "  \n",
    "\\"
   ]
  },
  {
   "cell_type": "markdown",
   "metadata": {},
   "source": [
    "## only use pixels with positive values in the fit  \n",
    "excludepix = \\[-1e10,0\\]  \n",
    "  \n",
    "\\"
   ]
  },
  {
   "cell_type": "markdown",
   "metadata": {},
   "source": [
    "## estimates file contains initial parameters for two Gaussians in\n",
    "channel 2  \n",
    "estimates = \"initial_estimates.txt\"  \n",
    "  \n",
    "\\"
   ]
  },
  {
   "cell_type": "markdown",
   "metadata": {},
   "source": [
    "## append results to the log file for all the channels  \n",
    "append = \"True\"  \n",
    "imfit()"
   ]
  }
 ],
 "metadata": {},
 "nbformat": 4,
 "nbformat_minor": 5
}
