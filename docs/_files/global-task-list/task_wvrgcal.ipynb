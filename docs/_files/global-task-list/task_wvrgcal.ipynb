{
 "cells": [
  {
   "cell_type": "markdown",
   "metadata": {},
   "source": [
    "# wvrgcal\n",
    "\n",
    "task wvrgcal description\n",
    "\n"
   ]
  },
  {
   "cell_type": "markdown",
   "metadata": {},
   "source": [
    "## Summary\n",
    "\n",
    "Information about the observation and the performance of **wvrgcal** is\n",
    "written to the CASA logger and also returned in a dictionary; see the\n",
    "[Water Vapor Radiometer Gain\n",
    "Calibration](https://casa.nrao.edu/casadocs-devel/stable/calibration-and-visibility-data/synthesis-calibration/water-vapor-radiometer-gain-calibration-wvrgcal)&nbsp;chapter\n",
    "in [Synthesis\n",
    "Calibration](https://casa.nrao.edu/casadocs-devel/stable/calibration-and-visibility-data/synthesis-calibration)&nbsp;for\n",
    "a more detailed description of these parameters. The dictionary element\n",
    "'success' is True if no errors occured.  \n",
    "  \n",
    "Of particular note is the discrepancy statistic (Disc): high values (\\>\n",
    "a few hundred microns) may indicate some levels of cloud contamination\n",
    "and the effect of applying the **wvrgcal** correction should be checked;\n",
    "values \\> 1000 $\\mu$m in all antennas have currently\n",
    "been found to indicate that **wvrgcal** correction should not be used.\n",
    "\n",
    "&nbsp;\n",
    "\n"
   ]
  },
  {
   "cell_type": "markdown",
   "metadata": {},
   "source": [
    "## Parameter descriptions\n",
    "\n"
   ]
  },
  {
   "cell_type": "markdown",
   "metadata": {},
   "source": [
    "##### *vis*\n",
    "\n",
    "Name of input visibility file. Default: none. Examples:\n",
    "*vis='ngc5921.ms'*\n",
    "\n"
   ]
  },
  {
   "cell_type": "markdown",
   "metadata": {},
   "source": [
    "##### *caltable*\n",
    "\n",
    "Name of output gain calibration table. Default: none. Examples:\n",
    "*caltable='ngc5921.wvr'*\n",
    "\n"
   ]
  },
  {
   "cell_type": "markdown",
   "metadata": {},
   "source": [
    "##### *toffset*\n",
    "\n",
    "Time offset (sec) between interferometric and WVR data. Default: 0 (ALMA\n",
    "default for cycle 1, for cycle 0, i.e. up to Jan 2013 it was -1)\n",
    "\n"
   ]
  },
  {
   "cell_type": "markdown",
   "metadata": {},
   "source": [
    "##### *segsource*\n",
    "\n",
    "Do a new coefficient calculation for each source. Default: True\n",
    "\n"
   ]
  },
  {
   "cell_type": "markdown",
   "metadata": {},
   "source": [
    "##### *tie*\n",
    "\n",
    "Prioritise tieing the phase of these sources as well as possible\n",
    "(requires *segsource=True*). Default: \\[ \\]. Examples:\n",
    "*tie=\\['3C273,NGC253', 'IC433,3C279'\\]*\n",
    "\n"
   ]
  },
  {
   "cell_type": "markdown",
   "metadata": {},
   "source": [
    "##### *sourceflag*\n",
    "\n",
    "Flag the WVR data for these source(s) as bad and do not produce\n",
    "corrections for it (requires *segsource=True*). Default: \\[ \\].\n",
    "Examples: *sourceflag=\\['3C273'\\]*\n",
    "\n"
   ]
  },
  {
   "cell_type": "markdown",
   "metadata": {},
   "source": [
    "##### *nsol*\n",
    "\n",
    "Number of solutions for phase correction coefficients during this\n",
    "observation. By default only one set of coefficients is generated for\n",
    "the entire observation. If more sets are requested, then they will be\n",
    "evenly distributed in time throughout the observation. Values \\> 1\n",
    "require *segsource=False*. Default: 1\n",
    "\n"
   ]
  },
  {
   "cell_type": "markdown",
   "metadata": {},
   "source": [
    "##### *disperse*\n",
    "\n",
    "Apply correction for dispersion. Default: False\n",
    "\n"
   ]
  },
  {
   "cell_type": "markdown",
   "metadata": {},
   "source": [
    "##### *wvrflag*\n",
    "\n",
    "Regard the WVR data for these antenna(s) as bad and use interpolated\n",
    "values instead. Default: \\[ \\]. Examples:\n",
    "*wvrflag=\\['DV03','DA05','PM02'\\]*\n",
    "\n"
   ]
  },
  {
   "cell_type": "markdown",
   "metadata": {},
   "source": [
    "##### *statfield*\n",
    "\n",
    "Compute the statistics (Phase RMS, Disc) on this field only. Default: ''\n",
    "(all)\n",
    "\n"
   ]
  },
  {
   "cell_type": "markdown",
   "metadata": {},
   "source": [
    "##### *statsource*\n",
    "\n",
    "Compute the statistics (Phase RMS, Disc) on this source only. Default:\n",
    "'' (all)\n",
    "\n"
   ]
  },
  {
   "cell_type": "markdown",
   "metadata": {},
   "source": [
    "##### *smooth*\n",
    "\n",
    "Smooth the calibration solution on the given timescale. Default: '' (no\n",
    "smoothing). Examples: *smooth='3s'* smooth on a timescale of 3 seconds.\n",
    "\n"
   ]
  },
  {
   "cell_type": "markdown",
   "metadata": {},
   "source": [
    "##### *scale*\n",
    "\n",
    "Scale the entire phase correction by this factor. Default: 1. (no\n",
    "scaling)\n",
    "\n"
   ]
  },
  {
   "cell_type": "markdown",
   "metadata": {},
   "source": [
    "##### *spw*\n",
    "\n",
    "List of the spectral window IDs for which solutions should be saved into\n",
    "the caltable. Default: \\[ \\] (all spectral windows). Examples:\n",
    "*spw=\\[17,19,21,23\\]*\n",
    "\n"
   ]
  },
  {
   "cell_type": "markdown",
   "metadata": {},
   "source": [
    "##### *wvrspw*\n",
    "\n",
    "List of the spectral window IDs from which the WVR data should be taken.\n",
    "Default: \\[ \\] (all WVR spectral windows). Examples: *wvrspw=\\[0\\]*\n",
    "\n"
   ]
  },
  {
   "cell_type": "markdown",
   "metadata": {},
   "source": [
    "##### *reversespw*\n",
    "\n",
    "Reverse the sign of the correction for the listed SPWs (only neede for\n",
    "early ALMA data before Cycle 0). Default: '' (none). Examples:\n",
    "*reversespw='0\\~2,4'*; spectral windows 0,1,2,4\n",
    "\n"
   ]
  },
  {
   "cell_type": "markdown",
   "metadata": {},
   "source": [
    "##### *cont*\n",
    "\n",
    "Estimate the continuum (e.g., due to clouds). Default: False\n",
    "\n"
   ]
  },
  {
   "cell_type": "markdown",
   "metadata": {},
   "source": [
    "##### *maxdistm*\n",
    "\n",
    "Maximum distance (m) an antenna may have to be considered for being part\n",
    "of the antenna set (minnumants to 3 antennas) for the interpolation of a\n",
    "solution for a flagged antenna. Default: 500.\n",
    "\n"
   ]
  },
  {
   "cell_type": "markdown",
   "metadata": {},
   "source": [
    "##### *minnumants*\n",
    "\n",
    "Minimum number of near antennas required for interpolation. Default: 2\n",
    "\n"
   ]
  },
  {
   "cell_type": "markdown",
   "metadata": {},
   "source": [
    "##### *mingoodfrac*\n",
    "\n",
    "If the fraction of unflagged data for an antenna is below this value\n",
    "(0.0 to 1.0), the antenna is flagged. Default: 0.8\n",
    "\n"
   ]
  },
  {
   "cell_type": "markdown",
   "metadata": {},
   "source": [
    "##### *usefieldtab*\n",
    "\n",
    "Derive the antenna AZ/EL values from the FIELD rather than the POINTING\n",
    "table. Default: False\n",
    "\n"
   ]
  },
  {
   "cell_type": "markdown",
   "metadata": {},
   "source": [
    "##### *refant*\n",
    "\n",
    "Use the WVR data from this antenna for calculating the dT/dL parameters\n",
    "(can give ranked list). Default: '' (use the first good or\n",
    "interpolatable antenna), Examples: *refant='DA45'* - use DA45;\n",
    "*refant=\\['DA45','DV51'\\]* - use DA45 and if that is not good, use DV51\n",
    "instead.\n",
    "\n"
   ]
  },
  {
   "cell_type": "markdown",
   "metadata": {},
   "source": [
    "##### *offsetstable*\n",
    "\n",
    "Subtract the temperature offsets in this table from the WVR measurements\n",
    "before using them to calculate the phase corrections (experimental).\n",
    "Default: '' (do not apply any offsets). Examples:\n",
    "*offsetstable='uid\\_\\_\\_A002_Xabd867_X2277.cloud_offsets'* use the given\n",
    "table.\n",
    "\n",
    "&nbsp;"
   ]
  },
  {
   "cell_type": "markdown",
   "metadata": {
    "nbsphinx-toctree": {
     "hidden": true
    }
   },
   "source": [
    "[Description](task_wvrgcal/about)\n",
    "[Examples](task_wvrgcal/examples)\n"
   ]
  }
 ],
 "metadata": {},
 "nbformat": 4,
 "nbformat_minor": 5
}
