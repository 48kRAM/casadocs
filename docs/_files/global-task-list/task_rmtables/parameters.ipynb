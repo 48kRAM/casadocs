{
 "cells": [
  {
   "cell_type": "markdown",
   "metadata": {},
   "source": [
    "# Parameters\n",
    "\n",
    "task parameters\n",
    "\n",
    "tablenames : stringArray\n",
    "\n",
    "Name of the tables\n",
    "\n",
    "Example"
   ]
  }
 ],
 "metadata": {},
 "nbformat": 4,
 "nbformat_minor": 5
}
