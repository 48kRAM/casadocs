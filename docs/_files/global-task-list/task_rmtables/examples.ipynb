{
 "cells": [
  {
   "cell_type": "markdown",
   "metadata": {},
   "source": [
    "# Examples\n",
    "\n",
    "task examples\n",
    "\n",
    "To cleanly remove the table 'tablename':\n",
    "\n",
    "rmtables('tablename')\n",
    "\n",
    " \n",
    "\n",
    "To cleanly remove two tables:\n",
    "\n",
    "rmtables(tablenames=\\['tablename1','tablename2'\\])\n",
    "\n",
    " \n",
    "\n",
    "Arguments may contain \\* or ?. Ranges \\[ \\] are supported but not \\~\n",
    "expansion."
   ]
  }
 ],
 "metadata": {},
 "nbformat": 4,
 "nbformat_minor": 5
}
