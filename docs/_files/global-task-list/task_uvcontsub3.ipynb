{
 "cells": [
  {
   "cell_type": "markdown",
   "metadata": {},
   "source": [
    "# uvcontsub3\n",
    "\n",
    "task description\n",
    "\n",
    "&nbsp;\n",
    "\n",
    "**ALERT: uvcontsub3** is an experimental task and will eventually\n",
    "replace the current **uvcontsub** code&nbsp;with the goal of\n",
    "taking&nbsp;less time and temporary disk space.\n",
    "\n",
    "&nbsp;\n",
    "\n",
    "&nbsp;\n",
    "\n",
    "**uvcontsub3**&nbsp;is a task to perform continuum fitting and\n",
    "subtraction in the uv plane\n",
    "\n",
    "&nbsp;\n",
    "\n",
    "This task estimates the continuum emission by fitting polynomials to the\n",
    "real and imaginary parts of the spectral windows and channels selected\n",
    "by&nbsp;*fitspw*. This fit represents a model of the continuum in all\n",
    "channels.&nbsp;The fitted continuum spectrum is subtracted from all\n",
    "channels selected in&nbsp;*spw*, and the result (presumably only line\n",
    "emission) is stored in a new MS that is always called vis + \".contsub\".\n",
    "If an MS with the output name already exists, it will be overwritten.\n",
    "\n",
    "&nbsp;\n",
    "\n",
    "**uvcontsub3**&nbsp;will read from the CORRECTED_DATA column\n",
    "of&nbsp;*vis*&nbsp;if it is present, or DATA if it is not. Whichever\n",
    "column is read is presumed to have already been calibrated.\n",
    "\n",
    "&nbsp;&nbsp;\n",
    "\n",
    "**WARNING:**&nbsp;Strictly speaking, the&nbsp;**uvcontsub3**&nbsp;model\n",
    "is only a good representation of the continuum at the phase center.\n",
    "Residuals may be visible for sources far away and one may\n",
    "try&nbsp;**imcontsub**&nbsp;in the image domain for improved\n",
    "results.&nbsp;\n",
    "\n",
    "**WARNING*****:**&nbsp;fitorders*&nbsp;\\> 1 are strongly discouraged\n",
    "because high order polynomials have more flexibility, may absorb line\n",
    "emission, and tend to go wild at the edges of&nbsp;*fitspw*, which is\n",
    "not what you want.&nbsp;default:&nbsp;*0*&nbsp;(constant)\n",
    "\n",
    "&nbsp;\n",
    "\n",
    "&nbsp;\n",
    "\n"
   ]
  },
  {
   "cell_type": "markdown",
   "metadata": {},
   "source": [
    "## Parameter descriptions\n",
    "\n"
   ]
  },
  {
   "cell_type": "markdown",
   "metadata": {},
   "source": [
    "##### *vis*\n",
    "\n",
    "Name of input MS. Output goes to vis + \".contsub\" (will be overwritten\n",
    "if already exists)\n",
    "\n",
    "*fitspw&nbsp;&nbsp;*\n",
    "\n",
    "Selection of spectral windows and channels to use in the fit for the\n",
    "continuum, using general&nbsp;[MS selection\n",
    "syntax](https://casa.nrao.edu/casadocs-devel/stable/calibration-and-visibility-data/data-selection-in-a-measurementset)&nbsp;for\n",
    "spectral windows, e.g. in spw:chan format (spw ids are required\n",
    "but&nbsp;*'\\*'*&nbsp;can be used) or as frequencies.&nbsp;See the note\n",
    "under&nbsp;*combine*. default:&nbsp;*fitspw=''&nbsp;*&nbsp;(all)\n",
    "\n",
    "**WARNING:**&nbsp;The *fitspw* selection is based on the channel numbers\n",
    "in the uv-data of the input MS file, which are most likely different\n",
    "from the channel numbers in the image plane after running\n",
    "**tclean**.&nbsp;\n",
    "\n"
   ]
  },
  {
   "cell_type": "markdown",
   "metadata": {},
   "source": [
    "##### *combine*\n",
    "\n",
    "Continuum solutions will break at scan, field, and spw boundaries\n",
    "according to&nbsp;*solint.&nbsp;*To allow solutions across these\n",
    "boundaries,&nbsp;*combine*&nbsp;can be set to&nbsp;'*spw*', '*scan*',\n",
    "or&nbsp;*'spw, scan'.&nbsp; combine&nbsp;*must\n",
    "include&nbsp;*'spw'*&nbsp; if&nbsp;spw contains spws that are not\n",
    "in&nbsp;*fitspw*!&nbsp; default:*&nbsp;''*&nbsp; which is that solutions\n",
    "will break at scan, field, and spw\n",
    "\n"
   ]
  },
  {
   "cell_type": "markdown",
   "metadata": {},
   "source": [
    "##### *fitorder*\n",
    "\n",
    "Polynomial order for the fits of the continuum w.r.t.\n",
    "frequency.&nbsp;*fitorders*&nbsp;\\> 1 are strongly discouraged because\n",
    "high order polynomials have more flexibility, may  \n",
    "absorb line emission, and tend to go wild at the edges of&nbsp;*fitspw*,\n",
    "which is not what you want.&nbsp;default:&nbsp;*0*&nbsp;(constant)\n",
    "\n"
   ]
  },
  {
   "cell_type": "markdown",
   "metadata": {},
   "source": [
    "##### *field*\n",
    "\n",
    "[Field\n",
    "selection](https://casa.nrao.edu/casadocs-devel/stable/calibration-and-visibility-data/data-selection-in-a-measurementset)&nbsp;for\n",
    "continuum estimation and subtraction. The estimation and subtraction is\n",
    "done for each selected field separately in turn.\n",
    "default:*&nbsp;''*&nbsp; (all fields).&nbsp;(See&nbsp;[Data Selection in\n",
    "a\n",
    "MeasurementSet](https://casa.nrao.edu/casadocs-devel/stable/calibration-and-visibility-data/data-selection-in-a-measurementset))\n",
    "\n"
   ]
  },
  {
   "cell_type": "markdown",
   "metadata": {},
   "source": [
    "##### *spw*\n",
    "\n",
    "Optional per spectral window selection of channels to include in the\n",
    "output. See the note under&nbsp;*combine*.&nbsp;The sub-MS output\n",
    "spectral windows will be renumbered to start from 0, as\n",
    "in&nbsp;**split**. default:&nbsp;*''*&nbsp;(all\n",
    "spws)&nbsp;&nbsp;&nbsp;(See&nbsp;[Data Selection in a\n",
    "MeasurementSet](https://casa.nrao.edu/casadocs-devel/stable/calibration-and-visibility-data/data-selection-in-a-measurementset))\n",
    "\n"
   ]
  },
  {
   "cell_type": "markdown",
   "metadata": {},
   "source": [
    "##### *scan*\n",
    "\n",
    "Scan&nbsp;id selection. default: *''* (all scans) (See [Data Selection\n",
    "in a\n",
    "MeasurementSet](https://casa.nrao.edu/casadocs-devel/stable/calibration-and-visibility-data/data-selection-in-a-measurementset))\n",
    "\n"
   ]
  },
  {
   "cell_type": "markdown",
   "metadata": {},
   "source": [
    "##### *intent*\n",
    "\n",
    "Selection by scan intent.&nbsp;default:&nbsp;*''*&nbsp;(all\n",
    "intents)&nbsp; (See&nbsp;[Data Selection in a\n",
    "MeasurementSet](https://casa.nrao.edu/casadocs-devel/stable/calibration-and-visibility-data/data-selection-in-a-measurementset))\n",
    "\n"
   ]
  },
  {
   "cell_type": "markdown",
   "metadata": {},
   "source": [
    "##### *correlation*\n",
    "\n",
    "Selection by correlation.&nbsp;default:&nbsp;*''*&nbsp;(all\n",
    "correlations)&nbsp; (polarization products)&nbsp;&nbsp;(See&nbsp;[Data\n",
    "Selection in a\n",
    "MeasurementSet](https://casa.nrao.edu/casadocs-devel/stable/calibration-and-visibility-data/data-selection-in-a-measurementset))\n",
    "\n"
   ]
  },
  {
   "cell_type": "markdown",
   "metadata": {},
   "source": [
    "##### *observation*\n",
    "\n",
    "Selection by observation id.&nbsp;default:&nbsp;*''*&nbsp;(all obs\n",
    "ids)&nbsp; (See&nbsp;[Data Selection in a\n",
    "MeasurementSet](https://casa.nrao.edu/casadocs-devel/stable/calibration-and-visibility-data/data-selection-in-a-measurementset))\n",
    "\n",
    "&nbsp;\n",
    "\n",
    "&nbsp;\n",
    "\n",
    "&nbsp;\n",
    "\n",
    "&nbsp;"
   ]
  },
  {
   "cell_type": "markdown",
   "metadata": {
    "nbsphinx-toctree": {
     "hidden": true
    }
   },
   "source": [
    "[Description](task_uvcontsub3/about)\n",
    "[Examples](task_uvcontsub3/examples)\n"
   ]
  }
 ],
 "metadata": {},
 "nbformat": 4,
 "nbformat_minor": 5
}
