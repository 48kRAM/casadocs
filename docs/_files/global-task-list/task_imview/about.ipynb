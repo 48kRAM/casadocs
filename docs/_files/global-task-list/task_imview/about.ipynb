{
 "cells": [
  {
   "cell_type": "markdown",
   "metadata": {},
   "source": [
    "# Description\n",
    "\n",
    "imval task: Get the data value(s) and/or mask value in an image.\n",
    "\n"
   ]
  },
  {
   "cell_type": "markdown",
   "metadata": {},
   "source": [
    "## Summary\n",
    "\n",
    "Displays images and data cubes in raster, contour,\n",
    "vector or&nbsp;marker form. \n",
    "\n",
    "Executing the **imview** task will bring up a display\n",
    "panel&nbsp;window, which can be resized. If no\n",
    "data file was specified,&nbsp;a Load Data window will also\n",
    "appear. Click on the desired data&nbsp;file and\n",
    "choose the display type; the rendered data should\n",
    "appear&nbsp;on the display panel. Images can be blinked,\n",
    "and movies are available&nbsp;for spectral-line image\n",
    "cubes. The loaded data and related\n",
    "display&nbsp;options can be saved in a 'restore'\n",
    "file for later use.&nbsp;You can provide the\n",
    "'restore' filename on the command line or&nbsp;select it from the Load Data window.\n",
    "\n",
    "A&nbsp;Data Display Options window will also appear. It\n",
    "has drop-down&nbsp;subsections for related\n",
    "options, most of which are self-explanatory. It\n",
    "is also possible to use the **viewer** GUI tool to perform image\n",
    "manipulation&nbsp;and analysis tasks that are\n",
    "not available from the command-line start.\n",
    "\n",
    "The **imview** task provides access to a subset of all\n",
    "of the configuration&nbsp;options for loading and\n",
    "configuring the display of images in the casaviewer, but support for this task is limited. See\n",
    "the chapter pages on [Image Cube\n",
    "Visualization](https://casa.nrao.edu/casadocs-devel/stable/imaging/image-cube-visualization)\n",
    "for more information.  \n",
    "\n",
    "\n",
    "&nbsp;\n",
    "\n"
   ]
  },
  {
   "cell_type": "markdown",
   "metadata": {},
   "source": [
    "## Parameter descriptions \n",
    "\n",
    "There are five optional parameters for imview --\n",
    "*raster*, *contour*, *zoom*, *axes*, and *out*. Each of these parameters\n",
    "are optional, can take a few different forms, and are treated as python\n",
    "dictionaries:\n",
    "\n"
   ]
  },
  {
   "cell_type": "markdown",
   "metadata": {},
   "source": [
    "##### *raster*\n",
    "\n",
    "Raster filename\n",
    "(string) or complete raster config dictionary. The allowed dictionary\n",
    "keys are:\n",
    "\n",
    "-   file (string) =\\> image file to open\n",
    "-    scaling (float) =\\> scaling power cycles\n",
    "-    range (float\\*2) =\\> data range\n",
    "-   colormap (string) =\\> name of colormap\n",
    "-   colorwedge (bool) =\\> show color wedge?\n",
    "\n"
   ]
  },
  {
   "cell_type": "markdown",
   "metadata": {},
   "source": [
    "##### *contour*\n",
    "\n",
    "Contour filename (string) or complete contour config\n",
    "dictionary. The allowed dictionary keys are:  \n",
    "\n",
    "\n",
    "-   file (string) =\\> file to load\n",
    "-    levels (float\\*N) =\\> relative levels\n",
    "-   base (numeric) =\\> zero in relative levels\n",
    "-    unit (numeric) =\\> one in the relative\n",
    "    levels\n",
    "\n"
   ]
  },
  {
   "cell_type": "markdown",
   "metadata": {},
   "source": [
    "##### *zoom*\n",
    "\n",
    "Zoom can specify incremental zoom (integer), zoom region read from a\n",
    "file (string), or dictionary specifying the zoom region. The dictionary\n",
    "can have different forms. It can be a simple region specified with blc\n",
    "(2 element vector) and trc (2 element vector), along with an optional\n",
    "coord key (\"pixel\" or \"world\"; pixel is the default), or it can be a\n",
    "complete region rectangle, e.g., loaded with **rg.fromfiletorecord**( ).\n",
    "The dictionary can also contain a channel (integer) field which\n",
    "indicates which channel should be displayed.\n",
    "\n",
    "-   (int) integral zoom level\n",
    "-   (string) region file to load as the zoom\n",
    "    region\n",
    "-   (dict) blc (numeric\\*2) =\\> bottom left\n",
    "    corner\n",
    "-   trc (numeric\\*2) =\\> top right corner\n",
    "-   coord (string) =\\> pixel or world\n",
    "-   channel (int) =\\> chanel to display\n",
    "-   (dict)&nbsp;\\<region record\\> =\\> record loaded,\n",
    "    e.g., **rg.fromfiletorecord**( )\n",
    "\n"
   ]
  },
  {
   "cell_type": "markdown",
   "metadata": {},
   "source": [
    "##### *axes*\n",
    "\n",
    "This can either be a three-element vector (string)\n",
    "where each element describes what should be found on each of the x, y,\n",
    "and z axes, or a dictionary containing fields \"x\", \"y\" and \"z\"\n",
    "(string):\n",
    "\n",
    "-   (dict) x =\\> dimension for x-axes\n",
    "-    y =\\> dimension for y-axes\n",
    "-    z =\\> dimension for z-axes\n",
    "\n"
   ]
  },
  {
   "cell_type": "markdown",
   "metadata": {},
   "source": [
    "##### *out*\n",
    "\n",
    "Output filename or complete output config dictionary.\n",
    "If a string is passed, the file extension is used to determine the\n",
    "output type (jpg, pdf, eps, ps, png, xbm, xpm, or ppm). If a dictionary\n",
    "is passed, it can contain the fields, file (string), scale (float), dpi\n",
    "(int), or orient (landscape or portrait). The scale field is used for\n",
    "the bitmap formats (i.e., not ps or pdf) and the dpi parameter is used\n",
    "for scalable formats (pdf or ps).\n",
    "\n",
    "-   (dict) file (string) =\\> filename\n",
    "-   format (string) =\\> valid ext (filename ext\n",
    "    overrides)\n",
    "-   scale (numeric) =\\> scale for non-eps, non-ps\n",
    "    output\n",
    "-   dpi (numeric) =\\> dpi for eps or ps output\n",
    "-   orient (string) =\\> portrait or landscape  \n",
    "    \n",
    "\n",
    "&nbsp;\n",
    "\n",
    "![https://raw.githubusercontent.com/c21233cc58158c9088713800a5694cfaf3f94963.png](https://raw.githubusercontent.com/c21233cc58158c9088713800a5694cfaf3f94963.png)\n",
    "\n",
    "|         |                                |\n",
    "|:--------|--------------------------------|\n",
    "| Type    | Figure                         |\n",
    "| ID      | 1                              |\n",
    "| Caption | **imview** interactive display |\n",
    "\n",
    "&nbsp;"
   ]
  }
 ],
 "metadata": {},
 "nbformat": 4,
 "nbformat_minor": 5
}
