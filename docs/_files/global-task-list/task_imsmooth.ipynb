{
 "cells": [
  {
   "cell_type": "markdown",
   "metadata": {},
   "source": [
    "# imsmooth\n",
    "\n",
    "imsmooth task: Smooth an image or portion of an image\n",
    "\n",
    "This task performs a Fourier-based convolution to 'smooth' the direction\n",
    "plane of an image. Smoothing is typically performed in order to reduce\n",
    "the noise in an image.\n",
    "\n",
    "A deconvolved image $\\bf{I}$ can be smoothed to a target\n",
    "resolution by convolving it with a [Gaussian\n",
    "beam](https://casa.nrao.edu/casadocs-devel/stable/casa-fundamentals/definition_synthesized_beam)\n",
    "$\\bf{B}_{\\rm tar}$. If the image is\n",
    "already convolved with another smaller beam $\\bf{B}_{\\rm cur}$ a correcting\n",
    "beam&nbsp; $\\bf{B}_{\\rm cor}$ can be calculated so\n",
    "that  \n",
    "$$\\begin{align} \\bf{B}_{\\rm tar} * \\bf{I} = \\bf{B}_{\\rm cor} * (\\bf{B}_{\\rm cur} * \\bf{I}),  \\end{align}$$  \n",
    "where $*$\n",
    "is the convolution operator.&nbsp; The Fourier transform of the above\n",
    "equation is  \n",
    "$$\\begin{align} \\bf{B}_{\\rm tar}^f  \\bf{I}^f = \\bf{B}_{\\rm cor}^f  (\\bf{B}_{\\rm cur}^f  \\bf{I}^f), \\end{align}$$  \n",
    "where the superscript $f$ indicates the Fourier transform. The\n",
    "correcting beam can then be obtained by  \n",
    "$$\\begin{align} \\bf{B}_{\\rm cor} = \\mathcal{F}^{-1} \\left( \\frac{\\bf{B}_{\\rm tar}^f}{\\bf{B}_{\\rm cur}^f} \\right). \\end{align}$$\n",
    "\n",
    "&nbsp;\n",
    "\n",
    "Below we provide details of how the task imsmooth implements this\n",
    "concept.\n",
    "\n"
   ]
  },
  {
   "cell_type": "markdown",
   "metadata": {},
   "source": [
    "## &nbsp;\n",
    "\n"
   ]
  },
  {
   "cell_type": "markdown",
   "metadata": {},
   "source": [
    "## Gaussian Kernel\n",
    "\n",
    "The direction pixels must be square. If they are not, use imregrid to\n",
    "regrid your image onto a grid of square pixels.\n",
    "\n",
    "Under the hood, **ia.convolve2d()** is called with *scale=-1* (auto\n",
    "scaling). This means that, when the input image has a restoring beam,\n",
    "pixel values in the output image are scaled in such a way as to conserve\n",
    "flux density.\n",
    "\n",
    "*major* and *minor* are the full width at half maximum (FWHM) of the\n",
    "Gaussian. *pa* is the position angle of the Gaussian.\n",
    "\n",
    "The beam parameter offers an alternate way of describing the convolving\n",
    "Gaussian. If used, neither *major*, *minor*, nor *pa* can be specified.\n",
    "The beam parameter must have exactly three fields: \"*major*\", \"*minor*\",\n",
    "and \"*pa*\" (or \"positionangle\"); this is the record format for the\n",
    "output of **ia.restoringbeam()**. For example:&nbsp;\n",
    "\n",
    "beam = {\"major\": \"5arcsec\", \"minor\": \"2arcsec\", \"pa\": \"20deg\"}&nbsp;\n",
    "\n",
    "If both beam and any of *major*, *minor*, and/or *pa*&nbsp;are specified\n",
    "for a Gaussian kernel, an exception will be thrown.\n",
    "\n",
    "Alternatively, if the input image has multiple beams, setting\n",
    "*kernel='commonbeam'* will result in the smallest area beam that\n",
    "encloses all beams in the image to be used as the target resolution to\n",
    "which to convolve all planes.\n",
    "\n",
    "In addition, the *targetres* parameter indicates if the specified\n",
    "Gaussian is to be the resolution of the final image (*True*) or if it is\n",
    "to be used to convolve the input image (*False*). If *True*, the input\n",
    "image must have a restoring beam. Use **imhead()** or\n",
    "**ia.restoringbeam()** to check for its existence. If the image has\n",
    "multiple beams and *targetres=True***,** all planes in the image will be\n",
    "convolved so that the resulting resolution is that specified by the\n",
    "kernel parameters. If the image has multiple beams and\n",
    "*targetres=False*, each plane will be convolved with a Gaussian\n",
    "specified by beam (and hence, in general, the output image will also\n",
    "have multiple beams that vary with spectral channel and/or\n",
    "polarization).\n",
    "\n",
    "If the units on the original image include Jy/beam, the units on the\n",
    "output image will be rescaled by the ratio of the input and output beams\n",
    "as well as rescaling by the area of convolution kernel in order to\n",
    "conserve flux density.\n",
    "\n",
    "If the units on the original image include K, then only the image\n",
    "convolution kernel rescaling is done.\n",
    "\n"
   ]
  },
  {
   "cell_type": "markdown",
   "metadata": {},
   "source": [
    "## Boxcar Kernel\n",
    "\n",
    "*major* is the length of the box along the y-axis, and *minor* is length\n",
    "of the box along the x-axis. *pa* is not used and beam should not be\n",
    "specified. The value of *targetres* is not used.\n",
    "\n"
   ]
  },
  {
   "cell_type": "markdown",
   "metadata": {},
   "source": [
    "## General\n",
    "\n",
    "The *major, minor,* and *pa* parameters can be specified in one of three\n",
    "ways:\n",
    "\n",
    "1.  Quantity -- for example *major=qa.quantity(1, 'arcsec')*. Note that\n",
    "    you can use pixel units, such as *major=qa.quantity(1, 'pix')*.\n",
    "2.  String -- for example *minor='1pix'* or *major='0.5arcsec* (i.e. a\n",
    "    string that the Quanta quantity function accepts).\n",
    "3.  Numeric -- for example *major=10*. In this case, the units of\n",
    "    *major* and *minor* are assumed to be in arcsec and units of *pa*\n",
    "    are assumed to be degrees.\n",
    "\n",
    "Note: Using pixel units allows you to convolve axes with different\n",
    "units.\n",
    "\n"
   ]
  },
  {
   "cell_type": "markdown",
   "metadata": {},
   "source": [
    "## Image Kernel\n",
    "\n",
    "If *kernel=\"i\"* or *\"image\"*, the image specified by *kimage* is used to\n",
    "convolve the input image. The coordinate system of the convolution image\n",
    "is ignored; only the pixel values are considered.\n",
    "\n",
    "Fourier-based convolution is performed.\n",
    "\n",
    "The provided kernel can have fewer dimensions than the image being\n",
    "convolved. In this case, it will be padded with degenerate axes. An\n",
    "error will result if the kernel has more dimensions than the image.\n",
    "\n",
    "The scaling of the output image is determined by the *scale* parameter.\n",
    "If this is left unset, then the kernel is normalized to unit sum. If\n",
    "*scale* is not left unset, then the convolution kernel will be scaled\n",
    "(multiplied) by this value.\n",
    "\n",
    "Masked pixels will be assigned the value 0.0 before convolution.\n",
    "\n",
    "The output mask is the intersection (logical AND) of the default input\n",
    "image pixel mask (if any) and the OTF mask. Any other input pixel masks\n",
    "will not be copied. The function **ia.maskhandler()** should be used if\n",
    "there is a need to copy other masks too.\n",
    "\n",
    "&nbsp;\n",
    "\n",
    "&nbsp;"
   ]
  },
  {
   "cell_type": "markdown",
   "metadata": {
    "nbsphinx-toctree": {
     "hidden": true
    }
   },
   "source": [
    "[Description](task_imsmooth/about)\n",
    "[Parameters](task_imsmooth/parameters)\n",
    "[Changelog](task_imsmooth/changelog)\n",
    "[Examples](task_imsmooth/examples)\n",
    "[Developer](task_imsmooth/developer)\n"
   ]
  }
 ],
 "metadata": {},
 "nbformat": 4,
 "nbformat_minor": 5
}
