{
 "cells": [
  {
   "cell_type": "markdown",
   "metadata": {},
   "source": [
    "# predictcomp\n",
    "\n",
    "task description\n",
    "\n",
    "This task makes a flux model as a component list from\n",
    "one of the flux calibrator standards used by the&nbsp;**setjy** task. It\n",
    "also returns a Python dictionary of the predicted model and optionally\n",
    "plots the predicted visibility amplitudes versus uv-distance when the\n",
    "array configuration information is specified. It uses the same common\n",
    "prediction code as **setjy** but without the need for the actual\n",
    "visibility data. This task is useful for cross checking what **setjy**\n",
    "would set for model visilibilities or for finding a predicted flux\n",
    "density for a calibrator at a particular epoch, especially when the flux\n",
    "calibrator is a Solar System object.  \n",
    "\n",
    "\n",
    "The following are the main keys of the returned\n",
    "dictionary (or False on error):\n",
    "\n",
    "-   'antennalist' - array configuration file\n",
    "-    'savedfig' - output file name for a plot\n",
    "-    'spectrum' - frequency setup information\n",
    "-    'clist' - output component list name\n",
    "-    'riseset' - times of rise and set of the\n",
    "    object&nbsp; \n",
    "-   'standard' - flux standard used\n",
    "-    'shape' - model shape and position of the\n",
    "    object\n",
    "-   'epoch' - epoch used&nbsp; \n",
    "-   'objname' - object name\n",
    "-    'freqs (GHz)' - frequencies\n",
    "-    'amps' - list of predicted visibility\n",
    "    amplitudes\n",
    "-   'baselines' - list of baselines\n",
    "-   'blunit' - unit\n",
    "-   'azel' - AZ-El direction  \n",
    "    \n",
    "\n",
    "&nbsp;\n",
    "\n"
   ]
  },
  {
   "cell_type": "markdown",
   "metadata": {},
   "source": [
    "## Parameter descriptions\n",
    "\n"
   ]
  },
  {
   "cell_type": "markdown",
   "metadata": {},
   "source": [
    "##### *objname*\n",
    "\n",
    "The object name as recognized by **setjy**. If the object specified is\n",
    "not visible from the specified telescope, an error will be thrown to\n",
    "this effect.\n",
    "\n"
   ]
  },
  {
   "cell_type": "markdown",
   "metadata": {},
   "source": [
    "##### *standard*\n",
    "\n",
    "Sets the flux density model standard from **setjy**, namely\n",
    "Perley-Taylor 99, Baars, Perley 90, Perley-Taylor 95,\n",
    "Butler-JPL-Horizons 2010, Butler-JPL-Horizons 2012.\n",
    "\n"
   ]
  },
  {
   "cell_type": "markdown",
   "metadata": {},
   "source": [
    "##### *epoch*\n",
    "\n",
    "Sets the time that **predictcomp** uses,&nbsp;which is only relevant for\n",
    "Solar Object standards, using a standard CASA date/time format (e.g.,\n",
    "'2018-12-31/5:34:12').\n",
    "\n"
   ]
  },
  {
   "cell_type": "markdown",
   "metadata": {},
   "source": [
    "##### *minfreq*\n",
    "\n",
    "Sets the&nbsp;minimum predicted frequency of the model. Units must be\n",
    "given. Examples: *minfreq='230GHz'*\n",
    "\n"
   ]
  },
  {
   "cell_type": "markdown",
   "metadata": {},
   "source": [
    "##### *maxfreq*\n",
    "\n",
    "Sets the maximum predicted frequency of the model. Units must be given.\n",
    "Examples: *maxfreq='265GHz'*\n",
    "\n"
   ]
  },
  {
   "cell_type": "markdown",
   "metadata": {},
   "source": [
    "##### *nfreqs*\n",
    "\n",
    "Sets the frequency interval for the predicted visibilities. Examples:\n",
    "*minfreq='230GHz' maxfreqs='265GHz' nfreqs=5*, the predicted\n",
    "visibilities will be determined for frequencies of equal interval\n",
    "determined by the equation $(maxfreqs - minfreqs) / nfreqs$ (in this\n",
    "case, for frequencies 230, 239, 248, 256, and 265 GHz).\n",
    "\n"
   ]
  },
  {
   "cell_type": "markdown",
   "metadata": {},
   "source": [
    "##### *prefix*\n",
    "\n",
    "The component list will be saved to '\\<prefix\\> +\n",
    "\\<objname\\>\\_spw0\\_\\<minfreq\\>\\<epoch\\>.cl'. If a component list of the\n",
    "same name already exists, **predictcomp** will remove the previous\n",
    "version. Default: ' ' which will create the component list name sans the\n",
    "prefix. Examples: *prefix='Bands3to7\\_'*, which could produce\n",
    "'Bands3to7_Uranus_spw0_100GHz55877d.cl' (depending on the other\n",
    "parameters).\n",
    "\n"
   ]
  },
  {
   "cell_type": "markdown",
   "metadata": {},
   "source": [
    "##### *antennalist*\n",
    "\n",
    "When *antennalist* is given a valid array configuration file, the task\n",
    "predicts and plots (if set) the visibility amplitudes for the array\n",
    "configuration. The search path is: .:casa\\['dirs'\\]\\['data'\\] +\n",
    "'/alma/simmos/'. Default: '', None just makes a component list.\n",
    "Examples: *antennalist='alma.cycle0.extended.cfg'*\n",
    "\n"
   ]
  },
  {
   "cell_type": "markdown",
   "metadata": {},
   "source": [
    "#### antennalist expandable parameters\n",
    "\n"
   ]
  },
  {
   "cell_type": "markdown",
   "metadata": {},
   "source": [
    "##### *showplot*\n",
    "\n",
    "Whether or not to show a plot of the visibility amplitudes vs. uv\n",
    "distance on the screen.\n",
    "\n"
   ]
  },
  {
   "cell_type": "markdown",
   "metadata": {},
   "source": [
    "##### *savefig*\n",
    "\n",
    "Filename for saving a plot of the amplitude vs. uv distances.\n",
    "\n"
   ]
  },
  {
   "cell_type": "markdown",
   "metadata": {},
   "source": [
    "##### *symb*\n",
    "\n",
    "One of matplotlib's codes for plot symbols: .:,o^v\\<\\>s+xDd234hH\\|\\_.\n",
    "Default: '.'\n",
    "\n"
   ]
  },
  {
   "cell_type": "markdown",
   "metadata": {},
   "source": [
    "##### *include0amp*\n",
    "\n",
    "Force the amplitude axis to start at 0. Default: False\n",
    "\n"
   ]
  },
  {
   "cell_type": "markdown",
   "metadata": {},
   "source": [
    "##### *include0bl*\n",
    "\n",
    "Force the baseline axis to start at 0. Default: False\n",
    "\n"
   ]
  },
  {
   "cell_type": "markdown",
   "metadata": {},
   "source": [
    "##### *blunit*\n",
    "\n",
    "Unit of the baseline axis ('' or 'klambda'). Default: ' ' = use a unit\n",
    "in the data\n",
    "\n"
   ]
  },
  {
   "cell_type": "markdown",
   "metadata": {},
   "source": [
    "##### *showbl0flux*\n",
    "\n",
    "Print the zero baseline flux. Default: False\n",
    "\n",
    "&nbsp;"
   ]
  },
  {
   "cell_type": "markdown",
   "metadata": {
    "nbsphinx-toctree": {
     "hidden": true
    }
   },
   "source": [
    "[Description](task_predictcomp/about)\n",
    "[Parameters](task_predictcomp/parameters)\n",
    "[Changelog](task_predictcomp/changelog)\n",
    "[Examples](task_predictcomp/examples)\n",
    "[Developer](task_predictcomp/developer)\n"
   ]
  }
 ],
 "metadata": {},
 "nbformat": 4,
 "nbformat_minor": 5
}
