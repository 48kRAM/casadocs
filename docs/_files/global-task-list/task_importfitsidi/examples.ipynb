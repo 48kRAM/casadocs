{
 "cells": [
  {
   "cell_type": "markdown",
   "metadata": {},
   "source": [
    "# Examples\n",
    "\n",
    "task examples\n",
    "\n",
    "To convert a single observation spread across two FITS-IDI files into a\n",
    "single CASA MeasurementSet while treating gaps of 15 seconds or more as\n",
    "scan boundaries:\n",
    "\n",
    "importfitsidi(fitsidifile=\\['N18C1_1.IDI', 'N18C1_2.IDI'\\],\n",
    "vis='n18c1.ms', constobsid=True, scanreindexgap_s=15)"
   ]
  }
 ],
 "metadata": {},
 "nbformat": 4,
 "nbformat_minor": 5
}
