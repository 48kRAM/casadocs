{
 "cells": [
  {
   "cell_type": "markdown",
   "metadata": {},
   "source": [
    "# Description\n",
    "\n",
    "Convert a FITS-IDI file to a CASA MeasurementSet\n",
    "\n"
   ]
  },
  {
   "cell_type": "markdown",
   "metadata": {},
   "source": [
    "## Summary\n",
    "\n",
    "The **importfitsidi** task converts FITS files in Interferometry Data\n",
    "Interchange (IDI) format to CASA MeasurementSets.\n",
    "\n",
    "It permits CASA users to process visibility data provided in the\n",
    "FITS-IDI standard <a href=\"#cit1\" id=\"ref-cit1\" class=\"ref-cit\">[1]</a>.\n",
    "If several files are given, they will be concatenated into one MS.\n",
    "\n",
    "For data correlated with the DiFX correlator (such as the VLBA\n",
    "correlator), importfitsidi will apply the necessary digital corrections\n",
    "for antennas using 1-bit or 2-bit sampling. Corrections are not applied\n",
    "for other correlators.\n",
    "\n",
    "**WARNING:** because digital corrections are applied for data correlated\n",
    "with the the DiFX correlator, this means that processing archival data\n",
    "correlated with the VLBA hardware correlator should be done with care\n",
    "and may not yield the appropriate results.\n",
    "\n",
    "Visibility weights in the SIGMA and WEIGHT columns of the MS are\n",
    "initialized taking into account the correlator weights, effectively by\n",
    "scaling the integration time by the correlator weight.\n",
    "\n",
    "The importfitsidi task will import meta-data from the SYSTEM_TEMPERATURE\n",
    "and WEATHER tables of the FITS-IDI files, if present. For correlators\n",
    "that do not attach these tables, the meta-data should be attached to the\n",
    "FITS-IDI files before using importfitsidi if amplitude calibraton using\n",
    "T<sub>sys</sub> information or opacity corrections using weather\n",
    "information is desired. Meta-data from GAIN_CURVE, PHASE-CAL, FLAG,\n",
    "BASELINE, BANDPASS, CALIBRATION and MODEL_COMPS tables is currently\n",
    "ignored.\n",
    "\n",
    "&nbsp;\n",
    "\n"
   ]
  },
  {
   "cell_type": "markdown",
   "metadata": {},
   "source": [
    "## Parameter descriptions\n",
    "\n"
   ]
  },
  {
   "cell_type": "markdown",
   "metadata": {},
   "source": [
    "##### *fitsidifile*\n",
    "\n",
    "Name(s) of input FITS-IDI file(s). No default.&nbsp; If more than one\n",
    "input file is specified, they will be filled into a single MS.\n",
    "\n"
   ]
  },
  {
   "cell_type": "markdown",
   "metadata": {},
   "source": [
    "##### *vis*\n",
    "\n",
    "Name of output visibility file (MS). No default.\n",
    "\n"
   ]
  },
  {
   "cell_type": "markdown",
   "metadata": {},
   "source": [
    "##### *constobsid*\n",
    "\n",
    "Controls the conversion with respect to the observation IDs. If True, a\n",
    "constant obs id == 0 is given to the data from all input FITS-IDI files.\n",
    "If False, separate observations IDs are given for each input file.\n",
    "Default = False.\n",
    "\n"
   ]
  },
  {
   "cell_type": "markdown",
   "metadata": {},
   "source": [
    "##### *scanreindexgap_s*\n",
    "\n",
    "Controls the conversion with respect to the division into scans. If\n",
    "*scanreindexgap_s \\> 0.*, a new scan is started&nbsp;(on a per-antenna\n",
    "basis) whenever the gap between two integrations is larger than the\n",
    "given value (in seconds), whenever a new field starts, or whenever the\n",
    "ARRAY_ID changes. The default = 0, which results in no reindexing.\n",
    "\n"
   ]
  },
  {
   "cell_type": "markdown",
   "metadata": {},
   "source": [
    "##### *specframe*\n",
    "\n",
    "Set the spectral reference frame for all spectral windows in the\n",
    "MS.&nbsp; Default =*'GEO'*.&nbsp;&nbsp; Other options:&nbsp; *'TOPO',\n",
    "'LSRK', 'BARY'*.&nbsp; NOTE: If *specframe='TOPO',  \n",
    "*the reference location will be taken from the Observatories table in\n",
    "the CASA data repository for the given name of the observatory.\n",
    "\n",
    "&nbsp;\n",
    "\n",
    "&nbsp;\n",
    "\n",
    "|                 |                                                                                      |\n",
    "|:----------------|--------------------------------------------------------------------------------------|\n",
    "| Citation Number | 1                                                                                    |\n",
    "| Citation Text   | E. Greisen, [AIPS memo](http://www.aips.nrao.edu/aipsmemo.html) 114, revised version |\n",
    "\n",
    "Bibliography\n",
    "\n",
    "  \n",
    "<sup>1.\\ E.\\ Greisen,\\ [AIPS\\ memo](http://www.aips.nrao.edu/aipsmemo.html)\\ 114,\\ revised\\ version\\ [&larrhk;](#ref-cit1 \"Jump back to citation 1 in the text.\")</sup>"
   ]
  }
 ],
 "metadata": {},
 "nbformat": 4,
 "nbformat_minor": 5
}
