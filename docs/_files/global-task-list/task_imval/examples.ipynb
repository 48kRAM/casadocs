{
 "cells": [
  {
   "cell_type": "markdown",
   "metadata": {},
   "source": [
    "# Examples\n",
    "\n",
    "task examples\n",
    "\n",
    "\\"
   ]
  },
  {
   "cell_type": "markdown",
   "metadata": {},
   "source": [
    "## The value and mask value at a single point (5,17,2,Q)  \n",
    "imval( 'myImage', box='5,5,17,17', chans=2, stokes='Q' )  \n",
    "  \n",
    "\\"
   ]
  },
  {
   "cell_type": "markdown",
   "metadata": {},
   "source": [
    "## Select and report on two box regions  \n",
    "\\"
   ]
  },
  {
   "cell_type": "markdown",
   "metadata": {},
   "source": [
    "## box 1, bottom-left coord is 2,3 and top-right coord is 14,15  \n",
    "\\"
   ]
  },
  {
   "cell_type": "markdown",
   "metadata": {},
   "source": [
    "## box 2, bottom-left coord is 30,31 and top-right coord is 42,43  \n",
    "\\"
   ]
  },
  {
   "cell_type": "markdown",
   "metadata": {},
   "source": [
    "## Note that only the boxes for the  \n",
    "imval( 'myImage', box='2,3,14,15;30,31,42,43' )  \n",
    "  \n",
    "\\"
   ]
  },
  {
   "cell_type": "markdown",
   "metadata": {},
   "source": [
    "## Select the same two box regions but only channels 4 and 5  \n",
    "imval( 'myImage', box='2,3,14,15;30,31,42,43', chan='4\\~5' )  \n",
    "  \n",
    "\\"
   ]
  },
  {
   "cell_type": "markdown",
   "metadata": {},
   "source": [
    "## Select all channels greater the 20 as well as channel 0.  \n",
    "\\"
   ]
  },
  {
   "cell_type": "markdown",
   "metadata": {},
   "source": [
    "## Then the mean and standard deviation are printed  \n",
    "\\"
   ]
  },
  {
   "cell_type": "markdown",
   "metadata": {},
   "source": [
    "## Note that the data returned is a Python numpy array which  \n",
    "\\"
   ]
  },
  {
   "cell_type": "markdown",
   "metadata": {},
   "source": [
    "## has built in operations such as min, max, and means as  \n",
    "\\"
   ]
  },
  {
   "cell_type": "markdown",
   "metadata": {},
   "source": [
    "## demonstrated here.  \n",
    "results = imval( 'myImage', chans='\\>20;0' )  \n",
    "imval_data=results\\['data'\\]  \n",
    "mask=results\\['mask'\\]  \n",
    "\\"
   ]
  },
  {
   "cell_type": "markdown",
   "metadata": {},
   "source": [
    "## holds the absolute coordinates of the associated pixels in\n",
    "imval_data  \n",
    "coords = results\\['coords'\\]  \n",
    "print \"Data max: \", imval_data.max(), \" mean is \", imval_data.mean()  \n",
    "swapped_data=imval_data.swapaxes(0,2)  \n",
    "swapped_mask=mask.swapaxes(0,2)  \n",
    "print \"Data values for 21st channel: \\\\n\", swapped_data\\[0\\]  \n",
    "print \"Mask values for 21st channel: \\\\n\", swapped_mask\\[0\\]"
   ]
  }
 ],
 "metadata": {},
 "nbformat": 4,
 "nbformat_minor": 5
}
