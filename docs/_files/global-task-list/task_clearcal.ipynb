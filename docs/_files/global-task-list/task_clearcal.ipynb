{
 "cells": [
  {
   "cell_type": "markdown",
   "metadata": {},
   "source": [
    "# clearcal\n",
    "\n",
    "re-initializes the calibration for a visibility data set\n",
    "\n",
    "Re-initializes the calibration columns in a MeasurementSet.\n",
    "Specificially, it will set the MODEL_DATA column (if present) to unity\n",
    "in total intensity and zero in polarization, and it will set the\n",
    "CORRECTED_DATA column to the original (observed) DATA in the DATA\n",
    "column. Use the *field* and *spw* parameters to select which data to\n",
    "initialize.&nbsp;\n",
    "\n",
    "If the dataset does not yet have the scratch columns, they will be\n",
    "created (MODEL_DATA only if *addmodel=True*) and initilized for the\n",
    "whole dataset. In this case, the arguments *field*, *spw*, and *intent*\n",
    "will be ignored. &nbsp;\n",
    "\n",
    "&nbsp;\n",
    "\n"
   ]
  },
  {
   "cell_type": "markdown",
   "metadata": {},
   "source": [
    "## Parameters\n",
    "\n"
   ]
  },
  {
   "cell_type": "markdown",
   "metadata": {},
   "source": [
    "##### *vis*\n",
    "\n",
    "Name of input visibility file.\n",
    "\n"
   ]
  },
  {
   "cell_type": "markdown",
   "metadata": {},
   "source": [
    "##### *field*\n",
    "\n",
    "Standard selection of fields using the field id(s) or field name(s).\n",
    "\n"
   ]
  },
  {
   "cell_type": "markdown",
   "metadata": {},
   "source": [
    "##### *spw*\n",
    "\n",
    "Standard selection of spectral windows.\n",
    "\n",
    "**NOTE:** Multiple channel ranges per spw are not supported in\n",
    "**clearcal**.\n",
    "\n"
   ]
  },
  {
   "cell_type": "markdown",
   "metadata": {},
   "source": [
    "##### *intent*\n",
    "\n",
    "Select observing intent. For example, *intent='\\*BANDPASS\\*'*&nbsp;\n",
    "selects data labelled with BANDPASS intent.\n",
    "\n"
   ]
  },
  {
   "cell_type": "markdown",
   "metadata": {},
   "source": [
    "##### *addmodel*\n",
    "\n",
    "If True, add a MODEL_DATA column along with CORRECTED_DATA column. If\n",
    "False, only the CORRECTED_DATA will be added and reset, model\n",
    "visibilities will then be evaluated when needed. Default is False (i.e.,\n",
    "MODEL_DATA column will not be added)."
   ]
  },
  {
   "cell_type": "markdown",
   "metadata": {
    "nbsphinx-toctree": {
     "hidden": true
    }
   },
   "source": [
    "[Description](task_clearcal/about)\n",
    "[Examples](task_clearcal/examples)\n"
   ]
  }
 ],
 "metadata": {},
 "nbformat": 4,
 "nbformat_minor": 5
}
