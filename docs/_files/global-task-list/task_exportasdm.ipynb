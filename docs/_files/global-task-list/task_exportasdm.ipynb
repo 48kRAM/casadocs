{
 "cells": [
  {
   "cell_type": "markdown",
   "metadata": {},
   "source": [
    "# exportasdm\n",
    "\n",
    "convert a CASA visibility file (MS) into an ALMA or EVLA Science Data\n",
    "Model\n",
    "\n",
    "This task serves to convert a CASA visibility file (MS) into an ALMA or\n",
    "EVLA [Science Data\n",
    "Model](https://casa.nrao.edu/casadocs-devel/stable/casa-fundamentals/the-science-data-model)\n",
    "dataset. They are mostly identical and mostly&nbsp;use the general SDM\n",
    "and ALMA ASDM terms interchangibly. A description of the SDM format can\n",
    "be found\n",
    "[here](https://casa.nrao.edu/casadocs-devel/stable/casa-fundamentals/the-science-data-model).&nbsp;\n",
    "\n",
    "The main purpose of creating this task was to (a) enable the creation of\n",
    "simulated ASDMs and (b) facilitate the testing of (A)SDM to MS\n",
    "conversion. The user may think of other purposes.\n",
    "\n",
    "The *sbduration* parameter controls the number of execution blocks (EBs)\n",
    "into which **exportasdm** subdivides the visibilities from your input\n",
    "MS. If the total observation time in the MS is shorter than what is\n",
    "given in *sbduration*, a single EB will be created.\n",
    "\n",
    "Note concerning ALMA data: **exportasdm** presently is not able to\n",
    "export from MSs containing WVR data. If you attempt to export such an\n",
    "MS, you will receive an error message saying that you can only export\n",
    "data of processor type \"CORRELATOR\". It will also give you the list of\n",
    "SPWs which contain CORRELATOR data. You will then have to split out\n",
    "these SPWs using the task **split** and run **exportasdm** on the\n",
    "resulting MS.\n",
    "\n",
    "Also EVLA data can be exported. Note here that **exportasdm** does not\n",
    "produce online flags and that a subsequent re-import of the data must be\n",
    "done with *online=False*.\n",
    "\n",
    "&nbsp;"
   ]
  },
  {
   "cell_type": "markdown",
   "metadata": {
    "nbsphinx-toctree": {
     "hidden": true
    }
   },
   "source": [
    "[Description](task_exportasdm/about)\n",
    "[Parameters](task_exportasdm/parameters)\n",
    "[Changelog](task_exportasdm/changelog)\n",
    "[Examples](task_exportasdm/examples)\n",
    "[Developer](task_exportasdm/developer)\n"
   ]
  }
 ],
 "metadata": {},
 "nbformat": 4,
 "nbformat_minor": 5
}
