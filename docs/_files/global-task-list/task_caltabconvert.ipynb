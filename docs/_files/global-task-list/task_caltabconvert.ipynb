{
 "cells": [
  {
   "cell_type": "markdown",
   "metadata": {},
   "source": [
    "# caltabconvert\n",
    "\n",
    "convert old-style caltables into new-style caltables.\n",
    "\n"
   ]
  },
  {
   "cell_type": "markdown",
   "metadata": {},
   "source": [
    "## Summary\n",
    "\n",
    "This task converts old-style (up to CASA 3.3.0) calibration tables\n",
    "(caltables) into new-style (CASA 3.4.0 and later) caltables. It is\n",
    "provided for convenience, but if there are issues, it is suggested that\n",
    "a new-style caltable be created directly. The information transferred\n",
    "should be enough for most calibration purposes.&nbsp;*bpoly* and\n",
    "*gspline* versions are not supported. &#8232;  \n",
    "&#8232;\n",
    "\n"
   ]
  },
  {
   "cell_type": "markdown",
   "metadata": {},
   "source": [
    "## Parameters\n",
    "\n"
   ]
  },
  {
   "cell_type": "markdown",
   "metadata": {},
   "source": [
    "##### *caltabold*\n",
    "\n",
    "Name of the old-style caltable.\n",
    "\n"
   ]
  },
  {
   "cell_type": "markdown",
   "metadata": {},
   "source": [
    "##### *vis*\n",
    "\n",
    "Name of the visibility file (MS) associated with the old-style caltable.\n",
    "\n"
   ]
  },
  {
   "cell_type": "markdown",
   "metadata": {},
   "source": [
    "##### *ptype*\n",
    "\n",
    "Type of data in the new-format caltable. Allowed values: *complex*\n",
    "(default) or *float*\n",
    "\n",
    "**NOTE**: The old-style caltables do not have this information, so it is\n",
    "imperative that users get it correct. *complex* refers to caltables that\n",
    "have complex gains (e.g., produced by **gaincal**, **bpcal**, etc.).\n",
    "*float* refers to caltables that have real numbers, such as delays\n",
    "(e.g., produced by **gencal**).\n",
    "\n"
   ]
  },
  {
   "cell_type": "markdown",
   "metadata": {},
   "source": [
    "##### *caltabnew*\n",
    "\n",
    "Name of the new-style caltable. By default, the suffix *.new* is\n",
    "appended to the name of the old-style caltable."
   ]
  },
  {
   "cell_type": "markdown",
   "metadata": {
    "nbsphinx-toctree": {
     "hidden": true
    }
   },
   "source": [
    "[Description](task_caltabconvert/about)\n",
    "[Examples](task_caltabconvert/examples)\n"
   ]
  }
 ],
 "metadata": {},
 "nbformat": 4,
 "nbformat_minor": 5
}
