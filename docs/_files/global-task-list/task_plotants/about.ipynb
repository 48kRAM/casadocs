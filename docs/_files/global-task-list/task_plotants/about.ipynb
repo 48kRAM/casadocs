{
 "cells": [
  {
   "cell_type": "markdown",
   "metadata": {},
   "source": [
    "# Description\n",
    "\n",
    "Simple plotter of antenna positions\n",
    "\n"
   ]
  },
  {
   "cell_type": "markdown",
   "metadata": {},
   "source": [
    "## Summary\n",
    "\n",
    "This task is a simple plotting interface to produce plots of the antenna\n",
    "positions at the time that the data were taken. The antenna positions\n",
    "are taken from the ANTENNA sub-table of a MeasurementSet and are given\n",
    "in the local reference frame. The antennas are plotted Y vs. X in\n",
    "meters, where Y is toward local north and X is toward local east. The\n",
    "name of each antenna, and its ID when requested, is shown next to its\n",
    "respective location.\n",
    "\n"
   ]
  },
  {
   "cell_type": "markdown",
   "metadata": {},
   "source": [
    "## Interactive display\n",
    "\n",
    "The antennas will be plotted in a plotter window as shown below. Tool\n",
    "buttons allow you to interactively pan, zoom, stretch, compress, or save\n",
    "the plot, as well as return to the original plot view (home) or navigate\n",
    "between previous plot views (forward and back).\n",
    "\n"
   ]
  },
  {
   "cell_type": "markdown",
   "metadata": {},
   "source": [
    "## Task parameters\n",
    "\n",
    "When using **plotants**, you must specify the MeasurementSet to plot\n",
    "(*vis* parameter). The plot can be exported by specifying\n",
    "*figfile='plot_name.extension'*. Supported format extensions for the\n",
    "*figfile* depend on which python modules are installed on your system,\n",
    "but may include: emf, eps, pdf, png, ps, raw, rgba, svg, and svgz.\n",
    "Formats currently available in a downloaded CASA package include all but\n",
    "emf (enhanced metafile).\n",
    "\n",
    "Other parameter options allow the user to include the antenna ID with\n",
    "the name (*antindex=True*), to plot logarithmic positions\n",
    "(*logpos=True*), to exclude an antenna selection (e.g. *exclude=\"5\\~7\"*\n",
    "to exclude antenna IDs 5, 6, and 7), to plot only those antennas which\n",
    "appear in the MAIN table (*checkbaselines=True*), and to set the title\n",
    "to a specified string.\n",
    "\n",
    "By default, the plotants GUI will be shown.&nbsp; When it is not needed,\n",
    "as in scripting mode to produce a *figfile*, set the *showgui* parameter\n",
    "to False.&nbsp; The default setting *showgui=True* will be overridden by\n",
    "the casa flags *--nogui, --pipeline,* and *--agg*, which suppress GUI\n",
    "tools.\n",
    "\n",
    "For more information and sample plots, see the Chapter Pages on\n",
    "[\"Plotting Antenna\n",
    "Positions\"](https://casa.nrao.edu/casadocs-devel/stable/calibration-and-visibility-data/data-examination-and-editing/plotting-antenna-positions).\n",
    "\n",
    "![f05dc15d6cf9628b4e2f819d7e5530c7f27d3bd2.png](f05dc15d6cf9628b4e2f819d7e5530c7f27d3bd2.png)\n",
    "\n",
    "|         |                                                                                                                              |\n",
    "|:--------|------------------------------------------------------------------------------------------------------------------------------|\n",
    "| Type    | Figure 1                                                                                                                     |\n",
    "| ID      | examination-fig-plotants                                                                                                     |\n",
    "| Caption | The **plotants** GUI for a VLA dataset, with *antindex=True*. Tool buttons allow the user to manipulate and export the plot. |"
   ]
  }
 ],
 "metadata": {},
 "nbformat": 4,
 "nbformat_minor": 5
}
