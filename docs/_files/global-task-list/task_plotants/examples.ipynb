{
 "cells": [
  {
   "cell_type": "markdown",
   "metadata": {},
   "source": [
    "# Examples\n",
    "\n",
    "task examples\n",
    "\n",
    "Plot antenna positions and make a plot in a ps-file:\n",
    "\n",
    "\\"
   ]
  },
  {
   "cell_type": "markdown",
   "metadata": {},
   "source": [
    "## In CASA  \n",
    "plotants(vis='ngc5921.ms', figfile='ngc5921ants.ps')\n",
    "\n",
    "Plot logarithmic positions of antennas in main table, labeled with\n",
    "antenna ID:\n",
    "\n",
    "plotants(vis='ngc5921.ms', antindex=True, logpos=True,\n",
    "checkbaselines=True)\n",
    "\n",
    "Plot antenna positions but exclude antennas 1, 2, 3, 5, and 7:\n",
    "\n",
    "plotants(vis='ngc5921.ms', exclude='1\\~3,5,7')"
   ]
  }
 ],
 "metadata": {},
 "nbformat": 4,
 "nbformat_minor": 5
}
