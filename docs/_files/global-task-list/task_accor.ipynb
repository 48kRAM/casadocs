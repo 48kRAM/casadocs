{
 "cells": [
  {
   "cell_type": "markdown",
   "metadata": {},
   "source": [
    "# accor\n",
    "\n",
    "Determine amplitude calibration from auto-correlations\n",
    "\n"
   ]
  },
  {
   "cell_type": "markdown",
   "metadata": {},
   "source": [
    "## Summary\n",
    "\n",
    "**WARNING: accor** is currently an experimental task. Use with care and\n",
    "report issues back to the CASA team via the [NRAO\n",
    "helpdesk](http://help.nrao.edu).&nbsp;\n",
    "\n",
    "**accor** determines the amplitude calibration from\n",
    "auto-correlations.&nbsp;\n",
    "\n",
    "The **accor** task determines the amplitude corrections from the\n",
    "apparent normalization of the mean autocorrelation spectra.\n",
    "Mis-normalization of the autocorrelations (and thus also the\n",
    "cross-correlations) is caused by errors in sampler thresholds during an\n",
    "observation. This correction is typically required for data correlated\n",
    "with the DiFX correlator (such as VLBA data). Other correlators (such as\n",
    "the SFXC correlator, which is used to correlate EVN data at JIVE) may\n",
    "already apply this correction at the correlator. In these cases, running\n",
    "this task is not necessary (but shouldn't hurt).\n",
    "\n",
    "The **accor** task should be run with a solution interval (*solint*)\n",
    "adequate to track variations in effective sampler level optimization\n",
    "(including resets), typically on timescales of seconds to minutes.\n",
    "\n",
    "See [Solving for\n",
    "Calibration](https://casa.nrao.edu/casadocs-devel/stable/calibration-and-visibility-data/synthesis-calibration/solving-for-calibration)&nbsp;for\n",
    "more information on the task parameters **accor** shares with all\n",
    "calibration solving tasks, including data selection, general solving\n",
    "properties, and arranging prior calibration (i.e.,&nbsp;specifying other\n",
    "caltables to pre-apply before solving). In most cases, no prior\n",
    "calibration is required, since the raw mis-normalization of the\n",
    "autocorrelations is essentially the calibration sought from **accor**.\n",
    "\n",
    "&nbsp;"
   ]
  },
  {
   "cell_type": "markdown",
   "metadata": {
    "nbsphinx-toctree": {
     "hidden": true
    }
   },
   "source": [
    "[Description](task_accor/about)\n",
    "[Parameters](task_accor/parameters)\n",
    "[Changelog](task_accor/changelog)\n",
    "[Examples](task_accor/examples)\n",
    "[Developer](task_accor/developer)\n"
   ]
  }
 ],
 "metadata": {},
 "nbformat": 4,
 "nbformat_minor": 5
}
