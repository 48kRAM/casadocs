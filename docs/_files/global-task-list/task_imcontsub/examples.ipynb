{
 "cells": [
  {
   "cell_type": "markdown",
   "metadata": {},
   "source": [
    "# Examples\n",
    "\n",
    "Fit a second order polynomial (fitorder=2) to channels 3-8 and 54-60 to\n",
    "an RA x Dec x Frequency x Stokes cube, selecting the Stokes I plane\n",
    "\n",
    "ch = '3\\~8, 54\\~60'  \n",
    "imcontsub(imagename=\"myimage.im\", linefile=\"mycontsub.im\", fitorder=2,\n",
    "chans=ch, fitorder=2, stokes=\"I\")"
   ]
  }
 ],
 "metadata": {},
 "nbformat": 4,
 "nbformat_minor": 5
}
