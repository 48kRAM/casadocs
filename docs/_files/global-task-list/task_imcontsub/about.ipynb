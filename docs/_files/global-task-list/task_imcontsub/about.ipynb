{
 "cells": [
  {
   "cell_type": "markdown",
   "metadata": {},
   "source": [
    "# Description\n",
    "\n",
    "imcontsub task: Estimates and subtracts continuum emission from an image\n",
    "cube\n",
    "\n",
    "For each direction pixel in an image (or a subset selected by *region*\n",
    "and/or *box*), this task estimates the continuum by fitting a polynomial\n",
    "to one or more subsets of the channels. In most cases, the user should\n",
    "choose the subset(s) of channels to be free of spectral lines. The\n",
    "continuum estimate is saved in *contfile* and subtracted from the image\n",
    "(or its subset) to make a spectral line estimate, which is saved in\n",
    "*linefile*.\n",
    "\n",
    "While imcontsub offers users the option to save the continuum estimate\n",
    "as a (multi-channel) dataset, the optimal way to create a continuum\n",
    "image is by using the multi-frequency synthesis (MFS) option in\n",
    "**tclean**.\n",
    "\n",
    "Note that fitting the continuum and subtracting it from a spectral line\n",
    "data set can also be done in the *(u,v)*-domain using the task\n",
    "**uvcontsub**.\n",
    "\n",
    " \n",
    "\n"
   ]
  },
  {
   "cell_type": "markdown",
   "metadata": {},
   "source": [
    "## Task-specific Parameter Descriptions\n",
    "\n"
   ]
  },
  {
   "cell_type": "markdown",
   "metadata": {},
   "source": [
    "##### *linefile*\n",
    "\n",
    "Name of image to which to save the result of subtracting the computed\n",
    "continuum from the input image.\n",
    "\n"
   ]
  },
  {
   "cell_type": "markdown",
   "metadata": {},
   "source": [
    "##### *contfile*\n",
    "\n",
    "The computed continuum image.\n",
    "\n"
   ]
  },
  {
   "cell_type": "markdown",
   "metadata": {},
   "source": [
    "##### *fitorder*\n",
    "\n",
    "Order of polynomial to fit to the specified spectral channels to\n",
    "determine the continuum.\n",
    "\n"
   ]
  },
  {
   "cell_type": "markdown",
   "metadata": {},
   "source": [
    "##### *chans*\n",
    "\n",
    "Spectral channels to use for fitting a polynomial to determine\n",
    "continuum."
   ]
  }
 ],
 "metadata": {},
 "nbformat": 4,
 "nbformat_minor": 5
}
