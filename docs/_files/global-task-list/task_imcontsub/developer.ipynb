{
 "cells": [
  {
   "cell_type": "markdown",
   "metadata": {},
   "source": [
    "# Developer\n",
    "\n",
    "--CASA Developer--\n",
    "\n",
    "Here would be a discussion of how applycal is implemented. &nbsp;This is\n",
    "intended for the other members of the development team so is a technical\n",
    "discussion. &nbsp;We will work on building these up over time."
   ]
  }
 ],
 "metadata": {},
 "nbformat": 4,
 "nbformat_minor": 5
}
