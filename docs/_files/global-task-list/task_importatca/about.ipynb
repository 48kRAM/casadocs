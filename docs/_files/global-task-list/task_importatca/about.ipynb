{
 "cells": [
  {
   "cell_type": "markdown",
   "metadata": {},
   "source": [
    "# Description\n",
    "\n",
    "Import ATCA RPFITS files into a MeasurementSet\n",
    "\n",
    "The data from the ATCA is available from the archive using the RPFITS\n",
    "file format. These files can be imported into CASA with the\n",
    "**importatca** task. \n",
    "\n",
    "\\#In CASA  \n",
    "\\"
   ]
  },
  {
   "cell_type": "markdown",
   "metadata": {},
   "source": [
    "##  importatca :: Import ATCA RPFITS file(s) to a MeasurementSet  \n",
    "files               =\\['\\*.C1234'\\]        \\"
   ]
  },
  {
   "cell_type": "markdown",
   "metadata": {},
   "source": [
    "##  Name of input ATCA RPFits\n",
    "file(s)  \n",
    "vis                 = 'c1234.ms'        \\"
   ]
  },
  {
   "cell_type": "markdown",
   "metadata": {},
   "source": [
    "##  Name of output visibility\n",
    "file  \n",
    "                                        \\"
   ]
  },
  {
   "cell_type": "markdown",
   "metadata": {},
   "source": [
    "##   (MeasurementSet)  \n",
    "options             =         ''        \\"
   ]
  },
  {
   "cell_type": "markdown",
   "metadata": {},
   "source": [
    "##  Processing options: birdie,\n",
    "reweight,  \n",
    "                                        \\"
   ]
  },
  {
   "cell_type": "markdown",
   "metadata": {},
   "source": [
    "##   noxycorr, fastmosaic,\n",
    "hires, noac  \n",
    "                                        \\"
   ]
  },
  {
   "cell_type": "markdown",
   "metadata": {},
   "source": [
    "##   (comma separated list)  \n",
    "spw                 =       \\[-1\\]        \\"
   ]
  },
  {
   "cell_type": "markdown",
   "metadata": {},
   "source": [
    "##  Specify the spectral\n",
    "windows to use,  \n",
    "                                        \\"
   ]
  },
  {
   "cell_type": "markdown",
   "metadata": {},
   "source": [
    "##   default=all  \n",
    "nscans              =     \\[0, 0\\]        \\"
   ]
  },
  {
   "cell_type": "markdown",
   "metadata": {},
   "source": [
    "##  Number of scans to skip\n",
    "followed by  \n",
    "                                        \\"
   ]
  },
  {
   "cell_type": "markdown",
   "metadata": {},
   "source": [
    "##   number of scans to read  \n",
    "lowfreq             =   '0.1GHz'        \\"
   ]
  },
  {
   "cell_type": "markdown",
   "metadata": {},
   "source": [
    "##  Lowest reference frequency\n",
    "to select  \n",
    "highfreq            =   '999GHz'        \\"
   ]
  },
  {
   "cell_type": "markdown",
   "metadata": {},
   "source": [
    "##  Highest reference frequency\n",
    "to select  \n",
    "fields              =       \\[''\\]        \\"
   ]
  },
  {
   "cell_type": "markdown",
   "metadata": {},
   "source": [
    "##  List of field names to\n",
    "select  \n",
    "edge                =          8        \\"
   ]
  },
  {
   "cell_type": "markdown",
   "metadata": {},
   "source": [
    "##  Percentage of edge channels\n",
    "to flag.  \n",
    "                                        \\"
   ]
  },
  {
   "cell_type": "markdown",
   "metadata": {},
   "source": [
    "##  For combined zooms, this\n",
    "specifies the  \n",
    "                                        \\"
   ]
  },
  {
   "cell_type": "markdown",
   "metadata": {},
   "source": [
    "##   percentage for a single\n",
    "zoom window\n",
    "\n",
    "The *files* parameter can take a string or a list of strings as input\n",
    "and also allows the use of wildcards as shown in the example above.\n",
    "\n",
    " \n",
    "\n",
    "For older ATCA continuum data (before the CABB correlator, April 2009),\n",
    "use *options='birdie,reweight'* to suppress internally generated RFI. \n",
    "\n",
    " \n",
    "\n",
    "The *options* parameter:\n",
    "\n",
    "-   *birdie* - (pre-CABB data only) discard edge channels and channels\n",
    "    affected by internal RFI\n",
    "-   *reweight* - (pre-CABB data only) suppress ringing of RFI spikes by\n",
    "    reweighting of the lag spectrum \n",
    "-   *noxycorr* – do not apply the xy phase correction as derived from\n",
    "    the switched noise calibration, by default this is applied during\n",
    "    loading of the data\n",
    "-   *fastmosaic* – use this option if you are loading mosaic data with\n",
    "    many pointings and only one or two integrations per pointing; this\n",
    "    option changes the tiling of the data to avoid excessive I/O\n",
    "-   *hires* – use this option if you have data in time binning mode (as\n",
    "    used for pulsars) but you want to make it look like data with very\n",
    "    short integration time (no bins)\n",
    "-   *noac*  - discard the auto-correlation data\n",
    "\n",
    "The *spw* parameter takes a list of integers and can be used to select\n",
    "one or more of the simultaneous frequencies. With CABB there can be up\n",
    "to 34 spectra. The order of the frequency bands in the RPFITS file is:\n",
    "the two continuum bands (0 and 1), followed by the zoom bands for the\n",
    "first frequency and then the zoom bands for the second frequency. Note\n",
    "that this *spw* parameter does not take a string with wildcards. Use\n",
    "*spw=-1* to get all the data.\n",
    "\n",
    " \n",
    "\n",
    "The *nscans* parameter can be used to select part of a file, e.g., to\n",
    "retrieve a few test scans for a quick look.\n",
    "\n",
    " \n",
    "\n",
    "The *lowfreq* and *highfreq* parameters select data based on the\n",
    "reference frequency.\n",
    "\n",
    " \n",
    "\n",
    "The *fields* parameter selects data based on the field/source name.\n",
    "\n",
    " \n",
    "\n",
    "The *edge* parameter specifies how many edge channels to discard as a\n",
    "percentage of the number of channels in each band, e.g., the default\n",
    "value of 8 will discard 82 channels from the top and bottom of a 2048\n",
    "channel spectrum.\n",
    "\n",
    "Note: For 16cm CABB data with two identical frequency setups you need to\n",
    "set either spw=\\[0\\] or spw=\\[1\\], otherwise duplicate data will appear\n",
    "in the MeasurementSet which can cause issues with e.g., mstransform\n",
    "operations."
   ]
  }
 ],
 "metadata": {},
 "nbformat": 4,
 "nbformat_minor": 5
}
