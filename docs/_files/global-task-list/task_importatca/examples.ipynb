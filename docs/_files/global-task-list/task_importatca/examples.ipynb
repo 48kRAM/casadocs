{
 "cells": [
  {
   "cell_type": "markdown",
   "metadata": {},
   "source": [
    "# Examples\n",
    "\n",
    "importatca task examples\n",
    "\n"
   ]
  },
  {
   "cell_type": "markdown",
   "metadata": {},
   "source": [
    "## Reading a pre-CABB ATCA archive file (RPFITS format)\n",
    "\n",
    "importatca(\\['2001-01-02_1\\*.C999','2001-01-03_0\\*.C999'\\],'c999.ms',options='birdie,reweight',edge=10)\n",
    "\n",
    "Imports a number of ATCA RPFITS-format data sets into&nbsp;a CASA\n",
    "measurement set. We are applying birdie flagging and lag spectrum\n",
    "re-weighting (as appropriate for old 33 channel continuum data), as well\n",
    "as flagging the 10% edge channels.\n",
    "\n",
    "&nbsp;\n",
    "\n"
   ]
  },
  {
   "cell_type": "markdown",
   "metadata": {},
   "source": [
    "## Reading an ATCA/CABB archive file (RPFITS format)\n",
    "\n",
    "importatca(\\['2012-10-25_0707.C2728'\\],'c2728.ms',options='noac',spw=2,edge=5)\n",
    "\n",
    "Imports a CABB RPFITS file, throwing away the auto-correlations and the\n",
    "5% edge channels and selecting only the second simultaneous frequency\n",
    "band.\n",
    "\n",
    "&nbsp;"
   ]
  }
 ],
 "metadata": {},
 "nbformat": 4,
 "nbformat_minor": 5
}
