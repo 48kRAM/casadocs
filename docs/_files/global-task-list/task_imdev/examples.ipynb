{
 "cells": [
  {
   "cell_type": "markdown",
   "metadata": {},
   "source": [
    "# Examples\n",
    "\n",
    "task examples\n",
    "\n",
    "Compute standard deviations in circles of diameter 10arcsec around grid\n",
    "pixels spaced every 4 x 5 pixels and anchored at pixel \\[30, 40\\], and\n",
    "use linear interpolation to compute values at non-grid-pixels:\n",
    "\n",
    "imdev(\"my.im\", \"sigma.im\", grid=\\[4, 5\\], anchor=\\[30, 40\\],\n",
    "xlength=\"10arcsec\", stattype=\"sigma\", interp=\"lin\", statalg=\"cl\")\n",
    "\n",
    "Compute median of the absolute deviations from the median values using\n",
    "the z-score/Chauvenet algorithm, by fixing the maximum z-score to\n",
    "determine outliers to 5. Use cubic interpolation to compute values for\n",
    "non-grid-point pixels. Use a rectangular region of dimensions 5arcsec x\n",
    "20arcsec centered on each grid point as the region in which to include\n",
    "pixels for the computation of stats for that grid point.\n",
    "\n",
    "imdev(\"my.im\", \"madm.im\", grid=\\[4, 5\\], anchor=\\[30, 40\\],\n",
    "xlength=\"5arcsec\", ylength=\"20arcsec, stattype=\"madm\", interp=\"cub\",\n",
    "statalg=\"ch\", zscore=5)\n",
    "\n",
    "&nbsp;"
   ]
  }
 ],
 "metadata": {},
 "nbformat": 4,
 "nbformat_minor": 5
}
