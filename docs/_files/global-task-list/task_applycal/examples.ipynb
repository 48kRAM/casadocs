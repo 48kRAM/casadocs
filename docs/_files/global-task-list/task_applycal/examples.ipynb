{
 "cells": [
  {
   "cell_type": "markdown",
   "metadata": {},
   "source": [
    "# Examples\n",
    "\n",
    "task applycal examples\n",
    "\n",
    "Often, it is desirable to calibrate calibrators and science targets in\n",
    "separate runs of **applycal**, perhaps with different interpolation\n",
    "parameters. First we calibrate the calibrators (fields 0 and 1) using\n",
    "gainfield='nearest' for the gain caltable to ensure that each calibrator\n",
    "will be calibrated by solutions obtained from itself. (The bandpass\n",
    "calibration is typically solved from one field but applied to all\n",
    "fields.):\n",
    "\n",
    "applycal(vis='n5921.ms',  \n",
    "         field='0,1',                             \\"
   ]
  },
  {
   "cell_type": "markdown",
   "metadata": {},
   "source": [
    "## calibrators  \n",
    "         spw='',                                  \\"
   ]
  },
  {
   "cell_type": "markdown",
   "metadata": {},
   "source": [
    "## all channels  \n",
    "         gaintable=\\['n5921.gcal','n5921.bcal'\\]    \\"
   ]
  },
  {
   "cell_type": "markdown",
   "metadata": {},
   "source": [
    "## gain and bandpass\n",
    "tables  \n",
    "         gainfield=\\['nearest',''\\],                \\"
   ]
  },
  {
   "cell_type": "markdown",
   "metadata": {},
   "source": [
    "## nearest on sky\n",
    "for gcal  \n",
    "         interp=\\['nearest','nearest,linear'\\],     \\"
   ]
  },
  {
   "cell_type": "markdown",
   "metadata": {},
   "source": [
    "## nearest in time\n",
    "for gcal  \n",
    "         calwt=True)                              \\"
   ]
  },
  {
   "cell_type": "markdown",
   "metadata": {},
   "source": [
    "## calibrate the\n",
    "weights\n",
    "\n",
    "Next, calibrate the science target with explicit gainfield selection for\n",
    "the gain caltable, and linear interpolation in time:\n",
    "\n",
    "applycal(vis='n5921.ms',  \n",
    "         field='2',                               \\"
   ]
  },
  {
   "cell_type": "markdown",
   "metadata": {},
   "source": [
    "## science field  \n",
    "         spw='',                                  \\"
   ]
  },
  {
   "cell_type": "markdown",
   "metadata": {},
   "source": [
    "## all channels  \n",
    "         gaintable=\\['n5921.gcal','n5921.bcal'\\]    \\"
   ]
  },
  {
   "cell_type": "markdown",
   "metadata": {},
   "source": [
    "## gain and bandpass\n",
    "tables  \n",
    "         gainfield=\\['1',''\\],                      \\"
   ]
  },
  {
   "cell_type": "markdown",
   "metadata": {},
   "source": [
    "## field 1\n",
    "calibrates field 2 for gcal table  \n",
    "         interp=\\['linear','nearest,linear'\\],      \\"
   ]
  },
  {
   "cell_type": "markdown",
   "metadata": {},
   "source": [
    "## linear in time\n",
    "for gcal  \n",
    "         calwt=True)                              \\"
   ]
  },
  {
   "cell_type": "markdown",
   "metadata": {},
   "source": [
    "## calibrate the\n",
    "weights"
   ]
  }
 ],
 "metadata": {},
 "nbformat": 4,
 "nbformat_minor": 5
}
