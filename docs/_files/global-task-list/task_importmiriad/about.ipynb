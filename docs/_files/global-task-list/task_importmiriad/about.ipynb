{
 "cells": [
  {
   "cell_type": "markdown",
   "metadata": {},
   "source": [
    "# Description\n",
    "\n",
    "Convert a Miriad visibility dataset into a CASA MeasurementSet\n",
    "\n",
    "The task **importmiriad** allows one to import visibilities in the\n",
    "MIRIAD data format to be converted to a MeasurementSet. The task has\n",
    "mainly been tested on data from the ATCA and CARMA telescopes and the\n",
    "inputs are:\n",
    "\n",
    "\\#In\n",
    "CASA  \n",
    "\\"
   ]
  },
  {
   "cell_type": "markdown",
   "metadata": {},
   "source": [
    "## \n",
    "importmiriad :: Convert a Miriad visibility file into a CASA\n",
    "MeasurementSet  \n",
    "mirfile  \n",
    "          =         ''        \\"
   ]
  },
  {
   "cell_type": "markdown",
   "metadata": {},
   "source": [
    "##  Name of input Miriad visibility\n",
    "file  \n",
    "vis      \n",
    "          =         ''        \\"
   ]
  },
  {
   "cell_type": "markdown",
   "metadata": {},
   "source": [
    "##  Name of output MeasurementSet  \n",
    "tsys     \n",
    "          =      False        \\"
   ]
  },
  {
   "cell_type": "markdown",
   "metadata": {},
   "source": [
    "##  Use the Tsys to set the\n",
    "visibility  \n",
    "         \n",
    "                              \\"
   ]
  },
  {
   "cell_type": "markdown",
   "metadata": {},
   "source": [
    "##   weights  \n",
    "spw      \n",
    "          =       \\[-1\\]        \\"
   ]
  },
  {
   "cell_type": "markdown",
   "metadata": {},
   "source": [
    "##  Select spectral windows, default\n",
    "is  \n",
    "         \n",
    "                              \\"
   ]
  },
  {
   "cell_type": "markdown",
   "metadata": {},
   "source": [
    "##   all  \n",
    "vel      \n",
    "          =         ''        \\"
   ]
  },
  {
   "cell_type": "markdown",
   "metadata": {},
   "source": [
    "##  Select velocity reference  \n",
    "         \n",
    "                              \\"
   ]
  },
  {
   "cell_type": "markdown",
   "metadata": {},
   "source": [
    "##   (TOPO,LSRK,LSRD)  \n",
    "linecal  \n",
    "          =      False        \\"
   ]
  },
  {
   "cell_type": "markdown",
   "metadata": {},
   "source": [
    "##  (CARMA) Apply line\n",
    "calibration  \n",
    "wide     \n",
    "          =         \\[\\]        \\"
   ]
  },
  {
   "cell_type": "markdown",
   "metadata": {},
   "source": [
    "##  (CARMA) Select wide window\n",
    "averages  \n",
    "debug    \n",
    "          =          0        \\"
   ]
  },
  {
   "cell_type": "markdown",
   "metadata": {},
   "source": [
    "##  Display increasingly verbose\n",
    "debug  \n",
    "         \n",
    "                              \\"
   ]
  },
  {
   "cell_type": "markdown",
   "metadata": {},
   "source": [
    "##   messages\n",
    "\n",
    "-   The *mirfile* parameter specifies a single MIRIAD visibility dataset\n",
    "    which **must have any calibration done in MIRIAD already applied to\n",
    "    it**. MIRIAD calibration tables are usually applied on the fly\n",
    "    within MIRIAD; such steps (e.g., uvaver) need to be taken within\n",
    "    MIRIAD such that your MIRIAD visibilities have the calibration\n",
    "    permanently applied.\n",
    "-   Set the *tsys* parameter to True to change the visibility weights\n",
    "    from the MIRIAD default (usually the integration time) to the\n",
    "    inverse of the noise variance using the recorded system temperature.\n",
    "-   The *spw* parameter can be used to select all or some of the\n",
    "    simultaneous spectral windows from the input file. Use the default\n",
    "    of ’all’ for all the data or use e.g., spw=’0,2’ to select the first\n",
    "    and third window.\n",
    "-   The *vel* parameter can be used to set the output velocity frame\n",
    "    reference. For ATCA this defaults to ’TOPO’ and for CARMA it\n",
    "    defaults to ’LSRK’. Only change this if your data comes out with the\n",
    "    incorrect velocity.\n",
    "-   The *linecal* parameter is only useful for CARMA data and can apply\n",
    "    the line calibration if it is stored with the MIRIAD data.\n",
    "-   The *wide* parameter is only useful for CARMA data and can select\n",
    "    which of the wide-band channels should be loaded."
   ]
  }
 ],
 "metadata": {},
 "nbformat": 4,
 "nbformat_minor": 5
}
