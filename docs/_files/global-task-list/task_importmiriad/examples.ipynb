{
 "cells": [
  {
   "cell_type": "markdown",
   "metadata": {},
   "source": [
    "# Examples\n",
    "\n"
   ]
  },
  {
   "cell_type": "markdown",
   "metadata": {},
   "source": [
    "## Reading a&nbsp;MIRIAD file and converting it into a MeasurementSet &nbsp;&nbsp;\n",
    "\n",
    "\\#In\n",
    "CASA\n",
    "\n",
    "importmiriad(mirfile='ngc5921.uv',\n",
    "vis='ngc5921.ms',tsys=True)\n",
    "\n",
    "We read the&nbsp;MIRIAD&nbsp;dataset ngc5921.uv and converted it to a\n",
    "MeasurementSet, using the recorded Tsys values to set the weights."
   ]
  }
 ],
 "metadata": {},
 "nbformat": 4,
 "nbformat_minor": 5
}
