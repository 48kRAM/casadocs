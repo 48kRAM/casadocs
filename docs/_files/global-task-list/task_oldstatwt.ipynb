{
 "cells": [
  {
   "cell_type": "markdown",
   "metadata": {},
   "source": [
    "# oldstatwt\n",
    "\n",
    "task description\n",
    "\n",
    "**WARNING***:* The task **oldstatwt** is identical to the task statwt in\n",
    "previous CASA versions, given that the current statwt underwent\n",
    "significant development for CASA 5.4.\n",
    "\n",
    "The WEIGHT and SIGMA columns of measurement sets are often set to\n",
    "arbitrary values (e.g., 1), or theoretically estimated from poorly known\n",
    "antenna and receiver properties. Many tasks (e.g., **clean**) are\n",
    "insensitive to an overall scale error in WEIGHT, but are affected by\n",
    "errors in the relative weights between visibilities. Other tasks, such\n",
    "as **uvmodelfit**, or any task which depends on theoretical estimates of\n",
    "the noise, require (reasonably) correct weights and sigmas.\n",
    "**oldstatwt** empirically measures the visibility scatter (typically as\n",
    "a function of time, antenna, and/or baseline) and uses that to set\n",
    "WEIGHT and SIGMA. It is important that all necessary calibrations are\n",
    "applied to the data prior to running this task for correct determination\n",
    "of weights and sigmas.\n",
    "\n",
    "**NOTE**: Some of the parameters (*byantenna*, *sepacs*, *fitcorr*, and\n",
    "*timebin*) are not yet fully implemented.\n",
    "\n",
    "&nbsp;\n",
    "\n"
   ]
  },
  {
   "cell_type": "markdown",
   "metadata": {},
   "source": [
    "## Parameter descriptions\n",
    "\n"
   ]
  },
  {
   "cell_type": "markdown",
   "metadata": {},
   "source": [
    "##### *vis*\n",
    "\n",
    "Name of input visibility file. Default: none. Examples:\n",
    "*vis='ngc5921.ms'*\n",
    "\n"
   ]
  },
  {
   "cell_type": "markdown",
   "metadata": {},
   "source": [
    "##### *dorms*\n",
    "\n",
    "Estimate the scatter using RMS instead of the standard deviation.\n",
    "\n",
    "Ideally the visibilities used to estimate the scatter, as selected by\n",
    "*fitspw* and *fitcorr*, should be pure noise. If you know for certain\n",
    "that they are, then setting dorms to True will give the best result.\n",
    "Otherwise, use False (standard sample standard deviation). More robust\n",
    "scatter estimates like the interquartile range or median absolute\n",
    "deviation from the median are not offered because they require sorting\n",
    "by value, which is not possible for complex numbers. Default: False.\n",
    "\n"
   ]
  },
  {
   "cell_type": "markdown",
   "metadata": {},
   "source": [
    "##### *byantenna*\n",
    "\n",
    "Assume that the noise is factorable by antenna (feed). If False, treat\n",
    "it separately for each baseline (recommended if there is strong signal).\n",
    "Default: False (\\*\\*\\* *byantenna=True* is not yet implemented)\n",
    "\n"
   ]
  },
  {
   "cell_type": "markdown",
   "metadata": {},
   "source": [
    "#### *byantenna=True* expandable parameters\n",
    "\n"
   ]
  },
  {
   "cell_type": "markdown",
   "metadata": {},
   "source": [
    "##### *sepacs*\n",
    "\n",
    "If solving by antenna, treat autocorrelations separately. (Acknowledge\n",
    "that what autocorrelations \"see\" is very different from what\n",
    "crosscorrelations see.) Default: True (\\*\\*\\* not yet implemented).\n",
    "\n",
    "&nbsp;\n",
    "\n"
   ]
  },
  {
   "cell_type": "markdown",
   "metadata": {},
   "source": [
    "##### *fitspw*\n",
    "\n",
    "The (ideally) signal-free spectral window:channels to estimate the\n",
    "scatter from. Default: '' (All).\n",
    "\n"
   ]
  },
  {
   "cell_type": "markdown",
   "metadata": {},
   "source": [
    "##### *fitcorr*\n",
    "\n",
    "The (ideally) signal-free correlations to estimate the scatter from.\n",
    "Default: '' (All) (\\*\\*\\* not yet implemented)\n",
    "\n"
   ]
  },
  {
   "cell_type": "markdown",
   "metadata": {},
   "source": [
    "##### *combine*\n",
    "\n",
    "Let samples span multiple spws, corrs, scans, and/or states. Examples:\n",
    "\n",
    "-   *combine = 'spw'*: Recommended when a line spans an entire spw - set\n",
    "    *fitspw* to the neighboring spws and apply their weight to the line\n",
    "    spw(s). However, the effect of the line signal per visibility may be\n",
    "    relatively harmless compared to the noise difference between spws.\n",
    "-   *combine = 'scan'*: Can be useful when the scan number goes up with\n",
    "    each integration, as in many WSRT MSes.\n",
    "-   *combine = \\['scan', 'spw'\\]*: disregard scan and spw numbers when\n",
    "    gathering samples.\n",
    "-   *combine = 'spw,scan'*: Same as above.\n",
    "\n",
    "Default: '' (None).\n",
    "\n"
   ]
  },
  {
   "cell_type": "markdown",
   "metadata": {},
   "source": [
    "##### *timebin*\n",
    "\n",
    "Sample interval. Default: '0s' or '-1s' (1 integration at a time).\n",
    "Examples: *timebin='30s'*, '10' means '10s' (\\*\\*\\* not yet implemented)\n",
    "\n"
   ]
  },
  {
   "cell_type": "markdown",
   "metadata": {},
   "source": [
    "##### *minsamp*\n",
    "\n",
    "Minimum number of unflagged visibilities for estimating the scatter.\n",
    "Selected visibilities for which the weight cannot be estimated will be\n",
    "flagged. Note that *minsamp* is effectively at least 2 if *dorms* is\n",
    "False, and 1 if it is True.\n",
    "\n"
   ]
  },
  {
   "cell_type": "markdown",
   "metadata": {},
   "source": [
    "##### *field*\n",
    "\n",
    "Select fields in mosaic. Use field id(s) or field name(s). \\[go listobs to\n",
    "obtain the list id's or names\\] Default: '' = all fields. If field\n",
    "string is a non-negative integer, it is assumed to be a field index\n",
    "otherwise, it is assumed to be a field name. Examples: *field='0\\~2'*,\n",
    "field ids 0,1,2; *field='0,4,5\\~7'*, field ids 0,4,5,6,7;\n",
    "*field='3C286,3C295'*, field named 3C286 and 3C295; *field = '3,4C\\*'*,\n",
    "field id 3 and all names starting with 4C.\n",
    "\n"
   ]
  },
  {
   "cell_type": "markdown",
   "metadata": {},
   "source": [
    "##### *spw*\n",
    "\n",
    "Select spectral window/channels. Default: '' =\\> all spectral windows\n",
    "and channels. Examples: *spw='0\\~2,4'*, spectral windows 0,1,2,4 (all\n",
    "channels); *spw='0:5\\~61'*, spw 0, channels 5 to 61; *spw='\\<2'*,\n",
    "spectral windows less than 2 (i.e. 0,1); *spw='0,10,3:3\\~45'*, spw 0,10\n",
    "all channels, spw 3, channels 3 to 45; *spw='0\\~2:2\\~6'*; spw 0,1,2 with\n",
    "channels 2 through 6 in each; *spw='0:0\\~10;15\\~60'*; spectral window 0\n",
    "with channels 0-10,15-60; *spw='0:0\\~10,1:20\\~30,2:1;2;3'*; spw 0,\n",
    "channels 0-10, spw 1, channels 20-30, and spw 2, channels, 1,2 and 3.\n",
    "\n"
   ]
  },
  {
   "cell_type": "markdown",
   "metadata": {},
   "source": [
    "##### *antenna*\n",
    "\n",
    "Select data based on antenna/baseline. Default: '' (all). If antenna\n",
    "string is a non-negative integer, it is assumed to be an antenna index,\n",
    "otherwise, it is considered an antenna name. Examples: *antenna='5&6'*;\n",
    "baseline between antenna index 5 and index 6; *antenna='VA05&VA06'*,\n",
    "baseline between VLA antenna 5 and 6; *antenna='5&6;7&8'*, baselines 5-6\n",
    "and 7-8; *antenna='5'*, all baselines with antenna index 5;\n",
    "*antenna='05'*, all baselines with antenna number 05 (VLA old name);\n",
    "*antenna='5,6,9'*, all baselines with antennas 5,6,9 index numbers.\n",
    "\n"
   ]
  },
  {
   "cell_type": "markdown",
   "metadata": {},
   "source": [
    "##### *timerange*\n",
    "\n",
    "Select data based on time range. Default: '' (all). Examples: *timerange\n",
    "= 'YYYY/MM/DD/hh:mm:ss\\~YYYY/MM/DD/hh:mm:ss'*;\n",
    "\n",
    "**NOTE**: if YYYY/MM/DD is missing date defaults to first day in data\n",
    "set.\n",
    "\n",
    "*timerange='09:14:0\\~09:54:0'* picks 40 min on first day;\n",
    "*timerange='25:00:00\\~27:30:00'* picks 1 hr to 3 hr 30min on NEXT day;\n",
    "*timerange='09:44:00'* pick data within one integration of time;\n",
    "*timerange='\\>10:24:00'* data after this time.\n",
    "\n"
   ]
  },
  {
   "cell_type": "markdown",
   "metadata": {},
   "source": [
    "##### *scan*\n",
    "\n",
    "Scan number range. Default: '' (all). Examples: *scan='1\\~5'*. Check\n",
    "'go\n",
    "listobs' to\n",
    "insure the scan numbers are in order.\n",
    "\n"
   ]
  },
  {
   "cell_type": "markdown",
   "metadata": {},
   "source": [
    "##### *intent*\n",
    "\n",
    "Select by scan intent (state). Case sensitive. Default: '' = all.\n",
    "Examples: *intent = 'CALIBRATE_ATMOSPHERE_REFERENCE'*; *intent =\n",
    "'calibrate_atmosphere_reference'*.upper() same as above. Select states\n",
    "that include one or both of CALIBRATE_WVR.REFERENCE or\n",
    "OBSERVE_TARGET_ON_SOURCE; *intent = 'CALIBRATE_WVR.REFERENCE,\n",
    "OBSERVE_TARGET_ON_SOURCE'*\n",
    "\n"
   ]
  },
  {
   "cell_type": "markdown",
   "metadata": {},
   "source": [
    "##### *array*\n",
    "\n",
    "(Sub)array number range. Default: ''=all.\n",
    "\n"
   ]
  },
  {
   "cell_type": "markdown",
   "metadata": {},
   "source": [
    "##### *correlation*\n",
    "\n",
    "Select correlations, e.g. 'RR, LL' or \\['XY', 'YX'\\]. Default '' (all).\n",
    "\n",
    "**NOTE**: In CASA v4.5, non-trivial correlation selection has been\n",
    "disabled since it was not working correctly, and it is likely\n",
    "undesirable to set the weights in a correlation-dependent way.\n",
    "\n",
    "&nbsp;\n",
    "\n"
   ]
  },
  {
   "cell_type": "markdown",
   "metadata": {},
   "source": [
    "##### *observation*\n",
    "\n",
    "Select by observation ID(s). Default: '' = all.\n",
    "\n"
   ]
  },
  {
   "cell_type": "markdown",
   "metadata": {},
   "source": [
    "##### *datacolumn*\n",
    "\n",
    "Which data column to calculate the scatter from. Default:\n",
    "*datacolumn='corrected'*. Examples: *datacolumn='data'*. Options:\n",
    "'data', 'corrected', 'model', 'float_data'\n",
    "\n",
    "**NOTE**: 'corrected' will fall back to DATA if CORRECTED_DATA is\n",
    "absent.\n",
    "\n",
    "&nbsp;"
   ]
  },
  {
   "cell_type": "markdown",
   "metadata": {
    "nbsphinx-toctree": {
     "hidden": true
    }
   },
   "source": [
    "[Description](task_oldstatwt/about)\n",
    "[Parameters](task_oldstatwt/parameters)\n",
    "[Changelog](task_oldstatwt/changelog)\n",
    "[Examples](task_oldstatwt/examples)\n",
    "[Developer](task_oldstatwt/developer)\n"
   ]
  }
 ],
 "metadata": {},
 "nbformat": 4,
 "nbformat_minor": 5
}
