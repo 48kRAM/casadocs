{
 "cells": [
  {
   "cell_type": "markdown",
   "metadata": {},
   "source": [
    "# makemask\n",
    "\n",
    "task description\n",
    "\n",
    "**makemask**&nbsp;manages Boolean masks in an image,\n",
    "converts and regrids Boolean to value-based masks (and vice versa),\n",
    "stretches single-plane masks to cubes, and generates masks from CASA\n",
    "region files.&nbsp;Detailed background\n",
    "information on masks, and examples on how to create them, can be found\n",
    "in the CASA Docs Chapter pages on [image\n",
    "masks](https://casa.nrao.edu/casadocs-devel/stable/imaging/image-analysis/image-masks)\n",
    "(image analysis) and [masks for\n",
    "deconvolution](https://casa.nrao.edu/casadocs-devel/stable/imaging/synthesis-imaging/masks-for-deconvolution)\n",
    "(synthesis imaging).  \n",
    "\n",
    "\n",
    "&nbsp;\n",
    "\n"
   ]
  },
  {
   "cell_type": "markdown",
   "metadata": {},
   "source": [
    "## Parameter descriptions\n",
    "\n"
   ]
  },
  {
   "cell_type": "markdown",
   "metadata": {},
   "source": [
    "##### *mode*\n",
    "\n",
    "Mask method to use by **makemask** task. Below are the\n",
    "allowed values:&nbsp;  \n",
    "\n",
    "\n",
    "-   list: list internal Boolean masks in *inpimage* to\n",
    "    the log (default value)  \n",
    "    \n",
    "-   copy: copy/merge masks and regrid if necessary to a\n",
    "    new or existing mask\n",
    "-   expand: expand a mask from one range of frequencies\n",
    "    to another range\n",
    "-   delete: delete an internal mask from an image; if\n",
    "    the deleted mask was a default mask, the task chooses the first one\n",
    "    in the remaining internal mask list as default (as appears in the\n",
    "    log when do listing with *mode='list'*) \n",
    "-   setdefaultmask: set a specified internal mask as a\n",
    "    default internal mask\n",
    "\n",
    "In all cases (for output mask is expected), if the\n",
    "output image has a different coordinate system from the result of input\n",
    "and processing, the mask will be re-gridded to the output coordinate\n",
    "system.  \n",
    "\n",
    "\n"
   ]
  },
  {
   "cell_type": "markdown",
   "metadata": {},
   "source": [
    "##### inpimage\n",
    "\n",
    "Name of input image to use as a reference for the\n",
    "output coordinates (if *output* does not exist). Also used as a\n",
    "reference image when regions are specified in *inpmask* for\n",
    "*mode='copy'*. If *output* is a new image specified with an internal\n",
    "True/False mask, the pixel values in the input image are copied to the\n",
    "output image and the regions specified in *inpmask* are merged (if\n",
    "multiple regions specified) and treated as a valid region, therefore\n",
    "will be UNMASKED in output.\n",
    "\n",
    "&nbsp;\n",
    "\n"
   ]
  },
  {
   "cell_type": "markdown",
   "metadata": {},
   "source": [
    "#### Expandable parameters for *mode='copy'*, *'expand'*, *'delete'* and *'setdefaultmask'*:\n",
    "\n"
   ]
  },
  {
   "cell_type": "markdown",
   "metadata": {},
   "source": [
    "##### inpmask \n",
    "\n",
    "Name(s) of input mask(s). The default is set to *inpmask=''*, for\n",
    "when no mask is given. To specify an image (zero/non-zero) mask,\n",
    "just give a image name (e.g. myimage1.im). To specify an internal\n",
    "(True/False) mask, you must give a parent image name and the internal\n",
    "mask name separated by a colon. (e.g. myimage1.im:mask0). The internal\n",
    "mask names can be found by running the **makemask** task in\n",
    "*mode='list'*. For *mode='expand'*, use the *inpimage* values to make a\n",
    "mask (zero/non-zero). Non-zero values are normalized to one in the\n",
    "process. For *mode='copy'*, a list of strings can be used to merge\n",
    "specific image mask(s), True/False mask(s), and region(s). The regions\n",
    "can be specified directly in the CASA region format or in the text\n",
    "file(s) contains the regions. \n",
    "\n"
   ]
  },
  {
   "cell_type": "markdown",
   "metadata": {},
   "source": [
    "##### output\n",
    "\n",
    " Name of output image (no default value).\n",
    "If the output is a plain image name, the\n",
    "resultant mask is written as an image (zero/one) mask. If the output name is the form of 'imagename:maskname',\n",
    "the resultant mask is written as an internal\n",
    "(True/False) mask. To re-grid a mask to a different coordinate\n",
    "system,&nbsp;give an image with the target coordinate system in\n",
    "*inpimage,* or make a copy of an image with the target coordinate system\n",
    "and specified the name of the copy in *output*. If *output* is specified\n",
    "as a plain image (if it exists), it will regrid the mask to the new\n",
    "coordinate system and modify *output* (if *overwrite=True*). If *output*\n",
    "is specified as an image with an internal mask (if the internal mask\n",
    "exists), it will regrid the mask to the new coordinate system and modify\n",
    "the internal mask only (if *overwrite=True*). If *output* does not\n",
    "exist, it will only copy *inpimage*. If *output* == *inpimage*,\n",
    "**makemask** will not regrid but only modify in-place.\n",
    "\n",
    "**NOTE**: The term 'mask' is used in the image analysis\n",
    "and clean tasks in opposite sense. In the image analysis, the masked\n",
    "region is a region to be excluded, while **clean**'s input mask defines\n",
    "the region to be used as a clean box/region. In the **makemask** task,\n",
    "since the most common use case of output image mask is to use as an\n",
    "input mask in clean, when it converts an internal mask to the image\n",
    "mask, the 'masked' region (where the pixels are masked and have the\n",
    "Boolean value False) of the internal mask is translated to the pixels\n",
    "with value of 0 in output image mask.  \n",
    "\n",
    "\n"
   ]
  },
  {
   "cell_type": "markdown",
   "metadata": {},
   "source": [
    "##### overwrite\n",
    "\n",
    " Overwrite the mask specified in *output* (see also the\n",
    "*output* rules above). The default value is False.\n",
    "\n",
    "**NOTE**: For a cube mask, *overwrite=True* generally\n",
    "overwrites in the specified channel planes only and so any pre-existed\n",
    "masks in other channels will be remain untouched.\n",
    "\n",
    "&nbsp;  \n",
    "\n",
    "\n"
   ]
  },
  {
   "cell_type": "markdown",
   "metadata": {},
   "source": [
    "#### Additional expandable parameters for *mode='expand'*\n",
    "\n"
   ]
  },
  {
   "cell_type": "markdown",
   "metadata": {},
   "source": [
    "##### inpfreqs\n",
    "\n",
    "Input channel/frequency/velocity range. Specify\n",
    "channels in a list of integers. For frequency/velocity, a range is\n",
    "specified in a string with '\\~', e.g. '1.5MHz\\~1.6MHz',\n",
    "'-8km/s\\~-14km/s' (for a cube with ascending frequencies/velocities).\n",
    "The default is all channels.\n",
    "\n",
    "**NOTE**: The range in frequency or velocity needs to\n",
    "be specified as the same order as in the template cube specified in\n",
    "*inpimage*. E.g., if a template cube has descending frequencies, then\n",
    "the range will be, e.g. '1.6MHz\\~1.5MHz' or '-14km/s\\~-8km/s'.\n",
    "\n"
   ]
  },
  {
   "cell_type": "markdown",
   "metadata": {},
   "source": [
    "##### outfreqs\n",
    "\n",
    "Output channel/frequency/velocity range. Specify same\n",
    "way as *inpfreqs*. The default is all channels.  \n"
   ]
  },
  {
   "cell_type": "markdown",
   "metadata": {
    "nbsphinx-toctree": {
     "hidden": true
    }
   },
   "source": [
    "[Description](task_makemask/about)\n",
    "[Parameters](task_makemask/parameters)\n",
    "[Changelog](task_makemask/changelog)\n",
    "[Examples](task_makemask/examples)\n",
    "[Developer](task_makemask/developer)\n"
   ]
  }
 ],
 "metadata": {},
 "nbformat": 4,
 "nbformat_minor": 5
}
