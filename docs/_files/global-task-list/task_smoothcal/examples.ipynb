{
 "cells": [
  {
   "cell_type": "markdown",
   "metadata": {},
   "source": [
    "# Examples\n",
    "\n",
    "task examples\n",
    "\n",
    "To smooth the caltable 'n4826_16apr.gcal' on a 3-hour timescale with a\n",
    "boxcar mean (and plot the result with **plotcal**):\n",
    "\n",
    "smoothcal(vis='n4826_16apr.ms',  \n",
    "          tablein='n4826_16apr.gcal',  \n",
    "          caltable='n4826_16apr.smoothcal',  \n",
    "          smoothtime=7200.,  \n",
    "          smoothtype='mean')\n",
    "\n",
    "plotcal(caltable='n4826_16apr.gcal',xaxis='time',yaxis='amp',antenna='1',subplot=211)  \n",
    "plotcal(caltable='n4826_16apr.smoothcal',xaxis='time',yaxis='amp',antenna='1',subplot=212)\n",
    "\n",
    "This yields the following figure:\n",
    "\n",
    "![18a289edf865eab608514029e04e275b0824a968.png](18a289edf865eab608514029e04e275b0824a968.png)\n",
    "\n",
    "**NOTE**: The first solution at the left end of the plot is for a\n",
    "different field, and so it is not smoothed together with the rest of the\n",
    "solutions."
   ]
  }
 ],
 "metadata": {},
 "nbformat": 4,
 "nbformat_minor": 5
}
