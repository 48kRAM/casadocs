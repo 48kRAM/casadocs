{
 "cells": [
  {
   "cell_type": "markdown",
   "metadata": {},
   "source": [
    "# Description\n",
    "\n",
    "task description\n",
    "\n"
   ]
  },
  {
   "cell_type": "markdown",
   "metadata": {},
   "source": [
    "## Summary\n",
    "\n",
    "The **smoothcal** task will smooth calibration solutions (most usefully\n",
    "'G' or 'T') over a specified time interval to reduce noise and outliers.\n",
    "Flagged solutions will be unflagged and replaced with smoothed solutions\n",
    "if unflagged solutions are available within the smoothing window.\n",
    "Smoothing will be applied per field and per spw; these cannot be\n",
    "combined.\n",
    "\n",
    " \n",
    "\n"
   ]
  },
  {
   "cell_type": "markdown",
   "metadata": {},
   "source": [
    "## Parameter Descriptions\n",
    "\n"
   ]
  },
  {
   "cell_type": "markdown",
   "metadata": {},
   "source": [
    "##### Input/output: *vis, tablein, caltable*\n",
    "\n",
    "Specify the relevant MS in *vis* (for meta-info purposes; will someday\n",
    "deprecate), and the input calibration table in *tablein*. Specify the\n",
    "output (smoothed) calibration table name in *caltable*. If *caltable* is\n",
    "left unspecified, the input calibration table (*tablein*) will be\n",
    "overwritten with the smoothed result.\n",
    "\n"
   ]
  },
  {
   "cell_type": "markdown",
   "metadata": {},
   "source": [
    "##### Selection: *field*\n",
    "\n",
    "Specify the subset of fields to be smoothed in *field*. All fields wil\n",
    "be copied to the new calibration table, but only the specified fields\n",
    "will be smoothed.\n",
    "\n"
   ]
  },
  {
   "cell_type": "markdown",
   "metadata": {},
   "source": [
    "##### Smoothing parameters: *smoothtype, smoothtime*\n",
    "\n",
    "Specify the smoothing type, 'mean' or 'median' in *smoothtype*. The\n",
    "timescale (the boxcar width) over which the smooth operation is applied\n",
    "should be specified in *smoothtime*, in seconds. Amplitude and phase\n",
    "will each be (separately) smoothed with the specified *smoothtype* and\n",
    "*smoothtime*. Currently, it is not possible to smooth amplitude and\n",
    "phase with different values of *smoothtype* or *smoothtime.*"
   ]
  }
 ],
 "metadata": {},
 "nbformat": 4,
 "nbformat_minor": 5
}
