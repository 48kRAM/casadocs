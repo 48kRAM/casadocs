{
 "cells": [
  {
   "cell_type": "markdown",
   "metadata": {},
   "source": [
    "# Examples\n",
    "\n",
    "task clearstat examples\n",
    "\n",
    "To run **clearstat**, no parameters need to be specified.\n",
    "\n",
    "&nbsp;\n",
    "\n",
    "The basic way to run the task is&nbsp;\n",
    "\n",
    "go clearstat()\n",
    "\n",
    "as this will not change the current task being scrutinized.\n",
    "\n",
    "&nbsp;\n",
    "\n",
    "Note that&nbsp;\n",
    "\n",
    "clearstat()\n",
    "\n",
    "will change the current task assignment to **clearstat**, which is\n",
    "generally not what is desired."
   ]
  }
 ],
 "metadata": {},
 "nbformat": 4,
 "nbformat_minor": 5
}
