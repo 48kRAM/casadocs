{
 "cells": [
  {
   "cell_type": "markdown",
   "metadata": {},
   "source": [
    "# Description\n",
    "\n",
    "clear all autolock locks\n",
    "\n",
    "Clears all autolocking file locks.\n",
    "\n",
    "Some tasks (e.g., **browsetable**) need to obtain table locks in order\n",
    "to run. Table locks are meant to prevent other tasks from running\n",
    "simultaneously on the same table. If a table lock is not cleared\n",
    "automatically, the **clearstat** task can be used to clear it.\n",
    "\n",
    "Using **clearstat** may be required if attempting to run another\n",
    "task fails and that task indicates that it cannot obtain a lock on a\n",
    "file or table."
   ]
  }
 ],
 "metadata": {},
 "nbformat": 4,
 "nbformat_minor": 5
}
