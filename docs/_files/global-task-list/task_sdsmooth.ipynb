{
 "cells": [
  {
   "cell_type": "markdown",
   "metadata": {},
   "source": [
    "# sdsmooth\n",
    "\n",
    "Smooth spectral data\n",
    "\n",
    "Task **sdsmooth** performs smoothing along the spectral axis using a\n",
    "user-specified smoothing kernel. Currently, 'Gaussian' and 'boxcar'\n",
    "kernels are supported.\n",
    "\n",
    "The default Kernel shape is 'Gaussian'. The width of the function is\n",
    "specified with the&nbsp;*kwidth* parameter, in number of channels.\n",
    "\n",
    "Standard data selection parameters are used: *antenna*, *field*, *spw*,\n",
    "*scan*, *timerange*, *pol,* and *intent*.\n",
    "\n",
    "&nbsp;\n",
    "\n",
    "Weights are propagated to smoothed spectra following:\n",
    "\n",
    "$W^{k}_{\\rm out} = \\frac{ (\\sum_{i=1}^{n} c_{i})^{2} } { (\\sum_{i=1}^{n} c^{2}_{i} / W^{j+i}_{\\rm inp}) } $\n",
    "&nbsp; &nbsp;,\n",
    "\n",
    "where $W$\n",
    "is the input/output weight, $c$&nbsp;is the spectral smoothing kernel\n",
    "originated from a channel $k$&nbsp;where the weight is evaluated,\n",
    "and $n$&nbsp;is the width of the spectral\n",
    "smoothing kernel in channels. In the case of Gaussian, $n$&nbsp;corresponds to FWHM in channels.\n",
    "\n",
    "  \n",
    "&nbsp;"
   ]
  },
  {
   "cell_type": "markdown",
   "metadata": {
    "nbsphinx-toctree": {
     "hidden": true
    }
   },
   "source": [
    "[Description](task_sdsmooth/about)\n",
    "[Parameters](task_sdsmooth/parameters)\n",
    "[Changelog](task_sdsmooth/changelog)\n",
    "[Examples](task_sdsmooth/examples)\n",
    "[Developer](task_sdsmooth/developer)\n"
   ]
  }
 ],
 "metadata": {},
 "nbformat": 4,
 "nbformat_minor": 5
}
