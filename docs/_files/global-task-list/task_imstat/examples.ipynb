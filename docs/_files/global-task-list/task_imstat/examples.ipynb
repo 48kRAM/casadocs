{
 "cells": [
  {
   "cell_type": "markdown",
   "metadata": {},
   "source": [
    "# Examples\n",
    "\n",
    "task examples\n",
    "\n",
    "Select two-box region: box 1 (bottom-left coord is 2,3 and top-right\n",
    "coord is 14,15) and box 2 (bottom-left coord is 30,31 and top-right\n",
    "coord is 42,43)\n",
    "\n",
    "imstat('myImage', box='2,3,14,15;30,31,42,43')\n",
    "\n",
    "Select the same two box regions but only channels 4 and 5\n",
    "\n",
    "imstat('myImage', box='2,3,14,15;30,31,42,43', chan='4\\~5')\n",
    "\n",
    "Select all channels greater than 20 as well as channel 0, then the mean\n",
    "and standard deviation are printed\n",
    "\n",
    "results = imstat('myImage', chans='\\>20;0')  \n",
    "print \"Mean is: \", results\\['mean'\\], \" s.d. \", results\\['sigma'\\]\n",
    "\n",
    "Find statistical information for the Q stokes value only, then the I\n",
    "stokes values only, and printing out the statistical values that we are\n",
    "interested in\n",
    "\n",
    "s1 = imstat('myimage', stokes='Q')  \n",
    "s2 = imstat('myimage', stokes='I')  \n",
    "print \" \\| MIN \\| MAX \\| MEAN\"  \n",
    "print \" Q \\| \",s1\\['min'\\]\\[0\\],\" \\| \",s1\\['max'\\]\\[0\\],\" \\| \",,\" \\|\n",
    "\",s1\\['mean'\\]\\[0\\]  \n",
    "print \" I \\| \",s2\\['min'\\]\\[0\\],\" \\| \",s2\\['max'\\]\\[0\\],\" \\| \",,\" \\|\n",
    "\",s2\\['mean'\\]\\[0\\]\n",
    "\n",
    "Evaluate statistics for each spectral plane in an ra x dec x frequency\n",
    "image\n",
    "\n",
    "myim = \"noisy.im\"\n",
    "\n",
    "\\"
   ]
  },
  {
   "cell_type": "markdown",
   "metadata": {},
   "source": [
    "## generate an image  \n",
    "ia.fromshape(myim, \\[20,30,40\\])  \n",
    "\\"
   ]
  },
  {
   "cell_type": "markdown",
   "metadata": {},
   "source": [
    "## give pixels non-zero values  \n",
    "ia.addnoise()  \n",
    "ia.done()  \n",
    "\\"
   ]
  },
  {
   "cell_type": "markdown",
   "metadata": {},
   "source": [
    "## These are the display axes, the calculation of statistics occurs  \n",
    "\\"
   ]
  },
  {
   "cell_type": "markdown",
   "metadata": {},
   "source": [
    "## for each (hyper)plane along axes not listed in the axes parameter,  \n",
    "\\"
   ]
  },
  {
   "cell_type": "markdown",
   "metadata": {},
   "source": [
    "## in this case axis 2 (the frequency axis)  \n",
    "\\"
   ]
  },
  {
   "cell_type": "markdown",
   "metadata": {},
   "source": [
    "## display the rms for each frequency plane (your mileage will vary\n",
    "with  \n",
    "\\"
   ]
  },
  {
   "cell_type": "markdown",
   "metadata": {},
   "source": [
    "## the values).  \n",
    "stats = imstat(imagename=myim, axes=\\[0,1\\])\n",
    "\n",
    "&nbsp;Printing the produced statistics using the desired KEY\n",
    "\n",
    "CASA \\<1\\>:stats\\[\"rms\"\\]  \n",
    "&nbsp; Out\\[10\\]:  \n",
    "array(\\[ 0.99576014, 1.03813124, 0.97749186, 0.97587883, 1.04189885,  \n",
    "&nbsp;&nbsp;&nbsp;&nbsp;&nbsp;&nbsp;&nbsp; 1.03784776, 1.03371549,\n",
    "1.03153074, 1.00841606, 0.947155 ,  \n",
    "&nbsp;&nbsp;&nbsp;&nbsp;&nbsp;&nbsp;&nbsp; 0.97335404, 0.94389403,\n",
    "1.0010221 , 0.97151822, 1.03942156,  \n",
    "&nbsp;&nbsp;&nbsp;&nbsp;&nbsp;&nbsp;&nbsp; 1.01158476, 0.96957082,\n",
    "1.04212773, 1.00589049, 0.98696715,  \n",
    "&nbsp;&nbsp;&nbsp;&nbsp;&nbsp;&nbsp;&nbsp; 1.00451481, 1.02307892,\n",
    "1.03102005, 0.97334671, 0.95209879,  \n",
    "&nbsp;&nbsp;&nbsp;&nbsp;&nbsp;&nbsp;&nbsp; 1.02088714, 0.96999902,\n",
    "0.98661619, 1.01039267, 0.96842754,  \n",
    "&nbsp;&nbsp;&nbsp;&nbsp;&nbsp;&nbsp;&nbsp; 0.99464947, 1.01536798,\n",
    "1.02466023, 0.96956468, 0.98090756,  \n",
    "&nbsp;&nbsp;&nbsp;&nbsp;&nbsp;&nbsp;&nbsp; 0.9835844 , 0.95698935,\n",
    "1.05487967, 0.99846411, 0.99634868\\])"
   ]
  }
 ],
 "metadata": {},
 "nbformat": 4,
 "nbformat_minor": 5
}
