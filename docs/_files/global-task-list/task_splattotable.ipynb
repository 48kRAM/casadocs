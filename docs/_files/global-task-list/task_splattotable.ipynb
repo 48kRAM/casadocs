{
 "cells": [
  {
   "cell_type": "markdown",
   "metadata": {},
   "source": [
    "# splattotable\n",
    "\n",
    "task description\n",
    "\n"
   ]
  },
  {
   "cell_type": "markdown",
   "metadata": {},
   "source": [
    "## Summary\n",
    "\n",
    "This task reads one or more spectral line lists\n",
    "downloaded from the [Splatalogue spectral line\n",
    "database](http://www.cv.nrao.edu/php/splat/) and loads them into a CASA\n",
    "table. This table can then be queried via the\n",
    "**slsearch** task within CASA.\n",
    "\n",
    " The downloaded files must be in a specific format\n",
    "for this task to succeed. The columns are the&nbsp;important things; one can filter the results as one desires\n",
    "using Splatalogue, but the particular columns must be present as\n",
    "described&nbsp;below. The columns which must be\n",
    "present in the downloaded file in exactly the following\n",
    "order are: \n",
    "\n",
    "-   \"Species\"\n",
    "-   \"NRAO Recommended\"\n",
    "-   \"Chemical Name\"\n",
    "-   \"Freq in GHz\"\n",
    "-   \"Resolved QNs\"\n",
    "-   \"CDMS/JPL Intensity\"\n",
    "-   \"Sijmu2 (D2)\"\n",
    "-   \"Log10 (Aij)\"\n",
    "-   \"EL (K)\n",
    "-   \"EU (K)\"\n",
    "-   \"Linelist\"\n",
    "\n",
    "In order to get these columns in this order, one\n",
    "should&nbsp;select exactly the following items\n",
    "on the [Splatalogue \"Advanced\" search\n",
    "interface](https://www.cv.nrao.edu/php/splat/advanced.php). \n",
    "\n",
    "-   Under \"Specify Ranges\" one should select \"GHz\" for\n",
    "    the frequency unit.&nbsp;\n",
    "-   Under \"Line Strength Display\" select exactly\n",
    "    \"CDMS/JPL Intensity\",&nbsp;\"Sij mu2\", and\n",
    "    \"Aij\". \n",
    "-   Under \"Energy Levels\", one should select exactly\n",
    "    \"Elower (K)\" and \"Eupper (K)\". \n",
    "-   Under \"Miscellaneous\", one should&nbsp;select exactly \"Display Ordered Frequency ONLY\" and\n",
    "    \"Display NRAO Recommended Frequencies\". \n",
    "\n",
    "One should then initiate the search and\n",
    "on&nbsp;the resulting page, one should select\n",
    "the Tab Field Separator and then export the list. The resulting list\n",
    "should be in the proper&nbsp;format for\n",
    "importing into CASA.\n",
    "\n",
    "In order to assist the user in selecting the correct\n",
    "fields from the Splatalogue database in the proper format, the\n",
    "Splatalogue webpage has an option to \"Export CASA Fields\" after a search\n",
    "is conducted.&nbsp; By selecting this option, regardless of how the search was\n",
    "conducted on the webpage, the correct fields in the proper format\n",
    "will be exported for use by **splattotable**.\n",
    "\n",
    "&nbsp;\n",
    "\n"
   ]
  },
  {
   "cell_type": "markdown",
   "metadata": {},
   "source": [
    "## Parameter descriptions \n",
    "\n"
   ]
  },
  {
   "cell_type": "markdown",
   "metadata": {},
   "source": [
    "##### *filenames* \n",
    "\n",
    "Files containing Splatalogue spectral line\n",
    "lists.\n",
    "\n"
   ]
  },
  {
   "cell_type": "markdown",
   "metadata": {},
   "source": [
    "##### *table* \n",
    "\n",
    "Output table name. Must be specfied."
   ]
  },
  {
   "cell_type": "markdown",
   "metadata": {
    "nbsphinx-toctree": {
     "hidden": true
    }
   },
   "source": [
    "[Description](task_splattotable/about)\n",
    "[Parameters](task_splattotable/parameters)\n",
    "[Changelog](task_splattotable/changelog)\n",
    "[Examples](task_splattotable/examples)\n",
    "[Developer](task_splattotable/developer)\n"
   ]
  }
 ],
 "metadata": {},
 "nbformat": 4,
 "nbformat_minor": 5
}
