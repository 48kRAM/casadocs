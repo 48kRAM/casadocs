{
 "cells": [
  {
   "cell_type": "markdown",
   "metadata": {},
   "source": [
    "# clearstat\n",
    "\n",
    "clear all autolock locks\n",
    "\n",
    "Clears all autolocking file locks.\n",
    "\n",
    "Some tasks (e.g., **browsetable**)&nbsp;need to&nbsp;obtain table locks\n",
    "in order to run. Table locks are meant to&nbsp;prevent other tasks from\n",
    "running simultaneously on the same table. If a table lock is not cleared\n",
    "automatically, the **clearstat** task can be used to clear it.\n",
    "\n",
    "Using&nbsp;**clearstat**&nbsp;may be required&nbsp;if attempting to run\n",
    "another task&nbsp;fails&nbsp;and that task indicates that it cannot\n",
    "obtain a lock on a file or table.\n",
    "\n",
    "&nbsp;"
   ]
  },
  {
   "cell_type": "markdown",
   "metadata": {
    "nbsphinx-toctree": {
     "hidden": true
    }
   },
   "source": [
    "[Description](task_clearstat/about)\n",
    "[Examples](task_clearstat/examples)\n"
   ]
  }
 ],
 "metadata": {},
 "nbformat": 4,
 "nbformat_minor": 5
}
