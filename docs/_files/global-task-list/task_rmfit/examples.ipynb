{
 "cells": [
  {
   "cell_type": "markdown",
   "metadata": {},
   "source": [
    "# Examples\n",
    "\n",
    "task examples\n",
    "\n",
    "Calculate the rotation measure for a single polarization image.\n",
    "\n",
    "rmfit(imagename=\"mypol.im\", rm=\"myrm.im\", rmmax=50.0)\n",
    "\n",
    "Calculate the rotation measure using a set of polarization images from\n",
    "different spectral windows or bands.\n",
    "\n",
    "rmfit(imagename=\\[\"pol1.im\", \"pol2.im\", \"pol3.im\"\\], rm=\"myrm2.im\",\n",
    "rmmax=50.0)\n",
    "\n",
    "&nbsp;"
   ]
  }
 ],
 "metadata": {},
 "nbformat": 4,
 "nbformat_minor": 5
}
