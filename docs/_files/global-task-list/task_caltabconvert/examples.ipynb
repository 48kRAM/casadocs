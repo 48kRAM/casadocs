{
 "cells": [
  {
   "cell_type": "markdown",
   "metadata": {},
   "source": [
    "# Examples\n",
    "\n",
    "task caltabconvert examples\n",
    "\n",
    "To convert a complex caltable *caltable.g0* within MeasurementSet\n",
    "\"measurementset.ms\" into the new-format caltable *caltable.g0.new*:\n",
    "\n",
    "caltable(caltabold='caltable.g0', vis='measurementset.ms',\n",
    "ptype='complex', caltabnew='caltable.g0.new')"
   ]
  }
 ],
 "metadata": {},
 "nbformat": 4,
 "nbformat_minor": 5
}
