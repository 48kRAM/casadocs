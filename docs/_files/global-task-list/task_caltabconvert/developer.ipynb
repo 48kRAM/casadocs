{
 "cells": [
  {
   "cell_type": "markdown",
   "metadata": {},
   "source": [
    "# Developer\n",
    "\n",
    "task caltabconvert developer\n",
    "\n",
    "--CASA Developer--"
   ]
  }
 ],
 "metadata": {},
 "nbformat": 4,
 "nbformat_minor": 5
}
