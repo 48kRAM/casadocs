{
 "cells": [
  {
   "cell_type": "markdown",
   "metadata": {},
   "source": [
    "# Parameters\n",
    "\n",
    "task caltabconvert parameters\n",
    "\n",
    "caltabold : string\n",
    "\n",
    "Name of the old-style caltable. Default: none Example:\n",
    "caltabold='gronk.g0'\n",
    "\n",
    "Example\n",
    "\n",
    "vis : string\n",
    "\n",
    "Name of the visibility file (MS) associated with the old-style caltable.\n",
    "Default: none Example: 'blurp.ms'\n",
    "\n",
    "Example\n",
    "\n",
    "ptype : string = complex\n",
    "\n",
    "Type of data in the new-format caltable. Default: \"complex\" Options:\n",
    "\"complex\" or \"float\" Note: The old-style caltables do not have this\n",
    "information, so it is imperative that users get it correct. \"complex\"\n",
    "refers to caltables that have complex gains (e.g., produced by gaincal,\n",
    "bpcal, etc.). \"float\" refers to caltables that real numbers such as\n",
    "delays (e.g., produced by gencal).\n",
    "\n",
    "Example\n",
    "\n",
    "caltabnew : string\n",
    "\n",
    "Name of the new-style caltable. Default: '' (the suffix \".new\" is\n",
    "appended to the name of old-style caltable)\n",
    "\n",
    "Example"
   ]
  }
 ],
 "metadata": {},
 "nbformat": 4,
 "nbformat_minor": 5
}
