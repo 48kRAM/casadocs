{
 "cells": [
  {
   "cell_type": "markdown",
   "metadata": {},
   "source": [
    "# Examples\n",
    "\n",
    "task examples\n",
    "\n",
    "This example was taken from the simulation CASAguide located\n",
    "[here](https://casaguides.nrao.edu/index.php/Simulation_Guide_Component_Lists_(CASA_5.1)).\n",
    "\n",
    "default(\"simanalyze\")  \n",
    "project = \"FITS_list\"  \n",
    "vis=\"FITS_list.alma.cycle5.1.ms\"  \n",
    "imsize = \\[256,256\\]  \n",
    "imdirection = \"J2000 10h00m00.0s -30d00m00.0s\"  \n",
    "cell = '0.1arcsec'  \n",
    "niter = 5000  \n",
    "threshold = '10.0mJy/beam'  \n",
    "analyze = True  \n",
    "simanalyze()\n",
    "\n",
    "&nbsp;"
   ]
  }
 ],
 "metadata": {},
 "nbformat": 4,
 "nbformat_minor": 5
}
