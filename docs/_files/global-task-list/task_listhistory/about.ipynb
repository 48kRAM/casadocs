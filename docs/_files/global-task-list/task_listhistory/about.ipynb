{
 "cells": [
  {
   "cell_type": "markdown",
   "metadata": {},
   "source": [
    "# Description\n",
    "\n",
    "task description\n",
    "\n",
    "Lists the processing history of a MeasurementSet.\n",
    "\n",
    "The list of all tasks and processing steps of a MeasurementSet will be\n",
    "written to the logger.\n",
    "\n",
    "&nbsp;"
   ]
  }
 ],
 "metadata": {},
 "nbformat": 4,
 "nbformat_minor": 5
}
