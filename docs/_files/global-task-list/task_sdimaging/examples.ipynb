{
 "cells": [
  {
   "cell_type": "markdown",
   "metadata": {},
   "source": [
    "# Examples\n",
    "\n",
    "To generate a spectral line cube with 500 channels selected from channel\n",
    "200 to 700:\n",
    "\n",
    "spw='0'  \n",
    "pol='XX'  \n",
    "src='Moon'\n",
    "\n",
    "sdimaging(infiles='mydata.ms',  \n",
    "&nbsp;&nbsp; &nbsp;spw=spw,  \n",
    "&nbsp;&nbsp; &nbsp;nchan=500,  \n",
    "&nbsp;&nbsp;&nbsp; start='200',  \n",
    "&nbsp;&nbsp;&nbsp; width='1',  \n",
    "&nbsp;&nbsp; &nbsp;cell=\\['30.0arcsec','30.0arcsec'\\],  \n",
    "&nbsp;&nbsp; &nbsp;outfile='mydata.ms.im',  \n",
    "&nbsp;&nbsp; &nbsp;imsize=\\[80,80\\],  \n",
    "&nbsp;&nbsp; &nbsp;gridfunction='GAUSS',  \n",
    "&nbsp;&nbsp; &nbsp;gwidth='4arcsec',  \n",
    "&nbsp;&nbsp; &nbsp;stokes=pol,  \n",
    "&nbsp;&nbsp; &nbsp;ephemsrcname=src)\n",
    "\n",
    "&nbsp;\n",
    "\n",
    "The *start* parameter can be specified in different units:\n",
    "\n",
    "start=100 (mode='channel')  \n",
    "start='22.3GHz' (mode='frequency')  \n",
    "start='5.0km/s' (mode='velocity')\n",
    "\n",
    "&nbsp;\n",
    "\n",
    "The parameter *ephemsrcname* can be set to a solar system object:\n",
    "\n",
    "ephemsrcname ='MERCURY'"
   ]
  }
 ],
 "metadata": {},
 "nbformat": 4,
 "nbformat_minor": 5
}
