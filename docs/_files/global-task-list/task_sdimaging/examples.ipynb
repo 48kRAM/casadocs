{
 "cells": [
  {
   "cell_type": "markdown",
   "metadata": {},
   "source": [
    "# Examples\n",
    "\n",
    "To generate a spectral line cube with 500 channels selected from channel\n",
    "200 to 700:\n",
    "\n",
    "spw='0'  \n",
    "pol='XX'  \n",
    "src='Moon'\n",
    "\n",
    "sdimaging(infiles='mydata.ms',  \n",
    "    spw=spw,  \n",
    "    nchan=500,  \n",
    "    start='200',  \n",
    "    width='1',  \n",
    "    cell=\\['30.0arcsec','30.0arcsec'\\],  \n",
    "    outfile='mydata.ms.im',  \n",
    "    imsize=\\[80,80\\],  \n",
    "    gridfunction='GAUSS',  \n",
    "    gwidth='4arcsec',  \n",
    "    stokes=pol,  \n",
    "    ephemsrcname=src)\n",
    "\n",
    " \n",
    "\n",
    "The *start* parameter can be specified in different units:\n",
    "\n",
    "start=100 (mode='channel')  \n",
    "start='22.3GHz' (mode='frequency')  \n",
    "start='5.0km/s' (mode='velocity')\n",
    "\n",
    " \n",
    "\n",
    "The parameter *ephemsrcname* can be set to a solar system object:\n",
    "\n",
    "ephemsrcname ='MERCURY'"
   ]
  }
 ],
 "metadata": {},
 "nbformat": 4,
 "nbformat_minor": 5
}
