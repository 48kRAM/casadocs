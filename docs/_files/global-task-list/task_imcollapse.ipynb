{
 "cells": [
  {
   "cell_type": "markdown",
   "metadata": {},
   "source": [
    "# imcollapse\n",
    "\n",
    "imcollapse task: Collapse image along one axis, aggregating pixel values\n",
    "along that axis.\n",
    "\n",
    "The **imcollapse** task collapses an image along a specified axis or set\n",
    "of axes of N pixels into a single pixel on each specified axis. Images\n",
    "with float precision and complex-float precision pixels are supported.\n",
    "It computes the specified&nbsp;aggregate function for pixel values along\n",
    "the specified axes&nbsp;and places those values in the single remaining\n",
    "plane of those axes in the output image.\n",
    "\n",
    "The reference pixels of the collapsed axes are set to 0 and their\n",
    "reference values are set to the mean of the the first and last values of\n",
    "those axes in the specified region of the input image.\n",
    "\n",
    "Convolution to a common beam is not performed\n",
    "automatically as part of the preprocessing before the collapse operation\n",
    "occurs. Therefore, if the input image has per-plane beams, then the user\n",
    "should consider first smoothing the data to have the same resolution\n",
    "(e.g., using the tool method ia.convolve2d() or the task **imsmooth**),\n",
    "and use the&nbsp;resulting image as the input for collapsing.\n",
    "\n"
   ]
  },
  {
   "cell_type": "markdown",
   "metadata": {},
   "source": [
    "## Parameter descriptions\n",
    "\n"
   ]
  },
  {
   "cell_type": "markdown",
   "metadata": {},
   "source": [
    "##### *imagename *\n",
    "\n",
    "Name of image on which to perform the operation.\n",
    "\n"
   ]
  },
  {
   "cell_type": "markdown",
   "metadata": {},
   "source": [
    "##### *function *\n",
    "\n",
    "Aggregate function to apply to pixel values. Choices are: 'flux' (see\n",
    "below for constraints), 'madm' (median absolute deviation from the\n",
    "median), 'max', 'mean', 'median', 'min', 'npts', 'rms', 'stddev', 'sum',\n",
    "'variance' and 'xmadm' (median absolute deviation from the median\n",
    "multipied by x, where x is the reciprocal of $\\Phi^{-1}$(3/4),\n",
    "where $\\Phi^{-1}$ is the reciprocal of the\n",
    "quantile function. Numerically, x = 1.482602218505602. See e.g.\n",
    "[here](https://en.wikipedia.org/wiki/Median_absolute_deviation#Relation_to_standard_deviation)).\n",
    "Minimal unique matching is supported for the *function* parameter (e.g.\n",
    "*function = 'r'* will compute the rms of the pixel values, 'med' will\n",
    "compute the median, etc.).\n",
    "\n",
    "If one specifies *function='flux'*, the following requirements must be\n",
    "met:\n",
    "\n",
    "1.  The image must have a direction coordinate,\n",
    "2.  The image must have at least one beam if the brightness unit is\n",
    "    Jy/beam or derived from that. An image with a brightness unit of K\n",
    "    (or derivative of that) does not require a beam for this\n",
    "    calculation,\n",
    "3.  The specified axes must be exactly the direction coordinate axes,\n",
    "4.  Only one of the non-directional axes may be non-degenerate,\n",
    "5.  The image brightness unit must be conformant with x\\*y Jy/beam or\n",
    "    x\\*y K, where x is an optional unit (such as km/s for moments\n",
    "    images)&nbsp;and y is an optional SI prefix.\n",
    "\n"
   ]
  },
  {
   "cell_type": "markdown",
   "metadata": {},
   "source": [
    "##### *axes *\n",
    "\n",
    "Image axes along which to perform the aggregation. Axes can be specified\n",
    "as a single integer or array of integers indicating the zero-based axes\n",
    "along&nbsp;which to collapse the image. Axes may also be specified as a\n",
    "single string or an array of strings which minimally and uniquely match\n",
    "(ignoring case) world axes names in the image (e.g. \"dec\" or \\[\"ri,\n",
    "\"d\"\\] for&nbsp;collapsing along the declination axis or along the right\n",
    "ascension and declination axes, respectively).\n",
    "\n"
   ]
  },
  {
   "cell_type": "markdown",
   "metadata": {},
   "source": [
    "##### *outfile *\n",
    "\n",
    "Name of image to write the result of the operation.\n",
    "\n"
   ]
  },
  {
   "cell_type": "markdown",
   "metadata": {},
   "source": [
    "##### General selection:&nbsp; *box, chans, stokes, region*\n",
    "\n",
    "Region of interest in which the computation should be performed. See\n",
    "[Image Selection\n",
    "Parameters](https://casa.nrao.edu/casadocs-devel/stable/imaging/image-analysis/image-selection-parameters \"My Title\")\n",
    "for details.\n",
    "\n"
   ]
  },
  {
   "cell_type": "markdown",
   "metadata": {},
   "source": [
    "##### *mask *\n",
    "\n",
    "On-the-fly mask to use. See section [Image\n",
    "Masks](https://casa.nrao.edu/casadocs-devel/stable/imaging/image-analysis/image-masks)\n",
    "for details.\n",
    "\n"
   ]
  },
  {
   "cell_type": "markdown",
   "metadata": {},
   "source": [
    "##### *overwrite *\n",
    "\n",
    "Automatically overwrite an existing image named *outfile*? If True and a\n",
    "file by that name already exists, the application will exit with an\n",
    "error. without performing the requested operation.\n",
    "\n"
   ]
  },
  {
   "cell_type": "markdown",
   "metadata": {},
   "source": [
    "##### *stretch *\n",
    "\n",
    "Stretch the specified on-the-fly *mask* along degenerate axes if\n",
    "possible and necessary to conform to the shape of the input image? An\n",
    "error will result if the shape of the specified on-the-fly mask is not,\n",
    "or in the case of *stretch*=True, cannot be made to conform to the shape\n",
    "of the input image. This parameter is ignored if *mask* is not\n",
    "specified."
   ]
  },
  {
   "cell_type": "markdown",
   "metadata": {
    "nbsphinx-toctree": {
     "hidden": true
    }
   },
   "source": [
    "[Description](task_imcollapse/about)\n",
    "[Parameters](task_imcollapse/parameters)\n",
    "[Changelog](task_imcollapse/changelog)\n",
    "[Examples](task_imcollapse/examples)\n",
    "[Developer](task_imcollapse/developer)\n",
    "[Planning](task_imcollapse/planning-1)\n"
   ]
  }
 ],
 "metadata": {},
 "nbformat": 4,
 "nbformat_minor": 5
}
