{
 "cells": [
  {
   "cell_type": "markdown",
   "metadata": {},
   "source": [
    "# Description\n",
    "\n",
    "task description\n",
    "\n",
    "**WARNING**: This task is currently experimental.\n",
    "\n"
   ]
  },
  {
   "cell_type": "markdown",
   "metadata": {},
   "source": [
    "## Summary\n",
    "\n",
    "**msuvbin** is a uv gridding task. It is primarily designed to be used\n",
    "for large volumes of data from multiple observing epochs that need to be\n",
    "imaged together in order to obtain a final image product for the target\n",
    "source or field of interest. One way of proceeding with such large\n",
    "multi-epoch data is to image each epoch separately and average the\n",
    "images afterward. Instead, **msuvbin** averages the visibilities on a\n",
    "common uv grid, then the resulting data product can be imaged using the\n",
    "task **clean** or **tclean**. Averaging such uv data into a common uv\n",
    "grid first has several conveniences and advantages, such as easily doing\n",
    "the proper weighted average. More details on this task can be found in\n",
    "the [EVLA Memo\n",
    "198](https://library.nrao.edu/public/memos/evla/EVLAM_198.pdf),&nbsp;which\n",
    "explains the current implementation in **msuvbin** and its limitations.\n",
    "In particular, note the issue/limitation of creating a uv grid with\n",
    "wprojection and then using Cotton-Schwab major cycles to image it; see\n",
    "the EVLA Memo 198 for more details.\n",
    "\n",
    "&nbsp;\n",
    "\n"
   ]
  },
  {
   "cell_type": "markdown",
   "metadata": {},
   "source": [
    "## Parameter descriptions \n",
    "\n"
   ]
  },
  {
   "cell_type": "markdown",
   "metadata": {},
   "source": [
    "##### *vis*\n",
    "\n",
    "Name of input visibility file\n",
    "\n"
   ]
  },
  {
   "cell_type": "markdown",
   "metadata": {},
   "source": [
    "##### *field*\n",
    "\n",
    "Field name list; note that this&nbsp;position will\n",
    "define the phase center of the output uv grid\n",
    "\n"
   ]
  },
  {
   "cell_type": "markdown",
   "metadata": {},
   "source": [
    "##### *spw *\n",
    "\n",
    "Spectral window selection\n",
    "\n"
   ]
  },
  {
   "cell_type": "markdown",
   "metadata": {},
   "source": [
    "##### *taql* \n",
    "\n",
    "TaQl expression for data selection (see&nbsp;[Data\n",
    "Selection in a Measurement\n",
    "Set](https://casa.nrao.edu/casadocs-devel/stable/calibration-and-visibility-data/data-selection-in-a-measurementset)&nbsp;or\n",
    "[CASAcore&nbsp;NOTE 199:&nbsp;Table Query\n",
    "Language](https://casacore.github.io/casacore-notes/199.html)&nbsp;for\n",
    "more information)\n",
    "\n"
   ]
  },
  {
   "cell_type": "markdown",
   "metadata": {},
   "source": [
    "##### *outvis*\n",
    "\n",
    "Name of output grid\n",
    "\n"
   ]
  },
  {
   "cell_type": "markdown",
   "metadata": {},
   "source": [
    "##### *phasecenter*\n",
    "\n",
    "Phase center of the grid,&nbsp;to be\n",
    "used when the phase center of the selected field is not the desired\n",
    "output phase center. Example:&nbsp;*phasecenter='J2000 18h03m04\n",
    "-20d00m45.1'*\n",
    "\n"
   ]
  },
  {
   "cell_type": "markdown",
   "metadata": {},
   "source": [
    "##### *nx*\n",
    "\n",
    "Number of pixels along the x axis of the grid. Default:\n",
    "1000\n",
    "\n"
   ]
  },
  {
   "cell_type": "markdown",
   "metadata": {},
   "source": [
    "##### *ny*\n",
    "\n",
    "Number of pixels along the y axis of the grid. Default:\n",
    "1000\n",
    "\n"
   ]
  },
  {
   "cell_type": "markdown",
   "metadata": {},
   "source": [
    "##### *cell*\n",
    "\n",
    "Cellsize of the grid (given in sky units). Default:\n",
    "'1arcsec'\n",
    "\n"
   ]
  },
  {
   "cell_type": "markdown",
   "metadata": {},
   "source": [
    "##### *ncorr*\n",
    "\n",
    "Number of correlation/polarization plane in uv grid\n",
    "(allowed 1, 2, 4). For example, if the input data set has the\n",
    "correlations RR and LL, and *ncorr*=1, then the output uv grid will be\n",
    "written as Stokes I. If *ncorr=*2, then the output grid will have both\n",
    "the RR and LL correlations. Default: 1\n",
    "\n"
   ]
  },
  {
   "cell_type": "markdown",
   "metadata": {},
   "source": [
    "##### *nchan*\n",
    "\n",
    "Number of spectral channels in the output uv grid.\n",
    "Default: 1\n",
    "\n"
   ]
  },
  {
   "cell_type": "markdown",
   "metadata": {},
   "source": [
    "##### *fstart*\n",
    "\n",
    "Frequency of the first channel. Default: '1GHz' (the\n",
    "user needs&nbsp;to give&nbsp;a useful input here)\n",
    "\n"
   ]
  },
  {
   "cell_type": "markdown",
   "metadata": {},
   "source": [
    "##### *fstep*\n",
    "\n",
    "Width of spectral channel. Default: '1kHz'\n",
    "\n"
   ]
  },
  {
   "cell_type": "markdown",
   "metadata": {},
   "source": [
    "##### *wproject*\n",
    "\n",
    "Do wprojection correction while gridding. Default:\n",
    "False\n",
    "\n"
   ]
  },
  {
   "cell_type": "markdown",
   "metadata": {},
   "source": [
    "##### *memfrac*\n",
    "\n",
    "Controls how much of computer's memory is available\n",
    "for&nbsp;gridding.\n",
    "Default=0.5\n",
    "\n",
    "&nbsp;"
   ]
  }
 ],
 "metadata": {},
 "nbformat": 4,
 "nbformat_minor": 5
}
