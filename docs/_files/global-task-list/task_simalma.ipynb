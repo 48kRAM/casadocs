{
 "cells": [
  {
   "cell_type": "markdown",
   "metadata": {},
   "source": [
    "# simalma\n",
    "\n",
    "task description\n",
    "\n"
   ]
  },
  {
   "cell_type": "markdown",
   "metadata": {},
   "source": [
    "## Summary\n",
    "\n",
    "This task simulates ALMA observation including 12-m, ACA 7-m and total\n",
    "power arrays, and images and analyzes simulated data.\n",
    "\n",
    "This task makes multiple calls to **simobserve** (to calculate\n",
    "visibilities and total power spectra), followed by gridding of total\n",
    "power spectra (if total power is requested), concatenation of the\n",
    "simulated visibilities, calls to the **simanalyze** task for visibility\n",
    "inversion, deconvolution, and calculation of difference, and fidelity\n",
    "images, and feathering of single dish and interferometric data.\n",
    "\n",
    "These steps may not all be familiar to new users, so the **simalma**\n",
    "task runs by default in a \"dryrun\" mode, in which it assesses the user's\n",
    "input parameters and sky model, and prints an informational report\n",
    "including the required calls to other CASA tasks, both to the screen and\n",
    "to a text file in the project directory (defined below).\n",
    "\n",
    "The user can modify their parameters based on the information, then\n",
    "either run with *dryrun=False* to actually call the other tasks to\n",
    "create the simulated data, or run the other tasks individually one at a\n",
    "time to better understand and control the process. More information on\n",
    "running **simalma** can be found\n",
    "[here](https://casa.nrao.edu/casadocs-devel/stable/simulation/simalma).\n",
    "\n",
    "**NOTE**: The ALMA project is refining the optimal method of combining\n",
    "the three types of data. If that best practice is changed after this\n",
    "release of CASA, the user can control the process by modifying the calls\n",
    "to the other CASA tasks.\n",
    "\n",
    "&nbsp;\n",
    "\n"
   ]
  },
  {
   "cell_type": "markdown",
   "metadata": {},
   "source": [
    "## Parameter descriptions\n",
    "\n"
   ]
  },
  {
   "cell_type": "markdown",
   "metadata": {},
   "source": [
    "##### *project*\n",
    "\n",
    "The root filename for all output files. A subdirectory will be created,\n",
    "and all created files will be placed in that subdirectory including the\n",
    "informational report.\n",
    "\n"
   ]
  },
  {
   "cell_type": "markdown",
   "metadata": {},
   "source": [
    "##### *skymodel *\n",
    "\n",
    "An input image used as a model of the sky. **simalma** requires a CASA\n",
    "or FITS image. If you merely have a grid of numbers, you will need to\n",
    "write them out as FITS or write a CASA script to read them in and use\n",
    "the **image** (**ia**) tool to create an image and insert the data.\n",
    "**simalma** does NOT require a coordinate system in the header. If the\n",
    "coordinate information is incomplete, missing, or you would like to\n",
    "override it, set the appropriate \"in\" parameters.\n",
    "\n",
    "**NOTE**: Setting those parameters simply changes the header values,\n",
    "ignoring any values already in the image. No regridding is performed.\n",
    "\n",
    "If you have a proper Coordinate System, **simalma** will do its best to\n",
    "generate visibilities from that, and then create a synthesis image  \n",
    "according to the specified user parameters. You can manipulate an image\n",
    "header manually with the **imhead** task.&nbsp;&nbsp;\n",
    "\n"
   ]
  },
  {
   "cell_type": "markdown",
   "metadata": {},
   "source": [
    "##### *inbright *\n",
    "\n",
    "The peak brightness to scale the image to in Jy/pixel, or \" \" to keep it\n",
    "unchanged.\n",
    "\n",
    "**NOTE**: \"unchanged\" will take the numerical values in your image and\n",
    "assume they are in Jy/pixel, even if it says some other unit in the\n",
    "header. &nbsp;&nbsp;\n",
    "\n"
   ]
  },
  {
   "cell_type": "markdown",
   "metadata": {},
   "source": [
    "##### *indirection *\n",
    "\n",
    "The central direction to place the sky model image, or \" \" to use\n",
    "whatever is in the image already.\n",
    "\n"
   ]
  },
  {
   "cell_type": "markdown",
   "metadata": {},
   "source": [
    "##### *incell *\n",
    "\n",
    "The spatial pixel size to scale the skymodel image, or \" \" to use\n",
    "whatever is in the image already.\n",
    "\n"
   ]
  },
  {
   "cell_type": "markdown",
   "metadata": {},
   "source": [
    "##### *incenter *\n",
    "\n",
    "The frequency to use for the center channel (or only channel, if the\n",
    "skymodel is 2D). E.g., \"89GHz\", or \" \" to use what is in the header.\n",
    "Required even for a 2D model.\n",
    "\n"
   ]
  },
  {
   "cell_type": "markdown",
   "metadata": {},
   "source": [
    "##### *inwidth *\n",
    "\n",
    "The width of channels to use, or \" \" to use what is in the image. Should\n",
    "be a string representing a quantity with units e.g., \"10MHz\".\n",
    "\n",
    "**NOTE**: Only works reliably with frequencies, not velocities. It is\n",
    "not possible to change the number of spectral planes of the sky model,\n",
    "only to relabel them with different frequencies. That kind of regridding\n",
    "can be accomplished with the CASA toolkit.\n",
    "\n"
   ]
  },
  {
   "cell_type": "markdown",
   "metadata": {},
   "source": [
    "##### *complist *\n",
    "\n",
    "A component list model of the sky, added to or instead of skymodel.\n",
    "Click\n",
    "[here](https://casaguides.nrao.edu/index.php/Simulation_Guide_Component_Lists_(CASA_5.1))\n",
    "for more information.\n",
    "\n"
   ]
  },
  {
   "cell_type": "markdown",
   "metadata": {},
   "source": [
    "##### *compwidth *\n",
    "\n",
    "The bandwidth of components. If simulating from components only, this\n",
    "defines the bandwidth of the MS and output images.\n",
    "\n"
   ]
  },
  {
   "cell_type": "markdown",
   "metadata": {},
   "source": [
    "##### *setpointings *\n",
    "\n",
    "If True, calculate a map of pointings and write *ptgfile*. If graphics\n",
    "are on, display the pointings shown on the model image. Observations\n",
    "with the ALMA 12m and ACA 7m arrays will observe a region of size\n",
    "\"mapsize\" using the same hexagonal algorithm as the ALMA OT, with\n",
    "Nyquist sampling. The total power array maps a slightly (+1 primary\n",
    "beam) larger area than the 12m array does, to improve later image\n",
    "combination. It samples the region with lattice grids of spacing 0.33\n",
    "lambda/D. If *setpointings=False*, read pointings from\n",
    "ptgfile.&nbsp;&nbsp;\n",
    "\n"
   ]
  },
  {
   "cell_type": "markdown",
   "metadata": {},
   "source": [
    "##### *ptgfile *\n",
    "\n",
    "A text file specifying directions in the same format as the example, and\n",
    "optional integration times, e.g.,\n",
    "\n",
    "    #Epoch     RA          DEC      TIME(optional)\n",
    "    J2000 23h59m28.10 -019d52m12.35 10.0\n",
    "\n",
    "If the time column is not present in the file, it will use \"integration\"\n",
    "for all pointings.\n",
    "\n",
    "**NOTE**: At this time the file should contain only science pointings.\n",
    "**simalma** will observe these until totaltime is used up.&nbsp;\n",
    "\n"
   ]
  },
  {
   "cell_type": "markdown",
   "metadata": {},
   "source": [
    "##### *integration *\n",
    "\n",
    "Time interval for each integration e.g., '10s'.\n",
    "\n",
    "**NOTE**: To simulate a \"scan\" longer than one integration, use\n",
    "*setpointings* to generate a pointing file, and then edit the file to\n",
    "increase the time at each point to be larger than the parameter\n",
    "integration time.&nbsp;\n",
    "\n"
   ]
  },
  {
   "cell_type": "markdown",
   "metadata": {},
   "source": [
    "##### *direction *\n",
    "\n",
    "Mosaic center direction. e.g., 'J2000 19h00m00 -40d00m00'. If unset,\n",
    "will use the center of the skymodel image. Can optionally be a list of\n",
    "pointings, otherwise **simobserve** will cover a region of size\n",
    "*mapsize* according to *maptype*.\n",
    "\n"
   ]
  },
  {
   "cell_type": "markdown",
   "metadata": {},
   "source": [
    "##### *mapsize *\n",
    "\n",
    "Angular size of mosaic map to simulate. Set to \" \" to cover the model\n",
    "image.\n",
    "\n"
   ]
  },
  {
   "cell_type": "markdown",
   "metadata": {},
   "source": [
    "##### *antennalist *\n",
    "\n",
    "A vector of ASCII files containing antenna positions, one for each\n",
    "configuration of 7m or 12m dishes.In this task, it should be an ALMA\n",
    "configuration. Standard arrays are found in your CASA data repository,\n",
    "os.getenv(\"CASAPATH\").split()\\[0\\]+\"/data/alma/simmos/\". A string of the\n",
    "form \"alma;0.5arcsec\" will be parsed into a 12m ALMA configuration.\n",
    "Examples: \\['alma.cycle2.5.cfg','aca.cycle2.i.cfg'\\],\n",
    "\\['alma.cycle1;0.3arcsec','alma.cycle1.1.cfg','aca.i.cfg'\\]&nbsp;&nbsp;\n",
    "\n"
   ]
  },
  {
   "cell_type": "markdown",
   "metadata": {},
   "source": [
    "##### *hourangle *\n",
    "\n",
    "Hour angle of observation e.g., '-3h'.\n",
    "\n"
   ]
  },
  {
   "cell_type": "markdown",
   "metadata": {},
   "source": [
    "##### *totaltime *\n",
    "\n",
    "The total time of observations. This should either be a scalar time\n",
    "quantity expressed as a string e.g., '1h', '3600sec', '10min', or a\n",
    "vector of such quantities, corresponding to the elements of the\n",
    "antennalist vector, e.g., \\['5min','20min','3h'\\]. If you specify a\n",
    "scalar, that will be used for the highest resolution 12m configuration\n",
    "in antennalist, and any lower resolution 12m configurations, any 7m\n",
    "configurations, and any TP configurations will have observing times\n",
    "relative to totaltime of 0.5, 2,and 4, respectively.&nbsp;&nbsp;\n",
    "\n"
   ]
  },
  {
   "cell_type": "markdown",
   "metadata": {},
   "source": [
    "##### *tpnant *\n",
    "\n",
    "The number of total power antennas to use in simulation.&nbsp;&nbsp;\n",
    "\n"
   ]
  },
  {
   "cell_type": "markdown",
   "metadata": {},
   "source": [
    "##### *tptime *\n",
    "\n",
    "If *tpnant\\>0*, the user must specify the observing time for total power\n",
    "as a CASA quantity e.g., '4h'.\n",
    "\n",
    "**NOTE**: This is not broken up among multiple days - a 20h track will\n",
    "include observations below the horizon,&nbsp; which is probably not what\n",
    "is desired.&nbsp;&nbsp;\n",
    "\n"
   ]
  },
  {
   "cell_type": "markdown",
   "metadata": {},
   "source": [
    "##### *pwv *\n",
    "\n",
    "Precipitable water vapor. If constructing an atmospheric model, set 0\n",
    "for noise-free simulation. When *pwv*\\>0, thermal noise is applied to\n",
    "the simulated data. J. Pardo's ATM library will be used to construct\n",
    "anatmospheric profile for the ALMA site: altitude 5000m, ground pressure\n",
    "650mbar, relhum=20%, a water layer of pwv at altitude of 2km, the sky\n",
    "brightness temperature returned by ATM, and internally tabulated\n",
    "receiver temperatures. See the documentation of **simobserve** for more\n",
    "details.&nbsp;&nbsp;\n",
    "\n"
   ]
  },
  {
   "cell_type": "markdown",
   "metadata": {},
   "source": [
    "##### *image *\n",
    "\n",
    "An option to invert and deconvolve the simulated MeasurementSet(s)\n",
    "\n",
    "**NOTE**: Interactive clean or more parameters than the subset visible\n",
    "here are available by simply running either **clean** or **tclean**\n",
    "tasks directly.\n",
    "\n",
    "If graphics turned on, display the clean image and residual image uses\n",
    "Cotton-Schwab clean for single fields and Mosaic gridding for multiple\n",
    "fields (with Clark PSF calculation in minor cycles).&nbsp;&nbsp;\n",
    "\n"
   ]
  },
  {
   "cell_type": "markdown",
   "metadata": {},
   "source": [
    "##### *imsize *\n",
    "\n",
    "The image size in spatial pixels (x,y). 0 or -1 will use the model image\n",
    "size. Examples: imsize=\\[500,500\\]\n",
    "\n"
   ]
  },
  {
   "cell_type": "markdown",
   "metadata": {},
   "source": [
    "##### *imdirection *\n",
    "\n",
    "The phase center for synthesized image. Default is to center on the sky\n",
    "model.\n",
    "\n"
   ]
  },
  {
   "cell_type": "markdown",
   "metadata": {},
   "source": [
    "##### *cell *\n",
    "\n",
    "Cell size e.g., \"10arcsec\". *cell = \" \"* defaults to the skymodel cell.\n",
    "\n"
   ]
  },
  {
   "cell_type": "markdown",
   "metadata": {},
   "source": [
    "##### *niter *\n",
    "\n",
    "The number of clean/deconvolution iterations, 0 for no cleaning.\n",
    "\n"
   ]
  },
  {
   "cell_type": "markdown",
   "metadata": {},
   "source": [
    "##### *threshold *\n",
    "\n",
    "The flux level at which to stop cleaning.\n",
    "\n"
   ]
  },
  {
   "cell_type": "markdown",
   "metadata": {},
   "source": [
    "##### *graphics *\n",
    "\n",
    "View plots on the screen, saved to file, both, or neither.\n",
    "\n"
   ]
  },
  {
   "cell_type": "markdown",
   "metadata": {},
   "source": [
    "##### *verbose*\n",
    "\n",
    "Print extra information to the logger and terminal.\n",
    "\n"
   ]
  },
  {
   "cell_type": "markdown",
   "metadata": {},
   "source": [
    "##### *overwrite*\n",
    "\n",
    "Overwrite existing files in the project subdirectory. Please see the\n",
    "documents of **simobserve** and **simanalyze** for the list of outputs\n",
    "produced.\n",
    "\n",
    "&nbsp;"
   ]
  },
  {
   "cell_type": "markdown",
   "metadata": {
    "nbsphinx-toctree": {
     "hidden": true
    }
   },
   "source": [
    "[Description](task_simalma/about)\n",
    "[Examples](task_simalma/examples)\n"
   ]
  }
 ],
 "metadata": {},
 "nbformat": 4,
 "nbformat_minor": 5
}
