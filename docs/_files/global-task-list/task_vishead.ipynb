{
 "cells": [
  {
   "cell_type": "markdown",
   "metadata": {},
   "source": [
    "# vishead\n",
    "\n",
    "task vishead description\n",
    "\n",
    "&nbsp;&nbsp;&nbsp;&nbsp;&nbsp;&nbsp;&nbsp; This task allows the user to\n",
    "manipulate some meta-data keywords in a measurement set. The mode='list'\n",
    "shows those keywords that are presently implemented, with their values.\n",
    "The contents associated with the keywords can be obtained with *mode='get'* and changed with *mode='put'*.   \n",
    "  \n",
    "&nbsp;&nbsp;&nbsp;&nbsp;&nbsp;&nbsp;&nbsp; The modes that are available\n",
    "are:\n",
    "\n",
    "-   list: List all keywords that are recognized, and\n",
    "    list the value(s) for each.&nbsp; Only these keywords can be\n",
    "    obtained (get) or changed (put)\n",
    "-   summary: Provides a summary that is equivalent to\n",
    "    running **listobs(verbose=False)**\n",
    "-   get: Get the specified keyword value(s) from the\n",
    "    ms\n",
    "-   put: Put the specified keyword value(s) into the\n",
    "    ms\n",
    "\n",
    "&nbsp;&nbsp;&nbsp;&nbsp;&nbsp;&nbsp;&nbsp; Keywords currently\n",
    "implemented are:\n",
    "\n",
    "-   cal_grp &nbsp;\n",
    "    &nbsp; &nbsp; &nbsp; &nbsp; &nbsp;&nbsp; \n",
    "-   field (Field names)\n",
    "-   fld_code (Field Observing codes)\n",
    "-   freq_group_name&nbsp; &nbsp; &nbsp;&nbsp;\n",
    "    \n",
    "-   log&nbsp;\n",
    "    &nbsp; &nbsp; &nbsp; &nbsp; &nbsp; &nbsp; &nbsp; &nbsp;&nbsp;\n",
    "    \n",
    "-   observer\n",
    "    (Observer name)\n",
    "-   project (Project name)\n",
    "-   ptcs\n",
    "    (Phase tracking centers for each field)\n",
    "-   release_date\n",
    "-   schedule\n",
    "-   schedule_type\n",
    "-   spw_name&nbsp; &nbsp; &nbsp; &nbsp; &nbsp; &nbsp;\n",
    "    &nbsp;&nbsp;\n",
    "-   source_name &nbsp; &nbsp; &nbsp; &nbsp;&nbsp;\n",
    "    \n",
    "-   telescope (Telescope Name)\n",
    "\n",
    "&nbsp;&nbsp;&nbsp;&nbsp;&nbsp;&nbsp;&nbsp; Note that the default list of\n",
    "keywords is a subset of the former list. To get  \n",
    "&nbsp;&nbsp;&nbsp;&nbsp;&nbsp;&nbsp;&nbsp; all the keywords mentioned\n",
    "above set listitemts=\\[\\]. See the Parameter pages of vishead for more\n",
    "details.\n",
    "\n",
    "More information can also be found in the CASA Docs pages on [Listing\n",
    "and Changing MS\n",
    "Metadata](https://casa.nrao.edu/casadocs-devel/stable/calibration-and-visibility-data/data-examination-and-editing/listing-and-manipulating-ms-metadata).\n",
    "\n",
    "&nbsp;"
   ]
  },
  {
   "cell_type": "markdown",
   "metadata": {
    "nbsphinx-toctree": {
     "hidden": true
    }
   },
   "source": [
    "[Description](task_vishead/about)\n",
    "[Examples](task_vishead/examples)\n"
   ]
  }
 ],
 "metadata": {},
 "nbformat": 4,
 "nbformat_minor": 5
}
