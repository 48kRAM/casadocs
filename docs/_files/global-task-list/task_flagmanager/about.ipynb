{
 "cells": [
  {
   "cell_type": "markdown",
   "metadata": {},
   "source": [
    "# Description\n",
    "\n",
    "task description\n",
    "\n",
    "This task can manage flag backups of a MeasurementSet. flag backups (or\n",
    "versions) are copies of the FLAG column of a MeasurementSet, which are\n",
    "saved as a directory on disk with the same basename of the MS from which\n",
    "it was created, with a \\*.flagversions suffix. The flag backups can be\n",
    "restored to the data set from which they were created in order to get\n",
    "back to a previous flag version. On running **importasdm**, a flag\n",
    "version called 'Original' is produced by default. It is recommended to\n",
    "save a flag backup at the beginning or after serious editing.  \n",
    "\n",
    "**WARNING**: The flag versions created from one MS should not be\n",
    "restored to another MS. They are unique to the MS from which they were\n",
    "created. In the case of flags created from a\n",
    "[Multi-MS](https://casa.nrao.edu/casadocs-devel/stable/parallel-processing/the-multi-ms),\n",
    "it is not possible to restore the flag versions to a serial MS and vice\n",
    "versa.\n",
    "\n",
    "**flagmanager** also returns a dictionary\n",
    "for mode='list', returning the flag version names and comments. \n",
    "\n",
    "More information on flagmanager is also available in the [Data\n",
    "Examination and\n",
    "Editing](https://casa.nrao.edu/casadocs-devel/stable/calibration-and-visibility-data/data-examination-and-editing/managing-flag-versions-flagmanager)\n",
    "pages of CASAdocs.  \n",
    "\n",
    " \n",
    "\n"
   ]
  },
  {
   "cell_type": "markdown",
   "metadata": {},
   "source": [
    "## Parameter description\n",
    "\n"
   ]
  },
  {
   "cell_type": "markdown",
   "metadata": {},
   "source": [
    "##### *vis*\n",
    "\n",
    "Name of input MeasurementSet or Multi-MS from where the flags were\n",
    "created.\n",
    "\n"
   ]
  },
  {
   "cell_type": "markdown",
   "metadata": {},
   "source": [
    "##### *mode*\n",
    "\n",
    "Flag version operation. Below is the list of options for the *mode*\n",
    "parameter:\n",
    "\n",
    "-   'list': list existing flag versions\n",
    "-   'save': save the FLAG column from *vis* to a specified flag file. If\n",
    "    the name given in *versionname* already exists, the task will give a\n",
    "    warning and rename it to a name with a suffix '.old.timestamp'. The\n",
    "    respective entry in FLAG_VERSION_LIST will also be updated.\n",
    "-   'restore': restore the specified flag file into the MeasurementSet\n",
    "    given in *vis*\n",
    "-   'delete': delete the specified flag file\n",
    "-   'rename': will rename a specified flag file\n",
    "\n"
   ]
  },
  {
   "cell_type": "markdown",
   "metadata": {},
   "source": [
    "#### *mode='save', 'restore', 'delete', 'rename'* expandable parameters\n",
    "\n"
   ]
  },
  {
   "cell_type": "markdown",
   "metadata": {},
   "source": [
    "##### *versionname*\n",
    "\n",
    "Flag version name. The default is none*.* There should be no embedded\n",
    "blanks in the *versionname*.\n",
    "\n"
   ]
  },
  {
   "cell_type": "markdown",
   "metadata": {},
   "source": [
    "#### *mode='save', 'rename'* expandable parameters\n",
    "\n"
   ]
  },
  {
   "cell_type": "markdown",
   "metadata": {},
   "source": [
    "##### *comment*\n",
    "\n",
    "Short description of a *versionname*, when mode is 'save' or 'rename'.\n",
    "\n"
   ]
  },
  {
   "cell_type": "markdown",
   "metadata": {},
   "source": [
    "#### *mode='save', 'restore'* expandable parameters\n",
    "\n"
   ]
  },
  {
   "cell_type": "markdown",
   "metadata": {},
   "source": [
    "##### *merge*\n",
    "\n",
    "Merge operation to use when saving the flags. Options available are:\n",
    "'replace', and the experimental 'or', 'and'. Use the last two options at\n",
    "your own risk.\n",
    "\n"
   ]
  },
  {
   "cell_type": "markdown",
   "metadata": {},
   "source": [
    "#### *mode='rename'* expandable parameters\n",
    "\n"
   ]
  },
  {
   "cell_type": "markdown",
   "metadata": {},
   "source": [
    "##### *oldname*\n",
    "\n",
    "This parameter give the *oldname* of the flag versions when\n",
    "*mode='rename'*."
   ]
  }
 ],
 "metadata": {},
 "nbformat": 4,
 "nbformat_minor": 5
}
