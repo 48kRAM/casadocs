{
 "cells": [
  {
   "cell_type": "markdown",
   "metadata": {},
   "source": [
    "# Examples\n",
    "\n",
    "\\"
   ]
  },
  {
   "cell_type": "markdown",
   "metadata": {},
   "source": [
    "## get image history, print to log window, and store as an array of  \n",
    "\\"
   ]
  },
  {
   "cell_type": "markdown",
   "metadata": {},
   "source": [
    "## strings in variable x  \n",
    "x = imhistory(\"my.im\", mode=\"list\", verbose=True)  \n",
    "  \n",
    "\\"
   ]
  },
  {
   "cell_type": "markdown",
   "metadata": {},
   "source": [
    "## append a message  \n",
    "imhistory(\"my.im\", origin=\"myorigin\", message=\"ETI signal found in this\n",
    "image!\", mode=\"append\")"
   ]
  }
 ],
 "metadata": {},
 "nbformat": 4,
 "nbformat_minor": 5
}
