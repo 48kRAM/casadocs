{
 "cells": [
  {
   "cell_type": "markdown",
   "metadata": {},
   "source": [
    "# Examples\n",
    "\n",
    "task cvel examples\n",
    "\n",
    "**Example 1: **\n",
    "\n",
    "Regrid 'myMS.ms' to a new 'myMSregridded.ms' using veolicty mode and a\n",
    "LSRK radio velocity definition.  The output data has a structure of 10\n",
    "channels, starting at 123 km/s with a width of 0.1km/s. We use the HI\n",
    "rest frequency of 1.420405752 GHz. \n",
    "\n",
    "cvel(vis='myMS.ms', outputvis='myMSregridded.ms', outframe='LSRK',\n",
    "mode='velocity', veltype='radio', restfreq='1.420405752GHz', nchan=10,\n",
    "start='123km/s', width='0.1km/s')\n",
    "\n",
    "**Example 2: **\n",
    "\n",
    "Regrid the same MS, but this time using channel mode. We start at\n",
    "channel 5, and create 10 new output channels, grouping 7 channels in the\n",
    "new bins. We also run the output MS in reverse spectral order (note the\n",
    "negative value of width). This time we request a BARYcentric frame and\n",
    "use the interpolation method 'fftshift'.\n",
    "\n",
    "cvel(vis='myMS.ms', outputvis='myMSregridded.ms', outframe='BARY', \n",
    "mode='channel', nchan=10, start=5, width=-7, interpolation='fftshift')"
   ]
  }
 ],
 "metadata": {},
 "nbformat": 4,
 "nbformat_minor": 5
}
