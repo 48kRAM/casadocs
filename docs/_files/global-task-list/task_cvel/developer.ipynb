{
 "cells": [
  {
   "cell_type": "markdown",
   "metadata": {},
   "source": [
    "# Developer\n",
    "\n",
    "task cvel developer\n",
    "\n",
    "--CASA Developer--"
   ]
  }
 ],
 "metadata": {},
 "nbformat": 4,
 "nbformat_minor": 5
}
