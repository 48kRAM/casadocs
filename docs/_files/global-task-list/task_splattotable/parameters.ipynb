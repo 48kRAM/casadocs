{
 "cells": [
  {
   "cell_type": "markdown",
   "metadata": {},
   "source": [
    "# Parameters\n",
    "\n",
    "task parameters\n",
    "\n",
    "filenames : stringArray\n",
    "\n",
    "Files containing Splatalogue lists. The downloaded files must be in a\n",
    "specific format for this task to succeed. Fro details, see the\n",
    "splattotable task pages on CASA Docs (https://casa.nrao.edu/casadocs/)\n",
    "\n",
    "Example\n",
    "\n",
    "\\[\"mysplat1.txt\", \"mysplat2,txt\"\\]\n",
    "\n",
    "table : string\n",
    "\n",
    "Output table name. Must be specified.\n",
    "\n",
    "Example\n",
    "\n",
    "\"mysplat.tbl\""
   ]
  }
 ],
 "metadata": {},
 "nbformat": 4,
 "nbformat_minor": 5
}
