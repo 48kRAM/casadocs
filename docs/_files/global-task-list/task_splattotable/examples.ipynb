{
 "cells": [
  {
   "cell_type": "markdown",
   "metadata": {},
   "source": [
    "# Examples\n",
    "\n",
    "task examples\n",
    "\n",
    "To write two spectral line lists, 'mysplatlist1.txt'\n",
    "and 'mysplatlist2.txt', into a single spectral line table\n",
    "'mynewsl.tbl':  \n",
    "\n",
    "\n",
    "splattotable(filenames=\\['mysplatlist1.txt',mysplatlist2.txt'\\],\n",
    "table='mynewsl.tbl')\n",
    "\n",
    " "
   ]
  }
 ],
 "metadata": {},
 "nbformat": 4,
 "nbformat_minor": 5
}
