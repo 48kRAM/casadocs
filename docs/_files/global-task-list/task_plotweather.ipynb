{
 "cells": [
  {
   "cell_type": "markdown",
   "metadata": {},
   "source": [
    "# plotweather\n",
    "\n",
    "task description\n",
    "\n",
    "This task is intended for VLA use only. Plots elements\n",
    "of the weather table; estimates opacity.\n",
    "\n",
    "Generates opacity estimates from both the weather data\n",
    "and a seasonal model. By default the returned\n",
    "opacity is the mean of these predictions, but this can be adjusted with\n",
    "seasonal_weight. Please note that the&nbsp;opacity determined in\n",
    "this manner is only a rough estimate&nbsp;which could propagate to an\n",
    "error when bootstrapping the flux density.\n",
    "\n",
    " These methods and models are described in detail in\n",
    "[EVLA Memo\n",
    "143](https://library.nrao.edu/public/memos/evla/EVLAM_143.pdf), [VLA\n",
    "Test Memo\n",
    "232](https://library.nrao.edu/public/memos/vla/test/VLAT_232.pdf), [VLA\n",
    "Scientific Memo\n",
    "176](https://library.nrao.edu/public/memos/vla/sci/VLAS_176.pdf), and\n",
    "references therein.\n",
    "\n",
    "Saves the plot to the following default file:&nbsp; MS name + .plotweather.png.\n",
    "Custom plot filenames must end in one of: .png, .pdf, .ps, .eps or\n",
    ".svg\n",
    "\n",
    "If run as a function, will return the mean zenith\n",
    "opacity per spectral window.\n",
    "\n",
    "The wind direction is defined as the direction where\n",
    "the wind is coming from (the arrow points into\n",
    "the wind), with north at&nbsp;the top and\n",
    "counterclockwise through west, south, and east. "
   ]
  },
  {
   "cell_type": "markdown",
   "metadata": {
    "nbsphinx-toctree": {
     "hidden": true
    }
   },
   "source": [
    "[Description](task_plotweather/about)\n",
    "[Parameters](task_plotweather/parameters)\n",
    "[Changelog](task_plotweather/changelog)\n",
    "[Examples](task_plotweather/examples)\n",
    "[Developer](task_plotweather/developer)\n"
   ]
  }
 ],
 "metadata": {},
 "nbformat": 4,
 "nbformat_minor": 5
}
