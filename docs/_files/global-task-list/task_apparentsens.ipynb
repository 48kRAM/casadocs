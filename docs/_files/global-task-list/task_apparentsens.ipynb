{
 "cells": [
  {
   "cell_type": "markdown",
   "metadata": {},
   "source": [
    "# apparentsens\n",
    "\n",
    "Estimate imaging sensitivity from visibility weights and imaging\n",
    "parameters\n",
    "\n",
    "The **apparentsens** task calculates the point source sensitivity for\n",
    "the specified selected data, and according to the desired imaging\n",
    "geometry and uv grid weighting. The calculation is performed solely\n",
    "using the weight information stored in the MS WEIGHT column (or\n",
    "WEIGHT_SPECTRUM, if present), and as adjusted by the net imaging\n",
    "weighting function (natural, uniform, robust, taper, etc.). Therefore,\n",
    "it is assumed that the MS WEIGHTs have been properly initialized and\n",
    "calibrated along with the visibility data. As long as the WEIGHTs are in\n",
    "the inverse square units of the visibilities (i.e., inverse variance\n",
    "weights), the calculation should yield a reasonably accurate theoretical\n",
    "imaging sensitivity for data at any stage of the calibration (though\n",
    "data at early and intermediate stages of calibration may not be\n",
    "sufficiently coherent for imaging at high&ndash;or even\n",
    "modest&ndash;fidelity).\n",
    "\n",
    "Two values are returned in a dictionary and reported in the logger.\n",
    "First, the apparent sensitivity (in the units implied by the\n",
    "WEIGHTs&rsquo; units), for the specified imaging geometry and weighting\n",
    "scheme (dictionary key: 'effSens').\n",
    "Second, a unitless factor describing the ratio of the apparent\n",
    "sensitivity to that obtained with pure &rsquo;natural&rsquo; weighting\n",
    "(the nominal maximum possible sensitivity; dictionary key: 'relToNat').\n",
    "When &rsquo;natural&rsquo; weighting is selected, this ratio factor will\n",
    "be precisely 1.0; all other weighting choices will yield an apparent\n",
    "sensitivity ratio greater than 1.0.&nbsp; I.e., all non-natural\n",
    "weighting schemes are *less* sensitive (higher rms) than natural.&nbsp;\n",
    "\n",
    "Currently, **apparentsens** reports only the continuum sensitivity for\n",
    "the selected data, and in particular, for the aggregate bandwidth\n",
    "indicated by the spectral window selection. The calculation further\n",
    "assumes that the visibility samples are each entirely independent, i.e.,\n",
    "that there are no redundant samples such as would occur for overlapping\n",
    "spectral windows.&nbsp; If the per-channel visibility weights reflect\n",
    "their own isolated sensitivity, the reported *continuum* sensitivity\n",
    "will be over-estimated if the data have been smoothed (i.e., Hanning\n",
    "smoothed channels individually have sensitivity a factor 8/3 times their\n",
    "apparent bandwidth, and this factor is not yet accounted for when\n",
    "forming the continuum sensitivity estimate). &nbsp;\n",
    "\n",
    "A future version of **apparentsens** will support reporting a\n",
    "sensitivity spectrum for the spectral line case. For now, spectral line\n",
    "sensitivity may be reasonably estimated by dividing the reported\n",
    "continuum sensitivity by the square root of the fractional bandwidth of\n",
    "a single image channel, or by selecting a bandwidth matching the width\n",
    "of a single image channel. &nbsp; In either case, sufficient care should\n",
    "be applied with respect to the additional per-channel sensitivity\n",
    "introduced by having smoothed (e.g., Hanning) the visilbility, as\n",
    "described above.\n",
    "\n",
    "&nbsp;\n",
    "\n"
   ]
  },
  {
   "cell_type": "markdown",
   "metadata": {},
   "source": [
    "## Parameter descriptions\n",
    "\n",
    "The **apparentsens** task use the same data selection as the **tclean**\n",
    "task, as well as a subset of the image geometry and weighting\n",
    "parameters.&nbsp; All operate in essentially the same way (with\n",
    "exceptions noted below), and the **tclean** documentation should be\n",
    "consulted for details on how to set them.\n",
    "\n"
   ]
  },
  {
   "cell_type": "markdown",
   "metadata": {},
   "source": [
    "##### *specmode*\n",
    "\n",
    "For now, it is only meaningful to use specmode='mfs'.&nbsp; Use of\n",
    "specmode='cube' will be supported in future (and a apparent sensitivity\n",
    "spectrum will be returned and reported).\n",
    "\n"
   ]
  },
  {
   "cell_type": "markdown",
   "metadata": {},
   "source": [
    "##### *stokes*\n",
    "\n",
    "Currently, **apparentsens** will report the sensitivity for stokes='I'\n",
    "only.&nbsp; Support for polarization-dependent sensitivity estimates\n",
    "will be added in future.\n",
    "\n",
    "&nbsp;\n",
    "\n"
   ]
  },
  {
   "cell_type": "markdown",
   "metadata": {},
   "source": [
    "##### *&nbsp;*\n",
    "\n"
   ]
  },
  {
   "cell_type": "markdown",
   "metadata": {},
   "source": [
    "##### *&nbsp;*\n",
    "\n",
    "&nbsp;"
   ]
  },
  {
   "cell_type": "markdown",
   "metadata": {
    "nbsphinx-toctree": {
     "hidden": true
    }
   },
   "source": [
    "[Description](task_apparentsens/about)\n",
    "[Parameters](task_apparentsens/parameters)\n",
    "[Changelog](task_apparentsens/changelog)\n",
    "[Examples](task_apparentsens/examples)\n",
    "[Developer](task_apparentsens/developer)\n"
   ]
  }
 ],
 "metadata": {},
 "nbformat": 4,
 "nbformat_minor": 5
}
