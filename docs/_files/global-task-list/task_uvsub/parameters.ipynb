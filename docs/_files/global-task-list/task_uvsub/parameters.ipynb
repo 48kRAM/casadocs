{
 "cells": [
  {
   "cell_type": "markdown",
   "metadata": {},
   "source": [
    "# Parameters\n",
    "\n",
    "task parameters\n",
    "\n",
    "vis : string\n",
    "\n",
    "Name of input visibility file (MS)\n",
    "\n",
    "Example\n",
    "\n",
    "vis='ngc5921.ms'\n",
    "\n",
    "reverse : bool = False\n",
    "\n",
    "reverse the operation (add rather than subtract)\n",
    "\n",
    "Example"
   ]
  }
 ],
 "metadata": {},
 "nbformat": 4,
 "nbformat_minor": 5
}
