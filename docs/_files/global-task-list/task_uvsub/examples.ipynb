{
 "cells": [
  {
   "cell_type": "markdown",
   "metadata": {},
   "source": [
    "# Examples\n",
    "\n",
    "task examples\n",
    "\n",
    "To subtract model visibilities stored in the MODEL_DATA\n",
    "column from the corrected visibility data in the CORRECTED_DATA column\n",
    "of a MeasurementSet, and write the residual visibilities back into the\n",
    "CORRECTED_DATA column:\n",
    "\n",
    "uvsub(vis='filename.ms', reverse=False)"
   ]
  }
 ],
 "metadata": {},
 "nbformat": 4,
 "nbformat_minor": 5
}
