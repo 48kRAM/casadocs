{
 "cells": [
  {
   "cell_type": "markdown",
   "metadata": {},
   "source": [
    "# Examples\n",
    "\n",
    "task examples\n",
    "\n",
    "Apply&nbsp;Hanning smoothing on the CORRECTED column. The output will be\n",
    "saved into the DATA column.\n",
    "\n",
    "hanningsmooth(vis='example.ms', outputvis='test.ms',\n",
    "datacolumn='corrected')\n",
    "\n",
    "Apply Hanning smoothing on all visibility columns of the Multi-MS. In\n",
    "this case, if CASA is started with\n",
    "[mpicasa](https://casa.nrao.edu/casadocs-devel/stable/parallel-processing/parallelization-control),\n",
    "the processing will happen in parallel.\n",
    "\n",
    "hanningsmooth(vis='example.mms', outputvis='test.mms') --\\> default\n",
    "\n",
    "hanningsmooth(vis='example.mms', outputvis='test.mms', datacolumn='all',\n",
    "keepmms=True) --\\> set the parameters explicitly\n",
    "\n",
    "&nbsp;"
   ]
  }
 ],
 "metadata": {},
 "nbformat": 4,
 "nbformat_minor": 5
}
