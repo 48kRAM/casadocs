{
 "cells": [
  {
   "cell_type": "markdown",
   "metadata": {},
   "source": [
    "# Description\n",
    "\n",
    "task description\n",
    "\n",
    "This is the new implementation of **hanningsmooth**.\n",
    "\n",
    "\\* Task **hanningsmooth2** has been renamed to **hanningsmooth**.  \n",
    "\\* Please, update your scripts to call **hanningsmooth** instead.\n",
    "\n",
    "The new **hanningsmooth** task uses the MSTransform framework underneath\n",
    "but keeps roughly the same interface as previous version of\n",
    "hanningsmooth.\n",
    "\n",
    "This function Hanning smooths the frequency channels with a weighted\n",
    "running average. The weights are 0.5 for the central channel and 0.25\n",
    "for each of the two adjacent channels. The first and last channels are\n",
    "flagged. Inclusion of a flagged value in an average causes that data\n",
    "value to be flagged.\n",
    "\n",
    "If the *CORRECTED* data column is requested for an MS that does not\n",
    "contain this column, it will use *DATA* to calculate the smoothing and\n",
    "save it to *DATA* in the output MS.\n",
    "\n",
    "WARNING: by default, all visibility columns will be smoothed.\n",
    "\n"
   ]
  },
  {
   "cell_type": "markdown",
   "metadata": {},
   "source": [
    "## Parameter Descriptions\n",
    "\n"
   ]
  },
  {
   "cell_type": "markdown",
   "metadata": {},
   "source": [
    "#### Input and output MeasurementSets\n",
    "\n",
    "The input visibility file (MS or MMS) given by the *vis* parameters will\n",
    "be Hanning smoothed and saved in an output given by\n",
    "the *outputvis* parameter.\n",
    "\n",
    "For example, *vis* = \\['ngc5921.ms'\\]*, output*vis** =\n",
    "'out_ngc5921.mms'. \n",
    "\n"
   ]
  },
  {
   "cell_type": "markdown",
   "metadata": {},
   "source": [
    "#### Output MS or Multi-MS: keepmms parameter\n",
    "\n",
    "If *keepmms* = True, a\n",
    "[Multi-MS](https://casa.nrao.edu/casadocs-devel/stable/parallel-processing/the-multi-ms)\n",
    "will be created as the output if the input is a Multi-MS(MMS), which is\n",
    "the default behaviour. The output Multi-MS will have the same partition\n",
    "axis of the input MMS. See the [Parallel\n",
    "Processing](https://casa.nrao.edu/casadocs-devel/stable/parallel-processing)\n",
    "chapter for more information on the MMS format.\n",
    "\n"
   ]
  },
  {
   "cell_type": "markdown",
   "metadata": {},
   "source": [
    "#### Data Column parameter\n",
    "\n",
    "The parameter *datacolumn* chooses which column to use for the\n",
    "processing (case-insensitive). The default is set to all columns that\n",
    "exist in the input MS. \n",
    "\n"
   ]
  },
  {
   "cell_type": "markdown",
   "metadata": {},
   "source": [
    "#### Data Selection parameters\n",
    "\n",
    "For more details on how to perform data selection within the MS (i.e.,\n",
    "selecting by field, SPW, antenna, etc.), see the [Visibility Data\n",
    "Selection](resolveuid/5e08acd0d7cf4de1ab2a0e2fd34adfc7) chapter."
   ]
  }
 ],
 "metadata": {},
 "nbformat": 4,
 "nbformat_minor": 5
}
