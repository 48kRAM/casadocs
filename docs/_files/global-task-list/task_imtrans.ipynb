{
 "cells": [
  {
   "cell_type": "markdown",
   "metadata": {},
   "source": [
    "# imtrans\n",
    "\n",
    "imtrans task: Reorder image axes\n",
    "\n",
    "This task reorders (transposes) the axes in the input image to the\n",
    "specified order. The associated pixel values and coordinate system are\n",
    "transposed.\n",
    "\n",
    "The *order* parameter describes the mapping of the input axes to the\n",
    "output axes. It can be one of three types: a non-negative integer, a\n",
    "string, or a list of strings. If a string or non-negative integer, it\n",
    "should contain zero-based digits describing the new order of the input\n",
    "axes. It must contain the same number of (unique) digits as the number\n",
    "of input axes. For example, specifying *order=\"1032\"* or *order=1032*\n",
    "for a four axes image maps input axes 1, 0, 3, 2 to output axes 0, 1, 2,\n",
    "3. In the case of order being a nonnegative integer and the zeroth axis\n",
    "in the input being mapped to zeroth axis in the output, the zeroth digit\n",
    "is implicitly understood to be 0, so that to transpose an image where\n",
    "one would use a string *order=\"0321\"*, one could equivalently specify an\n",
    "int *order=321*. IMPORTANT: When specifying a non-negative integer and\n",
    "mapping the zeroth axis of the input to the zeroth axis of the output,\n",
    "do **not** explicitly specify the leading 0; e.g., specify *order=321*\n",
    "rather than *order=0321*. Python interprets an integer with a leading 0\n",
    "as an octal number.\n",
    "\n",
    "Because of ambiguity for axes numbers greater than nine, using string or\n",
    "integer order specifications cannot handle images containing more than\n",
    "10 axes. The order parameter can also be specified as a list of strings\n",
    "which uniquely match, ignoring case, the first characters of the image\n",
    "axis names (ia.coordsys().names()). So to reorder an image with right\n",
    "ascension, declination, and frequency axes, one could specify\n",
    "*order=\\[\"d\", \"f\", \"r\"\\]* or equivalently *\\[\"decl\", \"frequ\", \"right\n",
    "a\"\\]*. Note that specifying \"ra\" for the right ascension axis will\n",
    "result in an error because \"ra\" does not match the first two characters\n",
    "of \"right ascension\". Axes can be simultaneously inverted in cases where\n",
    "order is a string or an array of strings by specifying negative signs in\n",
    "front of the axis/axes to be inverted. So, in a 4-D image,\n",
    "*order=\"-10-3-2\"* maps input axes 1, 0, 3, 2 to output axes 0, 1, 2, 3\n",
    "and reverses the direction and values of input axes 1, 3, and 2."
   ]
  },
  {
   "cell_type": "markdown",
   "metadata": {
    "nbsphinx-toctree": {
     "hidden": true
    }
   },
   "source": [
    "[Description](task_imtrans/about)\n",
    "[Parameters](task_imtrans/parameters)\n",
    "[Changelog](task_imtrans/changelog)\n",
    "[Examples](task_imtrans/examples)\n",
    "[Developer](task_imtrans/developer)\n"
   ]
  }
 ],
 "metadata": {},
 "nbformat": 4,
 "nbformat_minor": 5
}
