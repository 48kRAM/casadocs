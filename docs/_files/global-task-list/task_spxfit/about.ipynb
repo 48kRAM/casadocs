{
 "cells": [
  {
   "cell_type": "markdown",
   "metadata": {},
   "source": [
    "# Description\n",
    "\n",
    "spxfit task: Fit a 1-dimensional model(s) to an image(s) or region for\n",
    "determination of spectral index.\n",
    "\n",
    "This task fits a power logarithmic polynomial or a logarithmic\n",
    "tranformed polynomial to one-dimensional profiles for determination of\n",
    "spectral indices.\n",
    "\n",
    "This application performs a non-linear, least squares fits using the\n",
    "Levenberg-Marquardt algorithm of either a power logarithmic polynomial\n",
    "or a logarithmic tranformed polynomial to pixel values along a specified\n",
    "axis of an image or images. A description of the fitting algorithm may\n",
    "be found in AIPS++ Note 224\n",
    "<a href=\"#cit1\" id=\"ref-cit1\" class=\"ref-cit\">[1]</a> and in Numerical\n",
    "Recipes <a href=\"#cit2\" id=\"ref-cit2\" class=\"ref-cit\">[2]</a>. These\n",
    "functions are most often used for fitting the spectral index and higher\n",
    "order terms of a spectrum. A power logarithmic polynomial (plp) has the\n",
    "form\n",
    "\n",
    "y =\n",
    "c<sub>0</sub>\\*(x/div)<sup>\\[c<sub>1</sub>\\ +\\ c<sub>2</sub>\\*ln(x/div)\\ +\\ c<sub>3</sub>\\*ln(x/div)</sup>$^2$ + ...\n",
    "+ c<sub>n</sub>\\*ln(x/div)$^{(n-1)}$\\]\n",
    "\n",
    "In the case of fitting a spectral index, which is traditionally\n",
    "represented as $\\alpha$, the $\\alpha$ is equal\n",
    "to c<sub>1</sub>.\n",
    "\n",
    "A logarithmic transformed polynomial (ltp) is simply the result of this\n",
    "equation after taking the natural log of both sides so that it has the\n",
    "form\n",
    "\n",
    "ln(y) = c<sub>0</sub> + c<sub>1</sub>\\*ln(x/div) +\n",
    "c<sub>2</sub>\\*ln(x/div)<sup>2</sup> + ... +\n",
    "c<sub>n</sub>\\*ln(x/div)<sup>n</sup>\n",
    "\n",
    "Because the logarithm of the ordinate values must be taken before\n",
    "fitting a logarithmic transformed polynomial, all non-positive pixel\n",
    "values are effectively masked for the purposes of fitting.\n",
    "\n",
    "The coefficients of the two forms are equal to each other except that\n",
    "c<sub>0</sub> in the second equation is equal to ln(c<sub>0</sub>) of\n",
    "the first.\n",
    "\n",
    "In both cases, div is a numerical value used to scale abscissa values so\n",
    "they are closer to unity when they are sent to the fitter. This\n",
    "generally improves the probability that the fit will converge. This\n",
    "parameter may be specified via the *div* parameter. A value of 0 (the\n",
    "default) indicates that the application should determine a reasonable\n",
    "value for div, which is determined via\n",
    "\n",
    "div = 10<sup></sup>$int[log_{10}\\sqrt{min(x)*max(x)}]$\n",
    "\n",
    "where min(x) and max(x) are the minimum and maximum abscissa values,\n",
    "respectively.\n",
    "\n",
    "The number of values specified in the *spxest* array indicate the number\n",
    "of coefficients for which to solve. If *multifit=True*, the values\n",
    "provided in the *spxest* array are used as initial estimates at every\n",
    "pixel. So, for example, if S($\\nu$) is proportional to $\\nu^{\\alpha}$\n",
    "and you expect alpha to be near -0.8 and the value of S($\\nu$) is 1.5 at\n",
    "10$^9$ Hz\n",
    "and your image(s) have spectral units of Hz, you would specify\n",
    "*spxest=\\[1.5, -0.8\\]* and *div=1e9* when fitting a plp function, or\n",
    "*spxest=\\[0.405, -0.8\\]* and *div=1e9* if fitting an ltp function close\n",
    "to ln(1.5) - 0.8\\*ln(x/div).\n",
    "\n"
   ]
  },
  {
   "cell_type": "markdown",
   "metadata": {},
   "source": [
    "##  A CAUTIONARY NOTE\n",
    "\n",
    "Note that the likelihood of getting a reliable solution increases with\n",
    "the number of good data points as well as the goodness of the initial\n",
    "estimate. It is possible that the first solution found might not be the\n",
    "best one, and so, if a solution is found, it is recommended that the fit\n",
    "be repeated using the solution of the previous fit as the initial\n",
    "estimate for the new fit. This process should be repeated until the\n",
    "solutions from one fit to the next differ only insignificantly. The\n",
    "convergent solution is very likely the best solution.\n",
    "\n"
   ]
  },
  {
   "cell_type": "markdown",
   "metadata": {},
   "source": [
    "## AXIS\n",
    "\n",
    "The *axis* parameter indicates on which axis profiles should be fit; a\n",
    "negative value indicates the spectral axis should be used, or if one\n",
    "does not exist, that the zeroth axis should be used.\n",
    "\n"
   ]
  },
  {
   "cell_type": "markdown",
   "metadata": {},
   "source": [
    "## MINIMUM NUMBER OF PIXELS\n",
    "\n",
    "The *minpts* parameter indicates the minimum number of unmasked pixels\n",
    "that must be present in order for a fit to be attempted. When\n",
    "*multifit=True*, positions with too few good points will be masked in\n",
    "any output images.\n",
    "\n"
   ]
  },
  {
   "cell_type": "markdown",
   "metadata": {},
   "source": [
    "## ONE FIT OF REGION AVERAGE OR PIXEL BY PIXEL FIT\n",
    "\n",
    "The *multifit* parameter indicates if profiles should be fit at each\n",
    "pixel in the selected region (true), or if the profiles in that region\n",
    "should be averaged and the fit done to that average profile (false).\n",
    "\n"
   ]
  },
  {
   "cell_type": "markdown",
   "metadata": {},
   "source": [
    "## FUNCTION TYPE\n",
    "\n",
    "Which function to fit is specified in the *spxtype* parameter. Only two\n",
    "values (case insensitive) are supported. A value of \"plp\" indicates that\n",
    "a power logarithmic polynomial should be fit. A value of \"ltp\" indicates\n",
    "a logarithmic transformed polynomial should be fit.\n",
    "\n"
   ]
  },
  {
   "cell_type": "markdown",
   "metadata": {},
   "source": [
    "## INCLUDING STANDARD DEVIATIONS OF PIXEL VALUES\n",
    "\n",
    "If the standard deviations of the pixel values in the input image are\n",
    "known and they vary in the image (e.g. they are higher for pixels near\n",
    "the edge of the band), they can be included in the *sigma* parameter.\n",
    "This parameter takes either an array or an image name. The array or\n",
    "image must have one of three shapes:\n",
    "\n",
    "1.  the shape of the input image,\n",
    "2.  the same dimensions as the input image with the lengths of all axes\n",
    "    being one except for the fit axis which must have length\n",
    "    corresponding to its length in the input image, or\n",
    "3.  be one dimensional with lenght equal the the length of the fit axis\n",
    "    in the input image.\n",
    "\n",
    "In cases 2 and 3, the array or pixels in sigma will be replicated such\n",
    "that the image that is ultimately used is the same shape as the input\n",
    "image. The values of sigma must be non-negative. It is only the relative\n",
    "values that are important. A value of 0 means that pixel should not be\n",
    "used in the fit. Other than that, if pixel A has a higher standard\n",
    "deviation than pixel B, then pixel A is noisier than pixel B and will\n",
    "receive a lower weight when the fit is done. The weight of a pixel is\n",
    "the usual\n",
    "\n",
    "weight = $\\frac{1}{\\sigma^2}$\n",
    "\n",
    "In the case of *multifit=F*, the sigma values at each pixel along the\n",
    "fit axis in the hyperplane perpendicular to the fit axis which includes\n",
    "that pixel are averaged and the resultant averaged standard deviation\n",
    "spectrum is the one used in the fit. Internally, sigma values are\n",
    "normalized such that the maximum value is 1. This mitigates a known\n",
    "overflow issue.\n",
    "\n",
    "One can write the normalized standard deviation image used in the fit by\n",
    "specifying its name in *outsigma*. This image can then be used as sigma\n",
    "for subsequent runs.\n",
    "\n"
   ]
  },
  {
   "cell_type": "markdown",
   "metadata": {},
   "source": [
    "## RETURNED DICTIONARY STRUCTURE\n",
    "\n",
    "The returned dictionary has a (necessarily) complex structure. First,\n",
    "there are keys \"xUnit\" and \"yUnit\" whose values are the abscissa unit\n",
    "and the ordinate unit described by simple strings. Next there are arrays\n",
    "giving a broad overview of the fit quality. These arrays have the shape\n",
    "of the specified region collapsed along the fit axis with the axis\n",
    "corresponding to the fit axis having length of 1:\n",
    "\n",
    "ATTEMPTED: a boolean array indicating which fits were attempted (e.g. if\n",
    "too few unmasked points, a fit will not be attempted).  \n",
    "CONVERGED: a boolean array indicating which fits converged. False if the\n",
    "fit was not attempted.  \n",
    "VALID: a boolean array indicating which solutions fall within the\n",
    "specified valid ranges of parameter space (any solution for which a\n",
    "value or error is NaN is automatically marked as invalid)  \n",
    "NITER: an int array indicating the number of iterations for each\n",
    "profile, \\<0 if the fit did not converge  \n",
    "DIRECTION: a string array containing the world direction coordinate for\n",
    "each profile\n",
    "\n",
    "There is a \"type\" array having number of dimensions equal to the number\n",
    "of dimensions in the above arrays plus one. The shape of the first n-1\n",
    "dimensions is the same as the shape of the above arrays. The length of\n",
    "the last dimension is equal to the number of components fit. The values\n",
    "of this array are all \"POWER LOGARITHMIC POLYNOMIAL\" or \"LOGARITHMIC\n",
    "TRANSFORMED POLYNOMIAL\", depending on which type function was fit.\n",
    "\n",
    "There will be a subdictionary accessible via the \"plp\" or \"ltp\" key\n",
    "(depending on which type of function was fit) which will have subkeys\n",
    "\"solution\" and \"error\" which will each have an array of values. Each of\n",
    "these arrays will have one more dimension than the overview arrays\n",
    "described above. The shape of the first n-1 dimensions will be the same\n",
    "as the shape of the overview arrays described above, while the final\n",
    "dimension will have length equal to the number of parameters that were\n",
    "fit. Along this axis will be the corresponding fit result or associated\n",
    "error (depending on the array's associated key) of the fit. In cases\n",
    "where the fit was not attempted or did not converge, a value of NAN will\n",
    "be present.\n",
    "\n"
   ]
  },
  {
   "cell_type": "markdown",
   "metadata": {},
   "source": [
    "## OUTPUT IMAGES\n",
    "\n",
    "In addition to the returned dictionary, optionally one or more of any\n",
    "combination of output images can be written. The model and residual\n",
    "parameters indicate the names of the model and residual images to be\n",
    "written; empty values indicate that these images should not be written.\n",
    "\n",
    "The parameters *spxsol* and *spxerr* are the names of the solution and\n",
    "error images to write, respectively. In cases where more than one\n",
    "coefficient are fit, the image names will be appended with an underscore\n",
    "followed by the relevant coefficient number (\"\\_0\", \"\\_1\", etc). These\n",
    "images contain the arrays for the associated parameter solutions or\n",
    "errors described in previous sections. Pixels for which fits were not\n",
    "attempted, did not converge, or converged but have values of NaN (not a\n",
    "number) or INF (infinity) will be masked as bad.\n",
    "\n"
   ]
  },
  {
   "cell_type": "markdown",
   "metadata": {},
   "source": [
    "## LPT vs PLP\n",
    "\n",
    "Ultimately, the choice of which functional form to use in determining\n",
    "the spectral index is up to the user and should be based on the\n",
    "scientific goals. However, below is a summary of one user's experience\n",
    "and preferences as an example:\n",
    "\n",
    "If the weights are known or can be determined from the images (e.g. the\n",
    "source-free image rms and a fractional calibration error) then a\n",
    "weighted fit using the non-linear (power-law) model is preferred. An\n",
    "unweighted fit using the non-linear model will, in general, give far too\n",
    "much leverage to large flux values.\n",
    "\n",
    "If the weights are unknown or will not be considered by the fitting\n",
    "algorithm, then the log-transformed polynomial model is preferred.\n",
    "However, this does not work well in low signal-to-noise regions. A\n",
    "conservative mask could be created such that only high S/N areas are\n",
    "fit, but this could hinder many science objectives.\n",
    "\n",
    "&nbsp;\n",
    "\n",
    "|                 |                                                                                           |\n",
    "|:----------------|-------------------------------------------------------------------------------------------|\n",
    "| Citation Number | 1                                                                                         |\n",
    "| Citation Text   | Brouw, Wim, 1999 ([Web](http://www.astron.nl/casacore/trunk/casacore/doc/notes/224.html)) |\n",
    "\n",
    "|                 |                                                                                                                                     |\n",
    "|:----------------|-------------------------------------------------------------------------------------------------------------------------------------|\n",
    "| Citation Number | 2                                                                                                                                   |\n",
    "| Citation Text   | W.H. Press et al. 1988, Cambridge University Press ([PDF](http://www2.units.it/ipl/students_area/imm2/files/Numerical_Recipes.pdf)) |\n",
    "\n",
    "&nbsp;\n",
    "\n"
   ]
  },
  {
   "cell_type": "markdown",
   "metadata": {},
   "source": [
    "## Task specific parameters summary\n",
    "\n"
   ]
  },
  {
   "cell_type": "markdown",
   "metadata": {},
   "source": [
    "##### *axis*\n",
    "\n",
    "The profile axis. Default (\\<0): use the spectral axis if one exists,\n",
    "axis 0 otherwise.\n",
    "\n"
   ]
  },
  {
   "cell_type": "markdown",
   "metadata": {},
   "source": [
    "##### *minpts*\n",
    "\n",
    "Minimum number of unmasked points necessary to attempt fit.\n",
    "\n"
   ]
  },
  {
   "cell_type": "markdown",
   "metadata": {},
   "source": [
    "##### *multifit*\n",
    "\n",
    "If true, fit a profile along the desired axis at each pixel in the\n",
    "specified region. If false, average the non-fit axis pixels and do a\n",
    "single fit to that average profile. Default False.\n",
    "\n"
   ]
  },
  {
   "cell_type": "markdown",
   "metadata": {},
   "source": [
    "##### *spxtype*\n",
    "\n",
    "Type of function to fit. \"plp\" = power logarithmic polynomial, \"ltp\" =\n",
    "logarithmic transformed polynomial.\n",
    "\n"
   ]
  },
  {
   "cell_type": "markdown",
   "metadata": {},
   "source": [
    "##### *spxest*\n",
    "\n",
    "REQUIRED. Initial estimates as array of numerical values for the\n",
    "spectral index function coefficients. eg \\[1.5, -0.8\\] if fitting a plp\n",
    "function thought to be close to 1.5\\*(x/div)\\*\\*(-0.8) or \\[0.4055,\n",
    "-0.8\\] if fitting an lpt function thought to be close to ln(1.5) -\n",
    "0.8\\*ln(x/div).\n",
    "\n",
    "*spxfix*\n",
    "\n",
    "Fix the corresponding spectral index function coefficients during the\n",
    "fit. True means hold fixed.\n",
    "\n"
   ]
  },
  {
   "cell_type": "markdown",
   "metadata": {},
   "source": [
    "##### *div*\n",
    "\n",
    "Divisor (numerical value or quantity) to use in the logarithmic terms of\n",
    "the plp or ltp function. 0 means calculate a useful value on the fly.\n",
    "\n"
   ]
  },
  {
   "cell_type": "markdown",
   "metadata": {},
   "source": [
    "##### *spxsol*\n",
    "\n",
    "Name of the spectral index function coefficient solution image to write.\n",
    "\n"
   ]
  },
  {
   "cell_type": "markdown",
   "metadata": {},
   "source": [
    "##### *spxerr*\n",
    "\n",
    "Name of the spectral index function coefficient error image to write.\n",
    "\n"
   ]
  },
  {
   "cell_type": "markdown",
   "metadata": {},
   "source": [
    "##### *model*\n",
    "\n",
    "Name of model image. Default (\"\"): do not write the model image.\n",
    "\n"
   ]
  },
  {
   "cell_type": "markdown",
   "metadata": {},
   "source": [
    "##### *residual*\n",
    "\n",
    "Name of residual image. Default (\"\"): do not write the residual image.\n",
    "\n"
   ]
  },
  {
   "cell_type": "markdown",
   "metadata": {},
   "source": [
    "##### *wantreturn*\n",
    "\n",
    "Should a record summarizing the results be returned?\n",
    "\n"
   ]
  },
  {
   "cell_type": "markdown",
   "metadata": {},
   "source": [
    "##### *logresults*\n",
    "\n",
    "Output results to logger?\n",
    "\n"
   ]
  },
  {
   "cell_type": "markdown",
   "metadata": {},
   "source": [
    "##### *logfile*\n",
    "\n",
    "File in which to log results. Default is not to write a logfile.\n",
    "\n"
   ]
  },
  {
   "cell_type": "markdown",
   "metadata": {},
   "source": [
    "##### *append*\n",
    "\n",
    "Append results to logfile? Logfile must be specified. Default is to\n",
    "append. False means overwrite existing file if it exists.\n",
    "\n"
   ]
  },
  {
   "cell_type": "markdown",
   "metadata": {},
   "source": [
    "##### *sigma*\n",
    "\n",
    "Standard deviation array or image name(s).\n",
    "\n"
   ]
  },
  {
   "cell_type": "markdown",
   "metadata": {},
   "source": [
    "##### *outsigma*\n",
    "\n",
    "Name of output image used for standard deviation. Ignored if sigma is\n",
    "empty.\n",
    "\n",
    "&nbsp;\n",
    "\n",
    "Bibliography\n",
    "\n",
    "  \n",
    "<sup>1.\\ Brouw,\\ Wim,\\ 1999\\ ([Web](http://www.astron.nl/casacore/trunk/casacore/doc/notes/224.html))\\ [&larrhk;](#ref-cit1 \"Jump back to citation 1 in the text.\")</sup>\n",
    "\n",
    "  \n",
    "<sup>2.\\ W.H.\\ Press\\ et\\ al.\\ 1988,\\ Cambridge\\ University\\ Press\\ ([PDF](http://www2.units.it/ipl/students_area/imm2/files/Numerical_Recipes.pdf))\\ [&larrhk;](#ref-cit2 \"Jump back to citation 2 in the text.\")</sup>"
   ]
  }
 ],
 "metadata": {},
 "nbformat": 4,
 "nbformat_minor": 5
}
