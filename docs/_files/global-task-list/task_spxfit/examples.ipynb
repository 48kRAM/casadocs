{
 "cells": [
  {
   "cell_type": "markdown",
   "metadata": {},
   "source": [
    "# Examples\n",
    "\n",
    "task examples\n",
    "\n",
    "\\"
   ]
  },
  {
   "cell_type": "markdown",
   "metadata": {},
   "source": [
    "## fit c0, c1, and c2 in a power log polynomial using two images. Do a\n",
    "pixel by pixel fit. Use initial estimates of c0=0.5, c1=2, and c2=0.1.\n",
    "Scale frequencies by dividing them by 1GHz. Write the solution images.\n",
    "\n",
    "res = spxfit(imagename=\\[\"im0.im\",\"im1.im\"\\], multifit=True,\n",
    "spxtype=\"plp\", spxest=\\[0.5,2,0.1\\], div=\"1GHz\",\n",
    "spxsol=\"myplpsolutions.im\")"
   ]
  }
 ],
 "metadata": {},
 "nbformat": 4,
 "nbformat_minor": 5
}
