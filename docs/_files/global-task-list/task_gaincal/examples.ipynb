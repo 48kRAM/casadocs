{
 "cells": [
  {
   "cell_type": "markdown",
   "metadata": {},
   "source": [
    "# Examples\n",
    "\n",
    "task examples\n",
    "\n",
    "To solve for G on, say, fields 1 & 2, on a 90s timescale, and do so\n",
    "relative to gaincurve and bandpass corrections:\n",
    "\n",
    "gaincal('data.ms',  \n",
    "        caltable='cal.G90s',          \\"
   ]
  },
  {
   "cell_type": "markdown",
   "metadata": {},
   "source": [
    "## Write solutions to disk file\n",
    "'cal.G'  \n",
    "        field='0,1',                  \\"
   ]
  },
  {
   "cell_type": "markdown",
   "metadata": {},
   "source": [
    "## Restrict field selection  \n",
    "        solint='90s',                 \\"
   ]
  },
  {
   "cell_type": "markdown",
   "metadata": {},
   "source": [
    "## Solve for phase and amp on a\n",
    "90s timescale  \n",
    "        gaintable=\\['cal.B','cal.gc'\\], \\"
   ]
  },
  {
   "cell_type": "markdown",
   "metadata": {},
   "source": [
    "## prior bandpass and gaincurve\n",
    "tables  \n",
    "        refant='3')                   \\"
   ]
  },
  {
   "cell_type": "markdown",
   "metadata": {},
   "source": [
    "## reference antenna\n",
    "\n",
    "To solve for more rapid tropopheric gains (3s timescale) using the above\n",
    "G solution, use *gaintype='T'*:\n",
    "\n",
    "gaincal(vis='data.ms',  \n",
    "        caltable='cal.T',             \\"
   ]
  },
  {
   "cell_type": "markdown",
   "metadata": {},
   "source": [
    "## Output table name  \n",
    "        gaintype='T',                 \\"
   ]
  },
  {
   "cell_type": "markdown",
   "metadata": {},
   "source": [
    "## Solve for T\n",
    "(polarization-independent)  \n",
    "        field='0,1',                  \\"
   ]
  },
  {
   "cell_type": "markdown",
   "metadata": {},
   "source": [
    "## Restrict data selection to\n",
    "calibrators  \n",
    "        solint='3s',                  \\"
   ]
  },
  {
   "cell_type": "markdown",
   "metadata": {},
   "source": [
    "## Obtain solutions on a 3s\n",
    "timescale  \n",
    "        gaintable=\\['cal.B','cal.gc','cal.G90s'\\],   \\"
   ]
  },
  {
   "cell_type": "markdown",
   "metadata": {},
   "source": [
    "## all prior cal  \n",
    "        refant='3')                   \\"
   ]
  },
  {
   "cell_type": "markdown",
   "metadata": {},
   "source": [
    "## reference antenna\n",
    "\n",
    " \n",
    "\n",
    "To solve for GSPLINE phase and amplitudes, with splines of duration 600\n",
    "seconds:\n",
    "\n",
    "gaincal('data.ms',  \n",
    "        caltable='cal.spline.ap',  \n",
    "        gaintype='GSPLINE'       \\"
   ]
  },
  {
   "cell_type": "markdown",
   "metadata": {},
   "source": [
    "##   Solve for GSPLINE  \n",
    "        calmode='ap'             \\"
   ]
  },
  {
   "cell_type": "markdown",
   "metadata": {},
   "source": [
    "##   Solve for amp & phase  \n",
    "        field='0,1',             \\"
   ]
  },
  {
   "cell_type": "markdown",
   "metadata": {},
   "source": [
    "##   Restrict data selection to\n",
    "calibrators  \n",
    "        splinetime=600.)         \\"
   ]
  },
  {
   "cell_type": "markdown",
   "metadata": {},
   "source": [
    "##   Set spline timescale to 10min"
   ]
  }
 ],
 "metadata": {},
 "nbformat": 4,
 "nbformat_minor": 5
}
