{
 "cells": [
  {
   "cell_type": "markdown",
   "metadata": {},
   "source": [
    "# Author Notes\n",
    "\n",
    "Scratch file for content creator. This file should remain in private\n",
    "state.\n",
    "\n",
    "Scratch page for content creator.&nbsp; This page should remain in\n",
    "private state.\n",
    "\n"
   ]
  },
  {
   "cell_type": "markdown",
   "metadata": {},
   "source": [
    "## George's notes:\n",
    "\n"
   ]
  },
  {
   "cell_type": "markdown",
   "metadata": {},
   "source": [
    "### Description page\n",
    "\n",
    "TBD:\n",
    "\n",
    "-   Add a discusion of refant\n",
    "-   Add solnorm mini-section\n",
    "\n"
   ]
  },
  {
   "cell_type": "markdown",
   "metadata": {},
   "source": [
    "### Examples page\n",
    "\n",
    "TBD:\n",
    "\n",
    "-   Improve GSPLINE example using priors\n",
    "\n",
    "&nbsp;"
   ]
  }
 ],
 "metadata": {},
 "nbformat": 4,
 "nbformat_minor": 5
}
