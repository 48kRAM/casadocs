{
 "cells": [
  {
   "cell_type": "markdown",
   "metadata": {},
   "source": [
    "# Examples\n",
    "\n",
    "task examples\n",
    "\n",
    "To generate and plot opacity estimates, using the mean\n",
    "between predictions based on the weather data and seasonal model:\n",
    "\n",
    "myTau = plotweather(vis='myMS.ms', seasonal_weight=0.5,\n",
    "doPlot=True)"
   ]
  }
 ],
 "metadata": {},
 "nbformat": 4,
 "nbformat_minor": 5
}
