{
 "cells": [
  {
   "cell_type": "markdown",
   "metadata": {},
   "source": [
    "# Parameters\n",
    "\n",
    "task parameters\n",
    "\n",
    "vis : string\n",
    "\n",
    "MS name\n",
    "\n",
    "Example\n",
    "\n",
    "seasonal_weight : double = 0.5\n",
    "\n",
    "weight of the seasonal model\n",
    "\n",
    "Example\n",
    "\n",
    "doPlot : bool = True\n",
    "\n",
    "set this to True to create a plot\n",
    "\n",
    "Example\n",
    "\n",
    "plotName : string\n",
    "\n",
    "(Optional) the name of the plot file\n",
    "\n",
    "Example"
   ]
  }
 ],
 "metadata": {},
 "nbformat": 4,
 "nbformat_minor": 5
}
