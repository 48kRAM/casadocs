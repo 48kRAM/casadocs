{
 "cells": [
  {
   "cell_type": "markdown",
   "metadata": {},
   "source": [
    "# Examples\n",
    "\n",
    "task examples\n",
    "\n",
    "To apply a prioritized list of reference antennas using\n",
    "*refantmode='flex'*:\n",
    "\n",
    "rerefant(vis='n5921.ms',  \n",
    "         tablein='n5921.gcal',  \n",
    "         caltable='n5921_ea03ish.gcal',  \\"
   ]
  },
  {
   "cell_type": "markdown",
   "metadata": {},
   "source": [
    "## Output caltable  \n",
    "         refant='ea03,ea05,ea23,ea01',   \\"
   ]
  },
  {
   "cell_type": "markdown",
   "metadata": {},
   "source": [
    "## prioritized list of\n",
    "reference antennas  \n",
    "         refantmode='flex')              \\"
   ]
  },
  {
   "cell_type": "markdown",
   "metadata": {},
   "source": [
    "## flexible use of alternates\n",
    "\n",
    "To strictly apply a preferred reference antenna:\n",
    "\n",
    "rerefant(vis='n5921.ms',  \n",
    "         tablein='n5921.gcal',  \n",
    "         caltable='n5921_ea03.gcal',     \\"
   ]
  },
  {
   "cell_type": "markdown",
   "metadata": {},
   "source": [
    "## Output caltable  \n",
    "         refant='ea03',                  \\"
   ]
  },
  {
   "cell_type": "markdown",
   "metadata": {},
   "source": [
    "## the strictly preferred\n",
    "reference antenna  \n",
    "         refantmode='strict')            \\"
   ]
  },
  {
   "cell_type": "markdown",
   "metadata": {},
   "source": [
    "## strict!"
   ]
  }
 ],
 "metadata": {},
 "nbformat": 4,
 "nbformat_minor": 5
}
