{
 "cells": [
  {
   "cell_type": "markdown",
   "metadata": {},
   "source": [
    "# importmiriad\n",
    "\n",
    "Convert a Miriad visibility dataset into a CASA MeasurementSet\n",
    "\n",
    "The task **importmiriad** allows one to import visibilities in the\n",
    "MIRIAD data format to be converted to a MeasurementSet. The task has\n",
    "mainly been tested on data from the ATCA and CARMA telescopes and the\n",
    "inputs are:\n",
    "\n",
    "\\#In\n",
    "CASA  \n",
    "\\#&nbsp;\n",
    "importmiriad :: Convert a Miriad visibility file into a CASA\n",
    "MeasurementSet  \n",
    "mirfile\n",
    "&nbsp; &nbsp; &nbsp; &nbsp; &nbsp; &nbsp; = &nbsp; &nbsp; &nbsp; &nbsp;\n",
    "''&nbsp; &nbsp; &nbsp; &nbsp; \\#&nbsp; Name of input Miriad visibility\n",
    "file  \n",
    "vis &nbsp;\n",
    "&nbsp; &nbsp; &nbsp; &nbsp; &nbsp; &nbsp; &nbsp; = &nbsp; &nbsp; &nbsp;\n",
    "&nbsp; ''&nbsp; &nbsp; &nbsp; &nbsp; \\#&nbsp; Name of output\n",
    "MeasurementSet  \n",
    "tsys&nbsp;\n",
    "&nbsp; &nbsp; &nbsp; &nbsp; &nbsp; &nbsp; &nbsp; =&nbsp; &nbsp; &nbsp;\n",
    "False&nbsp; &nbsp; &nbsp; &nbsp; \\#&nbsp; Use the Tsys to set the\n",
    "visibility  \n",
    "&nbsp;\n",
    "&nbsp; &nbsp; &nbsp; &nbsp; &nbsp; &nbsp; &nbsp; &nbsp; &nbsp; &nbsp;\n",
    "&nbsp; &nbsp; &nbsp; &nbsp; &nbsp; &nbsp; &nbsp; &nbsp; &nbsp; \\"
   ]
  },
  {
   "cell_type": "markdown",
   "metadata": {},
   "source": [
    "## &nbsp;\n",
    "weights  \n",
    "spw &nbsp;\n",
    "&nbsp; &nbsp; &nbsp; &nbsp; &nbsp; &nbsp; &nbsp; = &nbsp; &nbsp; &nbsp;\n",
    "\\[-1\\]&nbsp; &nbsp; &nbsp; &nbsp; \\#&nbsp; Select spectral windows,\n",
    "default is  \n",
    "&nbsp;\n",
    "&nbsp; &nbsp; &nbsp; &nbsp; &nbsp; &nbsp; &nbsp; &nbsp; &nbsp; &nbsp;\n",
    "&nbsp; &nbsp; &nbsp; &nbsp; &nbsp; &nbsp; &nbsp; &nbsp; &nbsp; \\"
   ]
  },
  {
   "cell_type": "markdown",
   "metadata": {},
   "source": [
    "## &nbsp;\n",
    "all  \n",
    "vel &nbsp;\n",
    "&nbsp; &nbsp; &nbsp; &nbsp; &nbsp; &nbsp; &nbsp; = &nbsp; &nbsp; &nbsp;\n",
    "&nbsp; ''&nbsp; &nbsp; &nbsp; &nbsp; \\#&nbsp; Select velocity\n",
    "reference  \n",
    "&nbsp;\n",
    "&nbsp; &nbsp; &nbsp; &nbsp; &nbsp; &nbsp; &nbsp; &nbsp; &nbsp; &nbsp;\n",
    "&nbsp; &nbsp; &nbsp; &nbsp; &nbsp; &nbsp; &nbsp; &nbsp; &nbsp; \\"
   ]
  },
  {
   "cell_type": "markdown",
   "metadata": {},
   "source": [
    "## &nbsp;\n",
    "(TOPO,LSRK,LSRD)  \n",
    "linecal\n",
    "&nbsp; &nbsp; &nbsp; &nbsp; &nbsp; &nbsp; =&nbsp; &nbsp; &nbsp;\n",
    "False&nbsp; &nbsp; &nbsp; &nbsp; \\#&nbsp; (CARMA) Apply line\n",
    "calibration  \n",
    "wide&nbsp;\n",
    "&nbsp; &nbsp; &nbsp; &nbsp; &nbsp; &nbsp; &nbsp; = &nbsp; &nbsp; &nbsp;\n",
    "&nbsp; \\[\\]&nbsp; &nbsp; &nbsp; &nbsp; \\#&nbsp; (CARMA) Select wide\n",
    "window averages  \n",
    "debug\n",
    "&nbsp; &nbsp; &nbsp; &nbsp; &nbsp; &nbsp; &nbsp; =&nbsp; &nbsp; &nbsp;\n",
    "&nbsp; &nbsp; 0&nbsp; &nbsp; &nbsp; &nbsp; \\#&nbsp; Display increasingly\n",
    "verbose debug  \n",
    "&nbsp;\n",
    "&nbsp; &nbsp; &nbsp; &nbsp; &nbsp; &nbsp; &nbsp; &nbsp; &nbsp; &nbsp;\n",
    "&nbsp; &nbsp; &nbsp; &nbsp; &nbsp; &nbsp; &nbsp; &nbsp; &nbsp; \\"
   ]
  },
  {
   "cell_type": "markdown",
   "metadata": {},
   "source": [
    "## &nbsp;\n",
    "messages\n",
    "\n",
    "-   The *mirfile* parameter specifies a single MIRIAD visibility dataset\n",
    "    which&nbsp;**must have any calibration done in MIRIAD already\n",
    "    applied to it**.&nbsp;MIRIAD&nbsp;calibration tables are usually\n",
    "    applied on the fly within MIRIAD;&nbsp;such steps (e.g., uvaver)\n",
    "    need to be taken within MIRIAD such that your\n",
    "    MIRIAD&nbsp;visibilities have the calibration permanently applied.\n",
    "-   Set the *tsys* parameter to True to change the visibility weights\n",
    "    from the MIRIAD default (usually the integration time) to the\n",
    "    inverse of the noise variance using the recorded system temperature.\n",
    "-   The *spw* parameter can be used to select all or some of the\n",
    "    simultaneous spectral windows from the input file. Use the default\n",
    "    of &rsquo;all&rsquo; for all the data or use e.g.,\n",
    "    spw=&rsquo;0,2&rsquo; to select the first and third window.\n",
    "-   The *vel* parameter can be used to set the output velocity frame\n",
    "    reference. For ATCA this defaults to &rsquo;TOPO&rsquo; and for\n",
    "    CARMA it defaults to &rsquo;LSRK&rsquo;. Only change this if your\n",
    "    data comes out with the incorrect velocity.\n",
    "-   The *linecal* parameter is only useful for CARMA data and can apply\n",
    "    the line calibration if it is stored with the MIRIAD data.\n",
    "-   The *wide* parameter is only useful for CARMA data and can select\n",
    "    which of the wide-band channels should be loaded."
   ]
  },
  {
   "cell_type": "markdown",
   "metadata": {
    "nbsphinx-toctree": {
     "hidden": true
    }
   },
   "source": [
    "[Description](task_importmiriad/about)\n",
    "[Parameters](task_importmiriad/parameters)\n",
    "[Changelog](task_importmiriad/changelog)\n",
    "[Examples](task_importmiriad/examples)\n",
    "[Developer](task_importmiriad/developer)\n"
   ]
  }
 ],
 "metadata": {},
 "nbformat": 4,
 "nbformat_minor": 5
}
