{
 "cells": [
  {
   "cell_type": "markdown",
   "metadata": {},
   "source": [
    "# imcontsub\n",
    "\n",
    "imcontsub task: Estimates and subtracts continuum emission from an image\n",
    "cube\n",
    "\n",
    "For each direction pixel in an image (or a subset selected by *region*\n",
    "and/or *box*), this task estimates the continuum by fitting a polynomial\n",
    "to one or more subsets of the channels. In most cases, the user should\n",
    "choose the subset(s) of channels to be free of spectral lines. The\n",
    "continuum estimate is saved in *contfile*&nbsp;and subtracted from the\n",
    "image (or its subset) to make a spectral line estimate, which is saved\n",
    "in *linefile*.\n",
    "\n",
    "While imcontsub offers&nbsp;users the&nbsp;option to save the continuum\n",
    "estimate as a (multi-channel) dataset, the optimal way to create a\n",
    "continuum image is by using the multi-frequency synthesis (MFS) option\n",
    "in **tclean**.\n",
    "\n",
    "Note that fitting the continuum and subtracting it from a spectral line\n",
    "data set can also be done in the *(u,v)*-domain using the task\n",
    "**uvcontsub**.\n",
    "\n",
    "&nbsp;\n",
    "\n"
   ]
  },
  {
   "cell_type": "markdown",
   "metadata": {},
   "source": [
    "## Task-specific Parameter Descriptions\n",
    "\n"
   ]
  },
  {
   "cell_type": "markdown",
   "metadata": {},
   "source": [
    "##### *linefile*\n",
    "\n",
    "Name of image to which to save the result of subtracting the computed\n",
    "continuum from the input image.\n",
    "\n"
   ]
  },
  {
   "cell_type": "markdown",
   "metadata": {},
   "source": [
    "##### *contfile*\n",
    "\n",
    "The computed continuum image.\n",
    "\n"
   ]
  },
  {
   "cell_type": "markdown",
   "metadata": {},
   "source": [
    "##### *fitorder*\n",
    "\n",
    "Order of polynomial to fit to the specified spectral channels to\n",
    "determine the continuum.\n",
    "\n"
   ]
  },
  {
   "cell_type": "markdown",
   "metadata": {},
   "source": [
    "##### *chans*\n",
    "\n",
    "Spectral channels to use for fitting a polynomial to determine\n",
    "continuum."
   ]
  },
  {
   "cell_type": "markdown",
   "metadata": {
    "nbsphinx-toctree": {
     "hidden": true
    }
   },
   "source": [
    "[Description](task_imcontsub/about)\n",
    "[Examples](task_imcontsub/examples)\n"
   ]
  }
 ],
 "metadata": {},
 "nbformat": 4,
 "nbformat_minor": 5
}
