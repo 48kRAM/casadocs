{
 "cells": [
  {
   "cell_type": "markdown",
   "metadata": {},
   "source": [
    "# Description\n",
    "\n",
    "browse a table (MS, calibration table, image)\n",
    "\n",
    "Brings up a browser that can open and display any CASA table (MS,\n",
    "calibration table, image). The *tablename* can be specified at startup,\n",
    "or any table can be loaded after the browser comes up. It is possible to\n",
    "edit any table and its contents using the \"Edit\" tab on the top bar, but\n",
    "be careful with this, and make a backup copy of the table before\n",
    "editing!\n",
    "\n",
    "The tab \"table keywords\" on the left side of the table browser will\n",
    "allow you to look at sub-tables by left-clicking and then view the\n",
    "desired sub-table. Another useful feature is to make a 2D plot of the\n",
    "values in two table columns.\n",
    "\n",
    "Use the \"Close Tables and Exit\" option from the Files menu to quit the\n",
    "**casabrowser**.\n",
    "\n",
    "A detailed description on how to use the table browser can be found in\n",
    "the Chapter pages on [\"Browsing through MeasurementSets and Calibration\n",
    "Tables\"](https://casa.nrao.edu/casadocs-devel/stable/calibration-and-visibility-data/data-examination-and-editing/browse-a-table).\n",
    "\n",
    " \n",
    "\n"
   ]
  },
  {
   "cell_type": "markdown",
   "metadata": {},
   "source": [
    "## Parameters\n",
    "\n"
   ]
  },
  {
   "cell_type": "markdown",
   "metadata": {},
   "source": [
    "##### *tablename*\n",
    "\n",
    "Name of table file on disk. For example *filename.ms*, *caltable.tbl*,\n",
    "*imagefile.image*, etc.\n",
    "\n"
   ]
  },
  {
   "cell_type": "markdown",
   "metadata": {},
   "source": [
    "##### *mightedit*\n",
    "\n",
    "If the default False is changed to True, this disables the filtering\n",
    "options and allows editing the table.\n",
    "\n",
    "**WARNING**: The GUI appears to ignore whether the table tool is opened\n",
    "read-only - just be aware that you should not edit filtered tables\n",
    "unless you know what you are doing!\n",
    "\n"
   ]
  },
  {
   "cell_type": "markdown",
   "metadata": {},
   "source": [
    "##### *sortlist* \n",
    "\n",
    "List of columns to sort by.\n",
    "\n"
   ]
  },
  {
   "cell_type": "markdown",
   "metadata": {},
   "source": [
    "##### *taql*     \n",
    "\n",
    "TaQL query string for prefiltering the table (see \"Examples\" tab at the\n",
    "top-right)\n",
    "\n"
   ]
  },
  {
   "cell_type": "markdown",
   "metadata": {},
   "source": [
    "##### *skipcols*\n",
    "\n",
    "Columns to NOT display. For example: *skipcols='feed1, feed2' *   \n",
    "\n",
    "              \n",
    "      \n",
    " ![e7b82ce6a699178fe6f43360bef6c38bb9c431bb.png](e7b82ce6a699178fe6f43360bef6c38bb9c431bb.png)\n",
    "\n",
    "|         |                                       |\n",
    "|:--------|---------------------------------------|\n",
    "| Type    | Figure 1                              |\n",
    "| ID      | CASA table brower                     |\n",
    "| Caption | CASA table browser with an MS loaded. |"
   ]
  }
 ],
 "metadata": {},
 "nbformat": 4,
 "nbformat_minor": 5
}
