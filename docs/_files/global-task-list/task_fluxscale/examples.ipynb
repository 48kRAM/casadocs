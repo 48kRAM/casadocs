{
 "cells": [
  {
   "cell_type": "markdown",
   "metadata": {},
   "source": [
    "# Examples\n",
    "\n",
    "task examples\n",
    "\n",
    "Given a *'G'* table, *'cal.G'*, containing solutions for a flux density\n",
    "calibrator, 3C286, and for two fields with unknown flux densities\n",
    "(*0234+285* and *0323+022*):\n",
    "\n",
    "fluxscale(vis='data.ms',  \n",
    "          caltable='cal.G',                  \\"
   ]
  },
  {
   "cell_type": "markdown",
   "metadata": {},
   "source": [
    "## Select input table  \n",
    "          fluxtable= 'cal.Gflx',             \\"
   ]
  },
  {
   "cell_type": "markdown",
   "metadata": {},
   "source": [
    "## Write scaled solutions\n",
    "to cal.Gflx  \n",
    "          incremental=True,                  \\"
   ]
  },
  {
   "cell_type": "markdown",
   "metadata": {},
   "source": [
    "## Generate an incremental\n",
    "output table  \n",
    "          reference='3C286',                 \\"
   ]
  },
  {
   "cell_type": "markdown",
   "metadata": {},
   "source": [
    "## 3C286 = flux\n",
    "calibrator  \n",
    "          transfer='0234+258, 0323+022')     \\"
   ]
  },
  {
   "cell_type": "markdown",
   "metadata": {},
   "source": [
    "## Select calibrators to\n",
    "scale\n",
    "\n",
    "The output table, *cal.Gflx*, contains per-field, per-spw scaling\n",
    "factors alone to be used along with the input gain table *cal.G* in\n",
    "subsequent operations, e.g., **applycal**. If *incremental=False* had\n",
    "been used, the output *fluxtable* should be used in place of the input\n",
    "*caltable* in subsequent operations.\n",
    "\n",
    " \n",
    "\n",
    "If transfer of the flux density scale among spws is required, use\n",
    "*refspwmap.* For example:\n",
    "\n",
    "fluxscale(vis='data.ms',  \n",
    "          caltable='cal.G',                  \\"
   ]
  },
  {
   "cell_type": "markdown",
   "metadata": {},
   "source": [
    "## Select input table  \n",
    "          fluxtable= 'cal.Gflx',             \\"
   ]
  },
  {
   "cell_type": "markdown",
   "metadata": {},
   "source": [
    "## Write scaled solutions\n",
    "to cal.Gflx  \n",
    "          reference='3C286',                 \\"
   ]
  },
  {
   "cell_type": "markdown",
   "metadata": {},
   "source": [
    "## 3C286 = flux\n",
    "calibrator  \n",
    "          transfer='0234+258,0323+022'       \\"
   ]
  },
  {
   "cell_type": "markdown",
   "metadata": {},
   "source": [
    "## Select calibrators to\n",
    "scale  \n",
    "          refspwmap=\\[0,0,0\\])                 \\"
   ]
  },
  {
   "cell_type": "markdown",
   "metadata": {},
   "source": [
    "## Use spwid 0 scaling\n",
    "for spwids 1 & 2\n",
    "\n",
    "will use the *reference* field gain amplitudes from spw=0 to scale the\n",
    "*transfer* field gain amplitudes in spws 0, 1 & 2.\n",
    "\n",
    " \n",
    "\n",
    "If the flux density calibrator is resolved, and an adequate model is not\n",
    "available, use *antenna* and *uvrange* selection in gaincal to limit the\n",
    "gain solutions to baselines satisfying the point-source assumption. For\n",
    "example, solve for the flux density calibrator (3C286) only, with\n",
    "limited data:\n",
    "\n",
    "gaincal(vis='data.ms',  \n",
    "        caltable='cal.G',        \\"
   ]
  },
  {
   "cell_type": "markdown",
   "metadata": {},
   "source": [
    "## write solutions to cal.G  \n",
    "        field='3C286'            \\"
   ]
  },
  {
   "cell_type": "markdown",
   "metadata": {},
   "source": [
    "## Select the flux density calibrator  \n",
    "        selectdata=True,         \\"
   ]
  },
  {
   "cell_type": "markdown",
   "metadata": {},
   "source": [
    "## Expand other selectors  \n",
    "        antenna='0\\~7',           \\"
   ]
  },
  {
   "cell_type": "markdown",
   "metadata": {},
   "source": [
    "##  antennas 0-7,  \n",
    "        uvrange='0\\~15klambda',   \\"
   ]
  },
  {
   "cell_type": "markdown",
   "metadata": {},
   "source": [
    "##  limit uvrange to 0-15klambda  \n",
    "        solint=90)               \\"
   ]
  },
  {
   "cell_type": "markdown",
   "metadata": {},
   "source": [
    "## on 90s timescale\n",
    "\n",
    "Then solve for the other (presumably point-like) calibrators using all\n",
    "antennas and baselines, and append to the same *caltable*:\n",
    "\n",
    "gaincal(vis='data.ms',  \n",
    "        caltable='cal.G',           \\"
   ]
  },
  {
   "cell_type": "markdown",
   "metadata": {},
   "source": [
    "## write solutions to cal.G  \n",
    "        field='0234+258,0323+022',  \\"
   ]
  },
  {
   "cell_type": "markdown",
   "metadata": {},
   "source": [
    "## point-like calibrators with\n",
    "unknown f.d.  \n",
    "        solint=90,  \n",
    "        append=True)                   \\"
   ]
  },
  {
   "cell_type": "markdown",
   "metadata": {},
   "source": [
    "## append to the same table\n",
    "\n",
    "Finally, run **fluxscale** on the aggregate *caltable*:\n",
    "\n",
    "fluxscale(vis='data.ms',  \n",
    "          caltable='cal.G',      \\"
   ]
  },
  {
   "cell_type": "markdown",
   "metadata": {},
   "source": [
    "## Input table with unscaled cal\n",
    "solutions  \n",
    "          fluxtable='cal.Gflx',  \\"
   ]
  },
  {
   "cell_type": "markdown",
   "metadata": {},
   "source": [
    "## Write scaled solutions to cal.Gflx  \n",
    "          reference='3C286',     \\"
   ]
  },
  {
   "cell_type": "markdown",
   "metadata": {},
   "source": [
    "## Use 3c286 as ref with limited\n",
    "uvrange  \n",
    "          transfer='0234+285,0323+022')   \\"
   ]
  },
  {
   "cell_type": "markdown",
   "metadata": {},
   "source": [
    "## Transfer scaling"
   ]
  }
 ],
 "metadata": {},
 "nbformat": 4,
 "nbformat_minor": 5
}
