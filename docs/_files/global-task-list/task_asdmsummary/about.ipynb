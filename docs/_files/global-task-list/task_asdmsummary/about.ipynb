{
 "cells": [
  {
   "cell_type": "markdown",
   "metadata": {},
   "source": [
    "# Description\n",
    "\n",
    "summarized description of an ASDM dataset\n",
    "\n"
   ]
  },
  {
   "cell_type": "markdown",
   "metadata": {},
   "source": [
    "## Summary\n",
    "\n",
    "Given an ASDM directory, this task will print information about the\n",
    "content of the dataset contained in that directory (down to the level of\n",
    "a subscan) in the CASA log.\n",
    "\n",
    " \n",
    "\n"
   ]
  },
  {
   "cell_type": "markdown",
   "metadata": {},
   "source": [
    "## Parameter descriptions\n",
    "\n"
   ]
  },
  {
   "cell_type": "markdown",
   "metadata": {},
   "source": [
    "##### *asdm*\n",
    "\n",
    "Name of input ASDM directory. Examples:\n",
    "*asdm='10C-119_sb3070258_1.55628.42186299768'*"
   ]
  }
 ],
 "metadata": {},
 "nbformat": 4,
 "nbformat_minor": 5
}
