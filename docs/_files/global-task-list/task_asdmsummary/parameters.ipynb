{
 "cells": [
  {
   "cell_type": "markdown",
   "metadata": {},
   "source": [
    "# Parameters\n",
    "\n",
    "task asdmsummary parameters\n",
    "\n",
    "asdm : string\n",
    "\n",
    "Name of input ASDM directory The asdmsummary task prints a description\n",
    "of the content of an SDM dataset to the CASA logger. Example:\n",
    "asdm='10C-119_sb3070258_1.55628.42186299768'\n",
    "\n",
    "Example"
   ]
  }
 ],
 "metadata": {},
 "nbformat": 4,
 "nbformat_minor": 5
}
