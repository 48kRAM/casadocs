{
 "cells": [
  {
   "cell_type": "markdown",
   "metadata": {},
   "source": [
    "# Example\n",
    "\n",
    "Example usage of sdgaincal\n",
    "\n",
    "There are two ways to generate and apply double-circle gaintable. One is\n",
    "to calibrate and apply atmosphere and sky calibrations separately, and\n",
    "the other is to apply them on-the-fly during double-circle gain\n",
    "calibration. The latter should be more efficient. Examples for these two\n",
    "procedures are shown below.\n",
    "\n"
   ]
  },
  {
   "cell_type": "markdown",
   "metadata": {},
   "source": [
    "### Apply atmosphere and sky caltables separately\n",
    "\n",
    "To compute a gaintable and subsequently apply it using **applycal**:\n",
    "\n",
    "1.  Generate the $T_{sky}$ and $T_{sys}$\n",
    "    calibration tables, and apply them (**sdcal**)\n",
    "2.  Split out the corrected column data (**split**)\n",
    "3.  Generate the double-circle gaincal calibration tables\n",
    "    (**sdgaincal**)\n",
    "4.  Apply the double-circle gaincal calibration tables (**applycal**)\n",
    "\n",
    "In CASA, this looks like the following:\n",
    "\n",
    "sdcal(infile=inputvis,\n",
    "calmode='ps,tsys,apply')  \n",
    "split(vis=inputvis,\n",
    "outputvis=calibratedvis, datacolumn='corrected')  \n",
    "sdgaincal(infile=calibratedvis,\n",
    "outfile='DCgaintable', calmode='doublecircle')  \n",
    "applycal(vis=calibratedvis,\n",
    "gaintable='DCgaintable')\n",
    "\n"
   ]
  },
  {
   "cell_type": "markdown",
   "metadata": {},
   "source": [
    "### Apply atmosphere and sky caltables on-the-fly\n",
    "\n",
    "To compute a gaintable and subsequently apply it using **applycal**:\n",
    "\n",
    "1.  Generate the $T_{sky}$ and $T_{sys}$\n",
    "    calibration tables (**sdcal**)\n",
    "2.  Generate the double-circle gaincal calibration tables by applying\n",
    "    $T_{sky}$ and $T_{sys}$\n",
    "    calibration tables on-the-fly (**sdgaincal**)\n",
    "    -   You can set *spwmap* and *interp* for each pre-application\n",
    "        caltable if necessary\n",
    "3.  Apply the double-circle gaincal calibration tables (**applycal**)\n",
    "\n",
    "In CASA, this looks like the following:\n",
    "\n",
    "sdcal(infile=inputvis, calmode='ps',\n",
    "outfile='sky.tbl')  \n",
    "sdcal(infile=inputvis, calmode='tsys',\n",
    "outfile='tsys.tbl')  \n",
    "sdgaincal(infile=inputvis,\n",
    "applytable=\\['sky.tbl', 'tsys.tbl'\\], outfile='DCgaintable',\n",
    "calmode='doublecircle')  \n",
    "applycal(vis=inputvis,\n",
    "gaintable='DCgaintable')"
   ]
  }
 ],
 "metadata": {},
 "nbformat": 4,
 "nbformat_minor": 5
}
