{
 "cells": [
  {
   "cell_type": "markdown",
   "metadata": {},
   "source": [
    "# listhistory\n",
    "\n",
    "task description\n",
    "\n",
    "Lists the processing history of a MeasurementSet.\n",
    "\n",
    "The list of all tasks and processing steps of a MeasurementSet will be\n",
    "written to the logger.\n",
    "\n",
    "&nbsp;"
   ]
  },
  {
   "cell_type": "markdown",
   "metadata": {
    "nbsphinx-toctree": {
     "hidden": true
    }
   },
   "source": [
    "[Description](task_listhistory/about)\n",
    "[Examples](task_listhistory/examples)\n"
   ]
  }
 ],
 "metadata": {},
 "nbformat": 4,
 "nbformat_minor": 5
}
