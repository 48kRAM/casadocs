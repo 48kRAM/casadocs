{
 "cells": [
  {
   "cell_type": "markdown",
   "metadata": {},
   "source": [
    "# importasap\n",
    "\n",
    "Convert ASAP Scantable data into a CASA visibility file (MS).\n",
    "\n",
    "This is the task to convert single-dish\n",
    "scantable data format (ATNF Spectral Analysis Package, ASAP) into a CASA\n",
    "visibility data format (MeasurementSet, MS) to enable processing of\n",
    "scantable-format datasets (e.g. Parkes, Mopra Telescopes at\n",
    "ATNF).\n",
    "\n",
    "Prior to CASA 4.5, most of the ALMA data\n",
    "reduction process was done in Scantable format. Later CASA versions\n",
    "shifted towards eliminating the dependence on Scantable format. From\n",
    "CASA 5.0, no processing/reduction is done in Scantable format, and data\n",
    "with Scantable format must be transformed into MS format before\n",
    "reduction."
   ]
  },
  {
   "cell_type": "markdown",
   "metadata": {
    "nbsphinx-toctree": {
     "hidden": true
    }
   },
   "source": [
    "[Description](task_importasap/about)\n",
    "[Parameters](task_importasap/parameters)\n",
    "[Changelog](task_importasap/changelog)\n",
    "[Examples](task_importasap/examples)\n",
    "[Developer](task_importasap/developer)\n"
   ]
  }
 ],
 "metadata": {},
 "nbformat": 4,
 "nbformat_minor": 5
}
