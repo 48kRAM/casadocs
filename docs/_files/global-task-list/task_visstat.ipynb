{
 "cells": [
  {
   "cell_type": "markdown",
   "metadata": {},
   "source": [
    "# visstat\n",
    "\n",
    "display statistical information from a Measurement Set, or from a\n",
    "Multi-MS\n",
    "\n",
    "This task returns a dictionary with\n",
    "statistical information about data in a MeasurementSet or\n",
    "Multi-MS.\n",
    "\n",
    "The following statistics are computed and\n",
    "added to the returned dictionary: mean value, minimum value, maximum\n",
    "value, sum of values, sum of squared values, sum of weights, median,\n",
    "median absolute deviation, first and third quartiles, minimum, maximum,\n",
    "variance, standard deviation, and root mean square. Two other fields\n",
    "indicate whether the data are weighted and whether they are masked. The\n",
    "field '*npts*' gives the number of data points.\n",
    "\n",
    "Statistics may be computed on any of the\n",
    "following axes: *flag, antenna1, antenna2, feed1, feed2, field_id,\n",
    "array_id, data_desc_id, flag_row, interval, scan, scan_number, time,\n",
    "weight, weight_spectrum, amp, amplitude, phase, real, imag,\n",
    "imaginary,*&nbsp;and *uvrange* (*weight, amp, imag* and *scan* are\n",
    "aliases for *weight_spectrum, amplitude, imaginary* and *scan_number*,\n",
    "respectively) Note that the statistics are computed on scalar values\n",
    "only; for example, the average amplitude is computed as a scalar\n",
    "average.\n",
    "\n",
    "Additionally, statistics for any axis may\n",
    "be computed on subsets of the MeasurementSet partitioned by values of\n",
    "data description id, field id or integration number. The\n",
    "*'reportingaxes'* argument is used to partition the sample set along an\n",
    "axis. For example, setting its value to *'ddid'* will result in the\n",
    "statistics of the chosen sample values partitioned by unique values of\n",
    "the data description id. Thus setting *'axis'* to *'amp'* and\n",
    "*'reportingaxes'* to *'ddid'* will report statistics of visibility\n",
    "amplitudes for each unique value of data description id in the\n",
    "MeasurementSet.\n",
    "\n",
    "When the '*reportingaxes*' argument is\n",
    "used to partition the data, if one of the partitions is completely\n",
    "flagged and useflags=True, the returned report for that partition will\n",
    "have the number of points set to zero and the statistics set to 'NaN'.\n",
    "For example, if *partitionaxes*='field', a list of fields is given, and\n",
    "some of the fields are completely flagged, the number of points reported\n",
    "for those fields will be 0 and their statistics 'NaN'.\n",
    "\n",
    "Besides returning the statistical\n",
    "information in a dictionary, this task prints the statistics to the CASA\n",
    "logger. When no valid data is found for some of the '*reportingaxes*'\n",
    "selections, it prints a warning about it.\n",
    "\n",
    "Optionally, the statistical information\n",
    "can be computed based only on a given subset of the&nbsp;MeasurementSet\n",
    "using selection parameters.\n",
    "\n",
    "**Note:** If the MS consists of\n",
    "inhomogeneous data, it may be necessary to use selection parameters to\n",
    "select a homogeneous subset of the MS. For example, if the MS\n",
    "contains&nbsp;several spectral windows, each having a different number\n",
    "of channels,&nbsp;use&nbsp;*spw='2'* to&nbsp;run **visstat**\n",
    "on&nbsp;homogenous data within the MS."
   ]
  },
  {
   "cell_type": "markdown",
   "metadata": {
    "nbsphinx-toctree": {
     "hidden": true
    }
   },
   "source": [
    "[Description](task_visstat/about)\n",
    "[Parameters](task_visstat/parameters)\n",
    "[Changelog](task_visstat/changelog)\n",
    "[Examples](task_visstat/examples)\n",
    "[Developer](task_visstat/developer)\n"
   ]
  }
 ],
 "metadata": {},
 "nbformat": 4,
 "nbformat_minor": 5
}
