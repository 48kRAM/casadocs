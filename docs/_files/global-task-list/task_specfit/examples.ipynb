{
 "cells": [
  {
   "cell_type": "markdown",
   "metadata": {},
   "source": [
    "# Examples\n",
    "\n",
    "task examples\n",
    "\n",
    "To fit a maximum of 2 Gaussian singlets plus a second order polynomial\n",
    "function to a 1-dimensional spectral profile of an image, and return a\n",
    "dictionary of the fit:\n",
    "\n",
    "res = specfit(imagename=\"myspectrum.im\", ngauss=2, box=\"3,3,4,5\",\n",
    "poly=2, multifit=true, wantreturn=True)"
   ]
  }
 ],
 "metadata": {},
 "nbformat": 4,
 "nbformat_minor": 5
}
