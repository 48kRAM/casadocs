{
 "cells": [
  {
   "cell_type": "markdown",
   "metadata": {},
   "source": [
    "# split\n",
    "\n",
    "task description\n",
    "\n",
    "**NOTE**: This is the new implementation of **split**.&nbsp; The old\n",
    "implementation is available for a short time as oldsplit.\n",
    "\n",
    "This new **split** task uses the MSTransform framework underneath.\n",
    "**split** is the general purpose program to make a new data set that is\n",
    "a subset or averaged form of an existing data set.\n",
    "\n",
    "**split** is often used after the initial calibration of the data to\n",
    "make a smaller MeasurementSet with only the data that will be used in\n",
    "further flagging, imaging and/or self-calibration. **split** can average\n",
    "over frequency (channels) and time (integrations).\n",
    "\n",
    "**split** also supports the Multi-MS (MMS) format as input. For more\n",
    "information about MMS, see the help of **partition** and\n",
    "**mstransform**.\n",
    "\n",
    "&nbsp;\n",
    "\n"
   ]
  },
  {
   "cell_type": "markdown",
   "metadata": {},
   "source": [
    "## Parameter descriptions\n",
    "\n"
   ]
  },
  {
   "cell_type": "markdown",
   "metadata": {},
   "source": [
    "##### *vis*\n",
    "\n",
    "Name of input MeasurementSet or Multi-MS.\n",
    "\n"
   ]
  },
  {
   "cell_type": "markdown",
   "metadata": {},
   "source": [
    "##### *outputvis*\n",
    "\n",
    "Name of output MeasurementSet or Multi-MS.\n",
    "\n",
    "**NOTE**: If a .flagversions file with the name of the output MS exist,\n",
    "this task will exit with an error. The user needs to rename or remove\n",
    "the existing flagbackup or choose a different output name for the MS.\n",
    "\n"
   ]
  },
  {
   "cell_type": "markdown",
   "metadata": {},
   "source": [
    "##### *keepmms*\n",
    "\n",
    "If the input is a Multi-MS the output will also be a Multi-MS. The\n",
    "default value is set to True. The output Multi-MS will have the same\n",
    "partition axis of the input MMS.\n",
    "\n"
   ]
  },
  {
   "cell_type": "markdown",
   "metadata": {},
   "source": [
    "##### General selection:&nbsp; *field, spw, antenna, timerange*, scan\n",
    "\n",
    "The **split** task uses the same selection syntax as the solving tasks\n",
    "for these parameters. See\n",
    "[here](https://casa.nrao.edu/casadocs-devel/stable/calibration-and-visibility-data/data-selection-in-a-measurementset)\n",
    "for more information.\n",
    "\n"
   ]
  },
  {
   "cell_type": "markdown",
   "metadata": {},
   "source": [
    "##### *datacolumn*\n",
    "\n",
    "Give the name of the input data column(s) to process. The default is set\n",
    "to \"corrected_data\". Allowed values are:\n",
    "\n",
    "-   corrected\n",
    "-   data\n",
    "-   model\n",
    "-   data,model,corrected\n",
    "-   float_data\n",
    "-   lag_data\n",
    "-   float_data,data\n",
    "-   lag_data,data\n",
    "-   all&nbsp; (= whichever of the above that are present)\n",
    "\n",
    "If the requested column does not exist, the task will exit with an\n",
    "error.\n",
    "\n",
    "**NOTE**: When a single column is chosen for 'datacolumn', the output MS\n",
    "always fill the 'DATA' column, regardless of the original name of the\n",
    "column in the input MeasurementSet. The reason is that the newly created\n",
    "MS needs a DATA&nbsp; column to be valid.\n",
    "\n"
   ]
  },
  {
   "cell_type": "markdown",
   "metadata": {},
   "source": [
    "##### *keepflags*\n",
    "\n",
    "Keep completely flagged rows in the output or drop them. This has no\n",
    "effect on partially flagged rows. All of the channels and correlations\n",
    "of a row must be flagged for it to be droppable, and a row must be well\n",
    "defined to be keepable. The default is True, which will keep completely\n",
    "flagged rows in the output MS.\n",
    "\n",
    "**IMPORTANT**: Regardless of this parameter, flagged data is never\n",
    "included in channel averaging. On the other hand, partially flagged rows\n",
    "will always be included in time averaging. The average value of the\n",
    "flagged data for averages containing ONLY flagged data in the relevant\n",
    "output channel will be written to the output with the corresponding flag\n",
    "set to True, while only unflagged data is used on averages where there\n",
    "is some unflagged data with the flag set to False.\n",
    "\n"
   ]
  },
  {
   "cell_type": "markdown",
   "metadata": {},
   "source": [
    "##### Channel averaging parameter: *width*\n",
    "\n",
    "This parameter gives the number of input channels to average to create\n",
    "one output channel. If a list is given, each bin will apply to one spw\n",
    "in the selection. The default 1 means that no averaging will be applied.\n",
    "\n"
   ]
  },
  {
   "cell_type": "markdown",
   "metadata": {},
   "source": [
    "##### Time averaging parameters: *timebin, combine*\n",
    "\n",
    "The parameter *timebin* gives the width for time averaging. When\n",
    "*timebin* is greater than 0s, the task will average data in time.\n",
    "Flagged data will be included&nbsp; in the average calculation, unless\n",
    "the parameter *keepflags* is set to False. In this case only partially\n",
    "flagged rows will be used in the average. If present,\n",
    "WEIGHT_SPECTRUM/SIGMA_SPECTRUM are used together with the channelized\n",
    "flags (FLAG), to compute a weighted average&nbsp; (using WEIGHT_SPECTRUM\n",
    "for CORRECTED_DATA and SIGMA_SPECTRUM for DATA). Otherwise WEIGHT/SIGMA\n",
    "are used instead to average together data from different\n",
    "integrations.&nbsp;&nbsp;\n",
    "\n",
    "The *combine* parameter will let the *timebin* span across scan, state\n",
    "or both. State is equivalent to sub-scans. One scan may have several\n",
    "state ids.\n",
    "\n",
    "**NOTE**: For ALMA MSs, the sub-scans are limited to about 30s duration\n",
    "each. In these cases, the task will automatically add state to the\n",
    "*combine* parameter.\n",
    "\n",
    "To see the number of states in an MS, use the\n",
    "**[msmd](https://casa.nrao.edu/casadocs-devel/stable/global-tool-list/tool_msmetadata/about)**\n",
    "tool. The default is set to *combine=''*, which will not cross the scan\n",
    "or state boundaries when averaging in&nbsp;time. Options are: 'scan',\n",
    "'state', 'state,scan'.\n",
    "\n",
    "&nbsp;"
   ]
  },
  {
   "cell_type": "markdown",
   "metadata": {
    "nbsphinx-toctree": {
     "hidden": true
    }
   },
   "source": [
    "[Description](task_split/about)\n",
    "[Examples](task_split/examples)\n"
   ]
  }
 ],
 "metadata": {},
 "nbformat": 4,
 "nbformat_minor": 5
}
