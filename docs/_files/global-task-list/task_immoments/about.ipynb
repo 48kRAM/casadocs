{
 "cells": [
  {
   "cell_type": "markdown",
   "metadata": {},
   "source": [
    "# Description\n",
    "\n",
    "immoments task: Compute moments from an image\n",
    "\n",
    "The spectral moment distributions at each pixel are determined. The main\n",
    "control of the calculation is given by the parameter *moments*:\n",
    "\n",
    "-   moments = -1 - mean value of the spectrum\n",
    "-   moments =  0 - integrated value of the spectrum\n",
    "-   moments =  1 - intensity weighted coordinate; traditionally used to\n",
    "    get \"velocity fields\"\n",
    "-   moments =  2 - intensity weighted dispersion of the coordinate;\n",
    "    traditionally used to get \"velocity dispersion\"\n",
    "-   moments =  3 - median value of the spectrum\n",
    "-   moments =  4 - median coordinate\n",
    "-   moments =  5 - standard deviation about the mean of the spectrum\n",
    "-   moments =  6 - root mean square of the spectrum\n",
    "-   moments =  7 - absolute mean deviation of the spectrum\n",
    "-   moments =  8 - maximum value of the spectrum\n",
    "-   moments =  9 - coordinate of the maximum value of the spectrum\n",
    "-   moments = 10 - minimum value of the spectrum\n",
    "-   moments = 11 - coordinate of the minimum value of the spectrum\n",
    "\n",
    "The default value of *outfile* is the input image name appended by an\n",
    "auto-determined suffix.\n",
    "\n",
    "If *stretch=True* and if the number of mask dimensions is less than or\n",
    "equal to the number of image dimensions and some axes in the mask are\n",
    "degenerate while the corresponding axes in the image are not, the mask\n",
    "will be stetched in the degenerate axis dimensions. For example, if the\n",
    "input image has shape \\[100, 200, 10\\] and the input mask has shape\n",
    "\\[100, 200, 1\\] and *stretch=True*, the mask will be stretched along the\n",
    "third dimension to shape \\[100, 200, 10\\]. However if the mask is shape\n",
    "\\[100, 200, 2\\], stretching is not possible and an error will result.\n",
    "\n",
    "If an image has multiple per-channel beams and the moment axis is equal\n",
    "to the spectral axis, each channel will be convolved with a beam that\n",
    "has a minimum area necessary to contain each of the image beams, ie, it\n",
    "is the minimum area common beam to which all the beams in the image can\n",
    "be convolved.\n",
    "\n",
    " \n",
    "\n"
   ]
  },
  {
   "cell_type": "markdown",
   "metadata": {},
   "source": [
    "## Task-specific parameter summary\n",
    "\n"
   ]
  },
  {
   "cell_type": "markdown",
   "metadata": {},
   "source": [
    "##### *moments*\n",
    "\n",
    "List of moments to compute. See above for details.\n",
    "\n"
   ]
  },
  {
   "cell_type": "markdown",
   "metadata": {},
   "source": [
    "##### *axis*\n",
    "\n",
    "Axis along which to compute the specified moments.\n",
    "\n"
   ]
  },
  {
   "cell_type": "markdown",
   "metadata": {},
   "source": [
    "##### *includepix*\n",
    "\n",
    "Range of pixel values to include in the computation. A range can only be\n",
    "given for one of includepix or excludepix.\n",
    "\n"
   ]
  },
  {
   "cell_type": "markdown",
   "metadata": {},
   "source": [
    "##### *excludepix*\n",
    "\n",
    "Range of pixel values to exclude in the computation. A range can only be\n",
    "given for one of includepix or excludepix."
   ]
  }
 ],
 "metadata": {},
 "nbformat": 4,
 "nbformat_minor": 5
}
