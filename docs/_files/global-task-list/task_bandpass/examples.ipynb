{
 "cells": [
  {
   "cell_type": "markdown",
   "metadata": {},
   "source": [
    "# Examples\n",
    "\n",
    "task bandpass examples\n",
    "\n",
    "To solve for a B-bandpass using a single short scan on the calibrator\n",
    "(with no prior gain calibration available):\n",
    "\n",
    "bandpass(vis = 'n5921.ms',  \n",
    "         caltable='n5921.bcal',  \n",
    "         gaintable='',                   \\"
   ]
  },
  {
   "cell_type": "markdown",
   "metadata": {},
   "source": [
    "## No gain tables yet  \n",
    "         gainfield='',  \n",
    "         interp='',  \n",
    "         field='0',                      \\"
   ]
  },
  {
   "cell_type": "markdown",
   "metadata": {},
   "source": [
    "## Calibrator 1331+305 = 3C286\n",
    "(FIELD_ID 0)  \n",
    "         spw='',                         \\"
   ]
  },
  {
   "cell_type": "markdown",
   "metadata": {},
   "source": [
    "## all channels  \n",
    "         selectdata=False,               \\"
   ]
  },
  {
   "cell_type": "markdown",
   "metadata": {},
   "source": [
    "## No other selection  \n",
    "         bandtype='B',                   \\"
   ]
  },
  {
   "cell_type": "markdown",
   "metadata": {},
   "source": [
    "## standard time-binned B\n",
    "(rather than BPOLY)  \n",
    "         solint='inf',                   \\"
   ]
  },
  {
   "cell_type": "markdown",
   "metadata": {},
   "source": [
    "## set solution interval\n",
    "arbitrarily long  \n",
    "         refant='15')                    \\"
   ]
  },
  {
   "cell_type": "markdown",
   "metadata": {},
   "source": [
    "## ref antenna 15 (=VLA:N2) (ID\n",
    "14)\n",
    "\n",
    "On the other hand, we might have a number of scans on the bandpass\n",
    "calibrator spread over time, but we want a single bandpass solution. In\n",
    "this case, we could solve for and then pre-apply an initial gain\n",
    "calibration, and let the bandpass solution cross scans:\n",
    "\n",
    "bandpass(vis='n5921.ms',  \n",
    "         caltable='n5921.bcal',  \n",
    "         field='0',                      \\"
   ]
  },
  {
   "cell_type": "markdown",
   "metadata": {},
   "source": [
    "## Calibrator 1331+305 = 3C286\n",
    "(FIELD_ID 0)  \n",
    "         spw='',                         \\"
   ]
  },
  {
   "cell_type": "markdown",
   "metadata": {},
   "source": [
    "## all channels  \n",
    "         selectdata=False,               \\"
   ]
  },
  {
   "cell_type": "markdown",
   "metadata": {},
   "source": [
    "## No other selection  \n",
    "         bandtype='B',                   \\"
   ]
  },
  {
   "cell_type": "markdown",
   "metadata": {},
   "source": [
    "## standard time-binned B\n",
    "(rather than BPOLY)  \n",
    "         solint='inf',                   \\"
   ]
  },
  {
   "cell_type": "markdown",
   "metadata": {},
   "source": [
    "## set solution interval\n",
    "arbitrarily long  \n",
    "         combine='scan',                 \\"
   ]
  },
  {
   "cell_type": "markdown",
   "metadata": {},
   "source": [
    "## Solution crosses scans(ID\n",
    "14)  \n",
    "         refant='15',                    \\"
   ]
  },
  {
   "cell_type": "markdown",
   "metadata": {},
   "source": [
    "## ref antenna 15 (=VLA:N2)  \n",
    "         gaintable='n5921.init.gcal',    \\"
   ]
  },
  {
   "cell_type": "markdown",
   "metadata": {},
   "source": [
    "## Our previously determined G\n",
    "table  \n",
    "         gainfield='0',  \n",
    "         interp='linear')                \\"
   ]
  },
  {
   "cell_type": "markdown",
   "metadata": {},
   "source": [
    "## Do linear interpolation\n",
    "\n",
    "To solve for a single bandpass from two spectral windows (0 and 1) that\n",
    "is intended for a third (2), we add 'spw' to combine (also using a prior\n",
    "gain solution):\n",
    "\n",
    "bandpass(vis='n5921.ms',  \n",
    "         caltable='n5921.bcal2',  \n",
    "         field='0',                      \\"
   ]
  },
  {
   "cell_type": "markdown",
   "metadata": {},
   "source": [
    "## Calibrator 1331+305 = 3C286\n",
    "(FIELD_ID 0)  \n",
    "         spw='0,1',                      \\"
   ]
  },
  {
   "cell_type": "markdown",
   "metadata": {},
   "source": [
    "## all channels in spws 0 and\n",
    "1  \n",
    "         selectdata=False,               \\"
   ]
  },
  {
   "cell_type": "markdown",
   "metadata": {},
   "source": [
    "## No other selection  \n",
    "         bandtype='B',                   \\"
   ]
  },
  {
   "cell_type": "markdown",
   "metadata": {},
   "source": [
    "## standard time-binned B\n",
    "(rather than BPOLY)  \n",
    "         solint='inf',                   \\"
   ]
  },
  {
   "cell_type": "markdown",
   "metadata": {},
   "source": [
    "## set solution interval\n",
    "arbitrarily long  \n",
    "         combine='scan,spw',             \\"
   ]
  },
  {
   "cell_type": "markdown",
   "metadata": {},
   "source": [
    "## Combine scans and spws into\n",
    "a single solution  \n",
    "         refant='15',                    \\"
   ]
  },
  {
   "cell_type": "markdown",
   "metadata": {},
   "source": [
    "## ref antenna 15 (=VLA:N2)  \n",
    "         gaintable='n5921.init.gcal',    \\"
   ]
  },
  {
   "cell_type": "markdown",
   "metadata": {},
   "source": [
    "## Our previously determined G\n",
    "table  \n",
    "         gainfield='0',  \n",
    "         interp='linear')                \\"
   ]
  },
  {
   "cell_type": "markdown",
   "metadata": {},
   "source": [
    "## Do linear interpolation on\n",
    "gaintable\n",
    "\n",
    "The resulting bandpass table will have average channels labeled with the\n",
    "average frequencies of the input spectral windows channels.  Applying\n",
    "this solution will require use of relative frequency interpolation.  \n",
    "See\n",
    "[here](https://casa.nrao.edu/casadocs-devel/stable/calibration-and-visibility-data/synthesis-calibration/solving-for-calibration),\n",
    "for more information.\n",
    "\n",
    " \n",
    "\n",
    "To solve for a BPOLY (5th order in amplitude, 7th order in phase), using\n",
    "data from field 2, with prior **gaincal** corrections pre-applied:\n",
    "\n",
    "bandpass(vis='data.ms',          \\"
   ]
  },
  {
   "cell_type": "markdown",
   "metadata": {},
   "source": [
    "## input data set  \n",
    "         caltable='cal.BPOLY',   \\"
   ]
  },
  {
   "cell_type": "markdown",
   "metadata": {},
   "source": [
    "##  \n",
    "         spw='0:2\\~56',           \\"
   ]
  },
  {
   "cell_type": "markdown",
   "metadata": {},
   "source": [
    "## Use channels 3-57 (avoid end\n",
    "channels)  \n",
    "         field='0',              \\"
   ]
  },
  {
   "cell_type": "markdown",
   "metadata": {},
   "source": [
    "## Select bandpass calibrator (field\n",
    "0)  \n",
    "         bandtype='BPOLY',       \\"
   ]
  },
  {
   "cell_type": "markdown",
   "metadata": {},
   "source": [
    "## Select bandpass polynomials  \n",
    "         degamp=5,               \\"
   ]
  },
  {
   "cell_type": "markdown",
   "metadata": {},
   "source": [
    "##   5th order amp  \n",
    "         degphase=7,             \\"
   ]
  },
  {
   "cell_type": "markdown",
   "metadata": {},
   "source": [
    "##   7th order phase  \n",
    "         gaintable='cal.G',      \\"
   ]
  },
  {
   "cell_type": "markdown",
   "metadata": {},
   "source": [
    "## Pre-apply gain solutions derived\n",
    "previously  \n",
    "         refant='14')            \\#"
   ]
  }
 ],
 "metadata": {},
 "nbformat": 4,
 "nbformat_minor": 5
}
