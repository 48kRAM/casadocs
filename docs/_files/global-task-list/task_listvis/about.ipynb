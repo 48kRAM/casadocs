{
 "cells": [
  {
   "cell_type": "markdown",
   "metadata": {},
   "source": [
    "# Description\n",
    "\n",
    "task description\n",
    "\n",
    "List the visibility data in a MeasurementSet.\n",
    "\n",
    "This task lists MeasurementSet visibility data under a number\n",
    "of&nbsp;input selection conditions. The MeasurementSet\n",
    "data columns that&nbsp;can be listed are: raw\n",
    "data, float_data, corrected data, model data, and residual (corrected - model) data.\n",
    "\n",
    "The output table format is dynamic. The columns for field, spectral\n",
    "window, and channel are not displayed if the\n",
    "column contents are uniform.&nbsp;For example,\n",
    "if \"*spw = '1'&nbsp;*\" is specified, the spw column will not\n",
    "be&nbsp;displayed. When a column is not\n",
    "displayed, a message is sent to the&nbsp;logger and terminal\n",
    "indicating that the column values are uniform and&nbsp;listing the uniform value.\n",
    "\n",
    "Table column descriptions:\n",
    "\n",
    "|                                                                                              |                                                                                                     |\n",
    "|----------------------------------------------------------------------------------------------|-----------------------------------------------------------------------------------------------------|\n",
    "| **Column Name**                                                      | **Description**                                                                                     |\n",
    "| Date/Time                                                            | Time stamp of data sample (YYMMDD/HH:MM:SS UT)                              |\n",
    "| Intrf                                                                |  Interferometer baseline (antenna names)                                    |\n",
    "| UVDist                                                               |  uv-distance (units of wavelength)                                          |\n",
    "| Fld                                                                  | Field ID (if more than 1 field)                                             |\n",
    "| SpW                                                                  | Spectral Window ID (if more than 1 spectral window)                         |\n",
    "| Chn                                                                  | Channel number (if more than 1 channel)                                     |\n",
    "| (Correlated polarization) | Correlated polarizations (eg: RR, LL, XY). Sub-columns are: Amp, Phs, Wt, F |\n",
    "| Amp                                                                  | Visibility amplitude                                                        |\n",
    "| Phs                                                                  | Visibility phase (deg)                                                      |\n",
    "| Wt                                                                   | Weight of visibility measurement                                            |\n",
    "| F                                                                    | Flag: 'F' = flagged datum; ' ' = unflagged                                  |\n",
    "| UVW                                                                  | UVW coordinates (meters)                                                    |\n",
    "\n",
    "&nbsp;\n",
    "\n"
   ]
  },
  {
   "cell_type": "markdown",
   "metadata": {},
   "source": [
    "## Parameter descriptions\n",
    "\n"
   ]
  },
  {
   "cell_type": "markdown",
   "metadata": {},
   "source": [
    "##### *vis*\n",
    "\n",
    "Name of input visibility file.\n",
    "\n"
   ]
  },
  {
   "cell_type": "markdown",
   "metadata": {},
   "source": [
    "##### *options*\n",
    "\n",
    "List options: default = 'ap'. Not yet implemented for\n",
    "suboptions.\n",
    "\n"
   ]
  },
  {
   "cell_type": "markdown",
   "metadata": {},
   "source": [
    "##### *datacolumn*\n",
    "\n",
    "Visibility file data column. Options are 'data'\n",
    "(default), 'float_data', 'corrected', 'model', 'residual'\n",
    "(corrected-model).\n",
    "\n"
   ]
  },
  {
   "cell_type": "markdown",
   "metadata": {},
   "source": [
    "##### *field*\n",
    "\n",
    "Select data based on field id(s) or name(s). Example: *field='0\\~2'* includes\n",
    "field ids 0 to 2; *field='3C\\*'* includes all field names starting with\n",
    "3C. Default is all fields.  \n",
    "\n",
    "\n"
   ]
  },
  {
   "cell_type": "markdown",
   "metadata": {},
   "source": [
    "##### *spw*\n",
    "\n",
    "Select spectral windows and channels to list. Example: *spw='2:34\\~46'* includes\n",
    "channels 34 to 46 of spectral window 2. Default is all spws and\n",
    "channels.  \n",
    "\n",
    "\n"
   ]
  },
  {
   "cell_type": "markdown",
   "metadata": {},
   "source": [
    "##### *selectdata*\n",
    "\n",
    "If\n",
    "*selectdata=True*, toggle the below 7 selection parameters. If *selectdata=False*, the\n",
    "following parameters are reset to default values.\n",
    "\n"
   ]
  },
  {
   "cell_type": "markdown",
   "metadata": {},
   "source": [
    "##### *antenna*\n",
    "\n",
    "Select data based on antenna. For example: *antenna = '5,6'*\n",
    "includes antenna index 5 and 6 solutions;&nbsp;*antenna = '05,06'*\n",
    "includes antenna names '05' and '06' solutions.\n",
    "\n"
   ]
  },
  {
   "cell_type": "markdown",
   "metadata": {},
   "source": [
    "##### *timerange*\n",
    "\n",
    "Select time range to list. For example:\n",
    "*timerange='10:37:50.1'* lists data for this particular sampling\n",
    "interval; *timerange='\\<10:37:25'* list data before 10:37:25.\n",
    "\n"
   ]
  },
  {
   "cell_type": "markdown",
   "metadata": {},
   "source": [
    "##### *correlation*\n",
    "\n",
    " Select polarization correlations to list. For example:\n",
    "*correlation='RR LL*' list RR and LL correlations;&nbsp;*correlation='XX\n",
    "XY'* list XX and XY correlations.\n",
    "\n"
   ]
  },
  {
   "cell_type": "markdown",
   "metadata": {},
   "source": [
    "##### *scan*\n",
    "\n",
    "Select scans to list. For example:\n",
    "*scan='2'* lists scan 2; *scan='\\>2'* list scan numbers greater\n",
    "than 2.\n",
    "\n"
   ]
  },
  {
   "cell_type": "markdown",
   "metadata": {},
   "source": [
    "#####  *feed* (not yet implemented)\n",
    "\n"
   ]
  },
  {
   "cell_type": "markdown",
   "metadata": {},
   "source": [
    "##### *array* (not yet implemented)\n",
    "\n"
   ]
  },
  {
   "cell_type": "markdown",
   "metadata": {},
   "source": [
    "##### * observation*\n",
    "\n",
    " Select by observation ID.\n",
    "\n"
   ]
  },
  {
   "cell_type": "markdown",
   "metadata": {},
   "source": [
    "##### *uvrange*\n",
    "\n",
    "Select baseline lengths to list. For example:\n",
    "*uvrange='\\<5klambda*' lists all data from baselines less than 5\n",
    "kilo-wavelengths; *uvrange='500\\~1000m'* lists all data from baselines\n",
    "between 500m and 1000m.  \n",
    "\n",
    "\n",
    "**CAUTION**: Input units default to meters, but listed\n",
    "units are always wavelengths!\n",
    "\n"
   ]
  },
  {
   "cell_type": "markdown",
   "metadata": {},
   "source": [
    "##### *average* (not yet implemented)\n",
    "\n"
   ]
  },
  {
   "cell_type": "markdown",
   "metadata": {},
   "source": [
    "##### *showflags* (not yet implemented)\n",
    "\n"
   ]
  },
  {
   "cell_type": "markdown",
   "metadata": {},
   "source": [
    "##### *pagerows*\n",
    "\n",
    "Rows per page of listing. Default: 50; *pagerows=0*\n",
    "means do not paginate.\n",
    "\n"
   ]
  },
  {
   "cell_type": "markdown",
   "metadata": {},
   "source": [
    "##### *listfile*\n",
    "\n",
    "Write output file to disk (will not overwrite). The default is to write to the\n",
    "screen.\n",
    "\n",
    "&nbsp;"
   ]
  }
 ],
 "metadata": {},
 "nbformat": 4,
 "nbformat_minor": 5
}
