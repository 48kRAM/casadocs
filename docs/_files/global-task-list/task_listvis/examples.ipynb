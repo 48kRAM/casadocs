{
 "cells": [
  {
   "cell_type": "markdown",
   "metadata": {},
   "source": [
    "# Examples\n",
    "\n",
    "task examples\n",
    "\n",
    "To list the visibilities from the DATA column of a MeasurementSet,\n",
    "including all data from spectral windows 2 to 4&nbsp;which&nbsp;have RR\n",
    "correlation:\n",
    "\n",
    "listvis(vis='filename.ms', datacolumn='data', spw='2\\~4',\n",
    "selectdata=True, correlation='RR', pagerows=5, listfile='listfile.txt')\n",
    "\n",
    "The visibilities are listed with 5 rows per page and written out in a\n",
    "text file called 'listfile.txt'.\n",
    "\n",
    "&nbsp;\n",
    "\n",
    "&nbsp;"
   ]
  }
 ],
 "metadata": {},
 "nbformat": 4,
 "nbformat_minor": 5
}
