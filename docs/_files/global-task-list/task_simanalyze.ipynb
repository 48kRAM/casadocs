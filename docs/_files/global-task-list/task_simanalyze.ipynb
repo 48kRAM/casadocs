{
 "cells": [
  {
   "cell_type": "markdown",
   "metadata": {},
   "source": [
    "# simanalyze\n",
    "\n",
    "For imaging and analyzing MeasurementSets simulated with simobserve or\n",
    "simalma.\n",
    "\n"
   ]
  },
  {
   "cell_type": "markdown",
   "metadata": {},
   "source": [
    "## Summary\n",
    "\n",
    "This task is for imaging and analyzing MeasurementSets (MSs) simulated\n",
    "with **simobserve** or **simalma**.\n",
    "\n",
    "**simanalyze** analyzes one or more MeasurementSets - interferometric\n",
    "and/or single dish, using CASA's\n",
    "[tclean](https://casa.nrao.edu/casadocs-devel/stable/global-task-list/task_tclean)\n",
    "task. It can also calculate and display the difference between the\n",
    "simulated observation and the original model data, and generate a\n",
    "\"fidelity image\". Fidelity is defined as:\n",
    "\n",
    "$$\\begin{equation} \\frac{I}{|I-T|} \\end{equation}$$\n",
    "\n",
    "where I is the observed image intensity and T is the true image\n",
    "intensity, given in this case by the sky model (see [ALMA memo\n",
    "398](http://library.nrao.edu/public/memos/alma/memo398.pdf) for\n",
    "description of fidelity). The input parameters are therefore grouped by\n",
    "the two main pieces of functionality:\n",
    "\n",
    "1.  Image - Image the visibility data with CASA's\n",
    "    [tclean](https://casa.nrao.edu/casadocs-devel/stable/global-task-list/task_tclean)\n",
    "    task. Most of the parameters are passed to the wrapper method\n",
    "    **simutil.imtclean**, which in turn calls **tclean**.\n",
    "2.  Analyze - Calculate and display the difference between output and\n",
    "    input, and the fidelity image. Different diagnostic images can be\n",
    "    chosen to plot on a multi-panel figure, with the different show\n",
    "    parameters. That figure can be saved as a .png file if\n",
    "    *graphics='both'* or *graphics='file'*.\n",
    "\n",
    "The output is a synthesized image, a difference image between the\n",
    "synthesized image and your sky model convolved with the output\n",
    "synthesized beam, and a fidelity image.&nbsp;\n",
    "\n",
    "**NOTE**: If you prefer to run **tclean** manually (e.g., to\n",
    "interactively clean with a mask), you can do that, and then use\n",
    "**simanalyze** to convolve the sky model and create difference and\n",
    "fidelity images by setting *image=False*.\n",
    "\n"
   ]
  },
  {
   "cell_type": "markdown",
   "metadata": {},
   "source": [
    "### Task output\n",
    "\n",
    "Below is a list of the products produced by the **simanalyze** task. Not\n",
    "all of these will necessarily be produced, depending on the input\n",
    "parameters selected.\n",
    "\n",
    "**NOTE**: To support various runs using differing arrays, the file names\n",
    "have the configuration name from the antenna list appended.\n",
    "\n",
    "-   \\[project\\].\\[cfg\\].skymodel.flat.regrid.conv = input sky regridded\n",
    "    to match the output image, and convolved with the output clean beam\n",
    "-   \\[project\\].\\[cfg\\].image = synthesized image\n",
    "-   \\[project\\].\\[cfg\\].pb.pbcoverage = primary beam correction for\n",
    "    mosaic image\n",
    "-   \\[project\\].\\[cfg\\].residual = residual image after cleaning\n",
    "-   \\[project\\].\\[cfg\\].tclean.last = parameter file of what parameters\n",
    "    were used in the **tclean** task\n",
    "-   \\[project\\].\\[cfg\\].psf = synthesized (dirty) beam calculated from\n",
    "    weighted uv distribution\n",
    "-   \\[project\\].\\[cfg\\].image.png = diagnostic figure of clean image and\n",
    "    residual\n",
    "-   \\[project\\].\\[cfg\\].fidelity = fidelity image\n",
    "-   \\[project\\].\\[cfg\\].analysis.png = diagnostic figure of difference\n",
    "    and fidelity\n",
    "-   \\[project\\].\\[cfg\\].simanalyze.last = saved input parameters for\n",
    "    **simanalyze** task, available in CASAshell\n",
    "\n",
    "&nbsp;\n",
    "\n"
   ]
  },
  {
   "cell_type": "markdown",
   "metadata": {},
   "source": [
    "## Parameter descriptions\n",
    "\n"
   ]
  },
  {
   "cell_type": "markdown",
   "metadata": {},
   "source": [
    "##### *project*\n",
    "\n",
    "This parameter should be set to the same name as used when&nbsp;running\n",
    "**simobserve** or **simalma** for the directory of results generated. In\n",
    "particular, \\[project\\]/\\[project\\].skymodel will be required in order\n",
    "to compare output and input images.\n",
    "\n",
    "**NOTE**: **simanalyze** was designed to be used after one or more runs\n",
    "of **simobserve**, and as such it assumes it will be able to find a sky\n",
    "model image called \\[project\\]/\\[project\\].skymodel, .newmodel, or\n",
    ".compskymodel in the \\[project\\]/ subdirectory. If the simulated MS has\n",
    "been created by means other than simply calling **simobserve**, the user\n",
    "may have to copy their sky model image into the project subdirectory and\n",
    "call it \\[project\\].skymodel.\n",
    "\n"
   ]
  },
  {
   "cell_type": "markdown",
   "metadata": {},
   "source": [
    "##### *image*\n",
    "\n",
    "This parameter determines if **simanalyze** produces images or not.\n",
    "\n",
    "**WARNING**: As is the case for real images, cleaning images produced by\n",
    "**simobserve** can lead to a spurious decrease in object fluxes and\n",
    "noise on the image (an effect known as \"clean bias\"). This is\n",
    "particularly true for observations with poor coverage of the uv-plane,\n",
    "i.e., using telescopes with small numbers of antennas, such as the ALMA\n",
    "Early Science configurations, and/or in short \"snapshot\" observations.\n",
    "Users should always clean images with care, using a small number of\n",
    "iterations and/or a conservative (3-5sigma) threshold and boxing bright\n",
    "sources.\n",
    "\n"
   ]
  },
  {
   "cell_type": "markdown",
   "metadata": {},
   "source": [
    "#### *image=True* expandable parameters\n",
    "\n"
   ]
  },
  {
   "cell_type": "markdown",
   "metadata": {},
   "source": [
    "##### *vis*\n",
    "\n",
    "Single or list of input MeasurementSets, which can include a total power\n",
    "MS. **simanalyze** will grid any total power MS, **tclean** (invert and\n",
    "deconvolve) any interferometric MSes, and **feather** the results.\n",
    "Examples: single MS: *vis=\"\\[project\\].alma.out03.ms\"*; multiple MSes:\n",
    "*vis=\"\\[project\\].alma.out03.ms, \\[project\\].aca.tp.ms\"*.\n",
    "\n",
    "The user can use *project* and let the task automatically replace it\n",
    "with the project name, e.g.,\n",
    "*vis=\"\\[project\\].noisy.ms,project.noisy.sd.ms\"*. However, note that if\n",
    "you created MeasurementSet(s) using **simobserve**, the MS names will\n",
    "include the configuration, e.g., \\[project\\].alma_out20.noisy.ms.\n",
    "Setting *vis='default'* will find and attempt to image all\n",
    "MeasurementSets (interferometric and single dish) in the \\[project\\]/\n",
    "directory.\n",
    "\n"
   ]
  },
  {
   "cell_type": "markdown",
   "metadata": {},
   "source": [
    "##### *modelimage*\n",
    "\n",
    "It is often preferable to use a low resolution (single dish or\n",
    "synthesis) image as a prior model during clean deconvolution of a higher\n",
    "resolution interferometric MS. That is accomplished by putting the\n",
    "low-resolution image in *modelimage* and the MS to be deconvolved in\n",
    "*vis*.\n",
    "\n",
    "**NOTE**: This is not the original skymodel that was used in simobserve\n",
    "or simalma. It is recommended to leave this blank unless the user is\n",
    "familiar with using a prior in clean deconvolution.\n",
    "\n",
    "**NOTE 2**: *modelimage* will not be used if the MS to be imaged is\n",
    "total power.\n",
    "\n"
   ]
  },
  {
   "cell_type": "markdown",
   "metadata": {},
   "source": [
    "##### *imsize*\n",
    "\n",
    "The output image size in pixels (x,y), or set to 0 to match model\n",
    "(default). Examples: *imsize=\\[500,500\\]* or *imsize=500* result in the\n",
    "same image size.\n",
    "\n"
   ]
  },
  {
   "cell_type": "markdown",
   "metadata": {},
   "source": [
    "##### *imdirection*\n",
    "\n",
    "Sets the output image direction. If left unset (default), the model\n",
    "center will be used. Examples: *imdirection='J2000 10h00m00.0s\n",
    "-30d00m00.0s'*\n",
    "\n"
   ]
  },
  {
   "cell_type": "markdown",
   "metadata": {},
   "source": [
    "##### *cell*\n",
    "\n",
    "Sets the cell size of the image with units. If left unset (default), the\n",
    "model cell size will be used. Examples: *cell='10arcsec'*\n",
    "\n"
   ]
  },
  {
   "cell_type": "markdown",
   "metadata": {},
   "source": [
    "##### *interactive*\n",
    "\n",
    "Turns interactive cleaning off or on. The default setting for this\n",
    "parameter is *interactive=False* (no interactive cleaning). If True,\n",
    "make sure to set *niter\\>0*.\n",
    "\n"
   ]
  },
  {
   "cell_type": "markdown",
   "metadata": {},
   "source": [
    "##### *niter*\n",
    "\n",
    "The maximum number of iterations to perform. This value can be changed\n",
    "for interactive cleaning (*interactive=True*) in the viewer GUI.\n",
    "Examples: *niter=5000*\n",
    "\n"
   ]
  },
  {
   "cell_type": "markdown",
   "metadata": {},
   "source": [
    "##### *threshold*\n",
    "\n",
    "This parameter sets the upper threshold for cleaning (**clean** will\n",
    "stop if this level is reached). The default is 0.1 mJy. Examples:\n",
    "*threshold='0.5mJy'*\n",
    "\n"
   ]
  },
  {
   "cell_type": "markdown",
   "metadata": {},
   "source": [
    "##### *weighting*\n",
    "\n",
    "This parameter sets the weighting that is to be applied to the\n",
    "visibility data. Options: 'natural' (+2.0 robust, default), 'uniform'\n",
    "(-2.0 robust), or 'briggs'. If 'briggs' weighting is selected, the\n",
    "default robust factor of **tclean** will be used (0.5) and changing\n",
    "this&nbsp;parameter value is not supported by **simanalyze**. If a\n",
    "robust weighting is needed that is not available, it is suggested to set\n",
    "*image* to False and to clean manually with **clean**/**tclean**.\n",
    "\n"
   ]
  },
  {
   "cell_type": "markdown",
   "metadata": {},
   "source": [
    "##### *mask*\n",
    "\n",
    "Specification of cleanbox(es), mask image(s), primary beam coverage\n",
    "level, and/or region(s) to be used for cleaning. **clean** tends to\n",
    "perform better and is less likely to diverge if the clean component\n",
    "placement is limited by a mask to where real emission is expected to be.\n",
    "Examples: pixel ranges *mask=\\[110,110,150,145\\];* filename of mask\n",
    "image *mask='myimage.mask'*; or a file with mask regions\n",
    "*mask='mymask.txt'*.\n",
    "\n"
   ]
  },
  {
   "cell_type": "markdown",
   "metadata": {},
   "source": [
    "##### *outertaper*\n",
    "\n",
    "*outertaper* sets an outer threshold on baselines in the uv-plane,\n",
    "usually to achieve a lower angular resolution and to recover more\n",
    "extended emission that may be resolved out. Examples: *outertaper=\\[ \\]*\n",
    "no outer taper applied; *outertaper=\\[&rsquo;5klambda&rsquo;\\]* circular\n",
    "uv taper FWHM at 5 kilo-lambda;\n",
    "*outertaper=\\[&rsquo;5klambda&rsquo;,&rsquo;3klambda&rsquo;,&rsquo;45.0deg&rsquo;*\\]\n",
    "elliptical Gaussian; *outertaper=\\[&rsquo;10arcsec&rsquo;\\]* on-sky FWHM\n",
    "of 10 arcsecs; *outertaper=\\[&rsquo;300.0&rsquo;\\]* 300m in aperture\n",
    "plane\n",
    "\n"
   ]
  },
  {
   "cell_type": "markdown",
   "metadata": {},
   "source": [
    "##### *pbcor*\n",
    "\n",
    "The *pbcor* parameter determines whether or not **simanalyze** corrects\n",
    "the flux based on the primary beam. If *pbcor=True*, a .pbcor image will\n",
    "be produced with the primary beam correction applied. This is set to\n",
    "True by default.\n",
    "\n"
   ]
  },
  {
   "cell_type": "markdown",
   "metadata": {},
   "source": [
    "##### *stokes*\n",
    "\n",
    "The *stokes* parameter specifies the Stokes parameters for the resulting\n",
    "images. Note that forming Stokes Q and U images requires the presence of\n",
    "cross-hand polarizations (e.g. RL and LR for circularly polarized\n",
    "systems such as the VLA) in the data. Stokes V requires both parallel\n",
    "hands (RR and LL) for circularly-polarized systems or the cross-hands\n",
    "(XY and YX) for linearly polarized systems such as ALMA and ATCA.\n",
    "Examples: *stokes = &rsquo;I&rsquo;* intensity only (default); *stokes =\n",
    "&rsquo;IQU&rsquo;* intensity and linear polarization; *stokes =\n",
    "&rsquo;IV&rsquo;* intensity and circular polarization; *stokes =\n",
    "&rsquo;IQUV&rsquo;* all Stokes imaging; *stokes = &rsquo;RR&rsquo;*\n",
    "right hand polarization only; *stokes = &rsquo;XXYY&rsquo;* both linear\n",
    "polarizations\n",
    "\n"
   ]
  },
  {
   "cell_type": "markdown",
   "metadata": {},
   "source": [
    "##### *featherimage*\n",
    "\n",
    "Sometimes it is preferable to grid the single dish MS using the\n",
    "**sdimaging** task for more control. In that case, the user can input\n",
    "the resulting single dish imaging under *featherimage*, only put\n",
    "interferometric MSs in *vis*, and **simanalyze** will clean the\n",
    "interferometric and feather with the *featherimage*.\n",
    "\n",
    "&nbsp;\n",
    "\n"
   ]
  },
  {
   "cell_type": "markdown",
   "metadata": {},
   "source": [
    "#### *image=False* expandable parameters\n",
    "\n"
   ]
  },
  {
   "cell_type": "markdown",
   "metadata": {},
   "source": [
    "##### *imagename*\n",
    "\n",
    "If the user already has a synthesized image they wish to use, it can be\n",
    "input using the parameter *imagename*.\n",
    "\n"
   ]
  },
  {
   "cell_type": "markdown",
   "metadata": {},
   "source": [
    "##### *skymodel*\n",
    "\n",
    "**simanalyze** will attempt to find an appropriate skymodel image - this\n",
    "is the \\*.skymodel image created by **simobserve** or **simalma**, the\n",
    "(optionally rescaled) original sky model which was used to create the\n",
    "MeasurementSet. If a *skymodel* is not explicitedly assigned,\n",
    "**simanalyze** will look in the project directory.\n",
    "\n",
    "&nbsp;\n",
    "\n"
   ]
  },
  {
   "cell_type": "markdown",
   "metadata": {},
   "source": [
    "##### *analyze*\n",
    "\n",
    "This parameter is used to turn on or off the creation of analytical\n",
    "images pertaining to the simulation.\n",
    "\n"
   ]
  },
  {
   "cell_type": "markdown",
   "metadata": {},
   "source": [
    "#### analyze=True expandable parameters\n",
    "\n",
    "When the *analyze* parameter is set to True, **simanalyze** will display\n",
    "the first 6 of the following analysis images, based on whether the\n",
    "sub-parameters are set to True or False. An image will also be created\n",
    "of the difference between the input skymodel and the simulated output\n",
    "image (whether that output image is being generated in the same call to\n",
    "**simanalyze**, with *image=True*, or has already been generated, and\n",
    "**simanalyze** is being called with *image=False*).\n",
    "\n"
   ]
  },
  {
   "cell_type": "markdown",
   "metadata": {},
   "source": [
    "##### *showuv*\n",
    "\n",
    "Displays a plot of the uv coverage for the simulation.\n",
    "\n"
   ]
  },
  {
   "cell_type": "markdown",
   "metadata": {},
   "source": [
    "##### *showpsf*\n",
    "\n",
    "Displays a synthesized (dirty) beam (ignored in single dish simulation).\n",
    "\n"
   ]
  },
  {
   "cell_type": "markdown",
   "metadata": {},
   "source": [
    "##### *showmodel*\n",
    "\n",
    "Displays the sky model at its original resolution.\n",
    "\n"
   ]
  },
  {
   "cell_type": "markdown",
   "metadata": {},
   "source": [
    "##### *showconvolved*\n",
    "\n",
    "Displays the sky model convolved with an output beam.\n",
    "\n"
   ]
  },
  {
   "cell_type": "markdown",
   "metadata": {},
   "source": [
    "##### *showclean*\n",
    "\n",
    "Displays the synthesized image.\n",
    "\n"
   ]
  },
  {
   "cell_type": "markdown",
   "metadata": {},
   "source": [
    "##### *showresidual*\n",
    "\n",
    "Displays the clean residual image (ignored in single dish simulation).\n",
    "\n"
   ]
  },
  {
   "cell_type": "markdown",
   "metadata": {},
   "source": [
    "##### *showdifference*\n",
    "\n",
    "Displays the difference between output cleaned image and input model sky\n",
    "image convolved with an output clean beam.\n",
    "\n"
   ]
  },
  {
   "cell_type": "markdown",
   "metadata": {},
   "source": [
    "##### *showfidelity*\n",
    "\n",
    "Displays the fidelity image. The fidelity image is defined by the\n",
    "following equation:\n",
    "\n",
    "$fidelity = \\frac{| input |}{max[| input-output |  0.7*rms(output)]}$\n",
    "\n",
    "**NOTE**: The RMS is calculated in the lower quarter of the image which\n",
    "is likely not the best choice. It is encouraged to measure RMS manually\n",
    "in an off-source region using the **viewer**.\n",
    "\n",
    "&nbsp;\n",
    "\n"
   ]
  },
  {
   "cell_type": "markdown",
   "metadata": {},
   "source": [
    "##### *graphics*\n",
    "\n",
    "Displays graphics based on the manner in which the parameter is set.\n",
    "Options: 'screen', 'file', 'both', 'none'\n",
    "\n"
   ]
  },
  {
   "cell_type": "markdown",
   "metadata": {},
   "source": [
    "##### *verbose*\n",
    "\n",
    "Turns on or off the reporting of task activity in the log. Examples:\n",
    "*verbose=False* (default)\n",
    "\n"
   ]
  },
  {
   "cell_type": "markdown",
   "metadata": {},
   "source": [
    "##### *overwrite*\n",
    "\n",
    "If the user would like **simanalyze** to replace the previously created\n",
    "files starting with the *project* name, set this parameter to True\n",
    "(default).\n",
    "\n"
   ]
  },
  {
   "cell_type": "markdown",
   "metadata": {},
   "source": [
    "##### *dryrun*\n",
    "\n",
    "*dryrun=True* is an advanced technical mode only useful for\n",
    "interferometric (not single dish) data.\n",
    "\n"
   ]
  },
  {
   "cell_type": "markdown",
   "metadata": {},
   "source": [
    "##### *logfile*\n",
    "\n",
    "Allows for a user-defined log file naming convention if *verbose=True*.\n",
    "\n",
    "&nbsp;"
   ]
  },
  {
   "cell_type": "markdown",
   "metadata": {
    "nbsphinx-toctree": {
     "hidden": true
    }
   },
   "source": [
    "[Description](task_simanalyze/about)\n",
    "[Examples](task_simanalyze/examples)\n"
   ]
  }
 ],
 "metadata": {},
 "nbformat": 4,
 "nbformat_minor": 5
}
