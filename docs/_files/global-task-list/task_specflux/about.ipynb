{
 "cells": [
  {
   "cell_type": "markdown",
   "metadata": {},
   "source": [
    "# Description\n",
    "\n",
    "specflux task: Report spectral profile and calculate spectral flux over\n",
    "a user specified region\n",
    "\n",
    "**Note**: **specflux** is currently an experimental task. \n",
    "\n",
    "**specflux** retrieves details of a multi-channel image spectrum which\n",
    "has been integrated over a given region (or the entire image by\n",
    "default). One may specify which function to use to combine the pixel\n",
    "values within the region using the *function* parameter. Supported\n",
    "values are 'flux density', 'mean', 'median', and 'sum'. Minimal match is\n",
    "supported. **specflux** also calculates spectrally integrated flux\n",
    "(brightness) values. \n",
    "\n",
    "The task uses the brightness units that are specified in the image\n",
    "header (e.g., Jy/beam or K). When 'flux density' is calculated, the\n",
    "resulting spectra are in units of Jy for cube units of Jy/beam and $K*arcsec^2$ for\n",
    "cube units of K. \n",
    "\n",
    "The spectral integral that **specflux** calculates is the sum of the\n",
    "spectrum multiplied by the channel width. The units are updated\n",
    "accordingly. \n",
    "\n",
    "If the units are $K*arcsec^2$, multiply the reported value\n",
    "by $2.3504\\times10^{-8}\\times d^2$, where\n",
    "$d$ is in\n",
    "pc, to convert from units of $K*arcsec^2$ to units of $K*pc^2$.\n",
    "\n",
    "If provided, *major* and *minor* will be used to compute the beam size,\n",
    "and hence the per channel flux densities (if *function=\"flux density\"*),\n",
    "overriding the input image beam information (if present).\n",
    "\n",
    "**NOTE**: When it is not possible to compute the spectral flux (e.g., in\n",
    "the case where the brightness units are Jy/beam but the image has no\n",
    "synthesized beam and none is provided to the task), then the application\n",
    "will fail.\n",
    "\n",
    "The output of **specflux** is written to the CASA logger and an ASCII\n",
    "file if *logfile* is specified. \n",
    "\n",
    " \n",
    "\n"
   ]
  },
  {
   "cell_type": "markdown",
   "metadata": {},
   "source": [
    "## Parameter descriptions\n",
    "\n"
   ]
  },
  {
   "cell_type": "markdown",
   "metadata": {},
   "source": [
    "##### *imagename*\n",
    "\n",
    "Name of the input image (CASA, FITS or MIRIAD images are accepted). \n",
    "\n"
   ]
  },
  {
   "cell_type": "markdown",
   "metadata": {},
   "source": [
    "##### *region*\n",
    "\n",
    "Region selection, using a [CASA region\n",
    "file](https://casa.nrao.edu/casadocs-devel/stable/imaging/image-analysis/region-files).\n",
    "Default is the entire image. \n",
    "\n"
   ]
  },
  {
   "cell_type": "markdown",
   "metadata": {},
   "source": [
    "##### *box*\n",
    "\n",
    "[Rectangular spatial\n",
    "selection](https://casa.nrao.edu/casadocs-devel/stable/imaging/image-analysis/image-selection-parameters),\n",
    "if no region file is supplied. Default is the entire image.\n",
    "\n"
   ]
  },
  {
   "cell_type": "markdown",
   "metadata": {},
   "source": [
    "##### *chans*\n",
    "\n",
    "[Spectral/channel\n",
    "selection](https://casa.nrao.edu/casadocs-devel/stable/imaging/image-analysis/image-selection-parameters),\n",
    "if no region file is supplied. Default is the entire channel range. \n",
    "\n"
   ]
  },
  {
   "cell_type": "markdown",
   "metadata": {},
   "source": [
    "##### *stokes*\n",
    "\n",
    "[Stokes\n",
    "selection](https://casa.nrao.edu/casadocs-devel/stable/imaging/image-analysis/image-selection-parameters),\n",
    "if no region file is supplied. Default are all Stokes planes. \n",
    "\n"
   ]
  },
  {
   "cell_type": "markdown",
   "metadata": {},
   "source": [
    "##### *mask*\n",
    "\n",
    "An [image\n",
    "mask](https://casa.nrao.edu/casadocs-devel/stable/imaging/image-analysis/image-masks)\n",
    "file. Default is not to use a mask.  \n",
    "\n"
   ]
  },
  {
   "cell_type": "markdown",
   "metadata": {},
   "source": [
    "##### *stretch*\n",
    "\n",
    "If the image mask is a single plane and not a cube of the same dimension\n",
    "as the input data cube, *stretch* can by set to True to extend the mask\n",
    "to all planes. (Default: False)\n",
    "\n"
   ]
  },
  {
   "cell_type": "markdown",
   "metadata": {},
   "source": [
    "##### *function*\n",
    "\n",
    "Aggregate function to use for computing per channel values. Supported\n",
    "values are 'flux density', 'mean', 'median', 'sum'. Minimal match is\n",
    "supported.*  \n",
    "*\n",
    "\n"
   ]
  },
  {
   "cell_type": "markdown",
   "metadata": {},
   "source": [
    "##### *unit*\n",
    "\n",
    "Unit to use for the spectral flux calculation. Must be conformant with a\n",
    "typical spectral axis unit. Velocity units may only be used if the\n",
    "spectral coordinate has a rest frequency and if it is $> 0$.\n",
    "\n"
   ]
  },
  {
   "cell_type": "markdown",
   "metadata": {},
   "source": [
    "##### *major*\n",
    "\n",
    "Major axis of overriding restoring beam. If specified, it must be a\n",
    "valid quantity (e.g., \"4arcsec\").\n",
    "\n"
   ]
  },
  {
   "cell_type": "markdown",
   "metadata": {},
   "source": [
    "##### *minor*\n",
    "\n",
    "Minor axis of overriding restoring beam. If specified, it must be a\n",
    "valid quantity (e.g., \"3arcsec\").\n",
    "\n"
   ]
  },
  {
   "cell_type": "markdown",
   "metadata": {},
   "source": [
    "##### *logfile*\n",
    "\n",
    "File which to write details. Default is to not write to a file.\n",
    "\n"
   ]
  },
  {
   "cell_type": "markdown",
   "metadata": {},
   "source": [
    "##### *overwrite*\n",
    "\n",
    "Overwrite exisitng *logfile* file if it exists. (Default: False)"
   ]
  }
 ],
 "metadata": {},
 "nbformat": 4,
 "nbformat_minor": 5
}
