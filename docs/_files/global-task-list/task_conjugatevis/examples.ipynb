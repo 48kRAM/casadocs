{
 "cells": [
  {
   "cell_type": "markdown",
   "metadata": {},
   "source": [
    "# Examples\n",
    "\n",
    "task conjugatevis examples\n",
    "\n",
    "Conjugate all visibilities for spectral windows 0 and 1 and store the\n",
    "modified data in a new MeasurementSet NGC253-conj.ms:\n",
    "\n",
    "conjugatevis(vis='NGC253.ms', spwlist=\\[0,1\\],\n",
    "outputvis='NGC253-conj.ms')\n",
    "\n",
    "  \n",
    "  \n",
    "&nbsp;&nbsp;&nbsp;&nbsp;&nbsp;&nbsp;&nbsp;"
   ]
  }
 ],
 "metadata": {},
 "nbformat": 4,
 "nbformat_minor": 5
}
