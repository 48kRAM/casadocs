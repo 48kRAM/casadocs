{
 "cells": [
  {
   "cell_type": "markdown",
   "metadata": {},
   "source": [
    "# Parameters\n",
    "\n",
    "task conjugatevis parameters\n",
    "\n",
    "vis : string\n",
    "\n",
    "Name of input visibility file Default: none Example: vis='ngc5921.ms'\n",
    "\n",
    "Example\n",
    "\n",
    "spwlist : undefined = \"\"\n",
    "\n",
    "Spectral window selection Default:\\[\\] (all spws will be conjugated)\n",
    "Example: spw=\\[1,2\\]\n",
    "\n",
    "Example\n",
    "\n",
    "outputvis : string\n",
    "\n",
    "Name of output visibility file Default: 'conjugated\\_'+vis Example:\n",
    "outputvis='conjugated.ms'\n",
    "\n",
    "Example\n",
    "\n",
    "overwrite : bool = False\n",
    "\n",
    "Overwrite the outputvis if it exists? Default: False Options:\n",
    "False\\|True\n",
    "\n",
    "Example"
   ]
  }
 ],
 "metadata": {},
 "nbformat": 4,
 "nbformat_minor": 5
}
