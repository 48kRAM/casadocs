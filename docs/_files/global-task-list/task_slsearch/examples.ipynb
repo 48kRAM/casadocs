{
 "cells": [
  {
   "cell_type": "markdown",
   "metadata": {},
   "source": [
    "# Examples\n",
    "\n",
    "task examples\n",
    "\n",
    " To search the [Splatalogue\n",
    "database](http://www.cv.nrao.edu/php/splat/) for spectral lines in the\n",
    "frequency range 90 - 92 GHz, and write the result to a table named\n",
    "\"myspectrallines.tbl\" as well as to the logger:  \n",
    "\n",
    "\n",
    "slsearch(outfile=\"myspectrallines.tbl\",\n",
    "freqrange=\\[90,92\\], verbose=True)"
   ]
  }
 ],
 "metadata": {},
 "nbformat": 4,
 "nbformat_minor": 5
}
