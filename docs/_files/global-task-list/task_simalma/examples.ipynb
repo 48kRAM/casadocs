{
 "cells": [
  {
   "cell_type": "markdown",
   "metadata": {},
   "source": [
    "# Examples\n",
    "\n",
    "task examples\n",
    "\n",
    "Example of a **simalma** routine. More information on this can be seen\n",
    "[here](https://casaguides.nrao.edu/index.php/Simalma_(CASA_5.1)).\n",
    "\n",
    "\\"
   ]
  },
  {
   "cell_type": "markdown",
   "metadata": {},
   "source": [
    "## Set simalma to default parameters  \n",
    "default(\"simalma\")  \n",
    "\\"
   ]
  },
  {
   "cell_type": "markdown",
   "metadata": {},
   "source": [
    "## Our project name will be \"m51\", and all simulation products will be\n",
    "placed in a subdirectory \"m51/\"  \n",
    "project=\"m51\"  \n",
    "overwrite=True  \n",
    "\\"
   ]
  },
  {
   "cell_type": "markdown",
   "metadata": {},
   "source": [
    "## Model sky = H_alpha image of M51  \n",
    "os.system('curl https://casaguides.nrao.edu/images/3/3f/M51ha.fits.txt\n",
    "-f -o M51ha.fits')  \n",
    "skymodel=\"M51ha.fits\"  \n",
    "\\"
   ]
  },
  {
   "cell_type": "markdown",
   "metadata": {},
   "source": [
    "## Set model image parameters:  \n",
    "indirection=\"J2000 23h59m59.96s -34d59m59.50s\"  \n",
    "incell=\"0.1arcsec\"  \n",
    "inbright=\"0.004\"  \n",
    "incenter=\"330.076GHz\"  \n",
    "inwidth=\"50MHz\"  \n",
    "antennalist=\\[\"alma.cycle5.3.cfg\",\"aca.cycle5.cfg\"\\]  \n",
    "totaltime=\"1800s\"  \n",
    "tpnant = 2  \n",
    "tptime=\"7200s\"  \n",
    "pwv=0.6  \n",
    "mapsize=\"1arcmin\"  \n",
    "dryrun = False  \n",
    "simalma()"
   ]
  }
 ],
 "metadata": {},
 "nbformat": 4,
 "nbformat_minor": 5
}
