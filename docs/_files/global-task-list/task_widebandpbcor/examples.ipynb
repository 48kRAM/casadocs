{
 "cells": [
  {
   "cell_type": "markdown",
   "metadata": {},
   "source": [
    "# Examples\n",
    "\n",
    "task examples\n",
    "\n",
    "Run the MTMFS deconvolver to generate wideband Taylor coefficient\n",
    "solutions from spectral windows 0, 1 and 2 of a dataset:\n",
    "\n",
    "tclean(vis='xxx.ms', imagename='try', spw='0\\~3', imsize=200,\n",
    "cell='10.0arcsec', deconvolver='mtmfs', nterms=2, niter=20)\n",
    "\n",
    " \n",
    "\n",
    "Apply wideband PB correction using the middle channel (for example,\n",
    "channel number 32) from each spectral window to compute a primary beam\n",
    "cube to which Taylor coefficients are fit:\n",
    "\n",
    "widebandpbcor(vis='xxx.ms', imagename='try', nterms=2,\n",
    "threshold='0.1Jy', action='pbcor', spwlist=\\[0,1,2\\], chanlist=\\[32,32,32\\], weightlist=\\[1.0,1.0,1.0\\])\n",
    "\n",
    " \n",
    "\n",
    "Use the 'calcalpha' mode to recalculate spectral index with a different\n",
    "threshold at which to apply the True/False mask in the ouput image:\n",
    "\n",
    "widebandpbcor(vis='xxx.ms', imagename='try', nterms=2,\n",
    "threshold='0.05Jy', action='calcalpha')"
   ]
  }
 ],
 "metadata": {},
 "nbformat": 4,
 "nbformat_minor": 5
}
