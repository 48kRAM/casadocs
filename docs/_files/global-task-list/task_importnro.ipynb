{
 "cells": [
  {
   "cell_type": "markdown",
   "metadata": {},
   "source": [
    "# importnro\n",
    "\n",
    "task description\n",
    "\n",
    "Task **importnro** enables one to convert the data obtained with the\n",
    "NRO45m telescope into the CASA MS2 format. Usage of this task is very\n",
    "simple. Set *infile* and *outputvis*, then run the task. At this moment,\n",
    "only the OTF data (NOSTAR data) obtained with the SAM45 spectrometer is\n",
    "supported, and the OTF data obtained with the other spectrometers (e.g.,\n",
    "AOS) and the PSW data (NEWSTAR data) are outside of scope\n",
    "(Jan./25/2017)  \n",
    "  \n",
    "An important point in using **importnro** is the treatment of the beams\n",
    "of the multi-beam receiver such as FOREST, where different beams are\n",
    "assigned to different antennas (not beam!).&nbsp;When using other tasks\n",
    "such as **plotms** or **sdbaseline**, individual beams can be specified\n",
    "in the following ways:\n",
    "\n",
    "(When you specify beam 1,)  \n",
    "antenna = &lsquo;0&&&&rsquo;,  \n",
    "antenna = &lsquo;0&&0&rsquo;, or  \n",
    "antenna = &lsquo;NRO-BEAM0&rsquo;.  \n",
    "  \n",
    "Another important point is about the array of SAM45.&nbsp;Except for\n",
    "FOREST, **importnro** assigns SAM45&rsquo;s sixteen arrays labelled\n",
    "A01-A16 to spw of 0-15 in ascending order, even if some different arrays\n",
    "share the same frequency setting. As a result,&nbsp;every MS2 file\n",
    "generated via **importnro** has sixteen spw IDs&nbsp;due to the high\n",
    "flexibility of the frequency setting in SAM45.\n",
    "\n",
    "On the other hand, in the data obtained using FOREST, assignments of\n",
    "four beams, two polarizations, and two sidebands (4 x 2 x 2 = 16) to\n",
    "SAM45&rsquo;s sixteen arrays are fixed, and there is no flexibility for\n",
    "users in choosing arrays when preparing the observation tables. Hence\n",
    "**importnro** generates a MS2 file which contains only two spw IDs (0\n",
    "and 1) when importing FOREST OTF data. This is also the case in the\n",
    "so-called spectral window mode of FOREST, which enables one to use\n",
    "thirty-two arrays and to set four frequency settings. In this case\n",
    "**importnro** returns a MS2 file having four spw IDs (0-3).  \n",
    "  \n",
    "The other parameters can be specified in the same manner as in the ALMA\n",
    "data. The results of the data import can be checked using task\n",
    "**listobs**."
   ]
  },
  {
   "cell_type": "markdown",
   "metadata": {
    "nbsphinx-toctree": {
     "hidden": true
    }
   },
   "source": [
    "[Description](task_importnro/about)\n",
    "[Parameters](task_importnro/parameters)\n",
    "[Changelog](task_importnro/changelog)\n",
    "[Examples](task_importnro/examples)\n",
    "[Developer](task_importnro/developer)\n"
   ]
  }
 ],
 "metadata": {},
 "nbformat": 4,
 "nbformat_minor": 5
}
