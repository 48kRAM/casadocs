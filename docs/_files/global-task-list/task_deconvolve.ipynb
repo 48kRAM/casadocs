{
 "cells": [
  {
   "cell_type": "markdown",
   "metadata": {},
   "source": [
    "# deconvolve\n",
    "\n",
    "image based deconvolver\n",
    "\n",
    "**deconvolve** performs minor cycle deconvolution directly on a dirty\n",
    "image. No MS is required.&nbsp;\n",
    "\n",
    "**ALERT:** **deconvolve** is currently defunct. We plan to replace the\n",
    "task with **tclean**&nbsp;code. For the moment use **tclean** (although\n",
    "**tclean** requires an MS at this stage), or please\n",
    "use&nbsp;**deconvolve** in an older version of CASA (v4.7.2 or earlier).\n",
    "\n",
    "&nbsp;\n",
    "\n"
   ]
  },
  {
   "cell_type": "markdown",
   "metadata": {},
   "source": [
    "## Parameter descriptions\n",
    "\n"
   ]
  },
  {
   "cell_type": "markdown",
   "metadata": {},
   "source": [
    "##### *imagename*\n",
    "\n",
    "The input dirty image that will be deconvolved.\n",
    "\n"
   ]
  },
  {
   "cell_type": "markdown",
   "metadata": {},
   "source": [
    "##### m*odel*\n",
    "\n",
    "The output cleaned image containing a deconvolved point model.\n",
    "\n"
   ]
  },
  {
   "cell_type": "markdown",
   "metadata": {},
   "source": [
    "##### *psf*\n",
    "\n",
    "Can be either be an image (e.g., a psf that **tclean** has calculated),\n",
    "or a list of values that define a Gaussian, e.g.,&nbsp;*psf=\\['3arcsec',\n",
    "'2.5arcsec', '10deg'\\]* defines a Gaussian with '3arcsec' as the major\n",
    "axis, '2.5arcsec' as the minor axis, and a position angle of 10\n",
    "degrees.&nbsp;\n",
    "\n"
   ]
  },
  {
   "cell_type": "markdown",
   "metadata": {},
   "source": [
    "##### *alg*\n",
    "\n",
    "The clean algorithm to use by **deconvolve**. Several algorithms are\n",
    "available to deconvolve an image with a known psf (dirty beam), or a\n",
    "Gaussian beam. The algorithms are 'clark' (default) and 'hogbom' clean,\n",
    "'multiscale' clean and a Maximum Entropy 'mem' clean. Details on the\n",
    "algorithms are given in the [Synthesis\n",
    "Imaging](https://casa.nrao.edu/casadocs-devel/stable/imaging/synthesis-imaging)\n",
    "chapter in the page describing&nbsp;[Deconvolution\n",
    "Algorithms.](https://casa.nrao.edu/casadocs-devel/stable/imaging/synthesis-imaging/deconvolution-algorithms)\n",
    "\n"
   ]
  },
  {
   "cell_type": "markdown",
   "metadata": {},
   "source": [
    "#### *alg='multiscale'* expandable parameters\n",
    "\n"
   ]
  },
  {
   "cell_type": "markdown",
   "metadata": {},
   "source": [
    "##### *scales*\n",
    "\n",
    "A list of scales in units of pixels (see the **deconvolve** examples\n",
    "tab).\n",
    "\n"
   ]
  },
  {
   "cell_type": "markdown",
   "metadata": {},
   "source": [
    "#### *alg='mem'* expandable parameters\n",
    "\n"
   ]
  },
  {
   "cell_type": "markdown",
   "metadata": {},
   "source": [
    "##### *sigma*\n",
    "\n",
    "This parameter allows the user to input an expected noise value, which\n",
    "will allow for a faster convergence.\n",
    "\n"
   ]
  },
  {
   "cell_type": "markdown",
   "metadata": {},
   "source": [
    "##### *targetflux*\n",
    "\n",
    "The estimated total flux in the image.\n",
    "\n"
   ]
  },
  {
   "cell_type": "markdown",
   "metadata": {},
   "source": [
    "##### *prior*\n",
    "\n",
    "A starting model to be used by **deconvolve**. If no&nbsp;*prior* is\n",
    "provided, a flat image will be used.\n",
    "\n",
    "&nbsp;\n",
    "\n"
   ]
  },
  {
   "cell_type": "markdown",
   "metadata": {},
   "source": [
    "##### *niter*\n",
    "\n",
    "The number of iterations to perform on the image. Default: 10\n",
    "\n"
   ]
  },
  {
   "cell_type": "markdown",
   "metadata": {},
   "source": [
    "##### *gain*\n",
    "\n",
    "Sets the CLEAN gain parameter. Default: 0.1\n",
    "\n"
   ]
  },
  {
   "cell_type": "markdown",
   "metadata": {},
   "source": [
    "##### *threshold*\n",
    "\n",
    "Sets the lower level below which sources will not be deconvolved.\n",
    "\n"
   ]
  },
  {
   "cell_type": "markdown",
   "metadata": {},
   "source": [
    "##### *mask*\n",
    "\n",
    "The image mask to limit the region of deconvolution.\n",
    "\n",
    "&nbsp;\n",
    "\n",
    "&nbsp;"
   ]
  },
  {
   "cell_type": "markdown",
   "metadata": {
    "nbsphinx-toctree": {
     "hidden": true
    }
   },
   "source": [
    "[Description](task_deconvolve/about)\n",
    "[Parameters](task_deconvolve/parameters)\n",
    "[Changelog](task_deconvolve/changelog)\n",
    "[Examples](task_deconvolve/examples)\n",
    "[Developer](task_deconvolve/developer)\n"
   ]
  }
 ],
 "metadata": {},
 "nbformat": 4,
 "nbformat_minor": 5
}
