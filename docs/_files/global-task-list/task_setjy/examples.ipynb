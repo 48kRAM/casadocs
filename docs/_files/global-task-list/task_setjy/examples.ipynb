{
 "cells": [
  {
   "cell_type": "markdown",
   "metadata": {},
   "source": [
    "# Examples\n",
    "\n",
    "task examples\n",
    "\n"
   ]
  },
  {
   "cell_type": "markdown",
   "metadata": {},
   "source": [
    "## Set flux density explictly\n",
    "\n",
    "With standard='manual' (and *selectdata=True*), the parameters look like\n",
    "this. fluxdensity takes a list of flux densities, \\[I, Q, U, V\\] at\n",
    "*reffreq*. The same reffreq will be used as a reference frequecy for\n",
    "*spix*, *polindex*, and *polange*.\n",
    "\n",
    "\\"
   ]
  },
  {
   "cell_type": "markdown",
   "metadata": {},
   "source": [
    "##  setjy :: Fills the model column with the visibilities of a\n",
    "calibrator  \n",
    "vis                 =         ''        \\"
   ]
  },
  {
   "cell_type": "markdown",
   "metadata": {},
   "source": [
    "##  Name of input visibility\n",
    "file  \n",
    "field               =         ''        \\"
   ]
  },
  {
   "cell_type": "markdown",
   "metadata": {},
   "source": [
    "##  Field name(s)  \n",
    "spw                 =         ''        \\"
   ]
  },
  {
   "cell_type": "markdown",
   "metadata": {},
   "source": [
    "##  Spectral window identifier\n",
    "(list)  \n",
    "selectdata          =       True        \\"
   ]
  },
  {
   "cell_type": "markdown",
   "metadata": {},
   "source": [
    "##  Other data selection\n",
    "parameters  \n",
    "     timerange      =         ''        \\"
   ]
  },
  {
   "cell_type": "markdown",
   "metadata": {},
   "source": [
    "##  Time range to operate on\n",
    "(for usescratch=T)  \n",
    "     scan           =         ''        \\"
   ]
  },
  {
   "cell_type": "markdown",
   "metadata": {},
   "source": [
    "##  Scan number range (for\n",
    "usescaratch=T)  \n",
    "     intent         =         ''        \\"
   ]
  },
  {
   "cell_type": "markdown",
   "metadata": {},
   "source": [
    "##  Observation intent  \n",
    "     observation    =         ''        \\"
   ]
  },
  {
   "cell_type": "markdown",
   "metadata": {},
   "source": [
    "##  Observation ID range (for\n",
    "usescratch=T)  \n",
    "  \n",
    "scalebychan         =       True        \\"
   ]
  },
  {
   "cell_type": "markdown",
   "metadata": {},
   "source": [
    "##  scale the flux density on a\n",
    "per channel basis or else on  \n",
    "                                        \\"
   ]
  },
  {
   "cell_type": "markdown",
   "metadata": {},
   "source": [
    "##   a per spw basis  \n",
    "standard            =   'manual'        \\"
   ]
  },
  {
   "cell_type": "markdown",
   "metadata": {},
   "source": [
    "##  Flux density standard  \n",
    "     fluxdensity    =         -1        \\"
   ]
  },
  {
   "cell_type": "markdown",
   "metadata": {},
   "source": [
    "##  Specified flux density\n",
    "\\[I,Q,U,V\\]; (-1 will lookup values)  \n",
    "     spix           =        0.0        \\"
   ]
  },
  {
   "cell_type": "markdown",
   "metadata": {},
   "source": [
    "##  Spectral index (including\n",
    "higher terms) of I fluxdensity  \n",
    "     reffreq        =     '1GHz'        \\"
   ]
  },
  {
   "cell_type": "markdown",
   "metadata": {},
   "source": [
    "##  Reference frequency for\n",
    "spix  \n",
    "     polindex       =         \\[\\]        \\"
   ]
  },
  {
   "cell_type": "markdown",
   "metadata": {},
   "source": [
    "##  Coefficients of an\n",
    "expansion of frequency-dependent  \n",
    "                                        \\"
   ]
  },
  {
   "cell_type": "markdown",
   "metadata": {},
   "source": [
    "##   linear polarization\n",
    "fraction expression  \n",
    "     polangle       =         \\[\\]        \\"
   ]
  },
  {
   "cell_type": "markdown",
   "metadata": {},
   "source": [
    "##  Coefficients of an\n",
    "expansion of frequency-dependent  \n",
    "                                        \\"
   ]
  },
  {
   "cell_type": "markdown",
   "metadata": {},
   "source": [
    "##   polarization angle\n",
    "expression  \n",
    "     rotmeas        =        0.0        \\"
   ]
  },
  {
   "cell_type": "markdown",
   "metadata": {},
   "source": [
    "##  Rotation measure (in\n",
    "rad/m^2)  \n",
    "  \n",
    "usescratch          =      False        \\"
   ]
  },
  {
   "cell_type": "markdown",
   "metadata": {},
   "source": [
    "##  Will create if necessary and\n",
    "use the MODEL_DATA\n",
    "\n",
    "In the simplest form, setting a constant Stokes I flux density for a\n",
    "calibrator ( field='0') for all spw can be done as\n",
    "\n",
    "setjy(vis='data.ms', field='0', fluxdensity=\\[3.5,0.0,0.0,0.0\\])\n",
    "\n",
    "To set Stokes I flux density with spectral index and Stokes Q and U\n",
    "using frequency-dependent polarization index and polarization angle (in\n",
    "rad) also including rotation measure:\n",
    "\n",
    "setjy(vis=‘data.ms’, standard='manual', field = ‘3C48’,\n",
    "fluxdensity=\\[6.4861, 0, 0, 0\\], spix=\\[-0.630458,-0.132252\\],\n",
    "reffreq=\"3000.0MHz”, polindex=\\[0.02143,0.0392,0.002349,-0.0230\\]\n",
    "polangle=\\[-1.7233,1.569,-2.282,1.49\\], rotmeas=-68.0)\n",
    "\n"
   ]
  },
  {
   "cell_type": "markdown",
   "metadata": {},
   "source": [
    "## Use one of the predefined standards\n",
    "\n",
    " Current default for *standard* is 'Perley-Butler 2017' and the\n",
    "parameters look like this (with *selectdata=True*):\n",
    "\n",
    "\\"
   ]
  },
  {
   "cell_type": "markdown",
   "metadata": {},
   "source": [
    "##  setjy :: Fills the model column with the visibilities of a\n",
    "calibrator  \n",
    "vis                 =         ''        \\"
   ]
  },
  {
   "cell_type": "markdown",
   "metadata": {},
   "source": [
    "##  Name of input visibility\n",
    "file  \n",
    "field               =         ''        \\"
   ]
  },
  {
   "cell_type": "markdown",
   "metadata": {},
   "source": [
    "##  Field name(s)  \n",
    "spw                 =         ''        \\"
   ]
  },
  {
   "cell_type": "markdown",
   "metadata": {},
   "source": [
    "##  Spectral window identifier\n",
    "(list)  \n",
    "selectdata          =       True        \\"
   ]
  },
  {
   "cell_type": "markdown",
   "metadata": {},
   "source": [
    "##  Other data selection\n",
    "parameters  \n",
    "     timerange      =         ''        \\"
   ]
  },
  {
   "cell_type": "markdown",
   "metadata": {},
   "source": [
    "##  Time range to operate on\n",
    "(for usescratch=T)  \n",
    "     scan           =         ''        \\"
   ]
  },
  {
   "cell_type": "markdown",
   "metadata": {},
   "source": [
    "##  Scan number range (for\n",
    "usescaratch=T)  \n",
    "     intent         =         ''        \\"
   ]
  },
  {
   "cell_type": "markdown",
   "metadata": {},
   "source": [
    "##  Observation intent  \n",
    "     observation    =         ''        \\"
   ]
  },
  {
   "cell_type": "markdown",
   "metadata": {},
   "source": [
    "##  Observation ID range (for\n",
    "usescratch=T)  \n",
    "  \n",
    "scalebychan         =       True        \\"
   ]
  },
  {
   "cell_type": "markdown",
   "metadata": {},
   "source": [
    "##  scale the flux density on a\n",
    "per channel basis or else on a per spw basis  \n",
    "standard            = 'Perley-Butler 2017' \\"
   ]
  },
  {
   "cell_type": "markdown",
   "metadata": {},
   "source": [
    "##  Flux density standard  \n",
    "     model          =         ''        \\"
   ]
  },
  {
   "cell_type": "markdown",
   "metadata": {},
   "source": [
    "##  File location for field\n",
    "model  \n",
    "     listmodels     =      False        \\"
   ]
  },
  {
   "cell_type": "markdown",
   "metadata": {},
   "source": [
    "##  List the available modimages\n",
    "for VLA calibrators or Tb models for Solar System objects  \n",
    "     interpolation  =  'nearest'        \\"
   ]
  },
  {
   "cell_type": "markdown",
   "metadata": {},
   "source": [
    "##  method to be used to\n",
    "interpolate in time  \n",
    "  \n",
    "usescratch          =      False        \\"
   ]
  },
  {
   "cell_type": "markdown",
   "metadata": {},
   "source": [
    "##  Will create if necessary and\n",
    "use the MODEL_DATA\n",
    "\n",
    "In the most simplest case, using the default stanadard, if *field='0'*\n",
    "is one of the known sources as listed in Flux Calibrator Models (e.g.\n",
    "3C286), the following will set appropriate channel dependent flux\n",
    "densities for all spws.\n",
    "\n",
    "setjy(vis='data.ms', field='0')\n",
    "\n",
    "For selected spws with field specified by the source name:\n",
    "\n",
    "setjy(vis='data.ms', field='3C286', spw='0,2')\n",
    "\n",
    "With a model image:\n",
    "\n",
    "setjy(vis='ngc7538_XBAND.ms', field='0', modimage='3C48_X.im')\n",
    "\n",
    "Note that if there is no 3C48_X.im in the current directory, setjy looks\n",
    "for it in the default model data image directory.\n",
    "\n",
    " An example for a Solar System object as a flux calibrator using using\n",
    "data from [the M99\n",
    "tutorial](http://casaguides.nrao.edu/index.php?title=CARMA_spectral_line_mosaic_M99)\n",
    "in CASA Guides:\n",
    "\n",
    "setjy(vis=’c0104I’, field=’MARS’, spw=’0\\~2’,\n",
    "standard=’Butler-JPL-Horizons 2012’)\n",
    "\n",
    "To list supported models for the relevant standard, set\n",
    "l*istmodels=True* and select standard (no need to set *vis*):\n",
    "\n",
    "setjy(listmodels=True)\n",
    "\n",
    "This will show a list of the VLA model images along with their full\n",
    "paths to the terminal:\n",
    "\n",
    "No candidate modimages matching '\\*.im\\* \\*.mod\\*' found in .  \n",
    "  \n",
    "Candidate modimages (\\*) in\n",
    "/users/ttsutsum/casabuilds/data/nrao/VLA/CalModels:  \n",
    "3C138_A.im 3C138_L.im 3C138_U.im 3C147_C.im 3C147_Q.im 3C147_X.im\n",
    "3C286_K.im 3C286_S.im 3C48_A.im  3C48_L.im  3C48_U.im  \n",
    "3C138_C.im 3C138_Q.im 3C138_X.im 3C147_K.im 3C147_S.im 3C286_A.im\n",
    "3C286_L.im 3C286_U.im 3C48_C.im  3C48_Q.im  3C48_X.im  \n",
    "3C138_K.im 3C138_S.im 3C147_A.im 3C147_L.im 3C147_U.im 3C286_C.im\n",
    "3C286_Q.im 3C286_X.im 3C48_K.im  3C48_S.im  README\n",
    "\n",
    "Similarly, for Solar System objects (e.g. *standard='Butler-JPL-Horizons\n",
    "2012'*), Tb models and new time asteroid models are listed by:\n",
    "\n",
    "setjy(standard='Butler-JPL-Horizons 2012', listmodels=True)\n",
    "\n",
    "This will show a list looks like below in the terminal:\n",
    "\n",
    "Tb models of solar system objects available for Butler-JPL-Horizons 2012\n",
    "(\\*Tb\\*.dat) in\n",
    "/users/ttsutsum/casabuilds/data/alma/SolarSystemModels:  \n",
    "Callisto_Tb.dat  Europa_Tb.dat    Io_Tb.dat        Jupiter_Tb.dat  \n",
    "Mars_Tb_time.dat Pallas_Tb.dat    Uranus_Tb.dat    Vesta_Tb.dat  \n",
    "Ceres_Tb.dat     Ganymede_Tb.dat  Juno_Tb.dat      Mars_Tb.dat     \n",
    "Neptune_Tb.dat   Titan_Tb.dat     Venus_Tb.dat  \n",
    "  \n",
    "Time variable models of asteroids available for Butler-JPL-Horizons 2012\n",
    "\\[only applicable for the observation date 2015.01.01 0UT and beyond\\]\n",
    "(\\*fd_time.dat) in\n",
    "/users/ttsutsum/casabuilds/data/alma/SolarSystemModels:  \n",
    "Ceres_fd_time.dat   Lutetia_fd_time.dat Pallas_fd_time.dat \n",
    "Vesta_fd_time.dat"
   ]
  }
 ],
 "metadata": {},
 "nbformat": 4,
 "nbformat_minor": 5
}
