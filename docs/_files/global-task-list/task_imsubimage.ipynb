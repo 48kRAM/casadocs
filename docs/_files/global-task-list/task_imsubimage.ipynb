{
 "cells": [
  {
   "cell_type": "markdown",
   "metadata": {},
   "source": [
    "# imsubimage\n",
    "\n",
    "imsubimage task: Create a (sub)image from a region of the image\n",
    "\n",
    "This task copies all or part of the image to a new image specified by\n",
    "*outfile*. Both float and complex valued images are supported.\n",
    "\n",
    "Sometimes it is useful to drop axes of length one (degenerate axes). Set\n",
    "*dropdeg* equal to True if you want to do this.\n",
    "\n",
    "The output mask is the union (logical AND) of the default input pixel\n",
    "mask (if any) and the OTF mask. Any other input pixel masks will not be\n",
    "copied. Use function **ia.maskhandler** if you need to copy other masks\n",
    "too.\n",
    "\n",
    "If the mask has fewer dimensions than the image and if the shape of the\n",
    "dimensions the mask and image have in common are the same, the mask will\n",
    "automatically have the missing dimensions added so it conforms to the\n",
    "image.\n",
    "\n",
    "If *stretch=True* and if the number of mask dimensions is less than or\n",
    "equal to the number of image dimensions and some axes in the mask are\n",
    "degenerate while the corresponding axes in the image are not, the mask\n",
    "will be stretched in the degenerate dimensions. For example, if the\n",
    "input image has shape \\[100, 200, 10\\] and the input mask has shape\n",
    "\\[100, 200, 1\\] and *stretch=True*, the mask will be stretched along the\n",
    "third dimension to shape \\[100, 200, 10\\]. However if the mask\n",
    "has&nbsp;shape \\[100, 200, 2\\], stretching is not possible and an error\n",
    "will result.\n",
    "\n",
    "&nbsp;\n",
    "\n"
   ]
  },
  {
   "cell_type": "markdown",
   "metadata": {},
   "source": [
    "## Task-specific parameters\n",
    "\n"
   ]
  },
  {
   "cell_type": "markdown",
   "metadata": {},
   "source": [
    "##### *dropdeg*\n",
    "\n",
    "Exclude axes from output image if they would have a length of one pixel.\n",
    "\n"
   ]
  },
  {
   "cell_type": "markdown",
   "metadata": {},
   "source": [
    "##### *verbose*\n",
    "\n",
    "Post additional informative, possibly useful, messages to the logger?\n",
    "\n"
   ]
  },
  {
   "cell_type": "markdown",
   "metadata": {},
   "source": [
    "##### *keepaxes*\n",
    "\n",
    "If dropdeg=True, these are the degenerate axes to keep. Nondegenerate\n",
    "axes are implicitly always kept. Ignored if dropdeg=False; all axes are\n",
    "kept in that case."
   ]
  },
  {
   "cell_type": "markdown",
   "metadata": {
    "nbsphinx-toctree": {
     "hidden": true
    }
   },
   "source": [
    "[Description](task_imsubimage/about)\n",
    "[Examples](task_imsubimage/examples)\n"
   ]
  }
 ],
 "metadata": {},
 "nbformat": 4,
 "nbformat_minor": 5
}
