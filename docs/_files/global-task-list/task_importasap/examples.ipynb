{
 "cells": [
  {
   "cell_type": "markdown",
   "metadata": {},
   "source": [
    "# Examples\n",
    "\n",
    "task examples\n",
    "\n",
    "To convert an ASAP (scantable) based\n",
    "format file into MeasurementSet format:\n",
    "\n",
    "importasap(infile='mydata.asap',  \n",
    "&nbsp;&nbsp;&nbsp;\n",
    "outputvis='mydata.ms',  \n",
    "&nbsp;&nbsp;&nbsp;\n",
    "flagbackup=True,  \n",
    "&nbsp;&nbsp;&nbsp;\n",
    "overwrite=False,  \n",
    "&nbsp;&nbsp;&nbsp; parallel=False)\n",
    "\n",
    "By default, **importasap** preserves\n",
    "flags, will not overwrite any existing files with the output, and\n",
    "will&nbsp;not engage parallel processing in the conversion (which would\n",
    "otherwise make the conversion faster)."
   ]
  }
 ],
 "metadata": {},
 "nbformat": 4,
 "nbformat_minor": 5
}
