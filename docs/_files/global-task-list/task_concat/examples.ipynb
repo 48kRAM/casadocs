{
 "cells": [
  {
   "cell_type": "markdown",
   "metadata": {},
   "source": [
    "# Examples\n",
    "\n",
    "task concat examples\n",
    "\n",
    "Concatenate 'ngc5921.ms' into 'src2.ms' (the original src2.ms is lost):\n",
    "\n",
    "concat(vis=\\['src2.ms','ngc5921.ms'\\], concatvis='src2.ms')\n",
    "\n",
    "Concatenate 'ngc5921.ms' and 'src2.ms' into a file named 'out.ms' (the\n",
    "original 'ngc5921.ms' and 'src2.ms' are untouched):\n",
    "\n",
    "concat(vis=\\['src2.ms','ngc5921.ms'\\], concatvis='out.ms')\n",
    "\n",
    "Like the previous example but using a direction tolerance increased to\n",
    "0.5 arcsec. Fields whose directions differ by less than this limit are\n",
    "merged into one field with the name and direction from the\n",
    "chronologically first input MS:\n",
    "\n",
    "concat(vis=\\['src2.ms','ngc5921.ms'\\], concatvis='out.ms',\n",
    "dirtol='0.5arcsec')\n",
    "\n",
    "Concatenate many MSs:\n",
    "\n",
    "concat(vis=\\['v1.ms','v2.ms'\\], concatvis = 'vall.ms') \\#then  \n",
    "concat(vis=\\['v3.ms','v4.ms'\\], concatvis = 'vall.ms')\n",
    "\n",
    "vall.ms will contain v1.ms+v2.ms+v3.ms+v4.ms .\n",
    "\n",
    "**NOTE**: Run flagmanager to save flags in the *concatvis.*"
   ]
  }
 ],
 "metadata": {},
 "nbformat": 4,
 "nbformat_minor": 5
}
