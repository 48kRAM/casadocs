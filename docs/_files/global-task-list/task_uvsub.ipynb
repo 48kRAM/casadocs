{
 "cells": [
  {
   "cell_type": "markdown",
   "metadata": {},
   "source": [
    "# uvsub\n",
    "\n",
    "task uvsub description\n",
    "\n",
    "Subtracts model visibilities from the corrected visibility data in a\n",
    "MeasurementSet.\n",
    "\n",
    "This task subtracts the model visibilities in the MODEL_DATA column of a\n",
    "MeasurementSet from the corrected visbilities in the CORRECTED_DATA\n",
    "column. The MODEL_DATA column can either be the scratch column or a\n",
    "virtual one. The residuals after subtraction are placed in the\n",
    "CORRECTED_DATA column. If the parameter *reverse* is set to True, the\n",
    "process is reversed and the model will instead be added to the corrected\n",
    "data. The DATA column is left untouched. If the MeasurementSet has no\n",
    "CORRECTED_DATA column, one is created and the content of the DATA column\n",
    "is copied into it ahead of the **uvsub** process.\n",
    "\n",
    "**NOTE**: **uvsub** does the subtraction over the whole MS. The model\n",
    "visibilities are usually populated by the tasks **clean**/**tclean**,\n",
    "**ft** and **setjy**. If only a subsection of the MS was used in these\n",
    "tasks (e.g., when selecting *field*&nbsp;or *spw*&nbsp;in **clean** or\n",
    "**ft**), then only this subset of model visibilities will be populated\n",
    "and the **uvsub** operation will give expected results only for this\n",
    "subsection of the MS. The remainder of the MS will get the\n",
    "CORRECTED_DATA added/subtracted with whatever was there originally in\n",
    "the MODEL_DATA column (on initialization, the model visibilities are 1\n",
    "for parallel hand and 0 for cross hand).\\\\\n",
    "\n",
    "**WARNING:&nbsp;** Currently, **uvsub** will not work if the frequency\n",
    "axis is different between the MS file the model is derived from and the\n",
    "MS file you are subtracting from. Please use **cvel2** to regrid the\n",
    "frequency axis of the MS to match that of the model.\n",
    "\n",
    "See also the CASA Docs chapter pages on [Subtracting and Adding Model\n",
    "Visibilities](https://casa.nrao.edu/casadocs-devel/stable/calibration-and-visibility-data/uv-manipulation/subtracting-or-adding-model-visibilities).\n",
    "\n",
    "&nbsp;\n",
    "\n"
   ]
  },
  {
   "cell_type": "markdown",
   "metadata": {},
   "source": [
    "## Parameter descriptions\n",
    "\n"
   ]
  },
  {
   "cell_type": "markdown",
   "metadata": {},
   "source": [
    "##### *vis*\n",
    "\n",
    "Name of input visibility file (MS).\n",
    "\n"
   ]
  },
  {
   "cell_type": "markdown",
   "metadata": {},
   "source": [
    "##### *reverse*\n",
    "\n",
    "Reverse the operation (add rather than subtract).\n",
    "Default is *reverse=False*.  \n",
    "\n",
    "\n",
    "&nbsp;"
   ]
  },
  {
   "cell_type": "markdown",
   "metadata": {
    "nbsphinx-toctree": {
     "hidden": true
    }
   },
   "source": [
    "[Description](task_uvsub/about)\n",
    "[Parameters](task_uvsub/parameters)\n",
    "[Changelog](task_uvsub/changelog)\n",
    "[Examples](task_uvsub/examples)\n",
    "[Developer](task_uvsub/developer)\n"
   ]
  }
 ],
 "metadata": {},
 "nbformat": 4,
 "nbformat_minor": 5
}
