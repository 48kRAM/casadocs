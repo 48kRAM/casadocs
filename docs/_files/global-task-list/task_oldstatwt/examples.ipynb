{
 "cells": [
  {
   "cell_type": "markdown",
   "metadata": {},
   "source": [
    "# Examples\n",
    "\n",
    "task examples\n",
    "\n",
    "To run **oldstatwt** on all targets in an MS and estimate the scatter\n",
    "using the standard deviation (not the RMS):\n",
    "\n",
    "oldstatwt(vis='example.ms', dorms=False, intent='\\*TARGET\\*',\n",
    "datacolumn='corrected', minsamp=2)\n",
    "\n",
    "&nbsp;"
   ]
  }
 ],
 "metadata": {},
 "nbformat": 4,
 "nbformat_minor": 5
}
