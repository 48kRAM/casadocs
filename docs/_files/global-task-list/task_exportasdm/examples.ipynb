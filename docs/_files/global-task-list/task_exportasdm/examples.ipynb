{
 "cells": [
  {
   "cell_type": "markdown",
   "metadata": {},
   "source": [
    "# Examples\n",
    "\n",
    "task examples\n",
    "\n",
    "To produce an ASDM named 'uid\\_\\_\\_S021_X1418_X1' using the datacolumn\n",
    "'corrected' in the MS 'ngc4826.ms' with minimal log output:\n",
    "\n",
    "exportasdm(vis=’ngc4826.ms’, asdm=’uid\\_\\_\\_S021_X1418_X1’,    \n",
    "             datacolumn=’corrected’, archiveid=’S021’, rangeid=’X1418’,\n",
    "   \n",
    "             verbose=False)"
   ]
  }
 ],
 "metadata": {},
 "nbformat": 4,
 "nbformat_minor": 5
}
