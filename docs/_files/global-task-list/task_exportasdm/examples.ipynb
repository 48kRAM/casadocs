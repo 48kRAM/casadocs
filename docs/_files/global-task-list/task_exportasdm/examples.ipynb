{
 "cells": [
  {
   "cell_type": "markdown",
   "metadata": {},
   "source": [
    "# Examples\n",
    "\n",
    "task examples\n",
    "\n",
    "To&nbsp;produce an ASDM named 'uid\\_\\_\\_S021_X1418_X1' using the\n",
    "datacolumn 'corrected' in the MS 'ngc4826.ms' with minimal log output:\n",
    "\n",
    "exportasdm(vis=&rsquo;ngc4826.ms&rsquo;,&nbsp;asdm=&rsquo;uid\\_\\_\\_S021_X1418_X1&rsquo;,\n",
    "&nbsp;  \n",
    "&nbsp;&nbsp;&nbsp;&nbsp;&nbsp;&nbsp;&nbsp;&nbsp;&nbsp;&nbsp;&nbsp;&nbsp;&nbsp;datacolumn=&rsquo;corrected&rsquo;,&nbsp;archiveid=&rsquo;S021&rsquo;,&nbsp;rangeid=&rsquo;X1418&rsquo;,\n",
    "&nbsp;  \n",
    "&nbsp;&nbsp;&nbsp;&nbsp;&nbsp;&nbsp;&nbsp;&nbsp;&nbsp;&nbsp;&nbsp;&nbsp;&nbsp;verbose=False)\n",
    "&nbsp;"
   ]
  }
 ],
 "metadata": {},
 "nbformat": 4,
 "nbformat_minor": 5
}
