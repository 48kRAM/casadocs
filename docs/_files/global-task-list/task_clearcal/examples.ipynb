{
 "cells": [
  {
   "cell_type": "markdown",
   "metadata": {},
   "source": [
    "# Examples\n",
    "\n",
    "task clearcal examples\n",
    "\n",
    "To reinitialize the CORRECTED_DATA and fill the column with the\n",
    "(original) observed DATA, and in addition also add a MODEL_DATA column\n",
    "that is set to unity in total intensity and zero in polarization:\n",
    "\n",
    "clearcal(vis='measurementset.ms', spw='0:5\\~61', addmodel=True)\n",
    "\n",
    "**NOTE**: The above will only be done for channels 5 to 61 in spw 0,\n",
    "provided that the scratch columns already existed in the input\n",
    "MeasurementSet. If the scratch columns initially did not exist and are\n",
    "thus added, they will be initialized for the whole data set and the\n",
    "*spw* parameter will be ignored."
   ]
  }
 ],
 "metadata": {},
 "nbformat": 4,
 "nbformat_minor": 5
}
