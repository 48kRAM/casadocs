{
 "cells": [
  {
   "cell_type": "markdown",
   "metadata": {},
   "source": [
    "# Examples\n",
    "\n",
    "To correct an image for the primary beam response out to a radius where\n",
    "the sensitivity drops to 10% of the maximum value in the pointing\n",
    "center:\n",
    "\n",
    "impbcor(imagename=\"attenuated.im\", pbimage=\"mypb.im\",\n",
    "outfile=\"pbcorred.im\", mode=\"divide\", cutoff=0.1)"
   ]
  }
 ],
 "metadata": {},
 "nbformat": 4,
 "nbformat_minor": 5
}
