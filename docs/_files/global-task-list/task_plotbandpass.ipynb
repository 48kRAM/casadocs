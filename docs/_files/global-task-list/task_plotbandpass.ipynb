{
 "cells": [
  {
   "cell_type": "markdown",
   "metadata": {},
   "source": [
    "# plotbandpass\n",
    "\n",
    "task description\n",
    "\n"
   ]
  },
  {
   "cell_type": "markdown",
   "metadata": {},
   "source": [
    "## Summary\n",
    "\n",
    "Plots the bandpass and system temperature\n",
    "(T<sub>sys</sub>) solutions.\n",
    "\n",
    "This generic task was developed at the North American\n",
    "ALMA Science Center (NAASC). It displays T<sub>sys</sub> and bandpass\n",
    "solution tables with options to overlay them in various&nbsp;combinations, and/or with an atmospheric transmission or sky\n",
    "temperature&nbsp;model. It allows for mixed-mode\n",
    "spws (e.g., TDM and FDM for ALMA) and uses the msmd\n",
    "tool to access the information about an MS.\n",
    "\n",
    "Note that&nbsp;the ability to compute and overlay an atmospheric\n",
    "transmission curve or a sky temperature curve is now also available in\n",
    "**plotms**.\n",
    "\n",
    "&nbsp;\n",
    "\n"
   ]
  },
  {
   "cell_type": "markdown",
   "metadata": {},
   "source": [
    "## Parameter descriptions\n",
    "\n"
   ]
  },
  {
   "cell_type": "markdown",
   "metadata": {},
   "source": [
    "##### *antenna*\n",
    "\n",
    "Must be either an ID (int or string or list), or a\n",
    "single antenna name or list.\n",
    "\n"
   ]
  },
  {
   "cell_type": "markdown",
   "metadata": {},
   "source": [
    "##### *basebands *\n",
    "\n",
    "Show only spws from the specified baseband or list of\n",
    "basebands (default: ''=\\[\\]=all)\n",
    "\n"
   ]
  },
  {
   "cell_type": "markdown",
   "metadata": {},
   "source": [
    "##### *buildpdf* \n",
    "\n",
    "True/False; if True and *figfile* is set, assemble pngs\n",
    "into a pdf\n",
    "\n"
   ]
  },
  {
   "cell_type": "markdown",
   "metadata": {},
   "source": [
    "##### *caltable*\n",
    "\n",
    "A bandpass table, of type B or BPOLY\n",
    "\n"
   ]
  },
  {
   "cell_type": "markdown",
   "metadata": {},
   "source": [
    "##### *caltable2*\n",
    "\n",
    "A second cal table, of type BPOLY or B, to overlay on a\n",
    "B table\n",
    "\n"
   ]
  },
  {
   "cell_type": "markdown",
   "metadata": {},
   "source": [
    "##### *caltable3*\n",
    "\n",
    "A third cal table, of type BPOLY, to overlay on the\n",
    "first two\n",
    "\n"
   ]
  },
  {
   "cell_type": "markdown",
   "metadata": {},
   "source": [
    "##### channeldiff\n",
    "\n",
    "Set to value \\> 0 to plot derivatives of amplitude. The value is also\n",
    "used as sigma, and any outliers beyond this sigma will be printed to the\n",
    "logger\n",
    "\n"
   ]
  },
  {
   "cell_type": "markdown",
   "metadata": {},
   "source": [
    "##### *chanrange*\n",
    "\n",
    "set xrange over which to autoscale y-axis for\n",
    "*xaxis='freq'* (e.g., \"5\\~100\") \n",
    "\n"
   ]
  },
  {
   "cell_type": "markdown",
   "metadata": {},
   "source": [
    "##### *chanrangeSetXrange*\n",
    "\n",
    "If True, then *chanrange* also sets the xrange to\n",
    "display\n",
    "\n"
   ]
  },
  {
   "cell_type": "markdown",
   "metadata": {},
   "source": [
    "##### *convert*\n",
    "\n",
    "Full path for convert command (in case it's not found)\n",
    "\n"
   ]
  },
  {
   "cell_type": "markdown",
   "metadata": {},
   "source": [
    "##### *density *\n",
    "\n",
    "Dpi to use in creating PNGs and PDFs\n",
    "(default=108)\n",
    "\n"
   ]
  },
  {
   "cell_type": "markdown",
   "metadata": {},
   "source": [
    "##### *edge*\n",
    "\n",
    "The number of edge channels to ignore in finding\n",
    "outliers (for channeldiff\\>0)\n",
    "\n"
   ]
  },
  {
   "cell_type": "markdown",
   "metadata": {},
   "source": [
    "##### *field*\n",
    "\n",
    "must be an ID, source name, or list thereof; can use\n",
    "trailing \\*: 'J\\*'\n",
    "\n"
   ]
  },
  {
   "cell_type": "markdown",
   "metadata": {},
   "source": [
    "##### *figfile*\n",
    "\n",
    "The base_name of the png files to save:\n",
    "base_name.antX.spwY.png\n",
    "\n"
   ]
  },
  {
   "cell_type": "markdown",
   "metadata": {},
   "source": [
    "##### *figfileSequential* \n",
    "\n",
    "Naming scheme. False: name by spw/antenna\n",
    "(default). True:\n",
    "figfile.1.png, figfile.2.png, etc.\n",
    "\n"
   ]
  },
  {
   "cell_type": "markdown",
   "metadata": {},
   "source": [
    "##### *gs*\n",
    "\n",
    "Full path for ghostscript command (in case it's not\n",
    "found)\n",
    "\n"
   ]
  },
  {
   "cell_type": "markdown",
   "metadata": {},
   "source": [
    "##### *interactive*\n",
    "\n",
    "If False, then *figfile* will run to completion\n",
    "automatically\n",
    "\n"
   ]
  },
  {
   "cell_type": "markdown",
   "metadata": {},
   "source": [
    "##### *lo1 *\n",
    "\n",
    "Specify the LO1 setting (in GHz) for the\n",
    "observation\n",
    "\n"
   ]
  },
  {
   "cell_type": "markdown",
   "metadata": {},
   "source": [
    "##### *overlay* \n",
    "\n",
    "Overlay 'antenna','time','spw', or 'baseband'; make 1\n",
    "plot with different items in colors\n",
    "\n"
   ]
  },
  {
   "cell_type": "markdown",
   "metadata": {},
   "source": [
    "##### *markersize*\n",
    "\n",
    "Size of points (default=3)\n",
    "\n"
   ]
  },
  {
   "cell_type": "markdown",
   "metadata": {},
   "source": [
    "##### *ms* \n",
    "\n",
    "Name of the ms for this table, in case it does not\n",
    "match the string in the caltable\n",
    "\n"
   ]
  },
  {
   "cell_type": "markdown",
   "metadata": {},
   "source": [
    "##### *parentms*\n",
    "\n",
    "Name of the parent ms, in case the ms has been\n",
    "previously split\n",
    "\n"
   ]
  },
  {
   "cell_type": "markdown",
   "metadata": {},
   "source": [
    "##### *pdftk*\n",
    "\n",
    "Full path for pdftk command (in case it's not found)\n",
    "\n"
   ]
  },
  {
   "cell_type": "markdown",
   "metadata": {},
   "source": [
    "##### *phase*\n",
    "\n",
    "The y-axis limits to use for phase plots when\n",
    "*yaxis='both'*\n",
    "\n"
   ]
  },
  {
   "cell_type": "markdown",
   "metadata": {},
   "source": [
    "##### *platformingSigma*\n",
    "\n",
    "Declare platforming if the amplitude derivative exceeds this many times\n",
    "the MAD\n",
    "\n"
   ]
  },
  {
   "cell_type": "markdown",
   "metadata": {},
   "source": [
    "##### *platformingThreshold*\n",
    "\n",
    "If *platformingSigma=0*, then declare platforming if the amplitude\n",
    "derivative exceeds this percentage of the median\n",
    "\n"
   ]
  },
  {
   "cell_type": "markdown",
   "metadata": {},
   "source": [
    "##### *plotrange*\n",
    "\n",
    "Define axis limits: \\[x0,x1,y0,y1\\] where 0,0 means\n",
    "auto\n",
    "\n"
   ]
  },
  {
   "cell_type": "markdown",
   "metadata": {},
   "source": [
    "##### *poln*\n",
    "\n",
    "Polarizations to plot (e.g., 'XX','YY','RR','LL' or ''\n",
    "for both)\n",
    "\n"
   ]
  },
  {
   "cell_type": "markdown",
   "metadata": {},
   "source": [
    "##### *pwv*\n",
    "\n",
    "Define the precipitable water vapour\n",
    "(pwv) to use for the showatm option: 'auto' or value in mm\n",
    "\n"
   ]
  },
  {
   "cell_type": "markdown",
   "metadata": {},
   "source": [
    "##### *resample*\n",
    "\n",
    "Channel expansion factor to use when computing MAD of derivative (for\n",
    "channeldiff\\>0)\n",
    "\n"
   ]
  },
  {
   "cell_type": "markdown",
   "metadata": {},
   "source": [
    "##### *scans*\n",
    "\n",
    "Show only solutions for the specified scans (int, list,\n",
    "or string)\n",
    "\n"
   ]
  },
  {
   "cell_type": "markdown",
   "metadata": {},
   "source": [
    "##### *showatm*\n",
    "\n",
    "Compute and overlay the atmospheric transmission curve\n",
    "(on B or T<sub>sys</sub> solutions)\n",
    "\n"
   ]
  },
  {
   "cell_type": "markdown",
   "metadata": {},
   "source": [
    "##### *showatmfield*\n",
    "\n",
    "Use first observation of this fieldID or name\n",
    "\n"
   ]
  },
  {
   "cell_type": "markdown",
   "metadata": {},
   "source": [
    "##### *showatmPoints*\n",
    "\n",
    "Draw atmospheric curve with points instead of a\n",
    "line\n",
    "\n"
   ]
  },
  {
   "cell_type": "markdown",
   "metadata": {},
   "source": [
    "##### *showBasebandNumber*\n",
    "\n",
    "Put the BBC_NO in the title of each plot\n",
    "\n"
   ]
  },
  {
   "cell_type": "markdown",
   "metadata": {},
   "source": [
    "##### *showfdm*\n",
    "\n",
    "When showing TDM spws with *xaxis='freq'*, draw\n",
    "locations of FDM spws\n",
    "\n"
   ]
  },
  {
   "cell_type": "markdown",
   "metadata": {},
   "source": [
    "##### *showflagged*\n",
    "\n",
    "Show the\n",
    "values of data, even if flagged\n",
    "\n"
   ]
  },
  {
   "cell_type": "markdown",
   "metadata": {},
   "source": [
    "##### *showimage*\n",
    "\n",
    "Also show the atmospheric curve for the image sideband\n",
    "(in black)\n",
    "\n"
   ]
  },
  {
   "cell_type": "markdown",
   "metadata": {},
   "source": [
    "##### *showtsky*\n",
    "\n",
    "Compute and overlay the sky temperature curve instead\n",
    "of transmission\n",
    "\n"
   ]
  },
  {
   "cell_type": "markdown",
   "metadata": {},
   "source": [
    "##### *showlines*\n",
    "\n",
    "Draw lines connecting the data (default=True for amp,\n",
    "False for phase)\n",
    "\n"
   ]
  },
  {
   "cell_type": "markdown",
   "metadata": {},
   "source": [
    "##### *showpoints*\n",
    "\n",
    "Draw points for the data (default=False for amp, True\n",
    "for phase)\n",
    "\n"
   ]
  },
  {
   "cell_type": "markdown",
   "metadata": {},
   "source": [
    "##### *solutionTimeThresholdSeconds*\n",
    "\n",
    "Consider 2 solutions simultaneously if within this\n",
    "interval (default=60)\n",
    "\n"
   ]
  },
  {
   "cell_type": "markdown",
   "metadata": {},
   "source": [
    "##### *spw*\n",
    "\n",
    "Must be single ID or list or range (e.g., \"0\\~4\", not\n",
    "the original ID)\n",
    "\n"
   ]
  },
  {
   "cell_type": "markdown",
   "metadata": {},
   "source": [
    "##### *subplot*\n",
    "\n",
    "11..81,22,32 or 42 for RowsxColumns (default=22), any 3rd digit is\n",
    "ignored\n",
    "\n"
   ]
  },
  {
   "cell_type": "markdown",
   "metadata": {},
   "source": [
    "##### *timeranges*\n",
    "\n",
    "Show only these timeranges, the first timerange being\n",
    "0\n",
    "\n"
   ]
  },
  {
   "cell_type": "markdown",
   "metadata": {},
   "source": [
    "##### *xaxis*\n",
    "\n",
    " 'chan' or 'freq'\n",
    "\n"
   ]
  },
  {
   "cell_type": "markdown",
   "metadata": {},
   "source": [
    "##### *yaxis*\n",
    "\n",
    "'amp', 'tsys', 'phase', or 'both' amp+phase == 'ap'.\n",
    "Append 'db' for dB\n",
    "\n"
   ]
  },
  {
   "cell_type": "markdown",
   "metadata": {},
   "source": [
    "##### *zoom*\n",
    "\n",
    "'intersect' will zoom to overlap region of caltable\n",
    "with caltable2"
   ]
  },
  {
   "cell_type": "markdown",
   "metadata": {
    "nbsphinx-toctree": {
     "hidden": true
    }
   },
   "source": [
    "[Description](task_plotbandpass/about)\n",
    "[Examples](task_plotbandpass/examples)\n"
   ]
  }
 ],
 "metadata": {},
 "nbformat": 4,
 "nbformat_minor": 5
}
