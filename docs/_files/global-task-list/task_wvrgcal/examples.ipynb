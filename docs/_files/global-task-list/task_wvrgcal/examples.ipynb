{
 "cells": [
  {
   "cell_type": "markdown",
   "metadata": {},
   "source": [
    "# Examples\n",
    "\n",
    "task wvrgcal examples\n",
    "\n",
    "wvrgcal(vis='uid\\_\\_\\_A002_X1d54a1_X5.ms',\n",
    "caltable='cal-wvr-uid\\_\\_\\_A002_X1d54a1_X5.W',toffset=-1,\n",
    "segsource=True, tie=\\['Titan,1037-295,NGC3256'\\], statsource='1037-295')"
   ]
  }
 ],
 "metadata": {},
 "nbformat": 4,
 "nbformat_minor": 5
}
