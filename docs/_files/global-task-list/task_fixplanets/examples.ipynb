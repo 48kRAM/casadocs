{
 "cells": [
  {
   "cell_type": "markdown",
   "metadata": {},
   "source": [
    "# Examples\n",
    "\n",
    "task examples\n",
    "\n",
    "To look up the pointing direction from antenna 0 for field 'Titan' in\n",
    "the POINTING table based on the first timestamp in the main table rows\n",
    "for this field, write this direction in the FIELD and SOURCE tables, and\n",
    "then recalculate the UVW coordinates for this field:\n",
    "\n",
    "fixplanets(vis='uid\\_\\_\\_A002_X1c6e54_X223.ms', field='Titan',\n",
    "fixuvw=True)\n",
    "\n",
    "To attach the ephemeris table 'Titan_55438-56292dUTC.tab' to field\n",
    "'Titan' and then recalculate the UVW coordinates for this field:\n",
    "\n",
    "fixplanets(vis='uid\\_\\_\\_A002_X1c6e54_X223.ms', field='Titan',\n",
    "fixuvw=True, direction='Titan_55438-56292dUTC.tab')\n",
    "\n",
    "To set the directions for field 'Titan' in the FIELD and SOURCE table to\n",
    "the given direction and not recalculate the UVW coordinates; this can be\n",
    "useful for several purposes, among them preparing a concatenation of\n",
    "datasets. (Only fields with the same direction will be recognised as\n",
    "identical.):\n",
    "\n",
    "fixplanets(vis='uid\\_\\_\\_A002_X1c6e54_X223.ms', field='Titan',\n",
    "fixuvw=False, direction='J2000 12h30m15 -02d12m00')\n",
    "\n",
    "To use an ephemeris file returned from JPL via the email query described\n",
    "in the Description tab in the case where the source is unavailable via\n",
    "recipes.ephemerides.request, first copy the entire email received from\n",
    "JPL into a file with a .eph extension (for example, \"target.eph\"), and\n",
    "then attach the ephemeris using **fixplanets**: \n",
    "\n",
    "fixplanets(vis='uid\\_\\_\\_A002_X1c6e54_X223.ms', fixuvw=True,\n",
    "direction='target.eph')"
   ]
  }
 ],
 "metadata": {},
 "nbformat": 4,
 "nbformat_minor": 5
}
