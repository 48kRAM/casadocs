{
 "cells": [
  {
   "cell_type": "markdown",
   "metadata": {},
   "source": [
    "# Examples\n",
    "\n",
    "task examples\n",
    "\n"
   ]
  },
  {
   "cell_type": "markdown",
   "metadata": {},
   "source": [
    "##### Basic Examples\n",
    "\n",
    "\\"
   ]
  },
  {
   "cell_type": "markdown",
   "metadata": {},
   "source": [
    "## Regrid an image to the \"B1950\" or \"GALACTIC\" coordinate systems  \n",
    " imregrid(imagename=\"input.image\", output=\"output.image\",\n",
    "template=\"B1950\")  \n",
    " imregrid(imagename=\"input.image\", output=\"output.image\",\n",
    "template=\"GALACTIC\")\n",
    "\n",
    "**NOTE**: When regridding to another coordinate system in the manner\n",
    "above, if the input image's direction coordinate is already in the frame\n",
    "specified by template, a straight copy of the image is made. No\n",
    "regridding is actually done.\n",
    "\n",
    " \n",
    "\n",
    "\\"
   ]
  },
  {
   "cell_type": "markdown",
   "metadata": {},
   "source": [
    "## Obtain a template dictionary from an image and then use it to regrid\n",
    "another image  \n",
    "temp_dict = imregrid(imagename=\"target.image\", template=\"get\")  \n",
    "imregrid(imagename=\"input.image\", output=\"output.image\",\n",
    "template=temp_dict)\n",
    "\n",
    "In this example, the *template=\"get\"* option is used in the first\n",
    "command in order to characterize the desired shape and coordinate system\n",
    "used, and a new dictionary, TEMP_DICT, is generated accordingly. This is\n",
    "then used when performing the actual regridding of input.image in the\n",
    "second command.\n",
    "\n",
    " \n",
    "\n"
   ]
  },
  {
   "cell_type": "markdown",
   "metadata": {},
   "source": [
    "##### More Advanced Examples\n",
    "\n",
    "It is also possible to directly use a template image for regridding with\n",
    "**imregrid**. For this to work reliably and predictably, the\n",
    "dimensionality (i.e. which dimensions are present in an image) and the\n",
    "axis ordering of the input image must be the same. The type and ordering\n",
    "of the axes of both the input and template images can (and should) first\n",
    "be examined using the CASA **imhead** task. Any necessary reordering of\n",
    "axes can be performed using the CASA **imtrans** task. Unless the user\n",
    "explicitly specifies which dimensions to regrid using the *axes*\n",
    "parameter (see the following example), **imregrid** will also  attempt\n",
    "to regrid degenerate axes (i.e. image axes of length one pixel). Stokes\n",
    "axes are never regridded. In the case where template is an image name\n",
    "and the default value of shape is specified, the output image's shape\n",
    "will be the same as the template image's shape along the axes which are\n",
    "regridded and the same as the input image's shape along the axes which\n",
    "are not regridded. So for example, if the input image has a *shape* of\n",
    "\\[20, 30, 40\\] and the template image has a *shape* of \\[10, 40, 70\\]\n",
    "and only *axes=\\[0, 1\\]*, the output image will have a *shape* of \\[10,\n",
    "40, 40\\]. If *axes=\\[2\\]*, the output image will have a *shape* of \\[20,\n",
    "30, 70\\].\n",
    "\n",
    "\\"
   ]
  },
  {
   "cell_type": "markdown",
   "metadata": {},
   "source": [
    "## Regrid input.image by directly using target.image as a template  \n",
    "imregrid(imagename=\"input.image\", output=\"output.image\",\n",
    "template=\"target.image\", shape=\\[500,500,40,1\\])\n",
    "\n",
    "In this example, it is assumed that the axis order of the input image is\n",
    "of the form (direction_x, direction_y, spectral, Stokes), where\n",
    "'direction_x' and 'direction_y' are the directional coordinates on the\n",
    "sky (in some reference frame), 'spectral' is a velocity/frequency axis,\n",
    "and 'Stokes' contains polarization information. In this example,\n",
    "input.image might typically be a data cube of shape \\[100, 100, 40, 1\\].\n",
    "Note that the default value of *asvelocity* (True) will be used so that\n",
    "the spectral axis will be regridded to the same velocity system as that\n",
    "of the template image.\n",
    "\n",
    "\\"
   ]
  },
  {
   "cell_type": "markdown",
   "metadata": {},
   "source": [
    "## Regrid only the first two axes of an image  \n",
    "imregrid(imagename=\"input.image\", output=\"output.image\",\n",
    "template=\"target.image\", axes=\\[0,1\\])\n",
    "\n",
    "In this example, the user should inspect the type and ordering of the\n",
    "axes with **imhead**, and then correct with **imtrans** if necessary.\n",
    "The above command will regrid only the first two axes (normally the\n",
    "directional axes) of input.image and leave all other axes unchanged. The\n",
    "output image will have the shape of the template image along the\n",
    "regridded axes \\[0, 1\\] and the shape of the input image along the other\n",
    "axes since the shape parameter was not explicitly specified.\n",
    "\n",
    "\\"
   ]
  },
  {
   "cell_type": "markdown",
   "metadata": {},
   "source": [
    "## Regrid the third axis, considering velocity rather than frequency\n",
    "units  \n",
    "imregrid(imagename=\"input.image\", output=\"output.image\",\n",
    "template=\"target.image\", axes=\\[2\\], asvelocity=True)\n",
    "\n",
    "This example regrids the spectral axis (zero-based axis number 2) with\n",
    "respect to velocity because the *asvelocity* parameter has been set to\n",
    "True. This is useful when e.g., regridding a cube containing one\n",
    "spectral line to match the velocity coordinate of another cube\n",
    "containing a different spectral line.\n",
    "\n",
    "\\"
   ]
  },
  {
   "cell_type": "markdown",
   "metadata": {},
   "source": [
    "## Regrid the third axis, considering velocity rather than frequency\n",
    "units but first set the rest frequency  \n",
    "imhead(\"input.image\", mode=\"put\", hdkey=\"restfreq\", hdvalue=\"110GHz\")  \n",
    "imregrid(imagename=\"input.image\", output=\"output.image\",\n",
    "template=\"target.image\", axes=\\[2\\], asvelocity=True)\n",
    "\n",
    "The first command in this example uses the **imhead** task to set the\n",
    "value of the image rest frequency to a value of 110GHz in input.image.\n",
    "The following **imregrid** command then performs a frequency units\n",
    "regridding only of the third axis listed (zero-based axis) (2), taking\n",
    "account of the input.image rest frequency in the input file."
   ]
  }
 ],
 "metadata": {},
 "nbformat": 4,
 "nbformat_minor": 5
}
