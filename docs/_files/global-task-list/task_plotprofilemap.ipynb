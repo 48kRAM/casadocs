{
 "cells": [
  {
   "cell_type": "markdown",
   "metadata": {},
   "source": [
    "# plotprofilemap\n",
    "\n",
    "task description\n",
    "\n",
    "The **plotprofilemap** makes a spectral profile map from a specified\n",
    "image. The task accepts both a CASA image or a FITS cube as an input.\n",
    "Output is to the screen, or to image file (specified with *figfile*).\n",
    "\n",
    "It is necessary to specify existing CASA image or FITS cube as an\n",
    "*imagename*. Otherwise, the task will fail. If *figfile* is specified,\n",
    "the profile map is saved as an PNG image. Please set *overwrite* to\n",
    "False if you don't want to overwrite existing file.\n",
    "\n",
    "Selection of data is enabled through polarisation only (since this task\n",
    "operates in image data, not measurement set format).\n",
    "\n",
    "The plot parameters can be manipulated via *plotrange*, *title*,\n",
    "*separatepanel*, *showaxislabel*, *showtick*, *figsize*; the line style\n",
    "can be specified through *linecolor*, *linestyle*, *linewidth*, and the\n",
    "actual number of sub-plots is specificed with *numpanels*.\n",
    "\n",
    "The number of panels along the horizontal and vertical direction can be\n",
    "specified via the parameter *numpanels*. It should be a string\n",
    "containing numerical values indicating the number of panels. If only one\n",
    "number is given it will be applied to both axes. If you want to provide\n",
    "different numbers to horizontal and vertical axes, you should give two\n",
    "numbers as a string separated by comma.\n",
    "\n",
    "If the number of panels is less than the number of pixels of input\n",
    "image, more than one pixel is assigned to one panel. In that case,\n",
    "spectra to be shown are the average of the assigned spectra in each\n",
    "pixel.  \n",
    "&nbsp;&nbsp;&nbsp;&nbsp;&nbsp;&nbsp;&nbsp;&nbsp;&nbsp;&nbsp;&nbsp;&nbsp;\n",
    "&nbsp;  \n",
    "Default value for *numpanels* is empty string ('') which corresponds to\n",
    "an auto calculation of the number of panels based on the number of\n",
    "pixels of input image. Formulas for the number of horizontal and\n",
    "vertical panels, nh and nv, are as follows:\n",
    "\n",
    "    npanel = min(max(nx, ny), 8)\n",
    "    step = (max(nx, ny) - 1) / npanel + 1\n",
    "    nh = nx / step + 1\n",
    "    nv = ny / step + 1\n",
    "\n",
    "where nx and ny are the number of pixels along direction axes. In the\n",
    "above calculation, upper limit for nh and nv is 9.\n",
    "\n",
    "The output image is directed to screen by default, but can be sent to a\n",
    "file image by naming a file with '*figfile'*. The image can also be made\n",
    "with a transparent background: *transparent=True*\n",
    "\n",
    "The behaviour of the task in the context of masked data (i.e. how to\n",
    "show data that are masked) is enabled with *plotmasked*, which can have\n",
    "values;\n",
    "\n",
    "    'empty' (default; show empty panel)\n",
    "    'zero' (plot zero level)\n",
    "    'none' (show nothing)\n",
    "    'text' (show text indicating 'NO DATA')\n",
    "    'plot' (plot masked data with different color specified by maskedcolor)\n",
    "\n",
    "&nbsp;"
   ]
  },
  {
   "cell_type": "markdown",
   "metadata": {
    "nbsphinx-toctree": {
     "hidden": true
    }
   },
   "source": [
    "[Description](task_plotprofilemap/about)\n",
    "[Examples](task_plotprofilemap/examples)\n"
   ]
  }
 ],
 "metadata": {},
 "nbformat": 4,
 "nbformat_minor": 5
}
