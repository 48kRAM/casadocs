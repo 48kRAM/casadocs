{
 "cells": [
  {
   "cell_type": "markdown",
   "metadata": {},
   "source": [
    "# Description\n",
    "\n",
    "task description\n",
    "\n"
   ]
  },
  {
   "cell_type": "markdown",
   "metadata": {},
   "source": [
    "## Summary\n",
    "\n",
    "**ft** converts a source model or a components list into model\n",
    "visibilities that is inserted into the MODEL_DATA column of the MS.\n",
    "Alternatively (*usescratch=False*) it can be stored in the header of the\n",
    "MS to be served on the fly when requested. The function of **ft** is\n",
    "needed to use more complicated sources, or to attach models to be\n",
    "subtracted later from the visibilities with **uvsub**. \n",
    "\n",
    "The source model should be in units of Jy/pixel, usually a \\*.model\n",
    "image that **tclean** saves as a result of deconvolution. \n",
    "\n",
    "**ft** only uses a standard gridder (a prolate spheroidal) but supports\n",
    "multi-term images (see **tclean** help). Other gridders, like *mosaic*\n",
    "or *widefield*, are currently not supported. If you need one of the\n",
    "non-standard gridders, attach the model to the MS with the\n",
    "task **tclean, **setting** ***savemodel=True,* and *gridder* to the\n",
    "requested algorithm. \n",
    "\n",
    "The default is to replace any current MODEL in the MS by the model\n",
    "specified in the *model* or *complist* parameters. The parameter\n",
    "*incremental=True* will add the specified model to the current MODEL in\n",
    "the MS. This can be useful, e.g., when new point sources are identified\n",
    "that need to be added to the model in the MS. \n",
    "\n",
    "When both, a *model* and a component list (in *complist)* are specified,\n",
    "**ft** will only use the model image in the *model* parameter.\n",
    "\n",
    "**ft** is strict in its frequency interpretation. Only frequencies that\n",
    "the model covers are inserted into the MS. If the model has a different\n",
    "frequency range, it needs to be modified to span the MS spws that are to\n",
    "be associated. Otherwise, the frequency ranges that are not covered by\n",
    "the model will be unaltered in the model column, or filled with zeros in\n",
    "the case that a MODEL_DATA column is added because none previously\n",
    "existed.\n",
    "\n",
    "In addition to **tclean**, another alternative to **ft** is **setjy**,\n",
    "which attaches a model and also scales the flux of the model to a flux\n",
    "value calculated from a standard or to a provided value. \n",
    "\n",
    "**NOTE**: Model images for standard VLA calibrators 3C48, 3C138, 3C147,\n",
    "and 3C286 for the VLA bands are provided with the release. The location\n",
    "inside the package is dependent on the operating\n",
    "system; **setjy***(listmodels=True)* will show all available models."
   ]
  }
 ],
 "metadata": {},
 "nbformat": 4,
 "nbformat_minor": 5
}
