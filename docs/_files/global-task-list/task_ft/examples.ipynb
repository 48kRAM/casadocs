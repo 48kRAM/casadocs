{
 "cells": [
  {
   "cell_type": "markdown",
   "metadata": {},
   "source": [
    "# Examples\n",
    "\n",
    "task examples\n",
    "\n",
    "**Example 1:&nbsp;**\n",
    "\n",
    "Add a multi-term model (image.model from clean) to an MS ('myMS.ms'),\n",
    "spectral window 3, writing directly to the MODEL column:\n",
    "\n",
    "ft(vis='myMS.ms', spw=3, nterms=2,\n",
    "model=\\['image.model.tt0','image.model.tt1'\\], usescratch=True)&nbsp;\n",
    "\n",
    "&nbsp;\n",
    "\n",
    "**Example 2:&nbsp;**\n",
    "\n",
    "Create a component list with a point source at position J2000\n",
    "12h33m45.3s -23d01m11.2s&nbsp;with a spectral index of -0.8 and a flux\n",
    "of 13.4 Jy at a reference frequency of 1.25GHz; insert it into 'myMS.ms'\n",
    "as a virtual model for field 3:\n",
    "\n",
    "\\#first create the component list  \n",
    "cl.addcomponent(shape='point', flux='13.4Jy', spectrum type='spectral\n",
    "index', index=-0.8, freq'1.25GHz', dir='J2000 12h33m45.3s\n",
    "-23d01m11.2s')  \n",
    "\\"
   ]
  },
  {
   "cell_type": "markdown",
   "metadata": {},
   "source": [
    "## save the component list under the name 'mycomplist.cl'  \n",
    "cl.rename('mycomplist.cl')  \n",
    "cl.close()  \n",
    "\\#now insert the component list into myMS.ms as a virtual MODEL  \n",
    "ft(vis='myMS.ms', field='3', complist='mycomplist.cl', usescratch=True)\n",
    "\n",
    "&nbsp;"
   ]
  }
 ],
 "metadata": {},
 "nbformat": 4,
 "nbformat_minor": 5
}
