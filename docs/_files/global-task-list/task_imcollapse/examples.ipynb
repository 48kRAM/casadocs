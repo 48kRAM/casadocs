{
 "cells": [
  {
   "cell_type": "markdown",
   "metadata": {},
   "source": [
    "# Examples\n",
    "\n"
   ]
  },
  {
   "cell_type": "markdown",
   "metadata": {},
   "source": [
    "## Example: Collapse a Subimage Along the Spectral Axis\n",
    "\n",
    "For this example, myimage.im is a 512x512x128x4 (ra,dec,freq,stokes)\n",
    "image.\n",
    "\n",
    "imagename = \"myimage.im\"\n",
    "\n",
    "We want to only collapse the central 256x256 pixel region, so we define\n",
    "a box for the subregion.  Similarly, we avoid the 8 edge channels at\n",
    "each end of the band. These are often noisy from the imaging process.\n",
    "\n",
    "box=\"127,127,383,383\"  \n",
    "chans=\"8\\~119\"\n",
    "\n",
    "We specify to collapse along the spectral axis (zero based index),  and\n",
    "to use the \"mean\" algorithm.\n",
    "\n",
    "function=\"mean\"  \n",
    "axis=2\n",
    "\n",
    "And finally we specify the output image name and call the **imcollapse**\n",
    "function.\n",
    "\n",
    "outfile=\"collapse_spec_mean.im\"  \n",
    "imcollapse(imagename=imagename, outfile=outfile, function=function,\n",
    "axes=axis, box=box, chans=chans)\n",
    "\n",
    "The resulting image (collapse_spec_mean.im) is 256x256x1x4 in size."
   ]
  }
 ],
 "metadata": {},
 "nbformat": 4,
 "nbformat_minor": 5
}
