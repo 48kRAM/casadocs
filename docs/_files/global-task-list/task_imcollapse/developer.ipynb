{
 "cells": [
  {
   "cell_type": "markdown",
   "metadata": {},
   "source": [
    "# Developer\n",
    "\n",
    "--CASA Developer--\n",
    "\n",
    "Here would be a discussion of how&nbsp;imcollapse&nbsp;is implemented.\n",
    "&nbsp;This is intended for the other members of the development team so\n",
    "is a technical discussion. &nbsp;We will work on building these up over\n",
    "time."
   ]
  }
 ],
 "metadata": {},
 "nbformat": 4,
 "nbformat_minor": 5
}
