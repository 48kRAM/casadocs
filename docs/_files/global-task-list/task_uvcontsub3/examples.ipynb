{
 "cells": [
  {
   "cell_type": "markdown",
   "metadata": {},
   "source": [
    "# Examples\n",
    "\n",
    "task examples\n",
    "\n",
    "**Example 1:&nbsp;**\n",
    "\n",
    "Subtract the continuum of channels 10\\~100 and 300\\~350 in spw 0\n",
    "(assuming that the line is in channels 101\\~299). Note that we also\n",
    "exclude edge channels, e.g. the first 9 channels. We use a fitorder of 0\n",
    "(default).&nbsp;\n",
    "\n",
    "uvcontsub3(vis='myMS.ms',fitspw='0:10\\~100;300\\~350')\n",
    "\n",
    "&nbsp;\n",
    "\n",
    "&nbsp;"
   ]
  }
 ],
 "metadata": {},
 "nbformat": 4,
 "nbformat_minor": 5
}
