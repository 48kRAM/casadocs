{
 "cells": [
  {
   "cell_type": "markdown",
   "metadata": {},
   "source": [
    "# Description\n",
    "\n",
    "task description\n",
    "\n",
    " \n",
    "\n",
    "**ALERT: uvcontsub3** is an experimental task and will eventually\n",
    "replace the current **uvcontsub** code with the goal of taking less time\n",
    "and temporary disk space.\n",
    "\n",
    " \n",
    "\n",
    " \n",
    "\n",
    "**uvcontsub3** is a task to perform continuum fitting and subtraction in\n",
    "the uv plane\n",
    "\n",
    " \n",
    "\n",
    "This task estimates the continuum emission by fitting polynomials to the\n",
    "real and imaginary parts of the spectral windows and channels selected\n",
    "by *fitspw*. This fit represents a model of the continuum in all\n",
    "channels. The fitted continuum spectrum is subtracted from all channels\n",
    "selected in *spw*, and the result (presumably only line emission) is\n",
    "stored in a new MS that is always called vis + \".contsub\". If an MS with\n",
    "the output name already exists, it will be overwritten.\n",
    "\n",
    " \n",
    "\n",
    "**uvcontsub3** will read from the CORRECTED_DATA column of *vis* if it\n",
    "is present, or DATA if it is not. Whichever column is read is presumed\n",
    "to have already been calibrated.\n",
    "\n",
    "  \n",
    "\n",
    "**WARNING:** Strictly speaking, the **uvcontsub3** model is only a good\n",
    "representation of the continuum at the phase center. Residuals may be\n",
    "visible for sources far away and one may try **imcontsub** in the image\n",
    "domain for improved results. \n",
    "\n",
    "**WARNING*****:** fitorders* \\> 1 are strongly discouraged because high\n",
    "order polynomials have more flexibility, may absorb line emission, and\n",
    "tend to go wild at the edges of *fitspw*, which is not what you\n",
    "want. default: *0* (constant)\n",
    "\n",
    " \n",
    "\n",
    " \n",
    "\n"
   ]
  },
  {
   "cell_type": "markdown",
   "metadata": {},
   "source": [
    "## Parameter descriptions\n",
    "\n"
   ]
  },
  {
   "cell_type": "markdown",
   "metadata": {},
   "source": [
    "##### *vis*\n",
    "\n",
    "Name of input MS. Output goes to vis + \".contsub\" (will be overwritten\n",
    "if already exists)\n",
    "\n",
    "*fitspw  *\n",
    "\n",
    "Selection of spectral windows and channels to use in the fit for the\n",
    "continuum, using general [MS selection\n",
    "syntax](https://casa.nrao.edu/casadocs-devel/stable/calibration-and-visibility-data/data-selection-in-a-measurementset) for\n",
    "spectral windows, e.g. in spw:chan format (spw ids are required\n",
    "but *'\\*'* can be used) or as frequencies. See the note under *combine*.\n",
    "default: *fitspw='' * (all)\n",
    "\n",
    "**WARNING:** The *fitspw* selection is based on the channel numbers in\n",
    "the uv-data of the input MS file, which are most likely different from\n",
    "the channel numbers in the image plane after running **tclean**. \n",
    "\n"
   ]
  },
  {
   "cell_type": "markdown",
   "metadata": {},
   "source": [
    "##### *combine*\n",
    "\n",
    "Continuum solutions will break at scan, field, and spw boundaries\n",
    "according to *solint. *To allow solutions across these\n",
    "boundaries, *combine* can be set to '*spw*', '*scan*', or *'spw, scan'. \n",
    "combine *must include *'spw'*  if spw contains spws that are not\n",
    "in *fitspw*!  default:* ''*  which is that solutions will break at scan,\n",
    "field, and spw\n",
    "\n"
   ]
  },
  {
   "cell_type": "markdown",
   "metadata": {},
   "source": [
    "##### *fitorder*\n",
    "\n",
    "Polynomial order for the fits of the continuum w.r.t.\n",
    "frequency. *fitorders* \\> 1 are strongly discouraged because high order\n",
    "polynomials have more flexibility, may  \n",
    "absorb line emission, and tend to go wild at the edges of *fitspw*,\n",
    "which is not what you want. default: *0* (constant)\n",
    "\n"
   ]
  },
  {
   "cell_type": "markdown",
   "metadata": {},
   "source": [
    "##### *field*\n",
    "\n",
    "[Field\n",
    "selection](https://casa.nrao.edu/casadocs-devel/stable/calibration-and-visibility-data/data-selection-in-a-measurementset) for\n",
    "continuum estimation and subtraction. The estimation and subtraction is\n",
    "done for each selected field separately in turn. default:* ''*  (all\n",
    "fields). (See [Data Selection in a\n",
    "MeasurementSet](https://casa.nrao.edu/casadocs-devel/stable/calibration-and-visibility-data/data-selection-in-a-measurementset))\n",
    "\n"
   ]
  },
  {
   "cell_type": "markdown",
   "metadata": {},
   "source": [
    "##### *spw*\n",
    "\n",
    "Optional per spectral window selection of channels to include in the\n",
    "output. See the note under *combine*. The sub-MS output spectral windows\n",
    "will be renumbered to start from 0, as in **split**. default: *''* (all\n",
    "spws)   (See [Data Selection in a\n",
    "MeasurementSet](https://casa.nrao.edu/casadocs-devel/stable/calibration-and-visibility-data/data-selection-in-a-measurementset))\n",
    "\n"
   ]
  },
  {
   "cell_type": "markdown",
   "metadata": {},
   "source": [
    "##### *scan*\n",
    "\n",
    "Scan id selection. default: *''* (all scans) (See [Data Selection in a\n",
    "MeasurementSet](https://casa.nrao.edu/casadocs-devel/stable/calibration-and-visibility-data/data-selection-in-a-measurementset))\n",
    "\n"
   ]
  },
  {
   "cell_type": "markdown",
   "metadata": {},
   "source": [
    "##### *intent*\n",
    "\n",
    "Selection by scan intent. default: *''* (all intents)  (See [Data\n",
    "Selection in a\n",
    "MeasurementSet](https://casa.nrao.edu/casadocs-devel/stable/calibration-and-visibility-data/data-selection-in-a-measurementset))\n",
    "\n"
   ]
  },
  {
   "cell_type": "markdown",
   "metadata": {},
   "source": [
    "##### *correlation*\n",
    "\n",
    "Selection by correlation. default: *''* (all correlations) \n",
    "(polarization products)  (See [Data Selection in a\n",
    "MeasurementSet](https://casa.nrao.edu/casadocs-devel/stable/calibration-and-visibility-data/data-selection-in-a-measurementset))\n",
    "\n"
   ]
  },
  {
   "cell_type": "markdown",
   "metadata": {},
   "source": [
    "##### *observation*\n",
    "\n",
    "Selection by observation id. default: *''* (all obs ids)  (See [Data\n",
    "Selection in a\n",
    "MeasurementSet](https://casa.nrao.edu/casadocs-devel/stable/calibration-and-visibility-data/data-selection-in-a-measurementset))"
   ]
  }
 ],
 "metadata": {},
 "nbformat": 4,
 "nbformat_minor": 5
}
