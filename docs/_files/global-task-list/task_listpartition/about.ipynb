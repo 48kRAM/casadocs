{
 "cells": [
  {
   "cell_type": "markdown",
   "metadata": {},
   "source": [
    "# Description\n",
    "\n",
    "task description\n",
    "\n",
    "Lists the contents of a\n",
    "[Multi-MS](https://casa.nrao.edu/casadocs-devel/stable/parallel-processing/the-multi-ms)\n",
    "according to the way it has been partitioned. The list will show the\n",
    "following properties: Sub-MS name, scans, spws, number of channels per\n",
    "spw, number of rows of&nbsp;each scan within a Sub-MS and the size of\n",
    "the Sub-MS on disk. The task will also list the separation axis of the\n",
    "Multi-MS.\n",
    "\n",
    "&nbsp;\n",
    "\n"
   ]
  },
  {
   "cell_type": "markdown",
   "metadata": {},
   "source": [
    "## Parameter descriptions\n",
    "\n"
   ]
  },
  {
   "cell_type": "markdown",
   "metadata": {},
   "source": [
    "##### vis\n",
    "\n",
    "Name of Multi-MS or normal MeasurementSet\n",
    "\n"
   ]
  },
  {
   "cell_type": "markdown",
   "metadata": {},
   "source": [
    "##### createdict\n",
    "\n",
    "Create and return a dictionary listing the content of the Multi-MS\n",
    "according to the way it was partitionted.&nbsp;If set to True, the\n",
    "returned dictionary will contain information\n",
    "from&nbsp;**ms.getscansummary**() and **ms.getspectralwindowinfo**(),\n",
    "with the addition of an&nbsp;index as the top key and the Sub-MS name.\n",
    "The default is set to False. The following is an example of a returned\n",
    "dictionary:\n",
    "\n",
    "CASA \\<1\\> listpartition('ngc5921.ms', createdict=True)\n",
    "\n",
    "INFO&nbsp;&nbsp;&nbsp; listpartition::::+&nbsp;&nbsp;&nbsp;&nbsp;&nbsp;\n",
    "\\#\\#\\#\\#\\#\\#\\#\\#\\#\\#\\#\\#\\#\\#\\#\\#\\#\\#\\#\\#\\#\\#\\#\\#\\#\\#\\#\\#\\#\\#\\#\\#\\#\\#\\#\\#\\#\\#\\#\\#\\#\\"
   ]
  },
  {
   "cell_type": "markdown",
   "metadata": {},
   "source": [
    "##  \n",
    "INFO&nbsp;&nbsp;&nbsp; listpartition::::+&nbsp;&nbsp;&nbsp;&nbsp;&nbsp;\n",
    "\\#\\#\\#\\#\\"
   ]
  },
  {
   "cell_type": "markdown",
   "metadata": {},
   "source": [
    "## Begin Task: listpartition&nbsp;&nbsp;&nbsp;&nbsp;&nbsp;\n",
    "\\#\\#\\#\\#\\"
   ]
  },
  {
   "cell_type": "markdown",
   "metadata": {},
   "source": [
    "##  \n",
    "INFO&nbsp;&nbsp;&nbsp;\n",
    "listpartition::::&nbsp;&nbsp;&nbsp;&nbsp;&nbsp;&nbsp;\n",
    "listpartition(vis=\"ngc5921.mms\",createdict=True,listfile=\"\")\n",
    "\n",
    "  \n",
    "INFO&nbsp;&nbsp;&nbsp;\n",
    "listpartition::::&nbsp;&nbsp;&nbsp;&nbsp;&nbsp;&nbsp; This is a Multi-MS\n",
    "with separation axis = scan  \n",
    "INFO&nbsp;&nbsp;&nbsp;\n",
    "listpartition::::&nbsp;&nbsp;&nbsp;&nbsp;&nbsp;&nbsp;\n",
    "Sub-MS&nbsp;&nbsp;&nbsp;&nbsp;&nbsp;&nbsp;&nbsp;&nbsp;&nbsp;&nbsp;&nbsp;&nbsp;&nbsp;&nbsp;\n",
    "Scan&nbsp; Spw&nbsp;&nbsp;&nbsp; Nchan&nbsp; Nrows&nbsp;&nbsp; Size  \n",
    "INFO&nbsp;&nbsp;&nbsp; listpartition::::+&nbsp;&nbsp;&nbsp;&nbsp;&nbsp;\n",
    "ngc5921.mms.0000.ms&nbsp; 1&nbsp;&nbsp;&nbsp;&nbsp;\n",
    "\\[0\\]&nbsp;&nbsp;&nbsp; \\[63\\]&nbsp;&nbsp; 4509&nbsp;&nbsp;&nbsp; 25M  \n",
    "INFO&nbsp;&nbsp;&nbsp;\n",
    "listpartition::::&nbsp;&nbsp;&nbsp;&nbsp;&nbsp;&nbsp;\n",
    "ngc5921.mms.0001.ms&nbsp; 2&nbsp;&nbsp;&nbsp;&nbsp;\n",
    "\\[0\\]&nbsp;&nbsp;&nbsp; \\[63\\]&nbsp;&nbsp; 1890&nbsp;&nbsp;&nbsp; 11M  \n",
    "INFO&nbsp;&nbsp;&nbsp;\n",
    "listpartition::::&nbsp;&nbsp;&nbsp;&nbsp;&nbsp;&nbsp; \\#\\#\\#\\#\\"
   ]
  },
  {
   "cell_type": "markdown",
   "metadata": {},
   "source": [
    "## End\n",
    "Task: listpartition&nbsp;&nbsp;&nbsp;&nbsp;&nbsp;&nbsp;&nbsp;\n",
    "\\#\\#\\#\\#\\"
   ]
  },
  {
   "cell_type": "markdown",
   "metadata": {},
   "source": [
    "##  \n",
    "INFO&nbsp;&nbsp;&nbsp; listpartition::::+&nbsp;&nbsp;&nbsp;&nbsp;&nbsp;\n",
    "\\#\\#\\#\\#\\#\\#\\#\\#\\#\\#\\#\\#\\#\\#\\#\\#\\#\\#\\#\\#\\#\\#\\#\\#\\#\\#\\#\\#\\#\\#\\#\\#\\#\\#\\#\\#\\#\\#\\#\\#\\#\\"
   ]
  },
  {
   "cell_type": "markdown",
   "metadata": {},
   "source": [
    "##\n",
    "\n",
    "  \n",
    "Out\\[17\\]:  \n",
    "{0: {'MS': 'ngc5921.mms.0000.ms',  \n",
    "&nbsp; 'scanId': {1: {'nchans': array(\\[63\\], dtype=int32),  \n",
    "&nbsp;&nbsp;&nbsp; 'nrows': 4509,  \n",
    "&nbsp;&nbsp;&nbsp; 'spwIds': array(\\[0\\], dtype=int32)}},  \n",
    "&nbsp; 'size': '25M'},  \n",
    "&nbsp;1: {'MS': 'ngc5921.mms.0001.ms',  \n",
    "&nbsp; 'scanId': {2: {'nchans': array(\\[63\\], dtype=int32),  \n",
    "&nbsp;&nbsp;&nbsp; 'nrows': 1890,  \n",
    "&nbsp;&nbsp;&nbsp; 'spwIds': array(\\[0\\], dtype=int32)}},  \n",
    "&nbsp; 'size': '11M'}}\n",
    "\n"
   ]
  },
  {
   "cell_type": "markdown",
   "metadata": {},
   "source": [
    "##### listfile\n",
    "\n",
    "Name of ASCII file to save the output of the task, as shown in the\n",
    "example above. If empty, it will list on the logger/terminal.  \n",
    "&nbsp;&nbsp;&nbsp;&nbsp;&nbsp;&nbsp;&nbsp;&nbsp;&nbsp;&nbsp;&nbsp;&nbsp;"
   ]
  }
 ],
 "metadata": {},
 "nbformat": 4,
 "nbformat_minor": 5
}
