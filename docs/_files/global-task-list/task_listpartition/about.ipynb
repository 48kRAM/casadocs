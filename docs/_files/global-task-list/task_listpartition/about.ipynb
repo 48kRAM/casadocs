{
 "cells": [
  {
   "cell_type": "markdown",
   "metadata": {},
   "source": [
    "# Description\n",
    "\n",
    "task description\n",
    "\n",
    "Lists the contents of a\n",
    "[Multi-MS](https://casa.nrao.edu/casadocs-devel/stable/parallel-processing/the-multi-ms)\n",
    "according to the way it has been partitioned. The list will show the\n",
    "following properties: Sub-MS name, scans, spws, number of channels per\n",
    "spw, number of rows of each scan within a Sub-MS and the size of the\n",
    "Sub-MS on disk. The task will also list the separation axis of the\n",
    "Multi-MS.\n",
    "\n",
    " \n",
    "\n"
   ]
  },
  {
   "cell_type": "markdown",
   "metadata": {},
   "source": [
    "## Parameter descriptions\n",
    "\n"
   ]
  },
  {
   "cell_type": "markdown",
   "metadata": {},
   "source": [
    "##### vis\n",
    "\n",
    "Name of Multi-MS or normal MeasurementSet\n",
    "\n"
   ]
  },
  {
   "cell_type": "markdown",
   "metadata": {},
   "source": [
    "##### createdict\n",
    "\n",
    "Create and return a dictionary listing the content of the Multi-MS\n",
    "according to the way it was partitionted. If set to True, the returned\n",
    "dictionary will contain information from **ms.getscansummary**() and\n",
    "**ms.getspectralwindowinfo**(), with the addition of an index as the top\n",
    "key and the Sub-MS name. The default is set to False. The following is\n",
    "an example of a returned dictionary:\n",
    "\n",
    "CASA \\<1\\> listpartition('ngc5921.ms', createdict=True)\n",
    "\n",
    "INFO    listpartition::::+     \n",
    "\\#\\#\\#\\#\\#\\#\\#\\#\\#\\#\\#\\#\\#\\#\\#\\#\\#\\#\\#\\#\\#\\#\\#\\#\\#\\#\\#\\#\\#\\#\\#\\#\\#\\#\\#\\#\\#\\#\\#\\#\\#\\"
   ]
  },
  {
   "cell_type": "markdown",
   "metadata": {},
   "source": [
    "##  \n",
    "INFO    listpartition::::+      \\#\\#\\#\\#\\"
   ]
  },
  {
   "cell_type": "markdown",
   "metadata": {},
   "source": [
    "## Begin Task:\n",
    "listpartition      \\#\\#\\#\\#\\"
   ]
  },
  {
   "cell_type": "markdown",
   "metadata": {},
   "source": [
    "##  \n",
    "INFO    listpartition::::      \n",
    "listpartition(vis=\"ngc5921.mms\",createdict=True,listfile=\"\")\n",
    "\n",
    "  \n",
    "INFO    listpartition::::       This is a Multi-MS with separation axis\n",
    "= scan  \n",
    "INFO    listpartition::::       Sub-MS               Scan  Spw    Nchan \n",
    "Nrows   Size  \n",
    "INFO    listpartition::::+      ngc5921.mms.0000.ms  1     \\[0\\]   \n",
    "\\[63\\]   4509    25M  \n",
    "INFO    listpartition::::       ngc5921.mms.0001.ms  2     \\[0\\]   \n",
    "\\[63\\]   1890    11M  \n",
    "INFO    listpartition::::       \\#\\#\\#\\#\\"
   ]
  },
  {
   "cell_type": "markdown",
   "metadata": {},
   "source": [
    "## End Task:\n",
    "listpartition        \\#\\#\\#\\#\\"
   ]
  },
  {
   "cell_type": "markdown",
   "metadata": {},
   "source": [
    "##  \n",
    "INFO    listpartition::::+     \n",
    "\\#\\#\\#\\#\\#\\#\\#\\#\\#\\#\\#\\#\\#\\#\\#\\#\\#\\#\\#\\#\\#\\#\\#\\#\\#\\#\\#\\#\\#\\#\\#\\#\\#\\#\\#\\#\\#\\#\\#\\#\\#\\"
   ]
  },
  {
   "cell_type": "markdown",
   "metadata": {},
   "source": [
    "##\n",
    "\n",
    "  \n",
    "Out\\[17\\]:  \n",
    "{0: {'MS': 'ngc5921.mms.0000.ms',  \n",
    "  'scanId': {1: {'nchans': array(\\[63\\], dtype=int32),  \n",
    "    'nrows': 4509,  \n",
    "    'spwIds': array(\\[0\\], dtype=int32)}},  \n",
    "  'size': '25M'},  \n",
    " 1: {'MS': 'ngc5921.mms.0001.ms',  \n",
    "  'scanId': {2: {'nchans': array(\\[63\\], dtype=int32),  \n",
    "    'nrows': 1890,  \n",
    "    'spwIds': array(\\[0\\], dtype=int32)}},  \n",
    "  'size': '11M'}}\n",
    "\n"
   ]
  },
  {
   "cell_type": "markdown",
   "metadata": {},
   "source": [
    "##### listfile\n",
    "\n",
    "Name of ASCII file to save the output of the task, as shown in the\n",
    "example above. If empty, it will list on the logger/terminal."
   ]
  }
 ],
 "metadata": {},
 "nbformat": 4,
 "nbformat_minor": 5
}
