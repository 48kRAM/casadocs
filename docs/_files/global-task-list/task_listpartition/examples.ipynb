{
 "cells": [
  {
   "cell_type": "markdown",
   "metadata": {},
   "source": [
    "# Examples\n",
    "\n",
    "task examples\n",
    "\n",
    "A multi-measurement set (MMS) is an MS that has been split into sub-MSs.\n",
    "An MMS contains a reference MS in the top directory and the sub-MSes are\n",
    "located in a directory called SUBMSS inside the MMS directory.\n",
    "\n",
    "Example of a MS that was partitioned in the 'scan' axis using the task\n",
    "**partition**:\n",
    "\n",
    "\\> ls ngc5921.mms  \n",
    "ANTENNA&nbsp;&nbsp;&nbsp;&nbsp;&nbsp;&nbsp;&nbsp;&nbsp;&nbsp;&nbsp;\n",
    "FLAG_CMD&nbsp;&nbsp;&nbsp;&nbsp; POLARIZATION&nbsp;\n",
    "SPECTRAL_WINDOW&nbsp; table.dat  \n",
    "DATA_DESCRIPTION&nbsp; HISTORY&nbsp;&nbsp;&nbsp;&nbsp;&nbsp;\n",
    "PROCESSOR&nbsp;&nbsp;&nbsp;&nbsp;\n",
    "STATE&nbsp;&nbsp;&nbsp;&nbsp;&nbsp;&nbsp;&nbsp;&nbsp;&nbsp;&nbsp;&nbsp;\n",
    "table.info  \n",
    "FEED&nbsp;&nbsp;&nbsp;&nbsp;&nbsp;&nbsp;&nbsp;&nbsp;&nbsp;&nbsp;&nbsp;&nbsp;&nbsp;\n",
    "OBSERVATION&nbsp; SORTED_TABLE&nbsp;\n",
    "SUBMSS&nbsp;&nbsp;&nbsp;&nbsp;&nbsp;&nbsp;&nbsp;&nbsp;&nbsp;&nbsp;\n",
    "WEATHER  \n",
    "FIELD&nbsp;&nbsp;&nbsp;&nbsp;&nbsp;&nbsp;&nbsp;&nbsp;&nbsp;&nbsp;&nbsp;&nbsp;\n",
    "POINTING&nbsp;&nbsp;&nbsp;&nbsp;\n",
    "SOURCE&nbsp;&nbsp;&nbsp;&nbsp;&nbsp;&nbsp;&nbsp; SYSCAL\n",
    "\n",
    "\\> ls ngc5921.mms/SUBMSS/  \n",
    "ngc5921.0000.ms/&nbsp; ngc5921.0002.ms/&nbsp; ngc5921.0004.ms/&nbsp;\n",
    "ngc5921.0006.ms/  \n",
    "ngc5921.0001.ms/&nbsp; ngc5921.0003.ms/&nbsp; ngc5921.0005.ms/\n",
    "\n",
    "The task lists the following properties of a multi-MS or MS: sub-MS\n",
    "name, scan, spw list, list of number of channels per spw, number of rows\n",
    "for each scan and the size on disk.\n",
    "\n",
    "**listpartition&nbsp;**task example:\n",
    "\n",
    "CASA \\<1\\> listpartition('ngc5921.ms', createdict=True)\n",
    "\n",
    "INFO&nbsp;&nbsp;&nbsp; listpartition::::+&nbsp;&nbsp;&nbsp;&nbsp;&nbsp;\n",
    "\\#\\#\\#\\#\\#\\#\\#\\#\\#\\#\\#\\#\\#\\#\\#\\#\\#\\#\\#\\#\\#\\#\\#\\#\\#\\#\\#\\#\\#\\#\\#\\#\\#\\#\\#\\#\\#\\#\\#\\#\\#\\"
   ]
  },
  {
   "cell_type": "markdown",
   "metadata": {},
   "source": [
    "##  \n",
    "INFO&nbsp;&nbsp;&nbsp; listpartition::::+&nbsp;&nbsp;&nbsp;&nbsp;&nbsp;\n",
    "\\#\\#\\#\\#\\"
   ]
  },
  {
   "cell_type": "markdown",
   "metadata": {},
   "source": [
    "## Begin Task: listpartition&nbsp;&nbsp;&nbsp;&nbsp;&nbsp;\n",
    "\\#\\#\\#\\#\\"
   ]
  },
  {
   "cell_type": "markdown",
   "metadata": {},
   "source": [
    "##  \n",
    "INFO&nbsp;&nbsp;&nbsp;\n",
    "listpartition::::&nbsp;&nbsp;&nbsp;&nbsp;&nbsp;&nbsp;\n",
    "listpartition(vis=\"ngc5921.mms\",createdict=True,listfile=\"\")\n",
    "\n",
    "  \n",
    "INFO&nbsp;&nbsp;&nbsp;\n",
    "listpartition::::&nbsp;&nbsp;&nbsp;&nbsp;&nbsp;&nbsp; This is a Multi-MS\n",
    "with separation axis = scan  \n",
    "INFO&nbsp;&nbsp;&nbsp;\n",
    "listpartition::::&nbsp;&nbsp;&nbsp;&nbsp;&nbsp;&nbsp;\n",
    "Sub-MS&nbsp;&nbsp;&nbsp;&nbsp;&nbsp;&nbsp;&nbsp;&nbsp;&nbsp;&nbsp;&nbsp;&nbsp;&nbsp;&nbsp;\n",
    "Scan&nbsp; Spw&nbsp;&nbsp;&nbsp; Nchan&nbsp; Nrows&nbsp;&nbsp; Size  \n",
    "INFO&nbsp;&nbsp;&nbsp; listpartition::::+&nbsp;&nbsp;&nbsp;&nbsp;&nbsp;\n",
    "ngc5921.mms.0000.ms&nbsp; 1&nbsp;&nbsp;&nbsp;&nbsp;\n",
    "\\[0\\]&nbsp;&nbsp;&nbsp; \\[63\\]&nbsp;&nbsp; 4509&nbsp;&nbsp;&nbsp; 25M  \n",
    "INFO&nbsp;&nbsp;&nbsp;\n",
    "listpartition::::&nbsp;&nbsp;&nbsp;&nbsp;&nbsp;&nbsp;\n",
    "ngc5921.mms.0001.ms&nbsp; 2&nbsp;&nbsp;&nbsp;&nbsp;\n",
    "\\[0\\]&nbsp;&nbsp;&nbsp; \\[63\\]&nbsp;&nbsp; 1890&nbsp;&nbsp;&nbsp; 11M  \n",
    "INFO&nbsp;&nbsp;&nbsp;\n",
    "listpartition::::&nbsp;&nbsp;&nbsp;&nbsp;&nbsp;&nbsp; \\#\\#\\#\\#\\"
   ]
  },
  {
   "cell_type": "markdown",
   "metadata": {},
   "source": [
    "## End\n",
    "Task: listpartition&nbsp;&nbsp;&nbsp;&nbsp;&nbsp;&nbsp;&nbsp;\n",
    "\\#\\#\\#\\#\\"
   ]
  },
  {
   "cell_type": "markdown",
   "metadata": {},
   "source": [
    "##  \n",
    "INFO&nbsp;&nbsp;&nbsp; listpartition::::+&nbsp;&nbsp;&nbsp;&nbsp;&nbsp;\n",
    "\\#\\#\\#\\#\\#\\#\\#\\#\\#\\#\\#\\#\\#\\#\\#\\#\\#\\#\\#\\#\\#\\#\\#\\#\\#\\#\\#\\#\\#\\#\\#\\#\\#\\#\\#\\#\\#\\#\\#\\#\\#\\"
   ]
  },
  {
   "cell_type": "markdown",
   "metadata": {},
   "source": [
    "##\n",
    "\n",
    "  \n",
    "Out\\[17\\]:  \n",
    "{0: {'MS': 'ngc5921.mms.0000.ms',  \n",
    "&nbsp; 'scanId': {1: {'nchans': array(\\[63\\], dtype=int32),  \n",
    "&nbsp;&nbsp;&nbsp; 'nrows': 4509,  \n",
    "&nbsp;&nbsp;&nbsp; 'spwIds': array(\\[0\\], dtype=int32)}},  \n",
    "&nbsp; 'size': '25M'},  \n",
    "&nbsp;1: {'MS': 'ngc5921.mms.0001.ms',  \n",
    "&nbsp; 'scanId': {2: {'nchans': array(\\[63\\], dtype=int32),  \n",
    "&nbsp;&nbsp;&nbsp; 'nrows': 1890,  \n",
    "&nbsp;&nbsp;&nbsp; 'spwIds': array(\\[0\\], dtype=int32)}},  \n",
    "&nbsp; 'size': '11M'}}\n",
    "\n",
    "Example of logger output:\n",
    "\n",
    "Sub-MS&nbsp;&nbsp;&nbsp;&nbsp;&nbsp;&nbsp;&nbsp;&nbsp;&nbsp; Scan&nbsp;\n",
    "Spw&nbsp;&nbsp;&nbsp;&nbsp;&nbsp; Nchan&nbsp;&nbsp;&nbsp;\n",
    "Nrows&nbsp;&nbsp; Size &nbsp;  \n",
    "ngc5921.0000.ms&nbsp; 1&nbsp;&nbsp;&nbsp;\n",
    "\\[0\\]&nbsp;&nbsp;&nbsp;&nbsp;&nbsp; \\[63\\]&nbsp;&nbsp;&nbsp;&nbsp;\n",
    "4509&nbsp;&nbsp;&nbsp; 11M  \n",
    "ngc5921.0001.ms&nbsp; 2&nbsp;&nbsp;&nbsp;\n",
    "\\[0\\]&nbsp;&nbsp;&nbsp;&nbsp;&nbsp; \\[63\\]&nbsp;&nbsp;&nbsp;&nbsp;\n",
    "1890&nbsp;&nbsp;&nbsp; 6.4M  \n",
    "ngc5921.0002.ms&nbsp; 3&nbsp;&nbsp;&nbsp;\n",
    "\\[0\\]&nbsp;&nbsp;&nbsp;&nbsp;&nbsp; \\[63\\]&nbsp;&nbsp;&nbsp;&nbsp;\n",
    "6048&nbsp;&nbsp;&nbsp; 13M  \n",
    "ngc5921.0003.ms&nbsp; 4&nbsp;&nbsp;&nbsp;\n",
    "\\[0\\]&nbsp;&nbsp;&nbsp;&nbsp;&nbsp; \\[63\\]&nbsp;&nbsp;&nbsp;&nbsp;\n",
    "756&nbsp;&nbsp;&nbsp;&nbsp; 4.9M  \n",
    "ngc5921.0004.ms&nbsp; 5&nbsp;&nbsp;&nbsp;\n",
    "\\[0\\]&nbsp;&nbsp;&nbsp;&nbsp;&nbsp; \\[63\\]&nbsp;&nbsp;&nbsp;&nbsp;\n",
    "1134&nbsp;&nbsp;&nbsp; 6.4M  \n",
    "ngc5921.0005.ms&nbsp; 6&nbsp;&nbsp;&nbsp;\n",
    "\\[0\\]&nbsp;&nbsp;&nbsp;&nbsp;&nbsp; \\[63\\]&nbsp;&nbsp;&nbsp;&nbsp;\n",
    "6804&nbsp;&nbsp;&nbsp; 15M  \n",
    "ngc5921.0006.ms&nbsp; 7&nbsp;&nbsp;&nbsp;\n",
    "\\[0\\]&nbsp;&nbsp;&nbsp;&nbsp;&nbsp; \\[63\\]&nbsp;&nbsp;&nbsp;&nbsp;\n",
    "1512&nbsp;&nbsp;&nbsp; 6.4M\n",
    "\n",
    "&nbsp;&nbsp;&nbsp;&nbsp;&nbsp; &nbsp;"
   ]
  }
 ],
 "metadata": {},
 "nbformat": 4,
 "nbformat_minor": 5
}
