{
 "cells": [
  {
   "cell_type": "markdown",
   "metadata": {},
   "source": [
    "# Examples\n",
    "\n",
    "task examples\n",
    "\n",
    "A multi-measurement set (MMS) is an MS that has been split into sub-MSs.\n",
    "An MMS contains a reference MS in the top directory and the sub-MSes are\n",
    "located in a directory called SUBMSS inside the MMS directory.\n",
    "\n",
    "Example of a MS that was partitioned in the 'scan' axis using the task\n",
    "**partition**:\n",
    "\n",
    "\\> ls ngc5921.mms  \n",
    "ANTENNA           FLAG_CMD     POLARIZATION  SPECTRAL_WINDOW \n",
    "table.dat  \n",
    "DATA_DESCRIPTION  HISTORY      PROCESSOR     STATE           \n",
    "table.info  \n",
    "FEED              OBSERVATION  SORTED_TABLE  SUBMSS           WEATHER  \n",
    "FIELD             POINTING     SOURCE        SYSCAL\n",
    "\n",
    "\\> ls ngc5921.mms/SUBMSS/  \n",
    "ngc5921.0000.ms/  ngc5921.0002.ms/  ngc5921.0004.ms/  ngc5921.0006.ms/  \n",
    "ngc5921.0001.ms/  ngc5921.0003.ms/  ngc5921.0005.ms/\n",
    "\n",
    "The task lists the following properties of a multi-MS or MS: sub-MS\n",
    "name, scan, spw list, list of number of channels per spw, number of rows\n",
    "for each scan and the size on disk.\n",
    "\n",
    "**listpartition **task example:\n",
    "\n",
    "CASA \\<1\\> listpartition('ngc5921.ms', createdict=True)\n",
    "\n",
    "INFO    listpartition::::+     \n",
    "\\#\\#\\#\\#\\#\\#\\#\\#\\#\\#\\#\\#\\#\\#\\#\\#\\#\\#\\#\\#\\#\\#\\#\\#\\#\\#\\#\\#\\#\\#\\#\\#\\#\\#\\#\\#\\#\\#\\#\\#\\#\\"
   ]
  },
  {
   "cell_type": "markdown",
   "metadata": {},
   "source": [
    "##  \n",
    "INFO    listpartition::::+      \\#\\#\\#\\#\\"
   ]
  },
  {
   "cell_type": "markdown",
   "metadata": {},
   "source": [
    "## Begin Task:\n",
    "listpartition      \\#\\#\\#\\#\\"
   ]
  },
  {
   "cell_type": "markdown",
   "metadata": {},
   "source": [
    "##  \n",
    "INFO    listpartition::::      \n",
    "listpartition(vis=\"ngc5921.mms\",createdict=True,listfile=\"\")\n",
    "\n",
    "  \n",
    "INFO    listpartition::::       This is a Multi-MS with separation axis\n",
    "= scan  \n",
    "INFO    listpartition::::       Sub-MS               Scan  Spw    Nchan \n",
    "Nrows   Size  \n",
    "INFO    listpartition::::+      ngc5921.mms.0000.ms  1     \\[0\\]   \n",
    "\\[63\\]   4509    25M  \n",
    "INFO    listpartition::::       ngc5921.mms.0001.ms  2     \\[0\\]   \n",
    "\\[63\\]   1890    11M  \n",
    "INFO    listpartition::::       \\#\\#\\#\\#\\"
   ]
  },
  {
   "cell_type": "markdown",
   "metadata": {},
   "source": [
    "## End Task:\n",
    "listpartition        \\#\\#\\#\\#\\"
   ]
  },
  {
   "cell_type": "markdown",
   "metadata": {},
   "source": [
    "##  \n",
    "INFO    listpartition::::+     \n",
    "\\#\\#\\#\\#\\#\\#\\#\\#\\#\\#\\#\\#\\#\\#\\#\\#\\#\\#\\#\\#\\#\\#\\#\\#\\#\\#\\#\\#\\#\\#\\#\\#\\#\\#\\#\\#\\#\\#\\#\\#\\#\\"
   ]
  },
  {
   "cell_type": "markdown",
   "metadata": {},
   "source": [
    "##\n",
    "\n",
    "  \n",
    "Out\\[17\\]:  \n",
    "{0: {'MS': 'ngc5921.mms.0000.ms',  \n",
    "  'scanId': {1: {'nchans': array(\\[63\\], dtype=int32),  \n",
    "    'nrows': 4509,  \n",
    "    'spwIds': array(\\[0\\], dtype=int32)}},  \n",
    "  'size': '25M'},  \n",
    " 1: {'MS': 'ngc5921.mms.0001.ms',  \n",
    "  'scanId': {2: {'nchans': array(\\[63\\], dtype=int32),  \n",
    "    'nrows': 1890,  \n",
    "    'spwIds': array(\\[0\\], dtype=int32)}},  \n",
    "  'size': '11M'}}\n",
    "\n",
    "Example of logger output:\n",
    "\n",
    "Sub-MS          Scan  Spw      Nchan    Nrows   Size    \n",
    "ngc5921.0000.ms  1    \\[0\\]      \\[63\\]     4509    11M  \n",
    "ngc5921.0001.ms  2    \\[0\\]      \\[63\\]     1890    6.4M  \n",
    "ngc5921.0002.ms  3    \\[0\\]      \\[63\\]     6048    13M  \n",
    "ngc5921.0003.ms  4    \\[0\\]      \\[63\\]     756     4.9M  \n",
    "ngc5921.0004.ms  5    \\[0\\]      \\[63\\]     1134    6.4M  \n",
    "ngc5921.0005.ms  6    \\[0\\]      \\[63\\]     6804    15M  \n",
    "ngc5921.0006.ms  7    \\[0\\]      \\[63\\]     1512    6.4M"
   ]
  }
 ],
 "metadata": {},
 "nbformat": 4,
 "nbformat_minor": 5
}
