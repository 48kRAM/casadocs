{
 "cells": [
  {
   "cell_type": "markdown",
   "metadata": {},
   "source": [
    "# Parameters\n",
    "\n",
    "task parameters\n",
    "\n",
    "vis : string\n",
    "\n",
    "Name of Multi-MS or normal MS.\n",
    "\n",
    "Example\n",
    "\n",
    "createdict : bool = False\n",
    "\n",
    "Create and return a dictionary with Sub-MS information\n",
    "\n",
    "Example\n",
    "\n",
    "listfile : string\n",
    "\n",
    "Name of ASCII file to save output: ''==\\>to terminal\n",
    "\n",
    "Example"
   ]
  }
 ],
 "metadata": {},
 "nbformat": 4,
 "nbformat_minor": 5
}
