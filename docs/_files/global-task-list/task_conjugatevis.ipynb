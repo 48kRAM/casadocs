{
 "cells": [
  {
   "cell_type": "markdown",
   "metadata": {},
   "source": [
    "# conjugatevis\n",
    "\n",
    "change the sign of the phases in all visibility columns\n",
    "\n",
    "This task changes the sign of the phases in all visibility columns, thus\n",
    "creating the complex conjugate values. A complex number and its complex\n",
    "conjugate have equal real parts and imaginary parts that are equal in\n",
    "magnitude but opposite in sign.\n",
    "\n",
    "&nbsp;\n",
    "\n"
   ]
  },
  {
   "cell_type": "markdown",
   "metadata": {},
   "source": [
    "## Parameter descriptions\n",
    "\n"
   ]
  },
  {
   "cell_type": "markdown",
   "metadata": {},
   "source": [
    "##### vis\n",
    "\n",
    "Name of input visibility file. For example: *vis='filename.ms'*\n",
    "\n"
   ]
  },
  {
   "cell_type": "markdown",
   "metadata": {},
   "source": [
    "##### spwlist\n",
    "\n",
    "Selects spectral window(s). For example: *spw=\\[1,2\\]*. By default, all\n",
    "spws will be conjugated.\n",
    "\n"
   ]
  },
  {
   "cell_type": "markdown",
   "metadata": {},
   "source": [
    "##### outputvis\n",
    "\n",
    "Name of output visibility file. Default: 'conjugatedvis_filename.ms'\n",
    "\n"
   ]
  },
  {
   "cell_type": "markdown",
   "metadata": {},
   "source": [
    "##### overwrite\n",
    "\n",
    "Overwrites the *outputvis* if it exists. Default=False\n",
    "\n",
    "&nbsp;"
   ]
  },
  {
   "cell_type": "markdown",
   "metadata": {
    "nbsphinx-toctree": {
     "hidden": true
    }
   },
   "source": [
    "[Description](task_conjugatevis/about)\n",
    "[Parameters](task_conjugatevis/parameters)\n",
    "[Changelog](task_conjugatevis/changelog)\n",
    "[Examples](task_conjugatevis/examples)\n",
    "[Developer](task_conjugatevis/developer)\n"
   ]
  }
 ],
 "metadata": {},
 "nbformat": 4,
 "nbformat_minor": 5
}
