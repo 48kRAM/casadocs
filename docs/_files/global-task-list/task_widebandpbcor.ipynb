{
 "cells": [
  {
   "cell_type": "markdown",
   "metadata": {},
   "source": [
    "# widebandpbcor\n",
    "\n",
    "task widebandpbcor description\n",
    "\n",
    "The task **widebandpbcor**&nbsp;performs&nbsp;a WideBand Primary-beam\n",
    "correction. It computes a set of PBs at the specified frequencies,\n",
    "calculates Taylor-coefficient images that represent the PB spectrum,\n",
    "performs a polynomial division to PB-correct the output\n",
    "Taylor-coefficient images from **clean** or **tclean** (with\n",
    "*nterms\\>1*), and recomputes the spectral index (and curvature) using\n",
    "the PB-corrected Taylor-coefficient images.&nbsp;Optionally, it is possible to skip the PB-correction and only\n",
    "recalculate the spectral index&nbsp;with a\n",
    "different threshold.&nbsp;\n",
    "\n",
    "This is a temporary task, meant for use until a\n",
    "**widebandpbcor** option is enabled from&nbsp;within the tclean task.\n",
    "\n",
    "When running **widebandpbcor**, an output directory\n",
    "named 'imagename.pbcor.workdirectory' is created, and it is filled\n",
    "with&nbsp;an image-cube of the evaluated primary\n",
    "beams at all specified frequencies,&nbsp;Taylor-coefficients, and a 'spectral index' due to the\n",
    "primary beam.&nbsp;Note that for the actual\n",
    "PB-correction, only the Taylor-coefficient images are used.\n",
    "\n",
    "For more information about the widebandpbcor task, please see\n",
    "the&nbsp;[Wide Band\n",
    "Imaging](https://casa.nrao.edu/casadocs-devel/stable/imaging/synthesis-imaging/wide-band-imaging)&nbsp;page\n",
    "in the Synthesis Imaging section of CASAdocs.&nbsp;&nbsp;\n",
    "\n"
   ]
  },
  {
   "cell_type": "markdown",
   "metadata": {},
   "source": [
    "## &nbsp;\n",
    "\n"
   ]
  },
  {
   "cell_type": "markdown",
   "metadata": {},
   "source": [
    "## Choosing *spwlist*, *chanlist*, and *weightlist*\n",
    "\n",
    "The basic principles at work here are:\n",
    "\n",
    "1.  Imaging = fitting a polynomial to a noisy spectrum\n",
    "    (with weights).&nbsp;The polynomial\n",
    "    represents $I_{\\nu}$ x $P_{\\nu}$,\n",
    "    where $I_{\\nu}$ is the intensity and $P_{\\nu}$ the\n",
    "    primary beam (PB) at frequency $\\nu$.  \n",
    "2.  PB model = fitting a polynomial to a collection of\n",
    "    PBs at different&nbsp;frequencies (with\n",
    "    weights). The polynomial represents the primary beam $P_{\\nu}$.\n",
    "3.  Dividing the two polynomials via their\n",
    "    coefficients.\n",
    "\n",
    "Steps (1) and (2) need to be consistent with each other\n",
    "(with respect to&nbsp;frequencies used&nbsp;and their weights) to produce\n",
    "FITS that when divided give exactly only the sky parameters.&nbsp;Unless you\n",
    "use the same math (and code) for both, they won't be exactly\n",
    "consistent.&nbsp;The way to minimize differences\n",
    "is to choose a list of frequencies (via spws/chans)&nbsp;and weights for **widebandpbcor** that resemble the frequency\n",
    "structure of the data you&nbsp;have used for\n",
    "imaging.&nbsp;For example, if you have 3 spws in\n",
    "your data and the middle spw has a factor of 10&nbsp;less weight\n",
    "in the data, then using just one channel each from the two outer spws\n",
    "for&nbsp;the PB modeling may be close\n",
    "enough to using all 3 spws. Or, you could also pick&nbsp;the middle\n",
    "channel of all 3 spws, and assign weights as \\[1.0, 0.1, 1.0\\].\n",
    "\n",
    "&nbsp;\n",
    "\n"
   ]
  },
  {
   "cell_type": "markdown",
   "metadata": {},
   "source": [
    "## Parameter descriptions\n",
    "\n"
   ]
  },
  {
   "cell_type": "markdown",
   "metadata": {},
   "source": [
    "##### *vis*\n",
    "\n",
    "Name of input visibility file. Default: none. Examples:\n",
    "*vis='ngc5921.ms'.* Only one MS can be specified here, and it must\n",
    "contain at-least one timestep of data at all frequencies required to\n",
    "calculate the PB spectrum.\n",
    "\n",
    "**NOTE1**: If the imaging was done using a list of MSs, and any one MS\n",
    "covers the entire frequency range, then it will suffice to supply only\n",
    "that one MS. This MS is used only to extract frequencies at which to\n",
    "compute primary beams before fitting Taylor polynomials.\n",
    "\n",
    "**NOTE2**: In case of multiple MSs that cover different frequency\n",
    "ranges, please **split**/**concat** a small fraction of the data from\n",
    "each MS to form one single MS that contains the full frequency range.\n",
    "This task uses the MS only for frequency meta-data.\n",
    "\n"
   ]
  },
  {
   "cell_type": "markdown",
   "metadata": {},
   "source": [
    "##### *imagename*\n",
    "\n",
    "Pre-name of input and output images. Same as in the **clean** or\n",
    "**tclean** task. Examples: *imagename = 'run1'*; Restored-images\n",
    "(run1.image.tt0, etc.) and residual images (run1.residual.tt0, etc... )\n",
    "must be available on disk.\n",
    "\n"
   ]
  },
  {
   "cell_type": "markdown",
   "metadata": {},
   "source": [
    "##### *nterms*\n",
    "\n",
    "Number of Taylor terms to be used to model the frequency-dependence of\n",
    "the primary beam. Examples: *nterms = 2*; *nterms* must be less than or\n",
    "equal to the number of frequencies specified via spwlist, chanlist and\n",
    "weightlist. *nterms=1* will do a standard division by the average PB\n",
    "computed over all specified frequencies.\n",
    "\n"
   ]
  },
  {
   "cell_type": "markdown",
   "metadata": {},
   "source": [
    "##### *threshold*\n",
    "\n",
    "Flux level in the restored intensity map, below which to not recalculate\n",
    "spectral index. Examples: *threshold = '0.1Jy'*\n",
    "\n"
   ]
  },
  {
   "cell_type": "markdown",
   "metadata": {},
   "source": [
    "##### *action*\n",
    "\n",
    "Choice of PB-correction with spectral-index recalculation or only\n",
    "spectral-index recalculation (using the specified threshold). Examples:\n",
    "*action='pbcor'* or *action='calcalpha'*. With *action='pbcor'*, the\n",
    "following output images are created/overwritten:\n",
    "\n",
    "-   imagename.pbcor.workdirectory: This directory contains an image cube\n",
    "    with PBs at the list of specified frequencies, and\n",
    "    Taylor-coefficient images that describe the PB spectrum.\n",
    "-   imagename.pb.cube: Concatenated cube of PBs\n",
    "-   imagename.pb.tt0, tt1, ...: Taylor coefficients describing the PB\n",
    "    spectrum\n",
    "-   imagename.pb.alpha: Spectral index of the PB (for information only)\n",
    "-   imagename.image.pbcor.tt0,tt1,...: Corrected Taylor coefficients\n",
    "-   imagename.pbcor.image.alpha: Corrected Spectral Index\n",
    "-   imagename.pbcor.image.alpha.error: New error map.\n",
    "\n",
    "With *action='calcalpha'*, the following output images are\n",
    "created/overwritten\n",
    "\n",
    "-   imagename.image.alpha: Corrected Spectral Index\n",
    "-   imagename.image.alpha.error: New error map.\n",
    "\n"
   ]
  },
  {
   "cell_type": "markdown",
   "metadata": {},
   "source": [
    "#### action='pbcor' expandable parameters\n",
    "\n"
   ]
  },
  {
   "cell_type": "markdown",
   "metadata": {},
   "source": [
    "##### *reffreq*\n",
    "\n",
    "Reference frequency about which the Taylor-expansion is defined.\n",
    "Examples: reffreq = '1.5GHz'. If left unspecified, it is picked from the\n",
    "input restored image.&nbsp;\n",
    "\n",
    "**NOTE**: If *reffreq* was specified during task clean to produce the\n",
    "images it must be specified here.\n",
    "\n"
   ]
  },
  {
   "cell_type": "markdown",
   "metadata": {},
   "source": [
    "##### *pbmin*\n",
    "\n",
    "PB gain level below which to not compute Taylor-coefficients or apply\n",
    "PB-corrections. Examples: *pbmin = 0.1*\n",
    "\n"
   ]
  },
  {
   "cell_type": "markdown",
   "metadata": {},
   "source": [
    "##### *field*\n",
    "\n",
    "Field selection for the Primary Beam calculation. Examples: *field =\n",
    "'3C291'*. This field selection must be identical to that used in\n",
    "**clean** or **tclean**.\n",
    "\n"
   ]
  },
  {
   "cell_type": "markdown",
   "metadata": {},
   "source": [
    "##### *spwlist*\n",
    "\n",
    "List of SPW ids for which to make separate Primary Beam.\n",
    "\n"
   ]
  },
  {
   "cell_type": "markdown",
   "metadata": {},
   "source": [
    "##### *chanlist*\n",
    "\n",
    "List of channel ids, within the above SPW ids, at which to make PBs.\n",
    "Examples: *spwlist=\\[0,1,2\\] chanlist=\\[32,32,32\\]*, make PBs at\n",
    "frequencies corresponding to channel 32 of spws 0,1 and 2;\n",
    "*spwlist=\\[0,0,0\\] chanlist=\\[0,10,20\\]*, make PBs at frequencies\n",
    "corresponding to channels 0, 10, 20 of spw 0.\n",
    "\n",
    "Primary beams are computed at these specified frequencies and for\n",
    "pointings selected by *field*. Taylor-coefficients that represent the PB\n",
    "spectrum are computed from these images.\n",
    "\n"
   ]
  },
  {
   "cell_type": "markdown",
   "metadata": {},
   "source": [
    "##### *weightlist*\n",
    "\n",
    "List of relative weights to apply to the PBs selected via the *spwlist*\n",
    "and *chanlist* parameters. Weights should approximately represent the\n",
    "sum-of-weights applicable during imaging each of these frequencies.\n",
    "Examples: *weightlist=\\[0.5,1.0,1.0\\]*\n",
    "\n",
    "The first frequency had less usable data due to flagged RFI, but the\n",
    "other two had relatively equal weight. These weights are applied to the\n",
    "PB spectrum while computing PB Taylor-coefficients. Setting weights to\n",
    "anything other than 1.0 makes a difference only with very lop-sided\n",
    "weights.\n",
    "\n",
    "&nbsp;"
   ]
  },
  {
   "cell_type": "markdown",
   "metadata": {
    "nbsphinx-toctree": {
     "hidden": true
    }
   },
   "source": [
    "[Description](task_widebandpbcor/about)\n",
    "[Parameters](task_widebandpbcor/parameters)\n",
    "[Changelog](task_widebandpbcor/changelog)\n",
    "[Examples](task_widebandpbcor/examples)\n",
    "[Developer](task_widebandpbcor/developer)\n"
   ]
  }
 ],
 "metadata": {},
 "nbformat": 4,
 "nbformat_minor": 5
}
