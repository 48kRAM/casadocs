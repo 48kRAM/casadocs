{
 "cells": [
  {
   "cell_type": "markdown",
   "metadata": {},
   "source": [
    "# Examples\n",
    "\n",
    "task deconvolve examples\n",
    "\n",
    "Deconvolve the dirty image 'mydirtyimage.image' with a dirty beam (psf)\n",
    "'mydirtyimage.psf'. No MS is required as only minor cycles are\n",
    "performed. We are using the 'multiscale' clean algorithm with scales of\n",
    "0, 3, and 10 pixels. The stopping criteria are either 10000 iterations,\n",
    "or an RMS threshold of 10mJy:&nbsp;\n",
    "\n",
    "deconvolve(imagename='mydirtyimage.image', model='mycleanimage.image',\n",
    "psf='mydirtyimage.psf', alg='multiscale', scales=\\[0,3,10\\],\n",
    "niter=10000, gain=0.1, threshold='10mJy')\n",
    "\n",
    "&nbsp;\n",
    "\n",
    "&nbsp;"
   ]
  }
 ],
 "metadata": {},
 "nbformat": 4,
 "nbformat_minor": 5
}
