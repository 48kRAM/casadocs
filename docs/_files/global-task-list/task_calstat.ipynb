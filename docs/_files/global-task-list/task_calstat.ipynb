{
 "cells": [
  {
   "cell_type": "markdown",
   "metadata": {},
   "source": [
    "# calstat\n",
    "\n",
    "displays statistical information on a calibration table\n",
    "\n"
   ]
  },
  {
   "cell_type": "markdown",
   "metadata": {},
   "source": [
    "## Summary\n",
    "\n",
    "The **calstat** task returns statistical information about a column in a\n",
    "calibration table. The following values are computed: mean value, sum of\n",
    "values, sum of squared values, median, median absolute deviation,\n",
    "quartile, minimum, maximum, variance, standard deviation, root mean\n",
    "square. The results are printed in the CASA logger. The statistics info\n",
    "can also be captured as a python dictionary return variable. See the\n",
    "examples.\n",
    "\n",
    "At this time, it is not possible to apply selection to the caltable.\n",
    "\n",
    "&nbsp;\n",
    "\n"
   ]
  },
  {
   "cell_type": "markdown",
   "metadata": {},
   "source": [
    "## Parameters\n",
    "\n"
   ]
  },
  {
   "cell_type": "markdown",
   "metadata": {},
   "source": [
    "##### *caltable*\n",
    "\n",
    "Specify the name of the calibration table as a string in *caltable*.\n",
    "\n"
   ]
  },
  {
   "cell_type": "markdown",
   "metadata": {},
   "source": [
    "##### *axis*\n",
    "\n",
    "Specify the axis upon which to calculate statistics in *axis*. The\n",
    "possible values are 'amp' (or 'amplitude'), 'phase', 'real', 'imag' (or\n",
    "'imaginary'). Also, the name of any real valued CalTable column can be\n",
    "given, e.g. TIME, POLY_COEFF_AMP, REF_ANT, ANTENNA1, FLAG, etc.\n",
    "\n"
   ]
  },
  {
   "cell_type": "markdown",
   "metadata": {},
   "source": [
    "##### *datacolumn*\n",
    "\n",
    "For *axis='amp'*, *'amplitude'*, *'phase'*, *'real'*, *'imag'*, or\n",
    "*'imaginary'* specify the name of the column from which to extract the\n",
    "axis values and calculate statistics. E.g., for a 'G' table from\n",
    "**gaincal**, use *datacolumn='CPARAM'*.\n",
    "\n"
   ]
  },
  {
   "cell_type": "markdown",
   "metadata": {},
   "source": [
    "##### *useflags*\n",
    "\n",
    "NB: The *useflags* parameter is not yet implemented."
   ]
  },
  {
   "cell_type": "markdown",
   "metadata": {
    "nbsphinx-toctree": {
     "hidden": true
    }
   },
   "source": [
    "[Description](task_calstat/about)\n",
    "[Examples](task_calstat/examples)\n"
   ]
  }
 ],
 "metadata": {},
 "nbformat": 4,
 "nbformat_minor": 5
}
