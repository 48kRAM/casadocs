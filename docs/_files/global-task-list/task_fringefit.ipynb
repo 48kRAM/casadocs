{
 "cells": [
  {
   "cell_type": "markdown",
   "metadata": {},
   "source": [
    "# fringefit\n",
    "\n",
    "calculates a fringe-fitting (phase/delay/rate) solution\n",
    "\n",
    "**WARNING: fringefit**&nbsp;is currently an experimental task. Use with\n",
    "care and report issues back to the CASA team via the&nbsp;[NRAO\n",
    "helpdesk](http://help.nrao.edu/). Note&nbsp;that calibration tables made\n",
    "with fringefit in CASA 5.5 will not work in CASA 5.6 and later.\n",
    "\n",
    "The **fringefit** task determines phase, delay, delay-rate and\n",
    "(optionally) dispersive delay solutions as a function of time and\n",
    "spectral window, thus enabling correction of visibility phases for\n",
    "errors introduced by the atmosphere, the signal paths of the instrument,\n",
    "or other pre-calibration steps. It can correct a single scan on a bright\n",
    "source for delay offsets between spectral windows, which can result from\n",
    "instrumental signal paths (single-band delays), and it can correct\n",
    "multiple scans on a source to correct for errors that are variable in\n",
    "time (multi-band delay and delay rate). The task uses the model data\n",
    "column when present in the MeasurementSet. Fringe fitting is primarily\n",
    "useful for VLBI.  \n",
    "&nbsp;\n",
    "\n"
   ]
  },
  {
   "cell_type": "markdown",
   "metadata": {},
   "source": [
    "## Introduction\n",
    "\n",
    "In Very Long Baseline Interferometry (VLBI), fringe-fitting is an\n",
    "essential step which is not typically used for connected element arrays\n",
    "such as JVLA and ALMA. The very long baselines make observations\n",
    "particularly sensitive to small errors in the correlator model (station\n",
    "positions), signal chain, and the temporally- and spatially-variable\n",
    "atmosphere. The errors manifest themselves as residual delays (which\n",
    "introduce a slope when plotting phase against frequency) and delay-rates\n",
    "(which cause the phase offset at, say, the center of the band to drift\n",
    "as a function of time). Additionally at low frequencies and large\n",
    "fractional bandwidths a dispersive delay can be observed proportional\n",
    "(in time) to the inverse of the square of frequency and therefore\n",
    "proportional to the reciprocal of the frequency in phase. These errors\n",
    "can be corrected by observations of a bright calibrator source and a\n",
    "phase reference source which is close to the target source in projection\n",
    "on the sky.  \n",
    "  \n",
    "Prior to running **fringefit** it is recommended to calibrate the\n",
    "amplitudes, as the weights are used by **fringefit** to determine the\n",
    "reliability of the fringe detection. A tunable SNR-cutoff is implemented\n",
    "to allow weak fringes and non-detections to be discarded. Bandpass\n",
    "correction can be done either before or after fringe fitting using\n",
    "**bandpass**.**&nbsp;**Since the CASA **bandpass** is a simple complex\n",
    "gain correction, it will be more efficient after fringe fitting when\n",
    "VLBI-style geometrical errors are important.  \n",
    "  \n",
    "The algorithm used in **fringefit**, based on the Schwab-Cotton\n",
    "algorithm (originally implemented in the AIPS task FRING), has two\n",
    "stages. The first step is to look for fringes on each baseline to a\n",
    "reference station separately and estimate the SNR value for each of\n",
    "these baselines using a Fast Fourier Transform. The fringes that pass\n",
    "the SNR requirement are passed through to the second step, a global\n",
    "least-squares solver that attempts to optimize the solutions and\n",
    "transform them into antenna-based solutions for phase, delay, rate and\n",
    "dispersive delay. All of the parameters except phase can be included or\n",
    "excluded in the solution at this phase using the *paramactive* keyword\n",
    "described below; the default is that phase, delay and rate are solved\n",
    "but dispersive delay is not, since this matches the historical default\n",
    "and the usage we expect to be most common in VLBI.\n",
    "\n",
    "**NOTE**: For the multi-band delay, the solutions for the full combined\n",
    "spectral window are written for a notional spectral window 0. To account\n",
    "for this spectral window&nbsp;in the **applycal** step, use the *spwmap*\n",
    "parameter to ensure that the solutions are correctly applied to all\n",
    "spectral windows (see the Examples tab for details).\n",
    "\n"
   ]
  },
  {
   "cell_type": "markdown",
   "metadata": {},
   "source": [
    "## Common calibration solve parameters\n",
    "\n",
    "See [Solving for\n",
    "Calibration](https://casa.nrao.edu/casadocs-devel/stable/calibration-and-visibility-data/synthesis-calibration/solving-for-calibration)&nbsp;for\n",
    "more information on the task parameters **fringefit** shares with all\n",
    "solving tasks, including data selection, general solving properties and\n",
    "arranging prior calibration (i.e.,&nbsp;specifying other caltables to\n",
    "pre-apply before solving).&nbsp;Also see the&nbsp;**rerefant**&nbsp;task\n",
    "documentation for the behavior of reference antenna application. Below\n",
    "we describe parameters unique to **fringefit**&nbsp;and those common\n",
    "parameters with unique properties.&nbsp;\n",
    "\n",
    "**NOTE**: Like **gaincal**, fringefit supports passing a list of\n",
    "antennas through the *refant* parameter. However **fringefit** does not\n",
    "implement the *refantmode* parameter and effectively always operates in\n",
    "'flex' mode, using the next antenna from the list as the reference\n",
    "antenna if an antenna is not available.\n",
    "\n"
   ]
  },
  {
   "cell_type": "markdown",
   "metadata": {},
   "source": [
    "## Parameter descriptions\n",
    "\n"
   ]
  },
  {
   "cell_type": "markdown",
   "metadata": {},
   "source": [
    "### Solution interval: *solint*\n",
    "\n",
    "The solution interval specified in *solint* (in seconds) is used to\n",
    "group data. It is important to make sure that for intervals shorter than\n",
    "the scan length, the scan is divided into roughly equal sized solution\n",
    "intervals. Avoid selecting a solution interval that will lead to\n",
    "intervals containing a single integration time, as this will cause an\n",
    "error.\n",
    "\n"
   ]
  },
  {
   "cell_type": "markdown",
   "metadata": {},
   "source": [
    "### Combining data for solutions: *combine*\n",
    "\n",
    "As in other calibration solve tasks, data can be combined over different\n",
    "axes. To derive multi-band delay corrections, set *combine='spw'.*\n",
    "\n"
   ]
  },
  {
   "cell_type": "markdown",
   "metadata": {},
   "source": [
    "### SNR control: *minsnr*\n",
    "\n",
    "The *minsnr* parameter sets the threshold of the SNR value required for\n",
    "the baseline based fringe (FFT stage) to be included in the global\n",
    "least-squares minimization.\n",
    "\n"
   ]
  },
  {
   "cell_type": "markdown",
   "metadata": {},
   "source": [
    "### Rate-zeroing: *zerorates*\n",
    "\n",
    "When correcting instrumental delays by solving for each spectral window\n",
    "separately, it is usual to apply the corrections derived to the entire\n",
    "dataset. Extrapolating the rates in time is undesirable, so use of\n",
    "*zerorates=True* will cause no time-dependent rate correction to be\n",
    "applied. Note that with this option the rates are still solved, and\n",
    "zeroed only when written to the table; *paramactive* can be used to turn\n",
    "off solution of rates altogether but this is currently not recommended;\n",
    "*zerorates*&nbsp;(and its equivalent in other software) has been the\n",
    "standard practice in VLBI for a long time, and is likely to remain so.\n",
    "\n"
   ]
  },
  {
   "cell_type": "markdown",
   "metadata": {},
   "source": [
    "### Prior correction for parallactic angle: *parang*\n",
    "\n",
    "Although optional, it is is generally recomended that *parang=True* be\n",
    "used for VLBI observations, since parallactic angle causes differential\n",
    "phase rates among widely-separated antennas that usually should not be\n",
    "included within the **fringefit** solution.\n",
    "\n"
   ]
  },
  {
   "cell_type": "markdown",
   "metadata": {},
   "source": [
    "### Disabling the global least-squares solver: *globalsolve*\n",
    "\n",
    "By default, fringe-fit solutions are refined by a global least-squares\n",
    "optimization algorithm after the FFT stage. For some purposes, it is\n",
    "desirable to use the estimates from the FFT stage directly; this can be\n",
    "done by setting *globalsolve*=False. (The default is True)\n",
    "\n"
   ]
  },
  {
   "cell_type": "markdown",
   "metadata": {},
   "source": [
    "### Setting a maximum number of iterations: *niter*\n",
    "\n",
    "A maximum number of iterations for the global least squares solver can\n",
    "be set with the *niter* parameter. The default is 100; in cases with\n",
    "high signal-to-noise this limit is not reached.\n",
    "\n"
   ]
  },
  {
   "cell_type": "markdown",
   "metadata": {},
   "source": [
    "### Constrain the search window for delay:&nbsp;*delaywindow*\n",
    "\n",
    "Sometimes a priori information is available to constrain the delays\n",
    "relative to the reference station at the FFT search step. The upper and\n",
    "lower bounds (in nanoseconds) can be provided as a two element list\n",
    "through the keyword *delaywindow*. The value None can be used to leave\n",
    "either the upper or lower limit unconstrained (setting both to None\n",
    "constrains neither; this is the default). Note that the same constraint\n",
    "is applied to all baselines in the FFT search step.\n",
    "\n"
   ]
  },
  {
   "cell_type": "markdown",
   "metadata": {},
   "source": [
    "### Constrain the search window for rate:&nbsp;*ratewindow*\n",
    "\n",
    "Similarly to *delaywindow*, sometimes a priori information is available\n",
    "to constrain the delay rates relative to the reference station at the\n",
    "FFT search step. The upper and lower bounds (in units of seconds/second)\n",
    "can be provided as a two element list through the keyword *ratewindow*.\n",
    "The value None can be used to leave either the upper or lower limit\n",
    "unconstrained (setting both to None constrains neither; this is the\n",
    "default). Note that the same constraint is applied to all baselines in\n",
    "the FFT search step.\n",
    "\n"
   ]
  },
  {
   "cell_type": "markdown",
   "metadata": {},
   "source": [
    "### Select a weighting strategy for the least squares solver: *weightfactor*\n",
    "\n",
    "It is common in VLBI practice for the user to choose how weights of\n",
    "visiblities should be used in the global stage of fringe-fitting. In any\n",
    "array such as the EVN with a very sensitive antenna (in the EVN's case\n",
    "Effelsberg), the use of measurement set weights can mean that baselines\n",
    "to the sensitive antenna dominate and other baselines have neglibible\n",
    "impact. Choosing the square root of those weights gives, many users\n",
    "feel, a more balanced interpretation of the data.\n",
    "\n",
    "The *weightfactor* parameter allows the user to chose between\n",
    "strategies:\n",
    "\n",
    "-   0 =\\> use a weight of 1 (i.e., ignore measurement set weights);\n",
    "-   1 =\\> use the square-root of measurement set weights;\n",
    "-   2 =\\> use the measurement set weights as they are (the default)\n",
    "\n"
   ]
  },
  {
   "cell_type": "markdown",
   "metadata": {},
   "source": [
    "### Select active parameters for least square solver: *paramactive*\n",
    "\n",
    "As part of the inclusion of a dispersive component of delay we have\n",
    "added a parameter to control which model parameters are used in the\n",
    "least-squares part of the solver (the FFT stage is unaffected). The\n",
    "*paramactive* parameter takes a Python list of boolean arguments for the\n",
    "delay, rate and dispersive components, with a default value of \\[True,\n",
    "True, False\\] to match the historic default, which is also expected to\n",
    "be the most common future use-case. Note that we do not offer users an\n",
    "opportunity not to solve for phase offset (also known as \"secular\n",
    "phase\")."
   ]
  },
  {
   "cell_type": "markdown",
   "metadata": {
    "nbsphinx-toctree": {
     "hidden": true
    }
   },
   "source": [
    "[Description](task_fringefit/about)\n",
    "[Parameters](task_fringefit/parameters)\n",
    "[Changelog](task_fringefit/changelog)\n",
    "[Examples](task_fringefit/examples)\n",
    "[Developer](task_fringefit/developer)\n"
   ]
  }
 ],
 "metadata": {},
 "nbformat": 4,
 "nbformat_minor": 5
}
