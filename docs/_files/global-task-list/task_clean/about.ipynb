{
 "cells": [
  {
   "cell_type": "markdown",
   "metadata": {},
   "source": [
    "# Description\n",
    "\n",
    "Invert and deconvolve images with selected algorithm\n",
    "\n"
   ]
  },
  {
   "cell_type": "markdown",
   "metadata": {},
   "source": [
    "## The 'clean' task will be deprecated in the near future - please use tclean instead! \n",
    "\n",
    "All major functionality from clean is\n",
    "present in tclean via a modified interface along with additional\n",
    "algorithmic options.\n",
    "\n",
    " \n",
    "\n"
   ]
  },
  {
   "cell_type": "markdown",
   "metadata": {},
   "source": [
    "### Basics of **clean**\n",
    "\n",
    "The CLEAN algorithm (more details available\n",
    "[here](https://www.cv.nrao.edu/~abridle/deconvol/node7.html)) is the\n",
    "most popular and widely-studied method for reconstructing a model image\n",
    "based on interferometer data. It iteratively removes at each step a\n",
    "fraction of the flux in the brightest pixel in a defined region of the\n",
    "current “dirty” image, and places this in the model image. The **clean**\n",
    "task implements the CLEAN algorithm for single-field data. The user can\n",
    "choose from a number of options for the particular flavor of CLEAN to\n",
    "use. Often, the first step in imaging is to make a simple gridded\n",
    "Fourier inversion of the calibrated data to make a “dirty” image. This\n",
    "can then be examined to look for the presence of noticeable emission\n",
    "above the noise, and to assess the quality of the calibration by\n",
    "searching for artifacts in the image. This is done using **clean** with\n",
    "*niter=0*.\n",
    "\n",
    "**ALERT**: For large fractional bandwidths, the psf in **clean** may\n",
    "vary considerably with frequency in data cubes. To accommodate this fact\n",
    "we have introduced a per-plane psf (dirty beam) when the change is\n",
    "larger than half the size of a pixel. Analysis tasks in CASA can deal\n",
    "with such beam variation. If a single beam size is requested,\n",
    "**imsmooth** can be invoked on the clean products to smooth to a common,\n",
    "uniform beam for all channels.\n",
    "\n",
    "The **clean** task has many options:\n",
    "\n",
    "-   Make 'dirty' image and 'dirty' beam (PSF)\n",
    "-   Multi-frequency-continuum images or spectral channel imaging\n",
    "-   Full Stokes imaging\n",
    "-   Mosaicking of several pointings\n",
    "-   Multi-scale cleaning\n",
    "-   Widefield cleaning\n",
    "-   Interactive clean boxing\n",
    "-   Use starting model (e.g. from single-dish)\n",
    "\n",
    " \n",
    "\n"
   ]
  },
  {
   "cell_type": "markdown",
   "metadata": {},
   "source": [
    "### *imagermode* parameter\n",
    "\n",
    "CASA supports several methods for data deconvolution and imaging. These\n",
    "methods can be set using the parameter *imagermode*, which chooses the\n",
    "mode of operation of **clean**, either as single-field deconvolution\n",
    "using image-plane major and minor cycles only (*imagermode=''*),\n",
    "single-field deconvolution using Cotton-Schwab (CS) residual\n",
    "visibilities for major cycles (*imagermode='csclean'*), or multi-field\n",
    "mosaics using CS major cycles (*imagermode='mosaic'*).\n",
    "\n",
    "The default *imagermode='csclean'* choice specifies the Cotton-Schwab\n",
    "algorithm (more details available\n",
    "[here](https://www.cv.nrao.edu/~abridle/deconvol/node10.html)). This\n",
    "opens up the following sub-parameters:\n",
    "\n",
    "imagermode          =  'csclean'   \\"
   ]
  },
  {
   "cell_type": "markdown",
   "metadata": {},
   "source": [
    "##  Options: 'csclean' or 'mosaic';\n",
    "'', uses psfmode  \n",
    "     cyclefactor    =        1.5   \\"
   ]
  },
  {
   "cell_type": "markdown",
   "metadata": {},
   "source": [
    "##  Controls how often major cycles\n",
    "are done. (e.g. 5 for frequently)  \n",
    "     cyclespeedup   =         -1   \\"
   ]
  },
  {
   "cell_type": "markdown",
   "metadata": {},
   "source": [
    "##  Cycle threshold doubles in this\n",
    "number of iterations\n",
    "\n",
    "In the CS mode, cleaning is split into minor and major cycles. For each\n",
    "field, a minor cycle is performed using the PSF algorithm specified by\n",
    "the *psfmode* parameter. At major-cycle breakpoints, the points thus\n",
    "found are subtracted from the original visibilities. A fast variant does\n",
    "a convolution using a FFT (Fast Fourier transform). This will be faster\n",
    "for large numbers of visibilities. If you want to be extra careful,\n",
    "double the image size from that used for the Clark **clean** and set a\n",
    "mask to clean only the inner quarter or less (this is not done by\n",
    "default). This is probably the best choice for high-fidelity\n",
    "deconvolution of images without lots of large-scale structure.\n",
    "\n",
    "**NOTE**: When using the Cotton-Schwab algorithm with a threshold, there\n",
    "may be strange behavior when you hit the threshold with a major cycle.\n",
    "In particular, it may be above threshold again at the start of the next\n",
    "major cycle. This is particularly noticeable when cleaning a cube, where\n",
    "different channels will hit the threshold at different times.\n",
    "\n",
    "In the empty mode (*imagermode=''*), the major and minor clean cycles\n",
    "work off of the gridded FFT dirty image, with residuals updated using\n",
    "the PSF calculation algorithm set by the *psfmode* parameter. This\n",
    "method is not recommended for high dynamic range or high fidelity\n",
    "imaging applications, but can be significantly faster than CS clean (the\n",
    "default).\n",
    "\n",
    "**NOTE**: For this option only, if *mask=''* (no mask or box set) then\n",
    "it will clean the inner quarter of the image by default.\n",
    "\n",
    "**ALERT**: You will see a warning message in the logger, similar to\n",
    "this:\n",
    "\n",
    "Zero Pixels selected with a Flux limit of 0.000551377 and a maximum\n",
    "Residual of 0.00751239\n",
    "\n",
    "whenever it finds 0 pixels above the threshold. This is normal, and not\n",
    "a problem if you’ve specified a non-zero threshold. On the other hand,\n",
    "if you get this warning with the threshold set to the default of '0Jy',\n",
    "then you should look carefully at your inputs or your data, since this\n",
    "usually means that the masking is bad.\n",
    "\n",
    "The option *imagermode='mosaic'* is for multi-field mosaics. This choice\n",
    "opens up the following sub-parameters:\n",
    "\n",
    "imagermode          =   'mosaic'   \\"
   ]
  },
  {
   "cell_type": "markdown",
   "metadata": {},
   "source": [
    "##  Use csclean or mosaic.  If ’’,\n",
    "use psfmode  \n",
    "     mosweight      =      False   \\"
   ]
  },
  {
   "cell_type": "markdown",
   "metadata": {},
   "source": [
    "##  Individually weight the fields of\n",
    "the mosaic  \n",
    "     ftmachine      =   'mosaic'   \\"
   ]
  },
  {
   "cell_type": "markdown",
   "metadata": {},
   "source": [
    "##  Gridding method for the image  \n",
    "     scaletype      =    'SAULT'   \\"
   ]
  },
  {
   "cell_type": "markdown",
   "metadata": {},
   "source": [
    "##  Controls scaling of pixels in the\n",
    "image plane.  \n",
    "     cyclefactor    =        1.5   \\"
   ]
  },
  {
   "cell_type": "markdown",
   "metadata": {},
   "source": [
    "##  change depth in between of \n",
    "csclean cycle  \n",
    "     cyclespeedup   =         -1   \\"
   ]
  },
  {
   "cell_type": "markdown",
   "metadata": {},
   "source": [
    "##  Cycle threshold doubles in this\n",
    "number of iterations\n",
    "\n"
   ]
  },
  {
   "cell_type": "markdown",
   "metadata": {},
   "source": [
    "##### *psfmode* parameter\n",
    "\n",
    "The *psfmode* parameter chooses the “algorithm” that will be used to\n",
    "calculate the synthesized beam for use during the minor cycles in the\n",
    "image plane. There are 3 choices: '*clark*' (default), '*hogbom*', and\n",
    "'*clarkstokes*'.\n",
    "\n",
    "In the 'clark' algorithm, the cleaning is split into minor and major\n",
    "cycles. In the minor cycles only the brightest points are cleaned, using\n",
    "a subset of the point spread function. In the major cycle, the points\n",
    "thus found are subtracted correctly by using an FFT-based convolution.\n",
    "This algorithm is reasonably fast. Also, for polarization imaging, Clark\n",
    "searches for the peak in\n",
    "\n",
    "$I^2 + Q^2 + U^2 + V^2$.\n",
    "\n",
    "The '*hogbom*' algorithm is the “Classic” image-plane CLEAN, where model\n",
    "pixels are found iteratively by searching for the peak. Each point is\n",
    "subtracted from the full residual image using the shifted and scaled\n",
    "point spread function. In general, this is not a good choice for most\n",
    "imaging problems (*clark* or *csclean* are preferred) as it does not\n",
    "calculate the residuals accurately. But in some cases, with poor\n",
    "uv-coverage and/or a PSF with bad sidelobes, the Hogbom algorithm will\n",
    "do better as it uses a smaller beam patch. For polarization cleaning,\n",
    "Hogbom searches for clean peak in I, Q, U, and V independently.\n",
    "\n",
    "In the '*clarkstokes*' algorithm, the Clark psf is used, but for\n",
    "polarization imaging the Stokes planes are cleaned sequentially for\n",
    "components instead of jointly as in '*clark*'. This means that this is\n",
    "the same as 'clark' for Stokes I imaging only. This option can also be\n",
    "combined with *imagermode='csclean'*.\n",
    "\n",
    " \n",
    "\n"
   ]
  },
  {
   "cell_type": "markdown",
   "metadata": {},
   "source": [
    "### Data weighting\n",
    "\n",
    "Data weighting during imaging allows for the improvement of the dynamic\n",
    "range and the ability to adjust the synthesized beam associated with the\n",
    "produced image. The weight given to each visibility sample can be\n",
    "adjusted to fit the desired output. There are several reasons to adjust\n",
    "the weighting, including improving sensitivity to extended sources or\n",
    "accounting for noise variation between samples.The user can adjust the\n",
    "weighting using **clean** and changing the *weighting* parameter with\n",
    "six options: 'natural', 'uniform', 'briggs',  'superuniform',\n",
    "'briggsabs', and 'radial'.\n",
    "\n"
   ]
  },
  {
   "cell_type": "markdown",
   "metadata": {},
   "source": [
    "##### Natural weighting\n",
    "\n",
    "For *weighting='natural'*,\n",
    "visibilities are weighted only by the data weights, which are calculated\n",
    "during filling and calibration and should be equal to the inverse noise\n",
    "variance on that visibility. Imaging weight $w_i$ of\n",
    "sample $\\dot\\imath$ is given by:\n",
    "\n",
    "$w_i = \\omega_i = \\frac{1}{{\\sigma_i}^2}$\n",
    "\n",
    "where the data weight $\\omega_i$ is determined from $\\sigma_i$, the\n",
    "rms noise on visibility $\\dot\\imath$. When data is gridded into\n",
    "the same uv-cell for imaging, the weights are summed, and thus a higher\n",
    "uv density results in higher imaging weights. No sub-parameters are\n",
    "linked to this mode choice. It is the default imaging weight mode, and\n",
    "it should produce “optimum” image with with the lowest noise (highest\n",
    "signal-to-noise ratio).\n",
    "\n",
    "**NOTE**: This generally produces images with the poorest angular\n",
    "resolution, since the density of visibilities falls radially in the\n",
    "uv-plane.\n",
    "\n"
   ]
  },
  {
   "cell_type": "markdown",
   "metadata": {},
   "source": [
    "##### Uniform weighting\n",
    "\n",
    "For *weighting='uniform'*, the data\n",
    "weights are calculated as in 'natural'\n",
    "weighting. The data is then gridded to a number of cells in the\n",
    "uv-plane, and after all data is gridded the uv-cells are re-weighted to\n",
    "have “uniform” imaging weights. This pumps up the influence on the image\n",
    "of data with low weights (they are multiplied up to be the same as for\n",
    "the highest weighted data), which sharpens resolution and reduces the\n",
    "sidelobe level in the field-of-view, but increases the rms image noise.\n",
    "No sub-parameters are linked to this mode choice.\n",
    "\n",
    "For uniform weighting, we first grid the inverse variance $\\omega_i$ for\n",
    "all selected data onto a grid with uv cell-size given by 2 ∕ FOV, where FOV is the specified field of view\n",
    "(defaults to the image field of view). This forms the gridded weights\n",
    "$W_k$. The\n",
    "weight of the $\\dot\\imath$-th sample is then:\n",
    "\n",
    "$w_i = \\frac{w_i}{W_k}$\n",
    "\n"
   ]
  },
  {
   "cell_type": "markdown",
   "metadata": {},
   "source": [
    "##### Briggs weighting\n",
    "\n",
    "The *weighting='briggs' *mode is an\n",
    "implementation of the flexible weighting scheme developed by Dan Briggs\n",
    "in his PhD thesis, which can be viewed\n",
    "[here](http://www.aoc.nrao.edu/dissertations/dbriggs/).\n",
    "\n",
    "This choice brings up the sub-parameters:\n",
    "\n",
    "weighting      =   'briggs'   \\"
   ]
  },
  {
   "cell_type": "markdown",
   "metadata": {},
   "source": [
    "##   Weighting to apply to visibilities\n",
    "   \n",
    "     robust    =        0.0   \\"
   ]
  },
  {
   "cell_type": "markdown",
   "metadata": {},
   "source": [
    "##   Briggs robustness parameter    \n",
    "     npixels   =          0   \\"
   ]
  },
  {
   "cell_type": "markdown",
   "metadata": {},
   "source": [
    "##   number of pixels to determine uv-cell size 0=\\> field of view\n",
    "\n",
    "The actual weighting scheme used is:\n",
    "\n",
    "$w_i = \\frac{\\omega_i}{1 + W_k f^2}$\n",
    "\n",
    " where $W_k$ is defined as in 'uniform' and 'superuniform' weighting, and\n",
    "\n",
    "$f^2 = \\frac{(5 \\times 10^{-\\text{R}})^2}{\\frac{\\Sigma_k W_k^2}{\\Sigma_i \\omega_i}}$\n",
    "\n",
    "and R is the *robust* sub-parameter.\n",
    "\n",
    "The key parameter is the *robust\n",
    "sub-*parameter, which sets R\n",
    "in the Briggs equations. The scaling of R is such that *robust=0* gives a good\n",
    "trade-off between resolution and sensitivity. The robust R\n",
    "takes value between -2.0 (close to uniform weighting) to 2.0 (close to natural).\n",
    "\n",
    "Superuniform weighting can be combined with Briggs weighting using the\n",
    "*npixels *sub-parameter. This works\n",
    "as in ’superuniform’ weighting.\n",
    "\n"
   ]
  },
  {
   "cell_type": "markdown",
   "metadata": {},
   "source": [
    "##### Superuniform weighting\n",
    "\n",
    "The *weighting='superuniform' *mode\n",
    "is similar to the 'uniform'\n",
    "weighting mode but there is now an additional *npixels *sub-parameter that specifies a\n",
    "change to the number of cells on a side (with respect to uniform\n",
    "weighting) to define a uv-plane patch for the weighting renormalization.\n",
    "If *npixels=0*, you get uniform weighting.\n",
    "\n"
   ]
  },
  {
   "cell_type": "markdown",
   "metadata": {},
   "source": [
    "##### Briggsabs weighting\n",
    "\n",
    "For *weighting='briggsabs'*, a\n",
    "slightly different Briggs weighting is used, with:\n",
    "\n",
    "$w_i = \\frac{\\omega_i}{W_k \\text{R}^2 + 2\\sigma_\\text{R}^2}$\n",
    "\n",
    "where R is the *robust* parameter\n",
    "and $\\sigma_\\text{R}$ is the *noise *parameter.\n",
    "\n",
    "This choice brings up the sub-parameters:\n",
    "\n",
    "weighting      = 'briggsabs'  \\"
   ]
  },
  {
   "cell_type": "markdown",
   "metadata": {},
   "source": [
    "##   Weighting to apply to visibilities\n",
    "   \n",
    "     robust    =      0.0     \\"
   ]
  },
  {
   "cell_type": "markdown",
   "metadata": {},
   "source": [
    "##   Briggs robustness parameter    \n",
    "     noise     =  '0.0Jy'    \n",
    "\\"
   ]
  },
  {
   "cell_type": "markdown",
   "metadata": {},
   "source": [
    "##   noise parameter for briggs weighting when rmode='abs'   \n",
    "     npixels   =        0     \\"
   ]
  },
  {
   "cell_type": "markdown",
   "metadata": {},
   "source": [
    "##   number of pixels to determine uv-cell size 0=\\> field of view\n",
    "\n",
    "Otherwise, this works as *weighting='briggs' *above.\n",
    "\n"
   ]
  },
  {
   "cell_type": "markdown",
   "metadata": {},
   "source": [
    "##### Radial weighting\n",
    "\n",
    "The *weighting='radial' *mode is a\n",
    "seldom-used option that increases the weight by the radius in the\n",
    "uv-plane, i.e.:\n",
    "\n",
    "$w_i = \\omega_i \\times \\sqrt{u_i^2 + v_i^2}$\n",
    "\n",
    "Technically, this would be called an inverse uv-taper, since it depends\n",
    "on uv-coordinates and not on the data per-se. Its effect is to reduce\n",
    "the rms sidelobes for an east-west synthesis array. This option has\n",
    "limited utility.\n",
    "\n",
    " \n",
    "\n"
   ]
  },
  {
   "cell_type": "markdown",
   "metadata": {},
   "source": [
    "### Output images with parameter *imagename*\n",
    "\n",
    "The value of the *imagename* parameter is used as the root name of the\n",
    "output image. Depending on the particular task and the options chosen,\n",
    "one or more images with names built from that root will be created. For\n",
    "example, the **clean** task run with *imagename='ngc5921'* a series of\n",
    "output images will be created with the names ngc5921.clean,\n",
    "ngc5921.residual, ngc5921.model, etc. If an image with that name already\n",
    "exists, it will in general be overwritten. Beware using names of\n",
    "existing images however. If the **clean** is run using an *imagename*\n",
    "where \\<imagename\\>.residual and \\<imagename\\>.model already exist  then\n",
    "**clean** will continue starting from these (effectively restarting from\n",
    "the end of the previous **clean**). Thus, if multiple runs of **clean**\n",
    "are run consecutively with the same *imagename*, then the cleaning is\n",
    "incremental (as in the\n",
    "[difmap](https://www.cv.nrao.edu/adass/adassVI/shepherdm.html) package).\n",
    "\n",
    "The output image may also have a different beam per plane. For datasets\n",
    "with very large fractional bandwidth, **clean** will use a different PSF\n",
    "for each channel when the PSF changes by more than half a pixel as a\n",
    "function of frequency. To smooth to a common resolution, one can either\n",
    "use the parameter *resmooth* to smooth to the smallest common possible\n",
    "beam, *restoringbeam* for an arbitrary, larger beam, or the task\n",
    "**imsmooth** after cleaning. Data analysis tasks such as **immoments**\n",
    "in CASA support changing beams per plane.\n",
    "\n",
    "There is some differences between the output images based on the\n",
    "algorithm used during a **clean**. The following is a list of\n",
    "differences between MS-MFS (*nterms\\>1*) and standard imaging, in the\n",
    "current CASA release:\n",
    "\n",
    "1.  Iterations always proceed as cs-clean major/minor cycles, and uses\n",
    "    the full psf during minor cycle iterations. There are currently no\n",
    "    user-controls on the *cyclespeedup*, and the flux-limit per major\n",
    "    cycle is chosen as 10% of the peak residual. In future releases,\n",
    "    this will be made more adaptive/controllable.\n",
    "2.  Currently, the following options are not supported for *nterms\\>1*:\n",
    "    *psfmode*, *pbcorr*, *minpb*, *imagermode='mosaic'*,\n",
    "    *gridmode='aprojection'*, *cyclespeedup*, and allowed are one of\n",
    "    Stokes I, Q, U, V, RR, LL, XX, YY at a time. More options and\n",
    "    combinations are currently under development and testing. Under\n",
    "    'Using CASA'→'Other Documentation'→'Imaging Algorithms in CASA' you\n",
    "    can find the latest implementations.\n",
    "\n",
    " \n",
    "\n"
   ]
  },
  {
   "cell_type": "markdown",
   "metadata": {},
   "source": [
    "### Mosaic imaging\n",
    "\n",
    "The **clean** task contains the capability to image multiple pointing\n",
    "centers together into a single “mosaic” image. This ability is\n",
    "controlled by setting *imagermode='mosaic'*. The key parameter that\n",
    "controls how clean produces the mosaic is the *ftmachine* sub-parameter.\n",
    "For *ftmachine='ft'*, clean will perform a weighted combination of the\n",
    "images produced by transforming each mosaic pointing separately. This\n",
    "can be slow, as the individual sub-images must be recombined in the\n",
    "image plane.\n",
    "\n",
    "**NOTE**: This option is preferred for data taken with sub-optimal\n",
    "mosaic sampling (e.g. fields too far apart, on a sparse irregular\n",
    "pattern, etc.)\n",
    "\n",
    "If *ftmachine='mosaic'*, then the data are gridded onto a single\n",
    "uv-plane which is then transformed to produce the single output image.\n",
    "This is accomplished by using a gridding kernel that approximates the \n",
    "transform of the primary beam pattern. Note that for this mode the\n",
    "\\<imagename\\>.flux image includes this convolution kernel in its\n",
    "effective weighted response pattern (needed to “primary-beam correct”\n",
    "the output image). For this mode only, an additional image\n",
    "\\<imagename\\>.flux.pbcoverage is produced that is the primary-beam\n",
    "coverage only used to compute the *minpb* cutoff.\n",
    "\n",
    "The *flatnoise* parameter determines whether the minor cycle performs on\n",
    "the the residual with or without a primary beam correction. Whereas the\n",
    "former has the correct fluxes, the latter has a uniform noise, which\n",
    "allows for a simpler deconvolution in particular at the the edges of the\n",
    "mosaic where the primary beam correction is largest.\n",
    "\n",
    "**ALERT**: In order to avoid aliasing artifacts for *ftmachine='mosaic'*\n",
    "in the mosaic image, due to the discrete sampling of the mosaic pattern\n",
    "on the sky, you should make an image in which the desired unmasked part\n",
    "of the image (above minpb) lies within the inner quarter. In other\n",
    "words, make an image twice as big as necessary to encompass the mosaic.\n",
    "\n",
    "It is also important to choose an appropriate *phasecenter* for your\n",
    "output mosaic image. The phase center should not be at the edge of an\n",
    "image with pointings around it. In that case, FFT aliasing may creep\n",
    "into the image.\n",
    "\n"
   ]
  },
  {
   "cell_type": "markdown",
   "metadata": {},
   "source": [
    "##### Mosaic *threshold* parameter\n",
    "\n",
    "For mosaics, the specification of the threshold is not straightforward,\n",
    "as it is in the single field case. This is because the different fields\n",
    "can be observed to different depths, and get different weights in the\n",
    "mosaic. We now provide internal rescaling (based on scaletype) so\n",
    "**clean** does its component search on a properly weighted and scaled\n",
    "version of the sky. For *ftmachine='ft'*, the minor cycles of the\n",
    "deconvolution are performed on an image that has been weighted to have\n",
    "constant noise, as in 'SAULT' weighting. This is equivalent to making a\n",
    "dirty mosaic by coadding dirty images made from the individual pointings\n",
    "with a sum of the mosaic contributions to a given pixel weighted by so\n",
    "as to give constant noise across the image. This means that the flux\n",
    "scale can vary across the mosaic depending on the effective noise\n",
    "(higher weighted regions have lower noise, and thus will have higher\n",
    "“fluxes” in the 'SAULT' map). Effectively, the flux scale that threshold\n",
    "applies to is that at the center of the highest-weighted mosaic field,\n",
    "with higher-noise regions down-scaled accordingly. Compared to the true\n",
    "sky, this image has a factor of the PB, plus a scaling map (returned in\n",
    "the .flux image). You will preferentially find components in the\n",
    "low-noise regions near mosaic centers. When *ftmachine='mosaic'* and\n",
    "*scaletype='SAULT'*, the deconvolution is also performed on a “constant\n",
    "noise image”, as detailed above for 'ft'.\n",
    "\n",
    "**ALERT**: The intrinsic image made using *ftmachine='mosaic'* is\n",
    "equivalent to a dirty mosaic that is formed by coadding dirty images\n",
    "made from the individual fields after apodizing each by the PB function.\n",
    "Thus compared to the true sky, this has a factor of the PB 2 in it. You\n",
    "would thus preferentially find components in the centers of the mosaic\n",
    "fields (even more so than in the 'ft' mosaics). We now rescale this\n",
    "image internally at major-cycle (and interactive) boundaries based on\n",
    "scaletype, and do not have a way to clean on the raw unscaled dirty\n",
    "image (as was done in previous released versions).\n",
    "\n",
    " \n",
    "\n"
   ]
  },
  {
   "cell_type": "markdown",
   "metadata": {},
   "source": [
    "### Multi-scale cleaning\n",
    "\n",
    "The CASA multi-scale algorithm uses “Multi-scale CLEAN” to deconvolve\n",
    "using delta-functions and circular Gaussians as the basis functions for\n",
    "the model, instead of just delta-functions or pixels as in the other\n",
    "**clean** algorithms. This algorithm is still in the experimental stage,\n",
    "mostly because we are working on better algorithms for setting the\n",
    "scales for the Gaussians. The sizes of the Gaussians are set using the\n",
    "*scales* sub-parameter.\n",
    "\n",
    "Multi-scale cleaning is also not as sensitive to the loop gain as\n",
    "regular cleaning algorithms. A loop gain of 0.3 may still work fine and\n",
    "will considerably speed up the processing time. Increasing the\n",
    "cyclefactor by a few may provide better stability in the solution, in\n",
    "particular when the data exhibit a severely non-Gaussian dirty beam.\n",
    "\n",
    "**Inside the Toolkit**: The **im.setscales** method sets the multi-scale\n",
    "Gaussian widths. In addition to choosing a list of sizes in pixels, you\n",
    "can just pick a number of scales and get a geometric series of sizes.\n",
    "\n",
    "To activate multi-scale mode, specify a non-blank list of scales in the\n",
    "*multiscale* parameter. A good rule of thumb for starters is \\[ 0,\n",
    "2xbeam, 5xbeam \\], and maybe adding larger scales up to the maximum\n",
    "scale the interferometer can image. E.g. for a 2 arcsecond beam:\n",
    "\n",
    "multiscale = \\[0,6,10,30\\] \\"
   ]
  },
  {
   "cell_type": "markdown",
   "metadata": {},
   "source": [
    "## Four scales including point sources\n",
    "\n",
    "These are given in numbers of pixels, and specify FWHM of the Gaussians\n",
    "used to compute the filtered images. Setting the *multiscale* parameter\n",
    "to a non-empty list opens up the sub-parameter:\n",
    "\n",
    "multiscale = \\[0, 6, 10, 30\\]  \\"
   ]
  },
  {
   "cell_type": "markdown",
   "metadata": {},
   "source": [
    "## set deconvolution scales (pixels)  \n",
    "   \n",
    "     negcomponent = -1       \\"
   ]
  },
  {
   "cell_type": "markdown",
   "metadata": {},
   "source": [
    "## Stop cleaning if the  \n",
    "                             \\"
   ]
  },
  {
   "cell_type": "markdown",
   "metadata": {},
   "source": [
    "## largest scale finds this number of neg  \n",
    "                             \\"
   ]
  },
  {
   "cell_type": "markdown",
   "metadata": {},
   "source": [
    "## components  \n",
    "     smallscalebias = 0.6    \\"
   ]
  },
  {
   "cell_type": "markdown",
   "metadata": {},
   "source": [
    "## a bias to give more weight  \n",
    "                             \\"
   ]
  },
  {
   "cell_type": "markdown",
   "metadata": {},
   "source": [
    "## toward smaller scales\n",
    "\n",
    "The *negcomponent* sub-parameter is here to set the point at which the\n",
    "**clean** terminates because of negative components. For *negcomponent\n",
    "\\> 0*, component search will cease when this number of negative \n",
    "components are found at the largest scale. If *negcomponent = -1,* then\n",
    "component search will continue even if the largest component is\n",
    "negative. Increasing *smallscalebias* gives more weight to small scales.\n",
    "A value of 1.0 weighs the largest scale to zero and a value \\< 0.2\n",
    "weighs all scales nearly equally. The default of 0.6 is usually a good\n",
    "number as it corresponds to a weighting that approximates the\n",
    "normalization of each component by its area. Depending on the image,\n",
    "however, it may be necessary to tweak the *smallscalebias* for a better\n",
    "convergence of the algorithm.\n",
    "\n",
    "**NOTE**: Currently *smallscalebias* is ignored by the MS-MFS algorithm.\n",
    "It will be available in a future release.\n",
    "\n"
   ]
  },
  {
   "cell_type": "markdown",
   "metadata": {},
   "source": [
    "##### MS-MFS Algorithm\n",
    "\n",
    "The MS-MFS (multiscale-multifrequency synthesis) algorithm combines the\n",
    "concepts of multi-scale and multi-frequency synthesis cleaning for\n",
    "wideband synthesis imaging. Setting the *mode='mfs'* sub-parameter\n",
    "*nterms\\>1* runs the MS-MFS algorithm, and the choice of *nterms* should\n",
    "depend on the expected shape and SNR of the spectral structure, across\n",
    "the chosen bandwidth. The MS-MFS algorithm requires the *multiscale*\n",
    "parameter to be set. For point-source deconvolution, set\n",
    "*multiscale=\\[0\\]* (also the default). Output images represent\n",
    "Taylor-coefficients of the sky spectrum (images with file-name\n",
    "extensions of tt0,tt1,etc). A spectral index map is also computed as the\n",
    "ratio of the first two terms, following this convention:\n",
    "\n",
    "$I(\\nu) = I(ref_\\nu) \\times  (\\nu/\\nu_0)^\\alpha$\n",
    "\n",
    "**NOTE**: Unlike standard multi-scale cleaning (*multiscale=\n",
    "\\[0,6,10,....\\]* with *nterms=1*), with higher nterms the largest\n",
    "specified scale size must lie within the sampled range of the\n",
    "interferometer. If not, there can be an ambiguity in the spectral\n",
    "reconstruction at very large spatial scales.\n",
    "\n",
    "Additionally, a spectral-index error image is made by treating\n",
    "Taylor-coefficient residuals as errors, and propagating them through the\n",
    "division used to compute spectral-index. It is meant to be a guide to\n",
    "which parts of the spectral-index image to trust, and the values may not\n",
    "always represent a statistically-correct error. For more details about\n",
    "this algorithm, please refer to the paper titled \"A multi-scale\n",
    "multi-frequency deconvolution algorithm for synthesis imaging in radio\n",
    "interferometry\" <a href=\"#cit1\" id=\"ref-cit1\" class=\"ref-cit\">[1]</a> .\n",
    "\n",
    "**NOTE**: The software implementation of the MS-MFS algorithm for\n",
    "*nterms\\>1* currently does not allow combination with mosaics and pbcor.\n",
    "\n",
    " \n",
    "\n"
   ]
  },
  {
   "cell_type": "markdown",
   "metadata": {},
   "source": [
    "### Polarization Imaging\n",
    "\n",
    "The *stokes* parameter specifies the Stokes parameters for the resulting\n",
    "images, with standard imaging only using the *stokes='I'* for the total\n",
    "intensity measurement.\n",
    "\n",
    "**NOTE**: Forming Stokes Q and U images requires the presence of\n",
    "cross-hand polarizations (e.g. RL and LR for circularly polarized\n",
    "systems such as the VLA) in the data. Stokes V requires both parallel\n",
    "hands (RR and :LL) for circularly polarized systems or the cross-hands\n",
    "(XY and YX) for linearly polarized systems such as ALMA and ATCA.\n",
    "\n",
    "This parameter is specified as a string of up to four letters and can\n",
    "indicate stokes parameters themselves, Right/Left hand polarization\n",
    "products, or linear polarization products (X/Y). For example,\n",
    "\n",
    "stokes = 'I' \\"
   ]
  },
  {
   "cell_type": "markdown",
   "metadata": {},
   "source": [
    "## Intensity only  \n",
    "stokes = 'IQU' \\"
   ]
  },
  {
   "cell_type": "markdown",
   "metadata": {},
   "source": [
    "## Intensity and linear polarization  \n",
    "stokes = 'IV' \\"
   ]
  },
  {
   "cell_type": "markdown",
   "metadata": {},
   "source": [
    "## Intensity and circular polarization  \n",
    "stokes = 'IQUV' \\"
   ]
  },
  {
   "cell_type": "markdown",
   "metadata": {},
   "source": [
    "## All Stokes imaging  \n",
    "stokes = 'RR' \\"
   ]
  },
  {
   "cell_type": "markdown",
   "metadata": {},
   "source": [
    "## Right hand polarization only  \n",
    "stokes = 'XXYY' \\"
   ]
  },
  {
   "cell_type": "markdown",
   "metadata": {},
   "source": [
    "## Both linear polarizations\n",
    "\n",
    "are common choices (see the inline help of **clean** for a full range of\n",
    "possible options). The output image will have planes (along the\n",
    "“polarization axis”) corresponding to the chosen Stokes parameters. If\n",
    "as input to deconvolution tasks such as **clean**, the *stokes*\n",
    "parameter includes polarization planes other than I, then choosing\n",
    "*psfmode='hogbom'* or *psfmode='clarkstokes'* will **clean** (search for\n",
    "components) each plane sequentially, while *psfmode='clark'* will\n",
    "deconvolve jointly.\n",
    "\n",
    "**ALERT**: As of Release 3.2, **clean** expects that all input\n",
    "polarizations are present. E.g. if you have RR and LL dual polarization\n",
    "data and you flagged parts of RR but not LL, **clean** will ignore both\n",
    "polarizations in slice. It is possible to split out a polarization\n",
    "product with **split** and image separately. But you will not be able to\n",
    "combine these part-flagged data in the uv-domain. We will remove that\n",
    "restriction in a future CASA release.\n",
    "\n",
    " \n",
    "\n"
   ]
  },
  {
   "cell_type": "markdown",
   "metadata": {},
   "source": [
    "### Hints on **clean** with flanking fields\n",
    "\n",
    "There are two ways of specifying multi-field images for clean: (a) the\n",
    "task parameters are used to define the first (main) field and a text\n",
    "file containing definitions of all additional fields is supplied to the\n",
    "outlierfile task parameter, or (b) all fields are specified as lists for\n",
    "each task parameter.  \n",
    "  \n",
    "For the first example, the outlier file must contain the following\n",
    "parameters per field: *imagename*, *imsize*, and *phasecenter*. Optional\n",
    "parameters include *mask* and *modelimage*. The parameter set for each\n",
    "field must begin with *imagename*. Parameters can be listed in a single\n",
    "line or span multiple lines. The task inputs are:\n",
    "\n",
    "imagename = 'M1_0'  \n",
    "outlierfile='outlier.txt'  \n",
    "imsize = \\[1024,1024\\]  \n",
    "phasecenter = 'J2000 13h27m20.98 43d26m28.0'\n",
    "\n",
    " The contents of outlier file 'outlier.txt' are:\n",
    "\n",
    "    imagename = 'M1_1'\n",
    "    imsize = [128,128]\n",
    "    phasecenter = 'J2000 13h30m52.159 43d23m08.02'\n",
    "    mask = ['out1.mask', 'circle[[40pix,40pix],5pix]' ]\n",
    "    modelimage = 'out1.model'\n",
    "    imagename = 'M1_2'\n",
    "    imsize = [128,128]\n",
    "    phasecenter = 'J2000 13h24m08.16 43d09m48.0'\n",
    "\n",
    "In this example, the first field 'M1_0' is defined using main task\n",
    "parameters. The next two 'M1_1' and 'M1_2' are listed in the file\n",
    "'outlier.txt'.  A *mask* and *modelimage* has been supplied only for the\n",
    "second field (M1_1). Fields with unspecified masks will use the full\n",
    "field for cleaning.  \n",
    "  \n",
    "For the second example, the inputs are instead included in the main\n",
    "parameters, using brackets to signify multiple inputs. Parameters that\n",
    "support lists for multi-field specification are *imagename*, *imsize*,\n",
    "*phasecenter*, *mask*, and *modelimage*. The task inputs are:\n",
    "\n",
    "imagename = \\['M1_0','M1_1','M1_2\\]  \n",
    "imsize = \\[\\[1024,1024\\],\\[128,128\\],\\[128,128\\]\\]  \n",
    "phasecenter = \\['J2000 13h27m20.98 43d26m28.0',  \n",
    "                       'J2000 13h30m52.159 43d23m08.02',  \n",
    "                       'J2000 13h24m08.16 43d09m48.0'\\]  \n",
    "mask=\\[\\[''\\],\n",
    "\\['out1.mask','circle\\[\\[40pix,40pix\\],5pix\\]'\\],\\[''\\]\\]  \n",
    "modelimage=\\[\\[''\\],\\['out1.model'\\],\\[''\\]\\]\n",
    "\n",
    "**NOTE**: All lists must have the same length.\n",
    "\n",
    "In both examples, the following images will be made:\n",
    "\n",
    "-   M1_0.image, M1_1.image, M1_2.image (cleaned images)\n",
    "-   M1.0.model, M1_1.model, M1_2.model (model images)\n",
    "-   M1.0.residual, M1_1.residual, M1_2.residual (residual images)\n",
    "\n",
    "**NOTE**: The old AIPS-style outlier-file and boxfile formats have been\n",
    "deprecated. However, due to user-requests, they will continue be\n",
    "supported in CASA 3.4. Note that the old outlier file format does not\n",
    "support the specification of modelimage and mask for each field. The new\n",
    "format is more complete, and less ambiguous, so please consider updating\n",
    "your scripts.\n",
    "\n",
    " \n",
    "\n"
   ]
  },
  {
   "cell_type": "markdown",
   "metadata": {},
   "source": [
    "## Parameters\n",
    "\n"
   ]
  },
  {
   "cell_type": "markdown",
   "metadata": {},
   "source": [
    "##### *vis*\n",
    "\n",
    "Name(s) of input visibility file(s). default: none; example:\n",
    "*vis='ngc5921.ms'*; *vis=\\['ngc5921a.ms','ngc5921b.ms'\\]*; multiple MSes\n",
    "\n"
   ]
  },
  {
   "cell_type": "markdown",
   "metadata": {},
   "source": [
    "##### *imagename*\n",
    "\n",
    "Pre-name of output images.\n",
    "\n",
    "    default: none; example: *imagename='m2'*\n",
    "\n",
    "    Output images are:\n",
    "\n",
    "-   m2.image; cleaned and restored image with or without primary beam\n",
    "    correction\n",
    "-   m2.psf; point-spread function (dirty beam)\n",
    "-   m2.flux;  relative sky sensitivity over field\n",
    "-   m2.flux.pbcoverage;  relative pb coverage over field (gets created\n",
    "    only for *ft='mosaic'*)\n",
    "-   m2.model; image of clean components\n",
    "-   m2.residual; image of residuals\n",
    "-   m2.interactive.mask; image containing clean regions  \n",
    "\n",
    "     To include outlier fields:\n",
    "imagename=\\['n5921','outlier1','outlier2'\\]\n",
    "\n"
   ]
  },
  {
   "cell_type": "markdown",
   "metadata": {},
   "source": [
    "##### *outlierfile*\n",
    "\n",
    "Text file name which contains image names, sizes, field centers (See\n",
    "'HINTS ON CLEAN WITH FLANKING FIELDS' above for the format of this\n",
    "outlier file.)\n",
    "\n"
   ]
  },
  {
   "cell_type": "markdown",
   "metadata": {},
   "source": [
    "##### *field*\n",
    "\n",
    "Select fields to image or mosaic.  Use field ID(s) or name(s). \\['go\n",
    "listobs' to obtain the list id's or names\\]\n",
    "\n",
    "    default: '' all fields; If field string is a non-negative integer,\n",
    "it is assumed to be a field index otherwise, it is assumed to be a field\n",
    "name  \n",
    "    examples: *field='0\\~2'*; field IDs 0,1,2  \n",
    "                       *field='0,4,5\\~7'*; field IDs 0,4,5,6,7  \n",
    "                       *field='3C286,3C295'*; field named 3C286 and\n",
    "3C295  \n",
    "                       *field = '3,4C\\*'*; field id 3, all names\n",
    "starting with 4C  \n",
    "    For multiple MS input, a list of field strings can be used:  \n",
    "                       *field = \\['0\\~2','0\\~4'\\]*; field IDs 0-2 for\n",
    "the first MS and 0-4 for the second  \n",
    "                       *field = '0\\~2'*; field IDs 0-2 for all input\n",
    "MSes\n",
    "\n"
   ]
  },
  {
   "cell_type": "markdown",
   "metadata": {},
   "source": [
    "##### *spw*\n",
    "\n",
    "Select spectral window/channels\n",
    "\n",
    "**NOTE**:  Channels de-selected here will contain all zeros if selected\n",
    "by the parameter *mode* subparameters.\n",
    "\n",
    "    default: '' all spectral windows and channels  \n",
    "    examples: *spw='0\\~2,4'*; spws 0,1,2,4 (all channels)  \n",
    "                       *spw='0:5\\~61'*; spw 0, channels 5 to 61  \n",
    "                       *spw='\\<2'*;   spws less than 2 (i.e. 0,1)  \n",
    "                       *spw='0,10,3:3\\~45'*; spw 0,10 all channels, spw\n",
    "3, channels 3 to 45.  \n",
    "                       *spw='0\\~2:2\\~6'*; spw 0,1,2 with channels 2\n",
    "through 6 in each.  \n",
    "    For multiple MS input, a list of spw strings can be used:  \n",
    "                       *spw=\\['0','0\\~3'\\]*; spw ids 0 for the first MS\n",
    "and 0-3 for the second  \n",
    "                       *spw='0\\~3'* spw ids 0-3 for all input MS  \n",
    "                       *spw='3:10\\~20;50\\~60'* for multiple channel\n",
    "ranges within spw id 3  \n",
    "                       *spw='3:10\\~20;50\\~60,4:0\\~30'* for different\n",
    "channel ranges for spw ids 3 and 4  \n",
    "                       *spw='0:0\\~10,1:20\\~30,2:1;2;3'*; spw 0, channels\n",
    "0-10, spw 1, channels 20-30, and spw 2, channels, 1,2 and 3  \n",
    "                       *spw='1\\~4;6:15\\~48'* for channels 15 through 48\n",
    "for spw ids 1,2,3,4 and 6\n",
    "\n"
   ]
  },
  {
   "cell_type": "markdown",
   "metadata": {},
   "source": [
    "##### *selectdata*\n",
    "\n",
    "Other data selection parameters  \n",
    "    default: True\n",
    "\n"
   ]
  },
  {
   "cell_type": "markdown",
   "metadata": {},
   "source": [
    "####     *selectdata=True* expandable parameters (See help par.selectdata for more on these)\n",
    "\n"
   ]
  },
  {
   "cell_type": "markdown",
   "metadata": {},
   "source": [
    "#####     *timerange*\n",
    "\n",
    "    Select data based on time range:  \n",
    "        default: '' (all)  \n",
    "        examples: *timerange =\n",
    "'YYYY/MM/DD/hh:mm:ss\\~YYYY/MM/DD/hh:mm:ss'*\n",
    "\n",
    "**NOTE**: If YYYY/MM/DD is missing, date defaults to first day in data\n",
    "set.\n",
    "\n",
    "                          *timerange='09:14:0\\~09:54:0'* picks 40 min on\n",
    "first day  \n",
    "                          *timerange='25:00:00\\~27:30:00'* picks 1 hr to\n",
    "3 hr 30min on NEXT day  \n",
    "                          *timerange='09:44:00'* pick data within one\n",
    "integration of time  \n",
    "                          *timerange='\\>10:24:00'* data after this\n",
    "time  \n",
    "        For multiple MS input, a list of timerange strings can be\n",
    "used:  \n",
    "                         \n",
    "*timerange=\\['09:14:0\\~09:54:0','\\>10:24:00'\\]*  \n",
    "                          *timerange='09:14:0\\~09:54:0'*; apply the same\n",
    "timerange for all input MSes  \n",
    "                  \n",
    "\n"
   ]
  },
  {
   "cell_type": "markdown",
   "metadata": {},
   "source": [
    "#####     *uvrange*\n",
    "\n",
    "    Select data within uvrange (default units meters)  \n",
    "        default: '' (all)  \n",
    "        example: *uvrange='0\\~1000klambda'*; uvrange from 0-1000\n",
    "kilo-lambda  \n",
    "                         *uvrange='\\>4klambda'*;uvranges greater than 4\n",
    "kilo lambda  \n",
    "        For multiple MS input, a list of uvrange strings can be used:  \n",
    "                        \n",
    "*uvrange=\\['0\\~1000klambda','100\\~1000klamda'\\]*  \n",
    "                         *uvrange='0\\~1000klambda'*; apply 0-1000\n",
    "kilo-lambda for all input MSes\n",
    "\n"
   ]
  },
  {
   "cell_type": "markdown",
   "metadata": {},
   "source": [
    "#####      *antenna*\n",
    "\n",
    "    Select data based on antenna/baseline  \n",
    "        default: '' (all)  \n",
    "        If antenna string is a non-negative integer, it is assumed to be\n",
    "an antenna index, otherwise, it is considered an antenna name.  \n",
    "                       *antenna='5&amp;6'*; baseline between antenna\n",
    "index 5 and index 6.  \n",
    "                       *antenna='VA05&amp;VA06'*; baseline between VLA\n",
    "antenna 5 and 6.  \n",
    "                       *antenna='5&amp;6;7&amp;8'*; baselines 5-6 and\n",
    "7-8  \n",
    "                       *antenna='5'*; all baselines with antenna index\n",
    "5  \n",
    "                       *antenna='05'*; all baselines with antenna number\n",
    "05 (VLA old name)  \n",
    "                       *antenna='5,6,9'*; all baselines with antennas\n",
    "5,6,9 index number  \n",
    "        For multiple MS input, a list of antenna strings can be used:  \n",
    "                       *antenna=\\['5','5&amp;6'\\]*;  \n",
    "                       *antenna='5'*; antenna index 5 for all input MSes\n",
    "\n"
   ]
  },
  {
   "cell_type": "markdown",
   "metadata": {},
   "source": [
    "#####      *scan*\n",
    "\n",
    "    Scan number range. \\[Check 'go listobs' to insure the scan numbers\n",
    "are in order.\\]  \n",
    "        default: '' (all)  \n",
    "        examples: *scan='1\\~5'*  \n",
    "        For multiple MS input, a list of scan strings can be used:  \n",
    "                           *scan=\\['0\\~100','10\\~200'\\]*  \n",
    "                           *scan='0\\~100*; scan ids 0-100 for all input\n",
    "MSes  \n",
    "                      \n",
    "\n"
   ]
  },
  {
   "cell_type": "markdown",
   "metadata": {},
   "source": [
    "#####     *observation*\n",
    "\n",
    "    Observation ID range.  \n",
    "        default: '' (all); example: *observation='1\\~5'*\n",
    "\n"
   ]
  },
  {
   "cell_type": "markdown",
   "metadata": {},
   "source": [
    "#####      *intent*\n",
    "\n",
    "    Scan intent (case sensitive)  \n",
    "        default: '' (all); examples: *intent='TARGET_SOURCE',\n",
    "intent='TARGET_SOURCE1,TARGET_SOURCE2', intent='TARGET_POINTING\\*'*  \n",
    "  \n",
    "\n"
   ]
  },
  {
   "cell_type": "markdown",
   "metadata": {},
   "source": [
    "##### *mode:* Frequency Specification\n",
    "\n",
    "**NOTE**: Channels deselected with spw parameter will contain all zeros.\n",
    "\n",
    "    default: 'mfs'; examples: *mode = 'mfs'* means produce one image\n",
    "from all specified data, *mode = 'channel'* use with nchan, start, width\n",
    "to specify output image cube, *mode = 'velocity'* channels are specified\n",
    "in velocity, *mode = 'frequency'*, channels are specified in frequency.\n",
    "\n"
   ]
  },
  {
   "cell_type": "markdown",
   "metadata": {},
   "source": [
    "####     *mode='mfs'* expandable parameters\n",
    "\n",
    "    Make a continuum image from the selected frequency channels/range\n",
    "using Multi-frequency synthesis algorithm for wide-band narrow field\n",
    "imaging.    \n",
    "    examples: *spw = '0,1'*; *mode = 'mfs'* will produce one image made\n",
    "from all channels in spw 0 and 1  \n",
    "                       *spw='0:5\\~28^2'*; *mode = 'mfs'* will produce\n",
    "one image made with channels (5,7,9,...,25,27)\n",
    "\n"
   ]
  },
  {
   "cell_type": "markdown",
   "metadata": {},
   "source": [
    "#####     *nterms*\n",
    "\n",
    "    Number of Taylor terms to be used to model the frequency dependence\n",
    "of the sky emission. nterms=1 is equivalent to assuming no frequency\n",
    "dependence. nterms\\>1 runs the MS-MFS algorithm, and the choice of\n",
    "nterms should depend on the expected shape and SNR of the spectral\n",
    "structure, across the chosen bandwidth. Output images represent\n",
    "taylor-coefficients of the sky spectrum (images with file-name\n",
    "extensions of tt0,tt1,etc). A spectral index map is also computed as the\n",
    "ratio of the first two terms (following the convention of $I(nu) = I(ref_nu) x (nu/nu_0)^\\alpha$).\n",
    "Additionally, a spectral-index error image is made by treating\n",
    "taylor-coefficient residuals as errors, and propagating them through the\n",
    "division used to compute spectral-index. It is meant to be a guide to\n",
    "which parts of the spectral-index image to trust, and the values may not\n",
    "always represent a statistically-correct error.\n",
    "\n",
    "**NOTE**: The software implementation of the MS-MFS algorithm for\n",
    "*nterms\\>1* currently does not allow combination with mosaics, and\n",
    "*pbcor*.\n",
    "\n"
   ]
  },
  {
   "cell_type": "markdown",
   "metadata": {},
   "source": [
    "#####     *reffreq*\n",
    "\n",
    "    The reference frequency (for nterms\\>1) about which the Taylor\n",
    "expansion if done.  \n",
    "                   *reffreq=''* defaults to the middle frequency of the\n",
    "selected range.  \n",
    "  \n",
    "   \n",
    "\n"
   ]
  },
  {
   "cell_type": "markdown",
   "metadata": {},
   "source": [
    "####     *mode='channel'*, *'velocity'*, and *'frequency'* expandable parameters\n",
    "\n"
   ]
  },
  {
   "cell_type": "markdown",
   "metadata": {},
   "source": [
    "#####     *nchan*\n",
    "\n",
    "    Total number of channels in the output image.  \n",
    "        default: -1; Automatically selects enough channels to cover data\n",
    "selected by 'spw' consistent with 'start' and 'width'. It is often\n",
    "easiest to leave nchan at the default value. example: *nchan=100*.\n",
    "\n"
   ]
  },
  {
   "cell_type": "markdown",
   "metadata": {},
   "source": [
    "#####     *start*\n",
    "\n",
    "    First channel, velocity, or frequency.  \n",
    "         For *mode='channel'*; This selects the channel index number\n",
    "from the MS (0 based) that you want to correspond to the first channel\n",
    "of the output cube. The output cube will be in frequency space with the\n",
    "first channel having the frequency of the MS channel selected by\n",
    "*start*.  *start=0* refers to the first channel in the first selected\n",
    "spw, even if that channel is de-selected in the *spw* parameter.\n",
    "Channels de-selected by the *spw* parameter will be filled with zeros if\n",
    "included by the *start* parameter. For example, *spw=3\\~8:3\\~100* and\n",
    "*start=2* will produce a cube that starts on the third channel (recall 0\n",
    "based) of spw index 3, and the first channel will be blank. example:\n",
    "*start=5*  \n",
    "         For *mode='velocity'* or *'frequency'*: default=''; starts at\n",
    "first input channel of first input spw; examples: *start='5.0km/s'* or\n",
    "*start='22.3GHz'*\n",
    "\n"
   ]
  },
  {
   "cell_type": "markdown",
   "metadata": {},
   "source": [
    "#####     *width*\n",
    "\n",
    "    Output channel width  \n",
    "         For *mode='channel'*, default=1; \\>1 indicates channel\n",
    "averaging; example: *width=4*  \n",
    "         For *mode= 'velocity'* or *'frequency'*, default=''; width of\n",
    "first input channel, or more precisely, the difference in frequencies\n",
    "between the first two selected channels. For example, if channels 1 and\n",
    "3 are selected with *spw*, then the default width will be the difference\n",
    "between their frequencies, and not the width of channel 1. Similarly, if\n",
    "the selected data has uneven channel-spacing, the default width will be\n",
    "picked from the first two selected channels. In this case, please\n",
    "specify the desired width. When specifying the width, one must give\n",
    "units. examples: *width='1.0km/s'*, or *width='24.2kHz'*. Setting\n",
    "*width\\>0* gives channels of increasing frequency for\n",
    "*mode='frequency'*, and increasing velocity for *mode='velocity'*.\n",
    "\n"
   ]
  },
  {
   "cell_type": "markdown",
   "metadata": {},
   "source": [
    "#####     *interpolation*\n",
    "\n",
    "    Interpolation type for spectral gridding onto the uv-plane. Options:\n",
    "'nearest', 'linear', or 'cubic'.  \n",
    "        default = 'linear'\n",
    "\n",
    "**NOTE**: 'linear' and 'cubic' interpolation requires data points on\n",
    "both sides of each image frequency. Errors are therefore possible at\n",
    "edge channels, or near flagged data channels. When image channel width\n",
    "is much larger than the data channel width there is nothing much to be\n",
    "gained using linear or cubic thus not worth the extra computation\n",
    "involved.\n",
    "\n"
   ]
  },
  {
   "cell_type": "markdown",
   "metadata": {},
   "source": [
    "#####     *resmooth*\n",
    "\n",
    "    If the cube has a different restoring beam/channel. Restore image to\n",
    "a common beam or leave as is; (default) options: True or False  \n",
    "        default = False\n",
    "\n"
   ]
  },
  {
   "cell_type": "markdown",
   "metadata": {},
   "source": [
    "#####     *chaniter*\n",
    "\n",
    "    Specify how spectral CLEAN is performed,  \n",
    "        default: *chaniter=False*; example: *chaniter=True*; step\n",
    "through channels\n",
    "\n"
   ]
  },
  {
   "cell_type": "markdown",
   "metadata": {},
   "source": [
    "#####     *outframe*\n",
    "\n",
    "    For *mode='velocity'*, 'frequency', or 'channel': default spectral\n",
    "reference frame of output image; Options:\n",
    "'','LSRK','LSRD','BARY','GEO','TOPO','GALACTO', ''LGROUP','CMB'  \n",
    "        default: ''; same as input data; example: *frame='bary'* for\n",
    "Barycentric frame\n",
    "\n"
   ]
  },
  {
   "cell_type": "markdown",
   "metadata": {},
   "source": [
    "#####     *veltype*\n",
    "\n",
    "    For *mode='velocity'* gives the velocity definition;  Options:\n",
    "'radio','optical'  \n",
    "        default: 'radio'\n",
    "\n",
    "**NOTE**: The viewer always defaults to displaying the 'radio' frame,\n",
    "but that can be changed in the position tracking pull down.\n",
    "\n",
    "    *mode='channel'* examples:  \n",
    "        *spw = '0'*; *mode = 'channel'*: *nchan=3*; *start=5*; *width=4*\n",
    "will produce an image with 3 output planes: plane 1 contains data from\n",
    "channels (5+6+7+8), plane 2 contains data from channels (9+10+11+12),\n",
    "plane 3 contains data from channels (13+14+15+16)  \n",
    "        *spw = '0:0\\~63^3'*; *mode='channel'*; *nchan=21*; *start = 0*;\n",
    "*width = 1* will produce an image with 20 output planes: plane 1\n",
    "contains data from channel 0, plane 2 contains date from channel 2,\n",
    "plane 21 contains data from channel 61  \n",
    "        *spw = '0:0\\~40^2'*; *mode = 'channel'*; *nchan = 3*; *start =\n",
    "5*; *width = 4* will produce an image with three output planes: plane 1\n",
    "contains channels (5,7), plane 2 contains channels (13,15), plane 3\n",
    "contains channels (21,23)\n",
    "\n",
    " \n",
    "\n"
   ]
  },
  {
   "cell_type": "markdown",
   "metadata": {},
   "source": [
    "##### *psfmode*\n",
    "\n",
    "method of PSF calculation to use during minor cycles:  \n",
    "    default: 'clark': Options: 'clark','clarkstokes', 'hogbom'  \n",
    "         'clark'  use smaller beam (faster, usually good enough); for\n",
    "stokes images clean components peaks are searched in the I^2+Q^2+U^2+V^2\n",
    "domain  \n",
    "         'clarkstokes' locate clean components independently in each\n",
    "stokes image  \n",
    "         'hogbom' full-width of image (slower, better for poor\n",
    "uv-coverage)\n",
    "\n",
    "**NOTE**:  *psfmode* will also be used to clean if *imagermode = ''*.\n",
    "\n"
   ]
  },
  {
   "cell_type": "markdown",
   "metadata": {},
   "source": [
    "##### *imagermode*\n",
    "\n",
    "Advanced imaging e.g. mosaic or Cotton-Schwab clean  \n",
    "    default: *imagermode='csclean'*: Options: '', 'csclean', 'mosaic'  \n",
    "         ''  =\\> psfmode cleaning algorithm used\n",
    "\n",
    "**NOTE**: *imagermode* 'mosaic' (and/or) any *gridmode* not blank\n",
    "(and/or) *nterms\\>1* : will always use CS style clean.\n",
    "\n"
   ]
  },
  {
   "cell_type": "markdown",
   "metadata": {},
   "source": [
    "#### *    imagermode='mosaic'* expandable parameter(s)\n",
    "\n",
    "    Make a mosaic of the different pointings (uses csclean style too)\n",
    "\n"
   ]
  },
  {
   "cell_type": "markdown",
   "metadata": {},
   "source": [
    "#####     *mosweight*\n",
    "\n",
    "    Individually weight the fields of the mosaic. Default: *mosweight =\n",
    "False*; Example: *mosweight = True*, this performs the weight density\n",
    "calculation for each field indepedently when using Briggs (including\n",
    "uniform) weighting. This can be useful if some of your fields are more\n",
    "sensitive than others (i.e. due to time spent on-source) or if you have\n",
    "relatively poor uv-coverage (e.g., snap-shot). If *False*, the weight\n",
    "density is calculated from the average uv distribution of all the\n",
    "fields.\n",
    "\n"
   ]
  },
  {
   "cell_type": "markdown",
   "metadata": {},
   "source": [
    "#####     *ftmachine*\n",
    "\n",
    "    Gridding method for the mosaic; Options: 'mosaic' , 'ft' or\n",
    "'wproject'. default: 'mosaic'; 'ft' or 'wproject' implies standard\n",
    "interferometric 2D or widefield gridding. The residual visibilities are\n",
    "imaged for each pointing and combined in the image plane with the\n",
    "appropriate PB to make the mosaic. 'mosaic' (grid using the Fourier\n",
    "transform of PB as convolution function and mosaic combination is done\n",
    "in visibilities). ONLY if *imagermode='mosaic'* is chosen and\n",
    "*ftmachine='mosaic'*, is heterogeneous imaging (CARMA, ALMA) or wideband\n",
    "beam accounting possible using the right convolution derived from\n",
    "primary beams for each baseline and for different frequencies\n",
    "\n",
    "**NOTE**: *ftmachine='mosaic'* uses Fourier transforms of the primary\n",
    "beams/pointing for mosaicing. Making an image which is too small for the\n",
    "pointing coverages will cause aliasing due to standard Fourier transform\n",
    "wrap around.\n",
    "\n"
   ]
  },
  {
   "cell_type": "markdown",
   "metadata": {},
   "source": [
    "#####     *scaletype*\n",
    "\n",
    "    Controls scaling of pixels in the image plane. (controls what is\n",
    "seen if *interactive=True*) It does \\*not\\* affect the scaling of the\n",
    "\\*final\\* image that is done by *pbcor*. default='SAULT'; example:\n",
    "*scaletype='PBCOR'*; Options: 'PBCOR','SAULT'. 'SAULT' when\n",
    "*interactive=True* shows the residual with constant noise across the\n",
    "mosaic. Can also be achieved by setting *pbcor=False*. 'PBCOR' uses the\n",
    "SAULT scaling scheme for deconvolution, but if *interactive=True* shows\n",
    "the primary beam corrected image during interactive.\n",
    "\n"
   ]
  },
  {
   "cell_type": "markdown",
   "metadata": {},
   "source": [
    "#####     *cyclefactor*\n",
    "\n",
    "    Controls the threshhold at which the deconvolution cycle will pause\n",
    "to degrid and subtract the model from the visibilities. With poor PSFs,\n",
    "reconcile often (*cyclefactor=4* or *5*) for reliability. With good\n",
    "PSFs, use *cyclefactor = 1.5* to *2.0* for speed.               \n",
    "\n",
    "**NOTE**: *threshold* = *cyclefactor* \\* max sidelobe \\* max residual\n",
    "\n",
    "        default: 1.5; example: *cyclefactor=4*\n",
    "\n"
   ]
  },
  {
   "cell_type": "markdown",
   "metadata": {},
   "source": [
    "#####     *cyclespeedup*\n",
    "\n",
    "    The major cycle threshold doubles in this number of iterations.  \n",
    "        default: -1 (no doubling); example: *cyclespeedup=3*; Try\n",
    "*cyclespeedup = 50* to speed up cleaning.\n",
    "\n"
   ]
  },
  {
   "cell_type": "markdown",
   "metadata": {},
   "source": [
    "#####     flatnoise\n",
    "\n",
    "    Controls whether searching for clean components is done in a\n",
    "constant noise residual image (True) or in an optimal signal-to-noise\n",
    "residual image (False) when *ftmosaic='mosaic'* is chosen. default=True\n",
    "\n"
   ]
  },
  {
   "cell_type": "markdown",
   "metadata": {},
   "source": [
    "####    *imagermode='csclean'* expandable parameter(s)\n",
    "\n",
    "    Image using the Cotton-Schwab algorithm in between major cycles.\n",
    "\n"
   ]
  },
  {
   "cell_type": "markdown",
   "metadata": {},
   "source": [
    "#####     *cyclefactor*\n",
    "\n",
    "    See above, under *imagermode='mosaic'*.\n",
    "\n"
   ]
  },
  {
   "cell_type": "markdown",
   "metadata": {},
   "source": [
    "#####     *cyclespeedup*\n",
    "\n",
    "    See above, under *imagermode='mosaic'*.\n",
    "\n",
    " \n",
    "\n"
   ]
  },
  {
   "cell_type": "markdown",
   "metadata": {},
   "source": [
    "##### *gridmode*\n",
    "\n",
    "This parameter is now provided to access more advanced deconvolution\n",
    "capabilities.\n",
    "\n"
   ]
  },
  {
   "cell_type": "markdown",
   "metadata": {},
   "source": [
    "####     *gridmode=''* expandable parameters\n",
    "\n",
    "    The default value of '' has no effect.\n",
    "\n"
   ]
  },
  {
   "cell_type": "markdown",
   "metadata": {},
   "source": [
    "####     *gridmode='widefield'* expandable parameters\n",
    "\n",
    "    Apply corrections for non-coplanar effects during imaging using the\n",
    "W-Projection algorithm\n",
    "<a href=\"#cit2\" id=\"ref-cit2\" class=\"ref-cit\">[2]</a> or faceting or a\n",
    "combination of the two.\n",
    "\n"
   ]
  },
  {
   "cell_type": "markdown",
   "metadata": {},
   "source": [
    "#####     *wprojplanes*\n",
    "\n",
    "    The number of pre-computed w-planes used for the W-Projection\n",
    "algorithm. *wprojplanes=1* disables correction for non-coplanar effects.\n",
    "default value *wprojpanes=-1* means **clean** will determine the number\n",
    "to use.\n",
    "\n"
   ]
  },
  {
   "cell_type": "markdown",
   "metadata": {},
   "source": [
    "#####     *facets*\n",
    "\n",
    "    The number of facets on each side of the image (i.e. the total\n",
    "number of facets is 'facets x facets'). If wprojplanes\\>1, W-Projection\n",
    "is done for each facet. Usually when many wprojection convolution\n",
    "functions sizes are  above \\~400 pixels, it might be faster to use a few\n",
    "facets with wprojection.\n",
    "\n"
   ]
  },
  {
   "cell_type": "markdown",
   "metadata": {},
   "source": [
    "####     *gridmode='aprojection'* expandable parameters\n",
    "\n",
    "    Corrects for the (E)VLA time-varying PB effects including\n",
    "polarization squint using the A-Projection algorithm\n",
    "<a href=\"#cit3\" id=\"ref-cit3\" class=\"ref-cit\">[3]</a>. This can\n",
    "optinally include w-projection also.\n",
    "\n"
   ]
  },
  {
   "cell_type": "markdown",
   "metadata": {},
   "source": [
    "#####     *wprojplanes*\n",
    "\n",
    "    The number of pre-computed w-planes used for W-Projection algorithm.\n",
    "*wprojplanes=1* disables correction for non-coplanar effects.\n",
    "\n"
   ]
  },
  {
   "cell_type": "markdown",
   "metadata": {},
   "source": [
    "#####     *cfcache*\n",
    "\n",
    "    The name of the directory to store the convolution functions and\n",
    "weighted sensitivty pattern function. These functions can be reused\n",
    "again if the image parameters are unchanged. If the image parameters\n",
    "change, a new cache must be created (or the existing one removed).\n",
    "\n"
   ]
  },
  {
   "cell_type": "markdown",
   "metadata": {},
   "source": [
    "#####     *rotpainc*\n",
    "\n",
    "    The Parallactic Angle increment (in degrees) used for OTF rotation\n",
    "of the convolution function.\n",
    "\n"
   ]
  },
  {
   "cell_type": "markdown",
   "metadata": {},
   "source": [
    "#####     *painc*\n",
    "\n",
    "*   * The Parallactic Angle increment (in degrees) used to compute the\n",
    "convolution functions*.*  \n",
    " \n",
    "\n"
   ]
  },
  {
   "cell_type": "markdown",
   "metadata": {},
   "source": [
    "##### *multiscale*\n",
    "\n",
    "set of scales to use in deconvolution. If set, cleans with several\n",
    "resolutions using Hogbom clean. The scale sizes are in units of\n",
    "cellsize. So if *cell='2arcsec'*, a multiscale *scale=10* =\\> 20arcsec.\n",
    "The first scale is recommended to  be 0 (point), we suggest the second\n",
    "be on the order of synthesized beam, the third 3-5 times the synthesized\n",
    "beam, etc.. Avoid making the largest scale too large relative to the\n",
    "image width or the scale of the lowest measured spatial frequency.  For\n",
    "example, if the synthesized beam is 10\" FWHM and *cell='2',* try\n",
    "*multiscale = \\[0,5,15\\]*. default: *multiscale=\\[\\]* (standard\n",
    "**clean** with psfmode algorithm, no multi-scale). Example: *multiscale\n",
    "= \\[0,5,15\\]*\n",
    "\n"
   ]
  },
  {
   "cell_type": "markdown",
   "metadata": {},
   "source": [
    "####     *multiscale* expandable parameter(s)\n",
    "\n"
   ]
  },
  {
   "cell_type": "markdown",
   "metadata": {},
   "source": [
    "#####     *negcomponent*\n",
    "\n",
    "    Stop component search when the largest scale has found this number\n",
    "of negative components; -1 means continue component search even if the\n",
    "largest component is negative. default: -1; example: *negcomponent=50*\n",
    "\n"
   ]
  },
  {
   "cell_type": "markdown",
   "metadata": {},
   "source": [
    "#####     *smallscalebias*\n",
    "\n",
    "    A bias toward smaller scales. The peak flux found at each scale is\n",
    "weighted by a factor = 1 - smallscalebias\\*scale/max_scale, so that Fw =\n",
    "F\\*factor. Typically the values range from 0.2 to 1.0. default: 0.6\n",
    "\n",
    " \n",
    "\n"
   ]
  },
  {
   "cell_type": "markdown",
   "metadata": {},
   "source": [
    "##### *imsize*\n",
    "\n",
    "Image size in pixels (x, y). DOES NOT HAVE TO BE A POWER OF 2 (but has\n",
    "to be even and factorizable to 2,3,5,7 only). default = \\[256,256\\];\n",
    "examples: *imsize=\\[350,350\\]*, *imsize = 500* is equivalent to\n",
    "\\[500,500\\]. If include outlier fields, e.g.,\n",
    "\\[\\[400,400\\],\\[100,100\\]\\] or use *outlierfile*. Avoid odd-numbered\n",
    "imsize.\n",
    "\n"
   ]
  },
  {
   "cell_type": "markdown",
   "metadata": {},
   "source": [
    "##### *cell*\n",
    "\n",
    "Cell size (x,y). default= '1.0arcsec'; examples:\n",
    "*cell=\\['0.5arcsec,'0.5arcsec'\\]*, *cell=\\['1arcmin', '1arcmin'\\]*,\n",
    "*cell = '1arcsec'* is equivalent to \\['1arcsec','1arcsec'\\], *cell =\n",
    "2.0* is equivalent to \\['2arcsec', '2arcsec'\\]\n",
    "\n"
   ]
  },
  {
   "cell_type": "markdown",
   "metadata": {},
   "source": [
    "##### *phasecenter*\n",
    "\n",
    "Direction measure or fieldid for the mosaic center. default: '' = first\n",
    "field selected; examples: *phasecenter=6, phasecenter='J2000 19h30m00\n",
    "-40d00m00', phasecenter='J2000 292.5deg  -40.0deg', phasecenter='J2000\n",
    "5.105rad  -0.698rad'*. If include outlier fields, e.g. \\['J2000 19h30m00\n",
    "-40d00m00',J2000 19h25m00 -38d40m00'\\] or use *outlierfile*.\n",
    "\n"
   ]
  },
  {
   "cell_type": "markdown",
   "metadata": {},
   "source": [
    "##### *restfreq*\n",
    "\n",
    "Specify rest frequency to use for output image. default='' Occasionally\n",
    "it is necessary to set this (for example some VLA spectral line data).\n",
    "For example, for NH_3 (1,1) put *restfreq='23.694496GHz'*\n",
    "\n"
   ]
  },
  {
   "cell_type": "markdown",
   "metadata": {},
   "source": [
    "##### *stokes*\n",
    "\n",
    "Stokes parameters to image. default='I'; example: *stokes='IQUV'*;\n",
    "Options:\n",
    "'I','Q','U','V','IV','QU','IQ','UV','IQU','IUV','IQUV','RR','LL','XX','YY','RRLL','XXYY'\n",
    "\n"
   ]
  },
  {
   "cell_type": "markdown",
   "metadata": {},
   "source": [
    "##### *niter*\n",
    "\n",
    "Maximum number iterations. If *niter=0*, then no cleaning is done\n",
    "(\"invert\" only). (*niter=0* can be used instead of the 'ft' task to\n",
    "predict/save a model) For cube or multi field images, *niter* is the\n",
    "maximum number of iteration **clean** will use for each image plane. The\n",
    "number of iterations used may be less that *niter* if *threshold* value\n",
    "is reached. default: 500; example: *niter=5000*\n",
    "\n"
   ]
  },
  {
   "cell_type": "markdown",
   "metadata": {},
   "source": [
    "##### *gain*\n",
    "\n",
    "Loop gain for CLEANing. default: 0.1; example: *gain=0.5*\n",
    "\n"
   ]
  },
  {
   "cell_type": "markdown",
   "metadata": {},
   "source": [
    "##### *threshold*\n",
    "\n",
    "Flux level at which to stop CLEANing. default: '0.0mJy'; examples:\n",
    "*threshold='2.3mJy'*  (always include units), *threshold = '0.0023Jy',\n",
    "threshold = '0.0023Jy/beam'* (okay also)\n",
    "\n"
   ]
  },
  {
   "cell_type": "markdown",
   "metadata": {},
   "source": [
    "##### *interactive*\n",
    "\n",
    "Use interactive **clean** (with GUI viewer). Interactive **clean**\n",
    "allows the user to build the cleaning mask interactively using the\n",
    "viewer. The viewer will appear every *npercycle* interation, but modify\n",
    "as needed. The final interactive mask is saved in the file\n",
    "imagename_interactive.mask. The initial masks use the union of mask and\n",
    "cleanbox (see below). default: *interactive=False*; example:\n",
    "*interactive=True*  \n",
    "   \n",
    "\n"
   ]
  },
  {
   "cell_type": "markdown",
   "metadata": {},
   "source": [
    "####     *interactive=True* expandable parameters\n",
    "\n"
   ]
  },
  {
   "cell_type": "markdown",
   "metadata": {},
   "source": [
    "#####     *npercycle*\n",
    "\n",
    "    This is the number of iterations between each interactive update of\n",
    "the mask. It is important to modify this number interactively during the\n",
    "cleaning, starting with a low number like 20, but then increasing as\n",
    "more extended emission is encountered.\n",
    "\n"
   ]
  },
  {
   "cell_type": "markdown",
   "metadata": {},
   "source": [
    "#####     *mask*\n",
    "\n",
    "    Specification of cleanbox(es), mask image(s), primary beam coverage\n",
    "level, and/or region(s) to be used for cleaning. **clean** tends to\n",
    "perform better, and is less likely to diverge, if the **clean**\n",
    "component placement is limited by a mask to where real emission is\n",
    "expected to be. As long as the image has the same shape (size), mask\n",
    "images (e.g. from a previous interactive session) can be used for a new\n",
    "execution. \n",
    "\n",
    "**NOTE**: The initial clean mask actually used is the union of what is\n",
    "specified in mask and \\<imagename\\>.mask.\n",
    "\n",
    "        default: \\[\\] or '' : no masking; Possible specification\n",
    "types:  \n",
    "            (a) Cleanboxes, specified using the CASA region format\n",
    "(<http://casaguides.nrao.edu/index.php?title=CASA_Region_Format>)  \n",
    "            examples: *mask='box \\[ \\[ 100pix , 130pix\\] , \\[120pix,\n",
    "150pix \\] \\]'*, *mask='circle \\[ \\[ 120pix , 40pix\\] ,6pix \\]'*,\n",
    "*mask='circle\\[\\[19h58m52.7s,+40d42m06.04s \\], 30.0arcsec\\]'*  \n",
    "            If used with a spectral cube, it will apply to all\n",
    "channels.  \n",
    "            Multiple regions may be specified as a list of pixel\n",
    "ranges.  \n",
    "            examples: *mask= \\['circle \\[ \\[ 120pix , 40pix\\] ,6pix \\]',\n",
    "'box \\[ \\[ 100pix , 130pix\\] , \\[120pix, 150pix \\] \\]' \\]*  \n",
    "            (b) Filename with cleanbox shapes defined using the CASA\n",
    "region format.  \n",
    "            example: *mask='mycleanbox.txt';* The file 'mycleanbox.txt'\n",
    "contains:\n",
    "\n",
    "    box [ [ 100pix , 130pix ] , [ 120pix, 150pix ] ]\n",
    "    circle [ [ 150pix , 150pix] ,10pix ]\n",
    "    rotbox [ [ 60pix , 50pix ] , [ 30pix , 30pix ] , 30deg ]\n",
    "\n",
    "             (c) Filename for image mask. example:\n",
    "*mask='myimage.mask'*  \n",
    "             Multiple mask files may be specified.  \n",
    "             example: *mask=\\[ 'mask1.mask', 'mask2.mask' \\]*  \n",
    "             (d) Filename for region specification (e.g. from\n",
    "**viewer**).  \n",
    "             example: *mask='myregion.rgn'*  \n",
    "             (e) Combinations of the above options.  \n",
    "             example: *mask=\\['mycleanbox.txt', 'myimage.mask',\n",
    "'myregion.rgn','circle \\[ \\[ 120pix , 40pix\\] ,6pix \\]'\\]*  \n",
    "             (f) Threshold on primary-beam.  \n",
    "             A number between 0 and 1, used as a threshhold of primary\n",
    "beam coverage. The primary beam coverage map (imagename +\n",
    "'.flux(.pbcoverage)') will be made and the clean component placement\n",
    "will be limited to where it is \\> the number.  \n",
    "             (g) True or False.  \n",
    "             True: like (f), but use *minpb* as the number.  \n",
    "             False: go maskless (and expect trouble).  \n",
    "             (For masks for multiple fields, please see 'HINTS ON CLEAN\n",
    "WITH FLANKING FIELDS')\n",
    "\n",
    " \n",
    "\n"
   ]
  },
  {
   "cell_type": "markdown",
   "metadata": {},
   "source": [
    "##### *uvtaper*\n",
    "\n"
   ]
  },
  {
   "cell_type": "markdown",
   "metadata": {},
   "source": [
    "#### Apply additional uv tapering of the visibilities. default: *uvtaper=False*; example: *uvtaper=True*      *uvtaper=True* expandable parameters\n",
    "\n"
   ]
  },
  {
   "cell_type": "markdown",
   "metadata": {},
   "source": [
    "#####     *outertaper*\n",
    "\n",
    "    uv-taper on outer baselines in uv-plane, \\[bmaj, bmin, bpa\\] taper\n",
    "Gaussian scale in uv or angular units.\n",
    "\n",
    "**NOTE**: The on-sky FWHM in arcsec is roughly the *uvtaper* / 200\n",
    "(klambda).\n",
    "\n",
    "     default: *outertaper=\\[\\]*; no outer taper applied; examples:\n",
    "*outertaper=\\['5klambda'\\]* circular taper FWHM=5 kilo-lambda,\n",
    "*outertaper=\\['5klambda','3klambda','45.0deg'\\]*,\n",
    "*outertaper=\\['10arcsec'\\]* on-sky FWHM 10 arcseconds,\n",
    "*outertaper=\\['300.0'\\]* default units are lambda in aperture plane\n",
    "\n",
    " \n",
    "\n"
   ]
  },
  {
   "cell_type": "markdown",
   "metadata": {},
   "source": [
    "##### *modelimage*\n",
    "\n",
    "Name of model image(s) to initialize cleaning. If multiple images, then\n",
    "these will be added together to form initial staring model.\n",
    "\n",
    "**NOTE**: these are in addition to any initial model in the\n",
    "\\<imagename\\>.model image file.\n",
    "\n",
    "    default: '' (none); examples: *modelimage='orion.model'*,\n",
    "*modelimage=\\['orion.model','sdorion.image'\\]*\n",
    "\n",
    "**NOTE**: If the units in the image are Jy/beam as in a single-dish\n",
    "image, then it will be converted to Jy/pixel as in a model image, using\n",
    "the restoring beam in the image header and zeroing negatives. If the\n",
    "image is in Jy/pixel then it is taken as is.\n",
    "\n",
    "    When *nterms\\>1*, a one-to-one mapping is done between images in\n",
    "this list and Taylor-coefficients. If more than *nterms* images are\n",
    "specified, only the first *nterms* are used. It is valid to supply fewer\n",
    "than *nterms* model images. Example: Supply an estimate of the continuum\n",
    "flux from a previous imaging run.\n",
    "\n"
   ]
  },
  {
   "cell_type": "markdown",
   "metadata": {},
   "source": [
    "##### *weighting*\n",
    "\n",
    "Weighting to apply to visibilities. default='natural'; example:\n",
    "*weighting='uniform'*; Options: 'natural','uniform','briggs',\n",
    "'superuniform','briggsabs','radial'\n",
    "\n"
   ]
  },
  {
   "cell_type": "markdown",
   "metadata": {},
   "source": [
    "####     *weighting* expandable parameters\n",
    "\n",
    "    For details on weighting please see Chapter3 of late Dr. Brigg's\n",
    "thesis (http://www.aoc.nrao.edu/dissertations/dbriggs)\n",
    "\n",
    "    For *weighting='briggs'* and *'briggsabs'*:\n",
    "\n"
   ]
  },
  {
   "cell_type": "markdown",
   "metadata": {},
   "source": [
    "#####         *robust*\n",
    "\n",
    "        Brigg's robustness parameter. default=0.0; example: robust=0.5;\n",
    "Options: -2.0 to 2.0; -2 (uniform)/+2 (natural)\n",
    "\n"
   ]
  },
  {
   "cell_type": "markdown",
   "metadata": {},
   "source": [
    "##### *        npixels*\n",
    "\n",
    "        uv-box used for weight calculation a box going from -npixel/2 to\n",
    "+npixel/2 on each side around a point is used to calculate weight\n",
    "density. 0 means box is pixel size. default = 0; example: *npixels=2*\n",
    "\n",
    "**EXEMPTION**: When choosing superuniform, it does not make sense to use\n",
    "npixels=0 as it is uniform thus if npixels is 0, it will be forced to 6\n",
    "or a box from -3pixels to 3pixels.\n",
    "\n",
    "    For *weighting='briggsabs'*\n",
    "\n"
   ]
  },
  {
   "cell_type": "markdown",
   "metadata": {},
   "source": [
    "#####         *noise*\n",
    "\n",
    "        noise parameter to use for Briggs \"abs\" weighting. example:\n",
    "*noise='1.0mJy'*      *  \n",
    "*\n",
    "\n",
    " \n",
    "\n"
   ]
  },
  {
   "cell_type": "markdown",
   "metadata": {},
   "source": [
    "##### *restoringbeam*\n",
    "\n",
    "Output Gaussian restoring beam for clean image, \\[bmaj, bmin, bpa\\]\n",
    "elliptical Gaussian restoring beam. Default units are in arc-seconds for\n",
    "bmaj,bmin, degrees for bpa. default: *restoringbeam=\\[\\]*; Use PSF\n",
    "calculated from dirty beam. examples: *restoringbeam=\\['10arcsec'\\]*\n",
    "circular Gaussian FWHM 10 arcseconds,\n",
    "*restoringbeam=\\['10.0','5.0','45.0deg'\\]* 10\"x5\" at 45 degrees\n",
    "\n"
   ]
  },
  {
   "cell_type": "markdown",
   "metadata": {},
   "source": [
    "##### *pbcor*\n",
    "\n",
    "Output primary beam-corrected image. If *pbcor=False*, the final output\n",
    "image is NOT corrected for the PB pattern (particularly important for\n",
    "mosaics), and therefore is not \"flux correct\". Correction can also be\n",
    "done after the fact using immath to divide \\<imagename\\>.image by the\n",
    "\\<imagename\\>.flux image. default: *pbcor=False*, output un-corrected\n",
    "image; example: *pbcor=True*, output pb-corrected image (masked outside\n",
    "*minpb*)\n",
    "\n"
   ]
  },
  {
   "cell_type": "markdown",
   "metadata": {},
   "source": [
    "##### *minpb*\n",
    "\n",
    "Minimum PB level to use for pb-correction and pb-based masking.\n",
    "default=0.2; example: *minpb=0.01*  \n",
    "    When *imagermode* is \\*not\\* 'mosaic': *minpb* is applied to the\n",
    "flux image (sensitivity-weighted pb). *minpb* is used to create a mask,\n",
    "only when *pbcor=True*  \n",
    "    When *imagermode='mosaic'*: *minpb* is applied to the\n",
    "flux.pbcoverage image (mosaic pb with equal weight per pointing).\n",
    "*minpb* is always used to create a mask (regardless of\n",
    "*pbcor=True/False*).\n",
    "\n"
   ]
  },
  {
   "cell_type": "markdown",
   "metadata": {},
   "source": [
    "##### *usescratch*\n",
    "\n",
    "If True will create scratch columns if they are not there. And after\n",
    "**clean** completes the predicted model visibility is from the clean\n",
    "components are written to the MS. This increases the MS size by the data\n",
    "volume. if False then the model is saved in the MS header and the\n",
    "calculation of the visibilities is done on the fly when using\n",
    "calibration or **plotms**. Use True if you want to access the model\n",
    "visibilities in python, say.\n",
    "\n"
   ]
  },
  {
   "cell_type": "markdown",
   "metadata": {},
   "source": [
    "##### *allowchunk*\n",
    "\n",
    "Partition the image cube by channel-chunks. default=False;    \n",
    "    False: Major cycle grids all channels. Minor cycle steps through all\n",
    "channels before the next major cycle.  \n",
    "    True: Major and minor cycles are performed one chunk at a time, and\n",
    "output images cubes are concatenated.\n",
    "\n"
   ]
  },
  {
   "cell_type": "markdown",
   "metadata": {},
   "source": [
    "##### *async*\n",
    "\n",
    "Run asynchronously. default = False; do not run asychronously\n",
    "\n",
    "|                 |                                                                                                     |\n",
    "|:----------------|-----------------------------------------------------------------------------------------------------|\n",
    "| Citation Number | 1                                                                                                   |\n",
    "| Citation Text   | Rau and Cornwell, AA, Volume 532, 2011 ([ADS](http://adsabs.harvard.edu/abs/2011A%26A...532A..71R)) |\n",
    "\n",
    "|                 |                                                                                                        |\n",
    "|:----------------|--------------------------------------------------------------------------------------------------------|\n",
    "| Citation Number | 2                                                                                                      |\n",
    "| Citation Text   | Cornwell et al. IEEE JSTSP, 2008 ([IEEE](http://ieeexplore.ieee.org/stamp/stamp.jsp?arnumber=4703511)) |\n",
    "\n",
    "|                 |                                                                                                                         |\n",
    "|:----------------|-------------------------------------------------------------------------------------------------------------------------|\n",
    "| Citation Number | 3                                                                                                                       |\n",
    "| Citation Text   | Bhatnagar et al., AandA, 487, 419, 2008 ([A&A](http://www.aanda.org/articles/aa/full/2008/31/aa9284-07/aa9284-07.html)) |\n",
    "\n",
    "Bibliography\n",
    "\n",
    "  \n",
    "<sup>1.\\ Rau\\ and\\ Cornwell,\\ AA,\\ Volume\\ 532,\\ 2011\\ ([ADS](http://adsabs.harvard.edu/abs/2011A%26A...532A..71R))\\ [↩](#ref-cit1 \"Jump back to citation 1 in the text.\")</sup>\n",
    "\n",
    "  \n",
    "<sup>2.\\ Cornwell\\ et\\ al.\\ IEEE\\ JSTSP,\\ 2008\\ ([IEEE](http://ieeexplore.ieee.org/stamp/stamp.jsp?arnumber=4703511))\\ [↩](#ref-cit2 \"Jump back to citation 2 in the text.\")</sup>\n",
    "\n",
    "  \n",
    "<sup>3.\\ Bhatnagar\\ et\\ al.,\\ AandA,\\ 487,\\ 419,\\ 2008\\ ([A&A](http://www.aanda.org/articles/aa/full/2008/31/aa9284-07/aa9284-07.html))\\ [↩](#ref-cit3 \"Jump back to citation 3 in the text.\")</sup>"
   ]
  }
 ],
 "metadata": {},
 "nbformat": 4,
 "nbformat_minor": 5
}
