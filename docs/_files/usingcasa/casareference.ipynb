{
 "cells": [
  {
   "cell_type": "markdown",
   "metadata": {},
   "source": [
    "# Citation\n",
    "\n",
    "Citation for use in publications\n",
    "\n",
    "Please cite the following reference when using CASA for publications:\n",
    "\n",
    "McMullin, J. P., Waters, B., Schiebel, D., Young, W., & Golap, K. 2007,\n",
    "Astronomical Data Analysis Software and Systems XVI (ASP Conf. Ser.\n",
    "376), ed. R. A. Shaw, F. Hill, & D. J. Bell (San Francisco, CA: ASP),\n",
    "127&nbsp; ([ADS\n",
    "link](http://adsabs.harvard.edu/abs/2007ASPC..376..127M))\n",
    "\n",
    "&nbsp;\n",
    "\n",
    "&nbsp;\n",
    "\n",
    "&nbsp;"
   ]
  }
 ],
 "metadata": {},
 "nbformat": 4,
 "nbformat_minor": 5
}
