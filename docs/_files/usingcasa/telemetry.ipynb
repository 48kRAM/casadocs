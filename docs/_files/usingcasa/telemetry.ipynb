{
 "cells": [
  {
   "cell_type": "markdown",
   "metadata": {},
   "source": [
    "# Information Collection \n",
    "\n",
    "\n",
    "\n",
    "\n",
    "\n",
    "\n",
    "\n",
    "\n",
    "\n",
    "\n",
    "To better understand real-world usage patterns, quality and reliability, CASA collects runtime telemetry and crash reports from users and sends periodic reports back to NRAO. This information is anonymous with no personal identifiable information (PII) or science data included.\n",
    "\n"
   ]
  },
  {
   "cell_type": "markdown",
   "metadata": {},
   "source": [
    "## Telemetry\n",
    "\n",
    "Telemetry records task usage activity (task name, start time, end time) during CASA runs.  Periodically, these reports will be batched together and sent to NRAO.\n",
    "\n",
    "You can disable telemetry by adding the following line in \\~/.casarc\n",
    "\n",
    "```\n",
    "EnableTelemetry: False\n",
    "```\n",
    "\n",
    "Telemetry adds log files in the \\~/.casa directory and submits the data at CASA startup after a predefined interval. This can be configured in the \\~/.casarc file by setting TelemetrySubmitInterval to a desired value in seconds.  The default value is 1 week.\n",
    "\n",
    "You can change the log file cache directory by setting \\\"TelemetryLogDirectory\\\" in \\~/.casarc.  \n",
    "\n",
    "You can also configure a maximum Telemetry log usage with \\\"TelemetryLogLimit\\\" (in kilobytes). Casa will check for the logfile size periodically and disable Telemetry when the limit is reached. The check interval can be set with \\\"TelemetryLogSizeInterval\\\" (seconds)\n",
    "\n",
    "Summary of all available options in .casarc:\n",
    "\n",
    "```\n",
    "`TelemetryLogDirectory: /tmp`\n",
    "`TelemetryLogLimit: 1650`\n",
    "`TelemetryLogSizeInterval: 30`\n",
    "`TelemetrySubmitInterval: 20`\n",
    "```\n",
    "\n"
   ]
  },
  {
   "cell_type": "markdown",
   "metadata": {},
   "source": [
    "## Crash Reporter\n",
    "\n",
    "Crash reports are triggered whenever a CASA task terminates abnormally (e.g., unhandled C++ exception, segfault, etc.). The crash reports include:\n",
    "\n",
    "-   program call stack\n",
    "-   filesystem mount information\n",
    "-   CASA log\n",
    "-   memory information\n",
    "-   operating system version\n",
    "-   CPU information\n",
    "\n",
    "You can disable crash reports by adding the following line in \\~/.casarc\n",
    "\n",
    "```\n",
    "UseCrashReporter: False\n",
    "```"
   ]
  }
 ],
 "metadata": {},
 "nbformat": 4,
 "nbformat_minor": 4
}
