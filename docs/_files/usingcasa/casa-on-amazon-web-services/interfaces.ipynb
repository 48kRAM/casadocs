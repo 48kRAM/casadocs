{
 "cells": [
  {
   "cell_type": "markdown",
   "metadata": {},
   "source": [
    "# Interfaces \n",
    "\n",
    "\n",
    "\n",
    "\n",
    "\n",
    "Amazon has multiple interface methods for interacting with resources.\n",
    "\n",
    "\n",
    "\n",
    "\n",
    "\n",
    "\n",
    "\n",
    "\n",
    "The [AWS console](https://aws.amazon.com/ec2/getting-started/) is a web interface used to control AWS resources. For users launching isolated instances and querying status, this is likely the simplest and most commonly used interface.\n",
    "\n",
    "[The CLI](http://docs.aws.amazon.com/cli/latest/userguide/cli-chap-getting-set-up.html) is the command line interface to AWS. This software, installed on your local computer, can be used to launch and control AWS resources. This interface is most useful for repeated tasks and simple automation\n",
    "\n",
    "The python SDK interface is beyond the scope of this document, but more information can be found [here](https://aws.amazon.com/sdk-for-python/). The python interface is most useful for complex automation frameworks and includes a REST-ful interface to all AWS resources."
   ]
  }
 ],
 "metadata": {},
 "nbformat": 4,
 "nbformat_minor": 4
}
