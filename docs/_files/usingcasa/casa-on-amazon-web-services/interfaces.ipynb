{
 "cells": [
  {
   "cell_type": "markdown",
   "metadata": {},
   "source": [
    "# Interfaces {#interfaces .documentFirstHeading}\n",
    "\n",
    "\n",
    "\n",
    "\n",
    "\n",
    "Amazon has multiple interface methods for interacting with resources.\n",
    "\n",
    "\n",
    "\n",
    "\n",
    "\n",
    "\n",
    "\n",
    "\n",
    "The [AWS console](https://aws.amazon.com/ec2/getting-started/) is a web\n",
    "interface used to control AWS resources. For users launching isolated\n",
    "instances and querying status, this is likely the simplest and most\n",
    "commonly used interface.\n",
    "\n",
    "[The\n",
    "CLI](http://docs.aws.amazon.com/cli/latest/userguide/cli-chap-getting-set-up.html)\n",
    "is the command line interface to AWS. This software, installed on your\n",
    "local computer, can be used to launch and control AWS resources. This\n",
    "interface is most useful for repeated tasks and simple automation\n",
    "\n",
    "The python SDK interface is beyond the scope of this document, but more\n",
    "information can be found [here](https://aws.amazon.com/sdk-for-python/).\n",
    "The python interface is most useful for complex automation frameworks\n",
    "and includes a REST-ful interface to all AWS resources."
   ]
  }
 ],
 "metadata": {},
 "nbformat": 4,
 "nbformat_minor": 4
}
