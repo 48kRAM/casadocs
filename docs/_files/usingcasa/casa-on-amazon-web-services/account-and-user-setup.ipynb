{
 "cells": [
  {
   "cell_type": "markdown",
   "metadata": {},
   "source": [
    "# User Account Setup {#user-account-setup .documentFirstHeading}\n",
    "\n",
    "\n",
    "\n",
    "\n",
    "\n",
    "Creating and setting up a user account on AWS\n",
    "\n",
    "\n",
    "\n",
    "\n",
    "\n",
    "\n",
    "\n",
    "\n"
   ]
  },
  {
   "cell_type": "markdown",
   "metadata": {},
   "source": [
    "## Overview\n",
    "\n",
    "To facilitate fine grain control of AWS resources, Amazon supplies two\n",
    "distinct account types. A Root user account (Account Root User) and\n",
    "Identity and Access Management Users (IAM Users). [Learn\n",
    "more.](http://docs.aws.amazon.com/general/latest/gr/root-vs-iam.html)\n",
    "\n",
    "These accounts are distinct from regular Linux accounts that may exist\n",
    "on a compute instance.\n",
    "\n"
   ]
  },
  {
   "cell_type": "markdown",
   "metadata": {},
   "source": [
    "## []{#account-root-user}Account Root User\n",
    "\n",
    "[Click here and follow the steps to set up an Amazon Web Services\n",
    "account.](http://www.dummies.com/programming/cloud-computing/amazon-web-services/set-up-your-amazon-web-services-account/)\n",
    "\n",
    "Signing up for an AWS account automatically creates a Root user account\n",
    "with total control over the account. The credit card used during sign-up\n",
    "will be billed for all usage by the Account Root User and the Account\\'s\n",
    "IAM Users.\n",
    "\n",
    "In general, the Root user account should only be used for changing\n",
    "account wide settings, e.g. creating or removing IAM users, changing AWS\n",
    "support plan or closing the account. An IAM User account should be used\n",
    "when requesting resources. Following this model allows for finer grain\n",
    "control over the type and scale of resources a specific user can\n",
    "request, and can limit the risk from unexpected expenses or accidental\n",
    "global changes to the account.\n",
    "\n"
   ]
  },
  {
   "cell_type": "markdown",
   "metadata": {},
   "source": [
    "## []{#iam-users}IAM Users\n",
    "\n"
   ]
  },
  {
   "cell_type": "markdown",
   "metadata": {},
   "source": [
    "### Getting Started with IAM Users\n",
    "\n",
    "[View Amazon\\'s AWS\n",
    "Documentation](http://docs.aws.amazon.com/IAM/latest/UserGuide/getting-started_create-admin-group.html)\n",
    "\n",
    "The Root Account User can create IAM Users. These IAM Users may have\n",
    "more limited permissions or they may have Administrators permissions. It\n",
    "is recommended the Root Account User first create an IAM User in the\n",
    "Administrators group. That IAM User can then login and perform\n",
    "essentially all administrative operations, including adding more IAM\n",
    "Users.\n",
    "\n",
    "IAM users can be given different levels of permissions for requesting\n",
    "AWS resources. Perimissions can be mapped to a User via membership in an\n",
    "IAM group or by having an IAM Role mapped to the User. More information\n",
    "on creating and utilizing IAM groups and IAM Roles can be found\n",
    "[here](http://docs.aws.amazon.com/IAM/latest/UserGuide/id.html)\n",
    "\n"
   ]
  },
  {
   "cell_type": "markdown",
   "metadata": {},
   "source": [
    "### How to Sign into AWS as an IAM User\n",
    "\n",
    "[View Amazon\\'s AWS\n",
    "Documentation](http://docs.aws.amazon.com/IAM/latest/UserGuide/console.html#user-sign-in-page)\n",
    "\n"
   ]
  },
  {
   "cell_type": "markdown",
   "metadata": {},
   "source": [
    "### Best practices for using IAM Users\n",
    "\n",
    "[View Amazon\\'s AWS\n",
    "Documentation](http://docs.aws.amazon.com/IAM/latest/UserGuide/best-practices.html#create-iam-users.)\n",
    "\n"
   ]
  },
  {
   "cell_type": "markdown",
   "metadata": {},
   "source": [
    "## Linux Users\n",
    "\n",
    "[View Amazon\\'s AWS\n",
    "Documentation](http://docs.aws.amazon.com/AWSEC2/latest/UserGuide/ec2-key-pairs.html)\n",
    "\n",
    "IAM Users typically have the ability to start Instances, a virtual\n",
    "machine running Linux on AWS hardware. While starting the instance, an\n",
    "ssh key is specified. That key can be used to ssh into the running\n",
    "instance.\n",
    "\n"
   ]
  },
  {
   "cell_type": "markdown",
   "metadata": {},
   "source": [
    "### Adding Additional Linux Users\n",
    "\n",
    "[View Amazon\\'s AWS\n",
    "Documentation](http://docs.aws.amazon.com/AWSEC2/latest/UserGuide/managing-users.html)"
   ]
  }
 ],
 "metadata": {},
 "nbformat": 4,
 "nbformat_minor": 4
}
