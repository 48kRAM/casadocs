{
 "cells": [
  {
   "cell_type": "markdown",
   "metadata": {},
   "source": [
    "# Costs {#costs .documentFirstHeading}\n",
    "\n",
    "\n",
    "\n",
    "\n",
    "\n",
    "Overview of Costs Associated with AWS\n",
    "\n",
    "\n",
    "\n",
    "\n",
    "\n",
    "\n",
    "\n",
    "\n",
    "Amazon Web Services (AWS) allows researchers to use AWS resources for\n",
    "NRAO data processing. This section presents costs associated with using\n",
    "these resources. Resource types include: Instances, EBS Volumes, EBS\n",
    "Snapshots, S3, and Glacier.\n",
    "\n",
    "The primary resource utilized is Instances.\n",
    "\n",
    "Other resources are methods of storing input and output data: EBS, EFS,\n",
    "Snapshots, S3, and Glacier.\n",
    "\n",
    "The way to contain costs is to first determine the needs of the code\n",
    "that is to be run. Then AWS resources can be matched to those needs as\n",
    "efficiently as possible given the circumstances.\n",
    "\n"
   ]
  },
  {
   "cell_type": "markdown",
   "metadata": {},
   "source": [
    "## CASA Hardware Requirements\n",
    "\n"
   ]
  },
  {
   "cell_type": "markdown",
   "metadata": {},
   "source": [
    "### Running CASA\n",
    "\n",
    "Selecting a suitable instance type and size requires some knowledge\n",
    "about the CASA tasks to be run. The [Hardware\n",
    "Requirements](https://casa.nrao.edu/casadocs-devel/stable/usingcasa/hardware-requirements)\n",
    "page includes sizing guidelines for typical computing hardware that can\n",
    "be translated to AWS instance types.\n",
    "\n"
   ]
  },
  {
   "cell_type": "markdown",
   "metadata": {},
   "source": [
    "### Choosing an Instance\n",
    "\n",
    "An instance is the best place to start (allocating resources). A list of\n",
    "on-demand instance costs and capabilities are listed here:\n",
    "<https://aws.amazon.com/ec2/pricing/>, though be aware it takes a minute\n",
    "to load and nothing will display under \\\"on-demand\\\" while the data\n",
    "loads. Note that spot instances can be utilized to run jobs at a much\n",
    "reduced cost; this is covered in the\n",
    "[Instances](https://casa.nrao.edu/casadocs-devel/stable/usingcasa/casa-on-amazon-web-services/instances) section\n",
    "of this document. The goal is to select an Instance type that is large\n",
    "enough to do the job, but leaves as few resouces idle as possible.\n",
    "\n"
   ]
  },
  {
   "cell_type": "markdown",
   "metadata": {},
   "source": [
    "### File I/O\n",
    "\n",
    "Default EBS is generally used. However, options exist to specify\n",
    "different types of EBS, e.g., storage with higher iops, etc., that cost\n",
    "more. EBS storage pricing details can be found here:\n",
    "<https://aws.amazon.com/ebs/pricing/>. For reference, there is a\n",
    "detailed discussion of EBS volume types here:\n",
    "<http://docs.aws.amazon.com/AWSEC2/latest/UserGuide/EBSVolumeTypes.html>.\n",
    "\n"
   ]
  },
  {
   "cell_type": "markdown",
   "metadata": {},
   "source": [
    "### Instance Store\n",
    "\n",
    "Some instance types are pre-configured with attached SSD storage called\n",
    "\\\"instance store\\\". If you start such an instance, part of its intrinsic\n",
    "cost is this storage. More details about instance store are here:\n",
    "<http://docs.aws.amazon.com/AWSEC2/latest/UserGuide/add-instance-store-volumes.html#adding-instance-storage-instance>.\n",
    "\n"
   ]
  },
  {
   "cell_type": "markdown",
   "metadata": {},
   "source": [
    "## Selecting an Instance Type for CASA\n",
    "\n"
   ]
  },
  {
   "cell_type": "markdown",
   "metadata": {},
   "source": [
    "### What to try First\n",
    "\n",
    "There are over 40 instance types with varying amounts of RAM and CPUs.\n",
    "There are, when you look closely, many storage options, but a few\n",
    "recurrent themes emerge. The simple storage system (S3) is primarily for\n",
    "storing large volumes of data from a few hours to a few months. S3 can\n",
    "be used to stage input and output data. You can share these data with\n",
    "other users. EBS storage is the most often used \\\"attached\\\" storage\n",
    "with performance comparable to a very good hard drive attached to your\n",
    "desktop system. However, it\\'s bandwidth goes up with the core count,\n",
    "contrary to ordinary storage. The number of cores and GBs of RAM depend\n",
    "entirely on instance type. If you were to want 4 GB RAM per core (as\n",
    "recommended in CASA [Hardware\n",
    "Requirements](https://casa.nrao.edu/casadocs-devel/stable/usingcasa/hardware-requirements))\n",
    "and 10 cores, you can find the closest instance on the list of instance\n",
    "types, <https://aws.amazon.com/ec2/instance-types/>. m4.4xlarge is close\n",
    "with 16 \\\"vCPU\\\" and 64 GB. Despite apearances, it does not have enough\n",
    "cores. AWS lists \\\"vCPUs\\\" (a.k.a. hyperthread) instead of cores. A vCPU\n",
    "is an internal CPU scheduling trick that is useful for certain classes\n",
    "of programs, but is nearly always detrimental in scientific computing,\n",
    "e.g., CASA. To summarize, 2 Amazon vCPUs equal 1 core. From here on\n",
    "cores are used, where 1 core = 2 vCPUs.\n",
    "\n",
    "Continuing with the example of looking for an instance that meets the\n",
    "contraints of 10 cores and 4 GB RAM per core, it makes sense to look at\n",
    "core count first. The listing of instances with their core count,\n",
    "memory, and cost are here: <https://aws.amazon.com/ec2/pricing/>. There\n",
    "are no instances with 10 cores. The closest have 8 and 16 cores. So\n",
    "we\\'ll look at \\>=16 core instances. Also, we\\'ll throw out any\n",
    "instances that do not have: RAM \\>= (\\#cores \\* 4 GB RAM). What is left\n",
    "(without looking at immensely large and therefore expensive instances)\n",
    "are these:\n",
    "\n",
    "-   m4.10xlarge with 20 cores and 160 GB of RAM. Cost: \\$2.394/hour\n",
    "-   x1.32xlarge with 64 cores and 1962 GB of RAM. Cost: \\$13.338/hour\n",
    "-   r3.8xlarge with 16 cores and 244 GB of RAM. Cost: \\$2.66/hour\n",
    "-   d2.8xlarge with 18 cores and 244 GB of RAM. Cost: \\$5.52/hour\n",
    "\n",
    "Selecting 10 cores produced a results list that contains the most\n",
    "expensive instances. If it\\'s feasible to use a number of cores that is\n",
    "an exponent of 2, a more efficient arrangement may result.  Looking at\n",
    "what instances with 2\\^3 = 8 cores also meet the criterion of 4GB RAM\n",
    "per core, for example:\n",
    "\n",
    "-   m4.4xlarge 8 cores, 64 GB RAM. Cost: \\$0.958/hour\n",
    "-   c3.8xlarge 8 cores, 60 GB RAM. Cost: \\$1.68/hour (instance store)\n",
    "\n",
    "The c3.8xlarge, although very similar to the m4.4xlarge, costs 75% more\n",
    "per hour. That\\'s because c3.8xlarge comes pre-configured with local\n",
    "(instance store) storage. This is charged even when it is not used. It\n",
    "is something to watch out for. Instance store can be useful, but it is\n",
    "tricky to make use of. The use of instance store is outside the scope of\n",
    "this document. When considering 8 core instances, m4.4xlarge appears to\n",
    "be the most attractive option in this case.\n",
    "\n",
    "-   m4.4xlarge 8 cores 4 GB/core \\$0.958/hour\n",
    "-   r3.8xlarge 16 cores \\~15 GB/core \\$2.66/hour\n",
    "-   r3.4xlarge 8 cores \\~7.6 GB/core \\$1.33/hour\n",
    "\n",
    "r3.4xlarge is not far behind in price. And it has more RAM as well as\n",
    "320 GB of instance store storage. So zeroing in on the best instance\n",
    "takes some time. However, it is not time well spent to find the most\n",
    "efficient instance until many instances are to be run or an instance is\n",
    "run for a long period of time.\n",
    "\n",
    " \n",
    "\n"
   ]
  },
  {
   "cell_type": "markdown",
   "metadata": {},
   "source": [
    "## What Instance(s) to Consider for Big or Long Jobs\n",
    "\n",
    "So, to begin, it is probably best to choose EC2 as your primary storage,\n",
    "S3 for cold storage, and an instance with \\>=4GB RAM per core. A more\n",
    "detailed discussion of these (and other) hardware considerations is\n",
    "outlined in the  [Hardware\n",
    "Requirements](https://casa.nrao.edu/casadocs-devel/stable/usingcasa/hardware-requirements) page. \n",
    "What is covered here is what is sufficient to get started. Keep in mind\n",
    "that, since AWS has hyperthreading turned on, their \\\"2 cores\\\" means\n",
    "\\\"1 physical core\\\" (2 hyperthreads). For example, an AWS \\\"8 core\\\"\n",
    "instance type is actually only 4 physical cores. CASA does not make good\n",
    "use of virtual cores so if you want a system with 4 actual cores, select\n",
    "an AWS \\\"8 core\\\" system with \\>= 16 GB of RAM. That should be sufficent\n",
    "to get started. As you use AWS more, you\\'ll want to invest more time in\n",
    "optimizing the instance type based on the details of your processing\n",
    "case. If you are running only a few instances, such optimizations are\n",
    "not worth much effort, but if you plan to run hundreds of jobs, this can\n",
    "have a very significant impact on total run time and cost. The 4GB per\n",
    "physical core rule should be sufficient to get started, but more\n",
    "demanding imaging tasks will likely require 8GB or 16Gbyte per core.\n",
    "\n"
   ]
  },
  {
   "cell_type": "markdown",
   "metadata": {},
   "source": [
    "## AWS Storage for CASA\n",
    "\n"
   ]
  },
  {
   "cell_type": "markdown",
   "metadata": {},
   "source": [
    "### Root Volume\n",
    "\n",
    "Starting an Instance with an NRAO AMI and accepting the storage defaults\n",
    "creates a suitable root volume for CASA.  If desired, exhaustive detail\n",
    "on root volumes is availabe at the AWS website:\n",
    "<http://docs.aws.amazon.com/AWSEC2/latest/UserGuide/RootDeviceStorage.html>.\n",
    "\n"
   ]
  },
  {
   "cell_type": "markdown",
   "metadata": {},
   "source": [
    "### Additional EBS Volumes\n",
    "\n",
    "Additional EBS volumes can be added to an instance at any time during\n",
    "it\\'s life cycle. See the following link for more information:\n",
    "<http://docs.aws.amazon.com/AWSEC2/latest/UserGuide/ebs-creating-volume.html>."
   ]
  }
 ],
 "metadata": {},
 "nbformat": 4,
 "nbformat_minor": 4
}
