{
 "cells": [
  {
   "cell_type": "markdown",
   "metadata": {},
   "source": [
    "# Storage\n",
    "\n",
    "AWS provides four basic forms of storage that vary by speed, proximity\n",
    "to their associated instance (which impacts latency/performance), and\n",
    "price.\n",
    "\n",
    "The sections below describe storage in roughly the order of proximity to\n",
    "the instance. To first order each, subsequent type decreases in both\n",
    "performance and cost with Glacier being the slowest and cheapest. EBS\n",
    "may be the most commonly used.\n",
    "\n"
   ]
  },
  {
   "cell_type": "markdown",
   "metadata": {},
   "source": [
    "## Instance Store\n",
    "\n",
    "Instance stores are solid state drives physically attached to the\n",
    "hardware the instance is running on that are available only on certain\n",
    "instance types. (Use of instance stores is beyond the scope of this\n",
    "document, although more information is available at this AWS page.) It\n",
    "is indirectly the most expensive form of storage since instance types\n",
    "with instance store capacity also include extra processor cores and\n",
    "memory. Cost effectiveness is a function of whether the extra cores and\n",
    "memory are utilized. Instance stores do not use redundant hardware.\n",
    "Instance stores cannot preserve their data after their instance stops.\n",
    "\n"
   ]
  },
  {
   "cell_type": "markdown",
   "metadata": {},
   "source": [
    "## Elastic Block Storage (EBS)\n",
    "\n",
    "EBS is connected to instances via high speed networks and is stored on\n",
    "redundant hardware. EBS persists independently after a compute instance\n",
    "terminates (although it may be set to terminate instead). EBS storage\n",
    "can be allocated during the creation of an instance, or it may be\n",
    "created separately and attached to an existing instance. It may be\n",
    "detached from one instance and re-attached to another, which is\n",
    "potentially useful where the processing requirements for one stage of\n",
    "processing (e.g., calibration and flagging) are substantially different\n",
    "from a later stage (e.g., imaging).\n",
    "\n"
   ]
  },
  {
   "cell_type": "markdown",
   "metadata": {},
   "source": [
    "## Simple Storage Service (S3)\n",
    "\n",
    "S3 storage is an object level store (rather than a block level store)\n",
    "designed for medium to long-term storage. Most software applications\n",
    "like CASA do not interact directly with S3 storage. Instead, one of the\n",
    "AWS Interfaces to S3 is used. Typically, S3 is used to temporarily store\n",
    "data before moving it to an EBS or Instance store volume for processing.\n",
    "Or it is used as long term storage for final products. As of this\n",
    "writing, S3 storage costs range from \\$150 - \\$360 TByte/year, depending on\n",
    "whether data is flagged as infrequent access. Longer term storage\n",
    "utilizes Glacier storage.\n",
    "\n"
   ]
  },
  {
   "cell_type": "markdown",
   "metadata": {},
   "source": [
    "## Glacier\n",
    "\n",
    "Glacier is the lowest cost AWS storage. Data within S3 can be flagged\n",
    "for migration to glacier where it is copied to tape. As of this writing,\n",
    "Glacier storage costs roughly \\$86 TByte/year. Retrival from Glacier\n",
    "takes \\~4 hours."
   ]
  }
 ],
 "metadata": {},
 "nbformat": 4,
 "nbformat_minor": 5
}
