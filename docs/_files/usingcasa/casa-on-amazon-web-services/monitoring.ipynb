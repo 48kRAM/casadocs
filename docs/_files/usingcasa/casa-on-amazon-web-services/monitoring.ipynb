{
 "cells": [
  {
   "cell_type": "markdown",
   "metadata": {},
   "source": [
    "# Monitoring {#monitoring .documentFirstHeading}\n",
    "\n",
    "\n",
    "\n",
    "\n",
    "\n",
    "A critical aspect to the financial viability of computing within AWS\n",
    "\n",
    "\n",
    "\n",
    "\n",
    "\n",
    "\n",
    "\n",
    "\n"
   ]
  },
  {
   "cell_type": "markdown",
   "metadata": {},
   "source": [
    "## Instance Monitoring\n",
    "\n",
    "\\\n",
    "After a job finishes on an instance, that instance and storage are still\n",
    "running and generating charges to the AWS Account Root User. Instances\n",
    "and storage known to not be needed can of course be shut down. To check\n",
    "whether an instance is in use or not, a quick check can be made using\n",
    "the console: Click Instances, check the box next to your instance, and\n",
    "select the \\\"Monitoring\\\" tab. CPU Utilization is shown. But to be\n",
    "really sure, login to the instance and check if your job is finished. If\n",
    "so, you can transfer data off the root volume as needed and terminate\n",
    "the instance.\n",
    "\n",
    "For more information see:\n",
    "<http://docs.aws.amazon.com/AmazonCloudWatch/latest/DeveloperGuide/US_SingleMetricPerInstance.html#d0e6752>\n",
    "\n"
   ]
  },
  {
   "cell_type": "markdown",
   "metadata": {},
   "source": [
    "## Storage Monitoring (EBS)\n",
    "\n",
    "After the instance terminates, the instance ID and data volume names\n",
    "will continue to show up for several minutes. This can be used to find\n",
    "EBS volumes that were attached to the instance. If the user does not\n",
    "want their data to remain on EBS, i.e., to transfer their EBS volume to\n",
    "another instance or save it for later, then terminating the volume at\n",
    "that time makes sense. Although, the user might want to preserve the\n",
    "data by copying it to S3 or downloading it to a local storage device and\n",
    "then terminate the EBS volume.\n",
    "\n"
   ]
  },
  {
   "cell_type": "markdown",
   "metadata": {},
   "source": [
    "## Storage Monitoring (S3)\n",
    "\n",
    "If you have data in S3 you may wish to leave it there. If you wish to\n",
    "move it to your local storage device, click the cube in the upper left\n",
    "of the console, then choose S3. Unfortunately the console is clumsy for\n",
    "transferring data. Reading through the\n",
    "[Interfaces](https://casa.nrao.edu/casadocs-devel/stable/usingcasa/casa-on-amazon-web-services/interfaces) section\n",
    "of this chapter (and the relevant links), specifically on the use of the\n",
    "AWS CLI, is therefore recommended. Once the user is done with the\n",
    "previously allocated AWS resources, the user can release the reserved\n",
    "resources back to Amazon."
   ]
  }
 ],
 "metadata": {},
 "nbformat": 4,
 "nbformat_minor": 4
}
