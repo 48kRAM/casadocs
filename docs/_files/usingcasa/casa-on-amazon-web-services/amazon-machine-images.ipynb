{
 "cells": [
  {
   "cell_type": "markdown",
   "metadata": {},
   "source": [
    "# Amazon Machine Images\n",
    "\n",
    "An Amazon Machine Image (AMI) provides the information required to\n",
    "launch an instance, which is a virtual server in the cloud\n",
    "\n"
   ]
  },
  {
   "cell_type": "markdown",
   "metadata": {},
   "source": [
    "## Overview\n",
    "\n",
    "An AMI is an object that encapsulates a base OS image (e.g., Red Hat\n",
    "Enterprise Linux, CentOS, Debian), any 3rd party software packages\n",
    "(e.g., CASA, SciPy) and any OS level run time modifications (e.g.,\n",
    "accounts, data, working directories). Since an AMI is a discrete object,\n",
    "it can be mapped onto differing hardware instances to provide a\n",
    "consistent work environment independent of the instance's number of\n",
    "processors, available memory, or total storage space.\n",
    "\n",
    "The NRAO provides a set of pre-made images based on the standard Amazon\n",
    "image, which include specific release versions of CASA and Python and\n",
    "AWS's command line interface (CLI) and application programming interface\n",
    "(API). The appropriate AMI can be used to start an image with operating\n",
    "system and software ready to run CASA.\n",
    "\n"
   ]
  },
  {
   "cell_type": "markdown",
   "metadata": {},
   "source": [
    "## Finding an NRAO AMI\n",
    "\n",
    "You can search for NRAO AMIs [using the\n",
    "console](http://docs.aws.amazon.com/AWSEC2/latest/UserGuide/finding-an-ami.html#finding-an-ami-console).\n",
    "\n",
    "-   From the navigation bar in the upper right, change your region to be\n",
    "    \"US West (Oregon)\"\n",
    "-   Open the AWS Console and click on \"EC2 Dashboard\".\n",
    "-   Click on \"AMIs\" to bring up the interface for selecting AMIs.\n",
    "-   The AMI selection interface by default displays only AMIs \"Owned by\n",
    "    me\". Change it to \"Public Images\".\n",
    "-   Narrow this long list to only NRAO images.\n",
    "    -   Click in the box to the right of the magnifying glass.\n",
    "    -   A menu listing \"Resource Attributes\" will pop up below the box\n",
    "        you clicked on. Ignore it and type \"NRAO\" in the box and press\n",
    "        the Enter key.\n",
    "-   The list of AMIs has been narrowed to NRAO AMIs only.\n",
    "-   New NRAO AMIs will be released periodically.\n",
    "\n"
   ]
  },
  {
   "cell_type": "markdown",
   "metadata": {},
   "source": [
    "## Using an AMI\n",
    "\n",
    "Click the box next to the AMI you want. Click Launch. The\n",
    "[Instances](https://casa.nrao.edu/casadocs-devel/stable/usingcasa/casa-on-amazon-web-services/instances)\n",
    "section of this document covers starting instances.\n",
    "\n"
   ]
  },
  {
   "cell_type": "markdown",
   "metadata": {},
   "source": [
    "## Geographic Locales\n",
    "\n",
    "AWS has the concept of [Regions and\n",
    "Zones](http://docs.aws.amazon.com/AWSEC2/latest/UserGuide/using-regions-availability-zones.html)\n",
    "in which Instances, EBS volumes, S3 buckets, and other resources are\n",
    "run. So an S3 bucket may be in region us-west-2 and not directly\n",
    "accessible if another IAM User is currently using us-east-1. However, a\n",
    "user may select the region they run in. And users may also duplicate\n",
    "some resouces across regions if access latency is the concern. To find\n",
    "the latency from your computer to all the AWS regions, try the cloudping\n",
    "tool: http://www.cloudping.info.\n",
    "\n"
   ]
  },
  {
   "cell_type": "markdown",
   "metadata": {},
   "source": [
    "## AMIs are Region-specific\n",
    "\n",
    "An AWS AMI User can only use AMIs stored in its region. However,\n",
    "[copying an\n",
    "AMI](http://docs.aws.amazon.com/AWSEC2/latest/UserGuide/CopyingAMIs.html#ami-copy-steps)\n",
    "to another region is straightforward. The copy gets a new AMI-ID, so it\n",
    "effectively becomes a new AMI; the original AMI-ID is appended to the\n",
    "new AMI's \"Description\". The new AMI always starts out private and may\n",
    "need to be made public. (It takes about 15 minutes after making an AMI\n",
    "public for it to show up in a search.) In every other way, it is a\n",
    "duplicate of the original.\n",
    "\n",
    "To make the image public, select the AMI and from the \"Actions\" menu and\n",
    "pick \"Modify Image Permissions\". As in this image select \"Public\" and\n",
    "click Save."
   ]
  }
 ],
 "metadata": {},
 "nbformat": 4,
 "nbformat_minor": 5
}
