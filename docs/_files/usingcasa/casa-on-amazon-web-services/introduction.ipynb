{
 "cells": [
  {
   "cell_type": "markdown",
   "metadata": {},
   "source": [
    "# Introduction\n",
    "\n",
    "An introduction to Amazon Web Services\n",
    "\n",
    "In this chapter you will learn how to create an account within AWS,\n",
    "select appropriate resources for a problem, launch those resources,\n",
    "perform any desired processing, return or store resulting products, and\n",
    "finally to release the reserved resources back to Amazon.\n",
    "\n",
    "![https://raw.githubusercontent.com/3c5e2909ab2bbc221f7c4669215ce21a70523c54.jpg](https://raw.githubusercontent.com/3c5e2909ab2bbc221f7c4669215ce21a70523c54.jpg)\n",
    "\n"
   ]
  },
  {
   "cell_type": "markdown",
   "metadata": {},
   "source": [
    "## Amazon Web Services Introduction\n",
    "\n",
    "[Amazon Web Services (AWS)](https://aws.amazon.com/) is a collection of\n",
    "physical assets and software tools for using ad hoc computing resources\n",
    "(aka Cloud Computing) within Amazon. The combination of a wide range of\n",
    "processing hardware, network speeds, storage media and tools allows\n",
    "users to create virtual computing platforms tailored to specific problem\n",
    "sizes with discrete durations.\n",
    "\n",
    "In simplest terms, AWS allows users to create workstations or medium\n",
    "sized clusters of computers (ranging from 10's to a few 1000 nodes) that\n",
    "are essentially identical to the kind of physical workstation or small\n",
    "cluster they might have at their home institution without the overhead\n",
    "of upfront capital expense, space, power or cooling. The full range of\n",
    "offerings from Amazon goes well beyond that simple conceptual model but\n",
    "many, if not most, are not directly applicable to radio astronomy data\n",
    "processing.\n",
    "\n",
    "The target audience for this document is the astronomer who wishes to\n",
    "run their computations more quickly, would like to know if AWS can help\n",
    "accomplish that goal, and what possibilities and limitations AWS brings.\n",
    "\n"
   ]
  },
  {
   "cell_type": "markdown",
   "metadata": {},
   "source": [
    "## Applicability to NRAO Data Processing\n",
    "\n",
    "NRAO data products, particularly those from the Atacama Large Millimeter\n",
    "Array (ALMA) and the Jansky Very Large Array (JVLA), are of sufficient\n",
    "volume (100s to 1000s of GBytes) and compute complexity to require\n",
    "processing capabilities ranging from high end workstations to small\n",
    "clusters of servers. Additionally advanced imaging algorithms typically\n",
    "benefit from more system memory than is likely available on standard\n",
    "desktops.\n",
    "\n",
    "AWS can facilitate the transfer of data among researchers through high\n",
    "speed networks or shared storage. Large scale projects which can be\n",
    "decomposed along some axis (e.g. by observation, field, frequency, etc)\n",
    "can be processed concurrently across 10s, 100s or even 1000s of compute\n",
    "instances.\n",
    "\n"
   ]
  },
  {
   "cell_type": "markdown",
   "metadata": {},
   "source": [
    "## Document Outline\n",
    "\n",
    "This document set attempts to walk users through the necessary steps to\n",
    "[create an account within\n",
    "AWS](https://casa.nrao.edu/casadocs-devel/stable/usingcasa/casa-on-amazon-web-services/account-and-user-setup),\n",
    "[select appropriate resources for their\n",
    "problem](https://casa.nrao.edu/casadocs-devel/stable/usingcasa/casa-on-amazon-web-services/amazon-machine-images),\n",
    "[launch those\n",
    "resources](https://casa.nrao.edu/casadocs-devel/stable/usingcasa/casa-on-amazon-web-services/amazon-machine-images),\n",
    "[perform any desired\n",
    "processing](https://casa.nrao.edu/casadocs-devel/stable/usingcasa/casa-on-amazon-web-services/instances),\n",
    "[return or store resulting products to the\n",
    "user](https://casa.nrao.edu/casadocs-devel/stable/usingcasa/casa-on-amazon-web-services/storage),\n",
    "and finally to release the reserved resources back to Amazon. The last\n",
    "step is a critical aspect to the financial viability of computing within\n",
    "AWS. &nbsp;Later sections will cover the potential financial benefit and\n",
    "possible pitfalls of utilizing AWS resources.\n",
    "\n"
   ]
  },
  {
   "cell_type": "markdown",
   "metadata": {},
   "source": [
    "## Requesting Assistance\n",
    "\n",
    "Given the unique nature of AWS resources, please direct any questions or\n",
    "comments to\n",
    "[nrao-aws@nrao.edu](mailto:nrao-aws@nrao.edu?subject=AWS%20Questions/Comments \"AWS Questions/Comments\")\n",
    "rather than to CASA or Helpdesk personnel."
   ]
  }
 ],
 "metadata": {},
 "nbformat": 4,
 "nbformat_minor": 5
}
