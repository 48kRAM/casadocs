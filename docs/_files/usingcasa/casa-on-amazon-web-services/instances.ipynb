{
 "cells": [
  {
   "cell_type": "markdown",
   "metadata": {},
   "source": [
    "# Instances\n",
    "\n",
    "An instance is effectively a single computer composed of an OS,\n",
    "processors, memory, base storage and optional additional data storage\n",
    "\n"
   ]
  },
  {
   "cell_type": "markdown",
   "metadata": {},
   "source": [
    "## Instance Types\n",
    "\n",
    "Amazon has predefined over 40 instance types. These fall into classes\n",
    "defined roughly by processing power, which are further subdivided by\n",
    "total memory and base storage.\n",
    "\n",
    "[Click here to see a list of all Linux instance types with their number\n",
    "of  virtual CPUs (vCPU), total memory in GBytes of RAM, and the type of\n",
    "storage utilized by the instance\n",
    "type.](https://aws.amazon.com/ec2/pricing)\n",
    "\n",
    "Note the \"vCPU\" is actually a hyperthread, so 2 \"vCPU\" equal one core,\n",
    "e.g. m4.xlarge has 2 cores. (These prices are for on-demand instances.)\n",
    "\n"
   ]
  },
  {
   "cell_type": "markdown",
   "metadata": {},
   "source": [
    "## Starting Instances\n",
    "\n",
    "CASA requires \\>=4GB/core. Storage can be EBS. Because AWS has\n",
    "hyperthreading turned on, each \"vCPU\" is one hyperthread and therefore 2\n",
    "vCPUs essentially equal 1 physical core. Some experimentation may be\n",
    "required to optimize the instance type if many instances are to be used.\n",
    "This can have a very significant impact on total run time and cost. The\n",
    "4GB per physical core rule should be sufficient to get started.\n",
    "\n"
   ]
  },
  {
   "cell_type": "markdown",
   "metadata": {},
   "source": [
    "## Choosing a Payment Option: On-demand vs. Spot\n",
    "\n",
    "Choosing an on-demand instance (the default) guarantees you the use of\n",
    "that instance (barring hardware failure).\n",
    "\n",
    "There is also a Spot Price market; [click here to read about\n",
    "it](https://aws.amazon.com/ec2/spot/pricing/). The price of an instance\n",
    "fluctuates over time as a function of demand.  AWS fills spot requests\n",
    "starting at the highest bid and working down to the lowest, the bid\n",
    "price paid by all spot users is the bid price reached when all resources\n",
    "were exhausted.  When you request a spot instance you submit a bid for\n",
    "those resources.  If that bid exceeds the current spot price, then the\n",
    "spot instance will launch and continue to run as long as the spot price\n",
    "remains below the bid. Typically, the spot price is much less than the\n",
    "on-demand price, so bidding the on-demand price typically permits an\n",
    "instance to run its job to completion. During the time it runs, it is\n",
    "billed only at the running spot price, not the bid, so the savings can\n",
    "be considerable.  If the spot price rises above your bid your instance\n",
    "will be terminated.  Be warned, if demand is excessive for that\n",
    "particular instance type and you bid 2x or more of the on-demand price\n",
    "you run the risk of the spot price rising to that level.  Over bidding\n",
    "the demand price is most useful for very long running jobs where it's\n",
    "considered acceptable to pay more for brief periods while minimizing the\n",
    "risk that the instance will be terminated due to a low bid.\n",
    "\n",
    "For example, the on-demand price for a m4.xlarge instance is \\$0.239 per hour. For the past 3 months, the mean\n",
    "spot price has been \\$0.0341 (maximum \\$0.0515 per hour). A 10-hour run\n",
    "of 100 instances would have cost \\$239 for on-demand and \\$34 for spot\n",
    "instances. That assumes adding 100 instances to the spot market\n",
    "will not affect the spot price much, which is a reasonable assumption.\n",
    "However, adding 500 instances will certainly raise the spot price.\n",
    "\n",
    "It's possible to bid up to 10 times the on-demand price.\n",
    "\n",
    "There are other ways to purchase AWS instances, but only on-demand and\n",
    "spot instances appear of interest to running CASA. [See purchasing\n",
    "options.](https://aws.amazon.com/ec2/purchasing-options/)"
   ]
  }
 ],
 "metadata": {},
 "nbformat": 4,
 "nbformat_minor": 5
}
