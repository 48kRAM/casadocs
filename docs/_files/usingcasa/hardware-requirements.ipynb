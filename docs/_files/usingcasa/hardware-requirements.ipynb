{
 "cells": [
  {
   "cell_type": "markdown",
   "metadata": {},
   "source": [
    "# Hardware Requirements\n",
    "\n",
    "Recommended CASA computing environments\n",
    "\n",
    "The recommended Hardware requirements are\n",
    "provided\n",
    "[here](https://casa.nrao.edu/../casa_hardware-requirements.shtml) as\n",
    "part of the CASA Docs webpages.\n",
    "\n",
    "&nbsp;"
   ]
  }
 ],
 "metadata": {},
 "nbformat": 4,
 "nbformat_minor": 5
}
