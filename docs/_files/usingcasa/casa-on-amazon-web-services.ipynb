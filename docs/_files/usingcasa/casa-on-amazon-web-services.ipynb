{
 "cells": [
  {
   "cell_type": "markdown",
   "metadata": {},
   "source": [
    "# Amazon Web Services\n",
    "\n",
    "Overview of how to use CASA on Amazon Web Services"
   ]
  },
  {
   "cell_type": "markdown",
   "metadata": {
    "nbsphinx-toctree": {
     "hidden": true
    }
   },
   "source": [
    "[Introduction](casa-on-amazon-web-services/introduction)\n",
    "[User Account Setup](casa-on-amazon-web-services/account-and-user-setup)\n",
    "[Amazon Machine Images](casa-on-amazon-web-services/amazon-machine-images)\n",
    "[Storage](casa-on-amazon-web-services/storage)\n",
    "[Instances](casa-on-amazon-web-services/instances)\n",
    "[Monitoring](casa-on-amazon-web-services/monitoring)\n",
    "[Interfaces](casa-on-amazon-web-services/interfaces)\n",
    "[Example Using CASA](casa-on-amazon-web-services/example-using-casa)\n",
    "[Costs](casa-on-amazon-web-services/costs)\n"
   ]
  }
 ],
 "metadata": {},
 "nbformat": 4,
 "nbformat_minor": 5
}
