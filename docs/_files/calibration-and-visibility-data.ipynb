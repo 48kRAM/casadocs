{
 "cells": [
  {
   "cell_type": "markdown",
   "metadata": {},
   "source": [
    "# Calibration & Visibilities"
   ]
  },
  {
   "cell_type": "markdown",
   "metadata": {
    "nbsphinx-toctree": {
     "hidden": true
    }
   },
   "source": [
    "[Visibilities Import Export](calibration-and-visibility-data/visibility-data-import-export)\n",
    "[Visibility Data Selection](calibration-and-visibility-data/data-selection-in-a-measurementset)\n",
    "[Data Examination/Editing](calibration-and-visibility-data/data-examination-and-editing)\n",
    "[UV Manipulation](calibration-and-visibility-data/uv-manipulation)\n",
    "[Synthesis Calibration](calibration-and-visibility-data/synthesis-calibration)\n",
    "[Single Dish Calibration](calibration-and-visibility-data/single-dish-calibration)\n",
    "[Cal Library Syntax](calibration-and-visibility-data/cal-library-syntax)\n",
    "[Data Weights](calibration-and-visibility-data/data-weights)\n",
    "[Ephemeris Data](calibration-and-visibility-data/ephemeris-data)\n"
   ]
  }
 ],
 "metadata": {},
 "nbformat": 4,
 "nbformat_minor": 5
}
