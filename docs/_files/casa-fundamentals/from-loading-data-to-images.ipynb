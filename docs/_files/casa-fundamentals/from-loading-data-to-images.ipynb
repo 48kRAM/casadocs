{
 "cells": [
  {
   "cell_type": "markdown",
   "metadata": {},
   "source": [
    "# Loading Data to Images {#loading-data-to-images .documentFirstHeading}\n",
    "\n",
    "\n",
    "\n",
    "\n",
    "\n",
    "Steps involved in the CASA workflow\n",
    "\n",
    "\n",
    "\n",
    "\n",
    "\n",
    "\n",
    "\n",
    "\n",
    " The subsections below provide a brief overview of the steps you will\n",
    "need to load data into CASA and obtain a final, calibrated image. Each\n",
    "subject is covered in more detail in other chapters. \n",
    "\n",
    "An end-to-end workflow diagram for CASA data reduction for\n",
    "interferometry data is shown in the Figure\n",
    "below](http://casa.nrao.edu/casadocs/stable/usingcasa/from-loading-data-to-images#figid-dataflowfigschematic).\n",
    "This might help you chart your course through the package. In the\n",
    "following sub-sections, we will chart a rough course through this\n",
    "process, with the later chapters filling in the individual boxes.\n",
    "\n",
    "> \n",
    ">  \n",
    "> \n",
    ">\n",
    "> [\n",
    "> ![](docs/_files/casa-fundamentals/ab58d87341f6d1d313c318373ddcda0f04b4d077.png)\n",
    ">\n",
    "> \n",
    ">   --------- --------------------------------------------------------------------------------------------------------------------------\n",
    ">   Type      Figure\n",
    ">   ID        dataflow-fig-schematic\n",
    ">   Caption   Flow chart of the data processing operations that a general user will carry out in an end-to-end CASA reduction session.\n",
    ">   --------- --------------------------------------------------------------------------------------------------------------------------\n",
    ">\n",
    ">  \n",
    "> \n",
    "\n",
    "Note that single-dish data reduction (for example with the ALMA\n",
    "single-dish system) follows a similar course. This is detailed in the\n",
    "corresponding chapters.\n",
    "\n"
   ]
  },
  {
   "cell_type": "markdown",
   "metadata": {},
   "source": [
    "### Loading Data into CASA {#sec55 .subsection}\n",
    "\n",
    " \n",
    "\n",
    "The key data and image import tasks are (see \\\"Visibility Data Import\n",
    "Export](https://casa.nrao.edu/casadocs-devel/stable/calibration-and-visibility-data/visibility-data-import-export)\\\"):\n",
    "\n",
    "-   **importuvfits** --- import visibility data in UVFITS format\n",
    "-   **importvla** --- import data from VLA that is in export format \n",
    "-   **importasdm** --- import ALMA data in ASDM format \n",
    "-   **importfits** --- import a FITS image into a CASA image format\n",
    "    table\n",
    "\n",
    "These are used to bring in your interferometer data, to be stored as a\n",
    "CASA MeasurementSet (MS), and any previously made images or models (to\n",
    "be stored as CASA image tables).\n",
    "\n",
    "The data import tasks will create a MS with a path and name specified by\n",
    "the vis parameter.  The\n",
    "[MeasurementSet](https://casa.nrao.edu/casadocs-devel/stable/casa-fundamentals/measurement-set)\n",
    "is the internal data format used by CASA, and conversion from any other\n",
    "native format is necessary for most of the data reduction tasks.\n",
    "\n",
    "Once data is imported, there are other operations you can use to\n",
    "manipulate the datasets:\n",
    "\n",
    "-   **concat** --- concatenate multiple MSs into a given or a new MS \n",
    "\n"
   ]
  },
  {
   "cell_type": "markdown",
   "metadata": {},
   "source": [
    "#####   {#section .subsubsection}\n",
    "\n"
   ]
  },
  {
   "cell_type": "markdown",
   "metadata": {},
   "source": [
    "### [VLA: Filling data from VLA archive format {#sec56 .subsubsection}\n",
    "\n",
    "Jansky VLA data in \\\"archive SDM format are read into CASA via\n",
    "**importasdm**.  Historic VLA data can be filled with the tasl\n",
    "**importvla**.\n",
    "\n",
    " \n",
    "\n"
   ]
  },
  {
   "cell_type": "markdown",
   "metadata": {},
   "source": [
    "### Fillin data from Scantable format {#sec56 .subsubsection}\n",
    "\n",
    "CASA can import data from the Scantable format, since the development of\n",
    "Single-Dish started with that format (based on\n",
    "ASAP](http://svn.atnf.csiro.au/trac/asap) format ). Currently, CASA\n",
    "tasks in Scantable format is no longer supported, but Scantable format\n",
    "can be converted into MeasurementSet format, with\n",
    "[importASAP](https://casa.nrao.edu/casadocs-devel/stable/global-task-list/task_importasap).\n",
    "\n",
    " \n",
    "\n"
   ]
  },
  {
   "cell_type": "markdown",
   "metadata": {},
   "source": [
    "### Filling data from UVFITS format {#filling-data-from-uvfits-format .subsubsection}\n",
    "\n",
    " For UVFITS format, use the **importuvfits** task. A subset of popular\n",
    "flavors of UVFITS (in particular UVFITS as written by AIPS) is supported\n",
    "by the CASA filler. FITSIDI (frequently used for VLBI data) can be read\n",
    "by **importfitsidi**. See \\\"[Visibility Data Import\n",
    "Export](https://casa.nrao.edu/casadocs-devel/stable/calibration-and-visibility-data/visibility-data-import-export)\\\"\n",
    "for details. \n",
    "\n"
   ]
  },
  {
   "cell_type": "markdown",
   "metadata": {},
   "source": [
    "#####   {#section-1 .subsubsection}\n",
    "\n"
   ]
  },
  {
   "cell_type": "markdown",
   "metadata": {},
   "source": [
    "### [Loading FITS images {#sec58 .subsubsection}\n",
    "\n",
    " For FITS format images, such as those to be used as calibration models,\n",
    "use the **importfits** task. Most, though not all, types of FITS images\n",
    "written by astronomical software packages can be read in. See \\\"Image\n",
    "Analysis](https://casa.nrao.edu/casadocs-devel/stable/imaging/image-analysis)\\\"\n",
    "for more information.\n",
    "\n",
    " \n",
    "\n"
   ]
  },
  {
   "cell_type": "markdown",
   "metadata": {},
   "source": [
    "### [Concatenation of multiple MS {#sec59 .subsubsection}\n",
    "\n",
    " Once you have loaded data into MeasurementSets on disk, you can use the\n",
    "tasks **concat** or **virtualconcat** to combine them.\n",
    "\n",
    " \n",
    "\n"
   ]
  },
  {
   "cell_type": "markdown",
   "metadata": {},
   "source": [
    "### Data Examination, Editing, and Flagging\n",
    "\n",
    " The main data examination and flagging tasks are:\n",
    "\n",
    "-   **listobs** --- summarize the contents of a MS \n",
    "-   **flagmanager** --- save and manage versions of the flagging entries\n",
    "    in the MeasurementSet\n",
    "-   **plotms** --- interactive X-Y plotting and flagging of visibility\n",
    "    data \n",
    "-   **flagdata** --- flagging (and unflagging) of specified data\n",
    "-   **viewer** --- the CASA viewer can display (as a raster image) MS\n",
    "    data, with some editing capabilities\n",
    "\n",
    "These tasks allow you to list, plot, and/or flag data in a CASA MS.\n",
    "\n",
    "Descriptions can be found in \\\"Data Examination and\n",
    "Editing](https://casa.nrao.edu/casadocs-devel/stable/calibration-and-visibility-data/data-examination-and-editing)\\\".\n",
    "\n"
   ]
  },
  {
   "cell_type": "markdown",
   "metadata": {},
   "source": [
    "#####   {#section-2 .subsubsection}\n",
    "\n"
   ]
  },
  {
   "cell_type": "markdown",
   "metadata": {},
   "source": [
    "### [Interactive X-Y Plotting and Flagging {#sec61 .subsubsection}\n",
    "\n",
    " \n",
    "\n",
    "The principal tool for making X-Y plots of visibility data is **plotms**\n",
    "(see \\\"Data Examination and\n",
    "Editing](https://casa.nrao.edu/casadocs-devel/stable/calibration-and-visibility-data/data-examination-and-editing)\\\").\n",
    "Amplitudes and phases (among other things) can be plotted against\n",
    "several x-axis options.\n",
    "\n",
    "Interactive flagging (i.e., \"see it -- flag it\") is possible on the\n",
    "**plotms** X-Y displays of the data. Since flags are inserted into the\n",
    "MeasurementSet, it is useful to backup (or make a copy) of the current\n",
    "flags before further flagging is done, using **flagmanager**. Copies of\n",
    "the flag table can also be restored to the MS in this way.\n",
    "\n",
    "**plotms** can also be invoked without starting CASA. Launch it with \n",
    "\n",
    "```\n",
    "[casaplotms &\n",
    "```\n",
    "\n",
    "from any terminal. \n",
    "\n"
   ]
  },
  {
   "cell_type": "markdown",
   "metadata": {},
   "source": [
    "#####   {#section-3 .subsubsection}\n",
    "\n"
   ]
  },
  {
   "cell_type": "markdown",
   "metadata": {},
   "source": [
    "### Flag the Data Non-interactively {#sec62 .subsubsection}\n",
    "\n",
    "The **flagdata** task (\\\"Data Examination and\n",
    "Editing](https://casa.nrao.edu/casadocs-devel/stable/calibration-and-visibility-data/data-examination-and-editing)\\\")\n",
    "will flag the visibility data set based on the specified data\n",
    "selections. The **listobs** task may be run (e.g. with *verbose=True*)\n",
    "to provide some of the information needed to specify the flagging scope.\n",
    "**flagdata** also contains autoflagging routines.\n",
    "\n"
   ]
  },
  {
   "cell_type": "markdown",
   "metadata": {},
   "source": [
    "#####   {#section-4 .subsubsection}\n",
    "\n"
   ]
  },
  {
   "cell_type": "markdown",
   "metadata": {},
   "source": [
    "### [Viewing and Flagging the MS {#sec63 .subsubsection}\n",
    "\n",
    "The CASA **viewer** can be used to display the data in the MS as a\n",
    "(grayscale or color) raster image. The specific part of the viewer can\n",
    "also be launched with **msview.** The MS can also be edited (\\\"Data\n",
    "Examination and\n",
    "Editing](https://casa.nrao.edu/casadocs-devel/stable/calibration-and-visibility-data/data-examination-and-editing)\\\"). \n",
    "\n"
   ]
  },
  {
   "cell_type": "markdown",
   "metadata": {},
   "source": [
    "####   {#section-5 .subsection}\n",
    "\n"
   ]
  },
  {
   "cell_type": "markdown",
   "metadata": {},
   "source": [
    "### [Calibration {#sec64 .subsection}\n",
    "\n",
    " The major calibration tasks are:\n",
    "\n",
    "-   **setjy** --- Computes the model visibilities for a specified source\n",
    "    given a flux density or model image, knows about standard calibrator\n",
    "    sources \n",
    "-   **initweights** --- if necessary, supports (re-)initialization of\n",
    "    the data weights, including an option for enabling spectral weight\n",
    "    accounting\n",
    "-   **gencal** --- Creates a calibration table for known delay and\n",
    "    antenna position offsets, opacities, and requantizer gains\n",
    "-   **bandpass** --- Solves for frequency-dependent (bandpass) complex\n",
    "    gains\n",
    "-   **gaincal** --- Solves for time-dependent (frequency-independent)\n",
    "    complex gains\n",
    "-   **fluxscale** --- Bootstraps the flux density scale from standard\n",
    "    calibrators\n",
    "-   **polcal** --- polarization calibration\n",
    "-   **applycal** --- Applies calculated calibration solutions\n",
    "-   **clearcal** --- Re-initializes calibrated visibility data in a\n",
    "    given MeasurementSet\n",
    "-   **listcal** --- Lists calibration solutions\n",
    "-   **plotcal** --- Plots (and optionally flags) calibration solutions\n",
    "-   **uvcontsub** --- carry out uv-plane continuum subtraction for\n",
    "    spectral-line data\n",
    "-   **split** --- write out a new (calibrated) MS for specified sources\n",
    "-   **cvel** --- Regrid a spectral MS onto a new frequency channel\n",
    "    system \n",
    "\n",
    "During the course of calibration, the user will specify a set of\n",
    "calibrations to pre-apply before solving for a particular type of\n",
    "effect, for example gain or bandpass or polarization. The solutions are\n",
    "stored in a calibration *table (*subdirectory) which is specified by the\n",
    "user, not by the task: care must be taken in naming the table for future\n",
    "use. The user then has the option, as the calibration process proceeds,\n",
    "to accumulate the current state of calibration in a new cumulative\n",
    "table. Finally, the calibration can be applied to the dataset.\n",
    "\n",
    "See \\\"Synthesis\n",
    "Calibration](https://casa.nrao.edu/casadocs-devel/stable/calibration-and-visibility-data/synthesis-calibration)\\\"\n",
    "for more information.\n",
    "\n",
    " \n",
    "\n"
   ]
  },
  {
   "cell_type": "markdown",
   "metadata": {},
   "source": [
    "#### [Prior Calibration\n",
    "\n",
    "The **setjy** task calculates absolute fluxes for MeasurementSet base on\n",
    "known calibrator sources. This can then be used in later calibration\n",
    "tasks. Currently, **setjy** knows the flux density as a function of\n",
    "frequency for several standard VLA flux calibrators and solar system\n",
    "objects, and the value of the flux density can be manually inserted for\n",
    "any other source. If the source is not well-modeled as a point source,\n",
    "then a model image of that source structure can be used (with the total\n",
    "flux density scaled by the values given or calculated above for the flux\n",
    "density). Models are provided for the standard VLA calibrators and\n",
    "calculated for solar system objects.\n",
    "\n",
    "Antenna gain-elevation curves (e.g. for the VLA antennas), gain curves,\n",
    "requantizer gains, and atmospheric optical depth corrections (applied as\n",
    "an elevation-dependent function) may be pre-applied before solving for\n",
    "the **bandpass** and gains. The task **gencal** will generate those to\n",
    "be applied for further calibration.\n",
    "\n",
    "See \\\"Synthesis\n",
    "Calibration](https://casa.nrao.edu/casadocs-devel/stable/calibration-and-visibility-data/synthesis-calibration)\\\"\n",
    "for more information.\n",
    "\n"
   ]
  },
  {
   "cell_type": "markdown",
   "metadata": {},
   "source": [
    "####   {#section-6 .subsubsection}\n",
    "\n"
   ]
  },
  {
   "cell_type": "markdown",
   "metadata": {},
   "source": [
    "#### [Delay Calibration {#sec66 .subsubsection}\n",
    "\n",
    "A delay for each antenna can be calculated using **gaincal** with option\n",
    "\\\"K\\\". The delay calibration will remove delay errors that cause\n",
    "systematic slopes in the phases as a function opf time. In particular\n",
    "phase wraps will be removed. \n",
    "\n",
    " \n",
    "\n"
   ]
  },
  {
   "cell_type": "markdown",
   "metadata": {},
   "source": [
    "#### Bandpass Calibration {#sec66 .subsubsection}\n",
    "\n",
    "The **bandpass** task calculates a bandpass calibration solution: that\n",
    "is, it solves for gain variations in frequency as well as in time. Since\n",
    "the bandpass (relative gain as a function of frequency) generally varies\n",
    "much more slowly than the changes in overall (mean) gain solved for by\n",
    "gaincal, one generally uses a long time scale when solving for the\n",
    "bandpass. The default *'B'* solution mode solves for the gains in\n",
    "frequency slots consisting of channels or averages of channels.\n",
    "\n",
    "A polynomial fit for the solution (solution type '*BPOLY')* may be\n",
    "carried out instead of the default frequency-slot based *'B'* solutions.\n",
    "This single solution will span (combine) multiple spectral windows.\n",
    "\n",
    "Bandpass calibration is discussed in detail in \\\"Synthesis\n",
    "Calibration](https://casa.nrao.edu/casadocs-devel/stable/calibration-and-visibility-data/synthesis-calibration)\\\".\n",
    "\n",
    "If the gains of the system are changing over the time that the bandpass\n",
    "calibrator is observed, then you may need to do an initial gain\n",
    "calibration (see next step).\n",
    "\n",
    " \n",
    "\n"
   ]
  },
  {
   "cell_type": "markdown",
   "metadata": {},
   "source": [
    "#### [Gain Calibration {#sec67 .subsubsection}\n",
    "\n",
    "The **gaincal** task determines solutions for the time-based complex\n",
    "antenna gains, for each spectral window, from the specified calibration\n",
    "sources. A solution interval may be specified. The default *'G'*\n",
    "solution mode solves for antenna-based gains in each polarization in\n",
    "specified time solution intervals. The *'T'* solution mode is the same\n",
    "as *'G'* except that it solves for a single solution shared by both\n",
    "polarizations.\n",
    "\n",
    "A spline fit for the solution (solution type *'GSPLINE'*) may be carried\n",
    "out instead of the default time-slot based *'G'* solutions.\n",
    "\n",
    "Gain calibration is discussed in detail in \\\"Synthesis\n",
    "Calibration](https://casa.nrao.edu/casadocs-devel/stable/calibration-and-visibility-data/synthesis-calibration)\\\".\n",
    "\n",
    " \n",
    "\n"
   ]
  },
  {
   "cell_type": "markdown",
   "metadata": {},
   "source": [
    "#### [Polarization Calibration {#sec68 .subsubsection}\n",
    "\n",
    "The **polcal** task will solve for any unknown polarization leakage and\n",
    "cross-hand phase terms (*'D'* and *'X'* solutions). The *'D'* leakage\n",
    "solutions will work on sources with no polarization and sources with\n",
    "known (and supplied, e.g., using smodel) polarization. For sources with\n",
    "unknown polarization tracked through a range in parallactic angle on the\n",
    "sky, using poltype *'D+QU'*, which will first estimate the calibrator\n",
    "polarization for you.\n",
    "\n",
    "The solution for the unknown cross-hand polarization phase difference\n",
    "*'X'* term requires a polarized source with known linear polarization\n",
    "(Q,U).\n",
    "\n",
    "Frequency-dependent (i.e., per channel) versions of all of these modes\n",
    "are also supported (poltypes *'Df', 'Df+QU'*, and *'Xf'*.\n",
    "\n",
    " \n",
    "\n"
   ]
  },
  {
   "cell_type": "markdown",
   "metadata": {},
   "source": [
    "#### Examining Calibration Solutions {#sec69 .subsubsection}\n",
    "\n",
    "The **plotcal** task and **plotms** will plot the solutions in a\n",
    "calibration table. The *xaxis* choices include time (for gaincal\n",
    "solutions) and channel (e.g. for bandpass calibration). \n",
    "\n",
    "The **listcal** task will print out the calibration solutions in a\n",
    "specified table.\n",
    "\n",
    " \n",
    "\n"
   ]
  },
  {
   "cell_type": "markdown",
   "metadata": {},
   "source": [
    "##### Bootstrapping Flux Calibration {#sec70 .subsubsection}\n",
    "\n",
    "The **fluxscale** task bootstraps the flux density scale from \"primary\"\n",
    "standard calibrators to the \"secondary\" calibration sources. Note that\n",
    "the flux density scale must have been previously established on the\n",
    "\"primary\" calibrator(s) using **setjy**, and of course a calibration\n",
    "table containing valid solutions for all calibrators must be available.\n",
    "\n",
    " \n",
    "\n"
   ]
  },
  {
   "cell_type": "markdown",
   "metadata": {},
   "source": [
    "#### Correcting the Data {#sec71 .subsubsection}\n",
    "\n",
    "The final step in the calibration process, **applycal** may be used to\n",
    "apply several calibration tables (e.g., from **gaincal** or\n",
    "**bandpass**, along with prior calibration tables). The corrections are\n",
    "applied to the *DATA* column of the visibility, writing the\n",
    "*CORRECTED_DATA* column which can then be plotted in **plotms**,\n",
    "**split** out as the *DATA* column of a new MS, or imaged (e.g. using\n",
    "**clean**). Any existing corrected data are overwritten.\n",
    "\n",
    " \n",
    "\n"
   ]
  },
  {
   "cell_type": "markdown",
   "metadata": {},
   "source": [
    "#### Splitting the Data {#sec72 .subsubsection}\n",
    "\n",
    "After a suitable calibration is achieved, it may be desirable to create\n",
    "one or more new MeasurementSets containing the data for selected\n",
    "sources. This can be done using the **split** task (see \\\"UV\n",
    "Manipulation](https://casa.nrao.edu/casadocs-devel/stable/calibration-and-visibility-data/uv-manipulation)\\\").\n",
    "\n",
    "Further imaging and calibration (e.g. self-calibration) can be carried\n",
    "out on these split MeasurementSets.\n",
    "\n"
   ]
  },
  {
   "cell_type": "markdown",
   "metadata": {},
   "source": [
    "#####   {#section-7 .subsubsection}\n",
    "\n"
   ]
  },
  {
   "cell_type": "markdown",
   "metadata": {},
   "source": [
    "#### [UV Continuum subtraction {#sec73 .subsubsection}\n",
    "\n",
    "For spectral line data, continuum subtraction can be performed in the\n",
    "image domain (**imcontsub**) or in the uv domain. For the latter,\n",
    "**uvcontsub** subtracts polynomial of desired order from each baseline,\n",
    "defined by line-free channels.\n",
    "\n"
   ]
  },
  {
   "cell_type": "markdown",
   "metadata": {},
   "source": [
    "#####   {#section-8 .subsubsection}\n",
    "\n"
   ]
  },
  {
   "cell_type": "markdown",
   "metadata": {},
   "source": [
    "#### Transforming the Data to a new frame {#sec74 .subsubsection}\n",
    "\n",
    "If you want to transform your dataset to a different frequency and\n",
    "velocity frame than the one it was observed in, then you can use the\n",
    "**cvel** task (\\\"UV\n",
    "Manipulation](https://casa.nrao.edu/casadocs-devel/stable/calibration-and-visibility-data/uv-manipulation)\\\").\n",
    "Alternatively, you can do the regridding during the imaging process in\n",
    "**clean** without running **cvel** before.\n",
    "\n",
    " \n",
    "\n"
   ]
  },
  {
   "cell_type": "markdown",
   "metadata": {},
   "source": [
    "### [Synthesis Imaging {#sec75 .subsection}\n",
    "\n",
    " \n",
    "\n",
    "The key synthesis imaging tasks are:\n",
    "\n",
    "-   **clean** (and **tclean**)--- Calculates a deconvolved image based\n",
    "    on the visibility data, using one of several clean algorithms\n",
    "-   **feather** --- Combines a single dish and synthesis image in the\n",
    "    Fourier plane\n",
    "\n",
    "Most of these tasks are used to take calibrated interferometer data,\n",
    "with the possible addition of a single-dish image, and reconstruct a\n",
    "model image of the sky.\n",
    "\n",
    "See Chapter \\\"Synthesis\n",
    "Imaging](https://casa.nrao.edu/casadocs-devel/stable/calibration-and-visibility-data/synthesis-calibration)\\\"\n",
    "and \\\"[Image\n",
    "Combination](https://casa.nrao.edu/casadocs-devel/stable/imaging/image-combination)\\\"\n",
    "for more information.\n",
    "\n",
    " \n",
    "\n"
   ]
  },
  {
   "cell_type": "markdown",
   "metadata": {},
   "source": [
    "#### [Cleaning a single-field image or a mosaic\n",
    "\n",
    " The CLEAN algorithm is the most popular and widely-studied method for\n",
    "reconstructing a model image based on interferometer data. It\n",
    "iteratively removes at each step a fraction of the flux in the brightest\n",
    "pixel in a defined region of the current \"dirty\" image, and places this\n",
    "in the model image. The clean task implements the CLEAN algorithm for\n",
    "single-field data. The user can choose from a number of options for the\n",
    "particular flavor of CLEAN to use.\n",
    "\n",
    "Often, the first step in imaging is to make a simple gridded Fourier\n",
    "inversion of the calibrated data to make a \"dirty\" image. This can then\n",
    "be examined to look for the presence of noticeable emission above the\n",
    "noise, and to assess the quality of the calibration by searching for\n",
    "artifacts in the image. This is done using **clean** with *niter=0*.\n",
    "\n",
    "The **clean** task can jointly deconvolve mosaics as well as single\n",
    "fields, and also has options to do wide-field and wide-band\n",
    "multi-frequency synthesis imaging.\n",
    "\n",
    "See \\\"Synthesis\n",
    "Imaging](https://casa.nrao.edu/casadocs-devel/stable/calibration-and-visibility-data/synthesis-calibration)\\\"\n",
    "for an in-depth discussion of the **clean** task.\n",
    "\n",
    " \n",
    "\n"
   ]
  },
  {
   "cell_type": "markdown",
   "metadata": {},
   "source": [
    "#### [Feathering in a Single-Dish image\n",
    "\n",
    " If you have a single-dish image of the large-scale emission in the\n",
    "field, this can be \"feathered\" in to the image obtained from the\n",
    "interferometer data. This is carried out using the **feather** task as\n",
    "the weighted sum in the uv-plane of the gridded transforms of these two\n",
    "images. While not as accurate as a true joint reconstruction of an image\n",
    "from the synthesis and single-dish data together, it is sufficient for\n",
    "most purposes. A graphical version of **feather** is provided by\n",
    "**casafeather**. \n",
    "\n",
    "See \\\"Image\n",
    "Combination](https://casa.nrao.edu/casadocs-devel/stable/imaging/image-combination)\\\"\n",
    "for an in-depth discussion of the **feather** task.\n",
    "\n",
    " \n",
    "\n",
    " \n",
    "\n"
   ]
  },
  {
   "cell_type": "markdown",
   "metadata": {},
   "source": [
    "### [Self Calibration {#sec78 .subsection}\n",
    "\n",
    "Once a calibrated dataset is obtained, and a first deconvolved model\n",
    "image is computed, a \"self-calibration\" loop can be performed.\n",
    "Effectively, the model (not restored) image is passed back to another\n",
    "calibration process (on the target data). This refines the calibration\n",
    "of the target source, which up to this point has had (usually) only\n",
    "external calibration applied. This process follows the regular\n",
    "calibration procedure outlined above.\n",
    "\n",
    "Any number of self-calibration loops can be performed. As long as the\n",
    "images are improving, it is usually prudent to continue the\n",
    "self-calibration iterations.\n",
    "\n",
    "This process is described in \\\"Synthesis\n",
    "Calibration](https://casa.nrao.edu/casadocs-devel/stable/calibration-and-visibility-data/synthesis-calibration)\\\".\n",
    "\n",
    " \n",
    "\n"
   ]
  },
  {
   "cell_type": "markdown",
   "metadata": {},
   "source": [
    "### [Data and Image Analysis {#sec79 .subsection}\n",
    "\n",
    "The key data and image analysis tasks are:\n",
    "\n",
    "-   **imhead** --- summarize and manipulate the \"header\" information in\n",
    "    a CASA image\n",
    "-   **imcontsub** --- perform continuum subtraction on a spectral-line\n",
    "    image cube \n",
    "-   **immath** --- perform mathematical operations on or between images \n",
    "-   **immoments** --- compute the moments of an image cube \n",
    "-   **imstat** --- calculate statistics on an image or part of an image \n",
    "-   **imval** --- extract values of one or more pixels, as a spectrum\n",
    "    for cubes, from an image \n",
    "-   **imfit** --- simple 2D Gaussian fitting of single components to a\n",
    "    region of an image \n",
    "-   **imregrid** --- regrid an image onto the coordinate system of\n",
    "    another image \n",
    "-   **viewer** --- there are useful region statistics and image cube\n",
    "    plotting capabilities in the viewer\n",
    "\n"
   ]
  },
  {
   "cell_type": "markdown",
   "metadata": {},
   "source": [
    "#####   {#section-9 .subsubsection}\n",
    "\n"
   ]
  },
  {
   "cell_type": "markdown",
   "metadata": {},
   "source": [
    "#### What's in an image? {#sec80 .subsubsection}\n",
    "\n",
    "The **imhead** task will print out a summary of image \"header\" keywords\n",
    "and values. This task can also be used to retrieve and change the header\n",
    "values.\n",
    "\n",
    "See \\\"Image\n",
    "Analysis](https://casa.nrao.edu/casadocs-devel/stable/imaging/image-analysis)\\\" for\n",
    "more.\n",
    "\n",
    " \n",
    "\n"
   ]
  },
  {
   "cell_type": "markdown",
   "metadata": {},
   "source": [
    "#### [Image statistics {#sec81 .subsubsection}\n",
    "\n",
    "The **imstat** task will print image statistics. There are options to\n",
    "restrict this to a box region, and to specified channels and Stokes of\n",
    "the cube. This task will return the statistics in a Python dictionary\n",
    "return variable.\n",
    "\n",
    " \n",
    "\n"
   ]
  },
  {
   "cell_type": "markdown",
   "metadata": {},
   "source": [
    "#### Image values {#sec82 .subsubsection}\n",
    "\n",
    "The **imval** task will return values from an image. There are options\n",
    "to restrict this to a box region, and to return specified channels and\n",
    "Stokes of the cube as a spectrum. This task will return these values in\n",
    "a Python dictionary return variable which can then be operated on in the\n",
    "CASA environment.\n",
    "\n",
    " \n",
    "\n"
   ]
  },
  {
   "cell_type": "markdown",
   "metadata": {},
   "source": [
    "#### Moments of an image cube {#sec83 .subsubsection}\n",
    "\n",
    "The **immoments** task will compute a \"moments\" image of an input image\n",
    "cube. A number of options are available, from the traditional true\n",
    "moments (zero, first, second) and variations thereof, to other images\n",
    "such as median, minimum, or maximum along the moment axis.\n",
    "\n",
    " \n",
    "\n"
   ]
  },
  {
   "cell_type": "markdown",
   "metadata": {},
   "source": [
    "#### Image math {#sec84 .subsubsection}\n",
    "\n",
    "The **immath** task will allow you to form a new image by mathematical\n",
    "combinations of other images (or parts of images). This is a powerful\n",
    "task to use.\n",
    "\n",
    " \n",
    "\n"
   ]
  },
  {
   "cell_type": "markdown",
   "metadata": {},
   "source": [
    "#### Regridding an Image {#sec85 .subsubsection}\n",
    "\n",
    "It is occasionally necessary to regrid an image onto a new coordinate\n",
    "system. The **imregrid** task can be used to regrid an input image onto\n",
    "the coordinate system of an existing template image, creating a new\n",
    "output image.\n",
    "\n",
    " \n",
    "\n"
   ]
  },
  {
   "cell_type": "markdown",
   "metadata": {},
   "source": [
    "### Displaying Images {#sec86 .subsubsection}\n",
    "\n",
    "To display an image use the **viewer** task. The **viewer** will display\n",
    "images in raster, contour, or vector form. Blinking and movies are\n",
    "available for spectral-line image cubes. To start the viewer, type:\n",
    "\n",
    "```\n",
    "viewer\n",
    "```\n",
    "\n",
    "within CASA or \n",
    "\n",
    "```\n",
    "casaviewer &\n",
    "```\n",
    "\n",
    "Executing the **viewer** task will bring up two windows: a viewer screen\n",
    "showing the data or image, and a file catalog list. Click on an image or\n",
    "MS from the file catalog list, choose the proper display, and the image\n",
    "should pop up on the screen. Clicking on the wrench tool (second from\n",
    "left on upper left) will obtain the data display options. Most functions\n",
    "are self-documenting.\n",
    "\n",
    " \n",
    "\n",
    "See \\\"Image / Cube\n",
    "Visualization](https://casa.nrao.edu/casadocs-devel/stable/imaging/image-cube-visualization)\\\"\n",
    "for more details. \n",
    "\n",
    " \n",
    "\n"
   ]
  },
  {
   "cell_type": "markdown",
   "metadata": {},
   "source": [
    "### [Getting data and images out of CASA {#sec87 .subsection}\n",
    "\n",
    "The key data and image export tasks are:\n",
    "\n",
    "-   **exportuvfits** --- export a CASA MS in UVFITS format\n",
    "-   **exportfits** --- export a CASA image table as FITS\n",
    "\n",
    "These tasks can be used to export a CASA MS or image to UVFITS or FITS\n",
    "respectively. See the individual sections referred to above for more on\n",
    "each."
   ]
  }
 ],
 "metadata": {},
 "nbformat": 4,
 "nbformat_minor": 4
}
