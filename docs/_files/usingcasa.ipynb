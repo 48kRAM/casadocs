{
 "cells": [
  {
   "cell_type": "markdown",
   "metadata": {},
   "source": [
    "# Using CASA\n",
    "\n",
    "Description of how CASA interacts with the python environment."
   ]
  },
  {
   "cell_type": "markdown",
   "metadata": {
    "nbsphinx-toctree": {
     "hidden": true
    }
   },
   "source": [
    "[Obtaining and Installing](usingcasa/obtaining-and-installing)\n",
    "[Configuration](usingcasa/configuration)\n",
    "[Running User Scripts](usingcasa/running-user-scripts)\n",
    "[Logging](usingcasa/casa-logger)\n",
    "[Information Collection](usingcasa/telemetry)\n",
    "[Hardware Requirements](usingcasa/hardware-requirements)\n",
    "[Amazon Web Services](usingcasa/casa-on-amazon-web-services)\n",
    "[Citation](usingcasa/casareference)\n"
   ]
  }
 ],
 "metadata": {},
 "nbformat": 4,
 "nbformat_minor": 5
}
