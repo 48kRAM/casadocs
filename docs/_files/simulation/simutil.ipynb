{
 "cells": [
  {
   "cell_type": "markdown",
   "metadata": {},
   "source": [
    "# simutil {#simutil .documentFirstHeading}\n",
    "\n",
    "\n",
    "\n",
    "\n",
    "\n",
    "A utility class to facilitate simulation\n",
    "\n",
    "\n",
    "\n",
    "\n",
    "\n",
    "\n",
    "\n",
    "\n"
   ]
  },
  {
   "cell_type": "markdown",
   "metadata": {},
   "source": [
    "## Summary\n",
    "\n",
    "**simutil** contains numerous utility methods which can assist users in\n",
    "generic ephemeris and geodesy calculations to aid in performing\n",
    "simulations and other activities in CASA, as well as some methods used\n",
    "internally by **simobserve** and **simanalyze**. Several of these tasks\n",
    "directly call the **simulator** tool in an attempt to lessen the amount\n",
    "of scripting required and to make it easier for the user. It is used by\n",
    "import and instantiation, similarly to testhelper and recipes:\n",
    "\n",
    "```\n",
    "from simutil import simutil\n",
    "\n",
    "u=simutil()\n",
    "```\n",
    "\n",
    "```\n",
    "help u.readantenna\n",
    "```\n",
    "\n",
    "Antenna configuration files are important for several tasks in\n",
    "**simutil** and other simulator tools. Below is an example of a properly\n",
    "formatted configuration file.\n",
    "\n",
    "    #observatory=ALMA\n",
    "    #COFA=-67.75,-23.02\n",
    "    #coordsys=LOC (local tangent plane)\n",
    "    # uid___A002_Xdb6217_X55ec_target.ms\n",
    "    # x             y               z             diam  station  ant \n",
    "    -5.850273514   -125.9985379    -1.590364043   12.   A058     DA41\n",
    "    -19.90369337    52.82680653    -1.892119601   12.   A023     DA42\n",
    "    13.45860758    -5.790196849    -2.087805181   12.   A035     DA43\n",
    "    5.606192499     7.646657746    -2.087775605   12.   A001     DA44\n",
    "    24.10057423    -25.95933768    -2.08466565    12.   A036     DA45\n",
    "\n",
    "The observatory, COFA (center of array), coordsys (coordinate system),\n",
    "x, y, z, diam (diameter) and name will be interpreted as header keys or\n",
    "value pairs if they contain \\\"=\\\" and begin with \\#, and as comments\n",
    "otherwise. Other possible header keys are: zone, datum, or hemisphere.\n",
    "If no sixth column is provided, antenna\n",
    "names will default to station names. If no fifth column is provided,\n",
    "station names will default to A0x where x is the zero-indexed row\n",
    "number. To find the observatory name, one\n",
    "can check the known observatories list by using the **measures** tool\n",
    "command **me.obslist**. If an unknown observatory is specified, then one\n",
    "either must use absolute positions (coordsys, XYZ \\Cartesian\n",
    "coordinates\\], UTM \\[Universal Transverse Mercator\\]), or specify COFA\n",
    "(longitude and latitude). coordsys can be XYZ (Earth-centered), UTM\n",
    "(easting, northing, and altitude), or LOC (xoffset, yoffset, and\n",
    "height). Files for many observatories can be found in the directory\n",
    "returned by the following command:\n",
    "\n",
    "```\n",
    "casa.values()\\[0\\]\\[\\'data\\'\\]+\\\"/alma/simmos\\\"\n",
    "```\n",
    "\n"
   ]
  },
  {
   "cell_type": "markdown",
   "metadata": {},
   "source": [
    "### **[Tsys and Noise**\n",
    "\n"
   ]
  },
  {
   "cell_type": "markdown",
   "metadata": {},
   "source": [
    "#### simutil.noisetemp  \n",
    "\n",
    "Noise temperature and efficiencies can be calculated for several\n",
    "telescopes: ALMA, ACA, EVLA, VLA, and SMA. The inputs for\n",
    "**simutil.noisetemp **method include: *telescope*, e.g., \\\"ALMA\\\",\n",
    "*freq* (observing frequency) as a quantity string, e.g., \\\"300GHz\\\",\n",
    "*diam* (optional - knows diameters for arrays above), e.g., \\\"12m\\\",\n",
    "*epsilon* = RMS surface accuracy in microns (also optional - this method\n",
    "contains the engineering specification values for each telescope). The\n",
    "outputs produced ]{.MathJax_Preview style=\"color: inherit;\"}$\\eta_p$\n",
    "phase efficiency (from Ruze formula), []{.MathJax_Preview\n",
    "style=\"color: inherit;\"}$\\eta_s$ spill (main beam) efficiency**,**\n",
    "[]{.MathJax_Preview style=\"color: inherit;\"}$\\eta_b$ geometrical\n",
    "blockage efficiency, []{.MathJax_Preview\n",
    "style=\"color: inherit;\"}$\\eta_t$ taper efficiency, []{.MathJax_Preview\n",
    "style=\"color: inherit;\"}$\\eta_q$ correlator efficiency including\n",
    "quantization, []{.MathJax_Preview style=\"color: inherit;\"}$t_{rx}$\n",
    "receiver temperature. Where the total antenna efficiency can be\n",
    "calculated from these outputs as such: []{.MathJax_Preview\n",
    "style=\"color: inherit;\"}$\\epsilon = \\eta_p * \\eta_s * \\eta_b * \\eta_t$.\n",
    "\n",
    "<div class=\"alert alert-info\">\n",
    "**NOTE:** VLA correlator efficiency includes waveguide loss. EVLA\n",
    "correlator efficiency is probably optimistic at 0.88.\n",
    "</div>\n",
    "\n"
   ]
  },
  {
   "cell_type": "markdown",
   "metadata": {},
   "source": [
    "#### simutil.sensitivity  \n",
    "\n",
    "This method is used to calculate the noise in an observation by adding\n",
    "noise to visibilities in exactly the same way as **sm.corrupt** (if\n",
    "*doimnoise=True*) and also creates a simulated image from which to\n",
    "measure noise. The inputs to calculate sensitivity are: *freq*,\n",
    "*bandwidth* = channel width, e.g., \\\"1GHz\\\", *etime* = exposure time /\n",
    "length of track, e.g., \\\"500sec\\\", *integration* = scan time, e.g.,\n",
    "\\\"10sec\\\", *elevation*, e.g., \\\"80deg\\\"; either an *antennalist* (a\n",
    "simobserve-format antenna configuration filename) must be given or the\n",
    "parameters *telescope*, *diam*, and *nant* (number of antennas) must be\n",
    "set. Other optional inputs include: *pwv* in mm, *doimnoise* uses the\n",
    "**simulator** task **sm.corrupt** to create an MS and image it to\n",
    "measure the noise, *integration* or integration time (units required)\n",
    "e.g., \\\"10s\\\", *debug*, *method* which is equivalent to the *mode*\n",
    "parameter in the **simulator** task **sm.setnoise** (options:\n",
    "\\\"tsys-atm\\\" (default) or \\\"tsys-manual\\\"), *tau0* or the zenith\n",
    "atmospheric opacity (must be set if *method=\\\"tsys-manual\\\"*), and\n",
    "*t_sky* (default=200 (K) when *method=\\\"tsys-manual\\\"*).\n",
    "\n",
    " \n",
    "\n"
   ]
  },
  {
   "cell_type": "markdown",
   "metadata": {},
   "source": [
    "### [**Geodesy and Antenna Positions**\n",
    "\n",
    "<div class=\"alert alert-info\">\n",
    "**NOTE**: For more information on geodesy and pointing and other helper\n",
    "functions that are useful and available, click\n",
    "here](https://www.ngs.noaa.gov/TOOLS/program_descriptions.html).\n",
    "</div>\n",
    "\n",
    "The ITRF frame mentioned in several of the following tasks is not the\n",
    "official ITRF (International Terrestrial Reference Frame), just a\n",
    "right-handed Cartesian system with X going through 0 latitude and 0\n",
    "longitude, and Z going through the north pole.\n",
    "\n"
   ]
  },
  {
   "cell_type": "markdown",
   "metadata": {},
   "source": [
    "#### **simutil.readantenna     **\n",
    "\n",
    "**simutil.readantenna** is a helper function to read antenna\n",
    "configuration files, using the *antab* parameter as an input. Outputs\n",
    "will be: earth-centered x,y,z, diameter, name, observatory_name,\n",
    "observatory_measure_dictionary.\n",
    "\n",
    "<div class=\"alert alert-info\">\n",
    "**NOTE**: The observatory_measure_dictionary output was added between\n",
    "CASA 4.7 and 5.0.\n",
    "</div>\n",
    "\n"
   ]
  },
  {
   "cell_type": "markdown",
   "metadata": {},
   "source": [
    "#### **simutil.baselineLengths**\n",
    "\n",
    "When given an antenna *configfile*, this method will return the zenith\n",
    "baseline lengths.\n",
    "\n"
   ]
  },
  {
   "cell_type": "markdown",
   "metadata": {},
   "source": [
    "#### **simutil.approxBeam**\n",
    "\n",
    "When given an antenna *configfile* and *freq* (in GHz)*,* this method\n",
    "will return the approximate beam size at zenith from the 90th percentile\n",
    "baseline length.\n",
    "\n"
   ]
  },
  {
   "cell_type": "markdown",
   "metadata": {},
   "source": [
    "#### **simutil.long2xyz  **\n",
    "\n",
    "This method returns the nominal ITRF (X, Y, Z) coordinates \\[m\\] for a\n",
    "point at geodetic latitude (parameter *lat*) and longitude (parameter\n",
    "*lon*) \\[radians\\] and *elevation* \\[m\\]. \n",
    "\n"
   ]
  },
  {
   "cell_type": "markdown",
   "metadata": {},
   "source": [
    "#### simutil.xyz2long         \n",
    "\n",
    "When given ITRF Earth-centered (X, Y, Z, using the parameters *x*, *y*,\n",
    "and *z*) coordinates \\[m\\] for a point, this method returns geodetic\n",
    "latitude and longitude \\[radians\\] and elevation \\[m\\]. Elevation is\n",
    "measured relative to the closest point to the (latitude, longitude) on\n",
    "the WGS84 (World Geodetic System 1984) reference ellipsoid.\n",
    "\n"
   ]
  },
  {
   "cell_type": "markdown",
   "metadata": {},
   "source": [
    "#### **simutil.locxyz2itrf            **\n",
    "\n",
    "This method returns the nominal ITRF (X, Y, Z) coordinates \\[m\\] for a\n",
    "point at \\\"local\\\" (x, y, z, using the parameters *locx*, *locy*, and\n",
    "*locz*) \\[m\\] measured at geodetic latitude (*lat*) and longitude\n",
    "(*longitude*) \\[degrees\\] and altitude (*alt*) of the reference point.\n",
    "The \\\"local\\\" (x, y, z) are measured relative to the closest point on\n",
    "the WGS84 reference ellipsoid, with z normal to the ellipsoid and y\n",
    "pointing north.\n",
    "\n"
   ]
  },
  {
   "cell_type": "markdown",
   "metadata": {},
   "source": [
    "#### **simtuil.itrf2loc            **\n",
    "\n",
    "Given Earth-centered ITRF (X, Y, Z, using the parameters *x*, *y*, and\n",
    "*z*) coordinates \\[m\\] and the Earth-centered coords of the center of\n",
    "array (using the parameters *cx*, *cy*, and *cz*), this method returns\n",
    "local (x, y, z) \\[m\\] relative to the center of the array, oriented with\n",
    "x and y tangent to the closest point at the COFA (latitude, longitude)\n",
    "on the WGS84 reference ellipsoid, with z normal to the ellipsoid and y\n",
    "pointing north.\n",
    "\n"
   ]
  },
  {
   "cell_type": "markdown",
   "metadata": {},
   "source": [
    "#### **simutil.itrf2locname   **        \n",
    "\n",
    "Given Earth-centered ITRF (X, Y, Z) coordinates \\[m\\] and the name of an\n",
    "known array using the *obsname* parameter (see **me.obslist**), the\n",
    "method **simutil.itrf2locname** returns local (x, y, z) \\[m\\] relative\n",
    "to the center of the array, oriented with x and y tangent to the closest\n",
    "point at the COFA (latitude, longitude) on the WGS84 reference\n",
    "ellipsoid, with z normal to the ellipsoid and y pointing north.\n",
    "\n"
   ]
  },
  {
   "cell_type": "markdown",
   "metadata": {},
   "source": [
    "#### **simutil.utm2xyz  **        \n",
    "\n",
    "This method returns the nominal ITRF (X, Y, Z) coordinates \\[m\\] for a\n",
    "point at UTM *easting*, *northing*, *elevation* \\[m\\], and *zone* of a\n",
    "given *datum* (e.g., \\'WGS84\\') and north/south flag *nors* (\\\"N\\\" or\n",
    "\\\"S\\\", denotes northern or southern hemisphere). The ITRF frame used is\n",
    "not the official ITRF, just a right-handed Cartesian system with X going\n",
    "through 0 latitude and 0 longitude, and Z going through the north pole.\n",
    " \n",
    "\n"
   ]
  },
  {
   "cell_type": "markdown",
   "metadata": {},
   "source": [
    "#### **simutil.utm2long         **\n",
    "\n",
    "The method **simutil.utm2long** converts UTM coordinates to GPS\n",
    "longitude and latitude (in radians). This task has the following\n",
    "parameters: *east*, *north*, *zone*, *datum*, and *nors*.\n",
    "\n",
    " \n",
    "\n"
   ]
  },
  {
   "cell_type": "markdown",
   "metadata": {},
   "source": [
    "### **[Pointing and Directions**\n",
    "\n"
   ]
  },
  {
   "cell_type": "markdown",
   "metadata": {},
   "source": [
    "#### **simutil.calc_pointings2**\n",
    "\n",
    " This method is used to calculate mosaic pointings to cover a region.\n",
    "This returns a hexagonally packed list of pointings determined by the\n",
    "*size* (either \\[size\\[0\\],size\\[1\\]\\] or \\[size,size\\] if a single\n",
    "value is given) parameter separated by parameter *spacing* and fitting\n",
    "inside an area specified by *direction* and *maptype*. If multiple\n",
    "pointings can not be fit to the given parameters, a single pointing will\n",
    "be returned. If\n",
    "direction is a list, the task simply returns the direction and the\n",
    "number of pointings in it.\n",
    "The 3 options for\n",
    "*maptype* are: \\\"HEX\\\"agonal (default), \\\"SQU\\\"are, and \\\"ALM\\\"A\n",
    "(triangular tiling). The hexagonal packing starts with a horizontal row\n",
    "centered on *direction*, and the other rows alternate being horizontally\n",
    "offset by a half spacing. For hexagonal or square maptypes, the\n",
    "*relmargin* (default=0.5) parameter affects the number of pointings\n",
    "returned in the mosaic pattern. For triangular maptypes, the *beam*\n",
    "parameter is used to determine the number of pointings returned in the\n",
    "mosaic pattern, although this parameter is optional.\\\n",
    "\n",
    "\n"
   ]
  },
  {
   "cell_type": "markdown",
   "metadata": {},
   "source": [
    "#### **simutil.read_pointings**\n",
    "\n",
    "This method will read a pointing list from a file using the parameter\n",
    "*filename*. The input file (ASCII) should contain at least 3 fields\n",
    "separated by a space which specify positions with epoch, RA and Dec (in\n",
    "degrees/minutes/seconds or hours/minutes/seconds). The optional field\n",
    "and time columns should be a list of decimal numbers which specifies\n",
    "integration time at each position (in units of seconds). The lines which\n",
    "start with \\'\\#\\' are ignored and can be used as comment lines. Example\n",
    "of a file:\n",
    "\n",
    "    #Epoch     RA          DEC      TIME(optional)\n",
    "     J2000 23h59m28.10 -019d52m12.35 10.0\n",
    "     J2000 23h59m32.35 -019d52m12.35 10.0\n",
    "     J2000 23h59m36.61 -019d52m12.35 60.0\n",
    "\n"
   ]
  },
  {
   "cell_type": "markdown",
   "metadata": {},
   "source": [
    "#### **simutil.write_pointings**\n",
    "\n",
    "This method will write a list of *pointings* out to a file (example\n",
    "above), given by the parameter *filename*. The optional parameter *time*\n",
    "can be an array of integration\n",
    "times.\n",
    "\n"
   ]
  },
  {
   "cell_type": "markdown",
   "metadata": {},
   "source": [
    "#### simutil.average_direction\n",
    "\n",
    "This method will return the average of *directions* (default=None) as a\n",
    "string, and relative offsets.\n",
    "\n"
   ]
  },
  {
   "cell_type": "markdown",
   "metadata": {},
   "source": [
    "#### simutil.median_direction\n",
    "\n",
    "This method will return the median of *directions* (default=None) as a\n",
    "string, and relative offsets.\n",
    "\n"
   ]
  },
  {
   "cell_type": "markdown",
   "metadata": {},
   "source": [
    "#### simutil.ephemeris\n",
    "\n",
    "This method calculates the elevation of a source on a given *date*, in a\n",
    "given *direction*, seen from a given *telescope*. The *date* should be\n",
    "given in the format YEAR/MO/DY/TI:ME. The time given is referenced with\n",
    "the International Atomic Time, or TAI (from the French name name temps\n",
    "atomique international). Other optional parameters include:\n",
    "*usehourangle* (boolean parameter which sets or unsets the reference\n",
    "time at transit, essentially centering the plot), *ms* (uses the\n",
    "information from the OBSERVATION table in the given MeasurementSet and\n",
    "plots the entire range of the observation), and *cofa* (allows the user\n",
    "to change the center of the array position). The *cofa* parameter must\n",
    "be set if using an unknown observatory. A list of known observatories\n",
    "can be found by using the **measures** tool command **me.obslist**.\n",
    "\n",
    " \n",
    "\n"
   ]
  },
  {
   "cell_type": "markdown",
   "metadata": {},
   "source": [
    "### **Utility**\n",
    "\n"
   ]
  },
  {
   "cell_type": "markdown",
   "metadata": {},
   "source": [
    "#### **simutil.statim **\n",
    "\n",
    "This method will plot an *image* and calculate its statistics. Optional\n",
    "parameters: *plot* (default True), *incell*, *disprange* (low and high\n",
    "values for\n",
    "pl.imshow), *bar*\n",
    "(show colorbar, default=True), *showstats* (show stats on the image,\n",
    "default=True).\n",
    "\n"
   ]
  },
  {
   "cell_type": "markdown",
   "metadata": {},
   "source": [
    "#### **simutil.plotants**\n",
    "\n",
    "An alternate antenna configuration plotting routine that takes arrays of\n",
    "*x,y*=local offset from the array center, *z*=altitude, *d*=diameter,\n",
    "and *name*. This method routine either plots points or, if the array is\n",
    "compact enough to see the diameters, plots to the actual scaled size of\n",
    "the dishes.**\\\n",
    "**\n",
    "\n"
   ]
  },
  {
   "cell_type": "markdown",
   "metadata": {},
   "source": [
    "#### **simutil.modifymodel**\n",
    "\n",
    "**simutil.modifymodel** is a method that converts a model image into a\n",
    "4D-coordinate image that can be used in CASA, with axes in space,\n",
    "stokes, spectral order, which the Toolkit requires (e.g., **sm.predict**\n",
    "in the **simulator** tool). The input parameters *inimage* and\n",
    "*outimage* allow the user to specify the names of the input and output.\n",
    "Values that are absent in the input, or that the user wishes to\n",
    "override, can be input as quantity strings with the in\\* parameters\n",
    "(*inbright*, *indirection*, *incell*, *incenter*, *inwidth*, *innchan*).\n",
    "e.g., *inbright*=\\\"4Jy/pixel\\\" will scale *outimage* to have 4Jy/pixel\n",
    "peak, *incell*=\\\"0.2arcsec\\\" will set the cell size in *outimage* to\n",
    "0.2arcsec. The *flatimage* parameter allows one to also generate a flat\n",
    "(2D, integrated intensity) image from *inimage*, which can be useful for\n",
    "display purposes.\n",
    "\n"
   ]
  },
  {
   "cell_type": "markdown",
   "metadata": {},
   "source": [
    "#### **simutil.convimage**\n",
    "\n",
    "Given a (2D) model (*modelflat*) image, this method will regrid it to\n",
    "the scale of the *outflat* image, and convolve it to the beam of the\n",
    "*outflat* image. This is useful to compare a skymodel with a simulated\n",
    "output image. The optional parameter *complist* allows the user to\n",
    "import a componentlist to add unresolved components to the *outflat*\n",
    "image. Information on creating a component list can be found in the CASA\n",
    "guides\n",
    "here](https://casaguides.nrao.edu/index.php/Simulation_Guide_Component_Lists_(CASA_5.1)).\n",
    "\n"
   ]
  },
  {
   "cell_type": "markdown",
   "metadata": {},
   "source": [
    "#### **simutil.imtclean**\n",
    "\n",
    "[This wrapper function is the method by which the standard CASA imaging\n",
    "task **tclean** is called for simulated image reconstruction inside the\n",
    "task **simanalyze**. It replaces the\n",
    "deprecated method **simutil.imtclean**. If *dryrun*=True, this method\n",
    "only creates a template \\'\\[imagename.config\\].tclean.last\\' file for\n",
    "users to reference in their custom calls to **tclean**. The *cell*\n",
    "parameter expects a list of **qa.quantity** objects.\n",
    "Selecting individual fields for imaging is\n",
    "not supported."
   ]
  }
 ],
 "metadata": {},
 "nbformat": 4,
 "nbformat_minor": 4
}
