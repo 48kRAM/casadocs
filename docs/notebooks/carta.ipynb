{
  "nbformat": 4,
  "nbformat_minor": 0,
  "metadata": {
    "colab": {
      "name": "carta.ipynb",
      "provenance": [],
      "collapsed_sections": [
        "oFCLrZ7mkunY"
      ],
      "toc_visible": true
    }
  },
  "cells": [
    {
      "cell_type": "markdown",
      "metadata": {
        "id": "EYl8BQ_ykuoB"
      },
      "source": [
        "# CARTA \n",
        "\n",
        "CARTA is the *Cube Analysis and Rendering Tool for Astronomy*, a new image visualization and analysis tool designed for the [ALMA](https://www.almaobservatory.org/en/home/), the [VLA](https://science.nrao.edu/facilities/vla), and the [SKA pathfinders](https://www.skatelescope.org/). As the image size increases drastically with modern telescopes in recent years, viewing an image with a local image viewer or with a remote image viewer via the ssh protocol becomes less efficient. The mission of CARTA is to provide usability and scalability for the future by utilizing modern web technologies and computing parallelization.\n",
        "\n",
        "**Download and Installation** (see https://cartavis.github.io/)\n",
        "\n",
        "CARTA is a separate application and not directly integrated with CASA.  Refer to the official [CARTA website](https://cartavis.github.io/) for download and installation instructions as well as a proper set of documentation.\n",
        "\n",
        "<div class=\"alert alert-info\">\n",
        "**Note:** CARTA does not yet offer an exact replacement for every feature in the old CASA Viewer. Many things are complete, and CARTA offers a good deal of enhanced functionality over the Viewer, but a small subset of things may still be missing. The old CASA Viewer documentation sections are included here as well for reference in situations where CARTA is not yet sufficient.\n",
        "</div>\n",
        "\n",
        "\n",
        "*Some advantages over the old CASA Viewer:*\n",
        "\n",
        "-   Much better performance, able to handle very large image cubes\n",
        "-   Modern web browser based interface allowing local and remote display options.\n",
        "-   Can display Stokes wedges.\n",
        "-   Proper display of image headers\n",
        "-   Flexibility to modify and save the layout\n",
        "-   Supports new HDF5 image format (in addition to CASA Image, MIRIAD, and FITS)\n",
        "\n",
        "\n",
        "Subsequent releases of CARTA will continue to enhance CARTA's performance. For a full overview of the current and upcoming features, see the official [CARTA website](https://cartavis.github.io/).\n",
        "\n",
        "\n",
        "![cartadisplaylight](https://github.com/casangi/casadocs/blob/master/docs/notebooks/media/carta_display_light.png?raw=1)\n",
        "\n",
        "> CARTA is developed by the Academia Sinica Institute of Astronomy and Astrophysics ([ASIAA](https://www.asiaa.sinica.edu.tw/)), the Inter-University Institute for Data Intensive Astronomy ([IDIA](https://www.idia.ac.za/)), the National Radio Astronomy Observatory ([NRAO](https://science.nrao.edu/)), and the Department of Physics, [University of Alberta.](https://www.ualberta.ca/physics/index.html)\n",
        "\n",
        "\n",
        "\n"
      ]
    }
  ]
}